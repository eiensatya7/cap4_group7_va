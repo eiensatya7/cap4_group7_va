{
 "cells": [
  {
   "cell_type": "markdown",
   "metadata": {},
   "source": [
    "### Blur Detection"
   ]
  },
  {
   "cell_type": "code",
   "execution_count": null,
   "metadata": {},
   "outputs": [],
   "source": [
    "\n",
    "\n",
    "import cv2\n",
    "import sys\n",
    "def variance_of_laplacian(image):\n",
    "    return cv2.Laplacian(image, cv2.CV_64F).var()\n",
    "## Function return as value the average variance of the edges in an image. The higher the number, the sharper the edge is.\n",
    "thvalue = 100\n",
    "imagePath = \"xxframe0.jpg\"\n",
    "image = cv2.imread(imagePath)\n",
    "# Convert to grey scale\n",
    "gray = cv2.cvtColor(image, cv2.COLOR_BGR2GRAY)\n",
    "fm = variance_of_laplacian(gray)\n",
    "text = \"Not Blurry\"\n",
    "if fm < thvalue:\n",
    "    text = \"Blurry\"\t\n",
    "    write to blurimage folder\n",
    "else\n",
    "\n",
    "## https://pysource.com/2018/02/28/edge-detection-opencv-3-4-with-python-3-tutorial-18/"
   ]
  },
  {
   "cell_type": "markdown",
   "metadata": {},
   "source": [
    "#### Image Deduplicator (imagededup)\n",
    "\n",
    "\n",
    "This package provides functionality to make use of hashing algorithms that are particularly good at finding exact duplicates as well as convolutional neural networks which are also adept at finding near duplicates. An evaluation framework is also provided to judge the quality of deduplication for a given dataset.\n",
    "\n",
    "Following details the functionality provided by the package:\n",
    "\n",
    "Finding duplicates in a directory using one of the following algorithms:\n",
    "Convolutional Neural Network (CNN)\n",
    "Perceptual hashing (PHash)\n",
    "Difference hashing (DHash)\n",
    "Wavelet hashing (WHash)\n",
    "Average hashing (AHash)"
   ]
  },
  {
   "cell_type": "markdown",
   "metadata": {},
   "source": [
    "### Other Reference \n",
    "###### https://github.com/magamig/duplicate-images-finder\n",
    "\n",
    "###### https://www.kaggle.com/appian/panda-imagehash-to-detect-duplicate-images\n",
    "\n",
    "###### https://kandi.openweaver.com/python/markusressel/py-image-dedup#Summary\n",
    "\n",
    "###### https://docs.lightly.ai/docker/examples/datasets_in_the_wild.html  - Using ffmpeg (command line)\n"
   ]
  }
 ],
 "metadata": {
  "kernelspec": {
   "display_name": "Python 3",
   "language": "python",
   "name": "python3"
  },
  "language_info": {
   "codemirror_mode": {
    "name": "ipython",
    "version": 3
   },
   "file_extension": ".py",
   "mimetype": "text/x-python",
   "name": "python",
   "nbconvert_exporter": "python",
   "pygments_lexer": "ipython3",
   "version": "3.8.8"
  }
 },
 "nbformat": 4,
 "nbformat_minor": 4
}
