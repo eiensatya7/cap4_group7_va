{
 "cells": [
  {
   "cell_type": "code",
   "execution_count": 1,
   "id": "17d6494c",
   "metadata": {},
   "outputs": [],
   "source": [
    "import cv2\n",
    "import sys\n",
    "def variance_of_laplacian(image):\n",
    "    return cv2.Laplacian(image, cv2.CV_64F).var()"
   ]
  },
  {
   "cell_type": "code",
   "execution_count": 2,
   "id": "c2d33ec3",
   "metadata": {},
   "outputs": [],
   "source": [
    "import glob\n",
    "def blurimagedetection():\n",
    "    paths=glob.glob(\"C:/1-GG/CAP4/EventDetection/Dataset/VDO1/VDOFrames/*.jpg\")\n",
    "    print(len(paths))\n",
    "\n",
    "    thvalue = 300\n",
    "    #imagePath = \"C:\\1-GG\\CAP4\\EventDetection\\Dataset\\VDO1\\VDOFrames\"\n",
    "    for image in paths:\n",
    "        image = cv2.imread(image)\n",
    "        print(image)\n",
    "    # Convert to grey scale\n",
    "    gray = cv2.cvtColor(image, cv2.COLOR_BGR2GRAY)\n",
    "    fm = variance_of_laplacian(gray)\n",
    "    text = \"Not Blurry\"\n",
    "    if fm < thvalue:\n",
    "        text = \"Blurry\"\t\n",
    "        print('Blurry')\n",
    "   # write to blurimage folder\n",
    "    if fm > thvalue:\n",
    "        text = \"Not Blurry\"\t\n",
    "        print('Not Blurry')"
   ]
  },
  {
   "cell_type": "code",
   "execution_count": 3,
   "id": "8f5407e3",
   "metadata": {},
   "outputs": [],
   "source": [
    "# Let's check image pairs with similarity larget than threshold.\n",
    "# You can lower threshold to find more duplicates (and more false positives).\n",
    "\n",
    "import matplotlib.pyplot as plt\n",
    "import torch\n",
    "def duplicateImage():\n",
    "    hashes=duplicateHashing()\n",
    "    hashes = torch.Tensor(np.array(hashes).astype(int)).cuda()\n",
    "    # calc similarity scores\n",
    "    sims = np.array([(hashes[i] == hashes).sum(dim=1).cpu().numpy()/256 for i in range(hashes.shape[0])])\n",
    "    threshold = 0.96\n",
    "    duplicates = np.where(sims > threshold)\n",
    "    pairs = {}\n",
    "    for i,j in zip(*duplicates):\n",
    "        if i == j:\n",
    "            continue\n",
    "            path1 = paths[i]\n",
    "            path2 = paths[j]\n",
    "            print(path1)\n",
    "            print(path2)\n",
    "            image1 = cv2.imread(path1)\n",
    "            image2 = cv2.imread(path2)\n",
    "            if image1.shape[0] > image1.shape[1] / 2:\n",
    "                fig,ax = plt.subplots(figsize=(20,20), ncols=2)\n",
    "            elif image1.shape[1] > image1.shape[0] / 2:\n",
    "                    fig,ax = plt.subplots(figsize=(20,20), nrows=2)\n",
    "            else:\n",
    "                        fig,ax = plt.subplots(figsize=(20,30), nrows=2)\n",
    "                        ax[0].imshow(image1)\n",
    "                        ax[1].imshow(image2)\n",
    "                        plt.show()"
   ]
  },
  {
   "cell_type": "code",
   "execution_count": 4,
   "id": "fc250c58",
   "metadata": {},
   "outputs": [],
   "source": [
    "import cv2\n",
    "#pip install imagehash\n",
    "import imagehash\n",
    "from tqdm import tqdm_notebook as tqdm\n",
    "from PIL import Image\n",
    "\n",
    "import glob\n",
    "def duplicateHashing():\n",
    "    paths=glob.glob(\"C:/1-GG/CAP4/EventDetection/1-ExampleSetting/VDOFrames/*.jpg\")\n",
    "    funcs = [\n",
    "    imagehash.average_hash,\n",
    "    imagehash.phash,\n",
    "    imagehash.dhash,\n",
    "    imagehash.whash,\n",
    "    #lambda x: imagehash.whash(x, mode='db4'),\n",
    "    ]\n",
    "    hashes = []\n",
    "    for path in tqdm(paths, total=len(paths)):\n",
    "        image = cv2.imread(path)\n",
    "        image = Image.fromarray(image)\n",
    "        hashes.append(np.array([f(image).hash for f in funcs]).reshape(256))\n",
    "    return hashes    "
   ]
  },
  {
   "cell_type": "code",
   "execution_count": null,
   "id": "37c1f819",
   "metadata": {},
   "outputs": [],
   "source": []
  }
 ],
 "metadata": {
  "kernelspec": {
   "display_name": "Python 3",
   "language": "python",
   "name": "python3"
  },
  "language_info": {
   "codemirror_mode": {
    "name": "ipython",
    "version": 3
   },
   "file_extension": ".py",
   "mimetype": "text/x-python",
   "name": "python",
   "nbconvert_exporter": "python",
   "pygments_lexer": "ipython3",
   "version": "3.8.8"
  }
 },
 "nbformat": 4,
 "nbformat_minor": 5
}
