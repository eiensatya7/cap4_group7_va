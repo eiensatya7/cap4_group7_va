{
 "cells": [
  {
   "cell_type": "code",
   "execution_count": 1,
   "metadata": {},
   "outputs": [
    {
     "name": "stderr",
     "output_type": "stream",
     "text": [
      "C:\\Users\\jaghos\\AppData\\Local\\Continuum\\anaconda3\\lib\\site-packages\\numpy\\_distributor_init.py:32: UserWarning: loaded more than 1 DLL from .libs:\n",
      "C:\\Users\\jaghos\\AppData\\Local\\Continuum\\anaconda3\\lib\\site-packages\\numpy\\.libs\\libopenblas.GK7GX5KEQ4F6UYO3P26ULGBQYHGQO7J4.gfortran-win_amd64.dll\n",
      "C:\\Users\\jaghos\\AppData\\Local\\Continuum\\anaconda3\\lib\\site-packages\\numpy\\.libs\\libopenblas.IPBC74C7KURV7CB2PKT5Z5FNR3SIBV4J.gfortran-win_amd64.dll\n",
      "  stacklevel=1)\n"
     ]
    }
   ],
   "source": [
    "import os\n",
    "import cv2\n",
    "import math\n",
    "#import pafy\n",
    "import random\n",
    "import numpy as np\n",
    "import pandas as pd\n",
    "import datetime as dt\n",
    "import tensorflow as tf\n",
    "from moviepy.editor import *\n",
    "from collections import deque\n",
    "import matplotlib.pyplot as plt\n",
    "%matplotlib inline\n",
    "\n",
    "from sklearn.model_selection import train_test_split\n",
    "\n",
    "from tensorflow.keras.layers import *\n",
    "from tensorflow.keras.models import Sequential\n",
    "from tensorflow.keras.utils import to_categorical\n",
    "from tensorflow.keras.callbacks import EarlyStopping\n",
    "from tensorflow.keras.utils import plot_model"
   ]
  },
  {
   "cell_type": "code",
   "execution_count": 2,
   "metadata": {},
   "outputs": [
    {
     "name": "stdout",
     "output_type": "stream",
     "text": [
      "2.2.0\n"
     ]
    }
   ],
   "source": [
    "print(tf.__version__)"
   ]
  },
  {
   "cell_type": "markdown",
   "metadata": {},
   "source": [
    "### Set Numpy, Python and Tensorflow seeds to get consistent results."
   ]
  },
  {
   "cell_type": "code",
   "execution_count": 3,
   "metadata": {},
   "outputs": [
    {
     "data": {
      "text/plain": [
       "<Figure size 2160x2160 with 0 Axes>"
      ]
     },
     "execution_count": 3,
     "metadata": {},
     "output_type": "execute_result"
    },
    {
     "data": {
      "text/plain": [
       "<Figure size 2160x2160 with 0 Axes>"
      ]
     },
     "metadata": {},
     "output_type": "display_data"
    }
   ],
   "source": [
    "seed_constant = 23\n",
    "np.random.seed(seed_constant)\n",
    "random.seed(seed_constant)\n",
    "tf.random.set_seed(seed_constant)\n",
    "\n",
    "# Create a Matplotlib figure\n",
    "plt.figure(figsize = (30, 30))"
   ]
  },
  {
   "cell_type": "code",
   "execution_count": null,
   "metadata": {},
   "outputs": [],
   "source": []
  },
  {
   "cell_type": "code",
   "execution_count": null,
   "metadata": {},
   "outputs": [],
   "source": []
  },
  {
   "cell_type": "code",
   "execution_count": 28,
   "metadata": {},
   "outputs": [],
   "source": [
    "Drive = \"C:\"\n",
    "datafolder =  Drive+\"/1-GG/CAP4/EventDetection/Dataset/VDO\"\n"
   ]
  },
  {
   "cell_type": "code",
   "execution_count": 29,
   "metadata": {},
   "outputs": [
    {
     "data": {
      "text/plain": [
       "'C:/1-GG/CAP4/EventDetection/Dataset/VDO'"
      ]
     },
     "execution_count": 29,
     "metadata": {},
     "output_type": "execute_result"
    }
   ],
   "source": [
    "datafolder"
   ]
  },
  {
   "cell_type": "markdown",
   "metadata": {},
   "source": [
    "### Example"
   ]
  },
  {
   "cell_type": "code",
   "execution_count": 30,
   "metadata": {},
   "outputs": [],
   "source": [
    "### Find sub-folders under datafolder where train vdo are stored"
   ]
  },
  {
   "cell_type": "code",
   "execution_count": 31,
   "metadata": {},
   "outputs": [],
   "source": [
    "def listdirs(folder):\n",
    "    return [d for d in os.listdir(folder) if os.path.isdir(os.path.join(folder, d))]"
   ]
  },
  {
   "cell_type": "code",
   "execution_count": 32,
   "metadata": {},
   "outputs": [
    {
     "name": "stdout",
     "output_type": "stream",
     "text": [
      "['Basketball', 'SoccerPenalty']\n"
     ]
    }
   ],
   "source": [
    "folderList = listdirs(datafolder)\n",
    "print(folderList)"
   ]
  },
  {
   "cell_type": "code",
   "execution_count": 33,
   "metadata": {},
   "outputs": [],
   "source": [
    "## Fltering out required folders(class) from folderList (Basketball ,CricketBowling ,SoccerPenalty  )"
   ]
  },
  {
   "cell_type": "code",
   "execution_count": 34,
   "metadata": {},
   "outputs": [
    {
     "name": "stdout",
     "output_type": "stream",
     "text": [
      "['Basketball', 'SoccerPenalty']\n"
     ]
    }
   ],
   "source": [
    "# checks for each index i whether the corresponding filter Boolean value is True\n",
    "#filter_lst = [False ,True, True,False]\n",
    "filter_lst = [True, True]\n",
    "classes_list = [folderList[i] for i in range(len(folderList)) if filter_lst[i]]\n",
    "print(classes_list)"
   ]
  },
  {
   "cell_type": "code",
   "execution_count": 35,
   "metadata": {},
   "outputs": [],
   "source": [
    "### Testing class , number of vdo files under each class , full path name"
   ]
  },
  {
   "cell_type": "code",
   "execution_count": 36,
   "metadata": {},
   "outputs": [
    {
     "name": "stdout",
     "output_type": "stream",
     "text": [
      "Basketball\n",
      "C:/1-GG/CAP4/EventDetection/Dataset/VDO\\Basketball\n",
      "50\n",
      "SoccerPenalty\n",
      "C:/1-GG/CAP4/EventDetection/Dataset/VDO\\SoccerPenalty\n",
      "53\n"
     ]
    }
   ],
   "source": [
    "for child in os.listdir(datafolder):\n",
    "    if child in classes_list:   # Only consider that matches with \"all_classes_names\"\n",
    "        pass\n",
    "    else:\n",
    "        continue\n",
    "\n",
    "    print(child) # Name of the vdo folder\n",
    "    \n",
    "    baseimagefolders = os.path.join(datafolder, child)\n",
    "    print(baseimagefolders)       # File with complete path \n",
    "    print(len(baseimagefolders))  # Number of files under each folders"
   ]
  },
  {
   "cell_type": "markdown",
   "metadata": {},
   "source": [
    "#### C:\\1-GG\\CAP4\\EventDetection\\Dataset\\VDO\\SoccerPenalty"
   ]
  },
  {
   "cell_type": "markdown",
   "metadata": {},
   "source": [
    "## End of example"
   ]
  },
  {
   "cell_type": "code",
   "execution_count": 37,
   "metadata": {},
   "outputs": [
    {
     "name": "stdout",
     "output_type": "stream",
     "text": [
      "2\n"
     ]
    }
   ],
   "source": [
    "image_height, image_width = 64, 64\n",
    "max_images_per_class = 5000\n",
    "model_output_size = len(classes_list)\n",
    "print(model_output_size)"
   ]
  },
  {
   "cell_type": "markdown",
   "metadata": {},
   "source": [
    "### Extract, Resize and Normalize Frames"
   ]
  },
  {
   "cell_type": "code",
   "execution_count": 38,
   "metadata": {},
   "outputs": [],
   "source": [
    "def frames_extraction(video_path):\n",
    "    # Empty List declared to store video frames\n",
    "    frames_list = []\n",
    "    \n",
    "    # Reading the Video File Using the VideoCapture\n",
    "    video_reader = cv2.VideoCapture(video_path)\n",
    "\n",
    "    # Iterating through Video Frames\n",
    "    while True:\n",
    "\n",
    "        # Reading a frame from the video file \n",
    "        success, frame = video_reader.read() \n",
    "\n",
    "        # If Video frame was not successfully read then break the loop\n",
    "        if not success:\n",
    "            break\n",
    "\n",
    "        # Resize the Frame to fixed Dimensions\n",
    "        resized_frame = cv2.resize(frame, (image_height, image_width))\n",
    "        \n",
    "        # Normalize the resized frame by dividing it with 255 so that each pixel value then lies between 0 and 1\n",
    "        normalized_frame = resized_frame / 255\n",
    "        \n",
    "        # Appending the normalized frame into the frames list\n",
    "        frames_list.append(normalized_frame)\n",
    "    \n",
    "    # Closing the VideoCapture object and releasing all resources. \n",
    "    video_reader.release()\n",
    "\n",
    "    # returning the frames list \n",
    "    return frames_list"
   ]
  },
  {
   "cell_type": "markdown",
   "metadata": {},
   "source": [
    "## Explanation - two loops of function (create_dataset()) below\n",
    "\n",
    "#### Basketball - class_name\n",
    "### C:\\1-GG\\CAP4\\EventDetection\\Dataset\\VDO\\Basketball -  files_list\n",
    "file_name = v_Basketball_g01_c01\n",
    "### C:\\1-GG\\CAP4\\EventDetection\\Dataset\\VDO\\Basketball/ v_Basketball_g01_c01 - video_file_path\n",
    "\n",
    "\n",
    "### C:\\1-GG\\CAP4\\EventDetection\\Dataset\\VDO\\Basketball/v_Basketball_g01_c02 - video_file_path"
   ]
  },
  {
   "cell_type": "markdown",
   "metadata": {},
   "source": [
    "### Dataset Creation"
   ]
  },
  {
   "cell_type": "code",
   "execution_count": 39,
   "metadata": {},
   "outputs": [],
   "source": [
    "def create_dataset():\n",
    "\n",
    "    # Declaring Empty Lists to store the features and labels values.\n",
    "    temp_features = [] \n",
    "    features = []\n",
    "    labels = []\n",
    "    \n",
    "    # Iterating through all the classes mentioned in the classes list\n",
    "    for class_index, class_name in enumerate(classes_list):\n",
    "        print(f'Extracting Data of Class: {class_name}')\n",
    "        \n",
    "        # Getting the list of video files present in the specific class name directory\n",
    "        files_list = os.listdir(os.path.join(datafolder, class_name))\n",
    "\n",
    "        # Iterating through all the files present in the files list\n",
    "        for file_name in files_list:\n",
    "\n",
    "            # Construct the complete video path\n",
    "            video_file_path = os.path.join(datafolder, class_name, file_name)\n",
    "\n",
    "            # Calling the frame_extraction method for every video file path\n",
    "            frames = frames_extraction(video_file_path)\n",
    "\n",
    "            # Appending the frames to a temporary list.\n",
    "            temp_features.extend(frames)\n",
    "        \n",
    "        # Adding randomly selected frames to the features list\n",
    "        features.extend(random.sample(temp_features, max_images_per_class))\n",
    "\n",
    "        # Adding Fixed number of labels to the labels list\n",
    "        labels.extend([class_index] * max_images_per_class)\n",
    "        \n",
    "        # Emptying the temp_features list so it can be reused to store all frames of the next class.\n",
    "        temp_features.clear()\n",
    "\n",
    "    # Converting the features and labels lists to numpy arrays\n",
    "    features = np.asarray(features)\n",
    "    labels = np.array(labels)  \n",
    "\n",
    "    return features, labels"
   ]
  },
  {
   "cell_type": "code",
   "execution_count": null,
   "metadata": {},
   "outputs": [],
   "source": []
  },
  {
   "cell_type": "markdown",
   "metadata": {},
   "source": [
    "### Calling the create_dataset method which returns features and labels."
   ]
  },
  {
   "cell_type": "code",
   "execution_count": 40,
   "metadata": {},
   "outputs": [
    {
     "name": "stdout",
     "output_type": "stream",
     "text": [
      "Extracting Data of Class: Basketball\n",
      "Extracting Data of Class: SoccerPenalty\n",
      "Completed Extracting\n"
     ]
    }
   ],
   "source": [
    "features, labels = create_dataset()\n",
    "print(\"Completed Extracting\")\n"
   ]
  },
  {
   "cell_type": "markdown",
   "metadata": {},
   "source": []
  },
  {
   "cell_type": "code",
   "execution_count": 41,
   "metadata": {},
   "outputs": [],
   "source": [
    "# Using Keras's to_categorical method to convert labels into one-hot-encoded vectors\n",
    "one_hot_encoded_labels = to_categorical(labels)"
   ]
  },
  {
   "cell_type": "markdown",
   "metadata": {},
   "source": [
    "### Split data set"
   ]
  },
  {
   "cell_type": "code",
   "execution_count": 42,
   "metadata": {},
   "outputs": [],
   "source": [
    "features_train, features_test, labels_train, labels_test =\\\n",
    "    train_test_split(features, one_hot_encoded_labels, test_size = 0.2, shuffle = True, random_state = 28)"
   ]
  },
  {
   "cell_type": "code",
   "execution_count": 43,
   "metadata": {},
   "outputs": [
    {
     "data": {
      "text/plain": [
       "array([[[[0.87843137, 0.88235294, 0.81176471],\n",
       "         [0.87843137, 0.88235294, 0.81176471],\n",
       "         [0.9254902 , 0.92941176, 0.85882353],\n",
       "         ...,\n",
       "         [0.79215686, 0.85882353, 0.78823529],\n",
       "         [0.7372549 , 0.80392157, 0.73333333],\n",
       "         [0.7372549 , 0.80392157, 0.73333333]],\n",
       "\n",
       "        [[0.87843137, 0.88235294, 0.81176471],\n",
       "         [0.87843137, 0.88235294, 0.81176471],\n",
       "         [0.9254902 , 0.92941176, 0.85882353],\n",
       "         ...,\n",
       "         [0.79215686, 0.85882353, 0.78823529],\n",
       "         [0.7372549 , 0.80392157, 0.73333333],\n",
       "         [0.7372549 , 0.80392157, 0.73333333]],\n",
       "\n",
       "        [[0.89803922, 0.90196078, 0.83137255],\n",
       "         [0.89803922, 0.90196078, 0.83137255],\n",
       "         [0.91372549, 0.91764706, 0.84705882],\n",
       "         ...,\n",
       "         [0.82352941, 0.89019608, 0.81960784],\n",
       "         [0.77254902, 0.83921569, 0.76862745],\n",
       "         [0.77254902, 0.83921569, 0.76862745]],\n",
       "\n",
       "        ...,\n",
       "\n",
       "        [[0.27843137, 0.38823529, 0.40784314],\n",
       "         [0.27843137, 0.38823529, 0.40784314],\n",
       "         [0.31764706, 0.42745098, 0.44705882],\n",
       "         ...,\n",
       "         [0.08627451, 0.22352941, 0.18431373],\n",
       "         [0.06666667, 0.20392157, 0.16470588],\n",
       "         [0.06666667, 0.20392157, 0.16470588]],\n",
       "\n",
       "        [[0.2627451 , 0.37254902, 0.39215686],\n",
       "         [0.2627451 , 0.37254902, 0.39215686],\n",
       "         [0.27843137, 0.38823529, 0.40784314],\n",
       "         ...,\n",
       "         [0.05882353, 0.19607843, 0.15686275],\n",
       "         [0.0745098 , 0.21176471, 0.17254902],\n",
       "         [0.0745098 , 0.21176471, 0.17254902]],\n",
       "\n",
       "        [[0.2627451 , 0.37254902, 0.39215686],\n",
       "         [0.2627451 , 0.37254902, 0.39215686],\n",
       "         [0.27843137, 0.38823529, 0.40784314],\n",
       "         ...,\n",
       "         [0.05882353, 0.19607843, 0.15686275],\n",
       "         [0.0745098 , 0.21176471, 0.17254902],\n",
       "         [0.0745098 , 0.21176471, 0.17254902]]],\n",
       "\n",
       "\n",
       "       [[[0.        , 0.        , 0.        ],\n",
       "         [0.        , 0.        , 0.        ],\n",
       "         [0.        , 0.        , 0.        ],\n",
       "         ...,\n",
       "         [0.        , 0.        , 0.        ],\n",
       "         [0.        , 0.        , 0.        ],\n",
       "         [0.        , 0.        , 0.        ]],\n",
       "\n",
       "        [[0.        , 0.        , 0.        ],\n",
       "         [0.        , 0.        , 0.        ],\n",
       "         [0.        , 0.        , 0.        ],\n",
       "         ...,\n",
       "         [0.        , 0.        , 0.        ],\n",
       "         [0.        , 0.        , 0.        ],\n",
       "         [0.        , 0.        , 0.        ]],\n",
       "\n",
       "        [[0.        , 0.        , 0.        ],\n",
       "         [0.        , 0.        , 0.        ],\n",
       "         [0.        , 0.        , 0.        ],\n",
       "         ...,\n",
       "         [0.        , 0.        , 0.        ],\n",
       "         [0.        , 0.        , 0.        ],\n",
       "         [0.        , 0.        , 0.        ]],\n",
       "\n",
       "        ...,\n",
       "\n",
       "        [[0.        , 0.        , 0.        ],\n",
       "         [0.        , 0.        , 0.        ],\n",
       "         [0.        , 0.        , 0.        ],\n",
       "         ...,\n",
       "         [0.        , 0.        , 0.        ],\n",
       "         [0.        , 0.        , 0.        ],\n",
       "         [0.        , 0.        , 0.        ]],\n",
       "\n",
       "        [[0.        , 0.        , 0.        ],\n",
       "         [0.        , 0.        , 0.        ],\n",
       "         [0.        , 0.        , 0.        ],\n",
       "         ...,\n",
       "         [0.        , 0.        , 0.        ],\n",
       "         [0.        , 0.        , 0.        ],\n",
       "         [0.        , 0.        , 0.        ]],\n",
       "\n",
       "        [[0.        , 0.        , 0.        ],\n",
       "         [0.        , 0.        , 0.        ],\n",
       "         [0.        , 0.        , 0.        ],\n",
       "         ...,\n",
       "         [0.        , 0.        , 0.        ],\n",
       "         [0.        , 0.        , 0.        ],\n",
       "         [0.        , 0.        , 0.        ]]],\n",
       "\n",
       "\n",
       "       [[[0.15686275, 0.09019608, 0.10196078],\n",
       "         [0.18823529, 0.10588235, 0.12156863],\n",
       "         [0.20784314, 0.10196078, 0.0745098 ],\n",
       "         ...,\n",
       "         [0.36862745, 0.29803922, 0.32156863],\n",
       "         [0.30588235, 0.17254902, 0.4627451 ],\n",
       "         [0.20784314, 0.1254902 , 0.25490196]],\n",
       "\n",
       "        [[0.14117647, 0.08235294, 0.09411765],\n",
       "         [0.1254902 , 0.07058824, 0.08235294],\n",
       "         [0.16862745, 0.08235294, 0.09411765],\n",
       "         ...,\n",
       "         [0.34509804, 0.26666667, 0.2745098 ],\n",
       "         [0.39607843, 0.31764706, 0.3372549 ],\n",
       "         [0.16862745, 0.10588235, 0.11372549]],\n",
       "\n",
       "        [[0.28627451, 0.23921569, 0.24705882],\n",
       "         [0.12156863, 0.08235294, 0.11372549],\n",
       "         [0.21960784, 0.16470588, 0.17647059],\n",
       "         ...,\n",
       "         [0.12941176, 0.05098039, 0.05882353],\n",
       "         [0.17254902, 0.10588235, 0.10980392],\n",
       "         [0.20392157, 0.14509804, 0.14901961]],\n",
       "\n",
       "        ...,\n",
       "\n",
       "        [[0.34509804, 0.42352941, 0.52156863],\n",
       "         [0.51372549, 0.71372549, 0.83137255],\n",
       "         [0.52156863, 0.67843137, 0.77254902],\n",
       "         ...,\n",
       "         [0.2745098 , 0.18823529, 0.2       ],\n",
       "         [0.34509804, 0.27843137, 0.28627451],\n",
       "         [0.43529412, 0.34117647, 0.34901961]],\n",
       "\n",
       "        [[0.30980392, 0.13333333, 0.20784314],\n",
       "         [0.60784314, 0.43529412, 0.32156863],\n",
       "         [0.69803922, 0.45882353, 0.27843137],\n",
       "         ...,\n",
       "         [0.39215686, 0.28235294, 0.29803922],\n",
       "         [0.24313725, 0.17647059, 0.18823529],\n",
       "         [0.17254902, 0.06666667, 0.07843137]],\n",
       "\n",
       "        [[0.45490196, 0.09411765, 0.23529412],\n",
       "         [0.60784314, 0.32941176, 0.2745098 ],\n",
       "         [0.61960784, 0.45490196, 0.31372549],\n",
       "         ...,\n",
       "         [0.31764706, 0.21568627, 0.23529412],\n",
       "         [0.24313725, 0.18431373, 0.19607843],\n",
       "         [0.2745098 , 0.21176471, 0.21176471]]],\n",
       "\n",
       "\n",
       "       ...,\n",
       "\n",
       "\n",
       "       [[[0.18431373, 0.16862745, 0.27058824],\n",
       "         [0.0627451 , 0.04705882, 0.13333333],\n",
       "         [0.11764706, 0.06666667, 0.12156863],\n",
       "         ...,\n",
       "         [0.08235294, 0.04313725, 0.09411765],\n",
       "         [0.03921569, 0.01960784, 0.01960784],\n",
       "         [0.07843137, 0.03921569, 0.11764706]],\n",
       "\n",
       "        [[0.05098039, 0.0627451 , 0.11372549],\n",
       "         [0.22745098, 0.24313725, 0.32156863],\n",
       "         [0.08627451, 0.05882353, 0.1372549 ],\n",
       "         ...,\n",
       "         [0.14509804, 0.11372549, 0.14509804],\n",
       "         [0.09411765, 0.07058824, 0.08235294],\n",
       "         [0.17254902, 0.07058824, 0.09411765]],\n",
       "\n",
       "        [[0.04705882, 0.0745098 , 0.07843137],\n",
       "         [0.14509804, 0.17647059, 0.2745098 ],\n",
       "         [0.16470588, 0.13333333, 0.27058824],\n",
       "         ...,\n",
       "         [0.09803922, 0.0627451 , 0.08235294],\n",
       "         [0.07843137, 0.05882353, 0.10196078],\n",
       "         [0.16862745, 0.05882353, 0.11764706]],\n",
       "\n",
       "        ...,\n",
       "\n",
       "        [[0.69019608, 0.85098039, 0.9372549 ],\n",
       "         [0.89803922, 0.96862745, 1.        ],\n",
       "         [0.74901961, 0.8745098 , 0.96862745],\n",
       "         ...,\n",
       "         [0.45882353, 0.15686275, 0.20392157],\n",
       "         [0.43137255, 0.16862745, 0.18431373],\n",
       "         [1.        , 0.96470588, 1.        ]],\n",
       "\n",
       "        [[0.78039216, 0.90588235, 0.95686275],\n",
       "         [0.80392157, 0.91372549, 0.98039216],\n",
       "         [0.74117647, 0.88627451, 0.98039216],\n",
       "         ...,\n",
       "         [0.38431373, 0.20392157, 0.45098039],\n",
       "         [0.45098039, 0.18431373, 0.2       ],\n",
       "         [0.4745098 , 0.15686275, 0.19607843]],\n",
       "\n",
       "        [[0.80392157, 0.92156863, 0.96862745],\n",
       "         [0.67058824, 0.83921569, 0.90588235],\n",
       "         [0.65882353, 0.83137255, 0.92941176],\n",
       "         ...,\n",
       "         [0.78039216, 0.83921569, 0.98823529],\n",
       "         [0.3254902 , 0.2745098 , 0.5372549 ],\n",
       "         [0.44705882, 0.1372549 , 0.18039216]]],\n",
       "\n",
       "\n",
       "       [[[0.        , 0.        , 0.        ],\n",
       "         [0.        , 0.        , 0.        ],\n",
       "         [0.        , 0.        , 0.        ],\n",
       "         ...,\n",
       "         [0.        , 0.        , 0.        ],\n",
       "         [0.        , 0.        , 0.        ],\n",
       "         [0.        , 0.        , 0.        ]],\n",
       "\n",
       "        [[0.        , 0.        , 0.        ],\n",
       "         [0.        , 0.        , 0.        ],\n",
       "         [0.        , 0.        , 0.        ],\n",
       "         ...,\n",
       "         [0.        , 0.        , 0.        ],\n",
       "         [0.        , 0.        , 0.        ],\n",
       "         [0.        , 0.        , 0.        ]],\n",
       "\n",
       "        [[0.        , 0.        , 0.        ],\n",
       "         [0.        , 0.        , 0.        ],\n",
       "         [0.        , 0.        , 0.        ],\n",
       "         ...,\n",
       "         [0.        , 0.        , 0.        ],\n",
       "         [0.        , 0.        , 0.        ],\n",
       "         [0.        , 0.        , 0.        ]],\n",
       "\n",
       "        ...,\n",
       "\n",
       "        [[0.        , 0.        , 0.        ],\n",
       "         [0.        , 0.        , 0.        ],\n",
       "         [0.        , 0.        , 0.        ],\n",
       "         ...,\n",
       "         [0.        , 0.        , 0.        ],\n",
       "         [0.        , 0.        , 0.        ],\n",
       "         [0.        , 0.        , 0.        ]],\n",
       "\n",
       "        [[0.        , 0.        , 0.        ],\n",
       "         [0.        , 0.        , 0.        ],\n",
       "         [0.        , 0.        , 0.        ],\n",
       "         ...,\n",
       "         [0.        , 0.        , 0.        ],\n",
       "         [0.        , 0.        , 0.        ],\n",
       "         [0.        , 0.        , 0.        ]],\n",
       "\n",
       "        [[0.        , 0.        , 0.        ],\n",
       "         [0.        , 0.        , 0.        ],\n",
       "         [0.        , 0.        , 0.        ],\n",
       "         ...,\n",
       "         [0.        , 0.        , 0.        ],\n",
       "         [0.        , 0.        , 0.        ],\n",
       "         [0.        , 0.        , 0.        ]]],\n",
       "\n",
       "\n",
       "       [[[0.49803922, 0.74901961, 0.92941176],\n",
       "         [0.48235294, 0.73333333, 0.90196078],\n",
       "         [0.54117647, 0.79215686, 0.90196078],\n",
       "         ...,\n",
       "         [0.2745098 , 0.1372549 , 0.16078431],\n",
       "         [0.21960784, 0.08235294, 0.10588235],\n",
       "         [0.30588235, 0.09019608, 0.12941176]],\n",
       "\n",
       "        [[0.56862745, 0.81960784, 0.99607843],\n",
       "         [0.49411765, 0.74509804, 0.91764706],\n",
       "         [0.5372549 , 0.78823529, 0.96470588],\n",
       "         ...,\n",
       "         [0.21960784, 0.10980392, 0.12941176],\n",
       "         [0.20392157, 0.08235294, 0.10588235],\n",
       "         [0.28235294, 0.09803922, 0.12941176]],\n",
       "\n",
       "        [[0.54901961, 0.8       , 0.97254902],\n",
       "         [0.53333333, 0.78431373, 0.96078431],\n",
       "         [0.54117647, 0.79215686, 0.96470588],\n",
       "         ...,\n",
       "         [0.11764706, 0.07058824, 0.07843137],\n",
       "         [0.15294118, 0.09411765, 0.10588235],\n",
       "         [0.23137255, 0.10588235, 0.12941176]],\n",
       "\n",
       "        ...,\n",
       "\n",
       "        [[0.6       , 0.94509804, 1.        ],\n",
       "         [0.6       , 0.94509804, 1.        ],\n",
       "         [0.56862745, 0.91372549, 1.        ],\n",
       "         ...,\n",
       "         [0.        , 0.58039216, 0.8627451 ],\n",
       "         [0.        , 0.58039216, 0.8627451 ],\n",
       "         [0.        , 0.58039216, 0.8627451 ]],\n",
       "\n",
       "        [[0.65098039, 0.97254902, 1.        ],\n",
       "         [0.65098039, 0.97254902, 1.        ],\n",
       "         [0.60392157, 0.92941176, 1.        ],\n",
       "         ...,\n",
       "         [0.        , 0.59607843, 0.87843137],\n",
       "         [0.        , 0.58039216, 0.8627451 ],\n",
       "         [0.        , 0.58039216, 0.8627451 ]],\n",
       "\n",
       "        [[0.60392157, 0.99215686, 1.        ],\n",
       "         [0.60392157, 0.99215686, 1.        ],\n",
       "         [0.57254902, 0.96078431, 1.        ],\n",
       "         ...,\n",
       "         [0.        , 0.59607843, 0.87843137],\n",
       "         [0.        , 0.58039216, 0.8627451 ],\n",
       "         [0.        , 0.58039216, 0.8627451 ]]]])"
      ]
     },
     "execution_count": 43,
     "metadata": {},
     "output_type": "execute_result"
    }
   ],
   "source": [
    "features_test"
   ]
  },
  {
   "cell_type": "code",
   "execution_count": 44,
   "metadata": {},
   "outputs": [
    {
     "data": {
      "text/plain": [
       "array([[[[0.78431373, 0.71764706, 0.7372549 ],\n",
       "         [0.79607843, 0.7254902 , 0.74509804],\n",
       "         [0.78823529, 0.71764706, 0.7372549 ],\n",
       "         ...,\n",
       "         [0.35294118, 0.31764706, 0.32156863],\n",
       "         [0.35294118, 0.31764706, 0.32156863],\n",
       "         [0.35294118, 0.31764706, 0.32156863]],\n",
       "\n",
       "        [[0.8627451 , 0.76862745, 0.78431373],\n",
       "         [0.84705882, 0.74509804, 0.76470588],\n",
       "         [0.87058824, 0.74509804, 0.76862745],\n",
       "         ...,\n",
       "         [0.38823529, 0.3254902 , 0.34509804],\n",
       "         [0.39607843, 0.33333333, 0.35294118],\n",
       "         [0.39215686, 0.32941176, 0.34901961]],\n",
       "\n",
       "        [[0.23529412, 0.29411765, 0.24313725],\n",
       "         [0.74901961, 0.75686275, 0.74901961],\n",
       "         [0.78039216, 0.75686275, 0.75686275],\n",
       "         ...,\n",
       "         [0.38039216, 0.32941176, 0.34509804],\n",
       "         [0.38823529, 0.3372549 , 0.35294118],\n",
       "         [0.38431373, 0.33333333, 0.34901961]],\n",
       "\n",
       "        ...,\n",
       "\n",
       "        [[0.23921569, 0.40784314, 0.35686275],\n",
       "         [0.23921569, 0.40392157, 0.36078431],\n",
       "         [0.24313725, 0.41176471, 0.36078431],\n",
       "         ...,\n",
       "         [0.21960784, 0.41960784, 0.31372549],\n",
       "         [0.29019608, 0.40392157, 0.33333333],\n",
       "         [0.30980392, 0.4       , 0.3372549 ]],\n",
       "\n",
       "        [[0.24313725, 0.41176471, 0.36078431],\n",
       "         [0.25882353, 0.42352941, 0.36078431],\n",
       "         [0.24313725, 0.41176471, 0.36078431],\n",
       "         ...,\n",
       "         [0.22352941, 0.41176471, 0.30588235],\n",
       "         [0.26666667, 0.40392157, 0.32941176],\n",
       "         [0.26666667, 0.40784314, 0.33333333]],\n",
       "\n",
       "        [[0.25490196, 0.41960784, 0.35686275],\n",
       "         [0.25490196, 0.42352941, 0.34901961],\n",
       "         [0.23529412, 0.41568627, 0.36078431],\n",
       "         ...,\n",
       "         [0.26666667, 0.40392157, 0.30980392],\n",
       "         [0.27058824, 0.40392157, 0.32156863],\n",
       "         [0.25098039, 0.39215686, 0.31764706]]],\n",
       "\n",
       "\n",
       "       [[[0.27058824, 0.25882353, 0.2627451 ],\n",
       "         [0.2745098 , 0.25490196, 0.25882353],\n",
       "         [0.26666667, 0.24705882, 0.25098039],\n",
       "         ...,\n",
       "         [0.30588235, 0.28627451, 0.29019608],\n",
       "         [0.31372549, 0.28235294, 0.29019608],\n",
       "         [0.31372549, 0.28235294, 0.29019608]],\n",
       "\n",
       "        [[0.2745098 , 0.25490196, 0.25882353],\n",
       "         [0.28235294, 0.25098039, 0.25882353],\n",
       "         [0.2745098 , 0.24313725, 0.25098039],\n",
       "         ...,\n",
       "         [0.32156863, 0.28627451, 0.30196078],\n",
       "         [0.30588235, 0.28627451, 0.29019608],\n",
       "         [0.32156863, 0.29803922, 0.30980392]],\n",
       "\n",
       "        [[0.28627451, 0.25490196, 0.2627451 ],\n",
       "         [0.28627451, 0.25490196, 0.2627451 ],\n",
       "         [0.28235294, 0.25098039, 0.25882353],\n",
       "         ...,\n",
       "         [0.31764706, 0.29803922, 0.30196078],\n",
       "         [0.31764706, 0.29803922, 0.30196078],\n",
       "         [0.32156863, 0.30196078, 0.30588235]],\n",
       "\n",
       "        ...,\n",
       "\n",
       "        [[0.23529412, 0.43921569, 0.3372549 ],\n",
       "         [0.23921569, 0.43529412, 0.33333333],\n",
       "         [0.23921569, 0.43529412, 0.33333333],\n",
       "         ...,\n",
       "         [0.25098039, 0.44313725, 0.34901961],\n",
       "         [0.25490196, 0.43137255, 0.35294118],\n",
       "         [0.24705882, 0.43529412, 0.35294118]],\n",
       "\n",
       "        [[0.24705882, 0.45098039, 0.34901961],\n",
       "         [0.25490196, 0.45098039, 0.34901961],\n",
       "         [0.24705882, 0.44313725, 0.34117647],\n",
       "         ...,\n",
       "         [0.25882353, 0.43921569, 0.34509804],\n",
       "         [0.25490196, 0.43137255, 0.35294118],\n",
       "         [0.24705882, 0.43137255, 0.36470588]],\n",
       "\n",
       "        [[0.24705882, 0.44705882, 0.35294118],\n",
       "         [0.24313725, 0.44705882, 0.34509804],\n",
       "         [0.24705882, 0.43921569, 0.34509804],\n",
       "         ...,\n",
       "         [0.2627451 , 0.43921569, 0.36078431],\n",
       "         [0.25882353, 0.43529412, 0.35686275],\n",
       "         [0.25098039, 0.43921569, 0.35686275]]],\n",
       "\n",
       "\n",
       "       [[[0.        , 0.        , 0.        ],\n",
       "         [0.        , 0.        , 0.        ],\n",
       "         [0.        , 0.        , 0.        ],\n",
       "         ...,\n",
       "         [0.        , 0.        , 0.        ],\n",
       "         [0.        , 0.        , 0.        ],\n",
       "         [0.        , 0.        , 0.        ]],\n",
       "\n",
       "        [[0.        , 0.        , 0.        ],\n",
       "         [0.        , 0.        , 0.        ],\n",
       "         [0.        , 0.        , 0.        ],\n",
       "         ...,\n",
       "         [0.        , 0.        , 0.        ],\n",
       "         [0.        , 0.        , 0.        ],\n",
       "         [0.        , 0.        , 0.        ]],\n",
       "\n",
       "        [[0.        , 0.        , 0.        ],\n",
       "         [0.        , 0.        , 0.        ],\n",
       "         [0.        , 0.        , 0.        ],\n",
       "         ...,\n",
       "         [0.        , 0.        , 0.        ],\n",
       "         [0.        , 0.        , 0.        ],\n",
       "         [0.        , 0.        , 0.        ]],\n",
       "\n",
       "        ...,\n",
       "\n",
       "        [[0.        , 0.        , 0.        ],\n",
       "         [0.        , 0.        , 0.        ],\n",
       "         [0.        , 0.        , 0.        ],\n",
       "         ...,\n",
       "         [0.        , 0.        , 0.        ],\n",
       "         [0.        , 0.        , 0.        ],\n",
       "         [0.        , 0.        , 0.        ]],\n",
       "\n",
       "        [[0.        , 0.        , 0.        ],\n",
       "         [0.        , 0.        , 0.        ],\n",
       "         [0.        , 0.        , 0.        ],\n",
       "         ...,\n",
       "         [0.        , 0.        , 0.        ],\n",
       "         [0.        , 0.        , 0.        ],\n",
       "         [0.        , 0.        , 0.        ]],\n",
       "\n",
       "        [[0.        , 0.        , 0.        ],\n",
       "         [0.        , 0.        , 0.        ],\n",
       "         [0.        , 0.        , 0.        ],\n",
       "         ...,\n",
       "         [0.        , 0.        , 0.        ],\n",
       "         [0.        , 0.        , 0.        ],\n",
       "         [0.        , 0.        , 0.        ]]],\n",
       "\n",
       "\n",
       "       ...,\n",
       "\n",
       "\n",
       "       [[[0.00784314, 0.        , 0.        ],\n",
       "         [0.02352941, 0.01176471, 0.01960784],\n",
       "         [0.01176471, 0.        , 0.        ],\n",
       "         ...,\n",
       "         [0.01960784, 0.        , 0.01960784],\n",
       "         [0.00392157, 0.        , 0.00392157],\n",
       "         [0.00392157, 0.        , 0.00392157]],\n",
       "\n",
       "        [[0.94117647, 0.88627451, 0.97647059],\n",
       "         [0.8627451 , 0.81176471, 0.90588235],\n",
       "         [0.47843137, 0.42745098, 0.52156863],\n",
       "         ...,\n",
       "         [0.20392157, 0.17254902, 0.20392157],\n",
       "         [0.19215686, 0.16078431, 0.19215686],\n",
       "         [0.19215686, 0.16078431, 0.19215686]],\n",
       "\n",
       "        [[0.91372549, 0.84313725, 0.98431373],\n",
       "         [0.78823529, 0.71764706, 0.8627451 ],\n",
       "         [0.87058824, 0.8       , 0.94509804],\n",
       "         ...,\n",
       "         [0.20392157, 0.17254902, 0.20392157],\n",
       "         [0.19607843, 0.16470588, 0.19607843],\n",
       "         [0.19607843, 0.16470588, 0.19607843]],\n",
       "\n",
       "        ...,\n",
       "\n",
       "        [[0.25490196, 0.50588235, 0.39607843],\n",
       "         [0.30196078, 0.55294118, 0.44313725],\n",
       "         [0.29803922, 0.54901961, 0.43921569],\n",
       "         ...,\n",
       "         [0.32156863, 0.56862745, 0.44705882],\n",
       "         [0.24313725, 0.49019608, 0.36862745],\n",
       "         [0.2745098 , 0.52156863, 0.4       ]],\n",
       "\n",
       "        [[0.19215686, 0.25490196, 0.21960784],\n",
       "         [0.21568627, 0.28235294, 0.24313725],\n",
       "         [0.21568627, 0.28235294, 0.24313725],\n",
       "         ...,\n",
       "         [0.16862745, 0.21960784, 0.2       ],\n",
       "         [0.17254902, 0.22352941, 0.20392157],\n",
       "         [0.17254902, 0.22352941, 0.20392157]],\n",
       "\n",
       "        [[0.03137255, 0.00784314, 0.01176471],\n",
       "         [0.00784314, 0.        , 0.        ],\n",
       "         [0.02352941, 0.        , 0.00392157],\n",
       "         ...,\n",
       "         [0.02352941, 0.        , 0.01176471],\n",
       "         [0.01960784, 0.        , 0.00392157],\n",
       "         [0.01960784, 0.        , 0.00392157]]],\n",
       "\n",
       "\n",
       "       [[[0.05098039, 0.01960784, 0.02745098],\n",
       "         [0.05490196, 0.02352941, 0.03137255],\n",
       "         [0.0627451 , 0.04313725, 0.04705882],\n",
       "         ...,\n",
       "         [0.17647059, 0.14509804, 0.14901961],\n",
       "         [0.18039216, 0.14117647, 0.16862745],\n",
       "         [0.17647059, 0.1372549 , 0.16470588]],\n",
       "\n",
       "        [[0.04705882, 0.02745098, 0.03137255],\n",
       "         [0.05098039, 0.03137255, 0.03529412],\n",
       "         [0.05490196, 0.03137255, 0.04313725],\n",
       "         ...,\n",
       "         [0.15294118, 0.12156863, 0.12156863],\n",
       "         [0.16470588, 0.13333333, 0.14117647],\n",
       "         [0.18039216, 0.14901961, 0.15686275]],\n",
       "\n",
       "        [[0.05490196, 0.02352941, 0.03137255],\n",
       "         [0.05490196, 0.02352941, 0.03137255],\n",
       "         [0.04705882, 0.02352941, 0.03529412],\n",
       "         ...,\n",
       "         [0.17647059, 0.12941176, 0.15294118],\n",
       "         [0.16470588, 0.14509804, 0.14117647],\n",
       "         [0.17254902, 0.14117647, 0.14117647]],\n",
       "\n",
       "        ...,\n",
       "\n",
       "        [[0.05490196, 0.03137255, 0.04313725],\n",
       "         [0.22745098, 0.23137255, 0.25882353],\n",
       "         [0.33333333, 0.32941176, 0.34901961],\n",
       "         ...,\n",
       "         [0.43137255, 0.69411765, 0.83921569],\n",
       "         [0.40784314, 0.6627451 , 0.81568627],\n",
       "         [0.49019608, 0.74901961, 0.90588235]],\n",
       "\n",
       "        [[0.05490196, 0.02745098, 0.05098039],\n",
       "         [0.03921569, 0.03137255, 0.05882353],\n",
       "         [0.2745098 , 0.28235294, 0.30588235],\n",
       "         ...,\n",
       "         [0.51372549, 0.5372549 , 0.36470588],\n",
       "         [0.93333333, 0.98431373, 0.94509804],\n",
       "         [0.61960784, 0.72156863, 0.81960784]],\n",
       "\n",
       "        [[0.04313725, 0.03137255, 0.05882353],\n",
       "         [0.03921569, 0.03137255, 0.05490196],\n",
       "         [0.03137255, 0.04313725, 0.05882353],\n",
       "         ...,\n",
       "         [0.59607843, 0.52156863, 0.16078431],\n",
       "         [0.62745098, 0.55294118, 0.21568627],\n",
       "         [0.60392157, 0.5254902 , 0.23529412]]],\n",
       "\n",
       "\n",
       "       [[[0.        , 0.        , 0.        ],\n",
       "         [0.        , 0.        , 0.        ],\n",
       "         [0.        , 0.        , 0.        ],\n",
       "         ...,\n",
       "         [0.        , 0.        , 0.        ],\n",
       "         [0.        , 0.        , 0.        ],\n",
       "         [0.        , 0.        , 0.        ]],\n",
       "\n",
       "        [[0.        , 0.        , 0.        ],\n",
       "         [0.        , 0.        , 0.        ],\n",
       "         [0.        , 0.        , 0.        ],\n",
       "         ...,\n",
       "         [0.        , 0.        , 0.        ],\n",
       "         [0.        , 0.        , 0.        ],\n",
       "         [0.        , 0.        , 0.        ]],\n",
       "\n",
       "        [[0.        , 0.        , 0.        ],\n",
       "         [0.        , 0.        , 0.        ],\n",
       "         [0.        , 0.        , 0.        ],\n",
       "         ...,\n",
       "         [0.        , 0.        , 0.        ],\n",
       "         [0.        , 0.        , 0.        ],\n",
       "         [0.        , 0.        , 0.        ]],\n",
       "\n",
       "        ...,\n",
       "\n",
       "        [[0.        , 0.        , 0.        ],\n",
       "         [0.        , 0.        , 0.        ],\n",
       "         [0.        , 0.        , 0.        ],\n",
       "         ...,\n",
       "         [0.        , 0.        , 0.        ],\n",
       "         [0.        , 0.        , 0.        ],\n",
       "         [0.        , 0.        , 0.        ]],\n",
       "\n",
       "        [[0.        , 0.        , 0.        ],\n",
       "         [0.        , 0.        , 0.        ],\n",
       "         [0.        , 0.        , 0.        ],\n",
       "         ...,\n",
       "         [0.        , 0.        , 0.        ],\n",
       "         [0.        , 0.        , 0.        ],\n",
       "         [0.        , 0.        , 0.        ]],\n",
       "\n",
       "        [[0.        , 0.        , 0.        ],\n",
       "         [0.        , 0.        , 0.        ],\n",
       "         [0.        , 0.        , 0.        ],\n",
       "         ...,\n",
       "         [0.        , 0.        , 0.        ],\n",
       "         [0.        , 0.        , 0.        ],\n",
       "         [0.        , 0.        , 0.        ]]]])"
      ]
     },
     "execution_count": 44,
     "metadata": {},
     "output_type": "execute_result"
    }
   ],
   "source": [
    "features_train"
   ]
  },
  {
   "cell_type": "markdown",
   "metadata": {},
   "source": [
    "### Step 5: Construct the Model"
   ]
  },
  {
   "cell_type": "code",
   "execution_count": 45,
   "metadata": {},
   "outputs": [
    {
     "name": "stdout",
     "output_type": "stream",
     "text": [
      "Model: \"sequential\"\n",
      "_________________________________________________________________\n",
      "Layer (type)                 Output Shape              Param #   \n",
      "=================================================================\n",
      "conv2d (Conv2D)              (None, 62, 62, 64)        1792      \n",
      "_________________________________________________________________\n",
      "conv2d_1 (Conv2D)            (None, 60, 60, 64)        36928     \n",
      "_________________________________________________________________\n",
      "batch_normalization (BatchNo (None, 60, 60, 64)        256       \n",
      "_________________________________________________________________\n",
      "max_pooling2d (MaxPooling2D) (None, 30, 30, 64)        0         \n",
      "_________________________________________________________________\n",
      "global_average_pooling2d (Gl (None, 64)                0         \n",
      "_________________________________________________________________\n",
      "dense (Dense)                (None, 256)               16640     \n",
      "_________________________________________________________________\n",
      "batch_normalization_1 (Batch (None, 256)               1024      \n",
      "_________________________________________________________________\n",
      "dense_1 (Dense)              (None, 2)                 514       \n",
      "=================================================================\n",
      "Total params: 57,154\n",
      "Trainable params: 56,514\n",
      "Non-trainable params: 640\n",
      "_________________________________________________________________\n",
      "Model Created Successfully!\n"
     ]
    }
   ],
   "source": [
    "# simple CNN Classification model with two CNN layers.\n",
    "# Let's create a function that will construct our model\n",
    "def create_model():\n",
    "\n",
    "    # We will use a Sequential model for model construction\n",
    "    model = Sequential()\n",
    "\n",
    "    # Defining The Model Architecture\n",
    "    model.add(Conv2D(filters = 64, kernel_size = (3, 3), activation = 'relu', input_shape = (image_height, image_width, 3)))\n",
    "    model.add(Conv2D(filters = 64, kernel_size = (3, 3), activation = 'relu'))\n",
    "    model.add(BatchNormalization())\n",
    "    model.add(MaxPooling2D(pool_size = (2, 2)))\n",
    "    model.add(GlobalAveragePooling2D())\n",
    "    model.add(Dense(256, activation = 'relu'))\n",
    "    model.add(BatchNormalization())\n",
    "    model.add(Dense(model_output_size, activation = 'softmax'))\n",
    "\n",
    "    # Printing the models summary\n",
    "    model.summary()\n",
    "\n",
    "    return model\n",
    "\n",
    "\n",
    "# Calling the create_model method\n",
    "model = create_model()\n",
    "\n",
    "print(\"Model Created Successfully!\")"
   ]
  },
  {
   "cell_type": "code",
   "execution_count": 46,
   "metadata": {},
   "outputs": [],
   "source": [
    "### For plot_model , following libraries required\n",
    "##pip install pydot\n",
    "##pip install pydotplus\n",
    "## pip install graphviz"
   ]
  },
  {
   "cell_type": "code",
   "execution_count": 47,
   "metadata": {},
   "outputs": [
    {
     "data": {
      "image/png": "[encoded data removed]",
      "text/plain": [
       "<IPython.core.display.Image object>"
      ]
     },
     "execution_count": 47,
     "metadata": {},
     "output_type": "execute_result"
    }
   ],
   "source": [
    "## Check Model architecture\n",
    "plot_model(model, to_file = 'model_structure_plot.png', show_shapes = True, show_layer_names = True)"
   ]
  },
  {
   "cell_type": "markdown",
   "metadata": {},
   "source": [
    "### Step 6: Compile and Train the Model"
   ]
  },
  {
   "cell_type": "code",
   "execution_count": 48,
   "metadata": {},
   "outputs": [
    {
     "name": "stdout",
     "output_type": "stream",
     "text": [
      "Epoch 1/20\n"
     ]
    },
    {
     "name": "stdout",
     "output_type": "stream",
     "text": [
      "1003/1600 [=================>............] - ETA: 0s - loss: 1.0045 - accuracy: 0.50 - ETA: 9s - loss: 0.5618 - accuracy: 0.72 - ETA: 10s - loss: 0.5707 - accuracy: 0.750 - ETA: 10s - loss: 0.4958 - accuracy: 0.771 - ETA: 10s - loss: 0.4625 - accuracy: 0.781 - ETA: 10s - loss: 0.4670 - accuracy: 0.793 - ETA: 10s - loss: 0.4677 - accuracy: 0.792 - ETA: 10s - loss: 0.4543 - accuracy: 0.800 - ETA: 10s - loss: 0.4537 - accuracy: 0.789 - ETA: 10s - loss: 0.4380 - accuracy: 0.799 - ETA: 10s - loss: 0.4434 - accuracy: 0.800 - ETA: 10s - loss: 0.4524 - accuracy: 0.789 - ETA: 10s - loss: 0.4518 - accuracy: 0.794 - ETA: 10s - loss: 0.4423 - accuracy: 0.801 - ETA: 9s - loss: 0.4492 - accuracy: 0.797 - ETA: 9s - loss: 0.4437 - accuracy: 0.80 - ETA: 9s - loss: 0.4370 - accuracy: 0.80 - ETA: 9s - loss: 0.4477 - accuracy: 0.79 - ETA: 10s - loss: 0.4461 - accuracy: 0.802 - ETA: 10s - loss: 0.4513 - accuracy: 0.796 - ETA: 10s - loss: 0.4521 - accuracy: 0.796 - ETA: 10s - loss: 0.4448 - accuracy: 0.799 - ETA: 10s - loss: 0.4395 - accuracy: 0.800 - ETA: 10s - loss: 0.4294 - accuracy: 0.806 - ETA: 10s - loss: 0.4218 - accuracy: 0.810 - ETA: 10s - loss: 0.4309 - accuracy: 0.807 - ETA: 10s - loss: 0.4237 - accuracy: 0.810 - ETA: 10s - loss: 0.4313 - accuracy: 0.806 - ETA: 10s - loss: 0.4250 - accuracy: 0.811 - ETA: 10s - loss: 0.4224 - accuracy: 0.812 - ETA: 9s - loss: 0.4189 - accuracy: 0.814 - ETA: 9s - loss: 0.4158 - accuracy: 0.81 - ETA: 9s - loss: 0.4148 - accuracy: 0.81 - ETA: 9s - loss: 0.4046 - accuracy: 0.82 - ETA: 9s - loss: 0.4104 - accuracy: 0.82 - ETA: 9s - loss: 0.4177 - accuracy: 0.81 - ETA: 9s - loss: 0.4253 - accuracy: 0.81 - ETA: 9s - loss: 0.4287 - accuracy: 0.81 - ETA: 9s - loss: 0.4220 - accuracy: 0.81 - ETA: 9s - loss: 0.4205 - accuracy: 0.81 - ETA: 9s - loss: 0.4181 - accuracy: 0.81 - ETA: 9s - loss: 0.4184 - accuracy: 0.81 - ETA: 9s - loss: 0.4229 - accuracy: 0.81 - ETA: 9s - loss: 0.4174 - accuracy: 0.81 - ETA: 9s - loss: 0.4168 - accuracy: 0.81 - ETA: 9s - loss: 0.4151 - accuracy: 0.81 - ETA: 9s - loss: 0.4134 - accuracy: 0.81 - ETA: 9s - loss: 0.4096 - accuracy: 0.81 - ETA: 9s - loss: 0.4091 - accuracy: 0.82 - ETA: 9s - loss: 0.4057 - accuracy: 0.82 - ETA: 9s - loss: 0.3998 - accuracy: 0.82 - ETA: 9s - loss: 0.3970 - accuracy: 0.82 - ETA: 9s - loss: 0.4015 - accuracy: 0.82 - ETA: 9s - loss: 0.4021 - accuracy: 0.82 - ETA: 9s - loss: 0.4084 - accuracy: 0.82 - ETA: 9s - loss: 0.4070 - accuracy: 0.82 - ETA: 9s - loss: 0.4037 - accuracy: 0.82 - ETA: 9s - loss: 0.4020 - accuracy: 0.82 - ETA: 9s - loss: 0.4027 - accuracy: 0.82 - ETA: 9s - loss: 0.4012 - accuracy: 0.82 - ETA: 9s - loss: 0.3999 - accuracy: 0.82 - ETA: 9s - loss: 0.4002 - accuracy: 0.82 - ETA: 9s - loss: 0.4030 - accuracy: 0.82 - ETA: 9s - loss: 0.4019 - accuracy: 0.82 - ETA: 9s - loss: 0.4012 - accuracy: 0.82 - ETA: 9s - loss: 0.4020 - accuracy: 0.82 - ETA: 9s - loss: 0.4040 - accuracy: 0.82 - ETA: 9s - loss: 0.4008 - accuracy: 0.82 - ETA: 9s - loss: 0.4013 - accuracy: 0.82 - ETA: 9s - loss: 0.4032 - accuracy: 0.82 - ETA: 9s - loss: 0.4075 - accuracy: 0.82 - ETA: 9s - loss: 0.4054 - accuracy: 0.82 - ETA: 9s - loss: 0.4054 - accuracy: 0.82 - ETA: 9s - loss: 0.4052 - accuracy: 0.82 - ETA: 9s - loss: 0.4045 - accuracy: 0.82 - ETA: 9s - loss: 0.4029 - accuracy: 0.82 - ETA: 9s - loss: 0.4025 - accuracy: 0.82 - ETA: 9s - loss: 0.4016 - accuracy: 0.82 - ETA: 9s - loss: 0.4006 - accuracy: 0.82 - ETA: 9s - loss: 0.3996 - accuracy: 0.82 - ETA: 9s - loss: 0.4002 - accuracy: 0.82 - ETA: 9s - loss: 0.3997 - accuracy: 0.82 - ETA: 9s - loss: 0.3980 - accuracy: 0.83 - ETA: 9s - loss: 0.3992 - accuracy: 0.82 - ETA: 9s - loss: 0.3983 - accuracy: 0.82 - ETA: 9s - loss: 0.3956 - accuracy: 0.83 - ETA: 9s - loss: 0.3946 - accuracy: 0.83 - ETA: 9s - loss: 0.3934 - accuracy: 0.83 - ETA: 9s - loss: 0.3925 - accuracy: 0.83 - ETA: 9s - loss: 0.3914 - accuracy: 0.83 - ETA: 9s - loss: 0.3914 - accuracy: 0.83 - ETA: 9s - loss: 0.3892 - accuracy: 0.83 - ETA: 9s - loss: 0.3897 - accuracy: 0.83 - ETA: 9s - loss: 0.3884 - accuracy: 0.83 - ETA: 9s - loss: 0.3892 - accuracy: 0.83 - ETA: 9s - loss: 0.3880 - accuracy: 0.83 - ETA: 9s - loss: 0.3871 - accuracy: 0.83 - ETA: 9s - loss: 0.3893 - accuracy: 0.83 - ETA: 9s - loss: 0.3885 - accuracy: 0.83 - ETA: 9s - loss: 0.3890 - accuracy: 0.83 - ETA: 9s - loss: 0.3892 - accuracy: 0.83 - ETA: 9s - loss: 0.3883 - accuracy: 0.83 - ETA: 9s - loss: 0.3867 - accuracy: 0.83 - ETA: 9s - loss: 0.3860 - accuracy: 0.83 - ETA: 9s - loss: 0.3886 - accuracy: 0.83 - ETA: 9s - loss: 0.3883 - accuracy: 0.83 - ETA: 9s - loss: 0.3890 - accuracy: 0.83 - ETA: 9s - loss: 0.3887 - accuracy: 0.83 - ETA: 9s - loss: 0.3887 - accuracy: 0.83 - ETA: 9s - loss: 0.3891 - accuracy: 0.83 - ETA: 9s - loss: 0.3891 - accuracy: 0.83 - ETA: 9s - loss: 0.3880 - accuracy: 0.83 - ETA: 9s - loss: 0.3864 - accuracy: 0.83 - ETA: 9s - loss: 0.3867 - accuracy: 0.83 - ETA: 9s - loss: 0.3877 - accuracy: 0.83 - ETA: 9s - loss: 0.3879 - accuracy: 0.83 - ETA: 9s - loss: 0.3917 - accuracy: 0.83 - ETA: 9s - loss: 0.3925 - accuracy: 0.83 - ETA: 9s - loss: 0.3935 - accuracy: 0.82 - ETA: 9s - loss: 0.3913 - accuracy: 0.83 - ETA: 9s - loss: 0.3906 - accuracy: 0.83 - ETA: 8s - loss: 0.3902 - accuracy: 0.83 - ETA: 8s - loss: 0.3912 - accuracy: 0.83 - ETA: 8s - loss: 0.3894 - accuracy: 0.83 - ETA: 8s - loss: 0.3905 - accuracy: 0.83 - ETA: 8s - loss: 0.3903 - accuracy: 0.83 - ETA: 8s - loss: 0.3904 - accuracy: 0.83 - ETA: 8s - loss: 0.3894 - accuracy: 0.83 - ETA: 8s - loss: 0.3900 - accuracy: 0.83 - ETA: 8s - loss: 0.3893 - accuracy: 0.83 - ETA: 8s - loss: 0.3915 - accuracy: 0.83 - ETA: 8s - loss: 0.3911 - accuracy: 0.83 - ETA: 8s - loss: 0.3892 - accuracy: 0.83 - ETA: 8s - loss: 0.3894 - accuracy: 0.83 - ETA: 8s - loss: 0.3879 - accuracy: 0.83 - ETA: 8s - loss: 0.3857 - accuracy: 0.83 - ETA: 8s - loss: 0.3863 - accuracy: 0.83 - ETA: 8s - loss: 0.3874 - accuracy: 0.83 - ETA: 8s - loss: 0.3865 - accuracy: 0.83 - ETA: 8s - loss: 0.3853 - accuracy: 0.83 - ETA: 8s - loss: 0.3840 - accuracy: 0.83 - ETA: 8s - loss: 0.3817 - accuracy: 0.83 - ETA: 8s - loss: 0.3829 - accuracy: 0.83 - ETA: 8s - loss: 0.3817 - accuracy: 0.83 - ETA: 8s - loss: 0.3830 - accuracy: 0.83 - ETA: 8s - loss: 0.3815 - accuracy: 0.83 - ETA: 8s - loss: 0.3825 - accuracy: 0.83 - ETA: 8s - loss: 0.3815 - accuracy: 0.83 - ETA: 8s - loss: 0.3803 - accuracy: 0.83 - ETA: 8s - loss: 0.3804 - accuracy: 0.83 - ETA: 7s - loss: 0.3812 - accuracy: 0.83 - ETA: 7s - loss: 0.3799 - accuracy: 0.83 - ETA: 7s - loss: 0.3789 - accuracy: 0.83 - ETA: 7s - loss: 0.3779 - accuracy: 0.84 - ETA: 7s - loss: 0.3769 - accuracy: 0.84 - ETA: 7s - loss: 0.3763 - accuracy: 0.84 - ETA: 7s - loss: 0.3760 - accuracy: 0.84 - ETA: 7s - loss: 0.3750 - accuracy: 0.84 - ETA: 7s - loss: 0.3735 - accuracy: 0.84 - ETA: 7s - loss: 0.3727 - accuracy: 0.84 - ETA: 7s - loss: 0.3723 - accuracy: 0.84 - ETA: 7s - loss: 0.3715 - accuracy: 0.84 - ETA: 7s - loss: 0.3724 - accuracy: 0.84 - ETA: 7s - loss: 0.3730 - accuracy: 0.84 - ETA: 7s - loss: 0.3727 - accuracy: 0.84 - ETA: 7s - loss: 0.3726 - accuracy: 0.84 - ETA: 7s - loss: 0.3720 - accuracy: 0.84 - ETA: 7s - loss: 0.3711 - accuracy: 0.84 - ETA: 7s - loss: 0.3699 - accuracy: 0.84 - ETA: 7s - loss: 0.3690 - accuracy: 0.84 - ETA: 7s - loss: 0.3692 - accuracy: 0.84 - ETA: 7s - loss: 0.3679 - accuracy: 0.84 - ETA: 7s - loss: 0.3677 - accuracy: 0.84 - ETA: 7s - loss: 0.3677 - accuracy: 0.84 - ETA: 7s - loss: 0.3665 - accuracy: 0.84 - ETA: 7s - loss: 0.3660 - accuracy: 0.84 - ETA: 7s - loss: 0.3640 - accuracy: 0.84 - ETA: 6s - loss: 0.3649 - accuracy: 0.84 - ETA: 6s - loss: 0.3643 - accuracy: 0.84 - ETA: 6s - loss: 0.3626 - accuracy: 0.84 - ETA: 6s - loss: 0.3631 - accuracy: 0.84 - ETA: 6s - loss: 0.3618 - accuracy: 0.84 - ETA: 6s - loss: 0.3601 - accuracy: 0.84 - ETA: 6s - loss: 0.3589 - accuracy: 0.84 - ETA: 6s - loss: 0.3589 - accuracy: 0.84 - ETA: 6s - loss: 0.3584 - accuracy: 0.84 - ETA: 6s - loss: 0.3587 - accuracy: 0.84 - ETA: 6s - loss: 0.3594 - accuracy: 0.84 - ETA: 6s - loss: 0.3580 - accuracy: 0.84 - ETA: 6s - loss: 0.3564 - accuracy: 0.84 - ETA: 6s - loss: 0.3557 - accuracy: 0.84 - ETA: 6s - loss: 0.3557 - accuracy: 0.84 - ETA: 6s - loss: 0.3562 - accuracy: 0.8495\b\b\b\b\b\b\b\b\b\b\b\b\b\b\b\b\b\b\b\b\b\b\b\b\b\b\b\b\b\b\b\b\b\b\b\b\b\b\b\b\b\b\b\b\b\b\b\b\b\b\b\b\b\b\b\b\b\b\b\b\b\b\b\b\b\b\b\b\b\b\b\b\b\b\b\b\b\b\b\b\b\b\b\b\b\b"
     ]
    },
    {
     "name": "stdout",
     "output_type": "stream",
     "text": [
      "1600/1600 [==============================] - ETA: 6s - loss: 0.3558 - accuracy: 0.84 - ETA: 6s - loss: 0.3565 - accuracy: 0.84 - ETA: 6s - loss: 0.3573 - accuracy: 0.84 - ETA: 6s - loss: 0.3567 - accuracy: 0.84 - ETA: 5s - loss: 0.3559 - accuracy: 0.84 - ETA: 5s - loss: 0.3570 - accuracy: 0.84 - ETA: 5s - loss: 0.3559 - accuracy: 0.84 - ETA: 5s - loss: 0.3552 - accuracy: 0.84 - ETA: 5s - loss: 0.3544 - accuracy: 0.85 - ETA: 5s - loss: 0.3554 - accuracy: 0.84 - ETA: 5s - loss: 0.3560 - accuracy: 0.84 - ETA: 5s - loss: 0.3547 - accuracy: 0.84 - ETA: 5s - loss: 0.3555 - accuracy: 0.84 - ETA: 5s - loss: 0.3560 - accuracy: 0.84 - ETA: 5s - loss: 0.3568 - accuracy: 0.84 - ETA: 5s - loss: 0.3569 - accuracy: 0.84 - ETA: 5s - loss: 0.3571 - accuracy: 0.84 - ETA: 5s - loss: 0.3564 - accuracy: 0.84 - ETA: 5s - loss: 0.3562 - accuracy: 0.84 - ETA: 5s - loss: 0.3562 - accuracy: 0.84 - ETA: 5s - loss: 0.3562 - accuracy: 0.84 - ETA: 5s - loss: 0.3554 - accuracy: 0.84 - ETA: 5s - loss: 0.3547 - accuracy: 0.84 - ETA: 5s - loss: 0.3545 - accuracy: 0.84 - ETA: 5s - loss: 0.3551 - accuracy: 0.84 - ETA: 5s - loss: 0.3550 - accuracy: 0.84 - ETA: 5s - loss: 0.3547 - accuracy: 0.84 - ETA: 5s - loss: 0.3542 - accuracy: 0.84 - ETA: 5s - loss: 0.3536 - accuracy: 0.84 - ETA: 5s - loss: 0.3531 - accuracy: 0.85 - ETA: 5s - loss: 0.3549 - accuracy: 0.84 - ETA: 5s - loss: 0.3540 - accuracy: 0.84 - ETA: 5s - loss: 0.3537 - accuracy: 0.85 - ETA: 5s - loss: 0.3530 - accuracy: 0.85 - ETA: 5s - loss: 0.3532 - accuracy: 0.84 - ETA: 5s - loss: 0.3529 - accuracy: 0.85 - ETA: 5s - loss: 0.3531 - accuracy: 0.84 - ETA: 5s - loss: 0.3527 - accuracy: 0.85 - ETA: 5s - loss: 0.3527 - accuracy: 0.85 - ETA: 5s - loss: 0.3527 - accuracy: 0.84 - ETA: 5s - loss: 0.3525 - accuracy: 0.84 - ETA: 5s - loss: 0.3520 - accuracy: 0.85 - ETA: 5s - loss: 0.3521 - accuracy: 0.85 - ETA: 5s - loss: 0.3516 - accuracy: 0.85 - ETA: 5s - loss: 0.3512 - accuracy: 0.85 - ETA: 5s - loss: 0.3506 - accuracy: 0.85 - ETA: 5s - loss: 0.3503 - accuracy: 0.85 - ETA: 5s - loss: 0.3509 - accuracy: 0.85 - ETA: 5s - loss: 0.3514 - accuracy: 0.85 - ETA: 5s - loss: 0.3515 - accuracy: 0.85 - ETA: 5s - loss: 0.3512 - accuracy: 0.85 - ETA: 5s - loss: 0.3510 - accuracy: 0.85 - ETA: 5s - loss: 0.3507 - accuracy: 0.85 - ETA: 5s - loss: 0.3505 - accuracy: 0.85 - ETA: 5s - loss: 0.3503 - accuracy: 0.85 - ETA: 5s - loss: 0.3500 - accuracy: 0.85 - ETA: 5s - loss: 0.3499 - accuracy: 0.85 - ETA: 5s - loss: 0.3496 - accuracy: 0.85 - ETA: 5s - loss: 0.3496 - accuracy: 0.85 - ETA: 5s - loss: 0.3493 - accuracy: 0.85 - ETA: 5s - loss: 0.3492 - accuracy: 0.85 - ETA: 5s - loss: 0.3490 - accuracy: 0.85 - ETA: 5s - loss: 0.3484 - accuracy: 0.85 - ETA: 5s - loss: 0.3481 - accuracy: 0.85 - ETA: 5s - loss: 0.3478 - accuracy: 0.85 - ETA: 5s - loss: 0.3484 - accuracy: 0.85 - ETA: 5s - loss: 0.3482 - accuracy: 0.85 - ETA: 5s - loss: 0.3477 - accuracy: 0.85 - ETA: 5s - loss: 0.3469 - accuracy: 0.85 - ETA: 5s - loss: 0.3469 - accuracy: 0.85 - ETA: 4s - loss: 0.3459 - accuracy: 0.85 - ETA: 4s - loss: 0.3450 - accuracy: 0.85 - ETA: 4s - loss: 0.3440 - accuracy: 0.85 - ETA: 4s - loss: 0.3434 - accuracy: 0.85 - ETA: 4s - loss: 0.3427 - accuracy: 0.85 - ETA: 4s - loss: 0.3438 - accuracy: 0.85 - ETA: 4s - loss: 0.3432 - accuracy: 0.85 - ETA: 4s - loss: 0.3423 - accuracy: 0.85 - ETA: 4s - loss: 0.3429 - accuracy: 0.85 - ETA: 4s - loss: 0.3426 - accuracy: 0.85 - ETA: 4s - loss: 0.3427 - accuracy: 0.85 - ETA: 4s - loss: 0.3443 - accuracy: 0.85 - ETA: 4s - loss: 0.3441 - accuracy: 0.85 - ETA: 4s - loss: 0.3435 - accuracy: 0.85 - ETA: 4s - loss: 0.3426 - accuracy: 0.85 - ETA: 4s - loss: 0.3428 - accuracy: 0.85 - ETA: 4s - loss: 0.3420 - accuracy: 0.85 - ETA: 4s - loss: 0.3418 - accuracy: 0.85 - ETA: 4s - loss: 0.3417 - accuracy: 0.85 - ETA: 4s - loss: 0.3415 - accuracy: 0.85 - ETA: 4s - loss: 0.3416 - accuracy: 0.85 - ETA: 4s - loss: 0.3414 - accuracy: 0.85 - ETA: 4s - loss: 0.3411 - accuracy: 0.85 - ETA: 4s - loss: 0.3413 - accuracy: 0.85 - ETA: 4s - loss: 0.3413 - accuracy: 0.85 - ETA: 4s - loss: 0.3411 - accuracy: 0.85 - ETA: 4s - loss: 0.3409 - accuracy: 0.85 - ETA: 4s - loss: 0.3406 - accuracy: 0.85 - ETA: 4s - loss: 0.3402 - accuracy: 0.85 - ETA: 4s - loss: 0.3398 - accuracy: 0.85 - ETA: 4s - loss: 0.3393 - accuracy: 0.85 - ETA: 4s - loss: 0.3388 - accuracy: 0.85 - ETA: 4s - loss: 0.3384 - accuracy: 0.85 - ETA: 4s - loss: 0.3382 - accuracy: 0.85 - ETA: 4s - loss: 0.3380 - accuracy: 0.85 - ETA: 4s - loss: 0.3379 - accuracy: 0.85 - ETA: 4s - loss: 0.3380 - accuracy: 0.85 - ETA: 4s - loss: 0.3379 - accuracy: 0.85 - ETA: 4s - loss: 0.3376 - accuracy: 0.85 - ETA: 4s - loss: 0.3378 - accuracy: 0.85 - ETA: 4s - loss: 0.3376 - accuracy: 0.85 - ETA: 4s - loss: 0.3374 - accuracy: 0.85 - ETA: 4s - loss: 0.3369 - accuracy: 0.85 - ETA: 3s - loss: 0.3366 - accuracy: 0.85 - ETA: 3s - loss: 0.3359 - accuracy: 0.85 - ETA: 3s - loss: 0.3364 - accuracy: 0.85 - ETA: 3s - loss: 0.3365 - accuracy: 0.85 - ETA: 3s - loss: 0.3365 - accuracy: 0.85 - ETA: 3s - loss: 0.3359 - accuracy: 0.85 - ETA: 3s - loss: 0.3356 - accuracy: 0.85 - ETA: 3s - loss: 0.3353 - accuracy: 0.85 - ETA: 3s - loss: 0.3346 - accuracy: 0.85 - ETA: 3s - loss: 0.3342 - accuracy: 0.85 - ETA: 3s - loss: 0.3348 - accuracy: 0.85 - ETA: 3s - loss: 0.3343 - accuracy: 0.85 - ETA: 3s - loss: 0.3341 - accuracy: 0.85 - ETA: 3s - loss: 0.3338 - accuracy: 0.85 - ETA: 3s - loss: 0.3341 - accuracy: 0.85 - ETA: 3s - loss: 0.3346 - accuracy: 0.85 - ETA: 3s - loss: 0.3340 - accuracy: 0.85 - ETA: 3s - loss: 0.3339 - accuracy: 0.85 - ETA: 3s - loss: 0.3337 - accuracy: 0.85 - ETA: 3s - loss: 0.3335 - accuracy: 0.85 - ETA: 3s - loss: 0.3332 - accuracy: 0.85 - ETA: 3s - loss: 0.3332 - accuracy: 0.85 - ETA: 3s - loss: 0.3324 - accuracy: 0.85 - ETA: 3s - loss: 0.3324 - accuracy: 0.85 - ETA: 3s - loss: 0.3321 - accuracy: 0.85 - ETA: 3s - loss: 0.3315 - accuracy: 0.85 - ETA: 3s - loss: 0.3306 - accuracy: 0.85 - ETA: 3s - loss: 0.3299 - accuracy: 0.85 - ETA: 3s - loss: 0.3301 - accuracy: 0.85 - ETA: 2s - loss: 0.3291 - accuracy: 0.86 - ETA: 2s - loss: 0.3284 - accuracy: 0.86 - ETA: 2s - loss: 0.3292 - accuracy: 0.86 - ETA: 2s - loss: 0.3280 - accuracy: 0.86 - ETA: 2s - loss: 0.3274 - accuracy: 0.86 - ETA: 2s - loss: 0.3264 - accuracy: 0.86 - ETA: 2s - loss: 0.3270 - accuracy: 0.86 - ETA: 2s - loss: 0.3263 - accuracy: 0.86 - ETA: 2s - loss: 0.3257 - accuracy: 0.86 - ETA: 2s - loss: 0.3256 - accuracy: 0.86 - ETA: 2s - loss: 0.3252 - accuracy: 0.86 - ETA: 2s - loss: 0.3247 - accuracy: 0.86 - ETA: 2s - loss: 0.3242 - accuracy: 0.86 - ETA: 1s - loss: 0.3239 - accuracy: 0.86 - ETA: 1s - loss: 0.3243 - accuracy: 0.86 - ETA: 1s - loss: 0.3238 - accuracy: 0.86 - ETA: 1s - loss: 0.3233 - accuracy: 0.86 - ETA: 1s - loss: 0.3223 - accuracy: 0.86 - ETA: 1s - loss: 0.3217 - accuracy: 0.86 - ETA: 1s - loss: 0.3223 - accuracy: 0.86 - ETA: 1s - loss: 0.3233 - accuracy: 0.86 - ETA: 1s - loss: 0.3225 - accuracy: 0.86 - ETA: 1s - loss: 0.3222 - accuracy: 0.86 - ETA: 1s - loss: 0.3217 - accuracy: 0.86 - ETA: 1s - loss: 0.3212 - accuracy: 0.86 - ETA: 1s - loss: 0.3208 - accuracy: 0.86 - ETA: 1s - loss: 0.3204 - accuracy: 0.86 - ETA: 0s - loss: 0.3204 - accuracy: 0.86 - ETA: 0s - loss: 0.3199 - accuracy: 0.86 - ETA: 0s - loss: 0.3194 - accuracy: 0.86 - ETA: 0s - loss: 0.3198 - accuracy: 0.86 - ETA: 0s - loss: 0.3191 - accuracy: 0.86 - ETA: 0s - loss: 0.3188 - accuracy: 0.86 - ETA: 0s - loss: 0.3180 - accuracy: 0.86 - ETA: 0s - loss: 0.3189 - accuracy: 0.86 - ETA: 0s - loss: 0.3193 - accuracy: 0.86 - ETA: 0s - loss: 0.3191 - accuracy: 0.86 - ETA: 0s - loss: 0.3185 - accuracy: 0.86 - ETA: 0s - loss: 0.3183 - accuracy: 0.86 - ETA: 0s - loss: 0.3186 - accuracy: 0.86 - ETA: 0s - loss: 0.3187 - accuracy: 0.86 - ETA: 0s - loss: 0.3183 - accuracy: 0.86 - 25s 15ms/step - loss: 0.3183 - accuracy: 0.8672 - val_loss: 3.6103 - val_accuracy: 0.5063\n",
      "Epoch 2/20\n"
     ]
    },
    {
     "name": "stdout",
     "output_type": "stream",
     "text": [
      "1600/1600 [==============================] - ETA: 0s - loss: 0.1636 - accuracy: 1.00 - ETA: 8s - loss: 0.2233 - accuracy: 0.95 - ETA: 9s - loss: 0.2613 - accuracy: 0.91 - ETA: 9s - loss: 0.2845 - accuracy: 0.91 - ETA: 10s - loss: 0.2973 - accuracy: 0.893 - ETA: 10s - loss: 0.3142 - accuracy: 0.896 - ETA: 10s - loss: 0.3020 - accuracy: 0.898 - ETA: 10s - loss: 0.2857 - accuracy: 0.901 - ETA: 10s - loss: 0.2672 - accuracy: 0.912 - ETA: 10s - loss: 0.2614 - accuracy: 0.915 - ETA: 10s - loss: 0.2694 - accuracy: 0.910 - ETA: 10s - loss: 0.2823 - accuracy: 0.905 - ETA: 10s - loss: 0.2693 - accuracy: 0.907 - ETA: 10s - loss: 0.2540 - accuracy: 0.912 - ETA: 10s - loss: 0.2615 - accuracy: 0.912 - ETA: 10s - loss: 0.2800 - accuracy: 0.900 - ETA: 10s - loss: 0.2860 - accuracy: 0.899 - ETA: 10s - loss: 0.2799 - accuracy: 0.897 - ETA: 10s - loss: 0.2733 - accuracy: 0.901 - ETA: 10s - loss: 0.2715 - accuracy: 0.902 - ETA: 10s - loss: 0.2702 - accuracy: 0.901 - ETA: 10s - loss: 0.2718 - accuracy: 0.900 - ETA: 10s - loss: 0.2713 - accuracy: 0.900 - ETA: 10s - loss: 0.2728 - accuracy: 0.897 - ETA: 10s - loss: 0.2705 - accuracy: 0.900 - ETA: 10s - loss: 0.2674 - accuracy: 0.900 - ETA: 10s - loss: 0.2718 - accuracy: 0.894 - ETA: 10s - loss: 0.2672 - accuracy: 0.894 - ETA: 10s - loss: 0.2761 - accuracy: 0.891 - ETA: 9s - loss: 0.2752 - accuracy: 0.891 - ETA: 9s - loss: 0.2793 - accuracy: 0.88 - ETA: 9s - loss: 0.2774 - accuracy: 0.88 - ETA: 9s - loss: 0.2743 - accuracy: 0.88 - ETA: 9s - loss: 0.2781 - accuracy: 0.88 - ETA: 9s - loss: 0.2706 - accuracy: 0.88 - ETA: 9s - loss: 0.2673 - accuracy: 0.89 - ETA: 9s - loss: 0.2652 - accuracy: 0.89 - ETA: 9s - loss: 0.2698 - accuracy: 0.89 - ETA: 9s - loss: 0.2796 - accuracy: 0.88 - ETA: 9s - loss: 0.2790 - accuracy: 0.88 - ETA: 8s - loss: 0.2801 - accuracy: 0.88 - ETA: 8s - loss: 0.2774 - accuracy: 0.88 - ETA: 8s - loss: 0.2776 - accuracy: 0.88 - ETA: 8s - loss: 0.2838 - accuracy: 0.88 - ETA: 8s - loss: 0.2855 - accuracy: 0.88 - ETA: 8s - loss: 0.2832 - accuracy: 0.88 - ETA: 8s - loss: 0.2800 - accuracy: 0.88 - ETA: 8s - loss: 0.2749 - accuracy: 0.88 - ETA: 8s - loss: 0.2787 - accuracy: 0.88 - ETA: 8s - loss: 0.2743 - accuracy: 0.88 - ETA: 8s - loss: 0.2720 - accuracy: 0.88 - ETA: 7s - loss: 0.2766 - accuracy: 0.88 - ETA: 7s - loss: 0.2796 - accuracy: 0.88 - ETA: 7s - loss: 0.2845 - accuracy: 0.88 - ETA: 7s - loss: 0.2830 - accuracy: 0.88 - ETA: 7s - loss: 0.2853 - accuracy: 0.88 - ETA: 7s - loss: 0.2837 - accuracy: 0.88 - ETA: 7s - loss: 0.2854 - accuracy: 0.87 - ETA: 7s - loss: 0.2896 - accuracy: 0.87 - ETA: 7s - loss: 0.2887 - accuracy: 0.87 - ETA: 7s - loss: 0.2877 - accuracy: 0.87 - ETA: 7s - loss: 0.2860 - accuracy: 0.87 - ETA: 7s - loss: 0.2900 - accuracy: 0.87 - ETA: 7s - loss: 0.2887 - accuracy: 0.87 - ETA: 6s - loss: 0.2864 - accuracy: 0.87 - ETA: 6s - loss: 0.2829 - accuracy: 0.87 - ETA: 6s - loss: 0.2830 - accuracy: 0.87 - ETA: 6s - loss: 0.2833 - accuracy: 0.87 - ETA: 6s - loss: 0.2845 - accuracy: 0.87 - ETA: 6s - loss: 0.2838 - accuracy: 0.88 - ETA: 6s - loss: 0.2834 - accuracy: 0.87 - ETA: 6s - loss: 0.2818 - accuracy: 0.87 - ETA: 6s - loss: 0.2788 - accuracy: 0.88 - ETA: 6s - loss: 0.2771 - accuracy: 0.88 - ETA: 6s - loss: 0.2787 - accuracy: 0.88 - ETA: 6s - loss: 0.2775 - accuracy: 0.88 - ETA: 6s - loss: 0.2772 - accuracy: 0.88 - ETA: 6s - loss: 0.2756 - accuracy: 0.88 - ETA: 6s - loss: 0.2747 - accuracy: 0.88 - ETA: 6s - loss: 0.2737 - accuracy: 0.88 - ETA: 6s - loss: 0.2709 - accuracy: 0.88 - ETA: 6s - loss: 0.2697 - accuracy: 0.88 - ETA: 6s - loss: 0.2699 - accuracy: 0.88 - ETA: 5s - loss: 0.2680 - accuracy: 0.88 - ETA: 5s - loss: 0.2695 - accuracy: 0.88 - ETA: 5s - loss: 0.2708 - accuracy: 0.88 - ETA: 5s - loss: 0.2697 - accuracy: 0.88 - ETA: 5s - loss: 0.2692 - accuracy: 0.88 - ETA: 5s - loss: 0.2693 - accuracy: 0.88 - ETA: 5s - loss: 0.2730 - accuracy: 0.88 - ETA: 5s - loss: 0.2730 - accuracy: 0.88 - ETA: 5s - loss: 0.2709 - accuracy: 0.88 - ETA: 5s - loss: 0.2712 - accuracy: 0.88 - ETA: 5s - loss: 0.2735 - accuracy: 0.88 - ETA: 5s - loss: 0.2732 - accuracy: 0.88 - ETA: 5s - loss: 0.2740 - accuracy: 0.88 - ETA: 5s - loss: 0.2752 - accuracy: 0.88 - ETA: 5s - loss: 0.2743 - accuracy: 0.88 - ETA: 5s - loss: 0.2721 - accuracy: 0.88 - ETA: 5s - loss: 0.2709 - accuracy: 0.88 - ETA: 4s - loss: 0.2705 - accuracy: 0.88 - ETA: 4s - loss: 0.2690 - accuracy: 0.88 - ETA: 4s - loss: 0.2678 - accuracy: 0.88 - ETA: 4s - loss: 0.2678 - accuracy: 0.88 - ETA: 4s - loss: 0.2696 - accuracy: 0.88 - ETA: 4s - loss: 0.2686 - accuracy: 0.88 - ETA: 4s - loss: 0.2664 - accuracy: 0.88 - ETA: 4s - loss: 0.2675 - accuracy: 0.88 - ETA: 4s - loss: 0.2667 - accuracy: 0.88 - ETA: 4s - loss: 0.2680 - accuracy: 0.88 - ETA: 4s - loss: 0.2676 - accuracy: 0.88 - ETA: 4s - loss: 0.2682 - accuracy: 0.88 - ETA: 4s - loss: 0.2672 - accuracy: 0.88 - ETA: 4s - loss: 0.2659 - accuracy: 0.88 - ETA: 4s - loss: 0.2652 - accuracy: 0.88 - ETA: 4s - loss: 0.2642 - accuracy: 0.88 - ETA: 3s - loss: 0.2643 - accuracy: 0.88 - ETA: 3s - loss: 0.2661 - accuracy: 0.88 - ETA: 3s - loss: 0.2653 - accuracy: 0.88 - ETA: 3s - loss: 0.2640 - accuracy: 0.88 - ETA: 3s - loss: 0.2656 - accuracy: 0.88 - ETA: 3s - loss: 0.2661 - accuracy: 0.88 - ETA: 3s - loss: 0.2669 - accuracy: 0.88 - ETA: 3s - loss: 0.2674 - accuracy: 0.88 - ETA: 3s - loss: 0.2678 - accuracy: 0.88 - ETA: 3s - loss: 0.2683 - accuracy: 0.88 - ETA: 3s - loss: 0.2670 - accuracy: 0.88 - ETA: 3s - loss: 0.2666 - accuracy: 0.88 - ETA: 3s - loss: 0.2657 - accuracy: 0.88 - ETA: 3s - loss: 0.2646 - accuracy: 0.88 - ETA: 3s - loss: 0.2642 - accuracy: 0.88 - ETA: 3s - loss: 0.2640 - accuracy: 0.89 - ETA: 3s - loss: 0.2637 - accuracy: 0.89 - ETA: 2s - loss: 0.2630 - accuracy: 0.89 - ETA: 2s - loss: 0.2617 - accuracy: 0.89 - ETA: 2s - loss: 0.2630 - accuracy: 0.89 - ETA: 2s - loss: 0.2644 - accuracy: 0.89 - ETA: 2s - loss: 0.2651 - accuracy: 0.88 - ETA: 2s - loss: 0.2642 - accuracy: 0.89 - ETA: 2s - loss: 0.2661 - accuracy: 0.88 - ETA: 2s - loss: 0.2663 - accuracy: 0.88 - ETA: 2s - loss: 0.2674 - accuracy: 0.88 - ETA: 2s - loss: 0.2674 - accuracy: 0.88 - ETA: 2s - loss: 0.2667 - accuracy: 0.88 - ETA: 2s - loss: 0.2675 - accuracy: 0.88 - ETA: 2s - loss: 0.2670 - accuracy: 0.88 - ETA: 2s - loss: 0.2656 - accuracy: 0.89 - ETA: 2s - loss: 0.2649 - accuracy: 0.89 - ETA: 2s - loss: 0.2650 - accuracy: 0.89 - ETA: 2s - loss: 0.2642 - accuracy: 0.89 - ETA: 1s - loss: 0.2637 - accuracy: 0.89 - ETA: 1s - loss: 0.2640 - accuracy: 0.89 - ETA: 1s - loss: 0.2629 - accuracy: 0.89 - ETA: 1s - loss: 0.2621 - accuracy: 0.89 - ETA: 1s - loss: 0.2628 - accuracy: 0.89 - ETA: 1s - loss: 0.2630 - accuracy: 0.89 - ETA: 1s - loss: 0.2621 - accuracy: 0.89 - ETA: 1s - loss: 0.2617 - accuracy: 0.89 - ETA: 1s - loss: 0.2615 - accuracy: 0.89 - ETA: 1s - loss: 0.2609 - accuracy: 0.89 - ETA: 1s - loss: 0.2610 - accuracy: 0.89 - ETA: 1s - loss: 0.2613 - accuracy: 0.89 - ETA: 1s - loss: 0.2615 - accuracy: 0.89 - ETA: 1s - loss: 0.2616 - accuracy: 0.89 - ETA: 1s - loss: 0.2612 - accuracy: 0.89 - ETA: 1s - loss: 0.2600 - accuracy: 0.89 - ETA: 1s - loss: 0.2608 - accuracy: 0.89 - ETA: 0s - loss: 0.2600 - accuracy: 0.89 - ETA: 0s - loss: 0.2612 - accuracy: 0.89 - ETA: 0s - loss: 0.2615 - accuracy: 0.89 - ETA: 0s - loss: 0.2619 - accuracy: 0.89 - ETA: 0s - loss: 0.2615 - accuracy: 0.89 - ETA: 0s - loss: 0.2607 - accuracy: 0.89 - ETA: 0s - loss: 0.2609 - accuracy: 0.89 - ETA: 0s - loss: 0.2635 - accuracy: 0.89 - ETA: 0s - loss: 0.2627 - accuracy: 0.89 - ETA: 0s - loss: 0.2630 - accuracy: 0.89 - ETA: 0s - loss: 0.2646 - accuracy: 0.89 - ETA: 0s - loss: 0.2637 - accuracy: 0.89 - ETA: 0s - loss: 0.2627 - accuracy: 0.89 - ETA: 0s - loss: 0.2642 - accuracy: 0.89 - ETA: 0s - loss: 0.2647 - accuracy: 0.89 - ETA: 0s - loss: 0.2655 - accuracy: 0.89 - ETA: 0s - loss: 0.2664 - accuracy: 0.89 - 11s 7ms/step - loss: 0.2671 - accuracy: 0.8897 - val_loss: 0.0970 - val_accuracy: 0.9744\n",
      "Epoch 3/20\n"
     ]
    },
    {
     "name": "stdout",
     "output_type": "stream",
     "text": [
      "1600/1600 [==============================] - ETA: 0s - loss: 0.1165 - accuracy: 1.00 - ETA: 7s - loss: 0.2640 - accuracy: 0.90 - ETA: 8s - loss: 0.2187 - accuracy: 0.93 - ETA: 8s - loss: 0.2205 - accuracy: 0.91 - ETA: 8s - loss: 0.2533 - accuracy: 0.88 - ETA: 8s - loss: 0.2553 - accuracy: 0.88 - ETA: 8s - loss: 0.2764 - accuracy: 0.87 - ETA: 8s - loss: 0.2992 - accuracy: 0.86 - ETA: 8s - loss: 0.2888 - accuracy: 0.86 - ETA: 8s - loss: 0.2799 - accuracy: 0.87 - ETA: 8s - loss: 0.3111 - accuracy: 0.86 - ETA: 8s - loss: 0.3015 - accuracy: 0.87 - ETA: 8s - loss: 0.2943 - accuracy: 0.87 - ETA: 8s - loss: 0.2906 - accuracy: 0.87 - ETA: 8s - loss: 0.2777 - accuracy: 0.88 - ETA: 8s - loss: 0.2709 - accuracy: 0.89 - ETA: 8s - loss: 0.2707 - accuracy: 0.88 - ETA: 8s - loss: 0.2693 - accuracy: 0.88 - ETA: 8s - loss: 0.2597 - accuracy: 0.89 - ETA: 8s - loss: 0.2537 - accuracy: 0.89 - ETA: 8s - loss: 0.2620 - accuracy: 0.89 - ETA: 7s - loss: 0.2572 - accuracy: 0.89 - ETA: 7s - loss: 0.2543 - accuracy: 0.90 - ETA: 7s - loss: 0.2483 - accuracy: 0.90 - ETA: 7s - loss: 0.2433 - accuracy: 0.90 - ETA: 7s - loss: 0.2345 - accuracy: 0.91 - ETA: 7s - loss: 0.2325 - accuracy: 0.90 - ETA: 7s - loss: 0.2336 - accuracy: 0.90 - ETA: 7s - loss: 0.2346 - accuracy: 0.90 - ETA: 7s - loss: 0.2297 - accuracy: 0.91 - ETA: 7s - loss: 0.2267 - accuracy: 0.91 - ETA: 7s - loss: 0.2240 - accuracy: 0.91 - ETA: 7s - loss: 0.2301 - accuracy: 0.90 - ETA: 7s - loss: 0.2278 - accuracy: 0.91 - ETA: 7s - loss: 0.2235 - accuracy: 0.91 - ETA: 7s - loss: 0.2249 - accuracy: 0.91 - ETA: 7s - loss: 0.2323 - accuracy: 0.91 - ETA: 7s - loss: 0.2315 - accuracy: 0.91 - ETA: 7s - loss: 0.2269 - accuracy: 0.91 - ETA: 6s - loss: 0.2255 - accuracy: 0.91 - ETA: 6s - loss: 0.2222 - accuracy: 0.91 - ETA: 6s - loss: 0.2212 - accuracy: 0.91 - ETA: 6s - loss: 0.2238 - accuracy: 0.91 - ETA: 6s - loss: 0.2301 - accuracy: 0.91 - ETA: 6s - loss: 0.2300 - accuracy: 0.91 - ETA: 6s - loss: 0.2317 - accuracy: 0.90 - ETA: 6s - loss: 0.2293 - accuracy: 0.91 - ETA: 6s - loss: 0.2269 - accuracy: 0.91 - ETA: 6s - loss: 0.2239 - accuracy: 0.91 - ETA: 6s - loss: 0.2270 - accuracy: 0.91 - ETA: 6s - loss: 0.2272 - accuracy: 0.91 - ETA: 6s - loss: 0.2288 - accuracy: 0.90 - ETA: 6s - loss: 0.2299 - accuracy: 0.90 - ETA: 6s - loss: 0.2319 - accuracy: 0.90 - ETA: 6s - loss: 0.2324 - accuracy: 0.90 - ETA: 6s - loss: 0.2333 - accuracy: 0.90 - ETA: 6s - loss: 0.2363 - accuracy: 0.90 - ETA: 6s - loss: 0.2344 - accuracy: 0.90 - ETA: 6s - loss: 0.2317 - accuracy: 0.90 - ETA: 5s - loss: 0.2304 - accuracy: 0.91 - ETA: 5s - loss: 0.2309 - accuracy: 0.90 - ETA: 5s - loss: 0.2278 - accuracy: 0.91 - ETA: 5s - loss: 0.2258 - accuracy: 0.91 - ETA: 5s - loss: 0.2249 - accuracy: 0.91 - ETA: 5s - loss: 0.2279 - accuracy: 0.90 - ETA: 5s - loss: 0.2263 - accuracy: 0.90 - ETA: 5s - loss: 0.2286 - accuracy: 0.90 - ETA: 5s - loss: 0.2295 - accuracy: 0.90 - ETA: 5s - loss: 0.2334 - accuracy: 0.90 - ETA: 5s - loss: 0.2309 - accuracy: 0.90 - ETA: 5s - loss: 0.2317 - accuracy: 0.90 - ETA: 5s - loss: 0.2322 - accuracy: 0.90 - ETA: 5s - loss: 0.2307 - accuracy: 0.90 - ETA: 5s - loss: 0.2285 - accuracy: 0.90 - ETA: 5s - loss: 0.2262 - accuracy: 0.90 - ETA: 5s - loss: 0.2262 - accuracy: 0.90 - ETA: 5s - loss: 0.2250 - accuracy: 0.91 - ETA: 5s - loss: 0.2242 - accuracy: 0.91 - ETA: 5s - loss: 0.2249 - accuracy: 0.91 - ETA: 5s - loss: 0.2231 - accuracy: 0.91 - ETA: 4s - loss: 0.2238 - accuracy: 0.91 - ETA: 4s - loss: 0.2234 - accuracy: 0.91 - ETA: 4s - loss: 0.2225 - accuracy: 0.91 - ETA: 4s - loss: 0.2212 - accuracy: 0.91 - ETA: 4s - loss: 0.2206 - accuracy: 0.91 - ETA: 4s - loss: 0.2200 - accuracy: 0.91 - ETA: 4s - loss: 0.2202 - accuracy: 0.91 - ETA: 4s - loss: 0.2213 - accuracy: 0.91 - ETA: 4s - loss: 0.2225 - accuracy: 0.91 - ETA: 4s - loss: 0.2207 - accuracy: 0.91 - ETA: 4s - loss: 0.2201 - accuracy: 0.91 - ETA: 4s - loss: 0.2193 - accuracy: 0.91 - ETA: 4s - loss: 0.2197 - accuracy: 0.91 - ETA: 4s - loss: 0.2190 - accuracy: 0.91 - ETA: 4s - loss: 0.2194 - accuracy: 0.91 - ETA: 4s - loss: 0.2190 - accuracy: 0.91 - ETA: 4s - loss: 0.2186 - accuracy: 0.91 - ETA: 4s - loss: 0.2194 - accuracy: 0.91 - ETA: 4s - loss: 0.2185 - accuracy: 0.91 - ETA: 3s - loss: 0.2186 - accuracy: 0.91 - ETA: 3s - loss: 0.2168 - accuracy: 0.91 - ETA: 3s - loss: 0.2167 - accuracy: 0.91 - ETA: 3s - loss: 0.2151 - accuracy: 0.91 - ETA: 3s - loss: 0.2139 - accuracy: 0.91 - ETA: 3s - loss: 0.2141 - accuracy: 0.91 - ETA: 3s - loss: 0.2146 - accuracy: 0.91 - ETA: 3s - loss: 0.2147 - accuracy: 0.91 - ETA: 3s - loss: 0.2148 - accuracy: 0.91 - ETA: 3s - loss: 0.2133 - accuracy: 0.91 - ETA: 3s - loss: 0.2142 - accuracy: 0.91 - ETA: 3s - loss: 0.2139 - accuracy: 0.91 - ETA: 3s - loss: 0.2140 - accuracy: 0.91 - ETA: 3s - loss: 0.2145 - accuracy: 0.91 - ETA: 3s - loss: 0.2142 - accuracy: 0.91 - ETA: 3s - loss: 0.2139 - accuracy: 0.91 - ETA: 3s - loss: 0.2146 - accuracy: 0.91 - ETA: 3s - loss: 0.2132 - accuracy: 0.91 - ETA: 2s - loss: 0.2129 - accuracy: 0.91 - ETA: 2s - loss: 0.2115 - accuracy: 0.91 - ETA: 2s - loss: 0.2111 - accuracy: 0.91 - ETA: 2s - loss: 0.2105 - accuracy: 0.91 - ETA: 2s - loss: 0.2100 - accuracy: 0.91 - ETA: 2s - loss: 0.2088 - accuracy: 0.91 - ETA: 2s - loss: 0.2099 - accuracy: 0.91 - ETA: 2s - loss: 0.2096 - accuracy: 0.91 - ETA: 2s - loss: 0.2088 - accuracy: 0.91 - ETA: 2s - loss: 0.2108 - accuracy: 0.91 - ETA: 2s - loss: 0.2099 - accuracy: 0.91 - ETA: 2s - loss: 0.2093 - accuracy: 0.91 - ETA: 2s - loss: 0.2080 - accuracy: 0.91 - ETA: 2s - loss: 0.2084 - accuracy: 0.91 - ETA: 2s - loss: 0.2073 - accuracy: 0.91 - ETA: 2s - loss: 0.2084 - accuracy: 0.91 - ETA: 2s - loss: 0.2085 - accuracy: 0.91 - ETA: 2s - loss: 0.2091 - accuracy: 0.91 - ETA: 2s - loss: 0.2082 - accuracy: 0.91 - ETA: 1s - loss: 0.2075 - accuracy: 0.91 - ETA: 1s - loss: 0.2065 - accuracy: 0.91 - ETA: 1s - loss: 0.2061 - accuracy: 0.91 - ETA: 1s - loss: 0.2056 - accuracy: 0.91 - ETA: 1s - loss: 0.2053 - accuracy: 0.91 - ETA: 1s - loss: 0.2048 - accuracy: 0.91 - ETA: 1s - loss: 0.2046 - accuracy: 0.91 - ETA: 1s - loss: 0.2043 - accuracy: 0.91 - ETA: 1s - loss: 0.2031 - accuracy: 0.91 - ETA: 1s - loss: 0.2039 - accuracy: 0.91 - ETA: 1s - loss: 0.2054 - accuracy: 0.91 - ETA: 1s - loss: 0.2065 - accuracy: 0.91 - ETA: 1s - loss: 0.2067 - accuracy: 0.91 - ETA: 1s - loss: 0.2059 - accuracy: 0.91 - ETA: 1s - loss: 0.2049 - accuracy: 0.91 - ETA: 1s - loss: 0.2037 - accuracy: 0.91 - ETA: 1s - loss: 0.2041 - accuracy: 0.91 - ETA: 1s - loss: 0.2042 - accuracy: 0.91 - ETA: 0s - loss: 0.2042 - accuracy: 0.91 - ETA: 0s - loss: 0.2035 - accuracy: 0.91 - ETA: 0s - loss: 0.2026 - accuracy: 0.92 - ETA: 0s - loss: 0.2023 - accuracy: 0.92 - ETA: 0s - loss: 0.2025 - accuracy: 0.91 - ETA: 0s - loss: 0.2018 - accuracy: 0.92 - ETA: 0s - loss: 0.2027 - accuracy: 0.91 - ETA: 0s - loss: 0.2023 - accuracy: 0.91 - ETA: 0s - loss: 0.2011 - accuracy: 0.92 - ETA: 0s - loss: 0.2018 - accuracy: 0.91 - ETA: 0s - loss: 0.2013 - accuracy: 0.92 - ETA: 0s - loss: 0.2008 - accuracy: 0.92 - ETA: 0s - loss: 0.2012 - accuracy: 0.92 - ETA: 0s - loss: 0.2004 - accuracy: 0.92 - ETA: 0s - loss: 0.1996 - accuracy: 0.92 - ETA: 0s - loss: 0.2007 - accuracy: 0.92 - ETA: 0s - loss: 0.1999 - accuracy: 0.92 - ETA: 0s - loss: 0.1993 - accuracy: 0.92 - ETA: 0s - loss: 0.1988 - accuracy: 0.92 - 10s 6ms/step - loss: 0.1981 - accuracy: 0.9216 - val_loss: 0.0473 - val_accuracy: 0.9931\n",
      "Epoch 4/20\n"
     ]
    },
    {
     "name": "stdout",
     "output_type": "stream",
     "text": [
      "1600/1600 [==============================] - ETA: 0s - loss: 0.0078 - accuracy: 1.00 - ETA: 8s - loss: 0.2947 - accuracy: 0.85 - ETA: 9s - loss: 0.2459 - accuracy: 0.86 - ETA: 9s - loss: 0.1921 - accuracy: 0.90 - ETA: 9s - loss: 0.2182 - accuracy: 0.89 - ETA: 9s - loss: 0.2252 - accuracy: 0.90 - ETA: 9s - loss: 0.2092 - accuracy: 0.91 - ETA: 9s - loss: 0.2420 - accuracy: 0.90 - ETA: 9s - loss: 0.2493 - accuracy: 0.89 - ETA: 9s - loss: 0.2470 - accuracy: 0.89 - ETA: 9s - loss: 0.2561 - accuracy: 0.89 - ETA: 9s - loss: 0.2464 - accuracy: 0.89 - ETA: 9s - loss: 0.2323 - accuracy: 0.90 - ETA: 9s - loss: 0.2303 - accuracy: 0.90 - ETA: 9s - loss: 0.2166 - accuracy: 0.90 - ETA: 9s - loss: 0.2082 - accuracy: 0.91 - ETA: 9s - loss: 0.1986 - accuracy: 0.91 - ETA: 9s - loss: 0.1890 - accuracy: 0.92 - ETA: 9s - loss: 0.1961 - accuracy: 0.91 - ETA: 9s - loss: 0.2004 - accuracy: 0.91 - ETA: 9s - loss: 0.1980 - accuracy: 0.91 - ETA: 8s - loss: 0.1990 - accuracy: 0.91 - ETA: 8s - loss: 0.1972 - accuracy: 0.91 - ETA: 8s - loss: 0.2010 - accuracy: 0.91 - ETA: 8s - loss: 0.2031 - accuracy: 0.91 - ETA: 8s - loss: 0.2000 - accuracy: 0.91 - ETA: 8s - loss: 0.2034 - accuracy: 0.91 - ETA: 8s - loss: 0.2014 - accuracy: 0.91 - ETA: 8s - loss: 0.1957 - accuracy: 0.91 - ETA: 8s - loss: 0.1922 - accuracy: 0.91 - ETA: 8s - loss: 0.1919 - accuracy: 0.91 - ETA: 8s - loss: 0.1951 - accuracy: 0.91 - ETA: 8s - loss: 0.2003 - accuracy: 0.91 - ETA: 8s - loss: 0.2011 - accuracy: 0.91 - ETA: 7s - loss: 0.2072 - accuracy: 0.90 - ETA: 7s - loss: 0.2104 - accuracy: 0.90 - ETA: 7s - loss: 0.2075 - accuracy: 0.90 - ETA: 7s - loss: 0.2058 - accuracy: 0.90 - ETA: 7s - loss: 0.2053 - accuracy: 0.90 - ETA: 7s - loss: 0.2041 - accuracy: 0.90 - ETA: 7s - loss: 0.2010 - accuracy: 0.90 - ETA: 7s - loss: 0.2050 - accuracy: 0.90 - ETA: 7s - loss: 0.2055 - accuracy: 0.90 - ETA: 7s - loss: 0.2069 - accuracy: 0.90 - ETA: 7s - loss: 0.2037 - accuracy: 0.91 - ETA: 7s - loss: 0.2029 - accuracy: 0.91 - ETA: 7s - loss: 0.1994 - accuracy: 0.91 - ETA: 6s - loss: 0.1995 - accuracy: 0.91 - ETA: 6s - loss: 0.1978 - accuracy: 0.91 - ETA: 6s - loss: 0.1999 - accuracy: 0.91 - ETA: 6s - loss: 0.1997 - accuracy: 0.91 - ETA: 6s - loss: 0.2010 - accuracy: 0.91 - ETA: 6s - loss: 0.1998 - accuracy: 0.91 - ETA: 6s - loss: 0.2035 - accuracy: 0.91 - ETA: 6s - loss: 0.2048 - accuracy: 0.91 - ETA: 6s - loss: 0.2070 - accuracy: 0.91 - ETA: 6s - loss: 0.2112 - accuracy: 0.90 - ETA: 6s - loss: 0.2089 - accuracy: 0.91 - ETA: 6s - loss: 0.2113 - accuracy: 0.90 - ETA: 6s - loss: 0.2130 - accuracy: 0.90 - ETA: 6s - loss: 0.2120 - accuracy: 0.90 - ETA: 6s - loss: 0.2113 - accuracy: 0.90 - ETA: 5s - loss: 0.2085 - accuracy: 0.91 - ETA: 5s - loss: 0.2087 - accuracy: 0.91 - ETA: 5s - loss: 0.2079 - accuracy: 0.91 - ETA: 5s - loss: 0.2075 - accuracy: 0.91 - ETA: 5s - loss: 0.2097 - accuracy: 0.91 - ETA: 5s - loss: 0.2093 - accuracy: 0.91 - ETA: 5s - loss: 0.2090 - accuracy: 0.91 - ETA: 5s - loss: 0.2091 - accuracy: 0.91 - ETA: 5s - loss: 0.2082 - accuracy: 0.91 - ETA: 5s - loss: 0.2103 - accuracy: 0.90 - ETA: 5s - loss: 0.2080 - accuracy: 0.91 - ETA: 5s - loss: 0.2078 - accuracy: 0.91 - ETA: 5s - loss: 0.2076 - accuracy: 0.91 - ETA: 5s - loss: 0.2060 - accuracy: 0.91 - ETA: 5s - loss: 0.2046 - accuracy: 0.91 - ETA: 5s - loss: 0.2024 - accuracy: 0.91 - ETA: 5s - loss: 0.2001 - accuracy: 0.91 - ETA: 4s - loss: 0.1984 - accuracy: 0.91 - ETA: 4s - loss: 0.1982 - accuracy: 0.91 - ETA: 4s - loss: 0.1964 - accuracy: 0.91 - ETA: 4s - loss: 0.1979 - accuracy: 0.91 - ETA: 4s - loss: 0.1962 - accuracy: 0.91 - ETA: 4s - loss: 0.1969 - accuracy: 0.91 - ETA: 4s - loss: 0.1951 - accuracy: 0.91 - ETA: 4s - loss: 0.1949 - accuracy: 0.91 - ETA: 4s - loss: 0.1933 - accuracy: 0.91 - ETA: 4s - loss: 0.1922 - accuracy: 0.91 - ETA: 4s - loss: 0.1923 - accuracy: 0.91 - ETA: 4s - loss: 0.1906 - accuracy: 0.92 - ETA: 4s - loss: 0.1899 - accuracy: 0.91 - ETA: 4s - loss: 0.1921 - accuracy: 0.91 - ETA: 4s - loss: 0.1913 - accuracy: 0.91 - ETA: 4s - loss: 0.1931 - accuracy: 0.91 - ETA: 4s - loss: 0.1914 - accuracy: 0.91 - ETA: 4s - loss: 0.1912 - accuracy: 0.92 - ETA: 3s - loss: 0.1896 - accuracy: 0.92 - ETA: 3s - loss: 0.1881 - accuracy: 0.92 - ETA: 3s - loss: 0.1875 - accuracy: 0.92 - ETA: 3s - loss: 0.1883 - accuracy: 0.92 - ETA: 3s - loss: 0.1892 - accuracy: 0.92 - ETA: 3s - loss: 0.1875 - accuracy: 0.92 - ETA: 3s - loss: 0.1871 - accuracy: 0.92 - ETA: 3s - loss: 0.1857 - accuracy: 0.92 - ETA: 3s - loss: 0.1861 - accuracy: 0.92 - ETA: 3s - loss: 0.1857 - accuracy: 0.92 - ETA: 3s - loss: 0.1863 - accuracy: 0.92 - ETA: 3s - loss: 0.1861 - accuracy: 0.92 - ETA: 3s - loss: 0.1875 - accuracy: 0.92 - ETA: 3s - loss: 0.1875 - accuracy: 0.92 - ETA: 3s - loss: 0.1903 - accuracy: 0.92 - ETA: 3s - loss: 0.1893 - accuracy: 0.92 - ETA: 3s - loss: 0.1902 - accuracy: 0.92 - ETA: 3s - loss: 0.1893 - accuracy: 0.92 - ETA: 2s - loss: 0.1890 - accuracy: 0.92 - ETA: 2s - loss: 0.1879 - accuracy: 0.92 - ETA: 2s - loss: 0.1896 - accuracy: 0.92 - ETA: 2s - loss: 0.1894 - accuracy: 0.92 - ETA: 2s - loss: 0.1897 - accuracy: 0.92 - ETA: 2s - loss: 0.1892 - accuracy: 0.92 - ETA: 2s - loss: 0.1897 - accuracy: 0.92 - ETA: 2s - loss: 0.1885 - accuracy: 0.92 - ETA: 2s - loss: 0.1882 - accuracy: 0.92 - ETA: 2s - loss: 0.1886 - accuracy: 0.92 - ETA: 2s - loss: 0.1904 - accuracy: 0.92 - ETA: 2s - loss: 0.1915 - accuracy: 0.92 - ETA: 2s - loss: 0.1907 - accuracy: 0.92 - ETA: 2s - loss: 0.1900 - accuracy: 0.92 - ETA: 2s - loss: 0.1903 - accuracy: 0.92 - ETA: 2s - loss: 0.1898 - accuracy: 0.92 - ETA: 2s - loss: 0.1903 - accuracy: 0.92 - ETA: 2s - loss: 0.1898 - accuracy: 0.92 - ETA: 2s - loss: 0.1896 - accuracy: 0.92 - ETA: 2s - loss: 0.1907 - accuracy: 0.92 - ETA: 2s - loss: 0.1906 - accuracy: 0.92 - ETA: 1s - loss: 0.1895 - accuracy: 0.92 - ETA: 1s - loss: 0.1885 - accuracy: 0.92 - ETA: 1s - loss: 0.1875 - accuracy: 0.92 - ETA: 1s - loss: 0.1873 - accuracy: 0.92 - ETA: 1s - loss: 0.1869 - accuracy: 0.92 - ETA: 1s - loss: 0.1886 - accuracy: 0.92 - ETA: 1s - loss: 0.1875 - accuracy: 0.92 - ETA: 1s - loss: 0.1880 - accuracy: 0.92 - ETA: 1s - loss: 0.1882 - accuracy: 0.92 - ETA: 1s - loss: 0.1882 - accuracy: 0.92 - ETA: 1s - loss: 0.1881 - accuracy: 0.92 - ETA: 1s - loss: 0.1890 - accuracy: 0.92 - ETA: 1s - loss: 0.1886 - accuracy: 0.92 - ETA: 1s - loss: 0.1884 - accuracy: 0.92 - ETA: 1s - loss: 0.1875 - accuracy: 0.92 - ETA: 1s - loss: 0.1870 - accuracy: 0.92 - ETA: 1s - loss: 0.1867 - accuracy: 0.92 - ETA: 1s - loss: 0.1857 - accuracy: 0.92 - ETA: 0s - loss: 0.1861 - accuracy: 0.92 - ETA: 0s - loss: 0.1856 - accuracy: 0.92 - ETA: 0s - loss: 0.1852 - accuracy: 0.92 - ETA: 0s - loss: 0.1853 - accuracy: 0.92 - ETA: 0s - loss: 0.1843 - accuracy: 0.92 - ETA: 0s - loss: 0.1839 - accuracy: 0.92 - ETA: 0s - loss: 0.1834 - accuracy: 0.92 - ETA: 0s - loss: 0.1829 - accuracy: 0.92 - ETA: 0s - loss: 0.1827 - accuracy: 0.92 - ETA: 0s - loss: 0.1828 - accuracy: 0.92 - ETA: 0s - loss: 0.1833 - accuracy: 0.92 - ETA: 0s - loss: 0.1826 - accuracy: 0.92 - ETA: 0s - loss: 0.1842 - accuracy: 0.92 - ETA: 0s - loss: 0.1837 - accuracy: 0.92 - ETA: 0s - loss: 0.1842 - accuracy: 0.92 - ETA: 0s - loss: 0.1842 - accuracy: 0.92 - ETA: 0s - loss: 0.1843 - accuracy: 0.92 - ETA: 0s - loss: 0.1840 - accuracy: 0.92 - ETA: 0s - loss: 0.1851 - accuracy: 0.92 - 10s 6ms/step - loss: 0.1848 - accuracy: 0.9216 - val_loss: 0.0446 - val_accuracy: 0.9862\n",
      "Epoch 5/20\n"
     ]
    },
    {
     "name": "stdout",
     "output_type": "stream",
     "text": [
      "1482/1600 [==========================>...] - ETA: 1s - loss: 0.0894 - accuracy: 1.00 - ETA: 7s - loss: 0.1709 - accuracy: 0.93 - ETA: 8s - loss: 0.2032 - accuracy: 0.92 - ETA: 8s - loss: 0.1963 - accuracy: 0.90 - ETA: 8s - loss: 0.2006 - accuracy: 0.91 - ETA: 8s - loss: 0.1814 - accuracy: 0.92 - ETA: 8s - loss: 0.2279 - accuracy: 0.91 - ETA: 8s - loss: 0.2266 - accuracy: 0.91 - ETA: 8s - loss: 0.2147 - accuracy: 0.91 - ETA: 8s - loss: 0.2153 - accuracy: 0.92 - ETA: 8s - loss: 0.2219 - accuracy: 0.91 - ETA: 8s - loss: 0.2133 - accuracy: 0.91 - ETA: 8s - loss: 0.2057 - accuracy: 0.91 - ETA: 8s - loss: 0.1978 - accuracy: 0.92 - ETA: 8s - loss: 0.1912 - accuracy: 0.92 - ETA: 8s - loss: 0.1945 - accuracy: 0.92 - ETA: 8s - loss: 0.1875 - accuracy: 0.92 - ETA: 8s - loss: 0.1824 - accuracy: 0.92 - ETA: 8s - loss: 0.1849 - accuracy: 0.92 - ETA: 7s - loss: 0.1797 - accuracy: 0.92 - ETA: 7s - loss: 0.1788 - accuracy: 0.92 - ETA: 7s - loss: 0.1818 - accuracy: 0.92 - ETA: 7s - loss: 0.1844 - accuracy: 0.92 - ETA: 7s - loss: 0.1834 - accuracy: 0.92 - ETA: 7s - loss: 0.1830 - accuracy: 0.92 - ETA: 7s - loss: 0.1787 - accuracy: 0.92 - ETA: 7s - loss: 0.1781 - accuracy: 0.92 - ETA: 7s - loss: 0.1825 - accuracy: 0.92 - ETA: 7s - loss: 0.1844 - accuracy: 0.92 - ETA: 7s - loss: 0.1859 - accuracy: 0.92 - ETA: 7s - loss: 0.1837 - accuracy: 0.92 - ETA: 7s - loss: 0.1846 - accuracy: 0.92 - ETA: 7s - loss: 0.1908 - accuracy: 0.91 - ETA: 7s - loss: 0.1900 - accuracy: 0.91 - ETA: 7s - loss: 0.1862 - accuracy: 0.92 - ETA: 7s - loss: 0.1822 - accuracy: 0.92 - ETA: 6s - loss: 0.1855 - accuracy: 0.92 - ETA: 6s - loss: 0.1844 - accuracy: 0.92 - ETA: 6s - loss: 0.1836 - accuracy: 0.92 - ETA: 6s - loss: 0.1802 - accuracy: 0.92 - ETA: 6s - loss: 0.1813 - accuracy: 0.92 - ETA: 6s - loss: 0.1776 - accuracy: 0.92 - ETA: 6s - loss: 0.1740 - accuracy: 0.92 - ETA: 6s - loss: 0.1758 - accuracy: 0.92 - ETA: 6s - loss: 0.1721 - accuracy: 0.92 - ETA: 6s - loss: 0.1705 - accuracy: 0.92 - ETA: 6s - loss: 0.1725 - accuracy: 0.92 - ETA: 6s - loss: 0.1722 - accuracy: 0.92 - ETA: 6s - loss: 0.1710 - accuracy: 0.92 - ETA: 6s - loss: 0.1751 - accuracy: 0.92 - ETA: 6s - loss: 0.1768 - accuracy: 0.92 - ETA: 6s - loss: 0.1754 - accuracy: 0.92 - ETA: 6s - loss: 0.1731 - accuracy: 0.92 - ETA: 6s - loss: 0.1702 - accuracy: 0.92 - ETA: 6s - loss: 0.1737 - accuracy: 0.92 - ETA: 5s - loss: 0.1738 - accuracy: 0.92 - ETA: 5s - loss: 0.1710 - accuracy: 0.92 - ETA: 5s - loss: 0.1687 - accuracy: 0.92 - ETA: 5s - loss: 0.1694 - accuracy: 0.92 - ETA: 5s - loss: 0.1682 - accuracy: 0.92 - ETA: 5s - loss: 0.1677 - accuracy: 0.92 - ETA: 5s - loss: 0.1654 - accuracy: 0.92 - ETA: 5s - loss: 0.1650 - accuracy: 0.92 - ETA: 5s - loss: 0.1645 - accuracy: 0.92 - ETA: 5s - loss: 0.1637 - accuracy: 0.92 - ETA: 5s - loss: 0.1637 - accuracy: 0.92 - ETA: 5s - loss: 0.1632 - accuracy: 0.92 - ETA: 5s - loss: 0.1639 - accuracy: 0.92 - ETA: 5s - loss: 0.1622 - accuracy: 0.92 - ETA: 5s - loss: 0.1615 - accuracy: 0.92 - ETA: 5s - loss: 0.1608 - accuracy: 0.93 - ETA: 5s - loss: 0.1617 - accuracy: 0.92 - ETA: 5s - loss: 0.1605 - accuracy: 0.93 - ETA: 5s - loss: 0.1603 - accuracy: 0.93 - ETA: 4s - loss: 0.1624 - accuracy: 0.92 - ETA: 4s - loss: 0.1632 - accuracy: 0.92 - ETA: 4s - loss: 0.1618 - accuracy: 0.92 - ETA: 4s - loss: 0.1613 - accuracy: 0.92 - ETA: 4s - loss: 0.1648 - accuracy: 0.92 - ETA: 4s - loss: 0.1658 - accuracy: 0.92 - ETA: 4s - loss: 0.1661 - accuracy: 0.92 - ETA: 4s - loss: 0.1676 - accuracy: 0.92 - ETA: 4s - loss: 0.1678 - accuracy: 0.92 - ETA: 4s - loss: 0.1687 - accuracy: 0.92 - ETA: 4s - loss: 0.1705 - accuracy: 0.92 - ETA: 4s - loss: 0.1709 - accuracy: 0.92 - ETA: 4s - loss: 0.1701 - accuracy: 0.92 - ETA: 4s - loss: 0.1700 - accuracy: 0.92 - ETA: 4s - loss: 0.1697 - accuracy: 0.92 - ETA: 4s - loss: 0.1707 - accuracy: 0.92 - ETA: 4s - loss: 0.1710 - accuracy: 0.92 - ETA: 4s - loss: 0.1706 - accuracy: 0.92 - ETA: 4s - loss: 0.1708 - accuracy: 0.92 - ETA: 4s - loss: 0.1711 - accuracy: 0.92 - ETA: 4s - loss: 0.1707 - accuracy: 0.92 - ETA: 4s - loss: 0.1711 - accuracy: 0.92 - ETA: 4s - loss: 0.1712 - accuracy: 0.92 - ETA: 4s - loss: 0.1704 - accuracy: 0.92 - ETA: 4s - loss: 0.1694 - accuracy: 0.92 - ETA: 4s - loss: 0.1701 - accuracy: 0.92 - ETA: 4s - loss: 0.1695 - accuracy: 0.92 - ETA: 4s - loss: 0.1689 - accuracy: 0.92 - ETA: 4s - loss: 0.1682 - accuracy: 0.92 - ETA: 4s - loss: 0.1673 - accuracy: 0.92 - ETA: 4s - loss: 0.1679 - accuracy: 0.92 - ETA: 4s - loss: 0.1669 - accuracy: 0.92 - ETA: 3s - loss: 0.1656 - accuracy: 0.92 - ETA: 3s - loss: 0.1671 - accuracy: 0.92 - ETA: 3s - loss: 0.1656 - accuracy: 0.92 - ETA: 3s - loss: 0.1652 - accuracy: 0.92 - ETA: 3s - loss: 0.1641 - accuracy: 0.92 - ETA: 3s - loss: 0.1650 - accuracy: 0.92 - ETA: 3s - loss: 0.1650 - accuracy: 0.92 - ETA: 3s - loss: 0.1642 - accuracy: 0.92 - ETA: 3s - loss: 0.1642 - accuracy: 0.92 - ETA: 3s - loss: 0.1632 - accuracy: 0.92 - ETA: 3s - loss: 0.1639 - accuracy: 0.92 - ETA: 3s - loss: 0.1638 - accuracy: 0.92 - ETA: 3s - loss: 0.1642 - accuracy: 0.92 - ETA: 3s - loss: 0.1638 - accuracy: 0.92 - ETA: 3s - loss: 0.1635 - accuracy: 0.92 - ETA: 3s - loss: 0.1637 - accuracy: 0.92 - ETA: 3s - loss: 0.1639 - accuracy: 0.92 - ETA: 3s - loss: 0.1654 - accuracy: 0.92 - ETA: 3s - loss: 0.1657 - accuracy: 0.92 - ETA: 3s - loss: 0.1655 - accuracy: 0.92 - ETA: 3s - loss: 0.1653 - accuracy: 0.92 - ETA: 3s - loss: 0.1657 - accuracy: 0.92 - ETA: 3s - loss: 0.1653 - accuracy: 0.92 - ETA: 3s - loss: 0.1649 - accuracy: 0.92 - ETA: 3s - loss: 0.1660 - accuracy: 0.92 - ETA: 3s - loss: 0.1658 - accuracy: 0.92 - ETA: 3s - loss: 0.1666 - accuracy: 0.92 - ETA: 3s - loss: 0.1674 - accuracy: 0.92 - ETA: 3s - loss: 0.1671 - accuracy: 0.92 - ETA: 3s - loss: 0.1664 - accuracy: 0.92 - ETA: 3s - loss: 0.1689 - accuracy: 0.92 - ETA: 3s - loss: 0.1683 - accuracy: 0.92 - ETA: 3s - loss: 0.1683 - accuracy: 0.92 - ETA: 3s - loss: 0.1680 - accuracy: 0.92 - ETA: 3s - loss: 0.1675 - accuracy: 0.92 - ETA: 3s - loss: 0.1681 - accuracy: 0.92 - ETA: 3s - loss: 0.1678 - accuracy: 0.92 - ETA: 3s - loss: 0.1675 - accuracy: 0.92 - ETA: 3s - loss: 0.1674 - accuracy: 0.92 - ETA: 3s - loss: 0.1674 - accuracy: 0.92 - ETA: 3s - loss: 0.1683 - accuracy: 0.92 - ETA: 2s - loss: 0.1685 - accuracy: 0.92 - ETA: 2s - loss: 0.1681 - accuracy: 0.92 - ETA: 2s - loss: 0.1681 - accuracy: 0.92 - ETA: 2s - loss: 0.1681 - accuracy: 0.92 - ETA: 2s - loss: 0.1684 - accuracy: 0.92 - ETA: 2s - loss: 0.1682 - accuracy: 0.92 - ETA: 2s - loss: 0.1676 - accuracy: 0.92 - ETA: 2s - loss: 0.1676 - accuracy: 0.92 - ETA: 2s - loss: 0.1689 - accuracy: 0.92 - ETA: 2s - loss: 0.1690 - accuracy: 0.92 - ETA: 2s - loss: 0.1693 - accuracy: 0.92 - ETA: 2s - loss: 0.1690 - accuracy: 0.92 - ETA: 2s - loss: 0.1684 - accuracy: 0.92 - ETA: 2s - loss: 0.1677 - accuracy: 0.92 - ETA: 2s - loss: 0.1677 - accuracy: 0.92 - ETA: 2s - loss: 0.1672 - accuracy: 0.92 - ETA: 2s - loss: 0.1663 - accuracy: 0.92 - ETA: 2s - loss: 0.1669 - accuracy: 0.92 - ETA: 2s - loss: 0.1667 - accuracy: 0.92 - ETA: 2s - loss: 0.1662 - accuracy: 0.92 - ETA: 2s - loss: 0.1662 - accuracy: 0.92 - ETA: 2s - loss: 0.1659 - accuracy: 0.92 - ETA: 2s - loss: 0.1664 - accuracy: 0.92 - ETA: 2s - loss: 0.1662 - accuracy: 0.92 - ETA: 1s - loss: 0.1673 - accuracy: 0.92 - ETA: 1s - loss: 0.1671 - accuracy: 0.92 - ETA: 1s - loss: 0.1670 - accuracy: 0.92 - ETA: 1s - loss: 0.1666 - accuracy: 0.92 - ETA: 1s - loss: 0.1666 - accuracy: 0.92 - ETA: 1s - loss: 0.1661 - accuracy: 0.92 - ETA: 1s - loss: 0.1663 - accuracy: 0.92 - ETA: 1s - loss: 0.1664 - accuracy: 0.92 - ETA: 1s - loss: 0.1662 - accuracy: 0.92 - ETA: 1s - loss: 0.1659 - accuracy: 0.92 - ETA: 1s - loss: 0.1673 - accuracy: 0.92 - ETA: 1s - loss: 0.1673 - accuracy: 0.92 - ETA: 1s - loss: 0.1666 - accuracy: 0.92 - ETA: 1s - loss: 0.1665 - accuracy: 0.92 - ETA: 1s - loss: 0.1673 - accuracy: 0.92 - ETA: 1s - loss: 0.1678 - accuracy: 0.92 - ETA: 1s - loss: 0.1686 - accuracy: 0.92 - ETA: 1s - loss: 0.1680 - accuracy: 0.92 - ETA: 1s - loss: 0.1671 - accuracy: 0.92 - ETA: 1s - loss: 0.1676 - accuracy: 0.92 - ETA: 0s - loss: 0.1686 - accuracy: 0.92 - ETA: 0s - loss: 0.1680 - accuracy: 0.92 - ETA: 0s - loss: 0.1676 - accuracy: 0.92 - ETA: 0s - loss: 0.1674 - accuracy: 0.9278"
     ]
    },
    {
     "name": "stdout",
     "output_type": "stream",
     "text": [
      "1600/1600 [==============================] - ETA: 0s - loss: 0.1671 - accuracy: 0.92 - ETA: 0s - loss: 0.1672 - accuracy: 0.92 - ETA: 0s - loss: 0.1669 - accuracy: 0.92 - ETA: 0s - loss: 0.1675 - accuracy: 0.92 - ETA: 0s - loss: 0.1667 - accuracy: 0.92 - ETA: 0s - loss: 0.1661 - accuracy: 0.92 - ETA: 0s - loss: 0.1665 - accuracy: 0.92 - ETA: 0s - loss: 0.1664 - accuracy: 0.92 - ETA: 0s - loss: 0.1658 - accuracy: 0.92 - ETA: 0s - loss: 0.1655 - accuracy: 0.92 - ETA: 0s - loss: 0.1664 - accuracy: 0.92 - ETA: 0s - loss: 0.1662 - accuracy: 0.92 - ETA: 0s - loss: 0.1665 - accuracy: 0.92 - ETA: 0s - loss: 0.1665 - accuracy: 0.92 - 13s 8ms/step - loss: 0.1659 - accuracy: 0.9281 - val_loss: 0.0195 - val_accuracy: 0.9950\n",
      "Epoch 6/20\n"
     ]
    },
    {
     "name": "stdout",
     "output_type": "stream",
     "text": [
      "1519/1600 [===========================>..] - ETA: 0s - loss: 1.3209e-04 - accuracy: 1.00 - ETA: 8s - loss: 0.1902 - accuracy: 0.8750   - ETA: 9s - loss: 0.1569 - accuracy: 0.91 - ETA: 9s - loss: 0.1378 - accuracy: 0.93 - ETA: 9s - loss: 0.1143 - accuracy: 0.95 - ETA: 9s - loss: 0.1845 - accuracy: 0.89 - ETA: 10s - loss: 0.1945 - accuracy: 0.887 - ETA: 10s - loss: 0.1751 - accuracy: 0.900 - ETA: 10s - loss: 0.1725 - accuracy: 0.907 - ETA: 10s - loss: 0.1591 - accuracy: 0.914 - ETA: 10s - loss: 0.1663 - accuracy: 0.903 - ETA: 10s - loss: 0.1562 - accuracy: 0.909 - ETA: 10s - loss: 0.1534 - accuracy: 0.908 - ETA: 10s - loss: 0.1502 - accuracy: 0.910 - ETA: 10s - loss: 0.1679 - accuracy: 0.901 - ETA: 10s - loss: 0.1588 - accuracy: 0.908 - ETA: 10s - loss: 0.1515 - accuracy: 0.913 - ETA: 10s - loss: 0.1574 - accuracy: 0.910 - ETA: 10s - loss: 0.1570 - accuracy: 0.913 - ETA: 10s - loss: 0.1516 - accuracy: 0.917 - ETA: 10s - loss: 0.1500 - accuracy: 0.918 - ETA: 9s - loss: 0.1490 - accuracy: 0.916 - ETA: 9s - loss: 0.1440 - accuracy: 0.92 - ETA: 9s - loss: 0.1391 - accuracy: 0.92 - ETA: 9s - loss: 0.1357 - accuracy: 0.92 - ETA: 9s - loss: 0.1309 - accuracy: 0.92 - ETA: 9s - loss: 0.1291 - accuracy: 0.93 - ETA: 9s - loss: 0.1300 - accuracy: 0.92 - ETA: 9s - loss: 0.1308 - accuracy: 0.92 - ETA: 9s - loss: 0.1271 - accuracy: 0.93 - ETA: 9s - loss: 0.1240 - accuracy: 0.93 - ETA: 9s - loss: 0.1247 - accuracy: 0.93 - ETA: 9s - loss: 0.1230 - accuracy: 0.93 - ETA: 9s - loss: 0.1212 - accuracy: 0.93 - ETA: 9s - loss: 0.1175 - accuracy: 0.93 - ETA: 8s - loss: 0.1177 - accuracy: 0.94 - ETA: 8s - loss: 0.1155 - accuracy: 0.94 - ETA: 8s - loss: 0.1155 - accuracy: 0.94 - ETA: 8s - loss: 0.1205 - accuracy: 0.93 - ETA: 8s - loss: 0.1213 - accuracy: 0.93 - ETA: 8s - loss: 0.1282 - accuracy: 0.93 - ETA: 8s - loss: 0.1295 - accuracy: 0.93 - ETA: 8s - loss: 0.1331 - accuracy: 0.93 - ETA: 8s - loss: 0.1334 - accuracy: 0.93 - ETA: 8s - loss: 0.1337 - accuracy: 0.93 - ETA: 8s - loss: 0.1368 - accuracy: 0.93 - ETA: 8s - loss: 0.1343 - accuracy: 0.93 - ETA: 8s - loss: 0.1394 - accuracy: 0.93 - ETA: 8s - loss: 0.1394 - accuracy: 0.93 - ETA: 8s - loss: 0.1400 - accuracy: 0.93 - ETA: 8s - loss: 0.1393 - accuracy: 0.93 - ETA: 8s - loss: 0.1382 - accuracy: 0.93 - ETA: 7s - loss: 0.1382 - accuracy: 0.93 - ETA: 7s - loss: 0.1361 - accuracy: 0.93 - ETA: 7s - loss: 0.1346 - accuracy: 0.93 - ETA: 7s - loss: 0.1344 - accuracy: 0.93 - ETA: 7s - loss: 0.1328 - accuracy: 0.93 - ETA: 7s - loss: 0.1312 - accuracy: 0.93 - ETA: 7s - loss: 0.1310 - accuracy: 0.93 - ETA: 7s - loss: 0.1331 - accuracy: 0.93 - ETA: 7s - loss: 0.1352 - accuracy: 0.93 - ETA: 7s - loss: 0.1335 - accuracy: 0.93 - ETA: 7s - loss: 0.1314 - accuracy: 0.93 - ETA: 7s - loss: 0.1314 - accuracy: 0.93 - ETA: 7s - loss: 0.1301 - accuracy: 0.93 - ETA: 7s - loss: 0.1295 - accuracy: 0.93 - ETA: 7s - loss: 0.1309 - accuracy: 0.93 - ETA: 7s - loss: 0.1328 - accuracy: 0.93 - ETA: 7s - loss: 0.1327 - accuracy: 0.93 - ETA: 7s - loss: 0.1315 - accuracy: 0.93 - ETA: 7s - loss: 0.1303 - accuracy: 0.93 - ETA: 7s - loss: 0.1292 - accuracy: 0.94 - ETA: 7s - loss: 0.1298 - accuracy: 0.93 - ETA: 7s - loss: 0.1279 - accuracy: 0.94 - ETA: 6s - loss: 0.1281 - accuracy: 0.94 - ETA: 6s - loss: 0.1268 - accuracy: 0.94 - ETA: 6s - loss: 0.1268 - accuracy: 0.94 - ETA: 6s - loss: 0.1251 - accuracy: 0.94 - ETA: 6s - loss: 0.1251 - accuracy: 0.94 - ETA: 6s - loss: 0.1237 - accuracy: 0.94 - ETA: 6s - loss: 0.1260 - accuracy: 0.94 - ETA: 6s - loss: 0.1280 - accuracy: 0.94 - ETA: 6s - loss: 0.1339 - accuracy: 0.93 - ETA: 6s - loss: 0.1340 - accuracy: 0.93 - ETA: 6s - loss: 0.1362 - accuracy: 0.93 - ETA: 6s - loss: 0.1353 - accuracy: 0.93 - ETA: 6s - loss: 0.1355 - accuracy: 0.93 - ETA: 6s - loss: 0.1362 - accuracy: 0.93 - ETA: 6s - loss: 0.1379 - accuracy: 0.93 - ETA: 6s - loss: 0.1388 - accuracy: 0.93 - ETA: 6s - loss: 0.1400 - accuracy: 0.93 - ETA: 5s - loss: 0.1397 - accuracy: 0.93 - ETA: 5s - loss: 0.1383 - accuracy: 0.93 - ETA: 5s - loss: 0.1382 - accuracy: 0.93 - ETA: 5s - loss: 0.1422 - accuracy: 0.93 - ETA: 5s - loss: 0.1436 - accuracy: 0.93 - ETA: 5s - loss: 0.1423 - accuracy: 0.93 - ETA: 5s - loss: 0.1433 - accuracy: 0.93 - ETA: 5s - loss: 0.1433 - accuracy: 0.93 - ETA: 5s - loss: 0.1435 - accuracy: 0.93 - ETA: 5s - loss: 0.1449 - accuracy: 0.93 - ETA: 5s - loss: 0.1434 - accuracy: 0.93 - ETA: 5s - loss: 0.1434 - accuracy: 0.93 - ETA: 5s - loss: 0.1430 - accuracy: 0.93 - ETA: 5s - loss: 0.1444 - accuracy: 0.93 - ETA: 5s - loss: 0.1447 - accuracy: 0.93 - ETA: 5s - loss: 0.1448 - accuracy: 0.93 - ETA: 5s - loss: 0.1450 - accuracy: 0.93 - ETA: 4s - loss: 0.1459 - accuracy: 0.93 - ETA: 4s - loss: 0.1457 - accuracy: 0.93 - ETA: 4s - loss: 0.1444 - accuracy: 0.93 - ETA: 4s - loss: 0.1431 - accuracy: 0.93 - ETA: 4s - loss: 0.1426 - accuracy: 0.93 - ETA: 4s - loss: 0.1444 - accuracy: 0.93 - ETA: 4s - loss: 0.1455 - accuracy: 0.93 - ETA: 4s - loss: 0.1449 - accuracy: 0.93 - ETA: 4s - loss: 0.1450 - accuracy: 0.93 - ETA: 4s - loss: 0.1454 - accuracy: 0.93 - ETA: 4s - loss: 0.1444 - accuracy: 0.93 - ETA: 4s - loss: 0.1433 - accuracy: 0.93 - ETA: 4s - loss: 0.1433 - accuracy: 0.93 - ETA: 4s - loss: 0.1425 - accuracy: 0.93 - ETA: 4s - loss: 0.1451 - accuracy: 0.93 - ETA: 4s - loss: 0.1462 - accuracy: 0.92 - ETA: 4s - loss: 0.1471 - accuracy: 0.92 - ETA: 4s - loss: 0.1476 - accuracy: 0.92 - ETA: 4s - loss: 0.1482 - accuracy: 0.92 - ETA: 3s - loss: 0.1488 - accuracy: 0.92 - ETA: 3s - loss: 0.1499 - accuracy: 0.92 - ETA: 3s - loss: 0.1496 - accuracy: 0.92 - ETA: 3s - loss: 0.1497 - accuracy: 0.92 - ETA: 3s - loss: 0.1492 - accuracy: 0.92 - ETA: 3s - loss: 0.1498 - accuracy: 0.92 - ETA: 3s - loss: 0.1492 - accuracy: 0.92 - ETA: 3s - loss: 0.1485 - accuracy: 0.92 - ETA: 3s - loss: 0.1497 - accuracy: 0.92 - ETA: 3s - loss: 0.1492 - accuracy: 0.92 - ETA: 3s - loss: 0.1485 - accuracy: 0.92 - ETA: 3s - loss: 0.1483 - accuracy: 0.92 - ETA: 3s - loss: 0.1474 - accuracy: 0.92 - ETA: 3s - loss: 0.1468 - accuracy: 0.92 - ETA: 3s - loss: 0.1478 - accuracy: 0.92 - ETA: 3s - loss: 0.1469 - accuracy: 0.92 - ETA: 3s - loss: 0.1470 - accuracy: 0.92 - ETA: 3s - loss: 0.1464 - accuracy: 0.93 - ETA: 3s - loss: 0.1473 - accuracy: 0.92 - ETA: 3s - loss: 0.1489 - accuracy: 0.92 - ETA: 3s - loss: 0.1484 - accuracy: 0.92 - ETA: 3s - loss: 0.1486 - accuracy: 0.92 - ETA: 3s - loss: 0.1485 - accuracy: 0.92 - ETA: 3s - loss: 0.1492 - accuracy: 0.92 - ETA: 2s - loss: 0.1485 - accuracy: 0.92 - ETA: 2s - loss: 0.1476 - accuracy: 0.92 - ETA: 2s - loss: 0.1467 - accuracy: 0.92 - ETA: 2s - loss: 0.1458 - accuracy: 0.93 - ETA: 2s - loss: 0.1467 - accuracy: 0.92 - ETA: 2s - loss: 0.1459 - accuracy: 0.93 - ETA: 2s - loss: 0.1461 - accuracy: 0.92 - ETA: 2s - loss: 0.1460 - accuracy: 0.92 - ETA: 2s - loss: 0.1473 - accuracy: 0.92 - ETA: 2s - loss: 0.1465 - accuracy: 0.92 - ETA: 2s - loss: 0.1464 - accuracy: 0.92 - ETA: 2s - loss: 0.1466 - accuracy: 0.92 - ETA: 2s - loss: 0.1471 - accuracy: 0.92 - ETA: 2s - loss: 0.1462 - accuracy: 0.93 - ETA: 2s - loss: 0.1459 - accuracy: 0.93 - ETA: 2s - loss: 0.1457 - accuracy: 0.93 - ETA: 2s - loss: 0.1468 - accuracy: 0.93 - ETA: 1s - loss: 0.1472 - accuracy: 0.93 - ETA: 1s - loss: 0.1487 - accuracy: 0.92 - ETA: 1s - loss: 0.1503 - accuracy: 0.92 - ETA: 1s - loss: 0.1498 - accuracy: 0.92 - ETA: 1s - loss: 0.1514 - accuracy: 0.92 - ETA: 1s - loss: 0.1512 - accuracy: 0.92 - ETA: 1s - loss: 0.1511 - accuracy: 0.92 - ETA: 1s - loss: 0.1506 - accuracy: 0.92 - ETA: 1s - loss: 0.1501 - accuracy: 0.92 - ETA: 1s - loss: 0.1508 - accuracy: 0.92 - ETA: 1s - loss: 0.1504 - accuracy: 0.92 - ETA: 1s - loss: 0.1503 - accuracy: 0.92 - ETA: 1s - loss: 0.1510 - accuracy: 0.92 - ETA: 1s - loss: 0.1510 - accuracy: 0.92 - ETA: 1s - loss: 0.1503 - accuracy: 0.92 - ETA: 1s - loss: 0.1502 - accuracy: 0.92 - ETA: 1s - loss: 0.1500 - accuracy: 0.92 - ETA: 0s - loss: 0.1498 - accuracy: 0.92 - ETA: 0s - loss: 0.1499 - accuracy: 0.92 - ETA: 0s - loss: 0.1502 - accuracy: 0.92 - ETA: 0s - loss: 0.1495 - accuracy: 0.92 - ETA: 0s - loss: 0.1506 - accuracy: 0.92 - ETA: 0s - loss: 0.1500 - accuracy: 0.92 - ETA: 0s - loss: 0.1494 - accuracy: 0.92 - ETA: 0s - loss: 0.1497 - accuracy: 0.92 - ETA: 0s - loss: 0.1495 - accuracy: 0.9291"
     ]
    },
    {
     "name": "stdout",
     "output_type": "stream",
     "text": [
      "1600/1600 [==============================] - ETA: 0s - loss: 0.1487 - accuracy: 0.92 - ETA: 0s - loss: 0.1500 - accuracy: 0.92 - ETA: 0s - loss: 0.1501 - accuracy: 0.92 - ETA: 0s - loss: 0.1497 - accuracy: 0.92 - ETA: 0s - loss: 0.1509 - accuracy: 0.92 - ETA: 0s - loss: 0.1504 - accuracy: 0.92 - ETA: 0s - loss: 0.1515 - accuracy: 0.92 - ETA: 0s - loss: 0.1515 - accuracy: 0.92 - ETA: 0s - loss: 0.1508 - accuracy: 0.92 - ETA: 0s - loss: 0.1502 - accuracy: 0.92 - 12s 8ms/step - loss: 0.1499 - accuracy: 0.9287 - val_loss: 0.0158 - val_accuracy: 0.9994\n",
      "Epoch 7/20\n"
     ]
    },
    {
     "name": "stdout",
     "output_type": "stream",
     "text": [
      "1210/1600 [=====================>........] - ETA: 0s - loss: 0.0020 - accuracy: 1.00 - ETA: 8s - loss: 0.0930 - accuracy: 0.92 - ETA: 9s - loss: 0.1169 - accuracy: 0.91 - ETA: 9s - loss: 0.1236 - accuracy: 0.92 - ETA: 9s - loss: 0.1669 - accuracy: 0.90 - ETA: 10s - loss: 0.1884 - accuracy: 0.890 - ETA: 10s - loss: 0.1996 - accuracy: 0.885 - ETA: 12s - loss: 0.1967 - accuracy: 0.887 - ETA: 12s - loss: 0.1966 - accuracy: 0.884 - ETA: 12s - loss: 0.2036 - accuracy: 0.885 - ETA: 12s - loss: 0.2143 - accuracy: 0.878 - ETA: 11s - loss: 0.2063 - accuracy: 0.878 - ETA: 11s - loss: 0.1998 - accuracy: 0.879 - ETA: 11s - loss: 0.1908 - accuracy: 0.887 - ETA: 11s - loss: 0.1815 - accuracy: 0.892 - ETA: 12s - loss: 0.1798 - accuracy: 0.893 - ETA: 12s - loss: 0.1761 - accuracy: 0.895 - ETA: 11s - loss: 0.1742 - accuracy: 0.896 - ETA: 11s - loss: 0.1713 - accuracy: 0.898 - ETA: 11s - loss: 0.1790 - accuracy: 0.897 - ETA: 11s - loss: 0.1765 - accuracy: 0.900 - ETA: 11s - loss: 0.1698 - accuracy: 0.904 - ETA: 11s - loss: 0.1651 - accuracy: 0.908 - ETA: 11s - loss: 0.1725 - accuracy: 0.906 - ETA: 11s - loss: 0.1674 - accuracy: 0.909 - ETA: 11s - loss: 0.1608 - accuracy: 0.913 - ETA: 11s - loss: 0.1633 - accuracy: 0.912 - ETA: 11s - loss: 0.1574 - accuracy: 0.915 - ETA: 11s - loss: 0.1522 - accuracy: 0.918 - ETA: 11s - loss: 0.1515 - accuracy: 0.918 - ETA: 11s - loss: 0.1543 - accuracy: 0.918 - ETA: 11s - loss: 0.1529 - accuracy: 0.919 - ETA: 11s - loss: 0.1536 - accuracy: 0.918 - ETA: 11s - loss: 0.1533 - accuracy: 0.919 - ETA: 11s - loss: 0.1568 - accuracy: 0.916 - ETA: 11s - loss: 0.1580 - accuracy: 0.915 - ETA: 11s - loss: 0.1568 - accuracy: 0.916 - ETA: 11s - loss: 0.1530 - accuracy: 0.918 - ETA: 11s - loss: 0.1554 - accuracy: 0.918 - ETA: 11s - loss: 0.1638 - accuracy: 0.915 - ETA: 10s - loss: 0.1618 - accuracy: 0.916 - ETA: 10s - loss: 0.1631 - accuracy: 0.915 - ETA: 10s - loss: 0.1649 - accuracy: 0.915 - ETA: 10s - loss: 0.1698 - accuracy: 0.913 - ETA: 10s - loss: 0.1674 - accuracy: 0.914 - ETA: 10s - loss: 0.1640 - accuracy: 0.916 - ETA: 10s - loss: 0.1613 - accuracy: 0.917 - ETA: 10s - loss: 0.1639 - accuracy: 0.915 - ETA: 10s - loss: 0.1630 - accuracy: 0.916 - ETA: 10s - loss: 0.1597 - accuracy: 0.917 - ETA: 10s - loss: 0.1638 - accuracy: 0.915 - ETA: 10s - loss: 0.1631 - accuracy: 0.915 - ETA: 10s - loss: 0.1624 - accuracy: 0.915 - ETA: 9s - loss: 0.1617 - accuracy: 0.915 - ETA: 9s - loss: 0.1584 - accuracy: 0.91 - ETA: 9s - loss: 0.1605 - accuracy: 0.91 - ETA: 9s - loss: 0.1612 - accuracy: 0.91 - ETA: 9s - loss: 0.1621 - accuracy: 0.91 - ETA: 9s - loss: 0.1621 - accuracy: 0.91 - ETA: 9s - loss: 0.1614 - accuracy: 0.91 - ETA: 9s - loss: 0.1605 - accuracy: 0.92 - ETA: 9s - loss: 0.1586 - accuracy: 0.92 - ETA: 9s - loss: 0.1588 - accuracy: 0.92 - ETA: 9s - loss: 0.1578 - accuracy: 0.92 - ETA: 9s - loss: 0.1582 - accuracy: 0.92 - ETA: 9s - loss: 0.1573 - accuracy: 0.92 - ETA: 9s - loss: 0.1557 - accuracy: 0.92 - ETA: 9s - loss: 0.1554 - accuracy: 0.92 - ETA: 9s - loss: 0.1548 - accuracy: 0.92 - ETA: 9s - loss: 0.1547 - accuracy: 0.92 - ETA: 9s - loss: 0.1566 - accuracy: 0.92 - ETA: 8s - loss: 0.1551 - accuracy: 0.92 - ETA: 8s - loss: 0.1550 - accuracy: 0.92 - ETA: 8s - loss: 0.1548 - accuracy: 0.92 - ETA: 8s - loss: 0.1582 - accuracy: 0.91 - ETA: 8s - loss: 0.1611 - accuracy: 0.91 - ETA: 8s - loss: 0.1620 - accuracy: 0.91 - ETA: 8s - loss: 0.1604 - accuracy: 0.91 - ETA: 8s - loss: 0.1626 - accuracy: 0.91 - ETA: 8s - loss: 0.1620 - accuracy: 0.91 - ETA: 8s - loss: 0.1616 - accuracy: 0.91 - ETA: 8s - loss: 0.1601 - accuracy: 0.91 - ETA: 8s - loss: 0.1590 - accuracy: 0.91 - ETA: 8s - loss: 0.1578 - accuracy: 0.91 - ETA: 8s - loss: 0.1565 - accuracy: 0.92 - ETA: 8s - loss: 0.1561 - accuracy: 0.92 - ETA: 8s - loss: 0.1573 - accuracy: 0.91 - ETA: 8s - loss: 0.1571 - accuracy: 0.91 - ETA: 8s - loss: 0.1559 - accuracy: 0.92 - ETA: 8s - loss: 0.1586 - accuracy: 0.92 - ETA: 8s - loss: 0.1575 - accuracy: 0.92 - ETA: 8s - loss: 0.1567 - accuracy: 0.92 - ETA: 8s - loss: 0.1564 - accuracy: 0.92 - ETA: 8s - loss: 0.1564 - accuracy: 0.92 - ETA: 8s - loss: 0.1577 - accuracy: 0.92 - ETA: 8s - loss: 0.1587 - accuracy: 0.92 - ETA: 8s - loss: 0.1575 - accuracy: 0.92 - ETA: 8s - loss: 0.1572 - accuracy: 0.92 - ETA: 7s - loss: 0.1568 - accuracy: 0.92 - ETA: 7s - loss: 0.1554 - accuracy: 0.92 - ETA: 7s - loss: 0.1555 - accuracy: 0.92 - ETA: 7s - loss: 0.1552 - accuracy: 0.92 - ETA: 7s - loss: 0.1555 - accuracy: 0.92 - ETA: 7s - loss: 0.1552 - accuracy: 0.92 - ETA: 7s - loss: 0.1544 - accuracy: 0.92 - ETA: 7s - loss: 0.1553 - accuracy: 0.92 - ETA: 7s - loss: 0.1552 - accuracy: 0.92 - ETA: 7s - loss: 0.1559 - accuracy: 0.92 - ETA: 7s - loss: 0.1567 - accuracy: 0.92 - ETA: 7s - loss: 0.1560 - accuracy: 0.92 - ETA: 7s - loss: 0.1552 - accuracy: 0.92 - ETA: 7s - loss: 0.1542 - accuracy: 0.92 - ETA: 7s - loss: 0.1544 - accuracy: 0.92 - ETA: 7s - loss: 0.1533 - accuracy: 0.92 - ETA: 7s - loss: 0.1540 - accuracy: 0.92 - ETA: 7s - loss: 0.1535 - accuracy: 0.92 - ETA: 7s - loss: 0.1528 - accuracy: 0.92 - ETA: 7s - loss: 0.1522 - accuracy: 0.92 - ETA: 6s - loss: 0.1524 - accuracy: 0.92 - ETA: 6s - loss: 0.1532 - accuracy: 0.92 - ETA: 6s - loss: 0.1519 - accuracy: 0.92 - ETA: 6s - loss: 0.1512 - accuracy: 0.92 - ETA: 6s - loss: 0.1518 - accuracy: 0.92 - ETA: 6s - loss: 0.1519 - accuracy: 0.92 - ETA: 6s - loss: 0.1514 - accuracy: 0.92 - ETA: 6s - loss: 0.1516 - accuracy: 0.92 - ETA: 6s - loss: 0.1504 - accuracy: 0.92 - ETA: 6s - loss: 0.1506 - accuracy: 0.92 - ETA: 6s - loss: 0.1505 - accuracy: 0.92 - ETA: 6s - loss: 0.1508 - accuracy: 0.92 - ETA: 6s - loss: 0.1500 - accuracy: 0.92 - ETA: 6s - loss: 0.1516 - accuracy: 0.92 - ETA: 6s - loss: 0.1518 - accuracy: 0.92 - ETA: 6s - loss: 0.1516 - accuracy: 0.92 - ETA: 6s - loss: 0.1509 - accuracy: 0.92 - ETA: 6s - loss: 0.1501 - accuracy: 0.92 - ETA: 6s - loss: 0.1493 - accuracy: 0.92 - ETA: 6s - loss: 0.1498 - accuracy: 0.92 - ETA: 6s - loss: 0.1497 - accuracy: 0.92 - ETA: 6s - loss: 0.1495 - accuracy: 0.92 - ETA: 6s - loss: 0.1487 - accuracy: 0.92 - ETA: 6s - loss: 0.1483 - accuracy: 0.92 - ETA: 6s - loss: 0.1476 - accuracy: 0.92 - ETA: 6s - loss: 0.1469 - accuracy: 0.92 - ETA: 6s - loss: 0.1458 - accuracy: 0.92 - ETA: 6s - loss: 0.1458 - accuracy: 0.92 - ETA: 5s - loss: 0.1465 - accuracy: 0.92 - ETA: 5s - loss: 0.1483 - accuracy: 0.92 - ETA: 5s - loss: 0.1484 - accuracy: 0.92 - ETA: 5s - loss: 0.1482 - accuracy: 0.92 - ETA: 5s - loss: 0.1472 - accuracy: 0.92 - ETA: 5s - loss: 0.1465 - accuracy: 0.92 - ETA: 5s - loss: 0.1456 - accuracy: 0.92 - ETA: 5s - loss: 0.1451 - accuracy: 0.92 - ETA: 5s - loss: 0.1443 - accuracy: 0.92 - ETA: 5s - loss: 0.1458 - accuracy: 0.92 - ETA: 5s - loss: 0.1447 - accuracy: 0.92 - ETA: 5s - loss: 0.1459 - accuracy: 0.92 - ETA: 5s - loss: 0.1461 - accuracy: 0.92 - ETA: 5s - loss: 0.1461 - accuracy: 0.92 - ETA: 5s - loss: 0.1457 - accuracy: 0.92 - ETA: 5s - loss: 0.1446 - accuracy: 0.92 - ETA: 5s - loss: 0.1447 - accuracy: 0.92 - ETA: 4s - loss: 0.1452 - accuracy: 0.92 - ETA: 4s - loss: 0.1445 - accuracy: 0.92 - ETA: 4s - loss: 0.1438 - accuracy: 0.92 - ETA: 4s - loss: 0.1440 - accuracy: 0.92 - ETA: 4s - loss: 0.1454 - accuracy: 0.92 - ETA: 4s - loss: 0.1455 - accuracy: 0.92 - ETA: 4s - loss: 0.1465 - accuracy: 0.92 - ETA: 4s - loss: 0.1461 - accuracy: 0.92 - ETA: 4s - loss: 0.1477 - accuracy: 0.92 - ETA: 4s - loss: 0.1488 - accuracy: 0.92 - ETA: 4s - loss: 0.1485 - accuracy: 0.92 - ETA: 4s - loss: 0.1480 - accuracy: 0.92 - ETA: 4s - loss: 0.1485 - accuracy: 0.92 - ETA: 4s - loss: 0.1482 - accuracy: 0.92 - ETA: 4s - loss: 0.1482 - accuracy: 0.92 - ETA: 4s - loss: 0.1480 - accuracy: 0.92 - ETA: 4s - loss: 0.1477 - accuracy: 0.92 - ETA: 4s - loss: 0.1479 - accuracy: 0.92 - ETA: 4s - loss: 0.1472 - accuracy: 0.92 - ETA: 3s - loss: 0.1463 - accuracy: 0.92 - ETA: 3s - loss: 0.1471 - accuracy: 0.92 - ETA: 3s - loss: 0.1469 - accuracy: 0.92 - ETA: 3s - loss: 0.1473 - accuracy: 0.92 - ETA: 3s - loss: 0.1471 - accuracy: 0.92 - ETA: 3s - loss: 0.1462 - accuracy: 0.92 - ETA: 3s - loss: 0.1460 - accuracy: 0.92 - ETA: 3s - loss: 0.1462 - accuracy: 0.92 - ETA: 3s - loss: 0.1467 - accuracy: 0.92 - ETA: 3s - loss: 0.1466 - accuracy: 0.9244"
     ]
    },
    {
     "name": "stdout",
     "output_type": "stream",
     "text": [
      "1600/1600 [==============================] - ETA: 3s - loss: 0.1471 - accuracy: 0.92 - ETA: 3s - loss: 0.1469 - accuracy: 0.92 - ETA: 3s - loss: 0.1467 - accuracy: 0.92 - ETA: 3s - loss: 0.1464 - accuracy: 0.92 - ETA: 2s - loss: 0.1477 - accuracy: 0.92 - ETA: 2s - loss: 0.1489 - accuracy: 0.92 - ETA: 2s - loss: 0.1500 - accuracy: 0.92 - ETA: 2s - loss: 0.1492 - accuracy: 0.92 - ETA: 2s - loss: 0.1498 - accuracy: 0.92 - ETA: 2s - loss: 0.1491 - accuracy: 0.92 - ETA: 2s - loss: 0.1490 - accuracy: 0.92 - ETA: 2s - loss: 0.1488 - accuracy: 0.92 - ETA: 2s - loss: 0.1502 - accuracy: 0.92 - ETA: 2s - loss: 0.1502 - accuracy: 0.92 - ETA: 2s - loss: 0.1500 - accuracy: 0.92 - ETA: 2s - loss: 0.1494 - accuracy: 0.92 - ETA: 2s - loss: 0.1501 - accuracy: 0.92 - ETA: 2s - loss: 0.1496 - accuracy: 0.92 - ETA: 2s - loss: 0.1490 - accuracy: 0.92 - ETA: 2s - loss: 0.1490 - accuracy: 0.92 - ETA: 2s - loss: 0.1490 - accuracy: 0.92 - ETA: 1s - loss: 0.1495 - accuracy: 0.92 - ETA: 1s - loss: 0.1502 - accuracy: 0.92 - ETA: 1s - loss: 0.1501 - accuracy: 0.92 - ETA: 1s - loss: 0.1504 - accuracy: 0.92 - ETA: 1s - loss: 0.1502 - accuracy: 0.92 - ETA: 1s - loss: 0.1517 - accuracy: 0.92 - ETA: 1s - loss: 0.1510 - accuracy: 0.92 - ETA: 1s - loss: 0.1503 - accuracy: 0.92 - ETA: 1s - loss: 0.1498 - accuracy: 0.92 - ETA: 1s - loss: 0.1497 - accuracy: 0.92 - ETA: 1s - loss: 0.1490 - accuracy: 0.92 - ETA: 1s - loss: 0.1499 - accuracy: 0.92 - ETA: 1s - loss: 0.1492 - accuracy: 0.92 - ETA: 1s - loss: 0.1496 - accuracy: 0.92 - ETA: 0s - loss: 0.1500 - accuracy: 0.92 - ETA: 0s - loss: 0.1504 - accuracy: 0.92 - ETA: 0s - loss: 0.1510 - accuracy: 0.92 - ETA: 0s - loss: 0.1510 - accuracy: 0.92 - ETA: 0s - loss: 0.1503 - accuracy: 0.92 - ETA: 0s - loss: 0.1509 - accuracy: 0.92 - ETA: 0s - loss: 0.1508 - accuracy: 0.92 - ETA: 0s - loss: 0.1522 - accuracy: 0.92 - ETA: 0s - loss: 0.1521 - accuracy: 0.92 - ETA: 0s - loss: 0.1521 - accuracy: 0.92 - ETA: 0s - loss: 0.1512 - accuracy: 0.92 - ETA: 0s - loss: 0.1510 - accuracy: 0.92 - ETA: 0s - loss: 0.1508 - accuracy: 0.92 - ETA: 0s - loss: 0.1513 - accuracy: 0.92 - 14s 9ms/step - loss: 0.1519 - accuracy: 0.9220 - val_loss: 0.0196 - val_accuracy: 0.9987\n",
      "Epoch 8/20\n"
     ]
    },
    {
     "name": "stdout",
     "output_type": "stream",
     "text": [
      "1600/1600 [==============================] - ETA: 0s - loss: 0.0516 - accuracy: 1.00 - ETA: 9s - loss: 0.2431 - accuracy: 0.91 - ETA: 10s - loss: 0.2231 - accuracy: 0.897 - ETA: 10s - loss: 0.2005 - accuracy: 0.895 - ETA: 10s - loss: 0.1630 - accuracy: 0.914 - ETA: 10s - loss: 0.1853 - accuracy: 0.891 - ETA: 10s - loss: 0.1771 - accuracy: 0.895 - ETA: 10s - loss: 0.1658 - accuracy: 0.903 - ETA: 9s - loss: 0.1630 - accuracy: 0.905 - ETA: 10s - loss: 0.1708 - accuracy: 0.899 - ETA: 10s - loss: 0.1645 - accuracy: 0.906 - ETA: 9s - loss: 0.1712 - accuracy: 0.901 - ETA: 9s - loss: 0.1673 - accuracy: 0.90 - ETA: 9s - loss: 0.1576 - accuracy: 0.91 - ETA: 9s - loss: 0.1538 - accuracy: 0.91 - ETA: 9s - loss: 0.1511 - accuracy: 0.91 - ETA: 9s - loss: 0.1477 - accuracy: 0.91 - ETA: 9s - loss: 0.1400 - accuracy: 0.92 - ETA: 9s - loss: 0.1330 - accuracy: 0.92 - ETA: 9s - loss: 0.1414 - accuracy: 0.91 - ETA: 9s - loss: 0.1410 - accuracy: 0.91 - ETA: 9s - loss: 0.1347 - accuracy: 0.92 - ETA: 9s - loss: 0.1338 - accuracy: 0.92 - ETA: 9s - loss: 0.1284 - accuracy: 0.92 - ETA: 9s - loss: 0.1281 - accuracy: 0.92 - ETA: 8s - loss: 0.1234 - accuracy: 0.93 - ETA: 8s - loss: 0.1230 - accuracy: 0.93 - ETA: 8s - loss: 0.1265 - accuracy: 0.92 - ETA: 8s - loss: 0.1234 - accuracy: 0.93 - ETA: 8s - loss: 0.1189 - accuracy: 0.93 - ETA: 8s - loss: 0.1285 - accuracy: 0.92 - ETA: 8s - loss: 0.1289 - accuracy: 0.92 - ETA: 8s - loss: 0.1282 - accuracy: 0.92 - ETA: 8s - loss: 0.1243 - accuracy: 0.93 - ETA: 8s - loss: 0.1220 - accuracy: 0.93 - ETA: 8s - loss: 0.1225 - accuracy: 0.93 - ETA: 8s - loss: 0.1196 - accuracy: 0.93 - ETA: 8s - loss: 0.1204 - accuracy: 0.93 - ETA: 8s - loss: 0.1195 - accuracy: 0.93 - ETA: 8s - loss: 0.1194 - accuracy: 0.93 - ETA: 7s - loss: 0.1182 - accuracy: 0.93 - ETA: 7s - loss: 0.1165 - accuracy: 0.93 - ETA: 7s - loss: 0.1211 - accuracy: 0.93 - ETA: 7s - loss: 0.1269 - accuracy: 0.93 - ETA: 7s - loss: 0.1283 - accuracy: 0.93 - ETA: 7s - loss: 0.1312 - accuracy: 0.93 - ETA: 7s - loss: 0.1363 - accuracy: 0.92 - ETA: 7s - loss: 0.1341 - accuracy: 0.92 - ETA: 7s - loss: 0.1314 - accuracy: 0.93 - ETA: 7s - loss: 0.1323 - accuracy: 0.93 - ETA: 7s - loss: 0.1334 - accuracy: 0.92 - ETA: 7s - loss: 0.1344 - accuracy: 0.92 - ETA: 7s - loss: 0.1424 - accuracy: 0.92 - ETA: 7s - loss: 0.1411 - accuracy: 0.92 - ETA: 7s - loss: 0.1406 - accuracy: 0.92 - ETA: 7s - loss: 0.1423 - accuracy: 0.92 - ETA: 6s - loss: 0.1426 - accuracy: 0.92 - ETA: 6s - loss: 0.1426 - accuracy: 0.92 - ETA: 6s - loss: 0.1411 - accuracy: 0.92 - ETA: 6s - loss: 0.1388 - accuracy: 0.92 - ETA: 6s - loss: 0.1407 - accuracy: 0.92 - ETA: 6s - loss: 0.1416 - accuracy: 0.92 - ETA: 6s - loss: 0.1394 - accuracy: 0.92 - ETA: 6s - loss: 0.1401 - accuracy: 0.92 - ETA: 6s - loss: 0.1396 - accuracy: 0.92 - ETA: 6s - loss: 0.1412 - accuracy: 0.92 - ETA: 6s - loss: 0.1419 - accuracy: 0.92 - ETA: 6s - loss: 0.1434 - accuracy: 0.92 - ETA: 6s - loss: 0.1435 - accuracy: 0.92 - ETA: 6s - loss: 0.1418 - accuracy: 0.92 - ETA: 6s - loss: 0.1403 - accuracy: 0.92 - ETA: 6s - loss: 0.1400 - accuracy: 0.92 - ETA: 6s - loss: 0.1388 - accuracy: 0.92 - ETA: 6s - loss: 0.1372 - accuracy: 0.92 - ETA: 6s - loss: 0.1358 - accuracy: 0.92 - ETA: 6s - loss: 0.1343 - accuracy: 0.93 - ETA: 6s - loss: 0.1372 - accuracy: 0.92 - ETA: 5s - loss: 0.1367 - accuracy: 0.92 - ETA: 5s - loss: 0.1378 - accuracy: 0.92 - ETA: 5s - loss: 0.1385 - accuracy: 0.92 - ETA: 5s - loss: 0.1405 - accuracy: 0.92 - ETA: 5s - loss: 0.1393 - accuracy: 0.92 - ETA: 5s - loss: 0.1384 - accuracy: 0.92 - ETA: 5s - loss: 0.1372 - accuracy: 0.92 - ETA: 5s - loss: 0.1392 - accuracy: 0.92 - ETA: 5s - loss: 0.1386 - accuracy: 0.92 - ETA: 5s - loss: 0.1371 - accuracy: 0.92 - ETA: 5s - loss: 0.1383 - accuracy: 0.92 - ETA: 5s - loss: 0.1395 - accuracy: 0.92 - ETA: 5s - loss: 0.1399 - accuracy: 0.92 - ETA: 5s - loss: 0.1383 - accuracy: 0.92 - ETA: 5s - loss: 0.1397 - accuracy: 0.92 - ETA: 5s - loss: 0.1414 - accuracy: 0.92 - ETA: 5s - loss: 0.1437 - accuracy: 0.92 - ETA: 5s - loss: 0.1428 - accuracy: 0.92 - ETA: 5s - loss: 0.1433 - accuracy: 0.92 - ETA: 5s - loss: 0.1434 - accuracy: 0.92 - ETA: 4s - loss: 0.1431 - accuracy: 0.92 - ETA: 4s - loss: 0.1436 - accuracy: 0.92 - ETA: 4s - loss: 0.1440 - accuracy: 0.92 - ETA: 4s - loss: 0.1437 - accuracy: 0.92 - ETA: 4s - loss: 0.1429 - accuracy: 0.92 - ETA: 4s - loss: 0.1441 - accuracy: 0.92 - ETA: 4s - loss: 0.1438 - accuracy: 0.92 - ETA: 4s - loss: 0.1433 - accuracy: 0.92 - ETA: 4s - loss: 0.1421 - accuracy: 0.92 - ETA: 4s - loss: 0.1417 - accuracy: 0.92 - ETA: 4s - loss: 0.1403 - accuracy: 0.92 - ETA: 4s - loss: 0.1392 - accuracy: 0.92 - ETA: 4s - loss: 0.1390 - accuracy: 0.92 - ETA: 4s - loss: 0.1383 - accuracy: 0.92 - ETA: 4s - loss: 0.1381 - accuracy: 0.92 - ETA: 4s - loss: 0.1370 - accuracy: 0.92 - ETA: 4s - loss: 0.1390 - accuracy: 0.92 - ETA: 4s - loss: 0.1382 - accuracy: 0.92 - ETA: 4s - loss: 0.1373 - accuracy: 0.92 - ETA: 4s - loss: 0.1374 - accuracy: 0.92 - ETA: 3s - loss: 0.1368 - accuracy: 0.92 - ETA: 3s - loss: 0.1376 - accuracy: 0.92 - ETA: 3s - loss: 0.1374 - accuracy: 0.92 - ETA: 3s - loss: 0.1364 - accuracy: 0.92 - ETA: 3s - loss: 0.1355 - accuracy: 0.92 - ETA: 3s - loss: 0.1363 - accuracy: 0.92 - ETA: 3s - loss: 0.1360 - accuracy: 0.92 - ETA: 3s - loss: 0.1352 - accuracy: 0.92 - ETA: 3s - loss: 0.1343 - accuracy: 0.92 - ETA: 3s - loss: 0.1346 - accuracy: 0.92 - ETA: 3s - loss: 0.1362 - accuracy: 0.92 - ETA: 3s - loss: 0.1360 - accuracy: 0.92 - ETA: 3s - loss: 0.1357 - accuracy: 0.92 - ETA: 3s - loss: 0.1358 - accuracy: 0.92 - ETA: 3s - loss: 0.1358 - accuracy: 0.92 - ETA: 3s - loss: 0.1358 - accuracy: 0.92 - ETA: 3s - loss: 0.1363 - accuracy: 0.92 - ETA: 3s - loss: 0.1356 - accuracy: 0.92 - ETA: 2s - loss: 0.1355 - accuracy: 0.92 - ETA: 2s - loss: 0.1346 - accuracy: 0.92 - ETA: 2s - loss: 0.1350 - accuracy: 0.92 - ETA: 2s - loss: 0.1362 - accuracy: 0.92 - ETA: 2s - loss: 0.1368 - accuracy: 0.92 - ETA: 2s - loss: 0.1366 - accuracy: 0.92 - ETA: 2s - loss: 0.1372 - accuracy: 0.92 - ETA: 2s - loss: 0.1381 - accuracy: 0.92 - ETA: 2s - loss: 0.1380 - accuracy: 0.92 - ETA: 2s - loss: 0.1379 - accuracy: 0.92 - ETA: 2s - loss: 0.1377 - accuracy: 0.92 - ETA: 2s - loss: 0.1381 - accuracy: 0.92 - ETA: 2s - loss: 0.1386 - accuracy: 0.92 - ETA: 2s - loss: 0.1383 - accuracy: 0.92 - ETA: 2s - loss: 0.1387 - accuracy: 0.92 - ETA: 2s - loss: 0.1380 - accuracy: 0.92 - ETA: 2s - loss: 0.1384 - accuracy: 0.92 - ETA: 2s - loss: 0.1402 - accuracy: 0.92 - ETA: 1s - loss: 0.1411 - accuracy: 0.92 - ETA: 1s - loss: 0.1415 - accuracy: 0.92 - ETA: 1s - loss: 0.1417 - accuracy: 0.92 - ETA: 1s - loss: 0.1423 - accuracy: 0.92 - ETA: 1s - loss: 0.1428 - accuracy: 0.92 - ETA: 1s - loss: 0.1422 - accuracy: 0.92 - ETA: 1s - loss: 0.1414 - accuracy: 0.92 - ETA: 1s - loss: 0.1408 - accuracy: 0.92 - ETA: 1s - loss: 0.1408 - accuracy: 0.92 - ETA: 1s - loss: 0.1407 - accuracy: 0.92 - ETA: 1s - loss: 0.1405 - accuracy: 0.92 - ETA: 1s - loss: 0.1410 - accuracy: 0.92 - ETA: 1s - loss: 0.1414 - accuracy: 0.92 - ETA: 1s - loss: 0.1419 - accuracy: 0.92 - ETA: 1s - loss: 0.1436 - accuracy: 0.92 - ETA: 1s - loss: 0.1429 - accuracy: 0.92 - ETA: 1s - loss: 0.1427 - accuracy: 0.92 - ETA: 1s - loss: 0.1434 - accuracy: 0.92 - ETA: 1s - loss: 0.1434 - accuracy: 0.92 - ETA: 1s - loss: 0.1427 - accuracy: 0.92 - ETA: 0s - loss: 0.1434 - accuracy: 0.92 - ETA: 0s - loss: 0.1430 - accuracy: 0.92 - ETA: 0s - loss: 0.1424 - accuracy: 0.92 - ETA: 0s - loss: 0.1418 - accuracy: 0.92 - ETA: 0s - loss: 0.1420 - accuracy: 0.92 - ETA: 0s - loss: 0.1414 - accuracy: 0.92 - ETA: 0s - loss: 0.1421 - accuracy: 0.92 - ETA: 0s - loss: 0.1420 - accuracy: 0.92 - ETA: 0s - loss: 0.1423 - accuracy: 0.92 - ETA: 0s - loss: 0.1422 - accuracy: 0.92 - ETA: 0s - loss: 0.1427 - accuracy: 0.92 - ETA: 0s - loss: 0.1427 - accuracy: 0.92 - ETA: 0s - loss: 0.1425 - accuracy: 0.92 - ETA: 0s - loss: 0.1425 - accuracy: 0.92 - ETA: 0s - loss: 0.1420 - accuracy: 0.92 - ETA: 0s - loss: 0.1420 - accuracy: 0.92 - ETA: 0s - loss: 0.1420 - accuracy: 0.92 - ETA: 0s - loss: 0.1413 - accuracy: 0.92 - ETA: 0s - loss: 0.1406 - accuracy: 0.92 - ETA: 0s - loss: 0.1398 - accuracy: 0.92 - 12s 7ms/step - loss: 0.1398 - accuracy: 0.9278 - val_loss: 0.0135 - val_accuracy: 1.0000\n"
     ]
    },
    {
     "name": "stdout",
     "output_type": "stream",
     "text": [
      "Epoch 9/20\n",
      "1600/1600 [==============================] - ETA: 0s - loss: 6.4576e-05 - accuracy: 1.00 - ETA: 8s - loss: 0.0069 - accuracy: 1.0000   - ETA: 8s - loss: 0.0480 - accuracy: 0.97 - ETA: 9s - loss: 0.1742 - accuracy: 0.90 - ETA: 10s - loss: 0.1819 - accuracy: 0.916 - ETA: 10s - loss: 0.1650 - accuracy: 0.920 - ETA: 9s - loss: 0.1406 - accuracy: 0.935 - ETA: 9s - loss: 0.1264 - accuracy: 0.94 - ETA: 9s - loss: 0.1179 - accuracy: 0.94 - ETA: 9s - loss: 0.1082 - accuracy: 0.95 - ETA: 9s - loss: 0.1035 - accuracy: 0.95 - ETA: 9s - loss: 0.0966 - accuracy: 0.95 - ETA: 9s - loss: 0.0910 - accuracy: 0.96 - ETA: 9s - loss: 0.0943 - accuracy: 0.96 - ETA: 9s - loss: 0.0985 - accuracy: 0.96 - ETA: 9s - loss: 0.1009 - accuracy: 0.96 - ETA: 9s - loss: 0.1112 - accuracy: 0.95 - ETA: 9s - loss: 0.1044 - accuracy: 0.95 - ETA: 9s - loss: 0.1070 - accuracy: 0.95 - ETA: 9s - loss: 0.1015 - accuracy: 0.96 - ETA: 9s - loss: 0.0982 - accuracy: 0.96 - ETA: 9s - loss: 0.1064 - accuracy: 0.95 - ETA: 9s - loss: 0.1207 - accuracy: 0.95 - ETA: 9s - loss: 0.1249 - accuracy: 0.94 - ETA: 9s - loss: 0.1314 - accuracy: 0.94 - ETA: 9s - loss: 0.1347 - accuracy: 0.93 - ETA: 8s - loss: 0.1353 - accuracy: 0.94 - ETA: 8s - loss: 0.1313 - accuracy: 0.94 - ETA: 8s - loss: 0.1312 - accuracy: 0.94 - ETA: 8s - loss: 0.1313 - accuracy: 0.93 - ETA: 8s - loss: 0.1287 - accuracy: 0.94 - ETA: 8s - loss: 0.1302 - accuracy: 0.94 - ETA: 8s - loss: 0.1274 - accuracy: 0.94 - ETA: 8s - loss: 0.1267 - accuracy: 0.94 - ETA: 8s - loss: 0.1284 - accuracy: 0.94 - ETA: 8s - loss: 0.1250 - accuracy: 0.94 - ETA: 8s - loss: 0.1246 - accuracy: 0.94 - ETA: 8s - loss: 0.1244 - accuracy: 0.94 - ETA: 8s - loss: 0.1218 - accuracy: 0.94 - ETA: 8s - loss: 0.1276 - accuracy: 0.93 - ETA: 8s - loss: 0.1286 - accuracy: 0.93 - ETA: 7s - loss: 0.1255 - accuracy: 0.94 - ETA: 7s - loss: 0.1257 - accuracy: 0.94 - ETA: 7s - loss: 0.1247 - accuracy: 0.94 - ETA: 7s - loss: 0.1264 - accuracy: 0.94 - ETA: 7s - loss: 0.1303 - accuracy: 0.93 - ETA: 7s - loss: 0.1308 - accuracy: 0.93 - ETA: 7s - loss: 0.1283 - accuracy: 0.93 - ETA: 7s - loss: 0.1275 - accuracy: 0.94 - ETA: 7s - loss: 0.1259 - accuracy: 0.94 - ETA: 7s - loss: 0.1259 - accuracy: 0.94 - ETA: 7s - loss: 0.1259 - accuracy: 0.94 - ETA: 7s - loss: 0.1252 - accuracy: 0.94 - ETA: 7s - loss: 0.1273 - accuracy: 0.93 - ETA: 7s - loss: 0.1257 - accuracy: 0.93 - ETA: 7s - loss: 0.1237 - accuracy: 0.93 - ETA: 7s - loss: 0.1274 - accuracy: 0.93 - ETA: 6s - loss: 0.1273 - accuracy: 0.93 - ETA: 6s - loss: 0.1286 - accuracy: 0.93 - ETA: 6s - loss: 0.1285 - accuracy: 0.93 - ETA: 6s - loss: 0.1305 - accuracy: 0.93 - ETA: 6s - loss: 0.1309 - accuracy: 0.93 - ETA: 6s - loss: 0.1330 - accuracy: 0.93 - ETA: 6s - loss: 0.1358 - accuracy: 0.93 - ETA: 6s - loss: 0.1363 - accuracy: 0.93 - ETA: 6s - loss: 0.1349 - accuracy: 0.93 - ETA: 6s - loss: 0.1344 - accuracy: 0.93 - ETA: 6s - loss: 0.1327 - accuracy: 0.93 - ETA: 6s - loss: 0.1338 - accuracy: 0.93 - ETA: 6s - loss: 0.1322 - accuracy: 0.93 - ETA: 6s - loss: 0.1312 - accuracy: 0.93 - ETA: 6s - loss: 0.1312 - accuracy: 0.93 - ETA: 6s - loss: 0.1315 - accuracy: 0.93 - ETA: 6s - loss: 0.1306 - accuracy: 0.93 - ETA: 6s - loss: 0.1298 - accuracy: 0.93 - ETA: 5s - loss: 0.1316 - accuracy: 0.93 - ETA: 5s - loss: 0.1323 - accuracy: 0.93 - ETA: 5s - loss: 0.1311 - accuracy: 0.93 - ETA: 5s - loss: 0.1299 - accuracy: 0.93 - ETA: 5s - loss: 0.1335 - accuracy: 0.93 - ETA: 5s - loss: 0.1336 - accuracy: 0.93 - ETA: 5s - loss: 0.1324 - accuracy: 0.93 - ETA: 5s - loss: 0.1331 - accuracy: 0.93 - ETA: 5s - loss: 0.1322 - accuracy: 0.93 - ETA: 5s - loss: 0.1320 - accuracy: 0.93 - ETA: 5s - loss: 0.1350 - accuracy: 0.93 - ETA: 5s - loss: 0.1353 - accuracy: 0.93 - ETA: 5s - loss: 0.1346 - accuracy: 0.93 - ETA: 5s - loss: 0.1369 - accuracy: 0.93 - ETA: 5s - loss: 0.1441 - accuracy: 0.92 - ETA: 5s - loss: 0.1431 - accuracy: 0.93 - ETA: 5s - loss: 0.1425 - accuracy: 0.93 - ETA: 5s - loss: 0.1418 - accuracy: 0.93 - ETA: 5s - loss: 0.1421 - accuracy: 0.93 - ETA: 5s - loss: 0.1409 - accuracy: 0.93 - ETA: 4s - loss: 0.1404 - accuracy: 0.93 - ETA: 4s - loss: 0.1416 - accuracy: 0.93 - ETA: 4s - loss: 0.1401 - accuracy: 0.93 - ETA: 4s - loss: 0.1411 - accuracy: 0.93 - ETA: 4s - loss: 0.1417 - accuracy: 0.93 - ETA: 4s - loss: 0.1435 - accuracy: 0.93 - ETA: 4s - loss: 0.1436 - accuracy: 0.93 - ETA: 4s - loss: 0.1451 - accuracy: 0.92 - ETA: 4s - loss: 0.1438 - accuracy: 0.93 - ETA: 4s - loss: 0.1427 - accuracy: 0.93 - ETA: 4s - loss: 0.1414 - accuracy: 0.93 - ETA: 4s - loss: 0.1402 - accuracy: 0.93 - ETA: 4s - loss: 0.1414 - accuracy: 0.93 - ETA: 4s - loss: 0.1407 - accuracy: 0.93 - ETA: 4s - loss: 0.1395 - accuracy: 0.93 - ETA: 4s - loss: 0.1387 - accuracy: 0.93 - ETA: 4s - loss: 0.1382 - accuracy: 0.93 - ETA: 4s - loss: 0.1393 - accuracy: 0.93 - ETA: 4s - loss: 0.1391 - accuracy: 0.93 - ETA: 3s - loss: 0.1380 - accuracy: 0.93 - ETA: 3s - loss: 0.1379 - accuracy: 0.93 - ETA: 3s - loss: 0.1367 - accuracy: 0.93 - ETA: 3s - loss: 0.1372 - accuracy: 0.93 - ETA: 3s - loss: 0.1375 - accuracy: 0.93 - ETA: 3s - loss: 0.1388 - accuracy: 0.93 - ETA: 3s - loss: 0.1377 - accuracy: 0.93 - ETA: 3s - loss: 0.1381 - accuracy: 0.93 - ETA: 3s - loss: 0.1371 - accuracy: 0.93 - ETA: 3s - loss: 0.1362 - accuracy: 0.93 - ETA: 3s - loss: 0.1370 - accuracy: 0.93 - ETA: 3s - loss: 0.1360 - accuracy: 0.93 - ETA: 3s - loss: 0.1364 - accuracy: 0.93 - ETA: 3s - loss: 0.1371 - accuracy: 0.93 - ETA: 3s - loss: 0.1385 - accuracy: 0.93 - ETA: 3s - loss: 0.1383 - accuracy: 0.93 - ETA: 3s - loss: 0.1374 - accuracy: 0.93 - ETA: 3s - loss: 0.1385 - accuracy: 0.93 - ETA: 2s - loss: 0.1382 - accuracy: 0.93 - ETA: 2s - loss: 0.1393 - accuracy: 0.93 - ETA: 2s - loss: 0.1396 - accuracy: 0.93 - ETA: 2s - loss: 0.1385 - accuracy: 0.93 - ETA: 2s - loss: 0.1375 - accuracy: 0.93 - ETA: 2s - loss: 0.1365 - accuracy: 0.93 - ETA: 2s - loss: 0.1357 - accuracy: 0.93 - ETA: 2s - loss: 0.1365 - accuracy: 0.93 - ETA: 2s - loss: 0.1360 - accuracy: 0.93 - ETA: 2s - loss: 0.1359 - accuracy: 0.93 - ETA: 2s - loss: 0.1361 - accuracy: 0.93 - ETA: 2s - loss: 0.1361 - accuracy: 0.93 - ETA: 2s - loss: 0.1354 - accuracy: 0.93 - ETA: 2s - loss: 0.1352 - accuracy: 0.93 - ETA: 2s - loss: 0.1363 - accuracy: 0.93 - ETA: 2s - loss: 0.1364 - accuracy: 0.93 - ETA: 2s - loss: 0.1356 - accuracy: 0.93 - ETA: 2s - loss: 0.1364 - accuracy: 0.93 - ETA: 1s - loss: 0.1368 - accuracy: 0.93 - ETA: 1s - loss: 0.1359 - accuracy: 0.93 - ETA: 1s - loss: 0.1372 - accuracy: 0.93 - ETA: 1s - loss: 0.1375 - accuracy: 0.93 - ETA: 1s - loss: 0.1371 - accuracy: 0.93 - ETA: 1s - loss: 0.1382 - accuracy: 0.93 - ETA: 1s - loss: 0.1389 - accuracy: 0.93 - ETA: 1s - loss: 0.1388 - accuracy: 0.93 - ETA: 1s - loss: 0.1387 - accuracy: 0.93 - ETA: 1s - loss: 0.1381 - accuracy: 0.93 - ETA: 1s - loss: 0.1374 - accuracy: 0.93 - ETA: 1s - loss: 0.1366 - accuracy: 0.93 - ETA: 1s - loss: 0.1359 - accuracy: 0.93 - ETA: 1s - loss: 0.1353 - accuracy: 0.93 - ETA: 1s - loss: 0.1357 - accuracy: 0.93 - ETA: 1s - loss: 0.1361 - accuracy: 0.93 - ETA: 1s - loss: 0.1356 - accuracy: 0.93 - ETA: 1s - loss: 0.1356 - accuracy: 0.93 - ETA: 1s - loss: 0.1360 - accuracy: 0.93 - ETA: 1s - loss: 0.1364 - accuracy: 0.93 - ETA: 0s - loss: 0.1357 - accuracy: 0.93 - ETA: 0s - loss: 0.1361 - accuracy: 0.93 - ETA: 0s - loss: 0.1360 - accuracy: 0.93 - ETA: 0s - loss: 0.1353 - accuracy: 0.93 - ETA: 0s - loss: 0.1346 - accuracy: 0.93 - ETA: 0s - loss: 0.1354 - accuracy: 0.93 - ETA: 0s - loss: 0.1357 - accuracy: 0.93 - ETA: 0s - loss: 0.1367 - accuracy: 0.93 - ETA: 0s - loss: 0.1366 - accuracy: 0.93 - ETA: 0s - loss: 0.1370 - accuracy: 0.93 - ETA: 0s - loss: 0.1368 - accuracy: 0.93 - ETA: 0s - loss: 0.1367 - accuracy: 0.93 - ETA: 0s - loss: 0.1360 - accuracy: 0.93 - ETA: 0s - loss: 0.1359 - accuracy: 0.93 - ETA: 0s - loss: 0.1356 - accuracy: 0.93 - ETA: 0s - loss: 0.1352 - accuracy: 0.93 - ETA: 0s - loss: 0.1351 - accuracy: 0.93 - ETA: 0s - loss: 0.1351 - accuracy: 0.93 - ETA: 0s - loss: 0.1365 - accuracy: 0.93 - 11s 7ms/step - loss: 0.1365 - accuracy: 0.9306 - val_loss: 0.0102 - val_accuracy: 1.0000\n",
      "Epoch 10/20\n"
     ]
    },
    {
     "name": "stdout",
     "output_type": "stream",
     "text": [
      "1600/1600 [==============================] - ETA: 0s - loss: 0.0076 - accuracy: 1.00 - ETA: 8s - loss: 0.1775 - accuracy: 0.92 - ETA: 9s - loss: 0.1020 - accuracy: 0.96 - ETA: 9s - loss: 0.1321 - accuracy: 0.93 - ETA: 9s - loss: 0.1477 - accuracy: 0.92 - ETA: 9s - loss: 0.1188 - accuracy: 0.93 - ETA: 9s - loss: 0.1010 - accuracy: 0.94 - ETA: 9s - loss: 0.1004 - accuracy: 0.94 - ETA: 9s - loss: 0.0881 - accuracy: 0.95 - ETA: 9s - loss: 0.0991 - accuracy: 0.94 - ETA: 9s - loss: 0.0896 - accuracy: 0.94 - ETA: 9s - loss: 0.0939 - accuracy: 0.94 - ETA: 9s - loss: 0.0929 - accuracy: 0.94 - ETA: 9s - loss: 0.0944 - accuracy: 0.94 - ETA: 9s - loss: 0.1101 - accuracy: 0.93 - ETA: 9s - loss: 0.1049 - accuracy: 0.94 - ETA: 8s - loss: 0.1074 - accuracy: 0.94 - ETA: 8s - loss: 0.1007 - accuracy: 0.94 - ETA: 8s - loss: 0.1102 - accuracy: 0.94 - ETA: 8s - loss: 0.1061 - accuracy: 0.94 - ETA: 8s - loss: 0.1085 - accuracy: 0.94 - ETA: 8s - loss: 0.1035 - accuracy: 0.94 - ETA: 8s - loss: 0.1040 - accuracy: 0.94 - ETA: 8s - loss: 0.1069 - accuracy: 0.94 - ETA: 8s - loss: 0.1024 - accuracy: 0.94 - ETA: 8s - loss: 0.0986 - accuracy: 0.94 - ETA: 8s - loss: 0.0984 - accuracy: 0.95 - ETA: 8s - loss: 0.1005 - accuracy: 0.94 - ETA: 8s - loss: 0.1045 - accuracy: 0.94 - ETA: 8s - loss: 0.1061 - accuracy: 0.94 - ETA: 8s - loss: 0.1097 - accuracy: 0.93 - ETA: 8s - loss: 0.1131 - accuracy: 0.93 - ETA: 8s - loss: 0.1096 - accuracy: 0.93 - ETA: 8s - loss: 0.1075 - accuracy: 0.93 - ETA: 8s - loss: 0.1076 - accuracy: 0.93 - ETA: 8s - loss: 0.1055 - accuracy: 0.94 - ETA: 8s - loss: 0.1120 - accuracy: 0.93 - ETA: 8s - loss: 0.1121 - accuracy: 0.93 - ETA: 8s - loss: 0.1101 - accuracy: 0.93 - ETA: 8s - loss: 0.1094 - accuracy: 0.93 - ETA: 7s - loss: 0.1089 - accuracy: 0.93 - ETA: 7s - loss: 0.1066 - accuracy: 0.94 - ETA: 7s - loss: 0.1060 - accuracy: 0.94 - ETA: 7s - loss: 0.1064 - accuracy: 0.94 - ETA: 7s - loss: 0.1042 - accuracy: 0.94 - ETA: 7s - loss: 0.1050 - accuracy: 0.94 - ETA: 7s - loss: 0.1053 - accuracy: 0.94 - ETA: 7s - loss: 0.1057 - accuracy: 0.94 - ETA: 7s - loss: 0.1056 - accuracy: 0.94 - ETA: 7s - loss: 0.1037 - accuracy: 0.94 - ETA: 7s - loss: 0.1050 - accuracy: 0.94 - ETA: 7s - loss: 0.1079 - accuracy: 0.94 - ETA: 7s - loss: 0.1060 - accuracy: 0.94 - ETA: 7s - loss: 0.1048 - accuracy: 0.94 - ETA: 7s - loss: 0.1033 - accuracy: 0.94 - ETA: 7s - loss: 0.1065 - accuracy: 0.94 - ETA: 7s - loss: 0.1089 - accuracy: 0.94 - ETA: 7s - loss: 0.1090 - accuracy: 0.94 - ETA: 7s - loss: 0.1083 - accuracy: 0.94 - ETA: 7s - loss: 0.1080 - accuracy: 0.94 - ETA: 7s - loss: 0.1068 - accuracy: 0.94 - ETA: 7s - loss: 0.1063 - accuracy: 0.94 - ETA: 6s - loss: 0.1066 - accuracy: 0.94 - ETA: 6s - loss: 0.1064 - accuracy: 0.94 - ETA: 6s - loss: 0.1047 - accuracy: 0.94 - ETA: 6s - loss: 0.1034 - accuracy: 0.94 - ETA: 6s - loss: 0.1036 - accuracy: 0.94 - ETA: 6s - loss: 0.1031 - accuracy: 0.94 - ETA: 6s - loss: 0.1044 - accuracy: 0.94 - ETA: 6s - loss: 0.1033 - accuracy: 0.94 - ETA: 6s - loss: 0.1023 - accuracy: 0.94 - ETA: 6s - loss: 0.1009 - accuracy: 0.94 - ETA: 6s - loss: 0.1013 - accuracy: 0.94 - ETA: 6s - loss: 0.1002 - accuracy: 0.94 - ETA: 6s - loss: 0.0989 - accuracy: 0.94 - ETA: 6s - loss: 0.0983 - accuracy: 0.94 - ETA: 6s - loss: 0.0997 - accuracy: 0.94 - ETA: 6s - loss: 0.0986 - accuracy: 0.94 - ETA: 6s - loss: 0.0984 - accuracy: 0.94 - ETA: 5s - loss: 0.0973 - accuracy: 0.94 - ETA: 5s - loss: 0.0978 - accuracy: 0.94 - ETA: 5s - loss: 0.0968 - accuracy: 0.94 - ETA: 5s - loss: 0.0975 - accuracy: 0.94 - ETA: 5s - loss: 0.0992 - accuracy: 0.94 - ETA: 5s - loss: 0.1008 - accuracy: 0.94 - ETA: 5s - loss: 0.1037 - accuracy: 0.94 - ETA: 5s - loss: 0.1036 - accuracy: 0.94 - ETA: 5s - loss: 0.1046 - accuracy: 0.94 - ETA: 5s - loss: 0.1045 - accuracy: 0.94 - ETA: 5s - loss: 0.1036 - accuracy: 0.94 - ETA: 5s - loss: 0.1030 - accuracy: 0.94 - ETA: 5s - loss: 0.1032 - accuracy: 0.94 - ETA: 5s - loss: 0.1040 - accuracy: 0.94 - ETA: 5s - loss: 0.1050 - accuracy: 0.94 - ETA: 5s - loss: 0.1042 - accuracy: 0.94 - ETA: 5s - loss: 0.1040 - accuracy: 0.94 - ETA: 5s - loss: 0.1047 - accuracy: 0.94 - ETA: 4s - loss: 0.1044 - accuracy: 0.94 - ETA: 4s - loss: 0.1034 - accuracy: 0.94 - ETA: 4s - loss: 0.1032 - accuracy: 0.94 - ETA: 4s - loss: 0.1052 - accuracy: 0.94 - ETA: 4s - loss: 0.1053 - accuracy: 0.94 - ETA: 4s - loss: 0.1061 - accuracy: 0.94 - ETA: 4s - loss: 0.1064 - accuracy: 0.94 - ETA: 4s - loss: 0.1057 - accuracy: 0.94 - ETA: 4s - loss: 0.1052 - accuracy: 0.94 - ETA: 4s - loss: 0.1062 - accuracy: 0.94 - ETA: 4s - loss: 0.1079 - accuracy: 0.94 - ETA: 4s - loss: 0.1083 - accuracy: 0.94 - ETA: 4s - loss: 0.1091 - accuracy: 0.94 - ETA: 4s - loss: 0.1097 - accuracy: 0.93 - ETA: 4s - loss: 0.1106 - accuracy: 0.93 - ETA: 4s - loss: 0.1109 - accuracy: 0.93 - ETA: 4s - loss: 0.1108 - accuracy: 0.93 - ETA: 4s - loss: 0.1100 - accuracy: 0.93 - ETA: 4s - loss: 0.1112 - accuracy: 0.93 - ETA: 3s - loss: 0.1129 - accuracy: 0.93 - ETA: 3s - loss: 0.1144 - accuracy: 0.93 - ETA: 3s - loss: 0.1136 - accuracy: 0.93 - ETA: 3s - loss: 0.1147 - accuracy: 0.93 - ETA: 3s - loss: 0.1145 - accuracy: 0.93 - ETA: 3s - loss: 0.1154 - accuracy: 0.93 - ETA: 3s - loss: 0.1144 - accuracy: 0.93 - ETA: 3s - loss: 0.1135 - accuracy: 0.93 - ETA: 3s - loss: 0.1133 - accuracy: 0.93 - ETA: 3s - loss: 0.1131 - accuracy: 0.93 - ETA: 3s - loss: 0.1121 - accuracy: 0.93 - ETA: 3s - loss: 0.1121 - accuracy: 0.93 - ETA: 3s - loss: 0.1122 - accuracy: 0.93 - ETA: 3s - loss: 0.1131 - accuracy: 0.93 - ETA: 3s - loss: 0.1145 - accuracy: 0.93 - ETA: 3s - loss: 0.1138 - accuracy: 0.93 - ETA: 3s - loss: 0.1142 - accuracy: 0.93 - ETA: 3s - loss: 0.1161 - accuracy: 0.93 - ETA: 2s - loss: 0.1159 - accuracy: 0.93 - ETA: 2s - loss: 0.1158 - accuracy: 0.93 - ETA: 2s - loss: 0.1159 - accuracy: 0.93 - ETA: 2s - loss: 0.1175 - accuracy: 0.93 - ETA: 2s - loss: 0.1186 - accuracy: 0.93 - ETA: 2s - loss: 0.1192 - accuracy: 0.93 - ETA: 2s - loss: 0.1196 - accuracy: 0.93 - ETA: 2s - loss: 0.1205 - accuracy: 0.93 - ETA: 2s - loss: 0.1205 - accuracy: 0.93 - ETA: 2s - loss: 0.1204 - accuracy: 0.93 - ETA: 2s - loss: 0.1215 - accuracy: 0.93 - ETA: 2s - loss: 0.1216 - accuracy: 0.93 - ETA: 2s - loss: 0.1229 - accuracy: 0.93 - ETA: 2s - loss: 0.1223 - accuracy: 0.93 - ETA: 2s - loss: 0.1226 - accuracy: 0.93 - ETA: 2s - loss: 0.1228 - accuracy: 0.93 - ETA: 2s - loss: 0.1229 - accuracy: 0.93 - ETA: 2s - loss: 0.1225 - accuracy: 0.93 - ETA: 2s - loss: 0.1218 - accuracy: 0.93 - ETA: 2s - loss: 0.1211 - accuracy: 0.93 - ETA: 1s - loss: 0.1216 - accuracy: 0.93 - ETA: 1s - loss: 0.1209 - accuracy: 0.93 - ETA: 1s - loss: 0.1219 - accuracy: 0.93 - ETA: 1s - loss: 0.1219 - accuracy: 0.93 - ETA: 1s - loss: 0.1216 - accuracy: 0.93 - ETA: 1s - loss: 0.1209 - accuracy: 0.93 - ETA: 1s - loss: 0.1206 - accuracy: 0.93 - ETA: 1s - loss: 0.1213 - accuracy: 0.93 - ETA: 1s - loss: 0.1220 - accuracy: 0.93 - ETA: 1s - loss: 0.1221 - accuracy: 0.93 - ETA: 1s - loss: 0.1228 - accuracy: 0.93 - ETA: 1s - loss: 0.1230 - accuracy: 0.93 - ETA: 1s - loss: 0.1234 - accuracy: 0.93 - ETA: 1s - loss: 0.1245 - accuracy: 0.93 - ETA: 1s - loss: 0.1242 - accuracy: 0.93 - ETA: 1s - loss: 0.1235 - accuracy: 0.93 - ETA: 1s - loss: 0.1232 - accuracy: 0.93 - ETA: 0s - loss: 0.1229 - accuracy: 0.93 - ETA: 0s - loss: 0.1229 - accuracy: 0.93 - ETA: 0s - loss: 0.1230 - accuracy: 0.93 - ETA: 0s - loss: 0.1236 - accuracy: 0.93 - ETA: 0s - loss: 0.1230 - accuracy: 0.93 - ETA: 0s - loss: 0.1224 - accuracy: 0.93 - ETA: 0s - loss: 0.1223 - accuracy: 0.93 - ETA: 0s - loss: 0.1219 - accuracy: 0.93 - ETA: 0s - loss: 0.1223 - accuracy: 0.93 - ETA: 0s - loss: 0.1225 - accuracy: 0.93 - ETA: 0s - loss: 0.1219 - accuracy: 0.93 - ETA: 0s - loss: 0.1213 - accuracy: 0.93 - ETA: 0s - loss: 0.1214 - accuracy: 0.93 - ETA: 0s - loss: 0.1208 - accuracy: 0.93 - ETA: 0s - loss: 0.1212 - accuracy: 0.93 - ETA: 0s - loss: 0.1215 - accuracy: 0.93 - ETA: 0s - loss: 0.1213 - accuracy: 0.93 - ETA: 0s - loss: 0.1207 - accuracy: 0.93 - ETA: 0s - loss: 0.1203 - accuracy: 0.93 - 11s 7ms/step - loss: 0.1211 - accuracy: 0.9336 - val_loss: 0.0030 - val_accuracy: 1.0000\n",
      "Epoch 11/20\n"
     ]
    },
    {
     "name": "stdout",
     "output_type": "stream",
     "text": [
      "1392/1600 [=========================>....] - ETA: 0s - loss: 0.0153 - accuracy: 1.00 - ETA: 8s - loss: 0.0040 - accuracy: 1.00 - ETA: 8s - loss: 0.0666 - accuracy: 0.93 - ETA: 8s - loss: 0.0467 - accuracy: 0.95 - ETA: 8s - loss: 0.0992 - accuracy: 0.93 - ETA: 9s - loss: 0.1385 - accuracy: 0.91 - ETA: 9s - loss: 0.1245 - accuracy: 0.92 - ETA: 9s - loss: 0.1202 - accuracy: 0.93 - ETA: 9s - loss: 0.1244 - accuracy: 0.93 - ETA: 10s - loss: 0.1379 - accuracy: 0.930 - ETA: 10s - loss: 0.1387 - accuracy: 0.928 - ETA: 10s - loss: 0.1344 - accuracy: 0.934 - ETA: 10s - loss: 0.1231 - accuracy: 0.940 - ETA: 10s - loss: 0.1244 - accuracy: 0.936 - ETA: 10s - loss: 0.1223 - accuracy: 0.936 - ETA: 10s - loss: 0.1283 - accuracy: 0.934 - ETA: 10s - loss: 0.1219 - accuracy: 0.938 - ETA: 10s - loss: 0.1264 - accuracy: 0.936 - ETA: 10s - loss: 0.1377 - accuracy: 0.929 - ETA: 10s - loss: 0.1310 - accuracy: 0.933 - ETA: 10s - loss: 0.1371 - accuracy: 0.930 - ETA: 9s - loss: 0.1317 - accuracy: 0.933 - ETA: 9s - loss: 0.1291 - accuracy: 0.93 - ETA: 9s - loss: 0.1284 - accuracy: 0.93 - ETA: 9s - loss: 0.1238 - accuracy: 0.93 - ETA: 9s - loss: 0.1189 - accuracy: 0.94 - ETA: 9s - loss: 0.1274 - accuracy: 0.93 - ETA: 9s - loss: 0.1245 - accuracy: 0.93 - ETA: 9s - loss: 0.1241 - accuracy: 0.93 - ETA: 9s - loss: 0.1219 - accuracy: 0.93 - ETA: 9s - loss: 0.1220 - accuracy: 0.93 - ETA: 9s - loss: 0.1205 - accuracy: 0.93 - ETA: 9s - loss: 0.1219 - accuracy: 0.93 - ETA: 9s - loss: 0.1222 - accuracy: 0.93 - ETA: 9s - loss: 0.1243 - accuracy: 0.93 - ETA: 9s - loss: 0.1256 - accuracy: 0.93 - ETA: 9s - loss: 0.1234 - accuracy: 0.93 - ETA: 9s - loss: 0.1210 - accuracy: 0.93 - ETA: 9s - loss: 0.1199 - accuracy: 0.93 - ETA: 9s - loss: 0.1184 - accuracy: 0.94 - ETA: 9s - loss: 0.1157 - accuracy: 0.94 - ETA: 9s - loss: 0.1168 - accuracy: 0.94 - ETA: 9s - loss: 0.1247 - accuracy: 0.93 - ETA: 9s - loss: 0.1255 - accuracy: 0.93 - ETA: 9s - loss: 0.1225 - accuracy: 0.93 - ETA: 9s - loss: 0.1245 - accuracy: 0.93 - ETA: 9s - loss: 0.1255 - accuracy: 0.93 - ETA: 9s - loss: 0.1272 - accuracy: 0.93 - ETA: 9s - loss: 0.1281 - accuracy: 0.93 - ETA: 8s - loss: 0.1259 - accuracy: 0.93 - ETA: 8s - loss: 0.1260 - accuracy: 0.93 - ETA: 8s - loss: 0.1260 - accuracy: 0.93 - ETA: 8s - loss: 0.1350 - accuracy: 0.93 - ETA: 8s - loss: 0.1363 - accuracy: 0.93 - ETA: 8s - loss: 0.1375 - accuracy: 0.93 - ETA: 8s - loss: 0.1363 - accuracy: 0.93 - ETA: 8s - loss: 0.1392 - accuracy: 0.93 - ETA: 8s - loss: 0.1410 - accuracy: 0.92 - ETA: 8s - loss: 0.1407 - accuracy: 0.92 - ETA: 8s - loss: 0.1414 - accuracy: 0.93 - ETA: 8s - loss: 0.1412 - accuracy: 0.93 - ETA: 8s - loss: 0.1405 - accuracy: 0.93 - ETA: 8s - loss: 0.1417 - accuracy: 0.92 - ETA: 8s - loss: 0.1396 - accuracy: 0.92 - ETA: 8s - loss: 0.1395 - accuracy: 0.92 - ETA: 8s - loss: 0.1377 - accuracy: 0.93 - ETA: 8s - loss: 0.1376 - accuracy: 0.93 - ETA: 8s - loss: 0.1358 - accuracy: 0.93 - ETA: 8s - loss: 0.1339 - accuracy: 0.93 - ETA: 7s - loss: 0.1358 - accuracy: 0.93 - ETA: 7s - loss: 0.1337 - accuracy: 0.93 - ETA: 7s - loss: 0.1350 - accuracy: 0.93 - ETA: 7s - loss: 0.1350 - accuracy: 0.93 - ETA: 7s - loss: 0.1342 - accuracy: 0.93 - ETA: 7s - loss: 0.1329 - accuracy: 0.93 - ETA: 7s - loss: 0.1328 - accuracy: 0.93 - ETA: 7s - loss: 0.1345 - accuracy: 0.92 - ETA: 7s - loss: 0.1345 - accuracy: 0.92 - ETA: 7s - loss: 0.1366 - accuracy: 0.92 - ETA: 7s - loss: 0.1391 - accuracy: 0.92 - ETA: 7s - loss: 0.1381 - accuracy: 0.92 - ETA: 7s - loss: 0.1406 - accuracy: 0.92 - ETA: 7s - loss: 0.1414 - accuracy: 0.92 - ETA: 7s - loss: 0.1398 - accuracy: 0.92 - ETA: 7s - loss: 0.1382 - accuracy: 0.92 - ETA: 7s - loss: 0.1377 - accuracy: 0.92 - ETA: 7s - loss: 0.1367 - accuracy: 0.92 - ETA: 7s - loss: 0.1367 - accuracy: 0.92 - ETA: 7s - loss: 0.1367 - accuracy: 0.93 - ETA: 7s - loss: 0.1354 - accuracy: 0.93 - ETA: 6s - loss: 0.1344 - accuracy: 0.93 - ETA: 6s - loss: 0.1343 - accuracy: 0.93 - ETA: 6s - loss: 0.1332 - accuracy: 0.93 - ETA: 6s - loss: 0.1321 - accuracy: 0.93 - ETA: 6s - loss: 0.1330 - accuracy: 0.93 - ETA: 6s - loss: 0.1322 - accuracy: 0.93 - ETA: 6s - loss: 0.1320 - accuracy: 0.93 - ETA: 6s - loss: 0.1309 - accuracy: 0.93 - ETA: 6s - loss: 0.1313 - accuracy: 0.93 - ETA: 6s - loss: 0.1334 - accuracy: 0.93 - ETA: 6s - loss: 0.1330 - accuracy: 0.93 - ETA: 6s - loss: 0.1333 - accuracy: 0.93 - ETA: 6s - loss: 0.1331 - accuracy: 0.93 - ETA: 6s - loss: 0.1339 - accuracy: 0.93 - ETA: 6s - loss: 0.1356 - accuracy: 0.92 - ETA: 6s - loss: 0.1345 - accuracy: 0.93 - ETA: 6s - loss: 0.1354 - accuracy: 0.92 - ETA: 6s - loss: 0.1350 - accuracy: 0.93 - ETA: 6s - loss: 0.1339 - accuracy: 0.93 - ETA: 6s - loss: 0.1335 - accuracy: 0.93 - ETA: 6s - loss: 0.1332 - accuracy: 0.93 - ETA: 6s - loss: 0.1335 - accuracy: 0.93 - ETA: 6s - loss: 0.1336 - accuracy: 0.93 - ETA: 5s - loss: 0.1335 - accuracy: 0.93 - ETA: 5s - loss: 0.1333 - accuracy: 0.93 - ETA: 5s - loss: 0.1328 - accuracy: 0.93 - ETA: 5s - loss: 0.1324 - accuracy: 0.93 - ETA: 5s - loss: 0.1318 - accuracy: 0.93 - ETA: 5s - loss: 0.1314 - accuracy: 0.93 - ETA: 5s - loss: 0.1305 - accuracy: 0.93 - ETA: 5s - loss: 0.1308 - accuracy: 0.93 - ETA: 5s - loss: 0.1306 - accuracy: 0.93 - ETA: 5s - loss: 0.1308 - accuracy: 0.93 - ETA: 5s - loss: 0.1307 - accuracy: 0.93 - ETA: 5s - loss: 0.1310 - accuracy: 0.93 - ETA: 5s - loss: 0.1312 - accuracy: 0.93 - ETA: 5s - loss: 0.1322 - accuracy: 0.93 - ETA: 5s - loss: 0.1315 - accuracy: 0.93 - ETA: 5s - loss: 0.1325 - accuracy: 0.93 - ETA: 5s - loss: 0.1324 - accuracy: 0.93 - ETA: 5s - loss: 0.1322 - accuracy: 0.93 - ETA: 5s - loss: 0.1324 - accuracy: 0.93 - ETA: 5s - loss: 0.1317 - accuracy: 0.93 - ETA: 5s - loss: 0.1315 - accuracy: 0.93 - ETA: 5s - loss: 0.1307 - accuracy: 0.93 - ETA: 5s - loss: 0.1299 - accuracy: 0.93 - ETA: 5s - loss: 0.1289 - accuracy: 0.93 - ETA: 5s - loss: 0.1278 - accuracy: 0.93 - ETA: 4s - loss: 0.1278 - accuracy: 0.93 - ETA: 4s - loss: 0.1276 - accuracy: 0.93 - ETA: 4s - loss: 0.1282 - accuracy: 0.93 - ETA: 4s - loss: 0.1272 - accuracy: 0.93 - ETA: 4s - loss: 0.1264 - accuracy: 0.93 - ETA: 4s - loss: 0.1253 - accuracy: 0.93 - ETA: 4s - loss: 0.1244 - accuracy: 0.93 - ETA: 4s - loss: 0.1247 - accuracy: 0.93 - ETA: 4s - loss: 0.1238 - accuracy: 0.93 - ETA: 4s - loss: 0.1228 - accuracy: 0.93 - ETA: 4s - loss: 0.1220 - accuracy: 0.93 - ETA: 4s - loss: 0.1215 - accuracy: 0.93 - ETA: 4s - loss: 0.1213 - accuracy: 0.93 - ETA: 4s - loss: 0.1212 - accuracy: 0.93 - ETA: 4s - loss: 0.1213 - accuracy: 0.93 - ETA: 3s - loss: 0.1247 - accuracy: 0.93 - ETA: 3s - loss: 0.1242 - accuracy: 0.93 - ETA: 3s - loss: 0.1242 - accuracy: 0.93 - ETA: 3s - loss: 0.1233 - accuracy: 0.93 - ETA: 3s - loss: 0.1230 - accuracy: 0.93 - ETA: 3s - loss: 0.1224 - accuracy: 0.93 - ETA: 3s - loss: 0.1223 - accuracy: 0.93 - ETA: 3s - loss: 0.1221 - accuracy: 0.93 - ETA: 3s - loss: 0.1215 - accuracy: 0.93 - ETA: 3s - loss: 0.1219 - accuracy: 0.93 - ETA: 3s - loss: 0.1218 - accuracy: 0.93 - ETA: 3s - loss: 0.1216 - accuracy: 0.93 - ETA: 3s - loss: 0.1211 - accuracy: 0.93 - ETA: 3s - loss: 0.1216 - accuracy: 0.93 - ETA: 3s - loss: 0.1209 - accuracy: 0.93 - ETA: 3s - loss: 0.1231 - accuracy: 0.93 - ETA: 2s - loss: 0.1238 - accuracy: 0.93 - ETA: 2s - loss: 0.1232 - accuracy: 0.93 - ETA: 2s - loss: 0.1231 - accuracy: 0.93 - ETA: 2s - loss: 0.1252 - accuracy: 0.93 - ETA: 2s - loss: 0.1258 - accuracy: 0.93 - ETA: 2s - loss: 0.1255 - accuracy: 0.93 - ETA: 2s - loss: 0.1262 - accuracy: 0.93 - ETA: 2s - loss: 0.1255 - accuracy: 0.93 - ETA: 2s - loss: 0.1256 - accuracy: 0.93 - ETA: 2s - loss: 0.1250 - accuracy: 0.93 - ETA: 2s - loss: 0.1252 - accuracy: 0.93 - ETA: 2s - loss: 0.1245 - accuracy: 0.93 - ETA: 2s - loss: 0.1240 - accuracy: 0.93 - ETA: 2s - loss: 0.1232 - accuracy: 0.93 - ETA: 2s - loss: 0.1230 - accuracy: 0.93 - ETA: 2s - loss: 0.1236 - accuracy: 0.93 - ETA: 1s - loss: 0.1230 - accuracy: 0.93 - ETA: 1s - loss: 0.1237 - accuracy: 0.93 - ETA: 1s - loss: 0.1230 - accuracy: 0.93 - ETA: 1s - loss: 0.1235 - accuracy: 0.93 - ETA: 1s - loss: 0.1233 - accuracy: 0.93 - ETA: 1s - loss: 0.1227 - accuracy: 0.93 - ETA: 1s - loss: 0.1223 - accuracy: 0.93 - ETA: 1s - loss: 0.1223 - accuracy: 0.93 - ETA: 1s - loss: 0.1236 - accuracy: 0.9353"
     ]
    },
    {
     "name": "stdout",
     "output_type": "stream",
     "text": [
      "1600/1600 [==============================] - ETA: 1s - loss: 0.1231 - accuracy: 0.93 - ETA: 1s - loss: 0.1234 - accuracy: 0.93 - ETA: 1s - loss: 0.1241 - accuracy: 0.93 - ETA: 1s - loss: 0.1239 - accuracy: 0.93 - ETA: 1s - loss: 0.1239 - accuracy: 0.93 - ETA: 1s - loss: 0.1234 - accuracy: 0.93 - ETA: 1s - loss: 0.1229 - accuracy: 0.93 - ETA: 1s - loss: 0.1222 - accuracy: 0.93 - ETA: 0s - loss: 0.1215 - accuracy: 0.93 - ETA: 0s - loss: 0.1208 - accuracy: 0.93 - ETA: 0s - loss: 0.1225 - accuracy: 0.93 - ETA: 0s - loss: 0.1223 - accuracy: 0.93 - ETA: 0s - loss: 0.1222 - accuracy: 0.93 - ETA: 0s - loss: 0.1218 - accuracy: 0.93 - ETA: 0s - loss: 0.1226 - accuracy: 0.93 - ETA: 0s - loss: 0.1233 - accuracy: 0.93 - ETA: 0s - loss: 0.1232 - accuracy: 0.93 - ETA: 0s - loss: 0.1228 - accuracy: 0.93 - ETA: 0s - loss: 0.1233 - accuracy: 0.93 - ETA: 0s - loss: 0.1231 - accuracy: 0.93 - ETA: 0s - loss: 0.1229 - accuracy: 0.93 - ETA: 0s - loss: 0.1233 - accuracy: 0.93 - ETA: 0s - loss: 0.1234 - accuracy: 0.93 - ETA: 0s - loss: 0.1241 - accuracy: 0.93 - ETA: 0s - loss: 0.1237 - accuracy: 0.93 - 13s 8ms/step - loss: 0.1237 - accuracy: 0.9361 - val_loss: 0.0280 - val_accuracy: 0.9987\n",
      "Epoch 12/20\n"
     ]
    },
    {
     "name": "stdout",
     "output_type": "stream",
     "text": [
      "1600/1600 [==============================] - ETA: 0s - loss: 0.7299 - accuracy: 0.75 - ETA: 8s - loss: 0.2493 - accuracy: 0.90 - ETA: 8s - loss: 0.1888 - accuracy: 0.92 - ETA: 9s - loss: 0.1899 - accuracy: 0.91 - ETA: 9s - loss: 0.1892 - accuracy: 0.91 - ETA: 9s - loss: 0.1807 - accuracy: 0.91 - ETA: 9s - loss: 0.1790 - accuracy: 0.92 - ETA: 9s - loss: 0.1566 - accuracy: 0.93 - ETA: 9s - loss: 0.1731 - accuracy: 0.93 - ETA: 9s - loss: 0.1826 - accuracy: 0.93 - ETA: 9s - loss: 0.1789 - accuracy: 0.93 - ETA: 9s - loss: 0.1752 - accuracy: 0.93 - ETA: 9s - loss: 0.1789 - accuracy: 0.93 - ETA: 9s - loss: 0.1848 - accuracy: 0.92 - ETA: 8s - loss: 0.1838 - accuracy: 0.92 - ETA: 8s - loss: 0.1771 - accuracy: 0.92 - ETA: 8s - loss: 0.1670 - accuracy: 0.92 - ETA: 8s - loss: 0.1584 - accuracy: 0.93 - ETA: 8s - loss: 0.1506 - accuracy: 0.93 - ETA: 8s - loss: 0.1473 - accuracy: 0.93 - ETA: 8s - loss: 0.1503 - accuracy: 0.93 - ETA: 8s - loss: 0.1533 - accuracy: 0.93 - ETA: 8s - loss: 0.1476 - accuracy: 0.93 - ETA: 8s - loss: 0.1482 - accuracy: 0.93 - ETA: 8s - loss: 0.1477 - accuracy: 0.93 - ETA: 8s - loss: 0.1455 - accuracy: 0.93 - ETA: 8s - loss: 0.1531 - accuracy: 0.93 - ETA: 8s - loss: 0.1524 - accuracy: 0.93 - ETA: 8s - loss: 0.1527 - accuracy: 0.93 - ETA: 8s - loss: 0.1530 - accuracy: 0.92 - ETA: 8s - loss: 0.1523 - accuracy: 0.92 - ETA: 8s - loss: 0.1474 - accuracy: 0.93 - ETA: 8s - loss: 0.1573 - accuracy: 0.92 - ETA: 8s - loss: 0.1522 - accuracy: 0.92 - ETA: 8s - loss: 0.1503 - accuracy: 0.92 - ETA: 8s - loss: 0.1490 - accuracy: 0.92 - ETA: 8s - loss: 0.1467 - accuracy: 0.92 - ETA: 8s - loss: 0.1506 - accuracy: 0.92 - ETA: 8s - loss: 0.1521 - accuracy: 0.92 - ETA: 8s - loss: 0.1483 - accuracy: 0.92 - ETA: 8s - loss: 0.1479 - accuracy: 0.92 - ETA: 8s - loss: 0.1488 - accuracy: 0.92 - ETA: 7s - loss: 0.1498 - accuracy: 0.92 - ETA: 7s - loss: 0.1509 - accuracy: 0.92 - ETA: 7s - loss: 0.1489 - accuracy: 0.92 - ETA: 7s - loss: 0.1456 - accuracy: 0.92 - ETA: 7s - loss: 0.1471 - accuracy: 0.92 - ETA: 7s - loss: 0.1440 - accuracy: 0.92 - ETA: 7s - loss: 0.1416 - accuracy: 0.92 - ETA: 7s - loss: 0.1447 - accuracy: 0.92 - ETA: 7s - loss: 0.1441 - accuracy: 0.92 - ETA: 7s - loss: 0.1434 - accuracy: 0.92 - ETA: 7s - loss: 0.1459 - accuracy: 0.92 - ETA: 7s - loss: 0.1471 - accuracy: 0.92 - ETA: 7s - loss: 0.1463 - accuracy: 0.92 - ETA: 7s - loss: 0.1442 - accuracy: 0.92 - ETA: 7s - loss: 0.1422 - accuracy: 0.92 - ETA: 7s - loss: 0.1415 - accuracy: 0.92 - ETA: 7s - loss: 0.1391 - accuracy: 0.92 - ETA: 7s - loss: 0.1386 - accuracy: 0.92 - ETA: 6s - loss: 0.1389 - accuracy: 0.92 - ETA: 6s - loss: 0.1403 - accuracy: 0.92 - ETA: 6s - loss: 0.1387 - accuracy: 0.92 - ETA: 6s - loss: 0.1382 - accuracy: 0.92 - ETA: 6s - loss: 0.1386 - accuracy: 0.92 - ETA: 6s - loss: 0.1369 - accuracy: 0.92 - ETA: 6s - loss: 0.1385 - accuracy: 0.92 - ETA: 6s - loss: 0.1367 - accuracy: 0.92 - ETA: 6s - loss: 0.1362 - accuracy: 0.92 - ETA: 6s - loss: 0.1382 - accuracy: 0.92 - ETA: 6s - loss: 0.1384 - accuracy: 0.92 - ETA: 6s - loss: 0.1369 - accuracy: 0.92 - ETA: 6s - loss: 0.1354 - accuracy: 0.92 - ETA: 6s - loss: 0.1355 - accuracy: 0.92 - ETA: 6s - loss: 0.1377 - accuracy: 0.92 - ETA: 6s - loss: 0.1379 - accuracy: 0.92 - ETA: 6s - loss: 0.1360 - accuracy: 0.92 - ETA: 6s - loss: 0.1363 - accuracy: 0.92 - ETA: 6s - loss: 0.1360 - accuracy: 0.92 - ETA: 6s - loss: 0.1358 - accuracy: 0.92 - ETA: 6s - loss: 0.1354 - accuracy: 0.92 - ETA: 5s - loss: 0.1378 - accuracy: 0.92 - ETA: 5s - loss: 0.1367 - accuracy: 0.92 - ETA: 5s - loss: 0.1352 - accuracy: 0.92 - ETA: 5s - loss: 0.1335 - accuracy: 0.92 - ETA: 5s - loss: 0.1332 - accuracy: 0.92 - ETA: 5s - loss: 0.1316 - accuracy: 0.92 - ETA: 5s - loss: 0.1312 - accuracy: 0.92 - ETA: 5s - loss: 0.1304 - accuracy: 0.92 - ETA: 5s - loss: 0.1315 - accuracy: 0.92 - ETA: 5s - loss: 0.1304 - accuracy: 0.92 - ETA: 5s - loss: 0.1302 - accuracy: 0.92 - ETA: 5s - loss: 0.1302 - accuracy: 0.92 - ETA: 5s - loss: 0.1288 - accuracy: 0.93 - ETA: 5s - loss: 0.1293 - accuracy: 0.93 - ETA: 5s - loss: 0.1283 - accuracy: 0.93 - ETA: 5s - loss: 0.1280 - accuracy: 0.93 - ETA: 5s - loss: 0.1278 - accuracy: 0.93 - ETA: 5s - loss: 0.1266 - accuracy: 0.93 - ETA: 5s - loss: 0.1254 - accuracy: 0.93 - ETA: 4s - loss: 0.1243 - accuracy: 0.93 - ETA: 4s - loss: 0.1230 - accuracy: 0.93 - ETA: 4s - loss: 0.1226 - accuracy: 0.93 - ETA: 4s - loss: 0.1237 - accuracy: 0.93 - ETA: 4s - loss: 0.1243 - accuracy: 0.93 - ETA: 4s - loss: 0.1231 - accuracy: 0.93 - ETA: 4s - loss: 0.1220 - accuracy: 0.93 - ETA: 4s - loss: 0.1210 - accuracy: 0.93 - ETA: 4s - loss: 0.1212 - accuracy: 0.93 - ETA: 4s - loss: 0.1230 - accuracy: 0.93 - ETA: 4s - loss: 0.1242 - accuracy: 0.93 - ETA: 4s - loss: 0.1252 - accuracy: 0.93 - ETA: 4s - loss: 0.1253 - accuracy: 0.93 - ETA: 4s - loss: 0.1251 - accuracy: 0.93 - ETA: 4s - loss: 0.1242 - accuracy: 0.93 - ETA: 4s - loss: 0.1234 - accuracy: 0.93 - ETA: 4s - loss: 0.1235 - accuracy: 0.93 - ETA: 4s - loss: 0.1225 - accuracy: 0.93 - ETA: 4s - loss: 0.1216 - accuracy: 0.93 - ETA: 3s - loss: 0.1225 - accuracy: 0.93 - ETA: 3s - loss: 0.1236 - accuracy: 0.93 - ETA: 3s - loss: 0.1236 - accuracy: 0.93 - ETA: 3s - loss: 0.1227 - accuracy: 0.93 - ETA: 3s - loss: 0.1225 - accuracy: 0.93 - ETA: 3s - loss: 0.1222 - accuracy: 0.93 - ETA: 3s - loss: 0.1214 - accuracy: 0.93 - ETA: 3s - loss: 0.1213 - accuracy: 0.93 - ETA: 3s - loss: 0.1213 - accuracy: 0.93 - ETA: 3s - loss: 0.1205 - accuracy: 0.93 - ETA: 3s - loss: 0.1196 - accuracy: 0.93 - ETA: 3s - loss: 0.1189 - accuracy: 0.93 - ETA: 3s - loss: 0.1194 - accuracy: 0.93 - ETA: 3s - loss: 0.1205 - accuracy: 0.93 - ETA: 3s - loss: 0.1202 - accuracy: 0.93 - ETA: 3s - loss: 0.1200 - accuracy: 0.93 - ETA: 3s - loss: 0.1214 - accuracy: 0.93 - ETA: 3s - loss: 0.1218 - accuracy: 0.93 - ETA: 2s - loss: 0.1225 - accuracy: 0.93 - ETA: 2s - loss: 0.1226 - accuracy: 0.93 - ETA: 2s - loss: 0.1233 - accuracy: 0.93 - ETA: 2s - loss: 0.1245 - accuracy: 0.93 - ETA: 2s - loss: 0.1239 - accuracy: 0.93 - ETA: 2s - loss: 0.1233 - accuracy: 0.93 - ETA: 2s - loss: 0.1225 - accuracy: 0.93 - ETA: 2s - loss: 0.1231 - accuracy: 0.93 - ETA: 2s - loss: 0.1234 - accuracy: 0.93 - ETA: 2s - loss: 0.1234 - accuracy: 0.93 - ETA: 2s - loss: 0.1228 - accuracy: 0.93 - ETA: 2s - loss: 0.1232 - accuracy: 0.93 - ETA: 2s - loss: 0.1240 - accuracy: 0.93 - ETA: 2s - loss: 0.1231 - accuracy: 0.93 - ETA: 2s - loss: 0.1224 - accuracy: 0.93 - ETA: 2s - loss: 0.1220 - accuracy: 0.93 - ETA: 2s - loss: 0.1217 - accuracy: 0.93 - ETA: 2s - loss: 0.1211 - accuracy: 0.93 - ETA: 1s - loss: 0.1226 - accuracy: 0.93 - ETA: 1s - loss: 0.1230 - accuracy: 0.93 - ETA: 1s - loss: 0.1224 - accuracy: 0.93 - ETA: 1s - loss: 0.1224 - accuracy: 0.93 - ETA: 1s - loss: 0.1222 - accuracy: 0.93 - ETA: 1s - loss: 0.1220 - accuracy: 0.93 - ETA: 1s - loss: 0.1219 - accuracy: 0.93 - ETA: 1s - loss: 0.1211 - accuracy: 0.93 - ETA: 1s - loss: 0.1210 - accuracy: 0.93 - ETA: 1s - loss: 0.1209 - accuracy: 0.93 - ETA: 1s - loss: 0.1202 - accuracy: 0.93 - ETA: 1s - loss: 0.1201 - accuracy: 0.93 - ETA: 1s - loss: 0.1194 - accuracy: 0.93 - ETA: 1s - loss: 0.1187 - accuracy: 0.93 - ETA: 1s - loss: 0.1185 - accuracy: 0.93 - ETA: 1s - loss: 0.1178 - accuracy: 0.93 - ETA: 1s - loss: 0.1183 - accuracy: 0.93 - ETA: 1s - loss: 0.1178 - accuracy: 0.93 - ETA: 0s - loss: 0.1179 - accuracy: 0.93 - ETA: 0s - loss: 0.1185 - accuracy: 0.93 - ETA: 0s - loss: 0.1179 - accuracy: 0.93 - ETA: 0s - loss: 0.1173 - accuracy: 0.93 - ETA: 0s - loss: 0.1167 - accuracy: 0.93 - ETA: 0s - loss: 0.1160 - accuracy: 0.93 - ETA: 0s - loss: 0.1159 - accuracy: 0.93 - ETA: 0s - loss: 0.1153 - accuracy: 0.93 - ETA: 0s - loss: 0.1166 - accuracy: 0.93 - ETA: 0s - loss: 0.1161 - accuracy: 0.93 - ETA: 0s - loss: 0.1161 - accuracy: 0.93 - ETA: 0s - loss: 0.1167 - accuracy: 0.93 - ETA: 0s - loss: 0.1168 - accuracy: 0.93 - ETA: 0s - loss: 0.1169 - accuracy: 0.93 - ETA: 0s - loss: 0.1169 - accuracy: 0.93 - ETA: 0s - loss: 0.1168 - accuracy: 0.93 - ETA: 0s - loss: 0.1167 - accuracy: 0.93 - ETA: 0s - loss: 0.1165 - accuracy: 0.93 - ETA: 0s - loss: 0.1161 - accuracy: 0.93 - ETA: 0s - loss: 0.1156 - accuracy: 0.93 - 11s 7ms/step - loss: 0.1161 - accuracy: 0.9391 - val_loss: 0.0079 - val_accuracy: 1.0000\n"
     ]
    },
    {
     "name": "stdout",
     "output_type": "stream",
     "text": [
      "Epoch 13/20\n"
     ]
    },
    {
     "name": "stdout",
     "output_type": "stream",
     "text": [
      "1599/1600 [============================>.] - ETA: 0s - loss: 0.9526 - accuracy: 0.25 - ETA: 8s - loss: 0.1102 - accuracy: 0.92 - ETA: 8s - loss: 0.1072 - accuracy: 0.94 - ETA: 8s - loss: 0.1668 - accuracy: 0.90 - ETA: 9s - loss: 0.1902 - accuracy: 0.87 - ETA: 9s - loss: 0.1581 - accuracy: 0.90 - ETA: 9s - loss: 0.1600 - accuracy: 0.90 - ETA: 9s - loss: 0.1691 - accuracy: 0.89 - ETA: 9s - loss: 0.1631 - accuracy: 0.89 - ETA: 9s - loss: 0.1648 - accuracy: 0.89 - ETA: 9s - loss: 0.1614 - accuracy: 0.90 - ETA: 9s - loss: 0.1606 - accuracy: 0.90 - ETA: 9s - loss: 0.1555 - accuracy: 0.90 - ETA: 8s - loss: 0.1593 - accuracy: 0.89 - ETA: 8s - loss: 0.1480 - accuracy: 0.90 - ETA: 8s - loss: 0.1382 - accuracy: 0.91 - ETA: 8s - loss: 0.1310 - accuracy: 0.91 - ETA: 8s - loss: 0.1291 - accuracy: 0.91 - ETA: 8s - loss: 0.1274 - accuracy: 0.91 - ETA: 8s - loss: 0.1306 - accuracy: 0.91 - ETA: 8s - loss: 0.1287 - accuracy: 0.92 - ETA: 8s - loss: 0.1275 - accuracy: 0.92 - ETA: 8s - loss: 0.1218 - accuracy: 0.92 - ETA: 8s - loss: 0.1248 - accuracy: 0.92 - ETA: 8s - loss: 0.1204 - accuracy: 0.92 - ETA: 8s - loss: 0.1269 - accuracy: 0.92 - ETA: 8s - loss: 0.1229 - accuracy: 0.92 - ETA: 8s - loss: 0.1246 - accuracy: 0.92 - ETA: 8s - loss: 0.1212 - accuracy: 0.93 - ETA: 8s - loss: 0.1254 - accuracy: 0.93 - ETA: 8s - loss: 0.1296 - accuracy: 0.93 - ETA: 8s - loss: 0.1259 - accuracy: 0.93 - ETA: 8s - loss: 0.1246 - accuracy: 0.93 - ETA: 8s - loss: 0.1241 - accuracy: 0.93 - ETA: 7s - loss: 0.1240 - accuracy: 0.93 - ETA: 7s - loss: 0.1240 - accuracy: 0.93 - ETA: 7s - loss: 0.1206 - accuracy: 0.93 - ETA: 7s - loss: 0.1226 - accuracy: 0.93 - ETA: 7s - loss: 0.1226 - accuracy: 0.93 - ETA: 7s - loss: 0.1235 - accuracy: 0.93 - ETA: 7s - loss: 0.1275 - accuracy: 0.93 - ETA: 7s - loss: 0.1247 - accuracy: 0.93 - ETA: 7s - loss: 0.1227 - accuracy: 0.93 - ETA: 7s - loss: 0.1201 - accuracy: 0.93 - ETA: 7s - loss: 0.1180 - accuracy: 0.94 - ETA: 7s - loss: 0.1163 - accuracy: 0.94 - ETA: 7s - loss: 0.1157 - accuracy: 0.94 - ETA: 7s - loss: 0.1152 - accuracy: 0.94 - ETA: 7s - loss: 0.1128 - accuracy: 0.94 - ETA: 7s - loss: 0.1171 - accuracy: 0.94 - ETA: 7s - loss: 0.1152 - accuracy: 0.94 - ETA: 7s - loss: 0.1163 - accuracy: 0.93 - ETA: 7s - loss: 0.1155 - accuracy: 0.94 - ETA: 7s - loss: 0.1171 - accuracy: 0.93 - ETA: 7s - loss: 0.1203 - accuracy: 0.93 - ETA: 7s - loss: 0.1219 - accuracy: 0.93 - ETA: 6s - loss: 0.1197 - accuracy: 0.93 - ETA: 6s - loss: 0.1199 - accuracy: 0.93 - ETA: 6s - loss: 0.1182 - accuracy: 0.93 - ETA: 6s - loss: 0.1192 - accuracy: 0.93 - ETA: 6s - loss: 0.1188 - accuracy: 0.93 - ETA: 6s - loss: 0.1204 - accuracy: 0.93 - ETA: 6s - loss: 0.1185 - accuracy: 0.93 - ETA: 6s - loss: 0.1179 - accuracy: 0.93 - ETA: 6s - loss: 0.1172 - accuracy: 0.93 - ETA: 6s - loss: 0.1172 - accuracy: 0.93 - ETA: 6s - loss: 0.1157 - accuracy: 0.93 - ETA: 6s - loss: 0.1154 - accuracy: 0.93 - ETA: 6s - loss: 0.1147 - accuracy: 0.93 - ETA: 6s - loss: 0.1143 - accuracy: 0.93 - ETA: 6s - loss: 0.1147 - accuracy: 0.93 - ETA: 6s - loss: 0.1140 - accuracy: 0.93 - ETA: 6s - loss: 0.1143 - accuracy: 0.93 - ETA: 6s - loss: 0.1144 - accuracy: 0.93 - ETA: 6s - loss: 0.1143 - accuracy: 0.93 - ETA: 5s - loss: 0.1147 - accuracy: 0.93 - ETA: 5s - loss: 0.1132 - accuracy: 0.94 - ETA: 5s - loss: 0.1132 - accuracy: 0.94 - ETA: 5s - loss: 0.1120 - accuracy: 0.94 - ETA: 5s - loss: 0.1120 - accuracy: 0.94 - ETA: 5s - loss: 0.1107 - accuracy: 0.94 - ETA: 5s - loss: 0.1111 - accuracy: 0.94 - ETA: 5s - loss: 0.1097 - accuracy: 0.94 - ETA: 5s - loss: 0.1096 - accuracy: 0.94 - ETA: 5s - loss: 0.1100 - accuracy: 0.94 - ETA: 5s - loss: 0.1102 - accuracy: 0.94 - ETA: 5s - loss: 0.1100 - accuracy: 0.94 - ETA: 5s - loss: 0.1100 - accuracy: 0.94 - ETA: 5s - loss: 0.1109 - accuracy: 0.94 - ETA: 5s - loss: 0.1097 - accuracy: 0.94 - ETA: 5s - loss: 0.1088 - accuracy: 0.94 - ETA: 5s - loss: 0.1076 - accuracy: 0.94 - ETA: 5s - loss: 0.1082 - accuracy: 0.94 - ETA: 5s - loss: 0.1070 - accuracy: 0.94 - ETA: 4s - loss: 0.1060 - accuracy: 0.94 - ETA: 4s - loss: 0.1062 - accuracy: 0.94 - ETA: 4s - loss: 0.1052 - accuracy: 0.94 - ETA: 4s - loss: 0.1056 - accuracy: 0.94 - ETA: 4s - loss: 0.1061 - accuracy: 0.94 - ETA: 4s - loss: 0.1058 - accuracy: 0.94 - ETA: 4s - loss: 0.1065 - accuracy: 0.94 - ETA: 4s - loss: 0.1076 - accuracy: 0.94 - ETA: 4s - loss: 0.1077 - accuracy: 0.94 - ETA: 4s - loss: 0.1076 - accuracy: 0.94 - ETA: 4s - loss: 0.1067 - accuracy: 0.94 - ETA: 4s - loss: 0.1069 - accuracy: 0.94 - ETA: 4s - loss: 0.1062 - accuracy: 0.94 - ETA: 4s - loss: 0.1061 - accuracy: 0.94 - ETA: 4s - loss: 0.1066 - accuracy: 0.94 - ETA: 4s - loss: 0.1075 - accuracy: 0.94 - ETA: 4s - loss: 0.1066 - accuracy: 0.94 - ETA: 4s - loss: 0.1066 - accuracy: 0.94 - ETA: 4s - loss: 0.1077 - accuracy: 0.94 - ETA: 4s - loss: 0.1083 - accuracy: 0.94 - ETA: 4s - loss: 0.1075 - accuracy: 0.94 - ETA: 3s - loss: 0.1067 - accuracy: 0.94 - ETA: 3s - loss: 0.1069 - accuracy: 0.94 - ETA: 3s - loss: 0.1062 - accuracy: 0.94 - ETA: 3s - loss: 0.1056 - accuracy: 0.94 - ETA: 3s - loss: 0.1049 - accuracy: 0.94 - ETA: 3s - loss: 0.1049 - accuracy: 0.94 - ETA: 3s - loss: 0.1048 - accuracy: 0.94 - ETA: 3s - loss: 0.1051 - accuracy: 0.94 - ETA: 3s - loss: 0.1055 - accuracy: 0.94 - ETA: 3s - loss: 0.1048 - accuracy: 0.94 - ETA: 3s - loss: 0.1047 - accuracy: 0.94 - ETA: 3s - loss: 0.1042 - accuracy: 0.94 - ETA: 3s - loss: 0.1046 - accuracy: 0.94 - ETA: 3s - loss: 0.1056 - accuracy: 0.94 - ETA: 3s - loss: 0.1065 - accuracy: 0.94 - ETA: 3s - loss: 0.1076 - accuracy: 0.94 - ETA: 3s - loss: 0.1069 - accuracy: 0.94 - ETA: 3s - loss: 0.1069 - accuracy: 0.94 - ETA: 3s - loss: 0.1063 - accuracy: 0.94 - ETA: 3s - loss: 0.1070 - accuracy: 0.94 - ETA: 3s - loss: 0.1082 - accuracy: 0.94 - ETA: 2s - loss: 0.1097 - accuracy: 0.94 - ETA: 2s - loss: 0.1116 - accuracy: 0.93 - ETA: 2s - loss: 0.1115 - accuracy: 0.93 - ETA: 2s - loss: 0.1129 - accuracy: 0.93 - ETA: 2s - loss: 0.1135 - accuracy: 0.93 - ETA: 2s - loss: 0.1142 - accuracy: 0.93 - ETA: 2s - loss: 0.1147 - accuracy: 0.93 - ETA: 2s - loss: 0.1148 - accuracy: 0.93 - ETA: 2s - loss: 0.1151 - accuracy: 0.93 - ETA: 2s - loss: 0.1152 - accuracy: 0.93 - ETA: 2s - loss: 0.1150 - accuracy: 0.93 - ETA: 2s - loss: 0.1144 - accuracy: 0.93 - ETA: 2s - loss: 0.1152 - accuracy: 0.93 - ETA: 2s - loss: 0.1146 - accuracy: 0.93 - ETA: 2s - loss: 0.1174 - accuracy: 0.93 - ETA: 2s - loss: 0.1170 - accuracy: 0.93 - ETA: 2s - loss: 0.1178 - accuracy: 0.93 - ETA: 2s - loss: 0.1191 - accuracy: 0.93 - ETA: 2s - loss: 0.1188 - accuracy: 0.93 - ETA: 1s - loss: 0.1181 - accuracy: 0.93 - ETA: 1s - loss: 0.1184 - accuracy: 0.93 - ETA: 1s - loss: 0.1186 - accuracy: 0.93 - ETA: 1s - loss: 0.1199 - accuracy: 0.93 - ETA: 1s - loss: 0.1197 - accuracy: 0.93 - ETA: 1s - loss: 0.1209 - accuracy: 0.93 - ETA: 1s - loss: 0.1208 - accuracy: 0.93 - ETA: 1s - loss: 0.1202 - accuracy: 0.93 - ETA: 1s - loss: 0.1199 - accuracy: 0.93 - ETA: 1s - loss: 0.1218 - accuracy: 0.93 - ETA: 1s - loss: 0.1219 - accuracy: 0.93 - ETA: 1s - loss: 0.1218 - accuracy: 0.93 - ETA: 1s - loss: 0.1212 - accuracy: 0.93 - ETA: 1s - loss: 0.1209 - accuracy: 0.93 - ETA: 1s - loss: 0.1202 - accuracy: 0.93 - ETA: 1s - loss: 0.1204 - accuracy: 0.93 - ETA: 1s - loss: 0.1212 - accuracy: 0.93 - ETA: 1s - loss: 0.1226 - accuracy: 0.93 - ETA: 1s - loss: 0.1238 - accuracy: 0.93 - ETA: 1s - loss: 0.1238 - accuracy: 0.93 - ETA: 0s - loss: 0.1233 - accuracy: 0.93 - ETA: 0s - loss: 0.1239 - accuracy: 0.93 - ETA: 0s - loss: 0.1234 - accuracy: 0.93 - ETA: 0s - loss: 0.1231 - accuracy: 0.93 - ETA: 0s - loss: 0.1236 - accuracy: 0.93 - ETA: 0s - loss: 0.1233 - accuracy: 0.93 - ETA: 0s - loss: 0.1233 - accuracy: 0.93 - ETA: 0s - loss: 0.1227 - accuracy: 0.93 - ETA: 0s - loss: 0.1226 - accuracy: 0.93 - ETA: 0s - loss: 0.1227 - accuracy: 0.93 - ETA: 0s - loss: 0.1228 - accuracy: 0.93 - ETA: 0s - loss: 0.1225 - accuracy: 0.93 - ETA: 0s - loss: 0.1235 - accuracy: 0.93 - ETA: 0s - loss: 0.1229 - accuracy: 0.93 - ETA: 0s - loss: 0.1223 - accuracy: 0.93 - ETA: 0s - loss: 0.1226 - accuracy: 0.93 - ETA: 0s - loss: 0.1221 - accuracy: 0.93 - ETA: 0s - loss: 0.1223 - accuracy: 0.93 - ETA: 0s - loss: 0.1218 - accuracy: 0.9370\b\b\b\b\b\b\b\b\b\b\b\b\b\b\b\b\b\b\b\b\b\b\b\b\b\b\b\b\b\b\b\b\b\b\b\b\b\b\b\b\b\b\b\b\b\b\b\b\b\b\b\b\b\b\b\b\b\b\b\b\b\b\b\b\b\b\b\b\b\b\b\b\b\b\b\b\b\b\b\b\b\b\b\b\b\b"
     ]
    },
    {
     "name": "stdout",
     "output_type": "stream",
     "text": [
      "1600/1600 [==============================] - 12s 7ms/step - loss: 0.1217 - accuracy: 0.9370 - val_loss: 0.0144 - val_accuracy: 0.9925\n",
      "Epoch 14/20\n"
     ]
    },
    {
     "name": "stdout",
     "output_type": "stream",
     "text": [
      "1012/1600 [=================>............] - ETA: 0s - loss: 0.2499 - accuracy: 1.00 - ETA: 8s - loss: 0.1712 - accuracy: 0.92 - ETA: 8s - loss: 0.1142 - accuracy: 0.95 - ETA: 9s - loss: 0.1451 - accuracy: 0.92 - ETA: 9s - loss: 0.1149 - accuracy: 0.94 - ETA: 9s - loss: 0.1173 - accuracy: 0.94 - ETA: 9s - loss: 0.1352 - accuracy: 0.93 - ETA: 9s - loss: 0.1349 - accuracy: 0.93 - ETA: 9s - loss: 0.1313 - accuracy: 0.92 - ETA: 9s - loss: 0.1521 - accuracy: 0.91 - ETA: 9s - loss: 0.1432 - accuracy: 0.92 - ETA: 9s - loss: 0.1338 - accuracy: 0.92 - ETA: 9s - loss: 0.1236 - accuracy: 0.93 - ETA: 9s - loss: 0.1201 - accuracy: 0.93 - ETA: 9s - loss: 0.1137 - accuracy: 0.93 - ETA: 9s - loss: 0.1137 - accuracy: 0.93 - ETA: 9s - loss: 0.1067 - accuracy: 0.94 - ETA: 9s - loss: 0.1015 - accuracy: 0.94 - ETA: 9s - loss: 0.1010 - accuracy: 0.94 - ETA: 9s - loss: 0.0965 - accuracy: 0.94 - ETA: 10s - loss: 0.0934 - accuracy: 0.947 - ETA: 10s - loss: 0.0898 - accuracy: 0.949 - ETA: 10s - loss: 0.0885 - accuracy: 0.949 - ETA: 10s - loss: 0.0918 - accuracy: 0.945 - ETA: 10s - loss: 0.0896 - accuracy: 0.946 - ETA: 10s - loss: 0.0919 - accuracy: 0.945 - ETA: 10s - loss: 0.0966 - accuracy: 0.944 - ETA: 10s - loss: 0.1084 - accuracy: 0.937 - ETA: 10s - loss: 0.1056 - accuracy: 0.939 - ETA: 10s - loss: 0.1029 - accuracy: 0.940 - ETA: 10s - loss: 0.1011 - accuracy: 0.942 - ETA: 11s - loss: 0.1039 - accuracy: 0.940 - ETA: 11s - loss: 0.1050 - accuracy: 0.940 - ETA: 11s - loss: 0.1041 - accuracy: 0.941 - ETA: 11s - loss: 0.1056 - accuracy: 0.940 - ETA: 11s - loss: 0.1039 - accuracy: 0.941 - ETA: 11s - loss: 0.1025 - accuracy: 0.942 - ETA: 11s - loss: 0.1021 - accuracy: 0.943 - ETA: 12s - loss: 0.1019 - accuracy: 0.943 - ETA: 12s - loss: 0.1015 - accuracy: 0.943 - ETA: 12s - loss: 0.1007 - accuracy: 0.944 - ETA: 12s - loss: 0.0995 - accuracy: 0.944 - ETA: 13s - loss: 0.1013 - accuracy: 0.943 - ETA: 13s - loss: 0.1009 - accuracy: 0.943 - ETA: 13s - loss: 0.1029 - accuracy: 0.942 - ETA: 13s - loss: 0.1103 - accuracy: 0.938 - ETA: 13s - loss: 0.1091 - accuracy: 0.939 - ETA: 13s - loss: 0.1098 - accuracy: 0.938 - ETA: 13s - loss: 0.1082 - accuracy: 0.939 - ETA: 13s - loss: 0.1199 - accuracy: 0.933 - ETA: 13s - loss: 0.1214 - accuracy: 0.932 - ETA: 13s - loss: 0.1238 - accuracy: 0.930 - ETA: 13s - loss: 0.1292 - accuracy: 0.930 - ETA: 13s - loss: 0.1296 - accuracy: 0.930 - ETA: 13s - loss: 0.1273 - accuracy: 0.932 - ETA: 13s - loss: 0.1309 - accuracy: 0.930 - ETA: 13s - loss: 0.1286 - accuracy: 0.932 - ETA: 13s - loss: 0.1300 - accuracy: 0.930 - ETA: 13s - loss: 0.1280 - accuracy: 0.932 - ETA: 13s - loss: 0.1283 - accuracy: 0.932 - ETA: 13s - loss: 0.1322 - accuracy: 0.931 - ETA: 12s - loss: 0.1329 - accuracy: 0.930 - ETA: 12s - loss: 0.1328 - accuracy: 0.930 - ETA: 12s - loss: 0.1341 - accuracy: 0.928 - ETA: 12s - loss: 0.1346 - accuracy: 0.928 - ETA: 12s - loss: 0.1328 - accuracy: 0.929 - ETA: 12s - loss: 0.1323 - accuracy: 0.929 - ETA: 12s - loss: 0.1305 - accuracy: 0.930 - ETA: 12s - loss: 0.1311 - accuracy: 0.930 - ETA: 12s - loss: 0.1311 - accuracy: 0.931 - ETA: 12s - loss: 0.1293 - accuracy: 0.932 - ETA: 12s - loss: 0.1274 - accuracy: 0.933 - ETA: 12s - loss: 0.1302 - accuracy: 0.930 - ETA: 12s - loss: 0.1349 - accuracy: 0.927 - ETA: 11s - loss: 0.1377 - accuracy: 0.925 - ETA: 11s - loss: 0.1357 - accuracy: 0.926 - ETA: 11s - loss: 0.1359 - accuracy: 0.925 - ETA: 11s - loss: 0.1342 - accuracy: 0.927 - ETA: 11s - loss: 0.1349 - accuracy: 0.926 - ETA: 11s - loss: 0.1359 - accuracy: 0.926 - ETA: 11s - loss: 0.1354 - accuracy: 0.926 - ETA: 11s - loss: 0.1339 - accuracy: 0.927 - ETA: 11s - loss: 0.1334 - accuracy: 0.927 - ETA: 11s - loss: 0.1319 - accuracy: 0.929 - ETA: 11s - loss: 0.1304 - accuracy: 0.929 - ETA: 11s - loss: 0.1322 - accuracy: 0.929 - ETA: 11s - loss: 0.1319 - accuracy: 0.930 - ETA: 11s - loss: 0.1303 - accuracy: 0.930 - ETA: 10s - loss: 0.1297 - accuracy: 0.931 - ETA: 10s - loss: 0.1333 - accuracy: 0.928 - ETA: 10s - loss: 0.1321 - accuracy: 0.929 - ETA: 10s - loss: 0.1338 - accuracy: 0.928 - ETA: 10s - loss: 0.1331 - accuracy: 0.928 - ETA: 10s - loss: 0.1338 - accuracy: 0.928 - ETA: 10s - loss: 0.1357 - accuracy: 0.927 - ETA: 10s - loss: 0.1368 - accuracy: 0.927 - ETA: 10s - loss: 0.1357 - accuracy: 0.928 - ETA: 10s - loss: 0.1362 - accuracy: 0.927 - ETA: 10s - loss: 0.1365 - accuracy: 0.927 - ETA: 10s - loss: 0.1364 - accuracy: 0.927 - ETA: 10s - loss: 0.1351 - accuracy: 0.928 - ETA: 10s - loss: 0.1356 - accuracy: 0.927 - ETA: 10s - loss: 0.1342 - accuracy: 0.928 - ETA: 10s - loss: 0.1340 - accuracy: 0.928 - ETA: 10s - loss: 0.1328 - accuracy: 0.928 - ETA: 10s - loss: 0.1329 - accuracy: 0.928 - ETA: 9s - loss: 0.1329 - accuracy: 0.928 - ETA: 9s - loss: 0.1317 - accuracy: 0.92 - ETA: 9s - loss: 0.1318 - accuracy: 0.92 - ETA: 9s - loss: 0.1312 - accuracy: 0.92 - ETA: 9s - loss: 0.1303 - accuracy: 0.93 - ETA: 9s - loss: 0.1302 - accuracy: 0.93 - ETA: 9s - loss: 0.1308 - accuracy: 0.93 - ETA: 9s - loss: 0.1300 - accuracy: 0.93 - ETA: 9s - loss: 0.1290 - accuracy: 0.93 - ETA: 9s - loss: 0.1283 - accuracy: 0.93 - ETA: 9s - loss: 0.1283 - accuracy: 0.93 - ETA: 9s - loss: 0.1276 - accuracy: 0.93 - ETA: 9s - loss: 0.1268 - accuracy: 0.93 - ETA: 9s - loss: 0.1259 - accuracy: 0.93 - ETA: 9s - loss: 0.1252 - accuracy: 0.93 - ETA: 9s - loss: 0.1259 - accuracy: 0.93 - ETA: 9s - loss: 0.1263 - accuracy: 0.93 - ETA: 9s - loss: 0.1269 - accuracy: 0.93 - ETA: 9s - loss: 0.1260 - accuracy: 0.93 - ETA: 9s - loss: 0.1267 - accuracy: 0.93 - ETA: 9s - loss: 0.1270 - accuracy: 0.93 - ETA: 9s - loss: 0.1260 - accuracy: 0.93 - ETA: 9s - loss: 0.1259 - accuracy: 0.93 - ETA: 8s - loss: 0.1253 - accuracy: 0.93 - ETA: 8s - loss: 0.1242 - accuracy: 0.93 - ETA: 8s - loss: 0.1232 - accuracy: 0.93 - ETA: 8s - loss: 0.1225 - accuracy: 0.93 - ETA: 8s - loss: 0.1217 - accuracy: 0.93 - ETA: 8s - loss: 0.1222 - accuracy: 0.93 - ETA: 8s - loss: 0.1236 - accuracy: 0.93 - ETA: 8s - loss: 0.1238 - accuracy: 0.93 - ETA: 8s - loss: 0.1250 - accuracy: 0.93 - ETA: 8s - loss: 0.1243 - accuracy: 0.93 - ETA: 8s - loss: 0.1249 - accuracy: 0.93 - ETA: 8s - loss: 0.1241 - accuracy: 0.93 - ETA: 8s - loss: 0.1250 - accuracy: 0.93 - ETA: 8s - loss: 0.1254 - accuracy: 0.93 - ETA: 8s - loss: 0.1245 - accuracy: 0.93 - ETA: 8s - loss: 0.1248 - accuracy: 0.93 - ETA: 8s - loss: 0.1241 - accuracy: 0.93 - ETA: 8s - loss: 0.1234 - accuracy: 0.93 - ETA: 8s - loss: 0.1238 - accuracy: 0.93 - ETA: 8s - loss: 0.1229 - accuracy: 0.93 - ETA: 8s - loss: 0.1223 - accuracy: 0.93 - ETA: 7s - loss: 0.1228 - accuracy: 0.93 - ETA: 7s - loss: 0.1222 - accuracy: 0.93 - ETA: 7s - loss: 0.1224 - accuracy: 0.93 - ETA: 7s - loss: 0.1227 - accuracy: 0.93 - ETA: 7s - loss: 0.1220 - accuracy: 0.93 - ETA: 7s - loss: 0.1214 - accuracy: 0.93 - ETA: 7s - loss: 0.1224 - accuracy: 0.93 - ETA: 7s - loss: 0.1225 - accuracy: 0.93 - ETA: 7s - loss: 0.1228 - accuracy: 0.93 - ETA: 7s - loss: 0.1225 - accuracy: 0.93 - ETA: 7s - loss: 0.1222 - accuracy: 0.93 - ETA: 7s - loss: 0.1221 - accuracy: 0.93 - ETA: 7s - loss: 0.1217 - accuracy: 0.93 - ETA: 7s - loss: 0.1211 - accuracy: 0.93 - ETA: 7s - loss: 0.1219 - accuracy: 0.93 - ETA: 7s - loss: 0.1221 - accuracy: 0.93 - ETA: 7s - loss: 0.1231 - accuracy: 0.93 - ETA: 7s - loss: 0.1243 - accuracy: 0.93 - ETA: 7s - loss: 0.1238 - accuracy: 0.93 - ETA: 7s - loss: 0.1241 - accuracy: 0.93 - ETA: 7s - loss: 0.1236 - accuracy: 0.93 - ETA: 7s - loss: 0.1228 - accuracy: 0.93 - ETA: 7s - loss: 0.1237 - accuracy: 0.93 - ETA: 6s - loss: 0.1240 - accuracy: 0.93 - ETA: 6s - loss: 0.1244 - accuracy: 0.93 - ETA: 6s - loss: 0.1244 - accuracy: 0.93 - ETA: 6s - loss: 0.1239 - accuracy: 0.93 - ETA: 6s - loss: 0.1232 - accuracy: 0.93 - ETA: 6s - loss: 0.1227 - accuracy: 0.93 - ETA: 6s - loss: 0.1227 - accuracy: 0.93 - ETA: 6s - loss: 0.1230 - accuracy: 0.93 - ETA: 6s - loss: 0.1253 - accuracy: 0.93 - ETA: 6s - loss: 0.1253 - accuracy: 0.93 - ETA: 6s - loss: 0.1246 - accuracy: 0.93 - ETA: 6s - loss: 0.1242 - accuracy: 0.93 - ETA: 6s - loss: 0.1236 - accuracy: 0.93 - ETA: 6s - loss: 0.1230 - accuracy: 0.93 - ETA: 6s - loss: 0.1240 - accuracy: 0.93 - ETA: 6s - loss: 0.1240 - accuracy: 0.93 - ETA: 6s - loss: 0.1233 - accuracy: 0.9348"
     ]
    },
    {
     "name": "stdout",
     "output_type": "stream",
     "text": [
      "1600/1600 [==============================] - ETA: 5s - loss: 0.1233 - accuracy: 0.93 - ETA: 5s - loss: 0.1244 - accuracy: 0.93 - ETA: 5s - loss: 0.1248 - accuracy: 0.93 - ETA: 5s - loss: 0.1241 - accuracy: 0.93 - ETA: 5s - loss: 0.1234 - accuracy: 0.93 - ETA: 5s - loss: 0.1228 - accuracy: 0.93 - ETA: 5s - loss: 0.1230 - accuracy: 0.93 - ETA: 5s - loss: 0.1230 - accuracy: 0.93 - ETA: 5s - loss: 0.1222 - accuracy: 0.93 - ETA: 5s - loss: 0.1217 - accuracy: 0.93 - ETA: 5s - loss: 0.1225 - accuracy: 0.93 - ETA: 5s - loss: 0.1226 - accuracy: 0.93 - ETA: 5s - loss: 0.1219 - accuracy: 0.93 - ETA: 5s - loss: 0.1239 - accuracy: 0.93 - ETA: 4s - loss: 0.1242 - accuracy: 0.93 - ETA: 4s - loss: 0.1251 - accuracy: 0.93 - ETA: 4s - loss: 0.1246 - accuracy: 0.93 - ETA: 4s - loss: 0.1252 - accuracy: 0.93 - ETA: 4s - loss: 0.1245 - accuracy: 0.93 - ETA: 4s - loss: 0.1244 - accuracy: 0.93 - ETA: 4s - loss: 0.1236 - accuracy: 0.93 - ETA: 4s - loss: 0.1241 - accuracy: 0.93 - ETA: 4s - loss: 0.1234 - accuracy: 0.93 - ETA: 4s - loss: 0.1238 - accuracy: 0.93 - ETA: 4s - loss: 0.1244 - accuracy: 0.93 - ETA: 4s - loss: 0.1238 - accuracy: 0.93 - ETA: 4s - loss: 0.1242 - accuracy: 0.93 - ETA: 3s - loss: 0.1235 - accuracy: 0.93 - ETA: 3s - loss: 0.1241 - accuracy: 0.93 - ETA: 3s - loss: 0.1234 - accuracy: 0.93 - ETA: 3s - loss: 0.1232 - accuracy: 0.93 - ETA: 3s - loss: 0.1226 - accuracy: 0.93 - ETA: 3s - loss: 0.1229 - accuracy: 0.93 - ETA: 3s - loss: 0.1230 - accuracy: 0.93 - ETA: 3s - loss: 0.1228 - accuracy: 0.93 - ETA: 3s - loss: 0.1222 - accuracy: 0.93 - ETA: 3s - loss: 0.1225 - accuracy: 0.93 - ETA: 3s - loss: 0.1222 - accuracy: 0.93 - ETA: 3s - loss: 0.1217 - accuracy: 0.93 - ETA: 3s - loss: 0.1223 - accuracy: 0.93 - ETA: 3s - loss: 0.1225 - accuracy: 0.93 - ETA: 3s - loss: 0.1239 - accuracy: 0.93 - ETA: 2s - loss: 0.1246 - accuracy: 0.93 - ETA: 2s - loss: 0.1245 - accuracy: 0.93 - ETA: 2s - loss: 0.1248 - accuracy: 0.93 - ETA: 2s - loss: 0.1243 - accuracy: 0.93 - ETA: 2s - loss: 0.1244 - accuracy: 0.93 - ETA: 2s - loss: 0.1238 - accuracy: 0.93 - ETA: 2s - loss: 0.1233 - accuracy: 0.93 - ETA: 2s - loss: 0.1237 - accuracy: 0.93 - ETA: 2s - loss: 0.1233 - accuracy: 0.93 - ETA: 2s - loss: 0.1239 - accuracy: 0.93 - ETA: 2s - loss: 0.1241 - accuracy: 0.93 - ETA: 2s - loss: 0.1235 - accuracy: 0.93 - ETA: 2s - loss: 0.1240 - accuracy: 0.93 - ETA: 2s - loss: 0.1240 - accuracy: 0.93 - ETA: 2s - loss: 0.1236 - accuracy: 0.93 - ETA: 2s - loss: 0.1232 - accuracy: 0.93 - ETA: 2s - loss: 0.1231 - accuracy: 0.93 - ETA: 2s - loss: 0.1231 - accuracy: 0.93 - ETA: 1s - loss: 0.1234 - accuracy: 0.93 - ETA: 1s - loss: 0.1230 - accuracy: 0.93 - ETA: 1s - loss: 0.1229 - accuracy: 0.93 - ETA: 1s - loss: 0.1226 - accuracy: 0.93 - ETA: 1s - loss: 0.1222 - accuracy: 0.93 - ETA: 1s - loss: 0.1222 - accuracy: 0.93 - ETA: 1s - loss: 0.1220 - accuracy: 0.93 - ETA: 1s - loss: 0.1217 - accuracy: 0.93 - ETA: 1s - loss: 0.1212 - accuracy: 0.93 - ETA: 1s - loss: 0.1208 - accuracy: 0.93 - ETA: 1s - loss: 0.1211 - accuracy: 0.93 - ETA: 1s - loss: 0.1211 - accuracy: 0.93 - ETA: 1s - loss: 0.1208 - accuracy: 0.93 - ETA: 1s - loss: 0.1211 - accuracy: 0.93 - ETA: 1s - loss: 0.1208 - accuracy: 0.93 - ETA: 1s - loss: 0.1210 - accuracy: 0.93 - ETA: 1s - loss: 0.1210 - accuracy: 0.93 - ETA: 1s - loss: 0.1218 - accuracy: 0.93 - ETA: 1s - loss: 0.1217 - accuracy: 0.93 - ETA: 1s - loss: 0.1216 - accuracy: 0.93 - ETA: 1s - loss: 0.1214 - accuracy: 0.93 - ETA: 1s - loss: 0.1212 - accuracy: 0.93 - ETA: 1s - loss: 0.1217 - accuracy: 0.93 - ETA: 1s - loss: 0.1213 - accuracy: 0.93 - ETA: 1s - loss: 0.1211 - accuracy: 0.93 - ETA: 1s - loss: 0.1217 - accuracy: 0.93 - ETA: 1s - loss: 0.1214 - accuracy: 0.93 - ETA: 1s - loss: 0.1211 - accuracy: 0.93 - ETA: 0s - loss: 0.1209 - accuracy: 0.93 - ETA: 0s - loss: 0.1206 - accuracy: 0.93 - ETA: 0s - loss: 0.1203 - accuracy: 0.93 - ETA: 0s - loss: 0.1201 - accuracy: 0.93 - ETA: 0s - loss: 0.1198 - accuracy: 0.93 - ETA: 0s - loss: 0.1196 - accuracy: 0.93 - ETA: 0s - loss: 0.1194 - accuracy: 0.93 - ETA: 0s - loss: 0.1199 - accuracy: 0.93 - ETA: 0s - loss: 0.1202 - accuracy: 0.93 - ETA: 0s - loss: 0.1202 - accuracy: 0.93 - ETA: 0s - loss: 0.1200 - accuracy: 0.93 - ETA: 0s - loss: 0.1205 - accuracy: 0.93 - ETA: 0s - loss: 0.1206 - accuracy: 0.93 - ETA: 0s - loss: 0.1205 - accuracy: 0.93 - ETA: 0s - loss: 0.1212 - accuracy: 0.93 - ETA: 0s - loss: 0.1210 - accuracy: 0.93 - ETA: 0s - loss: 0.1206 - accuracy: 0.93 - ETA: 0s - loss: 0.1210 - accuracy: 0.93 - ETA: 0s - loss: 0.1208 - accuracy: 0.93 - ETA: 0s - loss: 0.1206 - accuracy: 0.93 - ETA: 0s - loss: 0.1203 - accuracy: 0.93 - ETA: 0s - loss: 0.1200 - accuracy: 0.93 - ETA: 0s - loss: 0.1202 - accuracy: 0.93 - ETA: 0s - loss: 0.1201 - accuracy: 0.93 - ETA: 0s - loss: 0.1197 - accuracy: 0.93 - ETA: 0s - loss: 0.1193 - accuracy: 0.93 - ETA: 0s - loss: 0.1193 - accuracy: 0.93 - 18s 12ms/step - loss: 0.1192 - accuracy: 0.9378 - val_loss: 0.0129 - val_accuracy: 0.9969\n",
      "Epoch 15/20\n"
     ]
    },
    {
     "name": "stdout",
     "output_type": "stream",
     "text": [
      "1488/1600 [==========================>...] - ETA: 0s - loss: 2.2259e-04 - accuracy: 1.00 - ETA: 9s - loss: 0.0043 - accuracy: 1.0000   - ETA: 9s - loss: 0.0067 - accuracy: 1.00 - ETA: 10s - loss: 0.0423 - accuracy: 0.970 - ETA: 10s - loss: 0.0772 - accuracy: 0.954 - ETA: 11s - loss: 0.0677 - accuracy: 0.960 - ETA: 11s - loss: 0.0839 - accuracy: 0.950 - ETA: 11s - loss: 0.1074 - accuracy: 0.929 - ETA: 10s - loss: 0.0954 - accuracy: 0.938 - ETA: 10s - loss: 0.0946 - accuracy: 0.938 - ETA: 10s - loss: 0.0864 - accuracy: 0.944 - ETA: 10s - loss: 0.0874 - accuracy: 0.940 - ETA: 10s - loss: 0.0833 - accuracy: 0.945 - ETA: 10s - loss: 0.0777 - accuracy: 0.949 - ETA: 10s - loss: 0.0728 - accuracy: 0.952 - ETA: 10s - loss: 0.0759 - accuracy: 0.950 - ETA: 10s - loss: 0.0931 - accuracy: 0.939 - ETA: 10s - loss: 0.1073 - accuracy: 0.928 - ETA: 10s - loss: 0.1077 - accuracy: 0.930 - ETA: 10s - loss: 0.1075 - accuracy: 0.932 - ETA: 10s - loss: 0.1028 - accuracy: 0.936 - ETA: 10s - loss: 0.1027 - accuracy: 0.937 - ETA: 10s - loss: 0.1056 - accuracy: 0.935 - ETA: 10s - loss: 0.1038 - accuracy: 0.937 - ETA: 10s - loss: 0.1002 - accuracy: 0.939 - ETA: 10s - loss: 0.0972 - accuracy: 0.941 - ETA: 10s - loss: 0.1041 - accuracy: 0.937 - ETA: 10s - loss: 0.1093 - accuracy: 0.935 - ETA: 9s - loss: 0.1055 - accuracy: 0.937 - ETA: 9s - loss: 0.1074 - accuracy: 0.93 - ETA: 9s - loss: 0.1042 - accuracy: 0.93 - ETA: 9s - loss: 0.1017 - accuracy: 0.94 - ETA: 9s - loss: 0.1057 - accuracy: 0.93 - ETA: 9s - loss: 0.1062 - accuracy: 0.93 - ETA: 9s - loss: 0.1063 - accuracy: 0.93 - ETA: 9s - loss: 0.1125 - accuracy: 0.93 - ETA: 9s - loss: 0.1094 - accuracy: 0.93 - ETA: 9s - loss: 0.1115 - accuracy: 0.93 - ETA: 9s - loss: 0.1164 - accuracy: 0.93 - ETA: 9s - loss: 0.1176 - accuracy: 0.93 - ETA: 9s - loss: 0.1197 - accuracy: 0.93 - ETA: 9s - loss: 0.1191 - accuracy: 0.93 - ETA: 9s - loss: 0.1237 - accuracy: 0.92 - ETA: 9s - loss: 0.1241 - accuracy: 0.92 - ETA: 9s - loss: 0.1219 - accuracy: 0.92 - ETA: 8s - loss: 0.1262 - accuracy: 0.92 - ETA: 8s - loss: 0.1321 - accuracy: 0.91 - ETA: 8s - loss: 0.1335 - accuracy: 0.91 - ETA: 8s - loss: 0.1334 - accuracy: 0.92 - ETA: 8s - loss: 0.1320 - accuracy: 0.92 - ETA: 8s - loss: 0.1296 - accuracy: 0.92 - ETA: 8s - loss: 0.1287 - accuracy: 0.92 - ETA: 8s - loss: 0.1261 - accuracy: 0.92 - ETA: 8s - loss: 0.1288 - accuracy: 0.92 - ETA: 8s - loss: 0.1275 - accuracy: 0.92 - ETA: 8s - loss: 0.1285 - accuracy: 0.92 - ETA: 8s - loss: 0.1261 - accuracy: 0.92 - ETA: 8s - loss: 0.1268 - accuracy: 0.92 - ETA: 8s - loss: 0.1266 - accuracy: 0.92 - ETA: 8s - loss: 0.1258 - accuracy: 0.92 - ETA: 7s - loss: 0.1257 - accuracy: 0.92 - ETA: 7s - loss: 0.1268 - accuracy: 0.92 - ETA: 7s - loss: 0.1248 - accuracy: 0.92 - ETA: 7s - loss: 0.1248 - accuracy: 0.92 - ETA: 7s - loss: 0.1228 - accuracy: 0.92 - ETA: 7s - loss: 0.1227 - accuracy: 0.92 - ETA: 7s - loss: 0.1208 - accuracy: 0.92 - ETA: 7s - loss: 0.1214 - accuracy: 0.92 - ETA: 7s - loss: 0.1197 - accuracy: 0.92 - ETA: 7s - loss: 0.1197 - accuracy: 0.92 - ETA: 7s - loss: 0.1194 - accuracy: 0.92 - ETA: 7s - loss: 0.1193 - accuracy: 0.92 - ETA: 7s - loss: 0.1218 - accuracy: 0.92 - ETA: 7s - loss: 0.1231 - accuracy: 0.92 - ETA: 7s - loss: 0.1214 - accuracy: 0.92 - ETA: 7s - loss: 0.1198 - accuracy: 0.92 - ETA: 7s - loss: 0.1207 - accuracy: 0.92 - ETA: 6s - loss: 0.1202 - accuracy: 0.92 - ETA: 6s - loss: 0.1212 - accuracy: 0.92 - ETA: 6s - loss: 0.1199 - accuracy: 0.92 - ETA: 6s - loss: 0.1213 - accuracy: 0.92 - ETA: 6s - loss: 0.1223 - accuracy: 0.92 - ETA: 6s - loss: 0.1230 - accuracy: 0.92 - ETA: 6s - loss: 0.1220 - accuracy: 0.92 - ETA: 6s - loss: 0.1209 - accuracy: 0.92 - ETA: 6s - loss: 0.1234 - accuracy: 0.92 - ETA: 6s - loss: 0.1221 - accuracy: 0.92 - ETA: 6s - loss: 0.1216 - accuracy: 0.92 - ETA: 6s - loss: 0.1215 - accuracy: 0.92 - ETA: 6s - loss: 0.1226 - accuracy: 0.92 - ETA: 6s - loss: 0.1223 - accuracy: 0.92 - ETA: 6s - loss: 0.1235 - accuracy: 0.92 - ETA: 6s - loss: 0.1221 - accuracy: 0.92 - ETA: 6s - loss: 0.1223 - accuracy: 0.92 - ETA: 6s - loss: 0.1235 - accuracy: 0.92 - ETA: 6s - loss: 0.1222 - accuracy: 0.92 - ETA: 5s - loss: 0.1221 - accuracy: 0.92 - ETA: 5s - loss: 0.1243 - accuracy: 0.92 - ETA: 5s - loss: 0.1232 - accuracy: 0.92 - ETA: 5s - loss: 0.1232 - accuracy: 0.92 - ETA: 5s - loss: 0.1231 - accuracy: 0.92 - ETA: 5s - loss: 0.1230 - accuracy: 0.92 - ETA: 5s - loss: 0.1229 - accuracy: 0.92 - ETA: 5s - loss: 0.1239 - accuracy: 0.92 - ETA: 5s - loss: 0.1228 - accuracy: 0.92 - ETA: 5s - loss: 0.1245 - accuracy: 0.92 - ETA: 5s - loss: 0.1248 - accuracy: 0.92 - ETA: 5s - loss: 0.1244 - accuracy: 0.92 - ETA: 5s - loss: 0.1245 - accuracy: 0.92 - ETA: 5s - loss: 0.1243 - accuracy: 0.92 - ETA: 5s - loss: 0.1250 - accuracy: 0.92 - ETA: 5s - loss: 0.1247 - accuracy: 0.92 - ETA: 5s - loss: 0.1238 - accuracy: 0.92 - ETA: 5s - loss: 0.1228 - accuracy: 0.92 - ETA: 5s - loss: 0.1219 - accuracy: 0.92 - ETA: 5s - loss: 0.1209 - accuracy: 0.92 - ETA: 4s - loss: 0.1205 - accuracy: 0.92 - ETA: 4s - loss: 0.1214 - accuracy: 0.92 - ETA: 4s - loss: 0.1209 - accuracy: 0.92 - ETA: 4s - loss: 0.1222 - accuracy: 0.92 - ETA: 4s - loss: 0.1221 - accuracy: 0.92 - ETA: 4s - loss: 0.1236 - accuracy: 0.92 - ETA: 4s - loss: 0.1233 - accuracy: 0.92 - ETA: 4s - loss: 0.1234 - accuracy: 0.92 - ETA: 4s - loss: 0.1226 - accuracy: 0.92 - ETA: 4s - loss: 0.1217 - accuracy: 0.92 - ETA: 4s - loss: 0.1225 - accuracy: 0.92 - ETA: 4s - loss: 0.1217 - accuracy: 0.92 - ETA: 4s - loss: 0.1239 - accuracy: 0.92 - ETA: 4s - loss: 0.1230 - accuracy: 0.92 - ETA: 4s - loss: 0.1230 - accuracy: 0.92 - ETA: 4s - loss: 0.1227 - accuracy: 0.92 - ETA: 4s - loss: 0.1218 - accuracy: 0.92 - ETA: 4s - loss: 0.1211 - accuracy: 0.92 - ETA: 4s - loss: 0.1211 - accuracy: 0.92 - ETA: 3s - loss: 0.1203 - accuracy: 0.92 - ETA: 3s - loss: 0.1208 - accuracy: 0.92 - ETA: 3s - loss: 0.1199 - accuracy: 0.93 - ETA: 3s - loss: 0.1200 - accuracy: 0.93 - ETA: 3s - loss: 0.1209 - accuracy: 0.93 - ETA: 3s - loss: 0.1209 - accuracy: 0.93 - ETA: 3s - loss: 0.1217 - accuracy: 0.92 - ETA: 3s - loss: 0.1209 - accuracy: 0.93 - ETA: 3s - loss: 0.1202 - accuracy: 0.93 - ETA: 3s - loss: 0.1208 - accuracy: 0.93 - ETA: 3s - loss: 0.1203 - accuracy: 0.93 - ETA: 3s - loss: 0.1199 - accuracy: 0.93 - ETA: 3s - loss: 0.1198 - accuracy: 0.93 - ETA: 3s - loss: 0.1195 - accuracy: 0.93 - ETA: 3s - loss: 0.1187 - accuracy: 0.93 - ETA: 3s - loss: 0.1186 - accuracy: 0.93 - ETA: 3s - loss: 0.1184 - accuracy: 0.93 - ETA: 3s - loss: 0.1178 - accuracy: 0.93 - ETA: 2s - loss: 0.1175 - accuracy: 0.93 - ETA: 2s - loss: 0.1190 - accuracy: 0.93 - ETA: 2s - loss: 0.1190 - accuracy: 0.93 - ETA: 2s - loss: 0.1200 - accuracy: 0.93 - ETA: 2s - loss: 0.1193 - accuracy: 0.93 - ETA: 2s - loss: 0.1189 - accuracy: 0.93 - ETA: 2s - loss: 0.1183 - accuracy: 0.93 - ETA: 2s - loss: 0.1182 - accuracy: 0.93 - ETA: 2s - loss: 0.1188 - accuracy: 0.93 - ETA: 2s - loss: 0.1181 - accuracy: 0.93 - ETA: 2s - loss: 0.1194 - accuracy: 0.93 - ETA: 2s - loss: 0.1194 - accuracy: 0.93 - ETA: 2s - loss: 0.1203 - accuracy: 0.93 - ETA: 2s - loss: 0.1213 - accuracy: 0.93 - ETA: 2s - loss: 0.1232 - accuracy: 0.93 - ETA: 2s - loss: 0.1242 - accuracy: 0.92 - ETA: 2s - loss: 0.1237 - accuracy: 0.93 - ETA: 2s - loss: 0.1246 - accuracy: 0.92 - ETA: 1s - loss: 0.1245 - accuracy: 0.92 - ETA: 1s - loss: 0.1241 - accuracy: 0.92 - ETA: 1s - loss: 0.1240 - accuracy: 0.92 - ETA: 1s - loss: 0.1245 - accuracy: 0.92 - ETA: 1s - loss: 0.1255 - accuracy: 0.92 - ETA: 1s - loss: 0.1250 - accuracy: 0.92 - ETA: 1s - loss: 0.1248 - accuracy: 0.92 - ETA: 1s - loss: 0.1241 - accuracy: 0.92 - ETA: 1s - loss: 0.1236 - accuracy: 0.93 - ETA: 1s - loss: 0.1235 - accuracy: 0.93 - ETA: 1s - loss: 0.1229 - accuracy: 0.93 - ETA: 1s - loss: 0.1230 - accuracy: 0.93 - ETA: 1s - loss: 0.1230 - accuracy: 0.93 - ETA: 1s - loss: 0.1223 - accuracy: 0.93 - ETA: 1s - loss: 0.1217 - accuracy: 0.93 - ETA: 1s - loss: 0.1215 - accuracy: 0.93 - ETA: 1s - loss: 0.1223 - accuracy: 0.93 - ETA: 0s - loss: 0.1227 - accuracy: 0.93 - ETA: 0s - loss: 0.1226 - accuracy: 0.93 - ETA: 0s - loss: 0.1227 - accuracy: 0.93 - ETA: 0s - loss: 0.1227 - accuracy: 0.93 - ETA: 0s - loss: 0.1225 - accuracy: 0.9316"
     ]
    },
    {
     "name": "stdout",
     "output_type": "stream",
     "text": [
      "1600/1600 [==============================] - ETA: 0s - loss: 0.1223 - accuracy: 0.93 - ETA: 0s - loss: 0.1224 - accuracy: 0.93 - ETA: 0s - loss: 0.1218 - accuracy: 0.93 - ETA: 0s - loss: 0.1218 - accuracy: 0.93 - ETA: 0s - loss: 0.1216 - accuracy: 0.93 - ETA: 0s - loss: 0.1225 - accuracy: 0.93 - ETA: 0s - loss: 0.1228 - accuracy: 0.93 - ETA: 0s - loss: 0.1227 - accuracy: 0.93 - ETA: 0s - loss: 0.1231 - accuracy: 0.93 - ETA: 0s - loss: 0.1229 - accuracy: 0.93 - ETA: 0s - loss: 0.1232 - accuracy: 0.93 - ETA: 0s - loss: 0.1239 - accuracy: 0.93 - ETA: 0s - loss: 0.1252 - accuracy: 0.92 - ETA: 0s - loss: 0.1253 - accuracy: 0.92 - 12s 8ms/step - loss: 0.1252 - accuracy: 0.9300 - val_loss: 0.0633 - val_accuracy: 0.9800\n",
      "Epoch 16/20\n"
     ]
    },
    {
     "name": "stdout",
     "output_type": "stream",
     "text": [
      "1506/1600 [===========================>..] - ETA: 0s - loss: 0.0051 - accuracy: 1.00 - ETA: 9s - loss: 0.0311 - accuracy: 1.00 - ETA: 9s - loss: 0.0206 - accuracy: 1.00 - ETA: 10s - loss: 0.0185 - accuracy: 1.000 - ETA: 10s - loss: 0.0162 - accuracy: 1.000 - ETA: 10s - loss: 0.0372 - accuracy: 0.981 - ETA: 10s - loss: 0.0549 - accuracy: 0.967 - ETA: 10s - loss: 0.0648 - accuracy: 0.957 - ETA: 10s - loss: 0.0708 - accuracy: 0.950 - ETA: 10s - loss: 0.0753 - accuracy: 0.947 - ETA: 10s - loss: 0.0806 - accuracy: 0.945 - ETA: 11s - loss: 0.0768 - accuracy: 0.950 - ETA: 11s - loss: 0.0731 - accuracy: 0.953 - ETA: 11s - loss: 0.0681 - accuracy: 0.957 - ETA: 11s - loss: 0.0643 - accuracy: 0.959 - ETA: 11s - loss: 0.0629 - accuracy: 0.962 - ETA: 11s - loss: 0.0592 - accuracy: 0.964 - ETA: 11s - loss: 0.0615 - accuracy: 0.962 - ETA: 11s - loss: 0.0583 - accuracy: 0.964 - ETA: 10s - loss: 0.0598 - accuracy: 0.963 - ETA: 10s - loss: 0.0623 - accuracy: 0.961 - ETA: 10s - loss: 0.0690 - accuracy: 0.955 - ETA: 10s - loss: 0.0660 - accuracy: 0.957 - ETA: 10s - loss: 0.0693 - accuracy: 0.958 - ETA: 10s - loss: 0.0723 - accuracy: 0.957 - ETA: 10s - loss: 0.0704 - accuracy: 0.959 - ETA: 10s - loss: 0.0888 - accuracy: 0.955 - ETA: 10s - loss: 0.0917 - accuracy: 0.955 - ETA: 9s - loss: 0.0945 - accuracy: 0.954 - ETA: 9s - loss: 0.0954 - accuracy: 0.95 - ETA: 9s - loss: 0.0966 - accuracy: 0.95 - ETA: 9s - loss: 0.1002 - accuracy: 0.94 - ETA: 9s - loss: 0.1040 - accuracy: 0.94 - ETA: 9s - loss: 0.1050 - accuracy: 0.94 - ETA: 9s - loss: 0.1026 - accuracy: 0.94 - ETA: 9s - loss: 0.1025 - accuracy: 0.94 - ETA: 9s - loss: 0.1103 - accuracy: 0.94 - ETA: 9s - loss: 0.1078 - accuracy: 0.94 - ETA: 9s - loss: 0.1077 - accuracy: 0.94 - ETA: 9s - loss: 0.1050 - accuracy: 0.94 - ETA: 9s - loss: 0.1055 - accuracy: 0.94 - ETA: 8s - loss: 0.1051 - accuracy: 0.94 - ETA: 8s - loss: 0.1026 - accuracy: 0.94 - ETA: 8s - loss: 0.1000 - accuracy: 0.94 - ETA: 8s - loss: 0.0977 - accuracy: 0.95 - ETA: 8s - loss: 0.1003 - accuracy: 0.94 - ETA: 8s - loss: 0.1007 - accuracy: 0.94 - ETA: 8s - loss: 0.1006 - accuracy: 0.94 - ETA: 8s - loss: 0.0984 - accuracy: 0.94 - ETA: 8s - loss: 0.1002 - accuracy: 0.94 - ETA: 8s - loss: 0.0981 - accuracy: 0.94 - ETA: 8s - loss: 0.0982 - accuracy: 0.94 - ETA: 8s - loss: 0.0982 - accuracy: 0.94 - ETA: 8s - loss: 0.1026 - accuracy: 0.94 - ETA: 8s - loss: 0.1008 - accuracy: 0.94 - ETA: 8s - loss: 0.0992 - accuracy: 0.94 - ETA: 7s - loss: 0.1029 - accuracy: 0.94 - ETA: 7s - loss: 0.1026 - accuracy: 0.94 - ETA: 7s - loss: 0.1034 - accuracy: 0.94 - ETA: 7s - loss: 0.1031 - accuracy: 0.94 - ETA: 7s - loss: 0.1050 - accuracy: 0.94 - ETA: 7s - loss: 0.1035 - accuracy: 0.94 - ETA: 7s - loss: 0.1029 - accuracy: 0.94 - ETA: 7s - loss: 0.1019 - accuracy: 0.94 - ETA: 7s - loss: 0.1038 - accuracy: 0.94 - ETA: 7s - loss: 0.1089 - accuracy: 0.94 - ETA: 7s - loss: 0.1102 - accuracy: 0.94 - ETA: 7s - loss: 0.1093 - accuracy: 0.94 - ETA: 7s - loss: 0.1101 - accuracy: 0.94 - ETA: 7s - loss: 0.1112 - accuracy: 0.94 - ETA: 7s - loss: 0.1099 - accuracy: 0.94 - ETA: 7s - loss: 0.1116 - accuracy: 0.94 - ETA: 7s - loss: 0.1102 - accuracy: 0.94 - ETA: 6s - loss: 0.1090 - accuracy: 0.94 - ETA: 6s - loss: 0.1091 - accuracy: 0.94 - ETA: 6s - loss: 0.1092 - accuracy: 0.94 - ETA: 6s - loss: 0.1091 - accuracy: 0.94 - ETA: 6s - loss: 0.1081 - accuracy: 0.94 - ETA: 6s - loss: 0.1069 - accuracy: 0.94 - ETA: 6s - loss: 0.1094 - accuracy: 0.94 - ETA: 6s - loss: 0.1095 - accuracy: 0.94 - ETA: 6s - loss: 0.1105 - accuracy: 0.94 - ETA: 6s - loss: 0.1101 - accuracy: 0.94 - ETA: 6s - loss: 0.1112 - accuracy: 0.94 - ETA: 6s - loss: 0.1099 - accuracy: 0.94 - ETA: 6s - loss: 0.1097 - accuracy: 0.94 - ETA: 6s - loss: 0.1118 - accuracy: 0.94 - ETA: 6s - loss: 0.1115 - accuracy: 0.94 - ETA: 6s - loss: 0.1118 - accuracy: 0.94 - ETA: 5s - loss: 0.1104 - accuracy: 0.94 - ETA: 5s - loss: 0.1102 - accuracy: 0.94 - ETA: 5s - loss: 0.1090 - accuracy: 0.94 - ETA: 5s - loss: 0.1100 - accuracy: 0.94 - ETA: 5s - loss: 0.1109 - accuracy: 0.94 - ETA: 5s - loss: 0.1108 - accuracy: 0.94 - ETA: 5s - loss: 0.1096 - accuracy: 0.94 - ETA: 5s - loss: 0.1086 - accuracy: 0.94 - ETA: 5s - loss: 0.1089 - accuracy: 0.94 - ETA: 5s - loss: 0.1125 - accuracy: 0.94 - ETA: 5s - loss: 0.1138 - accuracy: 0.93 - ETA: 5s - loss: 0.1167 - accuracy: 0.93 - ETA: 5s - loss: 0.1180 - accuracy: 0.93 - ETA: 5s - loss: 0.1182 - accuracy: 0.93 - ETA: 5s - loss: 0.1173 - accuracy: 0.93 - ETA: 5s - loss: 0.1162 - accuracy: 0.93 - ETA: 5s - loss: 0.1161 - accuracy: 0.93 - ETA: 5s - loss: 0.1160 - accuracy: 0.93 - ETA: 4s - loss: 0.1170 - accuracy: 0.93 - ETA: 4s - loss: 0.1169 - accuracy: 0.93 - ETA: 4s - loss: 0.1170 - accuracy: 0.93 - ETA: 4s - loss: 0.1162 - accuracy: 0.93 - ETA: 4s - loss: 0.1169 - accuracy: 0.93 - ETA: 4s - loss: 0.1177 - accuracy: 0.93 - ETA: 4s - loss: 0.1182 - accuracy: 0.93 - ETA: 4s - loss: 0.1173 - accuracy: 0.93 - ETA: 4s - loss: 0.1172 - accuracy: 0.93 - ETA: 4s - loss: 0.1163 - accuracy: 0.93 - ETA: 4s - loss: 0.1164 - accuracy: 0.93 - ETA: 4s - loss: 0.1161 - accuracy: 0.93 - ETA: 4s - loss: 0.1174 - accuracy: 0.93 - ETA: 4s - loss: 0.1172 - accuracy: 0.93 - ETA: 4s - loss: 0.1166 - accuracy: 0.93 - ETA: 4s - loss: 0.1171 - accuracy: 0.93 - ETA: 4s - loss: 0.1177 - accuracy: 0.93 - ETA: 4s - loss: 0.1180 - accuracy: 0.93 - ETA: 4s - loss: 0.1172 - accuracy: 0.93 - ETA: 4s - loss: 0.1163 - accuracy: 0.93 - ETA: 3s - loss: 0.1164 - accuracy: 0.93 - ETA: 3s - loss: 0.1160 - accuracy: 0.93 - ETA: 3s - loss: 0.1161 - accuracy: 0.93 - ETA: 3s - loss: 0.1159 - accuracy: 0.93 - ETA: 3s - loss: 0.1152 - accuracy: 0.93 - ETA: 3s - loss: 0.1145 - accuracy: 0.93 - ETA: 3s - loss: 0.1147 - accuracy: 0.93 - ETA: 3s - loss: 0.1162 - accuracy: 0.93 - ETA: 3s - loss: 0.1155 - accuracy: 0.93 - ETA: 3s - loss: 0.1146 - accuracy: 0.93 - ETA: 3s - loss: 0.1147 - accuracy: 0.93 - ETA: 3s - loss: 0.1141 - accuracy: 0.93 - ETA: 3s - loss: 0.1135 - accuracy: 0.93 - ETA: 3s - loss: 0.1129 - accuracy: 0.93 - ETA: 3s - loss: 0.1124 - accuracy: 0.93 - ETA: 3s - loss: 0.1133 - accuracy: 0.93 - ETA: 3s - loss: 0.1146 - accuracy: 0.93 - ETA: 3s - loss: 0.1145 - accuracy: 0.93 - ETA: 3s - loss: 0.1144 - accuracy: 0.93 - ETA: 3s - loss: 0.1155 - accuracy: 0.93 - ETA: 2s - loss: 0.1149 - accuracy: 0.93 - ETA: 2s - loss: 0.1152 - accuracy: 0.93 - ETA: 2s - loss: 0.1145 - accuracy: 0.93 - ETA: 2s - loss: 0.1144 - accuracy: 0.93 - ETA: 2s - loss: 0.1138 - accuracy: 0.93 - ETA: 2s - loss: 0.1138 - accuracy: 0.93 - ETA: 2s - loss: 0.1133 - accuracy: 0.93 - ETA: 2s - loss: 0.1131 - accuracy: 0.93 - ETA: 2s - loss: 0.1137 - accuracy: 0.93 - ETA: 2s - loss: 0.1130 - accuracy: 0.93 - ETA: 2s - loss: 0.1130 - accuracy: 0.93 - ETA: 2s - loss: 0.1136 - accuracy: 0.93 - ETA: 2s - loss: 0.1135 - accuracy: 0.93 - ETA: 2s - loss: 0.1129 - accuracy: 0.93 - ETA: 2s - loss: 0.1127 - accuracy: 0.93 - ETA: 2s - loss: 0.1121 - accuracy: 0.93 - ETA: 2s - loss: 0.1120 - accuracy: 0.93 - ETA: 2s - loss: 0.1125 - accuracy: 0.93 - ETA: 1s - loss: 0.1122 - accuracy: 0.93 - ETA: 1s - loss: 0.1116 - accuracy: 0.93 - ETA: 1s - loss: 0.1117 - accuracy: 0.93 - ETA: 1s - loss: 0.1120 - accuracy: 0.93 - ETA: 1s - loss: 0.1118 - accuracy: 0.93 - ETA: 1s - loss: 0.1115 - accuracy: 0.93 - ETA: 1s - loss: 0.1121 - accuracy: 0.93 - ETA: 1s - loss: 0.1116 - accuracy: 0.93 - ETA: 1s - loss: 0.1121 - accuracy: 0.93 - ETA: 1s - loss: 0.1116 - accuracy: 0.93 - ETA: 1s - loss: 0.1129 - accuracy: 0.93 - ETA: 1s - loss: 0.1129 - accuracy: 0.93 - ETA: 1s - loss: 0.1134 - accuracy: 0.93 - ETA: 1s - loss: 0.1139 - accuracy: 0.93 - ETA: 1s - loss: 0.1143 - accuracy: 0.93 - ETA: 1s - loss: 0.1137 - accuracy: 0.93 - ETA: 1s - loss: 0.1131 - accuracy: 0.93 - ETA: 1s - loss: 0.1136 - accuracy: 0.93 - ETA: 1s - loss: 0.1135 - accuracy: 0.93 - ETA: 1s - loss: 0.1135 - accuracy: 0.93 - ETA: 0s - loss: 0.1136 - accuracy: 0.93 - ETA: 0s - loss: 0.1131 - accuracy: 0.93 - ETA: 0s - loss: 0.1126 - accuracy: 0.93 - ETA: 0s - loss: 0.1125 - accuracy: 0.93 - ETA: 0s - loss: 0.1125 - accuracy: 0.93 - ETA: 0s - loss: 0.1120 - accuracy: 0.93 - ETA: 0s - loss: 0.1115 - accuracy: 0.93 - ETA: 0s - loss: 0.1109 - accuracy: 0.9373"
     ]
    },
    {
     "name": "stdout",
     "output_type": "stream",
     "text": [
      "1600/1600 [==============================] - ETA: 0s - loss: 0.1113 - accuracy: 0.93 - ETA: 0s - loss: 0.1112 - accuracy: 0.93 - ETA: 0s - loss: 0.1107 - accuracy: 0.93 - ETA: 0s - loss: 0.1107 - accuracy: 0.93 - ETA: 0s - loss: 0.1107 - accuracy: 0.93 - ETA: 0s - loss: 0.1102 - accuracy: 0.93 - ETA: 0s - loss: 0.1101 - accuracy: 0.93 - ETA: 0s - loss: 0.1112 - accuracy: 0.93 - ETA: 0s - loss: 0.1115 - accuracy: 0.93 - ETA: 0s - loss: 0.1114 - accuracy: 0.93 - ETA: 0s - loss: 0.1109 - accuracy: 0.93 - 12s 8ms/step - loss: 0.1105 - accuracy: 0.9372 - val_loss: 0.0066 - val_accuracy: 1.0000\n",
      "Epoch 17/20\n"
     ]
    },
    {
     "name": "stdout",
     "output_type": "stream",
     "text": [
      "1511/1600 [===========================>..] - ETA: 0s - loss: 8.5877e-04 - accuracy: 1.00 - ETA: 8s - loss: 0.1646 - accuracy: 0.9250   - ETA: 9s - loss: 0.1268 - accuracy: 0.94 - ETA: 10s - loss: 0.1603 - accuracy: 0.900 - ETA: 10s - loss: 0.1220 - accuracy: 0.924 - ETA: 10s - loss: 0.1414 - accuracy: 0.912 - ETA: 10s - loss: 0.1185 - accuracy: 0.927 - ETA: 10s - loss: 0.1397 - accuracy: 0.912 - ETA: 9s - loss: 0.1226 - accuracy: 0.923 - ETA: 9s - loss: 0.1189 - accuracy: 0.92 - ETA: 9s - loss: 0.1075 - accuracy: 0.93 - ETA: 9s - loss: 0.1079 - accuracy: 0.92 - ETA: 9s - loss: 0.1073 - accuracy: 0.92 - ETA: 9s - loss: 0.1185 - accuracy: 0.92 - ETA: 9s - loss: 0.1113 - accuracy: 0.92 - ETA: 9s - loss: 0.1047 - accuracy: 0.93 - ETA: 9s - loss: 0.1099 - accuracy: 0.92 - ETA: 9s - loss: 0.1260 - accuracy: 0.92 - ETA: 9s - loss: 0.1229 - accuracy: 0.92 - ETA: 9s - loss: 0.1171 - accuracy: 0.92 - ETA: 9s - loss: 0.1126 - accuracy: 0.93 - ETA: 9s - loss: 0.1177 - accuracy: 0.92 - ETA: 9s - loss: 0.1118 - accuracy: 0.93 - ETA: 9s - loss: 0.1152 - accuracy: 0.92 - ETA: 9s - loss: 0.1179 - accuracy: 0.92 - ETA: 9s - loss: 0.1243 - accuracy: 0.92 - ETA: 9s - loss: 0.1300 - accuracy: 0.92 - ETA: 9s - loss: 0.1324 - accuracy: 0.92 - ETA: 9s - loss: 0.1277 - accuracy: 0.92 - ETA: 9s - loss: 0.1236 - accuracy: 0.92 - ETA: 9s - loss: 0.1227 - accuracy: 0.92 - ETA: 8s - loss: 0.1189 - accuracy: 0.92 - ETA: 8s - loss: 0.1158 - accuracy: 0.93 - ETA: 8s - loss: 0.1154 - accuracy: 0.93 - ETA: 8s - loss: 0.1147 - accuracy: 0.93 - ETA: 8s - loss: 0.1143 - accuracy: 0.93 - ETA: 8s - loss: 0.1108 - accuracy: 0.93 - ETA: 8s - loss: 0.1108 - accuracy: 0.93 - ETA: 8s - loss: 0.1129 - accuracy: 0.93 - ETA: 8s - loss: 0.1128 - accuracy: 0.93 - ETA: 8s - loss: 0.1131 - accuracy: 0.93 - ETA: 8s - loss: 0.1152 - accuracy: 0.93 - ETA: 8s - loss: 0.1145 - accuracy: 0.93 - ETA: 8s - loss: 0.1150 - accuracy: 0.93 - ETA: 8s - loss: 0.1127 - accuracy: 0.93 - ETA: 8s - loss: 0.1168 - accuracy: 0.92 - ETA: 8s - loss: 0.1161 - accuracy: 0.92 - ETA: 8s - loss: 0.1137 - accuracy: 0.93 - ETA: 8s - loss: 0.1119 - accuracy: 0.93 - ETA: 8s - loss: 0.1136 - accuracy: 0.93 - ETA: 8s - loss: 0.1161 - accuracy: 0.92 - ETA: 8s - loss: 0.1172 - accuracy: 0.92 - ETA: 7s - loss: 0.1162 - accuracy: 0.92 - ETA: 7s - loss: 0.1178 - accuracy: 0.92 - ETA: 7s - loss: 0.1160 - accuracy: 0.93 - ETA: 7s - loss: 0.1162 - accuracy: 0.92 - ETA: 7s - loss: 0.1143 - accuracy: 0.93 - ETA: 7s - loss: 0.1123 - accuracy: 0.93 - ETA: 7s - loss: 0.1123 - accuracy: 0.93 - ETA: 7s - loss: 0.1129 - accuracy: 0.93 - ETA: 7s - loss: 0.1115 - accuracy: 0.93 - ETA: 7s - loss: 0.1096 - accuracy: 0.93 - ETA: 7s - loss: 0.1084 - accuracy: 0.93 - ETA: 7s - loss: 0.1073 - accuracy: 0.93 - ETA: 7s - loss: 0.1057 - accuracy: 0.93 - ETA: 7s - loss: 0.1081 - accuracy: 0.93 - ETA: 7s - loss: 0.1065 - accuracy: 0.93 - ETA: 7s - loss: 0.1115 - accuracy: 0.93 - ETA: 7s - loss: 0.1100 - accuracy: 0.93 - ETA: 7s - loss: 0.1086 - accuracy: 0.93 - ETA: 7s - loss: 0.1086 - accuracy: 0.93 - ETA: 7s - loss: 0.1074 - accuracy: 0.93 - ETA: 7s - loss: 0.1071 - accuracy: 0.93 - ETA: 7s - loss: 0.1082 - accuracy: 0.93 - ETA: 7s - loss: 0.1104 - accuracy: 0.93 - ETA: 7s - loss: 0.1094 - accuracy: 0.93 - ETA: 6s - loss: 0.1112 - accuracy: 0.93 - ETA: 6s - loss: 0.1120 - accuracy: 0.93 - ETA: 6s - loss: 0.1107 - accuracy: 0.93 - ETA: 6s - loss: 0.1107 - accuracy: 0.93 - ETA: 6s - loss: 0.1126 - accuracy: 0.93 - ETA: 6s - loss: 0.1113 - accuracy: 0.93 - ETA: 6s - loss: 0.1111 - accuracy: 0.93 - ETA: 6s - loss: 0.1112 - accuracy: 0.93 - ETA: 6s - loss: 0.1100 - accuracy: 0.93 - ETA: 6s - loss: 0.1112 - accuracy: 0.93 - ETA: 6s - loss: 0.1114 - accuracy: 0.93 - ETA: 6s - loss: 0.1106 - accuracy: 0.93 - ETA: 6s - loss: 0.1095 - accuracy: 0.93 - ETA: 6s - loss: 0.1107 - accuracy: 0.93 - ETA: 6s - loss: 0.1118 - accuracy: 0.93 - ETA: 6s - loss: 0.1127 - accuracy: 0.93 - ETA: 6s - loss: 0.1134 - accuracy: 0.93 - ETA: 5s - loss: 0.1122 - accuracy: 0.93 - ETA: 5s - loss: 0.1110 - accuracy: 0.93 - ETA: 5s - loss: 0.1140 - accuracy: 0.93 - ETA: 5s - loss: 0.1132 - accuracy: 0.93 - ETA: 5s - loss: 0.1135 - accuracy: 0.93 - ETA: 5s - loss: 0.1130 - accuracy: 0.93 - ETA: 5s - loss: 0.1130 - accuracy: 0.93 - ETA: 5s - loss: 0.1140 - accuracy: 0.93 - ETA: 5s - loss: 0.1142 - accuracy: 0.93 - ETA: 5s - loss: 0.1156 - accuracy: 0.93 - ETA: 5s - loss: 0.1150 - accuracy: 0.93 - ETA: 5s - loss: 0.1153 - accuracy: 0.93 - ETA: 5s - loss: 0.1165 - accuracy: 0.93 - ETA: 5s - loss: 0.1182 - accuracy: 0.93 - ETA: 5s - loss: 0.1188 - accuracy: 0.93 - ETA: 5s - loss: 0.1182 - accuracy: 0.93 - ETA: 5s - loss: 0.1189 - accuracy: 0.93 - ETA: 5s - loss: 0.1180 - accuracy: 0.93 - ETA: 4s - loss: 0.1183 - accuracy: 0.93 - ETA: 4s - loss: 0.1200 - accuracy: 0.93 - ETA: 4s - loss: 0.1191 - accuracy: 0.93 - ETA: 4s - loss: 0.1185 - accuracy: 0.93 - ETA: 4s - loss: 0.1186 - accuracy: 0.93 - ETA: 4s - loss: 0.1189 - accuracy: 0.93 - ETA: 4s - loss: 0.1196 - accuracy: 0.93 - ETA: 4s - loss: 0.1203 - accuracy: 0.93 - ETA: 4s - loss: 0.1194 - accuracy: 0.93 - ETA: 4s - loss: 0.1198 - accuracy: 0.93 - ETA: 4s - loss: 0.1204 - accuracy: 0.93 - ETA: 4s - loss: 0.1207 - accuracy: 0.93 - ETA: 4s - loss: 0.1207 - accuracy: 0.93 - ETA: 4s - loss: 0.1199 - accuracy: 0.93 - ETA: 4s - loss: 0.1208 - accuracy: 0.93 - ETA: 4s - loss: 0.1200 - accuracy: 0.93 - ETA: 4s - loss: 0.1202 - accuracy: 0.93 - ETA: 4s - loss: 0.1205 - accuracy: 0.93 - ETA: 4s - loss: 0.1218 - accuracy: 0.93 - ETA: 4s - loss: 0.1218 - accuracy: 0.93 - ETA: 3s - loss: 0.1217 - accuracy: 0.93 - ETA: 3s - loss: 0.1209 - accuracy: 0.93 - ETA: 3s - loss: 0.1209 - accuracy: 0.93 - ETA: 3s - loss: 0.1215 - accuracy: 0.93 - ETA: 3s - loss: 0.1211 - accuracy: 0.93 - ETA: 3s - loss: 0.1225 - accuracy: 0.93 - ETA: 3s - loss: 0.1217 - accuracy: 0.93 - ETA: 3s - loss: 0.1227 - accuracy: 0.93 - ETA: 3s - loss: 0.1218 - accuracy: 0.93 - ETA: 3s - loss: 0.1217 - accuracy: 0.93 - ETA: 3s - loss: 0.1223 - accuracy: 0.93 - ETA: 3s - loss: 0.1218 - accuracy: 0.93 - ETA: 3s - loss: 0.1209 - accuracy: 0.93 - ETA: 3s - loss: 0.1202 - accuracy: 0.93 - ETA: 3s - loss: 0.1206 - accuracy: 0.93 - ETA: 3s - loss: 0.1200 - accuracy: 0.93 - ETA: 3s - loss: 0.1205 - accuracy: 0.93 - ETA: 3s - loss: 0.1197 - accuracy: 0.93 - ETA: 3s - loss: 0.1189 - accuracy: 0.93 - ETA: 2s - loss: 0.1197 - accuracy: 0.93 - ETA: 2s - loss: 0.1196 - accuracy: 0.93 - ETA: 2s - loss: 0.1196 - accuracy: 0.93 - ETA: 2s - loss: 0.1201 - accuracy: 0.93 - ETA: 2s - loss: 0.1205 - accuracy: 0.93 - ETA: 2s - loss: 0.1212 - accuracy: 0.93 - ETA: 2s - loss: 0.1211 - accuracy: 0.93 - ETA: 2s - loss: 0.1203 - accuracy: 0.93 - ETA: 2s - loss: 0.1204 - accuracy: 0.93 - ETA: 2s - loss: 0.1209 - accuracy: 0.93 - ETA: 2s - loss: 0.1216 - accuracy: 0.93 - ETA: 2s - loss: 0.1217 - accuracy: 0.93 - ETA: 2s - loss: 0.1232 - accuracy: 0.93 - ETA: 2s - loss: 0.1232 - accuracy: 0.93 - ETA: 2s - loss: 0.1238 - accuracy: 0.93 - ETA: 2s - loss: 0.1232 - accuracy: 0.93 - ETA: 2s - loss: 0.1238 - accuracy: 0.93 - ETA: 2s - loss: 0.1231 - accuracy: 0.93 - ETA: 1s - loss: 0.1237 - accuracy: 0.93 - ETA: 1s - loss: 0.1231 - accuracy: 0.93 - ETA: 1s - loss: 0.1224 - accuracy: 0.93 - ETA: 1s - loss: 0.1229 - accuracy: 0.93 - ETA: 1s - loss: 0.1231 - accuracy: 0.93 - ETA: 1s - loss: 0.1230 - accuracy: 0.93 - ETA: 1s - loss: 0.1235 - accuracy: 0.93 - ETA: 1s - loss: 0.1228 - accuracy: 0.93 - ETA: 1s - loss: 0.1244 - accuracy: 0.93 - ETA: 1s - loss: 0.1242 - accuracy: 0.93 - ETA: 1s - loss: 0.1236 - accuracy: 0.93 - ETA: 1s - loss: 0.1234 - accuracy: 0.93 - ETA: 1s - loss: 0.1228 - accuracy: 0.93 - ETA: 1s - loss: 0.1222 - accuracy: 0.93 - ETA: 1s - loss: 0.1224 - accuracy: 0.93 - ETA: 1s - loss: 0.1221 - accuracy: 0.93 - ETA: 1s - loss: 0.1234 - accuracy: 0.93 - ETA: 1s - loss: 0.1228 - accuracy: 0.93 - ETA: 0s - loss: 0.1225 - accuracy: 0.93 - ETA: 0s - loss: 0.1220 - accuracy: 0.93 - ETA: 0s - loss: 0.1222 - accuracy: 0.93 - ETA: 0s - loss: 0.1226 - accuracy: 0.93 - ETA: 0s - loss: 0.1224 - accuracy: 0.93 - ETA: 0s - loss: 0.1224 - accuracy: 0.93 - ETA: 0s - loss: 0.1218 - accuracy: 0.93 - ETA: 0s - loss: 0.1227 - accuracy: 0.9330"
     ]
    },
    {
     "name": "stdout",
     "output_type": "stream",
     "text": [
      "1600/1600 [==============================] - ETA: 0s - loss: 0.1221 - accuracy: 0.93 - ETA: 0s - loss: 0.1215 - accuracy: 0.93 - ETA: 0s - loss: 0.1220 - accuracy: 0.93 - ETA: 0s - loss: 0.1214 - accuracy: 0.93 - ETA: 0s - loss: 0.1221 - accuracy: 0.93 - ETA: 0s - loss: 0.1227 - accuracy: 0.93 - ETA: 0s - loss: 0.1230 - accuracy: 0.93 - ETA: 0s - loss: 0.1224 - accuracy: 0.93 - ETA: 0s - loss: 0.1231 - accuracy: 0.93 - ETA: 0s - loss: 0.1226 - accuracy: 0.93 - ETA: 0s - loss: 0.1228 - accuracy: 0.93 - 13s 8ms/step - loss: 0.1228 - accuracy: 0.9330 - val_loss: 0.0026 - val_accuracy: 1.0000\n",
      "Epoch 18/20\n"
     ]
    },
    {
     "name": "stdout",
     "output_type": "stream",
     "text": [
      "1433/1600 [=========================>....] - ETA: 0s - loss: 0.0097 - accuracy: 1.00 - ETA: 9s - loss: 0.0113 - accuracy: 1.00 - ETA: 10s - loss: 0.0407 - accuracy: 0.984 - ETA: 13s - loss: 0.0363 - accuracy: 0.986 - ETA: 14s - loss: 0.0727 - accuracy: 0.945 - ETA: 13s - loss: 0.1004 - accuracy: 0.951 - ETA: 12s - loss: 0.0830 - accuracy: 0.960 - ETA: 12s - loss: 0.0714 - accuracy: 0.966 - ETA: 12s - loss: 0.0627 - accuracy: 0.971 - ETA: 12s - loss: 0.0796 - accuracy: 0.958 - ETA: 11s - loss: 0.0846 - accuracy: 0.951 - ETA: 11s - loss: 0.1023 - accuracy: 0.936 - ETA: 11s - loss: 0.1028 - accuracy: 0.936 - ETA: 11s - loss: 0.1044 - accuracy: 0.933 - ETA: 11s - loss: 0.0959 - accuracy: 0.938 - ETA: 11s - loss: 0.0889 - accuracy: 0.943 - ETA: 10s - loss: 0.0915 - accuracy: 0.940 - ETA: 10s - loss: 0.1075 - accuracy: 0.926 - ETA: 10s - loss: 0.1077 - accuracy: 0.926 - ETA: 10s - loss: 0.1032 - accuracy: 0.931 - ETA: 10s - loss: 0.1079 - accuracy: 0.924 - ETA: 10s - loss: 0.1035 - accuracy: 0.928 - ETA: 10s - loss: 0.1096 - accuracy: 0.923 - ETA: 10s - loss: 0.1112 - accuracy: 0.921 - ETA: 10s - loss: 0.1076 - accuracy: 0.925 - ETA: 9s - loss: 0.1026 - accuracy: 0.928 - ETA: 9s - loss: 0.0982 - accuracy: 0.93 - ETA: 9s - loss: 0.0981 - accuracy: 0.93 - ETA: 9s - loss: 0.0947 - accuracy: 0.93 - ETA: 9s - loss: 0.0960 - accuracy: 0.93 - ETA: 9s - loss: 0.0995 - accuracy: 0.93 - ETA: 9s - loss: 0.0963 - accuracy: 0.93 - ETA: 9s - loss: 0.0993 - accuracy: 0.92 - ETA: 9s - loss: 0.1040 - accuracy: 0.92 - ETA: 9s - loss: 0.1015 - accuracy: 0.92 - ETA: 9s - loss: 0.1040 - accuracy: 0.92 - ETA: 9s - loss: 0.1063 - accuracy: 0.92 - ETA: 9s - loss: 0.1062 - accuracy: 0.92 - ETA: 9s - loss: 0.1094 - accuracy: 0.92 - ETA: 8s - loss: 0.1089 - accuracy: 0.92 - ETA: 8s - loss: 0.1058 - accuracy: 0.92 - ETA: 8s - loss: 0.1038 - accuracy: 0.92 - ETA: 8s - loss: 0.1069 - accuracy: 0.92 - ETA: 8s - loss: 0.1045 - accuracy: 0.92 - ETA: 8s - loss: 0.1046 - accuracy: 0.92 - ETA: 8s - loss: 0.1026 - accuracy: 0.92 - ETA: 8s - loss: 0.1050 - accuracy: 0.92 - ETA: 8s - loss: 0.1067 - accuracy: 0.92 - ETA: 8s - loss: 0.1064 - accuracy: 0.92 - ETA: 8s - loss: 0.1046 - accuracy: 0.92 - ETA: 8s - loss: 0.1033 - accuracy: 0.93 - ETA: 8s - loss: 0.1015 - accuracy: 0.93 - ETA: 8s - loss: 0.1023 - accuracy: 0.93 - ETA: 8s - loss: 0.1043 - accuracy: 0.92 - ETA: 8s - loss: 0.1046 - accuracy: 0.92 - ETA: 8s - loss: 0.1048 - accuracy: 0.92 - ETA: 8s - loss: 0.1072 - accuracy: 0.92 - ETA: 8s - loss: 0.1101 - accuracy: 0.92 - ETA: 8s - loss: 0.1107 - accuracy: 0.92 - ETA: 7s - loss: 0.1102 - accuracy: 0.92 - ETA: 7s - loss: 0.1127 - accuracy: 0.92 - ETA: 7s - loss: 0.1108 - accuracy: 0.92 - ETA: 7s - loss: 0.1113 - accuracy: 0.92 - ETA: 7s - loss: 0.1107 - accuracy: 0.92 - ETA: 7s - loss: 0.1123 - accuracy: 0.92 - ETA: 7s - loss: 0.1127 - accuracy: 0.92 - ETA: 7s - loss: 0.1132 - accuracy: 0.92 - ETA: 7s - loss: 0.1189 - accuracy: 0.92 - ETA: 7s - loss: 0.1201 - accuracy: 0.92 - ETA: 7s - loss: 0.1190 - accuracy: 0.92 - ETA: 7s - loss: 0.1220 - accuracy: 0.92 - ETA: 7s - loss: 0.1227 - accuracy: 0.92 - ETA: 7s - loss: 0.1264 - accuracy: 0.91 - ETA: 7s - loss: 0.1264 - accuracy: 0.91 - ETA: 7s - loss: 0.1263 - accuracy: 0.92 - ETA: 6s - loss: 0.1253 - accuracy: 0.92 - ETA: 6s - loss: 0.1240 - accuracy: 0.92 - ETA: 6s - loss: 0.1254 - accuracy: 0.92 - ETA: 6s - loss: 0.1239 - accuracy: 0.92 - ETA: 6s - loss: 0.1240 - accuracy: 0.92 - ETA: 6s - loss: 0.1224 - accuracy: 0.92 - ETA: 6s - loss: 0.1211 - accuracy: 0.92 - ETA: 6s - loss: 0.1200 - accuracy: 0.92 - ETA: 6s - loss: 0.1235 - accuracy: 0.92 - ETA: 6s - loss: 0.1237 - accuracy: 0.92 - ETA: 6s - loss: 0.1225 - accuracy: 0.92 - ETA: 6s - loss: 0.1227 - accuracy: 0.92 - ETA: 6s - loss: 0.1225 - accuracy: 0.92 - ETA: 6s - loss: 0.1223 - accuracy: 0.92 - ETA: 6s - loss: 0.1222 - accuracy: 0.92 - ETA: 6s - loss: 0.1222 - accuracy: 0.92 - ETA: 6s - loss: 0.1212 - accuracy: 0.92 - ETA: 6s - loss: 0.1212 - accuracy: 0.92 - ETA: 6s - loss: 0.1236 - accuracy: 0.92 - ETA: 6s - loss: 0.1235 - accuracy: 0.92 - ETA: 5s - loss: 0.1247 - accuracy: 0.92 - ETA: 5s - loss: 0.1256 - accuracy: 0.92 - ETA: 5s - loss: 0.1247 - accuracy: 0.92 - ETA: 5s - loss: 0.1236 - accuracy: 0.92 - ETA: 5s - loss: 0.1244 - accuracy: 0.92 - ETA: 5s - loss: 0.1253 - accuracy: 0.92 - ETA: 5s - loss: 0.1251 - accuracy: 0.92 - ETA: 5s - loss: 0.1248 - accuracy: 0.92 - ETA: 5s - loss: 0.1235 - accuracy: 0.92 - ETA: 5s - loss: 0.1252 - accuracy: 0.92 - ETA: 5s - loss: 0.1241 - accuracy: 0.92 - ETA: 5s - loss: 0.1257 - accuracy: 0.92 - ETA: 5s - loss: 0.1245 - accuracy: 0.92 - ETA: 5s - loss: 0.1261 - accuracy: 0.92 - ETA: 5s - loss: 0.1258 - accuracy: 0.92 - ETA: 5s - loss: 0.1249 - accuracy: 0.92 - ETA: 5s - loss: 0.1237 - accuracy: 0.92 - ETA: 5s - loss: 0.1251 - accuracy: 0.92 - ETA: 5s - loss: 0.1251 - accuracy: 0.92 - ETA: 4s - loss: 0.1255 - accuracy: 0.92 - ETA: 4s - loss: 0.1255 - accuracy: 0.92 - ETA: 4s - loss: 0.1254 - accuracy: 0.92 - ETA: 4s - loss: 0.1262 - accuracy: 0.92 - ETA: 4s - loss: 0.1251 - accuracy: 0.92 - ETA: 4s - loss: 0.1261 - accuracy: 0.92 - ETA: 4s - loss: 0.1249 - accuracy: 0.92 - ETA: 4s - loss: 0.1252 - accuracy: 0.92 - ETA: 4s - loss: 0.1251 - accuracy: 0.92 - ETA: 4s - loss: 0.1243 - accuracy: 0.92 - ETA: 4s - loss: 0.1244 - accuracy: 0.92 - ETA: 4s - loss: 0.1242 - accuracy: 0.92 - ETA: 4s - loss: 0.1235 - accuracy: 0.92 - ETA: 4s - loss: 0.1243 - accuracy: 0.92 - ETA: 4s - loss: 0.1240 - accuracy: 0.92 - ETA: 4s - loss: 0.1256 - accuracy: 0.92 - ETA: 4s - loss: 0.1247 - accuracy: 0.92 - ETA: 4s - loss: 0.1280 - accuracy: 0.92 - ETA: 4s - loss: 0.1284 - accuracy: 0.92 - ETA: 3s - loss: 0.1278 - accuracy: 0.92 - ETA: 3s - loss: 0.1287 - accuracy: 0.92 - ETA: 3s - loss: 0.1284 - accuracy: 0.92 - ETA: 3s - loss: 0.1284 - accuracy: 0.92 - ETA: 3s - loss: 0.1275 - accuracy: 0.92 - ETA: 3s - loss: 0.1267 - accuracy: 0.92 - ETA: 3s - loss: 0.1269 - accuracy: 0.92 - ETA: 3s - loss: 0.1261 - accuracy: 0.92 - ETA: 3s - loss: 0.1269 - accuracy: 0.92 - ETA: 3s - loss: 0.1270 - accuracy: 0.92 - ETA: 3s - loss: 0.1274 - accuracy: 0.92 - ETA: 3s - loss: 0.1285 - accuracy: 0.92 - ETA: 3s - loss: 0.1291 - accuracy: 0.92 - ETA: 3s - loss: 0.1282 - accuracy: 0.92 - ETA: 3s - loss: 0.1278 - accuracy: 0.92 - ETA: 3s - loss: 0.1281 - accuracy: 0.92 - ETA: 3s - loss: 0.1287 - accuracy: 0.92 - ETA: 3s - loss: 0.1288 - accuracy: 0.92 - ETA: 3s - loss: 0.1287 - accuracy: 0.92 - ETA: 3s - loss: 0.1286 - accuracy: 0.92 - ETA: 2s - loss: 0.1281 - accuracy: 0.92 - ETA: 2s - loss: 0.1292 - accuracy: 0.92 - ETA: 2s - loss: 0.1285 - accuracy: 0.92 - ETA: 2s - loss: 0.1282 - accuracy: 0.92 - ETA: 2s - loss: 0.1275 - accuracy: 0.92 - ETA: 2s - loss: 0.1269 - accuracy: 0.92 - ETA: 2s - loss: 0.1275 - accuracy: 0.92 - ETA: 2s - loss: 0.1278 - accuracy: 0.92 - ETA: 2s - loss: 0.1276 - accuracy: 0.92 - ETA: 2s - loss: 0.1282 - accuracy: 0.92 - ETA: 2s - loss: 0.1293 - accuracy: 0.92 - ETA: 2s - loss: 0.1293 - accuracy: 0.92 - ETA: 2s - loss: 0.1286 - accuracy: 0.92 - ETA: 2s - loss: 0.1288 - accuracy: 0.92 - ETA: 2s - loss: 0.1283 - accuracy: 0.92 - ETA: 2s - loss: 0.1295 - accuracy: 0.92 - ETA: 2s - loss: 0.1308 - accuracy: 0.92 - ETA: 2s - loss: 0.1307 - accuracy: 0.92 - ETA: 2s - loss: 0.1303 - accuracy: 0.92 - ETA: 2s - loss: 0.1309 - accuracy: 0.92 - ETA: 2s - loss: 0.1306 - accuracy: 0.92 - ETA: 1s - loss: 0.1302 - accuracy: 0.92 - ETA: 1s - loss: 0.1308 - accuracy: 0.92 - ETA: 1s - loss: 0.1309 - accuracy: 0.92 - ETA: 1s - loss: 0.1305 - accuracy: 0.92 - ETA: 1s - loss: 0.1305 - accuracy: 0.92 - ETA: 1s - loss: 0.1301 - accuracy: 0.92 - ETA: 1s - loss: 0.1296 - accuracy: 0.92 - ETA: 1s - loss: 0.1294 - accuracy: 0.92 - ETA: 1s - loss: 0.1289 - accuracy: 0.92 - ETA: 1s - loss: 0.1295 - accuracy: 0.92 - ETA: 1s - loss: 0.1298 - accuracy: 0.92 - ETA: 1s - loss: 0.1298 - accuracy: 0.92 - ETA: 1s - loss: 0.1292 - accuracy: 0.92 - ETA: 1s - loss: 0.1293 - accuracy: 0.92 - ETA: 1s - loss: 0.1293 - accuracy: 0.92 - ETA: 1s - loss: 0.1294 - accuracy: 0.92 - ETA: 1s - loss: 0.1288 - accuracy: 0.92 - ETA: 1s - loss: 0.1288 - accuracy: 0.92 - ETA: 1s - loss: 0.1290 - accuracy: 0.9264"
     ]
    },
    {
     "name": "stdout",
     "output_type": "stream",
     "text": [
      "1600/1600 [==============================] - ETA: 1s - loss: 0.1291 - accuracy: 0.92 - ETA: 1s - loss: 0.1289 - accuracy: 0.92 - ETA: 1s - loss: 0.1301 - accuracy: 0.92 - ETA: 0s - loss: 0.1294 - accuracy: 0.92 - ETA: 0s - loss: 0.1302 - accuracy: 0.92 - ETA: 0s - loss: 0.1313 - accuracy: 0.92 - ETA: 0s - loss: 0.1310 - accuracy: 0.92 - ETA: 0s - loss: 0.1309 - accuracy: 0.92 - ETA: 0s - loss: 0.1309 - accuracy: 0.92 - ETA: 0s - loss: 0.1313 - accuracy: 0.92 - ETA: 0s - loss: 0.1315 - accuracy: 0.92 - ETA: 0s - loss: 0.1312 - accuracy: 0.92 - ETA: 0s - loss: 0.1317 - accuracy: 0.92 - ETA: 0s - loss: 0.1311 - accuracy: 0.92 - ETA: 0s - loss: 0.1304 - accuracy: 0.92 - ETA: 0s - loss: 0.1300 - accuracy: 0.92 - ETA: 0s - loss: 0.1298 - accuracy: 0.92 - ETA: 0s - loss: 0.1298 - accuracy: 0.92 - ETA: 0s - loss: 0.1299 - accuracy: 0.92 - ETA: 0s - loss: 0.1298 - accuracy: 0.92 - ETA: 0s - loss: 0.1297 - accuracy: 0.92 - 13s 8ms/step - loss: 0.1296 - accuracy: 0.9252 - val_loss: 0.0490 - val_accuracy: 0.9981\n",
      "Epoch 19/20\n"
     ]
    },
    {
     "name": "stdout",
     "output_type": "stream",
     "text": [
      " 940/1600 [================>.............] - ETA: 0s - loss: 0.0012 - accuracy: 1.00 - ETA: 13s - loss: 0.0433 - accuracy: 0.964 - ETA: 20s - loss: 0.0370 - accuracy: 0.972 - ETA: 21s - loss: 0.0937 - accuracy: 0.937 - ETA: 21s - loss: 0.1196 - accuracy: 0.921 - ETA: 22s - loss: 0.1054 - accuracy: 0.934 - ETA: 21s - loss: 0.0847 - accuracy: 0.947 - ETA: 19s - loss: 0.0911 - accuracy: 0.951 - ETA: 18s - loss: 0.1002 - accuracy: 0.945 - ETA: 17s - loss: 0.0894 - accuracy: 0.952 - ETA: 17s - loss: 0.1120 - accuracy: 0.932 - ETA: 16s - loss: 0.1001 - accuracy: 0.939 - ETA: 16s - loss: 0.1015 - accuracy: 0.937 - ETA: 16s - loss: 0.0928 - accuracy: 0.943 - ETA: 16s - loss: 0.0867 - accuracy: 0.947 - ETA: 15s - loss: 0.0912 - accuracy: 0.942 - ETA: 15s - loss: 0.0843 - accuracy: 0.947 - ETA: 14s - loss: 0.0782 - accuracy: 0.951 - ETA: 14s - loss: 0.0732 - accuracy: 0.954 - ETA: 14s - loss: 0.0707 - accuracy: 0.956 - ETA: 14s - loss: 0.0675 - accuracy: 0.958 - ETA: 15s - loss: 0.0789 - accuracy: 0.949 - ETA: 15s - loss: 0.0762 - accuracy: 0.950 - ETA: 15s - loss: 0.0740 - accuracy: 0.952 - ETA: 15s - loss: 0.0712 - accuracy: 0.954 - ETA: 15s - loss: 0.0688 - accuracy: 0.956 - ETA: 15s - loss: 0.0715 - accuracy: 0.955 - ETA: 15s - loss: 0.0749 - accuracy: 0.953 - ETA: 15s - loss: 0.0760 - accuracy: 0.954 - ETA: 15s - loss: 0.0736 - accuracy: 0.955 - ETA: 15s - loss: 0.0713 - accuracy: 0.957 - ETA: 14s - loss: 0.0692 - accuracy: 0.958 - ETA: 14s - loss: 0.0678 - accuracy: 0.959 - ETA: 15s - loss: 0.0670 - accuracy: 0.960 - ETA: 15s - loss: 0.0652 - accuracy: 0.961 - ETA: 15s - loss: 0.0770 - accuracy: 0.955 - ETA: 15s - loss: 0.0750 - accuracy: 0.956 - ETA: 14s - loss: 0.0773 - accuracy: 0.955 - ETA: 15s - loss: 0.0795 - accuracy: 0.954 - ETA: 15s - loss: 0.0786 - accuracy: 0.955 - ETA: 15s - loss: 0.0805 - accuracy: 0.955 - ETA: 15s - loss: 0.0818 - accuracy: 0.953 - ETA: 15s - loss: 0.0855 - accuracy: 0.952 - ETA: 15s - loss: 0.0836 - accuracy: 0.953 - ETA: 14s - loss: 0.0889 - accuracy: 0.948 - ETA: 14s - loss: 0.0870 - accuracy: 0.950 - ETA: 14s - loss: 0.0899 - accuracy: 0.948 - ETA: 14s - loss: 0.0916 - accuracy: 0.946 - ETA: 14s - loss: 0.0925 - accuracy: 0.946 - ETA: 14s - loss: 0.0939 - accuracy: 0.945 - ETA: 14s - loss: 0.0970 - accuracy: 0.944 - ETA: 14s - loss: 0.0951 - accuracy: 0.945 - ETA: 14s - loss: 0.0934 - accuracy: 0.946 - ETA: 14s - loss: 0.0918 - accuracy: 0.947 - ETA: 14s - loss: 0.0969 - accuracy: 0.947 - ETA: 14s - loss: 0.0991 - accuracy: 0.945 - ETA: 14s - loss: 0.1011 - accuracy: 0.945 - ETA: 14s - loss: 0.1027 - accuracy: 0.944 - ETA: 14s - loss: 0.1015 - accuracy: 0.945 - ETA: 14s - loss: 0.1028 - accuracy: 0.944 - ETA: 14s - loss: 0.1069 - accuracy: 0.940 - ETA: 14s - loss: 0.1059 - accuracy: 0.941 - ETA: 14s - loss: 0.1044 - accuracy: 0.942 - ETA: 14s - loss: 0.1032 - accuracy: 0.943 - ETA: 14s - loss: 0.1042 - accuracy: 0.943 - ETA: 14s - loss: 0.1056 - accuracy: 0.942 - ETA: 14s - loss: 0.1114 - accuracy: 0.937 - ETA: 14s - loss: 0.1124 - accuracy: 0.936 - ETA: 14s - loss: 0.1118 - accuracy: 0.937 - ETA: 14s - loss: 0.1105 - accuracy: 0.938 - ETA: 14s - loss: 0.1093 - accuracy: 0.939 - ETA: 14s - loss: 0.1104 - accuracy: 0.938 - ETA: 14s - loss: 0.1113 - accuracy: 0.938 - ETA: 14s - loss: 0.1121 - accuracy: 0.937 - ETA: 14s - loss: 0.1152 - accuracy: 0.933 - ETA: 13s - loss: 0.1178 - accuracy: 0.931 - ETA: 13s - loss: 0.1192 - accuracy: 0.930 - ETA: 13s - loss: 0.1179 - accuracy: 0.931 - ETA: 13s - loss: 0.1169 - accuracy: 0.932 - ETA: 13s - loss: 0.1157 - accuracy: 0.932 - ETA: 13s - loss: 0.1145 - accuracy: 0.933 - ETA: 13s - loss: 0.1134 - accuracy: 0.934 - ETA: 13s - loss: 0.1145 - accuracy: 0.932 - ETA: 13s - loss: 0.1136 - accuracy: 0.933 - ETA: 13s - loss: 0.1125 - accuracy: 0.934 - ETA: 13s - loss: 0.1112 - accuracy: 0.935 - ETA: 13s - loss: 0.1119 - accuracy: 0.935 - ETA: 13s - loss: 0.1110 - accuracy: 0.935 - ETA: 13s - loss: 0.1102 - accuracy: 0.936 - ETA: 13s - loss: 0.1094 - accuracy: 0.936 - ETA: 13s - loss: 0.1102 - accuracy: 0.936 - ETA: 13s - loss: 0.1093 - accuracy: 0.937 - ETA: 13s - loss: 0.1082 - accuracy: 0.938 - ETA: 13s - loss: 0.1073 - accuracy: 0.938 - ETA: 13s - loss: 0.1063 - accuracy: 0.939 - ETA: 13s - loss: 0.1071 - accuracy: 0.938 - ETA: 13s - loss: 0.1061 - accuracy: 0.939 - ETA: 13s - loss: 0.1050 - accuracy: 0.939 - ETA: 13s - loss: 0.1057 - accuracy: 0.939 - ETA: 13s - loss: 0.1046 - accuracy: 0.939 - ETA: 13s - loss: 0.1036 - accuracy: 0.940 - ETA: 12s - loss: 0.1024 - accuracy: 0.941 - ETA: 12s - loss: 0.1028 - accuracy: 0.940 - ETA: 12s - loss: 0.1033 - accuracy: 0.940 - ETA: 12s - loss: 0.1021 - accuracy: 0.940 - ETA: 12s - loss: 0.1023 - accuracy: 0.940 - ETA: 12s - loss: 0.1010 - accuracy: 0.941 - ETA: 12s - loss: 0.1017 - accuracy: 0.940 - ETA: 12s - loss: 0.1010 - accuracy: 0.940 - ETA: 12s - loss: 0.1016 - accuracy: 0.940 - ETA: 12s - loss: 0.1005 - accuracy: 0.940 - ETA: 12s - loss: 0.0997 - accuracy: 0.941 - ETA: 11s - loss: 0.1002 - accuracy: 0.941 - ETA: 11s - loss: 0.0995 - accuracy: 0.941 - ETA: 11s - loss: 0.0986 - accuracy: 0.941 - ETA: 11s - loss: 0.0978 - accuracy: 0.942 - ETA: 11s - loss: 0.0984 - accuracy: 0.942 - ETA: 11s - loss: 0.0973 - accuracy: 0.942 - ETA: 11s - loss: 0.0967 - accuracy: 0.943 - ETA: 11s - loss: 0.0987 - accuracy: 0.941 - ETA: 11s - loss: 0.0979 - accuracy: 0.942 - ETA: 11s - loss: 0.0995 - accuracy: 0.940 - ETA: 11s - loss: 0.0987 - accuracy: 0.941 - ETA: 11s - loss: 0.0992 - accuracy: 0.940 - ETA: 11s - loss: 0.0997 - accuracy: 0.940 - ETA: 11s - loss: 0.1001 - accuracy: 0.939 - ETA: 10s - loss: 0.0991 - accuracy: 0.939 - ETA: 10s - loss: 0.0983 - accuracy: 0.940 - ETA: 10s - loss: 0.0974 - accuracy: 0.941 - ETA: 10s - loss: 0.0967 - accuracy: 0.941 - ETA: 10s - loss: 0.0961 - accuracy: 0.941 - ETA: 10s - loss: 0.0954 - accuracy: 0.942 - ETA: 10s - loss: 0.0946 - accuracy: 0.942 - ETA: 10s - loss: 0.0940 - accuracy: 0.943 - ETA: 10s - loss: 0.0933 - accuracy: 0.943 - ETA: 10s - loss: 0.0935 - accuracy: 0.943 - ETA: 10s - loss: 0.0927 - accuracy: 0.943 - ETA: 10s - loss: 0.0932 - accuracy: 0.943 - ETA: 10s - loss: 0.0948 - accuracy: 0.942 - ETA: 10s - loss: 0.0953 - accuracy: 0.942 - ETA: 10s - loss: 0.0967 - accuracy: 0.940 - ETA: 9s - loss: 0.0958 - accuracy: 0.941 - ETA: 9s - loss: 0.0962 - accuracy: 0.94 - ETA: 9s - loss: 0.0953 - accuracy: 0.94 - ETA: 9s - loss: 0.0980 - accuracy: 0.93 - ETA: 9s - loss: 0.0983 - accuracy: 0.93 - ETA: 9s - loss: 0.0977 - accuracy: 0.93 - ETA: 9s - loss: 0.0970 - accuracy: 0.93 - ETA: 9s - loss: 0.0963 - accuracy: 0.94 - ETA: 9s - loss: 0.0958 - accuracy: 0.94 - ETA: 9s - loss: 0.0961 - accuracy: 0.94 - ETA: 9s - loss: 0.0975 - accuracy: 0.93 - ETA: 9s - loss: 0.0967 - accuracy: 0.93 - ETA: 9s - loss: 0.0974 - accuracy: 0.93 - ETA: 9s - loss: 0.0968 - accuracy: 0.93 - ETA: 8s - loss: 0.0962 - accuracy: 0.93 - ETA: 8s - loss: 0.0959 - accuracy: 0.94 - ETA: 8s - loss: 0.0954 - accuracy: 0.94 - ETA: 8s - loss: 0.0949 - accuracy: 0.94 - ETA: 8s - loss: 0.0964 - accuracy: 0.93 - ETA: 8s - loss: 0.0959 - accuracy: 0.93 - ETA: 8s - loss: 0.0965 - accuracy: 0.93 - ETA: 8s - loss: 0.0959 - accuracy: 0.93 - ETA: 8s - loss: 0.0953 - accuracy: 0.93 - ETA: 8s - loss: 0.0948 - accuracy: 0.94 - ETA: 8s - loss: 0.0968 - accuracy: 0.93 - ETA: 8s - loss: 0.0972 - accuracy: 0.93 - ETA: 8s - loss: 0.0984 - accuracy: 0.93 - ETA: 8s - loss: 0.0979 - accuracy: 0.93 - ETA: 8s - loss: 0.0974 - accuracy: 0.93 - ETA: 8s - loss: 0.0969 - accuracy: 0.93 - ETA: 8s - loss: 0.0974 - accuracy: 0.93 - ETA: 8s - loss: 0.0978 - accuracy: 0.93 - ETA: 8s - loss: 0.0972 - accuracy: 0.93 - ETA: 7s - loss: 0.0985 - accuracy: 0.93 - ETA: 7s - loss: 0.0988 - accuracy: 0.93 - ETA: 7s - loss: 0.0992 - accuracy: 0.93 - ETA: 7s - loss: 0.0994 - accuracy: 0.93 - ETA: 7s - loss: 0.0996 - accuracy: 0.93 - ETA: 7s - loss: 0.0990 - accuracy: 0.93 - ETA: 7s - loss: 0.0991 - accuracy: 0.93 - ETA: 7s - loss: 0.0985 - accuracy: 0.93 - ETA: 7s - loss: 0.0984 - accuracy: 0.93 - ETA: 7s - loss: 0.0977 - accuracy: 0.93 - ETA: 7s - loss: 0.0980 - accuracy: 0.93 - ETA: 7s - loss: 0.0975 - accuracy: 0.93 - ETA: 7s - loss: 0.0973 - accuracy: 0.93 - ETA: 7s - loss: 0.0968 - accuracy: 0.9394"
     ]
    },
    {
     "name": "stdout",
     "output_type": "stream",
     "text": [
      "1600/1600 [==============================] - ETA: 7s - loss: 0.0963 - accuracy: 0.93 - ETA: 7s - loss: 0.0963 - accuracy: 0.93 - ETA: 6s - loss: 0.0957 - accuracy: 0.94 - ETA: 6s - loss: 0.0966 - accuracy: 0.94 - ETA: 6s - loss: 0.0978 - accuracy: 0.93 - ETA: 6s - loss: 0.0973 - accuracy: 0.94 - ETA: 6s - loss: 0.0968 - accuracy: 0.94 - ETA: 6s - loss: 0.0962 - accuracy: 0.94 - ETA: 6s - loss: 0.0963 - accuracy: 0.94 - ETA: 6s - loss: 0.0967 - accuracy: 0.94 - ETA: 6s - loss: 0.0961 - accuracy: 0.94 - ETA: 6s - loss: 0.0954 - accuracy: 0.94 - ETA: 6s - loss: 0.0948 - accuracy: 0.94 - ETA: 6s - loss: 0.0951 - accuracy: 0.94 - ETA: 6s - loss: 0.0945 - accuracy: 0.94 - ETA: 5s - loss: 0.0947 - accuracy: 0.94 - ETA: 5s - loss: 0.0942 - accuracy: 0.94 - ETA: 5s - loss: 0.0943 - accuracy: 0.94 - ETA: 5s - loss: 0.0945 - accuracy: 0.94 - ETA: 5s - loss: 0.0940 - accuracy: 0.94 - ETA: 5s - loss: 0.0943 - accuracy: 0.94 - ETA: 5s - loss: 0.0937 - accuracy: 0.94 - ETA: 5s - loss: 0.0940 - accuracy: 0.94 - ETA: 5s - loss: 0.0934 - accuracy: 0.94 - ETA: 5s - loss: 0.0942 - accuracy: 0.94 - ETA: 5s - loss: 0.0938 - accuracy: 0.94 - ETA: 5s - loss: 0.0942 - accuracy: 0.94 - ETA: 5s - loss: 0.0947 - accuracy: 0.94 - ETA: 4s - loss: 0.0958 - accuracy: 0.94 - ETA: 4s - loss: 0.0952 - accuracy: 0.94 - ETA: 4s - loss: 0.0948 - accuracy: 0.94 - ETA: 4s - loss: 0.0958 - accuracy: 0.94 - ETA: 4s - loss: 0.0953 - accuracy: 0.94 - ETA: 4s - loss: 0.0948 - accuracy: 0.94 - ETA: 4s - loss: 0.0965 - accuracy: 0.94 - ETA: 4s - loss: 0.0969 - accuracy: 0.94 - ETA: 4s - loss: 0.0965 - accuracy: 0.94 - ETA: 4s - loss: 0.0970 - accuracy: 0.94 - ETA: 4s - loss: 0.0967 - accuracy: 0.94 - ETA: 4s - loss: 0.0963 - accuracy: 0.94 - ETA: 4s - loss: 0.0965 - accuracy: 0.94 - ETA: 4s - loss: 0.0960 - accuracy: 0.94 - ETA: 4s - loss: 0.0956 - accuracy: 0.94 - ETA: 4s - loss: 0.0952 - accuracy: 0.94 - ETA: 3s - loss: 0.0953 - accuracy: 0.94 - ETA: 3s - loss: 0.0947 - accuracy: 0.94 - ETA: 3s - loss: 0.0949 - accuracy: 0.94 - ETA: 3s - loss: 0.0944 - accuracy: 0.94 - ETA: 3s - loss: 0.0954 - accuracy: 0.94 - ETA: 3s - loss: 0.0957 - accuracy: 0.94 - ETA: 3s - loss: 0.0958 - accuracy: 0.94 - ETA: 3s - loss: 0.0969 - accuracy: 0.94 - ETA: 3s - loss: 0.0964 - accuracy: 0.94 - ETA: 3s - loss: 0.0960 - accuracy: 0.94 - ETA: 3s - loss: 0.0957 - accuracy: 0.94 - ETA: 3s - loss: 0.0961 - accuracy: 0.94 - ETA: 3s - loss: 0.0956 - accuracy: 0.94 - ETA: 3s - loss: 0.0972 - accuracy: 0.94 - ETA: 2s - loss: 0.0969 - accuracy: 0.94 - ETA: 2s - loss: 0.0973 - accuracy: 0.94 - ETA: 2s - loss: 0.0980 - accuracy: 0.94 - ETA: 2s - loss: 0.0976 - accuracy: 0.94 - ETA: 2s - loss: 0.0975 - accuracy: 0.94 - ETA: 2s - loss: 0.0995 - accuracy: 0.93 - ETA: 2s - loss: 0.0991 - accuracy: 0.93 - ETA: 2s - loss: 0.0989 - accuracy: 0.94 - ETA: 2s - loss: 0.0998 - accuracy: 0.93 - ETA: 2s - loss: 0.1007 - accuracy: 0.93 - ETA: 2s - loss: 0.1008 - accuracy: 0.93 - ETA: 2s - loss: 0.1012 - accuracy: 0.93 - ETA: 2s - loss: 0.1008 - accuracy: 0.93 - ETA: 2s - loss: 0.1018 - accuracy: 0.93 - ETA: 2s - loss: 0.1018 - accuracy: 0.93 - ETA: 2s - loss: 0.1015 - accuracy: 0.93 - ETA: 2s - loss: 0.1011 - accuracy: 0.93 - ETA: 1s - loss: 0.1025 - accuracy: 0.93 - ETA: 1s - loss: 0.1021 - accuracy: 0.93 - ETA: 1s - loss: 0.1018 - accuracy: 0.93 - ETA: 1s - loss: 0.1016 - accuracy: 0.93 - ETA: 1s - loss: 0.1021 - accuracy: 0.93 - ETA: 1s - loss: 0.1018 - accuracy: 0.93 - ETA: 1s - loss: 0.1020 - accuracy: 0.93 - ETA: 1s - loss: 0.1024 - accuracy: 0.93 - ETA: 1s - loss: 0.1022 - accuracy: 0.93 - ETA: 1s - loss: 0.1021 - accuracy: 0.93 - ETA: 1s - loss: 0.1018 - accuracy: 0.93 - ETA: 1s - loss: 0.1015 - accuracy: 0.93 - ETA: 1s - loss: 0.1019 - accuracy: 0.93 - ETA: 1s - loss: 0.1021 - accuracy: 0.93 - ETA: 1s - loss: 0.1019 - accuracy: 0.93 - ETA: 1s - loss: 0.1017 - accuracy: 0.93 - ETA: 1s - loss: 0.1022 - accuracy: 0.93 - ETA: 1s - loss: 0.1024 - accuracy: 0.93 - ETA: 1s - loss: 0.1036 - accuracy: 0.93 - ETA: 1s - loss: 0.1033 - accuracy: 0.93 - ETA: 0s - loss: 0.1030 - accuracy: 0.93 - ETA: 0s - loss: 0.1031 - accuracy: 0.93 - ETA: 0s - loss: 0.1027 - accuracy: 0.93 - ETA: 0s - loss: 0.1035 - accuracy: 0.93 - ETA: 0s - loss: 0.1032 - accuracy: 0.93 - ETA: 0s - loss: 0.1029 - accuracy: 0.93 - ETA: 0s - loss: 0.1025 - accuracy: 0.93 - ETA: 0s - loss: 0.1036 - accuracy: 0.93 - ETA: 0s - loss: 0.1037 - accuracy: 0.93 - ETA: 0s - loss: 0.1037 - accuracy: 0.93 - ETA: 0s - loss: 0.1039 - accuracy: 0.93 - ETA: 0s - loss: 0.1044 - accuracy: 0.93 - ETA: 0s - loss: 0.1040 - accuracy: 0.93 - ETA: 0s - loss: 0.1040 - accuracy: 0.93 - ETA: 0s - loss: 0.1041 - accuracy: 0.93 - ETA: 0s - loss: 0.1038 - accuracy: 0.93 - ETA: 0s - loss: 0.1040 - accuracy: 0.93 - 18s 11ms/step - loss: 0.1040 - accuracy: 0.9370 - val_loss: 0.0039 - val_accuracy: 1.0000\n",
      "Epoch 20/20\n"
     ]
    },
    {
     "name": "stdout",
     "output_type": "stream",
     "text": [
      " 765/1600 [=============>................] - ETA: 0s - loss: 0.0020 - accuracy: 1.00 - ETA: 9s - loss: 0.1195 - accuracy: 0.91 - ETA: 10s - loss: 0.0722 - accuracy: 0.950 - ETA: 12s - loss: 0.1046 - accuracy: 0.947 - ETA: 13s - loss: 0.0971 - accuracy: 0.947 - ETA: 13s - loss: 0.0996 - accuracy: 0.950 - ETA: 14s - loss: 0.1049 - accuracy: 0.944 - ETA: 14s - loss: 0.0934 - accuracy: 0.952 - ETA: 13s - loss: 0.1044 - accuracy: 0.947 - ETA: 14s - loss: 0.0978 - accuracy: 0.951 - ETA: 14s - loss: 0.1034 - accuracy: 0.947 - ETA: 14s - loss: 0.0954 - accuracy: 0.951 - ETA: 15s - loss: 0.1025 - accuracy: 0.946 - ETA: 15s - loss: 0.1081 - accuracy: 0.939 - ETA: 14s - loss: 0.1184 - accuracy: 0.935 - ETA: 14s - loss: 0.1091 - accuracy: 0.940 - ETA: 14s - loss: 0.1088 - accuracy: 0.936 - ETA: 14s - loss: 0.1020 - accuracy: 0.941 - ETA: 13s - loss: 0.1028 - accuracy: 0.942 - ETA: 13s - loss: 0.1054 - accuracy: 0.940 - ETA: 13s - loss: 0.0986 - accuracy: 0.944 - ETA: 13s - loss: 0.0952 - accuracy: 0.947 - ETA: 13s - loss: 0.0919 - accuracy: 0.949 - ETA: 13s - loss: 0.0996 - accuracy: 0.944 - ETA: 13s - loss: 0.0967 - accuracy: 0.946 - ETA: 13s - loss: 0.0935 - accuracy: 0.947 - ETA: 13s - loss: 0.0937 - accuracy: 0.948 - ETA: 13s - loss: 0.0896 - accuracy: 0.950 - ETA: 13s - loss: 0.0918 - accuracy: 0.947 - ETA: 13s - loss: 0.0881 - accuracy: 0.950 - ETA: 12s - loss: 0.0930 - accuracy: 0.946 - ETA: 12s - loss: 0.0940 - accuracy: 0.945 - ETA: 12s - loss: 0.0918 - accuracy: 0.947 - ETA: 12s - loss: 0.0960 - accuracy: 0.947 - ETA: 12s - loss: 0.0934 - accuracy: 0.949 - ETA: 12s - loss: 0.0905 - accuracy: 0.951 - ETA: 12s - loss: 0.0877 - accuracy: 0.952 - ETA: 12s - loss: 0.0922 - accuracy: 0.947 - ETA: 12s - loss: 0.0931 - accuracy: 0.946 - ETA: 12s - loss: 0.0935 - accuracy: 0.944 - ETA: 11s - loss: 0.0907 - accuracy: 0.946 - ETA: 11s - loss: 0.0879 - accuracy: 0.948 - ETA: 11s - loss: 0.0882 - accuracy: 0.948 - ETA: 11s - loss: 0.0861 - accuracy: 0.949 - ETA: 11s - loss: 0.0836 - accuracy: 0.950 - ETA: 11s - loss: 0.0852 - accuracy: 0.951 - ETA: 11s - loss: 0.0868 - accuracy: 0.950 - ETA: 11s - loss: 0.0862 - accuracy: 0.950 - ETA: 11s - loss: 0.0848 - accuracy: 0.951 - ETA: 11s - loss: 0.0837 - accuracy: 0.952 - ETA: 11s - loss: 0.0822 - accuracy: 0.953 - ETA: 11s - loss: 0.0834 - accuracy: 0.952 - ETA: 11s - loss: 0.0845 - accuracy: 0.951 - ETA: 11s - loss: 0.0856 - accuracy: 0.950 - ETA: 11s - loss: 0.0860 - accuracy: 0.949 - ETA: 11s - loss: 0.0845 - accuracy: 0.950 - ETA: 11s - loss: 0.0847 - accuracy: 0.950 - ETA: 11s - loss: 0.0836 - accuracy: 0.951 - ETA: 11s - loss: 0.0823 - accuracy: 0.952 - ETA: 11s - loss: 0.0806 - accuracy: 0.953 - ETA: 11s - loss: 0.0805 - accuracy: 0.954 - ETA: 10s - loss: 0.0840 - accuracy: 0.953 - ETA: 10s - loss: 0.0865 - accuracy: 0.952 - ETA: 10s - loss: 0.0850 - accuracy: 0.953 - ETA: 10s - loss: 0.0881 - accuracy: 0.949 - ETA: 10s - loss: 0.0887 - accuracy: 0.948 - ETA: 10s - loss: 0.0876 - accuracy: 0.949 - ETA: 10s - loss: 0.0901 - accuracy: 0.947 - ETA: 10s - loss: 0.0903 - accuracy: 0.947 - ETA: 10s - loss: 0.0973 - accuracy: 0.945 - ETA: 10s - loss: 0.0962 - accuracy: 0.946 - ETA: 10s - loss: 0.0951 - accuracy: 0.947 - ETA: 10s - loss: 0.0948 - accuracy: 0.947 - ETA: 9s - loss: 0.0964 - accuracy: 0.946 - ETA: 9s - loss: 0.0967 - accuracy: 0.94 - ETA: 9s - loss: 0.0973 - accuracy: 0.94 - ETA: 9s - loss: 0.0982 - accuracy: 0.94 - ETA: 9s - loss: 0.0974 - accuracy: 0.94 - ETA: 9s - loss: 0.0993 - accuracy: 0.94 - ETA: 9s - loss: 0.0993 - accuracy: 0.94 - ETA: 9s - loss: 0.0989 - accuracy: 0.94 - ETA: 9s - loss: 0.0984 - accuracy: 0.94 - ETA: 9s - loss: 0.0978 - accuracy: 0.94 - ETA: 9s - loss: 0.0974 - accuracy: 0.94 - ETA: 10s - loss: 0.0972 - accuracy: 0.945 - ETA: 10s - loss: 0.0968 - accuracy: 0.945 - ETA: 10s - loss: 0.0992 - accuracy: 0.943 - ETA: 10s - loss: 0.0985 - accuracy: 0.944 - ETA: 10s - loss: 0.1008 - accuracy: 0.942 - ETA: 10s - loss: 0.1018 - accuracy: 0.941 - ETA: 10s - loss: 0.1010 - accuracy: 0.942 - ETA: 10s - loss: 0.1027 - accuracy: 0.941 - ETA: 10s - loss: 0.1018 - accuracy: 0.942 - ETA: 9s - loss: 0.1009 - accuracy: 0.942 - ETA: 9s - loss: 0.1039 - accuracy: 0.94 - ETA: 9s - loss: 0.1030 - accuracy: 0.94 - ETA: 9s - loss: 0.1022 - accuracy: 0.94 - ETA: 9s - loss: 0.1018 - accuracy: 0.94 - ETA: 9s - loss: 0.1013 - accuracy: 0.94 - ETA: 10s - loss: 0.1011 - accuracy: 0.942 - ETA: 10s - loss: 0.1006 - accuracy: 0.942 - ETA: 10s - loss: 0.1004 - accuracy: 0.942 - ETA: 10s - loss: 0.1001 - accuracy: 0.943 - ETA: 10s - loss: 0.0996 - accuracy: 0.943 - ETA: 10s - loss: 0.0991 - accuracy: 0.943 - ETA: 10s - loss: 0.1005 - accuracy: 0.943 - ETA: 10s - loss: 0.1001 - accuracy: 0.943 - ETA: 10s - loss: 0.0999 - accuracy: 0.943 - ETA: 10s - loss: 0.0997 - accuracy: 0.943 - ETA: 10s - loss: 0.0995 - accuracy: 0.943 - ETA: 10s - loss: 0.0992 - accuracy: 0.943 - ETA: 10s - loss: 0.1000 - accuracy: 0.942 - ETA: 11s - loss: 0.0997 - accuracy: 0.943 - ETA: 11s - loss: 0.1004 - accuracy: 0.942 - ETA: 11s - loss: 0.1012 - accuracy: 0.942 - ETA: 11s - loss: 0.1008 - accuracy: 0.942 - ETA: 11s - loss: 0.1005 - accuracy: 0.942 - ETA: 11s - loss: 0.1000 - accuracy: 0.943 - ETA: 11s - loss: 0.0995 - accuracy: 0.943 - ETA: 11s - loss: 0.1000 - accuracy: 0.943 - ETA: 11s - loss: 0.0998 - accuracy: 0.943 - ETA: 11s - loss: 0.1008 - accuracy: 0.942 - ETA: 11s - loss: 0.1003 - accuracy: 0.942 - ETA: 11s - loss: 0.0996 - accuracy: 0.943 - ETA: 11s - loss: 0.1007 - accuracy: 0.942 - ETA: 11s - loss: 0.1001 - accuracy: 0.943 - ETA: 11s - loss: 0.1021 - accuracy: 0.942 - ETA: 11s - loss: 0.1019 - accuracy: 0.942 - ETA: 11s - loss: 0.1021 - accuracy: 0.942 - ETA: 10s - loss: 0.1024 - accuracy: 0.942 - ETA: 10s - loss: 0.1018 - accuracy: 0.942 - ETA: 10s - loss: 0.1013 - accuracy: 0.942 - ETA: 10s - loss: 0.1024 - accuracy: 0.942 - ETA: 10s - loss: 0.1020 - accuracy: 0.942 - ETA: 10s - loss: 0.1033 - accuracy: 0.941 - ETA: 10s - loss: 0.1030 - accuracy: 0.941 - ETA: 11s - loss: 0.1043 - accuracy: 0.941 - ETA: 10s - loss: 0.1038 - accuracy: 0.941 - ETA: 10s - loss: 0.1062 - accuracy: 0.939 - ETA: 10s - loss: 0.1065 - accuracy: 0.939 - ETA: 10s - loss: 0.1062 - accuracy: 0.939 - ETA: 10s - loss: 0.1058 - accuracy: 0.940 - ETA: 10s - loss: 0.1053 - accuracy: 0.940 - ETA: 10s - loss: 0.1074 - accuracy: 0.939 - ETA: 10s - loss: 0.1069 - accuracy: 0.939 - ETA: 10s - loss: 0.1065 - accuracy: 0.939 - ETA: 10s - loss: 0.1060 - accuracy: 0.940 - ETA: 10s - loss: 0.1067 - accuracy: 0.939 - ETA: 10s - loss: 0.1064 - accuracy: 0.939 - ETA: 10s - loss: 0.1072 - accuracy: 0.938 - ETA: 10s - loss: 0.1081 - accuracy: 0.938 - ETA: 11s - loss: 0.1078 - accuracy: 0.938 - ETA: 11s - loss: 0.1076 - accuracy: 0.938 - ETA: 11s - loss: 0.1074 - accuracy: 0.938 - ETA: 11s - loss: 0.1085 - accuracy: 0.937 - ETA: 11s - loss: 0.1092 - accuracy: 0.937 - ETA: 11s - loss: 0.1089 - accuracy: 0.937 - ETA: 11s - loss: 0.1088 - accuracy: 0.937 - ETA: 11s - loss: 0.1086 - accuracy: 0.937 - ETA: 11s - loss: 0.1083 - accuracy: 0.937 - ETA: 11s - loss: 0.1080 - accuracy: 0.938 - ETA: 11s - loss: 0.1079 - accuracy: 0.938 - ETA: 11s - loss: 0.1076 - accuracy: 0.938 - ETA: 11s - loss: 0.1073 - accuracy: 0.938 - ETA: 11s - loss: 0.1071 - accuracy: 0.938 - ETA: 11s - loss: 0.1070 - accuracy: 0.938 - ETA: 11s - loss: 0.1079 - accuracy: 0.938 - ETA: 11s - loss: 0.1076 - accuracy: 0.938 - ETA: 11s - loss: 0.1071 - accuracy: 0.938 - ETA: 11s - loss: 0.1068 - accuracy: 0.939 - ETA: 11s - loss: 0.1066 - accuracy: 0.939 - ETA: 11s - loss: 0.1063 - accuracy: 0.939 - ETA: 11s - loss: 0.1071 - accuracy: 0.938 - ETA: 11s - loss: 0.1070 - accuracy: 0.938 - ETA: 11s - loss: 0.1070 - accuracy: 0.938 - ETA: 11s - loss: 0.1067 - accuracy: 0.939 - ETA: 11s - loss: 0.1077 - accuracy: 0.938 - ETA: 11s - loss: 0.1075 - accuracy: 0.938 - ETA: 12s - loss: 0.1074 - accuracy: 0.938 - ETA: 12s - loss: 0.1071 - accuracy: 0.938 - ETA: 12s - loss: 0.1070 - accuracy: 0.938 - ETA: 12s - loss: 0.1080 - accuracy: 0.938 - ETA: 12s - loss: 0.1076 - accuracy: 0.938 - ETA: 12s - loss: 0.1071 - accuracy: 0.939 - ETA: 12s - loss: 0.1068 - accuracy: 0.939 - ETA: 12s - loss: 0.1065 - accuracy: 0.939 - ETA: 12s - loss: 0.1061 - accuracy: 0.9395"
     ]
    },
    {
     "name": "stdout",
     "output_type": "stream",
     "text": [
      "1187/1600 [=====================>........] - ETA: 12s - loss: 0.1058 - accuracy: 0.939 - ETA: 12s - loss: 0.1057 - accuracy: 0.939 - ETA: 12s - loss: 0.1073 - accuracy: 0.938 - ETA: 12s - loss: 0.1070 - accuracy: 0.938 - ETA: 12s - loss: 0.1067 - accuracy: 0.938 - ETA: 11s - loss: 0.1073 - accuracy: 0.938 - ETA: 11s - loss: 0.1069 - accuracy: 0.938 - ETA: 11s - loss: 0.1065 - accuracy: 0.938 - ETA: 11s - loss: 0.1064 - accuracy: 0.938 - ETA: 11s - loss: 0.1061 - accuracy: 0.939 - ETA: 12s - loss: 0.1070 - accuracy: 0.938 - ETA: 12s - loss: 0.1068 - accuracy: 0.938 - ETA: 11s - loss: 0.1064 - accuracy: 0.938 - ETA: 11s - loss: 0.1058 - accuracy: 0.939 - ETA: 11s - loss: 0.1055 - accuracy: 0.939 - ETA: 11s - loss: 0.1051 - accuracy: 0.939 - ETA: 11s - loss: 0.1047 - accuracy: 0.939 - ETA: 11s - loss: 0.1045 - accuracy: 0.940 - ETA: 11s - loss: 0.1042 - accuracy: 0.940 - ETA: 11s - loss: 0.1041 - accuracy: 0.940 - ETA: 11s - loss: 0.1039 - accuracy: 0.940 - ETA: 11s - loss: 0.1036 - accuracy: 0.940 - ETA: 11s - loss: 0.1043 - accuracy: 0.939 - ETA: 11s - loss: 0.1042 - accuracy: 0.939 - ETA: 11s - loss: 0.1039 - accuracy: 0.940 - ETA: 11s - loss: 0.1038 - accuracy: 0.940 - ETA: 11s - loss: 0.1037 - accuracy: 0.940 - ETA: 12s - loss: 0.1035 - accuracy: 0.940 - ETA: 12s - loss: 0.1035 - accuracy: 0.940 - ETA: 12s - loss: 0.1033 - accuracy: 0.940 - ETA: 12s - loss: 0.1031 - accuracy: 0.940 - ETA: 12s - loss: 0.1030 - accuracy: 0.940 - ETA: 12s - loss: 0.1029 - accuracy: 0.940 - ETA: 12s - loss: 0.1027 - accuracy: 0.940 - ETA: 12s - loss: 0.1025 - accuracy: 0.940 - ETA: 12s - loss: 0.1022 - accuracy: 0.941 - ETA: 12s - loss: 0.1020 - accuracy: 0.941 - ETA: 12s - loss: 0.1026 - accuracy: 0.941 - ETA: 12s - loss: 0.1024 - accuracy: 0.941 - ETA: 12s - loss: 0.1031 - accuracy: 0.940 - ETA: 12s - loss: 0.1030 - accuracy: 0.940 - ETA: 12s - loss: 0.1029 - accuracy: 0.941 - ETA: 12s - loss: 0.1026 - accuracy: 0.941 - ETA: 12s - loss: 0.1032 - accuracy: 0.940 - ETA: 12s - loss: 0.1028 - accuracy: 0.940 - ETA: 12s - loss: 0.1035 - accuracy: 0.940 - ETA: 12s - loss: 0.1033 - accuracy: 0.940 - ETA: 12s - loss: 0.1029 - accuracy: 0.940 - ETA: 12s - loss: 0.1027 - accuracy: 0.941 - ETA: 12s - loss: 0.1025 - accuracy: 0.941 - ETA: 12s - loss: 0.1021 - accuracy: 0.941 - ETA: 12s - loss: 0.1018 - accuracy: 0.941 - ETA: 11s - loss: 0.1016 - accuracy: 0.941 - ETA: 11s - loss: 0.1012 - accuracy: 0.941 - ETA: 12s - loss: 0.1011 - accuracy: 0.942 - ETA: 12s - loss: 0.1018 - accuracy: 0.941 - ETA: 12s - loss: 0.1024 - accuracy: 0.941 - ETA: 12s - loss: 0.1023 - accuracy: 0.941 - ETA: 12s - loss: 0.1020 - accuracy: 0.941 - ETA: 12s - loss: 0.1019 - accuracy: 0.941 - ETA: 12s - loss: 0.1017 - accuracy: 0.941 - ETA: 12s - loss: 0.1015 - accuracy: 0.941 - ETA: 12s - loss: 0.1014 - accuracy: 0.941 - ETA: 11s - loss: 0.1010 - accuracy: 0.941 - ETA: 11s - loss: 0.1015 - accuracy: 0.941 - ETA: 11s - loss: 0.1012 - accuracy: 0.942 - ETA: 11s - loss: 0.1008 - accuracy: 0.942 - ETA: 11s - loss: 0.1015 - accuracy: 0.941 - ETA: 11s - loss: 0.1012 - accuracy: 0.942 - ETA: 11s - loss: 0.1009 - accuracy: 0.942 - ETA: 11s - loss: 0.1006 - accuracy: 0.942 - ETA: 11s - loss: 0.1003 - accuracy: 0.942 - ETA: 11s - loss: 0.0999 - accuracy: 0.942 - ETA: 11s - loss: 0.1012 - accuracy: 0.942 - ETA: 11s - loss: 0.1024 - accuracy: 0.942 - ETA: 11s - loss: 0.1022 - accuracy: 0.942 - ETA: 11s - loss: 0.1018 - accuracy: 0.942 - ETA: 11s - loss: 0.1023 - accuracy: 0.942 - ETA: 11s - loss: 0.1022 - accuracy: 0.942 - ETA: 11s - loss: 0.1042 - accuracy: 0.940 - ETA: 11s - loss: 0.1040 - accuracy: 0.941 - ETA: 11s - loss: 0.1038 - accuracy: 0.941 - ETA: 11s - loss: 0.1036 - accuracy: 0.941 - ETA: 11s - loss: 0.1035 - accuracy: 0.941 - ETA: 11s - loss: 0.1033 - accuracy: 0.941 - ETA: 11s - loss: 0.1030 - accuracy: 0.941 - ETA: 11s - loss: 0.1028 - accuracy: 0.941 - ETA: 11s - loss: 0.1036 - accuracy: 0.941 - ETA: 10s - loss: 0.1043 - accuracy: 0.941 - ETA: 10s - loss: 0.1040 - accuracy: 0.941 - ETA: 10s - loss: 0.1054 - accuracy: 0.940 - ETA: 10s - loss: 0.1060 - accuracy: 0.940 - ETA: 10s - loss: 0.1067 - accuracy: 0.939 - ETA: 10s - loss: 0.1083 - accuracy: 0.938 - ETA: 10s - loss: 0.1080 - accuracy: 0.939 - ETA: 10s - loss: 0.1078 - accuracy: 0.939 - ETA: 10s - loss: 0.1077 - accuracy: 0.939 - ETA: 10s - loss: 0.1076 - accuracy: 0.939 - ETA: 10s - loss: 0.1075 - accuracy: 0.939 - ETA: 10s - loss: 0.1074 - accuracy: 0.939 - ETA: 10s - loss: 0.1073 - accuracy: 0.939 - ETA: 10s - loss: 0.1079 - accuracy: 0.939 - ETA: 10s - loss: 0.1085 - accuracy: 0.938 - ETA: 10s - loss: 0.1083 - accuracy: 0.938 - ETA: 10s - loss: 0.1082 - accuracy: 0.939 - ETA: 10s - loss: 0.1080 - accuracy: 0.939 - ETA: 10s - loss: 0.1088 - accuracy: 0.938 - ETA: 10s - loss: 0.1094 - accuracy: 0.938 - ETA: 10s - loss: 0.1091 - accuracy: 0.938 - ETA: 10s - loss: 0.1095 - accuracy: 0.937 - ETA: 10s - loss: 0.1091 - accuracy: 0.938 - ETA: 10s - loss: 0.1088 - accuracy: 0.938 - ETA: 10s - loss: 0.1087 - accuracy: 0.938 - ETA: 10s - loss: 0.1085 - accuracy: 0.938 - ETA: 10s - loss: 0.1083 - accuracy: 0.938 - ETA: 9s - loss: 0.1080 - accuracy: 0.938 - ETA: 9s - loss: 0.1077 - accuracy: 0.93 - ETA: 9s - loss: 0.1083 - accuracy: 0.93 - ETA: 10s - loss: 0.1082 - accuracy: 0.938 - ETA: 10s - loss: 0.1081 - accuracy: 0.938 - ETA: 10s - loss: 0.1080 - accuracy: 0.938 - ETA: 10s - loss: 0.1078 - accuracy: 0.938 - ETA: 10s - loss: 0.1077 - accuracy: 0.938 - ETA: 10s - loss: 0.1075 - accuracy: 0.938 - ETA: 9s - loss: 0.1080 - accuracy: 0.938 - ETA: 9s - loss: 0.1078 - accuracy: 0.93 - ETA: 9s - loss: 0.1082 - accuracy: 0.93 - ETA: 9s - loss: 0.1079 - accuracy: 0.93 - ETA: 9s - loss: 0.1085 - accuracy: 0.93 - ETA: 9s - loss: 0.1089 - accuracy: 0.93 - ETA: 9s - loss: 0.1093 - accuracy: 0.93 - ETA: 9s - loss: 0.1091 - accuracy: 0.93 - ETA: 9s - loss: 0.1096 - accuracy: 0.93 - ETA: 9s - loss: 0.1093 - accuracy: 0.93 - ETA: 9s - loss: 0.1091 - accuracy: 0.93 - ETA: 9s - loss: 0.1089 - accuracy: 0.93 - ETA: 9s - loss: 0.1086 - accuracy: 0.93 - ETA: 9s - loss: 0.1083 - accuracy: 0.93 - ETA: 9s - loss: 0.1087 - accuracy: 0.93 - ETA: 9s - loss: 0.1086 - accuracy: 0.93 - ETA: 9s - loss: 0.1085 - accuracy: 0.93 - ETA: 9s - loss: 0.1084 - accuracy: 0.93 - ETA: 9s - loss: 0.1090 - accuracy: 0.93 - ETA: 9s - loss: 0.1089 - accuracy: 0.93 - ETA: 9s - loss: 0.1087 - accuracy: 0.93 - ETA: 9s - loss: 0.1085 - accuracy: 0.93 - ETA: 9s - loss: 0.1083 - accuracy: 0.93 - ETA: 9s - loss: 0.1087 - accuracy: 0.93 - ETA: 9s - loss: 0.1092 - accuracy: 0.93 - ETA: 9s - loss: 0.1099 - accuracy: 0.93 - ETA: 9s - loss: 0.1097 - accuracy: 0.93 - ETA: 9s - loss: 0.1096 - accuracy: 0.93 - ETA: 9s - loss: 0.1094 - accuracy: 0.93 - ETA: 9s - loss: 0.1100 - accuracy: 0.93 - ETA: 9s - loss: 0.1098 - accuracy: 0.93 - ETA: 9s - loss: 0.1097 - accuracy: 0.93 - ETA: 9s - loss: 0.1096 - accuracy: 0.93 - ETA: 9s - loss: 0.1094 - accuracy: 0.93 - ETA: 9s - loss: 0.1092 - accuracy: 0.93 - ETA: 9s - loss: 0.1091 - accuracy: 0.93 - ETA: 9s - loss: 0.1096 - accuracy: 0.93 - ETA: 9s - loss: 0.1096 - accuracy: 0.93 - ETA: 9s - loss: 0.1094 - accuracy: 0.93 - ETA: 9s - loss: 0.1093 - accuracy: 0.93 - ETA: 9s - loss: 0.1097 - accuracy: 0.93 - ETA: 9s - loss: 0.1095 - accuracy: 0.93 - ETA: 9s - loss: 0.1099 - accuracy: 0.93 - ETA: 8s - loss: 0.1099 - accuracy: 0.93 - ETA: 8s - loss: 0.1098 - accuracy: 0.93 - ETA: 8s - loss: 0.1096 - accuracy: 0.93 - ETA: 8s - loss: 0.1094 - accuracy: 0.93 - ETA: 8s - loss: 0.1097 - accuracy: 0.93 - ETA: 8s - loss: 0.1096 - accuracy: 0.93 - ETA: 8s - loss: 0.1094 - accuracy: 0.93 - ETA: 8s - loss: 0.1093 - accuracy: 0.93 - ETA: 8s - loss: 0.1100 - accuracy: 0.93 - ETA: 8s - loss: 0.1098 - accuracy: 0.93 - ETA: 8s - loss: 0.1101 - accuracy: 0.93 - ETA: 8s - loss: 0.1098 - accuracy: 0.93 - ETA: 8s - loss: 0.1097 - accuracy: 0.93 - ETA: 8s - loss: 0.1095 - accuracy: 0.93 - ETA: 8s - loss: 0.1096 - accuracy: 0.93 - ETA: 8s - loss: 0.1094 - accuracy: 0.93 - ETA: 8s - loss: 0.1092 - accuracy: 0.93 - ETA: 8s - loss: 0.1089 - accuracy: 0.93 - ETA: 8s - loss: 0.1086 - accuracy: 0.93 - ETA: 8s - loss: 0.1087 - accuracy: 0.93 - ETA: 8s - loss: 0.1084 - accuracy: 0.93 - ETA: 8s - loss: 0.1085 - accuracy: 0.9377"
     ]
    },
    {
     "name": "stdout",
     "output_type": "stream",
     "text": [
      "1600/1600 [==============================] - ETA: 7s - loss: 0.1081 - accuracy: 0.93 - ETA: 7s - loss: 0.1079 - accuracy: 0.93 - ETA: 7s - loss: 0.1075 - accuracy: 0.93 - ETA: 7s - loss: 0.1072 - accuracy: 0.93 - ETA: 7s - loss: 0.1070 - accuracy: 0.93 - ETA: 7s - loss: 0.1071 - accuracy: 0.93 - ETA: 7s - loss: 0.1068 - accuracy: 0.93 - ETA: 7s - loss: 0.1065 - accuracy: 0.93 - ETA: 7s - loss: 0.1063 - accuracy: 0.93 - ETA: 7s - loss: 0.1061 - accuracy: 0.93 - ETA: 7s - loss: 0.1061 - accuracy: 0.93 - ETA: 7s - loss: 0.1069 - accuracy: 0.93 - ETA: 7s - loss: 0.1068 - accuracy: 0.93 - ETA: 7s - loss: 0.1067 - accuracy: 0.93 - ETA: 7s - loss: 0.1085 - accuracy: 0.93 - ETA: 7s - loss: 0.1083 - accuracy: 0.93 - ETA: 7s - loss: 0.1081 - accuracy: 0.93 - ETA: 7s - loss: 0.1081 - accuracy: 0.93 - ETA: 7s - loss: 0.1079 - accuracy: 0.93 - ETA: 7s - loss: 0.1083 - accuracy: 0.93 - ETA: 7s - loss: 0.1082 - accuracy: 0.93 - ETA: 7s - loss: 0.1080 - accuracy: 0.93 - ETA: 7s - loss: 0.1079 - accuracy: 0.93 - ETA: 7s - loss: 0.1077 - accuracy: 0.93 - ETA: 7s - loss: 0.1075 - accuracy: 0.93 - ETA: 7s - loss: 0.1074 - accuracy: 0.93 - ETA: 7s - loss: 0.1073 - accuracy: 0.93 - ETA: 7s - loss: 0.1080 - accuracy: 0.93 - ETA: 6s - loss: 0.1077 - accuracy: 0.93 - ETA: 6s - loss: 0.1076 - accuracy: 0.93 - ETA: 6s - loss: 0.1078 - accuracy: 0.93 - ETA: 6s - loss: 0.1077 - accuracy: 0.93 - ETA: 6s - loss: 0.1075 - accuracy: 0.93 - ETA: 6s - loss: 0.1073 - accuracy: 0.93 - ETA: 6s - loss: 0.1071 - accuracy: 0.93 - ETA: 6s - loss: 0.1070 - accuracy: 0.93 - ETA: 6s - loss: 0.1069 - accuracy: 0.93 - ETA: 6s - loss: 0.1067 - accuracy: 0.93 - ETA: 6s - loss: 0.1066 - accuracy: 0.93 - ETA: 6s - loss: 0.1068 - accuracy: 0.93 - ETA: 6s - loss: 0.1070 - accuracy: 0.93 - ETA: 6s - loss: 0.1068 - accuracy: 0.93 - ETA: 6s - loss: 0.1065 - accuracy: 0.93 - ETA: 6s - loss: 0.1064 - accuracy: 0.93 - ETA: 6s - loss: 0.1062 - accuracy: 0.93 - ETA: 6s - loss: 0.1060 - accuracy: 0.93 - ETA: 6s - loss: 0.1058 - accuracy: 0.94 - ETA: 6s - loss: 0.1056 - accuracy: 0.94 - ETA: 6s - loss: 0.1054 - accuracy: 0.94 - ETA: 6s - loss: 0.1052 - accuracy: 0.94 - ETA: 5s - loss: 0.1054 - accuracy: 0.94 - ETA: 5s - loss: 0.1059 - accuracy: 0.93 - ETA: 5s - loss: 0.1056 - accuracy: 0.94 - ETA: 5s - loss: 0.1062 - accuracy: 0.93 - ETA: 5s - loss: 0.1060 - accuracy: 0.93 - ETA: 5s - loss: 0.1057 - accuracy: 0.94 - ETA: 5s - loss: 0.1054 - accuracy: 0.94 - ETA: 5s - loss: 0.1052 - accuracy: 0.94 - ETA: 5s - loss: 0.1049 - accuracy: 0.94 - ETA: 5s - loss: 0.1045 - accuracy: 0.94 - ETA: 5s - loss: 0.1051 - accuracy: 0.94 - ETA: 5s - loss: 0.1052 - accuracy: 0.94 - ETA: 5s - loss: 0.1058 - accuracy: 0.94 - ETA: 4s - loss: 0.1054 - accuracy: 0.94 - ETA: 4s - loss: 0.1074 - accuracy: 0.93 - ETA: 4s - loss: 0.1076 - accuracy: 0.93 - ETA: 4s - loss: 0.1084 - accuracy: 0.93 - ETA: 4s - loss: 0.1081 - accuracy: 0.93 - ETA: 4s - loss: 0.1084 - accuracy: 0.93 - ETA: 4s - loss: 0.1082 - accuracy: 0.93 - ETA: 4s - loss: 0.1090 - accuracy: 0.93 - ETA: 4s - loss: 0.1090 - accuracy: 0.93 - ETA: 4s - loss: 0.1088 - accuracy: 0.93 - ETA: 4s - loss: 0.1086 - accuracy: 0.93 - ETA: 4s - loss: 0.1083 - accuracy: 0.93 - ETA: 4s - loss: 0.1080 - accuracy: 0.93 - ETA: 4s - loss: 0.1079 - accuracy: 0.93 - ETA: 3s - loss: 0.1077 - accuracy: 0.93 - ETA: 3s - loss: 0.1079 - accuracy: 0.93 - ETA: 3s - loss: 0.1078 - accuracy: 0.93 - ETA: 3s - loss: 0.1080 - accuracy: 0.93 - ETA: 3s - loss: 0.1078 - accuracy: 0.93 - ETA: 3s - loss: 0.1080 - accuracy: 0.93 - ETA: 3s - loss: 0.1077 - accuracy: 0.93 - ETA: 3s - loss: 0.1079 - accuracy: 0.93 - ETA: 3s - loss: 0.1076 - accuracy: 0.93 - ETA: 3s - loss: 0.1074 - accuracy: 0.93 - ETA: 3s - loss: 0.1076 - accuracy: 0.93 - ETA: 3s - loss: 0.1079 - accuracy: 0.93 - ETA: 3s - loss: 0.1076 - accuracy: 0.93 - ETA: 3s - loss: 0.1074 - accuracy: 0.93 - ETA: 2s - loss: 0.1070 - accuracy: 0.93 - ETA: 2s - loss: 0.1073 - accuracy: 0.93 - ETA: 2s - loss: 0.1070 - accuracy: 0.93 - ETA: 2s - loss: 0.1067 - accuracy: 0.93 - ETA: 2s - loss: 0.1064 - accuracy: 0.93 - ETA: 2s - loss: 0.1066 - accuracy: 0.93 - ETA: 2s - loss: 0.1068 - accuracy: 0.93 - ETA: 2s - loss: 0.1065 - accuracy: 0.93 - ETA: 2s - loss: 0.1062 - accuracy: 0.93 - ETA: 2s - loss: 0.1064 - accuracy: 0.93 - ETA: 2s - loss: 0.1064 - accuracy: 0.93 - ETA: 2s - loss: 0.1062 - accuracy: 0.93 - ETA: 1s - loss: 0.1060 - accuracy: 0.93 - ETA: 1s - loss: 0.1059 - accuracy: 0.93 - ETA: 1s - loss: 0.1056 - accuracy: 0.93 - ETA: 1s - loss: 0.1062 - accuracy: 0.93 - ETA: 1s - loss: 0.1059 - accuracy: 0.93 - ETA: 1s - loss: 0.1056 - accuracy: 0.93 - ETA: 1s - loss: 0.1057 - accuracy: 0.93 - ETA: 1s - loss: 0.1058 - accuracy: 0.93 - ETA: 1s - loss: 0.1056 - accuracy: 0.93 - ETA: 1s - loss: 0.1054 - accuracy: 0.93 - ETA: 1s - loss: 0.1051 - accuracy: 0.93 - ETA: 1s - loss: 0.1049 - accuracy: 0.93 - ETA: 1s - loss: 0.1047 - accuracy: 0.94 - ETA: 0s - loss: 0.1048 - accuracy: 0.93 - ETA: 0s - loss: 0.1045 - accuracy: 0.94 - ETA: 0s - loss: 0.1049 - accuracy: 0.93 - ETA: 0s - loss: 0.1046 - accuracy: 0.93 - ETA: 0s - loss: 0.1044 - accuracy: 0.94 - ETA: 0s - loss: 0.1051 - accuracy: 0.93 - ETA: 0s - loss: 0.1049 - accuracy: 0.93 - ETA: 0s - loss: 0.1046 - accuracy: 0.93 - ETA: 0s - loss: 0.1053 - accuracy: 0.93 - ETA: 0s - loss: 0.1051 - accuracy: 0.93 - ETA: 0s - loss: 0.1047 - accuracy: 0.93 - ETA: 0s - loss: 0.1054 - accuracy: 0.93 - ETA: 0s - loss: 0.1059 - accuracy: 0.93 - 33s 21ms/step - loss: 0.1059 - accuracy: 0.9391 - val_loss: 0.0023 - val_accuracy: 1.0000\n",
      "Wall time: 4min 49s\n"
     ]
    }
   ],
   "source": [
    "%%time\n",
    "# Adding Early Stopping Callback\n",
    "early_stopping_callback = EarlyStopping(monitor = 'val_loss', patience = 15, mode = 'min', restore_best_weights = True)\n",
    "\n",
    "# Adding loss, optimizer and metrics values to the model.\n",
    "model.compile(loss = 'categorical_crossentropy', optimizer = 'Adam', metrics = [\"accuracy\"])\n",
    "\n",
    "# Start Training\n",
    "\n",
    "model_training_history = model.fit(x = features_train, y = labels_train, epochs = 20, verbose= 1, batch_size = 4 , shuffle = True, validation_split = 0.2, callbacks = [early_stopping_callback])"
   ]
  },
  {
   "cell_type": "markdown",
   "metadata": {},
   "source": [
    "\n",
    "### Evaluating Your Trained Model\n",
    "### Evaluate your trained model on the feature’s and label’s test sets.\n",
    "\n",
    "\n"
   ]
  },
  {
   "cell_type": "code",
   "execution_count": 49,
   "metadata": {},
   "outputs": [
    {
     "name": "stdout",
     "output_type": "stream",
     "text": [
      "63/63 [==============================] - ETA: 0s - loss: 0.0017 - accuracy: 1.00 - ETA: 0s - loss: 0.0024 - accuracy: 1.00 - ETA: 0s - loss: 0.0027 - accuracy: 1.00 - ETA: 0s - loss: 0.0023 - accuracy: 1.00 - ETA: 0s - loss: 0.0027 - accuracy: 1.00 - ETA: 0s - loss: 0.0025 - accuracy: 1.00 - ETA: 0s - loss: 0.0024 - accuracy: 1.00 - ETA: 0s - loss: 0.0024 - accuracy: 1.00 - ETA: 0s - loss: 0.0023 - accuracy: 1.00 - ETA: 0s - loss: 0.0022 - accuracy: 1.00 - ETA: 0s - loss: 0.0023 - accuracy: 1.00 - ETA: 0s - loss: 0.0023 - accuracy: 1.00 - ETA: 0s - loss: 0.0024 - accuracy: 1.00 - ETA: 0s - loss: 0.0024 - accuracy: 1.00 - 1s 12ms/step - loss: 0.0024 - accuracy: 1.0000\n"
     ]
    }
   ],
   "source": [
    "model_evaluation_history = model.evaluate(features_test, labels_test)"
   ]
  },
  {
   "cell_type": "code",
   "execution_count": 50,
   "metadata": {},
   "outputs": [
    {
     "name": "stdout",
     "output_type": "stream",
     "text": [
      "[0.0023607751354575157, 1.0]\n"
     ]
    }
   ],
   "source": [
    "print(model_evaluation_history)"
   ]
  },
  {
   "cell_type": "code",
   "execution_count": 51,
   "metadata": {},
   "outputs": [],
   "source": [
    "def plot_metric(metric_name_1, metric_name_2, plot_name):\n",
    "  # Get Metric values using metric names as identifiers\n",
    "  metric_value_1 = model_training_history.history[metric_name_1]\n",
    "  metric_value_2 = model_training_history.history[metric_name_2]\n",
    "\n",
    "  # Constructing a range object which will be used as time \n",
    "  epochs = range(len(metric_value_1))\n",
    "  \n",
    "  # Plotting the Graph\n",
    "  plt.plot(epochs, metric_value_1, 'blue', label = metric_name_1)\n",
    "  plt.plot(epochs, metric_value_2, 'red', label = metric_name_2)\n",
    "  \n",
    "  # Adding title to the plot\n",
    "  plt.title(str(plot_name))\n",
    "\n",
    "  # Adding legend to the plot\n",
    "  plt.legend()"
   ]
  },
  {
   "cell_type": "code",
   "execution_count": 52,
   "metadata": {},
   "outputs": [
    {
     "data": {
      "image/png": "[encoded data removed]",
      "text/plain": [
       "<Figure size 432x288 with 1 Axes>"
      ]
     },
     "metadata": {
      "needs_background": "light"
     },
     "output_type": "display_data"
    }
   ],
   "source": [
    "plot_metric('loss', 'val_loss', 'Total Loss vs Total Validation Loss')"
   ]
  },
  {
   "cell_type": "code",
   "execution_count": 53,
   "metadata": {},
   "outputs": [
    {
     "data": {
      "image/png": "[encoded data removed]",
      "text/plain": [
       "<Figure size 432x288 with 1 Axes>"
      ]
     },
     "metadata": {
      "needs_background": "light"
     },
     "output_type": "display_data"
    }
   ],
   "source": [
    "plot_metric('accuracy', 'val_accuracy', 'Total Accuracy vs Total Validation Accuracy')"
   ]
  },
  {
   "cell_type": "code",
   "execution_count": null,
   "metadata": {},
   "outputs": [],
   "source": []
  },
  {
   "cell_type": "markdown",
   "metadata": {},
   "source": [
    "### Model Save and Load"
   ]
  },
  {
   "cell_type": "code",
   "execution_count": 54,
   "metadata": {},
   "outputs": [
    {
     "name": "stdout",
     "output_type": "stream",
     "text": [
      "0.0023607751354575157\n",
      "1.0\n"
     ]
    }
   ],
   "source": [
    "model_evaluation_loss, model_evaluation_accuracy = model_evaluation_history\n",
    "print(model_evaluation_loss)\n",
    "print(model_evaluation_accuracy)"
   ]
  },
  {
   "cell_type": "code",
   "execution_count": 55,
   "metadata": {},
   "outputs": [],
   "source": [
    "#model_evaluation_loss, model_evaluation_accuracy = model_evaluation_history\n",
    "model_name = 'CNN_modelBP.h5'\n",
    "## Where to save\n",
    "modesavedFolder = \"C:/1-GG/CAP4/EventDetection/Dataset/SavedModel\""
   ]
  },
  {
   "cell_type": "code",
   "execution_count": null,
   "metadata": {},
   "outputs": [],
   "source": []
  },
  {
   "cell_type": "code",
   "execution_count": 56,
   "metadata": {},
   "outputs": [],
   "source": [
    "# Saving Model\n",
    "model.save(modesavedFolder+'/'+model_name)"
   ]
  },
  {
   "cell_type": "markdown",
   "metadata": {},
   "source": [
    "### How to load the model from disk"
   ]
  },
  {
   "cell_type": "code",
   "execution_count": 57,
   "metadata": {},
   "outputs": [],
   "source": [
    "### How to readback the model from disk\n",
    "from tensorflow import keras\n",
    "model = keras.models.load_model(modesavedFolder+'/'+model_name)"
   ]
  },
  {
   "cell_type": "code",
   "execution_count": null,
   "metadata": {},
   "outputs": [],
   "source": []
  },
  {
   "cell_type": "code",
   "execution_count": 58,
   "metadata": {},
   "outputs": [],
   "source": [
    "#from sklearn.metrics import metrics\n",
    "from sklearn.metrics import classification_report\n",
    "import itertools\n",
    "from sklearn.metrics import accuracy_score\n",
    "from sklearn.metrics import precision_score\n",
    "from sklearn.metrics import recall_score\n",
    "from sklearn.metrics import f1_score\n",
    "from sklearn.metrics import cohen_kappa_score\n",
    "from sklearn.metrics import roc_auc_score\n",
    "from sklearn.metrics import confusion_matrix"
   ]
  },
  {
   "cell_type": "code",
   "execution_count": 59,
   "metadata": {},
   "outputs": [],
   "source": [
    "preds=np.round(model.predict(features_test,0))"
   ]
  },
  {
   "cell_type": "code",
   "execution_count": 60,
   "metadata": {},
   "outputs": [
    {
     "name": "stdout",
     "output_type": "stream",
     "text": [
      "Round Test_labels [[1. 0.]\n",
      " [0. 1.]\n",
      " [1. 0.]\n",
      " ...\n",
      " [1. 0.]\n",
      " [0. 1.]\n",
      " [1. 0.]]\n"
     ]
    }
   ],
   "source": [
    "print('Round Test_labels' , preds)"
   ]
  },
  {
   "cell_type": "code",
   "execution_count": 61,
   "metadata": {},
   "outputs": [
    {
     "name": "stdout",
     "output_type": "stream",
     "text": [
      "               precision    recall  f1-score   support\n",
      "\n",
      "   Basketball       1.00      1.00      1.00       998\n",
      "SoccerPenalty       1.00      1.00      1.00      1002\n",
      "\n",
      "    micro avg       1.00      1.00      1.00      2000\n",
      "    macro avg       1.00      1.00      1.00      2000\n",
      " weighted avg       1.00      1.00      1.00      2000\n",
      "  samples avg       1.00      1.00      1.00      2000\n",
      "\n"
     ]
    }
   ],
   "source": [
    "classification_metrics = classification_report(labels_test,preds, target_names = classes_list)\n",
    "print(classification_metrics)"
   ]
  },
  {
   "cell_type": "markdown",
   "metadata": {},
   "source": [
    "### Upto Here"
   ]
  },
  {
   "cell_type": "code",
   "execution_count": null,
   "metadata": {},
   "outputs": [],
   "source": []
  },
  {
   "cell_type": "code",
   "execution_count": null,
   "metadata": {},
   "outputs": [],
   "source": []
  },
  {
   "cell_type": "code",
   "execution_count": null,
   "metadata": {},
   "outputs": [],
   "source": []
  },
  {
   "cell_type": "code",
   "execution_count": null,
   "metadata": {},
   "outputs": [],
   "source": []
  },
  {
   "cell_type": "code",
   "execution_count": null,
   "metadata": {},
   "outputs": [],
   "source": []
  },
  {
   "cell_type": "code",
   "execution_count": null,
   "metadata": {},
   "outputs": [],
   "source": []
  },
  {
   "cell_type": "code",
   "execution_count": null,
   "metadata": {},
   "outputs": [],
   "source": []
  },
  {
   "cell_type": "code",
   "execution_count": 62,
   "metadata": {},
   "outputs": [
    {
     "name": "stdout",
     "output_type": "stream",
     "text": [
      "C:/1-GG/CAP4/EventDetection/Dataset/CNN_Apply_vdo/Apply_vdo/combined_video-2vdo.mp4\n"
     ]
    }
   ],
   "source": [
    "Vdo_input_directory = 'C:/1-GG/CAP4/EventDetection/Dataset/CNN_Apply_vdo/Apply_vdo'\n",
    "\n",
    "# Getting input Video's path \n",
    "video_title = 'combined_video-2vdo'\n",
    "input_video_file_path = f'{Vdo_input_directory}/{video_title}.mp4'\n",
    "print(input_video_file_path)"
   ]
  },
  {
   "cell_type": "code",
   "execution_count": 63,
   "metadata": {},
   "outputs": [
    {
     "name": "stdout",
     "output_type": "stream",
     "text": [
      "C:/1-GG/CAP4/EventDetection/Dataset/CNN_Apply_vdo/OutPut_vdo/combined_video-2vdo -Output-WSize 1.mp4\n"
     ]
    }
   ],
   "source": [
    "# Setting sthe Window Size which will be used by the Rolling Average Proces\n",
    "window_size = 1\n",
    "\n",
    "Vdo_output_directory = 'C:/1-GG/CAP4/EventDetection/Dataset/CNN_Apply_vdo/OutPut_vdo'\n",
    "# Setting up Output Video Path\n",
    "output_video_file_path = f'{Vdo_output_directory}/{video_title} -Output-WSize {window_size}.mp4'\n",
    "\n",
    "print(output_video_file_path)"
   ]
  },
  {
   "cell_type": "code",
   "execution_count": 64,
   "metadata": {},
   "outputs": [
    {
     "name": "stdout",
     "output_type": "stream",
     "text": [
      "Open successfully\n"
     ]
    }
   ],
   "source": [
    "video_file_path = input_video_file_path\n",
    "\n",
    "video_reader = cv2.VideoCapture(video_file_path)\n",
    "\n",
    "if not video_reader.isOpened():\n",
    "    print(\"Cannot open file\")\n",
    "else:\n",
    "    print(\"Open successfully\")\n",
    "    \n",
    "\n"
   ]
  },
  {
   "cell_type": "markdown",
   "metadata": {},
   "source": [
    "### Define Live VDO prediction function"
   ]
  },
  {
   "cell_type": "code",
   "execution_count": 65,
   "metadata": {},
   "outputs": [],
   "source": [
    "def predict_on_live_video(video_file_path, output_file_path, window_size):\n",
    "    \n",
    "    #print(video_file_path)\n",
    "\n",
    "    # Initialize a Deque Object with a fixed size which will be used to implement moving/rolling average functionality.\n",
    "    predicted_labels_probabilities_deque = deque(maxlen = window_size)\n",
    "\n",
    "    # Reading the Video File using the VideoCapture Object\n",
    "    video_reader = cv2.VideoCapture(video_file_path)\n",
    "\n",
    "    # Getting the width and height of the video \n",
    "    original_video_width = int(video_reader.get(cv2.CAP_PROP_FRAME_WIDTH))\n",
    "    original_video_height = int(video_reader.get(cv2.CAP_PROP_FRAME_HEIGHT))\n",
    "\n",
    "    # Writing the Overlayed Video Files Using the VideoWriter Object\n",
    "    video_writer = cv2.VideoWriter(output_file_path, cv2.VideoWriter_fourcc('M', 'P', '4', 'V'), 24, (original_video_width, original_video_height))\n",
    "\n",
    "    while True: \n",
    "\n",
    "        # Reading The Frame\n",
    "        status, frame = video_reader.read() \n",
    "        \n",
    "        if not status:\n",
    "            break\n",
    "\n",
    "        # some frames with black - skip those\n",
    "        ## images in openCV (or in your case frames) are represented as a numpy array, \n",
    "        ## they can be averaged for low values (which represent black frames).\n",
    "        \n",
    "        gray = cv2.cvtColor(frame, cv2.COLOR_BGR2GRAY)  ## Convert to grey image (black and white)\n",
    "        if np.average(gray) < 20:  ## if it dark screen , skip \n",
    "        # skips an iteration, so the frame isn't saved\n",
    "          continue\n",
    "        \n",
    "        \n",
    "        # Resize the Frame to fixed Dimensions\n",
    "        resized_frame = cv2.resize(frame, (image_height, image_width))\n",
    "\n",
    "        # Normalize the resized frame by dividing it with 255 so that each pixel value then lies between 0 and 1\n",
    "        normalized_frame = resized_frame / 255\n",
    "\n",
    "        # Passing the Image Normalized Frame to the model and receiving Predicted Probabilities.\n",
    "        predicted_labels_probabilities = model.predict(np.expand_dims(normalized_frame, axis = 0))[0]\n",
    "\n",
    "        # Appending predicted label probabilities to the deque object\n",
    "        predicted_labels_probabilities_deque.append(predicted_labels_probabilities)\n",
    "\n",
    "        # Assuring that the Deque is completely filled before starting the averaging process\n",
    "        if len(predicted_labels_probabilities_deque) == window_size:\n",
    "\n",
    "            # Converting Predicted Labels Probabilities Deque into Numpy array\n",
    "            predicted_labels_probabilities_np = np.array(predicted_labels_probabilities_deque)\n",
    "\n",
    "            # Calculating Average of Predicted Labels Probabilities Column Wise \n",
    "            predicted_labels_probabilities_averaged = predicted_labels_probabilities_np.mean(axis = 0)\n",
    "            avg_prob = np.array_str(predicted_labels_probabilities_averaged)\n",
    "            ##print(predicted_labels_probabilities_averaged)\n",
    "            # Converting the predicted probabilities into labels by returning the index of the maximum value.\n",
    "            predicted_label = np.argmax(predicted_labels_probabilities_averaged)\n",
    "           \n",
    "            # Accessing The Class Name using predicted label.\n",
    "            predicted_class_name = classes_list[predicted_label]\n",
    "          \n",
    "            # Overlaying Class Name Text Ontop of the Frame\n",
    "            cv2.putText(frame, predicted_class_name, (50, 50), cv2.FONT_HERSHEY_SIMPLEX, 1, (0, 0, 255), 2)\n",
    "            #cv2.putText(frame, avg_prob, (60, 60), cv2.FONT_HERSHEY_SIMPLEX, 1, (0, 255, 255), 2)\n",
    "            cv2.putText(frame, \n",
    "                        avg_prob, \n",
    "                       (80, 100),   # bottomLeftCornerOfText\n",
    "                       cv2.FONT_HERSHEY_SIMPLEX, \n",
    "                       1, \n",
    "                       (0, 0, 255), \n",
    "                       2)\n",
    "                       \n",
    "        # Writing The Frame\n",
    "        video_writer.write(frame)\n",
    "\n",
    "\n",
    "        # cv2.imshow('Predicted Frames', frame)\n",
    "\n",
    "        # key_pressed = cv2.waitKey(10)\n",
    "\n",
    "        # if key_pressed == ord('q'):\n",
    "        #     break\n",
    "\n",
    "    # cv2.destroyAllWindows()\n",
    "\n",
    "    \n",
    "    # Closing the VideoCapture and VideoWriter objects and releasing all resources held by them. \n",
    "    video_reader.release()\n",
    "    video_writer.release()"
   ]
  },
  {
   "cell_type": "code",
   "execution_count": 67,
   "metadata": {},
   "outputs": [
    {
     "name": "stdout",
     "output_type": "stream",
     "text": [
      "Predicted Video Created\n",
      "Wall time: 2min 49s\n"
     ]
    }
   ],
   "source": [
    "%%time\n",
    "# Calling the predict_on_live_video method to start the Prediction.\n",
    "predict_on_live_video(input_video_file_path, output_video_file_path, window_size)\n",
    "print(\"Predicted Video Created\")\n"
   ]
  },
  {
   "cell_type": "code",
   "execution_count": 44,
   "metadata": {},
   "outputs": [],
   "source": [
    "## Feature selection from 2-vdo\n",
    "#Sequential - vgg16 \n",
    "#CNN - REsize\n",
    "#Lstm - another way "
   ]
  },
  {
   "cell_type": "code",
   "execution_count": null,
   "metadata": {},
   "outputs": [],
   "source": []
  },
  {
   "cell_type": "code",
   "execution_count": null,
   "metadata": {},
   "outputs": [],
   "source": []
  },
  {
   "cell_type": "code",
   "execution_count": null,
   "metadata": {},
   "outputs": [],
   "source": []
  },
  {
   "cell_type": "code",
   "execution_count": null,
   "metadata": {},
   "outputs": [],
   "source": []
  }
 ],
 "metadata": {
  "kernelspec": {
   "display_name": "Python 3",
   "language": "python",
   "name": "python3"
  },
  "language_info": {
   "codemirror_mode": {
    "name": "ipython",
    "version": 3
   },
   "file_extension": ".py",
   "mimetype": "text/x-python",
   "name": "python",
   "nbconvert_exporter": "python",
   "pygments_lexer": "ipython3",
   "version": "3.7.4"
  }
 },
 "nbformat": 4,
 "nbformat_minor": 4
}
