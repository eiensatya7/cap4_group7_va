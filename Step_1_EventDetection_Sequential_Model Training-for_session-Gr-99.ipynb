{
 "cells": [
  {
   "cell_type": "markdown",
   "metadata": {},
   "source": [
    "### Training the Video Classification Model"
   ]
  },
  {
   "cell_type": "markdown",
   "metadata": {},
   "source": [
    "### This script does - VGG16"
   ]
  },
  {
   "cell_type": "code",
   "execution_count": 1,
   "metadata": {},
   "outputs": [
    {
     "name": "stderr",
     "output_type": "stream",
     "text": [
      "C:\\Users\\jaghos\\AppData\\Local\\Continuum\\anaconda3\\lib\\site-packages\\numpy\\_distributor_init.py:32: UserWarning: loaded more than 1 DLL from .libs:\n",
      "C:\\Users\\jaghos\\AppData\\Local\\Continuum\\anaconda3\\lib\\site-packages\\numpy\\.libs\\libopenblas.GK7GX5KEQ4F6UYO3P26ULGBQYHGQO7J4.gfortran-win_amd64.dll\n",
      "C:\\Users\\jaghos\\AppData\\Local\\Continuum\\anaconda3\\lib\\site-packages\\numpy\\.libs\\libopenblas.IPBC74C7KURV7CB2PKT5Z5FNR3SIBV4J.gfortran-win_amd64.dll\n",
      "  stacklevel=1)\n",
      "Using TensorFlow backend.\n"
     ]
    }
   ],
   "source": [
    "import keras\n",
    "from keras.models import Sequential\n",
    "from keras.applications.vgg16 import VGG16\n",
    "from keras.layers import Dense, InputLayer, Dropout, Flatten\n",
    "from keras.layers import Conv2D, MaxPooling2D, GlobalMaxPooling2D\n",
    "from keras.preprocessing import image\n",
    "import numpy as np\n",
    "import pandas as pd\n",
    "import matplotlib.pyplot as plt\n",
    "from tqdm import tqdm\n",
    "from sklearn.model_selection import train_test_split\n",
    "\n",
    "import pickle\n",
    "\n",
    "import time\n",
    "\n",
    "\n",
    " \n",
    "\n",
    "\n"
   ]
  },
  {
   "cell_type": "code",
   "execution_count": 2,
   "metadata": {},
   "outputs": [],
   "source": [
    "Drive = \"C:\"\n",
    "## Define root folder\n",
    "RootFolder = Drive+\"/1-GG/CAP4/EventDetection/1-ExampleSetting/OutputFiles\"\n",
    "\n",
    "\n"
   ]
  },
  {
   "cell_type": "code",
   "execution_count": 3,
   "metadata": {},
   "outputs": [
    {
     "data": {
      "text/html": [
       "<div>\n",
       "<style scoped>\n",
       "    .dataframe tbody tr th:only-of-type {\n",
       "        vertical-align: middle;\n",
       "    }\n",
       "\n",
       "    .dataframe tbody tr th {\n",
       "        vertical-align: top;\n",
       "    }\n",
       "\n",
       "    .dataframe thead th {\n",
       "        text-align: right;\n",
       "    }\n",
       "</style>\n",
       "<table border=\"1\" class=\"dataframe\">\n",
       "  <thead>\n",
       "    <tr style=\"text-align: right;\">\n",
       "      <th></th>\n",
       "      <th>FrameFilename</th>\n",
       "      <th>FullPathName</th>\n",
       "      <th>class</th>\n",
       "    </tr>\n",
       "  </thead>\n",
       "  <tbody>\n",
       "    <tr>\n",
       "      <th>0</th>\n",
       "      <td>v_Basketball_g08_c01.avi</td>\n",
       "      <td>C:/1-GG/CAP4/EventDetection/1-ExampleSetting\\V...</td>\n",
       "      <td>Basketball</td>\n",
       "    </tr>\n",
       "    <tr>\n",
       "      <th>1</th>\n",
       "      <td>v_Basketball_g08_c01.avi</td>\n",
       "      <td>C:/1-GG/CAP4/EventDetection/1-ExampleSetting\\V...</td>\n",
       "      <td>Basketball</td>\n",
       "    </tr>\n",
       "    <tr>\n",
       "      <th>2</th>\n",
       "      <td>v_Basketball_g08_c01.avi</td>\n",
       "      <td>C:/1-GG/CAP4/EventDetection/1-ExampleSetting\\V...</td>\n",
       "      <td>Basketball</td>\n",
       "    </tr>\n",
       "    <tr>\n",
       "      <th>3</th>\n",
       "      <td>v_Basketball_g08_c01.avi</td>\n",
       "      <td>C:/1-GG/CAP4/EventDetection/1-ExampleSetting\\V...</td>\n",
       "      <td>Basketball</td>\n",
       "    </tr>\n",
       "    <tr>\n",
       "      <th>4</th>\n",
       "      <td>v_Basketball_g08_c01.avi</td>\n",
       "      <td>C:/1-GG/CAP4/EventDetection/1-ExampleSetting\\V...</td>\n",
       "      <td>Basketball</td>\n",
       "    </tr>\n",
       "  </tbody>\n",
       "</table>\n",
       "</div>"
      ],
      "text/plain": [
       "              FrameFilename  \\\n",
       "0  v_Basketball_g08_c01.avi   \n",
       "1  v_Basketball_g08_c01.avi   \n",
       "2  v_Basketball_g08_c01.avi   \n",
       "3  v_Basketball_g08_c01.avi   \n",
       "4  v_Basketball_g08_c01.avi   \n",
       "\n",
       "                                        FullPathName       class  \n",
       "0  C:/1-GG/CAP4/EventDetection/1-ExampleSetting\\V...  Basketball  \n",
       "1  C:/1-GG/CAP4/EventDetection/1-ExampleSetting\\V...  Basketball  \n",
       "2  C:/1-GG/CAP4/EventDetection/1-ExampleSetting\\V...  Basketball  \n",
       "3  C:/1-GG/CAP4/EventDetection/1-ExampleSetting\\V...  Basketball  \n",
       "4  C:/1-GG/CAP4/EventDetection/1-ExampleSetting\\V...  Basketball  "
      ]
     },
     "execution_count": 3,
     "metadata": {},
     "output_type": "execute_result"
    }
   ],
   "source": [
    "trainFrames  = pd.read_csv(RootFolder+\"/trainFrames.csv\")\n",
    "\n",
    "trainFrames.head()"
   ]
  },
  {
   "cell_type": "code",
   "execution_count": 4,
   "metadata": {
    "scrolled": true
   },
   "outputs": [
    {
     "data": {
      "text/plain": [
       "(973, 3)"
      ]
     },
     "execution_count": 4,
     "metadata": {},
     "output_type": "execute_result"
    }
   ],
   "source": [
    "trainFrames.shape"
   ]
  },
  {
   "cell_type": "code",
   "execution_count": 5,
   "metadata": {},
   "outputs": [
    {
     "name": "stdout",
     "output_type": "stream",
     "text": [
      "['Basketball', 'SoccerPenalty']\n",
      "2\n"
     ]
    }
   ],
   "source": [
    "# Get the unique values of 'class' column - How many distinct classes\n",
    "model_class = trainFrames['class'].unique().tolist()\n",
    "print(model_class)\n",
    "model_output_size = len(model_class)\n",
    "print(model_output_size)\n"
   ]
  },
  {
   "cell_type": "code",
   "execution_count": 6,
   "metadata": {},
   "outputs": [
    {
     "data": {
      "text/plain": [
       "973"
      ]
     },
     "execution_count": 6,
     "metadata": {},
     "output_type": "execute_result"
    }
   ],
   "source": [
    "trainFrames.shape[0]"
   ]
  },
  {
   "cell_type": "code",
   "execution_count": 7,
   "metadata": {},
   "outputs": [
    {
     "data": {
      "text/plain": [
       "'C:/1-GG/CAP4/EventDetection/1-ExampleSetting\\\\VDOFrames/v_Basketball_g08_c01_frame0.jpg'"
      ]
     },
     "execution_count": 7,
     "metadata": {},
     "output_type": "execute_result"
    }
   ],
   "source": [
    "trainFrames['FullPathName'][0]"
   ]
  },
  {
   "cell_type": "code",
   "execution_count": null,
   "metadata": {},
   "outputs": [],
   "source": []
  },
  {
   "cell_type": "code",
   "execution_count": 8,
   "metadata": {},
   "outputs": [],
   "source": [
    "from keras.models import Sequential\n",
    "from keras.layers import Dense, Dropout, Flatten\n",
    "from keras.layers import Conv2D, MaxPooling2D\n",
    "from keras.preprocessing import image\n",
    "import numpy as np\n",
    "import pandas as pd\n",
    "from tqdm import tqdm\n",
    "from keras.applications.vgg16 import VGG16\n",
    "import cv2\n",
    "import math\n",
    "import os\n",
    "from glob import glob\n",
    "from scipy import stats as s\n",
    "\n",
    "from moviepy.editor import *   ###VideoFileClip\n",
    "\n",
    "\n",
    "## pafy, youtube-dl and moviepy packages to be installed\n",
    "##pip install pafy youtube-dl moviepy\n",
    "\n",
    "## Install open cv - make sure numpy already installed\n",
    "#pip install opencv-python\n",
    "#import pafy\n",
    "\n",
    "from moviepy.editor import *   ###VideoFileClip\n",
    "\n",
    "\n",
    "## pafy, youtube-dl and moviepy packages to be installed\n",
    "##pip install pafy youtube-dl moviepy\n",
    "\n",
    "## Install open cv - make sure numpy already installed\n",
    "#pip install opencv-python\n",
    "#import train_image "
   ]
  },
  {
   "cell_type": "code",
   "execution_count": 9,
   "metadata": {},
   "outputs": [
    {
     "name": "stderr",
     "output_type": "stream",
     "text": [
      "100%|███████████████████████████████████████████████████████████████████████████████| 973/973 [00:02<00:00, 421.78it/s]\n"
     ]
    },
    {
     "data": {
      "text/plain": [
       "(973, 224, 224, 3)"
      ]
     },
     "execution_count": 9,
     "metadata": {},
     "output_type": "execute_result"
    }
   ],
   "source": [
    "train_image = []\n",
    "\n",
    "# for loop to read and store frames\n",
    "for i in tqdm(range(trainFrames.shape[0])):\n",
    "    # loading the image and keeping the target size as (224,224,3)\n",
    "    # three-dimensional array containing the red, green, and blue pixel intensities. \n",
    "    #Image has been reformated to be 224-by-224 pixels in size.\n",
    "    img = image.load_img(trainFrames['FullPathName'][i], target_size=(224,224,3))\n",
    "    #print(img.shape)\n",
    "    # converting it to array\n",
    "    img = image.img_to_array(img)\n",
    "    \n",
    "    # Normalize the resized frame by dividing it with 255 so that each pixel value then lies between 0 and 1\n",
    "    img = img/255\n",
    "    # appending the image to the train_image list\n",
    "    train_image.append(img)\n",
    "    \n",
    "# converting the list to numpy array\n",
    "X = np.array(train_image)\n",
    "\n",
    "# shape of the array\n",
    "X.shape"
   ]
  },
  {
   "cell_type": "code",
   "execution_count": 10,
   "metadata": {},
   "outputs": [],
   "source": [
    "# make sure that the distribution of each class is similar in both training and validation sets. \n",
    "# We can use the stratify parameter\n",
    "\n",
    "# separating the target\n",
    "y = trainFrames['class']\n",
    "\n",
    "# creating the training and validation set\n",
    "X_train, X_test, y_train, y_test = train_test_split(X, y, random_state=42, test_size=0.2, stratify = y)"
   ]
  },
  {
   "cell_type": "code",
   "execution_count": 11,
   "metadata": {},
   "outputs": [],
   "source": [
    "# creating dummies of target variable for train and validation set\n",
    "y_train = pd.get_dummies(y_train)\n",
    "y_test = pd.get_dummies(y_test)"
   ]
  },
  {
   "cell_type": "markdown",
   "metadata": {},
   "source": [
    "### Defining the architecture of the video classification model"
   ]
  },
  {
   "cell_type": "markdown",
   "metadata": {},
   "source": [
    "### VGG16 on ImageNet\n",
    "\n",
    "https://franky07724-57962.medium.com/using-keras-pre-trained-models-for-feature-extraction-in-image-clustering-a142c6cdf5b1\n",
    "\n",
    "\n",
    "#### Keras provides a set of state-of-the-art deep learning models along with pre-trained weights on ImageNet. These pre-trained models can be used for image classification, feature extraction, and transfer learning\n",
    "\n",
    "##### VGG16 refers to a VGG model with 16 weight layers, and VGG19 refers to a VGG model with 19 weight layers.  \n",
    "#####  1.The input layer takes an image in the size of (224 x 224 x 3), and the output layer is a softmax prediction on classes.\n",
    "\n",
    "#####  2.From the input layer to the last max pooling layer (labeled by 7 x 7 x 512) is regarded as the feature extraction part of the model, \n",
    "\n",
    "##### 3 while the rest of the network is regarded as the classification part of the model.\n",
    "\n",
    "## VGG-16 pre-trained model will be used\n",
    "### https://machinelearningmastery.com/use-pre-trained-vgg-model-classify-objects-photographs/"
   ]
  },
  {
   "cell_type": "code",
   "execution_count": null,
   "metadata": {},
   "outputs": [],
   "source": []
  },
  {
   "cell_type": "markdown",
   "metadata": {},
   "source": [
    "### creating the base model of pre-trained VGG16 model\n"
   ]
  },
  {
   "cell_type": "code",
   "execution_count": 12,
   "metadata": {},
   "outputs": [
    {
     "name": "stdout",
     "output_type": "stream",
     "text": [
      "Model: \"vgg16\"\n",
      "_________________________________________________________________\n",
      "Layer (type)                 Output Shape              Param #   \n",
      "=================================================================\n",
      "input_1 (InputLayer)         (None, None, None, 3)     0         \n",
      "_________________________________________________________________\n",
      "block1_conv1 (Conv2D)        (None, None, None, 64)    1792      \n",
      "_________________________________________________________________\n",
      "block1_conv2 (Conv2D)        (None, None, None, 64)    36928     \n",
      "_________________________________________________________________\n",
      "block1_pool (MaxPooling2D)   (None, None, None, 64)    0         \n",
      "_________________________________________________________________\n",
      "block2_conv1 (Conv2D)        (None, None, None, 128)   73856     \n",
      "_________________________________________________________________\n",
      "block2_conv2 (Conv2D)        (None, None, None, 128)   147584    \n",
      "_________________________________________________________________\n",
      "block2_pool (MaxPooling2D)   (None, None, None, 128)   0         \n",
      "_________________________________________________________________\n",
      "block3_conv1 (Conv2D)        (None, None, None, 256)   295168    \n",
      "_________________________________________________________________\n",
      "block3_conv2 (Conv2D)        (None, None, None, 256)   590080    \n",
      "_________________________________________________________________\n",
      "block3_conv3 (Conv2D)        (None, None, None, 256)   590080    \n",
      "_________________________________________________________________\n",
      "block3_pool (MaxPooling2D)   (None, None, None, 256)   0         \n",
      "_________________________________________________________________\n",
      "block4_conv1 (Conv2D)        (None, None, None, 512)   1180160   \n",
      "_________________________________________________________________\n",
      "block4_conv2 (Conv2D)        (None, None, None, 512)   2359808   \n",
      "_________________________________________________________________\n",
      "block4_conv3 (Conv2D)        (None, None, None, 512)   2359808   \n",
      "_________________________________________________________________\n",
      "block4_pool (MaxPooling2D)   (None, None, None, 512)   0         \n",
      "_________________________________________________________________\n",
      "block5_conv1 (Conv2D)        (None, None, None, 512)   2359808   \n",
      "_________________________________________________________________\n",
      "block5_conv2 (Conv2D)        (None, None, None, 512)   2359808   \n",
      "_________________________________________________________________\n",
      "block5_conv3 (Conv2D)        (None, None, None, 512)   2359808   \n",
      "_________________________________________________________________\n",
      "block5_pool (MaxPooling2D)   (None, None, None, 512)   0         \n",
      "=================================================================\n",
      "Total params: 14,714,688\n",
      "Trainable params: 14,714,688\n",
      "Non-trainable params: 0\n",
      "_________________________________________________________________\n"
     ]
    }
   ],
   "source": [
    "\n",
    "# creating the base model of pre-trained VGG16 model\n",
    "base_model = VGG16(weights='imagenet', include_top=False)\n",
    "\n",
    "### set include_top = False it overlooks the last 3 Fully Connected(FC) layers \n",
    "\n",
    "\n",
    "base_model.summary()"
   ]
  },
  {
   "cell_type": "markdown",
   "metadata": {},
   "source": [
    "### vgg16 (without last 3 Fully Connected(FC)) is an impressively large neural network. It has 14,714,688 parameters. \n",
    "To see all paratemer use \n",
    "vgg19_full = VGG19(weights='imagenet')\n",
    "vgg19_full.summary()"
   ]
  },
  {
   "cell_type": "code",
   "execution_count": 13,
   "metadata": {},
   "outputs": [
    {
     "name": "stdout",
     "output_type": "stream",
     "text": [
      "Wall time: 13.5 s\n"
     ]
    },
    {
     "data": {
      "text/plain": [
       "(778, 7, 7, 512)"
      ]
     },
     "execution_count": 13,
     "metadata": {},
     "output_type": "execute_result"
    }
   ],
   "source": [
    "\n",
    "%%time\n",
    "# extracting features for training frames\n",
    "X_train = base_model.predict(X_train)\n",
    "X_train.shape\n"
   ]
  },
  {
   "cell_type": "code",
   "execution_count": 14,
   "metadata": {},
   "outputs": [
    {
     "name": "stdout",
     "output_type": "stream",
     "text": [
      "Wall time: 2.24 s\n"
     ]
    },
    {
     "data": {
      "text/plain": [
       "(195, 7, 7, 512)"
      ]
     },
     "execution_count": 14,
     "metadata": {},
     "output_type": "execute_result"
    }
   ],
   "source": [
    "%%time\n",
    "# extracting features for validation frames\n",
    "X_test = base_model.predict(X_test)\n",
    "X_test.shape\n"
   ]
  },
  {
   "cell_type": "code",
   "execution_count": 15,
   "metadata": {},
   "outputs": [
    {
     "name": "stdout",
     "output_type": "stream",
     "text": [
      "(778, 7, 7, 512)\n",
      "(195, 7, 7, 512)\n"
     ]
    }
   ],
   "source": [
    "print(X_train.shape)\n",
    "print(X_test.shape)\n",
    "      \n",
    "    "
   ]
  },
  {
   "cell_type": "markdown",
   "metadata": {},
   "source": [
    "There are 195 images in the test set and the shape of these images has also changed to (7, 7, 512). We will use a fully connected network now to fine-tune the model. This fully connected network takes input in single dimension. So, we will reshape the images into a single dimension:"
   ]
  },
  {
   "cell_type": "code",
   "execution_count": 16,
   "metadata": {},
   "outputs": [],
   "source": [
    "X_train = X_train.reshape(778, 7*7*512)\n",
    "X_test = X_test.reshape(195, 7*7*512)"
   ]
  },
  {
   "cell_type": "code",
   "execution_count": 17,
   "metadata": {},
   "outputs": [],
   "source": [
    "# normalize the pixel values, i.e., keep the pixel values between 0 and 1. This helps the model to converge faster."
   ]
  },
  {
   "cell_type": "code",
   "execution_count": 18,
   "metadata": {},
   "outputs": [
    {
     "data": {
      "text/plain": [
       "10.580899"
      ]
     },
     "execution_count": 18,
     "metadata": {},
     "output_type": "execute_result"
    }
   ],
   "source": [
    "X_train.max()"
   ]
  },
  {
   "cell_type": "code",
   "execution_count": 19,
   "metadata": {},
   "outputs": [],
   "source": [
    "max = X_train.max()\n",
    "X_train = X_train/max\n",
    "X_test = X_test/max"
   ]
  },
  {
   "cell_type": "code",
   "execution_count": 20,
   "metadata": {},
   "outputs": [
    {
     "data": {
      "text/plain": [
       "(778, 25088)"
      ]
     },
     "execution_count": 20,
     "metadata": {},
     "output_type": "execute_result"
    }
   ],
   "source": [
    "# shape of images\n",
    "X_train.shape"
   ]
  },
  {
   "cell_type": "markdown",
   "metadata": {},
   "source": [
    "### Keras Neural Network Sequential Model\n",
    "##### More Info - https://faroit.com/keras-docs/1.0.1/getting-started/sequential-model-guide/"
   ]
  },
  {
   "cell_type": "code",
   "execution_count": 21,
   "metadata": {},
   "outputs": [],
   "source": [
    "#defining the model architecture\n",
    "model = Sequential()\n",
    "model.add(Dense(1024, activation='relu', input_shape=(25088,)))\n",
    "model.add(Dropout(0.5))\n",
    "model.add(Dense(512, activation='relu'))\n",
    "model.add(Dropout(0.5))\n",
    "model.add(Dense(256, activation='relu'))\n",
    "model.add(Dropout(0.5))\n",
    "model.add(Dense(128, activation='relu'))\n",
    "model.add(Dropout(0.5))\n",
    "model.add(Dense(model_output_size, activation='softmax'))  # model_output_size is 2 - already defined"
   ]
  },
  {
   "cell_type": "markdown",
   "metadata": {},
   "source": [
    "\n",
    "\n",
    "###### 1 x Dense layer of 1024 units\n",
    "\n",
    "###### 1 x Dense layer of 512 units\n",
    "###### 1 x Dense layer of 256 units\n",
    "###### 1 x Dense layer of 128 units\n",
    "\n",
    "\n",
    "#### RELU activation for first four dense layers of  units to stop forwarding negative values through the network.\n",
    "\n",
    "#### 2 unit dense layer in the end with softmax activation as there are 2 classes (model_output_size) to predict from in the end which are Basketball and SoccerPenalty. \n",
    "#### The softmax layer will output the value between 0 and 1 based on the confidence of the model that which class the images belongs to.\n",
    "\n",
    "## Dropout\n",
    "####   Usually, dropout is placed on the fully connected layers only because they are the one with the greater number of parameters and thus they're likely to excessively co-adapting themselves causing overfitting. However, since it's a stochastic regularization technique, you can really place it everywhere\n",
    "#####  Dropout here has been applied applied to hidden neurons in the body of network model.\n",
    "#### a dropout rate of 50% is used "
   ]
  },
  {
   "cell_type": "code",
   "execution_count": null,
   "metadata": {},
   "outputs": [],
   "source": []
  },
  {
   "cell_type": "code",
   "execution_count": null,
   "metadata": {},
   "outputs": [],
   "source": []
  },
  {
   "cell_type": "code",
   "execution_count": null,
   "metadata": {},
   "outputs": [],
   "source": []
  },
  {
   "cell_type": "code",
   "execution_count": 22,
   "metadata": {},
   "outputs": [
    {
     "name": "stdout",
     "output_type": "stream",
     "text": [
      "Model: \"sequential_1\"\n",
      "_________________________________________________________________\n",
      "Layer (type)                 Output Shape              Param #   \n",
      "=================================================================\n",
      "dense_1 (Dense)              (None, 1024)              25691136  \n",
      "_________________________________________________________________\n",
      "dropout_1 (Dropout)          (None, 1024)              0         \n",
      "_________________________________________________________________\n",
      "dense_2 (Dense)              (None, 512)               524800    \n",
      "_________________________________________________________________\n",
      "dropout_2 (Dropout)          (None, 512)               0         \n",
      "_________________________________________________________________\n",
      "dense_3 (Dense)              (None, 256)               131328    \n",
      "_________________________________________________________________\n",
      "dropout_3 (Dropout)          (None, 256)               0         \n",
      "_________________________________________________________________\n",
      "dense_4 (Dense)              (None, 128)               32896     \n",
      "_________________________________________________________________\n",
      "dropout_4 (Dropout)          (None, 128)               0         \n",
      "_________________________________________________________________\n",
      "dense_5 (Dense)              (None, 2)                 258       \n",
      "=================================================================\n",
      "Total params: 26,380,418\n",
      "Trainable params: 26,380,418\n",
      "Non-trainable params: 0\n",
      "_________________________________________________________________\n"
     ]
    }
   ],
   "source": [
    "# Printing the models summary\n",
    "model.summary()"
   ]
  },
  {
   "cell_type": "code",
   "execution_count": null,
   "metadata": {},
   "outputs": [],
   "source": []
  },
  {
   "cell_type": "markdown",
   "metadata": {},
   "source": [
    "#### ModelCheckpoint callback is used in conjunction with training using model.fit() to save a model or weights (in a checkpoint file) at some interval, so the model or weights can be loaded later to continue the training from the state saved.\n",
    "\n",
    "### -----\n",
    "\n",
    "### save_best_only: if save_best_only=True, it only saves when the model is considered the \"best\" and the latest best model according to the quantity monitored will not be overwritten\n",
    "\n",
    "### The metric name to monitormode: one of {'auto', 'min', 'max'}. If save_best_only=True, the decision to overwrite the current save file is made based on either the maximization or the minimization of the monitored quantity. For val_acc, this should be max, for val_loss this should be min\n",
    "\n",
    "#### mode: one of {'auto', 'min', 'max'}. If save_best_only=True, -- the decision to overwrite the current save file is made based on either the maximization or the minimization  of the monitored quantity. For val_acc, this should be max, for val_loss this should be min"
   ]
  },
  {
   "cell_type": "code",
   "execution_count": 23,
   "metadata": {},
   "outputs": [],
   "source": [
    "###Training the video classification model\n",
    "\n",
    "# defining a function to save the weights of best model\n",
    "### from keras.callbacks import EarlyStopping\n",
    "from keras.callbacks import ModelCheckpoint\n",
    "\n",
    "mcp_save = ModelCheckpoint('weight.hdf5', save_best_only=True, monitor='val_loss', mode='min')\n",
    "\n",
    "\n"
   ]
  },
  {
   "cell_type": "code",
   "execution_count": null,
   "metadata": {},
   "outputs": [],
   "source": []
  },
  {
   "cell_type": "markdown",
   "metadata": {},
   "source": [
    "#### using Adam optimiser "
   ]
  },
  {
   "cell_type": "code",
   "execution_count": 24,
   "metadata": {},
   "outputs": [],
   "source": [
    "# compiling the model - Adding loss, optimizer and metrics values to the model.\n",
    "model.compile(loss='categorical_crossentropy',optimizer='Adam',metrics=['accuracy'])\n",
    "\n"
   ]
  },
  {
   "cell_type": "code",
   "execution_count": 25,
   "metadata": {},
   "outputs": [
    {
     "name": "stdout",
     "output_type": "stream",
     "text": [
      "Train on 622 samples, validate on 156 samples\n",
      "Epoch 1/50\n",
      "622/622 [==============================] - ETA: 1:22 - loss: 0.7369 - accuracy: 0.50 - ETA: 30s - loss: 0.7770 - accuracy: 0.6667 - ETA: 20s - loss: 0.7072 - accuracy: 0.650 - ETA: 16s - loss: 0.9313 - accuracy: 0.642 - ETA: 13s - loss: 1.0498 - accuracy: 0.638 - ETA: 11s - loss: 0.9518 - accuracy: 0.659 - ETA: 10s - loss: 1.1837 - accuracy: 0.596 - ETA: 9s - loss: 1.2958 - accuracy: 0.566 - ETA: 9s - loss: 1.2744 - accuracy: 0.55 - ETA: 8s - loss: 1.2440 - accuracy: 0.57 - ETA: 8s - loss: 1.2043 - accuracy: 0.57 - ETA: 7s - loss: 1.1441 - accuracy: 0.58 - ETA: 7s - loss: 1.1633 - accuracy: 0.59 - ETA: 7s - loss: 1.2017 - accuracy: 0.57 - ETA: 6s - loss: 1.1580 - accuracy: 0.57 - ETA: 6s - loss: 1.1716 - accuracy: 0.55 - ETA: 6s - loss: 1.1874 - accuracy: 0.55 - ETA: 6s - loss: 1.2138 - accuracy: 0.54 - ETA: 5s - loss: 1.2584 - accuracy: 0.52 - ETA: 5s - loss: 1.2303 - accuracy: 0.53 - ETA: 5s - loss: 1.2271 - accuracy: 0.53 - ETA: 5s - loss: 1.2275 - accuracy: 0.53 - ETA: 5s - loss: 1.2097 - accuracy: 0.53 - ETA: 5s - loss: 1.2063 - accuracy: 0.53 - ETA: 5s - loss: 1.1823 - accuracy: 0.53 - ETA: 5s - loss: 1.1951 - accuracy: 0.53 - ETA: 5s - loss: 1.1771 - accuracy: 0.54 - ETA: 5s - loss: 1.1561 - accuracy: 0.55 - ETA: 5s - loss: 1.1381 - accuracy: 0.55 - ETA: 4s - loss: 1.1207 - accuracy: 0.55 - ETA: 4s - loss: 1.0908 - accuracy: 0.56 - ETA: 4s - loss: 1.0789 - accuracy: 0.57 - ETA: 4s - loss: 1.0752 - accuracy: 0.56 - ETA: 4s - loss: 1.0766 - accuracy: 0.56 - ETA: 4s - loss: 1.0914 - accuracy: 0.56 - ETA: 4s - loss: 1.0732 - accuracy: 0.56 - ETA: 4s - loss: 1.0750 - accuracy: 0.56 - ETA: 4s - loss: 1.0659 - accuracy: 0.56 - ETA: 4s - loss: 1.0568 - accuracy: 0.57 - ETA: 3s - loss: 1.0490 - accuracy: 0.56 - ETA: 3s - loss: 1.0488 - accuracy: 0.56 - ETA: 3s - loss: 1.0462 - accuracy: 0.56 - ETA: 3s - loss: 1.0391 - accuracy: 0.56 - ETA: 3s - loss: 1.0392 - accuracy: 0.56 - ETA: 3s - loss: 1.0315 - accuracy: 0.56 - ETA: 3s - loss: 1.0268 - accuracy: 0.56 - ETA: 3s - loss: 1.0201 - accuracy: 0.56 - ETA: 3s - loss: 1.0163 - accuracy: 0.56 - ETA: 3s - loss: 1.0120 - accuracy: 0.55 - ETA: 3s - loss: 1.0060 - accuracy: 0.55 - ETA: 3s - loss: 0.9961 - accuracy: 0.55 - ETA: 3s - loss: 0.9925 - accuracy: 0.55 - ETA: 3s - loss: 0.9972 - accuracy: 0.54 - ETA: 2s - loss: 0.9850 - accuracy: 0.54 - ETA: 2s - loss: 0.9718 - accuracy: 0.55 - ETA: 2s - loss: 0.9630 - accuracy: 0.55 - ETA: 2s - loss: 0.9562 - accuracy: 0.56 - ETA: 2s - loss: 0.9488 - accuracy: 0.56 - ETA: 2s - loss: 0.9415 - accuracy: 0.56 - ETA: 2s - loss: 0.9306 - accuracy: 0.57 - ETA: 2s - loss: 0.9260 - accuracy: 0.57 - ETA: 2s - loss: 0.9255 - accuracy: 0.57 - ETA: 2s - loss: 0.9189 - accuracy: 0.57 - ETA: 2s - loss: 0.9129 - accuracy: 0.57 - ETA: 2s - loss: 0.9128 - accuracy: 0.57 - ETA: 2s - loss: 0.9043 - accuracy: 0.57 - ETA: 2s - loss: 0.9040 - accuracy: 0.57 - ETA: 1s - loss: 0.9016 - accuracy: 0.57 - ETA: 1s - loss: 0.8933 - accuracy: 0.57 - ETA: 1s - loss: 0.8903 - accuracy: 0.57 - ETA: 1s - loss: 0.8891 - accuracy: 0.57 - ETA: 1s - loss: 0.8832 - accuracy: 0.57 - ETA: 1s - loss: 0.8806 - accuracy: 0.58 - ETA: 1s - loss: 0.8740 - accuracy: 0.58 - ETA: 1s - loss: 0.8670 - accuracy: 0.58 - ETA: 1s - loss: 0.8592 - accuracy: 0.58 - ETA: 1s - loss: 0.8575 - accuracy: 0.58 - ETA: 1s - loss: 0.8480 - accuracy: 0.59 - ETA: 1s - loss: 0.8429 - accuracy: 0.59 - ETA: 0s - loss: 0.8389 - accuracy: 0.60 - ETA: 0s - loss: 0.8326 - accuracy: 0.60 - ETA: 0s - loss: 0.8246 - accuracy: 0.60 - ETA: 0s - loss: 0.8177 - accuracy: 0.60 - ETA: 0s - loss: 0.8077 - accuracy: 0.61 - ETA: 0s - loss: 0.7995 - accuracy: 0.61 - ETA: 0s - loss: 0.7910 - accuracy: 0.62 - ETA: 0s - loss: 0.7844 - accuracy: 0.62 - ETA: 0s - loss: 0.7743 - accuracy: 0.63 - ETA: 0s - loss: 0.7649 - accuracy: 0.63 - ETA: 0s - loss: 0.7609 - accuracy: 0.63 - ETA: 0s - loss: 0.7599 - accuracy: 0.63 - 7s 12ms/step - loss: 0.7568 - accuracy: 0.6415 - val_loss: 0.0893 - val_accuracy: 0.9615\n",
      "Epoch 2/50\n",
      "622/622 [==============================] - ETA: 4s - loss: 0.1735 - accuracy: 1.00 - ETA: 5s - loss: 0.1852 - accuracy: 0.91 - ETA: 5s - loss: 0.1521 - accuracy: 0.95 - ETA: 5s - loss: 0.1450 - accuracy: 0.96 - ETA: 5s - loss: 0.1397 - accuracy: 0.97 - ETA: 5s - loss: 0.1296 - accuracy: 0.97 - ETA: 5s - loss: 0.1168 - accuracy: 0.98 - ETA: 5s - loss: 0.1263 - accuracy: 0.96 - ETA: 5s - loss: 0.1203 - accuracy: 0.97 - ETA: 5s - loss: 0.1160 - accuracy: 0.97 - ETA: 5s - loss: 0.1672 - accuracy: 0.95 - ETA: 4s - loss: 0.1860 - accuracy: 0.94 - ETA: 4s - loss: 0.1753 - accuracy: 0.95 - ETA: 4s - loss: 0.1810 - accuracy: 0.94 - ETA: 4s - loss: 0.1745 - accuracy: 0.94 - ETA: 4s - loss: 0.1637 - accuracy: 0.95 - ETA: 4s - loss: 0.1689 - accuracy: 0.94 - ETA: 4s - loss: 0.1778 - accuracy: 0.94 - ETA: 4s - loss: 0.1782 - accuracy: 0.93 - ETA: 4s - loss: 0.1757 - accuracy: 0.94 - ETA: 4s - loss: 0.1712 - accuracy: 0.94 - ETA: 4s - loss: 0.2118 - accuracy: 0.92 - ETA: 4s - loss: 0.2137 - accuracy: 0.91 - ETA: 4s - loss: 0.2140 - accuracy: 0.91 - ETA: 4s - loss: 0.2086 - accuracy: 0.92 - ETA: 4s - loss: 0.2009 - accuracy: 0.92 - ETA: 3s - loss: 0.1951 - accuracy: 0.92 - ETA: 3s - loss: 0.1887 - accuracy: 0.92 - ETA: 3s - loss: 0.1908 - accuracy: 0.92 - ETA: 3s - loss: 0.1914 - accuracy: 0.92 - ETA: 3s - loss: 0.2078 - accuracy: 0.91 - ETA: 3s - loss: 0.2061 - accuracy: 0.91 - ETA: 3s - loss: 0.2050 - accuracy: 0.91 - ETA: 3s - loss: 0.2022 - accuracy: 0.91 - ETA: 3s - loss: 0.1983 - accuracy: 0.91 - ETA: 3s - loss: 0.2001 - accuracy: 0.91 - ETA: 3s - loss: 0.1971 - accuracy: 0.91 - ETA: 3s - loss: 0.1936 - accuracy: 0.92 - ETA: 3s - loss: 0.1897 - accuracy: 0.92 - ETA: 2s - loss: 0.1855 - accuracy: 0.92 - ETA: 2s - loss: 0.1810 - accuracy: 0.92 - ETA: 2s - loss: 0.1793 - accuracy: 0.92 - ETA: 2s - loss: 0.1782 - accuracy: 0.92 - ETA: 2s - loss: 0.1761 - accuracy: 0.92 - ETA: 2s - loss: 0.1722 - accuracy: 0.92 - ETA: 2s - loss: 0.1687 - accuracy: 0.93 - ETA: 2s - loss: 0.1668 - accuracy: 0.93 - ETA: 2s - loss: 0.1661 - accuracy: 0.93 - ETA: 2s - loss: 0.1626 - accuracy: 0.93 - ETA: 2s - loss: 0.1609 - accuracy: 0.93 - ETA: 2s - loss: 0.1593 - accuracy: 0.93 - ETA: 2s - loss: 0.1570 - accuracy: 0.93 - ETA: 2s - loss: 0.1561 - accuracy: 0.93 - ETA: 2s - loss: 0.1535 - accuracy: 0.93 - ETA: 2s - loss: 0.1504 - accuracy: 0.94 - ETA: 2s - loss: 0.1477 - accuracy: 0.94 - ETA: 2s - loss: 0.1451 - accuracy: 0.94 - ETA: 1s - loss: 0.1453 - accuracy: 0.94 - ETA: 1s - loss: 0.1439 - accuracy: 0.94 - ETA: 1s - loss: 0.1417 - accuracy: 0.94 - ETA: 1s - loss: 0.1404 - accuracy: 0.94 - ETA: 1s - loss: 0.1394 - accuracy: 0.94 - ETA: 1s - loss: 0.1418 - accuracy: 0.94 - ETA: 1s - loss: 0.1407 - accuracy: 0.94 - ETA: 1s - loss: 0.1431 - accuracy: 0.94 - ETA: 1s - loss: 0.1418 - accuracy: 0.94 - ETA: 1s - loss: 0.1404 - accuracy: 0.94 - ETA: 1s - loss: 0.1394 - accuracy: 0.94 - ETA: 1s - loss: 0.1379 - accuracy: 0.94 - ETA: 1s - loss: 0.1358 - accuracy: 0.94 - ETA: 1s - loss: 0.1337 - accuracy: 0.94 - ETA: 1s - loss: 0.1319 - accuracy: 0.94 - ETA: 1s - loss: 0.1309 - accuracy: 0.94 - ETA: 1s - loss: 0.1297 - accuracy: 0.94 - ETA: 0s - loss: 0.1290 - accuracy: 0.95 - ETA: 0s - loss: 0.1273 - accuracy: 0.95 - ETA: 0s - loss: 0.1254 - accuracy: 0.95 - ETA: 0s - loss: 0.1241 - accuracy: 0.95 - ETA: 0s - loss: 0.1223 - accuracy: 0.95 - ETA: 0s - loss: 0.1206 - accuracy: 0.95 - ETA: 0s - loss: 0.1197 - accuracy: 0.95 - ETA: 0s - loss: 0.1181 - accuracy: 0.95 - ETA: 0s - loss: 0.1167 - accuracy: 0.95 - ETA: 0s - loss: 0.1154 - accuracy: 0.95 - ETA: 0s - loss: 0.1138 - accuracy: 0.95 - ETA: 0s - loss: 0.1123 - accuracy: 0.95 - ETA: 0s - loss: 0.1109 - accuracy: 0.95 - 6s 10ms/step - loss: 0.1106 - accuracy: 0.9582 - val_loss: 2.7778e-04 - val_accuracy: 1.0000\n",
      "Epoch 3/50\n"
     ]
    },
    {
     "name": "stdout",
     "output_type": "stream",
     "text": [
      "622/622 [==============================] - ETA: 5s - loss: 0.0036 - accuracy: 1.00 - ETA: 5s - loss: 0.0119 - accuracy: 1.00 - ETA: 5s - loss: 0.0125 - accuracy: 1.00 - ETA: 5s - loss: 0.0089 - accuracy: 1.00 - ETA: 5s - loss: 0.0072 - accuracy: 1.00 - ETA: 5s - loss: 0.0061 - accuracy: 1.00 - ETA: 5s - loss: 0.0070 - accuracy: 1.00 - ETA: 5s - loss: 0.0066 - accuracy: 1.00 - ETA: 4s - loss: 0.0059 - accuracy: 1.00 - ETA: 4s - loss: 0.0055 - accuracy: 1.00 - ETA: 4s - loss: 0.0051 - accuracy: 1.00 - ETA: 4s - loss: 0.0046 - accuracy: 1.00 - ETA: 4s - loss: 0.0049 - accuracy: 1.00 - ETA: 4s - loss: 0.0049 - accuracy: 1.00 - ETA: 4s - loss: 0.0047 - accuracy: 1.00 - ETA: 4s - loss: 0.0044 - accuracy: 1.00 - ETA: 4s - loss: 0.0042 - accuracy: 1.00 - ETA: 4s - loss: 0.0039 - accuracy: 1.00 - ETA: 4s - loss: 0.0037 - accuracy: 1.00 - ETA: 4s - loss: 0.0036 - accuracy: 1.00 - ETA: 4s - loss: 0.0035 - accuracy: 1.00 - ETA: 4s - loss: 0.0034 - accuracy: 1.00 - ETA: 4s - loss: 0.0032 - accuracy: 1.00 - ETA: 3s - loss: 0.0038 - accuracy: 1.00 - ETA: 3s - loss: 0.0037 - accuracy: 1.00 - ETA: 3s - loss: 0.0036 - accuracy: 1.00 - ETA: 3s - loss: 0.0037 - accuracy: 1.00 - ETA: 3s - loss: 0.0036 - accuracy: 1.00 - ETA: 3s - loss: 0.0035 - accuracy: 1.00 - ETA: 3s - loss: 0.0034 - accuracy: 1.00 - ETA: 3s - loss: 0.0033 - accuracy: 1.00 - ETA: 3s - loss: 0.0034 - accuracy: 1.00 - ETA: 3s - loss: 0.0033 - accuracy: 1.00 - ETA: 3s - loss: 0.0033 - accuracy: 1.00 - ETA: 3s - loss: 0.0032 - accuracy: 1.00 - ETA: 3s - loss: 0.0031 - accuracy: 1.00 - ETA: 2s - loss: 0.0031 - accuracy: 1.00 - ETA: 2s - loss: 0.0030 - accuracy: 1.00 - ETA: 2s - loss: 0.0029 - accuracy: 1.00 - ETA: 2s - loss: 0.0033 - accuracy: 1.00 - ETA: 2s - loss: 0.0034 - accuracy: 1.00 - ETA: 2s - loss: 0.0034 - accuracy: 1.00 - ETA: 2s - loss: 0.0033 - accuracy: 1.00 - ETA: 2s - loss: 0.0033 - accuracy: 1.00 - ETA: 2s - loss: 0.0033 - accuracy: 1.00 - ETA: 2s - loss: 0.0032 - accuracy: 1.00 - ETA: 2s - loss: 0.0036 - accuracy: 1.00 - ETA: 2s - loss: 0.0035 - accuracy: 1.00 - ETA: 2s - loss: 0.0035 - accuracy: 1.00 - ETA: 2s - loss: 0.0034 - accuracy: 1.00 - ETA: 2s - loss: 0.0034 - accuracy: 1.00 - ETA: 1s - loss: 0.0033 - accuracy: 1.00 - ETA: 1s - loss: 0.0034 - accuracy: 1.00 - ETA: 1s - loss: 0.0035 - accuracy: 1.00 - ETA: 1s - loss: 0.0034 - accuracy: 1.00 - ETA: 1s - loss: 0.0034 - accuracy: 1.00 - ETA: 1s - loss: 0.0034 - accuracy: 1.00 - ETA: 1s - loss: 0.0033 - accuracy: 1.00 - ETA: 1s - loss: 0.0033 - accuracy: 1.00 - ETA: 1s - loss: 0.0033 - accuracy: 1.00 - ETA: 1s - loss: 0.0032 - accuracy: 1.00 - ETA: 1s - loss: 0.0035 - accuracy: 1.00 - ETA: 1s - loss: 0.0035 - accuracy: 1.00 - ETA: 1s - loss: 0.0035 - accuracy: 1.00 - ETA: 1s - loss: 0.0034 - accuracy: 1.00 - ETA: 1s - loss: 0.0034 - accuracy: 1.00 - ETA: 1s - loss: 0.0034 - accuracy: 1.00 - ETA: 1s - loss: 0.0034 - accuracy: 1.00 - ETA: 1s - loss: 0.0033 - accuracy: 1.00 - ETA: 1s - loss: 0.0033 - accuracy: 1.00 - ETA: 1s - loss: 0.0033 - accuracy: 1.00 - ETA: 1s - loss: 0.0033 - accuracy: 1.00 - ETA: 1s - loss: 0.0033 - accuracy: 1.00 - ETA: 1s - loss: 0.0033 - accuracy: 1.00 - ETA: 1s - loss: 0.0032 - accuracy: 1.00 - ETA: 1s - loss: 0.0032 - accuracy: 1.00 - ETA: 1s - loss: 0.0066 - accuracy: 0.99 - ETA: 1s - loss: 0.0066 - accuracy: 0.99 - ETA: 1s - loss: 0.0065 - accuracy: 0.99 - ETA: 0s - loss: 0.0065 - accuracy: 0.99 - ETA: 0s - loss: 0.0065 - accuracy: 0.99 - ETA: 0s - loss: 0.0066 - accuracy: 0.99 - ETA: 0s - loss: 0.0065 - accuracy: 0.99 - ETA: 0s - loss: 0.0156 - accuracy: 0.99 - ETA: 0s - loss: 0.0155 - accuracy: 0.99 - ETA: 0s - loss: 0.0154 - accuracy: 0.99 - ETA: 0s - loss: 0.0158 - accuracy: 0.99 - ETA: 0s - loss: 0.0157 - accuracy: 0.99 - ETA: 0s - loss: 0.0157 - accuracy: 0.99 - ETA: 0s - loss: 0.0156 - accuracy: 0.99 - ETA: 0s - loss: 0.0154 - accuracy: 0.99 - ETA: 0s - loss: 0.0153 - accuracy: 0.99 - ETA: 0s - loss: 0.0151 - accuracy: 0.99 - ETA: 0s - loss: 0.0150 - accuracy: 0.99 - ETA: 0s - loss: 0.0149 - accuracy: 0.99 - ETA: 0s - loss: 0.0147 - accuracy: 0.99 - 8s 12ms/step - loss: 0.0147 - accuracy: 0.9968 - val_loss: 0.0021 - val_accuracy: 1.0000\n",
      "Epoch 4/50\n"
     ]
    },
    {
     "name": "stdout",
     "output_type": "stream",
     "text": [
      "622/622 [==============================] - ETA: 6s - loss: 0.0249 - accuracy: 1.00 - ETA: 7s - loss: 0.0126 - accuracy: 1.00 - ETA: 7s - loss: 0.0110 - accuracy: 1.00 - ETA: 7s - loss: 0.0083 - accuracy: 1.00 - ETA: 8s - loss: 0.0068 - accuracy: 1.00 - ETA: 8s - loss: 0.0057 - accuracy: 1.00 - ETA: 8s - loss: 0.0071 - accuracy: 1.00 - ETA: 8s - loss: 0.0069 - accuracy: 1.00 - ETA: 10s - loss: 0.0062 - accuracy: 1.000 - ETA: 10s - loss: 0.0057 - accuracy: 1.000 - ETA: 10s - loss: 0.0052 - accuracy: 1.000 - ETA: 9s - loss: 0.0333 - accuracy: 0.982 - ETA: 9s - loss: 0.0311 - accuracy: 0.98 - ETA: 9s - loss: 0.0293 - accuracy: 0.98 - ETA: 9s - loss: 0.0276 - accuracy: 0.98 - ETA: 9s - loss: 0.0261 - accuracy: 0.98 - ETA: 9s - loss: 0.0257 - accuracy: 0.98 - ETA: 9s - loss: 0.0244 - accuracy: 0.98 - ETA: 9s - loss: 0.0239 - accuracy: 0.98 - ETA: 9s - loss: 0.0230 - accuracy: 0.98 - ETA: 9s - loss: 0.0221 - accuracy: 0.98 - ETA: 9s - loss: 0.0211 - accuracy: 0.98 - ETA: 9s - loss: 0.0203 - accuracy: 0.99 - ETA: 9s - loss: 0.0196 - accuracy: 0.99 - ETA: 9s - loss: 0.0231 - accuracy: 0.99 - ETA: 9s - loss: 0.0223 - accuracy: 0.99 - ETA: 9s - loss: 0.0218 - accuracy: 0.99 - ETA: 9s - loss: 0.0280 - accuracy: 0.98 - ETA: 9s - loss: 0.0271 - accuracy: 0.98 - ETA: 10s - loss: 0.0263 - accuracy: 0.984 - ETA: 10s - loss: 0.0247 - accuracy: 0.985 - ETA: 10s - loss: 0.0245 - accuracy: 0.985 - ETA: 10s - loss: 0.0238 - accuracy: 0.986 - ETA: 9s - loss: 0.0232 - accuracy: 0.986 - ETA: 9s - loss: 0.0226 - accuracy: 0.98 - ETA: 9s - loss: 0.0220 - accuracy: 0.98 - ETA: 9s - loss: 0.0215 - accuracy: 0.98 - ETA: 9s - loss: 0.0210 - accuracy: 0.98 - ETA: 9s - loss: 0.0205 - accuracy: 0.98 - ETA: 9s - loss: 0.0200 - accuracy: 0.98 - ETA: 8s - loss: 0.0195 - accuracy: 0.98 - ETA: 8s - loss: 0.0187 - accuracy: 0.98 - ETA: 8s - loss: 0.0183 - accuracy: 0.98 - ETA: 8s - loss: 0.0179 - accuracy: 0.98 - ETA: 8s - loss: 0.0176 - accuracy: 0.98 - ETA: 8s - loss: 0.0176 - accuracy: 0.99 - ETA: 7s - loss: 0.0170 - accuracy: 0.99 - ETA: 7s - loss: 0.0167 - accuracy: 0.99 - ETA: 7s - loss: 0.0164 - accuracy: 0.99 - ETA: 7s - loss: 0.0160 - accuracy: 0.99 - ETA: 7s - loss: 0.0154 - accuracy: 0.99 - ETA: 6s - loss: 0.0153 - accuracy: 0.99 - ETA: 6s - loss: 0.0148 - accuracy: 0.99 - ETA: 6s - loss: 0.0235 - accuracy: 0.98 - ETA: 6s - loss: 0.0232 - accuracy: 0.98 - ETA: 6s - loss: 0.0228 - accuracy: 0.98 - ETA: 6s - loss: 0.0231 - accuracy: 0.98 - ETA: 6s - loss: 0.0228 - accuracy: 0.98 - ETA: 5s - loss: 0.0262 - accuracy: 0.98 - ETA: 5s - loss: 0.0259 - accuracy: 0.98 - ETA: 5s - loss: 0.0356 - accuracy: 0.98 - ETA: 5s - loss: 0.0346 - accuracy: 0.98 - ETA: 5s - loss: 0.0378 - accuracy: 0.98 - ETA: 5s - loss: 0.0373 - accuracy: 0.98 - ETA: 5s - loss: 0.0368 - accuracy: 0.98 - ETA: 5s - loss: 0.0359 - accuracy: 0.98 - ETA: 5s - loss: 0.0355 - accuracy: 0.98 - ETA: 4s - loss: 0.0350 - accuracy: 0.98 - ETA: 4s - loss: 0.0378 - accuracy: 0.97 - ETA: 4s - loss: 0.0374 - accuracy: 0.97 - ETA: 4s - loss: 0.0370 - accuracy: 0.97 - ETA: 4s - loss: 0.0365 - accuracy: 0.97 - ETA: 4s - loss: 0.0379 - accuracy: 0.97 - ETA: 4s - loss: 0.0374 - accuracy: 0.98 - ETA: 4s - loss: 0.0366 - accuracy: 0.98 - ETA: 4s - loss: 0.0362 - accuracy: 0.98 - ETA: 3s - loss: 0.0355 - accuracy: 0.98 - ETA: 3s - loss: 0.0351 - accuracy: 0.98 - ETA: 3s - loss: 0.0347 - accuracy: 0.98 - ETA: 3s - loss: 0.0344 - accuracy: 0.98 - ETA: 3s - loss: 0.0340 - accuracy: 0.98 - ETA: 3s - loss: 0.0333 - accuracy: 0.98 - ETA: 3s - loss: 0.0329 - accuracy: 0.98 - ETA: 3s - loss: 0.0323 - accuracy: 0.98 - ETA: 3s - loss: 0.0317 - accuracy: 0.98 - ETA: 3s - loss: 0.0316 - accuracy: 0.98 - ETA: 3s - loss: 0.0313 - accuracy: 0.98 - ETA: 2s - loss: 0.0311 - accuracy: 0.98 - ETA: 2s - loss: 0.0308 - accuracy: 0.98 - ETA: 2s - loss: 0.0305 - accuracy: 0.98 - ETA: 2s - loss: 0.0318 - accuracy: 0.98 - ETA: 2s - loss: 0.0315 - accuracy: 0.98 - ETA: 2s - loss: 0.0312 - accuracy: 0.98 - ETA: 2s - loss: 0.0310 - accuracy: 0.98 - ETA: 2s - loss: 0.0309 - accuracy: 0.98 - ETA: 2s - loss: 0.0303 - accuracy: 0.98 - ETA: 2s - loss: 0.0298 - accuracy: 0.98 - ETA: 2s - loss: 0.0294 - accuracy: 0.98 - ETA: 2s - loss: 0.0291 - accuracy: 0.98 - ETA: 1s - loss: 0.0289 - accuracy: 0.98 - ETA: 1s - loss: 0.0284 - accuracy: 0.98 - ETA: 1s - loss: 0.0280 - accuracy: 0.98 - ETA: 1s - loss: 0.0275 - accuracy: 0.98 - ETA: 1s - loss: 0.0271 - accuracy: 0.98 - ETA: 1s - loss: 0.0267 - accuracy: 0.98 - ETA: 1s - loss: 0.0263 - accuracy: 0.98 - ETA: 1s - loss: 0.0264 - accuracy: 0.98 - ETA: 0s - loss: 0.0261 - accuracy: 0.98 - ETA: 0s - loss: 0.0257 - accuracy: 0.98 - ETA: 0s - loss: 0.0253 - accuracy: 0.98 - ETA: 0s - loss: 0.0250 - accuracy: 0.98 - ETA: 0s - loss: 0.0247 - accuracy: 0.98 - ETA: 0s - loss: 0.0244 - accuracy: 0.98 - ETA: 0s - loss: 0.0241 - accuracy: 0.98 - ETA: 0s - loss: 0.0240 - accuracy: 0.98 - ETA: 0s - loss: 0.0237 - accuracy: 0.98 - 9s 14ms/step - loss: 0.0236 - accuracy: 0.9871 - val_loss: 6.4763e-05 - val_accuracy: 1.0000\n",
      "Epoch 5/50\n"
     ]
    },
    {
     "name": "stdout",
     "output_type": "stream",
     "text": [
      "622/622 [==============================] - ETA: 4s - loss: 0.0242 - accuracy: 1.00 - ETA: 5s - loss: 0.0081 - accuracy: 1.00 - ETA: 5s - loss: 0.0145 - accuracy: 1.00 - ETA: 5s - loss: 0.0104 - accuracy: 1.00 - ETA: 5s - loss: 0.0081 - accuracy: 1.00 - ETA: 5s - loss: 0.0066 - accuracy: 1.00 - ETA: 5s - loss: 0.0061 - accuracy: 1.00 - ETA: 5s - loss: 0.0056 - accuracy: 1.00 - ETA: 5s - loss: 0.0052 - accuracy: 1.00 - ETA: 5s - loss: 0.0046 - accuracy: 1.00 - ETA: 5s - loss: 0.0041 - accuracy: 1.00 - ETA: 5s - loss: 0.0037 - accuracy: 1.00 - ETA: 5s - loss: 0.0035 - accuracy: 1.00 - ETA: 5s - loss: 0.0033 - accuracy: 1.00 - ETA: 5s - loss: 0.0031 - accuracy: 1.00 - ETA: 5s - loss: 0.0028 - accuracy: 1.00 - ETA: 5s - loss: 0.0027 - accuracy: 1.00 - ETA: 5s - loss: 0.0025 - accuracy: 1.00 - ETA: 4s - loss: 0.0024 - accuracy: 1.00 - ETA: 4s - loss: 0.0023 - accuracy: 1.00 - ETA: 4s - loss: 0.0021 - accuracy: 1.00 - ETA: 4s - loss: 0.0020 - accuracy: 1.00 - ETA: 4s - loss: 0.0021 - accuracy: 1.00 - ETA: 4s - loss: 0.0194 - accuracy: 0.99 - ETA: 4s - loss: 0.0185 - accuracy: 0.99 - ETA: 4s - loss: 0.0178 - accuracy: 0.99 - ETA: 4s - loss: 0.0171 - accuracy: 0.99 - ETA: 4s - loss: 0.0164 - accuracy: 0.99 - ETA: 3s - loss: 0.0195 - accuracy: 0.99 - ETA: 3s - loss: 0.0189 - accuracy: 0.99 - ETA: 3s - loss: 0.0198 - accuracy: 0.99 - ETA: 3s - loss: 0.0191 - accuracy: 0.99 - ETA: 3s - loss: 0.0185 - accuracy: 0.99 - ETA: 3s - loss: 0.0182 - accuracy: 0.99 - ETA: 3s - loss: 0.0179 - accuracy: 0.99 - ETA: 3s - loss: 0.0174 - accuracy: 0.99 - ETA: 3s - loss: 0.0169 - accuracy: 0.99 - ETA: 3s - loss: 0.0165 - accuracy: 0.99 - ETA: 3s - loss: 0.0160 - accuracy: 0.99 - ETA: 3s - loss: 0.0156 - accuracy: 0.99 - ETA: 3s - loss: 0.0152 - accuracy: 0.99 - ETA: 3s - loss: 0.0252 - accuracy: 0.99 - ETA: 3s - loss: 0.0246 - accuracy: 0.99 - ETA: 2s - loss: 0.0260 - accuracy: 0.99 - ETA: 2s - loss: 0.0254 - accuracy: 0.99 - ETA: 2s - loss: 0.0248 - accuracy: 0.99 - ETA: 2s - loss: 0.0243 - accuracy: 0.99 - ETA: 2s - loss: 0.0237 - accuracy: 0.99 - ETA: 2s - loss: 0.0232 - accuracy: 0.99 - ETA: 2s - loss: 0.0395 - accuracy: 0.98 - ETA: 2s - loss: 0.0386 - accuracy: 0.98 - ETA: 2s - loss: 0.0378 - accuracy: 0.98 - ETA: 2s - loss: 0.0377 - accuracy: 0.98 - ETA: 2s - loss: 0.0377 - accuracy: 0.99 - ETA: 1s - loss: 0.0369 - accuracy: 0.99 - ETA: 1s - loss: 0.0385 - accuracy: 0.98 - ETA: 1s - loss: 0.0378 - accuracy: 0.98 - ETA: 1s - loss: 0.0478 - accuracy: 0.98 - ETA: 1s - loss: 0.0470 - accuracy: 0.98 - ETA: 1s - loss: 0.0461 - accuracy: 0.98 - ETA: 1s - loss: 0.0454 - accuracy: 0.98 - ETA: 1s - loss: 0.0540 - accuracy: 0.98 - ETA: 1s - loss: 0.0695 - accuracy: 0.98 - ETA: 1s - loss: 0.0684 - accuracy: 0.98 - ETA: 1s - loss: 0.0673 - accuracy: 0.98 - ETA: 1s - loss: 0.0769 - accuracy: 0.98 - ETA: 1s - loss: 0.1318 - accuracy: 0.97 - ETA: 0s - loss: 0.1298 - accuracy: 0.97 - ETA: 0s - loss: 0.1279 - accuracy: 0.97 - ETA: 0s - loss: 0.1262 - accuracy: 0.97 - ETA: 0s - loss: 0.1243 - accuracy: 0.97 - ETA: 0s - loss: 0.1225 - accuracy: 0.97 - ETA: 0s - loss: 0.1214 - accuracy: 0.97 - ETA: 0s - loss: 0.1198 - accuracy: 0.97 - ETA: 0s - loss: 0.1184 - accuracy: 0.97 - ETA: 0s - loss: 0.1173 - accuracy: 0.97 - ETA: 0s - loss: 0.1157 - accuracy: 0.97 - ETA: 0s - loss: 0.1145 - accuracy: 0.97 - ETA: 0s - loss: 0.1133 - accuracy: 0.98 - ETA: 0s - loss: 0.1138 - accuracy: 0.98 - ETA: 0s - loss: 0.1134 - accuracy: 0.98 - 6s 9ms/step - loss: 0.1130 - accuracy: 0.9807 - val_loss: 9.8495e-04 - val_accuracy: 1.0000\n",
      "Epoch 6/50\n",
      "622/622 [==============================] - ETA: 4s - loss: 0.0054 - accuracy: 1.00 - ETA: 4s - loss: 0.0133 - accuracy: 1.00 - ETA: 4s - loss: 0.0127 - accuracy: 1.00 - ETA: 4s - loss: 0.0108 - accuracy: 1.00 - ETA: 4s - loss: 0.0091 - accuracy: 1.00 - ETA: 4s - loss: 0.0091 - accuracy: 1.00 - ETA: 4s - loss: 0.0085 - accuracy: 1.00 - ETA: 4s - loss: 0.0089 - accuracy: 1.00 - ETA: 4s - loss: 0.0084 - accuracy: 1.00 - ETA: 4s - loss: 0.0108 - accuracy: 1.00 - ETA: 4s - loss: 0.0097 - accuracy: 1.00 - ETA: 4s - loss: 0.0091 - accuracy: 1.00 - ETA: 4s - loss: 0.0083 - accuracy: 1.00 - ETA: 4s - loss: 0.0077 - accuracy: 1.00 - ETA: 4s - loss: 0.0072 - accuracy: 1.00 - ETA: 4s - loss: 0.0069 - accuracy: 1.00 - ETA: 3s - loss: 0.0078 - accuracy: 1.00 - ETA: 3s - loss: 0.0076 - accuracy: 1.00 - ETA: 3s - loss: 0.0077 - accuracy: 1.00 - ETA: 3s - loss: 0.0073 - accuracy: 1.00 - ETA: 3s - loss: 0.0072 - accuracy: 1.00 - ETA: 3s - loss: 0.0071 - accuracy: 1.00 - ETA: 3s - loss: 0.0068 - accuracy: 1.00 - ETA: 3s - loss: 0.0067 - accuracy: 1.00 - ETA: 3s - loss: 0.0073 - accuracy: 1.00 - ETA: 3s - loss: 0.0070 - accuracy: 1.00 - ETA: 3s - loss: 0.0245 - accuracy: 0.99 - ETA: 3s - loss: 0.0237 - accuracy: 0.99 - ETA: 3s - loss: 0.0229 - accuracy: 0.99 - ETA: 3s - loss: 0.0222 - accuracy: 0.99 - ETA: 3s - loss: 0.0214 - accuracy: 0.99 - ETA: 3s - loss: 0.0208 - accuracy: 0.99 - ETA: 2s - loss: 0.0201 - accuracy: 0.99 - ETA: 2s - loss: 0.0195 - accuracy: 0.99 - ETA: 2s - loss: 0.0194 - accuracy: 0.99 - ETA: 2s - loss: 0.0188 - accuracy: 0.99 - ETA: 2s - loss: 0.0183 - accuracy: 0.99 - ETA: 2s - loss: 0.0187 - accuracy: 0.99 - ETA: 2s - loss: 0.0183 - accuracy: 0.99 - ETA: 2s - loss: 0.0178 - accuracy: 0.99 - ETA: 2s - loss: 0.0174 - accuracy: 0.99 - ETA: 2s - loss: 0.0170 - accuracy: 0.99 - ETA: 2s - loss: 0.0167 - accuracy: 0.99 - ETA: 2s - loss: 0.0163 - accuracy: 0.99 - ETA: 2s - loss: 0.0160 - accuracy: 0.99 - ETA: 2s - loss: 0.0160 - accuracy: 0.99 - ETA: 2s - loss: 0.0156 - accuracy: 0.99 - ETA: 1s - loss: 0.0325 - accuracy: 0.99 - ETA: 1s - loss: 0.0318 - accuracy: 0.99 - ETA: 1s - loss: 0.0312 - accuracy: 0.99 - ETA: 1s - loss: 0.0306 - accuracy: 0.99 - ETA: 1s - loss: 0.0300 - accuracy: 0.99 - ETA: 1s - loss: 0.0302 - accuracy: 0.99 - ETA: 1s - loss: 0.0297 - accuracy: 0.99 - ETA: 1s - loss: 0.0292 - accuracy: 0.99 - ETA: 1s - loss: 0.0287 - accuracy: 0.99 - ETA: 1s - loss: 0.0282 - accuracy: 0.99 - ETA: 1s - loss: 0.0283 - accuracy: 0.99 - ETA: 1s - loss: 0.0364 - accuracy: 0.99 - ETA: 1s - loss: 0.0359 - accuracy: 0.99 - ETA: 1s - loss: 0.0353 - accuracy: 0.99 - ETA: 1s - loss: 0.0347 - accuracy: 0.99 - ETA: 1s - loss: 0.0342 - accuracy: 0.99 - ETA: 0s - loss: 0.0338 - accuracy: 0.99 - ETA: 0s - loss: 0.0333 - accuracy: 0.99 - ETA: 0s - loss: 0.0328 - accuracy: 0.99 - ETA: 0s - loss: 0.0323 - accuracy: 0.99 - ETA: 0s - loss: 0.0322 - accuracy: 0.99 - ETA: 0s - loss: 0.0318 - accuracy: 0.99 - ETA: 0s - loss: 0.0321 - accuracy: 0.99 - ETA: 0s - loss: 0.0316 - accuracy: 0.99 - ETA: 0s - loss: 0.0312 - accuracy: 0.99 - ETA: 0s - loss: 0.0310 - accuracy: 0.99 - ETA: 0s - loss: 0.0306 - accuracy: 0.99 - ETA: 0s - loss: 0.0302 - accuracy: 0.99 - ETA: 0s - loss: 0.0298 - accuracy: 0.99 - ETA: 0s - loss: 0.0294 - accuracy: 0.99 - ETA: 0s - loss: 0.0291 - accuracy: 0.99 - 5s 9ms/step - loss: 0.0293 - accuracy: 0.9952 - val_loss: 2.6687e-05 - val_accuracy: 1.0000\n",
      "Epoch 7/50\n"
     ]
    },
    {
     "name": "stdout",
     "output_type": "stream",
     "text": [
      "622/622 [==============================] - ETA: 4s - loss: 3.0308e-05 - accuracy: 1.00 - ETA: 5s - loss: 0.0040 - accuracy: 1.0000   - ETA: 4s - loss: 0.0025 - accuracy: 1.00 - ETA: 4s - loss: 0.0063 - accuracy: 1.00 - ETA: 5s - loss: 0.0399 - accuracy: 0.97 - ETA: 5s - loss: 0.0348 - accuracy: 0.97 - ETA: 4s - loss: 0.0299 - accuracy: 0.98 - ETA: 4s - loss: 0.0259 - accuracy: 0.98 - ETA: 4s - loss: 0.0230 - accuracy: 0.98 - ETA: 4s - loss: 0.0206 - accuracy: 0.98 - ETA: 4s - loss: 0.0187 - accuracy: 0.98 - ETA: 4s - loss: 0.0172 - accuracy: 0.98 - ETA: 4s - loss: 0.0166 - accuracy: 0.99 - ETA: 4s - loss: 0.0154 - accuracy: 0.99 - ETA: 4s - loss: 0.0144 - accuracy: 0.99 - ETA: 4s - loss: 0.0135 - accuracy: 0.99 - ETA: 4s - loss: 0.0127 - accuracy: 0.99 - ETA: 4s - loss: 0.0120 - accuracy: 0.99 - ETA: 4s - loss: 0.0114 - accuracy: 0.99 - ETA: 4s - loss: 0.0116 - accuracy: 0.99 - ETA: 4s - loss: 0.0113 - accuracy: 0.99 - ETA: 4s - loss: 0.0108 - accuracy: 0.99 - ETA: 4s - loss: 0.0103 - accuracy: 0.99 - ETA: 3s - loss: 0.0099 - accuracy: 0.99 - ETA: 3s - loss: 0.0095 - accuracy: 0.99 - ETA: 3s - loss: 0.0092 - accuracy: 0.99 - ETA: 3s - loss: 0.0092 - accuracy: 0.99 - ETA: 3s - loss: 0.0089 - accuracy: 0.99 - ETA: 3s - loss: 0.0086 - accuracy: 0.99 - ETA: 3s - loss: 0.0083 - accuracy: 0.99 - ETA: 3s - loss: 0.0080 - accuracy: 0.99 - ETA: 3s - loss: 0.0078 - accuracy: 0.99 - ETA: 3s - loss: 0.0076 - accuracy: 0.99 - ETA: 3s - loss: 0.0075 - accuracy: 0.99 - ETA: 3s - loss: 0.0073 - accuracy: 0.99 - ETA: 3s - loss: 0.0071 - accuracy: 0.99 - ETA: 2s - loss: 0.0070 - accuracy: 0.99 - ETA: 2s - loss: 0.0068 - accuracy: 0.99 - ETA: 2s - loss: 0.0068 - accuracy: 0.99 - ETA: 2s - loss: 0.0067 - accuracy: 0.99 - ETA: 2s - loss: 0.0065 - accuracy: 0.99 - ETA: 2s - loss: 0.0064 - accuracy: 0.99 - ETA: 2s - loss: 0.0062 - accuracy: 0.99 - ETA: 2s - loss: 0.0065 - accuracy: 0.99 - ETA: 2s - loss: 0.0063 - accuracy: 0.99 - ETA: 2s - loss: 0.0062 - accuracy: 0.99 - ETA: 2s - loss: 0.0061 - accuracy: 0.99 - ETA: 2s - loss: 0.0059 - accuracy: 0.99 - ETA: 2s - loss: 0.0058 - accuracy: 0.99 - ETA: 1s - loss: 0.0057 - accuracy: 0.99 - ETA: 1s - loss: 0.0056 - accuracy: 0.99 - ETA: 1s - loss: 0.0055 - accuracy: 0.99 - ETA: 1s - loss: 0.0054 - accuracy: 0.99 - ETA: 1s - loss: 0.0053 - accuracy: 0.99 - ETA: 1s - loss: 0.0053 - accuracy: 0.99 - ETA: 1s - loss: 0.0052 - accuracy: 0.99 - ETA: 1s - loss: 0.0051 - accuracy: 0.99 - ETA: 1s - loss: 0.0051 - accuracy: 0.99 - ETA: 1s - loss: 0.0050 - accuracy: 0.99 - ETA: 1s - loss: 0.0049 - accuracy: 0.99 - ETA: 1s - loss: 0.0049 - accuracy: 0.99 - ETA: 1s - loss: 0.0048 - accuracy: 0.99 - ETA: 1s - loss: 0.0047 - accuracy: 0.99 - ETA: 0s - loss: 0.0047 - accuracy: 0.99 - ETA: 0s - loss: 0.0046 - accuracy: 0.99 - ETA: 0s - loss: 0.0045 - accuracy: 0.99 - ETA: 0s - loss: 0.0045 - accuracy: 0.99 - ETA: 0s - loss: 0.0044 - accuracy: 0.99 - ETA: 0s - loss: 0.0044 - accuracy: 0.99 - ETA: 0s - loss: 0.0043 - accuracy: 0.99 - ETA: 0s - loss: 0.0042 - accuracy: 0.99 - ETA: 0s - loss: 0.0042 - accuracy: 0.99 - ETA: 0s - loss: 0.0041 - accuracy: 0.99 - ETA: 0s - loss: 0.0041 - accuracy: 0.99 - ETA: 0s - loss: 0.0040 - accuracy: 0.99 - ETA: 0s - loss: 0.0040 - accuracy: 0.99 - ETA: 0s - loss: 0.0045 - accuracy: 0.99 - ETA: 0s - loss: 0.0045 - accuracy: 0.99 - 5s 9ms/step - loss: 0.0044 - accuracy: 0.9984 - val_loss: 1.0530e-06 - val_accuracy: 1.0000\n",
      "Epoch 8/50\n",
      "622/622 [==============================] - ETA: 4s - loss: 8.1110e-05 - accuracy: 1.00 - ETA: 5s - loss: 2.7444e-05 - accuracy: 1.00 - ETA: 4s - loss: 1.8529e-05 - accuracy: 1.00 - ETA: 4s - loss: 1.7701e-05 - accuracy: 1.00 - ETA: 4s - loss: 1.4870e-05 - accuracy: 1.00 - ETA: 4s - loss: 1.2784e-05 - accuracy: 1.00 - ETA: 4s - loss: 0.0036 - accuracy: 1.0000   - ETA: 4s - loss: 0.0032 - accuracy: 1.00 - ETA: 4s - loss: 0.0028 - accuracy: 1.00 - ETA: 4s - loss: 0.0025 - accuracy: 1.00 - ETA: 4s - loss: 0.0024 - accuracy: 1.00 - ETA: 4s - loss: 0.0022 - accuracy: 1.00 - ETA: 4s - loss: 0.0020 - accuracy: 1.00 - ETA: 4s - loss: 0.0018 - accuracy: 1.00 - ETA: 4s - loss: 0.0017 - accuracy: 1.00 - ETA: 4s - loss: 0.0016 - accuracy: 1.00 - ETA: 4s - loss: 0.0032 - accuracy: 1.00 - ETA: 3s - loss: 0.0030 - accuracy: 1.00 - ETA: 3s - loss: 0.0028 - accuracy: 1.00 - ETA: 3s - loss: 0.0027 - accuracy: 1.00 - ETA: 3s - loss: 0.0026 - accuracy: 1.00 - ETA: 3s - loss: 0.0025 - accuracy: 1.00 - ETA: 3s - loss: 0.0023 - accuracy: 1.00 - ETA: 3s - loss: 0.0022 - accuracy: 1.00 - ETA: 3s - loss: 0.0022 - accuracy: 1.00 - ETA: 3s - loss: 0.0021 - accuracy: 1.00 - ETA: 3s - loss: 0.0050 - accuracy: 1.00 - ETA: 3s - loss: 0.0049 - accuracy: 1.00 - ETA: 3s - loss: 0.0047 - accuracy: 1.00 - ETA: 3s - loss: 0.0046 - accuracy: 1.00 - ETA: 3s - loss: 0.0044 - accuracy: 1.00 - ETA: 3s - loss: 0.0043 - accuracy: 1.00 - ETA: 2s - loss: 0.0042 - accuracy: 1.00 - ETA: 2s - loss: 0.0041 - accuracy: 1.00 - ETA: 2s - loss: 0.0041 - accuracy: 1.00 - ETA: 2s - loss: 0.0040 - accuracy: 1.00 - ETA: 2s - loss: 0.0039 - accuracy: 1.00 - ETA: 2s - loss: 0.0038 - accuracy: 1.00 - ETA: 2s - loss: 0.0037 - accuracy: 1.00 - ETA: 2s - loss: 0.0036 - accuracy: 1.00 - ETA: 2s - loss: 0.0035 - accuracy: 1.00 - ETA: 2s - loss: 0.0034 - accuracy: 1.00 - ETA: 2s - loss: 0.0033 - accuracy: 1.00 - ETA: 2s - loss: 0.0033 - accuracy: 1.00 - ETA: 2s - loss: 0.0032 - accuracy: 1.00 - ETA: 2s - loss: 0.0032 - accuracy: 1.00 - ETA: 2s - loss: 0.0032 - accuracy: 1.00 - ETA: 2s - loss: 0.0031 - accuracy: 1.00 - ETA: 1s - loss: 0.0031 - accuracy: 1.00 - ETA: 1s - loss: 0.0036 - accuracy: 1.00 - ETA: 1s - loss: 0.0035 - accuracy: 1.00 - ETA: 1s - loss: 0.0034 - accuracy: 1.00 - ETA: 1s - loss: 0.0034 - accuracy: 1.00 - ETA: 1s - loss: 0.0033 - accuracy: 1.00 - ETA: 1s - loss: 0.0032 - accuracy: 1.00 - ETA: 1s - loss: 0.0032 - accuracy: 1.00 - ETA: 1s - loss: 0.0031 - accuracy: 1.00 - ETA: 1s - loss: 0.0031 - accuracy: 1.00 - ETA: 1s - loss: 0.0030 - accuracy: 1.00 - ETA: 1s - loss: 0.0030 - accuracy: 1.00 - ETA: 1s - loss: 0.0029 - accuracy: 1.00 - ETA: 1s - loss: 0.0029 - accuracy: 1.00 - ETA: 1s - loss: 0.0029 - accuracy: 1.00 - ETA: 0s - loss: 0.0028 - accuracy: 1.00 - ETA: 0s - loss: 0.0028 - accuracy: 1.00 - ETA: 0s - loss: 0.0028 - accuracy: 1.00 - ETA: 0s - loss: 0.0029 - accuracy: 1.00 - ETA: 0s - loss: 0.0028 - accuracy: 1.00 - ETA: 0s - loss: 0.0028 - accuracy: 1.00 - ETA: 0s - loss: 0.0027 - accuracy: 1.00 - ETA: 0s - loss: 0.0027 - accuracy: 1.00 - ETA: 0s - loss: 0.0027 - accuracy: 1.00 - ETA: 0s - loss: 0.0026 - accuracy: 1.00 - ETA: 0s - loss: 0.0026 - accuracy: 1.00 - ETA: 0s - loss: 0.0026 - accuracy: 1.00 - ETA: 0s - loss: 0.0025 - accuracy: 1.00 - ETA: 0s - loss: 0.0031 - accuracy: 1.00 - ETA: 0s - loss: 0.0031 - accuracy: 1.00 - 5s 9ms/step - loss: 0.0030 - accuracy: 1.0000 - val_loss: 1.8798e-07 - val_accuracy: 1.0000\n",
      "Epoch 9/50\n"
     ]
    },
    {
     "name": "stdout",
     "output_type": "stream",
     "text": [
      "622/622 [==============================] - ETA: 4s - loss: 1.1921e-07 - accuracy: 1.00 - ETA: 4s - loss: 1.0252e-05 - accuracy: 1.00 - ETA: 4s - loss: 6.2941e-06 - accuracy: 1.00 - ETA: 4s - loss: 8.9190e-06 - accuracy: 1.00 - ETA: 4s - loss: 1.5294e-05 - accuracy: 1.00 - ETA: 4s - loss: 1.2532e-05 - accuracy: 1.00 - ETA: 4s - loss: 1.0609e-05 - accuracy: 1.00 - ETA: 4s - loss: 2.8483e-05 - accuracy: 1.00 - ETA: 4s - loss: 3.4400e-04 - accuracy: 1.00 - ETA: 4s - loss: 3.0850e-04 - accuracy: 1.00 - ETA: 4s - loss: 2.7913e-04 - accuracy: 1.00 - ETA: 4s - loss: 2.5697e-04 - accuracy: 1.00 - ETA: 4s - loss: 4.6016e-04 - accuracy: 1.00 - ETA: 4s - loss: 4.2636e-04 - accuracy: 1.00 - ETA: 4s - loss: 5.5348e-04 - accuracy: 1.00 - ETA: 4s - loss: 7.2074e-04 - accuracy: 1.00 - ETA: 3s - loss: 6.7706e-04 - accuracy: 1.00 - ETA: 3s - loss: 6.4015e-04 - accuracy: 1.00 - ETA: 3s - loss: 6.0554e-04 - accuracy: 1.00 - ETA: 3s - loss: 5.7481e-04 - accuracy: 1.00 - ETA: 3s - loss: 8.1385e-04 - accuracy: 1.00 - ETA: 3s - loss: 7.7610e-04 - accuracy: 1.00 - ETA: 3s - loss: 7.4162e-04 - accuracy: 1.00 - ETA: 3s - loss: 7.1615e-04 - accuracy: 1.00 - ETA: 3s - loss: 7.0995e-04 - accuracy: 1.00 - ETA: 3s - loss: 7.2488e-04 - accuracy: 1.00 - ETA: 3s - loss: 6.9863e-04 - accuracy: 1.00 - ETA: 3s - loss: 6.7324e-04 - accuracy: 1.00 - ETA: 3s - loss: 6.4995e-04 - accuracy: 1.00 - ETA: 3s - loss: 6.6077e-04 - accuracy: 1.00 - ETA: 3s - loss: 6.9182e-04 - accuracy: 1.00 - ETA: 3s - loss: 6.7009e-04 - accuracy: 1.00 - ETA: 2s - loss: 6.4950e-04 - accuracy: 1.00 - ETA: 2s - loss: 6.3058e-04 - accuracy: 1.00 - ETA: 2s - loss: 6.1632e-04 - accuracy: 1.00 - ETA: 2s - loss: 5.9910e-04 - accuracy: 1.00 - ETA: 2s - loss: 5.8274e-04 - accuracy: 1.00 - ETA: 2s - loss: 5.6721e-04 - accuracy: 1.00 - ETA: 2s - loss: 5.5248e-04 - accuracy: 1.00 - ETA: 2s - loss: 5.4085e-04 - accuracy: 1.00 - ETA: 2s - loss: 5.2769e-04 - accuracy: 1.00 - ETA: 2s - loss: 5.1498e-04 - accuracy: 1.00 - ETA: 2s - loss: 5.0943e-04 - accuracy: 1.00 - ETA: 2s - loss: 4.9774e-04 - accuracy: 1.00 - ETA: 2s - loss: 4.8655e-04 - accuracy: 1.00 - ETA: 2s - loss: 4.7679e-04 - accuracy: 1.00 - ETA: 2s - loss: 4.6653e-04 - accuracy: 1.00 - ETA: 1s - loss: 4.5680e-04 - accuracy: 1.00 - ETA: 1s - loss: 4.4826e-04 - accuracy: 1.00 - ETA: 1s - loss: 4.3930e-04 - accuracy: 1.00 - ETA: 1s - loss: 4.3062e-04 - accuracy: 1.00 - ETA: 1s - loss: 4.6223e-04 - accuracy: 1.00 - ETA: 1s - loss: 4.5374e-04 - accuracy: 1.00 - ETA: 1s - loss: 4.4537e-04 - accuracy: 1.00 - ETA: 1s - loss: 4.3721e-04 - accuracy: 1.00 - ETA: 1s - loss: 4.3995e-04 - accuracy: 1.00 - ETA: 1s - loss: 4.3256e-04 - accuracy: 1.00 - ETA: 1s - loss: 4.2514e-04 - accuracy: 1.00 - ETA: 1s - loss: 4.2834e-04 - accuracy: 1.00 - ETA: 1s - loss: 4.3380e-04 - accuracy: 1.00 - ETA: 1s - loss: 4.2663e-04 - accuracy: 1.00 - ETA: 1s - loss: 4.1970e-04 - accuracy: 1.00 - ETA: 1s - loss: 4.1301e-04 - accuracy: 1.00 - ETA: 0s - loss: 0.0027 - accuracy: 0.9980   - ETA: 0s - loss: 0.0026 - accuracy: 0.99 - ETA: 0s - loss: 0.0026 - accuracy: 0.99 - ETA: 0s - loss: 0.0026 - accuracy: 0.99 - ETA: 0s - loss: 0.0025 - accuracy: 0.99 - ETA: 0s - loss: 0.0048 - accuracy: 0.99 - ETA: 0s - loss: 0.0053 - accuracy: 0.99 - ETA: 0s - loss: 0.0052 - accuracy: 0.99 - ETA: 0s - loss: 0.0052 - accuracy: 0.99 - ETA: 0s - loss: 0.0051 - accuracy: 0.99 - ETA: 0s - loss: 0.0050 - accuracy: 0.99 - ETA: 0s - loss: 0.0055 - accuracy: 0.99 - ETA: 0s - loss: 0.0054 - accuracy: 0.99 - ETA: 0s - loss: 0.0072 - accuracy: 0.99 - ETA: 0s - loss: 0.0071 - accuracy: 0.99 - 5s 9ms/step - loss: 0.0071 - accuracy: 0.9952 - val_loss: 2.1397e-08 - val_accuracy: 1.0000\n",
      "Epoch 10/50\n",
      "622/622 [==============================] - ETA: 4s - loss: 1.4901e-07 - accuracy: 1.00 - ETA: 4s - loss: 1.6003e-05 - accuracy: 1.00 - ETA: 4s - loss: 8.1634e-05 - accuracy: 1.00 - ETA: 4s - loss: 6.8603e-05 - accuracy: 1.00 - ETA: 4s - loss: 0.0118 - accuracy: 1.0000   - ETA: 4s - loss: 0.2807 - accuracy: 0.97 - ETA: 4s - loss: 0.2375 - accuracy: 0.98 - ETA: 4s - loss: 0.2058 - accuracy: 0.98 - ETA: 4s - loss: 0.1816 - accuracy: 0.98 - ETA: 4s - loss: 0.1625 - accuracy: 0.98 - ETA: 4s - loss: 0.1471 - accuracy: 0.98 - ETA: 4s - loss: 0.1343 - accuracy: 0.98 - ETA: 4s - loss: 0.1236 - accuracy: 0.99 - ETA: 4s - loss: 0.1908 - accuracy: 0.98 - ETA: 4s - loss: 0.1776 - accuracy: 0.98 - ETA: 4s - loss: 0.1694 - accuracy: 0.98 - ETA: 3s - loss: 0.1601 - accuracy: 0.98 - ETA: 3s - loss: 0.1513 - accuracy: 0.98 - ETA: 3s - loss: 0.1431 - accuracy: 0.98 - ETA: 3s - loss: 0.1358 - accuracy: 0.98 - ETA: 3s - loss: 0.1828 - accuracy: 0.97 - ETA: 3s - loss: 0.1848 - accuracy: 0.97 - ETA: 3s - loss: 0.1766 - accuracy: 0.97 - ETA: 3s - loss: 0.1700 - accuracy: 0.97 - ETA: 3s - loss: 0.1630 - accuracy: 0.97 - ETA: 3s - loss: 0.1567 - accuracy: 0.97 - ETA: 3s - loss: 0.1544 - accuracy: 0.97 - ETA: 3s - loss: 0.1487 - accuracy: 0.97 - ETA: 3s - loss: 0.1436 - accuracy: 0.97 - ETA: 3s - loss: 0.1388 - accuracy: 0.97 - ETA: 3s - loss: 0.1342 - accuracy: 0.97 - ETA: 3s - loss: 0.1307 - accuracy: 0.97 - ETA: 3s - loss: 0.1267 - accuracy: 0.97 - ETA: 2s - loss: 0.1231 - accuracy: 0.97 - ETA: 2s - loss: 0.1197 - accuracy: 0.97 - ETA: 2s - loss: 0.1163 - accuracy: 0.97 - ETA: 2s - loss: 0.1131 - accuracy: 0.97 - ETA: 2s - loss: 0.1101 - accuracy: 0.98 - ETA: 2s - loss: 0.1072 - accuracy: 0.98 - ETA: 2s - loss: 0.1049 - accuracy: 0.98 - ETA: 2s - loss: 0.1023 - accuracy: 0.98 - ETA: 2s - loss: 0.1006 - accuracy: 0.98 - ETA: 2s - loss: 0.0983 - accuracy: 0.98 - ETA: 2s - loss: 0.0974 - accuracy: 0.98 - ETA: 2s - loss: 0.0952 - accuracy: 0.98 - ETA: 2s - loss: 0.0931 - accuracy: 0.98 - ETA: 2s - loss: 0.0937 - accuracy: 0.98 - ETA: 2s - loss: 0.0958 - accuracy: 0.97 - ETA: 1s - loss: 0.0938 - accuracy: 0.97 - ETA: 1s - loss: 0.0919 - accuracy: 0.97 - ETA: 1s - loss: 0.0902 - accuracy: 0.98 - ETA: 1s - loss: 0.0884 - accuracy: 0.98 - ETA: 1s - loss: 0.0868 - accuracy: 0.98 - ETA: 1s - loss: 0.0851 - accuracy: 0.98 - ETA: 1s - loss: 0.0849 - accuracy: 0.98 - ETA: 1s - loss: 0.0834 - accuracy: 0.98 - ETA: 1s - loss: 0.0819 - accuracy: 0.98 - ETA: 1s - loss: 0.0805 - accuracy: 0.98 - ETA: 1s - loss: 0.0791 - accuracy: 0.98 - ETA: 1s - loss: 0.0778 - accuracy: 0.98 - ETA: 1s - loss: 0.0766 - accuracy: 0.98 - ETA: 1s - loss: 0.0753 - accuracy: 0.98 - ETA: 1s - loss: 0.0741 - accuracy: 0.98 - ETA: 0s - loss: 0.0741 - accuracy: 0.98 - ETA: 0s - loss: 0.0729 - accuracy: 0.98 - ETA: 0s - loss: 0.0718 - accuracy: 0.98 - ETA: 0s - loss: 0.0708 - accuracy: 0.98 - ETA: 0s - loss: 0.0697 - accuracy: 0.98 - ETA: 0s - loss: 0.0687 - accuracy: 0.98 - ETA: 0s - loss: 0.0678 - accuracy: 0.98 - ETA: 0s - loss: 0.0668 - accuracy: 0.98 - ETA: 0s - loss: 0.0659 - accuracy: 0.98 - ETA: 0s - loss: 0.0650 - accuracy: 0.98 - ETA: 0s - loss: 0.0641 - accuracy: 0.98 - ETA: 0s - loss: 0.0635 - accuracy: 0.98 - ETA: 0s - loss: 0.0626 - accuracy: 0.98 - ETA: 0s - loss: 0.0618 - accuracy: 0.98 - ETA: 0s - loss: 0.0610 - accuracy: 0.98 - 6s 9ms/step - loss: 0.0608 - accuracy: 0.9871 - val_loss: 1.4519e-08 - val_accuracy: 1.0000\n",
      "Epoch 11/50\n"
     ]
    },
    {
     "name": "stdout",
     "output_type": "stream",
     "text": [
      "622/622 [==============================] - ETA: 4s - loss: 9.5367e-07 - accuracy: 1.00 - ETA: 4s - loss: 2.7616e-06 - accuracy: 1.00 - ETA: 4s - loss: 1.6808e-06 - accuracy: 1.00 - ETA: 4s - loss: 6.3080e-04 - accuracy: 1.00 - ETA: 4s - loss: 5.7383e-04 - accuracy: 1.00 - ETA: 4s - loss: 4.6951e-04 - accuracy: 1.00 - ETA: 4s - loss: 0.0019 - accuracy: 1.0000   - ETA: 4s - loss: 0.0016 - accuracy: 1.00 - ETA: 4s - loss: 0.0015 - accuracy: 1.00 - ETA: 5s - loss: 0.0015 - accuracy: 1.00 - ETA: 5s - loss: 0.0018 - accuracy: 1.00 - ETA: 5s - loss: 0.0017 - accuracy: 1.00 - ETA: 5s - loss: 0.0016 - accuracy: 1.00 - ETA: 5s - loss: 0.0015 - accuracy: 1.00 - ETA: 5s - loss: 0.0014 - accuracy: 1.00 - ETA: 5s - loss: 0.0013 - accuracy: 1.00 - ETA: 5s - loss: 0.0012 - accuracy: 1.00 - ETA: 5s - loss: 0.0011 - accuracy: 1.00 - ETA: 5s - loss: 0.0011 - accuracy: 1.00 - ETA: 5s - loss: 0.0011 - accuracy: 1.00 - ETA: 5s - loss: 0.0010 - accuracy: 1.00 - ETA: 5s - loss: 9.9556e-04 - accuracy: 1.00 - ETA: 4s - loss: 0.0026 - accuracy: 1.0000   - ETA: 5s - loss: 0.0026 - accuracy: 1.00 - ETA: 5s - loss: 0.0025 - accuracy: 1.00 - ETA: 5s - loss: 0.0024 - accuracy: 1.00 - ETA: 5s - loss: 0.0024 - accuracy: 1.00 - ETA: 5s - loss: 0.0023 - accuracy: 1.00 - ETA: 4s - loss: 0.0023 - accuracy: 1.00 - ETA: 4s - loss: 0.0022 - accuracy: 1.00 - ETA: 4s - loss: 0.0021 - accuracy: 1.00 - ETA: 4s - loss: 0.0021 - accuracy: 1.00 - ETA: 4s - loss: 0.0020 - accuracy: 1.00 - ETA: 4s - loss: 0.0019 - accuracy: 1.00 - ETA: 4s - loss: 0.0018 - accuracy: 1.00 - ETA: 4s - loss: 0.0018 - accuracy: 1.00 - ETA: 4s - loss: 0.0017 - accuracy: 1.00 - ETA: 3s - loss: 0.0018 - accuracy: 1.00 - ETA: 3s - loss: 0.0017 - accuracy: 1.00 - ETA: 3s - loss: 0.0017 - accuracy: 1.00 - ETA: 3s - loss: 0.0016 - accuracy: 1.00 - ETA: 3s - loss: 0.0016 - accuracy: 1.00 - ETA: 3s - loss: 0.0015 - accuracy: 1.00 - ETA: 3s - loss: 0.0015 - accuracy: 1.00 - ETA: 3s - loss: 0.0014 - accuracy: 1.00 - ETA: 3s - loss: 0.0014 - accuracy: 1.00 - ETA: 3s - loss: 0.0014 - accuracy: 1.00 - ETA: 2s - loss: 0.0013 - accuracy: 1.00 - ETA: 2s - loss: 0.0013 - accuracy: 1.00 - ETA: 2s - loss: 0.0013 - accuracy: 1.00 - ETA: 2s - loss: 0.0012 - accuracy: 1.00 - ETA: 2s - loss: 0.0012 - accuracy: 1.00 - ETA: 2s - loss: 0.0012 - accuracy: 1.00 - ETA: 2s - loss: 0.0012 - accuracy: 1.00 - ETA: 2s - loss: 0.0011 - accuracy: 1.00 - ETA: 2s - loss: 0.0011 - accuracy: 1.00 - ETA: 2s - loss: 0.0011 - accuracy: 1.00 - ETA: 2s - loss: 0.0014 - accuracy: 1.00 - ETA: 2s - loss: 0.0014 - accuracy: 1.00 - ETA: 1s - loss: 0.0014 - accuracy: 1.00 - ETA: 1s - loss: 0.0013 - accuracy: 1.00 - ETA: 1s - loss: 0.0013 - accuracy: 1.00 - ETA: 1s - loss: 0.0013 - accuracy: 1.00 - ETA: 1s - loss: 0.0013 - accuracy: 1.00 - ETA: 1s - loss: 0.0012 - accuracy: 1.00 - ETA: 1s - loss: 0.0012 - accuracy: 1.00 - ETA: 1s - loss: 0.0012 - accuracy: 1.00 - ETA: 1s - loss: 0.0012 - accuracy: 1.00 - ETA: 1s - loss: 0.0012 - accuracy: 1.00 - ETA: 1s - loss: 0.0011 - accuracy: 1.00 - ETA: 1s - loss: 0.0011 - accuracy: 1.00 - ETA: 1s - loss: 0.0011 - accuracy: 1.00 - ETA: 1s - loss: 0.0011 - accuracy: 1.00 - ETA: 0s - loss: 0.0011 - accuracy: 1.00 - ETA: 0s - loss: 0.0011 - accuracy: 1.00 - ETA: 0s - loss: 0.0011 - accuracy: 1.00 - ETA: 0s - loss: 0.0011 - accuracy: 1.00 - ETA: 0s - loss: 0.0010 - accuracy: 1.00 - ETA: 0s - loss: 0.0010 - accuracy: 1.00 - ETA: 0s - loss: 0.0010 - accuracy: 1.00 - ETA: 0s - loss: 0.0010 - accuracy: 1.00 - ETA: 0s - loss: 9.9176e-04 - accuracy: 1.00 - ETA: 0s - loss: 9.7827e-04 - accuracy: 1.00 - ETA: 0s - loss: 9.6525e-04 - accuracy: 1.00 - ETA: 0s - loss: 9.5247e-04 - accuracy: 1.00 - ETA: 0s - loss: 9.4002e-04 - accuracy: 1.00 - ETA: 0s - loss: 9.2789e-04 - accuracy: 1.00 - 6s 10ms/step - loss: 9.2491e-04 - accuracy: 1.0000 - val_loss: 1.5283e-09 - val_accuracy: 1.0000\n",
      "Epoch 12/50\n",
      "622/622 [==============================] - ETA: 4s - loss: 0.0000e+00 - accuracy: 1.00 - ETA: 5s - loss: 9.9341e-09 - accuracy: 1.00 - ETA: 5s - loss: 6.5565e-07 - accuracy: 1.00 - ETA: 4s - loss: 4.7258e-07 - accuracy: 1.00 - ETA: 4s - loss: 3.7418e-07 - accuracy: 1.00 - ETA: 4s - loss: 2.9016e-06 - accuracy: 1.00 - ETA: 4s - loss: 2.5698e-06 - accuracy: 1.00 - ETA: 4s - loss: 2.2292e-06 - accuracy: 1.00 - ETA: 4s - loss: 5.1940e-06 - accuracy: 1.00 - ETA: 4s - loss: 4.6519e-06 - accuracy: 1.00 - ETA: 4s - loss: 4.2259e-06 - accuracy: 1.00 - ETA: 4s - loss: 3.9012e-06 - accuracy: 1.00 - ETA: 4s - loss: 4.5332e-06 - accuracy: 1.00 - ETA: 4s - loss: 4.1974e-06 - accuracy: 1.00 - ETA: 4s - loss: 3.9090e-06 - accuracy: 1.00 - ETA: 4s - loss: 3.6577e-06 - accuracy: 1.00 - ETA: 4s - loss: 3.4361e-06 - accuracy: 1.00 - ETA: 4s - loss: 3.2542e-06 - accuracy: 1.00 - ETA: 4s - loss: 1.2049e-05 - accuracy: 1.00 - ETA: 4s - loss: 1.1433e-05 - accuracy: 1.00 - ETA: 4s - loss: 2.3842e-05 - accuracy: 1.00 - ETA: 3s - loss: 2.3175e-05 - accuracy: 1.00 - ETA: 3s - loss: 2.2213e-05 - accuracy: 1.00 - ETA: 3s - loss: 2.1412e-05 - accuracy: 1.00 - ETA: 3s - loss: 4.3890e-05 - accuracy: 1.00 - ETA: 3s - loss: 4.2723e-05 - accuracy: 1.00 - ETA: 3s - loss: 4.1111e-05 - accuracy: 1.00 - ETA: 3s - loss: 3.9911e-05 - accuracy: 1.00 - ETA: 3s - loss: 3.8547e-05 - accuracy: 1.00 - ETA: 3s - loss: 3.7678e-05 - accuracy: 1.00 - ETA: 3s - loss: 3.6446e-05 - accuracy: 1.00 - ETA: 3s - loss: 3.8045e-05 - accuracy: 1.00 - ETA: 3s - loss: 3.6888e-05 - accuracy: 1.00 - ETA: 3s - loss: 3.5808e-05 - accuracy: 1.00 - ETA: 3s - loss: 3.5293e-05 - accuracy: 1.00 - ETA: 2s - loss: 3.4320e-05 - accuracy: 1.00 - ETA: 2s - loss: 3.3383e-05 - accuracy: 1.00 - ETA: 2s - loss: 3.2493e-05 - accuracy: 1.00 - ETA: 2s - loss: 3.1661e-05 - accuracy: 1.00 - ETA: 2s - loss: 3.1630e-05 - accuracy: 1.00 - ETA: 2s - loss: 3.2932e-05 - accuracy: 1.00 - ETA: 2s - loss: 3.2196e-05 - accuracy: 1.00 - ETA: 2s - loss: 3.1438e-05 - accuracy: 1.00 - ETA: 2s - loss: 3.1041e-05 - accuracy: 1.00 - ETA: 2s - loss: 3.0349e-05 - accuracy: 1.00 - ETA: 2s - loss: 4.8240e-05 - accuracy: 1.00 - ETA: 2s - loss: 4.7203e-05 - accuracy: 1.00 - ETA: 2s - loss: 7.8775e-05 - accuracy: 1.00 - ETA: 2s - loss: 7.7152e-05 - accuracy: 1.00 - ETA: 2s - loss: 7.5684e-05 - accuracy: 1.00 - ETA: 1s - loss: 7.4187e-05 - accuracy: 1.00 - ETA: 1s - loss: 7.6821e-05 - accuracy: 1.00 - ETA: 1s - loss: 7.5501e-05 - accuracy: 1.00 - ETA: 1s - loss: 7.4090e-05 - accuracy: 1.00 - ETA: 1s - loss: 7.2731e-05 - accuracy: 1.00 - ETA: 1s - loss: 1.8084e-04 - accuracy: 1.00 - ETA: 1s - loss: 1.8875e-04 - accuracy: 1.00 - ETA: 1s - loss: 1.8886e-04 - accuracy: 1.00 - ETA: 1s - loss: 1.8563e-04 - accuracy: 1.00 - ETA: 1s - loss: 1.8286e-04 - accuracy: 1.00 - ETA: 1s - loss: 1.7985e-04 - accuracy: 1.00 - ETA: 1s - loss: 1.7700e-04 - accuracy: 1.00 - ETA: 1s - loss: 1.7420e-04 - accuracy: 1.00 - ETA: 1s - loss: 1.7164e-04 - accuracy: 1.00 - ETA: 0s - loss: 1.6897e-04 - accuracy: 1.00 - ETA: 0s - loss: 1.6639e-04 - accuracy: 1.00 - ETA: 0s - loss: 1.6392e-04 - accuracy: 1.00 - ETA: 0s - loss: 1.6151e-04 - accuracy: 1.00 - ETA: 0s - loss: 1.5916e-04 - accuracy: 1.00 - ETA: 0s - loss: 1.5687e-04 - accuracy: 1.00 - ETA: 0s - loss: 1.5472e-04 - accuracy: 1.00 - ETA: 0s - loss: 1.5256e-04 - accuracy: 1.00 - ETA: 0s - loss: 1.5045e-04 - accuracy: 1.00 - ETA: 0s - loss: 1.6485e-04 - accuracy: 1.00 - ETA: 0s - loss: 1.7648e-04 - accuracy: 1.00 - ETA: 0s - loss: 1.7415e-04 - accuracy: 1.00 - ETA: 0s - loss: 1.7300e-04 - accuracy: 1.00 - ETA: 0s - loss: 1.7187e-04 - accuracy: 1.00 - ETA: 0s - loss: 1.7076e-04 - accuracy: 1.00 - 6s 9ms/step - loss: 1.6913e-04 - accuracy: 1.0000 - val_loss: 0.0000e+00 - val_accuracy: 1.0000\n",
      "Epoch 13/50\n"
     ]
    },
    {
     "name": "stdout",
     "output_type": "stream",
     "text": [
      "622/622 [==============================] - ETA: 4s - loss: 2.7882e-04 - accuracy: 1.00 - ETA: 4s - loss: 1.1841e-04 - accuracy: 1.00 - ETA: 4s - loss: 9.0866e-05 - accuracy: 1.00 - ETA: 4s - loss: 6.4904e-05 - accuracy: 1.00 - ETA: 4s - loss: 5.0481e-05 - accuracy: 1.00 - ETA: 4s - loss: 4.1441e-05 - accuracy: 1.00 - ETA: 4s - loss: 4.8856e-05 - accuracy: 1.00 - ETA: 4s - loss: 4.2344e-05 - accuracy: 1.00 - ETA: 4s - loss: 3.8460e-05 - accuracy: 1.00 - ETA: 4s - loss: 3.4551e-05 - accuracy: 1.00 - ETA: 4s - loss: 6.9922e-05 - accuracy: 1.00 - ETA: 4s - loss: 6.3867e-05 - accuracy: 1.00 - ETA: 4s - loss: 5.8921e-05 - accuracy: 1.00 - ETA: 4s - loss: 5.4617e-05 - accuracy: 1.00 - ETA: 4s - loss: 7.2705e-05 - accuracy: 1.00 - ETA: 4s - loss: 6.8019e-05 - accuracy: 1.00 - ETA: 4s - loss: 6.3896e-05 - accuracy: 1.00 - ETA: 4s - loss: 6.0245e-05 - accuracy: 1.00 - ETA: 4s - loss: 5.7347e-05 - accuracy: 1.00 - ETA: 4s - loss: 5.5025e-05 - accuracy: 1.00 - ETA: 3s - loss: 5.3133e-05 - accuracy: 1.00 - ETA: 3s - loss: 5.0661e-05 - accuracy: 1.00 - ETA: 3s - loss: 4.8412e-05 - accuracy: 1.00 - ETA: 3s - loss: 4.7265e-05 - accuracy: 1.00 - ETA: 3s - loss: 4.5517e-05 - accuracy: 1.00 - ETA: 3s - loss: 4.3732e-05 - accuracy: 1.00 - ETA: 3s - loss: 4.2083e-05 - accuracy: 1.00 - ETA: 3s - loss: 4.3900e-05 - accuracy: 1.00 - ETA: 3s - loss: 4.2360e-05 - accuracy: 1.00 - ETA: 3s - loss: 4.0999e-05 - accuracy: 1.00 - ETA: 3s - loss: 3.9656e-05 - accuracy: 1.00 - ETA: 3s - loss: 3.8431e-05 - accuracy: 1.00 - ETA: 3s - loss: 3.7273e-05 - accuracy: 1.00 - ETA: 3s - loss: 3.7114e-05 - accuracy: 1.00 - ETA: 3s - loss: 3.6675e-05 - accuracy: 1.00 - ETA: 2s - loss: 3.5628e-05 - accuracy: 1.00 - ETA: 2s - loss: 3.5126e-05 - accuracy: 1.00 - ETA: 2s - loss: 3.4164e-05 - accuracy: 1.00 - ETA: 2s - loss: 3.3254e-05 - accuracy: 1.00 - ETA: 2s - loss: 3.2391e-05 - accuracy: 1.00 - ETA: 2s - loss: 3.1573e-05 - accuracy: 1.00 - ETA: 2s - loss: 3.0793e-05 - accuracy: 1.00 - ETA: 2s - loss: 3.0051e-05 - accuracy: 1.00 - ETA: 2s - loss: 2.9572e-05 - accuracy: 1.00 - ETA: 2s - loss: 2.8924e-05 - accuracy: 1.00 - ETA: 2s - loss: 5.3448e-05 - accuracy: 1.00 - ETA: 2s - loss: 5.2594e-05 - accuracy: 1.00 - ETA: 2s - loss: 5.2048e-05 - accuracy: 1.00 - ETA: 2s - loss: 5.0954e-05 - accuracy: 1.00 - ETA: 2s - loss: 5.0309e-05 - accuracy: 1.00 - ETA: 2s - loss: 4.9293e-05 - accuracy: 1.00 - ETA: 1s - loss: 4.8342e-05 - accuracy: 1.00 - ETA: 1s - loss: 4.7868e-05 - accuracy: 1.00 - ETA: 1s - loss: 4.7096e-05 - accuracy: 1.00 - ETA: 1s - loss: 4.6229e-05 - accuracy: 1.00 - ETA: 1s - loss: 4.5493e-05 - accuracy: 1.00 - ETA: 1s - loss: 4.4666e-05 - accuracy: 1.00 - ETA: 1s - loss: 4.4051e-05 - accuracy: 1.00 - ETA: 1s - loss: 4.3299e-05 - accuracy: 1.00 - ETA: 1s - loss: 4.6225e-05 - accuracy: 1.00 - ETA: 1s - loss: 4.5453e-05 - accuracy: 1.00 - ETA: 1s - loss: 4.6433e-05 - accuracy: 1.00 - ETA: 1s - loss: 4.7086e-05 - accuracy: 1.00 - ETA: 1s - loss: 4.6327e-05 - accuracy: 1.00 - ETA: 1s - loss: 4.5872e-05 - accuracy: 1.00 - ETA: 0s - loss: 4.6565e-05 - accuracy: 1.00 - ETA: 0s - loss: 4.5849e-05 - accuracy: 1.00 - ETA: 0s - loss: 4.5159e-05 - accuracy: 1.00 - ETA: 0s - loss: 4.4793e-05 - accuracy: 1.00 - ETA: 0s - loss: 4.4140e-05 - accuracy: 1.00 - ETA: 0s - loss: 4.3501e-05 - accuracy: 1.00 - ETA: 0s - loss: 8.6380e-05 - accuracy: 1.00 - ETA: 0s - loss: 8.5196e-05 - accuracy: 1.00 - ETA: 0s - loss: 8.4013e-05 - accuracy: 1.00 - ETA: 0s - loss: 8.2862e-05 - accuracy: 1.00 - ETA: 0s - loss: 8.1743e-05 - accuracy: 1.00 - ETA: 0s - loss: 8.0815e-05 - accuracy: 1.00 - ETA: 0s - loss: 7.9779e-05 - accuracy: 1.00 - ETA: 0s - loss: 7.8743e-05 - accuracy: 1.00 - 6s 9ms/step - loss: 7.7991e-05 - accuracy: 1.0000 - val_loss: 0.0000e+00 - val_accuracy: 1.0000\n",
      "Epoch 14/50\n",
      "622/622 [==============================] - ETA: 4s - loss: 0.0000e+00 - accuracy: 1.00 - ETA: 4s - loss: 3.4769e-07 - accuracy: 1.00 - ETA: 4s - loss: 2.3842e-07 - accuracy: 1.00 - ETA: 4s - loss: 1.7456e-07 - accuracy: 1.00 - ETA: 4s - loss: 1.3577e-07 - accuracy: 1.00 - ETA: 4s - loss: 1.6457e-05 - accuracy: 1.00 - ETA: 4s - loss: 1.3957e-05 - accuracy: 1.00 - ETA: 4s - loss: 1.7984e-05 - accuracy: 1.00 - ETA: 4s - loss: 1.5875e-05 - accuracy: 1.00 - ETA: 4s - loss: 7.3557e-05 - accuracy: 1.00 - ETA: 4s - loss: 6.6552e-05 - accuracy: 1.00 - ETA: 4s - loss: 6.5717e-05 - accuracy: 1.00 - ETA: 4s - loss: 6.0460e-05 - accuracy: 1.00 - ETA: 4s - loss: 5.5981e-05 - accuracy: 1.00 - ETA: 4s - loss: 6.5227e-05 - accuracy: 1.00 - ETA: 4s - loss: 6.1295e-05 - accuracy: 1.00 - ETA: 4s - loss: 5.7580e-05 - accuracy: 1.00 - ETA: 4s - loss: 6.2112e-05 - accuracy: 1.00 - ETA: 4s - loss: 5.8765e-05 - accuracy: 1.00 - ETA: 3s - loss: 5.5752e-05 - accuracy: 1.00 - ETA: 3s - loss: 5.3035e-05 - accuracy: 1.00 - ETA: 3s - loss: 6.1000e-05 - accuracy: 1.00 - ETA: 3s - loss: 5.8290e-05 - accuracy: 1.00 - ETA: 3s - loss: 5.8631e-05 - accuracy: 1.00 - ETA: 3s - loss: 5.6247e-05 - accuracy: 1.00 - ETA: 3s - loss: 5.4303e-05 - accuracy: 1.00 - ETA: 3s - loss: 5.2390e-05 - accuracy: 1.00 - ETA: 3s - loss: 5.0553e-05 - accuracy: 1.00 - ETA: 3s - loss: 4.8779e-05 - accuracy: 1.00 - ETA: 3s - loss: 4.7126e-05 - accuracy: 1.00 - ETA: 3s - loss: 4.5596e-05 - accuracy: 1.00 - ETA: 3s - loss: 4.4317e-05 - accuracy: 1.00 - ETA: 3s - loss: 4.2954e-05 - accuracy: 1.00 - ETA: 2s - loss: 4.1673e-05 - accuracy: 1.00 - ETA: 2s - loss: 4.0472e-05 - accuracy: 1.00 - ETA: 2s - loss: 3.9364e-05 - accuracy: 1.00 - ETA: 2s - loss: 3.8327e-05 - accuracy: 1.00 - ETA: 2s - loss: 3.7332e-05 - accuracy: 1.00 - ETA: 2s - loss: 3.6363e-05 - accuracy: 1.00 - ETA: 2s - loss: 3.5907e-05 - accuracy: 1.00 - ETA: 2s - loss: 3.5505e-05 - accuracy: 1.00 - ETA: 2s - loss: 3.5061e-05 - accuracy: 1.00 - ETA: 2s - loss: 3.4209e-05 - accuracy: 1.00 - ETA: 2s - loss: 3.3616e-05 - accuracy: 1.00 - ETA: 2s - loss: 3.2834e-05 - accuracy: 1.00 - ETA: 2s - loss: 3.6457e-05 - accuracy: 1.00 - ETA: 2s - loss: 3.5647e-05 - accuracy: 1.00 - ETA: 2s - loss: 3.4879e-05 - accuracy: 1.00 - ETA: 2s - loss: 3.4137e-05 - accuracy: 1.00 - ETA: 2s - loss: 3.3432e-05 - accuracy: 1.00 - ETA: 2s - loss: 3.2884e-05 - accuracy: 1.00 - ETA: 1s - loss: 3.2480e-05 - accuracy: 1.00 - ETA: 1s - loss: 3.2838e-05 - accuracy: 1.00 - ETA: 1s - loss: 3.2207e-05 - accuracy: 1.00 - ETA: 1s - loss: 3.1600e-05 - accuracy: 1.00 - ETA: 1s - loss: 3.1015e-05 - accuracy: 1.00 - ETA: 1s - loss: 3.0451e-05 - accuracy: 1.00 - ETA: 1s - loss: 2.9908e-05 - accuracy: 1.00 - ETA: 1s - loss: 2.9422e-05 - accuracy: 1.00 - ETA: 1s - loss: 2.8967e-05 - accuracy: 1.00 - ETA: 1s - loss: 2.8476e-05 - accuracy: 1.00 - ETA: 1s - loss: 2.8051e-05 - accuracy: 1.00 - ETA: 1s - loss: 2.8105e-05 - accuracy: 1.00 - ETA: 1s - loss: 3.6836e-05 - accuracy: 1.00 - ETA: 1s - loss: 3.6252e-05 - accuracy: 1.00 - ETA: 0s - loss: 3.5686e-05 - accuracy: 1.00 - ETA: 0s - loss: 4.2157e-05 - accuracy: 1.00 - ETA: 0s - loss: 4.3192e-05 - accuracy: 1.00 - ETA: 0s - loss: 4.2576e-05 - accuracy: 1.00 - ETA: 0s - loss: 4.1949e-05 - accuracy: 1.00 - ETA: 0s - loss: 4.1341e-05 - accuracy: 1.00 - ETA: 0s - loss: 4.0751e-05 - accuracy: 1.00 - ETA: 0s - loss: 4.0177e-05 - accuracy: 1.00 - ETA: 0s - loss: 3.9620e-05 - accuracy: 1.00 - ETA: 0s - loss: 3.9100e-05 - accuracy: 1.00 - ETA: 0s - loss: 3.8572e-05 - accuracy: 1.00 - ETA: 0s - loss: 3.8076e-05 - accuracy: 1.00 - ETA: 0s - loss: 3.7741e-05 - accuracy: 1.00 - ETA: 0s - loss: 3.7954e-05 - accuracy: 1.00 - 6s 9ms/step - loss: 4.2489e-05 - accuracy: 1.0000 - val_loss: 0.0000e+00 - val_accuracy: 1.0000\n",
      "Epoch 15/50\n"
     ]
    },
    {
     "name": "stdout",
     "output_type": "stream",
     "text": [
      "622/622 [==============================] - ETA: 4s - loss: 0.0000e+00 - accuracy: 1.00 - ETA: 4s - loss: 8.9407e-08 - accuracy: 1.00 - ETA: 5s - loss: 5.9605e-08 - accuracy: 1.00 - ETA: 5s - loss: 1.4901e-07 - accuracy: 1.00 - ETA: 4s - loss: 1.1590e-07 - accuracy: 1.00 - ETA: 4s - loss: 3.0912e-06 - accuracy: 1.00 - ETA: 4s - loss: 2.6179e-06 - accuracy: 1.00 - ETA: 4s - loss: 3.0755e-06 - accuracy: 1.00 - ETA: 4s - loss: 3.2361e-06 - accuracy: 1.00 - ETA: 4s - loss: 2.8954e-06 - accuracy: 1.00 - ETA: 4s - loss: 2.6608e-06 - accuracy: 1.00 - ETA: 4s - loss: 2.6795e-06 - accuracy: 1.00 - ETA: 4s - loss: 2.4652e-06 - accuracy: 1.00 - ETA: 4s - loss: 2.2837e-06 - accuracy: 1.00 - ETA: 4s - loss: 2.1262e-06 - accuracy: 1.00 - ETA: 4s - loss: 5.2599e-06 - accuracy: 1.00 - ETA: 4s - loss: 4.9420e-06 - accuracy: 1.00 - ETA: 4s - loss: 4.6630e-06 - accuracy: 1.00 - ETA: 4s - loss: 4.4118e-06 - accuracy: 1.00 - ETA: 3s - loss: 4.1870e-06 - accuracy: 1.00 - ETA: 3s - loss: 1.9130e-05 - accuracy: 1.00 - ETA: 3s - loss: 1.8256e-05 - accuracy: 1.00 - ETA: 3s - loss: 1.7445e-05 - accuracy: 1.00 - ETA: 3s - loss: 1.6724e-05 - accuracy: 1.00 - ETA: 3s - loss: 1.6047e-05 - accuracy: 1.00 - ETA: 3s - loss: 1.5423e-05 - accuracy: 1.00 - ETA: 3s - loss: 1.4863e-05 - accuracy: 1.00 - ETA: 3s - loss: 1.6458e-05 - accuracy: 1.00 - ETA: 3s - loss: 1.5900e-05 - accuracy: 1.00 - ETA: 3s - loss: 1.6690e-05 - accuracy: 1.00 - ETA: 3s - loss: 1.6143e-05 - accuracy: 1.00 - ETA: 3s - loss: 1.5633e-05 - accuracy: 1.00 - ETA: 3s - loss: 1.6168e-04 - accuracy: 1.00 - ETA: 2s - loss: 1.5686e-04 - accuracy: 1.00 - ETA: 2s - loss: 1.5231e-04 - accuracy: 1.00 - ETA: 2s - loss: 1.4802e-04 - accuracy: 1.00 - ETA: 2s - loss: 1.4425e-04 - accuracy: 1.00 - ETA: 2s - loss: 1.4064e-04 - accuracy: 1.00 - ETA: 2s - loss: 1.3699e-04 - accuracy: 1.00 - ETA: 2s - loss: 1.3369e-04 - accuracy: 1.00 - ETA: 2s - loss: 1.3039e-04 - accuracy: 1.00 - ETA: 2s - loss: 1.2727e-04 - accuracy: 1.00 - ETA: 2s - loss: 1.2449e-04 - accuracy: 1.00 - ETA: 2s - loss: 1.2229e-04 - accuracy: 1.00 - ETA: 2s - loss: 1.3781e-04 - accuracy: 1.00 - ETA: 2s - loss: 1.3479e-04 - accuracy: 1.00 - ETA: 2s - loss: 1.3190e-04 - accuracy: 1.00 - ETA: 2s - loss: 1.2912e-04 - accuracy: 1.00 - ETA: 2s - loss: 1.2650e-04 - accuracy: 1.00 - ETA: 1s - loss: 1.7343e-04 - accuracy: 1.00 - ETA: 1s - loss: 1.7000e-04 - accuracy: 1.00 - ETA: 1s - loss: 1.6670e-04 - accuracy: 1.00 - ETA: 1s - loss: 1.6354e-04 - accuracy: 1.00 - ETA: 1s - loss: 1.6048e-04 - accuracy: 1.00 - ETA: 1s - loss: 1.5754e-04 - accuracy: 1.00 - ETA: 1s - loss: 1.5484e-04 - accuracy: 1.00 - ETA: 1s - loss: 1.5210e-04 - accuracy: 1.00 - ETA: 1s - loss: 1.5910e-04 - accuracy: 1.00 - ETA: 1s - loss: 1.5638e-04 - accuracy: 1.00 - ETA: 1s - loss: 1.5375e-04 - accuracy: 1.00 - ETA: 1s - loss: 1.5121e-04 - accuracy: 1.00 - ETA: 1s - loss: 1.5041e-04 - accuracy: 1.00 - ETA: 1s - loss: 1.4800e-04 - accuracy: 1.00 - ETA: 1s - loss: 1.4568e-04 - accuracy: 1.00 - ETA: 0s - loss: 1.4342e-04 - accuracy: 1.00 - ETA: 0s - loss: 1.4123e-04 - accuracy: 1.00 - ETA: 0s - loss: 1.3911e-04 - accuracy: 1.00 - ETA: 0s - loss: 1.3705e-04 - accuracy: 1.00 - ETA: 0s - loss: 1.3506e-04 - accuracy: 1.00 - ETA: 0s - loss: 1.3337e-04 - accuracy: 1.00 - ETA: 0s - loss: 1.3208e-04 - accuracy: 1.00 - ETA: 0s - loss: 1.3023e-04 - accuracy: 1.00 - ETA: 0s - loss: 1.2844e-04 - accuracy: 1.00 - ETA: 0s - loss: 1.8333e-04 - accuracy: 1.00 - ETA: 0s - loss: 1.8087e-04 - accuracy: 1.00 - ETA: 0s - loss: 1.7848e-04 - accuracy: 1.00 - ETA: 0s - loss: 2.3940e-04 - accuracy: 1.00 - ETA: 0s - loss: 2.3632e-04 - accuracy: 1.00 - 6s 10ms/step - loss: 2.3680e-04 - accuracy: 1.0000 - val_loss: 0.0000e+00 - val_accuracy: 1.0000\n",
      "Epoch 16/50\n",
      "622/622 [==============================] - ETA: 5s - loss: 1.6093e-05 - accuracy: 1.00 - ETA: 5s - loss: 5.8808e-06 - accuracy: 1.00 - ETA: 5s - loss: 3.5285e-06 - accuracy: 1.00 - ETA: 5s - loss: 4.1722e-06 - accuracy: 1.00 - ETA: 5s - loss: 3.2451e-06 - accuracy: 1.00 - ETA: 5s - loss: 2.8339e-06 - accuracy: 1.00 - ETA: 5s - loss: 2.3979e-06 - accuracy: 1.00 - ETA: 5s - loss: 0.0089 - accuracy: 1.0000   - ETA: 5s - loss: 0.0079 - accuracy: 1.00 - ETA: 5s - loss: 0.0070 - accuracy: 1.00 - ETA: 5s - loss: 0.0064 - accuracy: 1.00 - ETA: 5s - loss: 0.0058 - accuracy: 1.00 - ETA: 5s - loss: 0.0053 - accuracy: 1.00 - ETA: 5s - loss: 0.0050 - accuracy: 1.00 - ETA: 5s - loss: 0.0046 - accuracy: 1.00 - ETA: 4s - loss: 0.0043 - accuracy: 1.00 - ETA: 4s - loss: 0.0041 - accuracy: 1.00 - ETA: 4s - loss: 0.0038 - accuracy: 1.00 - ETA: 4s - loss: 0.0036 - accuracy: 1.00 - ETA: 4s - loss: 0.0034 - accuracy: 1.00 - ETA: 4s - loss: 0.0033 - accuracy: 1.00 - ETA: 4s - loss: 0.0031 - accuracy: 1.00 - ETA: 4s - loss: 0.0030 - accuracy: 1.00 - ETA: 4s - loss: 0.0029 - accuracy: 1.00 - ETA: 4s - loss: 0.0027 - accuracy: 1.00 - ETA: 4s - loss: 0.0026 - accuracy: 1.00 - ETA: 4s - loss: 0.0025 - accuracy: 1.00 - ETA: 3s - loss: 0.0024 - accuracy: 1.00 - ETA: 3s - loss: 0.0024 - accuracy: 1.00 - ETA: 3s - loss: 0.0023 - accuracy: 1.00 - ETA: 3s - loss: 0.0022 - accuracy: 1.00 - ETA: 3s - loss: 0.0021 - accuracy: 1.00 - ETA: 3s - loss: 0.0021 - accuracy: 1.00 - ETA: 3s - loss: 0.0020 - accuracy: 1.00 - ETA: 3s - loss: 0.0019 - accuracy: 1.00 - ETA: 3s - loss: 0.0019 - accuracy: 1.00 - ETA: 3s - loss: 0.0018 - accuracy: 1.00 - ETA: 3s - loss: 0.0018 - accuracy: 1.00 - ETA: 3s - loss: 0.0018 - accuracy: 1.00 - ETA: 3s - loss: 0.0017 - accuracy: 1.00 - ETA: 2s - loss: 0.0017 - accuracy: 1.00 - ETA: 2s - loss: 0.0016 - accuracy: 1.00 - ETA: 2s - loss: 0.0016 - accuracy: 1.00 - ETA: 2s - loss: 0.0016 - accuracy: 1.00 - ETA: 2s - loss: 0.0015 - accuracy: 1.00 - ETA: 2s - loss: 0.0015 - accuracy: 1.00 - ETA: 2s - loss: 0.0015 - accuracy: 1.00 - ETA: 2s - loss: 0.0014 - accuracy: 1.00 - ETA: 2s - loss: 0.0014 - accuracy: 1.00 - ETA: 2s - loss: 0.0014 - accuracy: 1.00 - ETA: 2s - loss: 0.0013 - accuracy: 1.00 - ETA: 2s - loss: 0.0013 - accuracy: 1.00 - ETA: 1s - loss: 0.0086 - accuracy: 0.99 - ETA: 1s - loss: 0.0085 - accuracy: 0.99 - ETA: 1s - loss: 0.0083 - accuracy: 0.99 - ETA: 1s - loss: 0.0082 - accuracy: 0.99 - ETA: 1s - loss: 0.0081 - accuracy: 0.99 - ETA: 1s - loss: 0.0195 - accuracy: 0.99 - ETA: 1s - loss: 0.0408 - accuracy: 0.99 - ETA: 1s - loss: 0.0401 - accuracy: 0.99 - ETA: 1s - loss: 0.0395 - accuracy: 0.99 - ETA: 1s - loss: 0.0590 - accuracy: 0.98 - ETA: 1s - loss: 0.0640 - accuracy: 0.98 - ETA: 1s - loss: 0.0642 - accuracy: 0.98 - ETA: 1s - loss: 0.0633 - accuracy: 0.98 - ETA: 0s - loss: 0.0699 - accuracy: 0.98 - ETA: 0s - loss: 0.0881 - accuracy: 0.98 - ETA: 0s - loss: 0.0896 - accuracy: 0.97 - ETA: 0s - loss: 0.1177 - accuracy: 0.97 - ETA: 0s - loss: 0.1160 - accuracy: 0.97 - ETA: 0s - loss: 0.1144 - accuracy: 0.97 - ETA: 0s - loss: 0.1128 - accuracy: 0.97 - ETA: 0s - loss: 0.1141 - accuracy: 0.97 - ETA: 0s - loss: 0.1125 - accuracy: 0.97 - ETA: 0s - loss: 0.1154 - accuracy: 0.97 - ETA: 0s - loss: 0.1178 - accuracy: 0.97 - ETA: 0s - loss: 0.1163 - accuracy: 0.97 - ETA: 0s - loss: 0.1148 - accuracy: 0.97 - 6s 10ms/step - loss: 0.1144 - accuracy: 0.9759 - val_loss: 3.7672e-07 - val_accuracy: 1.0000\n",
      "Epoch 17/50\n"
     ]
    },
    {
     "name": "stdout",
     "output_type": "stream",
     "text": [
      "622/622 [==============================] - ETA: 6s - loss: 2.5542e-04 - accuracy: 1.00 - ETA: 6s - loss: 1.1589e-04 - accuracy: 1.00 - ETA: 6s - loss: 6.9535e-05 - accuracy: 1.00 - ETA: 5s - loss: 0.0163 - accuracy: 1.0000   - ETA: 5s - loss: 0.0127 - accuracy: 1.00 - ETA: 5s - loss: 0.0104 - accuracy: 1.00 - ETA: 5s - loss: 0.0088 - accuracy: 1.00 - ETA: 5s - loss: 0.0079 - accuracy: 1.00 - ETA: 5s - loss: 0.0070 - accuracy: 1.00 - ETA: 5s - loss: 0.0088 - accuracy: 1.00 - ETA: 5s - loss: 0.0080 - accuracy: 1.00 - ETA: 5s - loss: 0.0073 - accuracy: 1.00 - ETA: 5s - loss: 0.0127 - accuracy: 1.00 - ETA: 5s - loss: 0.0122 - accuracy: 1.00 - ETA: 5s - loss: 0.0114 - accuracy: 1.00 - ETA: 5s - loss: 0.0106 - accuracy: 1.00 - ETA: 5s - loss: 0.0100 - accuracy: 1.00 - ETA: 4s - loss: 0.0094 - accuracy: 1.00 - ETA: 4s - loss: 0.0089 - accuracy: 1.00 - ETA: 4s - loss: 0.0091 - accuracy: 1.00 - ETA: 4s - loss: 0.0086 - accuracy: 1.00 - ETA: 4s - loss: 0.0280 - accuracy: 0.99 - ETA: 4s - loss: 0.0267 - accuracy: 0.99 - ETA: 4s - loss: 0.0257 - accuracy: 0.99 - ETA: 4s - loss: 0.0246 - accuracy: 0.99 - ETA: 4s - loss: 0.0236 - accuracy: 0.99 - ETA: 4s - loss: 0.0227 - accuracy: 0.99 - ETA: 4s - loss: 0.0219 - accuracy: 0.99 - ETA: 4s - loss: 0.0211 - accuracy: 0.99 - ETA: 4s - loss: 0.0204 - accuracy: 0.99 - ETA: 3s - loss: 0.0197 - accuracy: 0.99 - ETA: 3s - loss: 0.0268 - accuracy: 0.99 - ETA: 3s - loss: 0.0260 - accuracy: 0.99 - ETA: 3s - loss: 0.0252 - accuracy: 0.99 - ETA: 3s - loss: 0.0244 - accuracy: 0.99 - ETA: 3s - loss: 0.0237 - accuracy: 0.99 - ETA: 3s - loss: 0.0231 - accuracy: 0.99 - ETA: 3s - loss: 0.0225 - accuracy: 0.99 - ETA: 3s - loss: 0.0219 - accuracy: 0.99 - ETA: 3s - loss: 0.0216 - accuracy: 0.99 - ETA: 3s - loss: 0.0214 - accuracy: 0.99 - ETA: 3s - loss: 0.0211 - accuracy: 0.99 - ETA: 3s - loss: 0.0208 - accuracy: 0.99 - ETA: 3s - loss: 0.0203 - accuracy: 0.99 - ETA: 2s - loss: 0.0198 - accuracy: 0.99 - ETA: 2s - loss: 0.0194 - accuracy: 0.99 - ETA: 2s - loss: 0.0192 - accuracy: 0.99 - ETA: 2s - loss: 0.0190 - accuracy: 0.99 - ETA: 2s - loss: 0.0188 - accuracy: 0.99 - ETA: 2s - loss: 0.0184 - accuracy: 0.99 - ETA: 2s - loss: 0.0182 - accuracy: 0.99 - ETA: 2s - loss: 0.0178 - accuracy: 0.99 - ETA: 2s - loss: 0.0175 - accuracy: 0.99 - ETA: 2s - loss: 0.0171 - accuracy: 0.99 - ETA: 2s - loss: 0.0168 - accuracy: 0.99 - ETA: 2s - loss: 0.0164 - accuracy: 0.99 - ETA: 2s - loss: 0.0163 - accuracy: 0.99 - ETA: 2s - loss: 0.0160 - accuracy: 0.99 - ETA: 2s - loss: 0.0158 - accuracy: 0.99 - ETA: 2s - loss: 0.0155 - accuracy: 0.99 - ETA: 1s - loss: 0.0152 - accuracy: 0.99 - ETA: 1s - loss: 0.0150 - accuracy: 0.99 - ETA: 1s - loss: 0.0147 - accuracy: 0.99 - ETA: 1s - loss: 0.0267 - accuracy: 0.99 - ETA: 1s - loss: 0.0262 - accuracy: 0.99 - ETA: 1s - loss: 0.0258 - accuracy: 0.99 - ETA: 1s - loss: 0.0256 - accuracy: 0.99 - ETA: 1s - loss: 0.0254 - accuracy: 0.99 - ETA: 1s - loss: 0.0250 - accuracy: 0.99 - ETA: 1s - loss: 0.0246 - accuracy: 0.99 - ETA: 1s - loss: 0.0244 - accuracy: 0.99 - ETA: 1s - loss: 0.0242 - accuracy: 0.99 - ETA: 1s - loss: 0.0240 - accuracy: 0.99 - ETA: 1s - loss: 0.0445 - accuracy: 0.99 - ETA: 1s - loss: 0.0442 - accuracy: 0.99 - ETA: 0s - loss: 0.0439 - accuracy: 0.99 - ETA: 0s - loss: 0.0436 - accuracy: 0.99 - ETA: 0s - loss: 0.0429 - accuracy: 0.99 - ETA: 0s - loss: 0.0423 - accuracy: 0.99 - ETA: 0s - loss: 0.0417 - accuracy: 0.99 - ETA: 0s - loss: 0.0412 - accuracy: 0.99 - ETA: 0s - loss: 0.0418 - accuracy: 0.99 - ETA: 0s - loss: 0.0415 - accuracy: 0.99 - ETA: 0s - loss: 0.0412 - accuracy: 0.99 - ETA: 0s - loss: 0.0409 - accuracy: 0.99 - ETA: 0s - loss: 0.0407 - accuracy: 0.99 - ETA: 0s - loss: 0.0405 - accuracy: 0.99 - ETA: 0s - loss: 0.0402 - accuracy: 0.99 - ETA: 0s - loss: 0.0399 - accuracy: 0.99 - ETA: 0s - loss: 0.0397 - accuracy: 0.99 - ETA: 0s - loss: 0.0394 - accuracy: 0.99 - ETA: 0s - loss: 0.0392 - accuracy: 0.99 - ETA: 0s - loss: 0.0403 - accuracy: 0.99 - 7s 11ms/step - loss: 0.0401 - accuracy: 0.9920 - val_loss: 2.1964e-05 - val_accuracy: 1.0000\n",
      "Epoch 18/50\n",
      "622/622 [==============================] - ETA: 5s - loss: 1.6412e-04 - accuracy: 1.00 - ETA: 5s - loss: 0.0031 - accuracy: 1.0000   - ETA: 5s - loss: 0.0027 - accuracy: 1.00 - ETA: 6s - loss: 0.0023 - accuracy: 1.00 - ETA: 6s - loss: 0.0020 - accuracy: 1.00 - ETA: 6s - loss: 0.0024 - accuracy: 1.00 - ETA: 6s - loss: 0.0039 - accuracy: 1.00 - ETA: 6s - loss: 0.0041 - accuracy: 1.00 - ETA: 6s - loss: 0.0074 - accuracy: 1.00 - ETA: 6s - loss: 0.0069 - accuracy: 1.00 - ETA: 6s - loss: 0.0066 - accuracy: 1.00 - ETA: 7s - loss: 0.0062 - accuracy: 1.00 - ETA: 7s - loss: 0.0058 - accuracy: 1.00 - ETA: 6s - loss: 0.0052 - accuracy: 1.00 - ETA: 6s - loss: 0.0050 - accuracy: 1.00 - ETA: 6s - loss: 0.0048 - accuracy: 1.00 - ETA: 6s - loss: 0.0046 - accuracy: 1.00 - ETA: 6s - loss: 0.0044 - accuracy: 1.00 - ETA: 6s - loss: 0.0042 - accuracy: 1.00 - ETA: 6s - loss: 0.0041 - accuracy: 1.00 - ETA: 6s - loss: 0.0038 - accuracy: 1.00 - ETA: 6s - loss: 0.0036 - accuracy: 1.00 - ETA: 6s - loss: 0.0034 - accuracy: 1.00 - ETA: 5s - loss: 0.0032 - accuracy: 1.00 - ETA: 5s - loss: 0.0030 - accuracy: 1.00 - ETA: 5s - loss: 0.0029 - accuracy: 1.00 - ETA: 5s - loss: 0.0027 - accuracy: 1.00 - ETA: 5s - loss: 0.0026 - accuracy: 1.00 - ETA: 5s - loss: 0.0025 - accuracy: 1.00 - ETA: 5s - loss: 0.0024 - accuracy: 1.00 - ETA: 5s - loss: 0.0023 - accuracy: 1.00 - ETA: 5s - loss: 0.0023 - accuracy: 1.00 - ETA: 5s - loss: 0.0022 - accuracy: 1.00 - ETA: 5s - loss: 0.0022 - accuracy: 1.00 - ETA: 5s - loss: 0.0021 - accuracy: 1.00 - ETA: 5s - loss: 0.0021 - accuracy: 1.00 - ETA: 5s - loss: 0.0029 - accuracy: 1.00 - ETA: 4s - loss: 0.0028 - accuracy: 1.00 - ETA: 4s - loss: 0.0036 - accuracy: 1.00 - ETA: 4s - loss: 0.0035 - accuracy: 1.00 - ETA: 4s - loss: 0.0039 - accuracy: 1.00 - ETA: 4s - loss: 0.0038 - accuracy: 1.00 - ETA: 4s - loss: 0.0038 - accuracy: 1.00 - ETA: 4s - loss: 0.0037 - accuracy: 1.00 - ETA: 4s - loss: 0.0036 - accuracy: 1.00 - ETA: 4s - loss: 0.0035 - accuracy: 1.00 - ETA: 4s - loss: 0.0039 - accuracy: 1.00 - ETA: 4s - loss: 0.0038 - accuracy: 1.00 - ETA: 4s - loss: 0.0037 - accuracy: 1.00 - ETA: 4s - loss: 0.0037 - accuracy: 1.00 - ETA: 3s - loss: 0.0036 - accuracy: 1.00 - ETA: 3s - loss: 0.0035 - accuracy: 1.00 - ETA: 3s - loss: 0.0035 - accuracy: 1.00 - ETA: 3s - loss: 0.0034 - accuracy: 1.00 - ETA: 3s - loss: 0.0033 - accuracy: 1.00 - ETA: 3s - loss: 0.0032 - accuracy: 1.00 - ETA: 3s - loss: 0.0032 - accuracy: 1.00 - ETA: 3s - loss: 0.0031 - accuracy: 1.00 - ETA: 3s - loss: 0.0030 - accuracy: 1.00 - ETA: 3s - loss: 0.0030 - accuracy: 1.00 - ETA: 2s - loss: 0.0030 - accuracy: 1.00 - ETA: 2s - loss: 0.0029 - accuracy: 1.00 - ETA: 2s - loss: 0.0028 - accuracy: 1.00 - ETA: 2s - loss: 0.0028 - accuracy: 1.00 - ETA: 2s - loss: 0.0028 - accuracy: 1.00 - ETA: 2s - loss: 0.0027 - accuracy: 1.00 - ETA: 2s - loss: 0.0027 - accuracy: 1.00 - ETA: 2s - loss: 0.0026 - accuracy: 1.00 - ETA: 2s - loss: 0.0026 - accuracy: 1.00 - ETA: 2s - loss: 0.0026 - accuracy: 1.00 - ETA: 2s - loss: 0.0025 - accuracy: 1.00 - ETA: 1s - loss: 0.0025 - accuracy: 1.00 - ETA: 1s - loss: 0.0025 - accuracy: 1.00 - ETA: 1s - loss: 0.0024 - accuracy: 1.00 - ETA: 1s - loss: 0.0024 - accuracy: 1.00 - ETA: 1s - loss: 0.0024 - accuracy: 1.00 - ETA: 1s - loss: 0.0023 - accuracy: 1.00 - ETA: 1s - loss: 0.0023 - accuracy: 1.00 - ETA: 1s - loss: 0.0023 - accuracy: 1.00 - ETA: 1s - loss: 0.0022 - accuracy: 1.00 - ETA: 1s - loss: 0.0022 - accuracy: 1.00 - ETA: 1s - loss: 0.0022 - accuracy: 1.00 - ETA: 1s - loss: 0.0022 - accuracy: 1.00 - ETA: 0s - loss: 0.0021 - accuracy: 1.00 - ETA: 0s - loss: 0.0021 - accuracy: 1.00 - ETA: 0s - loss: 0.0021 - accuracy: 1.00 - ETA: 0s - loss: 0.0020 - accuracy: 1.00 - ETA: 0s - loss: 0.0020 - accuracy: 1.00 - ETA: 0s - loss: 0.0020 - accuracy: 1.00 - ETA: 0s - loss: 0.0020 - accuracy: 1.00 - ETA: 0s - loss: 0.0019 - accuracy: 1.00 - ETA: 0s - loss: 0.0019 - accuracy: 1.00 - ETA: 0s - loss: 0.0019 - accuracy: 1.00 - ETA: 0s - loss: 0.0019 - accuracy: 1.00 - 7s 12ms/step - loss: 0.0019 - accuracy: 1.0000 - val_loss: 1.0698e-08 - val_accuracy: 1.0000\n",
      "Epoch 19/50\n"
     ]
    },
    {
     "name": "stdout",
     "output_type": "stream",
     "text": [
      "622/622 [==============================] - ETA: 5s - loss: 0.0000e+00 - accuracy: 1.00 - ETA: 5s - loss: 9.9341e-09 - accuracy: 1.00 - ETA: 5s - loss: 7.1526e-08 - accuracy: 1.00 - ETA: 5s - loss: 1.5623e-04 - accuracy: 1.00 - ETA: 5s - loss: 1.2151e-04 - accuracy: 1.00 - ETA: 5s - loss: 1.3461e-04 - accuracy: 1.00 - ETA: 5s - loss: 2.1688e-04 - accuracy: 1.00 - ETA: 5s - loss: 2.0169e-04 - accuracy: 1.00 - ETA: 5s - loss: 1.7829e-04 - accuracy: 1.00 - ETA: 5s - loss: 1.6019e-04 - accuracy: 1.00 - ETA: 5s - loss: 1.4496e-04 - accuracy: 1.00 - ETA: 5s - loss: 1.3237e-04 - accuracy: 1.00 - ETA: 5s - loss: 1.2245e-04 - accuracy: 1.00 - ETA: 5s - loss: 1.3630e-04 - accuracy: 1.00 - ETA: 4s - loss: 2.3803e-04 - accuracy: 1.00 - ETA: 4s - loss: 2.3316e-04 - accuracy: 1.00 - ETA: 4s - loss: 2.1911e-04 - accuracy: 1.00 - ETA: 4s - loss: 2.0901e-04 - accuracy: 1.00 - ETA: 4s - loss: 2.0578e-04 - accuracy: 1.00 - ETA: 4s - loss: 1.9523e-04 - accuracy: 1.00 - ETA: 4s - loss: 1.8571e-04 - accuracy: 1.00 - ETA: 4s - loss: 1.7710e-04 - accuracy: 1.00 - ETA: 4s - loss: 1.6924e-04 - accuracy: 1.00 - ETA: 4s - loss: 1.6204e-04 - accuracy: 1.00 - ETA: 4s - loss: 1.6094e-04 - accuracy: 1.00 - ETA: 4s - loss: 1.5463e-04 - accuracy: 1.00 - ETA: 4s - loss: 1.4885e-04 - accuracy: 1.00 - ETA: 4s - loss: 4.0992e-04 - accuracy: 1.00 - ETA: 4s - loss: 4.0247e-04 - accuracy: 1.00 - ETA: 3s - loss: 3.9528e-04 - accuracy: 1.00 - ETA: 3s - loss: 3.8165e-04 - accuracy: 1.00 - ETA: 3s - loss: 3.6917e-04 - accuracy: 1.00 - ETA: 3s - loss: 3.6313e-04 - accuracy: 1.00 - ETA: 3s - loss: 3.5727e-04 - accuracy: 1.00 - ETA: 3s - loss: 3.5160e-04 - accuracy: 1.00 - ETA: 3s - loss: 3.4611e-04 - accuracy: 1.00 - ETA: 3s - loss: 3.4078e-04 - accuracy: 1.00 - ETA: 3s - loss: 3.7831e-04 - accuracy: 1.00 - ETA: 3s - loss: 3.7274e-04 - accuracy: 1.00 - ETA: 3s - loss: 3.6266e-04 - accuracy: 1.00 - ETA: 3s - loss: 3.5262e-04 - accuracy: 1.00 - ETA: 3s - loss: 3.4793e-04 - accuracy: 1.00 - ETA: 3s - loss: 3.4323e-04 - accuracy: 1.00 - ETA: 3s - loss: 3.3865e-04 - accuracy: 1.00 - ETA: 3s - loss: 3.3420e-04 - accuracy: 1.00 - ETA: 3s - loss: 3.2572e-04 - accuracy: 1.00 - ETA: 3s - loss: 3.2159e-04 - accuracy: 1.00 - ETA: 3s - loss: 3.1401e-04 - accuracy: 1.00 - ETA: 3s - loss: 3.1018e-04 - accuracy: 1.00 - ETA: 3s - loss: 3.1215e-04 - accuracy: 1.00 - ETA: 3s - loss: 3.0843e-04 - accuracy: 1.00 - ETA: 3s - loss: 3.0493e-04 - accuracy: 1.00 - ETA: 2s - loss: 3.0139e-04 - accuracy: 1.00 - ETA: 2s - loss: 4.2136e-04 - accuracy: 1.00 - ETA: 2s - loss: 4.2188e-04 - accuracy: 1.00 - ETA: 2s - loss: 4.1782e-04 - accuracy: 1.00 - ETA: 2s - loss: 4.1321e-04 - accuracy: 1.00 - ETA: 2s - loss: 4.0873e-04 - accuracy: 1.00 - ETA: 2s - loss: 4.0595e-04 - accuracy: 1.00 - ETA: 2s - loss: 4.0158e-04 - accuracy: 1.00 - ETA: 2s - loss: 3.9731e-04 - accuracy: 1.00 - ETA: 2s - loss: 3.9407e-04 - accuracy: 1.00 - ETA: 2s - loss: 0.0016 - accuracy: 1.0000   - ETA: 2s - loss: 0.0016 - accuracy: 1.00 - ETA: 2s - loss: 0.0016 - accuracy: 1.00 - ETA: 2s - loss: 0.0016 - accuracy: 1.00 - ETA: 2s - loss: 0.0016 - accuracy: 1.00 - ETA: 2s - loss: 0.0016 - accuracy: 1.00 - ETA: 2s - loss: 0.0016 - accuracy: 1.00 - ETA: 2s - loss: 0.0015 - accuracy: 1.00 - ETA: 1s - loss: 0.0015 - accuracy: 1.00 - ETA: 1s - loss: 0.0015 - accuracy: 1.00 - ETA: 1s - loss: 0.0015 - accuracy: 1.00 - ETA: 1s - loss: 0.0015 - accuracy: 1.00 - ETA: 1s - loss: 0.0015 - accuracy: 1.00 - ETA: 1s - loss: 0.0014 - accuracy: 1.00 - ETA: 1s - loss: 0.0014 - accuracy: 1.00 - ETA: 1s - loss: 0.0014 - accuracy: 1.00 - ETA: 1s - loss: 0.0014 - accuracy: 1.00 - ETA: 1s - loss: 0.0014 - accuracy: 1.00 - ETA: 1s - loss: 0.0013 - accuracy: 1.00 - ETA: 1s - loss: 0.0013 - accuracy: 1.00 - ETA: 1s - loss: 0.0013 - accuracy: 1.00 - ETA: 1s - loss: 0.0013 - accuracy: 1.00 - ETA: 0s - loss: 0.0013 - accuracy: 1.00 - ETA: 0s - loss: 0.0013 - accuracy: 1.00 - ETA: 0s - loss: 0.0012 - accuracy: 1.00 - ETA: 0s - loss: 0.0012 - accuracy: 1.00 - ETA: 0s - loss: 0.0012 - accuracy: 1.00 - ETA: 0s - loss: 0.0012 - accuracy: 1.00 - ETA: 0s - loss: 0.0012 - accuracy: 1.00 - ETA: 0s - loss: 0.0012 - accuracy: 1.00 - ETA: 0s - loss: 0.0011 - accuracy: 1.00 - ETA: 0s - loss: 0.0011 - accuracy: 1.00 - ETA: 0s - loss: 0.0011 - accuracy: 1.00 - ETA: 0s - loss: 0.0011 - accuracy: 1.00 - 7s 11ms/step - loss: 0.0011 - accuracy: 1.0000 - val_loss: 5.3491e-09 - val_accuracy: 1.0000\n",
      "Epoch 20/50\n",
      "622/622 [==============================] - ETA: 5s - loss: 6.8545e-07 - accuracy: 1.00 - ETA: 5s - loss: 6.9539e-07 - accuracy: 1.00 - ETA: 5s - loss: 6.1687e-06 - accuracy: 1.00 - ETA: 5s - loss: 4.4062e-06 - accuracy: 1.00 - ETA: 5s - loss: 3.4403e-06 - accuracy: 1.00 - ETA: 5s - loss: 2.8582e-06 - accuracy: 1.00 - ETA: 5s - loss: 2.4184e-06 - accuracy: 1.00 - ETA: 5s - loss: 2.0960e-06 - accuracy: 1.00 - ETA: 5s - loss: 4.7848e-05 - accuracy: 1.00 - ETA: 5s - loss: 4.4711e-05 - accuracy: 1.00 - ETA: 5s - loss: 0.0035 - accuracy: 1.0000   - ETA: 5s - loss: 0.0034 - accuracy: 1.00 - ETA: 5s - loss: 0.0031 - accuracy: 1.00 - ETA: 5s - loss: 0.0029 - accuracy: 1.00 - ETA: 4s - loss: 0.0027 - accuracy: 1.00 - ETA: 4s - loss: 0.0025 - accuracy: 1.00 - ETA: 4s - loss: 0.0024 - accuracy: 1.00 - ETA: 4s - loss: 0.0022 - accuracy: 1.00 - ETA: 4s - loss: 0.0021 - accuracy: 1.00 - ETA: 4s - loss: 0.0020 - accuracy: 1.00 - ETA: 4s - loss: 0.0019 - accuracy: 1.00 - ETA: 4s - loss: 0.0018 - accuracy: 1.00 - ETA: 4s - loss: 0.0017 - accuracy: 1.00 - ETA: 4s - loss: 0.0017 - accuracy: 1.00 - ETA: 4s - loss: 0.0016 - accuracy: 1.00 - ETA: 4s - loss: 0.0015 - accuracy: 1.00 - ETA: 4s - loss: 0.0015 - accuracy: 1.00 - ETA: 3s - loss: 0.0014 - accuracy: 1.00 - ETA: 3s - loss: 0.0014 - accuracy: 1.00 - ETA: 3s - loss: 0.0013 - accuracy: 1.00 - ETA: 3s - loss: 0.0013 - accuracy: 1.00 - ETA: 3s - loss: 0.0012 - accuracy: 1.00 - ETA: 3s - loss: 0.0012 - accuracy: 1.00 - ETA: 3s - loss: 0.0012 - accuracy: 1.00 - ETA: 3s - loss: 0.0011 - accuracy: 1.00 - ETA: 3s - loss: 0.0011 - accuracy: 1.00 - ETA: 3s - loss: 0.0011 - accuracy: 1.00 - ETA: 3s - loss: 0.0010 - accuracy: 1.00 - ETA: 3s - loss: 0.0010 - accuracy: 1.00 - ETA: 3s - loss: 9.9089e-04 - accuracy: 1.00 - ETA: 2s - loss: 9.6967e-04 - accuracy: 1.00 - ETA: 2s - loss: 9.4630e-04 - accuracy: 1.00 - ETA: 2s - loss: 0.0012 - accuracy: 1.0000   - ETA: 2s - loss: 0.0012 - accuracy: 1.00 - ETA: 2s - loss: 0.0011 - accuracy: 1.00 - ETA: 2s - loss: 0.0019 - accuracy: 1.00 - ETA: 2s - loss: 0.0019 - accuracy: 1.00 - ETA: 2s - loss: 0.0018 - accuracy: 1.00 - ETA: 2s - loss: 0.0018 - accuracy: 1.00 - ETA: 2s - loss: 0.0018 - accuracy: 1.00 - ETA: 2s - loss: 0.0017 - accuracy: 1.00 - ETA: 2s - loss: 0.0017 - accuracy: 1.00 - ETA: 1s - loss: 0.0017 - accuracy: 1.00 - ETA: 1s - loss: 0.0016 - accuracy: 1.00 - ETA: 1s - loss: 0.0016 - accuracy: 1.00 - ETA: 1s - loss: 0.0016 - accuracy: 1.00 - ETA: 1s - loss: 0.0015 - accuracy: 1.00 - ETA: 1s - loss: 0.0015 - accuracy: 1.00 - ETA: 1s - loss: 0.0015 - accuracy: 1.00 - ETA: 1s - loss: 0.0015 - accuracy: 1.00 - ETA: 1s - loss: 0.0015 - accuracy: 1.00 - ETA: 1s - loss: 0.0015 - accuracy: 1.00 - ETA: 1s - loss: 0.0015 - accuracy: 1.00 - ETA: 1s - loss: 0.0014 - accuracy: 1.00 - ETA: 1s - loss: 0.0014 - accuracy: 1.00 - ETA: 0s - loss: 0.0014 - accuracy: 1.00 - ETA: 0s - loss: 0.0014 - accuracy: 1.00 - ETA: 0s - loss: 0.0013 - accuracy: 1.00 - ETA: 0s - loss: 0.0013 - accuracy: 1.00 - ETA: 0s - loss: 0.0013 - accuracy: 1.00 - ETA: 0s - loss: 0.0013 - accuracy: 1.00 - ETA: 0s - loss: 0.0013 - accuracy: 1.00 - ETA: 0s - loss: 0.0013 - accuracy: 1.00 - ETA: 0s - loss: 0.0012 - accuracy: 1.00 - ETA: 0s - loss: 0.0012 - accuracy: 1.00 - ETA: 0s - loss: 0.0012 - accuracy: 1.00 - ETA: 0s - loss: 0.0012 - accuracy: 1.00 - ETA: 0s - loss: 0.0012 - accuracy: 1.00 - 6s 10ms/step - loss: 0.0012 - accuracy: 1.0000 - val_loss: 0.0000e+00 - val_accuracy: 1.0000\n",
      "Epoch 21/50\n"
     ]
    },
    {
     "name": "stdout",
     "output_type": "stream",
     "text": [
      "622/622 [==============================] - ETA: 5s - loss: 1.2368e-05 - accuracy: 1.00 - ETA: 6s - loss: 4.1226e-06 - accuracy: 1.00 - ETA: 6s - loss: 2.5093e-06 - accuracy: 1.00 - ETA: 6s - loss: 1.7924e-06 - accuracy: 1.00 - ETA: 6s - loss: 1.3974e-06 - accuracy: 1.00 - ETA: 5s - loss: 1.8396e-06 - accuracy: 1.00 - ETA: 5s - loss: 1.5566e-06 - accuracy: 1.00 - ETA: 5s - loss: 1.3490e-06 - accuracy: 1.00 - ETA: 5s - loss: 1.1903e-06 - accuracy: 1.00 - ETA: 5s - loss: 1.2046e-06 - accuracy: 1.00 - ETA: 5s - loss: 1.1444e-06 - accuracy: 1.00 - ETA: 5s - loss: 1.6115e-04 - accuracy: 1.00 - ETA: 5s - loss: 1.4714e-04 - accuracy: 1.00 - ETA: 5s - loss: 1.3537e-04 - accuracy: 1.00 - ETA: 5s - loss: 2.3237e-04 - accuracy: 1.00 - ETA: 5s - loss: 2.1635e-04 - accuracy: 1.00 - ETA: 5s - loss: 2.0239e-04 - accuracy: 1.00 - ETA: 5s - loss: 1.9013e-04 - accuracy: 1.00 - ETA: 5s - loss: 1.8132e-04 - accuracy: 1.00 - ETA: 4s - loss: 1.7152e-04 - accuracy: 1.00 - ETA: 4s - loss: 1.6272e-04 - accuracy: 1.00 - ETA: 4s - loss: 1.5479e-04 - accuracy: 1.00 - ETA: 4s - loss: 1.4759e-04 - accuracy: 1.00 - ETA: 4s - loss: 1.4103e-04 - accuracy: 1.00 - ETA: 4s - loss: 1.3506e-04 - accuracy: 1.00 - ETA: 4s - loss: 1.2955e-04 - accuracy: 1.00 - ETA: 4s - loss: 1.2447e-04 - accuracy: 1.00 - ETA: 4s - loss: 1.2208e-04 - accuracy: 1.00 - ETA: 4s - loss: 1.1978e-04 - accuracy: 1.00 - ETA: 4s - loss: 1.1759e-04 - accuracy: 1.00 - ETA: 4s - loss: 1.1339e-04 - accuracy: 1.00 - ETA: 4s - loss: 1.0958e-04 - accuracy: 1.00 - ETA: 4s - loss: 1.0790e-04 - accuracy: 1.00 - ETA: 3s - loss: 1.0443e-04 - accuracy: 1.00 - ETA: 3s - loss: 1.1032e-04 - accuracy: 1.00 - ETA: 3s - loss: 1.0698e-04 - accuracy: 1.00 - ETA: 3s - loss: 1.0383e-04 - accuracy: 1.00 - ETA: 3s - loss: 1.0087e-04 - accuracy: 1.00 - ETA: 3s - loss: 9.8064e-05 - accuracy: 1.00 - ETA: 3s - loss: 9.5414e-05 - accuracy: 1.00 - ETA: 3s - loss: 9.3089e-05 - accuracy: 1.00 - ETA: 3s - loss: 9.1586e-05 - accuracy: 1.00 - ETA: 3s - loss: 8.9296e-05 - accuracy: 1.00 - ETA: 3s - loss: 8.7118e-05 - accuracy: 1.00 - ETA: 2s - loss: 4.7327e-04 - accuracy: 1.00 - ETA: 2s - loss: 4.6226e-04 - accuracy: 1.00 - ETA: 2s - loss: 4.5177e-04 - accuracy: 1.00 - ETA: 2s - loss: 4.4174e-04 - accuracy: 1.00 - ETA: 2s - loss: 4.3213e-04 - accuracy: 1.00 - ETA: 2s - loss: 4.2295e-04 - accuracy: 1.00 - ETA: 2s - loss: 4.1414e-04 - accuracy: 1.00 - ETA: 2s - loss: 4.0568e-04 - accuracy: 1.00 - ETA: 2s - loss: 3.9757e-04 - accuracy: 1.00 - ETA: 2s - loss: 3.8978e-04 - accuracy: 1.00 - ETA: 2s - loss: 3.8233e-04 - accuracy: 1.00 - ETA: 2s - loss: 3.7511e-04 - accuracy: 1.00 - ETA: 1s - loss: 3.6817e-04 - accuracy: 1.00 - ETA: 1s - loss: 3.6479e-04 - accuracy: 1.00 - ETA: 1s - loss: 3.6148e-04 - accuracy: 1.00 - ETA: 1s - loss: 3.5503e-04 - accuracy: 1.00 - ETA: 1s - loss: 8.0182e-04 - accuracy: 1.00 - ETA: 1s - loss: 7.8800e-04 - accuracy: 1.00 - ETA: 1s - loss: 7.7464e-04 - accuracy: 1.00 - ETA: 1s - loss: 7.6173e-04 - accuracy: 1.00 - ETA: 1s - loss: 7.4925e-04 - accuracy: 1.00 - ETA: 1s - loss: 7.3716e-04 - accuracy: 1.00 - ETA: 1s - loss: 7.2546e-04 - accuracy: 1.00 - ETA: 1s - loss: 7.1413e-04 - accuracy: 1.00 - ETA: 1s - loss: 7.0314e-04 - accuracy: 1.00 - ETA: 0s - loss: 6.9637e-04 - accuracy: 1.00 - ETA: 0s - loss: 6.8598e-04 - accuracy: 1.00 - ETA: 0s - loss: 6.7589e-04 - accuracy: 1.00 - ETA: 0s - loss: 6.6610e-04 - accuracy: 1.00 - ETA: 0s - loss: 6.5658e-04 - accuracy: 1.00 - ETA: 0s - loss: 6.4734e-04 - accuracy: 1.00 - ETA: 0s - loss: 6.3834e-04 - accuracy: 1.00 - ETA: 0s - loss: 6.2960e-04 - accuracy: 1.00 - ETA: 0s - loss: 6.2109e-04 - accuracy: 1.00 - ETA: 0s - loss: 6.1324e-04 - accuracy: 1.00 - ETA: 0s - loss: 6.0544e-04 - accuracy: 1.00 - ETA: 0s - loss: 5.9758e-04 - accuracy: 1.00 - 7s 11ms/step - loss: 5.9181e-04 - accuracy: 1.0000 - val_loss: 0.0000e+00 - val_accuracy: 1.0000\n",
      "Epoch 22/50\n",
      "622/622 [==============================] - ETA: 5s - loss: 0.0000e+00 - accuracy: 1.00 - ETA: 5s - loss: 0.0000e+00 - accuracy: 1.00 - ETA: 5s - loss: 4.2319e-07 - accuracy: 1.00 - ETA: 5s - loss: 5.6198e-07 - accuracy: 1.00 - ETA: 5s - loss: 7.1194e-07 - accuracy: 1.00 - ETA: 5s - loss: 5.8250e-07 - accuracy: 1.00 - ETA: 5s - loss: 5.4102e-07 - accuracy: 1.00 - ETA: 5s - loss: 1.6053e-06 - accuracy: 1.00 - ETA: 5s - loss: 1.4603e-06 - accuracy: 1.00 - ETA: 5s - loss: 1.3066e-06 - accuracy: 1.00 - ETA: 5s - loss: 1.2006e-06 - accuracy: 1.00 - ETA: 5s - loss: 3.3447e-05 - accuracy: 1.00 - ETA: 5s - loss: 3.0771e-05 - accuracy: 1.00 - ETA: 5s - loss: 2.8492e-05 - accuracy: 1.00 - ETA: 4s - loss: 2.6527e-05 - accuracy: 1.00 - ETA: 4s - loss: 2.4816e-05 - accuracy: 1.00 - ETA: 4s - loss: 2.3324e-05 - accuracy: 1.00 - ETA: 4s - loss: 2.1991e-05 - accuracy: 1.00 - ETA: 4s - loss: 4.1331e-05 - accuracy: 1.00 - ETA: 4s - loss: 3.9211e-05 - accuracy: 1.00 - ETA: 4s - loss: 3.7299e-05 - accuracy: 1.00 - ETA: 4s - loss: 3.5660e-05 - accuracy: 1.00 - ETA: 4s - loss: 3.4075e-05 - accuracy: 1.00 - ETA: 4s - loss: 4.9104e-05 - accuracy: 1.00 - ETA: 4s - loss: 4.7100e-05 - accuracy: 1.00 - ETA: 4s - loss: 4.5455e-05 - accuracy: 1.00 - ETA: 4s - loss: 4.3740e-05 - accuracy: 1.00 - ETA: 3s - loss: 4.2149e-05 - accuracy: 1.00 - ETA: 3s - loss: 4.0670e-05 - accuracy: 1.00 - ETA: 3s - loss: 3.9294e-05 - accuracy: 1.00 - ETA: 3s - loss: 0.0029 - accuracy: 0.9959   - ETA: 3s - loss: 0.0028 - accuracy: 0.99 - ETA: 3s - loss: 0.0027 - accuracy: 0.99 - ETA: 3s - loss: 0.0026 - accuracy: 0.99 - ETA: 3s - loss: 0.0025 - accuracy: 0.99 - ETA: 3s - loss: 0.0025 - accuracy: 0.99 - ETA: 3s - loss: 0.0024 - accuracy: 0.99 - ETA: 3s - loss: 0.0023 - accuracy: 0.99 - ETA: 3s - loss: 0.0023 - accuracy: 0.99 - ETA: 3s - loss: 0.0022 - accuracy: 0.99 - ETA: 2s - loss: 0.0059 - accuracy: 0.99 - ETA: 2s - loss: 0.0058 - accuracy: 0.99 - ETA: 2s - loss: 0.0056 - accuracy: 0.99 - ETA: 2s - loss: 0.0055 - accuracy: 0.99 - ETA: 2s - loss: 0.0054 - accuracy: 0.99 - ETA: 2s - loss: 0.0053 - accuracy: 0.99 - ETA: 2s - loss: 0.0052 - accuracy: 0.99 - ETA: 2s - loss: 0.0050 - accuracy: 0.99 - ETA: 2s - loss: 0.0049 - accuracy: 0.99 - ETA: 2s - loss: 0.0054 - accuracy: 0.99 - ETA: 2s - loss: 0.0053 - accuracy: 0.99 - ETA: 2s - loss: 0.0052 - accuracy: 0.99 - ETA: 1s - loss: 0.0051 - accuracy: 0.99 - ETA: 1s - loss: 0.0050 - accuracy: 0.99 - ETA: 1s - loss: 0.0049 - accuracy: 0.99 - ETA: 1s - loss: 0.0049 - accuracy: 0.99 - ETA: 1s - loss: 0.0048 - accuracy: 0.99 - ETA: 1s - loss: 0.0047 - accuracy: 0.99 - ETA: 1s - loss: 0.0046 - accuracy: 0.99 - ETA: 1s - loss: 0.0045 - accuracy: 0.99 - ETA: 1s - loss: 0.0045 - accuracy: 0.99 - ETA: 1s - loss: 0.0044 - accuracy: 0.99 - ETA: 1s - loss: 0.0043 - accuracy: 0.99 - ETA: 1s - loss: 0.0042 - accuracy: 0.99 - ETA: 1s - loss: 0.0042 - accuracy: 0.99 - ETA: 0s - loss: 0.0041 - accuracy: 0.99 - ETA: 0s - loss: 0.0277 - accuracy: 0.99 - ETA: 0s - loss: 0.0273 - accuracy: 0.99 - ETA: 0s - loss: 0.0269 - accuracy: 0.99 - ETA: 0s - loss: 0.0265 - accuracy: 0.99 - ETA: 0s - loss: 0.0262 - accuracy: 0.99 - ETA: 0s - loss: 0.0258 - accuracy: 0.99 - ETA: 0s - loss: 0.0255 - accuracy: 0.99 - ETA: 0s - loss: 0.0251 - accuracy: 0.99 - ETA: 0s - loss: 0.0248 - accuracy: 0.99 - ETA: 0s - loss: 0.0244 - accuracy: 0.99 - ETA: 0s - loss: 0.0241 - accuracy: 0.99 - ETA: 0s - loss: 0.0238 - accuracy: 0.99 - 6s 10ms/step - loss: 0.0237 - accuracy: 0.9952 - val_loss: 2.6059e-05 - val_accuracy: 1.0000\n",
      "Epoch 23/50\n"
     ]
    },
    {
     "name": "stdout",
     "output_type": "stream",
     "text": [
      "622/622 [==============================] - ETA: 5s - loss: 5.9605e-08 - accuracy: 1.00 - ETA: 5s - loss: 0.0100 - accuracy: 1.0000   - ETA: 5s - loss: 0.1484 - accuracy: 0.95 - ETA: 5s - loss: 0.1060 - accuracy: 0.96 - ETA: 5s - loss: 0.0826 - accuracy: 0.97 - ETA: 5s - loss: 0.0689 - accuracy: 0.97 - ETA: 5s - loss: 0.0583 - accuracy: 0.98 - ETA: 5s - loss: 0.0505 - accuracy: 0.98 - ETA: 5s - loss: 0.0446 - accuracy: 0.98 - ETA: 5s - loss: 0.0399 - accuracy: 0.98 - ETA: 5s - loss: 0.0361 - accuracy: 0.98 - ETA: 5s - loss: 0.0329 - accuracy: 0.98 - ETA: 5s - loss: 0.0303 - accuracy: 0.99 - ETA: 5s - loss: 0.0281 - accuracy: 0.99 - ETA: 5s - loss: 0.0261 - accuracy: 0.99 - ETA: 4s - loss: 0.0252 - accuracy: 0.99 - ETA: 4s - loss: 0.0240 - accuracy: 0.99 - ETA: 4s - loss: 0.0227 - accuracy: 0.99 - ETA: 4s - loss: 0.0214 - accuracy: 0.99 - ETA: 4s - loss: 0.0203 - accuracy: 0.99 - ETA: 4s - loss: 0.0194 - accuracy: 0.99 - ETA: 4s - loss: 0.0185 - accuracy: 0.99 - ETA: 4s - loss: 0.0176 - accuracy: 0.99 - ETA: 4s - loss: 0.0169 - accuracy: 0.99 - ETA: 4s - loss: 0.0162 - accuracy: 0.99 - ETA: 4s - loss: 0.0156 - accuracy: 0.99 - ETA: 4s - loss: 0.0150 - accuracy: 0.99 - ETA: 4s - loss: 0.0145 - accuracy: 0.99 - ETA: 3s - loss: 0.0139 - accuracy: 0.99 - ETA: 3s - loss: 0.0135 - accuracy: 0.99 - ETA: 3s - loss: 0.0130 - accuracy: 0.99 - ETA: 3s - loss: 0.0126 - accuracy: 0.99 - ETA: 3s - loss: 0.0122 - accuracy: 0.99 - ETA: 3s - loss: 0.0120 - accuracy: 0.99 - ETA: 3s - loss: 0.0119 - accuracy: 0.99 - ETA: 3s - loss: 0.0117 - accuracy: 0.99 - ETA: 3s - loss: 0.0115 - accuracy: 0.99 - ETA: 3s - loss: 0.0114 - accuracy: 0.99 - ETA: 3s - loss: 0.0112 - accuracy: 0.99 - ETA: 3s - loss: 0.0110 - accuracy: 0.99 - ETA: 3s - loss: 0.0109 - accuracy: 0.99 - ETA: 3s - loss: 0.0106 - accuracy: 0.99 - ETA: 3s - loss: 0.0105 - accuracy: 0.99 - ETA: 3s - loss: 0.0102 - accuracy: 0.99 - ETA: 3s - loss: 0.0099 - accuracy: 0.99 - ETA: 3s - loss: 0.0097 - accuracy: 0.99 - ETA: 3s - loss: 0.0095 - accuracy: 0.99 - ETA: 2s - loss: 0.0092 - accuracy: 0.99 - ETA: 2s - loss: 0.0090 - accuracy: 0.99 - ETA: 2s - loss: 0.0088 - accuracy: 0.99 - ETA: 2s - loss: 0.0086 - accuracy: 0.99 - ETA: 2s - loss: 0.0085 - accuracy: 0.99 - ETA: 2s - loss: 0.0083 - accuracy: 0.99 - ETA: 2s - loss: 0.0081 - accuracy: 0.99 - ETA: 2s - loss: 0.0080 - accuracy: 0.99 - ETA: 2s - loss: 0.0083 - accuracy: 0.99 - ETA: 2s - loss: 0.0083 - accuracy: 0.99 - ETA: 2s - loss: 0.0081 - accuracy: 0.99 - ETA: 1s - loss: 0.0080 - accuracy: 0.99 - ETA: 1s - loss: 0.0078 - accuracy: 0.99 - ETA: 1s - loss: 0.0077 - accuracy: 0.99 - ETA: 1s - loss: 0.0075 - accuracy: 0.99 - ETA: 1s - loss: 0.0074 - accuracy: 0.99 - ETA: 1s - loss: 0.0073 - accuracy: 0.99 - ETA: 1s - loss: 0.0092 - accuracy: 0.99 - ETA: 1s - loss: 0.0091 - accuracy: 0.99 - ETA: 1s - loss: 0.0089 - accuracy: 0.99 - ETA: 1s - loss: 0.0088 - accuracy: 0.99 - ETA: 1s - loss: 0.0086 - accuracy: 0.99 - ETA: 1s - loss: 0.0085 - accuracy: 0.99 - ETA: 0s - loss: 0.0084 - accuracy: 0.99 - ETA: 0s - loss: 0.0083 - accuracy: 0.99 - ETA: 0s - loss: 0.0082 - accuracy: 0.99 - ETA: 0s - loss: 0.0080 - accuracy: 0.99 - ETA: 0s - loss: 0.0079 - accuracy: 0.99 - ETA: 0s - loss: 0.0078 - accuracy: 0.99 - ETA: 0s - loss: 0.0077 - accuracy: 0.99 - ETA: 0s - loss: 0.0076 - accuracy: 0.99 - ETA: 0s - loss: 0.0075 - accuracy: 0.99 - ETA: 0s - loss: 0.0074 - accuracy: 0.99 - ETA: 0s - loss: 0.0073 - accuracy: 0.99 - ETA: 0s - loss: 0.0072 - accuracy: 0.99 - 7s 11ms/step - loss: 0.0071 - accuracy: 0.9968 - val_loss: 0.0000e+00 - val_accuracy: 1.0000\n",
      "Epoch 24/50\n",
      "622/622 [==============================] - ETA: 5s - loss: 0.0000e+00 - accuracy: 1.00 - ETA: 5s - loss: 0.0000e+00 - accuracy: 1.00 - ETA: 6s - loss: 9.3928e-06 - accuracy: 1.00 - ETA: 6s - loss: 6.7177e-06 - accuracy: 1.00 - ETA: 6s - loss: 5.2447e-06 - accuracy: 1.00 - ETA: 6s - loss: 5.2231e-06 - accuracy: 1.00 - ETA: 5s - loss: 4.4196e-06 - accuracy: 1.00 - ETA: 5s - loss: 3.8303e-06 - accuracy: 1.00 - ETA: 5s - loss: 3.7864e-06 - accuracy: 1.00 - ETA: 5s - loss: 3.4176e-06 - accuracy: 1.00 - ETA: 5s - loss: 6.4170e-06 - accuracy: 1.00 - ETA: 5s - loss: 6.6377e-06 - accuracy: 1.00 - ETA: 5s - loss: 8.0448e-06 - accuracy: 1.00 - ETA: 5s - loss: 7.4577e-06 - accuracy: 1.00 - ETA: 5s - loss: 6.9475e-06 - accuracy: 1.00 - ETA: 5s - loss: 6.2190e-05 - accuracy: 1.00 - ETA: 4s - loss: 5.9201e-05 - accuracy: 1.00 - ETA: 4s - loss: 5.5818e-05 - accuracy: 1.00 - ETA: 4s - loss: 5.4268e-05 - accuracy: 1.00 - ETA: 4s - loss: 5.2331e-05 - accuracy: 1.00 - ETA: 4s - loss: 5.5466e-05 - accuracy: 1.00 - ETA: 4s - loss: 5.2853e-05 - accuracy: 1.00 - ETA: 4s - loss: 6.0306e-05 - accuracy: 1.00 - ETA: 4s - loss: 5.7697e-05 - accuracy: 1.00 - ETA: 4s - loss: 5.5337e-05 - accuracy: 1.00 - ETA: 4s - loss: 6.2573e-04 - accuracy: 1.00 - ETA: 4s - loss: 0.0012 - accuracy: 1.0000   - ETA: 4s - loss: 0.0012 - accuracy: 1.00 - ETA: 4s - loss: 0.0011 - accuracy: 1.00 - ETA: 3s - loss: 0.0011 - accuracy: 1.00 - ETA: 3s - loss: 0.0010 - accuracy: 1.00 - ETA: 3s - loss: 0.0010 - accuracy: 1.00 - ETA: 3s - loss: 9.7660e-04 - accuracy: 1.00 - ETA: 3s - loss: 0.0024 - accuracy: 1.0000   - ETA: 3s - loss: 0.0023 - accuracy: 1.00 - ETA: 3s - loss: 0.0022 - accuracy: 1.00 - ETA: 3s - loss: 0.0022 - accuracy: 1.00 - ETA: 3s - loss: 0.0021 - accuracy: 1.00 - ETA: 3s - loss: 0.0021 - accuracy: 1.00 - ETA: 3s - loss: 0.0024 - accuracy: 1.00 - ETA: 3s - loss: 0.0023 - accuracy: 1.00 - ETA: 2s - loss: 0.0022 - accuracy: 1.00 - ETA: 2s - loss: 0.0022 - accuracy: 1.00 - ETA: 2s - loss: 0.0022 - accuracy: 1.00 - ETA: 2s - loss: 0.0021 - accuracy: 1.00 - ETA: 2s - loss: 0.0021 - accuracy: 1.00 - ETA: 2s - loss: 0.0020 - accuracy: 1.00 - ETA: 2s - loss: 0.0020 - accuracy: 1.00 - ETA: 2s - loss: 0.0019 - accuracy: 1.00 - ETA: 2s - loss: 0.0019 - accuracy: 1.00 - ETA: 2s - loss: 0.0019 - accuracy: 1.00 - ETA: 2s - loss: 0.0018 - accuracy: 1.00 - ETA: 2s - loss: 0.0018 - accuracy: 1.00 - ETA: 1s - loss: 0.0018 - accuracy: 1.00 - ETA: 1s - loss: 0.0017 - accuracy: 1.00 - ETA: 1s - loss: 0.0017 - accuracy: 1.00 - ETA: 1s - loss: 0.0017 - accuracy: 1.00 - ETA: 1s - loss: 0.0016 - accuracy: 1.00 - ETA: 1s - loss: 0.0016 - accuracy: 1.00 - ETA: 1s - loss: 0.0016 - accuracy: 1.00 - ETA: 1s - loss: 0.0016 - accuracy: 1.00 - ETA: 1s - loss: 0.0016 - accuracy: 1.00 - ETA: 1s - loss: 0.0015 - accuracy: 1.00 - ETA: 1s - loss: 0.0015 - accuracy: 1.00 - ETA: 1s - loss: 0.0015 - accuracy: 1.00 - ETA: 1s - loss: 0.0015 - accuracy: 1.00 - ETA: 0s - loss: 0.0014 - accuracy: 1.00 - ETA: 0s - loss: 0.0014 - accuracy: 1.00 - ETA: 0s - loss: 0.0014 - accuracy: 1.00 - ETA: 0s - loss: 0.0014 - accuracy: 1.00 - ETA: 0s - loss: 0.0014 - accuracy: 1.00 - ETA: 0s - loss: 0.0014 - accuracy: 1.00 - ETA: 0s - loss: 0.0013 - accuracy: 1.00 - ETA: 0s - loss: 0.0013 - accuracy: 1.00 - ETA: 0s - loss: 0.0013 - accuracy: 1.00 - ETA: 0s - loss: 0.0013 - accuracy: 1.00 - ETA: 0s - loss: 0.0013 - accuracy: 1.00 - ETA: 0s - loss: 0.0012 - accuracy: 1.00 - 6s 10ms/step - loss: 0.0012 - accuracy: 1.0000 - val_loss: 0.0000e+00 - val_accuracy: 1.0000\n",
      "Epoch 25/50\n"
     ]
    },
    {
     "name": "stdout",
     "output_type": "stream",
     "text": [
      "622/622 [==============================] - ETA: 5s - loss: 0.0000e+00 - accuracy: 1.00 - ETA: 5s - loss: 2.7815e-07 - accuracy: 1.00 - ETA: 5s - loss: 3.4571e-07 - accuracy: 1.00 - ETA: 5s - loss: 1.7583e-06 - accuracy: 1.00 - ETA: 5s - loss: 4.4167e-05 - accuracy: 1.00 - ETA: 5s - loss: 3.9550e-05 - accuracy: 1.00 - ETA: 5s - loss: 3.3663e-05 - accuracy: 1.00 - ETA: 5s - loss: 2.9174e-05 - accuracy: 1.00 - ETA: 5s - loss: 2.5861e-05 - accuracy: 1.00 - ETA: 5s - loss: 2.3228e-05 - accuracy: 1.00 - ETA: 5s - loss: 2.2329e-05 - accuracy: 1.00 - ETA: 5s - loss: 3.3928e-05 - accuracy: 1.00 - ETA: 5s - loss: 3.6376e-05 - accuracy: 1.00 - ETA: 5s - loss: 3.3684e-05 - accuracy: 1.00 - ETA: 4s - loss: 3.1373e-05 - accuracy: 1.00 - ETA: 4s - loss: 4.2974e-05 - accuracy: 1.00 - ETA: 4s - loss: 4.0738e-05 - accuracy: 1.00 - ETA: 4s - loss: 3.8411e-05 - accuracy: 1.00 - ETA: 4s - loss: 6.9768e-05 - accuracy: 1.00 - ETA: 4s - loss: 6.6190e-05 - accuracy: 1.00 - ETA: 4s - loss: 6.4535e-05 - accuracy: 1.00 - ETA: 4s - loss: 6.1620e-05 - accuracy: 1.00 - ETA: 4s - loss: 5.8819e-05 - accuracy: 1.00 - ETA: 4s - loss: 5.7583e-05 - accuracy: 1.00 - ETA: 4s - loss: 5.6347e-05 - accuracy: 1.00 - ETA: 4s - loss: 5.5148e-05 - accuracy: 1.00 - ETA: 4s - loss: 5.3282e-05 - accuracy: 1.00 - ETA: 4s - loss: 5.2242e-05 - accuracy: 1.00 - ETA: 4s - loss: 5.0232e-05 - accuracy: 1.00 - ETA: 4s - loss: 4.8408e-05 - accuracy: 1.00 - ETA: 4s - loss: 1.4700e-04 - accuracy: 1.00 - ETA: 4s - loss: 1.4212e-04 - accuracy: 1.00 - ETA: 3s - loss: 1.3739e-04 - accuracy: 1.00 - ETA: 3s - loss: 1.3296e-04 - accuracy: 1.00 - ETA: 3s - loss: 1.2883e-04 - accuracy: 1.00 - ETA: 3s - loss: 1.2692e-04 - accuracy: 1.00 - ETA: 3s - loss: 1.2502e-04 - accuracy: 1.00 - ETA: 3s - loss: 1.2318e-04 - accuracy: 1.00 - ETA: 3s - loss: 1.6686e-04 - accuracy: 1.00 - ETA: 3s - loss: 1.6451e-04 - accuracy: 1.00 - ETA: 3s - loss: 1.6226e-04 - accuracy: 1.00 - ETA: 3s - loss: 1.6005e-04 - accuracy: 1.00 - ETA: 3s - loss: 1.5789e-04 - accuracy: 1.00 - ETA: 3s - loss: 1.5579e-04 - accuracy: 1.00 - ETA: 3s - loss: 1.5374e-04 - accuracy: 1.00 - ETA: 3s - loss: 1.4980e-04 - accuracy: 1.00 - ETA: 3s - loss: 1.4606e-04 - accuracy: 1.00 - ETA: 3s - loss: 1.4426e-04 - accuracy: 1.00 - ETA: 3s - loss: 1.4250e-04 - accuracy: 1.00 - ETA: 3s - loss: 1.4078e-04 - accuracy: 1.00 - ETA: 3s - loss: 1.3769e-04 - accuracy: 1.00 - ETA: 2s - loss: 1.3456e-04 - accuracy: 1.00 - ETA: 2s - loss: 1.3153e-04 - accuracy: 1.00 - ETA: 2s - loss: 1.3007e-04 - accuracy: 1.00 - ETA: 2s - loss: 1.2724e-04 - accuracy: 1.00 - ETA: 2s - loss: 1.2455e-04 - accuracy: 1.00 - ETA: 2s - loss: 1.2324e-04 - accuracy: 1.00 - ETA: 2s - loss: 1.2100e-04 - accuracy: 1.00 - ETA: 2s - loss: 2.3143e-04 - accuracy: 1.00 - ETA: 2s - loss: 2.2685e-04 - accuracy: 1.00 - ETA: 2s - loss: 2.2254e-04 - accuracy: 1.00 - ETA: 2s - loss: 2.1831e-04 - accuracy: 1.00 - ETA: 2s - loss: 2.1625e-04 - accuracy: 1.00 - ETA: 2s - loss: 2.1423e-04 - accuracy: 1.00 - ETA: 2s - loss: 2.1030e-04 - accuracy: 1.00 - ETA: 1s - loss: 2.0651e-04 - accuracy: 1.00 - ETA: 1s - loss: 2.0435e-04 - accuracy: 1.00 - ETA: 1s - loss: 2.0258e-04 - accuracy: 1.00 - ETA: 1s - loss: 1.9910e-04 - accuracy: 1.00 - ETA: 1s - loss: 1.9739e-04 - accuracy: 1.00 - ETA: 1s - loss: 1.9572e-04 - accuracy: 1.00 - ETA: 1s - loss: 1.9246e-04 - accuracy: 1.00 - ETA: 1s - loss: 1.9087e-04 - accuracy: 1.00 - ETA: 1s - loss: 1.8931e-04 - accuracy: 1.00 - ETA: 1s - loss: 1.8625e-04 - accuracy: 1.00 - ETA: 1s - loss: 1.8476e-04 - accuracy: 1.00 - ETA: 1s - loss: 1.8330e-04 - accuracy: 1.00 - ETA: 1s - loss: 1.8189e-04 - accuracy: 1.00 - ETA: 1s - loss: 1.7907e-04 - accuracy: 1.00 - ETA: 1s - loss: 1.7769e-04 - accuracy: 1.00 - ETA: 1s - loss: 1.7634e-04 - accuracy: 1.00 - ETA: 0s - loss: 1.7369e-04 - accuracy: 1.00 - ETA: 0s - loss: 1.7239e-04 - accuracy: 1.00 - ETA: 0s - loss: 1.7112e-04 - accuracy: 1.00 - ETA: 0s - loss: 1.6986e-04 - accuracy: 1.00 - ETA: 0s - loss: 1.6862e-04 - accuracy: 1.00 - ETA: 0s - loss: 1.6758e-04 - accuracy: 1.00 - ETA: 0s - loss: 1.6638e-04 - accuracy: 1.00 - ETA: 0s - loss: 1.6413e-04 - accuracy: 1.00 - ETA: 0s - loss: 1.6183e-04 - accuracy: 1.00 - ETA: 0s - loss: 1.5960e-04 - accuracy: 1.00 - ETA: 0s - loss: 1.5851e-04 - accuracy: 1.00 - ETA: 0s - loss: 1.5745e-04 - accuracy: 1.00 - ETA: 0s - loss: 1.5639e-04 - accuracy: 1.00 - ETA: 0s - loss: 1.5534e-04 - accuracy: 1.00 - ETA: 0s - loss: 1.5430e-04 - accuracy: 1.00 - ETA: 0s - loss: 1.5328e-04 - accuracy: 1.00 - ETA: 0s - loss: 1.5227e-04 - accuracy: 1.00 - ETA: 0s - loss: 1.5127e-04 - accuracy: 1.00 - ETA: 0s - loss: 1.5029e-04 - accuracy: 1.00 - ETA: 0s - loss: 1.4932e-04 - accuracy: 1.00 - 7s 12ms/step - loss: 1.4884e-04 - accuracy: 1.0000 - val_loss: 0.0000e+00 - val_accuracy: 1.0000\n",
      "Epoch 26/50\n"
     ]
    },
    {
     "name": "stdout",
     "output_type": "stream",
     "text": [
      "622/622 [==============================] - ETA: 5s - loss: 0.0000e+00 - accuracy: 1.00 - ETA: 6s - loss: 9.8347e-07 - accuracy: 1.00 - ETA: 6s - loss: 1.0908e-06 - accuracy: 1.00 - ETA: 6s - loss: 8.8555e-07 - accuracy: 1.00 - ETA: 5s - loss: 1.0497e-06 - accuracy: 1.00 - ETA: 5s - loss: 8.5884e-07 - accuracy: 1.00 - ETA: 5s - loss: 1.0156e-06 - accuracy: 1.00 - ETA: 5s - loss: 8.8016e-07 - accuracy: 1.00 - ETA: 5s - loss: 1.7807e-05 - accuracy: 1.00 - ETA: 5s - loss: 1.6003e-05 - accuracy: 1.00 - ETA: 5s - loss: 1.4853e-05 - accuracy: 1.00 - ETA: 5s - loss: 1.3561e-05 - accuracy: 1.00 - ETA: 5s - loss: 1.2476e-05 - accuracy: 1.00 - ETA: 5s - loss: 0.0026 - accuracy: 1.0000   - ETA: 5s - loss: 0.0024 - accuracy: 1.00 - ETA: 5s - loss: 0.0023 - accuracy: 1.00 - ETA: 5s - loss: 0.0021 - accuracy: 1.00 - ETA: 4s - loss: 0.0020 - accuracy: 1.00 - ETA: 4s - loss: 0.0019 - accuracy: 1.00 - ETA: 4s - loss: 0.0019 - accuracy: 1.00 - ETA: 4s - loss: 0.0018 - accuracy: 1.00 - ETA: 4s - loss: 0.0018 - accuracy: 1.00 - ETA: 4s - loss: 0.0017 - accuracy: 1.00 - ETA: 4s - loss: 0.0016 - accuracy: 1.00 - ETA: 4s - loss: 0.0016 - accuracy: 1.00 - ETA: 4s - loss: 0.0015 - accuracy: 1.00 - ETA: 4s - loss: 0.0014 - accuracy: 1.00 - ETA: 4s - loss: 0.0019 - accuracy: 1.00 - ETA: 4s - loss: 0.0018 - accuracy: 1.00 - ETA: 4s - loss: 0.0018 - accuracy: 1.00 - ETA: 4s - loss: 0.0017 - accuracy: 1.00 - ETA: 4s - loss: 0.0016 - accuracy: 1.00 - ETA: 3s - loss: 0.0016 - accuracy: 1.00 - ETA: 3s - loss: 0.0015 - accuracy: 1.00 - ETA: 3s - loss: 0.0015 - accuracy: 1.00 - ETA: 3s - loss: 0.0015 - accuracy: 1.00 - ETA: 3s - loss: 0.0014 - accuracy: 1.00 - ETA: 3s - loss: 0.0014 - accuracy: 1.00 - ETA: 3s - loss: 0.0013 - accuracy: 1.00 - ETA: 3s - loss: 0.0013 - accuracy: 1.00 - ETA: 3s - loss: 0.0013 - accuracy: 1.00 - ETA: 3s - loss: 0.0012 - accuracy: 1.00 - ETA: 3s - loss: 0.0012 - accuracy: 1.00 - ETA: 3s - loss: 0.0012 - accuracy: 1.00 - ETA: 2s - loss: 0.0011 - accuracy: 1.00 - ETA: 2s - loss: 0.0011 - accuracy: 1.00 - ETA: 2s - loss: 0.0011 - accuracy: 1.00 - ETA: 2s - loss: 0.0011 - accuracy: 1.00 - ETA: 2s - loss: 0.0011 - accuracy: 1.00 - ETA: 2s - loss: 0.0010 - accuracy: 1.00 - ETA: 2s - loss: 0.0010 - accuracy: 1.00 - ETA: 2s - loss: 9.8865e-04 - accuracy: 1.00 - ETA: 2s - loss: 9.6907e-04 - accuracy: 1.00 - ETA: 2s - loss: 9.5025e-04 - accuracy: 1.00 - ETA: 2s - loss: 9.3215e-04 - accuracy: 1.00 - ETA: 2s - loss: 9.1476e-04 - accuracy: 1.00 - ETA: 1s - loss: 8.9798e-04 - accuracy: 1.00 - ETA: 1s - loss: 9.2506e-04 - accuracy: 1.00 - ETA: 1s - loss: 9.0868e-04 - accuracy: 1.00 - ETA: 1s - loss: 8.9288e-04 - accuracy: 1.00 - ETA: 1s - loss: 8.7787e-04 - accuracy: 1.00 - ETA: 1s - loss: 8.6312e-04 - accuracy: 1.00 - ETA: 1s - loss: 8.4885e-04 - accuracy: 1.00 - ETA: 1s - loss: 8.3705e-04 - accuracy: 1.00 - ETA: 1s - loss: 8.2448e-04 - accuracy: 1.00 - ETA: 1s - loss: 8.1607e-04 - accuracy: 1.00 - ETA: 1s - loss: 8.0342e-04 - accuracy: 1.00 - ETA: 1s - loss: 7.9115e-04 - accuracy: 1.00 - ETA: 0s - loss: 7.7932e-04 - accuracy: 1.00 - ETA: 0s - loss: 7.6778e-04 - accuracy: 1.00 - ETA: 0s - loss: 7.5657e-04 - accuracy: 1.00 - ETA: 0s - loss: 7.4579e-04 - accuracy: 1.00 - ETA: 0s - loss: 7.3521e-04 - accuracy: 1.00 - ETA: 0s - loss: 7.2492e-04 - accuracy: 1.00 - ETA: 0s - loss: 7.1493e-04 - accuracy: 1.00 - ETA: 0s - loss: 7.0532e-04 - accuracy: 1.00 - ETA: 0s - loss: 6.9587e-04 - accuracy: 1.00 - ETA: 0s - loss: 6.8665e-04 - accuracy: 1.00 - ETA: 0s - loss: 6.7768e-04 - accuracy: 1.00 - ETA: 0s - loss: 6.6893e-04 - accuracy: 1.00 - 7s 11ms/step - loss: 6.6678e-04 - accuracy: 1.0000 - val_loss: 0.0000e+00 - val_accuracy: 1.0000\n",
      "Epoch 27/50\n"
     ]
    },
    {
     "name": "stdout",
     "output_type": "stream",
     "text": [
      "622/622 [==============================] - ETA: 5s - loss: 0.0000e+00 - accuracy: 1.00 - ETA: 6s - loss: 0.0000e+00 - accuracy: 1.00 - ETA: 6s - loss: 0.0000e+00 - accuracy: 1.00 - ETA: 6s - loss: 1.7030e-08 - accuracy: 1.00 - ETA: 5s - loss: 2.9802e-08 - accuracy: 1.00 - ETA: 5s - loss: 8.1820e-07 - accuracy: 1.00 - ETA: 5s - loss: 6.9232e-07 - accuracy: 1.00 - ETA: 5s - loss: 6.0001e-07 - accuracy: 1.00 - ETA: 5s - loss: 5.3293e-07 - accuracy: 1.00 - ETA: 5s - loss: 4.7683e-07 - accuracy: 1.00 - ETA: 5s - loss: 4.3142e-07 - accuracy: 1.00 - ETA: 5s - loss: 4.7424e-07 - accuracy: 1.00 - ETA: 5s - loss: 4.4107e-07 - accuracy: 1.00 - ETA: 5s - loss: 9.4041e-07 - accuracy: 1.00 - ETA: 5s - loss: 8.7555e-07 - accuracy: 1.00 - ETA: 5s - loss: 8.1907e-07 - accuracy: 1.00 - ETA: 4s - loss: 7.6942e-07 - accuracy: 1.00 - ETA: 4s - loss: 7.2546e-07 - accuracy: 1.00 - ETA: 4s - loss: 9.5929e-07 - accuracy: 1.00 - ETA: 4s - loss: 1.7033e-06 - accuracy: 1.00 - ETA: 4s - loss: 1.6202e-06 - accuracy: 1.00 - ETA: 4s - loss: 1.5448e-06 - accuracy: 1.00 - ETA: 4s - loss: 1.5097e-06 - accuracy: 1.00 - ETA: 4s - loss: 1.4538e-06 - accuracy: 1.00 - ETA: 4s - loss: 1.7061e-06 - accuracy: 1.00 - ETA: 4s - loss: 1.6835e-06 - accuracy: 1.00 - ETA: 4s - loss: 1.6498e-06 - accuracy: 1.00 - ETA: 4s - loss: 1.5863e-06 - accuracy: 1.00 - ETA: 4s - loss: 1.5276e-06 - accuracy: 1.00 - ETA: 4s - loss: 1.4730e-06 - accuracy: 1.00 - ETA: 4s - loss: 1.6981e-06 - accuracy: 1.00 - ETA: 4s - loss: 1.6689e-06 - accuracy: 1.00 - ETA: 4s - loss: 1.6416e-06 - accuracy: 1.00 - ETA: 4s - loss: 1.6142e-06 - accuracy: 1.00 - ETA: 4s - loss: 1.8022e-06 - accuracy: 1.00 - ETA: 4s - loss: 1.7732e-06 - accuracy: 1.00 - ETA: 4s - loss: 4.5646e-05 - accuracy: 1.00 - ETA: 4s - loss: 4.4933e-05 - accuracy: 1.00 - ETA: 4s - loss: 4.4242e-05 - accuracy: 1.00 - ETA: 4s - loss: 4.3571e-05 - accuracy: 1.00 - ETA: 4s - loss: 4.2921e-05 - accuracy: 1.00 - ETA: 4s - loss: 4.2290e-05 - accuracy: 1.00 - ETA: 4s - loss: 4.1677e-05 - accuracy: 1.00 - ETA: 4s - loss: 4.1081e-05 - accuracy: 1.00 - ETA: 4s - loss: 4.0508e-05 - accuracy: 1.00 - ETA: 4s - loss: 3.9945e-05 - accuracy: 1.00 - ETA: 4s - loss: 3.9398e-05 - accuracy: 1.00 - ETA: 4s - loss: 3.8866e-05 - accuracy: 1.00 - ETA: 4s - loss: 3.8347e-05 - accuracy: 1.00 - ETA: 4s - loss: 3.7851e-05 - accuracy: 1.00 - ETA: 5s - loss: 3.7360e-05 - accuracy: 1.00 - ETA: 5s - loss: 3.6894e-05 - accuracy: 1.00 - ETA: 5s - loss: 3.6427e-05 - accuracy: 1.00 - ETA: 5s - loss: 3.5972e-05 - accuracy: 1.00 - ETA: 4s - loss: 3.5528e-05 - accuracy: 1.00 - ETA: 4s - loss: 3.5166e-05 - accuracy: 1.00 - ETA: 4s - loss: 4.6143e-05 - accuracy: 1.00 - ETA: 4s - loss: 4.5594e-05 - accuracy: 1.00 - ETA: 4s - loss: 4.5058e-05 - accuracy: 1.00 - ETA: 4s - loss: 4.4536e-05 - accuracy: 1.00 - ETA: 4s - loss: 4.4024e-05 - accuracy: 1.00 - ETA: 4s - loss: 4.3523e-05 - accuracy: 1.00 - ETA: 4s - loss: 4.3183e-05 - accuracy: 1.00 - ETA: 4s - loss: 4.8300e-05 - accuracy: 1.00 - ETA: 4s - loss: 4.7769e-05 - accuracy: 1.00 - ETA: 4s - loss: 4.7250e-05 - accuracy: 1.00 - ETA: 4s - loss: 4.6899e-05 - accuracy: 1.00 - ETA: 4s - loss: 4.6400e-05 - accuracy: 1.00 - ETA: 4s - loss: 4.6912e-05 - accuracy: 1.00 - ETA: 4s - loss: 4.6423e-05 - accuracy: 1.00 - ETA: 4s - loss: 4.6141e-05 - accuracy: 1.00 - ETA: 4s - loss: 4.5670e-05 - accuracy: 1.00 - ETA: 4s - loss: 4.5209e-05 - accuracy: 1.00 - ETA: 4s - loss: 4.4756e-05 - accuracy: 1.00 - ETA: 4s - loss: 4.4313e-05 - accuracy: 1.00 - ETA: 4s - loss: 4.3879e-05 - accuracy: 1.00 - ETA: 4s - loss: 4.3453e-05 - accuracy: 1.00 - ETA: 4s - loss: 4.3398e-05 - accuracy: 1.00 - ETA: 4s - loss: 4.2984e-05 - accuracy: 1.00 - ETA: 4s - loss: 4.2579e-05 - accuracy: 1.00 - ETA: 3s - loss: 4.8882e-05 - accuracy: 1.00 - ETA: 3s - loss: 4.8440e-05 - accuracy: 1.00 - ETA: 3s - loss: 4.8498e-05 - accuracy: 1.00 - ETA: 3s - loss: 4.8062e-05 - accuracy: 1.00 - ETA: 3s - loss: 4.7629e-05 - accuracy: 1.00 - ETA: 3s - loss: 4.7212e-05 - accuracy: 1.00 - ETA: 3s - loss: 4.6794e-05 - accuracy: 1.00 - ETA: 3s - loss: 4.6384e-05 - accuracy: 1.00 - ETA: 3s - loss: 4.5981e-05 - accuracy: 1.00 - ETA: 3s - loss: 4.5584e-05 - accuracy: 1.00 - ETA: 3s - loss: 4.5195e-05 - accuracy: 1.00 - ETA: 3s - loss: 4.4812e-05 - accuracy: 1.00 - ETA: 3s - loss: 4.4444e-05 - accuracy: 1.00 - ETA: 3s - loss: 4.4250e-05 - accuracy: 1.00 - ETA: 3s - loss: 4.3885e-05 - accuracy: 1.00 - ETA: 2s - loss: 4.3552e-05 - accuracy: 1.00 - ETA: 2s - loss: 4.3198e-05 - accuracy: 1.00 - ETA: 2s - loss: 4.2850e-05 - accuracy: 1.00 - ETA: 2s - loss: 4.2507e-05 - accuracy: 1.00 - ETA: 2s - loss: 4.2170e-05 - accuracy: 1.00 - ETA: 2s - loss: 4.1838e-05 - accuracy: 1.00 - ETA: 2s - loss: 4.1686e-05 - accuracy: 1.00 - ETA: 2s - loss: 4.1375e-05 - accuracy: 1.00 - ETA: 2s - loss: 4.1057e-05 - accuracy: 1.00 - ETA: 2s - loss: 4.0743e-05 - accuracy: 1.00 - ETA: 2s - loss: 4.0458e-05 - accuracy: 1.00 - ETA: 2s - loss: 4.0154e-05 - accuracy: 1.00 - ETA: 1s - loss: 3.9855e-05 - accuracy: 1.00 - ETA: 1s - loss: 3.9560e-05 - accuracy: 1.00 - ETA: 1s - loss: 3.9269e-05 - accuracy: 1.00 - ETA: 1s - loss: 3.8982e-05 - accuracy: 1.00 - ETA: 1s - loss: 3.8745e-05 - accuracy: 1.00 - ETA: 1s - loss: 3.8467e-05 - accuracy: 1.00 - ETA: 1s - loss: 3.8192e-05 - accuracy: 1.00 - ETA: 1s - loss: 3.7943e-05 - accuracy: 1.00 - ETA: 1s - loss: 3.7676e-05 - accuracy: 1.00 - ETA: 1s - loss: 3.7596e-05 - accuracy: 1.00 - ETA: 1s - loss: 3.7335e-05 - accuracy: 1.00 - ETA: 0s - loss: 3.7080e-05 - accuracy: 1.00 - ETA: 0s - loss: 3.6826e-05 - accuracy: 1.00 - ETA: 0s - loss: 3.6615e-05 - accuracy: 1.00 - ETA: 0s - loss: 3.6368e-05 - accuracy: 1.00 - ETA: 0s - loss: 3.6694e-05 - accuracy: 1.00 - ETA: 0s - loss: 3.6449e-05 - accuracy: 1.00 - ETA: 0s - loss: 3.6208e-05 - accuracy: 1.00 - ETA: 0s - loss: 3.5970e-05 - accuracy: 1.00 - ETA: 0s - loss: 3.5735e-05 - accuracy: 1.00 - ETA: 0s - loss: 3.5505e-05 - accuracy: 1.00 - ETA: 0s - loss: 3.5276e-05 - accuracy: 1.00 - 15s 25ms/step - loss: 3.5162e-05 - accuracy: 1.0000 - val_loss: 0.0000e+00 - val_accuracy: 1.0000\n",
      "Epoch 28/50\n"
     ]
    },
    {
     "name": "stdout",
     "output_type": "stream",
     "text": [
      "622/622 [==============================] - ETA: 18s - loss: 0.0000e+00 - accuracy: 1.000 - ETA: 18s - loss: 0.0000e+00 - accuracy: 1.000 - ETA: 18s - loss: 0.0000e+00 - accuracy: 1.000 - ETA: 18s - loss: 0.0000e+00 - accuracy: 1.000 - ETA: 18s - loss: 0.0000e+00 - accuracy: 1.000 - ETA: 18s - loss: 0.0000e+00 - accuracy: 1.000 - ETA: 18s - loss: 0.0000e+00 - accuracy: 1.000 - ETA: 18s - loss: 1.2293e-07 - accuracy: 1.000 - ETA: 18s - loss: 1.3908e-07 - accuracy: 1.000 - ETA: 18s - loss: 1.2517e-07 - accuracy: 1.000 - ETA: 18s - loss: 1.1379e-07 - accuracy: 1.000 - ETA: 17s - loss: 1.0431e-07 - accuracy: 1.000 - ETA: 17s - loss: 9.8577e-08 - accuracy: 1.000 - ETA: 17s - loss: 9.1536e-08 - accuracy: 1.000 - ETA: 17s - loss: 8.5433e-08 - accuracy: 1.000 - ETA: 17s - loss: 8.0094e-08 - accuracy: 1.000 - ETA: 17s - loss: 7.5382e-08 - accuracy: 1.000 - ETA: 17s - loss: 7.1194e-08 - accuracy: 1.000 - ETA: 17s - loss: 6.7447e-08 - accuracy: 1.000 - ETA: 16s - loss: 6.4075e-08 - accuracy: 1.000 - ETA: 16s - loss: 6.1024e-08 - accuracy: 1.000 - ETA: 16s - loss: 5.8250e-08 - accuracy: 1.000 - ETA: 16s - loss: 7.4633e-07 - accuracy: 1.000 - ETA: 16s - loss: 7.1523e-07 - accuracy: 1.000 - ETA: 16s - loss: 6.8663e-07 - accuracy: 1.000 - ETA: 16s - loss: 6.6022e-07 - accuracy: 1.000 - ETA: 16s - loss: 6.4018e-07 - accuracy: 1.000 - ETA: 15s - loss: 6.1732e-07 - accuracy: 1.000 - ETA: 15s - loss: 6.3302e-07 - accuracy: 1.000 - ETA: 15s - loss: 6.1192e-07 - accuracy: 1.000 - ETA: 15s - loss: 5.9411e-07 - accuracy: 1.000 - ETA: 15s - loss: 1.0654e-06 - accuracy: 1.000 - ETA: 15s - loss: 2.1655e-06 - accuracy: 1.000 - ETA: 15s - loss: 5.2070e-05 - accuracy: 1.000 - ETA: 15s - loss: 5.0586e-05 - accuracy: 1.000 - ETA: 14s - loss: 4.9181e-05 - accuracy: 1.000 - ETA: 14s - loss: 4.7907e-05 - accuracy: 1.000 - ETA: 14s - loss: 4.6646e-05 - accuracy: 1.000 - ETA: 14s - loss: 4.5461e-05 - accuracy: 1.000 - ETA: 14s - loss: 4.4325e-05 - accuracy: 1.000 - ETA: 14s - loss: 4.3244e-05 - accuracy: 1.000 - ETA: 14s - loss: 4.2214e-05 - accuracy: 1.000 - ETA: 14s - loss: 4.1232e-05 - accuracy: 1.000 - ETA: 14s - loss: 4.0295e-05 - accuracy: 1.000 - ETA: 13s - loss: 3.9400e-05 - accuracy: 1.000 - ETA: 13s - loss: 3.8545e-05 - accuracy: 1.000 - ETA: 13s - loss: 4.0202e-05 - accuracy: 1.000 - ETA: 13s - loss: 3.9382e-05 - accuracy: 1.000 - ETA: 13s - loss: 3.8579e-05 - accuracy: 1.000 - ETA: 13s - loss: 3.7807e-05 - accuracy: 1.000 - ETA: 13s - loss: 3.7067e-05 - accuracy: 1.000 - ETA: 13s - loss: 3.6747e-05 - accuracy: 1.000 - ETA: 12s - loss: 3.6055e-05 - accuracy: 1.000 - ETA: 12s - loss: 3.5387e-05 - accuracy: 1.000 - ETA: 12s - loss: 3.4744e-05 - accuracy: 1.000 - ETA: 12s - loss: 3.4124e-05 - accuracy: 1.000 - ETA: 12s - loss: 3.3525e-05 - accuracy: 1.000 - ETA: 12s - loss: 3.2947e-05 - accuracy: 1.000 - ETA: 12s - loss: 3.2388e-05 - accuracy: 1.000 - ETA: 12s - loss: 3.1849e-05 - accuracy: 1.000 - ETA: 11s - loss: 3.1504e-05 - accuracy: 1.000 - ETA: 11s - loss: 3.0996e-05 - accuracy: 1.000 - ETA: 11s - loss: 3.0504e-05 - accuracy: 1.000 - ETA: 11s - loss: 3.0027e-05 - accuracy: 1.000 - ETA: 11s - loss: 2.9565e-05 - accuracy: 1.000 - ETA: 11s - loss: 2.9117e-05 - accuracy: 1.000 - ETA: 11s - loss: 2.8683e-05 - accuracy: 1.000 - ETA: 11s - loss: 2.8459e-05 - accuracy: 1.000 - ETA: 10s - loss: 2.8047e-05 - accuracy: 1.000 - ETA: 10s - loss: 2.7646e-05 - accuracy: 1.000 - ETA: 10s - loss: 2.7259e-05 - accuracy: 1.000 - ETA: 10s - loss: 2.6880e-05 - accuracy: 1.000 - ETA: 10s - loss: 2.6514e-05 - accuracy: 1.000 - ETA: 10s - loss: 2.6156e-05 - accuracy: 1.000 - ETA: 10s - loss: 2.5807e-05 - accuracy: 1.000 - ETA: 10s - loss: 2.5468e-05 - accuracy: 1.000 - ETA: 9s - loss: 2.5137e-05 - accuracy: 1.000 - ETA: 9s - loss: 2.4815e-05 - accuracy: 1.00 - ETA: 9s - loss: 2.4500e-05 - accuracy: 1.00 - ETA: 9s - loss: 2.4194e-05 - accuracy: 1.00 - ETA: 9s - loss: 2.0018e-04 - accuracy: 1.00 - ETA: 9s - loss: 1.9774e-04 - accuracy: 1.00 - ETA: 9s - loss: 1.9536e-04 - accuracy: 1.00 - ETA: 9s - loss: 1.9304e-04 - accuracy: 1.00 - ETA: 8s - loss: 1.9076e-04 - accuracy: 1.00 - ETA: 8s - loss: 1.8855e-04 - accuracy: 1.00 - ETA: 8s - loss: 1.8638e-04 - accuracy: 1.00 - ETA: 8s - loss: 1.8426e-04 - accuracy: 1.00 - ETA: 8s - loss: 3.9360e-04 - accuracy: 1.00 - ETA: 8s - loss: 3.8922e-04 - accuracy: 1.00 - ETA: 8s - loss: 3.8495e-04 - accuracy: 1.00 - ETA: 8s - loss: 3.8076e-04 - accuracy: 1.00 - ETA: 7s - loss: 3.7667e-04 - accuracy: 1.00 - ETA: 7s - loss: 3.7266e-04 - accuracy: 1.00 - ETA: 7s - loss: 3.6874e-04 - accuracy: 1.00 - ETA: 7s - loss: 3.6490e-04 - accuracy: 1.00 - ETA: 7s - loss: 3.6114e-04 - accuracy: 1.00 - ETA: 7s - loss: 3.5763e-04 - accuracy: 1.00 - ETA: 7s - loss: 3.5401e-04 - accuracy: 1.00 - ETA: 6s - loss: 3.5047e-04 - accuracy: 1.00 - ETA: 6s - loss: 3.4700e-04 - accuracy: 1.00 - ETA: 6s - loss: 3.4360e-04 - accuracy: 1.00 - ETA: 6s - loss: 3.4027e-04 - accuracy: 1.00 - ETA: 6s - loss: 3.3699e-04 - accuracy: 1.00 - ETA: 6s - loss: 3.3378e-04 - accuracy: 1.00 - ETA: 6s - loss: 3.3064e-04 - accuracy: 1.00 - ETA: 6s - loss: 3.2755e-04 - accuracy: 1.00 - ETA: 5s - loss: 3.2453e-04 - accuracy: 1.00 - ETA: 5s - loss: 3.2155e-04 - accuracy: 1.00 - ETA: 5s - loss: 3.1863e-04 - accuracy: 1.00 - ETA: 5s - loss: 3.1576e-04 - accuracy: 1.00 - ETA: 5s - loss: 3.1294e-04 - accuracy: 1.00 - ETA: 5s - loss: 3.1017e-04 - accuracy: 1.00 - ETA: 5s - loss: 3.0745e-04 - accuracy: 1.00 - ETA: 5s - loss: 3.0477e-04 - accuracy: 1.00 - ETA: 4s - loss: 3.0215e-04 - accuracy: 1.00 - ETA: 4s - loss: 2.9956e-04 - accuracy: 1.00 - ETA: 4s - loss: 2.9702e-04 - accuracy: 1.00 - ETA: 4s - loss: 2.9453e-04 - accuracy: 1.00 - ETA: 4s - loss: 2.9208e-04 - accuracy: 1.00 - ETA: 4s - loss: 2.8966e-04 - accuracy: 1.00 - ETA: 4s - loss: 2.8729e-04 - accuracy: 1.00 - ETA: 4s - loss: 2.8495e-04 - accuracy: 1.00 - ETA: 3s - loss: 2.8266e-04 - accuracy: 1.00 - ETA: 3s - loss: 2.8040e-04 - accuracy: 1.00 - ETA: 3s - loss: 2.7821e-04 - accuracy: 1.00 - ETA: 3s - loss: 2.7632e-04 - accuracy: 1.00 - ETA: 3s - loss: 2.7416e-04 - accuracy: 1.00 - ETA: 3s - loss: 2.7205e-04 - accuracy: 1.00 - ETA: 3s - loss: 2.6996e-04 - accuracy: 1.00 - ETA: 3s - loss: 2.6792e-04 - accuracy: 1.00 - ETA: 2s - loss: 2.6589e-04 - accuracy: 1.00 - ETA: 2s - loss: 2.6389e-04 - accuracy: 1.00 - ETA: 2s - loss: 2.6196e-04 - accuracy: 1.00 - ETA: 2s - loss: 2.6002e-04 - accuracy: 1.00 - ETA: 2s - loss: 2.5810e-04 - accuracy: 1.00 - ETA: 2s - loss: 2.5622e-04 - accuracy: 1.00 - ETA: 2s - loss: 2.5436e-04 - accuracy: 1.00 - ETA: 2s - loss: 0.0064 - accuracy: 0.9982   - ETA: 1s - loss: 0.0064 - accuracy: 0.99 - ETA: 1s - loss: 0.0063 - accuracy: 0.99 - ETA: 1s - loss: 0.0063 - accuracy: 0.99 - ETA: 1s - loss: 0.0062 - accuracy: 0.99 - ETA: 1s - loss: 0.0062 - accuracy: 0.99 - ETA: 1s - loss: 0.0061 - accuracy: 0.99 - ETA: 1s - loss: 0.0061 - accuracy: 0.99 - ETA: 1s - loss: 0.0061 - accuracy: 0.99 - ETA: 0s - loss: 0.0060 - accuracy: 0.99 - ETA: 0s - loss: 0.0060 - accuracy: 0.99 - ETA: 0s - loss: 0.0059 - accuracy: 0.99 - ETA: 0s - loss: 0.0059 - accuracy: 0.99 - ETA: 0s - loss: 0.0059 - accuracy: 0.99 - ETA: 0s - loss: 0.0058 - accuracy: 0.99 - ETA: 0s - loss: 0.0058 - accuracy: 0.99 - ETA: 0s - loss: 0.0057 - accuracy: 0.99 - 20s 32ms/step - loss: 0.0057 - accuracy: 0.9984 - val_loss: 3.0566e-09 - val_accuracy: 1.0000\n",
      "Epoch 29/50\n"
     ]
    },
    {
     "name": "stdout",
     "output_type": "stream",
     "text": [
      "622/622 [==============================] - ETA: 19s - loss: 0.0000e+00 - accuracy: 1.000 - ETA: 19s - loss: 0.0000e+00 - accuracy: 1.000 - ETA: 19s - loss: 4.9671e-08 - accuracy: 1.000 - ETA: 19s - loss: 4.4703e-08 - accuracy: 1.000 - ETA: 19s - loss: 5.3644e-08 - accuracy: 1.000 - ETA: 19s - loss: 1.0928e-07 - accuracy: 1.000 - ETA: 19s - loss: 9.3664e-08 - accuracy: 1.000 - ETA: 19s - loss: 8.1956e-08 - accuracy: 1.000 - ETA: 19s - loss: 7.2850e-08 - accuracy: 1.000 - ETA: 19s - loss: 6.8545e-08 - accuracy: 1.000 - ETA: 19s - loss: 7.5860e-08 - accuracy: 1.000 - ETA: 19s - loss: 6.9539e-08 - accuracy: 1.000 - ETA: 19s - loss: 6.0856e-06 - accuracy: 1.000 - ETA: 18s - loss: 5.6509e-06 - accuracy: 1.000 - ETA: 18s - loss: 8.1877e-05 - accuracy: 1.000 - ETA: 18s - loss: 7.6759e-05 - accuracy: 1.000 - ETA: 18s - loss: 7.2284e-05 - accuracy: 1.000 - ETA: 18s - loss: 6.8269e-05 - accuracy: 1.000 - ETA: 18s - loss: 6.4676e-05 - accuracy: 1.000 - ETA: 18s - loss: 6.1443e-05 - accuracy: 1.000 - ETA: 17s - loss: 5.8517e-05 - accuracy: 1.000 - ETA: 17s - loss: 5.5857e-05 - accuracy: 1.000 - ETA: 17s - loss: 5.5344e-05 - accuracy: 1.000 - ETA: 17s - loss: 5.3038e-05 - accuracy: 1.000 - ETA: 17s - loss: 5.0927e-05 - accuracy: 1.000 - ETA: 17s - loss: 5.3525e-05 - accuracy: 1.000 - ETA: 16s - loss: 5.3703e-05 - accuracy: 1.000 - ETA: 16s - loss: 5.1796e-05 - accuracy: 1.000 - ETA: 16s - loss: 5.0041e-05 - accuracy: 1.000 - ETA: 16s - loss: 4.8373e-05 - accuracy: 1.000 - ETA: 16s - loss: 4.6812e-05 - accuracy: 1.000 - ETA: 16s - loss: 4.5350e-05 - accuracy: 1.000 - ETA: 16s - loss: 4.3976e-05 - accuracy: 1.000 - ETA: 15s - loss: 4.3320e-05 - accuracy: 1.000 - ETA: 15s - loss: 4.2082e-05 - accuracy: 1.000 - ETA: 15s - loss: 4.0913e-05 - accuracy: 1.000 - ETA: 15s - loss: 3.9808e-05 - accuracy: 1.000 - ETA: 15s - loss: 3.8760e-05 - accuracy: 1.000 - ETA: 15s - loss: 3.7766e-05 - accuracy: 1.000 - ETA: 15s - loss: 3.6822e-05 - accuracy: 1.000 - ETA: 14s - loss: 3.5924e-05 - accuracy: 1.000 - ETA: 14s - loss: 3.5069e-05 - accuracy: 1.000 - ETA: 14s - loss: 3.4259e-05 - accuracy: 1.000 - ETA: 14s - loss: 3.3480e-05 - accuracy: 1.000 - ETA: 14s - loss: 3.3824e-05 - accuracy: 1.000 - ETA: 14s - loss: 3.3099e-05 - accuracy: 1.000 - ETA: 14s - loss: 3.2405e-05 - accuracy: 1.000 - ETA: 13s - loss: 3.1732e-05 - accuracy: 1.000 - ETA: 13s - loss: 3.1105e-05 - accuracy: 1.000 - ETA: 13s - loss: 3.0483e-05 - accuracy: 1.000 - ETA: 13s - loss: 3.0718e-05 - accuracy: 1.000 - ETA: 13s - loss: 3.0127e-05 - accuracy: 1.000 - ETA: 13s - loss: 2.9581e-05 - accuracy: 1.000 - ETA: 13s - loss: 2.9033e-05 - accuracy: 1.000 - ETA: 12s - loss: 2.8907e-05 - accuracy: 1.000 - ETA: 12s - loss: 2.8430e-05 - accuracy: 1.000 - ETA: 12s - loss: 3.4691e-05 - accuracy: 1.000 - ETA: 12s - loss: 3.4092e-05 - accuracy: 1.000 - ETA: 12s - loss: 3.3540e-05 - accuracy: 1.000 - ETA: 12s - loss: 3.2981e-05 - accuracy: 1.000 - ETA: 12s - loss: 3.2444e-05 - accuracy: 1.000 - ETA: 12s - loss: 3.1921e-05 - accuracy: 1.000 - ETA: 11s - loss: 3.1414e-05 - accuracy: 1.000 - ETA: 11s - loss: 3.0923e-05 - accuracy: 1.000 - ETA: 11s - loss: 3.0448e-05 - accuracy: 1.000 - ETA: 11s - loss: 2.9987e-05 - accuracy: 1.000 - ETA: 11s - loss: 2.9540e-05 - accuracy: 1.000 - ETA: 11s - loss: 2.9105e-05 - accuracy: 1.000 - ETA: 11s - loss: 2.8683e-05 - accuracy: 1.000 - ETA: 10s - loss: 2.8277e-05 - accuracy: 1.000 - ETA: 10s - loss: 2.7880e-05 - accuracy: 1.000 - ETA: 10s - loss: 2.7572e-05 - accuracy: 1.000 - ETA: 10s - loss: 1.0928e-04 - accuracy: 1.000 - ETA: 10s - loss: 1.0780e-04 - accuracy: 1.000 - ETA: 10s - loss: 1.0636e-04 - accuracy: 1.000 - ETA: 10s - loss: 1.0497e-04 - accuracy: 1.000 - ETA: 10s - loss: 1.0360e-04 - accuracy: 1.000 - ETA: 9s - loss: 1.0227e-04 - accuracy: 1.000 - ETA: 9s - loss: 1.0210e-04 - accuracy: 1.00 - ETA: 9s - loss: 1.0082e-04 - accuracy: 1.00 - ETA: 9s - loss: 9.9586e-05 - accuracy: 1.00 - ETA: 9s - loss: 9.8372e-05 - accuracy: 1.00 - ETA: 9s - loss: 1.6681e-04 - accuracy: 1.00 - ETA: 9s - loss: 1.6483e-04 - accuracy: 1.00 - ETA: 9s - loss: 1.6289e-04 - accuracy: 1.00 - ETA: 8s - loss: 1.6100e-04 - accuracy: 1.00 - ETA: 8s - loss: 1.5915e-04 - accuracy: 1.00 - ETA: 8s - loss: 1.5734e-04 - accuracy: 1.00 - ETA: 8s - loss: 1.5557e-04 - accuracy: 1.00 - ETA: 8s - loss: 1.8275e-04 - accuracy: 1.00 - ETA: 8s - loss: 1.8074e-04 - accuracy: 1.00 - ETA: 8s - loss: 1.7878e-04 - accuracy: 1.00 - ETA: 7s - loss: 1.7933e-04 - accuracy: 1.00 - ETA: 7s - loss: 1.7742e-04 - accuracy: 1.00 - ETA: 7s - loss: 1.7555e-04 - accuracy: 1.00 - ETA: 7s - loss: 1.7372e-04 - accuracy: 1.00 - ETA: 7s - loss: 2.8193e-04 - accuracy: 1.00 - ETA: 7s - loss: 2.7906e-04 - accuracy: 1.00 - ETA: 7s - loss: 2.7624e-04 - accuracy: 1.00 - ETA: 7s - loss: 2.7378e-04 - accuracy: 1.00 - ETA: 6s - loss: 2.7107e-04 - accuracy: 1.00 - ETA: 6s - loss: 2.6841e-04 - accuracy: 1.00 - ETA: 6s - loss: 2.6581e-04 - accuracy: 1.00 - ETA: 6s - loss: 2.6325e-04 - accuracy: 1.00 - ETA: 6s - loss: 2.6074e-04 - accuracy: 1.00 - ETA: 6s - loss: 2.5828e-04 - accuracy: 1.00 - ETA: 6s - loss: 2.5629e-04 - accuracy: 1.00 - ETA: 6s - loss: 2.5391e-04 - accuracy: 1.00 - ETA: 5s - loss: 2.5235e-04 - accuracy: 1.00 - ETA: 5s - loss: 2.5006e-04 - accuracy: 1.00 - ETA: 5s - loss: 2.4791e-04 - accuracy: 1.00 - ETA: 5s - loss: 2.4570e-04 - accuracy: 1.00 - ETA: 5s - loss: 2.4353e-04 - accuracy: 1.00 - ETA: 5s - loss: 2.4150e-04 - accuracy: 1.00 - ETA: 5s - loss: 2.3940e-04 - accuracy: 1.00 - ETA: 5s - loss: 2.3734e-04 - accuracy: 1.00 - ETA: 4s - loss: 2.3531e-04 - accuracy: 1.00 - ETA: 4s - loss: 2.3332e-04 - accuracy: 1.00 - ETA: 4s - loss: 2.8353e-04 - accuracy: 1.00 - ETA: 4s - loss: 2.8117e-04 - accuracy: 1.00 - ETA: 4s - loss: 2.7884e-04 - accuracy: 1.00 - ETA: 4s - loss: 2.7673e-04 - accuracy: 1.00 - ETA: 4s - loss: 2.7448e-04 - accuracy: 1.00 - ETA: 4s - loss: 2.7227e-04 - accuracy: 1.00 - ETA: 3s - loss: 2.7009e-04 - accuracy: 1.00 - ETA: 3s - loss: 2.6795e-04 - accuracy: 1.00 - ETA: 3s - loss: 2.6584e-04 - accuracy: 1.00 - ETA: 3s - loss: 2.6376e-04 - accuracy: 1.00 - ETA: 3s - loss: 2.6172e-04 - accuracy: 1.00 - ETA: 3s - loss: 2.5970e-04 - accuracy: 1.00 - ETA: 3s - loss: 2.5772e-04 - accuracy: 1.00 - ETA: 2s - loss: 2.5578e-04 - accuracy: 1.00 - ETA: 2s - loss: 2.5385e-04 - accuracy: 1.00 - ETA: 2s - loss: 2.5196e-04 - accuracy: 1.00 - ETA: 2s - loss: 2.5524e-04 - accuracy: 1.00 - ETA: 2s - loss: 6.7114e-04 - accuracy: 1.00 - ETA: 2s - loss: 6.6624e-04 - accuracy: 1.00 - ETA: 2s - loss: 6.6141e-04 - accuracy: 1.00 - ETA: 2s - loss: 6.5665e-04 - accuracy: 1.00 - ETA: 1s - loss: 6.5196e-04 - accuracy: 1.00 - ETA: 1s - loss: 6.4734e-04 - accuracy: 1.00 - ETA: 1s - loss: 6.4278e-04 - accuracy: 1.00 - ETA: 1s - loss: 6.3855e-04 - accuracy: 1.00 - ETA: 1s - loss: 6.3411e-04 - accuracy: 1.00 - ETA: 1s - loss: 6.2974e-04 - accuracy: 1.00 - ETA: 1s - loss: 6.2543e-04 - accuracy: 1.00 - ETA: 1s - loss: 6.2117e-04 - accuracy: 1.00 - ETA: 0s - loss: 6.1698e-04 - accuracy: 1.00 - ETA: 0s - loss: 6.1284e-04 - accuracy: 1.00 - ETA: 0s - loss: 6.0875e-04 - accuracy: 1.00 - ETA: 0s - loss: 6.0472e-04 - accuracy: 1.00 - ETA: 0s - loss: 6.0076e-04 - accuracy: 1.00 - ETA: 0s - loss: 5.9683e-04 - accuracy: 1.00 - ETA: 0s - loss: 5.9523e-04 - accuracy: 1.00 - ETA: 0s - loss: 5.9140e-04 - accuracy: 1.00 - 20s 33ms/step - loss: 5.8950e-04 - accuracy: 1.0000 - val_loss: 0.0000e+00 - val_accuracy: 1.0000\n",
      "Epoch 30/50\n"
     ]
    },
    {
     "name": "stdout",
     "output_type": "stream",
     "text": [
      "622/622 [==============================] - ETA: 18s - loss: 0.0000e+00 - accuracy: 1.000 - ETA: 19s - loss: 4.5151e-04 - accuracy: 1.000 - ETA: 19s - loss: 3.0101e-04 - accuracy: 1.000 - ETA: 19s - loss: 2.2575e-04 - accuracy: 1.000 - ETA: 19s - loss: 1.8086e-04 - accuracy: 1.000 - ETA: 19s - loss: 0.2571 - accuracy: 0.9583    - ETA: 19s - loss: 0.2204 - accuracy: 0.964 - ETA: 19s - loss: 0.1928 - accuracy: 0.968 - ETA: 19s - loss: 0.1714 - accuracy: 0.972 - ETA: 19s - loss: 0.1543 - accuracy: 0.975 - ETA: 18s - loss: 0.1403 - accuracy: 0.977 - ETA: 18s - loss: 0.1288 - accuracy: 0.979 - ETA: 18s - loss: 0.1189 - accuracy: 0.980 - ETA: 18s - loss: 0.1104 - accuracy: 0.982 - ETA: 18s - loss: 0.1030 - accuracy: 0.983 - ETA: 18s - loss: 0.0966 - accuracy: 0.984 - ETA: 18s - loss: 0.0909 - accuracy: 0.985 - ETA: 17s - loss: 0.0859 - accuracy: 0.986 - ETA: 17s - loss: 0.0815 - accuracy: 0.986 - ETA: 17s - loss: 0.0775 - accuracy: 0.987 - ETA: 17s - loss: 0.0738 - accuracy: 0.988 - ETA: 17s - loss: 0.0729 - accuracy: 0.988 - ETA: 17s - loss: 0.0697 - accuracy: 0.989 - ETA: 17s - loss: 0.0668 - accuracy: 0.989 - ETA: 17s - loss: 0.0641 - accuracy: 0.990 - ETA: 16s - loss: 0.0622 - accuracy: 0.990 - ETA: 16s - loss: 0.0599 - accuracy: 0.990 - ETA: 16s - loss: 0.0577 - accuracy: 0.991 - ETA: 16s - loss: 0.0557 - accuracy: 0.991 - ETA: 16s - loss: 0.0539 - accuracy: 0.991 - ETA: 16s - loss: 0.0522 - accuracy: 0.991 - ETA: 16s - loss: 0.0505 - accuracy: 0.992 - ETA: 15s - loss: 0.0490 - accuracy: 0.992 - ETA: 15s - loss: 0.0475 - accuracy: 0.992 - ETA: 15s - loss: 0.0465 - accuracy: 0.992 - ETA: 15s - loss: 0.0541 - accuracy: 0.986 - ETA: 15s - loss: 0.0526 - accuracy: 0.986 - ETA: 15s - loss: 0.0512 - accuracy: 0.986 - ETA: 15s - loss: 0.0499 - accuracy: 0.987 - ETA: 14s - loss: 0.0488 - accuracy: 0.987 - ETA: 14s - loss: 0.0476 - accuracy: 0.987 - ETA: 14s - loss: 0.0465 - accuracy: 0.988 - ETA: 14s - loss: 0.0456 - accuracy: 0.988 - ETA: 14s - loss: 0.0445 - accuracy: 0.988 - ETA: 14s - loss: 0.0435 - accuracy: 0.988 - ETA: 14s - loss: 0.0426 - accuracy: 0.989 - ETA: 14s - loss: 0.0417 - accuracy: 0.989 - ETA: 13s - loss: 0.0408 - accuracy: 0.989 - ETA: 13s - loss: 0.0401 - accuracy: 0.989 - ETA: 13s - loss: 0.0393 - accuracy: 0.990 - ETA: 13s - loss: 0.0385 - accuracy: 0.990 - ETA: 13s - loss: 0.0378 - accuracy: 0.990 - ETA: 13s - loss: 0.0371 - accuracy: 0.990 - ETA: 13s - loss: 0.0364 - accuracy: 0.990 - ETA: 12s - loss: 0.0357 - accuracy: 0.990 - ETA: 12s - loss: 0.0351 - accuracy: 0.991 - ETA: 12s - loss: 0.0345 - accuracy: 0.991 - ETA: 12s - loss: 0.0339 - accuracy: 0.991 - ETA: 12s - loss: 0.0333 - accuracy: 0.991 - ETA: 12s - loss: 0.0327 - accuracy: 0.991 - ETA: 12s - loss: 0.0322 - accuracy: 0.991 - ETA: 12s - loss: 0.0317 - accuracy: 0.991 - ETA: 11s - loss: 0.0312 - accuracy: 0.992 - ETA: 11s - loss: 0.0359 - accuracy: 0.988 - ETA: 11s - loss: 0.0353 - accuracy: 0.988 - ETA: 11s - loss: 0.0348 - accuracy: 0.988 - ETA: 11s - loss: 0.0343 - accuracy: 0.988 - ETA: 11s - loss: 0.0338 - accuracy: 0.989 - ETA: 11s - loss: 0.0333 - accuracy: 0.989 - ETA: 10s - loss: 0.0328 - accuracy: 0.989 - ETA: 10s - loss: 0.0324 - accuracy: 0.989 - ETA: 10s - loss: 0.0319 - accuracy: 0.989 - ETA: 10s - loss: 0.0315 - accuracy: 0.989 - ETA: 10s - loss: 0.0310 - accuracy: 0.989 - ETA: 10s - loss: 0.0315 - accuracy: 0.990 - ETA: 10s - loss: 0.0311 - accuracy: 0.990 - ETA: 10s - loss: 0.0307 - accuracy: 0.990 - ETA: 9s - loss: 0.0303 - accuracy: 0.990 - ETA: 9s - loss: 0.0299 - accuracy: 0.99 - ETA: 9s - loss: 0.0296 - accuracy: 0.99 - ETA: 9s - loss: 0.0292 - accuracy: 0.99 - ETA: 9s - loss: 0.0290 - accuracy: 0.99 - ETA: 9s - loss: 0.0287 - accuracy: 0.99 - ETA: 9s - loss: 0.0283 - accuracy: 0.99 - ETA: 9s - loss: 0.0280 - accuracy: 0.99 - ETA: 8s - loss: 0.0277 - accuracy: 0.99 - ETA: 8s - loss: 0.0274 - accuracy: 0.99 - ETA: 8s - loss: 0.0271 - accuracy: 0.99 - ETA: 8s - loss: 0.0268 - accuracy: 0.99 - ETA: 8s - loss: 0.0265 - accuracy: 0.99 - ETA: 8s - loss: 0.0262 - accuracy: 0.99 - ETA: 8s - loss: 0.0259 - accuracy: 0.99 - ETA: 7s - loss: 0.0256 - accuracy: 0.99 - ETA: 7s - loss: 0.0254 - accuracy: 0.99 - ETA: 7s - loss: 0.0251 - accuracy: 0.99 - ETA: 7s - loss: 0.0248 - accuracy: 0.99 - ETA: 7s - loss: 0.0246 - accuracy: 0.99 - ETA: 7s - loss: 0.0243 - accuracy: 0.99 - ETA: 7s - loss: 0.0241 - accuracy: 0.99 - ETA: 7s - loss: 0.0239 - accuracy: 0.99 - ETA: 6s - loss: 0.0236 - accuracy: 0.99 - ETA: 6s - loss: 0.0234 - accuracy: 0.99 - ETA: 6s - loss: 0.0232 - accuracy: 0.99 - ETA: 6s - loss: 0.0229 - accuracy: 0.99 - ETA: 6s - loss: 0.0227 - accuracy: 0.99 - ETA: 6s - loss: 0.0225 - accuracy: 0.99 - ETA: 6s - loss: 0.0223 - accuracy: 0.99 - ETA: 6s - loss: 0.0221 - accuracy: 0.99 - ETA: 5s - loss: 0.0219 - accuracy: 0.99 - ETA: 5s - loss: 0.0217 - accuracy: 0.99 - ETA: 5s - loss: 0.0215 - accuracy: 0.99 - ETA: 5s - loss: 0.0216 - accuracy: 0.99 - ETA: 5s - loss: 0.0214 - accuracy: 0.99 - ETA: 5s - loss: 0.0212 - accuracy: 0.99 - ETA: 5s - loss: 0.0218 - accuracy: 0.99 - ETA: 5s - loss: 0.0216 - accuracy: 0.99 - ETA: 4s - loss: 0.0215 - accuracy: 0.99 - ETA: 4s - loss: 0.0213 - accuracy: 0.99 - ETA: 4s - loss: 0.0211 - accuracy: 0.99 - ETA: 4s - loss: 0.0209 - accuracy: 0.99 - ETA: 4s - loss: 0.0208 - accuracy: 0.99 - ETA: 4s - loss: 0.0206 - accuracy: 0.99 - ETA: 4s - loss: 0.0204 - accuracy: 0.99 - ETA: 4s - loss: 0.0203 - accuracy: 0.99 - ETA: 3s - loss: 0.0201 - accuracy: 0.99 - ETA: 3s - loss: 0.0199 - accuracy: 0.99 - ETA: 3s - loss: 0.0198 - accuracy: 0.99 - ETA: 3s - loss: 0.0196 - accuracy: 0.99 - ETA: 3s - loss: 0.0195 - accuracy: 0.99 - ETA: 3s - loss: 0.0193 - accuracy: 0.99 - ETA: 3s - loss: 0.0192 - accuracy: 0.99 - ETA: 2s - loss: 0.0190 - accuracy: 0.99 - ETA: 2s - loss: 0.0189 - accuracy: 0.99 - ETA: 2s - loss: 0.0187 - accuracy: 0.99 - ETA: 2s - loss: 0.0186 - accuracy: 0.99 - ETA: 2s - loss: 0.0185 - accuracy: 0.99 - ETA: 2s - loss: 0.0183 - accuracy: 0.99 - ETA: 2s - loss: 0.0182 - accuracy: 0.99 - ETA: 2s - loss: 0.0181 - accuracy: 0.99 - ETA: 1s - loss: 0.0179 - accuracy: 0.99 - ETA: 1s - loss: 0.0178 - accuracy: 0.99 - ETA: 1s - loss: 0.0177 - accuracy: 0.99 - ETA: 1s - loss: 0.0177 - accuracy: 0.99 - ETA: 1s - loss: 0.0176 - accuracy: 0.99 - ETA: 1s - loss: 0.0174 - accuracy: 0.99 - ETA: 1s - loss: 0.0173 - accuracy: 0.99 - ETA: 1s - loss: 0.0172 - accuracy: 0.99 - ETA: 0s - loss: 0.0171 - accuracy: 0.99 - ETA: 0s - loss: 0.0170 - accuracy: 0.99 - ETA: 0s - loss: 0.0169 - accuracy: 0.99 - ETA: 0s - loss: 0.0167 - accuracy: 0.99 - ETA: 0s - loss: 0.0166 - accuracy: 0.99 - ETA: 0s - loss: 0.0165 - accuracy: 0.99 - ETA: 0s - loss: 0.0164 - accuracy: 0.99 - ETA: 0s - loss: 0.0163 - accuracy: 0.99 - 20s 33ms/step - loss: 0.0163 - accuracy: 0.9952 - val_loss: 0.0000e+00 - val_accuracy: 1.0000\n",
      "Epoch 31/50\n"
     ]
    },
    {
     "name": "stdout",
     "output_type": "stream",
     "text": [
      "622/622 [==============================] - ETA: 18s - loss: 2.9802e-08 - accuracy: 1.000 - ETA: 18s - loss: 4.4703e-08 - accuracy: 1.000 - ETA: 18s - loss: 2.9802e-08 - accuracy: 1.000 - ETA: 19s - loss: 2.2352e-08 - accuracy: 1.000 - ETA: 19s - loss: 1.7881e-08 - accuracy: 1.000 - ETA: 19s - loss: 1.4901e-08 - accuracy: 1.000 - ETA: 18s - loss: 1.2772e-08 - accuracy: 1.000 - ETA: 18s - loss: 1.4901e-08 - accuracy: 1.000 - ETA: 18s - loss: 1.3245e-08 - accuracy: 1.000 - ETA: 18s - loss: 5.3048e-07 - accuracy: 1.000 - ETA: 18s - loss: 4.8225e-07 - accuracy: 1.000 - ETA: 18s - loss: 4.5696e-07 - accuracy: 1.000 - ETA: 18s - loss: 5.7541e-07 - accuracy: 1.000 - ETA: 18s - loss: 5.3431e-07 - accuracy: 1.000 - ETA: 18s - loss: 4.9869e-07 - accuracy: 1.000 - ETA: 18s - loss: 0.0441 - accuracy: 0.9844    - ETA: 18s - loss: 0.0415 - accuracy: 0.985 - ETA: 18s - loss: 0.0392 - accuracy: 0.986 - ETA: 18s - loss: 0.0372 - accuracy: 0.986 - ETA: 18s - loss: 0.0353 - accuracy: 0.987 - ETA: 18s - loss: 0.0336 - accuracy: 0.988 - ETA: 17s - loss: 0.0321 - accuracy: 0.988 - ETA: 17s - loss: 0.0307 - accuracy: 0.989 - ETA: 17s - loss: 0.0294 - accuracy: 0.989 - ETA: 17s - loss: 0.0282 - accuracy: 0.990 - ETA: 17s - loss: 0.0272 - accuracy: 0.990 - ETA: 17s - loss: 0.0261 - accuracy: 0.990 - ETA: 17s - loss: 0.0252 - accuracy: 0.991 - ETA: 16s - loss: 0.0243 - accuracy: 0.991 - ETA: 16s - loss: 0.0235 - accuracy: 0.991 - ETA: 16s - loss: 0.0228 - accuracy: 0.991 - ETA: 16s - loss: 0.0221 - accuracy: 0.992 - ETA: 16s - loss: 0.0214 - accuracy: 0.992 - ETA: 16s - loss: 0.0208 - accuracy: 0.992 - ETA: 16s - loss: 0.0202 - accuracy: 0.992 - ETA: 16s - loss: 0.0196 - accuracy: 0.993 - ETA: 15s - loss: 0.0191 - accuracy: 0.993 - ETA: 15s - loss: 0.0186 - accuracy: 0.993 - ETA: 15s - loss: 0.0181 - accuracy: 0.993 - ETA: 15s - loss: 0.0176 - accuracy: 0.993 - ETA: 15s - loss: 0.0191 - accuracy: 0.993 - ETA: 15s - loss: 0.0186 - accuracy: 0.994 - ETA: 15s - loss: 0.0182 - accuracy: 0.994 - ETA: 14s - loss: 0.0295 - accuracy: 0.988 - ETA: 14s - loss: 0.0298 - accuracy: 0.988 - ETA: 14s - loss: 0.0292 - accuracy: 0.989 - ETA: 14s - loss: 0.0286 - accuracy: 0.989 - ETA: 14s - loss: 0.0280 - accuracy: 0.989 - ETA: 14s - loss: 0.0274 - accuracy: 0.989 - ETA: 14s - loss: 0.0268 - accuracy: 0.990 - ETA: 14s - loss: 0.0263 - accuracy: 0.990 - ETA: 13s - loss: 0.0262 - accuracy: 0.990 - ETA: 13s - loss: 0.0257 - accuracy: 0.990 - ETA: 13s - loss: 0.0253 - accuracy: 0.990 - ETA: 13s - loss: 0.0248 - accuracy: 0.990 - ETA: 13s - loss: 0.0244 - accuracy: 0.991 - ETA: 13s - loss: 0.0239 - accuracy: 0.991 - ETA: 13s - loss: 0.0235 - accuracy: 0.991 - ETA: 13s - loss: 0.0231 - accuracy: 0.991 - ETA: 12s - loss: 0.0230 - accuracy: 0.991 - ETA: 12s - loss: 0.0226 - accuracy: 0.991 - ETA: 12s - loss: 0.0222 - accuracy: 0.991 - ETA: 12s - loss: 0.0219 - accuracy: 0.992 - ETA: 12s - loss: 0.0215 - accuracy: 0.992 - ETA: 12s - loss: 0.0212 - accuracy: 0.992 - ETA: 12s - loss: 0.0209 - accuracy: 0.992 - ETA: 11s - loss: 0.0206 - accuracy: 0.992 - ETA: 11s - loss: 0.0203 - accuracy: 0.992 - ETA: 11s - loss: 0.0200 - accuracy: 0.992 - ETA: 11s - loss: 0.0197 - accuracy: 0.992 - ETA: 11s - loss: 0.0194 - accuracy: 0.993 - ETA: 11s - loss: 0.0259 - accuracy: 0.989 - ETA: 11s - loss: 0.0255 - accuracy: 0.989 - ETA: 10s - loss: 0.0252 - accuracy: 0.989 - ETA: 10s - loss: 0.0248 - accuracy: 0.990 - ETA: 10s - loss: 0.0245 - accuracy: 0.990 - ETA: 10s - loss: 0.0242 - accuracy: 0.990 - ETA: 10s - loss: 0.0239 - accuracy: 0.990 - ETA: 10s - loss: 0.0236 - accuracy: 0.990 - ETA: 10s - loss: 0.0233 - accuracy: 0.990 - ETA: 9s - loss: 0.0230 - accuracy: 0.990 - ETA: 9s - loss: 0.0227 - accuracy: 0.99 - ETA: 9s - loss: 0.0225 - accuracy: 0.99 - ETA: 9s - loss: 0.0222 - accuracy: 0.99 - ETA: 9s - loss: 0.0219 - accuracy: 0.99 - ETA: 9s - loss: 0.0217 - accuracy: 0.99 - ETA: 9s - loss: 0.0215 - accuracy: 0.99 - ETA: 8s - loss: 0.0212 - accuracy: 0.99 - ETA: 8s - loss: 0.0210 - accuracy: 0.99 - ETA: 8s - loss: 0.0207 - accuracy: 0.99 - ETA: 8s - loss: 0.0205 - accuracy: 0.99 - ETA: 8s - loss: 0.0203 - accuracy: 0.99 - ETA: 8s - loss: 0.0201 - accuracy: 0.99 - ETA: 8s - loss: 0.0199 - accuracy: 0.99 - ETA: 8s - loss: 0.0277 - accuracy: 0.98 - ETA: 7s - loss: 0.0274 - accuracy: 0.98 - ETA: 7s - loss: 0.0271 - accuracy: 0.98 - ETA: 7s - loss: 0.0269 - accuracy: 0.98 - ETA: 7s - loss: 0.0266 - accuracy: 0.98 - ETA: 7s - loss: 0.0263 - accuracy: 0.99 - ETA: 7s - loss: 0.0261 - accuracy: 0.99 - ETA: 7s - loss: 0.0336 - accuracy: 0.98 - ETA: 6s - loss: 0.0333 - accuracy: 0.98 - ETA: 6s - loss: 0.0330 - accuracy: 0.98 - ETA: 6s - loss: 0.0327 - accuracy: 0.98 - ETA: 6s - loss: 0.0326 - accuracy: 0.98 - ETA: 6s - loss: 0.0323 - accuracy: 0.98 - ETA: 6s - loss: 0.0320 - accuracy: 0.98 - ETA: 6s - loss: 0.0317 - accuracy: 0.98 - ETA: 6s - loss: 0.0314 - accuracy: 0.98 - ETA: 5s - loss: 0.0311 - accuracy: 0.98 - ETA: 5s - loss: 0.0309 - accuracy: 0.98 - ETA: 5s - loss: 0.0306 - accuracy: 0.98 - ETA: 5s - loss: 0.0338 - accuracy: 0.98 - ETA: 5s - loss: 0.0335 - accuracy: 0.98 - ETA: 5s - loss: 0.0332 - accuracy: 0.98 - ETA: 5s - loss: 0.0330 - accuracy: 0.98 - ETA: 4s - loss: 0.0327 - accuracy: 0.98 - ETA: 4s - loss: 0.0324 - accuracy: 0.98 - ETA: 4s - loss: 0.0321 - accuracy: 0.98 - ETA: 4s - loss: 0.0319 - accuracy: 0.98 - ETA: 4s - loss: 0.0316 - accuracy: 0.98 - ETA: 4s - loss: 0.0314 - accuracy: 0.98 - ETA: 4s - loss: 0.0311 - accuracy: 0.98 - ETA: 4s - loss: 0.0309 - accuracy: 0.98 - ETA: 3s - loss: 0.0307 - accuracy: 0.98 - ETA: 3s - loss: 0.0304 - accuracy: 0.98 - ETA: 3s - loss: 0.0302 - accuracy: 0.98 - ETA: 3s - loss: 0.0299 - accuracy: 0.98 - ETA: 3s - loss: 0.0338 - accuracy: 0.98 - ETA: 3s - loss: 0.0341 - accuracy: 0.98 - ETA: 3s - loss: 0.0339 - accuracy: 0.98 - ETA: 2s - loss: 0.0336 - accuracy: 0.98 - ETA: 2s - loss: 0.0334 - accuracy: 0.98 - ETA: 2s - loss: 0.0331 - accuracy: 0.98 - ETA: 2s - loss: 0.0329 - accuracy: 0.98 - ETA: 2s - loss: 0.0327 - accuracy: 0.98 - ETA: 2s - loss: 0.0335 - accuracy: 0.98 - ETA: 2s - loss: 0.0333 - accuracy: 0.98 - ETA: 2s - loss: 0.0331 - accuracy: 0.98 - ETA: 1s - loss: 0.0328 - accuracy: 0.98 - ETA: 1s - loss: 0.0326 - accuracy: 0.98 - ETA: 1s - loss: 0.0349 - accuracy: 0.98 - ETA: 1s - loss: 0.0346 - accuracy: 0.98 - ETA: 1s - loss: 0.0344 - accuracy: 0.98 - ETA: 1s - loss: 0.0342 - accuracy: 0.98 - ETA: 1s - loss: 0.0339 - accuracy: 0.98 - ETA: 0s - loss: 0.0337 - accuracy: 0.98 - ETA: 0s - loss: 0.0335 - accuracy: 0.98 - ETA: 0s - loss: 0.0333 - accuracy: 0.98 - ETA: 0s - loss: 0.0330 - accuracy: 0.98 - ETA: 0s - loss: 0.0328 - accuracy: 0.98 - ETA: 0s - loss: 0.0326 - accuracy: 0.98 - ETA: 0s - loss: 0.0324 - accuracy: 0.98 - ETA: 0s - loss: 0.0322 - accuracy: 0.98 - 21s 34ms/step - loss: 0.0321 - accuracy: 0.9871 - val_loss: 0.0000e+00 - val_accuracy: 1.0000\n",
      "Epoch 32/50\n"
     ]
    },
    {
     "name": "stdout",
     "output_type": "stream",
     "text": [
      "622/622 [==============================] - ETA: 18s - loss: 0.0000e+00 - accuracy: 1.000 - ETA: 18s - loss: 1.3411e-06 - accuracy: 1.000 - ETA: 19s - loss: 3.1888e-06 - accuracy: 1.000 - ETA: 19s - loss: 2.3916e-06 - accuracy: 1.000 - ETA: 19s - loss: 1.9133e-06 - accuracy: 1.000 - ETA: 19s - loss: 1.5944e-06 - accuracy: 1.000 - ETA: 18s - loss: 1.3666e-06 - accuracy: 1.000 - ETA: 18s - loss: 1.1958e-06 - accuracy: 1.000 - ETA: 18s - loss: 1.0629e-06 - accuracy: 1.000 - ETA: 18s - loss: 9.5665e-07 - accuracy: 1.000 - ETA: 18s - loss: 8.6968e-07 - accuracy: 1.000 - ETA: 18s - loss: 7.9721e-07 - accuracy: 1.000 - ETA: 18s - loss: 7.3588e-07 - accuracy: 1.000 - ETA: 18s - loss: 6.8332e-07 - accuracy: 1.000 - ETA: 18s - loss: 1.0328e-04 - accuracy: 1.000 - ETA: 17s - loss: 9.6830e-05 - accuracy: 1.000 - ETA: 17s - loss: 9.1134e-05 - accuracy: 1.000 - ETA: 17s - loss: 8.6071e-05 - accuracy: 1.000 - ETA: 17s - loss: 8.1541e-05 - accuracy: 1.000 - ETA: 17s - loss: 7.7464e-05 - accuracy: 1.000 - ETA: 17s - loss: 7.3775e-05 - accuracy: 1.000 - ETA: 17s - loss: 8.5792e-05 - accuracy: 1.000 - ETA: 17s - loss: 9.3357e-05 - accuracy: 1.000 - ETA: 16s - loss: 8.9467e-05 - accuracy: 1.000 - ETA: 16s - loss: 8.5889e-05 - accuracy: 1.000 - ETA: 16s - loss: 5.5903e-04 - accuracy: 1.000 - ETA: 16s - loss: 5.4012e-04 - accuracy: 1.000 - ETA: 16s - loss: 5.2179e-04 - accuracy: 1.000 - ETA: 16s - loss: 5.0380e-04 - accuracy: 1.000 - ETA: 16s - loss: 4.8700e-04 - accuracy: 1.000 - ETA: 16s - loss: 4.7129e-04 - accuracy: 1.000 - ETA: 16s - loss: 4.5939e-04 - accuracy: 1.000 - ETA: 16s - loss: 4.4547e-04 - accuracy: 1.000 - ETA: 16s - loss: 4.3775e-04 - accuracy: 1.000 - ETA: 15s - loss: 4.2524e-04 - accuracy: 1.000 - ETA: 15s - loss: 4.1343e-04 - accuracy: 1.000 - ETA: 15s - loss: 4.0226e-04 - accuracy: 1.000 - ETA: 15s - loss: 3.9167e-04 - accuracy: 1.000 - ETA: 15s - loss: 3.8163e-04 - accuracy: 1.000 - ETA: 15s - loss: 3.7209e-04 - accuracy: 1.000 - ETA: 15s - loss: 3.6302e-04 - accuracy: 1.000 - ETA: 15s - loss: 3.5438e-04 - accuracy: 1.000 - ETA: 14s - loss: 3.4613e-04 - accuracy: 1.000 - ETA: 14s - loss: 3.3827e-04 - accuracy: 1.000 - ETA: 14s - loss: 3.3075e-04 - accuracy: 1.000 - ETA: 14s - loss: 3.2356e-04 - accuracy: 1.000 - ETA: 14s - loss: 3.1668e-04 - accuracy: 1.000 - ETA: 14s - loss: 3.1008e-04 - accuracy: 1.000 - ETA: 14s - loss: 3.0388e-04 - accuracy: 1.000 - ETA: 14s - loss: 2.9781e-04 - accuracy: 1.000 - ETA: 13s - loss: 2.9197e-04 - accuracy: 1.000 - ETA: 13s - loss: 2.8635e-04 - accuracy: 1.000 - ETA: 13s - loss: 2.8097e-04 - accuracy: 1.000 - ETA: 13s - loss: 2.7576e-04 - accuracy: 1.000 - ETA: 13s - loss: 2.7075e-04 - accuracy: 1.000 - ETA: 13s - loss: 2.6592e-04 - accuracy: 1.000 - ETA: 13s - loss: 2.6125e-04 - accuracy: 1.000 - ETA: 12s - loss: 2.5675e-04 - accuracy: 1.000 - ETA: 12s - loss: 2.5244e-04 - accuracy: 1.000 - ETA: 12s - loss: 2.4823e-04 - accuracy: 1.000 - ETA: 12s - loss: 2.4416e-04 - accuracy: 1.000 - ETA: 12s - loss: 2.4022e-04 - accuracy: 1.000 - ETA: 12s - loss: 2.3641e-04 - accuracy: 1.000 - ETA: 12s - loss: 2.3272e-04 - accuracy: 1.000 - ETA: 11s - loss: 2.2914e-04 - accuracy: 1.000 - ETA: 11s - loss: 2.2566e-04 - accuracy: 1.000 - ETA: 11s - loss: 2.3581e-04 - accuracy: 1.000 - ETA: 11s - loss: 2.3240e-04 - accuracy: 1.000 - ETA: 11s - loss: 2.2904e-04 - accuracy: 1.000 - ETA: 11s - loss: 2.2576e-04 - accuracy: 1.000 - ETA: 11s - loss: 2.2258e-04 - accuracy: 1.000 - ETA: 10s - loss: 2.1949e-04 - accuracy: 1.000 - ETA: 10s - loss: 2.1649e-04 - accuracy: 1.000 - ETA: 10s - loss: 2.1357e-04 - accuracy: 1.000 - ETA: 10s - loss: 2.1072e-04 - accuracy: 1.000 - ETA: 10s - loss: 2.2048e-04 - accuracy: 1.000 - ETA: 10s - loss: 2.1762e-04 - accuracy: 1.000 - ETA: 10s - loss: 2.1483e-04 - accuracy: 1.000 - ETA: 10s - loss: 2.1211e-04 - accuracy: 1.000 - ETA: 9s - loss: 2.0946e-04 - accuracy: 1.000 - ETA: 9s - loss: 2.0687e-04 - accuracy: 1.00 - ETA: 9s - loss: 2.0435e-04 - accuracy: 1.00 - ETA: 9s - loss: 2.0188e-04 - accuracy: 1.00 - ETA: 9s - loss: 1.9948e-04 - accuracy: 1.00 - ETA: 9s - loss: 1.9713e-04 - accuracy: 1.00 - ETA: 9s - loss: 1.9484e-04 - accuracy: 1.00 - ETA: 8s - loss: 1.9260e-04 - accuracy: 1.00 - ETA: 8s - loss: 1.9041e-04 - accuracy: 1.00 - ETA: 8s - loss: 1.8827e-04 - accuracy: 1.00 - ETA: 8s - loss: 1.8618e-04 - accuracy: 1.00 - ETA: 8s - loss: 1.8414e-04 - accuracy: 1.00 - ETA: 8s - loss: 1.8214e-04 - accuracy: 1.00 - ETA: 8s - loss: 1.8018e-04 - accuracy: 1.00 - ETA: 8s - loss: 1.7826e-04 - accuracy: 1.00 - ETA: 7s - loss: 1.7638e-04 - accuracy: 1.00 - ETA: 7s - loss: 4.1308e-04 - accuracy: 1.00 - ETA: 7s - loss: 4.0882e-04 - accuracy: 1.00 - ETA: 7s - loss: 4.0465e-04 - accuracy: 1.00 - ETA: 7s - loss: 4.0057e-04 - accuracy: 1.00 - ETA: 7s - loss: 3.9656e-04 - accuracy: 1.00 - ETA: 7s - loss: 9.8191e-04 - accuracy: 1.00 - ETA: 7s - loss: 9.7269e-04 - accuracy: 1.00 - ETA: 6s - loss: 9.6325e-04 - accuracy: 1.00 - ETA: 6s - loss: 9.5399e-04 - accuracy: 1.00 - ETA: 6s - loss: 9.4490e-04 - accuracy: 1.00 - ETA: 6s - loss: 9.3599e-04 - accuracy: 1.00 - ETA: 6s - loss: 9.2725e-04 - accuracy: 1.00 - ETA: 6s - loss: 9.1866e-04 - accuracy: 1.00 - ETA: 6s - loss: 9.1024e-04 - accuracy: 1.00 - ETA: 5s - loss: 9.0196e-04 - accuracy: 1.00 - ETA: 5s - loss: 8.9384e-04 - accuracy: 1.00 - ETA: 5s - loss: 8.8586e-04 - accuracy: 1.00 - ETA: 5s - loss: 8.7802e-04 - accuracy: 1.00 - ETA: 5s - loss: 8.7031e-04 - accuracy: 1.00 - ETA: 5s - loss: 8.6275e-04 - accuracy: 1.00 - ETA: 5s - loss: 8.5531e-04 - accuracy: 1.00 - ETA: 5s - loss: 8.4800e-04 - accuracy: 1.00 - ETA: 4s - loss: 8.4108e-04 - accuracy: 1.00 - ETA: 4s - loss: 8.3401e-04 - accuracy: 1.00 - ETA: 4s - loss: 8.2706e-04 - accuracy: 1.00 - ETA: 4s - loss: 8.2022e-04 - accuracy: 1.00 - ETA: 4s - loss: 8.1350e-04 - accuracy: 1.00 - ETA: 4s - loss: 0.0019 - accuracy: 1.0000   - ETA: 4s - loss: 0.0018 - accuracy: 1.00 - ETA: 3s - loss: 0.0018 - accuracy: 1.00 - ETA: 3s - loss: 0.0018 - accuracy: 1.00 - ETA: 3s - loss: 0.0018 - accuracy: 1.00 - ETA: 3s - loss: 0.0018 - accuracy: 1.00 - ETA: 3s - loss: 0.0018 - accuracy: 1.00 - ETA: 3s - loss: 0.0018 - accuracy: 1.00 - ETA: 3s - loss: 0.0017 - accuracy: 1.00 - ETA: 3s - loss: 0.0017 - accuracy: 1.00 - ETA: 2s - loss: 0.0017 - accuracy: 1.00 - ETA: 2s - loss: 0.0017 - accuracy: 1.00 - ETA: 2s - loss: 0.0017 - accuracy: 1.00 - ETA: 2s - loss: 0.0030 - accuracy: 0.99 - ETA: 2s - loss: 0.0030 - accuracy: 0.99 - ETA: 2s - loss: 0.0030 - accuracy: 0.99 - ETA: 2s - loss: 0.0030 - accuracy: 0.99 - ETA: 2s - loss: 0.0029 - accuracy: 0.99 - ETA: 1s - loss: 0.0029 - accuracy: 0.99 - ETA: 1s - loss: 0.0050 - accuracy: 0.99 - ETA: 1s - loss: 0.0049 - accuracy: 0.99 - ETA: 1s - loss: 0.0049 - accuracy: 0.99 - ETA: 1s - loss: 0.0049 - accuracy: 0.99 - ETA: 1s - loss: 0.0049 - accuracy: 0.99 - ETA: 1s - loss: 0.0048 - accuracy: 0.99 - ETA: 0s - loss: 0.0048 - accuracy: 0.99 - ETA: 0s - loss: 0.0048 - accuracy: 0.99 - ETA: 0s - loss: 0.0047 - accuracy: 0.99 - ETA: 0s - loss: 0.0047 - accuracy: 0.99 - ETA: 0s - loss: 0.0047 - accuracy: 0.99 - ETA: 0s - loss: 0.0046 - accuracy: 0.99 - ETA: 0s - loss: 0.0046 - accuracy: 0.99 - ETA: 0s - loss: 0.0046 - accuracy: 0.99 - 21s 33ms/step - loss: 0.0046 - accuracy: 0.9968 - val_loss: 0.0000e+00 - val_accuracy: 1.0000\n",
      "Epoch 33/50\n"
     ]
    },
    {
     "name": "stdout",
     "output_type": "stream",
     "text": [
      "622/622 [==============================] - ETA: 18s - loss: 0.0000e+00 - accuracy: 1.000 - ETA: 18s - loss: 0.0000e+00 - accuracy: 1.000 - ETA: 19s - loss: 0.0000e+00 - accuracy: 1.000 - ETA: 19s - loss: 0.0000e+00 - accuracy: 1.000 - ETA: 19s - loss: 0.0000e+00 - accuracy: 1.000 - ETA: 19s - loss: 0.0000e+00 - accuracy: 1.000 - ETA: 19s - loss: 0.0000e+00 - accuracy: 1.000 - ETA: 19s - loss: 0.0000e+00 - accuracy: 1.000 - ETA: 19s - loss: 9.9341e-09 - accuracy: 1.000 - ETA: 18s - loss: 8.9407e-09 - accuracy: 1.000 - ETA: 18s - loss: 8.1279e-09 - accuracy: 1.000 - ETA: 18s - loss: 1.2418e-08 - accuracy: 1.000 - ETA: 18s - loss: 1.1462e-08 - accuracy: 1.000 - ETA: 18s - loss: 1.0644e-08 - accuracy: 1.000 - ETA: 18s - loss: 9.9341e-09 - accuracy: 1.000 - ETA: 17s - loss: 9.3132e-09 - accuracy: 1.000 - ETA: 17s - loss: 1.0518e-08 - accuracy: 1.000 - ETA: 17s - loss: 9.9341e-09 - accuracy: 1.000 - ETA: 17s - loss: 9.4113e-09 - accuracy: 1.000 - ETA: 17s - loss: 8.9407e-09 - accuracy: 1.000 - ETA: 17s - loss: 7.4650e-05 - accuracy: 1.000 - ETA: 17s - loss: 0.2271 - accuracy: 0.9886    - ETA: 16s - loss: 0.2172 - accuracy: 0.989 - ETA: 16s - loss: 0.2082 - accuracy: 0.989 - ETA: 16s - loss: 0.1998 - accuracy: 0.990 - ETA: 16s - loss: 0.1921 - accuracy: 0.990 - ETA: 16s - loss: 0.1850 - accuracy: 0.990 - ETA: 16s - loss: 0.1784 - accuracy: 0.991 - ETA: 16s - loss: 0.1723 - accuracy: 0.991 - ETA: 16s - loss: 0.1665 - accuracy: 0.991 - ETA: 15s - loss: 0.1612 - accuracy: 0.991 - ETA: 15s - loss: 0.1730 - accuracy: 0.984 - ETA: 15s - loss: 0.1678 - accuracy: 0.984 - ETA: 15s - loss: 0.1628 - accuracy: 0.985 - ETA: 15s - loss: 0.1582 - accuracy: 0.985 - ETA: 15s - loss: 0.1538 - accuracy: 0.986 - ETA: 15s - loss: 0.1496 - accuracy: 0.986 - ETA: 14s - loss: 0.1457 - accuracy: 0.986 - ETA: 14s - loss: 0.1420 - accuracy: 0.987 - ETA: 14s - loss: 0.1384 - accuracy: 0.987 - ETA: 14s - loss: 0.1350 - accuracy: 0.987 - ETA: 14s - loss: 0.1320 - accuracy: 0.988 - ETA: 14s - loss: 0.1293 - accuracy: 0.988 - ETA: 14s - loss: 0.1264 - accuracy: 0.988 - ETA: 14s - loss: 0.1236 - accuracy: 0.988 - ETA: 13s - loss: 0.1209 - accuracy: 0.989 - ETA: 13s - loss: 0.1183 - accuracy: 0.989 - ETA: 13s - loss: 0.1159 - accuracy: 0.989 - ETA: 13s - loss: 0.1135 - accuracy: 0.989 - ETA: 13s - loss: 0.1112 - accuracy: 0.990 - ETA: 13s - loss: 0.1090 - accuracy: 0.990 - ETA: 13s - loss: 0.1069 - accuracy: 0.990 - ETA: 13s - loss: 0.1049 - accuracy: 0.990 - ETA: 12s - loss: 0.1030 - accuracy: 0.990 - ETA: 12s - loss: 0.1011 - accuracy: 0.990 - ETA: 12s - loss: 0.0993 - accuracy: 0.991 - ETA: 12s - loss: 0.0976 - accuracy: 0.991 - ETA: 12s - loss: 0.0959 - accuracy: 0.991 - ETA: 12s - loss: 0.0943 - accuracy: 0.991 - ETA: 12s - loss: 0.0927 - accuracy: 0.991 - ETA: 12s - loss: 0.0912 - accuracy: 0.991 - ETA: 11s - loss: 0.0897 - accuracy: 0.991 - ETA: 11s - loss: 0.0883 - accuracy: 0.992 - ETA: 11s - loss: 0.0869 - accuracy: 0.992 - ETA: 11s - loss: 0.0856 - accuracy: 0.992 - ETA: 11s - loss: 0.0843 - accuracy: 0.992 - ETA: 11s - loss: 0.0830 - accuracy: 0.992 - ETA: 11s - loss: 0.0818 - accuracy: 0.992 - ETA: 11s - loss: 0.0810 - accuracy: 0.992 - ETA: 10s - loss: 0.0879 - accuracy: 0.989 - ETA: 10s - loss: 0.0870 - accuracy: 0.989 - ETA: 10s - loss: 0.0858 - accuracy: 0.989 - ETA: 10s - loss: 0.0846 - accuracy: 0.989 - ETA: 10s - loss: 0.0835 - accuracy: 0.989 - ETA: 10s - loss: 0.0823 - accuracy: 0.990 - ETA: 10s - loss: 0.0813 - accuracy: 0.990 - ETA: 10s - loss: 0.0802 - accuracy: 0.990 - ETA: 9s - loss: 0.0792 - accuracy: 0.990 - ETA: 9s - loss: 0.0782 - accuracy: 0.99 - ETA: 9s - loss: 0.0772 - accuracy: 0.99 - ETA: 9s - loss: 0.0762 - accuracy: 0.99 - ETA: 9s - loss: 0.0753 - accuracy: 0.99 - ETA: 9s - loss: 0.0744 - accuracy: 0.99 - ETA: 9s - loss: 0.0735 - accuracy: 0.99 - ETA: 9s - loss: 0.0727 - accuracy: 0.99 - ETA: 9s - loss: 0.0718 - accuracy: 0.99 - ETA: 8s - loss: 0.0710 - accuracy: 0.99 - ETA: 8s - loss: 0.0702 - accuracy: 0.99 - ETA: 8s - loss: 0.0694 - accuracy: 0.99 - ETA: 8s - loss: 0.0687 - accuracy: 0.99 - ETA: 8s - loss: 0.0679 - accuracy: 0.99 - ETA: 8s - loss: 0.0672 - accuracy: 0.99 - ETA: 8s - loss: 0.0664 - accuracy: 0.99 - ETA: 7s - loss: 0.0657 - accuracy: 0.99 - ETA: 7s - loss: 0.0651 - accuracy: 0.99 - ETA: 7s - loss: 0.0657 - accuracy: 0.99 - ETA: 7s - loss: 0.0650 - accuracy: 0.99 - ETA: 7s - loss: 0.0644 - accuracy: 0.99 - ETA: 7s - loss: 0.0637 - accuracy: 0.99 - ETA: 7s - loss: 0.0631 - accuracy: 0.99 - ETA: 7s - loss: 0.0624 - accuracy: 0.99 - ETA: 6s - loss: 0.0618 - accuracy: 0.99 - ETA: 6s - loss: 0.0612 - accuracy: 0.99 - ETA: 6s - loss: 0.0607 - accuracy: 0.99 - ETA: 6s - loss: 0.0601 - accuracy: 0.99 - ETA: 6s - loss: 0.0595 - accuracy: 0.99 - ETA: 6s - loss: 0.0590 - accuracy: 0.99 - ETA: 6s - loss: 0.0584 - accuracy: 0.99 - ETA: 6s - loss: 0.0579 - accuracy: 0.99 - ETA: 5s - loss: 0.0574 - accuracy: 0.99 - ETA: 5s - loss: 0.0568 - accuracy: 0.99 - ETA: 5s - loss: 0.0563 - accuracy: 0.99 - ETA: 5s - loss: 0.0558 - accuracy: 0.99 - ETA: 5s - loss: 0.0553 - accuracy: 0.99 - ETA: 5s - loss: 0.0549 - accuracy: 0.99 - ETA: 5s - loss: 0.0544 - accuracy: 0.99 - ETA: 4s - loss: 0.0539 - accuracy: 0.99 - ETA: 4s - loss: 0.0535 - accuracy: 0.99 - ETA: 4s - loss: 0.0530 - accuracy: 0.99 - ETA: 4s - loss: 0.0526 - accuracy: 0.99 - ETA: 4s - loss: 0.0521 - accuracy: 0.99 - ETA: 4s - loss: 0.0517 - accuracy: 0.99 - ETA: 4s - loss: 0.0513 - accuracy: 0.99 - ETA: 4s - loss: 0.0509 - accuracy: 0.99 - ETA: 3s - loss: 0.0505 - accuracy: 0.99 - ETA: 3s - loss: 0.0501 - accuracy: 0.99 - ETA: 3s - loss: 0.0497 - accuracy: 0.99 - ETA: 3s - loss: 0.0493 - accuracy: 0.99 - ETA: 3s - loss: 0.0489 - accuracy: 0.99 - ETA: 3s - loss: 0.0485 - accuracy: 0.99 - ETA: 3s - loss: 0.0482 - accuracy: 0.99 - ETA: 3s - loss: 0.0478 - accuracy: 0.99 - ETA: 2s - loss: 0.0474 - accuracy: 0.99 - ETA: 2s - loss: 0.0471 - accuracy: 0.99 - ETA: 2s - loss: 0.0467 - accuracy: 0.99 - ETA: 2s - loss: 0.0464 - accuracy: 0.99 - ETA: 2s - loss: 0.0461 - accuracy: 0.99 - ETA: 2s - loss: 0.0457 - accuracy: 0.99 - ETA: 2s - loss: 0.0454 - accuracy: 0.99 - ETA: 2s - loss: 0.0451 - accuracy: 0.99 - ETA: 1s - loss: 0.0448 - accuracy: 0.99 - ETA: 1s - loss: 0.0444 - accuracy: 0.99 - ETA: 1s - loss: 0.0441 - accuracy: 0.99 - ETA: 1s - loss: 0.0438 - accuracy: 0.99 - ETA: 1s - loss: 0.0435 - accuracy: 0.99 - ETA: 1s - loss: 0.0432 - accuracy: 0.99 - ETA: 1s - loss: 0.0429 - accuracy: 0.99 - ETA: 0s - loss: 0.0426 - accuracy: 0.99 - ETA: 0s - loss: 0.0424 - accuracy: 0.99 - ETA: 0s - loss: 0.0421 - accuracy: 0.99 - ETA: 0s - loss: 0.0418 - accuracy: 0.99 - ETA: 0s - loss: 0.0415 - accuracy: 0.99 - ETA: 0s - loss: 0.0412 - accuracy: 0.99 - ETA: 0s - loss: 0.0410 - accuracy: 0.99 - ETA: 0s - loss: 0.0407 - accuracy: 0.99 - 20s 33ms/step - loss: 0.0406 - accuracy: 0.9952 - val_loss: 7.6416e-10 - val_accuracy: 1.0000\n",
      "Epoch 34/50\n"
     ]
    },
    {
     "name": "stdout",
     "output_type": "stream",
     "text": [
      "622/622 [==============================] - ETA: 18s - loss: 0.0000e+00 - accuracy: 1.000 - ETA: 18s - loss: 0.0000e+00 - accuracy: 1.000 - ETA: 18s - loss: 0.0000e+00 - accuracy: 1.000 - ETA: 18s - loss: 0.0000e+00 - accuracy: 1.000 - ETA: 18s - loss: 0.0000e+00 - accuracy: 1.000 - ETA: 18s - loss: 1.1424e-07 - accuracy: 1.000 - ETA: 18s - loss: 1.0218e-07 - accuracy: 1.000 - ETA: 18s - loss: 8.9407e-08 - accuracy: 1.000 - ETA: 18s - loss: 1.3577e-07 - accuracy: 1.000 - ETA: 18s - loss: 1.2219e-07 - accuracy: 1.000 - ETA: 18s - loss: 1.1108e-07 - accuracy: 1.000 - ETA: 17s - loss: 1.0182e-07 - accuracy: 1.000 - ETA: 17s - loss: 9.3992e-08 - accuracy: 1.000 - ETA: 17s - loss: 1.0644e-07 - accuracy: 1.000 - ETA: 17s - loss: 1.1823e-04 - accuracy: 1.000 - ETA: 17s - loss: 1.1084e-04 - accuracy: 1.000 - ETA: 17s - loss: 1.0436e-04 - accuracy: 1.000 - ETA: 17s - loss: 9.8564e-05 - accuracy: 1.000 - ETA: 17s - loss: 9.3377e-05 - accuracy: 1.000 - ETA: 16s - loss: 8.8708e-05 - accuracy: 1.000 - ETA: 16s - loss: 8.4502e-05 - accuracy: 1.000 - ETA: 16s - loss: 8.0733e-05 - accuracy: 1.000 - ETA: 16s - loss: 7.7223e-05 - accuracy: 1.000 - ETA: 16s - loss: 7.4005e-05 - accuracy: 1.000 - ETA: 16s - loss: 7.1045e-05 - accuracy: 1.000 - ETA: 16s - loss: 0.0035 - accuracy: 1.0000    - ETA: 16s - loss: 0.0034 - accuracy: 1.000 - ETA: 15s - loss: 0.0033 - accuracy: 1.000 - ETA: 15s - loss: 0.0370 - accuracy: 0.991 - ETA: 15s - loss: 0.0358 - accuracy: 0.991 - ETA: 15s - loss: 0.0346 - accuracy: 0.991 - ETA: 15s - loss: 0.0336 - accuracy: 0.992 - ETA: 15s - loss: 0.0325 - accuracy: 0.992 - ETA: 15s - loss: 0.0316 - accuracy: 0.992 - ETA: 15s - loss: 0.0307 - accuracy: 0.992 - ETA: 14s - loss: 0.0298 - accuracy: 0.993 - ETA: 14s - loss: 0.0290 - accuracy: 0.993 - ETA: 14s - loss: 0.0283 - accuracy: 0.993 - ETA: 14s - loss: 0.0275 - accuracy: 0.993 - ETA: 14s - loss: 0.0269 - accuracy: 0.993 - ETA: 14s - loss: 0.0262 - accuracy: 0.993 - ETA: 14s - loss: 0.0256 - accuracy: 0.994 - ETA: 14s - loss: 0.0250 - accuracy: 0.994 - ETA: 13s - loss: 0.0244 - accuracy: 0.994 - ETA: 13s - loss: 0.0239 - accuracy: 0.994 - ETA: 13s - loss: 0.0234 - accuracy: 0.994 - ETA: 13s - loss: 0.0295 - accuracy: 0.989 - ETA: 13s - loss: 0.0326 - accuracy: 0.984 - ETA: 13s - loss: 0.0319 - accuracy: 0.984 - ETA: 13s - loss: 0.0313 - accuracy: 0.985 - ETA: 13s - loss: 0.0309 - accuracy: 0.985 - ETA: 12s - loss: 0.0303 - accuracy: 0.985 - ETA: 12s - loss: 0.0297 - accuracy: 0.985 - ETA: 12s - loss: 0.0292 - accuracy: 0.986 - ETA: 12s - loss: 0.0286 - accuracy: 0.986 - ETA: 12s - loss: 0.0281 - accuracy: 0.986 - ETA: 12s - loss: 0.0276 - accuracy: 0.986 - ETA: 12s - loss: 0.0272 - accuracy: 0.987 - ETA: 12s - loss: 0.0267 - accuracy: 0.987 - ETA: 11s - loss: 0.0263 - accuracy: 0.987 - ETA: 11s - loss: 0.0258 - accuracy: 0.987 - ETA: 11s - loss: 0.0257 - accuracy: 0.987 - ETA: 11s - loss: 0.0253 - accuracy: 0.988 - ETA: 11s - loss: 0.0249 - accuracy: 0.988 - ETA: 11s - loss: 0.0245 - accuracy: 0.988 - ETA: 11s - loss: 0.0242 - accuracy: 0.988 - ETA: 11s - loss: 0.0238 - accuracy: 0.988 - ETA: 10s - loss: 0.0235 - accuracy: 0.989 - ETA: 10s - loss: 0.0231 - accuracy: 0.989 - ETA: 10s - loss: 0.0228 - accuracy: 0.989 - ETA: 10s - loss: 0.0225 - accuracy: 0.989 - ETA: 10s - loss: 0.0222 - accuracy: 0.989 - ETA: 10s - loss: 0.0219 - accuracy: 0.989 - ETA: 10s - loss: 0.0216 - accuracy: 0.989 - ETA: 10s - loss: 0.0371 - accuracy: 0.986 - ETA: 9s - loss: 0.0366 - accuracy: 0.986 - ETA: 9s - loss: 0.0361 - accuracy: 0.98 - ETA: 9s - loss: 0.0357 - accuracy: 0.98 - ETA: 9s - loss: 0.0352 - accuracy: 0.98 - ETA: 9s - loss: 0.0348 - accuracy: 0.98 - ETA: 9s - loss: 0.0343 - accuracy: 0.98 - ETA: 9s - loss: 0.0339 - accuracy: 0.98 - ETA: 9s - loss: 0.0335 - accuracy: 0.98 - ETA: 8s - loss: 0.0331 - accuracy: 0.98 - ETA: 8s - loss: 0.0327 - accuracy: 0.98 - ETA: 8s - loss: 0.0435 - accuracy: 0.98 - ETA: 8s - loss: 0.0430 - accuracy: 0.98 - ETA: 8s - loss: 0.0426 - accuracy: 0.98 - ETA: 8s - loss: 0.0421 - accuracy: 0.98 - ETA: 8s - loss: 0.0416 - accuracy: 0.98 - ETA: 8s - loss: 0.0412 - accuracy: 0.98 - ETA: 7s - loss: 0.0407 - accuracy: 0.98 - ETA: 7s - loss: 0.0431 - accuracy: 0.98 - ETA: 7s - loss: 0.0426 - accuracy: 0.98 - ETA: 7s - loss: 0.0422 - accuracy: 0.98 - ETA: 7s - loss: 0.0417 - accuracy: 0.98 - ETA: 7s - loss: 0.0413 - accuracy: 0.98 - ETA: 7s - loss: 0.0409 - accuracy: 0.98 - ETA: 7s - loss: 0.0405 - accuracy: 0.98 - ETA: 6s - loss: 0.0401 - accuracy: 0.98 - ETA: 6s - loss: 0.0397 - accuracy: 0.98 - ETA: 6s - loss: 0.0393 - accuracy: 0.98 - ETA: 6s - loss: 0.0389 - accuracy: 0.98 - ETA: 6s - loss: 0.0386 - accuracy: 0.98 - ETA: 6s - loss: 0.0382 - accuracy: 0.98 - ETA: 6s - loss: 0.0378 - accuracy: 0.98 - ETA: 6s - loss: 0.0375 - accuracy: 0.98 - ETA: 6s - loss: 0.0371 - accuracy: 0.98 - ETA: 5s - loss: 0.0368 - accuracy: 0.98 - ETA: 5s - loss: 0.0365 - accuracy: 0.98 - ETA: 5s - loss: 0.0363 - accuracy: 0.98 - ETA: 5s - loss: 0.0360 - accuracy: 0.98 - ETA: 5s - loss: 0.0357 - accuracy: 0.98 - ETA: 5s - loss: 0.0354 - accuracy: 0.98 - ETA: 5s - loss: 0.0359 - accuracy: 0.98 - ETA: 5s - loss: 0.0356 - accuracy: 0.98 - ETA: 4s - loss: 0.0353 - accuracy: 0.98 - ETA: 4s - loss: 0.0350 - accuracy: 0.98 - ETA: 4s - loss: 0.0347 - accuracy: 0.98 - ETA: 4s - loss: 0.0344 - accuracy: 0.98 - ETA: 4s - loss: 0.0342 - accuracy: 0.98 - ETA: 4s - loss: 0.0339 - accuracy: 0.98 - ETA: 4s - loss: 0.0336 - accuracy: 0.98 - ETA: 4s - loss: 0.0333 - accuracy: 0.98 - ETA: 3s - loss: 0.0331 - accuracy: 0.98 - ETA: 3s - loss: 0.0328 - accuracy: 0.98 - ETA: 3s - loss: 0.0326 - accuracy: 0.98 - ETA: 3s - loss: 0.0323 - accuracy: 0.98 - ETA: 3s - loss: 0.0321 - accuracy: 0.98 - ETA: 3s - loss: 0.0318 - accuracy: 0.98 - ETA: 3s - loss: 0.0316 - accuracy: 0.98 - ETA: 3s - loss: 0.0313 - accuracy: 0.98 - ETA: 2s - loss: 0.0311 - accuracy: 0.98 - ETA: 2s - loss: 0.0309 - accuracy: 0.98 - ETA: 2s - loss: 0.0306 - accuracy: 0.98 - ETA: 2s - loss: 0.0304 - accuracy: 0.98 - ETA: 2s - loss: 0.0302 - accuracy: 0.98 - ETA: 2s - loss: 0.0300 - accuracy: 0.98 - ETA: 2s - loss: 0.0298 - accuracy: 0.98 - ETA: 1s - loss: 0.0296 - accuracy: 0.98 - ETA: 1s - loss: 0.0294 - accuracy: 0.98 - ETA: 1s - loss: 0.0291 - accuracy: 0.98 - ETA: 1s - loss: 0.0289 - accuracy: 0.98 - ETA: 1s - loss: 0.0287 - accuracy: 0.98 - ETA: 1s - loss: 0.0285 - accuracy: 0.98 - ETA: 1s - loss: 0.0284 - accuracy: 0.98 - ETA: 1s - loss: 0.0282 - accuracy: 0.98 - ETA: 0s - loss: 0.0280 - accuracy: 0.98 - ETA: 0s - loss: 0.0278 - accuracy: 0.98 - ETA: 0s - loss: 0.0276 - accuracy: 0.99 - ETA: 0s - loss: 0.0274 - accuracy: 0.99 - ETA: 0s - loss: 0.0272 - accuracy: 0.99 - ETA: 0s - loss: 0.0271 - accuracy: 0.99 - ETA: 0s - loss: 0.0269 - accuracy: 0.99 - ETA: 0s - loss: 0.0267 - accuracy: 0.99 - 21s 33ms/step - loss: 0.0266 - accuracy: 0.9904 - val_loss: 0.0000e+00 - val_accuracy: 1.0000\n",
      "Epoch 35/50\n"
     ]
    },
    {
     "name": "stdout",
     "output_type": "stream",
     "text": [
      "622/622 [==============================] - ETA: 18s - loss: 1.2874e-05 - accuracy: 1.000 - ETA: 19s - loss: 6.4371e-06 - accuracy: 1.000 - ETA: 19s - loss: 4.5596e-06 - accuracy: 1.000 - ETA: 19s - loss: 3.4197e-06 - accuracy: 1.000 - ETA: 19s - loss: 2.7358e-06 - accuracy: 1.000 - ETA: 18s - loss: 2.2798e-06 - accuracy: 1.000 - ETA: 18s - loss: 2.3586e-06 - accuracy: 1.000 - ETA: 18s - loss: 1.7596e-05 - accuracy: 1.000 - ETA: 18s - loss: 1.5641e-05 - accuracy: 1.000 - ETA: 18s - loss: 1.4077e-05 - accuracy: 1.000 - ETA: 18s - loss: 1.2797e-05 - accuracy: 1.000 - ETA: 18s - loss: 1.1731e-05 - accuracy: 1.000 - ETA: 18s - loss: 1.0828e-05 - accuracy: 1.000 - ETA: 18s - loss: 1.0055e-05 - accuracy: 1.000 - ETA: 18s - loss: 9.3846e-06 - accuracy: 1.000 - ETA: 18s - loss: 8.9471e-06 - accuracy: 1.000 - ETA: 17s - loss: 9.7653e-06 - accuracy: 1.000 - ETA: 17s - loss: 9.2228e-06 - accuracy: 1.000 - ETA: 17s - loss: 8.7374e-06 - accuracy: 1.000 - ETA: 17s - loss: 8.3005e-06 - accuracy: 1.000 - ETA: 17s - loss: 7.9053e-06 - accuracy: 1.000 - ETA: 17s - loss: 7.5459e-06 - accuracy: 1.000 - ETA: 17s - loss: 3.3043e-04 - accuracy: 1.000 - ETA: 17s - loss: 3.1666e-04 - accuracy: 1.000 - ETA: 16s - loss: 3.0400e-04 - accuracy: 1.000 - ETA: 16s - loss: 2.9242e-04 - accuracy: 1.000 - ETA: 16s - loss: 2.8159e-04 - accuracy: 1.000 - ETA: 16s - loss: 2.7153e-04 - accuracy: 1.000 - ETA: 16s - loss: 2.6217e-04 - accuracy: 1.000 - ETA: 16s - loss: 2.5343e-04 - accuracy: 1.000 - ETA: 16s - loss: 2.4525e-04 - accuracy: 1.000 - ETA: 16s - loss: 2.3759e-04 - accuracy: 1.000 - ETA: 15s - loss: 2.4294e-04 - accuracy: 1.000 - ETA: 15s - loss: 2.3587e-04 - accuracy: 1.000 - ETA: 15s - loss: 2.2913e-04 - accuracy: 1.000 - ETA: 15s - loss: 2.2276e-04 - accuracy: 1.000 - ETA: 15s - loss: 2.1774e-04 - accuracy: 1.000 - ETA: 15s - loss: 2.1220e-04 - accuracy: 1.000 - ETA: 15s - loss: 2.0676e-04 - accuracy: 1.000 - ETA: 15s - loss: 2.0809e-04 - accuracy: 1.000 - ETA: 14s - loss: 2.0301e-04 - accuracy: 1.000 - ETA: 14s - loss: 1.9819e-04 - accuracy: 1.000 - ETA: 14s - loss: 1.9358e-04 - accuracy: 1.000 - ETA: 14s - loss: 1.8951e-04 - accuracy: 1.000 - ETA: 14s - loss: 1.8530e-04 - accuracy: 1.000 - ETA: 14s - loss: 1.8127e-04 - accuracy: 1.000 - ETA: 14s - loss: 1.7742e-04 - accuracy: 1.000 - ETA: 13s - loss: 1.7372e-04 - accuracy: 1.000 - ETA: 13s - loss: 1.7018e-04 - accuracy: 1.000 - ETA: 13s - loss: 1.6677e-04 - accuracy: 1.000 - ETA: 13s - loss: 1.6350e-04 - accuracy: 1.000 - ETA: 13s - loss: 1.6040e-04 - accuracy: 1.000 - ETA: 13s - loss: 1.6345e-04 - accuracy: 1.000 - ETA: 13s - loss: 1.6043e-04 - accuracy: 1.000 - ETA: 12s - loss: 1.5753e-04 - accuracy: 1.000 - ETA: 12s - loss: 1.5471e-04 - accuracy: 1.000 - ETA: 12s - loss: 1.5201e-04 - accuracy: 1.000 - ETA: 12s - loss: 1.4938e-04 - accuracy: 1.000 - ETA: 12s - loss: 0.0025 - accuracy: 1.0000    - ETA: 12s - loss: 0.0025 - accuracy: 1.000 - ETA: 12s - loss: 0.0024 - accuracy: 1.000 - ETA: 12s - loss: 0.0024 - accuracy: 1.000 - ETA: 11s - loss: 0.0023 - accuracy: 1.000 - ETA: 11s - loss: 0.0023 - accuracy: 1.000 - ETA: 11s - loss: 0.0023 - accuracy: 1.000 - ETA: 11s - loss: 0.0022 - accuracy: 1.000 - ETA: 11s - loss: 0.0022 - accuracy: 1.000 - ETA: 11s - loss: 0.0022 - accuracy: 1.000 - ETA: 11s - loss: 0.0021 - accuracy: 1.000 - ETA: 10s - loss: 0.0021 - accuracy: 1.000 - ETA: 10s - loss: 0.0021 - accuracy: 1.000 - ETA: 10s - loss: 0.0020 - accuracy: 1.000 - ETA: 10s - loss: 0.0020 - accuracy: 1.000 - ETA: 10s - loss: 0.0020 - accuracy: 1.000 - ETA: 10s - loss: 0.0020 - accuracy: 1.000 - ETA: 10s - loss: 0.0019 - accuracy: 1.000 - ETA: 10s - loss: 0.0019 - accuracy: 1.000 - ETA: 9s - loss: 0.0019 - accuracy: 1.000 - ETA: 9s - loss: 0.0019 - accuracy: 1.00 - ETA: 9s - loss: 0.0018 - accuracy: 1.00 - ETA: 9s - loss: 0.0018 - accuracy: 1.00 - ETA: 9s - loss: 0.0018 - accuracy: 1.00 - ETA: 9s - loss: 0.0018 - accuracy: 1.00 - ETA: 9s - loss: 0.0018 - accuracy: 1.00 - ETA: 9s - loss: 0.0017 - accuracy: 1.00 - ETA: 8s - loss: 0.0017 - accuracy: 1.00 - ETA: 8s - loss: 0.0017 - accuracy: 1.00 - ETA: 8s - loss: 0.0017 - accuracy: 1.00 - ETA: 8s - loss: 0.0017 - accuracy: 1.00 - ETA: 8s - loss: 0.0017 - accuracy: 1.00 - ETA: 8s - loss: 0.0016 - accuracy: 1.00 - ETA: 8s - loss: 0.0016 - accuracy: 1.00 - ETA: 8s - loss: 0.0016 - accuracy: 1.00 - ETA: 7s - loss: 0.0016 - accuracy: 1.00 - ETA: 7s - loss: 0.0016 - accuracy: 1.00 - ETA: 7s - loss: 0.0016 - accuracy: 1.00 - ETA: 7s - loss: 0.0015 - accuracy: 1.00 - ETA: 7s - loss: 0.0015 - accuracy: 1.00 - ETA: 7s - loss: 0.0015 - accuracy: 1.00 - ETA: 7s - loss: 0.0015 - accuracy: 1.00 - ETA: 7s - loss: 0.0015 - accuracy: 1.00 - ETA: 6s - loss: 0.0015 - accuracy: 1.00 - ETA: 6s - loss: 0.0015 - accuracy: 1.00 - ETA: 6s - loss: 0.0014 - accuracy: 1.00 - ETA: 6s - loss: 0.0014 - accuracy: 1.00 - ETA: 6s - loss: 0.0014 - accuracy: 1.00 - ETA: 6s - loss: 0.0014 - accuracy: 1.00 - ETA: 6s - loss: 0.0014 - accuracy: 1.00 - ETA: 6s - loss: 0.0014 - accuracy: 1.00 - ETA: 5s - loss: 0.0014 - accuracy: 1.00 - ETA: 5s - loss: 0.0014 - accuracy: 1.00 - ETA: 5s - loss: 0.0013 - accuracy: 1.00 - ETA: 5s - loss: 0.0013 - accuracy: 1.00 - ETA: 5s - loss: 0.0013 - accuracy: 1.00 - ETA: 5s - loss: 0.0013 - accuracy: 1.00 - ETA: 5s - loss: 0.0013 - accuracy: 1.00 - ETA: 4s - loss: 0.0013 - accuracy: 1.00 - ETA: 4s - loss: 0.0013 - accuracy: 1.00 - ETA: 4s - loss: 0.0013 - accuracy: 1.00 - ETA: 4s - loss: 0.0013 - accuracy: 1.00 - ETA: 4s - loss: 0.0012 - accuracy: 1.00 - ETA: 4s - loss: 0.0012 - accuracy: 1.00 - ETA: 4s - loss: 0.0012 - accuracy: 1.00 - ETA: 4s - loss: 0.0012 - accuracy: 1.00 - ETA: 3s - loss: 0.0012 - accuracy: 1.00 - ETA: 3s - loss: 0.0012 - accuracy: 1.00 - ETA: 3s - loss: 0.0012 - accuracy: 1.00 - ETA: 3s - loss: 0.0012 - accuracy: 1.00 - ETA: 3s - loss: 0.0012 - accuracy: 1.00 - ETA: 3s - loss: 0.0012 - accuracy: 1.00 - ETA: 3s - loss: 0.0012 - accuracy: 1.00 - ETA: 3s - loss: 0.0011 - accuracy: 1.00 - ETA: 2s - loss: 0.0011 - accuracy: 1.00 - ETA: 2s - loss: 0.0011 - accuracy: 1.00 - ETA: 2s - loss: 0.0011 - accuracy: 1.00 - ETA: 2s - loss: 0.0011 - accuracy: 1.00 - ETA: 2s - loss: 0.0011 - accuracy: 1.00 - ETA: 2s - loss: 0.0011 - accuracy: 1.00 - ETA: 2s - loss: 0.0011 - accuracy: 1.00 - ETA: 2s - loss: 0.0011 - accuracy: 1.00 - ETA: 1s - loss: 0.0011 - accuracy: 1.00 - ETA: 1s - loss: 0.0011 - accuracy: 1.00 - ETA: 1s - loss: 0.0011 - accuracy: 1.00 - ETA: 1s - loss: 0.0011 - accuracy: 1.00 - ETA: 1s - loss: 0.0010 - accuracy: 1.00 - ETA: 1s - loss: 0.0010 - accuracy: 1.00 - ETA: 1s - loss: 0.0010 - accuracy: 1.00 - ETA: 0s - loss: 0.0010 - accuracy: 1.00 - ETA: 0s - loss: 0.0010 - accuracy: 1.00 - ETA: 0s - loss: 0.0010 - accuracy: 1.00 - ETA: 0s - loss: 0.0010 - accuracy: 1.00 - ETA: 0s - loss: 9.9633e-04 - accuracy: 1.00 - ETA: 0s - loss: 9.8982e-04 - accuracy: 1.00 - ETA: 0s - loss: 9.8339e-04 - accuracy: 1.00 - ETA: 0s - loss: 9.7705e-04 - accuracy: 1.00 - 20s 33ms/step - loss: 9.7391e-04 - accuracy: 1.0000 - val_loss: 0.0000e+00 - val_accuracy: 1.0000\n",
      "Epoch 36/50\n"
     ]
    },
    {
     "name": "stdout",
     "output_type": "stream",
     "text": [
      "622/622 [==============================] - ETA: 18s - loss: 0.0000e+00 - accuracy: 1.000 - ETA: 18s - loss: 0.0000e+00 - accuracy: 1.000 - ETA: 18s - loss: 0.0000e+00 - accuracy: 1.000 - ETA: 18s - loss: 0.0000e+00 - accuracy: 1.000 - ETA: 18s - loss: 0.0000e+00 - accuracy: 1.000 - ETA: 18s - loss: 0.0000e+00 - accuracy: 1.000 - ETA: 18s - loss: 4.8913e-04 - accuracy: 1.000 - ETA: 18s - loss: 4.2798e-04 - accuracy: 1.000 - ETA: 18s - loss: 3.8043e-04 - accuracy: 1.000 - ETA: 18s - loss: 3.4239e-04 - accuracy: 1.000 - ETA: 18s - loss: 3.1126e-04 - accuracy: 1.000 - ETA: 17s - loss: 3.3517e-04 - accuracy: 1.000 - ETA: 17s - loss: 3.0939e-04 - accuracy: 1.000 - ETA: 17s - loss: 2.8729e-04 - accuracy: 1.000 - ETA: 17s - loss: 2.6814e-04 - accuracy: 1.000 - ETA: 17s - loss: 2.5138e-04 - accuracy: 1.000 - ETA: 17s - loss: 2.3659e-04 - accuracy: 1.000 - ETA: 17s - loss: 2.2478e-04 - accuracy: 1.000 - ETA: 17s - loss: 2.1295e-04 - accuracy: 1.000 - ETA: 16s - loss: 2.0231e-04 - accuracy: 1.000 - ETA: 16s - loss: 1.9267e-04 - accuracy: 1.000 - ETA: 16s - loss: 1.8392e-04 - accuracy: 1.000 - ETA: 16s - loss: 1.7600e-04 - accuracy: 1.000 - ETA: 16s - loss: 1.6867e-04 - accuracy: 1.000 - ETA: 16s - loss: 1.6199e-04 - accuracy: 1.000 - ETA: 16s - loss: 1.5576e-04 - accuracy: 1.000 - ETA: 16s - loss: 1.4999e-04 - accuracy: 1.000 - ETA: 15s - loss: 1.4464e-04 - accuracy: 1.000 - ETA: 15s - loss: 1.3965e-04 - accuracy: 1.000 - ETA: 15s - loss: 1.3500e-04 - accuracy: 1.000 - ETA: 15s - loss: 1.3064e-04 - accuracy: 1.000 - ETA: 15s - loss: 1.2656e-04 - accuracy: 1.000 - ETA: 15s - loss: 1.4781e-04 - accuracy: 1.000 - ETA: 15s - loss: 1.4346e-04 - accuracy: 1.000 - ETA: 15s - loss: 1.3936e-04 - accuracy: 1.000 - ETA: 14s - loss: 1.3549e-04 - accuracy: 1.000 - ETA: 14s - loss: 1.3187e-04 - accuracy: 1.000 - ETA: 14s - loss: 1.2840e-04 - accuracy: 1.000 - ETA: 14s - loss: 1.2510e-04 - accuracy: 1.000 - ETA: 14s - loss: 1.2198e-04 - accuracy: 1.000 - ETA: 14s - loss: 1.3871e-04 - accuracy: 1.000 - ETA: 14s - loss: 1.3541e-04 - accuracy: 1.000 - ETA: 14s - loss: 1.3226e-04 - accuracy: 1.000 - ETA: 14s - loss: 1.2925e-04 - accuracy: 1.000 - ETA: 13s - loss: 1.2638e-04 - accuracy: 1.000 - ETA: 13s - loss: 1.2366e-04 - accuracy: 1.000 - ETA: 13s - loss: 1.2103e-04 - accuracy: 1.000 - ETA: 13s - loss: 1.1851e-04 - accuracy: 1.000 - ETA: 13s - loss: 1.1609e-04 - accuracy: 1.000 - ETA: 13s - loss: 1.1377e-04 - accuracy: 1.000 - ETA: 13s - loss: 1.1154e-04 - accuracy: 1.000 - ETA: 13s - loss: 1.0939e-04 - accuracy: 1.000 - ETA: 12s - loss: 1.0798e-04 - accuracy: 1.000 - ETA: 12s - loss: 1.0600e-04 - accuracy: 1.000 - ETA: 12s - loss: 1.0407e-04 - accuracy: 1.000 - ETA: 12s - loss: 1.0222e-04 - accuracy: 1.000 - ETA: 12s - loss: 1.0043e-04 - accuracy: 1.000 - ETA: 12s - loss: 9.8697e-05 - accuracy: 1.000 - ETA: 12s - loss: 9.7024e-05 - accuracy: 1.000 - ETA: 11s - loss: 9.5422e-05 - accuracy: 1.000 - ETA: 11s - loss: 9.3858e-05 - accuracy: 1.000 - ETA: 11s - loss: 9.2344e-05 - accuracy: 1.000 - ETA: 11s - loss: 9.0885e-05 - accuracy: 1.000 - ETA: 11s - loss: 9.2011e-05 - accuracy: 1.000 - ETA: 11s - loss: 9.0596e-05 - accuracy: 1.000 - ETA: 11s - loss: 8.9224e-05 - accuracy: 1.000 - ETA: 11s - loss: 8.7917e-05 - accuracy: 1.000 - ETA: 11s - loss: 8.6625e-05 - accuracy: 1.000 - ETA: 10s - loss: 8.5402e-05 - accuracy: 1.000 - ETA: 10s - loss: 8.4182e-05 - accuracy: 1.000 - ETA: 10s - loss: 0.0012 - accuracy: 1.0000    - ETA: 10s - loss: 0.0012 - accuracy: 1.000 - ETA: 10s - loss: 0.0012 - accuracy: 1.000 - ETA: 10s - loss: 0.0012 - accuracy: 1.000 - ETA: 10s - loss: 0.0012 - accuracy: 1.000 - ETA: 10s - loss: 0.0012 - accuracy: 1.000 - ETA: 9s - loss: 0.0011 - accuracy: 1.000 - ETA: 9s - loss: 0.0011 - accuracy: 1.00 - ETA: 9s - loss: 0.0011 - accuracy: 1.00 - ETA: 9s - loss: 0.0011 - accuracy: 1.00 - ETA: 9s - loss: 0.0011 - accuracy: 1.00 - ETA: 9s - loss: 0.0011 - accuracy: 1.00 - ETA: 9s - loss: 0.0011 - accuracy: 1.00 - ETA: 9s - loss: 0.0011 - accuracy: 1.00 - ETA: 9s - loss: 0.0010 - accuracy: 1.00 - ETA: 8s - loss: 0.0010 - accuracy: 1.00 - ETA: 8s - loss: 0.0010 - accuracy: 1.00 - ETA: 8s - loss: 0.0010 - accuracy: 1.00 - ETA: 8s - loss: 9.9381e-04 - accuracy: 1.00 - ETA: 8s - loss: 9.8277e-04 - accuracy: 1.00 - ETA: 8s - loss: 9.7197e-04 - accuracy: 1.00 - ETA: 8s - loss: 9.6140e-04 - accuracy: 1.00 - ETA: 8s - loss: 9.5107e-04 - accuracy: 1.00 - ETA: 8s - loss: 9.8339e-04 - accuracy: 1.00 - ETA: 7s - loss: 9.7304e-04 - accuracy: 1.00 - ETA: 7s - loss: 9.6291e-04 - accuracy: 1.00 - ETA: 7s - loss: 9.5298e-04 - accuracy: 1.00 - ETA: 7s - loss: 9.4326e-04 - accuracy: 1.00 - ETA: 7s - loss: 9.3374e-04 - accuracy: 1.00 - ETA: 7s - loss: 9.2440e-04 - accuracy: 1.00 - ETA: 7s - loss: 9.1525e-04 - accuracy: 1.00 - ETA: 7s - loss: 9.0628e-04 - accuracy: 1.00 - ETA: 6s - loss: 8.9748e-04 - accuracy: 1.00 - ETA: 6s - loss: 8.8886e-04 - accuracy: 1.00 - ETA: 6s - loss: 8.8054e-04 - accuracy: 1.00 - ETA: 6s - loss: 8.7223e-04 - accuracy: 1.00 - ETA: 6s - loss: 8.6408e-04 - accuracy: 1.00 - ETA: 6s - loss: 8.5608e-04 - accuracy: 1.00 - ETA: 6s - loss: 8.4822e-04 - accuracy: 1.00 - ETA: 6s - loss: 8.4051e-04 - accuracy: 1.00 - ETA: 5s - loss: 8.3294e-04 - accuracy: 1.00 - ETA: 5s - loss: 8.2551e-04 - accuracy: 1.00 - ETA: 5s - loss: 8.1820e-04 - accuracy: 1.00 - ETA: 5s - loss: 8.1102e-04 - accuracy: 1.00 - ETA: 5s - loss: 8.0397e-04 - accuracy: 1.00 - ETA: 5s - loss: 7.9704e-04 - accuracy: 1.00 - ETA: 5s - loss: 7.9023e-04 - accuracy: 1.00 - ETA: 4s - loss: 7.8353e-04 - accuracy: 1.00 - ETA: 4s - loss: 7.7695e-04 - accuracy: 1.00 - ETA: 4s - loss: 7.7047e-04 - accuracy: 1.00 - ETA: 4s - loss: 7.6411e-04 - accuracy: 1.00 - ETA: 4s - loss: 7.5795e-04 - accuracy: 1.00 - ETA: 4s - loss: 7.5181e-04 - accuracy: 1.00 - ETA: 4s - loss: 7.4575e-04 - accuracy: 1.00 - ETA: 4s - loss: 7.3978e-04 - accuracy: 1.00 - ETA: 3s - loss: 7.3391e-04 - accuracy: 1.00 - ETA: 3s - loss: 7.2813e-04 - accuracy: 1.00 - ETA: 3s - loss: 7.2244e-04 - accuracy: 1.00 - ETA: 3s - loss: 9.2652e-04 - accuracy: 1.00 - ETA: 3s - loss: 9.1939e-04 - accuracy: 1.00 - ETA: 3s - loss: 9.1238e-04 - accuracy: 1.00 - ETA: 3s - loss: 9.0546e-04 - accuracy: 1.00 - ETA: 2s - loss: 8.9866e-04 - accuracy: 1.00 - ETA: 2s - loss: 8.9195e-04 - accuracy: 1.00 - ETA: 2s - loss: 8.8534e-04 - accuracy: 1.00 - ETA: 2s - loss: 8.7883e-04 - accuracy: 1.00 - ETA: 2s - loss: 8.7242e-04 - accuracy: 1.00 - ETA: 2s - loss: 8.6615e-04 - accuracy: 1.00 - ETA: 2s - loss: 8.5992e-04 - accuracy: 1.00 - ETA: 2s - loss: 8.5378e-04 - accuracy: 1.00 - ETA: 1s - loss: 8.4774e-04 - accuracy: 1.00 - ETA: 1s - loss: 8.4266e-04 - accuracy: 1.00 - ETA: 1s - loss: 8.3677e-04 - accuracy: 1.00 - ETA: 1s - loss: 8.3096e-04 - accuracy: 1.00 - ETA: 1s - loss: 8.2523e-04 - accuracy: 1.00 - ETA: 1s - loss: 8.1958e-04 - accuracy: 1.00 - ETA: 1s - loss: 8.1400e-04 - accuracy: 1.00 - ETA: 1s - loss: 8.0853e-04 - accuracy: 1.00 - ETA: 0s - loss: 8.0310e-04 - accuracy: 1.00 - ETA: 0s - loss: 7.9813e-04 - accuracy: 1.00 - ETA: 0s - loss: 0.0023 - accuracy: 0.9983   - ETA: 0s - loss: 0.0023 - accuracy: 0.99 - ETA: 0s - loss: 0.0023 - accuracy: 0.99 - ETA: 0s - loss: 0.0023 - accuracy: 0.99 - ETA: 0s - loss: 0.0022 - accuracy: 0.99 - 23s 36ms/step - loss: 0.0022 - accuracy: 0.9984 - val_loss: 0.0000e+00 - val_accuracy: 1.0000\n",
      "Epoch 37/50\n"
     ]
    },
    {
     "name": "stdout",
     "output_type": "stream",
     "text": [
      "622/622 [==============================] - ETA: 21s - loss: 0.0000e+00 - accuracy: 1.000 - ETA: 25s - loss: 0.0000e+00 - accuracy: 1.000 - ETA: 24s - loss: 0.0000e+00 - accuracy: 1.000 - ETA: 23s - loss: 0.0000e+00 - accuracy: 1.000 - ETA: 23s - loss: 0.0000e+00 - accuracy: 1.000 - ETA: 22s - loss: 0.0000e+00 - accuracy: 1.000 - ETA: 23s - loss: 0.0000e+00 - accuracy: 1.000 - ETA: 23s - loss: 0.0000e+00 - accuracy: 1.000 - ETA: 23s - loss: 0.0000e+00 - accuracy: 1.000 - ETA: 22s - loss: 0.0000e+00 - accuracy: 1.000 - ETA: 22s - loss: 0.0000e+00 - accuracy: 1.000 - ETA: 22s - loss: 0.0000e+00 - accuracy: 1.000 - ETA: 21s - loss: 0.0000e+00 - accuracy: 1.000 - ETA: 21s - loss: 0.0000e+00 - accuracy: 1.000 - ETA: 21s - loss: 0.0000e+00 - accuracy: 1.000 - ETA: 20s - loss: 1.3225e-07 - accuracy: 1.000 - ETA: 20s - loss: 1.2447e-07 - accuracy: 1.000 - ETA: 20s - loss: 6.9425e-04 - accuracy: 1.000 - ETA: 21s - loss: 6.5771e-04 - accuracy: 1.000 - ETA: 21s - loss: 6.2555e-04 - accuracy: 1.000 - ETA: 21s - loss: 5.9576e-04 - accuracy: 1.000 - ETA: 20s - loss: 5.6868e-04 - accuracy: 1.000 - ETA: 20s - loss: 5.4516e-04 - accuracy: 1.000 - ETA: 20s - loss: 5.2250e-04 - accuracy: 1.000 - ETA: 20s - loss: 5.0438e-04 - accuracy: 1.000 - ETA: 19s - loss: 4.8589e-04 - accuracy: 1.000 - ETA: 19s - loss: 4.6789e-04 - accuracy: 1.000 - ETA: 19s - loss: 4.7450e-04 - accuracy: 1.000 - ETA: 19s - loss: 4.5814e-04 - accuracy: 1.000 - ETA: 18s - loss: 4.4287e-04 - accuracy: 1.000 - ETA: 18s - loss: 4.2858e-04 - accuracy: 1.000 - ETA: 18s - loss: 4.1519e-04 - accuracy: 1.000 - ETA: 18s - loss: 4.0261e-04 - accuracy: 1.000 - ETA: 18s - loss: 3.9077e-04 - accuracy: 1.000 - ETA: 17s - loss: 3.7960e-04 - accuracy: 1.000 - ETA: 17s - loss: 3.6906e-04 - accuracy: 1.000 - ETA: 17s - loss: 3.5909e-04 - accuracy: 1.000 - ETA: 17s - loss: 5.6020e-04 - accuracy: 1.000 - ETA: 17s - loss: 5.4585e-04 - accuracy: 1.000 - ETA: 16s - loss: 5.3221e-04 - accuracy: 1.000 - ETA: 16s - loss: 5.1923e-04 - accuracy: 1.000 - ETA: 16s - loss: 5.0686e-04 - accuracy: 1.000 - ETA: 16s - loss: 4.9508e-04 - accuracy: 1.000 - ETA: 16s - loss: 4.8385e-04 - accuracy: 1.000 - ETA: 15s - loss: 4.7310e-04 - accuracy: 1.000 - ETA: 15s - loss: 4.6281e-04 - accuracy: 1.000 - ETA: 15s - loss: 4.5296e-04 - accuracy: 1.000 - ETA: 15s - loss: 4.4353e-04 - accuracy: 1.000 - ETA: 15s - loss: 4.3484e-04 - accuracy: 1.000 - ETA: 14s - loss: 4.2614e-04 - accuracy: 1.000 - ETA: 14s - loss: 4.1778e-04 - accuracy: 1.000 - ETA: 14s - loss: 4.0975e-04 - accuracy: 1.000 - ETA: 14s - loss: 4.0202e-04 - accuracy: 1.000 - ETA: 14s - loss: 3.9457e-04 - accuracy: 1.000 - ETA: 14s - loss: 3.8742e-04 - accuracy: 1.000 - ETA: 13s - loss: 3.8050e-04 - accuracy: 1.000 - ETA: 13s - loss: 3.7382e-04 - accuracy: 1.000 - ETA: 13s - loss: 3.6738e-04 - accuracy: 1.000 - ETA: 13s - loss: 3.6115e-04 - accuracy: 1.000 - ETA: 13s - loss: 3.5513e-04 - accuracy: 1.000 - ETA: 13s - loss: 3.4931e-04 - accuracy: 1.000 - ETA: 12s - loss: 3.4368e-04 - accuracy: 1.000 - ETA: 12s - loss: 3.3822e-04 - accuracy: 1.000 - ETA: 12s - loss: 3.3294e-04 - accuracy: 1.000 - ETA: 12s - loss: 3.8617e-04 - accuracy: 1.000 - ETA: 12s - loss: 3.8032e-04 - accuracy: 1.000 - ETA: 12s - loss: 3.7465e-04 - accuracy: 1.000 - ETA: 12s - loss: 3.6914e-04 - accuracy: 1.000 - ETA: 11s - loss: 3.6381e-04 - accuracy: 1.000 - ETA: 11s - loss: 3.5862e-04 - accuracy: 1.000 - ETA: 11s - loss: 3.5357e-04 - accuracy: 1.000 - ETA: 11s - loss: 3.4865e-04 - accuracy: 1.000 - ETA: 11s - loss: 3.4388e-04 - accuracy: 1.000 - ETA: 11s - loss: 3.3923e-04 - accuracy: 1.000 - ETA: 11s - loss: 3.3471e-04 - accuracy: 1.000 - ETA: 11s - loss: 3.3682e-04 - accuracy: 1.000 - ETA: 10s - loss: 3.3244e-04 - accuracy: 1.000 - ETA: 10s - loss: 3.2818e-04 - accuracy: 1.000 - ETA: 10s - loss: 3.2403e-04 - accuracy: 1.000 - ETA: 10s - loss: 3.1998e-04 - accuracy: 1.000 - ETA: 10s - loss: 3.1603e-04 - accuracy: 1.000 - ETA: 10s - loss: 3.1217e-04 - accuracy: 1.000 - ETA: 10s - loss: 3.0842e-04 - accuracy: 1.000 - ETA: 9s - loss: 3.0475e-04 - accuracy: 1.000 - ETA: 9s - loss: 3.0116e-04 - accuracy: 1.00 - ETA: 9s - loss: 2.9766e-04 - accuracy: 1.00 - ETA: 9s - loss: 2.9424e-04 - accuracy: 1.00 - ETA: 9s - loss: 2.9089e-04 - accuracy: 1.00 - ETA: 9s - loss: 2.8762e-04 - accuracy: 1.00 - ETA: 9s - loss: 2.8443e-04 - accuracy: 1.00 - ETA: 8s - loss: 2.8130e-04 - accuracy: 1.00 - ETA: 8s - loss: 2.7825e-04 - accuracy: 1.00 - ETA: 8s - loss: 2.7525e-04 - accuracy: 1.00 - ETA: 8s - loss: 2.7233e-04 - accuracy: 1.00 - ETA: 8s - loss: 2.6946e-04 - accuracy: 1.00 - ETA: 8s - loss: 2.6665e-04 - accuracy: 1.00 - ETA: 8s - loss: 2.6390e-04 - accuracy: 1.00 - ETA: 7s - loss: 2.6121e-04 - accuracy: 1.00 - ETA: 7s - loss: 2.5857e-04 - accuracy: 1.00 - ETA: 7s - loss: 2.5599e-04 - accuracy: 1.00 - ETA: 7s - loss: 2.5346e-04 - accuracy: 1.00 - ETA: 7s - loss: 2.5097e-04 - accuracy: 1.00 - ETA: 7s - loss: 2.4854e-04 - accuracy: 1.00 - ETA: 7s - loss: 2.4615e-04 - accuracy: 1.00 - ETA: 6s - loss: 2.4380e-04 - accuracy: 1.00 - ETA: 6s - loss: 2.4233e-04 - accuracy: 1.00 - ETA: 6s - loss: 2.4006e-04 - accuracy: 1.00 - ETA: 6s - loss: 2.3784e-04 - accuracy: 1.00 - ETA: 6s - loss: 2.3566e-04 - accuracy: 1.00 - ETA: 6s - loss: 2.3352e-04 - accuracy: 1.00 - ETA: 6s - loss: 2.3444e-04 - accuracy: 1.00 - ETA: 5s - loss: 2.3234e-04 - accuracy: 1.00 - ETA: 5s - loss: 2.3029e-04 - accuracy: 1.00 - ETA: 5s - loss: 2.2827e-04 - accuracy: 1.00 - ETA: 5s - loss: 2.2628e-04 - accuracy: 1.00 - ETA: 5s - loss: 2.2433e-04 - accuracy: 1.00 - ETA: 5s - loss: 2.2242e-04 - accuracy: 1.00 - ETA: 5s - loss: 2.2053e-04 - accuracy: 1.00 - ETA: 4s - loss: 2.1868e-04 - accuracy: 1.00 - ETA: 4s - loss: 2.1685e-04 - accuracy: 1.00 - ETA: 4s - loss: 2.2128e-04 - accuracy: 1.00 - ETA: 4s - loss: 2.1947e-04 - accuracy: 1.00 - ETA: 4s - loss: 2.1769e-04 - accuracy: 1.00 - ETA: 4s - loss: 2.1598e-04 - accuracy: 1.00 - ETA: 4s - loss: 2.1425e-04 - accuracy: 1.00 - ETA: 4s - loss: 2.1255e-04 - accuracy: 1.00 - ETA: 3s - loss: 2.1088e-04 - accuracy: 1.00 - ETA: 3s - loss: 2.0923e-04 - accuracy: 1.00 - ETA: 3s - loss: 2.0761e-04 - accuracy: 1.00 - ETA: 3s - loss: 2.0601e-04 - accuracy: 1.00 - ETA: 3s - loss: 2.0444e-04 - accuracy: 1.00 - ETA: 3s - loss: 2.0290e-04 - accuracy: 1.00 - ETA: 3s - loss: 2.0137e-04 - accuracy: 1.00 - ETA: 2s - loss: 1.9987e-04 - accuracy: 1.00 - ETA: 2s - loss: 1.9839e-04 - accuracy: 1.00 - ETA: 2s - loss: 1.9693e-04 - accuracy: 1.00 - ETA: 2s - loss: 1.9549e-04 - accuracy: 1.00 - ETA: 2s - loss: 1.9408e-04 - accuracy: 1.00 - ETA: 2s - loss: 1.9268e-04 - accuracy: 1.00 - ETA: 2s - loss: 1.9130e-04 - accuracy: 1.00 - ETA: 1s - loss: 1.8995e-04 - accuracy: 1.00 - ETA: 1s - loss: 1.8861e-04 - accuracy: 1.00 - ETA: 1s - loss: 1.8729e-04 - accuracy: 1.00 - ETA: 1s - loss: 1.8599e-04 - accuracy: 1.00 - ETA: 1s - loss: 1.8471e-04 - accuracy: 1.00 - ETA: 1s - loss: 1.8344e-04 - accuracy: 1.00 - ETA: 1s - loss: 1.8219e-04 - accuracy: 1.00 - ETA: 1s - loss: 1.8096e-04 - accuracy: 1.00 - ETA: 0s - loss: 1.7975e-04 - accuracy: 1.00 - ETA: 0s - loss: 1.7855e-04 - accuracy: 1.00 - ETA: 0s - loss: 1.7737e-04 - accuracy: 1.00 - ETA: 0s - loss: 1.7620e-04 - accuracy: 1.00 - ETA: 0s - loss: 1.7505e-04 - accuracy: 1.00 - ETA: 0s - loss: 1.7391e-04 - accuracy: 1.00 - ETA: 0s - loss: 1.7279e-04 - accuracy: 1.00 - 22s 35ms/step - loss: 1.7224e-04 - accuracy: 1.0000 - val_loss: 0.0000e+00 - val_accuracy: 1.0000\n",
      "Epoch 38/50\n"
     ]
    },
    {
     "name": "stdout",
     "output_type": "stream",
     "text": [
      "622/622 [==============================] - ETA: 18s - loss: 0.0000e+00 - accuracy: 1.000 - ETA: 19s - loss: 0.0000e+00 - accuracy: 1.000 - ETA: 19s - loss: 0.0000e+00 - accuracy: 1.000 - ETA: 19s - loss: 0.0000e+00 - accuracy: 1.000 - ETA: 19s - loss: 0.0000e+00 - accuracy: 1.000 - ETA: 19s - loss: 0.0000e+00 - accuracy: 1.000 - ETA: 19s - loss: 0.0000e+00 - accuracy: 1.000 - ETA: 19s - loss: 8.1759e-06 - accuracy: 1.000 - ETA: 19s - loss: 7.2675e-06 - accuracy: 1.000 - ETA: 19s - loss: 6.5408e-06 - accuracy: 1.000 - ETA: 19s - loss: 5.9461e-06 - accuracy: 1.000 - ETA: 19s - loss: 1.2462e-04 - accuracy: 1.000 - ETA: 19s - loss: 1.1503e-04 - accuracy: 1.000 - ETA: 19s - loss: 1.0682e-04 - accuracy: 1.000 - ETA: 19s - loss: 9.9695e-05 - accuracy: 1.000 - ETA: 18s - loss: 9.3464e-05 - accuracy: 1.000 - ETA: 19s - loss: 8.7966e-05 - accuracy: 1.000 - ETA: 19s - loss: 8.3081e-05 - accuracy: 1.000 - ETA: 19s - loss: 7.8708e-05 - accuracy: 1.000 - ETA: 18s - loss: 7.4773e-05 - accuracy: 1.000 - ETA: 18s - loss: 7.1212e-05 - accuracy: 1.000 - ETA: 18s - loss: 6.7975e-05 - accuracy: 1.000 - ETA: 18s - loss: 6.5020e-05 - accuracy: 1.000 - ETA: 18s - loss: 6.2311e-05 - accuracy: 1.000 - ETA: 18s - loss: 7.6213e-05 - accuracy: 1.000 - ETA: 18s - loss: 7.3282e-05 - accuracy: 1.000 - ETA: 18s - loss: 7.0567e-05 - accuracy: 1.000 - ETA: 18s - loss: 6.8050e-05 - accuracy: 1.000 - ETA: 18s - loss: 8.2989e-05 - accuracy: 1.000 - ETA: 17s - loss: 8.0223e-05 - accuracy: 1.000 - ETA: 17s - loss: 7.7635e-05 - accuracy: 1.000 - ETA: 17s - loss: 7.7559e-05 - accuracy: 1.000 - ETA: 17s - loss: 7.5209e-05 - accuracy: 1.000 - ETA: 17s - loss: 7.2997e-05 - accuracy: 1.000 - ETA: 17s - loss: 7.3174e-05 - accuracy: 1.000 - ETA: 16s - loss: 7.1142e-05 - accuracy: 1.000 - ETA: 16s - loss: 6.9219e-05 - accuracy: 1.000 - ETA: 16s - loss: 6.7401e-05 - accuracy: 1.000 - ETA: 16s - loss: 6.5744e-05 - accuracy: 1.000 - ETA: 16s - loss: 6.4157e-05 - accuracy: 1.000 - ETA: 16s - loss: 6.2594e-05 - accuracy: 1.000 - ETA: 16s - loss: 6.1113e-05 - accuracy: 1.000 - ETA: 16s - loss: 5.9692e-05 - accuracy: 1.000 - ETA: 16s - loss: 5.8335e-05 - accuracy: 1.000 - ETA: 15s - loss: 5.7122e-05 - accuracy: 1.000 - ETA: 15s - loss: 5.5880e-05 - accuracy: 1.000 - ETA: 15s - loss: 5.4691e-05 - accuracy: 1.000 - ETA: 15s - loss: 5.3552e-05 - accuracy: 1.000 - ETA: 15s - loss: 5.2459e-05 - accuracy: 1.000 - ETA: 15s - loss: 5.1762e-05 - accuracy: 1.000 - ETA: 15s - loss: 5.0747e-05 - accuracy: 1.000 - ETA: 14s - loss: 4.9771e-05 - accuracy: 1.000 - ETA: 14s - loss: 4.8832e-05 - accuracy: 1.000 - ETA: 14s - loss: 4.7928e-05 - accuracy: 1.000 - ETA: 14s - loss: 4.7056e-05 - accuracy: 1.000 - ETA: 14s - loss: 4.6216e-05 - accuracy: 1.000 - ETA: 14s - loss: 4.5405e-05 - accuracy: 1.000 - ETA: 13s - loss: 4.4850e-05 - accuracy: 1.000 - ETA: 13s - loss: 4.4089e-05 - accuracy: 1.000 - ETA: 13s - loss: 4.3355e-05 - accuracy: 1.000 - ETA: 13s - loss: 4.2644e-05 - accuracy: 1.000 - ETA: 13s - loss: 4.1956e-05 - accuracy: 1.000 - ETA: 13s - loss: 4.1290e-05 - accuracy: 1.000 - ETA: 13s - loss: 4.0645e-05 - accuracy: 1.000 - ETA: 13s - loss: 4.0077e-05 - accuracy: 1.000 - ETA: 12s - loss: 8.1356e-04 - accuracy: 1.000 - ETA: 12s - loss: 8.0142e-04 - accuracy: 1.000 - ETA: 12s - loss: 7.8963e-04 - accuracy: 1.000 - ETA: 12s - loss: 7.7819e-04 - accuracy: 1.000 - ETA: 12s - loss: 7.6707e-04 - accuracy: 1.000 - ETA: 12s - loss: 7.6805e-04 - accuracy: 1.000 - ETA: 12s - loss: 7.7682e-04 - accuracy: 1.000 - ETA: 12s - loss: 7.6618e-04 - accuracy: 1.000 - ETA: 11s - loss: 7.5582e-04 - accuracy: 1.000 - ETA: 11s - loss: 7.4575e-04 - accuracy: 1.000 - ETA: 11s - loss: 7.3593e-04 - accuracy: 1.000 - ETA: 11s - loss: 7.2638e-04 - accuracy: 1.000 - ETA: 11s - loss: 7.1706e-04 - accuracy: 1.000 - ETA: 11s - loss: 7.0799e-04 - accuracy: 1.000 - ETA: 11s - loss: 6.9914e-04 - accuracy: 1.000 - ETA: 11s - loss: 6.9051e-04 - accuracy: 1.000 - ETA: 10s - loss: 6.8208e-04 - accuracy: 1.000 - ETA: 10s - loss: 6.7387e-04 - accuracy: 1.000 - ETA: 10s - loss: 6.6584e-04 - accuracy: 1.000 - ETA: 10s - loss: 6.5801e-04 - accuracy: 1.000 - ETA: 10s - loss: 6.5036e-04 - accuracy: 1.000 - ETA: 10s - loss: 6.4289e-04 - accuracy: 1.000 - ETA: 9s - loss: 6.3577e-04 - accuracy: 1.000 - ETA: 9s - loss: 6.2862e-04 - accuracy: 1.00 - ETA: 9s - loss: 6.2164e-04 - accuracy: 1.00 - ETA: 9s - loss: 6.1481e-04 - accuracy: 1.00 - ETA: 9s - loss: 6.0812e-04 - accuracy: 1.00 - ETA: 9s - loss: 6.0158e-04 - accuracy: 1.00 - ETA: 9s - loss: 5.9518e-04 - accuracy: 1.00 - ETA: 8s - loss: 5.8892e-04 - accuracy: 1.00 - ETA: 8s - loss: 5.8279e-04 - accuracy: 1.00 - ETA: 8s - loss: 5.7678e-04 - accuracy: 1.00 - ETA: 8s - loss: 5.7089e-04 - accuracy: 1.00 - ETA: 8s - loss: 5.6512e-04 - accuracy: 1.00 - ETA: 8s - loss: 5.5949e-04 - accuracy: 1.00 - ETA: 8s - loss: 5.5395e-04 - accuracy: 1.00 - ETA: 7s - loss: 5.4900e-04 - accuracy: 1.00 - ETA: 7s - loss: 5.4575e-04 - accuracy: 1.00 - ETA: 7s - loss: 5.4051e-04 - accuracy: 1.00 - ETA: 7s - loss: 5.3536e-04 - accuracy: 1.00 - ETA: 7s - loss: 5.3031e-04 - accuracy: 1.00 - ETA: 7s - loss: 5.2536e-04 - accuracy: 1.00 - ETA: 6s - loss: 5.2049e-04 - accuracy: 1.00 - ETA: 6s - loss: 5.1572e-04 - accuracy: 1.00 - ETA: 6s - loss: 5.1115e-04 - accuracy: 1.00 - ETA: 6s - loss: 5.0654e-04 - accuracy: 1.00 - ETA: 6s - loss: 5.0202e-04 - accuracy: 1.00 - ETA: 6s - loss: 4.9759e-04 - accuracy: 1.00 - ETA: 6s - loss: 4.9475e-04 - accuracy: 1.00 - ETA: 5s - loss: 4.9045e-04 - accuracy: 1.00 - ETA: 5s - loss: 4.8622e-04 - accuracy: 1.00 - ETA: 5s - loss: 4.8206e-04 - accuracy: 1.00 - ETA: 5s - loss: 4.7798e-04 - accuracy: 1.00 - ETA: 5s - loss: 4.7396e-04 - accuracy: 1.00 - ETA: 5s - loss: 4.7001e-04 - accuracy: 1.00 - ETA: 4s - loss: 4.6613e-04 - accuracy: 1.00 - ETA: 4s - loss: 4.6230e-04 - accuracy: 1.00 - ETA: 4s - loss: 4.5855e-04 - accuracy: 1.00 - ETA: 4s - loss: 4.5485e-04 - accuracy: 1.00 - ETA: 4s - loss: 4.5121e-04 - accuracy: 1.00 - ETA: 4s - loss: 4.4763e-04 - accuracy: 1.00 - ETA: 4s - loss: 4.4410e-04 - accuracy: 1.00 - ETA: 3s - loss: 4.4063e-04 - accuracy: 1.00 - ETA: 3s - loss: 4.5960e-04 - accuracy: 1.00 - ETA: 3s - loss: 4.5607e-04 - accuracy: 1.00 - ETA: 3s - loss: 4.5259e-04 - accuracy: 1.00 - ETA: 3s - loss: 4.4916e-04 - accuracy: 1.00 - ETA: 3s - loss: 4.4578e-04 - accuracy: 1.00 - ETA: 3s - loss: 4.4245e-04 - accuracy: 1.00 - ETA: 2s - loss: 4.3918e-04 - accuracy: 1.00 - ETA: 2s - loss: 4.3595e-04 - accuracy: 1.00 - ETA: 2s - loss: 4.3276e-04 - accuracy: 1.00 - ETA: 2s - loss: 4.2963e-04 - accuracy: 1.00 - ETA: 2s - loss: 4.2654e-04 - accuracy: 1.00 - ETA: 2s - loss: 4.2349e-04 - accuracy: 1.00 - ETA: 2s - loss: 4.2049e-04 - accuracy: 1.00 - ETA: 1s - loss: 4.1753e-04 - accuracy: 1.00 - ETA: 1s - loss: 4.1461e-04 - accuracy: 1.00 - ETA: 1s - loss: 4.1173e-04 - accuracy: 1.00 - ETA: 1s - loss: 4.1217e-04 - accuracy: 1.00 - ETA: 1s - loss: 4.0935e-04 - accuracy: 1.00 - ETA: 1s - loss: 4.0656e-04 - accuracy: 1.00 - ETA: 1s - loss: 4.0382e-04 - accuracy: 1.00 - ETA: 0s - loss: 4.0111e-04 - accuracy: 1.00 - ETA: 0s - loss: 3.9843e-04 - accuracy: 1.00 - ETA: 0s - loss: 3.9580e-04 - accuracy: 1.00 - ETA: 0s - loss: 3.9319e-04 - accuracy: 1.00 - ETA: 0s - loss: 3.9062e-04 - accuracy: 1.00 - ETA: 0s - loss: 3.8809e-04 - accuracy: 1.00 - ETA: 0s - loss: 3.8558e-04 - accuracy: 1.00 - 22s 36ms/step - loss: 3.8434e-04 - accuracy: 1.0000 - val_loss: 7.6416e-10 - val_accuracy: 1.0000\n",
      "Epoch 39/50\n"
     ]
    },
    {
     "name": "stdout",
     "output_type": "stream",
     "text": [
      "622/622 [==============================] - ETA: 18s - loss: 2.7120e-06 - accuracy: 1.000 - ETA: 18s - loss: 1.3560e-06 - accuracy: 1.000 - ETA: 19s - loss: 9.0400e-07 - accuracy: 1.000 - ETA: 19s - loss: 6.8545e-07 - accuracy: 1.000 - ETA: 18s - loss: 5.4836e-07 - accuracy: 1.000 - ETA: 18s - loss: 4.5697e-07 - accuracy: 1.000 - ETA: 18s - loss: 3.9169e-07 - accuracy: 1.000 - ETA: 18s - loss: 3.4272e-07 - accuracy: 1.000 - ETA: 18s - loss: 3.0464e-07 - accuracy: 1.000 - ETA: 18s - loss: 2.7418e-07 - accuracy: 1.000 - ETA: 18s - loss: 2.4925e-07 - accuracy: 1.000 - ETA: 18s - loss: 2.2848e-07 - accuracy: 1.000 - ETA: 17s - loss: 4.1952e-07 - accuracy: 1.000 - ETA: 17s - loss: 3.8956e-07 - accuracy: 1.000 - ETA: 17s - loss: 3.6359e-07 - accuracy: 1.000 - ETA: 17s - loss: 3.4086e-07 - accuracy: 1.000 - ETA: 17s - loss: 3.2081e-07 - accuracy: 1.000 - ETA: 17s - loss: 3.0630e-07 - accuracy: 1.000 - ETA: 17s - loss: 2.9018e-07 - accuracy: 1.000 - ETA: 17s - loss: 2.7567e-07 - accuracy: 1.000 - ETA: 16s - loss: 2.6254e-07 - accuracy: 1.000 - ETA: 16s - loss: 2.5061e-07 - accuracy: 1.000 - ETA: 16s - loss: 2.3971e-07 - accuracy: 1.000 - ETA: 16s - loss: 2.2973e-07 - accuracy: 1.000 - ETA: 16s - loss: 2.2054e-07 - accuracy: 1.000 - ETA: 16s - loss: 2.1549e-07 - accuracy: 1.000 - ETA: 16s - loss: 2.0751e-07 - accuracy: 1.000 - ETA: 16s - loss: 2.0010e-07 - accuracy: 1.000 - ETA: 15s - loss: 1.9320e-07 - accuracy: 1.000 - ETA: 15s - loss: 1.8676e-07 - accuracy: 1.000 - ETA: 15s - loss: 1.8074e-07 - accuracy: 1.000 - ETA: 15s - loss: 1.7509e-07 - accuracy: 1.000 - ETA: 15s - loss: 1.6978e-07 - accuracy: 1.000 - ETA: 15s - loss: 1.6479e-07 - accuracy: 1.000 - ETA: 15s - loss: 1.6860e-07 - accuracy: 1.000 - ETA: 15s - loss: 1.6391e-07 - accuracy: 1.000 - ETA: 15s - loss: 1.5948e-07 - accuracy: 1.000 - ETA: 14s - loss: 1.5529e-07 - accuracy: 1.000 - ETA: 14s - loss: 1.5130e-07 - accuracy: 1.000 - ETA: 14s - loss: 1.4752e-07 - accuracy: 1.000 - ETA: 14s - loss: 1.4392e-07 - accuracy: 1.000 - ETA: 14s - loss: 1.4050e-07 - accuracy: 1.000 - ETA: 14s - loss: 1.3723e-07 - accuracy: 1.000 - ETA: 14s - loss: 1.3411e-07 - accuracy: 1.000 - ETA: 14s - loss: 1.3113e-07 - accuracy: 1.000 - ETA: 13s - loss: 9.1405e-06 - accuracy: 1.000 - ETA: 13s - loss: 8.9461e-06 - accuracy: 1.000 - ETA: 13s - loss: 8.7597e-06 - accuracy: 1.000 - ETA: 13s - loss: 8.5815e-06 - accuracy: 1.000 - ETA: 13s - loss: 9.6304e-06 - accuracy: 1.000 - ETA: 13s - loss: 2.2704e-05 - accuracy: 1.000 - ETA: 13s - loss: 2.2267e-05 - accuracy: 1.000 - ETA: 13s - loss: 2.1847e-05 - accuracy: 1.000 - ETA: 12s - loss: 2.1442e-05 - accuracy: 1.000 - ETA: 12s - loss: 2.1053e-05 - accuracy: 1.000 - ETA: 12s - loss: 2.0677e-05 - accuracy: 1.000 - ETA: 12s - loss: 2.0317e-05 - accuracy: 1.000 - ETA: 12s - loss: 1.9967e-05 - accuracy: 1.000 - ETA: 12s - loss: 1.9628e-05 - accuracy: 1.000 - ETA: 12s - loss: 2.0353e-05 - accuracy: 1.000 - ETA: 12s - loss: 2.0019e-05 - accuracy: 1.000 - ETA: 11s - loss: 1.9707e-05 - accuracy: 1.000 - ETA: 11s - loss: 1.9394e-05 - accuracy: 1.000 - ETA: 11s - loss: 1.9091e-05 - accuracy: 1.000 - ETA: 11s - loss: 1.8798e-05 - accuracy: 1.000 - ETA: 11s - loss: 1.1071e-04 - accuracy: 1.000 - ETA: 11s - loss: 1.0905e-04 - accuracy: 1.000 - ETA: 11s - loss: 1.0745e-04 - accuracy: 1.000 - ETA: 11s - loss: 1.0589e-04 - accuracy: 1.000 - ETA: 10s - loss: 1.4174e-04 - accuracy: 1.000 - ETA: 10s - loss: 1.3974e-04 - accuracy: 1.000 - ETA: 10s - loss: 1.3780e-04 - accuracy: 1.000 - ETA: 10s - loss: 1.3592e-04 - accuracy: 1.000 - ETA: 10s - loss: 1.3408e-04 - accuracy: 1.000 - ETA: 10s - loss: 1.3229e-04 - accuracy: 1.000 - ETA: 10s - loss: 1.3056e-04 - accuracy: 1.000 - ETA: 9s - loss: 1.2887e-04 - accuracy: 1.000 - ETA: 9s - loss: 1.2721e-04 - accuracy: 1.00 - ETA: 9s - loss: 1.2560e-04 - accuracy: 1.00 - ETA: 9s - loss: 1.2403e-04 - accuracy: 1.00 - ETA: 9s - loss: 1.2250e-04 - accuracy: 1.00 - ETA: 9s - loss: 1.2101e-04 - accuracy: 1.00 - ETA: 9s - loss: 1.1955e-04 - accuracy: 1.00 - ETA: 9s - loss: 1.1813e-04 - accuracy: 1.00 - ETA: 8s - loss: 1.1674e-04 - accuracy: 1.00 - ETA: 8s - loss: 1.1538e-04 - accuracy: 1.00 - ETA: 8s - loss: 1.1406e-04 - accuracy: 1.00 - ETA: 8s - loss: 1.1276e-04 - accuracy: 1.00 - ETA: 8s - loss: 1.1149e-04 - accuracy: 1.00 - ETA: 8s - loss: 1.1025e-04 - accuracy: 1.00 - ETA: 8s - loss: 1.0904e-04 - accuracy: 1.00 - ETA: 8s - loss: 1.0786e-04 - accuracy: 1.00 - ETA: 8s - loss: 1.0670e-04 - accuracy: 1.00 - ETA: 7s - loss: 1.0556e-04 - accuracy: 1.00 - ETA: 7s - loss: 1.0445e-04 - accuracy: 1.00 - ETA: 7s - loss: 1.0336e-04 - accuracy: 1.00 - ETA: 7s - loss: 1.0232e-04 - accuracy: 1.00 - ETA: 7s - loss: 1.0127e-04 - accuracy: 1.00 - ETA: 7s - loss: 1.0025e-04 - accuracy: 1.00 - ETA: 7s - loss: 9.9247e-05 - accuracy: 1.00 - ETA: 7s - loss: 9.8264e-05 - accuracy: 1.00 - ETA: 6s - loss: 9.7301e-05 - accuracy: 1.00 - ETA: 6s - loss: 9.6356e-05 - accuracy: 1.00 - ETA: 6s - loss: 9.5430e-05 - accuracy: 1.00 - ETA: 6s - loss: 9.4521e-05 - accuracy: 1.00 - ETA: 6s - loss: 9.3629e-05 - accuracy: 1.00 - ETA: 6s - loss: 9.2754e-05 - accuracy: 1.00 - ETA: 6s - loss: 9.1895e-05 - accuracy: 1.00 - ETA: 6s - loss: 9.1052e-05 - accuracy: 1.00 - ETA: 5s - loss: 9.0225e-05 - accuracy: 1.00 - ETA: 5s - loss: 8.9419e-05 - accuracy: 1.00 - ETA: 5s - loss: 8.8621e-05 - accuracy: 1.00 - ETA: 5s - loss: 8.7837e-05 - accuracy: 1.00 - ETA: 5s - loss: 8.7066e-05 - accuracy: 1.00 - ETA: 5s - loss: 8.6309e-05 - accuracy: 1.00 - ETA: 5s - loss: 3.4179e-04 - accuracy: 1.00 - ETA: 4s - loss: 3.3887e-04 - accuracy: 1.00 - ETA: 4s - loss: 3.3600e-04 - accuracy: 1.00 - ETA: 4s - loss: 3.3317e-04 - accuracy: 1.00 - ETA: 4s - loss: 3.3040e-04 - accuracy: 1.00 - ETA: 4s - loss: 3.2767e-04 - accuracy: 1.00 - ETA: 4s - loss: 3.2498e-04 - accuracy: 1.00 - ETA: 4s - loss: 3.2234e-04 - accuracy: 1.00 - ETA: 4s - loss: 3.1974e-04 - accuracy: 1.00 - ETA: 3s - loss: 3.1718e-04 - accuracy: 1.00 - ETA: 3s - loss: 3.1466e-04 - accuracy: 1.00 - ETA: 3s - loss: 3.1219e-04 - accuracy: 1.00 - ETA: 3s - loss: 3.0975e-04 - accuracy: 1.00 - ETA: 3s - loss: 3.0735e-04 - accuracy: 1.00 - ETA: 3s - loss: 3.0608e-04 - accuracy: 1.00 - ETA: 3s - loss: 3.0374e-04 - accuracy: 1.00 - ETA: 3s - loss: 3.0148e-04 - accuracy: 1.00 - ETA: 2s - loss: 2.9921e-04 - accuracy: 1.00 - ETA: 2s - loss: 2.9698e-04 - accuracy: 1.00 - ETA: 2s - loss: 2.9478e-04 - accuracy: 1.00 - ETA: 2s - loss: 2.9261e-04 - accuracy: 1.00 - ETA: 2s - loss: 2.9048e-04 - accuracy: 1.00 - ETA: 2s - loss: 2.8837e-04 - accuracy: 1.00 - ETA: 2s - loss: 2.8630e-04 - accuracy: 1.00 - ETA: 1s - loss: 2.8425e-04 - accuracy: 1.00 - ETA: 1s - loss: 2.8223e-04 - accuracy: 1.00 - ETA: 1s - loss: 2.8025e-04 - accuracy: 1.00 - ETA: 1s - loss: 2.7829e-04 - accuracy: 1.00 - ETA: 1s - loss: 2.7635e-04 - accuracy: 1.00 - ETA: 1s - loss: 2.7445e-04 - accuracy: 1.00 - ETA: 1s - loss: 2.7257e-04 - accuracy: 1.00 - ETA: 1s - loss: 2.7071e-04 - accuracy: 1.00 - ETA: 0s - loss: 2.6889e-04 - accuracy: 1.00 - ETA: 0s - loss: 2.6708e-04 - accuracy: 1.00 - ETA: 0s - loss: 2.6530e-04 - accuracy: 1.00 - ETA: 0s - loss: 2.6354e-04 - accuracy: 1.00 - ETA: 0s - loss: 2.6181e-04 - accuracy: 1.00 - ETA: 0s - loss: 2.6010e-04 - accuracy: 1.00 - ETA: 0s - loss: 2.5841e-04 - accuracy: 1.00 - ETA: 0s - loss: 2.5674e-04 - accuracy: 1.00 - 20s 33ms/step - loss: 2.5592e-04 - accuracy: 1.0000 - val_loss: 0.0000e+00 - val_accuracy: 1.0000\n",
      "Epoch 40/50\n"
     ]
    },
    {
     "name": "stdout",
     "output_type": "stream",
     "text": [
      "622/622 [==============================] - ETA: 18s - loss: 0.0000e+00 - accuracy: 1.000 - ETA: 18s - loss: 0.0000e+00 - accuracy: 1.000 - ETA: 18s - loss: 0.0000e+00 - accuracy: 1.000 - ETA: 18s - loss: 0.0000e+00 - accuracy: 1.000 - ETA: 18s - loss: 0.0000e+00 - accuracy: 1.000 - ETA: 18s - loss: 0.0000e+00 - accuracy: 1.000 - ETA: 18s - loss: 0.0000e+00 - accuracy: 1.000 - ETA: 18s - loss: 0.0000e+00 - accuracy: 1.000 - ETA: 18s - loss: 0.0000e+00 - accuracy: 1.000 - ETA: 17s - loss: 0.0000e+00 - accuracy: 1.000 - ETA: 17s - loss: 0.0000e+00 - accuracy: 1.000 - ETA: 17s - loss: 0.0000e+00 - accuracy: 1.000 - ETA: 17s - loss: 0.0000e+00 - accuracy: 1.000 - ETA: 17s - loss: 0.0000e+00 - accuracy: 1.000 - ETA: 17s - loss: 0.0000e+00 - accuracy: 1.000 - ETA: 17s - loss: 0.0000e+00 - accuracy: 1.000 - ETA: 17s - loss: 0.0000e+00 - accuracy: 1.000 - ETA: 17s - loss: 0.0000e+00 - accuracy: 1.000 - ETA: 16s - loss: 4.7056e-09 - accuracy: 1.000 - ETA: 16s - loss: 4.4703e-09 - accuracy: 1.000 - ETA: 16s - loss: 4.2575e-09 - accuracy: 1.000 - ETA: 16s - loss: 4.0640e-09 - accuracy: 1.000 - ETA: 16s - loss: 3.8873e-09 - accuracy: 1.000 - ETA: 16s - loss: 3.7253e-09 - accuracy: 1.000 - ETA: 16s - loss: 3.5763e-09 - accuracy: 1.000 - ETA: 16s - loss: 4.5850e-09 - accuracy: 1.000 - ETA: 16s - loss: 4.4152e-09 - accuracy: 1.000 - ETA: 15s - loss: 1.8094e-08 - accuracy: 1.000 - ETA: 15s - loss: 1.7470e-08 - accuracy: 1.000 - ETA: 15s - loss: 6.0598e-08 - accuracy: 1.000 - ETA: 15s - loss: 5.8643e-08 - accuracy: 1.000 - ETA: 15s - loss: 8.3831e-06 - accuracy: 1.000 - ETA: 15s - loss: 8.1290e-06 - accuracy: 1.000 - ETA: 15s - loss: 7.8899e-06 - accuracy: 1.000 - ETA: 15s - loss: 7.6909e-06 - accuracy: 1.000 - ETA: 14s - loss: 7.5170e-06 - accuracy: 1.000 - ETA: 14s - loss: 7.3138e-06 - accuracy: 1.000 - ETA: 14s - loss: 7.1214e-06 - accuracy: 1.000 - ETA: 14s - loss: 6.9839e-06 - accuracy: 1.000 - ETA: 14s - loss: 6.8093e-06 - accuracy: 1.000 - ETA: 14s - loss: 6.6432e-06 - accuracy: 1.000 - ETA: 14s - loss: 6.4850e-06 - accuracy: 1.000 - ETA: 14s - loss: 6.3342e-06 - accuracy: 1.000 - ETA: 13s - loss: 6.1902e-06 - accuracy: 1.000 - ETA: 13s - loss: 6.0527e-06 - accuracy: 1.000 - ETA: 13s - loss: 5.9211e-06 - accuracy: 1.000 - ETA: 13s - loss: 5.7951e-06 - accuracy: 1.000 - ETA: 13s - loss: 5.6744e-06 - accuracy: 1.000 - ETA: 13s - loss: 5.5780e-06 - accuracy: 1.000 - ETA: 13s - loss: 5.4665e-06 - accuracy: 1.000 - ETA: 13s - loss: 5.3593e-06 - accuracy: 1.000 - ETA: 12s - loss: 5.2562e-06 - accuracy: 1.000 - ETA: 12s - loss: 5.1571e-06 - accuracy: 1.000 - ETA: 12s - loss: 5.0616e-06 - accuracy: 1.000 - ETA: 12s - loss: 4.9695e-06 - accuracy: 1.000 - ETA: 12s - loss: 4.8808e-06 - accuracy: 1.000 - ETA: 12s - loss: 6.6430e-06 - accuracy: 1.000 - ETA: 12s - loss: 6.5285e-06 - accuracy: 1.000 - ETA: 12s - loss: 6.4178e-06 - accuracy: 1.000 - ETA: 11s - loss: 6.3109e-06 - accuracy: 1.000 - ETA: 11s - loss: 6.2074e-06 - accuracy: 1.000 - ETA: 11s - loss: 6.1073e-06 - accuracy: 1.000 - ETA: 11s - loss: 6.0288e-06 - accuracy: 1.000 - ETA: 11s - loss: 5.9346e-06 - accuracy: 1.000 - ETA: 11s - loss: 5.8433e-06 - accuracy: 1.000 - ETA: 11s - loss: 5.7548e-06 - accuracy: 1.000 - ETA: 11s - loss: 5.6689e-06 - accuracy: 1.000 - ETA: 11s - loss: 5.5855e-06 - accuracy: 1.000 - ETA: 10s - loss: 5.5046e-06 - accuracy: 1.000 - ETA: 10s - loss: 5.4259e-06 - accuracy: 1.000 - ETA: 10s - loss: 5.3495e-06 - accuracy: 1.000 - ETA: 10s - loss: 5.2752e-06 - accuracy: 1.000 - ETA: 10s - loss: 5.2030e-06 - accuracy: 1.000 - ETA: 10s - loss: 5.1326e-06 - accuracy: 1.000 - ETA: 10s - loss: 5.0642e-06 - accuracy: 1.000 - ETA: 10s - loss: 4.9976e-06 - accuracy: 1.000 - ETA: 9s - loss: 4.9327e-06 - accuracy: 1.000 - ETA: 9s - loss: 4.8694e-06 - accuracy: 1.00 - ETA: 9s - loss: 4.8617e-06 - accuracy: 1.00 - ETA: 9s - loss: 4.8010e-06 - accuracy: 1.00 - ETA: 9s - loss: 4.7417e-06 - accuracy: 1.00 - ETA: 9s - loss: 4.6839e-06 - accuracy: 1.00 - ETA: 9s - loss: 4.6274e-06 - accuracy: 1.00 - ETA: 9s - loss: 4.5723e-06 - accuracy: 1.00 - ETA: 8s - loss: 4.5186e-06 - accuracy: 1.00 - ETA: 8s - loss: 4.4660e-06 - accuracy: 1.00 - ETA: 8s - loss: 4.4147e-06 - accuracy: 1.00 - ETA: 8s - loss: 7.3197e-05 - accuracy: 1.00 - ETA: 8s - loss: 7.2375e-05 - accuracy: 1.00 - ETA: 8s - loss: 7.1570e-05 - accuracy: 1.00 - ETA: 8s - loss: 7.0784e-05 - accuracy: 1.00 - ETA: 8s - loss: 7.0014e-05 - accuracy: 1.00 - ETA: 7s - loss: 6.9262e-05 - accuracy: 1.00 - ETA: 7s - loss: 6.8525e-05 - accuracy: 1.00 - ETA: 7s - loss: 6.7803e-05 - accuracy: 1.00 - ETA: 7s - loss: 6.7099e-05 - accuracy: 1.00 - ETA: 7s - loss: 6.6407e-05 - accuracy: 1.00 - ETA: 7s - loss: 6.5729e-05 - accuracy: 1.00 - ETA: 7s - loss: 6.5065e-05 - accuracy: 1.00 - ETA: 7s - loss: 6.4415e-05 - accuracy: 1.00 - ETA: 6s - loss: 6.3777e-05 - accuracy: 1.00 - ETA: 6s - loss: 2.4203e-04 - accuracy: 1.00 - ETA: 6s - loss: 2.3968e-04 - accuracy: 1.00 - ETA: 6s - loss: 2.3762e-04 - accuracy: 1.00 - ETA: 6s - loss: 2.3536e-04 - accuracy: 1.00 - ETA: 6s - loss: 2.3314e-04 - accuracy: 1.00 - ETA: 6s - loss: 2.3096e-04 - accuracy: 1.00 - ETA: 5s - loss: 2.2882e-04 - accuracy: 1.00 - ETA: 5s - loss: 2.2672e-04 - accuracy: 1.00 - ETA: 5s - loss: 2.2466e-04 - accuracy: 1.00 - ETA: 5s - loss: 2.2264e-04 - accuracy: 1.00 - ETA: 5s - loss: 2.2065e-04 - accuracy: 1.00 - ETA: 5s - loss: 2.1870e-04 - accuracy: 1.00 - ETA: 5s - loss: 2.1678e-04 - accuracy: 1.00 - ETA: 5s - loss: 2.1489e-04 - accuracy: 1.00 - ETA: 4s - loss: 2.1304e-04 - accuracy: 1.00 - ETA: 4s - loss: 2.1122e-04 - accuracy: 1.00 - ETA: 4s - loss: 2.0943e-04 - accuracy: 1.00 - ETA: 4s - loss: 2.0768e-04 - accuracy: 1.00 - ETA: 4s - loss: 2.0595e-04 - accuracy: 1.00 - ETA: 4s - loss: 2.0424e-04 - accuracy: 1.00 - ETA: 4s - loss: 2.0257e-04 - accuracy: 1.00 - ETA: 4s - loss: 2.0092e-04 - accuracy: 1.00 - ETA: 3s - loss: 1.9930e-04 - accuracy: 1.00 - ETA: 3s - loss: 1.9771e-04 - accuracy: 1.00 - ETA: 3s - loss: 1.9614e-04 - accuracy: 1.00 - ETA: 3s - loss: 1.9459e-04 - accuracy: 1.00 - ETA: 3s - loss: 1.9307e-04 - accuracy: 1.00 - ETA: 3s - loss: 1.9158e-04 - accuracy: 1.00 - ETA: 3s - loss: 1.9011e-04 - accuracy: 1.00 - ETA: 3s - loss: 1.8865e-04 - accuracy: 1.00 - ETA: 2s - loss: 1.8723e-04 - accuracy: 1.00 - ETA: 2s - loss: 1.8582e-04 - accuracy: 1.00 - ETA: 2s - loss: 1.8443e-04 - accuracy: 1.00 - ETA: 2s - loss: 1.8307e-04 - accuracy: 1.00 - ETA: 2s - loss: 1.8172e-04 - accuracy: 1.00 - ETA: 2s - loss: 1.8040e-04 - accuracy: 1.00 - ETA: 2s - loss: 1.7909e-04 - accuracy: 1.00 - ETA: 2s - loss: 1.7780e-04 - accuracy: 1.00 - ETA: 1s - loss: 1.7653e-04 - accuracy: 1.00 - ETA: 1s - loss: 1.7528e-04 - accuracy: 1.00 - ETA: 1s - loss: 1.7404e-04 - accuracy: 1.00 - ETA: 1s - loss: 1.7283e-04 - accuracy: 1.00 - ETA: 1s - loss: 1.7163e-04 - accuracy: 1.00 - ETA: 1s - loss: 1.7044e-04 - accuracy: 1.00 - ETA: 1s - loss: 1.6927e-04 - accuracy: 1.00 - ETA: 1s - loss: 1.6812e-04 - accuracy: 1.00 - ETA: 0s - loss: 1.6699e-04 - accuracy: 1.00 - ETA: 0s - loss: 1.6587e-04 - accuracy: 1.00 - ETA: 0s - loss: 1.6476e-04 - accuracy: 1.00 - ETA: 0s - loss: 1.6728e-04 - accuracy: 1.00 - ETA: 0s - loss: 1.6618e-04 - accuracy: 1.00 - ETA: 0s - loss: 1.6509e-04 - accuracy: 1.00 - ETA: 0s - loss: 1.6402e-04 - accuracy: 1.00 - ETA: 0s - loss: 1.6296e-04 - accuracy: 1.00 - 20s 33ms/step - loss: 1.6244e-04 - accuracy: 1.0000 - val_loss: 0.0000e+00 - val_accuracy: 1.0000\n",
      "Epoch 41/50\n"
     ]
    },
    {
     "name": "stdout",
     "output_type": "stream",
     "text": [
      "622/622 [==============================] - ETA: 18s - loss: 0.0000e+00 - accuracy: 1.000 - ETA: 18s - loss: 0.0000e+00 - accuracy: 1.000 - ETA: 18s - loss: 0.0000e+00 - accuracy: 1.000 - ETA: 18s - loss: 0.0000e+00 - accuracy: 1.000 - ETA: 18s - loss: 0.0000e+00 - accuracy: 1.000 - ETA: 18s - loss: 1.1225e-06 - accuracy: 1.000 - ETA: 18s - loss: 9.6218e-07 - accuracy: 1.000 - ETA: 18s - loss: 8.4191e-07 - accuracy: 1.000 - ETA: 18s - loss: 1.5365e-06 - accuracy: 1.000 - ETA: 18s - loss: 1.3828e-06 - accuracy: 1.000 - ETA: 17s - loss: 1.2571e-06 - accuracy: 1.000 - ETA: 17s - loss: 1.1523e-06 - accuracy: 1.000 - ETA: 17s - loss: 1.0637e-06 - accuracy: 1.000 - ETA: 17s - loss: 9.8772e-07 - accuracy: 1.000 - ETA: 17s - loss: 9.2187e-07 - accuracy: 1.000 - ETA: 17s - loss: 8.6426e-07 - accuracy: 1.000 - ETA: 17s - loss: 8.1342e-07 - accuracy: 1.000 - ETA: 17s - loss: 7.6823e-07 - accuracy: 1.000 - ETA: 17s - loss: 7.2779e-07 - accuracy: 1.000 - ETA: 17s - loss: 6.9140e-07 - accuracy: 1.000 - ETA: 17s - loss: 6.5848e-07 - accuracy: 1.000 - ETA: 17s - loss: 6.2855e-07 - accuracy: 1.000 - ETA: 17s - loss: 6.0381e-07 - accuracy: 1.000 - ETA: 16s - loss: 5.7865e-07 - accuracy: 1.000 - ETA: 16s - loss: 5.7458e-07 - accuracy: 1.000 - ETA: 16s - loss: 1.3021e-05 - accuracy: 1.000 - ETA: 16s - loss: 1.2539e-05 - accuracy: 1.000 - ETA: 16s - loss: 1.2091e-05 - accuracy: 1.000 - ETA: 16s - loss: 1.1674e-05 - accuracy: 1.000 - ETA: 16s - loss: 1.1285e-05 - accuracy: 1.000 - ETA: 15s - loss: 1.0921e-05 - accuracy: 1.000 - ETA: 15s - loss: 1.0580e-05 - accuracy: 1.000 - ETA: 15s - loss: 1.0259e-05 - accuracy: 1.000 - ETA: 15s - loss: 9.9574e-06 - accuracy: 1.000 - ETA: 15s - loss: 9.6729e-06 - accuracy: 1.000 - ETA: 15s - loss: 9.4042e-06 - accuracy: 1.000 - ETA: 15s - loss: 9.1501e-06 - accuracy: 1.000 - ETA: 14s - loss: 8.9093e-06 - accuracy: 1.000 - ETA: 14s - loss: 8.6808e-06 - accuracy: 1.000 - ETA: 14s - loss: 8.4638e-06 - accuracy: 1.000 - ETA: 14s - loss: 8.2574e-06 - accuracy: 1.000 - ETA: 14s - loss: 8.0608e-06 - accuracy: 1.000 - ETA: 14s - loss: 7.8733e-06 - accuracy: 1.000 - ETA: 14s - loss: 7.6944e-06 - accuracy: 1.000 - ETA: 13s - loss: 7.5234e-06 - accuracy: 1.000 - ETA: 13s - loss: 7.3598e-06 - accuracy: 1.000 - ETA: 13s - loss: 7.2032e-06 - accuracy: 1.000 - ETA: 13s - loss: 7.0532e-06 - accuracy: 1.000 - ETA: 13s - loss: 6.9092e-06 - accuracy: 1.000 - ETA: 13s - loss: 6.7711e-06 - accuracy: 1.000 - ETA: 13s - loss: 6.6383e-06 - accuracy: 1.000 - ETA: 13s - loss: 6.5106e-06 - accuracy: 1.000 - ETA: 12s - loss: 6.3878e-06 - accuracy: 1.000 - ETA: 12s - loss: 6.2695e-06 - accuracy: 1.000 - ETA: 12s - loss: 2.6822e-05 - accuracy: 1.000 - ETA: 12s - loss: 2.6343e-05 - accuracy: 1.000 - ETA: 12s - loss: 2.5881e-05 - accuracy: 1.000 - ETA: 12s - loss: 2.5435e-05 - accuracy: 1.000 - ETA: 12s - loss: 2.5023e-05 - accuracy: 1.000 - ETA: 12s - loss: 2.4606e-05 - accuracy: 1.000 - ETA: 11s - loss: 2.4203e-05 - accuracy: 1.000 - ETA: 11s - loss: 2.3813e-05 - accuracy: 1.000 - ETA: 11s - loss: 2.3435e-05 - accuracy: 1.000 - ETA: 11s - loss: 2.3068e-05 - accuracy: 1.000 - ETA: 11s - loss: 2.2714e-05 - accuracy: 1.000 - ETA: 11s - loss: 2.2369e-05 - accuracy: 1.000 - ETA: 11s - loss: 2.2036e-05 - accuracy: 1.000 - ETA: 10s - loss: 2.1711e-05 - accuracy: 1.000 - ETA: 10s - loss: 2.1397e-05 - accuracy: 1.000 - ETA: 10s - loss: 2.1091e-05 - accuracy: 1.000 - ETA: 10s - loss: 2.0794e-05 - accuracy: 1.000 - ETA: 10s - loss: 2.0505e-05 - accuracy: 1.000 - ETA: 10s - loss: 2.0224e-05 - accuracy: 1.000 - ETA: 10s - loss: 1.9952e-05 - accuracy: 1.000 - ETA: 10s - loss: 1.9686e-05 - accuracy: 1.000 - ETA: 9s - loss: 1.9427e-05 - accuracy: 1.000 - ETA: 9s - loss: 1.9175e-05 - accuracy: 1.00 - ETA: 9s - loss: 1.8929e-05 - accuracy: 1.00 - ETA: 9s - loss: 1.8689e-05 - accuracy: 1.00 - ETA: 9s - loss: 1.8456e-05 - accuracy: 1.00 - ETA: 9s - loss: 1.8228e-05 - accuracy: 1.00 - ETA: 9s - loss: 1.8006e-05 - accuracy: 1.00 - ETA: 9s - loss: 1.7789e-05 - accuracy: 1.00 - ETA: 8s - loss: 1.7577e-05 - accuracy: 1.00 - ETA: 8s - loss: 1.7370e-05 - accuracy: 1.00 - ETA: 8s - loss: 1.7168e-05 - accuracy: 1.00 - ETA: 8s - loss: 1.6971e-05 - accuracy: 1.00 - ETA: 8s - loss: 1.6778e-05 - accuracy: 1.00 - ETA: 8s - loss: 1.6590e-05 - accuracy: 1.00 - ETA: 8s - loss: 1.6405e-05 - accuracy: 1.00 - ETA: 8s - loss: 1.6649e-05 - accuracy: 1.00 - ETA: 8s - loss: 1.6468e-05 - accuracy: 1.00 - ETA: 7s - loss: 1.6291e-05 - accuracy: 1.00 - ETA: 7s - loss: 1.6118e-05 - accuracy: 1.00 - ETA: 7s - loss: 1.5948e-05 - accuracy: 1.00 - ETA: 7s - loss: 1.5782e-05 - accuracy: 1.00 - ETA: 7s - loss: 1.5619e-05 - accuracy: 1.00 - ETA: 7s - loss: 1.5460e-05 - accuracy: 1.00 - ETA: 7s - loss: 1.5304e-05 - accuracy: 1.00 - ETA: 7s - loss: 1.5151e-05 - accuracy: 1.00 - ETA: 6s - loss: 1.5001e-05 - accuracy: 1.00 - ETA: 6s - loss: 1.4854e-05 - accuracy: 1.00 - ETA: 6s - loss: 1.4709e-05 - accuracy: 1.00 - ETA: 6s - loss: 1.4568e-05 - accuracy: 1.00 - ETA: 6s - loss: 1.4432e-05 - accuracy: 1.00 - ETA: 6s - loss: 1.4296e-05 - accuracy: 1.00 - ETA: 6s - loss: 1.4162e-05 - accuracy: 1.00 - ETA: 6s - loss: 1.4031e-05 - accuracy: 1.00 - ETA: 5s - loss: 1.3902e-05 - accuracy: 1.00 - ETA: 5s - loss: 1.3776e-05 - accuracy: 1.00 - ETA: 5s - loss: 1.3652e-05 - accuracy: 1.00 - ETA: 5s - loss: 1.3530e-05 - accuracy: 1.00 - ETA: 5s - loss: 1.3411e-05 - accuracy: 1.00 - ETA: 5s - loss: 1.3293e-05 - accuracy: 1.00 - ETA: 5s - loss: 1.3177e-05 - accuracy: 1.00 - ETA: 4s - loss: 1.3064e-05 - accuracy: 1.00 - ETA: 4s - loss: 1.2952e-05 - accuracy: 1.00 - ETA: 4s - loss: 1.2842e-05 - accuracy: 1.00 - ETA: 4s - loss: 1.2734e-05 - accuracy: 1.00 - ETA: 4s - loss: 1.2628e-05 - accuracy: 1.00 - ETA: 4s - loss: 1.2524e-05 - accuracy: 1.00 - ETA: 4s - loss: 1.2421e-05 - accuracy: 1.00 - ETA: 4s - loss: 1.2325e-05 - accuracy: 1.00 - ETA: 3s - loss: 1.3621e-05 - accuracy: 1.00 - ETA: 3s - loss: 1.3512e-05 - accuracy: 1.00 - ETA: 3s - loss: 1.3405e-05 - accuracy: 1.00 - ETA: 3s - loss: 1.3300e-05 - accuracy: 1.00 - ETA: 3s - loss: 1.3196e-05 - accuracy: 1.00 - ETA: 3s - loss: 1.3093e-05 - accuracy: 1.00 - ETA: 3s - loss: 1.2993e-05 - accuracy: 1.00 - ETA: 3s - loss: 1.2895e-05 - accuracy: 1.00 - ETA: 2s - loss: 1.2797e-05 - accuracy: 1.00 - ETA: 2s - loss: 1.2701e-05 - accuracy: 1.00 - ETA: 2s - loss: 1.2606e-05 - accuracy: 1.00 - ETA: 2s - loss: 1.2513e-05 - accuracy: 1.00 - ETA: 2s - loss: 1.2421e-05 - accuracy: 1.00 - ETA: 2s - loss: 1.2330e-05 - accuracy: 1.00 - ETA: 2s - loss: 1.2241e-05 - accuracy: 1.00 - ETA: 2s - loss: 1.2153e-05 - accuracy: 1.00 - ETA: 1s - loss: 1.2066e-05 - accuracy: 1.00 - ETA: 1s - loss: 1.1980e-05 - accuracy: 1.00 - ETA: 1s - loss: 1.1896e-05 - accuracy: 1.00 - ETA: 1s - loss: 1.1813e-05 - accuracy: 1.00 - ETA: 1s - loss: 1.1731e-05 - accuracy: 1.00 - ETA: 1s - loss: 1.1650e-05 - accuracy: 1.00 - ETA: 1s - loss: 1.1570e-05 - accuracy: 1.00 - ETA: 1s - loss: 1.1491e-05 - accuracy: 1.00 - ETA: 0s - loss: 1.1414e-05 - accuracy: 1.00 - ETA: 0s - loss: 1.1345e-05 - accuracy: 1.00 - ETA: 0s - loss: 1.1270e-05 - accuracy: 1.00 - ETA: 0s - loss: 1.1195e-05 - accuracy: 1.00 - ETA: 0s - loss: 1.1122e-05 - accuracy: 1.00 - ETA: 0s - loss: 1.1049e-05 - accuracy: 1.00 - ETA: 0s - loss: 1.0977e-05 - accuracy: 1.00 - ETA: 0s - loss: 1.0906e-05 - accuracy: 1.00 - 20s 32ms/step - loss: 1.0871e-05 - accuracy: 1.0000 - val_loss: 0.0000e+00 - val_accuracy: 1.0000\n",
      "Epoch 42/50\n"
     ]
    },
    {
     "name": "stdout",
     "output_type": "stream",
     "text": [
      "622/622 [==============================] - ETA: 18s - loss: 0.0000e+00 - accuracy: 1.000 - ETA: 18s - loss: 0.0000e+00 - accuracy: 1.000 - ETA: 18s - loss: 0.0000e+00 - accuracy: 1.000 - ETA: 18s - loss: 0.0000e+00 - accuracy: 1.000 - ETA: 18s - loss: 0.0000e+00 - accuracy: 1.000 - ETA: 18s - loss: 0.0000e+00 - accuracy: 1.000 - ETA: 18s - loss: 0.0000e+00 - accuracy: 1.000 - ETA: 18s - loss: 0.0000e+00 - accuracy: 1.000 - ETA: 18s - loss: 6.6683e-06 - accuracy: 1.000 - ETA: 18s - loss: 6.0283e-06 - accuracy: 1.000 - ETA: 17s - loss: 5.4803e-06 - accuracy: 1.000 - ETA: 17s - loss: 5.0236e-06 - accuracy: 1.000 - ETA: 17s - loss: 4.6371e-06 - accuracy: 1.000 - ETA: 17s - loss: 4.5614e-06 - accuracy: 1.000 - ETA: 17s - loss: 4.2573e-06 - accuracy: 1.000 - ETA: 17s - loss: 3.9912e-06 - accuracy: 1.000 - ETA: 17s - loss: 3.7564e-06 - accuracy: 1.000 - ETA: 17s - loss: 3.5477e-06 - accuracy: 1.000 - ETA: 17s - loss: 3.3610e-06 - accuracy: 1.000 - ETA: 17s - loss: 3.1930e-06 - accuracy: 1.000 - ETA: 16s - loss: 3.0409e-06 - accuracy: 1.000 - ETA: 16s - loss: 2.9027e-06 - accuracy: 1.000 - ETA: 16s - loss: 2.7765e-06 - accuracy: 1.000 - ETA: 16s - loss: 2.6645e-06 - accuracy: 1.000 - ETA: 16s - loss: 2.5579e-06 - accuracy: 1.000 - ETA: 16s - loss: 2.4596e-06 - accuracy: 1.000 - ETA: 16s - loss: 2.3685e-06 - accuracy: 1.000 - ETA: 16s - loss: 2.2839e-06 - accuracy: 1.000 - ETA: 16s - loss: 2.2051e-06 - accuracy: 1.000 - ETA: 15s - loss: 2.1316e-06 - accuracy: 1.000 - ETA: 15s - loss: 0.0019 - accuracy: 1.0000    - ETA: 15s - loss: 0.0018 - accuracy: 1.000 - ETA: 15s - loss: 0.0018 - accuracy: 1.000 - ETA: 15s - loss: 0.0017 - accuracy: 1.000 - ETA: 15s - loss: 0.0017 - accuracy: 1.000 - ETA: 15s - loss: 0.0016 - accuracy: 1.000 - ETA: 15s - loss: 0.0016 - accuracy: 1.000 - ETA: 15s - loss: 0.0016 - accuracy: 1.000 - ETA: 14s - loss: 0.0015 - accuracy: 1.000 - ETA: 14s - loss: 0.0015 - accuracy: 1.000 - ETA: 14s - loss: 0.0015 - accuracy: 1.000 - ETA: 14s - loss: 0.0014 - accuracy: 1.000 - ETA: 14s - loss: 0.0014 - accuracy: 1.000 - ETA: 14s - loss: 0.0014 - accuracy: 1.000 - ETA: 14s - loss: 0.0013 - accuracy: 1.000 - ETA: 14s - loss: 0.0013 - accuracy: 1.000 - ETA: 13s - loss: 0.0013 - accuracy: 1.000 - ETA: 13s - loss: 0.0013 - accuracy: 1.000 - ETA: 13s - loss: 0.0012 - accuracy: 1.000 - ETA: 13s - loss: 0.0012 - accuracy: 1.000 - ETA: 13s - loss: 0.0012 - accuracy: 1.000 - ETA: 13s - loss: 0.0012 - accuracy: 1.000 - ETA: 13s - loss: 0.0011 - accuracy: 1.000 - ETA: 12s - loss: 0.0011 - accuracy: 1.000 - ETA: 12s - loss: 0.0011 - accuracy: 1.000 - ETA: 12s - loss: 0.0011 - accuracy: 1.000 - ETA: 12s - loss: 0.0011 - accuracy: 1.000 - ETA: 12s - loss: 0.0010 - accuracy: 1.000 - ETA: 12s - loss: 0.0010 - accuracy: 1.000 - ETA: 12s - loss: 0.0010 - accuracy: 1.000 - ETA: 12s - loss: 9.8888e-04 - accuracy: 1.000 - ETA: 11s - loss: 9.7297e-04 - accuracy: 1.000 - ETA: 11s - loss: 9.5752e-04 - accuracy: 1.000 - ETA: 11s - loss: 9.4256e-04 - accuracy: 1.000 - ETA: 11s - loss: 9.2806e-04 - accuracy: 1.000 - ETA: 11s - loss: 9.1400e-04 - accuracy: 1.000 - ETA: 11s - loss: 9.0037e-04 - accuracy: 1.000 - ETA: 11s - loss: 8.8713e-04 - accuracy: 1.000 - ETA: 11s - loss: 8.7427e-04 - accuracy: 1.000 - ETA: 10s - loss: 8.6178e-04 - accuracy: 1.000 - ETA: 10s - loss: 8.4964e-04 - accuracy: 1.000 - ETA: 10s - loss: 8.3784e-04 - accuracy: 1.000 - ETA: 10s - loss: 8.2636e-04 - accuracy: 1.000 - ETA: 10s - loss: 8.1520e-04 - accuracy: 1.000 - ETA: 10s - loss: 8.0433e-04 - accuracy: 1.000 - ETA: 10s - loss: 7.9375e-04 - accuracy: 1.000 - ETA: 9s - loss: 7.8344e-04 - accuracy: 1.000 - ETA: 9s - loss: 7.7339e-04 - accuracy: 1.00 - ETA: 9s - loss: 7.6360e-04 - accuracy: 1.00 - ETA: 9s - loss: 7.5406e-04 - accuracy: 1.00 - ETA: 9s - loss: 7.4475e-04 - accuracy: 1.00 - ETA: 9s - loss: 7.3567e-04 - accuracy: 1.00 - ETA: 9s - loss: 7.2680e-04 - accuracy: 1.00 - ETA: 9s - loss: 7.1815e-04 - accuracy: 1.00 - ETA: 8s - loss: 7.0970e-04 - accuracy: 1.00 - ETA: 8s - loss: 7.0161e-04 - accuracy: 1.00 - ETA: 8s - loss: 6.9354e-04 - accuracy: 1.00 - ETA: 8s - loss: 6.8566e-04 - accuracy: 1.00 - ETA: 8s - loss: 6.7796e-04 - accuracy: 1.00 - ETA: 8s - loss: 6.7043e-04 - accuracy: 1.00 - ETA: 8s - loss: 6.6306e-04 - accuracy: 1.00 - ETA: 8s - loss: 6.5585e-04 - accuracy: 1.00 - ETA: 7s - loss: 6.4880e-04 - accuracy: 1.00 - ETA: 7s - loss: 6.4190e-04 - accuracy: 1.00 - ETA: 7s - loss: 6.3514e-04 - accuracy: 1.00 - ETA: 7s - loss: 6.2852e-04 - accuracy: 1.00 - ETA: 7s - loss: 6.2204e-04 - accuracy: 1.00 - ETA: 7s - loss: 6.1570e-04 - accuracy: 1.00 - ETA: 7s - loss: 6.0948e-04 - accuracy: 1.00 - ETA: 7s - loss: 6.0338e-04 - accuracy: 1.00 - ETA: 6s - loss: 5.9741e-04 - accuracy: 1.00 - ETA: 6s - loss: 5.9155e-04 - accuracy: 1.00 - ETA: 6s - loss: 5.8581e-04 - accuracy: 1.00 - ETA: 6s - loss: 5.8018e-04 - accuracy: 1.00 - ETA: 6s - loss: 5.7465e-04 - accuracy: 1.00 - ETA: 6s - loss: 5.6923e-04 - accuracy: 1.00 - ETA: 6s - loss: 5.6391e-04 - accuracy: 1.00 - ETA: 6s - loss: 5.5869e-04 - accuracy: 1.00 - ETA: 5s - loss: 5.5356e-04 - accuracy: 1.00 - ETA: 5s - loss: 5.4853e-04 - accuracy: 1.00 - ETA: 5s - loss: 5.4359e-04 - accuracy: 1.00 - ETA: 5s - loss: 5.3874e-04 - accuracy: 1.00 - ETA: 5s - loss: 5.3397e-04 - accuracy: 1.00 - ETA: 5s - loss: 5.2928e-04 - accuracy: 1.00 - ETA: 5s - loss: 5.2468e-04 - accuracy: 1.00 - ETA: 5s - loss: 5.2016e-04 - accuracy: 1.00 - ETA: 4s - loss: 5.1571e-04 - accuracy: 1.00 - ETA: 4s - loss: 5.1134e-04 - accuracy: 1.00 - ETA: 4s - loss: 5.0704e-04 - accuracy: 1.00 - ETA: 4s - loss: 5.0283e-04 - accuracy: 1.00 - ETA: 4s - loss: 4.9867e-04 - accuracy: 1.00 - ETA: 4s - loss: 4.9459e-04 - accuracy: 1.00 - ETA: 4s - loss: 4.9057e-04 - accuracy: 1.00 - ETA: 4s - loss: 4.8661e-04 - accuracy: 1.00 - ETA: 3s - loss: 4.8272e-04 - accuracy: 1.00 - ETA: 3s - loss: 4.7889e-04 - accuracy: 1.00 - ETA: 3s - loss: 4.7511e-04 - accuracy: 1.00 - ETA: 3s - loss: 4.7140e-04 - accuracy: 1.00 - ETA: 3s - loss: 4.6775e-04 - accuracy: 1.00 - ETA: 3s - loss: 4.6415e-04 - accuracy: 1.00 - ETA: 3s - loss: 4.6061e-04 - accuracy: 1.00 - ETA: 3s - loss: 4.5712e-04 - accuracy: 1.00 - ETA: 2s - loss: 4.5368e-04 - accuracy: 1.00 - ETA: 2s - loss: 4.5030e-04 - accuracy: 1.00 - ETA: 2s - loss: 4.4696e-04 - accuracy: 1.00 - ETA: 2s - loss: 4.4369e-04 - accuracy: 1.00 - ETA: 2s - loss: 4.4045e-04 - accuracy: 1.00 - ETA: 2s - loss: 4.3726e-04 - accuracy: 1.00 - ETA: 2s - loss: 4.3411e-04 - accuracy: 1.00 - ETA: 1s - loss: 4.3101e-04 - accuracy: 1.00 - ETA: 1s - loss: 4.2795e-04 - accuracy: 1.00 - ETA: 1s - loss: 4.2494e-04 - accuracy: 1.00 - ETA: 1s - loss: 4.2197e-04 - accuracy: 1.00 - ETA: 1s - loss: 4.1904e-04 - accuracy: 1.00 - ETA: 1s - loss: 4.1615e-04 - accuracy: 1.00 - ETA: 1s - loss: 4.1330e-04 - accuracy: 1.00 - ETA: 1s - loss: 4.1049e-04 - accuracy: 1.00 - ETA: 0s - loss: 4.0771e-04 - accuracy: 1.00 - ETA: 0s - loss: 4.0498e-04 - accuracy: 1.00 - ETA: 0s - loss: 4.0230e-04 - accuracy: 1.00 - ETA: 0s - loss: 3.9964e-04 - accuracy: 1.00 - ETA: 0s - loss: 3.9701e-04 - accuracy: 1.00 - ETA: 0s - loss: 3.9441e-04 - accuracy: 1.00 - ETA: 0s - loss: 3.9185e-04 - accuracy: 1.00 - ETA: 0s - loss: 3.8932e-04 - accuracy: 1.00 - 20s 33ms/step - loss: 3.8807e-04 - accuracy: 1.0000 - val_loss: 0.0000e+00 - val_accuracy: 1.0000\n",
      "Epoch 43/50\n"
     ]
    },
    {
     "name": "stdout",
     "output_type": "stream",
     "text": [
      "622/622 [==============================] - ETA: 18s - loss: 5.9605e-08 - accuracy: 1.000 - ETA: 18s - loss: 2.9802e-08 - accuracy: 1.000 - ETA: 18s - loss: 1.9868e-08 - accuracy: 1.000 - ETA: 18s - loss: 1.4901e-08 - accuracy: 1.000 - ETA: 18s - loss: 1.1921e-08 - accuracy: 1.000 - ETA: 18s - loss: 1.4901e-08 - accuracy: 1.000 - ETA: 18s - loss: 2.7417e-06 - accuracy: 1.000 - ETA: 18s - loss: 2.3990e-06 - accuracy: 1.000 - ETA: 18s - loss: 2.1324e-06 - accuracy: 1.000 - ETA: 18s - loss: 1.9192e-06 - accuracy: 1.000 - ETA: 18s - loss: 1.7447e-06 - accuracy: 1.000 - ETA: 17s - loss: 1.5993e-06 - accuracy: 1.000 - ETA: 17s - loss: 1.4763e-06 - accuracy: 1.000 - ETA: 17s - loss: 1.3709e-06 - accuracy: 1.000 - ETA: 17s - loss: 1.2795e-06 - accuracy: 1.000 - ETA: 17s - loss: 1.1995e-06 - accuracy: 1.000 - ETA: 17s - loss: 1.1289e-06 - accuracy: 1.000 - ETA: 17s - loss: 1.0662e-06 - accuracy: 1.000 - ETA: 17s - loss: 1.0101e-06 - accuracy: 1.000 - ETA: 17s - loss: 9.5960e-07 - accuracy: 1.000 - ETA: 17s - loss: 9.1390e-07 - accuracy: 1.000 - ETA: 17s - loss: 8.7236e-07 - accuracy: 1.000 - ETA: 16s - loss: 8.3443e-07 - accuracy: 1.000 - ETA: 16s - loss: 7.9967e-07 - accuracy: 1.000 - ETA: 16s - loss: 7.6887e-07 - accuracy: 1.000 - ETA: 16s - loss: 0.0104 - accuracy: 0.9904    - ETA: 16s - loss: 0.0101 - accuracy: 0.990 - ETA: 16s - loss: 0.0097 - accuracy: 0.991 - ETA: 16s - loss: 0.0094 - accuracy: 0.991 - ETA: 16s - loss: 0.0091 - accuracy: 0.991 - ETA: 15s - loss: 0.0088 - accuracy: 0.991 - ETA: 15s - loss: 0.0085 - accuracy: 0.992 - ETA: 15s - loss: 0.0082 - accuracy: 0.992 - ETA: 15s - loss: 0.0080 - accuracy: 0.992 - ETA: 15s - loss: 0.0078 - accuracy: 0.992 - ETA: 15s - loss: 0.0075 - accuracy: 0.993 - ETA: 15s - loss: 0.0073 - accuracy: 0.993 - ETA: 15s - loss: 0.0071 - accuracy: 0.993 - ETA: 14s - loss: 0.0070 - accuracy: 0.993 - ETA: 14s - loss: 0.0068 - accuracy: 0.993 - ETA: 14s - loss: 0.0066 - accuracy: 0.993 - ETA: 14s - loss: 0.0065 - accuracy: 0.994 - ETA: 14s - loss: 0.0063 - accuracy: 0.994 - ETA: 14s - loss: 0.0062 - accuracy: 0.994 - ETA: 14s - loss: 0.0060 - accuracy: 0.994 - ETA: 13s - loss: 0.0059 - accuracy: 0.994 - ETA: 13s - loss: 0.0058 - accuracy: 0.994 - ETA: 13s - loss: 0.0057 - accuracy: 0.994 - ETA: 13s - loss: 0.0055 - accuracy: 0.994 - ETA: 13s - loss: 0.0054 - accuracy: 0.995 - ETA: 13s - loss: 0.0053 - accuracy: 0.995 - ETA: 13s - loss: 0.0052 - accuracy: 0.995 - ETA: 13s - loss: 0.0051 - accuracy: 0.995 - ETA: 12s - loss: 0.0050 - accuracy: 0.995 - ETA: 12s - loss: 0.0049 - accuracy: 0.995 - ETA: 12s - loss: 0.0048 - accuracy: 0.995 - ETA: 12s - loss: 0.0048 - accuracy: 0.995 - ETA: 12s - loss: 0.0047 - accuracy: 0.995 - ETA: 12s - loss: 0.0046 - accuracy: 0.995 - ETA: 12s - loss: 0.0045 - accuracy: 0.995 - ETA: 11s - loss: 0.0045 - accuracy: 0.995 - ETA: 11s - loss: 0.0044 - accuracy: 0.996 - ETA: 11s - loss: 0.0043 - accuracy: 0.996 - ETA: 11s - loss: 0.0042 - accuracy: 0.996 - ETA: 11s - loss: 0.0042 - accuracy: 0.996 - ETA: 11s - loss: 0.0041 - accuracy: 0.996 - ETA: 11s - loss: 0.0041 - accuracy: 0.996 - ETA: 11s - loss: 0.0040 - accuracy: 0.996 - ETA: 10s - loss: 0.0039 - accuracy: 0.996 - ETA: 10s - loss: 0.0039 - accuracy: 0.996 - ETA: 10s - loss: 0.0038 - accuracy: 0.996 - ETA: 10s - loss: 0.0038 - accuracy: 0.996 - ETA: 10s - loss: 0.0037 - accuracy: 0.996 - ETA: 10s - loss: 0.0037 - accuracy: 0.996 - ETA: 10s - loss: 0.0145 - accuracy: 0.993 - ETA: 10s - loss: 0.0143 - accuracy: 0.993 - ETA: 9s - loss: 0.0141 - accuracy: 0.993 - ETA: 9s - loss: 0.0139 - accuracy: 0.99 - ETA: 9s - loss: 0.0137 - accuracy: 0.99 - ETA: 9s - loss: 0.0135 - accuracy: 0.99 - ETA: 9s - loss: 0.0134 - accuracy: 0.99 - ETA: 9s - loss: 0.0132 - accuracy: 0.99 - ETA: 9s - loss: 0.0131 - accuracy: 0.99 - ETA: 9s - loss: 0.0129 - accuracy: 0.99 - ETA: 8s - loss: 0.0128 - accuracy: 0.99 - ETA: 8s - loss: 0.0126 - accuracy: 0.99 - ETA: 8s - loss: 0.0125 - accuracy: 0.99 - ETA: 8s - loss: 0.0123 - accuracy: 0.99 - ETA: 8s - loss: 0.0122 - accuracy: 0.99 - ETA: 8s - loss: 0.0120 - accuracy: 0.99 - ETA: 8s - loss: 0.0119 - accuracy: 0.99 - ETA: 8s - loss: 0.0118 - accuracy: 0.99 - ETA: 7s - loss: 0.0117 - accuracy: 0.99 - ETA: 7s - loss: 0.0115 - accuracy: 0.99 - ETA: 7s - loss: 0.0114 - accuracy: 0.99 - ETA: 7s - loss: 0.0113 - accuracy: 0.99 - ETA: 7s - loss: 0.0112 - accuracy: 0.99 - ETA: 7s - loss: 0.0111 - accuracy: 0.99 - ETA: 7s - loss: 0.0109 - accuracy: 0.99 - ETA: 7s - loss: 0.0108 - accuracy: 0.99 - ETA: 6s - loss: 0.0107 - accuracy: 0.99 - ETA: 6s - loss: 0.0106 - accuracy: 0.99 - ETA: 6s - loss: 0.0105 - accuracy: 0.99 - ETA: 6s - loss: 0.0104 - accuracy: 0.99 - ETA: 6s - loss: 0.0103 - accuracy: 0.99 - ETA: 6s - loss: 0.0102 - accuracy: 0.99 - ETA: 6s - loss: 0.0121 - accuracy: 0.99 - ETA: 6s - loss: 0.0120 - accuracy: 0.99 - ETA: 5s - loss: 0.0119 - accuracy: 0.99 - ETA: 5s - loss: 0.0118 - accuracy: 0.99 - ETA: 5s - loss: 0.0117 - accuracy: 0.99 - ETA: 5s - loss: 0.0116 - accuracy: 0.99 - ETA: 5s - loss: 0.0115 - accuracy: 0.99 - ETA: 5s - loss: 0.0116 - accuracy: 0.99 - ETA: 5s - loss: 0.0115 - accuracy: 0.99 - ETA: 5s - loss: 0.0114 - accuracy: 0.99 - ETA: 4s - loss: 0.0113 - accuracy: 0.99 - ETA: 4s - loss: 0.0113 - accuracy: 0.99 - ETA: 4s - loss: 0.0112 - accuracy: 0.99 - ETA: 4s - loss: 0.0111 - accuracy: 0.99 - ETA: 4s - loss: 0.0110 - accuracy: 0.99 - ETA: 4s - loss: 0.0109 - accuracy: 0.99 - ETA: 4s - loss: 0.0108 - accuracy: 0.99 - ETA: 4s - loss: 0.0107 - accuracy: 0.99 - ETA: 3s - loss: 0.0106 - accuracy: 0.99 - ETA: 3s - loss: 0.0105 - accuracy: 0.99 - ETA: 3s - loss: 0.0105 - accuracy: 0.99 - ETA: 3s - loss: 0.0104 - accuracy: 0.99 - ETA: 3s - loss: 0.0103 - accuracy: 0.99 - ETA: 3s - loss: 0.0102 - accuracy: 0.99 - ETA: 3s - loss: 0.0101 - accuracy: 0.99 - ETA: 3s - loss: 0.0101 - accuracy: 0.99 - ETA: 2s - loss: 0.0121 - accuracy: 0.99 - ETA: 2s - loss: 0.0120 - accuracy: 0.99 - ETA: 2s - loss: 0.0119 - accuracy: 0.99 - ETA: 2s - loss: 0.0118 - accuracy: 0.99 - ETA: 2s - loss: 0.0118 - accuracy: 0.99 - ETA: 2s - loss: 0.0117 - accuracy: 0.99 - ETA: 2s - loss: 0.0116 - accuracy: 0.99 - ETA: 1s - loss: 0.0115 - accuracy: 0.99 - ETA: 1s - loss: 0.0114 - accuracy: 0.99 - ETA: 1s - loss: 0.0113 - accuracy: 0.99 - ETA: 1s - loss: 0.0113 - accuracy: 0.99 - ETA: 1s - loss: 0.0112 - accuracy: 0.99 - ETA: 1s - loss: 0.0111 - accuracy: 0.99 - ETA: 1s - loss: 0.0110 - accuracy: 0.99 - ETA: 1s - loss: 0.0110 - accuracy: 0.99 - ETA: 0s - loss: 0.0109 - accuracy: 0.99 - ETA: 0s - loss: 0.0108 - accuracy: 0.99 - ETA: 0s - loss: 0.0107 - accuracy: 0.99 - ETA: 0s - loss: 0.0107 - accuracy: 0.99 - ETA: 0s - loss: 0.0106 - accuracy: 0.99 - ETA: 0s - loss: 0.0350 - accuracy: 0.99 - ETA: 0s - loss: 0.0348 - accuracy: 0.99 - ETA: 0s - loss: 0.0345 - accuracy: 0.99 - 20s 33ms/step - loss: 0.0344 - accuracy: 0.9920 - val_loss: 4.5850e-09 - val_accuracy: 1.0000\n",
      "Epoch 44/50\n"
     ]
    },
    {
     "name": "stdout",
     "output_type": "stream",
     "text": [
      "622/622 [==============================] - ETA: 18s - loss: 0.0000e+00 - accuracy: 1.000 - ETA: 18s - loss: 0.0000e+00 - accuracy: 1.000 - ETA: 18s - loss: 1.8823e-05 - accuracy: 1.000 - ETA: 18s - loss: 1.4117e-05 - accuracy: 1.000 - ETA: 18s - loss: 1.1294e-05 - accuracy: 1.000 - ETA: 18s - loss: 9.4115e-06 - accuracy: 1.000 - ETA: 18s - loss: 8.0670e-06 - accuracy: 1.000 - ETA: 18s - loss: 7.0586e-06 - accuracy: 1.000 - ETA: 18s - loss: 6.2810e-06 - accuracy: 1.000 - ETA: 18s - loss: 5.6618e-06 - accuracy: 1.000 - ETA: 18s - loss: 5.1498e-06 - accuracy: 1.000 - ETA: 18s - loss: 4.7207e-06 - accuracy: 1.000 - ETA: 18s - loss: 4.3575e-06 - accuracy: 1.000 - ETA: 18s - loss: 4.0484e-06 - accuracy: 1.000 - ETA: 18s - loss: 3.7785e-06 - accuracy: 1.000 - ETA: 17s - loss: 3.5424e-06 - accuracy: 1.000 - ETA: 17s - loss: 3.3340e-06 - accuracy: 1.000 - ETA: 17s - loss: 3.1488e-06 - accuracy: 1.000 - ETA: 17s - loss: 3.0411e-06 - accuracy: 1.000 - ETA: 17s - loss: 2.8890e-06 - accuracy: 1.000 - ETA: 17s - loss: 2.7642e-06 - accuracy: 1.000 - ETA: 17s - loss: 2.6399e-06 - accuracy: 1.000 - ETA: 17s - loss: 2.5251e-06 - accuracy: 1.000 - ETA: 17s - loss: 2.4199e-06 - accuracy: 1.000 - ETA: 17s - loss: 0.0047 - accuracy: 1.0000    - ETA: 16s - loss: 0.0045 - accuracy: 1.000 - ETA: 16s - loss: 0.0044 - accuracy: 1.000 - ETA: 16s - loss: 0.0042 - accuracy: 1.000 - ETA: 16s - loss: 0.0041 - accuracy: 1.000 - ETA: 16s - loss: 0.0039 - accuracy: 1.000 - ETA: 16s - loss: 0.0038 - accuracy: 1.000 - ETA: 16s - loss: 0.0037 - accuracy: 1.000 - ETA: 16s - loss: 0.0036 - accuracy: 1.000 - ETA: 16s - loss: 0.0035 - accuracy: 1.000 - ETA: 16s - loss: 0.0034 - accuracy: 1.000 - ETA: 16s - loss: 0.0033 - accuracy: 1.000 - ETA: 15s - loss: 0.0032 - accuracy: 1.000 - ETA: 15s - loss: 0.0031 - accuracy: 1.000 - ETA: 15s - loss: 0.0030 - accuracy: 1.000 - ETA: 15s - loss: 0.0029 - accuracy: 1.000 - ETA: 15s - loss: 0.0029 - accuracy: 1.000 - ETA: 15s - loss: 0.0028 - accuracy: 1.000 - ETA: 14s - loss: 0.0027 - accuracy: 1.000 - ETA: 14s - loss: 0.0027 - accuracy: 1.000 - ETA: 14s - loss: 0.0026 - accuracy: 1.000 - ETA: 14s - loss: 0.0026 - accuracy: 1.000 - ETA: 14s - loss: 0.0025 - accuracy: 1.000 - ETA: 14s - loss: 0.0128 - accuracy: 0.994 - ETA: 14s - loss: 0.0125 - accuracy: 0.994 - ETA: 13s - loss: 0.0123 - accuracy: 0.995 - ETA: 13s - loss: 0.0120 - accuracy: 0.995 - ETA: 13s - loss: 0.0118 - accuracy: 0.995 - ETA: 13s - loss: 0.0116 - accuracy: 0.995 - ETA: 13s - loss: 0.0114 - accuracy: 0.995 - ETA: 13s - loss: 0.0112 - accuracy: 0.995 - ETA: 13s - loss: 0.0110 - accuracy: 0.995 - ETA: 12s - loss: 0.0108 - accuracy: 0.995 - ETA: 12s - loss: 0.0107 - accuracy: 0.995 - ETA: 12s - loss: 0.0105 - accuracy: 0.995 - ETA: 12s - loss: 0.0103 - accuracy: 0.995 - ETA: 12s - loss: 0.0101 - accuracy: 0.995 - ETA: 12s - loss: 0.0100 - accuracy: 0.996 - ETA: 12s - loss: 0.0098 - accuracy: 0.996 - ETA: 11s - loss: 0.0097 - accuracy: 0.996 - ETA: 11s - loss: 0.0095 - accuracy: 0.996 - ETA: 11s - loss: 0.0094 - accuracy: 0.996 - ETA: 11s - loss: 0.0092 - accuracy: 0.996 - ETA: 11s - loss: 0.0105 - accuracy: 0.996 - ETA: 11s - loss: 0.0103 - accuracy: 0.996 - ETA: 11s - loss: 0.0102 - accuracy: 0.996 - ETA: 11s - loss: 0.0100 - accuracy: 0.996 - ETA: 10s - loss: 0.0099 - accuracy: 0.996 - ETA: 10s - loss: 0.0098 - accuracy: 0.996 - ETA: 10s - loss: 0.0096 - accuracy: 0.996 - ETA: 10s - loss: 0.0095 - accuracy: 0.996 - ETA: 10s - loss: 0.0094 - accuracy: 0.996 - ETA: 10s - loss: 0.0093 - accuracy: 0.996 - ETA: 10s - loss: 0.0091 - accuracy: 0.996 - ETA: 9s - loss: 0.0090 - accuracy: 0.996 - ETA: 9s - loss: 0.0089 - accuracy: 0.99 - ETA: 9s - loss: 0.0088 - accuracy: 0.99 - ETA: 9s - loss: 0.0087 - accuracy: 0.99 - ETA: 9s - loss: 0.0086 - accuracy: 0.99 - ETA: 9s - loss: 0.0085 - accuracy: 0.99 - ETA: 9s - loss: 0.0084 - accuracy: 0.99 - ETA: 8s - loss: 0.0083 - accuracy: 0.99 - ETA: 8s - loss: 0.0082 - accuracy: 0.99 - ETA: 8s - loss: 0.0081 - accuracy: 0.99 - ETA: 8s - loss: 0.0080 - accuracy: 0.99 - ETA: 8s - loss: 0.0079 - accuracy: 0.99 - ETA: 8s - loss: 0.0079 - accuracy: 0.99 - ETA: 8s - loss: 0.0078 - accuracy: 0.99 - ETA: 8s - loss: 0.0077 - accuracy: 0.99 - ETA: 7s - loss: 0.0076 - accuracy: 0.99 - ETA: 7s - loss: 0.0075 - accuracy: 0.99 - ETA: 7s - loss: 0.0074 - accuracy: 0.99 - ETA: 7s - loss: 0.0074 - accuracy: 0.99 - ETA: 7s - loss: 0.0073 - accuracy: 0.99 - ETA: 7s - loss: 0.0072 - accuracy: 0.99 - ETA: 7s - loss: 0.0071 - accuracy: 0.99 - ETA: 7s - loss: 0.0071 - accuracy: 0.99 - ETA: 6s - loss: 0.0070 - accuracy: 0.99 - ETA: 6s - loss: 0.0069 - accuracy: 0.99 - ETA: 6s - loss: 0.0069 - accuracy: 0.99 - ETA: 6s - loss: 0.0068 - accuracy: 0.99 - ETA: 6s - loss: 0.0067 - accuracy: 0.99 - ETA: 6s - loss: 0.0067 - accuracy: 0.99 - ETA: 6s - loss: 0.0066 - accuracy: 0.99 - ETA: 6s - loss: 0.0066 - accuracy: 0.99 - ETA: 5s - loss: 0.0065 - accuracy: 0.99 - ETA: 5s - loss: 0.0064 - accuracy: 0.99 - ETA: 5s - loss: 0.0064 - accuracy: 0.99 - ETA: 5s - loss: 0.0063 - accuracy: 0.99 - ETA: 5s - loss: 0.0064 - accuracy: 0.99 - ETA: 5s - loss: 0.0063 - accuracy: 0.99 - ETA: 5s - loss: 0.0063 - accuracy: 0.99 - ETA: 4s - loss: 0.0063 - accuracy: 0.99 - ETA: 4s - loss: 0.0062 - accuracy: 0.99 - ETA: 4s - loss: 0.0065 - accuracy: 0.99 - ETA: 4s - loss: 0.0065 - accuracy: 0.99 - ETA: 4s - loss: 0.0064 - accuracy: 0.99 - ETA: 4s - loss: 0.0064 - accuracy: 0.99 - ETA: 4s - loss: 0.0064 - accuracy: 0.99 - ETA: 4s - loss: 0.0064 - accuracy: 0.99 - ETA: 3s - loss: 0.0063 - accuracy: 0.99 - ETA: 3s - loss: 0.0063 - accuracy: 0.99 - ETA: 3s - loss: 0.0062 - accuracy: 0.99 - ETA: 3s - loss: 0.0062 - accuracy: 0.99 - ETA: 3s - loss: 0.0061 - accuracy: 0.99 - ETA: 3s - loss: 0.0061 - accuracy: 0.99 - ETA: 3s - loss: 0.0060 - accuracy: 0.99 - ETA: 3s - loss: 0.0060 - accuracy: 0.99 - ETA: 2s - loss: 0.0059 - accuracy: 0.99 - ETA: 2s - loss: 0.0059 - accuracy: 0.99 - ETA: 2s - loss: 0.0058 - accuracy: 0.99 - ETA: 2s - loss: 0.0058 - accuracy: 0.99 - ETA: 2s - loss: 0.0058 - accuracy: 0.99 - ETA: 2s - loss: 0.0100 - accuracy: 0.99 - ETA: 2s - loss: 0.0100 - accuracy: 0.99 - ETA: 2s - loss: 0.0099 - accuracy: 0.99 - ETA: 1s - loss: 0.0098 - accuracy: 0.99 - ETA: 1s - loss: 0.0097 - accuracy: 0.99 - ETA: 1s - loss: 0.0097 - accuracy: 0.99 - ETA: 1s - loss: 0.0096 - accuracy: 0.99 - ETA: 1s - loss: 0.0107 - accuracy: 0.99 - ETA: 1s - loss: 0.0107 - accuracy: 0.99 - ETA: 1s - loss: 0.0106 - accuracy: 0.99 - ETA: 0s - loss: 0.0105 - accuracy: 0.99 - ETA: 0s - loss: 0.0104 - accuracy: 0.99 - ETA: 0s - loss: 0.0104 - accuracy: 0.99 - ETA: 0s - loss: 0.0103 - accuracy: 0.99 - ETA: 0s - loss: 0.0102 - accuracy: 0.99 - ETA: 0s - loss: 0.0102 - accuracy: 0.99 - ETA: 0s - loss: 0.0101 - accuracy: 0.99 - ETA: 0s - loss: 0.0100 - accuracy: 0.99 - 21s 33ms/step - loss: 0.0100 - accuracy: 0.9968 - val_loss: 0.0000e+00 - val_accuracy: 1.0000\n",
      "Epoch 45/50\n"
     ]
    },
    {
     "name": "stdout",
     "output_type": "stream",
     "text": [
      "622/622 [==============================] - ETA: 19s - loss: 0.0000e+00 - accuracy: 1.000 - ETA: 19s - loss: 0.0000e+00 - accuracy: 1.000 - ETA: 19s - loss: 0.0017 - accuracy: 1.0000    - ETA: 18s - loss: 0.0012 - accuracy: 1.000 - ETA: 18s - loss: 9.9321e-04 - accuracy: 1.000 - ETA: 18s - loss: 8.2767e-04 - accuracy: 1.000 - ETA: 18s - loss: 7.1016e-04 - accuracy: 1.000 - ETA: 18s - loss: 6.2139e-04 - accuracy: 1.000 - ETA: 18s - loss: 5.5235e-04 - accuracy: 1.000 - ETA: 18s - loss: 4.9711e-04 - accuracy: 1.000 - ETA: 18s - loss: 4.5192e-04 - accuracy: 1.000 - ETA: 18s - loss: 5.0866e-04 - accuracy: 1.000 - ETA: 18s - loss: 4.7024e-04 - accuracy: 1.000 - ETA: 17s - loss: 4.3665e-04 - accuracy: 1.000 - ETA: 17s - loss: 0.0788 - accuracy: 0.9833    - ETA: 17s - loss: 0.0738 - accuracy: 0.984 - ETA: 17s - loss: 0.0695 - accuracy: 0.985 - ETA: 17s - loss: 0.0656 - accuracy: 0.986 - ETA: 17s - loss: 0.0622 - accuracy: 0.986 - ETA: 17s - loss: 0.0591 - accuracy: 0.987 - ETA: 17s - loss: 0.0563 - accuracy: 0.988 - ETA: 17s - loss: 0.0537 - accuracy: 0.988 - ETA: 17s - loss: 0.0514 - accuracy: 0.989 - ETA: 17s - loss: 0.0492 - accuracy: 0.989 - ETA: 16s - loss: 0.0473 - accuracy: 0.990 - ETA: 16s - loss: 0.0454 - accuracy: 0.990 - ETA: 16s - loss: 0.0747 - accuracy: 0.981 - ETA: 16s - loss: 0.0721 - accuracy: 0.982 - ETA: 16s - loss: 0.1337 - accuracy: 0.974 - ETA: 16s - loss: 0.1293 - accuracy: 0.975 - ETA: 16s - loss: 0.1251 - accuracy: 0.975 - ETA: 16s - loss: 0.1694 - accuracy: 0.968 - ETA: 16s - loss: 0.1643 - accuracy: 0.969 - ETA: 16s - loss: 0.1595 - accuracy: 0.970 - ETA: 15s - loss: 0.1549 - accuracy: 0.971 - ETA: 15s - loss: 0.1506 - accuracy: 0.972 - ETA: 15s - loss: 0.1465 - accuracy: 0.973 - ETA: 15s - loss: 0.1427 - accuracy: 0.973 - ETA: 15s - loss: 0.1390 - accuracy: 0.974 - ETA: 15s - loss: 0.1355 - accuracy: 0.975 - ETA: 15s - loss: 0.1322 - accuracy: 0.975 - ETA: 14s - loss: 0.1296 - accuracy: 0.976 - ETA: 14s - loss: 0.1269 - accuracy: 0.976 - ETA: 14s - loss: 0.1240 - accuracy: 0.977 - ETA: 14s - loss: 0.1212 - accuracy: 0.977 - ETA: 14s - loss: 0.1186 - accuracy: 0.978 - ETA: 14s - loss: 0.1161 - accuracy: 0.978 - ETA: 14s - loss: 0.1149 - accuracy: 0.979 - ETA: 13s - loss: 0.1125 - accuracy: 0.979 - ETA: 13s - loss: 0.1103 - accuracy: 0.980 - ETA: 13s - loss: 0.1081 - accuracy: 0.980 - ETA: 13s - loss: 0.1065 - accuracy: 0.980 - ETA: 13s - loss: 0.1055 - accuracy: 0.981 - ETA: 13s - loss: 0.1050 - accuracy: 0.981 - ETA: 13s - loss: 0.1031 - accuracy: 0.981 - ETA: 13s - loss: 0.1012 - accuracy: 0.982 - ETA: 12s - loss: 0.0994 - accuracy: 0.982 - ETA: 12s - loss: 0.0977 - accuracy: 0.982 - ETA: 12s - loss: 0.0961 - accuracy: 0.983 - ETA: 12s - loss: 0.0945 - accuracy: 0.983 - ETA: 12s - loss: 0.0929 - accuracy: 0.983 - ETA: 12s - loss: 0.0914 - accuracy: 0.983 - ETA: 12s - loss: 0.0900 - accuracy: 0.984 - ETA: 11s - loss: 0.0886 - accuracy: 0.984 - ETA: 11s - loss: 0.0873 - accuracy: 0.984 - ETA: 11s - loss: 0.0859 - accuracy: 0.984 - ETA: 11s - loss: 0.0848 - accuracy: 0.985 - ETA: 11s - loss: 0.1110 - accuracy: 0.981 - ETA: 11s - loss: 0.1093 - accuracy: 0.981 - ETA: 11s - loss: 0.1078 - accuracy: 0.982 - ETA: 10s - loss: 0.1063 - accuracy: 0.982 - ETA: 10s - loss: 0.1048 - accuracy: 0.982 - ETA: 10s - loss: 0.1034 - accuracy: 0.982 - ETA: 10s - loss: 0.1310 - accuracy: 0.979 - ETA: 10s - loss: 0.1293 - accuracy: 0.980 - ETA: 10s - loss: 0.1276 - accuracy: 0.980 - ETA: 10s - loss: 0.1259 - accuracy: 0.980 - ETA: 10s - loss: 0.1243 - accuracy: 0.980 - ETA: 9s - loss: 0.1227 - accuracy: 0.981 - ETA: 9s - loss: 0.1212 - accuracy: 0.98 - ETA: 9s - loss: 0.1197 - accuracy: 0.98 - ETA: 9s - loss: 0.1182 - accuracy: 0.98 - ETA: 9s - loss: 0.1172 - accuracy: 0.98 - ETA: 9s - loss: 0.1158 - accuracy: 0.98 - ETA: 9s - loss: 0.1144 - accuracy: 0.98 - ETA: 8s - loss: 0.1131 - accuracy: 0.98 - ETA: 8s - loss: 0.1118 - accuracy: 0.98 - ETA: 8s - loss: 0.1105 - accuracy: 0.98 - ETA: 8s - loss: 0.1093 - accuracy: 0.98 - ETA: 8s - loss: 0.1081 - accuracy: 0.98 - ETA: 8s - loss: 0.1069 - accuracy: 0.98 - ETA: 8s - loss: 0.1057 - accuracy: 0.98 - ETA: 8s - loss: 0.1046 - accuracy: 0.98 - ETA: 7s - loss: 0.1035 - accuracy: 0.98 - ETA: 7s - loss: 0.1024 - accuracy: 0.98 - ETA: 7s - loss: 0.1013 - accuracy: 0.98 - ETA: 7s - loss: 0.1003 - accuracy: 0.98 - ETA: 7s - loss: 0.0992 - accuracy: 0.98 - ETA: 7s - loss: 0.0982 - accuracy: 0.98 - ETA: 7s - loss: 0.0973 - accuracy: 0.98 - ETA: 6s - loss: 0.0963 - accuracy: 0.98 - ETA: 6s - loss: 0.0953 - accuracy: 0.98 - ETA: 6s - loss: 0.0944 - accuracy: 0.98 - ETA: 6s - loss: 0.0935 - accuracy: 0.98 - ETA: 6s - loss: 0.0926 - accuracy: 0.98 - ETA: 6s - loss: 0.0917 - accuracy: 0.98 - ETA: 6s - loss: 0.0909 - accuracy: 0.98 - ETA: 6s - loss: 0.0901 - accuracy: 0.98 - ETA: 5s - loss: 0.0892 - accuracy: 0.98 - ETA: 5s - loss: 0.0884 - accuracy: 0.98 - ETA: 5s - loss: 0.0876 - accuracy: 0.98 - ETA: 5s - loss: 0.0868 - accuracy: 0.98 - ETA: 5s - loss: 0.0861 - accuracy: 0.98 - ETA: 5s - loss: 0.0853 - accuracy: 0.98 - ETA: 5s - loss: 0.0846 - accuracy: 0.98 - ETA: 5s - loss: 0.0838 - accuracy: 0.98 - ETA: 4s - loss: 0.0831 - accuracy: 0.98 - ETA: 4s - loss: 0.0824 - accuracy: 0.98 - ETA: 4s - loss: 0.0817 - accuracy: 0.98 - ETA: 4s - loss: 0.0810 - accuracy: 0.98 - ETA: 4s - loss: 0.0804 - accuracy: 0.98 - ETA: 4s - loss: 0.0797 - accuracy: 0.98 - ETA: 4s - loss: 0.0791 - accuracy: 0.98 - ETA: 4s - loss: 0.0784 - accuracy: 0.98 - ETA: 3s - loss: 0.0780 - accuracy: 0.98 - ETA: 3s - loss: 0.0774 - accuracy: 0.98 - ETA: 3s - loss: 0.0768 - accuracy: 0.98 - ETA: 3s - loss: 0.0762 - accuracy: 0.98 - ETA: 3s - loss: 0.0756 - accuracy: 0.98 - ETA: 3s - loss: 0.0750 - accuracy: 0.98 - ETA: 3s - loss: 0.0744 - accuracy: 0.98 - ETA: 2s - loss: 0.0739 - accuracy: 0.98 - ETA: 2s - loss: 0.0733 - accuracy: 0.98 - ETA: 2s - loss: 0.0728 - accuracy: 0.98 - ETA: 2s - loss: 0.0722 - accuracy: 0.98 - ETA: 2s - loss: 0.0717 - accuracy: 0.98 - ETA: 2s - loss: 0.0712 - accuracy: 0.98 - ETA: 2s - loss: 0.0706 - accuracy: 0.98 - ETA: 2s - loss: 0.0701 - accuracy: 0.98 - ETA: 1s - loss: 0.0696 - accuracy: 0.98 - ETA: 1s - loss: 0.0691 - accuracy: 0.98 - ETA: 1s - loss: 0.0687 - accuracy: 0.98 - ETA: 1s - loss: 0.0682 - accuracy: 0.98 - ETA: 1s - loss: 0.0677 - accuracy: 0.98 - ETA: 1s - loss: 0.0672 - accuracy: 0.98 - ETA: 1s - loss: 0.0668 - accuracy: 0.98 - ETA: 1s - loss: 0.0663 - accuracy: 0.98 - ETA: 0s - loss: 0.0659 - accuracy: 0.98 - ETA: 0s - loss: 0.0654 - accuracy: 0.98 - ETA: 0s - loss: 0.0650 - accuracy: 0.99 - ETA: 0s - loss: 0.0646 - accuracy: 0.99 - ETA: 0s - loss: 0.0641 - accuracy: 0.99 - ETA: 0s - loss: 0.0637 - accuracy: 0.99 - ETA: 0s - loss: 0.0633 - accuracy: 0.99 - ETA: 0s - loss: 0.0629 - accuracy: 0.99 - 20s 32ms/step - loss: 0.0627 - accuracy: 0.9904 - val_loss: 0.0000e+00 - val_accuracy: 1.0000\n",
      "Epoch 46/50\n"
     ]
    },
    {
     "name": "stdout",
     "output_type": "stream",
     "text": [
      "622/622 [==============================] - ETA: 18s - loss: 0.0000e+00 - accuracy: 1.000 - ETA: 18s - loss: 0.0000e+00 - accuracy: 1.000 - ETA: 18s - loss: 0.0000e+00 - accuracy: 1.000 - ETA: 18s - loss: 0.0000e+00 - accuracy: 1.000 - ETA: 18s - loss: 0.0000e+00 - accuracy: 1.000 - ETA: 18s - loss: 0.0000e+00 - accuracy: 1.000 - ETA: 18s - loss: 0.0000e+00 - accuracy: 1.000 - ETA: 18s - loss: 0.0000e+00 - accuracy: 1.000 - ETA: 18s - loss: 3.0133e-07 - accuracy: 1.000 - ETA: 18s - loss: 2.7120e-07 - accuracy: 1.000 - ETA: 17s - loss: 2.4655e-07 - accuracy: 1.000 - ETA: 17s - loss: 2.2600e-07 - accuracy: 1.000 - ETA: 17s - loss: 2.0862e-07 - accuracy: 1.000 - ETA: 17s - loss: 1.9371e-07 - accuracy: 1.000 - ETA: 17s - loss: 1.8080e-07 - accuracy: 1.000 - ETA: 17s - loss: 1.6950e-07 - accuracy: 1.000 - ETA: 17s - loss: 1.5953e-07 - accuracy: 1.000 - ETA: 17s - loss: 0.0060 - accuracy: 1.0000    - ETA: 17s - loss: 0.0057 - accuracy: 1.000 - ETA: 16s - loss: 0.0054 - accuracy: 1.000 - ETA: 16s - loss: 0.0052 - accuracy: 1.000 - ETA: 16s - loss: 0.0049 - accuracy: 1.000 - ETA: 16s - loss: 0.0047 - accuracy: 1.000 - ETA: 16s - loss: 0.0045 - accuracy: 1.000 - ETA: 16s - loss: 0.0043 - accuracy: 1.000 - ETA: 16s - loss: 0.0042 - accuracy: 1.000 - ETA: 16s - loss: 0.0040 - accuracy: 1.000 - ETA: 16s - loss: 0.0039 - accuracy: 1.000 - ETA: 15s - loss: 0.0037 - accuracy: 1.000 - ETA: 15s - loss: 0.0074 - accuracy: 1.000 - ETA: 15s - loss: 0.0077 - accuracy: 1.000 - ETA: 15s - loss: 0.0076 - accuracy: 1.000 - ETA: 15s - loss: 0.0073 - accuracy: 1.000 - ETA: 15s - loss: 0.0071 - accuracy: 1.000 - ETA: 15s - loss: 0.0069 - accuracy: 1.000 - ETA: 15s - loss: 0.0067 - accuracy: 1.000 - ETA: 14s - loss: 0.0065 - accuracy: 1.000 - ETA: 14s - loss: 0.0064 - accuracy: 1.000 - ETA: 14s - loss: 0.0062 - accuracy: 1.000 - ETA: 14s - loss: 0.0061 - accuracy: 1.000 - ETA: 14s - loss: 0.0059 - accuracy: 1.000 - ETA: 14s - loss: 0.0058 - accuracy: 1.000 - ETA: 14s - loss: 0.0324 - accuracy: 0.994 - ETA: 14s - loss: 0.0927 - accuracy: 0.988 - ETA: 13s - loss: 0.0907 - accuracy: 0.988 - ETA: 13s - loss: 0.0887 - accuracy: 0.989 - ETA: 13s - loss: 0.0868 - accuracy: 0.989 - ETA: 13s - loss: 0.0850 - accuracy: 0.989 - ETA: 13s - loss: 0.0833 - accuracy: 0.989 - ETA: 13s - loss: 0.0816 - accuracy: 0.990 - ETA: 13s - loss: 0.0800 - accuracy: 0.990 - ETA: 13s - loss: 0.0785 - accuracy: 0.990 - ETA: 13s - loss: 0.0770 - accuracy: 0.990 - ETA: 12s - loss: 0.0756 - accuracy: 0.990 - ETA: 12s - loss: 0.0742 - accuracy: 0.990 - ETA: 12s - loss: 0.0729 - accuracy: 0.991 - ETA: 12s - loss: 0.0867 - accuracy: 0.986 - ETA: 12s - loss: 0.0852 - accuracy: 0.987 - ETA: 12s - loss: 0.0837 - accuracy: 0.987 - ETA: 12s - loss: 0.0823 - accuracy: 0.987 - ETA: 12s - loss: 0.0810 - accuracy: 0.987 - ETA: 11s - loss: 0.0797 - accuracy: 0.987 - ETA: 11s - loss: 0.0784 - accuracy: 0.988 - ETA: 11s - loss: 0.0779 - accuracy: 0.988 - ETA: 11s - loss: 0.0767 - accuracy: 0.988 - ETA: 11s - loss: 0.0755 - accuracy: 0.988 - ETA: 11s - loss: 0.0744 - accuracy: 0.988 - ETA: 11s - loss: 0.0733 - accuracy: 0.989 - ETA: 11s - loss: 0.0723 - accuracy: 0.989 - ETA: 10s - loss: 0.0712 - accuracy: 0.989 - ETA: 10s - loss: 0.0702 - accuracy: 0.989 - ETA: 10s - loss: 0.0692 - accuracy: 0.989 - ETA: 10s - loss: 0.0683 - accuracy: 0.989 - ETA: 10s - loss: 0.0722 - accuracy: 0.986 - ETA: 10s - loss: 0.0713 - accuracy: 0.986 - ETA: 10s - loss: 0.0703 - accuracy: 0.986 - ETA: 10s - loss: 0.0694 - accuracy: 0.987 - ETA: 9s - loss: 0.0685 - accuracy: 0.987 - ETA: 9s - loss: 0.0935 - accuracy: 0.98 - ETA: 9s - loss: 0.0923 - accuracy: 0.98 - ETA: 9s - loss: 0.0912 - accuracy: 0.98 - ETA: 9s - loss: 0.0901 - accuracy: 0.98 - ETA: 9s - loss: 0.0890 - accuracy: 0.98 - ETA: 9s - loss: 0.0879 - accuracy: 0.98 - ETA: 9s - loss: 0.0869 - accuracy: 0.98 - ETA: 8s - loss: 0.0859 - accuracy: 0.98 - ETA: 8s - loss: 0.0849 - accuracy: 0.98 - ETA: 8s - loss: 0.0840 - accuracy: 0.98 - ETA: 8s - loss: 0.0830 - accuracy: 0.98 - ETA: 8s - loss: 0.0821 - accuracy: 0.98 - ETA: 8s - loss: 0.0812 - accuracy: 0.98 - ETA: 8s - loss: 0.0803 - accuracy: 0.98 - ETA: 8s - loss: 0.0795 - accuracy: 0.98 - ETA: 7s - loss: 0.0816 - accuracy: 0.98 - ETA: 7s - loss: 0.0807 - accuracy: 0.98 - ETA: 7s - loss: 0.0799 - accuracy: 0.98 - ETA: 7s - loss: 0.0791 - accuracy: 0.98 - ETA: 7s - loss: 0.0783 - accuracy: 0.98 - ETA: 7s - loss: 0.0775 - accuracy: 0.98 - ETA: 7s - loss: 0.0767 - accuracy: 0.98 - ETA: 7s - loss: 0.0759 - accuracy: 0.98 - ETA: 6s - loss: 0.0752 - accuracy: 0.98 - ETA: 6s - loss: 0.0745 - accuracy: 0.98 - ETA: 6s - loss: 0.0737 - accuracy: 0.98 - ETA: 6s - loss: 0.0730 - accuracy: 0.98 - ETA: 6s - loss: 0.0759 - accuracy: 0.98 - ETA: 6s - loss: 0.0758 - accuracy: 0.98 - ETA: 6s - loss: 0.0751 - accuracy: 0.98 - ETA: 5s - loss: 0.0744 - accuracy: 0.98 - ETA: 5s - loss: 0.0737 - accuracy: 0.98 - ETA: 5s - loss: 0.0730 - accuracy: 0.98 - ETA: 5s - loss: 0.0724 - accuracy: 0.98 - ETA: 5s - loss: 0.0717 - accuracy: 0.98 - ETA: 5s - loss: 0.0711 - accuracy: 0.98 - ETA: 5s - loss: 0.0706 - accuracy: 0.98 - ETA: 5s - loss: 0.0700 - accuracy: 0.98 - ETA: 4s - loss: 0.0694 - accuracy: 0.98 - ETA: 4s - loss: 0.0688 - accuracy: 0.98 - ETA: 4s - loss: 0.0682 - accuracy: 0.98 - ETA: 4s - loss: 0.0677 - accuracy: 0.98 - ETA: 4s - loss: 0.0744 - accuracy: 0.98 - ETA: 4s - loss: 0.1138 - accuracy: 0.98 - ETA: 4s - loss: 0.1129 - accuracy: 0.98 - ETA: 4s - loss: 0.1120 - accuracy: 0.98 - ETA: 3s - loss: 0.1111 - accuracy: 0.98 - ETA: 3s - loss: 0.1102 - accuracy: 0.98 - ETA: 3s - loss: 0.1093 - accuracy: 0.98 - ETA: 3s - loss: 0.1085 - accuracy: 0.98 - ETA: 3s - loss: 0.1076 - accuracy: 0.98 - ETA: 3s - loss: 0.1068 - accuracy: 0.98 - ETA: 3s - loss: 0.1060 - accuracy: 0.98 - ETA: 3s - loss: 0.1052 - accuracy: 0.98 - ETA: 2s - loss: 0.1044 - accuracy: 0.98 - ETA: 2s - loss: 0.1036 - accuracy: 0.98 - ETA: 2s - loss: 0.1028 - accuracy: 0.98 - ETA: 2s - loss: 0.1021 - accuracy: 0.98 - ETA: 2s - loss: 0.1013 - accuracy: 0.98 - ETA: 2s - loss: 0.1006 - accuracy: 0.98 - ETA: 2s - loss: 0.0999 - accuracy: 0.98 - ETA: 2s - loss: 0.0992 - accuracy: 0.98 - ETA: 1s - loss: 0.0985 - accuracy: 0.98 - ETA: 1s - loss: 0.0978 - accuracy: 0.98 - ETA: 1s - loss: 0.0971 - accuracy: 0.98 - ETA: 1s - loss: 0.0965 - accuracy: 0.98 - ETA: 1s - loss: 0.1150 - accuracy: 0.98 - ETA: 1s - loss: 0.1142 - accuracy: 0.98 - ETA: 1s - loss: 0.1134 - accuracy: 0.98 - ETA: 0s - loss: 0.1126 - accuracy: 0.98 - ETA: 0s - loss: 0.1119 - accuracy: 0.98 - ETA: 0s - loss: 0.1111 - accuracy: 0.98 - ETA: 0s - loss: 0.1104 - accuracy: 0.98 - ETA: 0s - loss: 0.1097 - accuracy: 0.98 - ETA: 0s - loss: 0.1263 - accuracy: 0.98 - ETA: 0s - loss: 0.1254 - accuracy: 0.98 - ETA: 0s - loss: 0.1246 - accuracy: 0.98 - 21s 34ms/step - loss: 0.1242 - accuracy: 0.9823 - val_loss: 0.0000e+00 - val_accuracy: 1.0000\n",
      "Epoch 47/50\n"
     ]
    },
    {
     "name": "stdout",
     "output_type": "stream",
     "text": [
      "622/622 [==============================] - ETA: 18s - loss: 0.0000e+00 - accuracy: 1.000 - ETA: 19s - loss: 0.0000e+00 - accuracy: 1.000 - ETA: 19s - loss: 1.4404e-06 - accuracy: 1.000 - ETA: 19s - loss: 1.0803e-06 - accuracy: 1.000 - ETA: 19s - loss: 3.3321e-04 - accuracy: 1.000 - ETA: 19s - loss: 2.7767e-04 - accuracy: 1.000 - ETA: 19s - loss: 2.3801e-04 - accuracy: 1.000 - ETA: 19s - loss: 2.0830e-04 - accuracy: 1.000 - ETA: 19s - loss: 1.8515e-04 - accuracy: 1.000 - ETA: 19s - loss: 1.6664e-04 - accuracy: 1.000 - ETA: 19s - loss: 1.5149e-04 - accuracy: 1.000 - ETA: 19s - loss: 1.3886e-04 - accuracy: 1.000 - ETA: 19s - loss: 1.2818e-04 - accuracy: 1.000 - ETA: 18s - loss: 1.2492e-04 - accuracy: 1.000 - ETA: 18s - loss: 1.1659e-04 - accuracy: 1.000 - ETA: 18s - loss: 1.1477e-04 - accuracy: 1.000 - ETA: 18s - loss: 0.0086 - accuracy: 1.0000    - ETA: 18s - loss: 0.0081 - accuracy: 1.000 - ETA: 18s - loss: 0.0077 - accuracy: 1.000 - ETA: 18s - loss: 0.0073 - accuracy: 1.000 - ETA: 17s - loss: 0.0070 - accuracy: 1.000 - ETA: 17s - loss: 0.0066 - accuracy: 1.000 - ETA: 17s - loss: 0.0064 - accuracy: 1.000 - ETA: 17s - loss: 0.0061 - accuracy: 1.000 - ETA: 17s - loss: 0.0058 - accuracy: 1.000 - ETA: 17s - loss: 0.0056 - accuracy: 1.000 - ETA: 17s - loss: 0.0054 - accuracy: 1.000 - ETA: 16s - loss: 0.0052 - accuracy: 1.000 - ETA: 16s - loss: 0.0050 - accuracy: 1.000 - ETA: 16s - loss: 0.0049 - accuracy: 1.000 - ETA: 16s - loss: 0.0047 - accuracy: 1.000 - ETA: 16s - loss: 0.0046 - accuracy: 1.000 - ETA: 16s - loss: 0.0044 - accuracy: 1.000 - ETA: 15s - loss: 0.0270 - accuracy: 0.992 - ETA: 15s - loss: 0.0277 - accuracy: 0.992 - ETA: 15s - loss: 0.0269 - accuracy: 0.993 - ETA: 15s - loss: 0.0262 - accuracy: 0.993 - ETA: 15s - loss: 0.0255 - accuracy: 0.993 - ETA: 15s - loss: 0.0248 - accuracy: 0.993 - ETA: 15s - loss: 0.0242 - accuracy: 0.993 - ETA: 15s - loss: 0.0236 - accuracy: 0.993 - ETA: 14s - loss: 0.0231 - accuracy: 0.994 - ETA: 14s - loss: 0.0226 - accuracy: 0.994 - ETA: 14s - loss: 0.0220 - accuracy: 0.994 - ETA: 14s - loss: 0.0216 - accuracy: 0.994 - ETA: 14s - loss: 0.0211 - accuracy: 0.994 - ETA: 14s - loss: 0.0206 - accuracy: 0.994 - ETA: 14s - loss: 0.0202 - accuracy: 0.994 - ETA: 14s - loss: 0.0198 - accuracy: 0.994 - ETA: 13s - loss: 0.0194 - accuracy: 0.995 - ETA: 13s - loss: 0.0190 - accuracy: 0.995 - ETA: 13s - loss: 0.0187 - accuracy: 0.995 - ETA: 13s - loss: 0.0183 - accuracy: 0.995 - ETA: 13s - loss: 0.0180 - accuracy: 0.995 - ETA: 13s - loss: 0.0176 - accuracy: 0.995 - ETA: 13s - loss: 0.0173 - accuracy: 0.995 - ETA: 13s - loss: 0.0170 - accuracy: 0.995 - ETA: 12s - loss: 0.0167 - accuracy: 0.995 - ETA: 12s - loss: 0.0164 - accuracy: 0.995 - ETA: 12s - loss: 0.0162 - accuracy: 0.995 - ETA: 12s - loss: 0.0159 - accuracy: 0.995 - ETA: 12s - loss: 0.0156 - accuracy: 0.996 - ETA: 12s - loss: 0.0154 - accuracy: 0.996 - ETA: 12s - loss: 0.0152 - accuracy: 0.996 - ETA: 12s - loss: 0.0149 - accuracy: 0.996 - ETA: 11s - loss: 0.0147 - accuracy: 0.996 - ETA: 11s - loss: 0.0145 - accuracy: 0.996 - ETA: 11s - loss: 0.0143 - accuracy: 0.996 - ETA: 11s - loss: 0.0141 - accuracy: 0.996 - ETA: 11s - loss: 0.0139 - accuracy: 0.996 - ETA: 11s - loss: 0.0137 - accuracy: 0.996 - ETA: 11s - loss: 0.0139 - accuracy: 0.996 - ETA: 10s - loss: 0.0137 - accuracy: 0.996 - ETA: 10s - loss: 0.0135 - accuracy: 0.996 - ETA: 10s - loss: 0.0133 - accuracy: 0.996 - ETA: 10s - loss: 0.0131 - accuracy: 0.996 - ETA: 10s - loss: 0.0130 - accuracy: 0.996 - ETA: 10s - loss: 0.0128 - accuracy: 0.996 - ETA: 10s - loss: 0.0126 - accuracy: 0.996 - ETA: 10s - loss: 0.0125 - accuracy: 0.996 - ETA: 9s - loss: 0.0123 - accuracy: 0.996 - ETA: 9s - loss: 0.0122 - accuracy: 0.99 - ETA: 9s - loss: 0.0120 - accuracy: 0.99 - ETA: 9s - loss: 0.0119 - accuracy: 0.99 - ETA: 9s - loss: 0.0117 - accuracy: 0.99 - ETA: 9s - loss: 0.0116 - accuracy: 0.99 - ETA: 9s - loss: 0.0115 - accuracy: 0.99 - ETA: 8s - loss: 0.0113 - accuracy: 0.99 - ETA: 8s - loss: 0.0112 - accuracy: 0.99 - ETA: 8s - loss: 0.0111 - accuracy: 0.99 - ETA: 8s - loss: 0.0110 - accuracy: 0.99 - ETA: 8s - loss: 0.0109 - accuracy: 0.99 - ETA: 8s - loss: 0.0112 - accuracy: 0.99 - ETA: 8s - loss: 0.0111 - accuracy: 0.99 - ETA: 7s - loss: 0.0110 - accuracy: 0.99 - ETA: 7s - loss: 0.0108 - accuracy: 0.99 - ETA: 7s - loss: 0.0107 - accuracy: 0.99 - ETA: 7s - loss: 0.0106 - accuracy: 0.99 - ETA: 7s - loss: 0.0105 - accuracy: 0.99 - ETA: 7s - loss: 0.0104 - accuracy: 0.99 - ETA: 7s - loss: 0.0103 - accuracy: 0.99 - ETA: 7s - loss: 0.0102 - accuracy: 0.99 - ETA: 6s - loss: 0.0101 - accuracy: 0.99 - ETA: 6s - loss: 0.0100 - accuracy: 0.99 - ETA: 6s - loss: 0.0099 - accuracy: 0.99 - ETA: 6s - loss: 0.0098 - accuracy: 0.99 - ETA: 6s - loss: 0.0097 - accuracy: 0.99 - ETA: 6s - loss: 0.0096 - accuracy: 0.99 - ETA: 6s - loss: 0.0096 - accuracy: 0.99 - ETA: 5s - loss: 0.0095 - accuracy: 0.99 - ETA: 5s - loss: 0.0094 - accuracy: 0.99 - ETA: 5s - loss: 0.0093 - accuracy: 0.99 - ETA: 5s - loss: 0.0092 - accuracy: 0.99 - ETA: 5s - loss: 0.0091 - accuracy: 0.99 - ETA: 5s - loss: 0.0091 - accuracy: 0.99 - ETA: 5s - loss: 0.0090 - accuracy: 0.99 - ETA: 5s - loss: 0.0089 - accuracy: 0.99 - ETA: 4s - loss: 0.0088 - accuracy: 0.99 - ETA: 4s - loss: 0.0087 - accuracy: 0.99 - ETA: 4s - loss: 0.0087 - accuracy: 0.99 - ETA: 4s - loss: 0.0086 - accuracy: 0.99 - ETA: 4s - loss: 0.0085 - accuracy: 0.99 - ETA: 4s - loss: 0.0085 - accuracy: 0.99 - ETA: 4s - loss: 0.0084 - accuracy: 0.99 - ETA: 4s - loss: 0.0083 - accuracy: 0.99 - ETA: 3s - loss: 0.0083 - accuracy: 0.99 - ETA: 3s - loss: 0.0082 - accuracy: 0.99 - ETA: 3s - loss: 0.0081 - accuracy: 0.99 - ETA: 3s - loss: 0.0081 - accuracy: 0.99 - ETA: 3s - loss: 0.0080 - accuracy: 0.99 - ETA: 3s - loss: 0.0079 - accuracy: 0.99 - ETA: 3s - loss: 0.0079 - accuracy: 0.99 - ETA: 2s - loss: 0.0078 - accuracy: 0.99 - ETA: 2s - loss: 0.0078 - accuracy: 0.99 - ETA: 2s - loss: 0.0077 - accuracy: 0.99 - ETA: 2s - loss: 0.0077 - accuracy: 0.99 - ETA: 2s - loss: 0.0076 - accuracy: 0.99 - ETA: 2s - loss: 0.0075 - accuracy: 0.99 - ETA: 2s - loss: 0.0075 - accuracy: 0.99 - ETA: 2s - loss: 0.0074 - accuracy: 0.99 - ETA: 1s - loss: 0.0074 - accuracy: 0.99 - ETA: 1s - loss: 0.0073 - accuracy: 0.99 - ETA: 1s - loss: 0.0073 - accuracy: 0.99 - ETA: 1s - loss: 0.0072 - accuracy: 0.99 - ETA: 1s - loss: 0.0072 - accuracy: 0.99 - ETA: 1s - loss: 0.0071 - accuracy: 0.99 - ETA: 1s - loss: 0.0071 - accuracy: 0.99 - ETA: 0s - loss: 0.0070 - accuracy: 0.99 - ETA: 0s - loss: 0.0070 - accuracy: 0.99 - ETA: 0s - loss: 0.0070 - accuracy: 0.99 - ETA: 0s - loss: 0.0070 - accuracy: 0.99 - ETA: 0s - loss: 0.0069 - accuracy: 0.99 - ETA: 0s - loss: 0.0069 - accuracy: 0.99 - ETA: 0s - loss: 0.0069 - accuracy: 0.99 - ETA: 0s - loss: 0.0068 - accuracy: 0.99 - 21s 34ms/step - loss: 0.0068 - accuracy: 0.9984 - val_loss: 0.0000e+00 - val_accuracy: 1.0000\n",
      "Epoch 48/50\n"
     ]
    },
    {
     "name": "stdout",
     "output_type": "stream",
     "text": [
      "622/622 [==============================] - ETA: 19s - loss: 2.9802e-08 - accuracy: 1.000 - ETA: 21s - loss: 1.4901e-08 - accuracy: 1.000 - ETA: 23s - loss: 1.1473e-05 - accuracy: 1.000 - ETA: 23s - loss: 8.6048e-06 - accuracy: 1.000 - ETA: 22s - loss: 6.8839e-06 - accuracy: 1.000 - ETA: 22s - loss: 5.7366e-06 - accuracy: 1.000 - ETA: 22s - loss: 4.9170e-06 - accuracy: 1.000 - ETA: 21s - loss: 4.3024e-06 - accuracy: 1.000 - ETA: 21s - loss: 3.8244e-06 - accuracy: 1.000 - ETA: 21s - loss: 3.4419e-06 - accuracy: 1.000 - ETA: 20s - loss: 3.1372e-06 - accuracy: 1.000 - ETA: 20s - loss: 2.8757e-06 - accuracy: 1.000 - ETA: 20s - loss: 2.9964e-05 - accuracy: 1.000 - ETA: 20s - loss: 2.7824e-05 - accuracy: 1.000 - ETA: 20s - loss: 2.5969e-05 - accuracy: 1.000 - ETA: 19s - loss: 2.4346e-05 - accuracy: 1.000 - ETA: 19s - loss: 2.2914e-05 - accuracy: 1.000 - ETA: 19s - loss: 2.1641e-05 - accuracy: 1.000 - ETA: 19s - loss: 2.0502e-05 - accuracy: 1.000 - ETA: 19s - loss: 1.9476e-05 - accuracy: 1.000 - ETA: 18s - loss: 1.8549e-05 - accuracy: 1.000 - ETA: 18s - loss: 1.7706e-05 - accuracy: 1.000 - ETA: 18s - loss: 1.6936e-05 - accuracy: 1.000 - ETA: 18s - loss: 1.6230e-05 - accuracy: 1.000 - ETA: 18s - loss: 1.5581e-05 - accuracy: 1.000 - ETA: 17s - loss: 1.4982e-05 - accuracy: 1.000 - ETA: 17s - loss: 1.4427e-05 - accuracy: 1.000 - ETA: 17s - loss: 1.3912e-05 - accuracy: 1.000 - ETA: 17s - loss: 1.3432e-05 - accuracy: 1.000 - ETA: 17s - loss: 1.2984e-05 - accuracy: 1.000 - ETA: 17s - loss: 0.0027 - accuracy: 1.0000    - ETA: 16s - loss: 0.0027 - accuracy: 1.000 - ETA: 16s - loss: 0.0026 - accuracy: 1.000 - ETA: 16s - loss: 0.0025 - accuracy: 1.000 - ETA: 16s - loss: 0.0024 - accuracy: 1.000 - ETA: 16s - loss: 0.0024 - accuracy: 1.000 - ETA: 15s - loss: 0.0023 - accuracy: 1.000 - ETA: 15s - loss: 0.0022 - accuracy: 1.000 - ETA: 15s - loss: 0.0022 - accuracy: 1.000 - ETA: 15s - loss: 0.0021 - accuracy: 1.000 - ETA: 15s - loss: 0.0021 - accuracy: 1.000 - ETA: 15s - loss: 0.0020 - accuracy: 1.000 - ETA: 15s - loss: 0.0020 - accuracy: 1.000 - ETA: 14s - loss: 0.0019 - accuracy: 1.000 - ETA: 14s - loss: 0.0019 - accuracy: 1.000 - ETA: 14s - loss: 0.0019 - accuracy: 1.000 - ETA: 14s - loss: 0.0018 - accuracy: 1.000 - ETA: 14s - loss: 0.0018 - accuracy: 1.000 - ETA: 14s - loss: 0.0018 - accuracy: 1.000 - ETA: 14s - loss: 0.0018 - accuracy: 1.000 - ETA: 13s - loss: 0.0017 - accuracy: 1.000 - ETA: 13s - loss: 0.0017 - accuracy: 1.000 - ETA: 13s - loss: 0.0017 - accuracy: 1.000 - ETA: 13s - loss: 0.0016 - accuracy: 1.000 - ETA: 13s - loss: 0.0016 - accuracy: 1.000 - ETA: 13s - loss: 0.0016 - accuracy: 1.000 - ETA: 13s - loss: 0.0015 - accuracy: 1.000 - ETA: 12s - loss: 0.0015 - accuracy: 1.000 - ETA: 12s - loss: 0.0015 - accuracy: 1.000 - ETA: 12s - loss: 0.0015 - accuracy: 1.000 - ETA: 12s - loss: 0.0014 - accuracy: 1.000 - ETA: 12s - loss: 0.0014 - accuracy: 1.000 - ETA: 12s - loss: 0.0014 - accuracy: 1.000 - ETA: 12s - loss: 0.0014 - accuracy: 1.000 - ETA: 11s - loss: 0.0013 - accuracy: 1.000 - ETA: 11s - loss: 0.0014 - accuracy: 1.000 - ETA: 11s - loss: 0.0014 - accuracy: 1.000 - ETA: 11s - loss: 0.0014 - accuracy: 1.000 - ETA: 11s - loss: 0.0013 - accuracy: 1.000 - ETA: 11s - loss: 0.0013 - accuracy: 1.000 - ETA: 11s - loss: 0.0013 - accuracy: 1.000 - ETA: 10s - loss: 0.0013 - accuracy: 1.000 - ETA: 10s - loss: 0.0013 - accuracy: 1.000 - ETA: 10s - loss: 0.0012 - accuracy: 1.000 - ETA: 10s - loss: 0.0012 - accuracy: 1.000 - ETA: 10s - loss: 0.0012 - accuracy: 1.000 - ETA: 10s - loss: 0.0012 - accuracy: 1.000 - ETA: 10s - loss: 0.0012 - accuracy: 1.000 - ETA: 9s - loss: 0.0012 - accuracy: 1.000 - ETA: 9s - loss: 0.0012 - accuracy: 1.00 - ETA: 9s - loss: 0.0011 - accuracy: 1.00 - ETA: 9s - loss: 0.0011 - accuracy: 1.00 - ETA: 9s - loss: 0.0011 - accuracy: 1.00 - ETA: 9s - loss: 0.0011 - accuracy: 1.00 - ETA: 9s - loss: 0.0011 - accuracy: 1.00 - ETA: 9s - loss: 0.0011 - accuracy: 1.00 - ETA: 8s - loss: 0.0011 - accuracy: 1.00 - ETA: 8s - loss: 0.0011 - accuracy: 1.00 - ETA: 8s - loss: 0.0010 - accuracy: 1.00 - ETA: 8s - loss: 0.0010 - accuracy: 1.00 - ETA: 8s - loss: 0.0010 - accuracy: 1.00 - ETA: 8s - loss: 0.0010 - accuracy: 1.00 - ETA: 8s - loss: 9.9899e-04 - accuracy: 1.00 - ETA: 7s - loss: 9.8836e-04 - accuracy: 1.00 - ETA: 7s - loss: 9.7796e-04 - accuracy: 1.00 - ETA: 7s - loss: 9.6777e-04 - accuracy: 1.00 - ETA: 7s - loss: 9.5780e-04 - accuracy: 1.00 - ETA: 7s - loss: 9.4802e-04 - accuracy: 1.00 - ETA: 7s - loss: 9.3845e-04 - accuracy: 1.00 - ETA: 7s - loss: 0.0051 - accuracy: 0.9975   - ETA: 7s - loss: 0.0051 - accuracy: 0.99 - ETA: 6s - loss: 0.0050 - accuracy: 0.99 - ETA: 6s - loss: 0.0050 - accuracy: 0.99 - ETA: 6s - loss: 0.0049 - accuracy: 0.99 - ETA: 6s - loss: 0.0049 - accuracy: 0.99 - ETA: 6s - loss: 0.0048 - accuracy: 0.99 - ETA: 6s - loss: 0.0048 - accuracy: 0.99 - ETA: 6s - loss: 0.0047 - accuracy: 0.99 - ETA: 6s - loss: 0.0047 - accuracy: 0.99 - ETA: 5s - loss: 0.0046 - accuracy: 0.99 - ETA: 5s - loss: 0.0046 - accuracy: 0.99 - ETA: 5s - loss: 0.0046 - accuracy: 0.99 - ETA: 5s - loss: 0.0045 - accuracy: 0.99 - ETA: 5s - loss: 0.0045 - accuracy: 0.99 - ETA: 5s - loss: 0.0044 - accuracy: 0.99 - ETA: 5s - loss: 0.0044 - accuracy: 0.99 - ETA: 4s - loss: 0.0044 - accuracy: 0.99 - ETA: 4s - loss: 0.0043 - accuracy: 0.99 - ETA: 4s - loss: 0.0043 - accuracy: 0.99 - ETA: 4s - loss: 0.0043 - accuracy: 0.99 - ETA: 4s - loss: 0.0042 - accuracy: 0.99 - ETA: 4s - loss: 0.0042 - accuracy: 0.99 - ETA: 4s - loss: 0.0042 - accuracy: 0.99 - ETA: 4s - loss: 0.0041 - accuracy: 0.99 - ETA: 3s - loss: 0.0041 - accuracy: 0.99 - ETA: 3s - loss: 0.0041 - accuracy: 0.99 - ETA: 3s - loss: 0.0040 - accuracy: 0.99 - ETA: 3s - loss: 0.0040 - accuracy: 0.99 - ETA: 3s - loss: 0.0040 - accuracy: 0.99 - ETA: 3s - loss: 0.0039 - accuracy: 0.99 - ETA: 3s - loss: 0.0039 - accuracy: 0.99 - ETA: 3s - loss: 0.0039 - accuracy: 0.99 - ETA: 2s - loss: 0.0038 - accuracy: 0.99 - ETA: 2s - loss: 0.0038 - accuracy: 0.99 - ETA: 2s - loss: 0.0038 - accuracy: 0.99 - ETA: 2s - loss: 0.0038 - accuracy: 0.99 - ETA: 2s - loss: 0.0037 - accuracy: 0.99 - ETA: 2s - loss: 0.0037 - accuracy: 0.99 - ETA: 2s - loss: 0.0037 - accuracy: 0.99 - ETA: 2s - loss: 0.0037 - accuracy: 0.99 - ETA: 1s - loss: 0.0036 - accuracy: 0.99 - ETA: 1s - loss: 0.0036 - accuracy: 0.99 - ETA: 1s - loss: 0.0036 - accuracy: 0.99 - ETA: 1s - loss: 0.0036 - accuracy: 0.99 - ETA: 1s - loss: 0.0035 - accuracy: 0.99 - ETA: 1s - loss: 0.0035 - accuracy: 0.99 - ETA: 1s - loss: 0.0035 - accuracy: 0.99 - ETA: 0s - loss: 0.0038 - accuracy: 0.99 - ETA: 0s - loss: 0.0038 - accuracy: 0.99 - ETA: 0s - loss: 0.0037 - accuracy: 0.99 - ETA: 0s - loss: 0.0037 - accuracy: 0.99 - ETA: 0s - loss: 0.0037 - accuracy: 0.99 - ETA: 0s - loss: 0.0037 - accuracy: 0.99 - ETA: 0s - loss: 0.0036 - accuracy: 0.99 - ETA: 0s - loss: 0.0036 - accuracy: 0.99 - 21s 33ms/step - loss: 0.0036 - accuracy: 0.9984 - val_loss: 0.0000e+00 - val_accuracy: 1.0000\n",
      "Epoch 49/50\n"
     ]
    },
    {
     "name": "stdout",
     "output_type": "stream",
     "text": [
      "622/622 [==============================] - ETA: 18s - loss: 0.0000e+00 - accuracy: 1.000 - ETA: 18s - loss: 0.0000e+00 - accuracy: 1.000 - ETA: 18s - loss: 0.0000e+00 - accuracy: 1.000 - ETA: 18s - loss: 0.0000e+00 - accuracy: 1.000 - ETA: 18s - loss: 0.0000e+00 - accuracy: 1.000 - ETA: 18s - loss: 0.0000e+00 - accuracy: 1.000 - ETA: 18s - loss: 0.0000e+00 - accuracy: 1.000 - ETA: 18s - loss: 0.0000e+00 - accuracy: 1.000 - ETA: 18s - loss: 0.0000e+00 - accuracy: 1.000 - ETA: 18s - loss: 0.0000e+00 - accuracy: 1.000 - ETA: 18s - loss: 0.0000e+00 - accuracy: 1.000 - ETA: 17s - loss: 0.0000e+00 - accuracy: 1.000 - ETA: 17s - loss: 4.5850e-09 - accuracy: 1.000 - ETA: 17s - loss: 4.2575e-09 - accuracy: 1.000 - ETA: 17s - loss: 0.0015 - accuracy: 1.0000    - ETA: 17s - loss: 0.0014 - accuracy: 1.000 - ETA: 17s - loss: 0.0013 - accuracy: 1.000 - ETA: 17s - loss: 0.0013 - accuracy: 1.000 - ETA: 17s - loss: 0.0012 - accuracy: 1.000 - ETA: 16s - loss: 0.0011 - accuracy: 1.000 - ETA: 16s - loss: 0.0011 - accuracy: 1.000 - ETA: 16s - loss: 0.0010 - accuracy: 1.000 - ETA: 16s - loss: 9.8796e-04 - accuracy: 1.000 - ETA: 16s - loss: 9.7052e-04 - accuracy: 1.000 - ETA: 16s - loss: 9.3170e-04 - accuracy: 1.000 - ETA: 16s - loss: 8.9587e-04 - accuracy: 1.000 - ETA: 15s - loss: 8.6269e-04 - accuracy: 1.000 - ETA: 15s - loss: 8.3187e-04 - accuracy: 1.000 - ETA: 15s - loss: 8.0319e-04 - accuracy: 1.000 - ETA: 15s - loss: 7.7642e-04 - accuracy: 1.000 - ETA: 15s - loss: 7.5137e-04 - accuracy: 1.000 - ETA: 15s - loss: 7.2789e-04 - accuracy: 1.000 - ETA: 15s - loss: 7.0583e-04 - accuracy: 1.000 - ETA: 15s - loss: 6.8507e-04 - accuracy: 1.000 - ETA: 14s - loss: 6.6550e-04 - accuracy: 1.000 - ETA: 14s - loss: 6.4701e-04 - accuracy: 1.000 - ETA: 14s - loss: 6.2953e-04 - accuracy: 1.000 - ETA: 14s - loss: 6.1296e-04 - accuracy: 1.000 - ETA: 14s - loss: 5.9724e-04 - accuracy: 1.000 - ETA: 14s - loss: 5.8231e-04 - accuracy: 1.000 - ETA: 14s - loss: 5.6811e-04 - accuracy: 1.000 - ETA: 14s - loss: 5.5458e-04 - accuracy: 1.000 - ETA: 14s - loss: 5.4203e-04 - accuracy: 1.000 - ETA: 14s - loss: 5.3081e-04 - accuracy: 1.000 - ETA: 14s - loss: 5.1902e-04 - accuracy: 1.000 - ETA: 13s - loss: 5.0773e-04 - accuracy: 1.000 - ETA: 13s - loss: 4.9693e-04 - accuracy: 1.000 - ETA: 13s - loss: 4.8658e-04 - accuracy: 1.000 - ETA: 13s - loss: 4.7665e-04 - accuracy: 1.000 - ETA: 13s - loss: 4.6712e-04 - accuracy: 1.000 - ETA: 13s - loss: 4.5796e-04 - accuracy: 1.000 - ETA: 13s - loss: 4.4915e-04 - accuracy: 1.000 - ETA: 13s - loss: 4.4067e-04 - accuracy: 1.000 - ETA: 12s - loss: 4.3251e-04 - accuracy: 1.000 - ETA: 12s - loss: 4.2465e-04 - accuracy: 1.000 - ETA: 12s - loss: 4.1707e-04 - accuracy: 1.000 - ETA: 12s - loss: 4.0975e-04 - accuracy: 1.000 - ETA: 12s - loss: 4.0269e-04 - accuracy: 1.000 - ETA: 12s - loss: 3.9586e-04 - accuracy: 1.000 - ETA: 12s - loss: 3.8926e-04 - accuracy: 1.000 - ETA: 12s - loss: 3.8288e-04 - accuracy: 1.000 - ETA: 11s - loss: 3.7671e-04 - accuracy: 1.000 - ETA: 11s - loss: 3.7073e-04 - accuracy: 1.000 - ETA: 11s - loss: 3.6494e-04 - accuracy: 1.000 - ETA: 11s - loss: 3.5933e-04 - accuracy: 1.000 - ETA: 11s - loss: 3.5388e-04 - accuracy: 1.000 - ETA: 11s - loss: 3.4860e-04 - accuracy: 1.000 - ETA: 11s - loss: 3.4347e-04 - accuracy: 1.000 - ETA: 11s - loss: 3.3850e-04 - accuracy: 1.000 - ETA: 10s - loss: 3.3366e-04 - accuracy: 1.000 - ETA: 10s - loss: 3.2896e-04 - accuracy: 1.000 - ETA: 10s - loss: 3.2439e-04 - accuracy: 1.000 - ETA: 10s - loss: 3.1995e-04 - accuracy: 1.000 - ETA: 10s - loss: 3.1562e-04 - accuracy: 1.000 - ETA: 10s - loss: 3.1142e-04 - accuracy: 1.000 - ETA: 10s - loss: 3.0732e-04 - accuracy: 1.000 - ETA: 10s - loss: 3.0333e-04 - accuracy: 1.000 - ETA: 9s - loss: 2.9944e-04 - accuracy: 1.000 - ETA: 9s - loss: 2.9565e-04 - accuracy: 1.00 - ETA: 9s - loss: 2.9195e-04 - accuracy: 1.00 - ETA: 9s - loss: 2.8835e-04 - accuracy: 1.00 - ETA: 9s - loss: 2.8483e-04 - accuracy: 1.00 - ETA: 9s - loss: 2.8173e-04 - accuracy: 1.00 - ETA: 9s - loss: 2.7838e-04 - accuracy: 1.00 - ETA: 9s - loss: 2.7510e-04 - accuracy: 1.00 - ETA: 8s - loss: 2.7190e-04 - accuracy: 1.00 - ETA: 8s - loss: 2.6878e-04 - accuracy: 1.00 - ETA: 8s - loss: 2.6572e-04 - accuracy: 1.00 - ETA: 8s - loss: 2.6274e-04 - accuracy: 1.00 - ETA: 8s - loss: 2.5982e-04 - accuracy: 1.00 - ETA: 8s - loss: 2.5696e-04 - accuracy: 1.00 - ETA: 8s - loss: 2.5417e-04 - accuracy: 1.00 - ETA: 7s - loss: 2.5144e-04 - accuracy: 1.00 - ETA: 7s - loss: 2.4876e-04 - accuracy: 1.00 - ETA: 7s - loss: 2.4614e-04 - accuracy: 1.00 - ETA: 7s - loss: 2.4358e-04 - accuracy: 1.00 - ETA: 7s - loss: 2.4107e-04 - accuracy: 1.00 - ETA: 7s - loss: 2.3861e-04 - accuracy: 1.00 - ETA: 7s - loss: 2.3620e-04 - accuracy: 1.00 - ETA: 7s - loss: 2.3384e-04 - accuracy: 1.00 - ETA: 6s - loss: 2.3152e-04 - accuracy: 1.00 - ETA: 6s - loss: 2.2925e-04 - accuracy: 1.00 - ETA: 6s - loss: 2.2703e-04 - accuracy: 1.00 - ETA: 6s - loss: 2.2484e-04 - accuracy: 1.00 - ETA: 6s - loss: 2.2270e-04 - accuracy: 1.00 - ETA: 6s - loss: 2.2060e-04 - accuracy: 1.00 - ETA: 6s - loss: 2.1854e-04 - accuracy: 1.00 - ETA: 6s - loss: 2.1652e-04 - accuracy: 1.00 - ETA: 5s - loss: 2.1453e-04 - accuracy: 1.00 - ETA: 5s - loss: 2.1258e-04 - accuracy: 1.00 - ETA: 5s - loss: 2.1066e-04 - accuracy: 1.00 - ETA: 5s - loss: 2.0878e-04 - accuracy: 1.00 - ETA: 5s - loss: 2.0694e-04 - accuracy: 1.00 - ETA: 5s - loss: 2.0512e-04 - accuracy: 1.00 - ETA: 5s - loss: 2.0334e-04 - accuracy: 1.00 - ETA: 5s - loss: 0.0076 - accuracy: 0.9978   - ETA: 4s - loss: 0.0075 - accuracy: 0.99 - ETA: 4s - loss: 0.0075 - accuracy: 0.99 - ETA: 4s - loss: 0.0074 - accuracy: 0.99 - ETA: 4s - loss: 0.0074 - accuracy: 0.99 - ETA: 4s - loss: 0.0073 - accuracy: 0.99 - ETA: 4s - loss: 0.0072 - accuracy: 0.99 - ETA: 4s - loss: 0.0072 - accuracy: 0.99 - ETA: 4s - loss: 0.0071 - accuracy: 0.99 - ETA: 3s - loss: 0.0071 - accuracy: 0.99 - ETA: 3s - loss: 0.0070 - accuracy: 0.99 - ETA: 3s - loss: 0.0070 - accuracy: 0.99 - ETA: 3s - loss: 0.0069 - accuracy: 0.99 - ETA: 3s - loss: 0.0068 - accuracy: 0.99 - ETA: 3s - loss: 0.0068 - accuracy: 0.99 - ETA: 3s - loss: 0.0067 - accuracy: 0.99 - ETA: 2s - loss: 0.0067 - accuracy: 0.99 - ETA: 2s - loss: 0.0066 - accuracy: 0.99 - ETA: 2s - loss: 0.0066 - accuracy: 0.99 - ETA: 2s - loss: 0.0065 - accuracy: 0.99 - ETA: 2s - loss: 0.0065 - accuracy: 0.99 - ETA: 2s - loss: 0.0064 - accuracy: 0.99 - ETA: 2s - loss: 0.0064 - accuracy: 0.99 - ETA: 2s - loss: 0.0064 - accuracy: 0.99 - ETA: 1s - loss: 0.0063 - accuracy: 0.99 - ETA: 1s - loss: 0.0063 - accuracy: 0.99 - ETA: 1s - loss: 0.0071 - accuracy: 0.99 - ETA: 1s - loss: 0.0071 - accuracy: 0.99 - ETA: 1s - loss: 0.0070 - accuracy: 0.99 - ETA: 1s - loss: 0.0070 - accuracy: 0.99 - ETA: 1s - loss: 0.0069 - accuracy: 0.99 - ETA: 1s - loss: 0.0069 - accuracy: 0.99 - ETA: 0s - loss: 0.0068 - accuracy: 0.99 - ETA: 0s - loss: 0.0068 - accuracy: 0.99 - ETA: 0s - loss: 0.0067 - accuracy: 0.99 - ETA: 0s - loss: 0.0067 - accuracy: 0.99 - ETA: 0s - loss: 0.0066 - accuracy: 0.99 - ETA: 0s - loss: 0.0066 - accuracy: 0.99 - ETA: 0s - loss: 0.0066 - accuracy: 0.99 - ETA: 0s - loss: 0.0065 - accuracy: 0.99 - 20s 32ms/step - loss: 0.0065 - accuracy: 0.9984 - val_loss: 0.0000e+00 - val_accuracy: 1.0000\n",
      "Epoch 50/50\n"
     ]
    },
    {
     "name": "stdout",
     "output_type": "stream",
     "text": [
      "622/622 [==============================] - ETA: 18s - loss: 0.0000e+00 - accuracy: 1.000 - ETA: 18s - loss: 0.0000e+00 - accuracy: 1.000 - ETA: 18s - loss: 0.0000e+00 - accuracy: 1.000 - ETA: 18s - loss: 0.0000e+00 - accuracy: 1.000 - ETA: 18s - loss: 0.0000e+00 - accuracy: 1.000 - ETA: 18s - loss: 0.0000e+00 - accuracy: 1.000 - ETA: 18s - loss: 0.0000e+00 - accuracy: 1.000 - ETA: 18s - loss: 0.0000e+00 - accuracy: 1.000 - ETA: 18s - loss: 0.0000e+00 - accuracy: 1.000 - ETA: 18s - loss: 5.9605e-09 - accuracy: 1.000 - ETA: 18s - loss: 4.8225e-07 - accuracy: 1.000 - ETA: 17s - loss: 4.4206e-07 - accuracy: 1.000 - ETA: 17s - loss: 4.0806e-07 - accuracy: 1.000 - ETA: 17s - loss: 3.7891e-07 - accuracy: 1.000 - ETA: 17s - loss: 3.5365e-07 - accuracy: 1.000 - ETA: 17s - loss: 3.3155e-07 - accuracy: 1.000 - ETA: 17s - loss: 3.1204e-07 - accuracy: 1.000 - ETA: 17s - loss: 9.0094e-04 - accuracy: 1.000 - ETA: 17s - loss: 8.5352e-04 - accuracy: 1.000 - ETA: 16s - loss: 8.1086e-04 - accuracy: 1.000 - ETA: 16s - loss: 7.7225e-04 - accuracy: 1.000 - ETA: 16s - loss: 7.3714e-04 - accuracy: 1.000 - ETA: 16s - loss: 7.0509e-04 - accuracy: 1.000 - ETA: 16s - loss: 6.7572e-04 - accuracy: 1.000 - ETA: 16s - loss: 6.4869e-04 - accuracy: 1.000 - ETA: 16s - loss: 6.2374e-04 - accuracy: 1.000 - ETA: 16s - loss: 6.0064e-04 - accuracy: 1.000 - ETA: 15s - loss: 5.7918e-04 - accuracy: 1.000 - ETA: 15s - loss: 5.5921e-04 - accuracy: 1.000 - ETA: 15s - loss: 5.4057e-04 - accuracy: 1.000 - ETA: 15s - loss: 5.2313e-04 - accuracy: 1.000 - ETA: 15s - loss: 5.0679e-04 - accuracy: 1.000 - ETA: 15s - loss: 4.9242e-04 - accuracy: 1.000 - ETA: 15s - loss: 4.7794e-04 - accuracy: 1.000 - ETA: 15s - loss: 4.6428e-04 - accuracy: 1.000 - ETA: 14s - loss: 4.5139e-04 - accuracy: 1.000 - ETA: 14s - loss: 4.3919e-04 - accuracy: 1.000 - ETA: 14s - loss: 4.2763e-04 - accuracy: 1.000 - ETA: 14s - loss: 4.1666e-04 - accuracy: 1.000 - ETA: 14s - loss: 4.0625e-04 - accuracy: 1.000 - ETA: 14s - loss: 3.9634e-04 - accuracy: 1.000 - ETA: 14s - loss: 3.8690e-04 - accuracy: 1.000 - ETA: 14s - loss: 3.7790e-04 - accuracy: 1.000 - ETA: 14s - loss: 3.6932e-04 - accuracy: 1.000 - ETA: 13s - loss: 3.6111e-04 - accuracy: 1.000 - ETA: 13s - loss: 3.5326e-04 - accuracy: 1.000 - ETA: 13s - loss: 3.4574e-04 - accuracy: 1.000 - ETA: 13s - loss: 3.3854e-04 - accuracy: 1.000 - ETA: 13s - loss: 3.3163e-04 - accuracy: 1.000 - ETA: 13s - loss: 3.2500e-04 - accuracy: 1.000 - ETA: 13s - loss: 3.1863e-04 - accuracy: 1.000 - ETA: 13s - loss: 3.1250e-04 - accuracy: 1.000 - ETA: 12s - loss: 3.0660e-04 - accuracy: 1.000 - ETA: 12s - loss: 3.0092e-04 - accuracy: 1.000 - ETA: 12s - loss: 2.9545e-04 - accuracy: 1.000 - ETA: 12s - loss: 2.9018e-04 - accuracy: 1.000 - ETA: 12s - loss: 2.8509e-04 - accuracy: 1.000 - ETA: 12s - loss: 0.0056 - accuracy: 0.9957    - ETA: 12s - loss: 0.0055 - accuracy: 0.995 - ETA: 12s - loss: 0.0054 - accuracy: 0.995 - ETA: 11s - loss: 0.0053 - accuracy: 0.995 - ETA: 11s - loss: 0.0052 - accuracy: 0.996 - ETA: 11s - loss: 0.0051 - accuracy: 0.996 - ETA: 11s - loss: 0.0051 - accuracy: 0.996 - ETA: 11s - loss: 0.0050 - accuracy: 0.996 - ETA: 11s - loss: 0.0049 - accuracy: 0.996 - ETA: 11s - loss: 0.0048 - accuracy: 0.996 - ETA: 10s - loss: 0.0048 - accuracy: 0.996 - ETA: 10s - loss: 0.0047 - accuracy: 0.996 - ETA: 10s - loss: 0.0046 - accuracy: 0.996 - ETA: 10s - loss: 0.0046 - accuracy: 0.996 - ETA: 10s - loss: 0.0045 - accuracy: 0.996 - ETA: 10s - loss: 0.0044 - accuracy: 0.996 - ETA: 10s - loss: 0.0044 - accuracy: 0.996 - ETA: 10s - loss: 0.0043 - accuracy: 0.996 - ETA: 9s - loss: 0.0043 - accuracy: 0.996 - ETA: 9s - loss: 0.0042 - accuracy: 0.99 - ETA: 9s - loss: 0.0042 - accuracy: 0.99 - ETA: 9s - loss: 0.0041 - accuracy: 0.99 - ETA: 9s - loss: 0.0041 - accuracy: 0.99 - ETA: 9s - loss: 0.0040 - accuracy: 0.99 - ETA: 9s - loss: 0.0040 - accuracy: 0.99 - ETA: 9s - loss: 0.0039 - accuracy: 0.99 - ETA: 8s - loss: 0.0039 - accuracy: 0.99 - ETA: 8s - loss: 0.0038 - accuracy: 0.99 - ETA: 8s - loss: 0.0038 - accuracy: 0.99 - ETA: 8s - loss: 0.0037 - accuracy: 0.99 - ETA: 8s - loss: 0.0037 - accuracy: 0.99 - ETA: 8s - loss: 0.0036 - accuracy: 0.99 - ETA: 8s - loss: 0.0036 - accuracy: 0.99 - ETA: 8s - loss: 0.0036 - accuracy: 0.99 - ETA: 7s - loss: 0.0035 - accuracy: 0.99 - ETA: 7s - loss: 0.0035 - accuracy: 0.99 - ETA: 7s - loss: 0.0034 - accuracy: 0.99 - ETA: 7s - loss: 0.0034 - accuracy: 0.99 - ETA: 7s - loss: 0.0034 - accuracy: 0.99 - ETA: 7s - loss: 0.0033 - accuracy: 0.99 - ETA: 7s - loss: 0.0033 - accuracy: 0.99 - ETA: 7s - loss: 0.0033 - accuracy: 0.99 - ETA: 6s - loss: 0.0032 - accuracy: 0.99 - ETA: 6s - loss: 0.0032 - accuracy: 0.99 - ETA: 6s - loss: 0.0032 - accuracy: 0.99 - ETA: 6s - loss: 0.0031 - accuracy: 0.99 - ETA: 6s - loss: 0.0031 - accuracy: 0.99 - ETA: 6s - loss: 0.0031 - accuracy: 0.99 - ETA: 6s - loss: 0.0031 - accuracy: 0.99 - ETA: 6s - loss: 0.0030 - accuracy: 0.99 - ETA: 5s - loss: 0.0030 - accuracy: 0.99 - ETA: 5s - loss: 0.0030 - accuracy: 0.99 - ETA: 5s - loss: 0.0029 - accuracy: 0.99 - ETA: 5s - loss: 0.0029 - accuracy: 0.99 - ETA: 5s - loss: 0.0029 - accuracy: 0.99 - ETA: 5s - loss: 0.0029 - accuracy: 0.99 - ETA: 5s - loss: 0.0028 - accuracy: 0.99 - ETA: 5s - loss: 0.0028 - accuracy: 0.99 - ETA: 4s - loss: 0.0028 - accuracy: 0.99 - ETA: 4s - loss: 0.0028 - accuracy: 0.99 - ETA: 4s - loss: 0.0027 - accuracy: 0.99 - ETA: 4s - loss: 0.0027 - accuracy: 0.99 - ETA: 4s - loss: 0.0027 - accuracy: 0.99 - ETA: 4s - loss: 0.0027 - accuracy: 0.99 - ETA: 4s - loss: 0.0027 - accuracy: 0.99 - ETA: 4s - loss: 0.0026 - accuracy: 0.99 - ETA: 3s - loss: 0.0026 - accuracy: 0.99 - ETA: 3s - loss: 0.0026 - accuracy: 0.99 - ETA: 3s - loss: 0.0026 - accuracy: 0.99 - ETA: 3s - loss: 0.0026 - accuracy: 0.99 - ETA: 3s - loss: 0.0025 - accuracy: 0.99 - ETA: 3s - loss: 0.0025 - accuracy: 0.99 - ETA: 3s - loss: 0.0025 - accuracy: 0.99 - ETA: 3s - loss: 0.0025 - accuracy: 0.99 - ETA: 2s - loss: 0.0025 - accuracy: 0.99 - ETA: 2s - loss: 0.0024 - accuracy: 0.99 - ETA: 2s - loss: 0.0024 - accuracy: 0.99 - ETA: 2s - loss: 0.0024 - accuracy: 0.99 - ETA: 2s - loss: 0.0024 - accuracy: 0.99 - ETA: 2s - loss: 0.0024 - accuracy: 0.99 - ETA: 2s - loss: 0.0024 - accuracy: 0.99 - ETA: 2s - loss: 0.0023 - accuracy: 0.99 - ETA: 1s - loss: 0.0023 - accuracy: 0.99 - ETA: 1s - loss: 0.0023 - accuracy: 0.99 - ETA: 1s - loss: 0.0023 - accuracy: 0.99 - ETA: 1s - loss: 0.0023 - accuracy: 0.99 - ETA: 1s - loss: 0.0023 - accuracy: 0.99 - ETA: 1s - loss: 0.0022 - accuracy: 0.99 - ETA: 1s - loss: 0.0022 - accuracy: 0.99 - ETA: 1s - loss: 0.0022 - accuracy: 0.99 - ETA: 0s - loss: 0.0022 - accuracy: 0.99 - ETA: 0s - loss: 0.0022 - accuracy: 0.99 - ETA: 0s - loss: 0.0022 - accuracy: 0.99 - ETA: 0s - loss: 0.0021 - accuracy: 0.99 - ETA: 0s - loss: 0.0021 - accuracy: 0.99 - ETA: 0s - loss: 0.0021 - accuracy: 0.99 - ETA: 0s - loss: 0.0021 - accuracy: 0.99 - ETA: 0s - loss: 0.0021 - accuracy: 0.99 - 21s 33ms/step - loss: 0.0021 - accuracy: 0.9984 - val_loss: 0.0000e+00 - val_accuracy: 1.0000\n",
      "Wall time: 11min 12s\n"
     ]
    }
   ],
   "source": [
    "%%time\n",
    "# training the model\n",
    "#model_training_history = model.fit( X_train, y_train, epochs=10, validation_data=(X_test, y_test), callbacks=[mcp_save], batch_size=128)\n",
    "\n",
    "# Adding Early Stopping Callback\n",
    "#early_stopping_callback = EarlyStopping(monitor = 'val_loss', patience = 15, mode = 'min', restore_best_weights = True)\n",
    "\n",
    "model_training_history = model.fit(x = X_train, y = y_train, epochs = 50, batch_size = 4 , shuffle = True, validation_split = 0.2, callbacks=[mcp_save])"
   ]
  },
  {
   "cell_type": "markdown",
   "metadata": {},
   "source": [
    "\n",
    "### Evaluate trained model on the feature’s and label’s test sets."
   ]
  },
  {
   "cell_type": "code",
   "execution_count": 26,
   "metadata": {},
   "outputs": [
    {
     "name": "stdout",
     "output_type": "stream",
     "text": [
      "195/195 [==============================] - ETA:  - ETA:  - 0s 590us/step\n"
     ]
    }
   ],
   "source": [
    "model_evaluation_history = model.evaluate(X_test, y_test)"
   ]
  },
  {
   "cell_type": "code",
   "execution_count": 27,
   "metadata": {},
   "outputs": [
    {
     "data": {
      "text/plain": [
       "'C:/1-GG/CAP4/EventDetection/1-ExampleSetting/OutputFiles'"
      ]
     },
     "execution_count": 27,
     "metadata": {},
     "output_type": "execute_result"
    }
   ],
   "source": [
    "### Save model in a folder \n",
    "RootFolder"
   ]
  },
  {
   "cell_type": "code",
   "execution_count": 28,
   "metadata": {},
   "outputs": [],
   "source": [
    "# Saving Model\n",
    "model_name = 'video combined_video-2vdo model_jj.h5'\n",
    "model.save(RootFolder+'/'+model_name)"
   ]
  },
  {
   "cell_type": "markdown",
   "metadata": {},
   "source": [
    "### How to load the model from disk"
   ]
  },
  {
   "cell_type": "code",
   "execution_count": 29,
   "metadata": {},
   "outputs": [
    {
     "data": {
      "text/plain": [
       "'C:/1-GG/CAP4/EventDetection/1-ExampleSetting/OutputFiles'"
      ]
     },
     "execution_count": 29,
     "metadata": {},
     "output_type": "execute_result"
    }
   ],
   "source": [
    "RootFolder"
   ]
  },
  {
   "cell_type": "code",
   "execution_count": 30,
   "metadata": {},
   "outputs": [],
   "source": [
    "model_name = 'video combined_video-2vdo model_jj.h5'\n",
    "\n"
   ]
  },
  {
   "cell_type": "code",
   "execution_count": 31,
   "metadata": {},
   "outputs": [],
   "source": [
    "from tensorflow import keras\n",
    "\n",
    "model = keras.models.load_model(RootFolder+'/'+model_name)\n"
   ]
  },
  {
   "cell_type": "markdown",
   "metadata": {},
   "source": [
    "#### Here"
   ]
  },
  {
   "cell_type": "code",
   "execution_count": null,
   "metadata": {},
   "outputs": [],
   "source": []
  },
  {
   "cell_type": "code",
   "execution_count": null,
   "metadata": {},
   "outputs": [],
   "source": []
  },
  {
   "cell_type": "code",
   "execution_count": null,
   "metadata": {},
   "outputs": [],
   "source": []
  },
  {
   "cell_type": "code",
   "execution_count": null,
   "metadata": {},
   "outputs": [],
   "source": []
  },
  {
   "cell_type": "markdown",
   "metadata": {},
   "source": [
    "### Evaluating our Video Classification Model\n"
   ]
  },
  {
   "cell_type": "code",
   "execution_count": 32,
   "metadata": {},
   "outputs": [],
   "source": [
    "from keras.models import Sequential\n",
    "from keras.layers import Dense, Dropout, Flatten\n",
    "from keras.layers import Conv2D, MaxPooling2D\n",
    "from keras.preprocessing import image\n",
    "import numpy as np\n",
    "import pandas as pd\n",
    "from tqdm import tqdm\n",
    "from keras.applications.vgg16 import VGG16\n",
    "import cv2\n",
    "import math\n",
    "import os\n",
    "from glob import glob\n",
    "from scipy import stats as s\n",
    "\n",
    "from moviepy.editor import *   ###VideoFileClip\n",
    "\n",
    "\n",
    "## pafy, youtube-dl and moviepy packages to be installed\n",
    "##pip install pafy youtube-dl moviepy\n",
    "\n",
    "## Install open cv - make sure numpy already installed\n",
    "#pip install opencv-python\n",
    "#import pafy"
   ]
  },
  {
   "cell_type": "code",
   "execution_count": 33,
   "metadata": {},
   "outputs": [
    {
     "data": {
      "text/plain": [
       "(319, 3)"
      ]
     },
     "execution_count": 33,
     "metadata": {},
     "output_type": "execute_result"
    }
   ],
   "source": [
    "# read testFrames csv\n",
    "testFrames  = pd.read_csv(RootFolder+\"/testFrames.csv\")\n",
    "testFrames.shape"
   ]
  },
  {
   "cell_type": "code",
   "execution_count": 34,
   "metadata": {},
   "outputs": [
    {
     "data": {
      "text/html": [
       "<div>\n",
       "<style scoped>\n",
       "    .dataframe tbody tr th:only-of-type {\n",
       "        vertical-align: middle;\n",
       "    }\n",
       "\n",
       "    .dataframe tbody tr th {\n",
       "        vertical-align: top;\n",
       "    }\n",
       "\n",
       "    .dataframe thead th {\n",
       "        text-align: right;\n",
       "    }\n",
       "</style>\n",
       "<table border=\"1\" class=\"dataframe\">\n",
       "  <thead>\n",
       "    <tr style=\"text-align: right;\">\n",
       "      <th></th>\n",
       "      <th>FrameFilename</th>\n",
       "      <th>FullPathName</th>\n",
       "      <th>class</th>\n",
       "    </tr>\n",
       "  </thead>\n",
       "  <tbody>\n",
       "    <tr>\n",
       "      <th>0</th>\n",
       "      <td>v_Basketball_g01_c01.avi</td>\n",
       "      <td>C:/1-GG/CAP4/EventDetection/1-ExampleSetting\\V...</td>\n",
       "      <td>Basketball</td>\n",
       "    </tr>\n",
       "    <tr>\n",
       "      <th>1</th>\n",
       "      <td>v_Basketball_g01_c01.avi</td>\n",
       "      <td>C:/1-GG/CAP4/EventDetection/1-ExampleSetting\\V...</td>\n",
       "      <td>Basketball</td>\n",
       "    </tr>\n",
       "    <tr>\n",
       "      <th>2</th>\n",
       "      <td>v_Basketball_g01_c01.avi</td>\n",
       "      <td>C:/1-GG/CAP4/EventDetection/1-ExampleSetting\\V...</td>\n",
       "      <td>Basketball</td>\n",
       "    </tr>\n",
       "    <tr>\n",
       "      <th>3</th>\n",
       "      <td>v_Basketball_g01_c01.avi</td>\n",
       "      <td>C:/1-GG/CAP4/EventDetection/1-ExampleSetting\\V...</td>\n",
       "      <td>Basketball</td>\n",
       "    </tr>\n",
       "    <tr>\n",
       "      <th>4</th>\n",
       "      <td>v_Basketball_g01_c01.avi</td>\n",
       "      <td>C:/1-GG/CAP4/EventDetection/1-ExampleSetting\\V...</td>\n",
       "      <td>Basketball</td>\n",
       "    </tr>\n",
       "  </tbody>\n",
       "</table>\n",
       "</div>"
      ],
      "text/plain": [
       "              FrameFilename  \\\n",
       "0  v_Basketball_g01_c01.avi   \n",
       "1  v_Basketball_g01_c01.avi   \n",
       "2  v_Basketball_g01_c01.avi   \n",
       "3  v_Basketball_g01_c01.avi   \n",
       "4  v_Basketball_g01_c01.avi   \n",
       "\n",
       "                                        FullPathName       class  \n",
       "0  C:/1-GG/CAP4/EventDetection/1-ExampleSetting\\V...  Basketball  \n",
       "1  C:/1-GG/CAP4/EventDetection/1-ExampleSetting\\V...  Basketball  \n",
       "2  C:/1-GG/CAP4/EventDetection/1-ExampleSetting\\V...  Basketball  \n",
       "3  C:/1-GG/CAP4/EventDetection/1-ExampleSetting\\V...  Basketball  \n",
       "4  C:/1-GG/CAP4/EventDetection/1-ExampleSetting\\V...  Basketball  "
      ]
     },
     "execution_count": 34,
     "metadata": {},
     "output_type": "execute_result"
    }
   ],
   "source": [
    "testFrames.head()"
   ]
  },
  {
   "cell_type": "code",
   "execution_count": 35,
   "metadata": {},
   "outputs": [
    {
     "name": "stdout",
     "output_type": "stream",
     "text": [
      "['v_Basketball_g01_c01.avi', 'v_Basketball_g01_c01.avi', 'v_Basketball_g01_c01.avi', 'v_Basketball_g01_c01.avi', 'v_Basketball_g01_c01.avi', 'v_Basketball_g01_c02.avi', 'v_Basketball_g01_c02.avi', 'v_Basketball_g01_c02.avi', 'v_Basketball_g01_c02.avi', 'v_Basketball_g01_c02.avi', 'v_Basketball_g01_c02.avi', 'v_Basketball_g01_c02.avi', 'v_Basketball_g01_c03.avi', 'v_Basketball_g01_c03.avi', 'v_Basketball_g01_c03.avi', 'v_Basketball_g01_c03.avi', 'v_Basketball_g01_c03.avi', 'v_Basketball_g01_c03.avi', 'v_Basketball_g01_c03.avi', 'v_Basketball_g01_c03.avi', 'v_Basketball_g01_c04.avi', 'v_Basketball_g01_c04.avi', 'v_Basketball_g01_c04.avi', 'v_Basketball_g01_c04.avi', 'v_Basketball_g01_c05.avi', 'v_Basketball_g01_c05.avi', 'v_Basketball_g01_c05.avi', 'v_Basketball_g01_c05.avi', 'v_Basketball_g01_c05.avi', 'v_Basketball_g01_c06.avi', 'v_Basketball_g01_c06.avi', 'v_Basketball_g01_c06.avi', 'v_Basketball_g01_c06.avi', 'v_Basketball_g01_c06.avi', 'v_Basketball_g01_c06.avi', 'v_Basketball_g01_c07.avi', 'v_Basketball_g01_c07.avi', 'v_Basketball_g01_c07.avi', 'v_Basketball_g01_c07.avi', 'v_Basketball_g02_c01.avi', 'v_Basketball_g02_c01.avi', 'v_Basketball_g02_c02.avi', 'v_Basketball_g02_c02.avi', 'v_Basketball_g02_c03.avi', 'v_Basketball_g02_c03.avi', 'v_Basketball_g02_c03.avi', 'v_Basketball_g02_c03.avi', 'v_Basketball_g02_c04.avi', 'v_Basketball_g02_c04.avi', 'v_Basketball_g02_c04.avi', 'v_Basketball_g02_c05.avi', 'v_Basketball_g02_c05.avi', 'v_Basketball_g02_c05.avi', 'v_Basketball_g02_c05.avi', 'v_Basketball_g02_c05.avi', 'v_Basketball_g02_c06.avi', 'v_Basketball_g02_c06.avi', 'v_Basketball_g02_c06.avi', 'v_Basketball_g02_c06.avi', 'v_Basketball_g02_c06.avi', 'v_Basketball_g03_c01.avi', 'v_Basketball_g03_c01.avi', 'v_Basketball_g03_c01.avi', 'v_Basketball_g03_c01.avi', 'v_Basketball_g03_c01.avi', 'v_Basketball_g03_c02.avi', 'v_Basketball_g03_c02.avi', 'v_Basketball_g03_c02.avi', 'v_Basketball_g03_c02.avi', 'v_Basketball_g03_c02.avi', 'v_Basketball_g03_c03.avi', 'v_Basketball_g03_c03.avi', 'v_Basketball_g03_c03.avi', 'v_Basketball_g03_c03.avi', 'v_Basketball_g03_c03.avi', 'v_Basketball_g03_c04.avi', 'v_Basketball_g03_c04.avi', 'v_Basketball_g03_c04.avi', 'v_Basketball_g03_c05.avi', 'v_Basketball_g03_c05.avi', 'v_Basketball_g03_c05.avi', 'v_Basketball_g03_c05.avi', 'v_Basketball_g03_c05.avi', 'v_Basketball_g03_c06.avi', 'v_Basketball_g03_c06.avi', 'v_Basketball_g03_c06.avi', 'v_Basketball_g04_c01.avi', 'v_Basketball_g04_c01.avi', 'v_Basketball_g04_c01.avi', 'v_Basketball_g04_c01.avi', 'v_Basketball_g04_c02.avi', 'v_Basketball_g04_c02.avi', 'v_Basketball_g04_c02.avi', 'v_Basketball_g04_c02.avi', 'v_Basketball_g04_c03.avi', 'v_Basketball_g04_c03.avi', 'v_Basketball_g04_c03.avi', 'v_Basketball_g04_c03.avi', 'v_Basketball_g04_c04.avi', 'v_Basketball_g04_c04.avi', 'v_Basketball_g04_c04.avi', 'v_Basketball_g05_c01.avi', 'v_Basketball_g05_c01.avi', 'v_Basketball_g05_c01.avi', 'v_Basketball_g05_c01.avi', 'v_Basketball_g05_c01.avi', 'v_Basketball_g05_c02.avi', 'v_Basketball_g05_c02.avi', 'v_Basketball_g05_c02.avi', 'v_Basketball_g05_c02.avi', 'v_Basketball_g05_c03.avi', 'v_Basketball_g05_c03.avi', 'v_Basketball_g05_c03.avi', 'v_Basketball_g05_c03.avi', 'v_Basketball_g05_c04.avi', 'v_Basketball_g05_c04.avi', 'v_Basketball_g05_c04.avi', 'v_Basketball_g06_c01.avi', 'v_Basketball_g06_c01.avi', 'v_Basketball_g06_c01.avi', 'v_Basketball_g06_c02.avi', 'v_Basketball_g06_c02.avi', 'v_Basketball_g06_c02.avi', 'v_Basketball_g06_c02.avi', 'v_Basketball_g06_c03.avi', 'v_Basketball_g06_c03.avi', 'v_Basketball_g06_c03.avi', 'v_Basketball_g06_c03.avi', 'v_Basketball_g06_c04.avi', 'v_Basketball_g06_c04.avi', 'v_Basketball_g06_c04.avi', 'v_Basketball_g07_c01.avi', 'v_Basketball_g07_c01.avi', 'v_Basketball_g07_c01.avi', 'v_Basketball_g07_c01.avi', 'v_Basketball_g07_c01.avi', 'v_Basketball_g07_c02.avi', 'v_Basketball_g07_c02.avi', 'v_Basketball_g07_c02.avi', 'v_Basketball_g07_c02.avi', 'v_Basketball_g07_c03.avi', 'v_Basketball_g07_c03.avi', 'v_Basketball_g07_c03.avi', 'v_Basketball_g07_c03.avi', 'v_Basketball_g07_c03.avi', 'v_Basketball_g07_c03.avi', 'v_Basketball_g07_c04.avi', 'v_Basketball_g07_c04.avi', 'v_Basketball_g07_c04.avi', 'v_Basketball_g07_c04.avi', 'v_SoccerPenalty_g01_c01.avi', 'v_SoccerPenalty_g01_c01.avi', 'v_SoccerPenalty_g01_c01.avi', 'v_SoccerPenalty_g01_c01.avi', 'v_SoccerPenalty_g01_c01.avi', 'v_SoccerPenalty_g01_c01.avi', 'v_SoccerPenalty_g01_c01.avi', 'v_SoccerPenalty_g01_c02.avi', 'v_SoccerPenalty_g01_c02.avi', 'v_SoccerPenalty_g01_c02.avi', 'v_SoccerPenalty_g01_c02.avi', 'v_SoccerPenalty_g01_c02.avi', 'v_SoccerPenalty_g01_c02.avi', 'v_SoccerPenalty_g01_c03.avi', 'v_SoccerPenalty_g01_c03.avi', 'v_SoccerPenalty_g01_c03.avi', 'v_SoccerPenalty_g01_c03.avi', 'v_SoccerPenalty_g01_c03.avi', 'v_SoccerPenalty_g01_c03.avi', 'v_SoccerPenalty_g01_c04.avi', 'v_SoccerPenalty_g01_c04.avi', 'v_SoccerPenalty_g01_c04.avi', 'v_SoccerPenalty_g01_c04.avi', 'v_SoccerPenalty_g01_c04.avi', 'v_SoccerPenalty_g01_c04.avi', 'v_SoccerPenalty_g01_c05.avi', 'v_SoccerPenalty_g01_c05.avi', 'v_SoccerPenalty_g01_c05.avi', 'v_SoccerPenalty_g01_c05.avi', 'v_SoccerPenalty_g01_c05.avi', 'v_SoccerPenalty_g01_c06.avi', 'v_SoccerPenalty_g01_c06.avi', 'v_SoccerPenalty_g01_c06.avi', 'v_SoccerPenalty_g01_c06.avi', 'v_SoccerPenalty_g02_c01.avi', 'v_SoccerPenalty_g02_c01.avi', 'v_SoccerPenalty_g02_c01.avi', 'v_SoccerPenalty_g02_c01.avi', 'v_SoccerPenalty_g02_c01.avi', 'v_SoccerPenalty_g02_c02.avi', 'v_SoccerPenalty_g02_c02.avi', 'v_SoccerPenalty_g02_c02.avi', 'v_SoccerPenalty_g02_c02.avi', 'v_SoccerPenalty_g02_c03.avi', 'v_SoccerPenalty_g02_c03.avi', 'v_SoccerPenalty_g02_c03.avi', 'v_SoccerPenalty_g02_c03.avi', 'v_SoccerPenalty_g02_c04.avi', 'v_SoccerPenalty_g02_c04.avi', 'v_SoccerPenalty_g02_c04.avi', 'v_SoccerPenalty_g02_c04.avi', 'v_SoccerPenalty_g02_c04.avi', 'v_SoccerPenalty_g02_c05.avi', 'v_SoccerPenalty_g02_c05.avi', 'v_SoccerPenalty_g02_c05.avi', 'v_SoccerPenalty_g02_c05.avi', 'v_SoccerPenalty_g03_c01.avi', 'v_SoccerPenalty_g03_c01.avi', 'v_SoccerPenalty_g03_c01.avi', 'v_SoccerPenalty_g03_c01.avi', 'v_SoccerPenalty_g03_c02.avi', 'v_SoccerPenalty_g03_c02.avi', 'v_SoccerPenalty_g03_c02.avi', 'v_SoccerPenalty_g03_c02.avi', 'v_SoccerPenalty_g03_c03.avi', 'v_SoccerPenalty_g03_c03.avi', 'v_SoccerPenalty_g03_c03.avi', 'v_SoccerPenalty_g03_c03.avi', 'v_SoccerPenalty_g03_c03.avi', 'v_SoccerPenalty_g03_c03.avi', 'v_SoccerPenalty_g03_c04.avi', 'v_SoccerPenalty_g03_c04.avi', 'v_SoccerPenalty_g03_c04.avi', 'v_SoccerPenalty_g03_c04.avi', 'v_SoccerPenalty_g03_c05.avi', 'v_SoccerPenalty_g03_c05.avi', 'v_SoccerPenalty_g03_c05.avi', 'v_SoccerPenalty_g04_c01.avi', 'v_SoccerPenalty_g04_c01.avi', 'v_SoccerPenalty_g04_c01.avi', 'v_SoccerPenalty_g04_c02.avi', 'v_SoccerPenalty_g04_c02.avi', 'v_SoccerPenalty_g04_c02.avi', 'v_SoccerPenalty_g04_c03.avi', 'v_SoccerPenalty_g04_c03.avi', 'v_SoccerPenalty_g04_c03.avi', 'v_SoccerPenalty_g04_c04.avi', 'v_SoccerPenalty_g04_c04.avi', 'v_SoccerPenalty_g04_c04.avi', 'v_SoccerPenalty_g04_c04.avi', 'v_SoccerPenalty_g04_c05.avi', 'v_SoccerPenalty_g04_c05.avi', 'v_SoccerPenalty_g04_c05.avi', 'v_SoccerPenalty_g04_c05.avi', 'v_SoccerPenalty_g04_c05.avi', 'v_SoccerPenalty_g05_c01.avi', 'v_SoccerPenalty_g05_c01.avi', 'v_SoccerPenalty_g05_c01.avi', 'v_SoccerPenalty_g05_c01.avi', 'v_SoccerPenalty_g05_c02.avi', 'v_SoccerPenalty_g05_c02.avi', 'v_SoccerPenalty_g05_c02.avi', 'v_SoccerPenalty_g05_c02.avi', 'v_SoccerPenalty_g05_c03.avi', 'v_SoccerPenalty_g05_c03.avi', 'v_SoccerPenalty_g05_c03.avi', 'v_SoccerPenalty_g05_c03.avi', 'v_SoccerPenalty_g05_c04.avi', 'v_SoccerPenalty_g05_c04.avi', 'v_SoccerPenalty_g05_c04.avi', 'v_SoccerPenalty_g05_c04.avi', 'v_SoccerPenalty_g05_c05.avi', 'v_SoccerPenalty_g05_c05.avi', 'v_SoccerPenalty_g05_c05.avi', 'v_SoccerPenalty_g05_c05.avi', 'v_SoccerPenalty_g05_c06.avi', 'v_SoccerPenalty_g05_c06.avi', 'v_SoccerPenalty_g05_c06.avi', 'v_SoccerPenalty_g05_c07.avi', 'v_SoccerPenalty_g05_c07.avi', 'v_SoccerPenalty_g05_c07.avi', 'v_SoccerPenalty_g05_c07.avi', 'v_SoccerPenalty_g05_c07.avi', 'v_SoccerPenalty_g05_c07.avi', 'v_SoccerPenalty_g06_c01.avi', 'v_SoccerPenalty_g06_c01.avi', 'v_SoccerPenalty_g06_c01.avi', 'v_SoccerPenalty_g06_c01.avi', 'v_SoccerPenalty_g06_c01.avi', 'v_SoccerPenalty_g06_c02.avi', 'v_SoccerPenalty_g06_c02.avi', 'v_SoccerPenalty_g06_c03.avi', 'v_SoccerPenalty_g06_c03.avi', 'v_SoccerPenalty_g06_c03.avi', 'v_SoccerPenalty_g06_c04.avi', 'v_SoccerPenalty_g06_c04.avi', 'v_SoccerPenalty_g06_c04.avi', 'v_SoccerPenalty_g06_c05.avi', 'v_SoccerPenalty_g06_c05.avi', 'v_SoccerPenalty_g06_c05.avi', 'v_SoccerPenalty_g06_c06.avi', 'v_SoccerPenalty_g06_c06.avi', 'v_SoccerPenalty_g06_c06.avi', 'v_SoccerPenalty_g06_c06.avi', 'v_SoccerPenalty_g06_c07.avi', 'v_SoccerPenalty_g06_c07.avi', 'v_SoccerPenalty_g06_c07.avi', 'v_SoccerPenalty_g07_c01.avi', 'v_SoccerPenalty_g07_c01.avi', 'v_SoccerPenalty_g07_c01.avi', 'v_SoccerPenalty_g07_c02.avi', 'v_SoccerPenalty_g07_c02.avi', 'v_SoccerPenalty_g07_c02.avi', 'v_SoccerPenalty_g07_c02.avi', 'v_SoccerPenalty_g07_c02.avi', 'v_SoccerPenalty_g07_c02.avi', 'v_SoccerPenalty_g07_c03.avi', 'v_SoccerPenalty_g07_c03.avi', 'v_SoccerPenalty_g07_c03.avi', 'v_SoccerPenalty_g07_c04.avi', 'v_SoccerPenalty_g07_c04.avi', 'v_SoccerPenalty_g07_c04.avi', 'v_SoccerPenalty_g07_c05.avi', 'v_SoccerPenalty_g07_c05.avi', 'v_SoccerPenalty_g07_c05.avi', 'v_SoccerPenalty_g07_c06.avi', 'v_SoccerPenalty_g07_c06.avi', 'v_SoccerPenalty_g07_c06.avi', 'v_SoccerPenalty_g07_c06.avi']"
     ]
    },
    {
     "name": "stdout",
     "output_type": "stream",
     "text": [
      "\n"
     ]
    }
   ],
   "source": [
    "# Extract each vdo from testFrames \n",
    "testSetVDOlist = testFrames[\"FrameFilename\"].tolist()\n",
    "print(testSetVDOlist)"
   ]
  },
  {
   "cell_type": "code",
   "execution_count": 36,
   "metadata": {},
   "outputs": [
    {
     "name": "stdout",
     "output_type": "stream",
     "text": [
      "319\n",
      "76\n"
     ]
    }
   ],
   "source": [
    "print(len(testSetVDOlist))\n",
    "\n",
    "# Remove Duplicates From vdo list - as a vdo file has many frame images\n",
    "testSetVDOlist = list(dict.fromkeys(testSetVDOlist))\n",
    "print(len(testSetVDOlist))\n",
    " "
   ]
  },
  {
   "cell_type": "code",
   "execution_count": 37,
   "metadata": {},
   "outputs": [
    {
     "data": {
      "text/plain": [
       "['v_Basketball_g01_c01.avi',\n",
       " 'v_Basketball_g01_c02.avi',\n",
       " 'v_Basketball_g01_c03.avi',\n",
       " 'v_Basketball_g01_c04.avi',\n",
       " 'v_Basketball_g01_c05.avi',\n",
       " 'v_Basketball_g01_c06.avi',\n",
       " 'v_Basketball_g01_c07.avi',\n",
       " 'v_Basketball_g02_c01.avi',\n",
       " 'v_Basketball_g02_c02.avi',\n",
       " 'v_Basketball_g02_c03.avi',\n",
       " 'v_Basketball_g02_c04.avi',\n",
       " 'v_Basketball_g02_c05.avi',\n",
       " 'v_Basketball_g02_c06.avi',\n",
       " 'v_Basketball_g03_c01.avi',\n",
       " 'v_Basketball_g03_c02.avi',\n",
       " 'v_Basketball_g03_c03.avi',\n",
       " 'v_Basketball_g03_c04.avi',\n",
       " 'v_Basketball_g03_c05.avi',\n",
       " 'v_Basketball_g03_c06.avi',\n",
       " 'v_Basketball_g04_c01.avi',\n",
       " 'v_Basketball_g04_c02.avi',\n",
       " 'v_Basketball_g04_c03.avi',\n",
       " 'v_Basketball_g04_c04.avi',\n",
       " 'v_Basketball_g05_c01.avi',\n",
       " 'v_Basketball_g05_c02.avi',\n",
       " 'v_Basketball_g05_c03.avi',\n",
       " 'v_Basketball_g05_c04.avi',\n",
       " 'v_Basketball_g06_c01.avi',\n",
       " 'v_Basketball_g06_c02.avi',\n",
       " 'v_Basketball_g06_c03.avi',\n",
       " 'v_Basketball_g06_c04.avi',\n",
       " 'v_Basketball_g07_c01.avi',\n",
       " 'v_Basketball_g07_c02.avi',\n",
       " 'v_Basketball_g07_c03.avi',\n",
       " 'v_Basketball_g07_c04.avi',\n",
       " 'v_SoccerPenalty_g01_c01.avi',\n",
       " 'v_SoccerPenalty_g01_c02.avi',\n",
       " 'v_SoccerPenalty_g01_c03.avi',\n",
       " 'v_SoccerPenalty_g01_c04.avi',\n",
       " 'v_SoccerPenalty_g01_c05.avi',\n",
       " 'v_SoccerPenalty_g01_c06.avi',\n",
       " 'v_SoccerPenalty_g02_c01.avi',\n",
       " 'v_SoccerPenalty_g02_c02.avi',\n",
       " 'v_SoccerPenalty_g02_c03.avi',\n",
       " 'v_SoccerPenalty_g02_c04.avi',\n",
       " 'v_SoccerPenalty_g02_c05.avi',\n",
       " 'v_SoccerPenalty_g03_c01.avi',\n",
       " 'v_SoccerPenalty_g03_c02.avi',\n",
       " 'v_SoccerPenalty_g03_c03.avi',\n",
       " 'v_SoccerPenalty_g03_c04.avi',\n",
       " 'v_SoccerPenalty_g03_c05.avi',\n",
       " 'v_SoccerPenalty_g04_c01.avi',\n",
       " 'v_SoccerPenalty_g04_c02.avi',\n",
       " 'v_SoccerPenalty_g04_c03.avi',\n",
       " 'v_SoccerPenalty_g04_c04.avi',\n",
       " 'v_SoccerPenalty_g04_c05.avi',\n",
       " 'v_SoccerPenalty_g05_c01.avi',\n",
       " 'v_SoccerPenalty_g05_c02.avi',\n",
       " 'v_SoccerPenalty_g05_c03.avi',\n",
       " 'v_SoccerPenalty_g05_c04.avi',\n",
       " 'v_SoccerPenalty_g05_c05.avi',\n",
       " 'v_SoccerPenalty_g05_c06.avi',\n",
       " 'v_SoccerPenalty_g05_c07.avi',\n",
       " 'v_SoccerPenalty_g06_c01.avi',\n",
       " 'v_SoccerPenalty_g06_c02.avi',\n",
       " 'v_SoccerPenalty_g06_c03.avi',\n",
       " 'v_SoccerPenalty_g06_c04.avi',\n",
       " 'v_SoccerPenalty_g06_c05.avi',\n",
       " 'v_SoccerPenalty_g06_c06.avi',\n",
       " 'v_SoccerPenalty_g06_c07.avi',\n",
       " 'v_SoccerPenalty_g07_c01.avi',\n",
       " 'v_SoccerPenalty_g07_c02.avi',\n",
       " 'v_SoccerPenalty_g07_c03.avi',\n",
       " 'v_SoccerPenalty_g07_c04.avi',\n",
       " 'v_SoccerPenalty_g07_c05.avi',\n",
       " 'v_SoccerPenalty_g07_c06.avi']"
      ]
     },
     "execution_count": 37,
     "metadata": {},
     "output_type": "execute_result"
    }
   ],
   "source": [
    "testSetVDOlist"
   ]
  },
  {
   "cell_type": "code",
   "execution_count": 38,
   "metadata": {},
   "outputs": [],
   "source": [
    "# separating the target\n",
    "# To map the predicted categories with the actual categories, we will use train frame class:\n",
    "y = trainFrames['class']\n",
    "y = pd.get_dummies(y)"
   ]
  },
  {
   "cell_type": "code",
   "execution_count": 39,
   "metadata": {},
   "outputs": [
    {
     "data": {
      "text/html": [
       "<div>\n",
       "<style scoped>\n",
       "    .dataframe tbody tr th:only-of-type {\n",
       "        vertical-align: middle;\n",
       "    }\n",
       "\n",
       "    .dataframe tbody tr th {\n",
       "        vertical-align: top;\n",
       "    }\n",
       "\n",
       "    .dataframe thead th {\n",
       "        text-align: right;\n",
       "    }\n",
       "</style>\n",
       "<table border=\"1\" class=\"dataframe\">\n",
       "  <thead>\n",
       "    <tr style=\"text-align: right;\">\n",
       "      <th></th>\n",
       "      <th>Basketball</th>\n",
       "      <th>SoccerPenalty</th>\n",
       "    </tr>\n",
       "  </thead>\n",
       "  <tbody>\n",
       "    <tr>\n",
       "      <th>0</th>\n",
       "      <td>1</td>\n",
       "      <td>0</td>\n",
       "    </tr>\n",
       "    <tr>\n",
       "      <th>1</th>\n",
       "      <td>1</td>\n",
       "      <td>0</td>\n",
       "    </tr>\n",
       "    <tr>\n",
       "      <th>2</th>\n",
       "      <td>1</td>\n",
       "      <td>0</td>\n",
       "    </tr>\n",
       "    <tr>\n",
       "      <th>3</th>\n",
       "      <td>1</td>\n",
       "      <td>0</td>\n",
       "    </tr>\n",
       "    <tr>\n",
       "      <th>4</th>\n",
       "      <td>1</td>\n",
       "      <td>0</td>\n",
       "    </tr>\n",
       "    <tr>\n",
       "      <th>...</th>\n",
       "      <td>...</td>\n",
       "      <td>...</td>\n",
       "    </tr>\n",
       "    <tr>\n",
       "      <th>968</th>\n",
       "      <td>0</td>\n",
       "      <td>1</td>\n",
       "    </tr>\n",
       "    <tr>\n",
       "      <th>969</th>\n",
       "      <td>0</td>\n",
       "      <td>1</td>\n",
       "    </tr>\n",
       "    <tr>\n",
       "      <th>970</th>\n",
       "      <td>0</td>\n",
       "      <td>1</td>\n",
       "    </tr>\n",
       "    <tr>\n",
       "      <th>971</th>\n",
       "      <td>0</td>\n",
       "      <td>1</td>\n",
       "    </tr>\n",
       "    <tr>\n",
       "      <th>972</th>\n",
       "      <td>0</td>\n",
       "      <td>1</td>\n",
       "    </tr>\n",
       "  </tbody>\n",
       "</table>\n",
       "<p>973 rows × 2 columns</p>\n",
       "</div>"
      ],
      "text/plain": [
       "     Basketball  SoccerPenalty\n",
       "0             1              0\n",
       "1             1              0\n",
       "2             1              0\n",
       "3             1              0\n",
       "4             1              0\n",
       "..          ...            ...\n",
       "968           0              1\n",
       "969           0              1\n",
       "970           0              1\n",
       "971           0              1\n",
       "972           0              1\n",
       "\n",
       "[973 rows x 2 columns]"
      ]
     },
     "execution_count": 39,
     "metadata": {},
     "output_type": "execute_result"
    }
   ],
   "source": [
    "y"
   ]
  },
  {
   "cell_type": "code",
   "execution_count": null,
   "metadata": {},
   "outputs": [],
   "source": []
  },
  {
   "cell_type": "markdown",
   "metadata": {},
   "source": [
    "### Example"
   ]
  },
  {
   "cell_type": "code",
   "execution_count": 40,
   "metadata": {},
   "outputs": [
    {
     "data": {
      "text/plain": [
       "'v_Basketball_g01_c02.avi'"
      ]
     },
     "execution_count": 40,
     "metadata": {},
     "output_type": "execute_result"
    }
   ],
   "source": [
    "testSetVDOlist[1]"
   ]
  },
  {
   "cell_type": "code",
   "execution_count": 41,
   "metadata": {},
   "outputs": [
    {
     "data": {
      "text/html": [
       "<div>\n",
       "<style scoped>\n",
       "    .dataframe tbody tr th:only-of-type {\n",
       "        vertical-align: middle;\n",
       "    }\n",
       "\n",
       "    .dataframe tbody tr th {\n",
       "        vertical-align: top;\n",
       "    }\n",
       "\n",
       "    .dataframe thead th {\n",
       "        text-align: right;\n",
       "    }\n",
       "</style>\n",
       "<table border=\"1\" class=\"dataframe\">\n",
       "  <thead>\n",
       "    <tr style=\"text-align: right;\">\n",
       "      <th></th>\n",
       "      <th>FrameFilename</th>\n",
       "      <th>FullPathName</th>\n",
       "      <th>class</th>\n",
       "    </tr>\n",
       "  </thead>\n",
       "  <tbody>\n",
       "    <tr>\n",
       "      <th>5</th>\n",
       "      <td>v_Basketball_g01_c02.avi</td>\n",
       "      <td>C:/1-GG/CAP4/EventDetection/1-ExampleSetting\\V...</td>\n",
       "      <td>Basketball</td>\n",
       "    </tr>\n",
       "    <tr>\n",
       "      <th>6</th>\n",
       "      <td>v_Basketball_g01_c02.avi</td>\n",
       "      <td>C:/1-GG/CAP4/EventDetection/1-ExampleSetting\\V...</td>\n",
       "      <td>Basketball</td>\n",
       "    </tr>\n",
       "    <tr>\n",
       "      <th>7</th>\n",
       "      <td>v_Basketball_g01_c02.avi</td>\n",
       "      <td>C:/1-GG/CAP4/EventDetection/1-ExampleSetting\\V...</td>\n",
       "      <td>Basketball</td>\n",
       "    </tr>\n",
       "    <tr>\n",
       "      <th>8</th>\n",
       "      <td>v_Basketball_g01_c02.avi</td>\n",
       "      <td>C:/1-GG/CAP4/EventDetection/1-ExampleSetting\\V...</td>\n",
       "      <td>Basketball</td>\n",
       "    </tr>\n",
       "    <tr>\n",
       "      <th>9</th>\n",
       "      <td>v_Basketball_g01_c02.avi</td>\n",
       "      <td>C:/1-GG/CAP4/EventDetection/1-ExampleSetting\\V...</td>\n",
       "      <td>Basketball</td>\n",
       "    </tr>\n",
       "  </tbody>\n",
       "</table>\n",
       "</div>"
      ],
      "text/plain": [
       "              FrameFilename  \\\n",
       "5  v_Basketball_g01_c02.avi   \n",
       "6  v_Basketball_g01_c02.avi   \n",
       "7  v_Basketball_g01_c02.avi   \n",
       "8  v_Basketball_g01_c02.avi   \n",
       "9  v_Basketball_g01_c02.avi   \n",
       "\n",
       "                                        FullPathName       class  \n",
       "5  C:/1-GG/CAP4/EventDetection/1-ExampleSetting\\V...  Basketball  \n",
       "6  C:/1-GG/CAP4/EventDetection/1-ExampleSetting\\V...  Basketball  \n",
       "7  C:/1-GG/CAP4/EventDetection/1-ExampleSetting\\V...  Basketball  \n",
       "8  C:/1-GG/CAP4/EventDetection/1-ExampleSetting\\V...  Basketball  \n",
       "9  C:/1-GG/CAP4/EventDetection/1-ExampleSetting\\V...  Basketball  "
      ]
     },
     "execution_count": 41,
     "metadata": {},
     "output_type": "execute_result"
    }
   ],
   "source": [
    "temp_df = testFrames.loc[(testFrames.FrameFilename == testSetVDOlist[1])]\n",
    "temp_df.head()"
   ]
  },
  {
   "cell_type": "code",
   "execution_count": 42,
   "metadata": {},
   "outputs": [
    {
     "data": {
      "text/html": [
       "<div>\n",
       "<style scoped>\n",
       "    .dataframe tbody tr th:only-of-type {\n",
       "        vertical-align: middle;\n",
       "    }\n",
       "\n",
       "    .dataframe tbody tr th {\n",
       "        vertical-align: top;\n",
       "    }\n",
       "\n",
       "    .dataframe thead th {\n",
       "        text-align: right;\n",
       "    }\n",
       "</style>\n",
       "<table border=\"1\" class=\"dataframe\">\n",
       "  <thead>\n",
       "    <tr style=\"text-align: right;\">\n",
       "      <th></th>\n",
       "      <th>FrameFilename</th>\n",
       "      <th>FullPathName</th>\n",
       "      <th>class</th>\n",
       "    </tr>\n",
       "  </thead>\n",
       "  <tbody>\n",
       "    <tr>\n",
       "      <th>0</th>\n",
       "      <td>v_Basketball_g01_c02.avi</td>\n",
       "      <td>C:/1-GG/CAP4/EventDetection/1-ExampleSetting\\V...</td>\n",
       "      <td>Basketball</td>\n",
       "    </tr>\n",
       "    <tr>\n",
       "      <th>1</th>\n",
       "      <td>v_Basketball_g01_c02.avi</td>\n",
       "      <td>C:/1-GG/CAP4/EventDetection/1-ExampleSetting\\V...</td>\n",
       "      <td>Basketball</td>\n",
       "    </tr>\n",
       "    <tr>\n",
       "      <th>2</th>\n",
       "      <td>v_Basketball_g01_c02.avi</td>\n",
       "      <td>C:/1-GG/CAP4/EventDetection/1-ExampleSetting\\V...</td>\n",
       "      <td>Basketball</td>\n",
       "    </tr>\n",
       "    <tr>\n",
       "      <th>3</th>\n",
       "      <td>v_Basketball_g01_c02.avi</td>\n",
       "      <td>C:/1-GG/CAP4/EventDetection/1-ExampleSetting\\V...</td>\n",
       "      <td>Basketball</td>\n",
       "    </tr>\n",
       "    <tr>\n",
       "      <th>4</th>\n",
       "      <td>v_Basketball_g01_c02.avi</td>\n",
       "      <td>C:/1-GG/CAP4/EventDetection/1-ExampleSetting\\V...</td>\n",
       "      <td>Basketball</td>\n",
       "    </tr>\n",
       "  </tbody>\n",
       "</table>\n",
       "</div>"
      ],
      "text/plain": [
       "              FrameFilename  \\\n",
       "0  v_Basketball_g01_c02.avi   \n",
       "1  v_Basketball_g01_c02.avi   \n",
       "2  v_Basketball_g01_c02.avi   \n",
       "3  v_Basketball_g01_c02.avi   \n",
       "4  v_Basketball_g01_c02.avi   \n",
       "\n",
       "                                        FullPathName       class  \n",
       "0  C:/1-GG/CAP4/EventDetection/1-ExampleSetting\\V...  Basketball  \n",
       "1  C:/1-GG/CAP4/EventDetection/1-ExampleSetting\\V...  Basketball  \n",
       "2  C:/1-GG/CAP4/EventDetection/1-ExampleSetting\\V...  Basketball  \n",
       "3  C:/1-GG/CAP4/EventDetection/1-ExampleSetting\\V...  Basketball  \n",
       "4  C:/1-GG/CAP4/EventDetection/1-ExampleSetting\\V...  Basketball  "
      ]
     },
     "execution_count": 42,
     "metadata": {},
     "output_type": "execute_result"
    }
   ],
   "source": [
    "temp_df = temp_df.reset_index(drop=True)  # reset index\n",
    "temp_df.head()"
   ]
  },
  {
   "cell_type": "code",
   "execution_count": 43,
   "metadata": {},
   "outputs": [
    {
     "name": "stdout",
     "output_type": "stream",
     "text": [
      "Basketball\n"
     ]
    }
   ],
   "source": [
    "print(temp_df['class'][0])"
   ]
  },
  {
   "cell_type": "code",
   "execution_count": 44,
   "metadata": {},
   "outputs": [
    {
     "name": "stdout",
     "output_type": "stream",
     "text": [
      "v_Basketball_g01_c01.avi\n",
      "Basketball\n",
      "v_Basketball_g01_c02.avi\n",
      "Basketball\n",
      "v_Basketball_g01_c03.avi\n",
      "Basketball\n",
      "v_Basketball_g01_c04.avi\n",
      "Basketball\n",
      "v_Basketball_g01_c05.avi\n",
      "Basketball\n",
      "v_Basketball_g01_c06.avi\n",
      "Basketball\n",
      "v_Basketball_g01_c07.avi\n",
      "Basketball\n",
      "v_Basketball_g02_c01.avi\n",
      "Basketball\n",
      "v_Basketball_g02_c02.avi\n",
      "Basketball\n",
      "v_Basketball_g02_c03.avi\n",
      "Basketball\n",
      "v_Basketball_g02_c04.avi\n",
      "Basketball\n",
      "v_Basketball_g02_c05.avi\n",
      "Basketball\n",
      "v_Basketball_g02_c06.avi\n",
      "Basketball\n",
      "v_Basketball_g03_c01.avi\n",
      "Basketball\n",
      "v_Basketball_g03_c02.avi\n",
      "Basketball\n",
      "v_Basketball_g03_c03.avi\n",
      "Basketball\n",
      "v_Basketball_g03_c04.avi\n",
      "Basketball\n",
      "v_Basketball_g03_c05.avi\n",
      "Basketball\n",
      "v_Basketball_g03_c06.avi\n",
      "Basketball\n",
      "v_Basketball_g04_c01.avi\n",
      "Basketball\n",
      "v_Basketball_g04_c02.avi\n",
      "Basketball\n",
      "v_Basketball_g04_c03.avi\n",
      "Basketball\n",
      "v_Basketball_g04_c04.avi\n",
      "Basketball\n",
      "v_Basketball_g05_c01.avi\n",
      "Basketball\n",
      "v_Basketball_g05_c02.avi\n",
      "Basketball\n",
      "v_Basketball_g05_c03.avi\n",
      "Basketball\n",
      "v_Basketball_g05_c04.avi\n",
      "Basketball\n",
      "v_Basketball_g06_c01.avi\n",
      "Basketball\n",
      "v_Basketball_g06_c02.avi\n",
      "Basketball\n",
      "v_Basketball_g06_c03.avi\n",
      "Basketball\n",
      "v_Basketball_g06_c04.avi\n",
      "Basketball\n",
      "v_Basketball_g07_c01.avi\n",
      "Basketball\n",
      "v_Basketball_g07_c02.avi\n",
      "Basketball\n",
      "v_Basketball_g07_c03.avi\n",
      "Basketball\n",
      "v_Basketball_g07_c04.avi\n",
      "Basketball\n",
      "v_SoccerPenalty_g01_c01.avi\n",
      "SoccerPenalty\n",
      "v_SoccerPenalty_g01_c02.avi\n",
      "SoccerPenalty\n",
      "v_SoccerPenalty_g01_c03.avi\n",
      "SoccerPenalty\n",
      "v_SoccerPenalty_g01_c04.avi\n",
      "SoccerPenalty\n",
      "v_SoccerPenalty_g01_c05.avi\n",
      "SoccerPenalty\n",
      "v_SoccerPenalty_g01_c06.avi\n",
      "SoccerPenalty\n",
      "v_SoccerPenalty_g02_c01.avi\n",
      "SoccerPenalty\n",
      "v_SoccerPenalty_g02_c02.avi\n",
      "SoccerPenalty\n",
      "v_SoccerPenalty_g02_c03.avi\n",
      "SoccerPenalty\n",
      "v_SoccerPenalty_g02_c04.avi\n",
      "SoccerPenalty\n",
      "v_SoccerPenalty_g02_c05.avi\n",
      "SoccerPenalty\n",
      "v_SoccerPenalty_g03_c01.avi\n",
      "SoccerPenalty\n",
      "v_SoccerPenalty_g03_c02.avi\n",
      "SoccerPenalty\n",
      "v_SoccerPenalty_g03_c03.avi\n",
      "SoccerPenalty\n",
      "v_SoccerPenalty_g03_c04.avi\n",
      "SoccerPenalty\n",
      "v_SoccerPenalty_g03_c05.avi\n",
      "SoccerPenalty\n",
      "v_SoccerPenalty_g04_c01.avi\n",
      "SoccerPenalty\n",
      "v_SoccerPenalty_g04_c02.avi\n",
      "SoccerPenalty\n",
      "v_SoccerPenalty_g04_c03.avi\n",
      "SoccerPenalty\n",
      "v_SoccerPenalty_g04_c04.avi\n",
      "SoccerPenalty\n",
      "v_SoccerPenalty_g04_c05.avi\n",
      "SoccerPenalty\n",
      "v_SoccerPenalty_g05_c01.avi\n",
      "SoccerPenalty\n",
      "v_SoccerPenalty_g05_c02.avi\n",
      "SoccerPenalty\n",
      "v_SoccerPenalty_g05_c03.avi\n",
      "SoccerPenalty\n",
      "v_SoccerPenalty_g05_c04.avi\n",
      "SoccerPenalty\n",
      "v_SoccerPenalty_g05_c05.avi\n",
      "SoccerPenalty\n",
      "v_SoccerPenalty_g05_c06.avi\n",
      "SoccerPenalty\n",
      "v_SoccerPenalty_g05_c07.avi\n",
      "SoccerPenalty\n",
      "v_SoccerPenalty_g06_c01.avi\n",
      "SoccerPenalty\n",
      "v_SoccerPenalty_g06_c02.avi\n",
      "SoccerPenalty\n",
      "v_SoccerPenalty_g06_c03.avi\n",
      "SoccerPenalty\n",
      "v_SoccerPenalty_g06_c04.avi\n",
      "SoccerPenalty\n",
      "v_SoccerPenalty_g06_c05.avi\n",
      "SoccerPenalty\n",
      "v_SoccerPenalty_g06_c06.avi\n",
      "SoccerPenalty\n",
      "v_SoccerPenalty_g06_c07.avi\n",
      "SoccerPenalty\n",
      "v_SoccerPenalty_g07_c01.avi\n",
      "SoccerPenalty\n",
      "v_SoccerPenalty_g07_c02.avi\n",
      "SoccerPenalty\n",
      "v_SoccerPenalty_g07_c03.avi\n",
      "SoccerPenalty\n",
      "v_SoccerPenalty_g07_c04.avi\n",
      "SoccerPenalty\n",
      "v_SoccerPenalty_g07_c05.avi\n",
      "SoccerPenalty\n",
      "v_SoccerPenalty_g07_c06.avi\n",
      "SoccerPenalty\n"
     ]
    }
   ],
   "source": [
    "\n",
    "    \n",
    "for i in range(len(testSetVDOlist)):\n",
    "    print(testSetVDOlist[i])\n",
    "    temp_df = testFrames.loc[(testFrames.FrameFilename == testSetVDOlist[i])]\n",
    "    temp_df = temp_df.reset_index(drop=True)  # reset index\n",
    "    print(temp_df['class'][0])\n",
    "    #print(temp_df.shape)"
   ]
  },
  {
   "cell_type": "code",
   "execution_count": 45,
   "metadata": {},
   "outputs": [
    {
     "data": {
      "text/html": [
       "<div>\n",
       "<style scoped>\n",
       "    .dataframe tbody tr th:only-of-type {\n",
       "        vertical-align: middle;\n",
       "    }\n",
       "\n",
       "    .dataframe tbody tr th {\n",
       "        vertical-align: top;\n",
       "    }\n",
       "\n",
       "    .dataframe thead th {\n",
       "        text-align: right;\n",
       "    }\n",
       "</style>\n",
       "<table border=\"1\" class=\"dataframe\">\n",
       "  <thead>\n",
       "    <tr style=\"text-align: right;\">\n",
       "      <th></th>\n",
       "      <th>FrameFilename</th>\n",
       "      <th>FullPathName</th>\n",
       "      <th>class</th>\n",
       "    </tr>\n",
       "  </thead>\n",
       "  <tbody>\n",
       "    <tr>\n",
       "      <th>0</th>\n",
       "      <td>v_SoccerPenalty_g07_c06.avi</td>\n",
       "      <td>C:/1-GG/CAP4/EventDetection/1-ExampleSetting\\V...</td>\n",
       "      <td>SoccerPenalty</td>\n",
       "    </tr>\n",
       "    <tr>\n",
       "      <th>1</th>\n",
       "      <td>v_SoccerPenalty_g07_c06.avi</td>\n",
       "      <td>C:/1-GG/CAP4/EventDetection/1-ExampleSetting\\V...</td>\n",
       "      <td>SoccerPenalty</td>\n",
       "    </tr>\n",
       "    <tr>\n",
       "      <th>2</th>\n",
       "      <td>v_SoccerPenalty_g07_c06.avi</td>\n",
       "      <td>C:/1-GG/CAP4/EventDetection/1-ExampleSetting\\V...</td>\n",
       "      <td>SoccerPenalty</td>\n",
       "    </tr>\n",
       "    <tr>\n",
       "      <th>3</th>\n",
       "      <td>v_SoccerPenalty_g07_c06.avi</td>\n",
       "      <td>C:/1-GG/CAP4/EventDetection/1-ExampleSetting\\V...</td>\n",
       "      <td>SoccerPenalty</td>\n",
       "    </tr>\n",
       "  </tbody>\n",
       "</table>\n",
       "</div>"
      ],
      "text/plain": [
       "                 FrameFilename  \\\n",
       "0  v_SoccerPenalty_g07_c06.avi   \n",
       "1  v_SoccerPenalty_g07_c06.avi   \n",
       "2  v_SoccerPenalty_g07_c06.avi   \n",
       "3  v_SoccerPenalty_g07_c06.avi   \n",
       "\n",
       "                                        FullPathName          class  \n",
       "0  C:/1-GG/CAP4/EventDetection/1-ExampleSetting\\V...  SoccerPenalty  \n",
       "1  C:/1-GG/CAP4/EventDetection/1-ExampleSetting\\V...  SoccerPenalty  \n",
       "2  C:/1-GG/CAP4/EventDetection/1-ExampleSetting\\V...  SoccerPenalty  \n",
       "3  C:/1-GG/CAP4/EventDetection/1-ExampleSetting\\V...  SoccerPenalty  "
      ]
     },
     "execution_count": 45,
     "metadata": {},
     "output_type": "execute_result"
    }
   ],
   "source": [
    "#print(temp_df['class'][i])\n",
    "temp_df.head()"
   ]
  },
  {
   "cell_type": "markdown",
   "metadata": {},
   "source": [
    "### end of Example"
   ]
  },
  {
   "cell_type": "code",
   "execution_count": 46,
   "metadata": {},
   "outputs": [
    {
     "name": "stderr",
     "output_type": "stream",
     "text": [
      "100%|████████████████████████████████████████████████████████████████████████████████████| 5/5 [00:00<00:00, 96.16it/s]\n"
     ]
    },
    {
     "name": "stdout",
     "output_type": "stream",
     "text": [
      "WARNING:tensorflow:From <ipython-input-46-132a12531729>:48: Sequential.predict_classes (from tensorflow.python.keras.engine.sequential) is deprecated and will be removed after 2021-01-01.\n",
      "Instructions for updating:\n",
      "Please use instead:* `np.argmax(model.predict(x), axis=-1)`,   if your model does multi-class classification   (e.g. if it uses a `softmax` last-layer activation).* `(model.predict(x) > 0.5).astype(\"int32\")`,   if your model does binary classification   (e.g. if it uses a `sigmoid` last-layer activation).\n"
     ]
    },
    {
     "name": "stderr",
     "output_type": "stream",
     "text": [
      "100%|███████████████████████████████████████████████████████████████████████████████████| 7/7 [00:00<00:00, 304.35it/s]\n",
      "100%|███████████████████████████████████████████████████████████████████████████████████| 8/8 [00:00<00:00, 380.96it/s]\n",
      "100%|███████████████████████████████████████████████████████████████████████████████████| 4/4 [00:00<00:00, 363.97it/s]\n",
      "100%|███████████████████████████████████████████████████████████████████████████████████| 5/5 [00:00<00:00, 385.83it/s]\n",
      "100%|███████████████████████████████████████████████████████████████████████████████████| 6/6 [00:00<00:00, 461.60it/s]\n",
      "100%|███████████████████████████████████████████████████████████████████████████████████| 4/4 [00:00<00:00, 210.52it/s]\n",
      "100%|███████████████████████████████████████████████████████████████████████████████████| 2/2 [00:00<00:00, 285.87it/s]\n",
      "100%|███████████████████████████████████████████████████████████████████████████████████| 2/2 [00:00<00:00, 333.76it/s]\n",
      "100%|███████████████████████████████████████████████████████████████████████████████████| 4/4 [00:00<00:00, 363.63it/s]\n",
      "100%|███████████████████████████████████████████████████████████████████████████████████| 3/3 [00:00<00:00, 333.34it/s]\n",
      "100%|███████████████████████████████████████████████████████████████████████████████████| 5/5 [00:00<00:00, 333.33it/s]\n",
      "100%|███████████████████████████████████████████████████████████████████████████████████| 5/5 [00:00<00:00, 263.19it/s]\n",
      "100%|███████████████████████████████████████████████████████████████████████████████████| 5/5 [00:00<00:00, 312.56it/s]\n",
      "100%|███████████████████████████████████████████████████████████████████████████████████| 5/5 [00:00<00:00, 249.97it/s]\n",
      "100%|███████████████████████████████████████████████████████████████████████████████████| 5/5 [00:00<00:00, 227.25it/s]\n",
      "100%|███████████████████████████████████████████████████████████████████████████████████| 3/3 [00:00<00:00, 214.26it/s]\n",
      "100%|███████████████████████████████████████████████████████████████████████████████████| 5/5 [00:00<00:00, 178.56it/s]\n",
      "100%|███████████████████████████████████████████████████████████████████████████████████| 3/3 [00:00<00:00, 142.76it/s]\n",
      "100%|███████████████████████████████████████████████████████████████████████████████████| 4/4 [00:00<00:00, 222.24it/s]\n",
      "100%|███████████████████████████████████████████████████████████████████████████████████| 4/4 [00:00<00:00, 181.82it/s]\n",
      "100%|███████████████████████████████████████████████████████████████████████████████████| 4/4 [00:00<00:00, 181.75it/s]\n",
      "100%|███████████████████████████████████████████████████████████████████████████████████| 3/3 [00:00<00:00, 200.11it/s]\n",
      "100%|███████████████████████████████████████████████████████████████████████████████████| 5/5 [00:00<00:00, 142.85it/s]\n",
      "100%|███████████████████████████████████████████████████████████████████████████████████| 4/4 [00:00<00:00, 222.15it/s]\n",
      "100%|████████████████████████████████████████████████████████████████████████████████████| 4/4 [00:00<00:00, 33.90it/s]\n",
      "100%|███████████████████████████████████████████████████████████████████████████████████| 3/3 [00:00<00:00, 176.44it/s]\n",
      "100%|███████████████████████████████████████████████████████████████████████████████████| 3/3 [00:00<00:00, 214.50it/s]\n",
      "100%|███████████████████████████████████████████████████████████████████████████████████| 4/4 [00:00<00:00, 249.82it/s]\n",
      "100%|███████████████████████████████████████████████████████████████████████████████████| 4/4 [00:00<00:00, 222.21it/s]\n",
      "100%|███████████████████████████████████████████████████████████████████████████████████| 3/3 [00:00<00:00, 300.01it/s]\n",
      "100%|███████████████████████████████████████████████████████████████████████████████████| 5/5 [00:00<00:00, 384.71it/s]\n",
      "100%|███████████████████████████████████████████████████████████████████████████████████| 4/4 [00:00<00:00, 399.60it/s]\n",
      "100%|███████████████████████████████████████████████████████████████████████████████████| 6/6 [00:00<00:00, 230.78it/s]\n",
      "100%|███████████████████████████████████████████████████████████████████████████████████| 4/4 [00:00<00:00, 310.35it/s]\n",
      "100%|███████████████████████████████████████████████████████████████████████████████████| 7/7 [00:00<00:00, 249.94it/s]\n",
      "100%|███████████████████████████████████████████████████████████████████████████████████| 6/6 [00:00<00:00, 272.70it/s]\n",
      "100%|███████████████████████████████████████████████████████████████████████████████████| 6/6 [00:00<00:00, 315.80it/s]\n",
      "100%|███████████████████████████████████████████████████████████████████████████████████| 6/6 [00:00<00:00, 230.73it/s]\n",
      "100%|███████████████████████████████████████████████████████████████████████████████████| 5/5 [00:00<00:00, 238.04it/s]\n",
      "100%|███████████████████████████████████████████████████████████████████████████████████| 4/4 [00:00<00:00, 363.68it/s]\n",
      "100%|███████████████████████████████████████████████████████████████████████████████████| 5/5 [00:00<00:00, 384.63it/s]\n",
      "100%|███████████████████████████████████████████████████████████████████████████████████| 4/4 [00:00<00:00, 444.21it/s]\n",
      "100%|███████████████████████████████████████████████████████████████████████████████████| 4/4 [00:00<00:00, 399.83it/s]\n",
      "100%|███████████████████████████████████████████████████████████████████████████████████| 5/5 [00:00<00:00, 277.79it/s]\n",
      "100%|███████████████████████████████████████████████████████████████████████████████████| 4/4 [00:00<00:00, 285.73it/s]\n",
      "100%|███████████████████████████████████████████████████████████████████████████████████| 4/4 [00:00<00:00, 444.31it/s]\n",
      "100%|███████████████████████████████████████████████████████████████████████████████████| 4/4 [00:00<00:00, 444.14it/s]\n",
      "100%|███████████████████████████████████████████████████████████████████████████████████| 6/6 [00:00<00:00, 333.33it/s]\n",
      "100%|███████████████████████████████████████████████████████████████████████████████████| 4/4 [00:00<00:00, 285.46it/s]\n",
      "100%|███████████████████████████████████████████████████████████████████████████████████| 3/3 [00:00<00:00, 272.52it/s]\n",
      "100%|███████████████████████████████████████████████████████████████████████████████████| 3/3 [00:00<00:00, 249.71it/s]\n",
      "100%|███████████████████████████████████████████████████████████████████████████████████| 3/3 [00:00<00:00, 249.86it/s]\n",
      "100%|███████████████████████████████████████████████████████████████████████████████████| 3/3 [00:00<00:00, 333.11it/s]\n",
      "100%|███████████████████████████████████████████████████████████████████████████████████| 4/4 [00:00<00:00, 307.74it/s]\n",
      "100%|███████████████████████████████████████████████████████████████████████████████████| 5/5 [00:00<00:00, 416.71it/s]\n",
      "100%|███████████████████████████████████████████████████████████████████████████████████| 4/4 [00:00<00:00, 363.53it/s]\n",
      "100%|███████████████████████████████████████████████████████████████████████████████████| 4/4 [00:00<00:00, 443.04it/s]\n",
      "100%|███████████████████████████████████████████████████████████████████████████████████| 4/4 [00:00<00:00, 398.54it/s]\n",
      "100%|███████████████████████████████████████████████████████████████████████████████████| 4/4 [00:00<00:00, 444.44it/s]\n",
      "100%|███████████████████████████████████████████████████████████████████████████████████| 4/4 [00:00<00:00, 444.54it/s]\n",
      "100%|███████████████████████████████████████████████████████████████████████████████████| 3/3 [00:00<00:00, 499.20it/s]\n",
      "100%|███████████████████████████████████████████████████████████████████████████████████| 6/6 [00:00<00:00, 429.08it/s]\n",
      "100%|███████████████████████████████████████████████████████████████████████████████████| 5/5 [00:00<00:00, 501.50it/s]\n",
      "100%|███████████████████████████████████████████████████████████████████████████████████| 2/2 [00:00<00:00, 499.65it/s]\n",
      "100%|███████████████████████████████████████████████████████████████████████████████████| 3/3 [00:00<00:00, 500.27it/s]\n",
      "100%|███████████████████████████████████████████████████████████████████████████████████| 3/3 [00:00<00:00, 428.41it/s]\n",
      "100%|███████████████████████████████████████████████████████████████████████████████████| 3/3 [00:00<00:00, 374.79it/s]\n",
      "100%|███████████████████████████████████████████████████████████████████████████████████| 4/4 [00:00<00:00, 399.98it/s]\n"
     ]
    },
    {
     "name": "stderr",
     "output_type": "stream",
     "text": [
      "100%|███████████████████████████████████████████████████████████████████████████████████| 3/3 [00:00<00:00, 428.56it/s]\n",
      "100%|███████████████████████████████████████████████████████████████████████████████████| 3/3 [00:00<00:00, 374.63it/s]\n",
      "100%|███████████████████████████████████████████████████████████████████████████████████| 6/6 [00:00<00:00, 499.99it/s]\n",
      "100%|███████████████████████████████████████████████████████████████████████████████████| 3/3 [00:00<00:00, 427.22it/s]\n",
      "100%|███████████████████████████████████████████████████████████████████████████████████| 3/3 [00:00<00:00, 428.63it/s]\n",
      "100%|███████████████████████████████████████████████████████████████████████████████████| 3/3 [00:00<00:00, 499.86it/s]\n",
      "100%|███████████████████████████████████████████████████████████████████████████████████| 4/4 [00:00<00:00, 442.81it/s]\n"
     ]
    }
   ],
   "source": [
    "# for loop to read and store test frames\n",
    "# creating two lists to store predicted and actual tags\n",
    "predict = []\n",
    "actual = []\n",
    "indent_variable   = []\n",
    "\n",
    "for i in range(len(testSetVDOlist)):\n",
    "    #print(testSetVDOlist[i])\n",
    "    temp_df = testFrames.loc[(testFrames.FrameFilename == testSetVDOlist[i])] # all frames of a particular vdo\n",
    "    temp_df = temp_df.reset_index(drop=True)  # reset index\n",
    "    #print(temp_df.shape)  \n",
    "   \n",
    "    prediction_images = []\n",
    "    \n",
    "    # appending the actual class of the video\n",
    "    \n",
    "    actual.append(temp_df['class'][0])\n",
    "    #print(\"Actual:\" , actual)\n",
    "\n",
    "    # appending the vdo file name as indent\n",
    "    indent_variable.append(temp_df['FrameFilename'][0])\n",
    "    #print(\"Indent:\" ,indent_variable)\n",
    "\n",
    "    for i in tqdm(range(temp_df.shape[0])):  ### Loop through all frames of a particular vdo\n",
    "        \n",
    " \n",
    "        # loading the image and keeping the target size as (224,224,3)\n",
    "        img = image.load_img(temp_df['FullPathName'][i], target_size=(224,224,3))\n",
    "        # converting it to array\n",
    "        img = image.img_to_array(img)\n",
    "        # normalizing the pixel value\n",
    "        img = img/255\n",
    "        # appending the image to the image list\n",
    "        prediction_images.append(img)\n",
    "        #print(\"Prediction:\" , prediction_images)\n",
    "        \n",
    "    # converting the list to numpy array\n",
    "    prediction_images = np.array(prediction_images)\n",
    "\n",
    "    # extracting features using pre-trained model\n",
    "    prediction_images = base_model.predict(prediction_images)\n",
    "\n",
    "    # converting features in one dimensional array\n",
    "    prediction_images = prediction_images.reshape(prediction_images.shape[0], 7*7*512)\n",
    "\n",
    "    # predicting class for each array.\n",
    "    # predict_classes() function on model in order to predict the class values for each instance in the array.\n",
    "    prediction = model.predict_classes(prediction_images)\n",
    "    #print(\"Prediction:\" , prediction)\n",
    "    # appending the mode of predictions (Class that occurs on highest frrequency) in predict list to assign the class to the video\n",
    "    predict.append(y.columns.values[s.mode(prediction)[0][0]])\n",
    "\n"
   ]
  },
  {
   "cell_type": "code",
   "execution_count": 47,
   "metadata": {},
   "outputs": [
    {
     "data": {
      "text/plain": [
       "array([1, 1, 1, 1], dtype=int64)"
      ]
     },
     "execution_count": 47,
     "metadata": {},
     "output_type": "execute_result"
    }
   ],
   "source": [
    "prediction"
   ]
  },
  {
   "cell_type": "code",
   "execution_count": 48,
   "metadata": {},
   "outputs": [
    {
     "data": {
      "text/plain": [
       "'SoccerPenalty'"
      ]
     },
     "execution_count": 48,
     "metadata": {},
     "output_type": "execute_result"
    }
   ],
   "source": [
    "y.columns.values[s.mode(prediction)[0][0]]"
   ]
  },
  {
   "cell_type": "code",
   "execution_count": 49,
   "metadata": {},
   "outputs": [
    {
     "data": {
      "text/html": [
       "<div>\n",
       "<style scoped>\n",
       "    .dataframe tbody tr th:only-of-type {\n",
       "        vertical-align: middle;\n",
       "    }\n",
       "\n",
       "    .dataframe tbody tr th {\n",
       "        vertical-align: top;\n",
       "    }\n",
       "\n",
       "    .dataframe thead th {\n",
       "        text-align: right;\n",
       "    }\n",
       "</style>\n",
       "<table border=\"1\" class=\"dataframe\">\n",
       "  <thead>\n",
       "    <tr style=\"text-align: right;\">\n",
       "      <th></th>\n",
       "      <th>VdOFileName</th>\n",
       "      <th>ActualClass</th>\n",
       "      <th>PredictedClass</th>\n",
       "    </tr>\n",
       "  </thead>\n",
       "  <tbody>\n",
       "    <tr>\n",
       "      <th>0</th>\n",
       "      <td>v_Basketball_g01_c01.avi</td>\n",
       "      <td>Basketball</td>\n",
       "      <td>Basketball</td>\n",
       "    </tr>\n",
       "    <tr>\n",
       "      <th>1</th>\n",
       "      <td>v_Basketball_g01_c02.avi</td>\n",
       "      <td>Basketball</td>\n",
       "      <td>Basketball</td>\n",
       "    </tr>\n",
       "    <tr>\n",
       "      <th>2</th>\n",
       "      <td>v_Basketball_g01_c03.avi</td>\n",
       "      <td>Basketball</td>\n",
       "      <td>Basketball</td>\n",
       "    </tr>\n",
       "    <tr>\n",
       "      <th>3</th>\n",
       "      <td>v_Basketball_g01_c04.avi</td>\n",
       "      <td>Basketball</td>\n",
       "      <td>Basketball</td>\n",
       "    </tr>\n",
       "    <tr>\n",
       "      <th>4</th>\n",
       "      <td>v_Basketball_g01_c05.avi</td>\n",
       "      <td>Basketball</td>\n",
       "      <td>Basketball</td>\n",
       "    </tr>\n",
       "    <tr>\n",
       "      <th>...</th>\n",
       "      <td>...</td>\n",
       "      <td>...</td>\n",
       "      <td>...</td>\n",
       "    </tr>\n",
       "    <tr>\n",
       "      <th>71</th>\n",
       "      <td>v_SoccerPenalty_g07_c02.avi</td>\n",
       "      <td>SoccerPenalty</td>\n",
       "      <td>SoccerPenalty</td>\n",
       "    </tr>\n",
       "    <tr>\n",
       "      <th>72</th>\n",
       "      <td>v_SoccerPenalty_g07_c03.avi</td>\n",
       "      <td>SoccerPenalty</td>\n",
       "      <td>SoccerPenalty</td>\n",
       "    </tr>\n",
       "    <tr>\n",
       "      <th>73</th>\n",
       "      <td>v_SoccerPenalty_g07_c04.avi</td>\n",
       "      <td>SoccerPenalty</td>\n",
       "      <td>SoccerPenalty</td>\n",
       "    </tr>\n",
       "    <tr>\n",
       "      <th>74</th>\n",
       "      <td>v_SoccerPenalty_g07_c05.avi</td>\n",
       "      <td>SoccerPenalty</td>\n",
       "      <td>SoccerPenalty</td>\n",
       "    </tr>\n",
       "    <tr>\n",
       "      <th>75</th>\n",
       "      <td>v_SoccerPenalty_g07_c06.avi</td>\n",
       "      <td>SoccerPenalty</td>\n",
       "      <td>SoccerPenalty</td>\n",
       "    </tr>\n",
       "  </tbody>\n",
       "</table>\n",
       "<p>76 rows × 3 columns</p>\n",
       "</div>"
      ],
      "text/plain": [
       "                    VdOFileName    ActualClass PredictedClass\n",
       "0      v_Basketball_g01_c01.avi     Basketball     Basketball\n",
       "1      v_Basketball_g01_c02.avi     Basketball     Basketball\n",
       "2      v_Basketball_g01_c03.avi     Basketball     Basketball\n",
       "3      v_Basketball_g01_c04.avi     Basketball     Basketball\n",
       "4      v_Basketball_g01_c05.avi     Basketball     Basketball\n",
       "..                          ...            ...            ...\n",
       "71  v_SoccerPenalty_g07_c02.avi  SoccerPenalty  SoccerPenalty\n",
       "72  v_SoccerPenalty_g07_c03.avi  SoccerPenalty  SoccerPenalty\n",
       "73  v_SoccerPenalty_g07_c04.avi  SoccerPenalty  SoccerPenalty\n",
       "74  v_SoccerPenalty_g07_c05.avi  SoccerPenalty  SoccerPenalty\n",
       "75  v_SoccerPenalty_g07_c06.avi  SoccerPenalty  SoccerPenalty\n",
       "\n",
       "[76 rows x 3 columns]"
      ]
     },
     "execution_count": 49,
     "metadata": {},
     "output_type": "execute_result"
    }
   ],
   "source": [
    "# Calling DataFrame constructor after zipping\n",
    "# both lists, with columns specified\n",
    "EvalFinalOutput = pd.DataFrame(list(zip(indent_variable, actual ,predict )),\n",
    "               columns =['VdOFileName', 'ActualClass' , 'PredictedClass'])\n",
    "EvalFinalOutput"
   ]
  },
  {
   "cell_type": "code",
   "execution_count": 50,
   "metadata": {},
   "outputs": [],
   "source": [
    "EvalFinalOutput.to_csv(RootFolder+'/EvalFinalOutput.csv',header=True, index=False)"
   ]
  }
 ],
 "metadata": {
  "kernelspec": {
   "display_name": "Python 3",
   "language": "python",
   "name": "python3"
  },
  "language_info": {
   "codemirror_mode": {
    "name": "ipython",
    "version": 3
   },
   "file_extension": ".py",
   "mimetype": "text/x-python",
   "name": "python",
   "nbconvert_exporter": "python",
   "pygments_lexer": "ipython3",
   "version": "3.7.4"
  }
 },
 "nbformat": 4,
 "nbformat_minor": 4
}
