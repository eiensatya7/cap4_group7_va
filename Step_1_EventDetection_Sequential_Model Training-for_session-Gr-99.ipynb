{
 "cells": [
  {
   "cell_type": "markdown",
   "metadata": {},
   "source": [
    "### Training the Video Classification Model"
   ]
  },
  {
   "cell_type": "markdown",
   "metadata": {},
   "source": [
    "### This script does - VGG16"
   ]
  },
  {
   "cell_type": "code",
   "execution_count": 2,
   "metadata": {},
   "outputs": [],
   "source": [
    "import keras\n",
    "from keras.models import Sequential\n",
    "from keras.applications.vgg16 import VGG16\n",
    "from keras.layers import Dense, InputLayer, Dropout, Flatten\n",
    "from keras.layers import Conv2D, MaxPooling2D, GlobalMaxPooling2D\n",
    "from keras.preprocessing import image\n",
    "import numpy as np\n",
    "import pandas as pd\n",
    "import matplotlib.pyplot as plt\n",
    "from tqdm import tqdm\n",
    "from sklearn.model_selection import train_test_split\n",
    "\n",
    "import pickle\n",
    "\n",
    "import time\n",
    "\n",
    "\n",
    " \n",
    "\n",
    "\n"
   ]
  },
  {
   "cell_type": "code",
   "execution_count": 3,
   "metadata": {},
   "outputs": [],
   "source": [
    "Drive = \"C:\"\n",
    "## Define root folder\n",
    "RootFolder = Drive+\"/1-GG/CAP4/EventDetection/1-ExampleSetting/OutputFiles\"\n",
    "\n",
    "\n"
   ]
  },
  {
   "cell_type": "code",
   "execution_count": 4,
   "metadata": {},
   "outputs": [
    {
     "data": {
      "text/html": [
       "<div>\n",
       "<style scoped>\n",
       "    .dataframe tbody tr th:only-of-type {\n",
       "        vertical-align: middle;\n",
       "    }\n",
       "\n",
       "    .dataframe tbody tr th {\n",
       "        vertical-align: top;\n",
       "    }\n",
       "\n",
       "    .dataframe thead th {\n",
       "        text-align: right;\n",
       "    }\n",
       "</style>\n",
       "<table border=\"1\" class=\"dataframe\">\n",
       "  <thead>\n",
       "    <tr style=\"text-align: right;\">\n",
       "      <th></th>\n",
       "      <th>FrameFilename</th>\n",
       "      <th>FullPathName</th>\n",
       "      <th>class</th>\n",
       "    </tr>\n",
       "  </thead>\n",
       "  <tbody>\n",
       "    <tr>\n",
       "      <th>0</th>\n",
       "      <td>MoreBasketBallVdo.mp4</td>\n",
       "      <td>C:/1-GG/CAP4/EventDetection/1-ExampleSetting\\V...</td>\n",
       "      <td>Basketball</td>\n",
       "    </tr>\n",
       "    <tr>\n",
       "      <th>1</th>\n",
       "      <td>MoreBasketBallVdo.mp4</td>\n",
       "      <td>C:/1-GG/CAP4/EventDetection/1-ExampleSetting\\V...</td>\n",
       "      <td>Basketball</td>\n",
       "    </tr>\n",
       "    <tr>\n",
       "      <th>2</th>\n",
       "      <td>MoreBasketBallVdo.mp4</td>\n",
       "      <td>C:/1-GG/CAP4/EventDetection/1-ExampleSetting\\V...</td>\n",
       "      <td>Basketball</td>\n",
       "    </tr>\n",
       "    <tr>\n",
       "      <th>3</th>\n",
       "      <td>MoreBasketBallVdo.mp4</td>\n",
       "      <td>C:/1-GG/CAP4/EventDetection/1-ExampleSetting\\V...</td>\n",
       "      <td>Basketball</td>\n",
       "    </tr>\n",
       "    <tr>\n",
       "      <th>4</th>\n",
       "      <td>MoreBasketBallVdo.mp4</td>\n",
       "      <td>C:/1-GG/CAP4/EventDetection/1-ExampleSetting\\V...</td>\n",
       "      <td>Basketball</td>\n",
       "    </tr>\n",
       "  </tbody>\n",
       "</table>\n",
       "</div>"
      ],
      "text/plain": [
       "           FrameFilename                                       FullPathName  \\\n",
       "0  MoreBasketBallVdo.mp4  C:/1-GG/CAP4/EventDetection/1-ExampleSetting\\V...   \n",
       "1  MoreBasketBallVdo.mp4  C:/1-GG/CAP4/EventDetection/1-ExampleSetting\\V...   \n",
       "2  MoreBasketBallVdo.mp4  C:/1-GG/CAP4/EventDetection/1-ExampleSetting\\V...   \n",
       "3  MoreBasketBallVdo.mp4  C:/1-GG/CAP4/EventDetection/1-ExampleSetting\\V...   \n",
       "4  MoreBasketBallVdo.mp4  C:/1-GG/CAP4/EventDetection/1-ExampleSetting\\V...   \n",
       "\n",
       "        class  \n",
       "0  Basketball  \n",
       "1  Basketball  \n",
       "2  Basketball  \n",
       "3  Basketball  \n",
       "4  Basketball  "
      ]
     },
     "execution_count": 4,
     "metadata": {},
     "output_type": "execute_result"
    }
   ],
   "source": [
    "trainFrames  = pd.read_csv(RootFolder+\"/trainFrames.csv\")\n",
    "\n",
    "trainFrames.head()"
   ]
  },
  {
   "cell_type": "code",
   "execution_count": 5,
   "metadata": {
    "scrolled": true
   },
   "outputs": [
    {
     "data": {
      "text/plain": [
       "(2072, 3)"
      ]
     },
     "execution_count": 5,
     "metadata": {},
     "output_type": "execute_result"
    }
   ],
   "source": [
    "trainFrames.shape"
   ]
  },
  {
   "cell_type": "code",
   "execution_count": 6,
   "metadata": {},
   "outputs": [
    {
     "name": "stdout",
     "output_type": "stream",
     "text": [
      "['Basketball', 'SoccerPenalty']\n",
      "2\n"
     ]
    }
   ],
   "source": [
    "# Get the unique values of 'class' column - How many distinct classes\n",
    "model_class = trainFrames['class'].unique().tolist()\n",
    "print(model_class)\n",
    "model_output_size = len(model_class)\n",
    "print(model_output_size)\n"
   ]
  },
  {
   "cell_type": "code",
   "execution_count": 7,
   "metadata": {},
   "outputs": [
    {
     "data": {
      "text/plain": [
       "2072"
      ]
     },
     "execution_count": 7,
     "metadata": {},
     "output_type": "execute_result"
    }
   ],
   "source": [
    "trainFrames.shape[0]"
   ]
  },
  {
   "cell_type": "code",
   "execution_count": 8,
   "metadata": {},
   "outputs": [
    {
     "data": {
      "text/plain": [
       "'C:/1-GG/CAP4/EventDetection/1-ExampleSetting\\\\VDOFrames/MoreBasketBallVdo_frame0.jpg'"
      ]
     },
     "execution_count": 8,
     "metadata": {},
     "output_type": "execute_result"
    }
   ],
   "source": [
    "trainFrames['FullPathName'][0]"
   ]
  },
  {
   "cell_type": "code",
   "execution_count": null,
   "metadata": {},
   "outputs": [],
   "source": []
  },
  {
   "cell_type": "code",
   "execution_count": 9,
   "metadata": {},
   "outputs": [],
   "source": [
    "from keras.models import Sequential\n",
    "from keras.layers import Dense, Dropout, Flatten\n",
    "from keras.layers import Conv2D, MaxPooling2D\n",
    "from keras.preprocessing import image\n",
    "import numpy as np\n",
    "import pandas as pd\n",
    "from tqdm import tqdm\n",
    "from keras.applications.vgg16 import VGG16\n",
    "import cv2\n",
    "import math\n",
    "import os\n",
    "from glob import glob\n",
    "from scipy import stats as s\n",
    "\n",
    "from moviepy.editor import *   ###VideoFileClip\n",
    "\n",
    "\n",
    "## pafy, youtube-dl and moviepy packages to be installed\n",
    "##pip install pafy youtube-dl moviepy\n",
    "\n",
    "## Install open cv - make sure numpy already installed\n",
    "#pip install opencv-python\n",
    "#import pafy\n",
    "\n",
    "from moviepy.editor import *   ###VideoFileClip\n",
    "\n",
    "\n",
    "## pafy, youtube-dl and moviepy packages to be installed\n",
    "##pip install pafy youtube-dl moviepy\n",
    "\n",
    "## Install open cv - make sure numpy already installed\n",
    "#pip install opencv-python\n",
    "#import train_image "
   ]
  },
  {
   "cell_type": "code",
   "execution_count": 10,
   "metadata": {},
   "outputs": [
    {
     "name": "stderr",
     "output_type": "stream",
     "text": [
      "100%|█████████████████████████████████████████████████████████████████████████████| 2072/2072 [00:18<00:00, 113.88it/s]\n"
     ]
    },
    {
     "data": {
      "text/plain": [
       "(2072, 224, 224, 3)"
      ]
     },
     "execution_count": 10,
     "metadata": {},
     "output_type": "execute_result"
    }
   ],
   "source": [
    "train_image = []\n",
    "\n",
    "# for loop to read and store frames\n",
    "for i in tqdm(range(trainFrames.shape[0])):\n",
    "    # loading the image and keeping the target size as (224,224,3)\n",
    "    # three-dimensional array containing the red, green, and blue pixel intensities. \n",
    "    #Image has been reformated to be 224-by-224 pixels in size.\n",
    "    img = image.load_img(trainFrames['FullPathName'][i], target_size=(224,224,3))\n",
    "    #print(img.shape)\n",
    "    # converting it to array\n",
    "    img = image.img_to_array(img)\n",
    "    \n",
    "    # Normalize the resized frame by dividing it with 255 so that each pixel value then lies between 0 and 1\n",
    "    img = img/255\n",
    "    # appending the image to the train_image list\n",
    "    train_image.append(img)\n",
    "    \n",
    "# converting the list to numpy array\n",
    "X = np.array(train_image)\n",
    "\n",
    "# shape of the array\n",
    "X.shape"
   ]
  },
  {
   "cell_type": "code",
   "execution_count": 11,
   "metadata": {},
   "outputs": [],
   "source": [
    "# make sure that the distribution of each class is similar in both training and validation sets. \n",
    "# We can use the stratify parameter\n",
    "\n",
    "# separating the target\n",
    "y = trainFrames['class']\n",
    "\n",
    "# creating the training and validation set\n",
    "X_train, X_test, y_train, y_test = train_test_split(X, y, random_state=42, test_size=0.2, stratify = y)"
   ]
  },
  {
   "cell_type": "code",
   "execution_count": 12,
   "metadata": {},
   "outputs": [],
   "source": [
    "# creating dummies of target variable for train and validation set\n",
    "y_train = pd.get_dummies(y_train)\n",
    "y_test = pd.get_dummies(y_test)"
   ]
  },
  {
   "cell_type": "markdown",
   "metadata": {},
   "source": [
    "### Defining the architecture of the video classification model"
   ]
  },
  {
   "cell_type": "markdown",
   "metadata": {},
   "source": [
    "### VGG16 on ImageNet\n",
    "\n",
    "https://franky07724-57962.medium.com/using-keras-pre-trained-models-for-feature-extraction-in-image-clustering-a142c6cdf5b1\n",
    "\n",
    "\n",
    "#### Keras provides a set of state-of-the-art deep learning models along with pre-trained weights on ImageNet. These pre-trained models can be used for image classification, feature extraction, and transfer learning\n",
    "\n",
    "##### VGG16 refers to a VGG model with 16 weight layers, and VGG19 refers to a VGG model with 19 weight layers.  \n",
    "#####  1.The input layer takes an image in the size of (224 x 224 x 3), and the output layer is a softmax prediction on classes.\n",
    "\n",
    "#####  2.From the input layer to the last max pooling layer (labeled by 7 x 7 x 512) is regarded as the feature extraction part of the model, \n",
    "\n",
    "##### 3 while the rest of the network is regarded as the classification part of the model.\n",
    "\n",
    "## VGG-16 pre-trained model will be used\n",
    "### https://machinelearningmastery.com/use-pre-trained-vgg-model-classify-objects-photographs/"
   ]
  },
  {
   "cell_type": "code",
   "execution_count": null,
   "metadata": {},
   "outputs": [],
   "source": []
  },
  {
   "cell_type": "markdown",
   "metadata": {},
   "source": [
    "### creating the base model of pre-trained VGG16 model\n"
   ]
  },
  {
   "cell_type": "code",
   "execution_count": 13,
   "metadata": {},
   "outputs": [
    {
     "name": "stdout",
     "output_type": "stream",
     "text": [
      "Model: \"vgg16\"\n",
      "_________________________________________________________________\n",
      "Layer (type)                 Output Shape              Param #   \n",
      "=================================================================\n",
      "input_1 (InputLayer)         (None, None, None, 3)     0         \n",
      "_________________________________________________________________\n",
      "block1_conv1 (Conv2D)        (None, None, None, 64)    1792      \n",
      "_________________________________________________________________\n",
      "block1_conv2 (Conv2D)        (None, None, None, 64)    36928     \n",
      "_________________________________________________________________\n",
      "block1_pool (MaxPooling2D)   (None, None, None, 64)    0         \n",
      "_________________________________________________________________\n",
      "block2_conv1 (Conv2D)        (None, None, None, 128)   73856     \n",
      "_________________________________________________________________\n",
      "block2_conv2 (Conv2D)        (None, None, None, 128)   147584    \n",
      "_________________________________________________________________\n",
      "block2_pool (MaxPooling2D)   (None, None, None, 128)   0         \n",
      "_________________________________________________________________\n",
      "block3_conv1 (Conv2D)        (None, None, None, 256)   295168    \n",
      "_________________________________________________________________\n",
      "block3_conv2 (Conv2D)        (None, None, None, 256)   590080    \n",
      "_________________________________________________________________\n",
      "block3_conv3 (Conv2D)        (None, None, None, 256)   590080    \n",
      "_________________________________________________________________\n",
      "block3_pool (MaxPooling2D)   (None, None, None, 256)   0         \n",
      "_________________________________________________________________\n",
      "block4_conv1 (Conv2D)        (None, None, None, 512)   1180160   \n",
      "_________________________________________________________________\n",
      "block4_conv2 (Conv2D)        (None, None, None, 512)   2359808   \n",
      "_________________________________________________________________\n",
      "block4_conv3 (Conv2D)        (None, None, None, 512)   2359808   \n",
      "_________________________________________________________________\n",
      "block4_pool (MaxPooling2D)   (None, None, None, 512)   0         \n",
      "_________________________________________________________________\n",
      "block5_conv1 (Conv2D)        (None, None, None, 512)   2359808   \n",
      "_________________________________________________________________\n",
      "block5_conv2 (Conv2D)        (None, None, None, 512)   2359808   \n",
      "_________________________________________________________________\n",
      "block5_conv3 (Conv2D)        (None, None, None, 512)   2359808   \n",
      "_________________________________________________________________\n",
      "block5_pool (MaxPooling2D)   (None, None, None, 512)   0         \n",
      "=================================================================\n",
      "Total params: 14,714,688\n",
      "Trainable params: 14,714,688\n",
      "Non-trainable params: 0\n",
      "_________________________________________________________________\n"
     ]
    }
   ],
   "source": [
    "\n",
    "# creating the base model of pre-trained VGG16 model\n",
    "base_model = VGG16(weights='imagenet', include_top=False)\n",
    "\n",
    "### set include_top = False it overlooks the last 3 Fully Connected(FC) layers \n",
    "\n",
    "\n",
    "base_model.summary()"
   ]
  },
  {
   "cell_type": "markdown",
   "metadata": {},
   "source": [
    "### vgg16 (without last 3 Fully Connected(FC)) is an impressively large neural network. It has 14,714,688 parameters. \n",
    "To see all paratemer use \n",
    "vgg19_full = VGG19(weights='imagenet')\n",
    "vgg19_full.summary()"
   ]
  },
  {
   "cell_type": "code",
   "execution_count": 14,
   "metadata": {},
   "outputs": [
    {
     "name": "stdout",
     "output_type": "stream",
     "text": [
      "Wall time: 19.8 s\n"
     ]
    },
    {
     "data": {
      "text/plain": [
       "(1657, 7, 7, 512)"
      ]
     },
     "execution_count": 14,
     "metadata": {},
     "output_type": "execute_result"
    }
   ],
   "source": [
    "\n",
    "%%time\n",
    "# extracting features for training frames\n",
    "X_train = base_model.predict(X_train)\n",
    "X_train.shape\n"
   ]
  },
  {
   "cell_type": "code",
   "execution_count": 15,
   "metadata": {},
   "outputs": [
    {
     "name": "stdout",
     "output_type": "stream",
     "text": [
      "Wall time: 5.41 s\n"
     ]
    },
    {
     "data": {
      "text/plain": [
       "(415, 7, 7, 512)"
      ]
     },
     "execution_count": 15,
     "metadata": {},
     "output_type": "execute_result"
    }
   ],
   "source": [
    "%%time\n",
    "# extracting features for validation frames\n",
    "X_test = base_model.predict(X_test)\n",
    "X_test.shape\n"
   ]
  },
  {
   "cell_type": "code",
   "execution_count": 18,
   "metadata": {},
   "outputs": [
    {
     "name": "stdout",
     "output_type": "stream",
     "text": [
      "(1657, 7, 7, 512)\n",
      "(415, 7, 7, 512)\n"
     ]
    }
   ],
   "source": [
    "print(X_train.shape)\n",
    "print(X_test.shape)\n",
    " \n",
    "    "
   ]
  },
  {
   "cell_type": "markdown",
   "metadata": {},
   "source": [
    "There are 415 images in the test set and the shape of these images has also changed to (7, 7, 512). We will use a fully connected network now to fine-tune the model. This fully connected network takes input in single dimension. So, we will reshape the images into a single dimension:"
   ]
  },
  {
   "cell_type": "code",
   "execution_count": 19,
   "metadata": {},
   "outputs": [],
   "source": [
    "X_train = X_train.reshape(X_train.shape[0], 7*7*512)\n",
    "X_test = X_test.reshape(X_test.shape[0], 7*7*512)"
   ]
  },
  {
   "cell_type": "code",
   "execution_count": 20,
   "metadata": {},
   "outputs": [],
   "source": [
    "# normalize the pixel values, i.e., keep the pixel values between 0 and 1. This helps the model to converge faster."
   ]
  },
  {
   "cell_type": "code",
   "execution_count": 21,
   "metadata": {},
   "outputs": [
    {
     "data": {
      "text/plain": [
       "10.658496"
      ]
     },
     "execution_count": 21,
     "metadata": {},
     "output_type": "execute_result"
    }
   ],
   "source": [
    "X_train.max()"
   ]
  },
  {
   "cell_type": "code",
   "execution_count": 22,
   "metadata": {},
   "outputs": [],
   "source": [
    "max = X_train.max()\n",
    "X_train = X_train/max\n",
    "X_test = X_test/max"
   ]
  },
  {
   "cell_type": "code",
   "execution_count": 23,
   "metadata": {},
   "outputs": [
    {
     "data": {
      "text/plain": [
       "(1657, 25088)"
      ]
     },
     "execution_count": 23,
     "metadata": {},
     "output_type": "execute_result"
    }
   ],
   "source": [
    "# shape of images\n",
    "X_train.shape"
   ]
  },
  {
   "cell_type": "markdown",
   "metadata": {},
   "source": [
    "### Keras Neural Network Sequential Model\n",
    "##### More Info - https://faroit.com/keras-docs/1.0.1/getting-started/sequential-model-guide/"
   ]
  },
  {
   "cell_type": "code",
   "execution_count": 24,
   "metadata": {},
   "outputs": [],
   "source": [
    "#defining the model architecture\n",
    "model = Sequential()\n",
    "model.add(Dense(1024, activation='relu', input_shape=(25088,)))\n",
    "model.add(Dropout(0.5))\n",
    "model.add(Dense(512, activation='relu'))\n",
    "model.add(Dropout(0.5))\n",
    "model.add(Dense(256, activation='relu'))\n",
    "model.add(Dropout(0.5))\n",
    "model.add(Dense(128, activation='relu'))\n",
    "model.add(Dropout(0.5))\n",
    "model.add(Dense(model_output_size, activation='softmax'))  # model_output_size is 2 - already defined"
   ]
  },
  {
   "cell_type": "markdown",
   "metadata": {},
   "source": [
    "\n",
    "\n",
    "###### 1 x Dense layer of 1024 units\n",
    "\n",
    "###### 1 x Dense layer of 512 units\n",
    "###### 1 x Dense layer of 256 units\n",
    "###### 1 x Dense layer of 128 units\n",
    "\n",
    "\n",
    "#### RELU activation for first four dense layers of  units to stop forwarding negative values through the network.\n",
    "\n",
    "#### 2 unit dense layer in the end with softmax activation as there are 2 classes (model_output_size) to predict from in the end which are Basketball and SoccerPenalty. \n",
    "#### The softmax layer will output the value between 0 and 1 based on the confidence of the model that which class the images belongs to.\n",
    "\n",
    "## Dropout\n",
    "####   Usually, dropout is placed on the fully connected layers only because they are the one with the greater number of parameters and thus they're likely to excessively co-adapting themselves causing overfitting. However, since it's a stochastic regularization technique, you can really place it everywhere\n",
    "#####  Dropout here has been applied applied to hidden neurons in the body of network model.\n",
    "#### a dropout rate of 50% is used "
   ]
  },
  {
   "cell_type": "code",
   "execution_count": null,
   "metadata": {},
   "outputs": [],
   "source": []
  },
  {
   "cell_type": "code",
   "execution_count": null,
   "metadata": {},
   "outputs": [],
   "source": []
  },
  {
   "cell_type": "code",
   "execution_count": null,
   "metadata": {},
   "outputs": [],
   "source": []
  },
  {
   "cell_type": "code",
   "execution_count": 25,
   "metadata": {},
   "outputs": [
    {
     "name": "stdout",
     "output_type": "stream",
     "text": [
      "Model: \"sequential_1\"\n",
      "_________________________________________________________________\n",
      "Layer (type)                 Output Shape              Param #   \n",
      "=================================================================\n",
      "dense_1 (Dense)              (None, 1024)              25691136  \n",
      "_________________________________________________________________\n",
      "dropout_1 (Dropout)          (None, 1024)              0         \n",
      "_________________________________________________________________\n",
      "dense_2 (Dense)              (None, 512)               524800    \n",
      "_________________________________________________________________\n",
      "dropout_2 (Dropout)          (None, 512)               0         \n",
      "_________________________________________________________________\n",
      "dense_3 (Dense)              (None, 256)               131328    \n",
      "_________________________________________________________________\n",
      "dropout_3 (Dropout)          (None, 256)               0         \n",
      "_________________________________________________________________\n",
      "dense_4 (Dense)              (None, 128)               32896     \n",
      "_________________________________________________________________\n",
      "dropout_4 (Dropout)          (None, 128)               0         \n",
      "_________________________________________________________________\n",
      "dense_5 (Dense)              (None, 2)                 258       \n",
      "=================================================================\n",
      "Total params: 26,380,418\n",
      "Trainable params: 26,380,418\n",
      "Non-trainable params: 0\n",
      "_________________________________________________________________\n"
     ]
    }
   ],
   "source": [
    "# Printing the models summary\n",
    "model.summary()"
   ]
  },
  {
   "cell_type": "code",
   "execution_count": null,
   "metadata": {},
   "outputs": [],
   "source": []
  },
  {
   "cell_type": "markdown",
   "metadata": {},
   "source": [
    "#### ModelCheckpoint callback is used in conjunction with training using model.fit() to save a model or weights (in a checkpoint file) at some interval, so the model or weights can be loaded later to continue the training from the state saved.\n",
    "\n",
    "### -----\n",
    "\n",
    "### save_best_only: if save_best_only=True, it only saves when the model is considered the \"best\" and the latest best model according to the quantity monitored will not be overwritten\n",
    "\n",
    "### The metric name to monitormode: one of {'auto', 'min', 'max'}. If save_best_only=True, the decision to overwrite the current save file is made based on either the maximization or the minimization of the monitored quantity. For val_acc, this should be max, for val_loss this should be min\n",
    "\n",
    "#### mode: one of {'auto', 'min', 'max'}. If save_best_only=True, -- the decision to overwrite the current save file is made based on either the maximization or the minimization  of the monitored quantity. For val_acc, this should be max, for val_loss this should be min"
   ]
  },
  {
   "cell_type": "code",
   "execution_count": 26,
   "metadata": {},
   "outputs": [],
   "source": [
    "###Training the video classification model\n",
    "\n",
    "# defining a function to save the weights of best model\n",
    "### from keras.callbacks import EarlyStopping\n",
    "from keras.callbacks import ModelCheckpoint\n",
    "\n",
    "mcp_save = ModelCheckpoint('weight.hdf5', save_best_only=True, monitor='val_loss', mode='min')\n",
    "\n",
    "\n"
   ]
  },
  {
   "cell_type": "code",
   "execution_count": null,
   "metadata": {},
   "outputs": [],
   "source": []
  },
  {
   "cell_type": "markdown",
   "metadata": {},
   "source": [
    "#### using Adam optimiser "
   ]
  },
  {
   "cell_type": "code",
   "execution_count": 27,
   "metadata": {},
   "outputs": [],
   "source": [
    "# compiling the model - Adding loss, optimizer and metrics values to the model.\n",
    "model.compile(loss='categorical_crossentropy',optimizer='Adam',metrics=['accuracy'])\n",
    "\n"
   ]
  },
  {
   "cell_type": "code",
   "execution_count": 28,
   "metadata": {},
   "outputs": [
    {
     "name": "stdout",
     "output_type": "stream",
     "text": [
      "Train on 1325 samples, validate on 332 samples\n",
      "Epoch 1/50\n",
      "1325/1325 [==============================] - ETA: 2:06 - loss: 0.7391 - accuracy: 0.0000e+ - ETA: 48s - loss: 0.6904 - accuracy: 0.3333     - ETA: 33s - loss: 0.8451 - accuracy: 0.350 - ETA: 26s - loss: 0.7433 - accuracy: 0.500 - ETA: 22s - loss: 0.8819 - accuracy: 0.444 - ETA: 20s - loss: 0.9819 - accuracy: 0.454 - ETA: 18s - loss: 0.9503 - accuracy: 0.480 - ETA: 17s - loss: 0.9110 - accuracy: 0.516 - ETA: 16s - loss: 0.8951 - accuracy: 0.544 - ETA: 15s - loss: 0.9171 - accuracy: 0.526 - ETA: 14s - loss: 0.9685 - accuracy: 0.511 - ETA: 14s - loss: 1.1097 - accuracy: 0.489 - ETA: 13s - loss: 1.1134 - accuracy: 0.500 - ETA: 13s - loss: 1.0683 - accuracy: 0.518 - ETA: 13s - loss: 1.1685 - accuracy: 0.500 - ETA: 12s - loss: 1.1321 - accuracy: 0.516 - ETA: 12s - loss: 1.1596 - accuracy: 0.515 - ETA: 12s - loss: 1.1639 - accuracy: 0.514 - ETA: 12s - loss: 1.1468 - accuracy: 0.527 - ETA: 11s - loss: 1.1464 - accuracy: 0.525 - ETA: 11s - loss: 1.1430 - accuracy: 0.530 - ETA: 11s - loss: 1.1321 - accuracy: 0.540 - ETA: 11s - loss: 1.1820 - accuracy: 0.527 - ETA: 11s - loss: 1.1831 - accuracy: 0.526 - ETA: 11s - loss: 1.1761 - accuracy: 0.525 - ETA: 10s - loss: 1.1957 - accuracy: 0.519 - ETA: 10s - loss: 1.1657 - accuracy: 0.533 - ETA: 10s - loss: 1.1391 - accuracy: 0.540 - ETA: 10s - loss: 1.1468 - accuracy: 0.535 - ETA: 10s - loss: 1.1215 - accuracy: 0.542 - ETA: 10s - loss: 1.1267 - accuracy: 0.536 - ETA: 10s - loss: 1.1287 - accuracy: 0.535 - ETA: 9s - loss: 1.1150 - accuracy: 0.542 - ETA: 9s - loss: 1.1036 - accuracy: 0.54 - ETA: 9s - loss: 1.0858 - accuracy: 0.54 - ETA: 9s - loss: 1.0674 - accuracy: 0.55 - ETA: 9s - loss: 1.0605 - accuracy: 0.55 - ETA: 9s - loss: 1.0478 - accuracy: 0.55 - ETA: 9s - loss: 1.0344 - accuracy: 0.55 - ETA: 9s - loss: 1.0254 - accuracy: 0.55 - ETA: 9s - loss: 1.0101 - accuracy: 0.55 - ETA: 9s - loss: 1.0052 - accuracy: 0.55 - ETA: 8s - loss: 0.9872 - accuracy: 0.56 - ETA: 8s - loss: 0.9840 - accuracy: 0.56 - ETA: 8s - loss: 0.9827 - accuracy: 0.56 - ETA: 8s - loss: 0.9786 - accuracy: 0.56 - ETA: 8s - loss: 0.9736 - accuracy: 0.56 - ETA: 8s - loss: 0.9629 - accuracy: 0.56 - ETA: 8s - loss: 0.9521 - accuracy: 0.57 - ETA: 8s - loss: 0.9393 - accuracy: 0.58 - ETA: 8s - loss: 0.9359 - accuracy: 0.58 - ETA: 8s - loss: 0.9364 - accuracy: 0.58 - ETA: 8s - loss: 0.9290 - accuracy: 0.57 - ETA: 7s - loss: 0.9337 - accuracy: 0.57 - ETA: 7s - loss: 0.9293 - accuracy: 0.58 - ETA: 7s - loss: 0.9216 - accuracy: 0.58 - ETA: 7s - loss: 0.9107 - accuracy: 0.58 - ETA: 7s - loss: 0.9053 - accuracy: 0.59 - ETA: 7s - loss: 0.8978 - accuracy: 0.59 - ETA: 7s - loss: 0.8961 - accuracy: 0.59 - ETA: 7s - loss: 0.8856 - accuracy: 0.60 - ETA: 7s - loss: 0.8753 - accuracy: 0.60 - ETA: 7s - loss: 0.8733 - accuracy: 0.61 - ETA: 7s - loss: 0.8651 - accuracy: 0.61 - ETA: 7s - loss: 0.8570 - accuracy: 0.62 - ETA: 7s - loss: 0.8507 - accuracy: 0.62 - ETA: 6s - loss: 0.8409 - accuracy: 0.62 - ETA: 6s - loss: 0.8299 - accuracy: 0.63 - ETA: 6s - loss: 0.8208 - accuracy: 0.63 - ETA: 6s - loss: 0.8139 - accuracy: 0.64 - ETA: 6s - loss: 0.8042 - accuracy: 0.64 - ETA: 6s - loss: 0.7966 - accuracy: 0.64 - ETA: 6s - loss: 0.7909 - accuracy: 0.65 - ETA: 6s - loss: 0.7810 - accuracy: 0.65 - ETA: 6s - loss: 0.7734 - accuracy: 0.65 - ETA: 6s - loss: 0.7747 - accuracy: 0.65 - ETA: 6s - loss: 0.7728 - accuracy: 0.66 - ETA: 6s - loss: 0.7670 - accuracy: 0.66 - ETA: 6s - loss: 0.7601 - accuracy: 0.66 - ETA: 6s - loss: 0.7594 - accuracy: 0.66 - ETA: 6s - loss: 0.7568 - accuracy: 0.66 - ETA: 5s - loss: 0.7562 - accuracy: 0.66 - ETA: 5s - loss: 0.7542 - accuracy: 0.66 - ETA: 5s - loss: 0.7490 - accuracy: 0.67 - ETA: 5s - loss: 0.7426 - accuracy: 0.67 - ETA: 5s - loss: 0.7367 - accuracy: 0.67 - ETA: 5s - loss: 0.7299 - accuracy: 0.68 - ETA: 5s - loss: 0.7245 - accuracy: 0.68 - ETA: 5s - loss: 0.7172 - accuracy: 0.68 - ETA: 5s - loss: 0.7116 - accuracy: 0.69 - ETA: 5s - loss: 0.7114 - accuracy: 0.69 - ETA: 5s - loss: 0.7051 - accuracy: 0.69 - ETA: 5s - loss: 0.6987 - accuracy: 0.69 - ETA: 5s - loss: 0.6945 - accuracy: 0.69 - ETA: 5s - loss: 0.6895 - accuracy: 0.70 - ETA: 4s - loss: 0.6839 - accuracy: 0.70 - ETA: 4s - loss: 0.6818 - accuracy: 0.70 - ETA: 4s - loss: 0.6756 - accuracy: 0.70 - ETA: 4s - loss: 0.6753 - accuracy: 0.70 - ETA: 4s - loss: 0.6716 - accuracy: 0.70 - ETA: 4s - loss: 0.6731 - accuracy: 0.70 - ETA: 4s - loss: 0.6666 - accuracy: 0.71 - ETA: 4s - loss: 0.6606 - accuracy: 0.71 - ETA: 4s - loss: 0.6547 - accuracy: 0.71 - ETA: 4s - loss: 0.6491 - accuracy: 0.72 - ETA: 4s - loss: 0.6434 - accuracy: 0.72 - ETA: 4s - loss: 0.6378 - accuracy: 0.72 - ETA: 4s - loss: 0.6323 - accuracy: 0.72 - ETA: 3s - loss: 0.6283 - accuracy: 0.72 - ETA: 3s - loss: 0.6250 - accuracy: 0.73 - ETA: 3s - loss: 0.6230 - accuracy: 0.73 - ETA: 3s - loss: 0.6175 - accuracy: 0.73 - ETA: 3s - loss: 0.6126 - accuracy: 0.73 - ETA: 3s - loss: 0.6075 - accuracy: 0.73 - ETA: 3s - loss: 0.6025 - accuracy: 0.74 - ETA: 3s - loss: 0.5975 - accuracy: 0.74 - ETA: 3s - loss: 0.5927 - accuracy: 0.74 - ETA: 3s - loss: 0.5879 - accuracy: 0.74 - ETA: 3s - loss: 0.5838 - accuracy: 0.74 - ETA: 3s - loss: 0.5790 - accuracy: 0.75 - ETA: 3s - loss: 0.5743 - accuracy: 0.75 - ETA: 3s - loss: 0.5701 - accuracy: 0.75 - ETA: 2s - loss: 0.5670 - accuracy: 0.75 - ETA: 2s - loss: 0.5626 - accuracy: 0.75 - ETA: 2s - loss: 0.5582 - accuracy: 0.75 - ETA: 2s - loss: 0.5554 - accuracy: 0.76 - ETA: 2s - loss: 0.5512 - accuracy: 0.76 - ETA: 2s - loss: 0.5469 - accuracy: 0.76 - ETA: 2s - loss: 0.5427 - accuracy: 0.76 - ETA: 2s - loss: 0.5386 - accuracy: 0.76 - ETA: 2s - loss: 0.5372 - accuracy: 0.76 - ETA: 2s - loss: 0.5335 - accuracy: 0.77 - ETA: 2s - loss: 0.5295 - accuracy: 0.77 - ETA: 2s - loss: 0.5260 - accuracy: 0.77 - ETA: 2s - loss: 0.5230 - accuracy: 0.77 - ETA: 2s - loss: 0.5196 - accuracy: 0.77 - ETA: 2s - loss: 0.5158 - accuracy: 0.77 - ETA: 1s - loss: 0.5123 - accuracy: 0.77 - ETA: 1s - loss: 0.5086 - accuracy: 0.78 - ETA: 1s - loss: 0.5063 - accuracy: 0.78 - ETA: 1s - loss: 0.5034 - accuracy: 0.78 - ETA: 1s - loss: 0.5006 - accuracy: 0.78 - ETA: 1s - loss: 0.4972 - accuracy: 0.78 - ETA: 1s - loss: 0.4939 - accuracy: 0.78 - ETA: 1s - loss: 0.4905 - accuracy: 0.78 - ETA: 1s - loss: 0.4873 - accuracy: 0.78 - ETA: 1s - loss: 0.4857 - accuracy: 0.78 - ETA: 1s - loss: 0.4824 - accuracy: 0.79 - ETA: 1s - loss: 0.4795 - accuracy: 0.79 - ETA: 1s - loss: 0.4765 - accuracy: 0.79 - ETA: 1s - loss: 0.4733 - accuracy: 0.79 - ETA: 1s - loss: 0.4703 - accuracy: 0.79 - ETA: 0s - loss: 0.4672 - accuracy: 0.79 - ETA: 0s - loss: 0.4642 - accuracy: 0.79 - ETA: 0s - loss: 0.4612 - accuracy: 0.80 - ETA: 0s - loss: 0.4582 - accuracy: 0.80 - ETA: 0s - loss: 0.4577 - accuracy: 0.80 - ETA: 0s - loss: 0.4553 - accuracy: 0.80 - ETA: 0s - loss: 0.4525 - accuracy: 0.80 - ETA: 0s - loss: 0.4548 - accuracy: 0.80 - ETA: 0s - loss: 0.4527 - accuracy: 0.80 - ETA: 0s - loss: 0.4521 - accuracy: 0.80 - ETA: 0s - loss: 0.4506 - accuracy: 0.80 - ETA: 0s - loss: 0.4510 - accuracy: 0.80 - ETA: 0s - loss: 0.4486 - accuracy: 0.80 - ETA: 0s - loss: 0.4459 - accuracy: 0.80 - 12s 9ms/step - loss: 0.4445 - accuracy: 0.8091 - val_loss: 0.0112 - val_accuracy: 0.9970\n",
      "Epoch 2/50\n"
     ]
    },
    {
     "name": "stdout",
     "output_type": "stream",
     "text": [
      "1325/1325 [==============================] - ETA: 9s - loss: 0.0055 - accuracy: 1.00 - ETA: 10s - loss: 0.2889 - accuracy: 0.916 - ETA: 10s - loss: 0.1742 - accuracy: 0.950 - ETA: 10s - loss: 0.1246 - accuracy: 0.964 - ETA: 10s - loss: 0.1006 - accuracy: 0.972 - ETA: 11s - loss: 0.0848 - accuracy: 0.977 - ETA: 11s - loss: 0.0724 - accuracy: 0.980 - ETA: 11s - loss: 0.0755 - accuracy: 0.983 - ETA: 11s - loss: 0.0666 - accuracy: 0.985 - ETA: 11s - loss: 0.0617 - accuracy: 0.986 - ETA: 11s - loss: 0.0559 - accuracy: 0.988 - ETA: 11s - loss: 0.0513 - accuracy: 0.989 - ETA: 11s - loss: 0.0504 - accuracy: 0.990 - ETA: 11s - loss: 0.0768 - accuracy: 0.981 - ETA: 11s - loss: 0.0734 - accuracy: 0.982 - ETA: 11s - loss: 0.0788 - accuracy: 0.975 - ETA: 10s - loss: 0.0741 - accuracy: 0.977 - ETA: 10s - loss: 0.0701 - accuracy: 0.978 - ETA: 10s - loss: 0.0671 - accuracy: 0.979 - ETA: 10s - loss: 0.0791 - accuracy: 0.974 - ETA: 10s - loss: 0.0753 - accuracy: 0.975 - ETA: 10s - loss: 0.0723 - accuracy: 0.976 - ETA: 10s - loss: 0.0691 - accuracy: 0.977 - ETA: 10s - loss: 0.0716 - accuracy: 0.973 - ETA: 10s - loss: 0.0963 - accuracy: 0.969 - ETA: 10s - loss: 0.0926 - accuracy: 0.970 - ETA: 10s - loss: 0.0940 - accuracy: 0.967 - ETA: 10s - loss: 0.0937 - accuracy: 0.968 - ETA: 9s - loss: 0.0937 - accuracy: 0.964 - ETA: 9s - loss: 0.0915 - accuracy: 0.96 - ETA: 9s - loss: 0.0954 - accuracy: 0.96 - ETA: 9s - loss: 0.0927 - accuracy: 0.96 - ETA: 9s - loss: 0.0909 - accuracy: 0.96 - ETA: 9s - loss: 0.1131 - accuracy: 0.96 - ETA: 9s - loss: 0.1181 - accuracy: 0.96 - ETA: 9s - loss: 0.1158 - accuracy: 0.96 - ETA: 9s - loss: 0.1183 - accuracy: 0.95 - ETA: 9s - loss: 0.1160 - accuracy: 0.96 - ETA: 9s - loss: 0.1150 - accuracy: 0.96 - ETA: 9s - loss: 0.1131 - accuracy: 0.96 - ETA: 9s - loss: 0.1103 - accuracy: 0.96 - ETA: 9s - loss: 0.1087 - accuracy: 0.96 - ETA: 8s - loss: 0.1072 - accuracy: 0.96 - ETA: 8s - loss: 0.1074 - accuracy: 0.96 - ETA: 8s - loss: 0.1062 - accuracy: 0.96 - ETA: 8s - loss: 0.1041 - accuracy: 0.96 - ETA: 8s - loss: 0.1076 - accuracy: 0.96 - ETA: 8s - loss: 0.1057 - accuracy: 0.96 - ETA: 8s - loss: 0.1051 - accuracy: 0.96 - ETA: 8s - loss: 0.1030 - accuracy: 0.96 - ETA: 8s - loss: 0.1016 - accuracy: 0.96 - ETA: 8s - loss: 0.0996 - accuracy: 0.96 - ETA: 8s - loss: 0.0978 - accuracy: 0.96 - ETA: 7s - loss: 0.0960 - accuracy: 0.96 - ETA: 7s - loss: 0.0943 - accuracy: 0.96 - ETA: 7s - loss: 0.0930 - accuracy: 0.96 - ETA: 7s - loss: 0.0926 - accuracy: 0.96 - ETA: 7s - loss: 0.0924 - accuracy: 0.96 - ETA: 7s - loss: 0.1068 - accuracy: 0.96 - ETA: 7s - loss: 0.1051 - accuracy: 0.96 - ETA: 7s - loss: 0.1048 - accuracy: 0.96 - ETA: 7s - loss: 0.1033 - accuracy: 0.96 - ETA: 7s - loss: 0.1018 - accuracy: 0.96 - ETA: 7s - loss: 0.1002 - accuracy: 0.96 - ETA: 7s - loss: 0.0988 - accuracy: 0.96 - ETA: 7s - loss: 0.0985 - accuracy: 0.96 - ETA: 7s - loss: 0.0972 - accuracy: 0.96 - ETA: 6s - loss: 0.0959 - accuracy: 0.97 - ETA: 6s - loss: 0.0974 - accuracy: 0.96 - ETA: 6s - loss: 0.0961 - accuracy: 0.96 - ETA: 6s - loss: 0.0964 - accuracy: 0.96 - ETA: 6s - loss: 0.0955 - accuracy: 0.96 - ETA: 6s - loss: 0.0942 - accuracy: 0.96 - ETA: 6s - loss: 0.0930 - accuracy: 0.96 - ETA: 6s - loss: 0.0918 - accuracy: 0.96 - ETA: 6s - loss: 0.0908 - accuracy: 0.97 - ETA: 6s - loss: 0.0896 - accuracy: 0.97 - ETA: 6s - loss: 0.0900 - accuracy: 0.96 - ETA: 6s - loss: 0.0889 - accuracy: 0.96 - ETA: 6s - loss: 0.0884 - accuracy: 0.96 - ETA: 6s - loss: 0.0874 - accuracy: 0.97 - ETA: 6s - loss: 0.0869 - accuracy: 0.97 - ETA: 5s - loss: 0.0858 - accuracy: 0.97 - ETA: 5s - loss: 0.0848 - accuracy: 0.97 - ETA: 5s - loss: 0.0838 - accuracy: 0.97 - ETA: 5s - loss: 0.0850 - accuracy: 0.97 - ETA: 5s - loss: 0.0841 - accuracy: 0.97 - ETA: 5s - loss: 0.0859 - accuracy: 0.96 - ETA: 5s - loss: 0.0850 - accuracy: 0.97 - ETA: 5s - loss: 0.0842 - accuracy: 0.97 - ETA: 5s - loss: 0.0834 - accuracy: 0.97 - ETA: 5s - loss: 0.0828 - accuracy: 0.97 - ETA: 5s - loss: 0.0819 - accuracy: 0.97 - ETA: 5s - loss: 0.0810 - accuracy: 0.97 - ETA: 5s - loss: 0.0802 - accuracy: 0.97 - ETA: 4s - loss: 0.0794 - accuracy: 0.97 - ETA: 4s - loss: 0.0786 - accuracy: 0.97 - ETA: 4s - loss: 0.0778 - accuracy: 0.97 - ETA: 4s - loss: 0.0778 - accuracy: 0.97 - ETA: 4s - loss: 0.0771 - accuracy: 0.97 - ETA: 4s - loss: 0.0763 - accuracy: 0.97 - ETA: 4s - loss: 0.0776 - accuracy: 0.97 - ETA: 4s - loss: 0.0769 - accuracy: 0.97 - ETA: 4s - loss: 0.0761 - accuracy: 0.97 - ETA: 4s - loss: 0.0754 - accuracy: 0.97 - ETA: 4s - loss: 0.0748 - accuracy: 0.97 - ETA: 4s - loss: 0.0772 - accuracy: 0.97 - ETA: 4s - loss: 0.0767 - accuracy: 0.97 - ETA: 4s - loss: 0.0760 - accuracy: 0.97 - ETA: 3s - loss: 0.0757 - accuracy: 0.97 - ETA: 3s - loss: 0.0750 - accuracy: 0.97 - ETA: 3s - loss: 0.0744 - accuracy: 0.97 - ETA: 3s - loss: 0.0737 - accuracy: 0.97 - ETA: 3s - loss: 0.0730 - accuracy: 0.97 - ETA: 3s - loss: 0.0724 - accuracy: 0.97 - ETA: 3s - loss: 0.0718 - accuracy: 0.97 - ETA: 3s - loss: 0.0712 - accuracy: 0.97 - ETA: 3s - loss: 0.0733 - accuracy: 0.97 - ETA: 3s - loss: 0.0727 - accuracy: 0.97 - ETA: 3s - loss: 0.0721 - accuracy: 0.97 - ETA: 3s - loss: 0.0725 - accuracy: 0.97 - ETA: 3s - loss: 0.0720 - accuracy: 0.97 - ETA: 3s - loss: 0.0714 - accuracy: 0.97 - ETA: 3s - loss: 0.0709 - accuracy: 0.97 - ETA: 2s - loss: 0.0730 - accuracy: 0.97 - ETA: 2s - loss: 0.0725 - accuracy: 0.97 - ETA: 2s - loss: 0.0722 - accuracy: 0.97 - ETA: 2s - loss: 0.0718 - accuracy: 0.97 - ETA: 2s - loss: 0.0724 - accuracy: 0.97 - ETA: 2s - loss: 0.0718 - accuracy: 0.97 - ETA: 2s - loss: 0.0727 - accuracy: 0.97 - ETA: 2s - loss: 0.0739 - accuracy: 0.97 - ETA: 2s - loss: 0.0734 - accuracy: 0.97 - ETA: 2s - loss: 0.0729 - accuracy: 0.97 - ETA: 2s - loss: 0.0724 - accuracy: 0.97 - ETA: 2s - loss: 0.0718 - accuracy: 0.97 - ETA: 2s - loss: 0.0713 - accuracy: 0.97 - ETA: 2s - loss: 0.0716 - accuracy: 0.97 - ETA: 2s - loss: 0.0711 - accuracy: 0.97 - ETA: 1s - loss: 0.0706 - accuracy: 0.97 - ETA: 1s - loss: 0.0701 - accuracy: 0.97 - ETA: 1s - loss: 0.0700 - accuracy: 0.97 - ETA: 1s - loss: 0.0695 - accuracy: 0.97 - ETA: 1s - loss: 0.0690 - accuracy: 0.97 - ETA: 1s - loss: 0.0686 - accuracy: 0.97 - ETA: 1s - loss: 0.0681 - accuracy: 0.97 - ETA: 1s - loss: 0.0687 - accuracy: 0.97 - ETA: 1s - loss: 0.0684 - accuracy: 0.97 - ETA: 1s - loss: 0.0682 - accuracy: 0.97 - ETA: 1s - loss: 0.0679 - accuracy: 0.97 - ETA: 1s - loss: 0.0675 - accuracy: 0.97 - ETA: 1s - loss: 0.0670 - accuracy: 0.97 - ETA: 1s - loss: 0.0666 - accuracy: 0.97 - ETA: 0s - loss: 0.0661 - accuracy: 0.97 - ETA: 0s - loss: 0.0657 - accuracy: 0.97 - ETA: 0s - loss: 0.0653 - accuracy: 0.97 - ETA: 0s - loss: 0.0651 - accuracy: 0.97 - ETA: 0s - loss: 0.0646 - accuracy: 0.97 - ETA: 0s - loss: 0.0643 - accuracy: 0.97 - ETA: 0s - loss: 0.0640 - accuracy: 0.97 - ETA: 0s - loss: 0.0636 - accuracy: 0.97 - ETA: 0s - loss: 0.0634 - accuracy: 0.97 - ETA: 0s - loss: 0.0630 - accuracy: 0.97 - ETA: 0s - loss: 0.0626 - accuracy: 0.97 - ETA: 0s - loss: 0.0622 - accuracy: 0.97 - ETA: 0s - loss: 0.0619 - accuracy: 0.97 - ETA: 0s - loss: 0.0615 - accuracy: 0.97 - ETA: 0s - loss: 0.0611 - accuracy: 0.97 - 12s 9ms/step - loss: 0.0611 - accuracy: 0.9781 - val_loss: 2.4796e-04 - val_accuracy: 1.0000\n",
      "Epoch 3/50\n"
     ]
    },
    {
     "name": "stdout",
     "output_type": "stream",
     "text": [
      "1325/1325 [==============================] - ETA: 17s - loss: 5.6624e-07 - accuracy: 1.000 - ETA: 14s - loss: 3.2075e-05 - accuracy: 1.000 - ETA: 19s - loss: 3.4963e-05 - accuracy: 1.000 - ETA: 16s - loss: 3.0475e-04 - accuracy: 1.000 - ETA: 15s - loss: 0.0016 - accuracy: 1.0000    - ETA: 14s - loss: 0.0116 - accuracy: 1.000 - ETA: 13s - loss: 0.0097 - accuracy: 1.000 - ETA: 13s - loss: 0.0088 - accuracy: 1.000 - ETA: 12s - loss: 0.0077 - accuracy: 1.000 - ETA: 12s - loss: 0.0069 - accuracy: 1.000 - ETA: 12s - loss: 0.0062 - accuracy: 1.000 - ETA: 11s - loss: 0.0057 - accuracy: 1.000 - ETA: 11s - loss: 0.0055 - accuracy: 1.000 - ETA: 11s - loss: 0.0051 - accuracy: 1.000 - ETA: 11s - loss: 0.0048 - accuracy: 1.000 - ETA: 11s - loss: 0.0045 - accuracy: 1.000 - ETA: 11s - loss: 0.0047 - accuracy: 1.000 - ETA: 10s - loss: 0.0311 - accuracy: 0.992 - ETA: 10s - loss: 0.0294 - accuracy: 0.993 - ETA: 10s - loss: 0.0279 - accuracy: 0.993 - ETA: 10s - loss: 0.0266 - accuracy: 0.993 - ETA: 10s - loss: 0.0254 - accuracy: 0.994 - ETA: 10s - loss: 0.0242 - accuracy: 0.994 - ETA: 10s - loss: 0.0236 - accuracy: 0.994 - ETA: 10s - loss: 0.0230 - accuracy: 0.994 - ETA: 10s - loss: 0.0221 - accuracy: 0.995 - ETA: 9s - loss: 0.0213 - accuracy: 0.995 - ETA: 9s - loss: 0.0206 - accuracy: 0.99 - ETA: 9s - loss: 0.0199 - accuracy: 0.99 - ETA: 9s - loss: 0.0196 - accuracy: 0.99 - ETA: 9s - loss: 0.0189 - accuracy: 0.99 - ETA: 9s - loss: 0.0183 - accuracy: 0.99 - ETA: 9s - loss: 0.0182 - accuracy: 0.99 - ETA: 9s - loss: 0.0177 - accuracy: 0.99 - ETA: 9s - loss: 0.0172 - accuracy: 0.99 - ETA: 9s - loss: 0.0168 - accuracy: 0.99 - ETA: 8s - loss: 0.0167 - accuracy: 0.99 - ETA: 8s - loss: 0.0164 - accuracy: 0.99 - ETA: 8s - loss: 0.0160 - accuracy: 0.99 - ETA: 8s - loss: 0.0157 - accuracy: 0.99 - ETA: 8s - loss: 0.0155 - accuracy: 0.99 - ETA: 8s - loss: 0.0152 - accuracy: 0.99 - ETA: 8s - loss: 0.0149 - accuracy: 0.99 - ETA: 8s - loss: 0.0147 - accuracy: 0.99 - ETA: 8s - loss: 0.0143 - accuracy: 0.99 - ETA: 8s - loss: 0.0140 - accuracy: 0.99 - ETA: 8s - loss: 0.0137 - accuracy: 0.99 - ETA: 8s - loss: 0.0134 - accuracy: 0.99 - ETA: 7s - loss: 0.0132 - accuracy: 0.99 - ETA: 7s - loss: 0.0129 - accuracy: 0.99 - ETA: 7s - loss: 0.0128 - accuracy: 0.99 - ETA: 7s - loss: 0.0127 - accuracy: 0.99 - ETA: 8s - loss: 0.0126 - accuracy: 0.99 - ETA: 8s - loss: 0.0127 - accuracy: 0.99 - ETA: 8s - loss: 0.0125 - accuracy: 0.99 - ETA: 7s - loss: 0.0123 - accuracy: 0.99 - ETA: 7s - loss: 0.0124 - accuracy: 0.99 - ETA: 7s - loss: 0.0126 - accuracy: 0.99 - ETA: 7s - loss: 0.0124 - accuracy: 0.99 - ETA: 7s - loss: 0.0122 - accuracy: 0.99 - ETA: 7s - loss: 0.0141 - accuracy: 0.99 - ETA: 7s - loss: 0.0139 - accuracy: 0.99 - ETA: 7s - loss: 0.0137 - accuracy: 0.99 - ETA: 7s - loss: 0.0138 - accuracy: 0.99 - ETA: 7s - loss: 0.0138 - accuracy: 0.99 - ETA: 7s - loss: 0.0136 - accuracy: 0.99 - ETA: 7s - loss: 0.0133 - accuracy: 0.99 - ETA: 6s - loss: 0.0131 - accuracy: 0.99 - ETA: 6s - loss: 0.0130 - accuracy: 0.99 - ETA: 6s - loss: 0.0128 - accuracy: 0.99 - ETA: 6s - loss: 0.0127 - accuracy: 0.99 - ETA: 6s - loss: 0.0144 - accuracy: 0.99 - ETA: 6s - loss: 0.0142 - accuracy: 0.99 - ETA: 6s - loss: 0.0141 - accuracy: 0.99 - ETA: 6s - loss: 0.0149 - accuracy: 0.99 - ETA: 6s - loss: 0.0219 - accuracy: 0.99 - ETA: 6s - loss: 0.0216 - accuracy: 0.99 - ETA: 6s - loss: 0.0215 - accuracy: 0.99 - ETA: 6s - loss: 0.0240 - accuracy: 0.99 - ETA: 6s - loss: 0.0237 - accuracy: 0.99 - ETA: 6s - loss: 0.0234 - accuracy: 0.99 - ETA: 6s - loss: 0.0231 - accuracy: 0.99 - ETA: 6s - loss: 0.0370 - accuracy: 0.98 - ETA: 6s - loss: 0.0366 - accuracy: 0.98 - ETA: 6s - loss: 0.0474 - accuracy: 0.98 - ETA: 5s - loss: 0.0469 - accuracy: 0.98 - ETA: 5s - loss: 0.0465 - accuracy: 0.98 - ETA: 5s - loss: 0.0461 - accuracy: 0.98 - ETA: 5s - loss: 0.0463 - accuracy: 0.98 - ETA: 5s - loss: 0.0460 - accuracy: 0.98 - ETA: 5s - loss: 0.0455 - accuracy: 0.98 - ETA: 5s - loss: 0.0482 - accuracy: 0.98 - ETA: 5s - loss: 0.0477 - accuracy: 0.98 - ETA: 5s - loss: 0.0509 - accuracy: 0.98 - ETA: 5s - loss: 0.0504 - accuracy: 0.98 - ETA: 5s - loss: 0.0498 - accuracy: 0.98 - ETA: 5s - loss: 0.0544 - accuracy: 0.98 - ETA: 5s - loss: 0.0541 - accuracy: 0.98 - ETA: 4s - loss: 0.0535 - accuracy: 0.98 - ETA: 4s - loss: 0.0537 - accuracy: 0.98 - ETA: 4s - loss: 0.0532 - accuracy: 0.98 - ETA: 4s - loss: 0.0528 - accuracy: 0.98 - ETA: 4s - loss: 0.0528 - accuracy: 0.98 - ETA: 4s - loss: 0.0525 - accuracy: 0.98 - ETA: 4s - loss: 0.0531 - accuracy: 0.98 - ETA: 4s - loss: 0.0526 - accuracy: 0.98 - ETA: 4s - loss: 0.0545 - accuracy: 0.98 - ETA: 4s - loss: 0.0554 - accuracy: 0.98 - ETA: 4s - loss: 0.0555 - accuracy: 0.98 - ETA: 4s - loss: 0.0550 - accuracy: 0.98 - ETA: 4s - loss: 0.0545 - accuracy: 0.98 - ETA: 3s - loss: 0.0540 - accuracy: 0.98 - ETA: 3s - loss: 0.0536 - accuracy: 0.98 - ETA: 3s - loss: 0.0531 - accuracy: 0.98 - ETA: 3s - loss: 0.0527 - accuracy: 0.98 - ETA: 3s - loss: 0.0522 - accuracy: 0.98 - ETA: 3s - loss: 0.0522 - accuracy: 0.98 - ETA: 3s - loss: 0.0518 - accuracy: 0.98 - ETA: 3s - loss: 0.0520 - accuracy: 0.98 - ETA: 3s - loss: 0.0516 - accuracy: 0.98 - ETA: 3s - loss: 0.0511 - accuracy: 0.98 - ETA: 3s - loss: 0.0512 - accuracy: 0.98 - ETA: 3s - loss: 0.0511 - accuracy: 0.98 - ETA: 3s - loss: 0.0507 - accuracy: 0.98 - ETA: 3s - loss: 0.0503 - accuracy: 0.98 - ETA: 2s - loss: 0.0499 - accuracy: 0.98 - ETA: 2s - loss: 0.0500 - accuracy: 0.98 - ETA: 2s - loss: 0.0496 - accuracy: 0.98 - ETA: 2s - loss: 0.0495 - accuracy: 0.98 - ETA: 2s - loss: 0.0491 - accuracy: 0.98 - ETA: 2s - loss: 0.0487 - accuracy: 0.98 - ETA: 2s - loss: 0.0484 - accuracy: 0.98 - ETA: 2s - loss: 0.0480 - accuracy: 0.98 - ETA: 2s - loss: 0.0477 - accuracy: 0.98 - ETA: 2s - loss: 0.0476 - accuracy: 0.98 - ETA: 2s - loss: 0.0472 - accuracy: 0.98 - ETA: 2s - loss: 0.0469 - accuracy: 0.98 - ETA: 2s - loss: 0.0465 - accuracy: 0.98 - ETA: 2s - loss: 0.0463 - accuracy: 0.98 - ETA: 2s - loss: 0.0460 - accuracy: 0.98 - ETA: 1s - loss: 0.0456 - accuracy: 0.98 - ETA: 1s - loss: 0.0453 - accuracy: 0.98 - ETA: 1s - loss: 0.0450 - accuracy: 0.98 - ETA: 1s - loss: 0.0447 - accuracy: 0.98 - ETA: 1s - loss: 0.0444 - accuracy: 0.98 - ETA: 1s - loss: 0.0441 - accuracy: 0.98 - ETA: 1s - loss: 0.0449 - accuracy: 0.98 - ETA: 1s - loss: 0.0446 - accuracy: 0.98 - ETA: 1s - loss: 0.0443 - accuracy: 0.98 - ETA: 1s - loss: 0.0440 - accuracy: 0.98 - ETA: 1s - loss: 0.0437 - accuracy: 0.98 - ETA: 1s - loss: 0.0435 - accuracy: 0.98 - ETA: 1s - loss: 0.0432 - accuracy: 0.98 - ETA: 1s - loss: 0.0432 - accuracy: 0.98 - ETA: 1s - loss: 0.0431 - accuracy: 0.98 - ETA: 0s - loss: 0.0429 - accuracy: 0.98 - ETA: 0s - loss: 0.0426 - accuracy: 0.98 - ETA: 0s - loss: 0.0424 - accuracy: 0.98 - ETA: 0s - loss: 0.0421 - accuracy: 0.98 - ETA: 0s - loss: 0.0419 - accuracy: 0.98 - ETA: 0s - loss: 0.0417 - accuracy: 0.98 - ETA: 0s - loss: 0.0415 - accuracy: 0.98 - ETA: 0s - loss: 0.0412 - accuracy: 0.98 - ETA: 0s - loss: 0.0410 - accuracy: 0.98 - ETA: 0s - loss: 0.0407 - accuracy: 0.98 - ETA: 0s - loss: 0.0404 - accuracy: 0.98 - ETA: 0s - loss: 0.0408 - accuracy: 0.98 - ETA: 0s - loss: 0.0406 - accuracy: 0.98 - ETA: 0s - loss: 0.0404 - accuracy: 0.98 - ETA: 0s - loss: 0.0402 - accuracy: 0.98 - 12s 9ms/step - loss: 0.0400 - accuracy: 0.9879 - val_loss: 0.0064 - val_accuracy: 0.9970\n",
      "Epoch 4/50\n"
     ]
    },
    {
     "name": "stdout",
     "output_type": "stream",
     "text": [
      "1280/1325 [===========================>..] - ETA: 9s - loss: 0.0010 - accuracy: 1.00 - ETA: 9s - loss: 0.1471 - accuracy: 0.91 - ETA: 10s - loss: 0.0909 - accuracy: 0.950 - ETA: 10s - loss: 0.0649 - accuracy: 0.964 - ETA: 9s - loss: 0.0568 - accuracy: 0.972 - ETA: 9s - loss: 0.0466 - accuracy: 0.97 - ETA: 9s - loss: 0.0394 - accuracy: 0.98 - ETA: 9s - loss: 0.0380 - accuracy: 0.98 - ETA: 9s - loss: 0.0335 - accuracy: 0.98 - ETA: 9s - loss: 0.0555 - accuracy: 0.97 - ETA: 9s - loss: 0.0503 - accuracy: 0.97 - ETA: 9s - loss: 0.0472 - accuracy: 0.97 - ETA: 9s - loss: 0.0434 - accuracy: 0.98 - ETA: 9s - loss: 0.0402 - accuracy: 0.98 - ETA: 9s - loss: 0.0378 - accuracy: 0.98 - ETA: 9s - loss: 0.0467 - accuracy: 0.97 - ETA: 9s - loss: 0.0444 - accuracy: 0.97 - ETA: 9s - loss: 0.0419 - accuracy: 0.97 - ETA: 9s - loss: 0.0396 - accuracy: 0.97 - ETA: 9s - loss: 0.0377 - accuracy: 0.98 - ETA: 9s - loss: 0.0358 - accuracy: 0.98 - ETA: 8s - loss: 0.0342 - accuracy: 0.98 - ETA: 8s - loss: 0.0342 - accuracy: 0.98 - ETA: 8s - loss: 0.0328 - accuracy: 0.98 - ETA: 8s - loss: 0.0315 - accuracy: 0.98 - ETA: 8s - loss: 0.0302 - accuracy: 0.98 - ETA: 8s - loss: 0.0291 - accuracy: 0.98 - ETA: 8s - loss: 0.0282 - accuracy: 0.98 - ETA: 8s - loss: 0.0274 - accuracy: 0.98 - ETA: 8s - loss: 0.0264 - accuracy: 0.98 - ETA: 8s - loss: 0.0309 - accuracy: 0.98 - ETA: 8s - loss: 0.0316 - accuracy: 0.98 - ETA: 8s - loss: 0.0306 - accuracy: 0.98 - ETA: 8s - loss: 0.0297 - accuracy: 0.98 - ETA: 8s - loss: 0.0296 - accuracy: 0.98 - ETA: 8s - loss: 0.0292 - accuracy: 0.98 - ETA: 8s - loss: 0.0285 - accuracy: 0.98 - ETA: 8s - loss: 0.0277 - accuracy: 0.98 - ETA: 7s - loss: 0.0295 - accuracy: 0.98 - ETA: 7s - loss: 0.0288 - accuracy: 0.98 - ETA: 7s - loss: 0.0281 - accuracy: 0.98 - ETA: 7s - loss: 0.0274 - accuracy: 0.98 - ETA: 7s - loss: 0.0374 - accuracy: 0.98 - ETA: 7s - loss: 0.0397 - accuracy: 0.97 - ETA: 7s - loss: 0.0403 - accuracy: 0.98 - ETA: 7s - loss: 0.0406 - accuracy: 0.98 - ETA: 7s - loss: 0.0397 - accuracy: 0.98 - ETA: 7s - loss: 0.0398 - accuracy: 0.98 - ETA: 7s - loss: 0.0399 - accuracy: 0.98 - ETA: 7s - loss: 0.0393 - accuracy: 0.98 - ETA: 7s - loss: 0.0386 - accuracy: 0.98 - ETA: 7s - loss: 0.0380 - accuracy: 0.98 - ETA: 7s - loss: 0.0374 - accuracy: 0.98 - ETA: 7s - loss: 0.0367 - accuracy: 0.98 - ETA: 6s - loss: 0.0360 - accuracy: 0.98 - ETA: 6s - loss: 0.0358 - accuracy: 0.98 - ETA: 6s - loss: 0.0352 - accuracy: 0.98 - ETA: 6s - loss: 0.0350 - accuracy: 0.98 - ETA: 6s - loss: 0.0344 - accuracy: 0.98 - ETA: 6s - loss: 0.0517 - accuracy: 0.98 - ETA: 6s - loss: 0.0512 - accuracy: 0.98 - ETA: 6s - loss: 0.0504 - accuracy: 0.98 - ETA: 6s - loss: 0.0502 - accuracy: 0.98 - ETA: 6s - loss: 0.0494 - accuracy: 0.98 - ETA: 6s - loss: 0.0494 - accuracy: 0.98 - ETA: 6s - loss: 0.0487 - accuracy: 0.98 - ETA: 6s - loss: 0.0480 - accuracy: 0.98 - ETA: 6s - loss: 0.0473 - accuracy: 0.98 - ETA: 6s - loss: 0.0466 - accuracy: 0.98 - ETA: 6s - loss: 0.0459 - accuracy: 0.98 - ETA: 5s - loss: 0.0467 - accuracy: 0.98 - ETA: 5s - loss: 0.0460 - accuracy: 0.98 - ETA: 5s - loss: 0.0455 - accuracy: 0.98 - ETA: 5s - loss: 0.0449 - accuracy: 0.98 - ETA: 5s - loss: 0.0446 - accuracy: 0.98 - ETA: 5s - loss: 0.0443 - accuracy: 0.98 - ETA: 5s - loss: 0.0440 - accuracy: 0.98 - ETA: 5s - loss: 0.0437 - accuracy: 0.98 - ETA: 5s - loss: 0.0434 - accuracy: 0.98 - ETA: 5s - loss: 0.0428 - accuracy: 0.98 - ETA: 5s - loss: 0.0424 - accuracy: 0.98 - ETA: 5s - loss: 0.0419 - accuracy: 0.98 - ETA: 5s - loss: 0.0414 - accuracy: 0.98 - ETA: 5s - loss: 0.0444 - accuracy: 0.98 - ETA: 5s - loss: 0.0439 - accuracy: 0.98 - ETA: 5s - loss: 0.0434 - accuracy: 0.98 - ETA: 5s - loss: 0.0443 - accuracy: 0.98 - ETA: 5s - loss: 0.0441 - accuracy: 0.98 - ETA: 5s - loss: 0.0438 - accuracy: 0.98 - ETA: 5s - loss: 0.0436 - accuracy: 0.98 - ETA: 5s - loss: 0.0433 - accuracy: 0.98 - ETA: 5s - loss: 0.0431 - accuracy: 0.98 - ETA: 5s - loss: 0.0429 - accuracy: 0.98 - ETA: 5s - loss: 0.0478 - accuracy: 0.98 - ETA: 5s - loss: 0.0477 - accuracy: 0.98 - ETA: 5s - loss: 0.0472 - accuracy: 0.98 - ETA: 5s - loss: 0.0470 - accuracy: 0.98 - ETA: 5s - loss: 0.0467 - accuracy: 0.98 - ETA: 5s - loss: 0.0465 - accuracy: 0.98 - ETA: 5s - loss: 0.0475 - accuracy: 0.98 - ETA: 5s - loss: 0.0473 - accuracy: 0.98 - ETA: 5s - loss: 0.0470 - accuracy: 0.98 - ETA: 5s - loss: 0.0468 - accuracy: 0.98 - ETA: 5s - loss: 0.0466 - accuracy: 0.98 - ETA: 5s - loss: 0.0462 - accuracy: 0.98 - ETA: 5s - loss: 0.0457 - accuracy: 0.98 - ETA: 5s - loss: 0.0455 - accuracy: 0.98 - ETA: 5s - loss: 0.0452 - accuracy: 0.98 - ETA: 5s - loss: 0.0450 - accuracy: 0.98 - ETA: 5s - loss: 0.0448 - accuracy: 0.98 - ETA: 5s - loss: 0.0447 - accuracy: 0.98 - ETA: 5s - loss: 0.0444 - accuracy: 0.98 - ETA: 5s - loss: 0.0454 - accuracy: 0.98 - ETA: 5s - loss: 0.0452 - accuracy: 0.98 - ETA: 5s - loss: 0.0478 - accuracy: 0.98 - ETA: 4s - loss: 0.0474 - accuracy: 0.98 - ETA: 4s - loss: 0.0469 - accuracy: 0.98 - ETA: 4s - loss: 0.0465 - accuracy: 0.98 - ETA: 4s - loss: 0.0461 - accuracy: 0.98 - ETA: 4s - loss: 0.0456 - accuracy: 0.98 - ETA: 4s - loss: 0.0453 - accuracy: 0.98 - ETA: 4s - loss: 0.0449 - accuracy: 0.98 - ETA: 4s - loss: 0.0475 - accuracy: 0.98 - ETA: 4s - loss: 0.0471 - accuracy: 0.98 - ETA: 4s - loss: 0.0474 - accuracy: 0.98 - ETA: 4s - loss: 0.0470 - accuracy: 0.98 - ETA: 4s - loss: 0.0466 - accuracy: 0.98 - ETA: 4s - loss: 0.0462 - accuracy: 0.98 - ETA: 3s - loss: 0.0458 - accuracy: 0.98 - ETA: 3s - loss: 0.0454 - accuracy: 0.98 - ETA: 3s - loss: 0.0450 - accuracy: 0.98 - ETA: 3s - loss: 0.0446 - accuracy: 0.98 - ETA: 3s - loss: 0.0442 - accuracy: 0.98 - ETA: 3s - loss: 0.0439 - accuracy: 0.98 - ETA: 3s - loss: 0.0435 - accuracy: 0.98 - ETA: 3s - loss: 0.0431 - accuracy: 0.98 - ETA: 3s - loss: 0.0428 - accuracy: 0.98 - ETA: 3s - loss: 0.0428 - accuracy: 0.98 - ETA: 3s - loss: 0.0437 - accuracy: 0.98 - ETA: 3s - loss: 0.0433 - accuracy: 0.98 - ETA: 2s - loss: 0.0430 - accuracy: 0.98 - ETA: 2s - loss: 0.0428 - accuracy: 0.98 - ETA: 2s - loss: 0.0489 - accuracy: 0.98 - ETA: 2s - loss: 0.0485 - accuracy: 0.98 - ETA: 2s - loss: 0.0484 - accuracy: 0.98 - ETA: 2s - loss: 0.0482 - accuracy: 0.98 - ETA: 2s - loss: 0.0480 - accuracy: 0.98 - ETA: 2s - loss: 0.0477 - accuracy: 0.98 - ETA: 2s - loss: 0.0492 - accuracy: 0.98 - ETA: 2s - loss: 0.0488 - accuracy: 0.98 - ETA: 2s - loss: 0.0487 - accuracy: 0.98 - ETA: 2s - loss: 0.0485 - accuracy: 0.98 - ETA: 2s - loss: 0.0484 - accuracy: 0.98 - ETA: 2s - loss: 0.0480 - accuracy: 0.98 - ETA: 2s - loss: 0.0478 - accuracy: 0.98 - ETA: 2s - loss: 0.0477 - accuracy: 0.98 - ETA: 2s - loss: 0.0475 - accuracy: 0.98 - ETA: 2s - loss: 0.0474 - accuracy: 0.98 - ETA: 2s - loss: 0.0472 - accuracy: 0.98 - ETA: 2s - loss: 0.0470 - accuracy: 0.98 - ETA: 2s - loss: 0.0469 - accuracy: 0.98 - ETA: 2s - loss: 0.0467 - accuracy: 0.98 - ETA: 2s - loss: 0.0465 - accuracy: 0.98 - ETA: 2s - loss: 0.0464 - accuracy: 0.98 - ETA: 2s - loss: 0.0462 - accuracy: 0.98 - ETA: 1s - loss: 0.0461 - accuracy: 0.98 - ETA: 1s - loss: 0.0459 - accuracy: 0.98 - ETA: 1s - loss: 0.0458 - accuracy: 0.98 - ETA: 1s - loss: 0.0456 - accuracy: 0.98 - ETA: 1s - loss: 0.0454 - accuracy: 0.98 - ETA: 1s - loss: 0.0453 - accuracy: 0.98 - ETA: 1s - loss: 0.0451 - accuracy: 0.98 - ETA: 1s - loss: 0.0448 - accuracy: 0.98 - ETA: 1s - loss: 0.0445 - accuracy: 0.98 - ETA: 1s - loss: 0.0442 - accuracy: 0.98 - ETA: 1s - loss: 0.0440 - accuracy: 0.98 - ETA: 1s - loss: 0.0523 - accuracy: 0.98 - ETA: 1s - loss: 0.0519 - accuracy: 0.98 - ETA: 1s - loss: 0.0516 - accuracy: 0.98 - ETA: 1s - loss: 0.0518 - accuracy: 0.98 - ETA: 1s - loss: 0.0517 - accuracy: 0.98 - ETA: 1s - loss: 0.0570 - accuracy: 0.98 - ETA: 0s - loss: 0.0568 - accuracy: 0.98 - ETA: 0s - loss: 0.0564 - accuracy: 0.98 - ETA: 0s - loss: 0.0563 - accuracy: 0.98 - ETA: 0s - loss: 0.0561 - accuracy: 0.98 - ETA: 0s - loss: 0.0559 - accuracy: 0.98 - ETA: 0s - loss: 0.0557 - accuracy: 0.98 - ETA: 0s - loss: 0.0556 - accuracy: 0.98 - ETA: 0s - loss: 0.0554 - accuracy: 0.98 - ETA: 0s - loss: 0.0552 - accuracy: 0.98 - ETA: 0s - loss: 0.0551 - accuracy: 0.98 - ETA: 0s - loss: 0.0549 - accuracy: 0.98 - ETA: 0s - loss: 0.0546 - accuracy: 0.9844"
     ]
    },
    {
     "name": "stdout",
     "output_type": "stream",
     "text": [
      "1325/1325 [==============================] - ETA: 0s - loss: 0.0544 - accuracy: 0.98 - ETA: 0s - loss: 0.0543 - accuracy: 0.98 - ETA: 0s - loss: 0.0541 - accuracy: 0.98 - ETA: 0s - loss: 0.0540 - accuracy: 0.98 - ETA: 0s - loss: 0.0538 - accuracy: 0.98 - ETA: 0s - loss: 0.0537 - accuracy: 0.98 - ETA: 0s - loss: 0.0535 - accuracy: 0.98 - ETA: 0s - loss: 0.0535 - accuracy: 0.98 - ETA: 0s - loss: 0.0561 - accuracy: 0.98 - 15s 11ms/step - loss: 0.0561 - accuracy: 0.9842 - val_loss: 0.0040 - val_accuracy: 1.0000\n",
      "Epoch 5/50\n"
     ]
    },
    {
     "name": "stdout",
     "output_type": "stream",
     "text": [
      "1325/1325 [==============================] - ETA: 11s - loss: 9.2387e-07 - accuracy: 1.000 - ETA: 11s - loss: 0.0072 - accuracy: 1.0000    - ETA: 13s - loss: 0.0054 - accuracy: 1.000 - ETA: 13s - loss: 0.1360 - accuracy: 0.958 - ETA: 12s - loss: 0.1027 - accuracy: 0.968 - ETA: 12s - loss: 0.0876 - accuracy: 0.975 - ETA: 12s - loss: 0.0731 - accuracy: 0.979 - ETA: 12s - loss: 0.0989 - accuracy: 0.964 - ETA: 12s - loss: 0.0888 - accuracy: 0.968 - ETA: 12s - loss: 0.0789 - accuracy: 0.972 - ETA: 12s - loss: 0.0748 - accuracy: 0.973 - ETA: 12s - loss: 0.0893 - accuracy: 0.964 - ETA: 12s - loss: 0.0961 - accuracy: 0.956 - ETA: 12s - loss: 0.0884 - accuracy: 0.960 - ETA: 12s - loss: 0.0824 - accuracy: 0.963 - ETA: 11s - loss: 0.0767 - accuracy: 0.965 - ETA: 11s - loss: 0.0756 - accuracy: 0.967 - ETA: 11s - loss: 0.0718 - accuracy: 0.969 - ETA: 11s - loss: 0.0677 - accuracy: 0.971 - ETA: 11s - loss: 0.0649 - accuracy: 0.973 - ETA: 11s - loss: 0.0926 - accuracy: 0.967 - ETA: 11s - loss: 0.0885 - accuracy: 0.969 - ETA: 11s - loss: 0.0845 - accuracy: 0.970 - ETA: 10s - loss: 0.0808 - accuracy: 0.972 - ETA: 10s - loss: 0.0781 - accuracy: 0.973 - ETA: 10s - loss: 0.0749 - accuracy: 0.974 - ETA: 10s - loss: 0.0720 - accuracy: 0.975 - ETA: 10s - loss: 0.0693 - accuracy: 0.976 - ETA: 10s - loss: 0.0668 - accuracy: 0.977 - ETA: 10s - loss: 0.0649 - accuracy: 0.978 - ETA: 10s - loss: 0.0627 - accuracy: 0.978 - ETA: 10s - loss: 0.0636 - accuracy: 0.979 - ETA: 10s - loss: 0.0650 - accuracy: 0.975 - ETA: 10s - loss: 0.0640 - accuracy: 0.976 - ETA: 10s - loss: 0.0629 - accuracy: 0.976 - ETA: 10s - loss: 0.0620 - accuracy: 0.977 - ETA: 10s - loss: 0.0613 - accuracy: 0.977 - ETA: 10s - loss: 0.0597 - accuracy: 0.978 - ETA: 10s - loss: 0.0589 - accuracy: 0.978 - ETA: 10s - loss: 0.0580 - accuracy: 0.978 - ETA: 10s - loss: 0.0572 - accuracy: 0.979 - ETA: 10s - loss: 0.0564 - accuracy: 0.979 - ETA: 11s - loss: 0.0557 - accuracy: 0.979 - ETA: 11s - loss: 0.0549 - accuracy: 0.980 - ETA: 11s - loss: 0.0590 - accuracy: 0.977 - ETA: 11s - loss: 0.0582 - accuracy: 0.977 - ETA: 11s - loss: 0.0575 - accuracy: 0.977 - ETA: 11s - loss: 0.0568 - accuracy: 0.977 - ETA: 11s - loss: 0.0561 - accuracy: 0.978 - ETA: 11s - loss: 0.0555 - accuracy: 0.978 - ETA: 11s - loss: 0.0544 - accuracy: 0.978 - ETA: 11s - loss: 0.0537 - accuracy: 0.979 - ETA: 11s - loss: 0.0531 - accuracy: 0.979 - ETA: 11s - loss: 0.0525 - accuracy: 0.979 - ETA: 11s - loss: 0.0519 - accuracy: 0.979 - ETA: 11s - loss: 0.0513 - accuracy: 0.980 - ETA: 11s - loss: 0.0507 - accuracy: 0.980 - ETA: 11s - loss: 0.0514 - accuracy: 0.980 - ETA: 11s - loss: 0.0509 - accuracy: 0.980 - ETA: 11s - loss: 0.0504 - accuracy: 0.981 - ETA: 11s - loss: 0.0499 - accuracy: 0.981 - ETA: 11s - loss: 0.0493 - accuracy: 0.981 - ETA: 11s - loss: 0.0483 - accuracy: 0.981 - ETA: 11s - loss: 0.0473 - accuracy: 0.982 - ETA: 11s - loss: 0.0465 - accuracy: 0.982 - ETA: 11s - loss: 0.0460 - accuracy: 0.982 - ETA: 10s - loss: 0.0451 - accuracy: 0.983 - ETA: 10s - loss: 0.0447 - accuracy: 0.983 - ETA: 10s - loss: 0.0442 - accuracy: 0.983 - ETA: 11s - loss: 0.0438 - accuracy: 0.983 - ETA: 11s - loss: 0.0435 - accuracy: 0.983 - ETA: 10s - loss: 0.0428 - accuracy: 0.983 - ETA: 10s - loss: 0.0424 - accuracy: 0.984 - ETA: 10s - loss: 0.0420 - accuracy: 0.984 - ETA: 10s - loss: 0.0417 - accuracy: 0.984 - ETA: 10s - loss: 0.0413 - accuracy: 0.984 - ETA: 10s - loss: 0.0409 - accuracy: 0.984 - ETA: 10s - loss: 0.0402 - accuracy: 0.984 - ETA: 10s - loss: 0.0395 - accuracy: 0.985 - ETA: 10s - loss: 0.0392 - accuracy: 0.985 - ETA: 10s - loss: 0.0385 - accuracy: 0.985 - ETA: 10s - loss: 0.0379 - accuracy: 0.985 - ETA: 10s - loss: 0.0376 - accuracy: 0.986 - ETA: 9s - loss: 0.0370 - accuracy: 0.986 - ETA: 9s - loss: 0.0366 - accuracy: 0.98 - ETA: 9s - loss: 0.0360 - accuracy: 0.98 - ETA: 9s - loss: 0.0355 - accuracy: 0.98 - ETA: 9s - loss: 0.0350 - accuracy: 0.98 - ETA: 9s - loss: 0.0353 - accuracy: 0.98 - ETA: 9s - loss: 0.0348 - accuracy: 0.98 - ETA: 9s - loss: 0.0343 - accuracy: 0.98 - ETA: 8s - loss: 0.0339 - accuracy: 0.98 - ETA: 8s - loss: 0.0334 - accuracy: 0.98 - ETA: 8s - loss: 0.0330 - accuracy: 0.98 - ETA: 8s - loss: 0.0325 - accuracy: 0.98 - ETA: 8s - loss: 0.0321 - accuracy: 0.98 - ETA: 8s - loss: 0.0317 - accuracy: 0.98 - ETA: 8s - loss: 0.0313 - accuracy: 0.98 - ETA: 8s - loss: 0.0312 - accuracy: 0.98 - ETA: 7s - loss: 0.0308 - accuracy: 0.98 - ETA: 7s - loss: 0.0317 - accuracy: 0.98 - ETA: 7s - loss: 0.0313 - accuracy: 0.98 - ETA: 7s - loss: 0.0309 - accuracy: 0.98 - ETA: 7s - loss: 0.0306 - accuracy: 0.98 - ETA: 7s - loss: 0.0303 - accuracy: 0.98 - ETA: 7s - loss: 0.0301 - accuracy: 0.98 - ETA: 7s - loss: 0.0298 - accuracy: 0.98 - ETA: 7s - loss: 0.0295 - accuracy: 0.98 - ETA: 6s - loss: 0.0292 - accuracy: 0.98 - ETA: 6s - loss: 0.0289 - accuracy: 0.98 - ETA: 6s - loss: 0.0286 - accuracy: 0.98 - ETA: 6s - loss: 0.0283 - accuracy: 0.98 - ETA: 6s - loss: 0.0281 - accuracy: 0.98 - ETA: 6s - loss: 0.0278 - accuracy: 0.98 - ETA: 6s - loss: 0.0275 - accuracy: 0.98 - ETA: 6s - loss: 0.0272 - accuracy: 0.98 - ETA: 6s - loss: 0.0269 - accuracy: 0.98 - ETA: 5s - loss: 0.0266 - accuracy: 0.98 - ETA: 5s - loss: 0.0264 - accuracy: 0.98 - ETA: 5s - loss: 0.0261 - accuracy: 0.98 - ETA: 5s - loss: 0.0259 - accuracy: 0.99 - ETA: 5s - loss: 0.0256 - accuracy: 0.99 - ETA: 5s - loss: 0.0254 - accuracy: 0.99 - ETA: 5s - loss: 0.0251 - accuracy: 0.99 - ETA: 5s - loss: 0.0249 - accuracy: 0.99 - ETA: 5s - loss: 0.0247 - accuracy: 0.99 - ETA: 5s - loss: 0.0244 - accuracy: 0.99 - ETA: 4s - loss: 0.0242 - accuracy: 0.99 - ETA: 4s - loss: 0.0240 - accuracy: 0.99 - ETA: 4s - loss: 0.0238 - accuracy: 0.99 - ETA: 4s - loss: 0.0235 - accuracy: 0.99 - ETA: 4s - loss: 0.0233 - accuracy: 0.99 - ETA: 4s - loss: 0.0232 - accuracy: 0.99 - ETA: 4s - loss: 0.0230 - accuracy: 0.99 - ETA: 4s - loss: 0.0228 - accuracy: 0.99 - ETA: 4s - loss: 0.0226 - accuracy: 0.99 - ETA: 4s - loss: 0.0224 - accuracy: 0.99 - ETA: 4s - loss: 0.0222 - accuracy: 0.99 - ETA: 3s - loss: 0.0220 - accuracy: 0.99 - ETA: 3s - loss: 0.0272 - accuracy: 0.99 - ETA: 3s - loss: 0.0271 - accuracy: 0.99 - ETA: 3s - loss: 0.0269 - accuracy: 0.99 - ETA: 3s - loss: 0.0267 - accuracy: 0.99 - ETA: 3s - loss: 0.0265 - accuracy: 0.99 - ETA: 3s - loss: 0.0264 - accuracy: 0.99 - ETA: 3s - loss: 0.0263 - accuracy: 0.99 - ETA: 3s - loss: 0.0278 - accuracy: 0.99 - ETA: 3s - loss: 0.0277 - accuracy: 0.99 - ETA: 3s - loss: 0.0275 - accuracy: 0.99 - ETA: 2s - loss: 0.0273 - accuracy: 0.99 - ETA: 2s - loss: 0.0271 - accuracy: 0.99 - ETA: 2s - loss: 0.0269 - accuracy: 0.99 - ETA: 2s - loss: 0.0267 - accuracy: 0.99 - ETA: 2s - loss: 0.0265 - accuracy: 0.99 - ETA: 2s - loss: 0.0264 - accuracy: 0.99 - ETA: 2s - loss: 0.0262 - accuracy: 0.99 - ETA: 2s - loss: 0.0308 - accuracy: 0.98 - ETA: 2s - loss: 0.0305 - accuracy: 0.99 - ETA: 2s - loss: 0.0307 - accuracy: 0.99 - ETA: 2s - loss: 0.0304 - accuracy: 0.99 - ETA: 2s - loss: 0.0303 - accuracy: 0.99 - ETA: 1s - loss: 0.0300 - accuracy: 0.99 - ETA: 1s - loss: 0.0298 - accuracy: 0.99 - ETA: 1s - loss: 0.0296 - accuracy: 0.99 - ETA: 1s - loss: 0.0295 - accuracy: 0.99 - ETA: 1s - loss: 0.0293 - accuracy: 0.99 - ETA: 1s - loss: 0.0311 - accuracy: 0.98 - ETA: 1s - loss: 0.0309 - accuracy: 0.98 - ETA: 1s - loss: 0.0307 - accuracy: 0.98 - ETA: 1s - loss: 0.0307 - accuracy: 0.98 - ETA: 1s - loss: 0.0305 - accuracy: 0.99 - ETA: 1s - loss: 0.0303 - accuracy: 0.99 - ETA: 1s - loss: 0.0311 - accuracy: 0.98 - ETA: 0s - loss: 0.0311 - accuracy: 0.98 - ETA: 0s - loss: 0.0311 - accuracy: 0.98 - ETA: 0s - loss: 0.0309 - accuracy: 0.98 - ETA: 0s - loss: 0.0307 - accuracy: 0.98 - ETA: 0s - loss: 0.0305 - accuracy: 0.98 - ETA: 0s - loss: 0.0304 - accuracy: 0.98 - ETA: 0s - loss: 0.0302 - accuracy: 0.98 - ETA: 0s - loss: 0.0300 - accuracy: 0.98 - ETA: 0s - loss: 0.0298 - accuracy: 0.98 - ETA: 0s - loss: 0.0297 - accuracy: 0.99 - ETA: 0s - loss: 0.0296 - accuracy: 0.99 - ETA: 0s - loss: 0.0295 - accuracy: 0.99 - ETA: 0s - loss: 0.0293 - accuracy: 0.99 - 13s 10ms/step - loss: 0.0292 - accuracy: 0.9902 - val_loss: 0.0050 - val_accuracy: 0.9970\n",
      "Epoch 6/50\n"
     ]
    },
    {
     "name": "stdout",
     "output_type": "stream",
     "text": [
      "1325/1325 [==============================] - ETA: 9s - loss: 0.0252 - accuracy: 1.00 - ETA: 10s - loss: 0.0085 - accuracy: 1.000 - ETA: 11s - loss: 0.0051 - accuracy: 1.000 - ETA: 10s - loss: 0.0267 - accuracy: 1.000 - ETA: 11s - loss: 0.0208 - accuracy: 1.000 - ETA: 11s - loss: 0.0177 - accuracy: 1.000 - ETA: 11s - loss: 0.0151 - accuracy: 1.000 - ETA: 11s - loss: 0.0131 - accuracy: 1.000 - ETA: 11s - loss: 0.0116 - accuracy: 1.000 - ETA: 11s - loss: 0.0103 - accuracy: 1.000 - ETA: 11s - loss: 0.0094 - accuracy: 1.000 - ETA: 10s - loss: 0.0085 - accuracy: 1.000 - ETA: 10s - loss: 0.0079 - accuracy: 1.000 - ETA: 10s - loss: 0.0073 - accuracy: 1.000 - ETA: 10s - loss: 0.0070 - accuracy: 1.000 - ETA: 10s - loss: 0.0065 - accuracy: 1.000 - ETA: 10s - loss: 0.0061 - accuracy: 1.000 - ETA: 10s - loss: 0.0058 - accuracy: 1.000 - ETA: 10s - loss: 0.0055 - accuracy: 1.000 - ETA: 10s - loss: 0.0053 - accuracy: 1.000 - ETA: 9s - loss: 0.0050 - accuracy: 1.000 - ETA: 9s - loss: 0.0048 - accuracy: 1.00 - ETA: 9s - loss: 0.0046 - accuracy: 1.00 - ETA: 9s - loss: 0.0044 - accuracy: 1.00 - ETA: 9s - loss: 0.0044 - accuracy: 1.00 - ETA: 9s - loss: 0.0042 - accuracy: 1.00 - ETA: 9s - loss: 0.0040 - accuracy: 1.00 - ETA: 9s - loss: 0.0039 - accuracy: 1.00 - ETA: 9s - loss: 0.0038 - accuracy: 1.00 - ETA: 9s - loss: 0.0039 - accuracy: 1.00 - ETA: 8s - loss: 0.0038 - accuracy: 1.00 - ETA: 8s - loss: 0.0037 - accuracy: 1.00 - ETA: 8s - loss: 0.0036 - accuracy: 1.00 - ETA: 8s - loss: 0.0036 - accuracy: 1.00 - ETA: 8s - loss: 0.0035 - accuracy: 1.00 - ETA: 8s - loss: 0.0034 - accuracy: 1.00 - ETA: 8s - loss: 0.0033 - accuracy: 1.00 - ETA: 8s - loss: 0.0032 - accuracy: 1.00 - ETA: 8s - loss: 0.0047 - accuracy: 1.00 - ETA: 8s - loss: 0.0046 - accuracy: 1.00 - ETA: 8s - loss: 0.0046 - accuracy: 1.00 - ETA: 8s - loss: 0.0048 - accuracy: 1.00 - ETA: 8s - loss: 0.0047 - accuracy: 1.00 - ETA: 8s - loss: 0.0046 - accuracy: 1.00 - ETA: 7s - loss: 0.0045 - accuracy: 1.00 - ETA: 7s - loss: 0.0050 - accuracy: 1.00 - ETA: 7s - loss: 0.0049 - accuracy: 1.00 - ETA: 7s - loss: 0.0048 - accuracy: 1.00 - ETA: 7s - loss: 0.0047 - accuracy: 1.00 - ETA: 7s - loss: 0.0048 - accuracy: 1.00 - ETA: 7s - loss: 0.0047 - accuracy: 1.00 - ETA: 7s - loss: 0.0046 - accuracy: 1.00 - ETA: 7s - loss: 0.0047 - accuracy: 1.00 - ETA: 7s - loss: 0.0046 - accuracy: 1.00 - ETA: 7s - loss: 0.0045 - accuracy: 1.00 - ETA: 7s - loss: 0.0044 - accuracy: 1.00 - ETA: 7s - loss: 0.0044 - accuracy: 1.00 - ETA: 7s - loss: 0.0047 - accuracy: 1.00 - ETA: 7s - loss: 0.0047 - accuracy: 1.00 - ETA: 6s - loss: 0.0050 - accuracy: 1.00 - ETA: 6s - loss: 0.0049 - accuracy: 1.00 - ETA: 6s - loss: 0.0049 - accuracy: 1.00 - ETA: 6s - loss: 0.0048 - accuracy: 1.00 - ETA: 6s - loss: 0.0047 - accuracy: 1.00 - ETA: 6s - loss: 0.0046 - accuracy: 1.00 - ETA: 6s - loss: 0.0046 - accuracy: 1.00 - ETA: 6s - loss: 0.0045 - accuracy: 1.00 - ETA: 6s - loss: 0.0044 - accuracy: 1.00 - ETA: 6s - loss: 0.0044 - accuracy: 1.00 - ETA: 6s - loss: 0.0043 - accuracy: 1.00 - ETA: 6s - loss: 0.0043 - accuracy: 1.00 - ETA: 6s - loss: 0.0042 - accuracy: 1.00 - ETA: 6s - loss: 0.0048 - accuracy: 1.00 - ETA: 6s - loss: 0.0048 - accuracy: 1.00 - ETA: 6s - loss: 0.0047 - accuracy: 1.00 - ETA: 5s - loss: 0.0047 - accuracy: 1.00 - ETA: 5s - loss: 0.0046 - accuracy: 1.00 - ETA: 5s - loss: 0.0046 - accuracy: 1.00 - ETA: 5s - loss: 0.0045 - accuracy: 1.00 - ETA: 5s - loss: 0.0045 - accuracy: 1.00 - ETA: 5s - loss: 0.0048 - accuracy: 1.00 - ETA: 5s - loss: 0.0048 - accuracy: 1.00 - ETA: 5s - loss: 0.0048 - accuracy: 1.00 - ETA: 5s - loss: 0.0047 - accuracy: 1.00 - ETA: 5s - loss: 0.0057 - accuracy: 0.99 - ETA: 5s - loss: 0.0057 - accuracy: 0.99 - ETA: 5s - loss: 0.0056 - accuracy: 0.99 - ETA: 5s - loss: 0.0055 - accuracy: 0.99 - ETA: 5s - loss: 0.0055 - accuracy: 0.99 - ETA: 4s - loss: 0.0054 - accuracy: 0.99 - ETA: 4s - loss: 0.0054 - accuracy: 0.99 - ETA: 4s - loss: 0.0053 - accuracy: 0.99 - ETA: 4s - loss: 0.0053 - accuracy: 0.99 - ETA: 4s - loss: 0.0055 - accuracy: 0.99 - ETA: 4s - loss: 0.0054 - accuracy: 0.99 - ETA: 4s - loss: 0.0054 - accuracy: 0.99 - ETA: 4s - loss: 0.0053 - accuracy: 0.99 - ETA: 4s - loss: 0.0053 - accuracy: 0.99 - ETA: 4s - loss: 0.0052 - accuracy: 0.99 - ETA: 4s - loss: 0.0052 - accuracy: 0.99 - ETA: 4s - loss: 0.0051 - accuracy: 0.99 - ETA: 4s - loss: 0.0051 - accuracy: 0.99 - ETA: 4s - loss: 0.0050 - accuracy: 0.99 - ETA: 4s - loss: 0.0050 - accuracy: 0.99 - ETA: 3s - loss: 0.0049 - accuracy: 0.99 - ETA: 3s - loss: 0.0049 - accuracy: 0.99 - ETA: 3s - loss: 0.0048 - accuracy: 0.99 - ETA: 3s - loss: 0.0048 - accuracy: 0.99 - ETA: 3s - loss: 0.0047 - accuracy: 0.99 - ETA: 3s - loss: 0.0047 - accuracy: 0.99 - ETA: 3s - loss: 0.0047 - accuracy: 0.99 - ETA: 3s - loss: 0.0046 - accuracy: 0.99 - ETA: 3s - loss: 0.0054 - accuracy: 0.99 - ETA: 3s - loss: 0.0053 - accuracy: 0.99 - ETA: 3s - loss: 0.0053 - accuracy: 0.99 - ETA: 3s - loss: 0.0052 - accuracy: 0.99 - ETA: 3s - loss: 0.0052 - accuracy: 0.99 - ETA: 3s - loss: 0.0052 - accuracy: 0.99 - ETA: 3s - loss: 0.0051 - accuracy: 0.99 - ETA: 2s - loss: 0.0051 - accuracy: 0.99 - ETA: 2s - loss: 0.0051 - accuracy: 0.99 - ETA: 2s - loss: 0.0051 - accuracy: 0.99 - ETA: 2s - loss: 0.0051 - accuracy: 0.99 - ETA: 2s - loss: 0.0052 - accuracy: 0.99 - ETA: 2s - loss: 0.0052 - accuracy: 0.99 - ETA: 2s - loss: 0.0051 - accuracy: 0.99 - ETA: 2s - loss: 0.0051 - accuracy: 0.99 - ETA: 2s - loss: 0.0051 - accuracy: 0.99 - ETA: 2s - loss: 0.0050 - accuracy: 0.99 - ETA: 2s - loss: 0.0060 - accuracy: 0.99 - ETA: 2s - loss: 0.0060 - accuracy: 0.99 - ETA: 2s - loss: 0.0060 - accuracy: 0.99 - ETA: 2s - loss: 0.0059 - accuracy: 0.99 - ETA: 2s - loss: 0.0059 - accuracy: 0.99 - ETA: 1s - loss: 0.0058 - accuracy: 0.99 - ETA: 1s - loss: 0.0058 - accuracy: 0.99 - ETA: 1s - loss: 0.0057 - accuracy: 0.99 - ETA: 1s - loss: 0.0057 - accuracy: 0.99 - ETA: 1s - loss: 0.0057 - accuracy: 0.99 - ETA: 1s - loss: 0.0056 - accuracy: 0.99 - ETA: 1s - loss: 0.0056 - accuracy: 0.99 - ETA: 1s - loss: 0.0055 - accuracy: 0.99 - ETA: 1s - loss: 0.0055 - accuracy: 0.99 - ETA: 1s - loss: 0.0055 - accuracy: 0.99 - ETA: 1s - loss: 0.0054 - accuracy: 0.99 - ETA: 1s - loss: 0.0054 - accuracy: 0.99 - ETA: 1s - loss: 0.0054 - accuracy: 0.99 - ETA: 1s - loss: 0.0053 - accuracy: 0.99 - ETA: 1s - loss: 0.0053 - accuracy: 0.99 - ETA: 1s - loss: 0.0053 - accuracy: 0.99 - ETA: 0s - loss: 0.0052 - accuracy: 0.99 - ETA: 0s - loss: 0.0052 - accuracy: 0.99 - ETA: 0s - loss: 0.0052 - accuracy: 0.99 - ETA: 0s - loss: 0.0051 - accuracy: 0.99 - ETA: 0s - loss: 0.0051 - accuracy: 0.99 - ETA: 0s - loss: 0.0051 - accuracy: 0.99 - ETA: 0s - loss: 0.0050 - accuracy: 0.99 - ETA: 0s - loss: 0.0050 - accuracy: 0.99 - ETA: 0s - loss: 0.0050 - accuracy: 0.99 - ETA: 0s - loss: 0.0049 - accuracy: 0.99 - ETA: 0s - loss: 0.0049 - accuracy: 0.99 - ETA: 0s - loss: 0.0049 - accuracy: 0.99 - ETA: 0s - loss: 0.0048 - accuracy: 0.99 - ETA: 0s - loss: 0.0048 - accuracy: 0.99 - ETA: 0s - loss: 0.0048 - accuracy: 0.99 - ETA: 0s - loss: 0.0047 - accuracy: 0.99 - 11s 8ms/step - loss: 0.0047 - accuracy: 0.9977 - val_loss: 8.3718e-05 - val_accuracy: 1.0000\n",
      "Epoch 7/50\n"
     ]
    },
    {
     "name": "stdout",
     "output_type": "stream",
     "text": [
      "1325/1325 [==============================] - ETA: 9s - loss: 4.7710e-05 - accuracy: 1.00 - ETA: 9s - loss: 5.6186e-05 - accuracy: 1.00 - ETA: 9s - loss: 3.3908e-05 - accuracy: 1.00 - ETA: 9s - loss: 2.9193e-05 - accuracy: 1.00 - ETA: 9s - loss: 0.0011 - accuracy: 1.0000   - ETA: 9s - loss: 0.0014 - accuracy: 1.00 - ETA: 9s - loss: 0.0012 - accuracy: 1.00 - ETA: 9s - loss: 0.0010 - accuracy: 1.00 - ETA: 9s - loss: 0.0011 - accuracy: 1.00 - ETA: 9s - loss: 0.0010 - accuracy: 1.00 - ETA: 9s - loss: 9.1970e-04 - accuracy: 1.00 - ETA: 9s - loss: 8.3973e-04 - accuracy: 1.00 - ETA: 9s - loss: 7.7365e-04 - accuracy: 1.00 - ETA: 9s - loss: 7.1635e-04 - accuracy: 1.00 - ETA: 9s - loss: 6.7347e-04 - accuracy: 1.00 - ETA: 9s - loss: 6.3003e-04 - accuracy: 1.00 - ETA: 9s - loss: 5.9207e-04 - accuracy: 1.00 - ETA: 10s - loss: 5.7466e-04 - accuracy: 1.000 - ETA: 10s - loss: 5.5851e-04 - accuracy: 1.000 - ETA: 10s - loss: 5.7162e-04 - accuracy: 1.000 - ETA: 10s - loss: 0.0012 - accuracy: 1.0000    - ETA: 10s - loss: 0.0011 - accuracy: 1.000 - ETA: 10s - loss: 0.0011 - accuracy: 1.000 - ETA: 10s - loss: 0.0011 - accuracy: 1.000 - ETA: 10s - loss: 0.0010 - accuracy: 1.000 - ETA: 10s - loss: 0.0011 - accuracy: 1.000 - ETA: 10s - loss: 0.0012 - accuracy: 1.000 - ETA: 10s - loss: 0.0012 - accuracy: 1.000 - ETA: 10s - loss: 0.0011 - accuracy: 1.000 - ETA: 10s - loss: 0.0011 - accuracy: 1.000 - ETA: 10s - loss: 0.0011 - accuracy: 1.000 - ETA: 10s - loss: 0.0010 - accuracy: 1.000 - ETA: 9s - loss: 0.0012 - accuracy: 1.000 - ETA: 9s - loss: 0.0012 - accuracy: 1.00 - ETA: 9s - loss: 0.0011 - accuracy: 1.00 - ETA: 9s - loss: 0.0011 - accuracy: 1.00 - ETA: 9s - loss: 0.0011 - accuracy: 1.00 - ETA: 9s - loss: 0.0011 - accuracy: 1.00 - ETA: 9s - loss: 0.0010 - accuracy: 1.00 - ETA: 9s - loss: 9.9335e-04 - accuracy: 1.00 - ETA: 9s - loss: 9.6763e-04 - accuracy: 1.00 - ETA: 9s - loss: 9.4251e-04 - accuracy: 1.00 - ETA: 9s - loss: 9.3043e-04 - accuracy: 1.00 - ETA: 9s - loss: 9.1865e-04 - accuracy: 1.00 - ETA: 9s - loss: 8.9619e-04 - accuracy: 1.00 - ETA: 9s - loss: 8.7459e-04 - accuracy: 1.00 - ETA: 9s - loss: 8.5489e-04 - accuracy: 1.00 - ETA: 9s - loss: 8.3524e-04 - accuracy: 1.00 - ETA: 8s - loss: 8.9511e-04 - accuracy: 1.00 - ETA: 8s - loss: 8.7544e-04 - accuracy: 1.00 - ETA: 8s - loss: 8.6334e-04 - accuracy: 1.00 - ETA: 8s - loss: 8.5704e-04 - accuracy: 1.00 - ETA: 8s - loss: 8.3937e-04 - accuracy: 1.00 - ETA: 8s - loss: 8.9552e-04 - accuracy: 1.00 - ETA: 8s - loss: 8.7803e-04 - accuracy: 1.00 - ETA: 8s - loss: 8.6098e-04 - accuracy: 1.00 - ETA: 8s - loss: 0.0011 - accuracy: 1.0000   - ETA: 8s - loss: 0.0011 - accuracy: 1.00 - ETA: 8s - loss: 0.0010 - accuracy: 1.00 - ETA: 8s - loss: 0.0010 - accuracy: 1.00 - ETA: 8s - loss: 0.0010 - accuracy: 1.00 - ETA: 8s - loss: 0.0010 - accuracy: 1.00 - ETA: 8s - loss: 9.9197e-04 - accuracy: 1.00 - ETA: 8s - loss: 0.0010 - accuracy: 1.0000   - ETA: 8s - loss: 0.0012 - accuracy: 1.00 - ETA: 8s - loss: 0.0012 - accuracy: 1.00 - ETA: 7s - loss: 0.0012 - accuracy: 1.00 - ETA: 7s - loss: 0.0012 - accuracy: 1.00 - ETA: 7s - loss: 0.0012 - accuracy: 1.00 - ETA: 7s - loss: 0.0011 - accuracy: 1.00 - ETA: 7s - loss: 0.0011 - accuracy: 1.00 - ETA: 7s - loss: 0.0011 - accuracy: 1.00 - ETA: 7s - loss: 0.0022 - accuracy: 1.00 - ETA: 7s - loss: 0.0022 - accuracy: 1.00 - ETA: 7s - loss: 0.0022 - accuracy: 1.00 - ETA: 7s - loss: 0.0021 - accuracy: 1.00 - ETA: 7s - loss: 0.0021 - accuracy: 1.00 - ETA: 7s - loss: 0.0023 - accuracy: 1.00 - ETA: 6s - loss: 0.0023 - accuracy: 1.00 - ETA: 6s - loss: 0.0022 - accuracy: 1.00 - ETA: 6s - loss: 0.0022 - accuracy: 1.00 - ETA: 6s - loss: 0.0022 - accuracy: 1.00 - ETA: 6s - loss: 0.0037 - accuracy: 0.99 - ETA: 6s - loss: 0.0037 - accuracy: 0.99 - ETA: 6s - loss: 0.0036 - accuracy: 0.99 - ETA: 6s - loss: 0.0036 - accuracy: 0.99 - ETA: 6s - loss: 0.0051 - accuracy: 0.99 - ETA: 6s - loss: 0.0101 - accuracy: 0.99 - ETA: 6s - loss: 0.0099 - accuracy: 0.99 - ETA: 6s - loss: 0.0099 - accuracy: 0.99 - ETA: 6s - loss: 0.0097 - accuracy: 0.99 - ETA: 5s - loss: 0.0097 - accuracy: 0.99 - ETA: 5s - loss: 0.0095 - accuracy: 0.99 - ETA: 5s - loss: 0.0175 - accuracy: 0.99 - ETA: 5s - loss: 0.0173 - accuracy: 0.99 - ETA: 5s - loss: 0.0200 - accuracy: 0.99 - ETA: 5s - loss: 0.0198 - accuracy: 0.99 - ETA: 5s - loss: 0.0196 - accuracy: 0.99 - ETA: 5s - loss: 0.0194 - accuracy: 0.99 - ETA: 5s - loss: 0.0200 - accuracy: 0.99 - ETA: 5s - loss: 0.0197 - accuracy: 0.99 - ETA: 5s - loss: 0.0195 - accuracy: 0.99 - ETA: 5s - loss: 0.0193 - accuracy: 0.99 - ETA: 5s - loss: 0.0191 - accuracy: 0.99 - ETA: 4s - loss: 0.0189 - accuracy: 0.99 - ETA: 4s - loss: 0.0193 - accuracy: 0.99 - ETA: 4s - loss: 0.0191 - accuracy: 0.99 - ETA: 4s - loss: 0.0201 - accuracy: 0.99 - ETA: 4s - loss: 0.0199 - accuracy: 0.99 - ETA: 4s - loss: 0.0197 - accuracy: 0.99 - ETA: 4s - loss: 0.0195 - accuracy: 0.99 - ETA: 4s - loss: 0.0193 - accuracy: 0.99 - ETA: 4s - loss: 0.0192 - accuracy: 0.99 - ETA: 4s - loss: 0.0190 - accuracy: 0.99 - ETA: 4s - loss: 0.0188 - accuracy: 0.99 - ETA: 4s - loss: 0.0186 - accuracy: 0.99 - ETA: 4s - loss: 0.0256 - accuracy: 0.99 - ETA: 3s - loss: 0.0254 - accuracy: 0.99 - ETA: 3s - loss: 0.0251 - accuracy: 0.99 - ETA: 3s - loss: 0.0250 - accuracy: 0.99 - ETA: 3s - loss: 0.0248 - accuracy: 0.99 - ETA: 3s - loss: 0.0247 - accuracy: 0.99 - ETA: 3s - loss: 0.0245 - accuracy: 0.99 - ETA: 3s - loss: 0.0246 - accuracy: 0.99 - ETA: 3s - loss: 0.0244 - accuracy: 0.99 - ETA: 3s - loss: 0.0242 - accuracy: 0.99 - ETA: 3s - loss: 0.0251 - accuracy: 0.99 - ETA: 3s - loss: 0.0249 - accuracy: 0.99 - ETA: 3s - loss: 0.0261 - accuracy: 0.99 - ETA: 3s - loss: 0.0259 - accuracy: 0.99 - ETA: 3s - loss: 0.0257 - accuracy: 0.99 - ETA: 2s - loss: 0.0255 - accuracy: 0.99 - ETA: 2s - loss: 0.0253 - accuracy: 0.99 - ETA: 2s - loss: 0.0251 - accuracy: 0.99 - ETA: 2s - loss: 0.0249 - accuracy: 0.99 - ETA: 2s - loss: 0.0247 - accuracy: 0.99 - ETA: 2s - loss: 0.0245 - accuracy: 0.99 - ETA: 2s - loss: 0.0244 - accuracy: 0.99 - ETA: 2s - loss: 0.0242 - accuracy: 0.99 - ETA: 2s - loss: 0.0240 - accuracy: 0.99 - ETA: 2s - loss: 0.0238 - accuracy: 0.99 - ETA: 2s - loss: 0.0236 - accuracy: 0.99 - ETA: 2s - loss: 0.0235 - accuracy: 0.99 - ETA: 2s - loss: 0.0233 - accuracy: 0.99 - ETA: 2s - loss: 0.0231 - accuracy: 0.99 - ETA: 1s - loss: 0.0230 - accuracy: 0.99 - ETA: 1s - loss: 0.0228 - accuracy: 0.99 - ETA: 1s - loss: 0.0227 - accuracy: 0.99 - ETA: 1s - loss: 0.0226 - accuracy: 0.99 - ETA: 1s - loss: 0.0224 - accuracy: 0.99 - ETA: 1s - loss: 0.0222 - accuracy: 0.99 - ETA: 1s - loss: 0.0221 - accuracy: 0.99 - ETA: 1s - loss: 0.0225 - accuracy: 0.99 - ETA: 1s - loss: 0.0224 - accuracy: 0.99 - ETA: 1s - loss: 0.0222 - accuracy: 0.99 - ETA: 1s - loss: 0.0221 - accuracy: 0.99 - ETA: 1s - loss: 0.0219 - accuracy: 0.99 - ETA: 1s - loss: 0.0218 - accuracy: 0.99 - ETA: 1s - loss: 0.0216 - accuracy: 0.99 - ETA: 0s - loss: 0.0215 - accuracy: 0.99 - ETA: 0s - loss: 0.0214 - accuracy: 0.99 - ETA: 0s - loss: 0.0212 - accuracy: 0.99 - ETA: 0s - loss: 0.0211 - accuracy: 0.99 - ETA: 0s - loss: 0.0209 - accuracy: 0.99 - ETA: 0s - loss: 0.0209 - accuracy: 0.99 - ETA: 0s - loss: 0.0212 - accuracy: 0.99 - ETA: 0s - loss: 0.0211 - accuracy: 0.99 - ETA: 0s - loss: 0.0209 - accuracy: 0.99 - ETA: 0s - loss: 0.0208 - accuracy: 0.99 - ETA: 0s - loss: 0.0207 - accuracy: 0.99 - ETA: 0s - loss: 0.0206 - accuracy: 0.99 - ETA: 0s - loss: 0.0205 - accuracy: 0.99 - ETA: 0s - loss: 0.0203 - accuracy: 0.99 - 12s 9ms/step - loss: 0.0203 - accuracy: 0.9932 - val_loss: 0.0082 - val_accuracy: 0.9970\n",
      "Epoch 8/50\n"
     ]
    },
    {
     "name": "stdout",
     "output_type": "stream",
     "text": [
      "1325/1325 [==============================] - ETA: 9s - loss: 9.6988e-05 - accuracy: 1.00 - ETA: 10s - loss: 0.0702 - accuracy: 0.9167   - ETA: 10s - loss: 0.0421 - accuracy: 0.950 - ETA: 10s - loss: 0.0301 - accuracy: 0.964 - ETA: 10s - loss: 0.0234 - accuracy: 0.972 - ETA: 10s - loss: 0.0194 - accuracy: 0.977 - ETA: 10s - loss: 0.0164 - accuracy: 0.980 - ETA: 10s - loss: 0.0142 - accuracy: 0.983 - ETA: 10s - loss: 0.0126 - accuracy: 0.985 - ETA: 10s - loss: 0.0112 - accuracy: 0.986 - ETA: 10s - loss: 0.0102 - accuracy: 0.988 - ETA: 9s - loss: 0.0094 - accuracy: 0.989 - ETA: 9s - loss: 0.0086 - accuracy: 0.99 - ETA: 9s - loss: 0.0080 - accuracy: 0.99 - ETA: 9s - loss: 0.0078 - accuracy: 0.99 - ETA: 9s - loss: 0.0073 - accuracy: 0.99 - ETA: 9s - loss: 0.0069 - accuracy: 0.99 - ETA: 9s - loss: 0.0067 - accuracy: 0.99 - ETA: 9s - loss: 0.0064 - accuracy: 0.99 - ETA: 9s - loss: 0.0060 - accuracy: 0.99 - ETA: 9s - loss: 0.0057 - accuracy: 0.99 - ETA: 9s - loss: 0.0055 - accuracy: 0.99 - ETA: 9s - loss: 0.0053 - accuracy: 0.99 - ETA: 9s - loss: 0.0051 - accuracy: 0.99 - ETA: 9s - loss: 0.0049 - accuracy: 0.99 - ETA: 9s - loss: 0.0047 - accuracy: 0.99 - ETA: 9s - loss: 0.0045 - accuracy: 0.99 - ETA: 8s - loss: 0.0044 - accuracy: 0.99 - ETA: 8s - loss: 0.0043 - accuracy: 0.99 - ETA: 8s - loss: 0.0041 - accuracy: 0.99 - ETA: 8s - loss: 0.0040 - accuracy: 0.99 - ETA: 8s - loss: 0.0039 - accuracy: 0.99 - ETA: 8s - loss: 0.0038 - accuracy: 0.99 - ETA: 8s - loss: 0.0037 - accuracy: 0.99 - ETA: 8s - loss: 0.0036 - accuracy: 0.99 - ETA: 8s - loss: 0.0035 - accuracy: 0.99 - ETA: 8s - loss: 0.0034 - accuracy: 0.99 - ETA: 8s - loss: 0.0033 - accuracy: 0.99 - ETA: 8s - loss: 0.0032 - accuracy: 0.99 - ETA: 8s - loss: 0.0031 - accuracy: 0.99 - ETA: 8s - loss: 0.0030 - accuracy: 0.99 - ETA: 8s - loss: 0.0030 - accuracy: 0.99 - ETA: 8s - loss: 0.0029 - accuracy: 0.99 - ETA: 8s - loss: 0.0028 - accuracy: 0.99 - ETA: 7s - loss: 0.0028 - accuracy: 0.99 - ETA: 7s - loss: 0.0027 - accuracy: 0.99 - ETA: 7s - loss: 0.0027 - accuracy: 0.99 - ETA: 7s - loss: 0.0026 - accuracy: 0.99 - ETA: 7s - loss: 0.0026 - accuracy: 0.99 - ETA: 7s - loss: 0.0026 - accuracy: 0.99 - ETA: 7s - loss: 0.0025 - accuracy: 0.99 - ETA: 7s - loss: 0.0083 - accuracy: 0.99 - ETA: 7s - loss: 0.0082 - accuracy: 0.99 - ETA: 7s - loss: 0.0080 - accuracy: 0.99 - ETA: 7s - loss: 0.0079 - accuracy: 0.99 - ETA: 7s - loss: 0.0078 - accuracy: 0.99 - ETA: 7s - loss: 0.0081 - accuracy: 0.99 - ETA: 6s - loss: 0.0080 - accuracy: 0.99 - ETA: 6s - loss: 0.0081 - accuracy: 0.99 - ETA: 6s - loss: 0.0080 - accuracy: 0.99 - ETA: 6s - loss: 0.0079 - accuracy: 0.99 - ETA: 6s - loss: 0.0077 - accuracy: 0.99 - ETA: 6s - loss: 0.0076 - accuracy: 0.99 - ETA: 6s - loss: 0.0075 - accuracy: 0.99 - ETA: 6s - loss: 0.0074 - accuracy: 0.99 - ETA: 6s - loss: 0.0073 - accuracy: 0.99 - ETA: 6s - loss: 0.0072 - accuracy: 0.99 - ETA: 6s - loss: 0.0071 - accuracy: 0.99 - ETA: 6s - loss: 0.0070 - accuracy: 0.99 - ETA: 6s - loss: 0.0075 - accuracy: 0.99 - ETA: 6s - loss: 0.0074 - accuracy: 0.99 - ETA: 6s - loss: 0.0217 - accuracy: 0.99 - ETA: 6s - loss: 0.0214 - accuracy: 0.99 - ETA: 5s - loss: 0.0211 - accuracy: 0.99 - ETA: 5s - loss: 0.0208 - accuracy: 0.99 - ETA: 5s - loss: 0.0206 - accuracy: 0.99 - ETA: 5s - loss: 0.0203 - accuracy: 0.99 - ETA: 5s - loss: 0.0200 - accuracy: 0.99 - ETA: 5s - loss: 0.0198 - accuracy: 0.99 - ETA: 5s - loss: 0.0195 - accuracy: 0.99 - ETA: 5s - loss: 0.0193 - accuracy: 0.99 - ETA: 5s - loss: 0.0190 - accuracy: 0.99 - ETA: 5s - loss: 0.0188 - accuracy: 0.99 - ETA: 5s - loss: 0.0186 - accuracy: 0.99 - ETA: 5s - loss: 0.0184 - accuracy: 0.99 - ETA: 5s - loss: 0.0182 - accuracy: 0.99 - ETA: 5s - loss: 0.0180 - accuracy: 0.99 - ETA: 5s - loss: 0.0178 - accuracy: 0.99 - ETA: 4s - loss: 0.0176 - accuracy: 0.99 - ETA: 4s - loss: 0.0176 - accuracy: 0.99 - ETA: 4s - loss: 0.0186 - accuracy: 0.99 - ETA: 4s - loss: 0.0184 - accuracy: 0.99 - ETA: 4s - loss: 0.0182 - accuracy: 0.99 - ETA: 4s - loss: 0.0184 - accuracy: 0.99 - ETA: 4s - loss: 0.0182 - accuracy: 0.99 - ETA: 4s - loss: 0.0180 - accuracy: 0.99 - ETA: 4s - loss: 0.0178 - accuracy: 0.99 - ETA: 4s - loss: 0.0177 - accuracy: 0.99 - ETA: 4s - loss: 0.0175 - accuracy: 0.99 - ETA: 4s - loss: 0.0173 - accuracy: 0.99 - ETA: 4s - loss: 0.0172 - accuracy: 0.99 - ETA: 4s - loss: 0.0170 - accuracy: 0.99 - ETA: 4s - loss: 0.0169 - accuracy: 0.99 - ETA: 4s - loss: 0.0168 - accuracy: 0.99 - ETA: 3s - loss: 0.0166 - accuracy: 0.99 - ETA: 3s - loss: 0.0165 - accuracy: 0.99 - ETA: 3s - loss: 0.0276 - accuracy: 0.99 - ETA: 3s - loss: 0.0274 - accuracy: 0.99 - ETA: 3s - loss: 0.0273 - accuracy: 0.99 - ETA: 3s - loss: 0.0271 - accuracy: 0.99 - ETA: 3s - loss: 0.0268 - accuracy: 0.99 - ETA: 3s - loss: 0.0266 - accuracy: 0.99 - ETA: 3s - loss: 0.0263 - accuracy: 0.99 - ETA: 3s - loss: 0.0261 - accuracy: 0.99 - ETA: 3s - loss: 0.0259 - accuracy: 0.99 - ETA: 3s - loss: 0.0257 - accuracy: 0.99 - ETA: 3s - loss: 0.0255 - accuracy: 0.99 - ETA: 3s - loss: 0.0253 - accuracy: 0.99 - ETA: 3s - loss: 0.0251 - accuracy: 0.99 - ETA: 3s - loss: 0.0253 - accuracy: 0.99 - ETA: 2s - loss: 0.0251 - accuracy: 0.99 - ETA: 2s - loss: 0.0249 - accuracy: 0.99 - ETA: 2s - loss: 0.0247 - accuracy: 0.99 - ETA: 2s - loss: 0.0245 - accuracy: 0.99 - ETA: 2s - loss: 0.0243 - accuracy: 0.99 - ETA: 2s - loss: 0.0241 - accuracy: 0.99 - ETA: 2s - loss: 0.0239 - accuracy: 0.99 - ETA: 2s - loss: 0.0237 - accuracy: 0.99 - ETA: 2s - loss: 0.0235 - accuracy: 0.99 - ETA: 2s - loss: 0.0233 - accuracy: 0.99 - ETA: 2s - loss: 0.0232 - accuracy: 0.99 - ETA: 2s - loss: 0.0230 - accuracy: 0.99 - ETA: 2s - loss: 0.0228 - accuracy: 0.99 - ETA: 2s - loss: 0.0227 - accuracy: 0.99 - ETA: 2s - loss: 0.0225 - accuracy: 0.99 - ETA: 2s - loss: 0.0223 - accuracy: 0.99 - ETA: 1s - loss: 0.0223 - accuracy: 0.99 - ETA: 1s - loss: 0.0221 - accuracy: 0.99 - ETA: 1s - loss: 0.0220 - accuracy: 0.99 - ETA: 1s - loss: 0.0219 - accuracy: 0.99 - ETA: 1s - loss: 0.0217 - accuracy: 0.99 - ETA: 1s - loss: 0.0216 - accuracy: 0.99 - ETA: 1s - loss: 0.0214 - accuracy: 0.99 - ETA: 1s - loss: 0.0213 - accuracy: 0.99 - ETA: 1s - loss: 0.0211 - accuracy: 0.99 - ETA: 1s - loss: 0.0210 - accuracy: 0.99 - ETA: 1s - loss: 0.0209 - accuracy: 0.99 - ETA: 1s - loss: 0.0207 - accuracy: 0.99 - ETA: 1s - loss: 0.0206 - accuracy: 0.99 - ETA: 1s - loss: 0.0204 - accuracy: 0.99 - ETA: 1s - loss: 0.0203 - accuracy: 0.99 - ETA: 0s - loss: 0.0202 - accuracy: 0.99 - ETA: 0s - loss: 0.0201 - accuracy: 0.99 - ETA: 0s - loss: 0.0199 - accuracy: 0.99 - ETA: 0s - loss: 0.0198 - accuracy: 0.99 - ETA: 0s - loss: 0.0197 - accuracy: 0.99 - ETA: 0s - loss: 0.0196 - accuracy: 0.99 - ETA: 0s - loss: 0.0195 - accuracy: 0.99 - ETA: 0s - loss: 0.0194 - accuracy: 0.99 - ETA: 0s - loss: 0.0193 - accuracy: 0.99 - ETA: 0s - loss: 0.0191 - accuracy: 0.99 - ETA: 0s - loss: 0.0190 - accuracy: 0.99 - ETA: 0s - loss: 0.0189 - accuracy: 0.99 - ETA: 0s - loss: 0.0203 - accuracy: 0.99 - ETA: 0s - loss: 0.0202 - accuracy: 0.99 - ETA: 0s - loss: 0.0201 - accuracy: 0.99 - ETA: 0s - loss: 0.0199 - accuracy: 0.99 - 11s 9ms/step - loss: 0.0199 - accuracy: 0.9955 - val_loss: 0.0418 - val_accuracy: 0.9910\n",
      "Epoch 9/50\n"
     ]
    },
    {
     "name": "stdout",
     "output_type": "stream",
     "text": [
      "1325/1325 [==============================] - ETA: 9s - loss: 0.0756 - accuracy: 1.00 - ETA: 10s - loss: 0.0252 - accuracy: 1.000 - ETA: 11s - loss: 0.0158 - accuracy: 1.000 - ETA: 11s - loss: 0.0113 - accuracy: 1.000 - ETA: 11s - loss: 0.0088 - accuracy: 1.000 - ETA: 11s - loss: 0.0072 - accuracy: 1.000 - ETA: 11s - loss: 0.0081 - accuracy: 1.000 - ETA: 11s - loss: 0.0071 - accuracy: 1.000 - ETA: 11s - loss: 0.0062 - accuracy: 1.000 - ETA: 11s - loss: 0.0060 - accuracy: 1.000 - ETA: 10s - loss: 0.0054 - accuracy: 1.000 - ETA: 10s - loss: 0.0050 - accuracy: 1.000 - ETA: 10s - loss: 0.0270 - accuracy: 0.990 - ETA: 10s - loss: 0.0250 - accuracy: 0.990 - ETA: 10s - loss: 0.0233 - accuracy: 0.991 - ETA: 10s - loss: 0.0223 - accuracy: 0.991 - ETA: 10s - loss: 0.0220 - accuracy: 0.992 - ETA: 10s - loss: 0.0207 - accuracy: 0.992 - ETA: 9s - loss: 0.0197 - accuracy: 0.993 - ETA: 9s - loss: 0.0677 - accuracy: 0.98 - ETA: 9s - loss: 0.0644 - accuracy: 0.98 - ETA: 9s - loss: 0.0615 - accuracy: 0.98 - ETA: 9s - loss: 0.0588 - accuracy: 0.98 - ETA: 9s - loss: 0.0612 - accuracy: 0.98 - ETA: 9s - loss: 0.0588 - accuracy: 0.98 - ETA: 9s - loss: 0.0572 - accuracy: 0.98 - ETA: 9s - loss: 0.0551 - accuracy: 0.98 - ETA: 9s - loss: 0.0532 - accuracy: 0.98 - ETA: 9s - loss: 0.0514 - accuracy: 0.98 - ETA: 9s - loss: 0.0505 - accuracy: 0.98 - ETA: 9s - loss: 0.0494 - accuracy: 0.98 - ETA: 8s - loss: 0.0478 - accuracy: 0.98 - ETA: 8s - loss: 0.0464 - accuracy: 0.98 - ETA: 8s - loss: 0.0451 - accuracy: 0.98 - ETA: 8s - loss: 0.0438 - accuracy: 0.98 - ETA: 8s - loss: 0.0425 - accuracy: 0.98 - ETA: 8s - loss: 0.0414 - accuracy: 0.98 - ETA: 8s - loss: 0.0403 - accuracy: 0.99 - ETA: 8s - loss: 0.0394 - accuracy: 0.99 - ETA: 8s - loss: 0.0384 - accuracy: 0.99 - ETA: 8s - loss: 0.0374 - accuracy: 0.99 - ETA: 8s - loss: 0.0365 - accuracy: 0.99 - ETA: 8s - loss: 0.0357 - accuracy: 0.99 - ETA: 8s - loss: 0.0348 - accuracy: 0.99 - ETA: 8s - loss: 0.0341 - accuracy: 0.99 - ETA: 8s - loss: 0.0365 - accuracy: 0.98 - ETA: 8s - loss: 0.0357 - accuracy: 0.98 - ETA: 7s - loss: 0.0350 - accuracy: 0.98 - ETA: 7s - loss: 0.0343 - accuracy: 0.98 - ETA: 7s - loss: 0.0336 - accuracy: 0.98 - ETA: 7s - loss: 0.0329 - accuracy: 0.99 - ETA: 7s - loss: 0.0323 - accuracy: 0.99 - ETA: 7s - loss: 0.0317 - accuracy: 0.99 - ETA: 7s - loss: 0.0311 - accuracy: 0.99 - ETA: 7s - loss: 0.0305 - accuracy: 0.99 - ETA: 7s - loss: 0.0300 - accuracy: 0.99 - ETA: 7s - loss: 0.0295 - accuracy: 0.99 - ETA: 7s - loss: 0.0290 - accuracy: 0.99 - ETA: 7s - loss: 0.0285 - accuracy: 0.99 - ETA: 7s - loss: 0.0281 - accuracy: 0.99 - ETA: 7s - loss: 0.0276 - accuracy: 0.99 - ETA: 7s - loss: 0.0271 - accuracy: 0.99 - ETA: 6s - loss: 0.0267 - accuracy: 0.99 - ETA: 6s - loss: 0.0263 - accuracy: 0.99 - ETA: 6s - loss: 0.0259 - accuracy: 0.99 - ETA: 6s - loss: 0.0255 - accuracy: 0.99 - ETA: 6s - loss: 0.0251 - accuracy: 0.99 - ETA: 6s - loss: 0.0248 - accuracy: 0.99 - ETA: 6s - loss: 0.0244 - accuracy: 0.99 - ETA: 6s - loss: 0.0241 - accuracy: 0.99 - ETA: 6s - loss: 0.0237 - accuracy: 0.99 - ETA: 6s - loss: 0.0234 - accuracy: 0.99 - ETA: 6s - loss: 0.0232 - accuracy: 0.99 - ETA: 6s - loss: 0.0229 - accuracy: 0.99 - ETA: 6s - loss: 0.0226 - accuracy: 0.99 - ETA: 6s - loss: 0.0223 - accuracy: 0.99 - ETA: 5s - loss: 0.0220 - accuracy: 0.99 - ETA: 5s - loss: 0.0217 - accuracy: 0.99 - ETA: 5s - loss: 0.0215 - accuracy: 0.99 - ETA: 5s - loss: 0.0212 - accuracy: 0.99 - ETA: 5s - loss: 0.0209 - accuracy: 0.99 - ETA: 5s - loss: 0.0207 - accuracy: 0.99 - ETA: 5s - loss: 0.0204 - accuracy: 0.99 - ETA: 5s - loss: 0.0202 - accuracy: 0.99 - ETA: 5s - loss: 0.0217 - accuracy: 0.99 - ETA: 5s - loss: 0.0239 - accuracy: 0.99 - ETA: 5s - loss: 0.0236 - accuracy: 0.99 - ETA: 5s - loss: 0.0241 - accuracy: 0.99 - ETA: 5s - loss: 0.0238 - accuracy: 0.99 - ETA: 5s - loss: 0.0236 - accuracy: 0.99 - ETA: 4s - loss: 0.0234 - accuracy: 0.99 - ETA: 4s - loss: 0.0231 - accuracy: 0.99 - ETA: 4s - loss: 0.0230 - accuracy: 0.99 - ETA: 4s - loss: 0.0229 - accuracy: 0.99 - ETA: 4s - loss: 0.0227 - accuracy: 0.99 - ETA: 4s - loss: 0.0225 - accuracy: 0.99 - ETA: 4s - loss: 0.0224 - accuracy: 0.99 - ETA: 4s - loss: 0.0222 - accuracy: 0.99 - ETA: 4s - loss: 0.0220 - accuracy: 0.99 - ETA: 4s - loss: 0.0218 - accuracy: 0.99 - ETA: 4s - loss: 0.0216 - accuracy: 0.99 - ETA: 4s - loss: 0.0214 - accuracy: 0.99 - ETA: 4s - loss: 0.0212 - accuracy: 0.99 - ETA: 4s - loss: 0.0210 - accuracy: 0.99 - ETA: 4s - loss: 0.0208 - accuracy: 0.99 - ETA: 3s - loss: 0.0206 - accuracy: 0.99 - ETA: 3s - loss: 0.0213 - accuracy: 0.99 - ETA: 3s - loss: 0.0211 - accuracy: 0.99 - ETA: 3s - loss: 0.0209 - accuracy: 0.99 - ETA: 3s - loss: 0.0207 - accuracy: 0.99 - ETA: 3s - loss: 0.0205 - accuracy: 0.99 - ETA: 3s - loss: 0.0203 - accuracy: 0.99 - ETA: 3s - loss: 0.0202 - accuracy: 0.99 - ETA: 3s - loss: 0.0243 - accuracy: 0.99 - ETA: 3s - loss: 0.0241 - accuracy: 0.99 - ETA: 3s - loss: 0.0243 - accuracy: 0.99 - ETA: 3s - loss: 0.0259 - accuracy: 0.99 - ETA: 3s - loss: 0.0257 - accuracy: 0.99 - ETA: 3s - loss: 0.0255 - accuracy: 0.99 - ETA: 3s - loss: 0.0253 - accuracy: 0.99 - ETA: 2s - loss: 0.0251 - accuracy: 0.99 - ETA: 2s - loss: 0.0249 - accuracy: 0.99 - ETA: 2s - loss: 0.0253 - accuracy: 0.99 - ETA: 2s - loss: 0.0251 - accuracy: 0.99 - ETA: 2s - loss: 0.0249 - accuracy: 0.99 - ETA: 2s - loss: 0.0247 - accuracy: 0.99 - ETA: 2s - loss: 0.0245 - accuracy: 0.99 - ETA: 2s - loss: 0.0243 - accuracy: 0.99 - ETA: 2s - loss: 0.0241 - accuracy: 0.99 - ETA: 2s - loss: 0.0240 - accuracy: 0.99 - ETA: 2s - loss: 0.0239 - accuracy: 0.99 - ETA: 2s - loss: 0.0238 - accuracy: 0.99 - ETA: 2s - loss: 0.0236 - accuracy: 0.99 - ETA: 2s - loss: 0.0235 - accuracy: 0.99 - ETA: 2s - loss: 0.0233 - accuracy: 0.99 - ETA: 2s - loss: 0.0231 - accuracy: 0.99 - ETA: 2s - loss: 0.0229 - accuracy: 0.99 - ETA: 1s - loss: 0.0228 - accuracy: 0.99 - ETA: 1s - loss: 0.0329 - accuracy: 0.99 - ETA: 1s - loss: 0.0326 - accuracy: 0.99 - ETA: 1s - loss: 0.0324 - accuracy: 0.99 - ETA: 1s - loss: 0.0324 - accuracy: 0.99 - ETA: 1s - loss: 0.0322 - accuracy: 0.99 - ETA: 1s - loss: 0.0320 - accuracy: 0.99 - ETA: 1s - loss: 0.0318 - accuracy: 0.99 - ETA: 1s - loss: 0.0317 - accuracy: 0.99 - ETA: 1s - loss: 0.0355 - accuracy: 0.98 - ETA: 1s - loss: 0.0352 - accuracy: 0.98 - ETA: 1s - loss: 0.0350 - accuracy: 0.98 - ETA: 1s - loss: 0.0354 - accuracy: 0.98 - ETA: 1s - loss: 0.0351 - accuracy: 0.98 - ETA: 1s - loss: 0.0349 - accuracy: 0.98 - ETA: 0s - loss: 0.0349 - accuracy: 0.98 - ETA: 0s - loss: 0.0347 - accuracy: 0.98 - ETA: 0s - loss: 0.0345 - accuracy: 0.98 - ETA: 0s - loss: 0.0342 - accuracy: 0.98 - ETA: 0s - loss: 0.0341 - accuracy: 0.98 - ETA: 0s - loss: 0.0338 - accuracy: 0.98 - ETA: 0s - loss: 0.0336 - accuracy: 0.98 - ETA: 0s - loss: 0.0334 - accuracy: 0.98 - ETA: 0s - loss: 0.0332 - accuracy: 0.98 - ETA: 0s - loss: 0.0330 - accuracy: 0.98 - ETA: 0s - loss: 0.0328 - accuracy: 0.98 - ETA: 0s - loss: 0.0326 - accuracy: 0.99 - ETA: 0s - loss: 0.0333 - accuracy: 0.98 - ETA: 0s - loss: 0.0332 - accuracy: 0.98 - ETA: 0s - loss: 0.0331 - accuracy: 0.98 - 11s 9ms/step - loss: 0.0330 - accuracy: 0.9894 - val_loss: 1.8615e-04 - val_accuracy: 1.0000\n",
      "Epoch 10/50\n"
     ]
    },
    {
     "name": "stdout",
     "output_type": "stream",
     "text": [
      "1325/1325 [==============================] - ETA: 9s - loss: 0.0060 - accuracy: 1.00 - ETA: 10s - loss: 0.0020 - accuracy: 1.000 - ETA: 9s - loss: 0.0026 - accuracy: 1.000 - ETA: 10s - loss: 0.0019 - accuracy: 1.000 - ETA: 9s - loss: 0.0021 - accuracy: 1.000 - ETA: 9s - loss: 0.0028 - accuracy: 1.00 - ETA: 9s - loss: 0.0030 - accuracy: 1.00 - ETA: 9s - loss: 0.0026 - accuracy: 1.00 - ETA: 9s - loss: 0.0023 - accuracy: 1.00 - ETA: 9s - loss: 0.0021 - accuracy: 1.00 - ETA: 9s - loss: 0.0512 - accuracy: 0.98 - ETA: 9s - loss: 0.0468 - accuracy: 0.98 - ETA: 9s - loss: 0.0524 - accuracy: 0.98 - ETA: 9s - loss: 0.0512 - accuracy: 0.98 - ETA: 9s - loss: 0.0476 - accuracy: 0.98 - ETA: 9s - loss: 0.0446 - accuracy: 0.98 - ETA: 9s - loss: 0.0436 - accuracy: 0.98 - ETA: 9s - loss: 0.0412 - accuracy: 0.98 - ETA: 9s - loss: 0.0389 - accuracy: 0.98 - ETA: 9s - loss: 0.0370 - accuracy: 0.98 - ETA: 9s - loss: 0.0353 - accuracy: 0.98 - ETA: 8s - loss: 0.0337 - accuracy: 0.98 - ETA: 8s - loss: 0.0322 - accuracy: 0.98 - ETA: 8s - loss: 0.0459 - accuracy: 0.98 - ETA: 8s - loss: 0.0441 - accuracy: 0.98 - ETA: 8s - loss: 0.0441 - accuracy: 0.98 - ETA: 8s - loss: 0.0424 - accuracy: 0.98 - ETA: 8s - loss: 0.0409 - accuracy: 0.98 - ETA: 8s - loss: 0.0395 - accuracy: 0.98 - ETA: 8s - loss: 0.0381 - accuracy: 0.98 - ETA: 8s - loss: 0.0369 - accuracy: 0.98 - ETA: 8s - loss: 0.0357 - accuracy: 0.98 - ETA: 8s - loss: 0.0346 - accuracy: 0.98 - ETA: 8s - loss: 0.0336 - accuracy: 0.98 - ETA: 8s - loss: 0.0362 - accuracy: 0.98 - ETA: 8s - loss: 0.0358 - accuracy: 0.98 - ETA: 8s - loss: 0.0348 - accuracy: 0.98 - ETA: 8s - loss: 0.0339 - accuracy: 0.98 - ETA: 7s - loss: 0.0333 - accuracy: 0.98 - ETA: 7s - loss: 0.0325 - accuracy: 0.98 - ETA: 7s - loss: 0.0317 - accuracy: 0.98 - ETA: 7s - loss: 0.0309 - accuracy: 0.98 - ETA: 7s - loss: 0.0302 - accuracy: 0.98 - ETA: 7s - loss: 0.0295 - accuracy: 0.98 - ETA: 7s - loss: 0.0297 - accuracy: 0.98 - ETA: 7s - loss: 0.0291 - accuracy: 0.98 - ETA: 7s - loss: 0.0284 - accuracy: 0.98 - ETA: 7s - loss: 0.0278 - accuracy: 0.98 - ETA: 7s - loss: 0.0273 - accuracy: 0.98 - ETA: 7s - loss: 0.0267 - accuracy: 0.98 - ETA: 7s - loss: 0.0262 - accuracy: 0.99 - ETA: 7s - loss: 0.0257 - accuracy: 0.99 - ETA: 7s - loss: 0.0252 - accuracy: 0.99 - ETA: 7s - loss: 0.0247 - accuracy: 0.99 - ETA: 6s - loss: 0.0243 - accuracy: 0.99 - ETA: 6s - loss: 0.0238 - accuracy: 0.99 - ETA: 6s - loss: 0.0234 - accuracy: 0.99 - ETA: 6s - loss: 0.0230 - accuracy: 0.99 - ETA: 6s - loss: 0.0226 - accuracy: 0.99 - ETA: 6s - loss: 0.0223 - accuracy: 0.99 - ETA: 6s - loss: 0.0220 - accuracy: 0.99 - ETA: 6s - loss: 0.0216 - accuracy: 0.99 - ETA: 6s - loss: 0.0213 - accuracy: 0.99 - ETA: 6s - loss: 0.0215 - accuracy: 0.99 - ETA: 6s - loss: 0.0212 - accuracy: 0.99 - ETA: 6s - loss: 0.0209 - accuracy: 0.99 - ETA: 6s - loss: 0.0205 - accuracy: 0.99 - ETA: 6s - loss: 0.0202 - accuracy: 0.99 - ETA: 6s - loss: 0.0199 - accuracy: 0.99 - ETA: 6s - loss: 0.0197 - accuracy: 0.99 - ETA: 5s - loss: 0.0194 - accuracy: 0.99 - ETA: 5s - loss: 0.0199 - accuracy: 0.99 - ETA: 5s - loss: 0.0200 - accuracy: 0.99 - ETA: 5s - loss: 0.0197 - accuracy: 0.99 - ETA: 5s - loss: 0.0195 - accuracy: 0.99 - ETA: 5s - loss: 0.0192 - accuracy: 0.99 - ETA: 5s - loss: 0.0190 - accuracy: 0.99 - ETA: 5s - loss: 0.0187 - accuracy: 0.99 - ETA: 5s - loss: 0.0185 - accuracy: 0.99 - ETA: 5s - loss: 0.0182 - accuracy: 0.99 - ETA: 5s - loss: 0.0180 - accuracy: 0.99 - ETA: 5s - loss: 0.0178 - accuracy: 0.99 - ETA: 5s - loss: 0.0176 - accuracy: 0.99 - ETA: 5s - loss: 0.0174 - accuracy: 0.99 - ETA: 5s - loss: 0.0172 - accuracy: 0.99 - ETA: 5s - loss: 0.0170 - accuracy: 0.99 - ETA: 4s - loss: 0.0168 - accuracy: 0.99 - ETA: 4s - loss: 0.0166 - accuracy: 0.99 - ETA: 4s - loss: 0.0164 - accuracy: 0.99 - ETA: 4s - loss: 0.0162 - accuracy: 0.99 - ETA: 4s - loss: 0.0160 - accuracy: 0.99 - ETA: 4s - loss: 0.0159 - accuracy: 0.99 - ETA: 4s - loss: 0.0157 - accuracy: 0.99 - ETA: 4s - loss: 0.0155 - accuracy: 0.99 - ETA: 4s - loss: 0.0154 - accuracy: 0.99 - ETA: 4s - loss: 0.0152 - accuracy: 0.99 - ETA: 4s - loss: 0.0150 - accuracy: 0.99 - ETA: 4s - loss: 0.0149 - accuracy: 0.99 - ETA: 4s - loss: 0.0147 - accuracy: 0.99 - ETA: 4s - loss: 0.0146 - accuracy: 0.99 - ETA: 4s - loss: 0.0144 - accuracy: 0.99 - ETA: 4s - loss: 0.0143 - accuracy: 0.99 - ETA: 4s - loss: 0.0142 - accuracy: 0.99 - ETA: 3s - loss: 0.0140 - accuracy: 0.99 - ETA: 3s - loss: 0.0139 - accuracy: 0.99 - ETA: 3s - loss: 0.0138 - accuracy: 0.99 - ETA: 3s - loss: 0.0136 - accuracy: 0.99 - ETA: 3s - loss: 0.0135 - accuracy: 0.99 - ETA: 3s - loss: 0.0134 - accuracy: 0.99 - ETA: 3s - loss: 0.0156 - accuracy: 0.99 - ETA: 3s - loss: 0.0154 - accuracy: 0.99 - ETA: 3s - loss: 0.0153 - accuracy: 0.99 - ETA: 3s - loss: 0.0152 - accuracy: 0.99 - ETA: 3s - loss: 0.0150 - accuracy: 0.99 - ETA: 3s - loss: 0.0149 - accuracy: 0.99 - ETA: 3s - loss: 0.0148 - accuracy: 0.99 - ETA: 3s - loss: 0.0152 - accuracy: 0.99 - ETA: 3s - loss: 0.0150 - accuracy: 0.99 - ETA: 3s - loss: 0.0149 - accuracy: 0.99 - ETA: 2s - loss: 0.0150 - accuracy: 0.99 - ETA: 2s - loss: 0.0149 - accuracy: 0.99 - ETA: 2s - loss: 0.0148 - accuracy: 0.99 - ETA: 2s - loss: 0.0147 - accuracy: 0.99 - ETA: 2s - loss: 0.0145 - accuracy: 0.99 - ETA: 2s - loss: 0.0144 - accuracy: 0.99 - ETA: 2s - loss: 0.0143 - accuracy: 0.99 - ETA: 2s - loss: 0.0142 - accuracy: 0.99 - ETA: 2s - loss: 0.0141 - accuracy: 0.99 - ETA: 2s - loss: 0.0140 - accuracy: 0.99 - ETA: 2s - loss: 0.0139 - accuracy: 0.99 - ETA: 2s - loss: 0.0138 - accuracy: 0.99 - ETA: 2s - loss: 0.0137 - accuracy: 0.99 - ETA: 2s - loss: 0.0136 - accuracy: 0.99 - ETA: 2s - loss: 0.0135 - accuracy: 0.99 - ETA: 2s - loss: 0.0134 - accuracy: 0.99 - ETA: 1s - loss: 0.0133 - accuracy: 0.99 - ETA: 1s - loss: 0.0132 - accuracy: 0.99 - ETA: 1s - loss: 0.0131 - accuracy: 0.99 - ETA: 1s - loss: 0.0130 - accuracy: 0.99 - ETA: 1s - loss: 0.0129 - accuracy: 0.99 - ETA: 1s - loss: 0.0128 - accuracy: 0.99 - ETA: 1s - loss: 0.0127 - accuracy: 0.99 - ETA: 1s - loss: 0.0126 - accuracy: 0.99 - ETA: 1s - loss: 0.0126 - accuracy: 0.99 - ETA: 1s - loss: 0.0137 - accuracy: 0.99 - ETA: 1s - loss: 0.0136 - accuracy: 0.99 - ETA: 1s - loss: 0.0136 - accuracy: 0.99 - ETA: 1s - loss: 0.0135 - accuracy: 0.99 - ETA: 1s - loss: 0.0134 - accuracy: 0.99 - ETA: 1s - loss: 0.0133 - accuracy: 0.99 - ETA: 1s - loss: 0.0132 - accuracy: 0.99 - ETA: 0s - loss: 0.0201 - accuracy: 0.99 - ETA: 0s - loss: 0.0204 - accuracy: 0.99 - ETA: 0s - loss: 0.0203 - accuracy: 0.99 - ETA: 0s - loss: 0.0203 - accuracy: 0.99 - ETA: 0s - loss: 0.0202 - accuracy: 0.99 - ETA: 0s - loss: 0.0200 - accuracy: 0.99 - ETA: 0s - loss: 0.0199 - accuracy: 0.99 - ETA: 0s - loss: 0.0198 - accuracy: 0.99 - ETA: 0s - loss: 0.0220 - accuracy: 0.99 - ETA: 0s - loss: 0.0219 - accuracy: 0.99 - ETA: 0s - loss: 0.0218 - accuracy: 0.99 - ETA: 0s - loss: 0.0216 - accuracy: 0.99 - ETA: 0s - loss: 0.0215 - accuracy: 0.99 - ETA: 0s - loss: 0.0272 - accuracy: 0.99 - ETA: 0s - loss: 0.0270 - accuracy: 0.99 - 12s 9ms/step - loss: 0.0270 - accuracy: 0.9925 - val_loss: 0.0039 - val_accuracy: 0.9970\n",
      "Epoch 11/50\n"
     ]
    },
    {
     "name": "stdout",
     "output_type": "stream",
     "text": [
      "1276/1325 [===========================>..] - ETA: 14s - loss: 0.0059 - accuracy: 1.000 - ETA: 14s - loss: 0.0021 - accuracy: 1.000 - ETA: 15s - loss: 0.0233 - accuracy: 1.000 - ETA: 15s - loss: 0.0186 - accuracy: 1.000 - ETA: 15s - loss: 0.0133 - accuracy: 1.000 - ETA: 14s - loss: 0.0103 - accuracy: 1.000 - ETA: 14s - loss: 0.1471 - accuracy: 0.975 - ETA: 14s - loss: 0.1337 - accuracy: 0.977 - ETA: 15s - loss: 0.1228 - accuracy: 0.979 - ETA: 16s - loss: 0.1133 - accuracy: 0.980 - ETA: 17s - loss: 0.1052 - accuracy: 0.982 - ETA: 18s - loss: 0.0982 - accuracy: 0.983 - ETA: 19s - loss: 0.0921 - accuracy: 0.984 - ETA: 19s - loss: 0.0867 - accuracy: 0.985 - ETA: 19s - loss: 0.0819 - accuracy: 0.986 - ETA: 19s - loss: 0.0776 - accuracy: 0.986 - ETA: 19s - loss: 0.0737 - accuracy: 0.987 - ETA: 20s - loss: 0.0702 - accuracy: 0.988 - ETA: 20s - loss: 0.0671 - accuracy: 0.988 - ETA: 20s - loss: 0.0642 - accuracy: 0.989 - ETA: 21s - loss: 0.0615 - accuracy: 0.989 - ETA: 21s - loss: 0.0592 - accuracy: 0.990 - ETA: 21s - loss: 0.0569 - accuracy: 0.990 - ETA: 22s - loss: 0.0548 - accuracy: 0.990 - ETA: 21s - loss: 0.0510 - accuracy: 0.991 - ETA: 21s - loss: 0.0494 - accuracy: 0.991 - ETA: 21s - loss: 0.0512 - accuracy: 0.991 - ETA: 21s - loss: 0.0496 - accuracy: 0.992 - ETA: 20s - loss: 0.0467 - accuracy: 0.992 - ETA: 19s - loss: 0.0441 - accuracy: 0.993 - ETA: 19s - loss: 0.0430 - accuracy: 0.993 - ETA: 19s - loss: 0.0420 - accuracy: 0.993 - ETA: 19s - loss: 0.0411 - accuracy: 0.993 - ETA: 18s - loss: 0.0415 - accuracy: 0.993 - ETA: 18s - loss: 0.0396 - accuracy: 0.994 - ETA: 17s - loss: 0.0426 - accuracy: 0.994 - ETA: 17s - loss: 0.0408 - accuracy: 0.994 - ETA: 17s - loss: 0.0391 - accuracy: 0.994 - ETA: 17s - loss: 0.0383 - accuracy: 0.995 - ETA: 16s - loss: 0.0369 - accuracy: 0.995 - ETA: 16s - loss: 0.0355 - accuracy: 0.995 - ETA: 16s - loss: 0.0342 - accuracy: 0.995 - ETA: 15s - loss: 0.0331 - accuracy: 0.995 - ETA: 15s - loss: 0.0320 - accuracy: 0.995 - ETA: 15s - loss: 0.0309 - accuracy: 0.996 - ETA: 14s - loss: 0.0300 - accuracy: 0.996 - ETA: 14s - loss: 0.0291 - accuracy: 0.996 - ETA: 14s - loss: 0.0282 - accuracy: 0.996 - ETA: 14s - loss: 0.0274 - accuracy: 0.996 - ETA: 13s - loss: 0.0267 - accuracy: 0.996 - ETA: 13s - loss: 0.0302 - accuracy: 0.993 - ETA: 13s - loss: 0.0299 - accuracy: 0.993 - ETA: 13s - loss: 0.0291 - accuracy: 0.993 - ETA: 13s - loss: 0.0284 - accuracy: 0.993 - ETA: 12s - loss: 0.0277 - accuracy: 0.993 - ETA: 12s - loss: 0.0271 - accuracy: 0.994 - ETA: 12s - loss: 0.0265 - accuracy: 0.994 - ETA: 12s - loss: 0.0258 - accuracy: 0.994 - ETA: 12s - loss: 0.0279 - accuracy: 0.991 - ETA: 12s - loss: 0.0276 - accuracy: 0.991 - ETA: 12s - loss: 0.0273 - accuracy: 0.991 - ETA: 12s - loss: 0.0270 - accuracy: 0.991 - ETA: 12s - loss: 0.0267 - accuracy: 0.992 - ETA: 12s - loss: 0.0261 - accuracy: 0.992 - ETA: 11s - loss: 0.0256 - accuracy: 0.992 - ETA: 11s - loss: 0.0300 - accuracy: 0.990 - ETA: 11s - loss: 0.0294 - accuracy: 0.990 - ETA: 11s - loss: 0.0288 - accuracy: 0.990 - ETA: 11s - loss: 0.0283 - accuracy: 0.990 - ETA: 11s - loss: 0.0300 - accuracy: 0.988 - ETA: 10s - loss: 0.0295 - accuracy: 0.988 - ETA: 10s - loss: 0.0290 - accuracy: 0.988 - ETA: 10s - loss: 0.0285 - accuracy: 0.989 - ETA: 10s - loss: 0.0280 - accuracy: 0.989 - ETA: 10s - loss: 0.0275 - accuracy: 0.989 - ETA: 10s - loss: 0.0273 - accuracy: 0.989 - ETA: 10s - loss: 0.0271 - accuracy: 0.989 - ETA: 10s - loss: 0.0268 - accuracy: 0.989 - ETA: 10s - loss: 0.0266 - accuracy: 0.989 - ETA: 10s - loss: 0.0264 - accuracy: 0.989 - ETA: 10s - loss: 0.0262 - accuracy: 0.989 - ETA: 10s - loss: 0.0260 - accuracy: 0.990 - ETA: 10s - loss: 0.0258 - accuracy: 0.990 - ETA: 10s - loss: 0.0256 - accuracy: 0.990 - ETA: 10s - loss: 0.0254 - accuracy: 0.990 - ETA: 9s - loss: 0.0320 - accuracy: 0.988 - ETA: 9s - loss: 0.0318 - accuracy: 0.98 - ETA: 9s - loss: 0.0315 - accuracy: 0.98 - ETA: 9s - loss: 0.0311 - accuracy: 0.98 - ETA: 9s - loss: 0.0308 - accuracy: 0.98 - ETA: 9s - loss: 0.0461 - accuracy: 0.98 - ETA: 9s - loss: 0.0458 - accuracy: 0.98 - ETA: 9s - loss: 0.0455 - accuracy: 0.98 - ETA: 9s - loss: 0.0451 - accuracy: 0.98 - ETA: 9s - loss: 0.0445 - accuracy: 0.98 - ETA: 9s - loss: 0.0439 - accuracy: 0.98 - ETA: 9s - loss: 0.0433 - accuracy: 0.98 - ETA: 8s - loss: 0.0427 - accuracy: 0.98 - ETA: 8s - loss: 0.0421 - accuracy: 0.98 - ETA: 8s - loss: 0.0416 - accuracy: 0.98 - ETA: 8s - loss: 0.0412 - accuracy: 0.98 - ETA: 8s - loss: 0.0416 - accuracy: 0.98 - ETA: 8s - loss: 0.0410 - accuracy: 0.98 - ETA: 8s - loss: 0.0405 - accuracy: 0.98 - ETA: 8s - loss: 0.0400 - accuracy: 0.98 - ETA: 8s - loss: 0.0445 - accuracy: 0.98 - ETA: 7s - loss: 0.0440 - accuracy: 0.98 - ETA: 7s - loss: 0.0434 - accuracy: 0.98 - ETA: 7s - loss: 0.0429 - accuracy: 0.98 - ETA: 7s - loss: 0.0424 - accuracy: 0.98 - ETA: 7s - loss: 0.0419 - accuracy: 0.98 - ETA: 7s - loss: 0.0429 - accuracy: 0.98 - ETA: 7s - loss: 0.0425 - accuracy: 0.98 - ETA: 7s - loss: 0.0494 - accuracy: 0.98 - ETA: 7s - loss: 0.0491 - accuracy: 0.98 - ETA: 6s - loss: 0.0487 - accuracy: 0.98 - ETA: 6s - loss: 0.0483 - accuracy: 0.98 - ETA: 6s - loss: 0.0478 - accuracy: 0.98 - ETA: 6s - loss: 0.0473 - accuracy: 0.98 - ETA: 6s - loss: 0.0468 - accuracy: 0.98 - ETA: 6s - loss: 0.0464 - accuracy: 0.98 - ETA: 6s - loss: 0.0459 - accuracy: 0.98 - ETA: 6s - loss: 0.0454 - accuracy: 0.98 - ETA: 6s - loss: 0.0450 - accuracy: 0.98 - ETA: 5s - loss: 0.0445 - accuracy: 0.98 - ETA: 5s - loss: 0.0443 - accuracy: 0.98 - ETA: 5s - loss: 0.0438 - accuracy: 0.98 - ETA: 5s - loss: 0.0434 - accuracy: 0.98 - ETA: 5s - loss: 0.0430 - accuracy: 0.98 - ETA: 5s - loss: 0.0426 - accuracy: 0.98 - ETA: 5s - loss: 0.0424 - accuracy: 0.98 - ETA: 5s - loss: 0.0422 - accuracy: 0.98 - ETA: 5s - loss: 0.0420 - accuracy: 0.98 - ETA: 5s - loss: 0.0431 - accuracy: 0.98 - ETA: 5s - loss: 0.0431 - accuracy: 0.98 - ETA: 5s - loss: 0.0427 - accuracy: 0.98 - ETA: 5s - loss: 0.0423 - accuracy: 0.98 - ETA: 4s - loss: 0.0419 - accuracy: 0.98 - ETA: 4s - loss: 0.0416 - accuracy: 0.98 - ETA: 4s - loss: 0.0413 - accuracy: 0.98 - ETA: 4s - loss: 0.0409 - accuracy: 0.98 - ETA: 4s - loss: 0.0465 - accuracy: 0.98 - ETA: 4s - loss: 0.0461 - accuracy: 0.98 - ETA: 4s - loss: 0.0457 - accuracy: 0.98 - ETA: 4s - loss: 0.0453 - accuracy: 0.98 - ETA: 4s - loss: 0.0481 - accuracy: 0.98 - ETA: 4s - loss: 0.0478 - accuracy: 0.98 - ETA: 3s - loss: 0.0475 - accuracy: 0.98 - ETA: 3s - loss: 0.0472 - accuracy: 0.98 - ETA: 3s - loss: 0.0468 - accuracy: 0.98 - ETA: 3s - loss: 0.0469 - accuracy: 0.98 - ETA: 3s - loss: 0.0466 - accuracy: 0.98 - ETA: 3s - loss: 0.0462 - accuracy: 0.98 - ETA: 3s - loss: 0.0459 - accuracy: 0.98 - ETA: 3s - loss: 0.0456 - accuracy: 0.98 - ETA: 3s - loss: 0.0452 - accuracy: 0.98 - ETA: 3s - loss: 0.0449 - accuracy: 0.98 - ETA: 3s - loss: 0.0445 - accuracy: 0.98 - ETA: 2s - loss: 0.0442 - accuracy: 0.98 - ETA: 2s - loss: 0.0439 - accuracy: 0.98 - ETA: 2s - loss: 0.0435 - accuracy: 0.98 - ETA: 2s - loss: 0.0432 - accuracy: 0.98 - ETA: 2s - loss: 0.0430 - accuracy: 0.98 - ETA: 2s - loss: 0.0427 - accuracy: 0.98 - ETA: 2s - loss: 0.0424 - accuracy: 0.98 - ETA: 2s - loss: 0.0421 - accuracy: 0.98 - ETA: 2s - loss: 0.0418 - accuracy: 0.98 - ETA: 2s - loss: 0.0424 - accuracy: 0.98 - ETA: 2s - loss: 0.0421 - accuracy: 0.98 - ETA: 1s - loss: 0.0418 - accuracy: 0.98 - ETA: 1s - loss: 0.0415 - accuracy: 0.98 - ETA: 1s - loss: 0.0412 - accuracy: 0.98 - ETA: 1s - loss: 0.0409 - accuracy: 0.98 - ETA: 1s - loss: 0.0407 - accuracy: 0.98 - ETA: 1s - loss: 0.0404 - accuracy: 0.98 - ETA: 1s - loss: 0.0403 - accuracy: 0.98 - ETA: 1s - loss: 0.0401 - accuracy: 0.98 - ETA: 1s - loss: 0.0400 - accuracy: 0.98 - ETA: 1s - loss: 0.0399 - accuracy: 0.98 - ETA: 1s - loss: 0.0397 - accuracy: 0.98 - ETA: 1s - loss: 0.0395 - accuracy: 0.98 - ETA: 1s - loss: 0.0392 - accuracy: 0.98 - ETA: 1s - loss: 0.0390 - accuracy: 0.98 - ETA: 0s - loss: 0.0388 - accuracy: 0.98 - ETA: 0s - loss: 0.0386 - accuracy: 0.98 - ETA: 0s - loss: 0.0383 - accuracy: 0.98 - ETA: 0s - loss: 0.0381 - accuracy: 0.98 - ETA: 0s - loss: 0.0380 - accuracy: 0.98 - ETA: 0s - loss: 0.0379 - accuracy: 0.98 - ETA: 0s - loss: 0.0376 - accuracy: 0.9890"
     ]
    },
    {
     "name": "stdout",
     "output_type": "stream",
     "text": [
      "1325/1325 [==============================] - ETA: 0s - loss: 0.0374 - accuracy: 0.98 - ETA: 0s - loss: 0.0373 - accuracy: 0.98 - ETA: 0s - loss: 0.0372 - accuracy: 0.98 - ETA: 0s - loss: 0.0371 - accuracy: 0.98 - ETA: 0s - loss: 0.0369 - accuracy: 0.98 - ETA: 0s - loss: 0.0368 - accuracy: 0.98 - ETA: 0s - loss: 0.0367 - accuracy: 0.98 - ETA: 0s - loss: 0.0365 - accuracy: 0.98 - ETA: 0s - loss: 0.0363 - accuracy: 0.98 - 15s 11ms/step - loss: 0.0362 - accuracy: 0.9894 - val_loss: 0.0073 - val_accuracy: 0.9970\n",
      "Epoch 12/50\n",
      "1325/1325 [==============================] - ETA: 11s - loss: 4.1380e-04 - accuracy: 1.000 - ETA: 12s - loss: 0.0056 - accuracy: 1.0000    - ETA: 12s - loss: 0.0040 - accuracy: 1.000 - ETA: 12s - loss: 0.0028 - accuracy: 1.000 - ETA: 12s - loss: 0.0024 - accuracy: 1.000 - ETA: 12s - loss: 0.0019 - accuracy: 1.000 - ETA: 12s - loss: 0.0022 - accuracy: 1.000 - ETA: 12s - loss: 0.0019 - accuracy: 1.000 - ETA: 12s - loss: 0.0017 - accuracy: 1.000 - ETA: 12s - loss: 0.0016 - accuracy: 1.000 - ETA: 12s - loss: 0.0015 - accuracy: 1.000 - ETA: 12s - loss: 0.0130 - accuracy: 0.989 - ETA: 12s - loss: 0.0126 - accuracy: 0.990 - ETA: 12s - loss: 0.0116 - accuracy: 0.990 - ETA: 12s - loss: 0.0108 - accuracy: 0.991 - ETA: 11s - loss: 0.0101 - accuracy: 0.991 - ETA: 11s - loss: 0.0095 - accuracy: 0.992 - ETA: 11s - loss: 0.0090 - accuracy: 0.992 - ETA: 11s - loss: 0.0085 - accuracy: 0.993 - ETA: 11s - loss: 0.0097 - accuracy: 0.993 - ETA: 11s - loss: 0.0092 - accuracy: 0.993 - ETA: 11s - loss: 0.0092 - accuracy: 0.994 - ETA: 11s - loss: 0.0088 - accuracy: 0.994 - ETA: 11s - loss: 0.0084 - accuracy: 0.994 - ETA: 11s - loss: 0.0080 - accuracy: 0.994 - ETA: 11s - loss: 0.0077 - accuracy: 0.995 - ETA: 10s - loss: 0.0074 - accuracy: 0.995 - ETA: 10s - loss: 0.0072 - accuracy: 0.995 - ETA: 10s - loss: 0.0069 - accuracy: 0.995 - ETA: 10s - loss: 0.0067 - accuracy: 0.995 - ETA: 10s - loss: 0.0065 - accuracy: 0.995 - ETA: 10s - loss: 0.0064 - accuracy: 0.996 - ETA: 10s - loss: 0.0062 - accuracy: 0.996 - ETA: 10s - loss: 0.0060 - accuracy: 0.996 - ETA: 10s - loss: 0.0058 - accuracy: 0.996 - ETA: 10s - loss: 0.0057 - accuracy: 0.996 - ETA: 10s - loss: 0.0055 - accuracy: 0.996 - ETA: 10s - loss: 0.0054 - accuracy: 0.996 - ETA: 9s - loss: 0.0053 - accuracy: 0.996 - ETA: 9s - loss: 0.0051 - accuracy: 0.99 - ETA: 9s - loss: 0.0050 - accuracy: 0.99 - ETA: 9s - loss: 0.0049 - accuracy: 0.99 - ETA: 9s - loss: 0.0048 - accuracy: 0.99 - ETA: 9s - loss: 0.0046 - accuracy: 0.99 - ETA: 9s - loss: 0.0045 - accuracy: 0.99 - ETA: 9s - loss: 0.0044 - accuracy: 0.99 - ETA: 9s - loss: 0.0043 - accuracy: 0.99 - ETA: 9s - loss: 0.0043 - accuracy: 0.99 - ETA: 9s - loss: 0.0042 - accuracy: 0.99 - ETA: 9s - loss: 0.0041 - accuracy: 0.99 - ETA: 8s - loss: 0.0040 - accuracy: 0.99 - ETA: 8s - loss: 0.0039 - accuracy: 0.99 - ETA: 8s - loss: 0.0039 - accuracy: 0.99 - ETA: 8s - loss: 0.0038 - accuracy: 0.99 - ETA: 8s - loss: 0.0037 - accuracy: 0.99 - ETA: 8s - loss: 0.0037 - accuracy: 0.99 - ETA: 8s - loss: 0.0036 - accuracy: 0.99 - ETA: 8s - loss: 0.0035 - accuracy: 0.99 - ETA: 8s - loss: 0.0035 - accuracy: 0.99 - ETA: 8s - loss: 0.0035 - accuracy: 0.99 - ETA: 8s - loss: 0.0034 - accuracy: 0.99 - ETA: 8s - loss: 0.0034 - accuracy: 0.99 - ETA: 7s - loss: 0.0033 - accuracy: 0.99 - ETA: 7s - loss: 0.0033 - accuracy: 0.99 - ETA: 7s - loss: 0.0032 - accuracy: 0.99 - ETA: 7s - loss: 0.0032 - accuracy: 0.99 - ETA: 7s - loss: 0.0031 - accuracy: 0.99 - ETA: 7s - loss: 0.0031 - accuracy: 0.99 - ETA: 7s - loss: 0.0030 - accuracy: 0.99 - ETA: 7s - loss: 0.0030 - accuracy: 0.99 - ETA: 7s - loss: 0.0029 - accuracy: 0.99 - ETA: 7s - loss: 0.0029 - accuracy: 0.99 - ETA: 7s - loss: 0.0029 - accuracy: 0.99 - ETA: 7s - loss: 0.0028 - accuracy: 0.99 - ETA: 7s - loss: 0.0028 - accuracy: 0.99 - ETA: 6s - loss: 0.0028 - accuracy: 0.99 - ETA: 6s - loss: 0.0027 - accuracy: 0.99 - ETA: 6s - loss: 0.0027 - accuracy: 0.99 - ETA: 6s - loss: 0.0027 - accuracy: 0.99 - ETA: 6s - loss: 0.0026 - accuracy: 0.99 - ETA: 6s - loss: 0.0026 - accuracy: 0.99 - ETA: 6s - loss: 0.0026 - accuracy: 0.99 - ETA: 6s - loss: 0.0025 - accuracy: 0.99 - ETA: 6s - loss: 0.0025 - accuracy: 0.99 - ETA: 6s - loss: 0.0025 - accuracy: 0.99 - ETA: 6s - loss: 0.0024 - accuracy: 0.99 - ETA: 6s - loss: 0.0024 - accuracy: 0.99 - ETA: 6s - loss: 0.0024 - accuracy: 0.99 - ETA: 5s - loss: 0.0024 - accuracy: 0.99 - ETA: 5s - loss: 0.0023 - accuracy: 0.99 - ETA: 5s - loss: 0.0023 - accuracy: 0.99 - ETA: 5s - loss: 0.0024 - accuracy: 0.99 - ETA: 5s - loss: 0.0024 - accuracy: 0.99 - ETA: 5s - loss: 0.0024 - accuracy: 0.99 - ETA: 5s - loss: 0.0023 - accuracy: 0.99 - ETA: 5s - loss: 0.0023 - accuracy: 0.99 - ETA: 5s - loss: 0.0023 - accuracy: 0.99 - ETA: 5s - loss: 0.0023 - accuracy: 0.99 - ETA: 5s - loss: 0.0022 - accuracy: 0.99 - ETA: 5s - loss: 0.0022 - accuracy: 0.99 - ETA: 4s - loss: 0.0025 - accuracy: 0.99 - ETA: 4s - loss: 0.0024 - accuracy: 0.99 - ETA: 4s - loss: 0.0024 - accuracy: 0.99 - ETA: 4s - loss: 0.0024 - accuracy: 0.99 - ETA: 4s - loss: 0.0024 - accuracy: 0.99 - ETA: 4s - loss: 0.0024 - accuracy: 0.99 - ETA: 4s - loss: 0.0023 - accuracy: 0.99 - ETA: 4s - loss: 0.0023 - accuracy: 0.99 - ETA: 4s - loss: 0.0023 - accuracy: 0.99 - ETA: 4s - loss: 0.0023 - accuracy: 0.99 - ETA: 4s - loss: 0.0023 - accuracy: 0.99 - ETA: 4s - loss: 0.0022 - accuracy: 0.99 - ETA: 4s - loss: 0.0022 - accuracy: 0.99 - ETA: 3s - loss: 0.0022 - accuracy: 0.99 - ETA: 3s - loss: 0.0022 - accuracy: 0.99 - ETA: 3s - loss: 0.0022 - accuracy: 0.99 - ETA: 3s - loss: 0.0022 - accuracy: 0.99 - ETA: 3s - loss: 0.0022 - accuracy: 0.99 - ETA: 3s - loss: 0.0022 - accuracy: 0.99 - ETA: 3s - loss: 0.0021 - accuracy: 0.99 - ETA: 3s - loss: 0.0021 - accuracy: 0.99 - ETA: 3s - loss: 0.0021 - accuracy: 0.99 - ETA: 3s - loss: 0.0021 - accuracy: 0.99 - ETA: 3s - loss: 0.0021 - accuracy: 0.99 - ETA: 3s - loss: 0.0021 - accuracy: 0.99 - ETA: 3s - loss: 0.0020 - accuracy: 0.99 - ETA: 2s - loss: 0.0021 - accuracy: 0.99 - ETA: 2s - loss: 0.0020 - accuracy: 0.99 - ETA: 2s - loss: 0.0021 - accuracy: 0.99 - ETA: 2s - loss: 0.0021 - accuracy: 0.99 - ETA: 2s - loss: 0.0020 - accuracy: 0.99 - ETA: 2s - loss: 0.0020 - accuracy: 0.99 - ETA: 2s - loss: 0.0020 - accuracy: 0.99 - ETA: 2s - loss: 0.0020 - accuracy: 0.99 - ETA: 2s - loss: 0.0020 - accuracy: 0.99 - ETA: 2s - loss: 0.0020 - accuracy: 0.99 - ETA: 2s - loss: 0.0020 - accuracy: 0.99 - ETA: 2s - loss: 0.0019 - accuracy: 0.99 - ETA: 2s - loss: 0.0019 - accuracy: 0.99 - ETA: 1s - loss: 0.0019 - accuracy: 0.99 - ETA: 1s - loss: 0.0019 - accuracy: 0.99 - ETA: 1s - loss: 0.0019 - accuracy: 0.99 - ETA: 1s - loss: 0.0019 - accuracy: 0.99 - ETA: 1s - loss: 0.0019 - accuracy: 0.99 - ETA: 1s - loss: 0.0018 - accuracy: 0.99 - ETA: 1s - loss: 0.0018 - accuracy: 0.99 - ETA: 1s - loss: 0.0018 - accuracy: 0.99 - ETA: 1s - loss: 0.0018 - accuracy: 0.99 - ETA: 1s - loss: 0.0018 - accuracy: 0.99 - ETA: 1s - loss: 0.0018 - accuracy: 0.99 - ETA: 1s - loss: 0.0018 - accuracy: 0.99 - ETA: 1s - loss: 0.0018 - accuracy: 0.99 - ETA: 0s - loss: 0.0018 - accuracy: 0.99 - ETA: 0s - loss: 0.0017 - accuracy: 0.99 - ETA: 0s - loss: 0.0017 - accuracy: 0.99 - ETA: 0s - loss: 0.0017 - accuracy: 0.99 - ETA: 0s - loss: 0.0017 - accuracy: 0.99 - ETA: 0s - loss: 0.0017 - accuracy: 0.99 - ETA: 0s - loss: 0.0017 - accuracy: 0.99 - ETA: 0s - loss: 0.0017 - accuracy: 0.99 - ETA: 0s - loss: 0.0017 - accuracy: 0.99 - ETA: 0s - loss: 0.0017 - accuracy: 0.99 - ETA: 0s - loss: 0.0017 - accuracy: 0.99 - ETA: 0s - loss: 0.0017 - accuracy: 0.99 - ETA: 0s - loss: 0.0017 - accuracy: 0.99 - ETA: 0s - loss: 0.0016 - accuracy: 0.99 - 13s 10ms/step - loss: 0.0016 - accuracy: 0.9992 - val_loss: 2.7681e-05 - val_accuracy: 1.0000\n",
      "Epoch 13/50\n"
     ]
    },
    {
     "name": "stdout",
     "output_type": "stream",
     "text": [
      "1240/1325 [===========================>..] - ETA: 11s - loss: 7.1526e-07 - accuracy: 1.000 - ETA: 11s - loss: 2.3842e-07 - accuracy: 1.000 - ETA: 11s - loss: 0.0028 - accuracy: 1.0000    - ETA: 11s - loss: 0.0020 - accuracy: 1.000 - ETA: 11s - loss: 0.0015 - accuracy: 1.000 - ETA: 11s - loss: 0.0013 - accuracy: 1.000 - ETA: 11s - loss: 0.0011 - accuracy: 1.000 - ETA: 11s - loss: 9.2829e-04 - accuracy: 1.000 - ETA: 11s - loss: 8.1908e-04 - accuracy: 1.000 - ETA: 11s - loss: 7.3298e-04 - accuracy: 1.000 - ETA: 11s - loss: 6.6317e-04 - accuracy: 1.000 - ETA: 11s - loss: 6.0550e-04 - accuracy: 1.000 - ETA: 11s - loss: 5.5706e-04 - accuracy: 1.000 - ETA: 11s - loss: 5.4414e-04 - accuracy: 1.000 - ETA: 11s - loss: 5.0661e-04 - accuracy: 1.000 - ETA: 11s - loss: 4.7398e-04 - accuracy: 1.000 - ETA: 11s - loss: 4.4531e-04 - accuracy: 1.000 - ETA: 11s - loss: 4.1987e-04 - accuracy: 1.000 - ETA: 11s - loss: 3.9719e-04 - accuracy: 1.000 - ETA: 10s - loss: 3.7713e-04 - accuracy: 1.000 - ETA: 10s - loss: 3.5873e-04 - accuracy: 1.000 - ETA: 10s - loss: 3.4224e-04 - accuracy: 1.000 - ETA: 10s - loss: 3.2703e-04 - accuracy: 1.000 - ETA: 10s - loss: 3.1314e-04 - accuracy: 1.000 - ETA: 10s - loss: 3.0036e-04 - accuracy: 1.000 - ETA: 10s - loss: 2.8859e-04 - accuracy: 1.000 - ETA: 10s - loss: 0.0023 - accuracy: 1.0000    - ETA: 10s - loss: 0.0022 - accuracy: 1.000 - ETA: 10s - loss: 0.0021 - accuracy: 1.000 - ETA: 10s - loss: 0.0021 - accuracy: 1.000 - ETA: 10s - loss: 0.0020 - accuracy: 1.000 - ETA: 9s - loss: 0.0019 - accuracy: 1.000 - ETA: 9s - loss: 0.0019 - accuracy: 1.00 - ETA: 9s - loss: 0.0018 - accuracy: 1.00 - ETA: 9s - loss: 0.0022 - accuracy: 1.00 - ETA: 9s - loss: 0.0022 - accuracy: 1.00 - ETA: 9s - loss: 0.0021 - accuracy: 1.00 - ETA: 9s - loss: 0.0024 - accuracy: 1.00 - ETA: 9s - loss: 0.0023 - accuracy: 1.00 - ETA: 9s - loss: 0.0023 - accuracy: 1.00 - ETA: 9s - loss: 0.0022 - accuracy: 1.00 - ETA: 9s - loss: 0.0022 - accuracy: 1.00 - ETA: 9s - loss: 0.0021 - accuracy: 1.00 - ETA: 9s - loss: 0.0021 - accuracy: 1.00 - ETA: 8s - loss: 0.0020 - accuracy: 1.00 - ETA: 8s - loss: 0.0020 - accuracy: 1.00 - ETA: 8s - loss: 0.0019 - accuracy: 1.00 - ETA: 8s - loss: 0.0019 - accuracy: 1.00 - ETA: 8s - loss: 0.0019 - accuracy: 1.00 - ETA: 8s - loss: 0.0022 - accuracy: 1.00 - ETA: 8s - loss: 0.0021 - accuracy: 1.00 - ETA: 8s - loss: 0.0021 - accuracy: 1.00 - ETA: 8s - loss: 0.0021 - accuracy: 1.00 - ETA: 8s - loss: 0.0020 - accuracy: 1.00 - ETA: 8s - loss: 0.0020 - accuracy: 1.00 - ETA: 8s - loss: 0.0020 - accuracy: 1.00 - ETA: 8s - loss: 0.0019 - accuracy: 1.00 - ETA: 7s - loss: 0.0019 - accuracy: 1.00 - ETA: 7s - loss: 0.0019 - accuracy: 1.00 - ETA: 7s - loss: 0.0018 - accuracy: 1.00 - ETA: 7s - loss: 0.0018 - accuracy: 1.00 - ETA: 7s - loss: 0.0018 - accuracy: 1.00 - ETA: 7s - loss: 0.0017 - accuracy: 1.00 - ETA: 7s - loss: 0.0017 - accuracy: 1.00 - ETA: 7s - loss: 0.0017 - accuracy: 1.00 - ETA: 7s - loss: 0.0017 - accuracy: 1.00 - ETA: 7s - loss: 0.0017 - accuracy: 1.00 - ETA: 7s - loss: 0.0017 - accuracy: 1.00 - ETA: 7s - loss: 0.0016 - accuracy: 1.00 - ETA: 7s - loss: 0.0016 - accuracy: 1.00 - ETA: 7s - loss: 0.0016 - accuracy: 1.00 - ETA: 6s - loss: 0.0016 - accuracy: 1.00 - ETA: 6s - loss: 0.0015 - accuracy: 1.00 - ETA: 6s - loss: 0.0015 - accuracy: 1.00 - ETA: 6s - loss: 0.0015 - accuracy: 1.00 - ETA: 6s - loss: 0.0015 - accuracy: 1.00 - ETA: 6s - loss: 0.0015 - accuracy: 1.00 - ETA: 6s - loss: 0.0014 - accuracy: 1.00 - ETA: 6s - loss: 0.0014 - accuracy: 1.00 - ETA: 6s - loss: 0.0016 - accuracy: 1.00 - ETA: 6s - loss: 0.0016 - accuracy: 1.00 - ETA: 6s - loss: 0.0016 - accuracy: 1.00 - ETA: 6s - loss: 0.0016 - accuracy: 1.00 - ETA: 6s - loss: 0.0016 - accuracy: 1.00 - ETA: 5s - loss: 0.0015 - accuracy: 1.00 - ETA: 5s - loss: 0.0015 - accuracy: 1.00 - ETA: 5s - loss: 0.0015 - accuracy: 1.00 - ETA: 5s - loss: 0.0015 - accuracy: 1.00 - ETA: 5s - loss: 0.0015 - accuracy: 1.00 - ETA: 5s - loss: 0.0015 - accuracy: 1.00 - ETA: 5s - loss: 0.0014 - accuracy: 1.00 - ETA: 5s - loss: 0.0014 - accuracy: 1.00 - ETA: 5s - loss: 0.0014 - accuracy: 1.00 - ETA: 5s - loss: 0.0014 - accuracy: 1.00 - ETA: 5s - loss: 0.0014 - accuracy: 1.00 - ETA: 5s - loss: 0.0014 - accuracy: 1.00 - ETA: 5s - loss: 0.0013 - accuracy: 1.00 - ETA: 5s - loss: 0.0013 - accuracy: 1.00 - ETA: 4s - loss: 0.0013 - accuracy: 1.00 - ETA: 4s - loss: 0.0013 - accuracy: 1.00 - ETA: 4s - loss: 0.0013 - accuracy: 1.00 - ETA: 4s - loss: 0.0013 - accuracy: 1.00 - ETA: 4s - loss: 0.0013 - accuracy: 1.00 - ETA: 4s - loss: 0.0013 - accuracy: 1.00 - ETA: 4s - loss: 0.0012 - accuracy: 1.00 - ETA: 4s - loss: 0.0012 - accuracy: 1.00 - ETA: 4s - loss: 0.0012 - accuracy: 1.00 - ETA: 4s - loss: 0.0012 - accuracy: 1.00 - ETA: 4s - loss: 0.0012 - accuracy: 1.00 - ETA: 4s - loss: 0.0012 - accuracy: 1.00 - ETA: 4s - loss: 0.0012 - accuracy: 1.00 - ETA: 4s - loss: 0.0012 - accuracy: 1.00 - ETA: 4s - loss: 0.0012 - accuracy: 1.00 - ETA: 4s - loss: 0.0012 - accuracy: 1.00 - ETA: 4s - loss: 0.0012 - accuracy: 1.00 - ETA: 3s - loss: 0.0012 - accuracy: 1.00 - ETA: 3s - loss: 0.0011 - accuracy: 1.00 - ETA: 3s - loss: 0.0011 - accuracy: 1.00 - ETA: 3s - loss: 0.0013 - accuracy: 1.00 - ETA: 3s - loss: 0.0013 - accuracy: 1.00 - ETA: 3s - loss: 0.0013 - accuracy: 1.00 - ETA: 3s - loss: 0.0013 - accuracy: 1.00 - ETA: 3s - loss: 0.0013 - accuracy: 1.00 - ETA: 3s - loss: 0.0013 - accuracy: 1.00 - ETA: 3s - loss: 0.0013 - accuracy: 1.00 - ETA: 3s - loss: 0.0013 - accuracy: 1.00 - ETA: 3s - loss: 0.0013 - accuracy: 1.00 - ETA: 3s - loss: 0.0013 - accuracy: 1.00 - ETA: 3s - loss: 0.0013 - accuracy: 1.00 - ETA: 3s - loss: 0.0012 - accuracy: 1.00 - ETA: 3s - loss: 0.0012 - accuracy: 1.00 - ETA: 3s - loss: 0.0012 - accuracy: 1.00 - ETA: 3s - loss: 0.0012 - accuracy: 1.00 - ETA: 3s - loss: 0.0012 - accuracy: 1.00 - ETA: 3s - loss: 0.0012 - accuracy: 1.00 - ETA: 3s - loss: 0.0012 - accuracy: 1.00 - ETA: 3s - loss: 0.0012 - accuracy: 1.00 - ETA: 3s - loss: 0.0012 - accuracy: 1.00 - ETA: 3s - loss: 0.0012 - accuracy: 1.00 - ETA: 3s - loss: 0.0012 - accuracy: 1.00 - ETA: 3s - loss: 0.0012 - accuracy: 1.00 - ETA: 3s - loss: 0.0012 - accuracy: 1.00 - ETA: 3s - loss: 0.0012 - accuracy: 1.00 - ETA: 3s - loss: 0.0012 - accuracy: 1.00 - ETA: 3s - loss: 0.0012 - accuracy: 1.00 - ETA: 3s - loss: 0.0012 - accuracy: 1.00 - ETA: 3s - loss: 0.0012 - accuracy: 1.00 - ETA: 3s - loss: 0.0012 - accuracy: 1.00 - ETA: 3s - loss: 0.0012 - accuracy: 1.00 - ETA: 3s - loss: 0.0012 - accuracy: 1.00 - ETA: 3s - loss: 0.0011 - accuracy: 1.00 - ETA: 3s - loss: 0.0011 - accuracy: 1.00 - ETA: 3s - loss: 0.0011 - accuracy: 1.00 - ETA: 3s - loss: 0.0011 - accuracy: 1.00 - ETA: 2s - loss: 0.0011 - accuracy: 1.00 - ETA: 2s - loss: 0.0011 - accuracy: 1.00 - ETA: 2s - loss: 0.0011 - accuracy: 1.00 - ETA: 2s - loss: 0.0011 - accuracy: 1.00 - ETA: 2s - loss: 0.0011 - accuracy: 1.00 - ETA: 2s - loss: 0.0011 - accuracy: 1.00 - ETA: 2s - loss: 0.0011 - accuracy: 1.00 - ETA: 2s - loss: 0.0011 - accuracy: 1.00 - ETA: 2s - loss: 0.0011 - accuracy: 1.00 - ETA: 2s - loss: 0.0011 - accuracy: 1.00 - ETA: 2s - loss: 0.0011 - accuracy: 1.00 - ETA: 2s - loss: 0.0011 - accuracy: 1.00 - ETA: 2s - loss: 0.0011 - accuracy: 1.00 - ETA: 2s - loss: 0.0011 - accuracy: 1.00 - ETA: 2s - loss: 0.0011 - accuracy: 1.00 - ETA: 2s - loss: 0.0011 - accuracy: 1.00 - ETA: 2s - loss: 0.0011 - accuracy: 1.00 - ETA: 1s - loss: 0.0010 - accuracy: 1.00 - ETA: 1s - loss: 0.0010 - accuracy: 1.00 - ETA: 1s - loss: 0.0010 - accuracy: 1.00 - ETA: 1s - loss: 0.0010 - accuracy: 1.00 - ETA: 1s - loss: 0.0010 - accuracy: 1.00 - ETA: 1s - loss: 0.0010 - accuracy: 1.00 - ETA: 1s - loss: 0.0010 - accuracy: 1.00 - ETA: 1s - loss: 0.0010 - accuracy: 1.00 - ETA: 1s - loss: 0.0010 - accuracy: 1.00 - ETA: 1s - loss: 0.0010 - accuracy: 1.00 - ETA: 1s - loss: 0.0010 - accuracy: 1.00 - ETA: 1s - loss: 0.0010 - accuracy: 1.00 - ETA: 1s - loss: 0.0010 - accuracy: 1.00 - ETA: 1s - loss: 9.9779e-04 - accuracy: 1.00 - ETA: 1s - loss: 9.9472e-04 - accuracy: 1.00 - ETA: 1s - loss: 9.9148e-04 - accuracy: 1.00 - ETA: 1s - loss: 9.8826e-04 - accuracy: 1.00 - ETA: 1s - loss: 9.8506e-04 - accuracy: 1.00 - ETA: 1s - loss: 9.8189e-04 - accuracy: 1.0000"
     ]
    },
    {
     "name": "stdout",
     "output_type": "stream",
     "text": [
      "1325/1325 [==============================] - ETA: 0s - loss: 9.7873e-04 - accuracy: 1.00 - ETA: 0s - loss: 9.7560e-04 - accuracy: 1.00 - ETA: 0s - loss: 9.7248e-04 - accuracy: 1.00 - ETA: 0s - loss: 9.6939e-04 - accuracy: 1.00 - ETA: 0s - loss: 9.6638e-04 - accuracy: 1.00 - ETA: 0s - loss: 9.6332e-04 - accuracy: 1.00 - ETA: 0s - loss: 9.6028e-04 - accuracy: 1.00 - ETA: 0s - loss: 9.5726e-04 - accuracy: 1.00 - ETA: 0s - loss: 9.8815e-04 - accuracy: 1.00 - ETA: 0s - loss: 9.8507e-04 - accuracy: 1.00 - ETA: 0s - loss: 9.8200e-04 - accuracy: 1.00 - ETA: 0s - loss: 9.7592e-04 - accuracy: 1.00 - ETA: 0s - loss: 9.7291e-04 - accuracy: 1.00 - ETA: 0s - loss: 9.6992e-04 - accuracy: 1.00 - ETA: 0s - loss: 9.6694e-04 - accuracy: 1.00 - ETA: 0s - loss: 9.6405e-04 - accuracy: 1.00 - ETA: 0s - loss: 9.6111e-04 - accuracy: 1.00 - ETA: 0s - loss: 9.5830e-04 - accuracy: 1.00 - ETA: 0s - loss: 9.5547e-04 - accuracy: 1.00 - ETA: 0s - loss: 9.5260e-04 - accuracy: 1.00 - 18s 14ms/step - loss: 9.5188e-04 - accuracy: 1.0000 - val_loss: 4.2581e-06 - val_accuracy: 1.0000\n",
      "Epoch 14/50\n"
     ]
    },
    {
     "name": "stdout",
     "output_type": "stream",
     "text": [
      "1204/1325 [==========================>...] - ETA: 11s - loss: 0.0000e+00 - accuracy: 1.000 - ETA: 12s - loss: 2.1855e-07 - accuracy: 1.000 - ETA: 12s - loss: 2.5034e-07 - accuracy: 1.000 - ETA: 12s - loss: 1.9925e-06 - accuracy: 1.000 - ETA: 12s - loss: 1.5497e-06 - accuracy: 1.000 - ETA: 12s - loss: 1.2815e-06 - accuracy: 1.000 - ETA: 12s - loss: 1.1747e-06 - accuracy: 1.000 - ETA: 12s - loss: 1.0239e-06 - accuracy: 1.000 - ETA: 12s - loss: 8.9591e-07 - accuracy: 1.000 - ETA: 12s - loss: 7.9968e-07 - accuracy: 1.000 - ETA: 12s - loss: 7.1971e-07 - accuracy: 1.000 - ETA: 11s - loss: 0.0025 - accuracy: 1.0000    - ETA: 11s - loss: 0.0023 - accuracy: 1.000 - ETA: 11s - loss: 0.0021 - accuracy: 1.000 - ETA: 11s - loss: 0.0019 - accuracy: 1.000 - ETA: 11s - loss: 0.0019 - accuracy: 1.000 - ETA: 11s - loss: 0.0018 - accuracy: 1.000 - ETA: 11s - loss: 0.0017 - accuracy: 1.000 - ETA: 11s - loss: 0.0016 - accuracy: 1.000 - ETA: 11s - loss: 0.0015 - accuracy: 1.000 - ETA: 11s - loss: 0.0015 - accuracy: 1.000 - ETA: 11s - loss: 0.0014 - accuracy: 1.000 - ETA: 11s - loss: 0.0014 - accuracy: 1.000 - ETA: 11s - loss: 0.0013 - accuracy: 1.000 - ETA: 12s - loss: 0.0013 - accuracy: 1.000 - ETA: 12s - loss: 0.0013 - accuracy: 1.000 - ETA: 12s - loss: 0.0012 - accuracy: 1.000 - ETA: 12s - loss: 0.0012 - accuracy: 1.000 - ETA: 12s - loss: 0.0012 - accuracy: 1.000 - ETA: 12s - loss: 0.0012 - accuracy: 1.000 - ETA: 12s - loss: 0.0011 - accuracy: 1.000 - ETA: 12s - loss: 0.0011 - accuracy: 1.000 - ETA: 12s - loss: 0.0011 - accuracy: 1.000 - ETA: 12s - loss: 0.0010 - accuracy: 1.000 - ETA: 12s - loss: 0.0010 - accuracy: 1.000 - ETA: 12s - loss: 0.0010 - accuracy: 1.000 - ETA: 12s - loss: 9.6693e-04 - accuracy: 1.000 - ETA: 12s - loss: 9.3522e-04 - accuracy: 1.000 - ETA: 12s - loss: 9.2014e-04 - accuracy: 1.000 - ETA: 11s - loss: 8.9139e-04 - accuracy: 1.000 - ETA: 11s - loss: 8.6438e-04 - accuracy: 1.000 - ETA: 11s - loss: 8.5148e-04 - accuracy: 1.000 - ETA: 11s - loss: 8.3895e-04 - accuracy: 1.000 - ETA: 11s - loss: 8.2680e-04 - accuracy: 1.000 - ETA: 11s - loss: 8.1552e-04 - accuracy: 1.000 - ETA: 11s - loss: 8.0403e-04 - accuracy: 1.000 - ETA: 11s - loss: 7.9286e-04 - accuracy: 1.000 - ETA: 11s - loss: 7.9607e-04 - accuracy: 1.000 - ETA: 11s - loss: 7.8531e-04 - accuracy: 1.000 - ETA: 11s - loss: 7.7484e-04 - accuracy: 1.000 - ETA: 11s - loss: 7.6464e-04 - accuracy: 1.000 - ETA: 11s - loss: 7.5476e-04 - accuracy: 1.000 - ETA: 11s - loss: 7.4857e-04 - accuracy: 1.000 - ETA: 11s - loss: 7.3910e-04 - accuracy: 1.000 - ETA: 11s - loss: 7.2986e-04 - accuracy: 1.000 - ETA: 11s - loss: 7.2085e-04 - accuracy: 1.000 - ETA: 11s - loss: 7.1206e-04 - accuracy: 1.000 - ETA: 11s - loss: 7.0348e-04 - accuracy: 1.000 - ETA: 11s - loss: 6.9510e-04 - accuracy: 1.000 - ETA: 11s - loss: 6.8213e-04 - accuracy: 1.000 - ETA: 11s - loss: 6.6664e-04 - accuracy: 1.000 - ETA: 11s - loss: 6.5915e-04 - accuracy: 1.000 - ETA: 11s - loss: 6.5183e-04 - accuracy: 1.000 - ETA: 11s - loss: 6.4467e-04 - accuracy: 1.000 - ETA: 11s - loss: 6.3766e-04 - accuracy: 1.000 - ETA: 11s - loss: 6.2411e-04 - accuracy: 1.000 - ETA: 11s - loss: 6.1754e-04 - accuracy: 1.000 - ETA: 10s - loss: 6.0481e-04 - accuracy: 1.000 - ETA: 10s - loss: 6.0021e-04 - accuracy: 1.000 - ETA: 10s - loss: 5.8832e-04 - accuracy: 1.000 - ETA: 10s - loss: 5.8261e-04 - accuracy: 1.000 - ETA: 10s - loss: 5.7696e-04 - accuracy: 1.000 - ETA: 10s - loss: 5.7141e-04 - accuracy: 1.000 - ETA: 10s - loss: 5.6063e-04 - accuracy: 1.000 - ETA: 10s - loss: 5.5025e-04 - accuracy: 1.000 - ETA: 10s - loss: 5.4520e-04 - accuracy: 1.000 - ETA: 10s - loss: 5.4851e-04 - accuracy: 1.000 - ETA: 10s - loss: 5.4371e-04 - accuracy: 1.000 - ETA: 10s - loss: 5.3429e-04 - accuracy: 1.000 - ETA: 10s - loss: 5.2501e-04 - accuracy: 1.000 - ETA: 9s - loss: 5.1604e-04 - accuracy: 1.000 - ETA: 9s - loss: 5.0742e-04 - accuracy: 1.00 - ETA: 9s - loss: 4.9903e-04 - accuracy: 1.00 - ETA: 9s - loss: 4.9109e-04 - accuracy: 1.00 - ETA: 9s - loss: 4.8324e-04 - accuracy: 1.00 - ETA: 9s - loss: 4.7563e-04 - accuracy: 1.00 - ETA: 9s - loss: 4.6843e-04 - accuracy: 1.00 - ETA: 9s - loss: 4.6128e-04 - accuracy: 1.00 - ETA: 9s - loss: 4.5435e-04 - accuracy: 1.00 - ETA: 8s - loss: 4.4762e-04 - accuracy: 1.00 - ETA: 8s - loss: 4.4108e-04 - accuracy: 1.00 - ETA: 8s - loss: 4.3474e-04 - accuracy: 1.00 - ETA: 8s - loss: 4.2858e-04 - accuracy: 1.00 - ETA: 8s - loss: 4.2258e-04 - accuracy: 1.00 - ETA: 8s - loss: 4.1676e-04 - accuracy: 1.00 - ETA: 8s - loss: 4.1109e-04 - accuracy: 1.00 - ETA: 8s - loss: 4.0557e-04 - accuracy: 1.00 - ETA: 8s - loss: 4.0020e-04 - accuracy: 1.00 - ETA: 7s - loss: 3.9497e-04 - accuracy: 1.00 - ETA: 7s - loss: 4.1034e-04 - accuracy: 1.00 - ETA: 7s - loss: 4.0511e-04 - accuracy: 1.00 - ETA: 7s - loss: 4.0032e-04 - accuracy: 1.00 - ETA: 7s - loss: 3.9541e-04 - accuracy: 1.00 - ETA: 7s - loss: 0.0010 - accuracy: 1.0000   - ETA: 7s - loss: 0.0010 - accuracy: 1.00 - ETA: 7s - loss: 0.0010 - accuracy: 1.00 - ETA: 7s - loss: 9.9491e-04 - accuracy: 1.00 - ETA: 7s - loss: 9.8328e-04 - accuracy: 1.00 - ETA: 6s - loss: 9.7191e-04 - accuracy: 1.00 - ETA: 6s - loss: 9.6081e-04 - accuracy: 1.00 - ETA: 6s - loss: 9.4995e-04 - accuracy: 1.00 - ETA: 6s - loss: 9.3934e-04 - accuracy: 1.00 - ETA: 6s - loss: 9.2896e-04 - accuracy: 1.00 - ETA: 6s - loss: 9.1896e-04 - accuracy: 1.00 - ETA: 6s - loss: 9.0903e-04 - accuracy: 1.00 - ETA: 6s - loss: 9.0275e-04 - accuracy: 1.00 - ETA: 6s - loss: 8.9320e-04 - accuracy: 1.00 - ETA: 6s - loss: 8.8384e-04 - accuracy: 1.00 - ETA: 5s - loss: 8.7469e-04 - accuracy: 1.00 - ETA: 5s - loss: 8.6579e-04 - accuracy: 1.00 - ETA: 5s - loss: 8.5700e-04 - accuracy: 1.00 - ETA: 5s - loss: 8.4840e-04 - accuracy: 1.00 - ETA: 5s - loss: 8.3996e-04 - accuracy: 1.00 - ETA: 5s - loss: 8.3168e-04 - accuracy: 1.00 - ETA: 5s - loss: 8.2357e-04 - accuracy: 1.00 - ETA: 5s - loss: 8.2110e-04 - accuracy: 1.00 - ETA: 5s - loss: 8.1327e-04 - accuracy: 1.00 - ETA: 5s - loss: 8.0556e-04 - accuracy: 1.00 - ETA: 5s - loss: 7.9800e-04 - accuracy: 1.00 - ETA: 4s - loss: 7.9058e-04 - accuracy: 1.00 - ETA: 4s - loss: 7.8329e-04 - accuracy: 1.00 - ETA: 4s - loss: 7.7614e-04 - accuracy: 1.00 - ETA: 4s - loss: 7.6928e-04 - accuracy: 1.00 - ETA: 4s - loss: 7.7498e-04 - accuracy: 1.00 - ETA: 4s - loss: 7.6809e-04 - accuracy: 1.00 - ETA: 4s - loss: 7.6137e-04 - accuracy: 1.00 - ETA: 4s - loss: 7.5473e-04 - accuracy: 1.00 - ETA: 4s - loss: 7.4820e-04 - accuracy: 1.00 - ETA: 4s - loss: 7.4497e-04 - accuracy: 1.00 - ETA: 4s - loss: 7.4178e-04 - accuracy: 1.00 - ETA: 4s - loss: 7.3883e-04 - accuracy: 1.00 - ETA: 4s - loss: 7.3568e-04 - accuracy: 1.00 - ETA: 4s - loss: 7.3256e-04 - accuracy: 1.00 - ETA: 4s - loss: 7.2947e-04 - accuracy: 1.00 - ETA: 4s - loss: 7.2658e-04 - accuracy: 1.00 - ETA: 4s - loss: 7.2438e-04 - accuracy: 1.00 - ETA: 3s - loss: 7.1837e-04 - accuracy: 1.00 - ETA: 3s - loss: 7.1245e-04 - accuracy: 1.00 - ETA: 3s - loss: 7.0664e-04 - accuracy: 1.00 - ETA: 3s - loss: 7.0092e-04 - accuracy: 1.00 - ETA: 3s - loss: 6.9529e-04 - accuracy: 1.00 - ETA: 3s - loss: 6.8977e-04 - accuracy: 1.00 - ETA: 3s - loss: 6.8432e-04 - accuracy: 1.00 - ETA: 3s - loss: 6.7895e-04 - accuracy: 1.00 - ETA: 3s - loss: 6.7367e-04 - accuracy: 1.00 - ETA: 3s - loss: 6.6846e-04 - accuracy: 1.00 - ETA: 3s - loss: 6.6334e-04 - accuracy: 1.00 - ETA: 2s - loss: 6.5830e-04 - accuracy: 1.00 - ETA: 2s - loss: 6.5487e-04 - accuracy: 1.00 - ETA: 2s - loss: 6.4996e-04 - accuracy: 1.00 - ETA: 2s - loss: 6.4532e-04 - accuracy: 1.00 - ETA: 2s - loss: 6.4061e-04 - accuracy: 1.00 - ETA: 2s - loss: 6.3592e-04 - accuracy: 1.00 - ETA: 2s - loss: 6.3130e-04 - accuracy: 1.00 - ETA: 2s - loss: 6.2674e-04 - accuracy: 1.00 - ETA: 2s - loss: 6.2225e-04 - accuracy: 1.00 - ETA: 2s - loss: 6.5381e-04 - accuracy: 1.00 - ETA: 2s - loss: 6.4919e-04 - accuracy: 1.00 - ETA: 1s - loss: 6.4464e-04 - accuracy: 1.00 - ETA: 1s - loss: 6.7668e-04 - accuracy: 1.00 - ETA: 1s - loss: 0.0034 - accuracy: 0.9991   - ETA: 1s - loss: 0.0033 - accuracy: 0.99 - ETA: 1s - loss: 0.0033 - accuracy: 0.99 - ETA: 1s - loss: 0.0033 - accuracy: 0.99 - ETA: 1s - loss: 0.0033 - accuracy: 0.99 - ETA: 1s - loss: 0.0032 - accuracy: 0.99 - ETA: 1s - loss: 0.0035 - accuracy: 0.9992"
     ]
    },
    {
     "name": "stdout",
     "output_type": "stream",
     "text": [
      "1325/1325 [==============================] - ETA: 1s - loss: 0.0106 - accuracy: 0.99 - ETA: 1s - loss: 0.0105 - accuracy: 0.99 - ETA: 1s - loss: 0.0105 - accuracy: 0.99 - ETA: 0s - loss: 0.0104 - accuracy: 0.99 - ETA: 0s - loss: 0.0104 - accuracy: 0.99 - ETA: 0s - loss: 0.0104 - accuracy: 0.99 - ETA: 0s - loss: 0.0103 - accuracy: 0.99 - ETA: 0s - loss: 0.0209 - accuracy: 0.99 - ETA: 0s - loss: 0.0208 - accuracy: 0.99 - ETA: 0s - loss: 0.0207 - accuracy: 0.99 - ETA: 0s - loss: 0.0206 - accuracy: 0.99 - ETA: 0s - loss: 0.0212 - accuracy: 0.99 - ETA: 0s - loss: 0.0210 - accuracy: 0.99 - ETA: 0s - loss: 0.0209 - accuracy: 0.99 - ETA: 0s - loss: 0.0208 - accuracy: 0.99 - ETA: 0s - loss: 0.0207 - accuracy: 0.99 - ETA: 0s - loss: 0.0205 - accuracy: 0.99 - 15s 11ms/step - loss: 0.0205 - accuracy: 0.9970 - val_loss: 0.0255 - val_accuracy: 0.9880\n",
      "Epoch 15/50\n",
      "1325/1325 [==============================] - ETA: 11s - loss: 3.4853e-04 - accuracy: 1.000 - ETA: 12s - loss: 1.1636e-04 - accuracy: 1.000 - ETA: 12s - loss: 3.3140e-04 - accuracy: 1.000 - ETA: 12s - loss: 2.3810e-04 - accuracy: 1.000 - ETA: 11s - loss: 1.8639e-04 - accuracy: 1.000 - ETA: 11s - loss: 0.0012 - accuracy: 1.0000    - ETA: 11s - loss: 0.0011 - accuracy: 1.000 - ETA: 11s - loss: 0.0929 - accuracy: 0.983 - ETA: 11s - loss: 0.0819 - accuracy: 0.985 - ETA: 11s - loss: 0.0733 - accuracy: 0.986 - ETA: 11s - loss: 0.0663 - accuracy: 0.988 - ETA: 11s - loss: 0.0606 - accuracy: 0.989 - ETA: 11s - loss: 0.0558 - accuracy: 0.990 - ETA: 11s - loss: 0.0517 - accuracy: 0.990 - ETA: 11s - loss: 0.0493 - accuracy: 0.991 - ETA: 11s - loss: 0.0500 - accuracy: 0.991 - ETA: 11s - loss: 0.0492 - accuracy: 0.992 - ETA: 11s - loss: 0.0464 - accuracy: 0.992 - ETA: 11s - loss: 0.0440 - accuracy: 0.993 - ETA: 11s - loss: 0.0417 - accuracy: 0.993 - ETA: 10s - loss: 0.0574 - accuracy: 0.987 - ETA: 10s - loss: 0.0547 - accuracy: 0.988 - ETA: 10s - loss: 0.0524 - accuracy: 0.988 - ETA: 10s - loss: 0.0502 - accuracy: 0.989 - ETA: 10s - loss: 0.0482 - accuracy: 0.989 - ETA: 10s - loss: 0.0464 - accuracy: 0.990 - ETA: 10s - loss: 0.0447 - accuracy: 0.990 - ETA: 10s - loss: 0.0465 - accuracy: 0.990 - ETA: 10s - loss: 0.0625 - accuracy: 0.986 - ETA: 10s - loss: 0.0604 - accuracy: 0.987 - ETA: 10s - loss: 0.0614 - accuracy: 0.983 - ETA: 10s - loss: 0.0596 - accuracy: 0.983 - ETA: 10s - loss: 0.0577 - accuracy: 0.984 - ETA: 9s - loss: 0.0560 - accuracy: 0.984 - ETA: 9s - loss: 0.0543 - accuracy: 0.98 - ETA: 9s - loss: 0.0528 - accuracy: 0.98 - ETA: 9s - loss: 0.0515 - accuracy: 0.98 - ETA: 9s - loss: 0.0501 - accuracy: 0.98 - ETA: 9s - loss: 0.0488 - accuracy: 0.98 - ETA: 9s - loss: 0.0475 - accuracy: 0.98 - ETA: 9s - loss: 0.0463 - accuracy: 0.98 - ETA: 9s - loss: 0.0453 - accuracy: 0.98 - ETA: 9s - loss: 0.0464 - accuracy: 0.98 - ETA: 9s - loss: 0.0655 - accuracy: 0.98 - ETA: 9s - loss: 0.0641 - accuracy: 0.98 - ETA: 9s - loss: 0.0626 - accuracy: 0.98 - ETA: 9s - loss: 0.0620 - accuracy: 0.98 - ETA: 9s - loss: 0.0613 - accuracy: 0.98 - ETA: 9s - loss: 0.0607 - accuracy: 0.98 - ETA: 9s - loss: 0.0594 - accuracy: 0.98 - ETA: 9s - loss: 0.0582 - accuracy: 0.98 - ETA: 9s - loss: 0.0571 - accuracy: 0.98 - ETA: 8s - loss: 0.0560 - accuracy: 0.98 - ETA: 8s - loss: 0.0573 - accuracy: 0.98 - ETA: 8s - loss: 0.0574 - accuracy: 0.98 - ETA: 8s - loss: 0.0563 - accuracy: 0.98 - ETA: 8s - loss: 0.0553 - accuracy: 0.98 - ETA: 8s - loss: 0.0543 - accuracy: 0.98 - ETA: 8s - loss: 0.0534 - accuracy: 0.98 - ETA: 8s - loss: 0.0524 - accuracy: 0.98 - ETA: 8s - loss: 0.0518 - accuracy: 0.98 - ETA: 8s - loss: 0.0509 - accuracy: 0.98 - ETA: 8s - loss: 0.0501 - accuracy: 0.98 - ETA: 8s - loss: 0.0493 - accuracy: 0.98 - ETA: 8s - loss: 0.0485 - accuracy: 0.98 - ETA: 7s - loss: 0.0477 - accuracy: 0.98 - ETA: 7s - loss: 0.0471 - accuracy: 0.98 - ETA: 7s - loss: 0.0463 - accuracy: 0.98 - ETA: 7s - loss: 0.0456 - accuracy: 0.98 - ETA: 7s - loss: 0.0450 - accuracy: 0.98 - ETA: 7s - loss: 0.0443 - accuracy: 0.98 - ETA: 7s - loss: 0.0437 - accuracy: 0.98 - ETA: 7s - loss: 0.0431 - accuracy: 0.98 - ETA: 7s - loss: 0.0425 - accuracy: 0.98 - ETA: 7s - loss: 0.0528 - accuracy: 0.98 - ETA: 7s - loss: 0.0521 - accuracy: 0.98 - ETA: 7s - loss: 0.0514 - accuracy: 0.98 - ETA: 6s - loss: 0.0507 - accuracy: 0.98 - ETA: 6s - loss: 0.0501 - accuracy: 0.98 - ETA: 6s - loss: 0.0494 - accuracy: 0.98 - ETA: 6s - loss: 0.0488 - accuracy: 0.98 - ETA: 6s - loss: 0.0482 - accuracy: 0.98 - ETA: 6s - loss: 0.0476 - accuracy: 0.98 - ETA: 6s - loss: 0.0470 - accuracy: 0.98 - ETA: 6s - loss: 0.0465 - accuracy: 0.98 - ETA: 6s - loss: 0.0460 - accuracy: 0.98 - ETA: 6s - loss: 0.0454 - accuracy: 0.98 - ETA: 6s - loss: 0.0449 - accuracy: 0.98 - ETA: 6s - loss: 0.0444 - accuracy: 0.98 - ETA: 6s - loss: 0.0439 - accuracy: 0.98 - ETA: 5s - loss: 0.0434 - accuracy: 0.98 - ETA: 5s - loss: 0.0429 - accuracy: 0.98 - ETA: 5s - loss: 0.0425 - accuracy: 0.98 - ETA: 5s - loss: 0.0420 - accuracy: 0.98 - ETA: 5s - loss: 0.0416 - accuracy: 0.98 - ETA: 5s - loss: 0.0411 - accuracy: 0.98 - ETA: 5s - loss: 0.0407 - accuracy: 0.98 - ETA: 5s - loss: 0.0403 - accuracy: 0.98 - ETA: 5s - loss: 0.0399 - accuracy: 0.98 - ETA: 5s - loss: 0.0396 - accuracy: 0.98 - ETA: 5s - loss: 0.0392 - accuracy: 0.98 - ETA: 5s - loss: 0.0391 - accuracy: 0.98 - ETA: 4s - loss: 0.0387 - accuracy: 0.99 - ETA: 4s - loss: 0.0383 - accuracy: 0.99 - ETA: 4s - loss: 0.0380 - accuracy: 0.99 - ETA: 4s - loss: 0.0376 - accuracy: 0.99 - ETA: 4s - loss: 0.0372 - accuracy: 0.99 - ETA: 4s - loss: 0.0369 - accuracy: 0.99 - ETA: 4s - loss: 0.0369 - accuracy: 0.99 - ETA: 4s - loss: 0.0369 - accuracy: 0.99 - ETA: 4s - loss: 0.0366 - accuracy: 0.99 - ETA: 4s - loss: 0.0362 - accuracy: 0.99 - ETA: 4s - loss: 0.0359 - accuracy: 0.99 - ETA: 4s - loss: 0.0356 - accuracy: 0.99 - ETA: 4s - loss: 0.0353 - accuracy: 0.99 - ETA: 3s - loss: 0.0350 - accuracy: 0.99 - ETA: 3s - loss: 0.0347 - accuracy: 0.99 - ETA: 3s - loss: 0.0344 - accuracy: 0.99 - ETA: 3s - loss: 0.0341 - accuracy: 0.99 - ETA: 3s - loss: 0.0338 - accuracy: 0.99 - ETA: 3s - loss: 0.0335 - accuracy: 0.99 - ETA: 3s - loss: 0.0332 - accuracy: 0.99 - ETA: 3s - loss: 0.0329 - accuracy: 0.99 - ETA: 3s - loss: 0.0328 - accuracy: 0.99 - ETA: 3s - loss: 0.0347 - accuracy: 0.99 - ETA: 3s - loss: 0.0344 - accuracy: 0.99 - ETA: 3s - loss: 0.0341 - accuracy: 0.99 - ETA: 3s - loss: 0.0338 - accuracy: 0.99 - ETA: 3s - loss: 0.0336 - accuracy: 0.99 - ETA: 2s - loss: 0.0333 - accuracy: 0.99 - ETA: 2s - loss: 0.0331 - accuracy: 0.99 - ETA: 2s - loss: 0.0329 - accuracy: 0.99 - ETA: 2s - loss: 0.0327 - accuracy: 0.99 - ETA: 2s - loss: 0.0552 - accuracy: 0.99 - ETA: 2s - loss: 0.0548 - accuracy: 0.99 - ETA: 2s - loss: 0.0544 - accuracy: 0.99 - ETA: 2s - loss: 0.0540 - accuracy: 0.99 - ETA: 2s - loss: 0.0538 - accuracy: 0.99 - ETA: 2s - loss: 0.0544 - accuracy: 0.98 - ETA: 2s - loss: 0.0542 - accuracy: 0.99 - ETA: 2s - loss: 0.0539 - accuracy: 0.99 - ETA: 2s - loss: 0.0535 - accuracy: 0.99 - ETA: 1s - loss: 0.0533 - accuracy: 0.99 - ETA: 1s - loss: 0.0529 - accuracy: 0.99 - ETA: 1s - loss: 0.0527 - accuracy: 0.99 - ETA: 1s - loss: 0.0524 - accuracy: 0.99 - ETA: 1s - loss: 0.0520 - accuracy: 0.99 - ETA: 1s - loss: 0.0517 - accuracy: 0.99 - ETA: 1s - loss: 0.0513 - accuracy: 0.99 - ETA: 1s - loss: 0.0510 - accuracy: 0.99 - ETA: 1s - loss: 0.0507 - accuracy: 0.99 - ETA: 1s - loss: 0.0514 - accuracy: 0.98 - ETA: 1s - loss: 0.0510 - accuracy: 0.99 - ETA: 1s - loss: 0.0507 - accuracy: 0.99 - ETA: 1s - loss: 0.0504 - accuracy: 0.99 - ETA: 0s - loss: 0.0500 - accuracy: 0.99 - ETA: 0s - loss: 0.0497 - accuracy: 0.99 - ETA: 0s - loss: 0.0494 - accuracy: 0.99 - ETA: 0s - loss: 0.0491 - accuracy: 0.99 - ETA: 0s - loss: 0.0488 - accuracy: 0.99 - ETA: 0s - loss: 0.0485 - accuracy: 0.99 - ETA: 0s - loss: 0.0482 - accuracy: 0.99 - ETA: 0s - loss: 0.0479 - accuracy: 0.99 - ETA: 0s - loss: 0.0476 - accuracy: 0.99 - ETA: 0s - loss: 0.0473 - accuracy: 0.99 - ETA: 0s - loss: 0.0471 - accuracy: 0.99 - ETA: 0s - loss: 0.0468 - accuracy: 0.99 - ETA: 0s - loss: 0.0466 - accuracy: 0.99 - ETA: 0s - loss: 0.0463 - accuracy: 0.99 - 13s 10ms/step - loss: 0.0462 - accuracy: 0.9909 - val_loss: 4.8513e-04 - val_accuracy: 1.0000\n"
     ]
    },
    {
     "name": "stdout",
     "output_type": "stream",
     "text": [
      "Epoch 16/50\n",
      "1325/1325 [==============================] - ETA: 11s - loss: 0.0000e+00 - accuracy: 1.000 - ETA: 12s - loss: 2.4657e-04 - accuracy: 1.000 - ETA: 12s - loss: 1.4796e-04 - accuracy: 1.000 - ETA: 12s - loss: 1.1188e-04 - accuracy: 1.000 - ETA: 12s - loss: 8.7610e-05 - accuracy: 1.000 - ETA: 12s - loss: 2.7545e-04 - accuracy: 1.000 - ETA: 12s - loss: 0.0744 - accuracy: 0.9808    - ETA: 12s - loss: 0.0649 - accuracy: 0.983 - ETA: 12s - loss: 0.0572 - accuracy: 0.985 - ETA: 11s - loss: 0.0512 - accuracy: 0.986 - ETA: 11s - loss: 0.0463 - accuracy: 0.988 - ETA: 11s - loss: 0.0424 - accuracy: 0.989 - ETA: 11s - loss: 0.0390 - accuracy: 0.990 - ETA: 11s - loss: 0.0372 - accuracy: 0.990 - ETA: 11s - loss: 0.0347 - accuracy: 0.991 - ETA: 11s - loss: 0.0325 - accuracy: 0.991 - ETA: 11s - loss: 0.0338 - accuracy: 0.992 - ETA: 11s - loss: 0.0319 - accuracy: 0.992 - ETA: 11s - loss: 0.0302 - accuracy: 0.993 - ETA: 11s - loss: 0.0286 - accuracy: 0.993 - ETA: 11s - loss: 0.0272 - accuracy: 0.993 - ETA: 11s - loss: 0.0260 - accuracy: 0.994 - ETA: 11s - loss: 0.0248 - accuracy: 0.994 - ETA: 11s - loss: 0.0238 - accuracy: 0.994 - ETA: 10s - loss: 0.0228 - accuracy: 0.994 - ETA: 10s - loss: 0.0219 - accuracy: 0.995 - ETA: 10s - loss: 0.0347 - accuracy: 0.990 - ETA: 10s - loss: 0.0335 - accuracy: 0.990 - ETA: 10s - loss: 0.0323 - accuracy: 0.991 - ETA: 10s - loss: 0.0312 - accuracy: 0.991 - ETA: 10s - loss: 0.0302 - accuracy: 0.991 - ETA: 10s - loss: 0.0301 - accuracy: 0.992 - ETA: 10s - loss: 0.0292 - accuracy: 0.992 - ETA: 10s - loss: 0.0283 - accuracy: 0.992 - ETA: 10s - loss: 0.0275 - accuracy: 0.992 - ETA: 9s - loss: 0.0267 - accuracy: 0.993 - ETA: 9s - loss: 0.0260 - accuracy: 0.99 - ETA: 9s - loss: 0.0254 - accuracy: 0.99 - ETA: 9s - loss: 0.0247 - accuracy: 0.99 - ETA: 9s - loss: 0.0250 - accuracy: 0.99 - ETA: 9s - loss: 0.0244 - accuracy: 0.99 - ETA: 9s - loss: 0.0238 - accuracy: 0.99 - ETA: 9s - loss: 0.0232 - accuracy: 0.99 - ETA: 9s - loss: 0.0227 - accuracy: 0.99 - ETA: 9s - loss: 0.0224 - accuracy: 0.99 - ETA: 9s - loss: 0.0219 - accuracy: 0.99 - ETA: 9s - loss: 0.0214 - accuracy: 0.99 - ETA: 9s - loss: 0.0210 - accuracy: 0.99 - ETA: 9s - loss: 0.0205 - accuracy: 0.99 - ETA: 8s - loss: 0.0201 - accuracy: 0.99 - ETA: 8s - loss: 0.0198 - accuracy: 0.99 - ETA: 8s - loss: 0.0194 - accuracy: 0.99 - ETA: 8s - loss: 0.0190 - accuracy: 0.99 - ETA: 8s - loss: 0.0187 - accuracy: 0.99 - ETA: 8s - loss: 0.0183 - accuracy: 0.99 - ETA: 8s - loss: 0.0180 - accuracy: 0.99 - ETA: 8s - loss: 0.0177 - accuracy: 0.99 - ETA: 8s - loss: 0.0175 - accuracy: 0.99 - ETA: 8s - loss: 0.0173 - accuracy: 0.99 - ETA: 8s - loss: 0.0170 - accuracy: 0.99 - ETA: 8s - loss: 0.0167 - accuracy: 0.99 - ETA: 8s - loss: 0.0164 - accuracy: 0.99 - ETA: 8s - loss: 0.0165 - accuracy: 0.99 - ETA: 7s - loss: 0.0162 - accuracy: 0.99 - ETA: 7s - loss: 0.0160 - accuracy: 0.99 - ETA: 7s - loss: 0.0157 - accuracy: 0.99 - ETA: 7s - loss: 0.0155 - accuracy: 0.99 - ETA: 7s - loss: 0.0152 - accuracy: 0.99 - ETA: 7s - loss: 0.0150 - accuracy: 0.99 - ETA: 7s - loss: 0.0148 - accuracy: 0.99 - ETA: 7s - loss: 0.0146 - accuracy: 0.99 - ETA: 7s - loss: 0.0144 - accuracy: 0.99 - ETA: 7s - loss: 0.0142 - accuracy: 0.99 - ETA: 7s - loss: 0.0140 - accuracy: 0.99 - ETA: 7s - loss: 0.0138 - accuracy: 0.99 - ETA: 6s - loss: 0.0137 - accuracy: 0.99 - ETA: 6s - loss: 0.0135 - accuracy: 0.99 - ETA: 6s - loss: 0.0133 - accuracy: 0.99 - ETA: 6s - loss: 0.0131 - accuracy: 0.99 - ETA: 6s - loss: 0.0130 - accuracy: 0.99 - ETA: 6s - loss: 0.0128 - accuracy: 0.99 - ETA: 6s - loss: 0.0127 - accuracy: 0.99 - ETA: 6s - loss: 0.0125 - accuracy: 0.99 - ETA: 6s - loss: 0.0123 - accuracy: 0.99 - ETA: 6s - loss: 0.0122 - accuracy: 0.99 - ETA: 6s - loss: 0.0121 - accuracy: 0.99 - ETA: 6s - loss: 0.0121 - accuracy: 0.99 - ETA: 6s - loss: 0.0119 - accuracy: 0.99 - ETA: 5s - loss: 0.0118 - accuracy: 0.99 - ETA: 5s - loss: 0.0117 - accuracy: 0.99 - ETA: 5s - loss: 0.0115 - accuracy: 0.99 - ETA: 5s - loss: 0.0114 - accuracy: 0.99 - ETA: 5s - loss: 0.0113 - accuracy: 0.99 - ETA: 5s - loss: 0.0112 - accuracy: 0.99 - ETA: 5s - loss: 0.0110 - accuracy: 0.99 - ETA: 5s - loss: 0.0109 - accuracy: 0.99 - ETA: 5s - loss: 0.0108 - accuracy: 0.99 - ETA: 5s - loss: 0.0107 - accuracy: 0.99 - ETA: 5s - loss: 0.0106 - accuracy: 0.99 - ETA: 5s - loss: 0.0105 - accuracy: 0.99 - ETA: 5s - loss: 0.0104 - accuracy: 0.99 - ETA: 5s - loss: 0.0103 - accuracy: 0.99 - ETA: 4s - loss: 0.0102 - accuracy: 0.99 - ETA: 4s - loss: 0.0101 - accuracy: 0.99 - ETA: 4s - loss: 0.0100 - accuracy: 0.99 - ETA: 4s - loss: 0.0099 - accuracy: 0.99 - ETA: 4s - loss: 0.0098 - accuracy: 0.99 - ETA: 4s - loss: 0.0097 - accuracy: 0.99 - ETA: 4s - loss: 0.0097 - accuracy: 0.99 - ETA: 4s - loss: 0.0096 - accuracy: 0.99 - ETA: 4s - loss: 0.0095 - accuracy: 0.99 - ETA: 4s - loss: 0.0094 - accuracy: 0.99 - ETA: 4s - loss: 0.0093 - accuracy: 0.99 - ETA: 4s - loss: 0.0092 - accuracy: 0.99 - ETA: 3s - loss: 0.0092 - accuracy: 0.99 - ETA: 3s - loss: 0.0091 - accuracy: 0.99 - ETA: 3s - loss: 0.0090 - accuracy: 0.99 - ETA: 3s - loss: 0.0089 - accuracy: 0.99 - ETA: 3s - loss: 0.0088 - accuracy: 0.99 - ETA: 3s - loss: 0.0088 - accuracy: 0.99 - ETA: 3s - loss: 0.0087 - accuracy: 0.99 - ETA: 3s - loss: 0.0086 - accuracy: 0.99 - ETA: 3s - loss: 0.0086 - accuracy: 0.99 - ETA: 3s - loss: 0.0085 - accuracy: 0.99 - ETA: 3s - loss: 0.0084 - accuracy: 0.99 - ETA: 3s - loss: 0.0084 - accuracy: 0.99 - ETA: 3s - loss: 0.0083 - accuracy: 0.99 - ETA: 2s - loss: 0.0082 - accuracy: 0.99 - ETA: 2s - loss: 0.0082 - accuracy: 0.99 - ETA: 2s - loss: 0.0081 - accuracy: 0.99 - ETA: 2s - loss: 0.0080 - accuracy: 0.99 - ETA: 2s - loss: 0.0080 - accuracy: 0.99 - ETA: 2s - loss: 0.0083 - accuracy: 0.99 - ETA: 2s - loss: 0.0082 - accuracy: 0.99 - ETA: 2s - loss: 0.0081 - accuracy: 0.99 - ETA: 2s - loss: 0.0081 - accuracy: 0.99 - ETA: 2s - loss: 0.0080 - accuracy: 0.99 - ETA: 2s - loss: 0.0079 - accuracy: 0.99 - ETA: 2s - loss: 0.0079 - accuracy: 0.99 - ETA: 2s - loss: 0.0078 - accuracy: 0.99 - ETA: 1s - loss: 0.0078 - accuracy: 0.99 - ETA: 1s - loss: 0.0077 - accuracy: 0.99 - ETA: 1s - loss: 0.0077 - accuracy: 0.99 - ETA: 1s - loss: 0.0076 - accuracy: 0.99 - ETA: 1s - loss: 0.0076 - accuracy: 0.99 - ETA: 1s - loss: 0.0075 - accuracy: 0.99 - ETA: 1s - loss: 0.0075 - accuracy: 0.99 - ETA: 1s - loss: 0.0074 - accuracy: 0.99 - ETA: 1s - loss: 0.0074 - accuracy: 0.99 - ETA: 1s - loss: 0.0073 - accuracy: 0.99 - ETA: 1s - loss: 0.0073 - accuracy: 0.99 - ETA: 1s - loss: 0.0072 - accuracy: 0.99 - ETA: 1s - loss: 0.0072 - accuracy: 0.99 - ETA: 1s - loss: 0.0071 - accuracy: 0.99 - ETA: 0s - loss: 0.0071 - accuracy: 0.99 - ETA: 0s - loss: 0.0070 - accuracy: 0.99 - ETA: 0s - loss: 0.0070 - accuracy: 0.99 - ETA: 0s - loss: 0.0070 - accuracy: 0.99 - ETA: 0s - loss: 0.0069 - accuracy: 0.99 - ETA: 0s - loss: 0.0069 - accuracy: 0.99 - ETA: 0s - loss: 0.0068 - accuracy: 0.99 - ETA: 0s - loss: 0.0068 - accuracy: 0.99 - ETA: 0s - loss: 0.0068 - accuracy: 0.99 - ETA: 0s - loss: 0.0067 - accuracy: 0.99 - ETA: 0s - loss: 0.0067 - accuracy: 0.99 - ETA: 0s - loss: 0.0066 - accuracy: 0.99 - ETA: 0s - loss: 0.0066 - accuracy: 0.99 - 13s 10ms/step - loss: 0.0066 - accuracy: 0.9985 - val_loss: 0.0011 - val_accuracy: 1.0000\n",
      "Epoch 17/50\n"
     ]
    },
    {
     "name": "stdout",
     "output_type": "stream",
     "text": [
      "1325/1325 [==============================] - ETA: 11s - loss: 3.8743e-07 - accuracy: 1.000 - ETA: 12s - loss: 1.4305e-06 - accuracy: 1.000 - ETA: 12s - loss: 1.0788e-06 - accuracy: 1.000 - ETA: 12s - loss: 7.7060e-07 - accuracy: 1.000 - ETA: 12s - loss: 1.7451e-06 - accuracy: 1.000 - ETA: 12s - loss: 1.5660e-06 - accuracy: 1.000 - ETA: 12s - loss: 1.3480e-06 - accuracy: 1.000 - ETA: 12s - loss: 1.7305e-06 - accuracy: 1.000 - ETA: 11s - loss: 1.5287e-06 - accuracy: 1.000 - ETA: 11s - loss: 7.3034e-06 - accuracy: 1.000 - ETA: 11s - loss: 6.7951e-06 - accuracy: 1.000 - ETA: 11s - loss: 8.6491e-06 - accuracy: 1.000 - ETA: 11s - loss: 8.0728e-06 - accuracy: 1.000 - ETA: 11s - loss: 1.3581e-05 - accuracy: 1.000 - ETA: 11s - loss: 1.2644e-05 - accuracy: 1.000 - ETA: 11s - loss: 1.4512e-05 - accuracy: 1.000 - ETA: 11s - loss: 1.3634e-05 - accuracy: 1.000 - ETA: 11s - loss: 1.2997e-05 - accuracy: 1.000 - ETA: 11s - loss: 1.3290e-05 - accuracy: 1.000 - ETA: 11s - loss: 1.2626e-05 - accuracy: 1.000 - ETA: 10s - loss: 1.2011e-05 - accuracy: 1.000 - ETA: 10s - loss: 1.1463e-05 - accuracy: 1.000 - ETA: 10s - loss: 1.1540e-05 - accuracy: 1.000 - ETA: 10s - loss: 1.1050e-05 - accuracy: 1.000 - ETA: 10s - loss: 5.3097e-05 - accuracy: 1.000 - ETA: 10s - loss: 5.2588e-05 - accuracy: 1.000 - ETA: 10s - loss: 5.0817e-05 - accuracy: 1.000 - ETA: 10s - loss: 4.8980e-05 - accuracy: 1.000 - ETA: 10s - loss: 5.7728e-05 - accuracy: 1.000 - ETA: 10s - loss: 5.5772e-05 - accuracy: 1.000 - ETA: 10s - loss: 5.3997e-05 - accuracy: 1.000 - ETA: 10s - loss: 5.2432e-05 - accuracy: 1.000 - ETA: 10s - loss: 5.0819e-05 - accuracy: 1.000 - ETA: 10s - loss: 4.9302e-05 - accuracy: 1.000 - ETA: 10s - loss: 4.7873e-05 - accuracy: 1.000 - ETA: 9s - loss: 4.6603e-05 - accuracy: 1.000 - ETA: 9s - loss: 4.5327e-05 - accuracy: 1.00 - ETA: 9s - loss: 4.5469e-05 - accuracy: 1.00 - ETA: 9s - loss: 3.9941e-04 - accuracy: 1.00 - ETA: 9s - loss: 3.8930e-04 - accuracy: 1.00 - ETA: 9s - loss: 4.0512e-04 - accuracy: 1.00 - ETA: 9s - loss: 3.9536e-04 - accuracy: 1.00 - ETA: 9s - loss: 3.8606e-04 - accuracy: 1.00 - ETA: 9s - loss: 3.7718e-04 - accuracy: 1.00 - ETA: 9s - loss: 3.6890e-04 - accuracy: 1.00 - ETA: 9s - loss: 3.6080e-04 - accuracy: 1.00 - ETA: 9s - loss: 3.5304e-04 - accuracy: 1.00 - ETA: 9s - loss: 3.4565e-04 - accuracy: 1.00 - ETA: 8s - loss: 3.3852e-04 - accuracy: 1.00 - ETA: 8s - loss: 3.3169e-04 - accuracy: 1.00 - ETA: 8s - loss: 3.2518e-04 - accuracy: 1.00 - ETA: 8s - loss: 4.1829e-04 - accuracy: 1.00 - ETA: 8s - loss: 0.0099 - accuracy: 0.9976   - ETA: 8s - loss: 0.0097 - accuracy: 0.99 - ETA: 8s - loss: 0.0095 - accuracy: 0.99 - ETA: 8s - loss: 0.0094 - accuracy: 0.99 - ETA: 8s - loss: 0.0092 - accuracy: 0.99 - ETA: 8s - loss: 0.0090 - accuracy: 0.99 - ETA: 8s - loss: 0.0089 - accuracy: 0.99 - ETA: 8s - loss: 0.0087 - accuracy: 0.99 - ETA: 8s - loss: 0.0086 - accuracy: 0.99 - ETA: 7s - loss: 0.0086 - accuracy: 0.99 - ETA: 7s - loss: 0.0086 - accuracy: 0.99 - ETA: 7s - loss: 0.0085 - accuracy: 0.99 - ETA: 7s - loss: 0.0085 - accuracy: 0.99 - ETA: 7s - loss: 0.0083 - accuracy: 0.99 - ETA: 7s - loss: 0.0082 - accuracy: 0.99 - ETA: 7s - loss: 0.0082 - accuracy: 0.99 - ETA: 7s - loss: 0.0082 - accuracy: 0.99 - ETA: 7s - loss: 0.0081 - accuracy: 0.99 - ETA: 7s - loss: 0.0334 - accuracy: 0.99 - ETA: 7s - loss: 0.0329 - accuracy: 0.99 - ETA: 7s - loss: 0.0325 - accuracy: 0.99 - ETA: 7s - loss: 0.0320 - accuracy: 0.99 - ETA: 6s - loss: 0.0316 - accuracy: 0.99 - ETA: 6s - loss: 0.0312 - accuracy: 0.99 - ETA: 6s - loss: 0.0309 - accuracy: 0.99 - ETA: 6s - loss: 0.0306 - accuracy: 0.99 - ETA: 6s - loss: 0.0302 - accuracy: 0.99 - ETA: 6s - loss: 0.0298 - accuracy: 0.99 - ETA: 6s - loss: 0.0295 - accuracy: 0.99 - ETA: 6s - loss: 0.0363 - accuracy: 0.99 - ETA: 6s - loss: 0.0465 - accuracy: 0.99 - ETA: 6s - loss: 0.0460 - accuracy: 0.99 - ETA: 6s - loss: 0.0454 - accuracy: 0.99 - ETA: 6s - loss: 0.0449 - accuracy: 0.99 - ETA: 6s - loss: 0.0444 - accuracy: 0.99 - ETA: 5s - loss: 0.0440 - accuracy: 0.99 - ETA: 5s - loss: 0.0435 - accuracy: 0.99 - ETA: 5s - loss: 0.0431 - accuracy: 0.99 - ETA: 5s - loss: 0.0427 - accuracy: 0.99 - ETA: 5s - loss: 0.0422 - accuracy: 0.99 - ETA: 5s - loss: 0.0418 - accuracy: 0.99 - ETA: 5s - loss: 0.0413 - accuracy: 0.99 - ETA: 5s - loss: 0.0460 - accuracy: 0.99 - ETA: 5s - loss: 0.0456 - accuracy: 0.99 - ETA: 5s - loss: 0.0451 - accuracy: 0.99 - ETA: 5s - loss: 0.0446 - accuracy: 0.99 - ETA: 5s - loss: 0.0442 - accuracy: 0.99 - ETA: 5s - loss: 0.0437 - accuracy: 0.99 - ETA: 4s - loss: 0.0433 - accuracy: 0.99 - ETA: 4s - loss: 0.0429 - accuracy: 0.99 - ETA: 4s - loss: 0.0424 - accuracy: 0.99 - ETA: 4s - loss: 0.0420 - accuracy: 0.99 - ETA: 4s - loss: 0.0419 - accuracy: 0.99 - ETA: 4s - loss: 0.0415 - accuracy: 0.99 - ETA: 4s - loss: 0.0411 - accuracy: 0.99 - ETA: 4s - loss: 0.0407 - accuracy: 0.99 - ETA: 4s - loss: 0.0404 - accuracy: 0.99 - ETA: 4s - loss: 0.0401 - accuracy: 0.99 - ETA: 4s - loss: 0.0397 - accuracy: 0.99 - ETA: 4s - loss: 0.0394 - accuracy: 0.99 - ETA: 4s - loss: 0.0390 - accuracy: 0.99 - ETA: 3s - loss: 0.0387 - accuracy: 0.99 - ETA: 3s - loss: 0.0383 - accuracy: 0.99 - ETA: 3s - loss: 0.0380 - accuracy: 0.99 - ETA: 3s - loss: 0.0377 - accuracy: 0.99 - ETA: 3s - loss: 0.0374 - accuracy: 0.99 - ETA: 3s - loss: 0.0370 - accuracy: 0.99 - ETA: 3s - loss: 0.0367 - accuracy: 0.99 - ETA: 3s - loss: 0.0364 - accuracy: 0.99 - ETA: 3s - loss: 0.0361 - accuracy: 0.99 - ETA: 3s - loss: 0.0358 - accuracy: 0.99 - ETA: 3s - loss: 0.0355 - accuracy: 0.99 - ETA: 3s - loss: 0.0353 - accuracy: 0.99 - ETA: 3s - loss: 0.0350 - accuracy: 0.99 - ETA: 2s - loss: 0.0347 - accuracy: 0.99 - ETA: 2s - loss: 0.0344 - accuracy: 0.99 - ETA: 2s - loss: 0.0342 - accuracy: 0.99 - ETA: 2s - loss: 0.0339 - accuracy: 0.99 - ETA: 2s - loss: 0.0337 - accuracy: 0.99 - ETA: 2s - loss: 0.0334 - accuracy: 0.99 - ETA: 2s - loss: 0.0332 - accuracy: 0.99 - ETA: 2s - loss: 0.0329 - accuracy: 0.99 - ETA: 2s - loss: 0.0327 - accuracy: 0.99 - ETA: 2s - loss: 0.0326 - accuracy: 0.99 - ETA: 2s - loss: 0.0323 - accuracy: 0.99 - ETA: 2s - loss: 0.0321 - accuracy: 0.99 - ETA: 2s - loss: 0.0319 - accuracy: 0.99 - ETA: 2s - loss: 0.0316 - accuracy: 0.99 - ETA: 1s - loss: 0.0314 - accuracy: 0.99 - ETA: 1s - loss: 0.0312 - accuracy: 0.99 - ETA: 1s - loss: 0.0310 - accuracy: 0.99 - ETA: 1s - loss: 0.0308 - accuracy: 0.99 - ETA: 1s - loss: 0.0306 - accuracy: 0.99 - ETA: 1s - loss: 0.0303 - accuracy: 0.99 - ETA: 1s - loss: 0.0301 - accuracy: 0.99 - ETA: 1s - loss: 0.0299 - accuracy: 0.99 - ETA: 1s - loss: 0.0297 - accuracy: 0.99 - ETA: 1s - loss: 0.0295 - accuracy: 0.99 - ETA: 1s - loss: 0.0295 - accuracy: 0.99 - ETA: 1s - loss: 0.0293 - accuracy: 0.99 - ETA: 1s - loss: 0.0291 - accuracy: 0.99 - ETA: 0s - loss: 0.0292 - accuracy: 0.99 - ETA: 0s - loss: 0.0290 - accuracy: 0.99 - ETA: 0s - loss: 0.0288 - accuracy: 0.99 - ETA: 0s - loss: 0.0286 - accuracy: 0.99 - ETA: 0s - loss: 0.0284 - accuracy: 0.99 - ETA: 0s - loss: 0.0282 - accuracy: 0.99 - ETA: 0s - loss: 0.0281 - accuracy: 0.99 - ETA: 0s - loss: 0.0279 - accuracy: 0.99 - ETA: 0s - loss: 0.0277 - accuracy: 0.99 - ETA: 0s - loss: 0.0279 - accuracy: 0.99 - ETA: 0s - loss: 0.0277 - accuracy: 0.99 - ETA: 0s - loss: 0.0275 - accuracy: 0.99 - ETA: 0s - loss: 0.0273 - accuracy: 0.99 - 13s 10ms/step - loss: 0.0273 - accuracy: 0.9962 - val_loss: 7.6061e-05 - val_accuracy: 1.0000\n",
      "Epoch 18/50\n"
     ]
    },
    {
     "name": "stdout",
     "output_type": "stream",
     "text": [
      "1325/1325 [==============================] - ETA: 11s - loss: 1.9513e-04 - accuracy: 1.000 - ETA: 11s - loss: 0.0300 - accuracy: 1.0000    - ETA: 12s - loss: 0.0180 - accuracy: 1.000 - ETA: 12s - loss: 0.0129 - accuracy: 1.000 - ETA: 12s - loss: 0.0101 - accuracy: 1.000 - ETA: 12s - loss: 0.0082 - accuracy: 1.000 - ETA: 11s - loss: 0.0070 - accuracy: 1.000 - ETA: 11s - loss: 0.0060 - accuracy: 1.000 - ETA: 11s - loss: 0.0053 - accuracy: 1.000 - ETA: 11s - loss: 0.0048 - accuracy: 1.000 - ETA: 11s - loss: 0.0044 - accuracy: 1.000 - ETA: 11s - loss: 0.0040 - accuracy: 1.000 - ETA: 11s - loss: 0.0037 - accuracy: 1.000 - ETA: 11s - loss: 0.0034 - accuracy: 1.000 - ETA: 11s - loss: 0.0032 - accuracy: 1.000 - ETA: 11s - loss: 0.0031 - accuracy: 1.000 - ETA: 11s - loss: 0.0029 - accuracy: 1.000 - ETA: 11s - loss: 0.0027 - accuracy: 1.000 - ETA: 11s - loss: 0.0025 - accuracy: 1.000 - ETA: 11s - loss: 0.0024 - accuracy: 1.000 - ETA: 11s - loss: 0.0023 - accuracy: 1.000 - ETA: 11s - loss: 0.0022 - accuracy: 1.000 - ETA: 11s - loss: 0.0021 - accuracy: 1.000 - ETA: 11s - loss: 0.0020 - accuracy: 1.000 - ETA: 10s - loss: 0.0411 - accuracy: 0.994 - ETA: 10s - loss: 0.0395 - accuracy: 0.995 - ETA: 10s - loss: 0.0380 - accuracy: 0.995 - ETA: 10s - loss: 0.0365 - accuracy: 0.995 - ETA: 10s - loss: 0.0352 - accuracy: 0.995 - ETA: 10s - loss: 0.0340 - accuracy: 0.995 - ETA: 10s - loss: 0.0553 - accuracy: 0.991 - ETA: 10s - loss: 0.0761 - accuracy: 0.987 - ETA: 10s - loss: 0.1045 - accuracy: 0.984 - ETA: 10s - loss: 0.1014 - accuracy: 0.984 - ETA: 10s - loss: 0.0984 - accuracy: 0.985 - ETA: 10s - loss: 0.1031 - accuracy: 0.978 - ETA: 9s - loss: 0.1004 - accuracy: 0.979 - ETA: 9s - loss: 0.1164 - accuracy: 0.97 - ETA: 9s - loss: 0.1134 - accuracy: 0.97 - ETA: 9s - loss: 0.1105 - accuracy: 0.97 - ETA: 9s - loss: 0.1095 - accuracy: 0.97 - ETA: 9s - loss: 0.1069 - accuracy: 0.97 - ETA: 9s - loss: 0.1044 - accuracy: 0.97 - ETA: 9s - loss: 0.1020 - accuracy: 0.97 - ETA: 9s - loss: 0.1005 - accuracy: 0.98 - ETA: 9s - loss: 0.1078 - accuracy: 0.97 - ETA: 9s - loss: 0.1055 - accuracy: 0.97 - ETA: 9s - loss: 0.1033 - accuracy: 0.97 - ETA: 9s - loss: 0.1011 - accuracy: 0.97 - ETA: 8s - loss: 0.1024 - accuracy: 0.97 - ETA: 8s - loss: 0.1006 - accuracy: 0.97 - ETA: 8s - loss: 0.1002 - accuracy: 0.97 - ETA: 8s - loss: 0.0982 - accuracy: 0.97 - ETA: 8s - loss: 0.0964 - accuracy: 0.97 - ETA: 8s - loss: 0.0946 - accuracy: 0.97 - ETA: 8s - loss: 0.0929 - accuracy: 0.97 - ETA: 8s - loss: 0.0915 - accuracy: 0.97 - ETA: 8s - loss: 0.0899 - accuracy: 0.98 - ETA: 8s - loss: 0.0893 - accuracy: 0.98 - ETA: 8s - loss: 0.0877 - accuracy: 0.98 - ETA: 8s - loss: 0.0863 - accuracy: 0.98 - ETA: 7s - loss: 0.0849 - accuracy: 0.98 - ETA: 7s - loss: 0.0835 - accuracy: 0.98 - ETA: 7s - loss: 0.0822 - accuracy: 0.98 - ETA: 7s - loss: 0.0811 - accuracy: 0.98 - ETA: 7s - loss: 0.0798 - accuracy: 0.98 - ETA: 7s - loss: 0.0786 - accuracy: 0.98 - ETA: 7s - loss: 0.0775 - accuracy: 0.98 - ETA: 7s - loss: 0.0763 - accuracy: 0.98 - ETA: 7s - loss: 0.0760 - accuracy: 0.98 - ETA: 7s - loss: 0.0750 - accuracy: 0.98 - ETA: 7s - loss: 0.0739 - accuracy: 0.98 - ETA: 7s - loss: 0.0729 - accuracy: 0.98 - ETA: 7s - loss: 0.0719 - accuracy: 0.98 - ETA: 7s - loss: 0.0720 - accuracy: 0.98 - ETA: 6s - loss: 0.0710 - accuracy: 0.98 - ETA: 6s - loss: 0.0701 - accuracy: 0.98 - ETA: 6s - loss: 0.0692 - accuracy: 0.98 - ETA: 6s - loss: 0.0683 - accuracy: 0.98 - ETA: 6s - loss: 0.0674 - accuracy: 0.98 - ETA: 6s - loss: 0.0666 - accuracy: 0.98 - ETA: 6s - loss: 0.0658 - accuracy: 0.98 - ETA: 6s - loss: 0.0650 - accuracy: 0.98 - ETA: 6s - loss: 0.0642 - accuracy: 0.98 - ETA: 6s - loss: 0.0636 - accuracy: 0.98 - ETA: 6s - loss: 0.0629 - accuracy: 0.98 - ETA: 6s - loss: 0.0622 - accuracy: 0.98 - ETA: 6s - loss: 0.0614 - accuracy: 0.98 - ETA: 5s - loss: 0.0607 - accuracy: 0.98 - ETA: 5s - loss: 0.0601 - accuracy: 0.98 - ETA: 5s - loss: 0.0594 - accuracy: 0.98 - ETA: 5s - loss: 0.0588 - accuracy: 0.98 - ETA: 5s - loss: 0.0582 - accuracy: 0.98 - ETA: 5s - loss: 0.0575 - accuracy: 0.98 - ETA: 5s - loss: 0.0569 - accuracy: 0.98 - ETA: 5s - loss: 0.0563 - accuracy: 0.98 - ETA: 5s - loss: 0.0557 - accuracy: 0.98 - ETA: 5s - loss: 0.0552 - accuracy: 0.98 - ETA: 5s - loss: 0.0546 - accuracy: 0.98 - ETA: 5s - loss: 0.0541 - accuracy: 0.98 - ETA: 5s - loss: 0.0535 - accuracy: 0.98 - ETA: 4s - loss: 0.0530 - accuracy: 0.98 - ETA: 4s - loss: 0.0525 - accuracy: 0.98 - ETA: 4s - loss: 0.0520 - accuracy: 0.98 - ETA: 4s - loss: 0.0515 - accuracy: 0.98 - ETA: 4s - loss: 0.0510 - accuracy: 0.98 - ETA: 4s - loss: 0.0505 - accuracy: 0.98 - ETA: 4s - loss: 0.0500 - accuracy: 0.98 - ETA: 4s - loss: 0.0496 - accuracy: 0.98 - ETA: 4s - loss: 0.0491 - accuracy: 0.98 - ETA: 4s - loss: 0.0486 - accuracy: 0.98 - ETA: 4s - loss: 0.0482 - accuracy: 0.98 - ETA: 4s - loss: 0.0478 - accuracy: 0.99 - ETA: 4s - loss: 0.0474 - accuracy: 0.99 - ETA: 3s - loss: 0.0469 - accuracy: 0.99 - ETA: 3s - loss: 0.0465 - accuracy: 0.99 - ETA: 3s - loss: 0.0461 - accuracy: 0.99 - ETA: 3s - loss: 0.0457 - accuracy: 0.99 - ETA: 3s - loss: 0.0454 - accuracy: 0.99 - ETA: 3s - loss: 0.0450 - accuracy: 0.99 - ETA: 3s - loss: 0.0446 - accuracy: 0.99 - ETA: 3s - loss: 0.0442 - accuracy: 0.99 - ETA: 3s - loss: 0.0439 - accuracy: 0.99 - ETA: 3s - loss: 0.0435 - accuracy: 0.99 - ETA: 3s - loss: 0.0432 - accuracy: 0.99 - ETA: 3s - loss: 0.0428 - accuracy: 0.99 - ETA: 3s - loss: 0.0425 - accuracy: 0.99 - ETA: 2s - loss: 0.0422 - accuracy: 0.99 - ETA: 2s - loss: 0.0418 - accuracy: 0.99 - ETA: 2s - loss: 0.0415 - accuracy: 0.99 - ETA: 2s - loss: 0.0412 - accuracy: 0.99 - ETA: 2s - loss: 0.0409 - accuracy: 0.99 - ETA: 2s - loss: 0.0406 - accuracy: 0.99 - ETA: 2s - loss: 0.0403 - accuracy: 0.99 - ETA: 2s - loss: 0.0400 - accuracy: 0.99 - ETA: 2s - loss: 0.0397 - accuracy: 0.99 - ETA: 2s - loss: 0.0394 - accuracy: 0.99 - ETA: 2s - loss: 0.0391 - accuracy: 0.99 - ETA: 2s - loss: 0.0389 - accuracy: 0.99 - ETA: 2s - loss: 0.0386 - accuracy: 0.99 - ETA: 1s - loss: 0.0383 - accuracy: 0.99 - ETA: 1s - loss: 0.0380 - accuracy: 0.99 - ETA: 1s - loss: 0.0378 - accuracy: 0.99 - ETA: 1s - loss: 0.0376 - accuracy: 0.99 - ETA: 1s - loss: 0.0373 - accuracy: 0.99 - ETA: 1s - loss: 0.0370 - accuracy: 0.99 - ETA: 1s - loss: 0.0368 - accuracy: 0.99 - ETA: 1s - loss: 0.0365 - accuracy: 0.99 - ETA: 1s - loss: 0.0363 - accuracy: 0.99 - ETA: 1s - loss: 0.0361 - accuracy: 0.99 - ETA: 1s - loss: 0.0358 - accuracy: 0.99 - ETA: 1s - loss: 0.0356 - accuracy: 0.99 - ETA: 1s - loss: 0.0353 - accuracy: 0.99 - ETA: 0s - loss: 0.0351 - accuracy: 0.99 - ETA: 0s - loss: 0.0349 - accuracy: 0.99 - ETA: 0s - loss: 0.0347 - accuracy: 0.99 - ETA: 0s - loss: 0.0344 - accuracy: 0.99 - ETA: 0s - loss: 0.0342 - accuracy: 0.99 - ETA: 0s - loss: 0.0342 - accuracy: 0.99 - ETA: 0s - loss: 0.0340 - accuracy: 0.99 - ETA: 0s - loss: 0.0338 - accuracy: 0.99 - ETA: 0s - loss: 0.0336 - accuracy: 0.99 - ETA: 0s - loss: 0.0334 - accuracy: 0.99 - ETA: 0s - loss: 0.0332 - accuracy: 0.99 - ETA: 0s - loss: 0.0330 - accuracy: 0.99 - ETA: 0s - loss: 0.0328 - accuracy: 0.99 - 13s 10ms/step - loss: 0.0326 - accuracy: 0.9932 - val_loss: 1.6172e-06 - val_accuracy: 1.0000\n",
      "Epoch 19/50\n"
     ]
    },
    {
     "name": "stdout",
     "output_type": "stream",
     "text": [
      "1268/1325 [===========================>..] - ETA: 12s - loss: 1.1182e-04 - accuracy: 1.000 - ETA: 12s - loss: 3.7274e-05 - accuracy: 1.000 - ETA: 12s - loss: 2.2371e-05 - accuracy: 1.000 - ETA: 12s - loss: 7.6852e-05 - accuracy: 1.000 - ETA: 12s - loss: 3.4415e-04 - accuracy: 1.000 - ETA: 12s - loss: 2.8158e-04 - accuracy: 1.000 - ETA: 12s - loss: 2.4387e-04 - accuracy: 1.000 - ETA: 12s - loss: 2.1136e-04 - accuracy: 1.000 - ETA: 12s - loss: 1.8649e-04 - accuracy: 1.000 - ETA: 12s - loss: 1.6687e-04 - accuracy: 1.000 - ETA: 12s - loss: 1.6069e-04 - accuracy: 1.000 - ETA: 12s - loss: 1.4680e-04 - accuracy: 1.000 - ETA: 12s - loss: 1.3579e-04 - accuracy: 1.000 - ETA: 11s - loss: 1.2574e-04 - accuracy: 1.000 - ETA: 11s - loss: 1.1770e-04 - accuracy: 1.000 - ETA: 11s - loss: 1.1378e-04 - accuracy: 1.000 - ETA: 12s - loss: 1.1011e-04 - accuracy: 1.000 - ETA: 11s - loss: 1.0343e-04 - accuracy: 1.000 - ETA: 11s - loss: 9.7734e-05 - accuracy: 1.000 - ETA: 12s - loss: 9.5019e-05 - accuracy: 1.000 - ETA: 12s - loss: 9.2475e-05 - accuracy: 1.000 - ETA: 12s - loss: 1.1644e-04 - accuracy: 1.000 - ETA: 12s - loss: 1.1345e-04 - accuracy: 1.000 - ETA: 12s - loss: 1.0944e-04 - accuracy: 1.000 - ETA: 12s - loss: 1.0683e-04 - accuracy: 1.000 - ETA: 12s - loss: 1.0435e-04 - accuracy: 1.000 - ETA: 12s - loss: 9.9842e-05 - accuracy: 1.000 - ETA: 12s - loss: 2.7782e-04 - accuracy: 1.000 - ETA: 11s - loss: 2.6648e-04 - accuracy: 1.000 - ETA: 11s - loss: 2.5604e-04 - accuracy: 1.000 - ETA: 11s - loss: 4.1033e-04 - accuracy: 1.000 - ETA: 11s - loss: 3.9542e-04 - accuracy: 1.000 - ETA: 11s - loss: 3.8155e-04 - accuracy: 1.000 - ETA: 11s - loss: 3.6861e-04 - accuracy: 1.000 - ETA: 11s - loss: 3.5654e-04 - accuracy: 1.000 - ETA: 11s - loss: 3.5764e-04 - accuracy: 1.000 - ETA: 11s - loss: 3.4646e-04 - accuracy: 1.000 - ETA: 11s - loss: 3.3596e-04 - accuracy: 1.000 - ETA: 11s - loss: 3.3095e-04 - accuracy: 1.000 - ETA: 11s - loss: 3.2189e-04 - accuracy: 1.000 - ETA: 10s - loss: 3.1282e-04 - accuracy: 1.000 - ETA: 10s - loss: 3.0459e-04 - accuracy: 1.000 - ETA: 10s - loss: 2.9647e-04 - accuracy: 1.000 - ETA: 10s - loss: 2.8880e-04 - accuracy: 1.000 - ETA: 10s - loss: 2.8449e-04 - accuracy: 1.000 - ETA: 10s - loss: 0.0011 - accuracy: 1.0000    - ETA: 10s - loss: 0.0011 - accuracy: 1.000 - ETA: 10s - loss: 0.0011 - accuracy: 1.000 - ETA: 10s - loss: 0.0011 - accuracy: 1.000 - ETA: 10s - loss: 0.0010 - accuracy: 1.000 - ETA: 9s - loss: 0.0010 - accuracy: 1.000 - ETA: 9s - loss: 9.9738e-04 - accuracy: 1.00 - ETA: 9s - loss: 9.7641e-04 - accuracy: 1.00 - ETA: 9s - loss: 9.5628e-04 - accuracy: 1.00 - ETA: 9s - loss: 9.3709e-04 - accuracy: 1.00 - ETA: 9s - loss: 9.1854e-04 - accuracy: 1.00 - ETA: 9s - loss: 9.0070e-04 - accuracy: 1.00 - ETA: 9s - loss: 8.8614e-04 - accuracy: 1.00 - ETA: 9s - loss: 8.6958e-04 - accuracy: 1.00 - ETA: 9s - loss: 8.5511e-04 - accuracy: 1.00 - ETA: 8s - loss: 8.4112e-04 - accuracy: 1.00 - ETA: 8s - loss: 8.2623e-04 - accuracy: 1.00 - ETA: 8s - loss: 8.1187e-04 - accuracy: 1.00 - ETA: 8s - loss: 7.9799e-04 - accuracy: 1.00 - ETA: 8s - loss: 7.8633e-04 - accuracy: 1.00 - ETA: 8s - loss: 0.0096 - accuracy: 0.9979   - ETA: 8s - loss: 0.0095 - accuracy: 0.99 - ETA: 8s - loss: 0.0093 - accuracy: 0.99 - ETA: 8s - loss: 0.0092 - accuracy: 0.99 - ETA: 8s - loss: 0.0091 - accuracy: 0.99 - ETA: 8s - loss: 0.0090 - accuracy: 0.99 - ETA: 8s - loss: 0.0090 - accuracy: 0.99 - ETA: 8s - loss: 0.0089 - accuracy: 0.99 - ETA: 8s - loss: 0.0088 - accuracy: 0.99 - ETA: 8s - loss: 0.0088 - accuracy: 0.99 - ETA: 8s - loss: 0.0087 - accuracy: 0.99 - ETA: 8s - loss: 0.0086 - accuracy: 0.99 - ETA: 8s - loss: 0.0086 - accuracy: 0.99 - ETA: 8s - loss: 0.0085 - accuracy: 0.99 - ETA: 8s - loss: 0.0089 - accuracy: 0.99 - ETA: 8s - loss: 0.0088 - accuracy: 0.99 - ETA: 8s - loss: 0.0087 - accuracy: 0.99 - ETA: 7s - loss: 0.0086 - accuracy: 0.99 - ETA: 7s - loss: 0.0085 - accuracy: 0.99 - ETA: 7s - loss: 0.0084 - accuracy: 0.99 - ETA: 7s - loss: 0.0083 - accuracy: 0.99 - ETA: 7s - loss: 0.0082 - accuracy: 0.99 - ETA: 7s - loss: 0.0082 - accuracy: 0.99 - ETA: 7s - loss: 0.0081 - accuracy: 0.99 - ETA: 7s - loss: 0.0081 - accuracy: 0.99 - ETA: 7s - loss: 0.0080 - accuracy: 0.99 - ETA: 7s - loss: 0.0080 - accuracy: 0.99 - ETA: 7s - loss: 0.0079 - accuracy: 0.99 - ETA: 7s - loss: 0.0079 - accuracy: 0.99 - ETA: 7s - loss: 0.0079 - accuracy: 0.99 - ETA: 7s - loss: 0.0078 - accuracy: 0.99 - ETA: 7s - loss: 0.0077 - accuracy: 0.99 - ETA: 7s - loss: 0.0077 - accuracy: 0.99 - ETA: 7s - loss: 0.0076 - accuracy: 0.99 - ETA: 7s - loss: 0.0075 - accuracy: 0.99 - ETA: 7s - loss: 0.0074 - accuracy: 0.99 - ETA: 7s - loss: 0.0074 - accuracy: 0.99 - ETA: 6s - loss: 0.0073 - accuracy: 0.99 - ETA: 6s - loss: 0.0072 - accuracy: 0.99 - ETA: 6s - loss: 0.0071 - accuracy: 0.99 - ETA: 6s - loss: 0.0070 - accuracy: 0.99 - ETA: 6s - loss: 0.0070 - accuracy: 0.99 - ETA: 6s - loss: 0.0069 - accuracy: 0.99 - ETA: 6s - loss: 0.0068 - accuracy: 0.99 - ETA: 6s - loss: 0.0068 - accuracy: 0.99 - ETA: 6s - loss: 0.0133 - accuracy: 0.99 - ETA: 6s - loss: 0.0131 - accuracy: 0.99 - ETA: 6s - loss: 0.0130 - accuracy: 0.99 - ETA: 6s - loss: 0.0129 - accuracy: 0.99 - ETA: 5s - loss: 0.0128 - accuracy: 0.99 - ETA: 5s - loss: 0.0126 - accuracy: 0.99 - ETA: 5s - loss: 0.0125 - accuracy: 0.99 - ETA: 5s - loss: 0.0124 - accuracy: 0.99 - ETA: 5s - loss: 0.0122 - accuracy: 0.99 - ETA: 5s - loss: 0.0121 - accuracy: 0.99 - ETA: 5s - loss: 0.0120 - accuracy: 0.99 - ETA: 5s - loss: 0.0119 - accuracy: 0.99 - ETA: 5s - loss: 0.0120 - accuracy: 0.99 - ETA: 5s - loss: 0.0120 - accuracy: 0.99 - ETA: 5s - loss: 0.0118 - accuracy: 0.99 - ETA: 4s - loss: 0.0117 - accuracy: 0.99 - ETA: 4s - loss: 0.0116 - accuracy: 0.99 - ETA: 4s - loss: 0.0115 - accuracy: 0.99 - ETA: 4s - loss: 0.0115 - accuracy: 0.99 - ETA: 4s - loss: 0.0114 - accuracy: 0.99 - ETA: 4s - loss: 0.0114 - accuracy: 0.99 - ETA: 4s - loss: 0.0113 - accuracy: 0.99 - ETA: 4s - loss: 0.0112 - accuracy: 0.99 - ETA: 4s - loss: 0.0111 - accuracy: 0.99 - ETA: 4s - loss: 0.0111 - accuracy: 0.99 - ETA: 4s - loss: 0.0110 - accuracy: 0.99 - ETA: 4s - loss: 0.0109 - accuracy: 0.99 - ETA: 4s - loss: 0.0110 - accuracy: 0.99 - ETA: 4s - loss: 0.0109 - accuracy: 0.99 - ETA: 4s - loss: 0.0109 - accuracy: 0.99 - ETA: 4s - loss: 0.0108 - accuracy: 0.99 - ETA: 4s - loss: 0.0110 - accuracy: 0.99 - ETA: 4s - loss: 0.0110 - accuracy: 0.99 - ETA: 4s - loss: 0.0109 - accuracy: 0.99 - ETA: 3s - loss: 0.0108 - accuracy: 0.99 - ETA: 3s - loss: 0.0108 - accuracy: 0.99 - ETA: 3s - loss: 0.0108 - accuracy: 0.99 - ETA: 3s - loss: 0.0107 - accuracy: 0.99 - ETA: 3s - loss: 0.0106 - accuracy: 0.99 - ETA: 3s - loss: 0.0105 - accuracy: 0.99 - ETA: 3s - loss: 0.0105 - accuracy: 0.99 - ETA: 3s - loss: 0.0104 - accuracy: 0.99 - ETA: 3s - loss: 0.0104 - accuracy: 0.99 - ETA: 3s - loss: 0.0103 - accuracy: 0.99 - ETA: 3s - loss: 0.0102 - accuracy: 0.99 - ETA: 3s - loss: 0.0102 - accuracy: 0.99 - ETA: 3s - loss: 0.0101 - accuracy: 0.99 - ETA: 2s - loss: 0.0100 - accuracy: 0.99 - ETA: 2s - loss: 0.0099 - accuracy: 0.99 - ETA: 2s - loss: 0.0099 - accuracy: 0.99 - ETA: 2s - loss: 0.0098 - accuracy: 0.99 - ETA: 2s - loss: 0.0097 - accuracy: 0.99 - ETA: 2s - loss: 0.0096 - accuracy: 0.99 - ETA: 2s - loss: 0.0100 - accuracy: 0.99 - ETA: 2s - loss: 0.0100 - accuracy: 0.99 - ETA: 2s - loss: 0.0099 - accuracy: 0.99 - ETA: 2s - loss: 0.0098 - accuracy: 0.99 - ETA: 2s - loss: 0.0098 - accuracy: 0.99 - ETA: 2s - loss: 0.0097 - accuracy: 0.99 - ETA: 1s - loss: 0.0097 - accuracy: 0.99 - ETA: 1s - loss: 0.0096 - accuracy: 0.99 - ETA: 1s - loss: 0.0096 - accuracy: 0.99 - ETA: 1s - loss: 0.0095 - accuracy: 0.99 - ETA: 1s - loss: 0.0095 - accuracy: 0.99 - ETA: 1s - loss: 0.0094 - accuracy: 0.99 - ETA: 1s - loss: 0.0094 - accuracy: 0.99 - ETA: 1s - loss: 0.0093 - accuracy: 0.99 - ETA: 1s - loss: 0.0092 - accuracy: 0.99 - ETA: 1s - loss: 0.0092 - accuracy: 0.99 - ETA: 1s - loss: 0.0091 - accuracy: 0.99 - ETA: 1s - loss: 0.0091 - accuracy: 0.99 - ETA: 0s - loss: 0.0090 - accuracy: 0.99 - ETA: 0s - loss: 0.0090 - accuracy: 0.99 - ETA: 0s - loss: 0.0089 - accuracy: 0.99 - ETA: 0s - loss: 0.0088 - accuracy: 0.99 - ETA: 0s - loss: 0.0088 - accuracy: 0.9984"
     ]
    },
    {
     "name": "stdout",
     "output_type": "stream",
     "text": [
      "1325/1325 [==============================] - ETA: 0s - loss: 0.0088 - accuracy: 0.99 - ETA: 0s - loss: 0.0087 - accuracy: 0.99 - ETA: 0s - loss: 0.0087 - accuracy: 0.99 - ETA: 0s - loss: 0.0086 - accuracy: 0.99 - ETA: 0s - loss: 0.0086 - accuracy: 0.99 - ETA: 0s - loss: 0.0085 - accuracy: 0.99 - ETA: 0s - loss: 0.0085 - accuracy: 0.99 - 15s 11ms/step - loss: 0.0085 - accuracy: 0.9985 - val_loss: 5.0660e-07 - val_accuracy: 1.0000\n",
      "Epoch 20/50\n",
      "1325/1325 [==============================] - ETA: 11s - loss: 0.0000e+00 - accuracy: 1.000 - ETA: 11s - loss: 0.0000e+00 - accuracy: 1.000 - ETA: 11s - loss: 0.0000e+00 - accuracy: 1.000 - ETA: 11s - loss: 0.0000e+00 - accuracy: 1.000 - ETA: 11s - loss: 3.3114e-09 - accuracy: 1.000 - ETA: 11s - loss: 2.7093e-09 - accuracy: 1.000 - ETA: 11s - loss: 2.2925e-09 - accuracy: 1.000 - ETA: 11s - loss: 1.9868e-09 - accuracy: 1.000 - ETA: 11s - loss: 1.1081e-04 - accuracy: 1.000 - ETA: 11s - loss: 9.9148e-05 - accuracy: 1.000 - ETA: 11s - loss: 8.9705e-05 - accuracy: 1.000 - ETA: 11s - loss: 8.1911e-05 - accuracy: 1.000 - ETA: 11s - loss: 7.5360e-05 - accuracy: 1.000 - ETA: 11s - loss: 6.9777e-05 - accuracy: 1.000 - ETA: 11s - loss: 6.4965e-05 - accuracy: 1.000 - ETA: 11s - loss: 6.0775e-05 - accuracy: 1.000 - ETA: 11s - loss: 5.7092e-05 - accuracy: 1.000 - ETA: 11s - loss: 5.3829e-05 - accuracy: 1.000 - ETA: 11s - loss: 5.0920e-05 - accuracy: 1.000 - ETA: 11s - loss: 4.8314e-05 - accuracy: 1.000 - ETA: 11s - loss: 0.0374 - accuracy: 0.9939    - ETA: 10s - loss: 0.0356 - accuracy: 0.994 - ETA: 10s - loss: 0.0340 - accuracy: 0.994 - ETA: 10s - loss: 0.0326 - accuracy: 0.994 - ETA: 10s - loss: 0.0313 - accuracy: 0.994 - ETA: 10s - loss: 0.0357 - accuracy: 0.990 - ETA: 10s - loss: 0.0344 - accuracy: 0.990 - ETA: 10s - loss: 0.0331 - accuracy: 0.990 - ETA: 10s - loss: 0.0320 - accuracy: 0.991 - ETA: 10s - loss: 0.0312 - accuracy: 0.991 - ETA: 10s - loss: 0.0318 - accuracy: 0.991 - ETA: 10s - loss: 0.0308 - accuracy: 0.992 - ETA: 10s - loss: 0.0299 - accuracy: 0.992 - ETA: 10s - loss: 0.0290 - accuracy: 0.992 - ETA: 10s - loss: 0.0282 - accuracy: 0.992 - ETA: 10s - loss: 0.0275 - accuracy: 0.993 - ETA: 9s - loss: 0.0267 - accuracy: 0.993 - ETA: 9s - loss: 0.0260 - accuracy: 0.99 - ETA: 9s - loss: 0.0319 - accuracy: 0.99 - ETA: 9s - loss: 0.0311 - accuracy: 0.99 - ETA: 9s - loss: 0.0407 - accuracy: 0.98 - ETA: 9s - loss: 0.0398 - accuracy: 0.98 - ETA: 9s - loss: 0.0388 - accuracy: 0.98 - ETA: 9s - loss: 0.0379 - accuracy: 0.98 - ETA: 9s - loss: 0.0371 - accuracy: 0.98 - ETA: 9s - loss: 0.0363 - accuracy: 0.98 - ETA: 9s - loss: 0.0355 - accuracy: 0.98 - ETA: 9s - loss: 0.0347 - accuracy: 0.98 - ETA: 9s - loss: 0.0340 - accuracy: 0.98 - ETA: 8s - loss: 0.0473 - accuracy: 0.98 - ETA: 8s - loss: 0.0465 - accuracy: 0.98 - ETA: 8s - loss: 0.0480 - accuracy: 0.98 - ETA: 8s - loss: 0.0471 - accuracy: 0.98 - ETA: 8s - loss: 0.0462 - accuracy: 0.98 - ETA: 8s - loss: 0.0454 - accuracy: 0.98 - ETA: 8s - loss: 0.0456 - accuracy: 0.98 - ETA: 8s - loss: 0.0448 - accuracy: 0.98 - ETA: 8s - loss: 0.0444 - accuracy: 0.98 - ETA: 8s - loss: 0.0436 - accuracy: 0.98 - ETA: 8s - loss: 0.0430 - accuracy: 0.98 - ETA: 8s - loss: 0.0436 - accuracy: 0.98 - ETA: 8s - loss: 0.0439 - accuracy: 0.98 - ETA: 8s - loss: 0.0432 - accuracy: 0.98 - ETA: 7s - loss: 0.0425 - accuracy: 0.98 - ETA: 7s - loss: 0.0418 - accuracy: 0.98 - ETA: 7s - loss: 0.0412 - accuracy: 0.98 - ETA: 7s - loss: 0.0407 - accuracy: 0.98 - ETA: 7s - loss: 0.0401 - accuracy: 0.98 - ETA: 7s - loss: 0.0395 - accuracy: 0.98 - ETA: 7s - loss: 0.0389 - accuracy: 0.98 - ETA: 7s - loss: 0.0387 - accuracy: 0.98 - ETA: 7s - loss: 0.0384 - accuracy: 0.98 - ETA: 7s - loss: 0.0379 - accuracy: 0.98 - ETA: 7s - loss: 0.0374 - accuracy: 0.98 - ETA: 7s - loss: 0.0369 - accuracy: 0.98 - ETA: 7s - loss: 0.0364 - accuracy: 0.98 - ETA: 7s - loss: 0.0359 - accuracy: 0.99 - ETA: 7s - loss: 0.0354 - accuracy: 0.99 - ETA: 6s - loss: 0.0350 - accuracy: 0.99 - ETA: 6s - loss: 0.0345 - accuracy: 0.99 - ETA: 6s - loss: 0.0341 - accuracy: 0.99 - ETA: 6s - loss: 0.0337 - accuracy: 0.99 - ETA: 6s - loss: 0.0332 - accuracy: 0.99 - ETA: 6s - loss: 0.0328 - accuracy: 0.99 - ETA: 6s - loss: 0.0324 - accuracy: 0.99 - ETA: 6s - loss: 0.0321 - accuracy: 0.99 - ETA: 6s - loss: 0.0317 - accuracy: 0.99 - ETA: 6s - loss: 0.0313 - accuracy: 0.99 - ETA: 6s - loss: 0.0359 - accuracy: 0.98 - ETA: 6s - loss: 0.0355 - accuracy: 0.99 - ETA: 5s - loss: 0.0358 - accuracy: 0.99 - ETA: 5s - loss: 0.0354 - accuracy: 0.99 - ETA: 5s - loss: 0.0350 - accuracy: 0.99 - ETA: 5s - loss: 0.0347 - accuracy: 0.99 - ETA: 5s - loss: 0.0343 - accuracy: 0.99 - ETA: 5s - loss: 0.0339 - accuracy: 0.99 - ETA: 5s - loss: 0.0336 - accuracy: 0.99 - ETA: 5s - loss: 0.0332 - accuracy: 0.99 - ETA: 5s - loss: 0.0329 - accuracy: 0.99 - ETA: 5s - loss: 0.0325 - accuracy: 0.99 - ETA: 5s - loss: 0.0322 - accuracy: 0.99 - ETA: 5s - loss: 0.0319 - accuracy: 0.99 - ETA: 5s - loss: 0.0316 - accuracy: 0.99 - ETA: 4s - loss: 0.0313 - accuracy: 0.99 - ETA: 4s - loss: 0.0355 - accuracy: 0.99 - ETA: 4s - loss: 0.0351 - accuracy: 0.99 - ETA: 4s - loss: 0.0348 - accuracy: 0.99 - ETA: 4s - loss: 0.0345 - accuracy: 0.99 - ETA: 4s - loss: 0.0342 - accuracy: 0.99 - ETA: 4s - loss: 0.0339 - accuracy: 0.99 - ETA: 4s - loss: 0.0337 - accuracy: 0.99 - ETA: 4s - loss: 0.0334 - accuracy: 0.99 - ETA: 4s - loss: 0.0331 - accuracy: 0.99 - ETA: 4s - loss: 0.0328 - accuracy: 0.99 - ETA: 4s - loss: 0.0325 - accuracy: 0.99 - ETA: 4s - loss: 0.0323 - accuracy: 0.99 - ETA: 3s - loss: 0.0320 - accuracy: 0.99 - ETA: 3s - loss: 0.0317 - accuracy: 0.99 - ETA: 3s - loss: 0.0314 - accuracy: 0.99 - ETA: 3s - loss: 0.0313 - accuracy: 0.99 - ETA: 3s - loss: 0.0311 - accuracy: 0.99 - ETA: 3s - loss: 0.0309 - accuracy: 0.99 - ETA: 3s - loss: 0.0306 - accuracy: 0.99 - ETA: 3s - loss: 0.0304 - accuracy: 0.99 - ETA: 3s - loss: 0.0301 - accuracy: 0.99 - ETA: 3s - loss: 0.0300 - accuracy: 0.99 - ETA: 3s - loss: 0.0297 - accuracy: 0.99 - ETA: 3s - loss: 0.0296 - accuracy: 0.99 - ETA: 2s - loss: 0.0293 - accuracy: 0.99 - ETA: 2s - loss: 0.0291 - accuracy: 0.99 - ETA: 2s - loss: 0.0290 - accuracy: 0.99 - ETA: 2s - loss: 0.0288 - accuracy: 0.99 - ETA: 2s - loss: 0.0287 - accuracy: 0.99 - ETA: 2s - loss: 0.0284 - accuracy: 0.99 - ETA: 2s - loss: 0.0282 - accuracy: 0.99 - ETA: 2s - loss: 0.0280 - accuracy: 0.99 - ETA: 2s - loss: 0.0278 - accuracy: 0.99 - ETA: 2s - loss: 0.0276 - accuracy: 0.99 - ETA: 2s - loss: 0.0274 - accuracy: 0.99 - ETA: 2s - loss: 0.0272 - accuracy: 0.99 - ETA: 2s - loss: 0.0270 - accuracy: 0.99 - ETA: 2s - loss: 0.0268 - accuracy: 0.99 - ETA: 1s - loss: 0.0266 - accuracy: 0.99 - ETA: 1s - loss: 0.0265 - accuracy: 0.99 - ETA: 1s - loss: 0.0310 - accuracy: 0.99 - ETA: 1s - loss: 0.0307 - accuracy: 0.99 - ETA: 1s - loss: 0.0306 - accuracy: 0.99 - ETA: 1s - loss: 0.0304 - accuracy: 0.99 - ETA: 1s - loss: 0.0302 - accuracy: 0.99 - ETA: 1s - loss: 0.0301 - accuracy: 0.99 - ETA: 1s - loss: 0.0300 - accuracy: 0.99 - ETA: 1s - loss: 0.0299 - accuracy: 0.99 - ETA: 1s - loss: 0.0298 - accuracy: 0.99 - ETA: 1s - loss: 0.0297 - accuracy: 0.99 - ETA: 1s - loss: 0.0296 - accuracy: 0.99 - ETA: 1s - loss: 0.0295 - accuracy: 0.99 - ETA: 1s - loss: 0.0295 - accuracy: 0.99 - ETA: 1s - loss: 0.0294 - accuracy: 0.99 - ETA: 1s - loss: 0.0293 - accuracy: 0.99 - ETA: 0s - loss: 0.0291 - accuracy: 0.99 - ETA: 0s - loss: 0.0290 - accuracy: 0.99 - ETA: 0s - loss: 0.0288 - accuracy: 0.99 - ETA: 0s - loss: 0.0289 - accuracy: 0.99 - ETA: 0s - loss: 0.0287 - accuracy: 0.99 - ETA: 0s - loss: 0.0285 - accuracy: 0.99 - ETA: 0s - loss: 0.0284 - accuracy: 0.99 - ETA: 0s - loss: 0.0283 - accuracy: 0.99 - ETA: 0s - loss: 0.0285 - accuracy: 0.99 - ETA: 0s - loss: 0.0284 - accuracy: 0.99 - ETA: 0s - loss: 0.0282 - accuracy: 0.99 - ETA: 0s - loss: 0.0280 - accuracy: 0.99 - ETA: 0s - loss: 0.0279 - accuracy: 0.99 - ETA: 0s - loss: 0.0277 - accuracy: 0.99 - 14s 10ms/step - loss: 0.0277 - accuracy: 0.9932 - val_loss: 3.4519e-05 - val_accuracy: 1.0000\n",
      "Epoch 21/50\n"
     ]
    },
    {
     "name": "stdout",
     "output_type": "stream",
     "text": [
      "1316/1325 [============================>.] - ETA: 12s - loss: 0.0000e+00 - accuracy: 1.000 - ETA: 12s - loss: 1.2308e-04 - accuracy: 1.000 - ETA: 12s - loss: 0.0084 - accuracy: 1.0000    - ETA: 12s - loss: 0.0060 - accuracy: 1.000 - ETA: 12s - loss: 0.0046 - accuracy: 1.000 - ETA: 12s - loss: 0.0038 - accuracy: 1.000 - ETA: 12s - loss: 0.0032 - accuracy: 1.000 - ETA: 12s - loss: 0.0028 - accuracy: 1.000 - ETA: 12s - loss: 0.0025 - accuracy: 1.000 - ETA: 12s - loss: 0.0022 - accuracy: 1.000 - ETA: 12s - loss: 0.0020 - accuracy: 1.000 - ETA: 12s - loss: 0.0018 - accuracy: 1.000 - ETA: 12s - loss: 0.0017 - accuracy: 1.000 - ETA: 12s - loss: 0.0016 - accuracy: 1.000 - ETA: 11s - loss: 0.0015 - accuracy: 1.000 - ETA: 11s - loss: 0.0020 - accuracy: 1.000 - ETA: 11s - loss: 0.0020 - accuracy: 1.000 - ETA: 11s - loss: 0.0019 - accuracy: 1.000 - ETA: 11s - loss: 0.0018 - accuracy: 1.000 - ETA: 11s - loss: 0.0017 - accuracy: 1.000 - ETA: 11s - loss: 0.0018 - accuracy: 1.000 - ETA: 11s - loss: 0.0017 - accuracy: 1.000 - ETA: 11s - loss: 0.0016 - accuracy: 1.000 - ETA: 11s - loss: 0.0015 - accuracy: 1.000 - ETA: 11s - loss: 0.0015 - accuracy: 1.000 - ETA: 10s - loss: 0.0014 - accuracy: 1.000 - ETA: 10s - loss: 0.0014 - accuracy: 1.000 - ETA: 10s - loss: 0.0014 - accuracy: 1.000 - ETA: 10s - loss: 0.0013 - accuracy: 1.000 - ETA: 10s - loss: 0.0013 - accuracy: 1.000 - ETA: 10s - loss: 0.0013 - accuracy: 1.000 - ETA: 10s - loss: 0.0012 - accuracy: 1.000 - ETA: 10s - loss: 0.0012 - accuracy: 1.000 - ETA: 10s - loss: 0.0011 - accuracy: 1.000 - ETA: 10s - loss: 0.0011 - accuracy: 1.000 - ETA: 10s - loss: 0.0011 - accuracy: 1.000 - ETA: 10s - loss: 0.0010 - accuracy: 1.000 - ETA: 10s - loss: 0.0010 - accuracy: 1.000 - ETA: 10s - loss: 9.9017e-04 - accuracy: 1.000 - ETA: 9s - loss: 9.6479e-04 - accuracy: 1.000 - ETA: 9s - loss: 9.4067e-04 - accuracy: 1.00 - ETA: 9s - loss: 9.1772e-04 - accuracy: 1.00 - ETA: 9s - loss: 8.9589e-04 - accuracy: 1.00 - ETA: 9s - loss: 8.7521e-04 - accuracy: 1.00 - ETA: 9s - loss: 8.5533e-04 - accuracy: 1.00 - ETA: 9s - loss: 8.3632e-04 - accuracy: 1.00 - ETA: 9s - loss: 8.1830e-04 - accuracy: 1.00 - ETA: 9s - loss: 8.1866e-04 - accuracy: 1.00 - ETA: 9s - loss: 8.0160e-04 - accuracy: 1.00 - ETA: 9s - loss: 7.8525e-04 - accuracy: 1.00 - ETA: 9s - loss: 7.6957e-04 - accuracy: 1.00 - ETA: 9s - loss: 7.9013e-04 - accuracy: 1.00 - ETA: 8s - loss: 7.7486e-04 - accuracy: 1.00 - ETA: 8s - loss: 7.6010e-04 - accuracy: 1.00 - ETA: 8s - loss: 7.4636e-04 - accuracy: 1.00 - ETA: 8s - loss: 7.3266e-04 - accuracy: 1.00 - ETA: 8s - loss: 7.4488e-04 - accuracy: 1.00 - ETA: 8s - loss: 7.3169e-04 - accuracy: 1.00 - ETA: 8s - loss: 7.1897e-04 - accuracy: 1.00 - ETA: 8s - loss: 7.1449e-04 - accuracy: 1.00 - ETA: 8s - loss: 7.0284e-04 - accuracy: 1.00 - ETA: 8s - loss: 6.9698e-04 - accuracy: 1.00 - ETA: 8s - loss: 6.8556e-04 - accuracy: 1.00 - ETA: 8s - loss: 6.7998e-04 - accuracy: 1.00 - ETA: 8s - loss: 6.7053e-04 - accuracy: 1.00 - ETA: 8s - loss: 6.5998e-04 - accuracy: 1.00 - ETA: 8s - loss: 6.5057e-04 - accuracy: 1.00 - ETA: 7s - loss: 6.5100e-04 - accuracy: 1.00 - ETA: 7s - loss: 6.4144e-04 - accuracy: 1.00 - ETA: 7s - loss: 6.3193e-04 - accuracy: 1.00 - ETA: 7s - loss: 6.2271e-04 - accuracy: 1.00 - ETA: 7s - loss: 6.3756e-04 - accuracy: 1.00 - ETA: 7s - loss: 6.2851e-04 - accuracy: 1.00 - ETA: 7s - loss: 6.1972e-04 - accuracy: 1.00 - ETA: 7s - loss: 6.1127e-04 - accuracy: 1.00 - ETA: 7s - loss: 6.0296e-04 - accuracy: 1.00 - ETA: 7s - loss: 5.9486e-04 - accuracy: 1.00 - ETA: 7s - loss: 5.8698e-04 - accuracy: 1.00 - ETA: 7s - loss: 7.0559e-04 - accuracy: 1.00 - ETA: 6s - loss: 6.9650e-04 - accuracy: 1.00 - ETA: 6s - loss: 6.8762e-04 - accuracy: 1.00 - ETA: 6s - loss: 6.9606e-04 - accuracy: 1.00 - ETA: 6s - loss: 6.8742e-04 - accuracy: 1.00 - ETA: 6s - loss: 6.7898e-04 - accuracy: 1.00 - ETA: 6s - loss: 7.9561e-04 - accuracy: 1.00 - ETA: 6s - loss: 8.8975e-04 - accuracy: 1.00 - ETA: 6s - loss: 8.7924e-04 - accuracy: 1.00 - ETA: 6s - loss: 8.7607e-04 - accuracy: 1.00 - ETA: 6s - loss: 8.6594e-04 - accuracy: 1.00 - ETA: 6s - loss: 0.0243 - accuracy: 0.9986   - ETA: 6s - loss: 0.0240 - accuracy: 0.99 - ETA: 6s - loss: 0.0238 - accuracy: 0.99 - ETA: 6s - loss: 0.0236 - accuracy: 0.99 - ETA: 5s - loss: 0.0235 - accuracy: 0.99 - ETA: 5s - loss: 0.0232 - accuracy: 0.99 - ETA: 5s - loss: 0.0230 - accuracy: 0.99 - ETA: 5s - loss: 0.0229 - accuracy: 0.99 - ETA: 5s - loss: 0.0237 - accuracy: 0.99 - ETA: 5s - loss: 0.0303 - accuracy: 0.99 - ETA: 5s - loss: 0.0300 - accuracy: 0.99 - ETA: 5s - loss: 0.0300 - accuracy: 0.99 - ETA: 5s - loss: 0.0298 - accuracy: 0.99 - ETA: 5s - loss: 0.0319 - accuracy: 0.99 - ETA: 5s - loss: 0.0316 - accuracy: 0.99 - ETA: 5s - loss: 0.0314 - accuracy: 0.99 - ETA: 5s - loss: 0.0312 - accuracy: 0.99 - ETA: 5s - loss: 0.0311 - accuracy: 0.99 - ETA: 5s - loss: 0.0309 - accuracy: 0.99 - ETA: 5s - loss: 0.0308 - accuracy: 0.99 - ETA: 5s - loss: 0.0306 - accuracy: 0.99 - ETA: 5s - loss: 0.0305 - accuracy: 0.99 - ETA: 5s - loss: 0.0303 - accuracy: 0.99 - ETA: 5s - loss: 0.0302 - accuracy: 0.99 - ETA: 5s - loss: 0.0300 - accuracy: 0.99 - ETA: 5s - loss: 0.0382 - accuracy: 0.99 - ETA: 4s - loss: 0.0378 - accuracy: 0.99 - ETA: 4s - loss: 0.0377 - accuracy: 0.99 - ETA: 4s - loss: 0.0373 - accuracy: 0.99 - ETA: 4s - loss: 0.0370 - accuracy: 0.99 - ETA: 4s - loss: 0.0366 - accuracy: 0.99 - ETA: 4s - loss: 0.0384 - accuracy: 0.99 - ETA: 4s - loss: 0.0380 - accuracy: 0.99 - ETA: 4s - loss: 0.0379 - accuracy: 0.99 - ETA: 4s - loss: 0.0377 - accuracy: 0.99 - ETA: 4s - loss: 0.0375 - accuracy: 0.99 - ETA: 4s - loss: 0.0372 - accuracy: 0.99 - ETA: 4s - loss: 0.0369 - accuracy: 0.99 - ETA: 4s - loss: 0.0366 - accuracy: 0.99 - ETA: 4s - loss: 0.0363 - accuracy: 0.99 - ETA: 4s - loss: 0.0361 - accuracy: 0.99 - ETA: 3s - loss: 0.0358 - accuracy: 0.99 - ETA: 3s - loss: 0.0355 - accuracy: 0.99 - ETA: 3s - loss: 0.0352 - accuracy: 0.99 - ETA: 3s - loss: 0.0369 - accuracy: 0.99 - ETA: 3s - loss: 0.0366 - accuracy: 0.99 - ETA: 3s - loss: 0.0391 - accuracy: 0.99 - ETA: 3s - loss: 0.0388 - accuracy: 0.99 - ETA: 3s - loss: 0.0385 - accuracy: 0.99 - ETA: 3s - loss: 0.0382 - accuracy: 0.99 - ETA: 3s - loss: 0.0381 - accuracy: 0.99 - ETA: 3s - loss: 0.0378 - accuracy: 0.99 - ETA: 3s - loss: 0.0375 - accuracy: 0.99 - ETA: 2s - loss: 0.0373 - accuracy: 0.99 - ETA: 2s - loss: 0.0371 - accuracy: 0.99 - ETA: 2s - loss: 0.0369 - accuracy: 0.99 - ETA: 2s - loss: 0.0366 - accuracy: 0.99 - ETA: 2s - loss: 0.0364 - accuracy: 0.99 - ETA: 2s - loss: 0.0361 - accuracy: 0.99 - ETA: 2s - loss: 0.0358 - accuracy: 0.99 - ETA: 2s - loss: 0.0358 - accuracy: 0.99 - ETA: 2s - loss: 0.0357 - accuracy: 0.99 - ETA: 2s - loss: 0.0356 - accuracy: 0.99 - ETA: 2s - loss: 0.0354 - accuracy: 0.99 - ETA: 2s - loss: 0.0353 - accuracy: 0.99 - ETA: 2s - loss: 0.0351 - accuracy: 0.99 - ETA: 2s - loss: 0.0348 - accuracy: 0.99 - ETA: 2s - loss: 0.0346 - accuracy: 0.99 - ETA: 1s - loss: 0.0343 - accuracy: 0.99 - ETA: 1s - loss: 0.0342 - accuracy: 0.99 - ETA: 1s - loss: 0.0340 - accuracy: 0.99 - ETA: 1s - loss: 0.0337 - accuracy: 0.99 - ETA: 1s - loss: 0.0335 - accuracy: 0.99 - ETA: 1s - loss: 0.0334 - accuracy: 0.99 - ETA: 1s - loss: 0.0333 - accuracy: 0.99 - ETA: 1s - loss: 0.0331 - accuracy: 0.99 - ETA: 1s - loss: 0.0329 - accuracy: 0.99 - ETA: 1s - loss: 0.0326 - accuracy: 0.99 - ETA: 1s - loss: 0.0324 - accuracy: 0.99 - ETA: 1s - loss: 0.0322 - accuracy: 0.99 - ETA: 1s - loss: 0.0321 - accuracy: 0.99 - ETA: 1s - loss: 0.0319 - accuracy: 0.99 - ETA: 0s - loss: 0.0349 - accuracy: 0.99 - ETA: 0s - loss: 0.0346 - accuracy: 0.99 - ETA: 0s - loss: 0.0344 - accuracy: 0.99 - ETA: 0s - loss: 0.0342 - accuracy: 0.99 - ETA: 0s - loss: 0.0341 - accuracy: 0.99 - ETA: 0s - loss: 0.0340 - accuracy: 0.99 - ETA: 0s - loss: 0.0339 - accuracy: 0.99 - ETA: 0s - loss: 0.0338 - accuracy: 0.99 - ETA: 0s - loss: 0.0337 - accuracy: 0.99 - ETA: 0s - loss: 0.0336 - accuracy: 0.99 - ETA: 0s - loss: 0.0336 - accuracy: 0.99 - ETA: 0s - loss: 0.0335 - accuracy: 0.99 - ETA: 0s - loss: 0.0335 - accuracy: 0.99 - ETA: 0s - loss: 0.0334 - accuracy: 0.99 - ETA: 0s - loss: 0.0332 - accuracy: 0.99 - ETA: 0s - loss: 0.0330 - accuracy: 0.9924"
     ]
    },
    {
     "name": "stdout",
     "output_type": "stream",
     "text": [
      "1325/1325 [==============================] - ETA: 0s - loss: 0.0329 - accuracy: 0.99 - ETA: 0s - loss: 0.0328 - accuracy: 0.99 - 15s 11ms/step - loss: 0.0328 - accuracy: 0.9925 - val_loss: 1.8720e-05 - val_accuracy: 1.0000\n",
      "Epoch 22/50\n",
      "1325/1325 [==============================] - ETA: 12s - loss: 0.0000e+00 - accuracy: 1.000 - ETA: 12s - loss: 8.9407e-08 - accuracy: 1.000 - ETA: 13s - loss: 3.2186e-07 - accuracy: 1.000 - ETA: 13s - loss: 2.2990e-07 - accuracy: 1.000 - ETA: 12s - loss: 0.0026 - accuracy: 1.0000    - ETA: 12s - loss: 0.0025 - accuracy: 1.000 - ETA: 12s - loss: 0.0025 - accuracy: 1.000 - ETA: 12s - loss: 0.0584 - accuracy: 0.983 - ETA: 12s - loss: 0.0517 - accuracy: 0.985 - ETA: 12s - loss: 0.0463 - accuracy: 0.986 - ETA: 12s - loss: 0.0440 - accuracy: 0.987 - ETA: 12s - loss: 0.0400 - accuracy: 0.988 - ETA: 12s - loss: 0.0366 - accuracy: 0.989 - ETA: 12s - loss: 0.0338 - accuracy: 0.990 - ETA: 12s - loss: 0.0333 - accuracy: 0.991 - ETA: 12s - loss: 0.0311 - accuracy: 0.991 - ETA: 12s - loss: 0.0303 - accuracy: 0.992 - ETA: 12s - loss: 0.0293 - accuracy: 0.992 - ETA: 12s - loss: 0.0283 - accuracy: 0.993 - ETA: 12s - loss: 0.0268 - accuracy: 0.993 - ETA: 12s - loss: 0.0261 - accuracy: 0.993 - ETA: 12s - loss: 0.0588 - accuracy: 0.987 - ETA: 12s - loss: 0.0560 - accuracy: 0.988 - ETA: 11s - loss: 0.0535 - accuracy: 0.988 - ETA: 11s - loss: 0.0511 - accuracy: 0.989 - ETA: 11s - loss: 0.0490 - accuracy: 0.989 - ETA: 11s - loss: 0.0486 - accuracy: 0.990 - ETA: 11s - loss: 0.0468 - accuracy: 0.990 - ETA: 11s - loss: 0.0450 - accuracy: 0.990 - ETA: 11s - loss: 0.0434 - accuracy: 0.991 - ETA: 11s - loss: 0.0419 - accuracy: 0.991 - ETA: 11s - loss: 0.0405 - accuracy: 0.991 - ETA: 11s - loss: 0.0392 - accuracy: 0.991 - ETA: 10s - loss: 0.0380 - accuracy: 0.992 - ETA: 10s - loss: 0.0369 - accuracy: 0.992 - ETA: 10s - loss: 0.0362 - accuracy: 0.992 - ETA: 10s - loss: 0.0352 - accuracy: 0.992 - ETA: 10s - loss: 0.0342 - accuracy: 0.993 - ETA: 10s - loss: 0.0333 - accuracy: 0.993 - ETA: 10s - loss: 0.0324 - accuracy: 0.993 - ETA: 10s - loss: 0.0316 - accuracy: 0.993 - ETA: 10s - loss: 0.0308 - accuracy: 0.993 - ETA: 10s - loss: 0.0300 - accuracy: 0.993 - ETA: 10s - loss: 0.0293 - accuracy: 0.994 - ETA: 9s - loss: 0.0345 - accuracy: 0.991 - ETA: 10s - loss: 0.0341 - accuracy: 0.991 - ETA: 9s - loss: 0.0333 - accuracy: 0.991 - ETA: 9s - loss: 0.0327 - accuracy: 0.99 - ETA: 9s - loss: 0.0320 - accuracy: 0.99 - ETA: 9s - loss: 0.0313 - accuracy: 0.99 - ETA: 9s - loss: 0.0307 - accuracy: 0.99 - ETA: 9s - loss: 0.0304 - accuracy: 0.99 - ETA: 9s - loss: 0.0298 - accuracy: 0.99 - ETA: 9s - loss: 0.0292 - accuracy: 0.99 - ETA: 9s - loss: 0.0286 - accuracy: 0.99 - ETA: 9s - loss: 0.0281 - accuracy: 0.99 - ETA: 9s - loss: 0.0276 - accuracy: 0.99 - ETA: 9s - loss: 0.0271 - accuracy: 0.99 - ETA: 8s - loss: 0.0266 - accuracy: 0.99 - ETA: 8s - loss: 0.0261 - accuracy: 0.99 - ETA: 8s - loss: 0.0257 - accuracy: 0.99 - ETA: 8s - loss: 0.0252 - accuracy: 0.99 - ETA: 8s - loss: 0.0255 - accuracy: 0.99 - ETA: 8s - loss: 0.0250 - accuracy: 0.99 - ETA: 8s - loss: 0.0246 - accuracy: 0.99 - ETA: 8s - loss: 0.0243 - accuracy: 0.99 - ETA: 8s - loss: 0.0239 - accuracy: 0.99 - ETA: 8s - loss: 0.0261 - accuracy: 0.99 - ETA: 8s - loss: 0.0257 - accuracy: 0.99 - ETA: 8s - loss: 0.0253 - accuracy: 0.99 - ETA: 7s - loss: 0.0249 - accuracy: 0.99 - ETA: 7s - loss: 0.0246 - accuracy: 0.99 - ETA: 7s - loss: 0.0242 - accuracy: 0.99 - ETA: 7s - loss: 0.0239 - accuracy: 0.99 - ETA: 7s - loss: 0.0235 - accuracy: 0.99 - ETA: 7s - loss: 0.0232 - accuracy: 0.99 - ETA: 7s - loss: 0.0229 - accuracy: 0.99 - ETA: 7s - loss: 0.0226 - accuracy: 0.99 - ETA: 7s - loss: 0.0223 - accuracy: 0.99 - ETA: 7s - loss: 0.0220 - accuracy: 0.99 - ETA: 7s - loss: 0.0217 - accuracy: 0.99 - ETA: 6s - loss: 0.0216 - accuracy: 0.99 - ETA: 6s - loss: 0.0214 - accuracy: 0.99 - ETA: 6s - loss: 0.0211 - accuracy: 0.99 - ETA: 6s - loss: 0.0209 - accuracy: 0.99 - ETA: 6s - loss: 0.0206 - accuracy: 0.99 - ETA: 6s - loss: 0.0204 - accuracy: 0.99 - ETA: 6s - loss: 0.0201 - accuracy: 0.99 - ETA: 6s - loss: 0.0199 - accuracy: 0.99 - ETA: 6s - loss: 0.0197 - accuracy: 0.99 - ETA: 6s - loss: 0.0195 - accuracy: 0.99 - ETA: 6s - loss: 0.0192 - accuracy: 0.99 - ETA: 6s - loss: 0.0190 - accuracy: 0.99 - ETA: 5s - loss: 0.0188 - accuracy: 0.99 - ETA: 5s - loss: 0.0186 - accuracy: 0.99 - ETA: 5s - loss: 0.0184 - accuracy: 0.99 - ETA: 5s - loss: 0.0182 - accuracy: 0.99 - ETA: 5s - loss: 0.0180 - accuracy: 0.99 - ETA: 5s - loss: 0.0179 - accuracy: 0.99 - ETA: 5s - loss: 0.0177 - accuracy: 0.99 - ETA: 5s - loss: 0.0175 - accuracy: 0.99 - ETA: 5s - loss: 0.0173 - accuracy: 0.99 - ETA: 5s - loss: 0.0171 - accuracy: 0.99 - ETA: 5s - loss: 0.0170 - accuracy: 0.99 - ETA: 5s - loss: 0.0168 - accuracy: 0.99 - ETA: 4s - loss: 0.0167 - accuracy: 0.99 - ETA: 4s - loss: 0.0165 - accuracy: 0.99 - ETA: 4s - loss: 0.0164 - accuracy: 0.99 - ETA: 4s - loss: 0.0162 - accuracy: 0.99 - ETA: 4s - loss: 0.0161 - accuracy: 0.99 - ETA: 4s - loss: 0.0159 - accuracy: 0.99 - ETA: 4s - loss: 0.0158 - accuracy: 0.99 - ETA: 4s - loss: 0.0156 - accuracy: 0.99 - ETA: 4s - loss: 0.0155 - accuracy: 0.99 - ETA: 4s - loss: 0.0154 - accuracy: 0.99 - ETA: 4s - loss: 0.0153 - accuracy: 0.99 - ETA: 4s - loss: 0.0151 - accuracy: 0.99 - ETA: 4s - loss: 0.0150 - accuracy: 0.99 - ETA: 3s - loss: 0.0149 - accuracy: 0.99 - ETA: 3s - loss: 0.0147 - accuracy: 0.99 - ETA: 3s - loss: 0.0146 - accuracy: 0.99 - ETA: 3s - loss: 0.0145 - accuracy: 0.99 - ETA: 3s - loss: 0.0144 - accuracy: 0.99 - ETA: 3s - loss: 0.0143 - accuracy: 0.99 - ETA: 3s - loss: 0.0141 - accuracy: 0.99 - ETA: 3s - loss: 0.0140 - accuracy: 0.99 - ETA: 3s - loss: 0.0139 - accuracy: 0.99 - ETA: 3s - loss: 0.0143 - accuracy: 0.99 - ETA: 3s - loss: 0.0143 - accuracy: 0.99 - ETA: 3s - loss: 0.0141 - accuracy: 0.99 - ETA: 2s - loss: 0.0140 - accuracy: 0.99 - ETA: 2s - loss: 0.0139 - accuracy: 0.99 - ETA: 2s - loss: 0.0138 - accuracy: 0.99 - ETA: 2s - loss: 0.0137 - accuracy: 0.99 - ETA: 2s - loss: 0.0136 - accuracy: 0.99 - ETA: 2s - loss: 0.0135 - accuracy: 0.99 - ETA: 2s - loss: 0.0134 - accuracy: 0.99 - ETA: 2s - loss: 0.0133 - accuracy: 0.99 - ETA: 2s - loss: 0.0132 - accuracy: 0.99 - ETA: 2s - loss: 0.0131 - accuracy: 0.99 - ETA: 2s - loss: 0.0130 - accuracy: 0.99 - ETA: 2s - loss: 0.0129 - accuracy: 0.99 - ETA: 2s - loss: 0.0128 - accuracy: 0.99 - ETA: 1s - loss: 0.0128 - accuracy: 0.99 - ETA: 1s - loss: 0.0127 - accuracy: 0.99 - ETA: 1s - loss: 0.0126 - accuracy: 0.99 - ETA: 1s - loss: 0.0129 - accuracy: 0.99 - ETA: 1s - loss: 0.0128 - accuracy: 0.99 - ETA: 1s - loss: 0.0127 - accuracy: 0.99 - ETA: 1s - loss: 0.0126 - accuracy: 0.99 - ETA: 1s - loss: 0.0125 - accuracy: 0.99 - ETA: 1s - loss: 0.0125 - accuracy: 0.99 - ETA: 1s - loss: 0.0124 - accuracy: 0.99 - ETA: 1s - loss: 0.0123 - accuracy: 0.99 - ETA: 1s - loss: 0.0122 - accuracy: 0.99 - ETA: 0s - loss: 0.0121 - accuracy: 0.99 - ETA: 0s - loss: 0.0120 - accuracy: 0.99 - ETA: 0s - loss: 0.0120 - accuracy: 0.99 - ETA: 0s - loss: 0.0119 - accuracy: 0.99 - ETA: 0s - loss: 0.0118 - accuracy: 0.99 - ETA: 0s - loss: 0.0117 - accuracy: 0.99 - ETA: 0s - loss: 0.0117 - accuracy: 0.99 - ETA: 0s - loss: 0.0116 - accuracy: 0.99 - ETA: 0s - loss: 0.0115 - accuracy: 0.99 - ETA: 0s - loss: 0.0115 - accuracy: 0.99 - ETA: 0s - loss: 0.0114 - accuracy: 0.99 - ETA: 0s - loss: 0.0113 - accuracy: 0.99 - ETA: 0s - loss: 0.0113 - accuracy: 0.99 - 13s 10ms/step - loss: 0.0112 - accuracy: 0.9970 - val_loss: 6.3584e-07 - val_accuracy: 1.0000\n",
      "Epoch 23/50\n"
     ]
    },
    {
     "name": "stdout",
     "output_type": "stream",
     "text": [
      "1252/1325 [===========================>..] - ETA: 11s - loss: 0.0000e+00 - accuracy: 1.000 - ETA: 12s - loss: 0.0000e+00 - accuracy: 1.000 - ETA: 12s - loss: 0.0000e+00 - accuracy: 1.000 - ETA: 12s - loss: 1.2772e-08 - accuracy: 1.000 - ETA: 12s - loss: 9.9341e-09 - accuracy: 1.000 - ETA: 12s - loss: 8.1279e-09 - accuracy: 1.000 - ETA: 12s - loss: 2.6110e-06 - accuracy: 1.000 - ETA: 12s - loss: 1.0985e-04 - accuracy: 1.000 - ETA: 12s - loss: 9.8435e-05 - accuracy: 1.000 - ETA: 12s - loss: 8.8073e-05 - accuracy: 1.000 - ETA: 12s - loss: 7.9685e-05 - accuracy: 1.000 - ETA: 11s - loss: 7.2756e-05 - accuracy: 1.000 - ETA: 11s - loss: 7.1941e-05 - accuracy: 1.000 - ETA: 11s - loss: 6.9174e-05 - accuracy: 1.000 - ETA: 11s - loss: 7.8898e-05 - accuracy: 1.000 - ETA: 11s - loss: 8.8435e-05 - accuracy: 1.000 - ETA: 11s - loss: 8.2907e-05 - accuracy: 1.000 - ETA: 11s - loss: 7.8030e-05 - accuracy: 1.000 - ETA: 11s - loss: 7.3697e-05 - accuracy: 1.000 - ETA: 11s - loss: 6.9824e-05 - accuracy: 1.000 - ETA: 11s - loss: 6.6333e-05 - accuracy: 1.000 - ETA: 11s - loss: 6.3179e-05 - accuracy: 1.000 - ETA: 11s - loss: 6.0429e-05 - accuracy: 1.000 - ETA: 11s - loss: 5.7804e-05 - accuracy: 1.000 - ETA: 11s - loss: 5.5395e-05 - accuracy: 1.000 - ETA: 11s - loss: 5.3179e-05 - accuracy: 1.000 - ETA: 11s - loss: 5.1134e-05 - accuracy: 1.000 - ETA: 10s - loss: 4.9240e-05 - accuracy: 1.000 - ETA: 10s - loss: 4.7580e-05 - accuracy: 1.000 - ETA: 10s - loss: 8.2757e-05 - accuracy: 1.000 - ETA: 10s - loss: 8.0003e-05 - accuracy: 1.000 - ETA: 10s - loss: 7.7423e-05 - accuracy: 1.000 - ETA: 10s - loss: 7.5158e-05 - accuracy: 1.000 - ETA: 10s - loss: 7.2941e-05 - accuracy: 1.000 - ETA: 10s - loss: 7.0822e-05 - accuracy: 1.000 - ETA: 10s - loss: 6.8801e-05 - accuracy: 1.000 - ETA: 10s - loss: 6.6890e-05 - accuracy: 1.000 - ETA: 10s - loss: 6.5082e-05 - accuracy: 1.000 - ETA: 10s - loss: 6.3369e-05 - accuracy: 1.000 - ETA: 9s - loss: 6.1744e-05 - accuracy: 1.000 - ETA: 9s - loss: 7.5875e-05 - accuracy: 1.00 - ETA: 9s - loss: 7.5894e-05 - accuracy: 1.00 - ETA: 9s - loss: 7.4087e-05 - accuracy: 1.00 - ETA: 9s - loss: 7.3210e-05 - accuracy: 1.00 - ETA: 9s - loss: 7.1546e-05 - accuracy: 1.00 - ETA: 9s - loss: 7.0029e-05 - accuracy: 1.00 - ETA: 9s - loss: 6.8518e-05 - accuracy: 1.00 - ETA: 9s - loss: 6.7625e-05 - accuracy: 1.00 - ETA: 9s - loss: 6.6217e-05 - accuracy: 1.00 - ETA: 9s - loss: 6.4868e-05 - accuracy: 1.00 - ETA: 9s - loss: 6.3571e-05 - accuracy: 1.00 - ETA: 8s - loss: 6.2324e-05 - accuracy: 1.00 - ETA: 8s - loss: 6.1126e-05 - accuracy: 1.00 - ETA: 8s - loss: 5.9972e-05 - accuracy: 1.00 - ETA: 8s - loss: 5.8862e-05 - accuracy: 1.00 - ETA: 8s - loss: 5.7793e-05 - accuracy: 1.00 - ETA: 8s - loss: 5.6863e-05 - accuracy: 1.00 - ETA: 8s - loss: 5.5865e-05 - accuracy: 1.00 - ETA: 8s - loss: 5.4902e-05 - accuracy: 1.00 - ETA: 8s - loss: 5.3973e-05 - accuracy: 1.00 - ETA: 8s - loss: 5.3073e-05 - accuracy: 1.00 - ETA: 8s - loss: 5.2203e-05 - accuracy: 1.00 - ETA: 8s - loss: 5.1493e-05 - accuracy: 1.00 - ETA: 7s - loss: 5.0677e-05 - accuracy: 1.00 - ETA: 7s - loss: 4.9885e-05 - accuracy: 1.00 - ETA: 7s - loss: 4.9118e-05 - accuracy: 1.00 - ETA: 7s - loss: 4.8376e-05 - accuracy: 1.00 - ETA: 7s - loss: 4.7656e-05 - accuracy: 1.00 - ETA: 7s - loss: 4.6955e-05 - accuracy: 1.00 - ETA: 7s - loss: 4.6279e-05 - accuracy: 1.00 - ETA: 7s - loss: 4.5618e-05 - accuracy: 1.00 - ETA: 7s - loss: 4.4975e-05 - accuracy: 1.00 - ETA: 7s - loss: 4.4413e-05 - accuracy: 1.00 - ETA: 7s - loss: 4.3804e-05 - accuracy: 1.00 - ETA: 7s - loss: 4.3220e-05 - accuracy: 1.00 - ETA: 7s - loss: 4.2644e-05 - accuracy: 1.00 - ETA: 6s - loss: 4.2083e-05 - accuracy: 1.00 - ETA: 6s - loss: 1.3949e-04 - accuracy: 1.00 - ETA: 6s - loss: 1.3772e-04 - accuracy: 1.00 - ETA: 6s - loss: 1.3598e-04 - accuracy: 1.00 - ETA: 6s - loss: 1.3516e-04 - accuracy: 1.00 - ETA: 6s - loss: 1.3432e-04 - accuracy: 1.00 - ETA: 6s - loss: 1.3267e-04 - accuracy: 1.00 - ETA: 6s - loss: 1.3106e-04 - accuracy: 1.00 - ETA: 6s - loss: 1.3071e-04 - accuracy: 1.00 - ETA: 6s - loss: 1.2916e-04 - accuracy: 1.00 - ETA: 6s - loss: 1.2839e-04 - accuracy: 1.00 - ETA: 6s - loss: 1.2764e-04 - accuracy: 1.00 - ETA: 6s - loss: 1.2689e-04 - accuracy: 1.00 - ETA: 6s - loss: 1.2615e-04 - accuracy: 1.00 - ETA: 6s - loss: 1.2470e-04 - accuracy: 1.00 - ETA: 6s - loss: 1.2399e-04 - accuracy: 1.00 - ETA: 6s - loss: 1.2402e-04 - accuracy: 1.00 - ETA: 6s - loss: 1.2333e-04 - accuracy: 1.00 - ETA: 6s - loss: 1.2264e-04 - accuracy: 1.00 - ETA: 6s - loss: 1.2707e-04 - accuracy: 1.00 - ETA: 5s - loss: 1.2568e-04 - accuracy: 1.00 - ETA: 5s - loss: 1.2442e-04 - accuracy: 1.00 - ETA: 5s - loss: 1.2309e-04 - accuracy: 1.00 - ETA: 5s - loss: 1.2179e-04 - accuracy: 1.00 - ETA: 5s - loss: 1.2115e-04 - accuracy: 1.00 - ETA: 5s - loss: 1.1988e-04 - accuracy: 1.00 - ETA: 5s - loss: 1.1893e-04 - accuracy: 1.00 - ETA: 5s - loss: 1.1772e-04 - accuracy: 1.00 - ETA: 5s - loss: 1.1654e-04 - accuracy: 1.00 - ETA: 5s - loss: 1.1595e-04 - accuracy: 1.00 - ETA: 5s - loss: 1.1480e-04 - accuracy: 1.00 - ETA: 5s - loss: 1.1423e-04 - accuracy: 1.00 - ETA: 5s - loss: 1.1311e-04 - accuracy: 1.00 - ETA: 5s - loss: 1.1201e-04 - accuracy: 1.00 - ETA: 4s - loss: 1.1095e-04 - accuracy: 1.00 - ETA: 4s - loss: 1.1058e-04 - accuracy: 1.00 - ETA: 4s - loss: 1.1006e-04 - accuracy: 1.00 - ETA: 4s - loss: 1.0953e-04 - accuracy: 1.00 - ETA: 4s - loss: 1.0902e-04 - accuracy: 1.00 - ETA: 4s - loss: 1.0806e-04 - accuracy: 1.00 - ETA: 4s - loss: 1.0706e-04 - accuracy: 1.00 - ETA: 4s - loss: 1.0688e-04 - accuracy: 1.00 - ETA: 4s - loss: 1.0602e-04 - accuracy: 1.00 - ETA: 4s - loss: 1.1699e-04 - accuracy: 1.00 - ETA: 4s - loss: 1.2047e-04 - accuracy: 1.00 - ETA: 4s - loss: 1.1940e-04 - accuracy: 1.00 - ETA: 4s - loss: 1.1834e-04 - accuracy: 1.00 - ETA: 4s - loss: 1.1732e-04 - accuracy: 1.00 - ETA: 4s - loss: 1.1630e-04 - accuracy: 1.00 - ETA: 3s - loss: 1.1531e-04 - accuracy: 1.00 - ETA: 3s - loss: 1.1433e-04 - accuracy: 1.00 - ETA: 3s - loss: 1.1336e-04 - accuracy: 1.00 - ETA: 3s - loss: 1.1242e-04 - accuracy: 1.00 - ETA: 3s - loss: 1.7811e-04 - accuracy: 1.00 - ETA: 3s - loss: 1.7750e-04 - accuracy: 1.00 - ETA: 3s - loss: 1.7605e-04 - accuracy: 1.00 - ETA: 3s - loss: 1.7463e-04 - accuracy: 1.00 - ETA: 3s - loss: 1.7323e-04 - accuracy: 1.00 - ETA: 3s - loss: 1.7185e-04 - accuracy: 1.00 - ETA: 3s - loss: 1.7049e-04 - accuracy: 1.00 - ETA: 3s - loss: 1.6915e-04 - accuracy: 1.00 - ETA: 3s - loss: 1.6784e-04 - accuracy: 1.00 - ETA: 2s - loss: 1.6654e-04 - accuracy: 1.00 - ETA: 2s - loss: 1.6526e-04 - accuracy: 1.00 - ETA: 2s - loss: 1.6401e-04 - accuracy: 1.00 - ETA: 2s - loss: 1.6277e-04 - accuracy: 1.00 - ETA: 2s - loss: 1.6155e-04 - accuracy: 1.00 - ETA: 2s - loss: 1.6035e-04 - accuracy: 1.00 - ETA: 2s - loss: 1.5976e-04 - accuracy: 1.00 - ETA: 2s - loss: 1.5858e-04 - accuracy: 1.00 - ETA: 2s - loss: 1.5743e-04 - accuracy: 1.00 - ETA: 2s - loss: 1.5685e-04 - accuracy: 1.00 - ETA: 2s - loss: 1.5629e-04 - accuracy: 1.00 - ETA: 2s - loss: 1.5572e-04 - accuracy: 1.00 - ETA: 2s - loss: 1.5516e-04 - accuracy: 1.00 - ETA: 2s - loss: 1.5460e-04 - accuracy: 1.00 - ETA: 2s - loss: 1.5405e-04 - accuracy: 1.00 - ETA: 2s - loss: 1.5296e-04 - accuracy: 1.00 - ETA: 1s - loss: 1.5226e-04 - accuracy: 1.00 - ETA: 1s - loss: 1.5172e-04 - accuracy: 1.00 - ETA: 1s - loss: 1.5067e-04 - accuracy: 1.00 - ETA: 1s - loss: 1.5014e-04 - accuracy: 1.00 - ETA: 1s - loss: 1.4963e-04 - accuracy: 1.00 - ETA: 1s - loss: 1.4911e-04 - accuracy: 1.00 - ETA: 1s - loss: 1.4928e-04 - accuracy: 1.00 - ETA: 1s - loss: 1.4877e-04 - accuracy: 1.00 - ETA: 1s - loss: 1.4826e-04 - accuracy: 1.00 - ETA: 1s - loss: 1.4776e-04 - accuracy: 1.00 - ETA: 1s - loss: 1.4726e-04 - accuracy: 1.00 - ETA: 1s - loss: 1.4676e-04 - accuracy: 1.00 - ETA: 1s - loss: 1.4627e-04 - accuracy: 1.00 - ETA: 1s - loss: 1.4578e-04 - accuracy: 1.00 - ETA: 1s - loss: 1.4483e-04 - accuracy: 1.00 - ETA: 1s - loss: 1.4389e-04 - accuracy: 1.00 - ETA: 1s - loss: 1.4294e-04 - accuracy: 1.00 - ETA: 1s - loss: 1.4396e-04 - accuracy: 1.00 - ETA: 0s - loss: 1.4303e-04 - accuracy: 1.00 - ETA: 0s - loss: 1.4211e-04 - accuracy: 1.00 - ETA: 0s - loss: 1.4165e-04 - accuracy: 1.00 - ETA: 0s - loss: 1.4354e-04 - accuracy: 1.0000"
     ]
    },
    {
     "name": "stdout",
     "output_type": "stream",
     "text": [
      "1325/1325 [==============================] - ETA: 0s - loss: 1.4263e-04 - accuracy: 1.00 - ETA: 0s - loss: 1.4173e-04 - accuracy: 1.00 - ETA: 0s - loss: 1.4084e-04 - accuracy: 1.00 - ETA: 0s - loss: 1.3996e-04 - accuracy: 1.00 - ETA: 0s - loss: 1.3909e-04 - accuracy: 1.00 - ETA: 0s - loss: 1.3824e-04 - accuracy: 1.00 - ETA: 0s - loss: 1.3739e-04 - accuracy: 1.00 - ETA: 0s - loss: 1.3697e-04 - accuracy: 1.00 - ETA: 0s - loss: 1.3614e-04 - accuracy: 1.00 - 14s 11ms/step - loss: 1.3563e-04 - accuracy: 1.0000 - val_loss: 2.3302e-07 - val_accuracy: 1.0000\n",
      "Epoch 24/50\n",
      "1325/1325 [==============================] - ETA: 11s - loss: 0.0000e+00 - accuracy: 1.000 - ETA: 12s - loss: 2.0265e-06 - accuracy: 1.000 - ETA: 12s - loss: 1.5676e-06 - accuracy: 1.000 - ETA: 11s - loss: 1.1197e-06 - accuracy: 1.000 - ETA: 11s - loss: 9.7353e-07 - accuracy: 1.000 - ETA: 11s - loss: 0.0010 - accuracy: 1.0000    - ETA: 11s - loss: 8.8035e-04 - accuracy: 1.000 - ETA: 11s - loss: 7.6297e-04 - accuracy: 1.000 - ETA: 11s - loss: 6.7325e-04 - accuracy: 1.000 - ETA: 11s - loss: 6.0238e-04 - accuracy: 1.000 - ETA: 11s - loss: 5.6613e-04 - accuracy: 1.000 - ETA: 11s - loss: 5.1690e-04 - accuracy: 1.000 - ETA: 11s - loss: 4.7555e-04 - accuracy: 1.000 - ETA: 11s - loss: 4.4032e-04 - accuracy: 1.000 - ETA: 11s - loss: 4.0996e-04 - accuracy: 1.000 - ETA: 11s - loss: 3.8351e-04 - accuracy: 1.000 - ETA: 11s - loss: 3.6349e-04 - accuracy: 1.000 - ETA: 11s - loss: 3.4276e-04 - accuracy: 1.000 - ETA: 10s - loss: 3.2424e-04 - accuracy: 1.000 - ETA: 10s - loss: 3.0858e-04 - accuracy: 1.000 - ETA: 10s - loss: 2.9355e-04 - accuracy: 1.000 - ETA: 10s - loss: 2.7989e-04 - accuracy: 1.000 - ETA: 10s - loss: 2.6745e-04 - accuracy: 1.000 - ETA: 10s - loss: 2.5607e-04 - accuracy: 1.000 - ETA: 10s - loss: 2.4562e-04 - accuracy: 1.000 - ETA: 10s - loss: 2.3601e-04 - accuracy: 1.000 - ETA: 10s - loss: 2.2710e-04 - accuracy: 1.000 - ETA: 10s - loss: 2.1884e-04 - accuracy: 1.000 - ETA: 10s - loss: 2.1126e-04 - accuracy: 1.000 - ETA: 10s - loss: 2.0410e-04 - accuracy: 1.000 - ETA: 10s - loss: 0.0022 - accuracy: 1.0000    - ETA: 10s - loss: 0.0022 - accuracy: 1.000 - ETA: 10s - loss: 0.0021 - accuracy: 1.000 - ETA: 9s - loss: 0.0020 - accuracy: 1.000 - ETA: 9s - loss: 0.0020 - accuracy: 1.00 - ETA: 9s - loss: 0.0019 - accuracy: 1.00 - ETA: 9s - loss: 0.0019 - accuracy: 1.00 - ETA: 9s - loss: 0.0018 - accuracy: 1.00 - ETA: 9s - loss: 0.0018 - accuracy: 1.00 - ETA: 9s - loss: 0.0017 - accuracy: 1.00 - ETA: 9s - loss: 0.0017 - accuracy: 1.00 - ETA: 9s - loss: 0.0017 - accuracy: 1.00 - ETA: 9s - loss: 0.0016 - accuracy: 1.00 - ETA: 9s - loss: 0.0016 - accuracy: 1.00 - ETA: 9s - loss: 0.0015 - accuracy: 1.00 - ETA: 9s - loss: 0.0015 - accuracy: 1.00 - ETA: 9s - loss: 0.0015 - accuracy: 1.00 - ETA: 9s - loss: 0.0014 - accuracy: 1.00 - ETA: 8s - loss: 0.0021 - accuracy: 1.00 - ETA: 8s - loss: 0.0021 - accuracy: 1.00 - ETA: 8s - loss: 0.0020 - accuracy: 1.00 - ETA: 8s - loss: 0.0020 - accuracy: 1.00 - ETA: 8s - loss: 0.0020 - accuracy: 1.00 - ETA: 8s - loss: 0.0019 - accuracy: 1.00 - ETA: 8s - loss: 0.0019 - accuracy: 1.00 - ETA: 8s - loss: 0.0019 - accuracy: 1.00 - ETA: 8s - loss: 0.0018 - accuracy: 1.00 - ETA: 8s - loss: 0.0018 - accuracy: 1.00 - ETA: 8s - loss: 0.0018 - accuracy: 1.00 - ETA: 8s - loss: 0.0017 - accuracy: 1.00 - ETA: 7s - loss: 0.0017 - accuracy: 1.00 - ETA: 7s - loss: 0.0017 - accuracy: 1.00 - ETA: 7s - loss: 0.0016 - accuracy: 1.00 - ETA: 7s - loss: 0.0016 - accuracy: 1.00 - ETA: 7s - loss: 0.0026 - accuracy: 1.00 - ETA: 7s - loss: 0.0026 - accuracy: 1.00 - ETA: 7s - loss: 0.0026 - accuracy: 1.00 - ETA: 7s - loss: 0.0025 - accuracy: 1.00 - ETA: 7s - loss: 0.0025 - accuracy: 1.00 - ETA: 7s - loss: 0.0025 - accuracy: 1.00 - ETA: 7s - loss: 0.0024 - accuracy: 1.00 - ETA: 7s - loss: 0.0024 - accuracy: 1.00 - ETA: 7s - loss: 0.0024 - accuracy: 1.00 - ETA: 7s - loss: 0.0024 - accuracy: 1.00 - ETA: 7s - loss: 0.0023 - accuracy: 1.00 - ETA: 7s - loss: 0.0023 - accuracy: 1.00 - ETA: 7s - loss: 0.0023 - accuracy: 1.00 - ETA: 7s - loss: 0.0023 - accuracy: 1.00 - ETA: 7s - loss: 0.0022 - accuracy: 1.00 - ETA: 7s - loss: 0.0022 - accuracy: 1.00 - ETA: 6s - loss: 0.0022 - accuracy: 1.00 - ETA: 6s - loss: 0.0022 - accuracy: 1.00 - ETA: 6s - loss: 0.0021 - accuracy: 1.00 - ETA: 6s - loss: 0.0021 - accuracy: 1.00 - ETA: 6s - loss: 0.0021 - accuracy: 1.00 - ETA: 6s - loss: 0.0021 - accuracy: 1.00 - ETA: 6s - loss: 0.0020 - accuracy: 1.00 - ETA: 6s - loss: 0.0020 - accuracy: 1.00 - ETA: 6s - loss: 0.0020 - accuracy: 1.00 - ETA: 6s - loss: 0.0020 - accuracy: 1.00 - ETA: 6s - loss: 0.0022 - accuracy: 1.00 - ETA: 6s - loss: 0.0022 - accuracy: 1.00 - ETA: 6s - loss: 0.0022 - accuracy: 1.00 - ETA: 5s - loss: 0.0022 - accuracy: 1.00 - ETA: 5s - loss: 0.0021 - accuracy: 1.00 - ETA: 5s - loss: 0.0021 - accuracy: 1.00 - ETA: 5s - loss: 0.0021 - accuracy: 1.00 - ETA: 5s - loss: 0.0021 - accuracy: 1.00 - ETA: 5s - loss: 0.0021 - accuracy: 1.00 - ETA: 5s - loss: 0.0020 - accuracy: 1.00 - ETA: 5s - loss: 0.0020 - accuracy: 1.00 - ETA: 5s - loss: 0.0020 - accuracy: 1.00 - ETA: 5s - loss: 0.0020 - accuracy: 1.00 - ETA: 5s - loss: 0.0020 - accuracy: 1.00 - ETA: 5s - loss: 0.0019 - accuracy: 1.00 - ETA: 5s - loss: 0.0019 - accuracy: 1.00 - ETA: 4s - loss: 0.0019 - accuracy: 1.00 - ETA: 4s - loss: 0.0019 - accuracy: 1.00 - ETA: 4s - loss: 0.0019 - accuracy: 1.00 - ETA: 4s - loss: 0.0019 - accuracy: 1.00 - ETA: 4s - loss: 0.0018 - accuracy: 1.00 - ETA: 4s - loss: 0.0018 - accuracy: 1.00 - ETA: 4s - loss: 0.0018 - accuracy: 1.00 - ETA: 4s - loss: 0.0018 - accuracy: 1.00 - ETA: 4s - loss: 0.0018 - accuracy: 1.00 - ETA: 4s - loss: 0.0018 - accuracy: 1.00 - ETA: 4s - loss: 0.0018 - accuracy: 1.00 - ETA: 4s - loss: 0.0018 - accuracy: 1.00 - ETA: 4s - loss: 0.0017 - accuracy: 1.00 - ETA: 4s - loss: 0.0017 - accuracy: 1.00 - ETA: 3s - loss: 0.0017 - accuracy: 1.00 - ETA: 3s - loss: 0.0017 - accuracy: 1.00 - ETA: 3s - loss: 0.0017 - accuracy: 1.00 - ETA: 3s - loss: 0.0017 - accuracy: 1.00 - ETA: 3s - loss: 0.0017 - accuracy: 1.00 - ETA: 3s - loss: 0.0016 - accuracy: 1.00 - ETA: 3s - loss: 0.0016 - accuracy: 1.00 - ETA: 3s - loss: 0.0016 - accuracy: 1.00 - ETA: 3s - loss: 0.0016 - accuracy: 1.00 - ETA: 3s - loss: 0.0016 - accuracy: 1.00 - ETA: 3s - loss: 0.0016 - accuracy: 1.00 - ETA: 3s - loss: 0.0016 - accuracy: 1.00 - ETA: 3s - loss: 0.0015 - accuracy: 1.00 - ETA: 2s - loss: 0.0015 - accuracy: 1.00 - ETA: 2s - loss: 0.0015 - accuracy: 1.00 - ETA: 2s - loss: 0.0015 - accuracy: 1.00 - ETA: 2s - loss: 0.0015 - accuracy: 1.00 - ETA: 2s - loss: 0.0015 - accuracy: 1.00 - ETA: 2s - loss: 0.0015 - accuracy: 1.00 - ETA: 2s - loss: 0.0015 - accuracy: 1.00 - ETA: 2s - loss: 0.0015 - accuracy: 1.00 - ETA: 2s - loss: 0.0014 - accuracy: 1.00 - ETA: 2s - loss: 0.0014 - accuracy: 1.00 - ETA: 2s - loss: 0.0014 - accuracy: 1.00 - ETA: 2s - loss: 0.0014 - accuracy: 1.00 - ETA: 1s - loss: 0.0014 - accuracy: 1.00 - ETA: 1s - loss: 0.0014 - accuracy: 1.00 - ETA: 1s - loss: 0.0014 - accuracy: 1.00 - ETA: 1s - loss: 0.0014 - accuracy: 1.00 - ETA: 1s - loss: 0.0014 - accuracy: 1.00 - ETA: 1s - loss: 0.0014 - accuracy: 1.00 - ETA: 1s - loss: 0.0013 - accuracy: 1.00 - ETA: 1s - loss: 0.0013 - accuracy: 1.00 - ETA: 1s - loss: 0.0013 - accuracy: 1.00 - ETA: 1s - loss: 0.0013 - accuracy: 1.00 - ETA: 1s - loss: 0.0013 - accuracy: 1.00 - ETA: 1s - loss: 0.0013 - accuracy: 1.00 - ETA: 1s - loss: 0.0013 - accuracy: 1.00 - ETA: 0s - loss: 0.0013 - accuracy: 1.00 - ETA: 0s - loss: 0.0013 - accuracy: 1.00 - ETA: 0s - loss: 0.0013 - accuracy: 1.00 - ETA: 0s - loss: 0.0013 - accuracy: 1.00 - ETA: 0s - loss: 0.0013 - accuracy: 1.00 - ETA: 0s - loss: 0.0012 - accuracy: 1.00 - ETA: 0s - loss: 0.0012 - accuracy: 1.00 - ETA: 0s - loss: 0.0012 - accuracy: 1.00 - ETA: 0s - loss: 0.0012 - accuracy: 1.00 - ETA: 0s - loss: 0.0012 - accuracy: 1.00 - ETA: 0s - loss: 0.0012 - accuracy: 1.00 - ETA: 0s - loss: 0.0012 - accuracy: 1.00 - ETA: 0s - loss: 0.0012 - accuracy: 1.00 - 14s 10ms/step - loss: 0.0012 - accuracy: 1.0000 - val_loss: 3.7412e-07 - val_accuracy: 1.0000\n",
      "Epoch 25/50\n"
     ]
    },
    {
     "name": "stdout",
     "output_type": "stream",
     "text": [
      "1208/1325 [==========================>...] - ETA: 13s - loss: 0.0000e+00 - accuracy: 1.000 - ETA: 13s - loss: 3.9736e-08 - accuracy: 1.000 - ETA: 12s - loss: 2.3842e-08 - accuracy: 1.000 - ETA: 12s - loss: 1.7030e-08 - accuracy: 1.000 - ETA: 12s - loss: 1.3245e-08 - accuracy: 1.000 - ETA: 12s - loss: 1.8965e-08 - accuracy: 1.000 - ETA: 12s - loss: 3.4387e-08 - accuracy: 1.000 - ETA: 12s - loss: 2.9802e-08 - accuracy: 1.000 - ETA: 12s - loss: 1.0360e-06 - accuracy: 1.000 - ETA: 12s - loss: 9.2698e-07 - accuracy: 1.000 - ETA: 12s - loss: 1.2034e-06 - accuracy: 1.000 - ETA: 12s - loss: 1.0988e-06 - accuracy: 1.000 - ETA: 12s - loss: 1.0530e-06 - accuracy: 1.000 - ETA: 12s - loss: 9.7543e-07 - accuracy: 1.000 - ETA: 12s - loss: 9.1214e-07 - accuracy: 1.000 - ETA: 12s - loss: 8.9007e-07 - accuracy: 1.000 - ETA: 12s - loss: 8.3444e-07 - accuracy: 1.000 - ETA: 11s - loss: 8.8616e-07 - accuracy: 1.000 - ETA: 11s - loss: 8.3693e-07 - accuracy: 1.000 - ETA: 11s - loss: 7.9288e-07 - accuracy: 1.000 - ETA: 11s - loss: 7.5324e-07 - accuracy: 1.000 - ETA: 11s - loss: 7.3369e-07 - accuracy: 1.000 - ETA: 11s - loss: 7.0034e-07 - accuracy: 1.000 - ETA: 11s - loss: 6.6989e-07 - accuracy: 1.000 - ETA: 11s - loss: 6.4198e-07 - accuracy: 1.000 - ETA: 11s - loss: 6.1630e-07 - accuracy: 1.000 - ETA: 11s - loss: 5.9259e-07 - accuracy: 1.000 - ETA: 11s - loss: 5.7065e-07 - accuracy: 1.000 - ETA: 11s - loss: 6.1066e-07 - accuracy: 1.000 - ETA: 10s - loss: 5.8924e-07 - accuracy: 1.000 - ETA: 10s - loss: 6.7938e-07 - accuracy: 1.000 - ETA: 10s - loss: 6.6806e-07 - accuracy: 1.000 - ETA: 10s - loss: 6.4650e-07 - accuracy: 1.000 - ETA: 10s - loss: 6.2630e-07 - accuracy: 1.000 - ETA: 10s - loss: 6.0732e-07 - accuracy: 1.000 - ETA: 10s - loss: 5.8946e-07 - accuracy: 1.000 - ETA: 10s - loss: 5.8092e-07 - accuracy: 1.000 - ETA: 10s - loss: 5.6455e-07 - accuracy: 1.000 - ETA: 10s - loss: 5.6297e-07 - accuracy: 1.000 - ETA: 10s - loss: 5.4795e-07 - accuracy: 1.000 - ETA: 10s - loss: 5.4074e-07 - accuracy: 1.000 - ETA: 10s - loss: 5.2688e-07 - accuracy: 1.000 - ETA: 10s - loss: 5.1371e-07 - accuracy: 1.000 - ETA: 10s - loss: 5.0118e-07 - accuracy: 1.000 - ETA: 10s - loss: 4.8925e-07 - accuracy: 1.000 - ETA: 9s - loss: 4.7787e-07 - accuracy: 1.000 - ETA: 9s - loss: 4.6701e-07 - accuracy: 1.00 - ETA: 9s - loss: 4.6176e-07 - accuracy: 1.00 - ETA: 9s - loss: 4.5161e-07 - accuracy: 1.00 - ETA: 9s - loss: 4.4190e-07 - accuracy: 1.00 - ETA: 9s - loss: 4.3720e-07 - accuracy: 1.00 - ETA: 9s - loss: 4.2809e-07 - accuracy: 1.00 - ETA: 9s - loss: 7.3135e-07 - accuracy: 1.00 - ETA: 9s - loss: 7.2396e-07 - accuracy: 1.00 - ETA: 9s - loss: 7.0962e-07 - accuracy: 1.00 - ETA: 9s - loss: 6.9700e-07 - accuracy: 1.00 - ETA: 9s - loss: 6.8372e-07 - accuracy: 1.00 - ETA: 9s - loss: 6.7150e-07 - accuracy: 1.00 - ETA: 9s - loss: 6.5918e-07 - accuracy: 1.00 - ETA: 9s - loss: 6.4730e-07 - accuracy: 1.00 - ETA: 8s - loss: 6.3585e-07 - accuracy: 1.00 - ETA: 8s - loss: 6.2505e-07 - accuracy: 1.00 - ETA: 8s - loss: 6.1436e-07 - accuracy: 1.00 - ETA: 8s - loss: 6.0404e-07 - accuracy: 1.00 - ETA: 8s - loss: 5.9900e-07 - accuracy: 1.00 - ETA: 8s - loss: 5.8918e-07 - accuracy: 1.00 - ETA: 8s - loss: 8.6883e-07 - accuracy: 1.00 - ETA: 8s - loss: 8.6182e-07 - accuracy: 1.00 - ETA: 8s - loss: 1.8341e-05 - accuracy: 1.00 - ETA: 8s - loss: 1.8052e-05 - accuracy: 1.00 - ETA: 8s - loss: 1.7778e-05 - accuracy: 1.00 - ETA: 8s - loss: 1.7507e-05 - accuracy: 1.00 - ETA: 8s - loss: 1.7251e-05 - accuracy: 1.00 - ETA: 8s - loss: 1.6996e-05 - accuracy: 1.00 - ETA: 8s - loss: 1.6748e-05 - accuracy: 1.00 - ETA: 8s - loss: 1.6507e-05 - accuracy: 1.00 - ETA: 7s - loss: 1.6780e-05 - accuracy: 1.00 - ETA: 7s - loss: 1.6547e-05 - accuracy: 1.00 - ETA: 7s - loss: 1.6319e-05 - accuracy: 1.00 - ETA: 7s - loss: 1.6097e-05 - accuracy: 1.00 - ETA: 7s - loss: 1.5883e-05 - accuracy: 1.00 - ETA: 7s - loss: 1.5673e-05 - accuracy: 1.00 - ETA: 7s - loss: 1.5468e-05 - accuracy: 1.00 - ETA: 7s - loss: 1.5268e-05 - accuracy: 1.00 - ETA: 7s - loss: 1.5170e-05 - accuracy: 1.00 - ETA: 7s - loss: 1.5238e-05 - accuracy: 1.00 - ETA: 7s - loss: 1.5051e-05 - accuracy: 1.00 - ETA: 7s - loss: 1.4865e-05 - accuracy: 1.00 - ETA: 7s - loss: 1.4699e-05 - accuracy: 1.00 - ETA: 6s - loss: 1.4522e-05 - accuracy: 1.00 - ETA: 6s - loss: 1.4349e-05 - accuracy: 1.00 - ETA: 6s - loss: 1.4180e-05 - accuracy: 1.00 - ETA: 6s - loss: 1.4015e-05 - accuracy: 1.00 - ETA: 6s - loss: 1.3854e-05 - accuracy: 1.00 - ETA: 6s - loss: 1.3700e-05 - accuracy: 1.00 - ETA: 6s - loss: 1.3546e-05 - accuracy: 1.00 - ETA: 6s - loss: 1.3396e-05 - accuracy: 1.00 - ETA: 6s - loss: 1.3248e-05 - accuracy: 1.00 - ETA: 6s - loss: 1.3104e-05 - accuracy: 1.00 - ETA: 6s - loss: 1.2964e-05 - accuracy: 1.00 - ETA: 5s - loss: 1.4998e-05 - accuracy: 1.00 - ETA: 5s - loss: 2.8509e-05 - accuracy: 1.00 - ETA: 5s - loss: 2.8360e-05 - accuracy: 1.00 - ETA: 5s - loss: 2.8212e-05 - accuracy: 1.00 - ETA: 5s - loss: 2.8536e-05 - accuracy: 1.00 - ETA: 5s - loss: 3.0992e-05 - accuracy: 1.00 - ETA: 5s - loss: 3.0719e-05 - accuracy: 1.00 - ETA: 5s - loss: 3.0412e-05 - accuracy: 1.00 - ETA: 5s - loss: 3.0222e-05 - accuracy: 1.00 - ETA: 5s - loss: 2.9926e-05 - accuracy: 1.00 - ETA: 5s - loss: 2.9635e-05 - accuracy: 1.00 - ETA: 5s - loss: 2.9350e-05 - accuracy: 1.00 - ETA: 5s - loss: 2.9071e-05 - accuracy: 1.00 - ETA: 5s - loss: 2.8933e-05 - accuracy: 1.00 - ETA: 4s - loss: 2.8661e-05 - accuracy: 1.00 - ETA: 4s - loss: 2.8395e-05 - accuracy: 1.00 - ETA: 4s - loss: 2.8133e-05 - accuracy: 1.00 - ETA: 4s - loss: 2.7876e-05 - accuracy: 1.00 - ETA: 4s - loss: 2.7624e-05 - accuracy: 1.00 - ETA: 4s - loss: 2.7376e-05 - accuracy: 1.00 - ETA: 4s - loss: 2.7254e-05 - accuracy: 1.00 - ETA: 4s - loss: 2.7227e-05 - accuracy: 1.00 - ETA: 4s - loss: 2.7107e-05 - accuracy: 1.00 - ETA: 4s - loss: 2.6871e-05 - accuracy: 1.00 - ETA: 4s - loss: 2.6659e-05 - accuracy: 1.00 - ETA: 4s - loss: 2.6430e-05 - accuracy: 1.00 - ETA: 4s - loss: 2.6205e-05 - accuracy: 1.00 - ETA: 4s - loss: 2.6094e-05 - accuracy: 1.00 - ETA: 3s - loss: 2.6005e-05 - accuracy: 1.00 - ETA: 3s - loss: 2.5896e-05 - accuracy: 1.00 - ETA: 3s - loss: 2.5681e-05 - accuracy: 1.00 - ETA: 3s - loss: 2.5468e-05 - accuracy: 1.00 - ETA: 3s - loss: 2.5363e-05 - accuracy: 1.00 - ETA: 3s - loss: 2.6384e-05 - accuracy: 1.00 - ETA: 3s - loss: 2.6276e-05 - accuracy: 1.00 - ETA: 3s - loss: 2.6065e-05 - accuracy: 1.00 - ETA: 3s - loss: 2.5857e-05 - accuracy: 1.00 - ETA: 3s - loss: 2.5651e-05 - accuracy: 1.00 - ETA: 3s - loss: 2.5449e-05 - accuracy: 1.00 - ETA: 3s - loss: 2.5350e-05 - accuracy: 1.00 - ETA: 3s - loss: 2.5251e-05 - accuracy: 1.00 - ETA: 3s - loss: 2.5153e-05 - accuracy: 1.00 - ETA: 3s - loss: 2.5056e-05 - accuracy: 1.00 - ETA: 3s - loss: 2.4959e-05 - accuracy: 1.00 - ETA: 2s - loss: 2.4768e-05 - accuracy: 1.00 - ETA: 2s - loss: 2.4685e-05 - accuracy: 1.00 - ETA: 2s - loss: 2.4591e-05 - accuracy: 1.00 - ETA: 2s - loss: 2.4514e-05 - accuracy: 1.00 - ETA: 2s - loss: 2.4422e-05 - accuracy: 1.00 - ETA: 2s - loss: 2.4251e-05 - accuracy: 1.00 - ETA: 2s - loss: 2.4079e-05 - accuracy: 1.00 - ETA: 2s - loss: 2.3902e-05 - accuracy: 1.00 - ETA: 2s - loss: 2.3727e-05 - accuracy: 1.00 - ETA: 2s - loss: 2.3554e-05 - accuracy: 1.00 - ETA: 2s - loss: 2.3469e-05 - accuracy: 1.00 - ETA: 2s - loss: 2.3588e-05 - accuracy: 1.00 - ETA: 2s - loss: 2.3419e-05 - accuracy: 1.00 - ETA: 2s - loss: 2.3252e-05 - accuracy: 1.00 - ETA: 2s - loss: 2.3170e-05 - accuracy: 1.00 - ETA: 2s - loss: 2.3088e-05 - accuracy: 1.00 - ETA: 1s - loss: 2.2926e-05 - accuracy: 1.00 - ETA: 1s - loss: 2.2767e-05 - accuracy: 1.00 - ETA: 1s - loss: 2.2687e-05 - accuracy: 1.00 - ETA: 1s - loss: 2.2531e-05 - accuracy: 1.00 - ETA: 1s - loss: 2.2454e-05 - accuracy: 1.00 - ETA: 1s - loss: 2.2377e-05 - accuracy: 1.00 - ETA: 1s - loss: 2.2300e-05 - accuracy: 1.00 - ETA: 1s - loss: 2.2224e-05 - accuracy: 1.00 - ETA: 1s - loss: 2.2149e-05 - accuracy: 1.00 - ETA: 1s - loss: 2.2074e-05 - accuracy: 1.00 - ETA: 1s - loss: 2.2000e-05 - accuracy: 1.00 - ETA: 1s - loss: 2.1926e-05 - accuracy: 1.00 - ETA: 1s - loss: 3.7559e-05 - accuracy: 1.00 - ETA: 1s - loss: 3.7434e-05 - accuracy: 1.00 - ETA: 1s - loss: 3.7310e-05 - accuracy: 1.00 - ETA: 1s - loss: 3.7186e-05 - accuracy: 1.0000"
     ]
    },
    {
     "name": "stdout",
     "output_type": "stream",
     "text": [
      "1325/1325 [==============================] - ETA: 1s - loss: 3.7065e-05 - accuracy: 1.00 - ETA: 1s - loss: 3.6943e-05 - accuracy: 1.00 - ETA: 1s - loss: 3.6822e-05 - accuracy: 1.00 - ETA: 1s - loss: 3.6702e-05 - accuracy: 1.00 - ETA: 1s - loss: 3.6582e-05 - accuracy: 1.00 - ETA: 1s - loss: 3.6463e-05 - accuracy: 1.00 - ETA: 0s - loss: 3.6345e-05 - accuracy: 1.00 - ETA: 0s - loss: 3.7439e-05 - accuracy: 1.00 - ETA: 0s - loss: 3.8356e-05 - accuracy: 1.00 - ETA: 0s - loss: 3.8233e-05 - accuracy: 1.00 - ETA: 0s - loss: 3.8111e-05 - accuracy: 1.00 - ETA: 0s - loss: 3.7981e-05 - accuracy: 1.00 - ETA: 0s - loss: 3.7742e-05 - accuracy: 1.00 - ETA: 0s - loss: 3.7623e-05 - accuracy: 1.00 - ETA: 0s - loss: 3.7505e-05 - accuracy: 1.00 - ETA: 0s - loss: 3.7388e-05 - accuracy: 1.00 - ETA: 0s - loss: 3.7272e-05 - accuracy: 1.00 - ETA: 0s - loss: 3.7041e-05 - accuracy: 1.00 - ETA: 0s - loss: 3.6927e-05 - accuracy: 1.00 - ETA: 0s - loss: 3.6700e-05 - accuracy: 1.00 - ETA: 0s - loss: 3.6515e-05 - accuracy: 1.00 - ETA: 0s - loss: 3.6294e-05 - accuracy: 1.00 - 15s 11ms/step - loss: 3.6157e-05 - accuracy: 1.0000 - val_loss: 1.5116e-07 - val_accuracy: 1.0000\n",
      "Epoch 26/50\n"
     ]
    },
    {
     "name": "stdout",
     "output_type": "stream",
     "text": [
      "1325/1325 [==============================] - ETA: 12s - loss: 0.0000e+00 - accuracy: 1.000 - ETA: 12s - loss: 7.9473e-08 - accuracy: 1.000 - ETA: 12s - loss: 3.5167e-07 - accuracy: 1.000 - ETA: 12s - loss: 2.5545e-07 - accuracy: 1.000 - ETA: 12s - loss: 2.6059e-06 - accuracy: 1.000 - ETA: 11s - loss: 2.1321e-06 - accuracy: 1.000 - ETA: 11s - loss: 1.8408e-06 - accuracy: 1.000 - ETA: 11s - loss: 1.5954e-06 - accuracy: 1.000 - ETA: 11s - loss: 1.4077e-06 - accuracy: 1.000 - ETA: 11s - loss: 1.2595e-06 - accuracy: 1.000 - ETA: 11s - loss: 1.1424e-06 - accuracy: 1.000 - ETA: 11s - loss: 1.0430e-06 - accuracy: 1.000 - ETA: 11s - loss: 9.5960e-07 - accuracy: 1.000 - ETA: 11s - loss: 8.8852e-07 - accuracy: 1.000 - ETA: 11s - loss: 8.2724e-07 - accuracy: 1.000 - ETA: 11s - loss: 7.7483e-07 - accuracy: 1.000 - ETA: 11s - loss: 7.4413e-07 - accuracy: 1.000 - ETA: 11s - loss: 3.0820e-06 - accuracy: 1.000 - ETA: 11s - loss: 2.9154e-06 - accuracy: 1.000 - ETA: 11s - loss: 2.7667e-06 - accuracy: 1.000 - ETA: 11s - loss: 2.6317e-06 - accuracy: 1.000 - ETA: 11s - loss: 2.5093e-06 - accuracy: 1.000 - ETA: 10s - loss: 2.3978e-06 - accuracy: 1.000 - ETA: 10s - loss: 2.2957e-06 - accuracy: 1.000 - ETA: 10s - loss: 2.2172e-06 - accuracy: 1.000 - ETA: 10s - loss: 2.1303e-06 - accuracy: 1.000 - ETA: 10s - loss: 2.0499e-06 - accuracy: 1.000 - ETA: 10s - loss: 1.9754e-06 - accuracy: 1.000 - ETA: 10s - loss: 1.9060e-06 - accuracy: 1.000 - ETA: 10s - loss: 1.8414e-06 - accuracy: 1.000 - ETA: 10s - loss: 1.7811e-06 - accuracy: 1.000 - ETA: 10s - loss: 1.7245e-06 - accuracy: 1.000 - ETA: 10s - loss: 1.6715e-06 - accuracy: 1.000 - ETA: 10s - loss: 1.6216e-06 - accuracy: 1.000 - ETA: 10s - loss: 1.5746e-06 - accuracy: 1.000 - ETA: 9s - loss: 5.9504e-06 - accuracy: 1.000 - ETA: 9s - loss: 5.7874e-06 - accuracy: 1.00 - ETA: 9s - loss: 5.7074e-06 - accuracy: 1.00 - ETA: 9s - loss: 5.6133e-06 - accuracy: 1.00 - ETA: 9s - loss: 5.5413e-06 - accuracy: 1.00 - ETA: 9s - loss: 5.4028e-06 - accuracy: 1.00 - ETA: 9s - loss: 5.2710e-06 - accuracy: 1.00 - ETA: 9s - loss: 5.1455e-06 - accuracy: 1.00 - ETA: 9s - loss: 5.0259e-06 - accuracy: 1.00 - ETA: 9s - loss: 4.9232e-06 - accuracy: 1.00 - ETA: 9s - loss: 4.8138e-06 - accuracy: 1.00 - ETA: 9s - loss: 4.7101e-06 - accuracy: 1.00 - ETA: 9s - loss: 4.6099e-06 - accuracy: 1.00 - ETA: 9s - loss: 4.5138e-06 - accuracy: 1.00 - ETA: 9s - loss: 5.6688e-06 - accuracy: 1.00 - ETA: 8s - loss: 5.5555e-06 - accuracy: 1.00 - ETA: 8s - loss: 5.4465e-06 - accuracy: 1.00 - ETA: 8s - loss: 5.3418e-06 - accuracy: 1.00 - ETA: 8s - loss: 5.2410e-06 - accuracy: 1.00 - ETA: 8s - loss: 6.8376e-06 - accuracy: 1.00 - ETA: 8s - loss: 6.7133e-06 - accuracy: 1.00 - ETA: 8s - loss: 6.5934e-06 - accuracy: 1.00 - ETA: 8s - loss: 6.8213e-06 - accuracy: 1.00 - ETA: 8s - loss: 6.7037e-06 - accuracy: 1.00 - ETA: 8s - loss: 6.5900e-06 - accuracy: 1.00 - ETA: 8s - loss: 6.4802e-06 - accuracy: 1.00 - ETA: 8s - loss: 1.5198e-05 - accuracy: 1.00 - ETA: 7s - loss: 1.4953e-05 - accuracy: 1.00 - ETA: 7s - loss: 1.4715e-05 - accuracy: 1.00 - ETA: 7s - loss: 1.4485e-05 - accuracy: 1.00 - ETA: 7s - loss: 1.4262e-05 - accuracy: 1.00 - ETA: 7s - loss: 1.4046e-05 - accuracy: 1.00 - ETA: 7s - loss: 1.3857e-05 - accuracy: 1.00 - ETA: 7s - loss: 1.3653e-05 - accuracy: 1.00 - ETA: 7s - loss: 1.3457e-05 - accuracy: 1.00 - ETA: 7s - loss: 1.3265e-05 - accuracy: 1.00 - ETA: 7s - loss: 1.3079e-05 - accuracy: 1.00 - ETA: 7s - loss: 1.2906e-05 - accuracy: 1.00 - ETA: 7s - loss: 1.2729e-05 - accuracy: 1.00 - ETA: 7s - loss: 1.2557e-05 - accuracy: 1.00 - ETA: 6s - loss: 1.2390e-05 - accuracy: 1.00 - ETA: 6s - loss: 1.2227e-05 - accuracy: 1.00 - ETA: 6s - loss: 1.2068e-05 - accuracy: 1.00 - ETA: 6s - loss: 1.1913e-05 - accuracy: 1.00 - ETA: 6s - loss: 1.1762e-05 - accuracy: 1.00 - ETA: 6s - loss: 1.1615e-05 - accuracy: 1.00 - ETA: 6s - loss: 1.1474e-05 - accuracy: 1.00 - ETA: 6s - loss: 1.1334e-05 - accuracy: 1.00 - ETA: 6s - loss: 1.1197e-05 - accuracy: 1.00 - ETA: 6s - loss: 1.1064e-05 - accuracy: 1.00 - ETA: 6s - loss: 1.1038e-05 - accuracy: 1.00 - ETA: 6s - loss: 1.2286e-05 - accuracy: 1.00 - ETA: 6s - loss: 1.2144e-05 - accuracy: 1.00 - ETA: 5s - loss: 1.2007e-05 - accuracy: 1.00 - ETA: 5s - loss: 1.1945e-05 - accuracy: 1.00 - ETA: 5s - loss: 1.1812e-05 - accuracy: 1.00 - ETA: 5s - loss: 1.1682e-05 - accuracy: 1.00 - ETA: 5s - loss: 1.1555e-05 - accuracy: 1.00 - ETA: 5s - loss: 1.1431e-05 - accuracy: 1.00 - ETA: 5s - loss: 1.1309e-05 - accuracy: 1.00 - ETA: 5s - loss: 1.1190e-05 - accuracy: 1.00 - ETA: 5s - loss: 1.2252e-05 - accuracy: 1.00 - ETA: 5s - loss: 1.2125e-05 - accuracy: 1.00 - ETA: 5s - loss: 1.2002e-05 - accuracy: 1.00 - ETA: 5s - loss: 1.1880e-05 - accuracy: 1.00 - ETA: 5s - loss: 1.1762e-05 - accuracy: 1.00 - ETA: 4s - loss: 1.1645e-05 - accuracy: 1.00 - ETA: 4s - loss: 3.6979e-05 - accuracy: 1.00 - ETA: 4s - loss: 3.6621e-05 - accuracy: 1.00 - ETA: 4s - loss: 3.6270e-05 - accuracy: 1.00 - ETA: 4s - loss: 0.0078 - accuracy: 0.9988   - ETA: 4s - loss: 0.0077 - accuracy: 0.99 - ETA: 4s - loss: 0.0077 - accuracy: 0.99 - ETA: 4s - loss: 0.0076 - accuracy: 0.99 - ETA: 4s - loss: 0.0075 - accuracy: 0.99 - ETA: 4s - loss: 0.0075 - accuracy: 0.99 - ETA: 4s - loss: 0.0074 - accuracy: 0.99 - ETA: 4s - loss: 0.0073 - accuracy: 0.99 - ETA: 4s - loss: 0.0073 - accuracy: 0.99 - ETA: 3s - loss: 0.0072 - accuracy: 0.99 - ETA: 3s - loss: 0.0077 - accuracy: 0.99 - ETA: 3s - loss: 0.0076 - accuracy: 0.99 - ETA: 3s - loss: 0.0133 - accuracy: 0.99 - ETA: 3s - loss: 0.0132 - accuracy: 0.99 - ETA: 3s - loss: 0.0131 - accuracy: 0.99 - ETA: 3s - loss: 0.0130 - accuracy: 0.99 - ETA: 3s - loss: 0.0129 - accuracy: 0.99 - ETA: 3s - loss: 0.0128 - accuracy: 0.99 - ETA: 3s - loss: 0.0127 - accuracy: 0.99 - ETA: 3s - loss: 0.0126 - accuracy: 0.99 - ETA: 3s - loss: 0.0183 - accuracy: 0.99 - ETA: 3s - loss: 0.0181 - accuracy: 0.99 - ETA: 2s - loss: 0.0180 - accuracy: 0.99 - ETA: 2s - loss: 0.0178 - accuracy: 0.99 - ETA: 2s - loss: 0.0177 - accuracy: 0.99 - ETA: 2s - loss: 0.0176 - accuracy: 0.99 - ETA: 2s - loss: 0.0175 - accuracy: 0.99 - ETA: 2s - loss: 0.0213 - accuracy: 0.99 - ETA: 2s - loss: 0.0211 - accuracy: 0.99 - ETA: 2s - loss: 0.0212 - accuracy: 0.99 - ETA: 2s - loss: 0.0210 - accuracy: 0.99 - ETA: 2s - loss: 0.0210 - accuracy: 0.99 - ETA: 2s - loss: 0.0209 - accuracy: 0.99 - ETA: 2s - loss: 0.0211 - accuracy: 0.99 - ETA: 2s - loss: 0.0209 - accuracy: 0.99 - ETA: 1s - loss: 0.0208 - accuracy: 0.99 - ETA: 1s - loss: 0.0207 - accuracy: 0.99 - ETA: 1s - loss: 0.0205 - accuracy: 0.99 - ETA: 1s - loss: 0.0205 - accuracy: 0.99 - ETA: 1s - loss: 0.0205 - accuracy: 0.99 - ETA: 1s - loss: 0.0204 - accuracy: 0.99 - ETA: 1s - loss: 0.0202 - accuracy: 0.99 - ETA: 1s - loss: 0.0201 - accuracy: 0.99 - ETA: 1s - loss: 0.0200 - accuracy: 0.99 - ETA: 1s - loss: 0.0198 - accuracy: 0.99 - ETA: 1s - loss: 0.0197 - accuracy: 0.99 - ETA: 1s - loss: 0.0196 - accuracy: 0.99 - ETA: 1s - loss: 0.0194 - accuracy: 0.99 - ETA: 0s - loss: 0.0193 - accuracy: 0.99 - ETA: 0s - loss: 0.0192 - accuracy: 0.99 - ETA: 0s - loss: 0.0228 - accuracy: 0.99 - ETA: 0s - loss: 0.0227 - accuracy: 0.99 - ETA: 0s - loss: 0.0225 - accuracy: 0.99 - ETA: 0s - loss: 0.0224 - accuracy: 0.99 - ETA: 0s - loss: 0.0223 - accuracy: 0.99 - ETA: 0s - loss: 0.0222 - accuracy: 0.99 - ETA: 0s - loss: 0.0222 - accuracy: 0.99 - ETA: 0s - loss: 0.0222 - accuracy: 0.99 - ETA: 0s - loss: 0.0221 - accuracy: 0.99 - ETA: 0s - loss: 0.0221 - accuracy: 0.99 - ETA: 0s - loss: 0.0220 - accuracy: 0.99 - ETA: 0s - loss: 0.0220 - accuracy: 0.99 - 13s 10ms/step - loss: 0.0219 - accuracy: 0.9962 - val_loss: 0.0060 - val_accuracy: 0.9970\n",
      "Epoch 27/50\n"
     ]
    },
    {
     "name": "stdout",
     "output_type": "stream",
     "text": [
      "1325/1325 [==============================] - ETA: 11s - loss: 0.0000e+00 - accuracy: 1.000 - ETA: 12s - loss: 7.9570e-06 - accuracy: 1.000 - ETA: 12s - loss: 4.7742e-06 - accuracy: 1.000 - ETA: 12s - loss: 4.4234e-06 - accuracy: 1.000 - ETA: 12s - loss: 3.7616e-06 - accuracy: 1.000 - ETA: 12s - loss: 3.4380e-06 - accuracy: 1.000 - ETA: 12s - loss: 2.9091e-06 - accuracy: 1.000 - ETA: 12s - loss: 4.9236e-06 - accuracy: 1.000 - ETA: 12s - loss: 2.0175e-04 - accuracy: 1.000 - ETA: 12s - loss: 1.7934e-04 - accuracy: 1.000 - ETA: 12s - loss: 1.8491e-04 - accuracy: 1.000 - ETA: 12s - loss: 1.7060e-04 - accuracy: 1.000 - ETA: 12s - loss: 1.9732e-04 - accuracy: 1.000 - ETA: 12s - loss: 1.8370e-04 - accuracy: 1.000 - ETA: 12s - loss: 0.0049 - accuracy: 1.0000    - ETA: 12s - loss: 0.0046 - accuracy: 1.000 - ETA: 12s - loss: 0.0043 - accuracy: 1.000 - ETA: 12s - loss: 0.0041 - accuracy: 1.000 - ETA: 12s - loss: 0.0039 - accuracy: 1.000 - ETA: 12s - loss: 0.0037 - accuracy: 1.000 - ETA: 11s - loss: 0.0035 - accuracy: 1.000 - ETA: 11s - loss: 0.0034 - accuracy: 1.000 - ETA: 11s - loss: 0.0032 - accuracy: 1.000 - ETA: 11s - loss: 0.0036 - accuracy: 1.000 - ETA: 11s - loss: 0.0034 - accuracy: 1.000 - ETA: 11s - loss: 0.0033 - accuracy: 1.000 - ETA: 11s - loss: 0.0032 - accuracy: 1.000 - ETA: 11s - loss: 0.0030 - accuracy: 1.000 - ETA: 11s - loss: 0.0029 - accuracy: 1.000 - ETA: 11s - loss: 0.0028 - accuracy: 1.000 - ETA: 10s - loss: 0.0027 - accuracy: 1.000 - ETA: 10s - loss: 0.0026 - accuracy: 1.000 - ETA: 10s - loss: 0.0026 - accuracy: 1.000 - ETA: 10s - loss: 0.0025 - accuracy: 1.000 - ETA: 10s - loss: 0.0024 - accuracy: 1.000 - ETA: 10s - loss: 0.0023 - accuracy: 1.000 - ETA: 10s - loss: 0.0023 - accuracy: 1.000 - ETA: 10s - loss: 0.0022 - accuracy: 1.000 - ETA: 10s - loss: 0.0022 - accuracy: 1.000 - ETA: 10s - loss: 0.0021 - accuracy: 1.000 - ETA: 10s - loss: 0.0020 - accuracy: 1.000 - ETA: 9s - loss: 0.0020 - accuracy: 1.000 - ETA: 9s - loss: 0.0019 - accuracy: 1.00 - ETA: 9s - loss: 0.0019 - accuracy: 1.00 - ETA: 9s - loss: 0.0019 - accuracy: 1.00 - ETA: 9s - loss: 0.0018 - accuracy: 1.00 - ETA: 9s - loss: 0.0018 - accuracy: 1.00 - ETA: 9s - loss: 0.0017 - accuracy: 1.00 - ETA: 9s - loss: 0.0017 - accuracy: 1.00 - ETA: 9s - loss: 0.0017 - accuracy: 1.00 - ETA: 9s - loss: 0.0016 - accuracy: 1.00 - ETA: 9s - loss: 0.0016 - accuracy: 1.00 - ETA: 9s - loss: 0.0016 - accuracy: 1.00 - ETA: 8s - loss: 0.0015 - accuracy: 1.00 - ETA: 8s - loss: 0.0015 - accuracy: 1.00 - ETA: 8s - loss: 0.0015 - accuracy: 1.00 - ETA: 8s - loss: 0.0015 - accuracy: 1.00 - ETA: 8s - loss: 0.0014 - accuracy: 1.00 - ETA: 8s - loss: 0.0014 - accuracy: 1.00 - ETA: 8s - loss: 0.0014 - accuracy: 1.00 - ETA: 8s - loss: 0.0014 - accuracy: 1.00 - ETA: 8s - loss: 0.0013 - accuracy: 1.00 - ETA: 8s - loss: 0.0013 - accuracy: 1.00 - ETA: 8s - loss: 0.0013 - accuracy: 1.00 - ETA: 8s - loss: 0.0013 - accuracy: 1.00 - ETA: 7s - loss: 0.0013 - accuracy: 1.00 - ETA: 7s - loss: 0.0013 - accuracy: 1.00 - ETA: 7s - loss: 0.0012 - accuracy: 1.00 - ETA: 7s - loss: 0.0012 - accuracy: 1.00 - ETA: 7s - loss: 0.0057 - accuracy: 0.99 - ETA: 7s - loss: 0.0056 - accuracy: 0.99 - ETA: 7s - loss: 0.0055 - accuracy: 0.99 - ETA: 7s - loss: 0.0054 - accuracy: 0.99 - ETA: 7s - loss: 0.0057 - accuracy: 0.99 - ETA: 7s - loss: 0.0056 - accuracy: 0.99 - ETA: 7s - loss: 0.0055 - accuracy: 0.99 - ETA: 7s - loss: 0.0197 - accuracy: 0.99 - ETA: 6s - loss: 0.0195 - accuracy: 0.99 - ETA: 6s - loss: 0.0192 - accuracy: 0.99 - ETA: 6s - loss: 0.0190 - accuracy: 0.99 - ETA: 6s - loss: 0.0187 - accuracy: 0.99 - ETA: 6s - loss: 0.0185 - accuracy: 0.99 - ETA: 6s - loss: 0.0183 - accuracy: 0.99 - ETA: 6s - loss: 0.0182 - accuracy: 0.99 - ETA: 6s - loss: 0.0179 - accuracy: 0.99 - ETA: 6s - loss: 0.0177 - accuracy: 0.99 - ETA: 6s - loss: 0.0175 - accuracy: 0.99 - ETA: 6s - loss: 0.0173 - accuracy: 0.99 - ETA: 6s - loss: 0.0171 - accuracy: 0.99 - ETA: 6s - loss: 0.0169 - accuracy: 0.99 - ETA: 6s - loss: 0.0167 - accuracy: 0.99 - ETA: 5s - loss: 0.0165 - accuracy: 0.99 - ETA: 5s - loss: 0.0164 - accuracy: 0.99 - ETA: 5s - loss: 0.0162 - accuracy: 0.99 - ETA: 5s - loss: 0.0160 - accuracy: 0.99 - ETA: 5s - loss: 0.0158 - accuracy: 0.99 - ETA: 5s - loss: 0.0160 - accuracy: 0.99 - ETA: 5s - loss: 0.0159 - accuracy: 0.99 - ETA: 5s - loss: 0.0157 - accuracy: 0.99 - ETA: 5s - loss: 0.0156 - accuracy: 0.99 - ETA: 5s - loss: 0.0154 - accuracy: 0.99 - ETA: 5s - loss: 0.0153 - accuracy: 0.99 - ETA: 5s - loss: 0.0151 - accuracy: 0.99 - ETA: 4s - loss: 0.0150 - accuracy: 0.99 - ETA: 4s - loss: 0.0148 - accuracy: 0.99 - ETA: 4s - loss: 0.0147 - accuracy: 0.99 - ETA: 4s - loss: 0.0145 - accuracy: 0.99 - ETA: 4s - loss: 0.0144 - accuracy: 0.99 - ETA: 4s - loss: 0.0143 - accuracy: 0.99 - ETA: 4s - loss: 0.0142 - accuracy: 0.99 - ETA: 4s - loss: 0.0140 - accuracy: 0.99 - ETA: 4s - loss: 0.0150 - accuracy: 0.99 - ETA: 4s - loss: 0.0148 - accuracy: 0.99 - ETA: 4s - loss: 0.0147 - accuracy: 0.99 - ETA: 4s - loss: 0.0146 - accuracy: 0.99 - ETA: 4s - loss: 0.0144 - accuracy: 0.99 - ETA: 3s - loss: 0.0143 - accuracy: 0.99 - ETA: 3s - loss: 0.0142 - accuracy: 0.99 - ETA: 3s - loss: 0.0151 - accuracy: 0.99 - ETA: 3s - loss: 0.0273 - accuracy: 0.99 - ETA: 3s - loss: 0.0271 - accuracy: 0.99 - ETA: 3s - loss: 0.0269 - accuracy: 0.99 - ETA: 3s - loss: 0.0267 - accuracy: 0.99 - ETA: 3s - loss: 0.0264 - accuracy: 0.99 - ETA: 3s - loss: 0.0262 - accuracy: 0.99 - ETA: 3s - loss: 0.0279 - accuracy: 0.99 - ETA: 3s - loss: 0.0277 - accuracy: 0.99 - ETA: 3s - loss: 0.0275 - accuracy: 0.99 - ETA: 3s - loss: 0.0273 - accuracy: 0.99 - ETA: 2s - loss: 0.0271 - accuracy: 0.99 - ETA: 2s - loss: 0.0269 - accuracy: 0.99 - ETA: 2s - loss: 0.0268 - accuracy: 0.99 - ETA: 2s - loss: 0.0266 - accuracy: 0.99 - ETA: 2s - loss: 0.0264 - accuracy: 0.99 - ETA: 2s - loss: 0.0307 - accuracy: 0.99 - ETA: 2s - loss: 0.0304 - accuracy: 0.99 - ETA: 2s - loss: 0.0302 - accuracy: 0.99 - ETA: 2s - loss: 0.0300 - accuracy: 0.99 - ETA: 2s - loss: 0.0298 - accuracy: 0.99 - ETA: 2s - loss: 0.0296 - accuracy: 0.99 - ETA: 2s - loss: 0.0294 - accuracy: 0.99 - ETA: 1s - loss: 0.0291 - accuracy: 0.99 - ETA: 1s - loss: 0.0289 - accuracy: 0.99 - ETA: 1s - loss: 0.0287 - accuracy: 0.99 - ETA: 1s - loss: 0.0285 - accuracy: 0.99 - ETA: 1s - loss: 0.0283 - accuracy: 0.99 - ETA: 1s - loss: 0.0283 - accuracy: 0.99 - ETA: 1s - loss: 0.0281 - accuracy: 0.99 - ETA: 1s - loss: 0.0279 - accuracy: 0.99 - ETA: 1s - loss: 0.0302 - accuracy: 0.99 - ETA: 1s - loss: 0.0300 - accuracy: 0.99 - ETA: 1s - loss: 0.0298 - accuracy: 0.99 - ETA: 1s - loss: 0.0296 - accuracy: 0.99 - ETA: 1s - loss: 0.0294 - accuracy: 0.99 - ETA: 0s - loss: 0.0293 - accuracy: 0.99 - ETA: 0s - loss: 0.0438 - accuracy: 0.99 - ETA: 0s - loss: 0.0449 - accuracy: 0.99 - ETA: 0s - loss: 0.0448 - accuracy: 0.99 - ETA: 0s - loss: 0.0445 - accuracy: 0.99 - ETA: 0s - loss: 0.0445 - accuracy: 0.99 - ETA: 0s - loss: 0.0442 - accuracy: 0.99 - ETA: 0s - loss: 0.0443 - accuracy: 0.99 - ETA: 0s - loss: 0.0440 - accuracy: 0.99 - ETA: 0s - loss: 0.0438 - accuracy: 0.99 - ETA: 0s - loss: 0.0453 - accuracy: 0.99 - ETA: 0s - loss: 0.0450 - accuracy: 0.99 - ETA: 0s - loss: 0.0448 - accuracy: 0.99 - 13s 10ms/step - loss: 0.0450 - accuracy: 0.9917 - val_loss: 8.4898e-05 - val_accuracy: 1.0000\n",
      "Epoch 28/50\n"
     ]
    },
    {
     "name": "stdout",
     "output_type": "stream",
     "text": [
      "1325/1325 [==============================] - ETA: 12s - loss: 0.0000e+00 - accuracy: 1.000 - ETA: 12s - loss: 2.5511e-04 - accuracy: 1.000 - ETA: 12s - loss: 1.5310e-04 - accuracy: 1.000 - ETA: 13s - loss: 0.0085 - accuracy: 1.0000    - ETA: 12s - loss: 0.0109 - accuracy: 1.000 - ETA: 12s - loss: 0.0089 - accuracy: 1.000 - ETA: 12s - loss: 0.0076 - accuracy: 1.000 - ETA: 12s - loss: 0.0066 - accuracy: 1.000 - ETA: 12s - loss: 0.0235 - accuracy: 0.985 - ETA: 12s - loss: 0.0210 - accuracy: 0.986 - ETA: 12s - loss: 0.0190 - accuracy: 0.988 - ETA: 12s - loss: 0.0203 - accuracy: 0.989 - ETA: 12s - loss: 0.0187 - accuracy: 0.990 - ETA: 11s - loss: 0.0173 - accuracy: 0.990 - ETA: 12s - loss: 0.0167 - accuracy: 0.991 - ETA: 12s - loss: 0.0161 - accuracy: 0.991 - ETA: 11s - loss: 0.0151 - accuracy: 0.992 - ETA: 11s - loss: 0.0142 - accuracy: 0.992 - ETA: 11s - loss: 0.0134 - accuracy: 0.993 - ETA: 11s - loss: 0.0127 - accuracy: 0.993 - ETA: 11s - loss: 0.0121 - accuracy: 0.993 - ETA: 11s - loss: 0.0115 - accuracy: 0.994 - ETA: 11s - loss: 0.0110 - accuracy: 0.994 - ETA: 11s - loss: 0.0105 - accuracy: 0.994 - ETA: 11s - loss: 0.0117 - accuracy: 0.994 - ETA: 11s - loss: 0.0113 - accuracy: 0.995 - ETA: 10s - loss: 0.0108 - accuracy: 0.995 - ETA: 10s - loss: 0.0126 - accuracy: 0.995 - ETA: 10s - loss: 0.0121 - accuracy: 0.995 - ETA: 10s - loss: 0.0117 - accuracy: 0.995 - ETA: 10s - loss: 0.0113 - accuracy: 0.995 - ETA: 10s - loss: 0.0110 - accuracy: 0.996 - ETA: 10s - loss: 0.0109 - accuracy: 0.996 - ETA: 10s - loss: 0.0106 - accuracy: 0.996 - ETA: 10s - loss: 0.0102 - accuracy: 0.996 - ETA: 10s - loss: 0.0100 - accuracy: 0.996 - ETA: 10s - loss: 0.0097 - accuracy: 0.996 - ETA: 10s - loss: 0.0094 - accuracy: 0.996 - ETA: 9s - loss: 0.0092 - accuracy: 0.996 - ETA: 9s - loss: 0.0089 - accuracy: 0.99 - ETA: 9s - loss: 0.0087 - accuracy: 0.99 - ETA: 9s - loss: 0.0085 - accuracy: 0.99 - ETA: 9s - loss: 0.0083 - accuracy: 0.99 - ETA: 9s - loss: 0.0081 - accuracy: 0.99 - ETA: 9s - loss: 0.0079 - accuracy: 0.99 - ETA: 9s - loss: 0.0078 - accuracy: 0.99 - ETA: 9s - loss: 0.0076 - accuracy: 0.99 - ETA: 9s - loss: 0.0074 - accuracy: 0.99 - ETA: 9s - loss: 0.0073 - accuracy: 0.99 - ETA: 9s - loss: 0.0072 - accuracy: 0.99 - ETA: 9s - loss: 0.0071 - accuracy: 0.99 - ETA: 9s - loss: 0.0070 - accuracy: 0.99 - ETA: 8s - loss: 0.0069 - accuracy: 0.99 - ETA: 8s - loss: 0.0067 - accuracy: 0.99 - ETA: 8s - loss: 0.0066 - accuracy: 0.99 - ETA: 8s - loss: 0.0074 - accuracy: 0.99 - ETA: 8s - loss: 0.0072 - accuracy: 0.99 - ETA: 8s - loss: 0.0071 - accuracy: 0.99 - ETA: 8s - loss: 0.0070 - accuracy: 0.99 - ETA: 8s - loss: 0.0069 - accuracy: 0.99 - ETA: 8s - loss: 0.0068 - accuracy: 0.99 - ETA: 8s - loss: 0.0067 - accuracy: 0.99 - ETA: 8s - loss: 0.0066 - accuracy: 0.99 - ETA: 8s - loss: 0.0067 - accuracy: 0.99 - ETA: 8s - loss: 0.0066 - accuracy: 0.99 - ETA: 7s - loss: 0.0065 - accuracy: 0.99 - ETA: 7s - loss: 0.0064 - accuracy: 0.99 - ETA: 7s - loss: 0.0063 - accuracy: 0.99 - ETA: 7s - loss: 0.0091 - accuracy: 0.99 - ETA: 7s - loss: 0.0090 - accuracy: 0.99 - ETA: 7s - loss: 0.0089 - accuracy: 0.99 - ETA: 7s - loss: 0.0095 - accuracy: 0.99 - ETA: 7s - loss: 0.0094 - accuracy: 0.99 - ETA: 7s - loss: 0.0093 - accuracy: 0.99 - ETA: 7s - loss: 0.0091 - accuracy: 0.99 - ETA: 7s - loss: 0.0090 - accuracy: 0.99 - ETA: 7s - loss: 0.0089 - accuracy: 0.99 - ETA: 6s - loss: 0.0088 - accuracy: 0.99 - ETA: 6s - loss: 0.0087 - accuracy: 0.99 - ETA: 6s - loss: 0.0085 - accuracy: 0.99 - ETA: 6s - loss: 0.0084 - accuracy: 0.99 - ETA: 6s - loss: 0.0083 - accuracy: 0.99 - ETA: 6s - loss: 0.0082 - accuracy: 0.99 - ETA: 6s - loss: 0.0081 - accuracy: 0.99 - ETA: 6s - loss: 0.0080 - accuracy: 0.99 - ETA: 6s - loss: 0.0080 - accuracy: 0.99 - ETA: 6s - loss: 0.0079 - accuracy: 0.99 - ETA: 6s - loss: 0.0078 - accuracy: 0.99 - ETA: 6s - loss: 0.0077 - accuracy: 0.99 - ETA: 6s - loss: 0.0080 - accuracy: 0.99 - ETA: 5s - loss: 0.0079 - accuracy: 0.99 - ETA: 5s - loss: 0.0079 - accuracy: 0.99 - ETA: 5s - loss: 0.0078 - accuracy: 0.99 - ETA: 5s - loss: 0.0077 - accuracy: 0.99 - ETA: 5s - loss: 0.0076 - accuracy: 0.99 - ETA: 5s - loss: 0.0076 - accuracy: 0.99 - ETA: 5s - loss: 0.0075 - accuracy: 0.99 - ETA: 5s - loss: 0.0079 - accuracy: 0.99 - ETA: 5s - loss: 0.0079 - accuracy: 0.99 - ETA: 5s - loss: 0.0078 - accuracy: 0.99 - ETA: 5s - loss: 0.0077 - accuracy: 0.99 - ETA: 5s - loss: 0.0076 - accuracy: 0.99 - ETA: 5s - loss: 0.0075 - accuracy: 0.99 - ETA: 5s - loss: 0.0075 - accuracy: 0.99 - ETA: 4s - loss: 0.0074 - accuracy: 0.99 - ETA: 4s - loss: 0.0073 - accuracy: 0.99 - ETA: 4s - loss: 0.0073 - accuracy: 0.99 - ETA: 4s - loss: 0.0072 - accuracy: 0.99 - ETA: 4s - loss: 0.0075 - accuracy: 0.99 - ETA: 4s - loss: 0.0075 - accuracy: 0.99 - ETA: 4s - loss: 0.0074 - accuracy: 0.99 - ETA: 4s - loss: 0.0073 - accuracy: 0.99 - ETA: 4s - loss: 0.0073 - accuracy: 0.99 - ETA: 4s - loss: 0.0072 - accuracy: 0.99 - ETA: 4s - loss: 0.0071 - accuracy: 0.99 - ETA: 4s - loss: 0.0071 - accuracy: 0.99 - ETA: 4s - loss: 0.0070 - accuracy: 0.99 - ETA: 3s - loss: 0.0070 - accuracy: 0.99 - ETA: 3s - loss: 0.0070 - accuracy: 0.99 - ETA: 3s - loss: 0.0069 - accuracy: 0.99 - ETA: 3s - loss: 0.0069 - accuracy: 0.99 - ETA: 3s - loss: 0.0068 - accuracy: 0.99 - ETA: 3s - loss: 0.0068 - accuracy: 0.99 - ETA: 3s - loss: 0.0067 - accuracy: 0.99 - ETA: 3s - loss: 0.0067 - accuracy: 0.99 - ETA: 3s - loss: 0.0066 - accuracy: 0.99 - ETA: 3s - loss: 0.0065 - accuracy: 0.99 - ETA: 3s - loss: 0.0065 - accuracy: 0.99 - ETA: 3s - loss: 0.0064 - accuracy: 0.99 - ETA: 3s - loss: 0.0064 - accuracy: 0.99 - ETA: 2s - loss: 0.0063 - accuracy: 0.99 - ETA: 2s - loss: 0.0063 - accuracy: 0.99 - ETA: 2s - loss: 0.0063 - accuracy: 0.99 - ETA: 2s - loss: 0.0062 - accuracy: 0.99 - ETA: 2s - loss: 0.0062 - accuracy: 0.99 - ETA: 2s - loss: 0.0061 - accuracy: 0.99 - ETA: 2s - loss: 0.0061 - accuracy: 0.99 - ETA: 2s - loss: 0.0060 - accuracy: 0.99 - ETA: 2s - loss: 0.0060 - accuracy: 0.99 - ETA: 2s - loss: 0.0060 - accuracy: 0.99 - ETA: 2s - loss: 0.0059 - accuracy: 0.99 - ETA: 2s - loss: 0.0059 - accuracy: 0.99 - ETA: 2s - loss: 0.0058 - accuracy: 0.99 - ETA: 1s - loss: 0.0058 - accuracy: 0.99 - ETA: 1s - loss: 0.0058 - accuracy: 0.99 - ETA: 1s - loss: 0.0057 - accuracy: 0.99 - ETA: 1s - loss: 0.0057 - accuracy: 0.99 - ETA: 1s - loss: 0.0056 - accuracy: 0.99 - ETA: 1s - loss: 0.0056 - accuracy: 0.99 - ETA: 1s - loss: 0.0056 - accuracy: 0.99 - ETA: 1s - loss: 0.0055 - accuracy: 0.99 - ETA: 1s - loss: 0.0055 - accuracy: 0.99 - ETA: 1s - loss: 0.0055 - accuracy: 0.99 - ETA: 1s - loss: 0.0054 - accuracy: 0.99 - ETA: 1s - loss: 0.0054 - accuracy: 0.99 - ETA: 0s - loss: 0.0054 - accuracy: 0.99 - ETA: 0s - loss: 0.0053 - accuracy: 0.99 - ETA: 0s - loss: 0.0053 - accuracy: 0.99 - ETA: 0s - loss: 0.0053 - accuracy: 0.99 - ETA: 0s - loss: 0.0052 - accuracy: 0.99 - ETA: 0s - loss: 0.0052 - accuracy: 0.99 - ETA: 0s - loss: 0.0054 - accuracy: 0.99 - ETA: 0s - loss: 0.0053 - accuracy: 0.99 - ETA: 0s - loss: 0.0053 - accuracy: 0.99 - ETA: 0s - loss: 0.0053 - accuracy: 0.99 - ETA: 0s - loss: 0.0052 - accuracy: 0.99 - ETA: 0s - loss: 0.0052 - accuracy: 0.99 - ETA: 0s - loss: 0.0052 - accuracy: 0.99 - ETA: 0s - loss: 0.0051 - accuracy: 0.99 - 14s 10ms/step - loss: 0.0051 - accuracy: 0.9985 - val_loss: 7.1813e-10 - val_accuracy: 1.0000\n",
      "Epoch 29/50\n"
     ]
    },
    {
     "name": "stdout",
     "output_type": "stream",
     "text": [
      "1325/1325 [==============================] - ETA: 11s - loss: 0.0000e+00 - accuracy: 1.000 - ETA: 11s - loss: 0.0000e+00 - accuracy: 1.000 - ETA: 11s - loss: 1.3242e-05 - accuracy: 1.000 - ETA: 11s - loss: 9.4589e-06 - accuracy: 1.000 - ETA: 11s - loss: 7.3569e-06 - accuracy: 1.000 - ETA: 11s - loss: 6.0193e-06 - accuracy: 1.000 - ETA: 11s - loss: 5.0932e-06 - accuracy: 1.000 - ETA: 11s - loss: 4.4141e-06 - accuracy: 1.000 - ETA: 11s - loss: 3.8948e-06 - accuracy: 1.000 - ETA: 11s - loss: 3.4848e-06 - accuracy: 1.000 - ETA: 11s - loss: 3.1530e-06 - accuracy: 1.000 - ETA: 11s - loss: 2.8788e-06 - accuracy: 1.000 - ETA: 11s - loss: 2.6497e-06 - accuracy: 1.000 - ETA: 11s - loss: 2.4534e-06 - accuracy: 1.000 - ETA: 11s - loss: 2.2852e-06 - accuracy: 1.000 - ETA: 11s - loss: 6.8144e-06 - accuracy: 1.000 - ETA: 11s - loss: 6.4014e-06 - accuracy: 1.000 - ETA: 11s - loss: 6.0356e-06 - accuracy: 1.000 - ETA: 11s - loss: 6.8418e-06 - accuracy: 1.000 - ETA: 11s - loss: 6.5001e-06 - accuracy: 1.000 - ETA: 11s - loss: 6.1830e-06 - accuracy: 1.000 - ETA: 10s - loss: 5.8954e-06 - accuracy: 1.000 - ETA: 10s - loss: 5.6334e-06 - accuracy: 1.000 - ETA: 10s - loss: 5.3937e-06 - accuracy: 1.000 - ETA: 10s - loss: 5.1735e-06 - accuracy: 1.000 - ETA: 10s - loss: 4.9824e-06 - accuracy: 1.000 - ETA: 10s - loss: 4.7943e-06 - accuracy: 1.000 - ETA: 10s - loss: 4.6200e-06 - accuracy: 1.000 - ETA: 10s - loss: 4.4579e-06 - accuracy: 1.000 - ETA: 10s - loss: 7.4339e-06 - accuracy: 1.000 - ETA: 10s - loss: 7.1901e-06 - accuracy: 1.000 - ETA: 10s - loss: 6.9619e-06 - accuracy: 1.000 - ETA: 10s - loss: 6.7559e-06 - accuracy: 1.000 - ETA: 10s - loss: 6.5542e-06 - accuracy: 1.000 - ETA: 10s - loss: 6.3643e-06 - accuracy: 1.000 - ETA: 9s - loss: 6.1850e-06 - accuracy: 1.000 - ETA: 9s - loss: 6.0155e-06 - accuracy: 1.00 - ETA: 9s - loss: 5.8551e-06 - accuracy: 1.00 - ETA: 9s - loss: 5.7030e-06 - accuracy: 1.00 - ETA: 9s - loss: 5.5587e-06 - accuracy: 1.00 - ETA: 9s - loss: 5.4214e-06 - accuracy: 1.00 - ETA: 9s - loss: 5.2908e-06 - accuracy: 1.00 - ETA: 9s - loss: 7.5313e-06 - accuracy: 1.00 - ETA: 9s - loss: 7.3582e-06 - accuracy: 1.00 - ETA: 9s - loss: 7.5199e-06 - accuracy: 1.00 - ETA: 9s - loss: 9.2291e-05 - accuracy: 1.00 - ETA: 9s - loss: 9.0425e-05 - accuracy: 1.00 - ETA: 9s - loss: 8.8521e-05 - accuracy: 1.00 - ETA: 8s - loss: 8.6706e-05 - accuracy: 1.00 - ETA: 8s - loss: 8.5183e-05 - accuracy: 1.00 - ETA: 8s - loss: 8.3496e-05 - accuracy: 1.00 - ETA: 8s - loss: 8.1875e-05 - accuracy: 1.00 - ETA: 8s - loss: 8.0315e-05 - accuracy: 1.00 - ETA: 8s - loss: 7.8814e-05 - accuracy: 1.00 - ETA: 8s - loss: 7.7368e-05 - accuracy: 1.00 - ETA: 8s - loss: 7.6031e-05 - accuracy: 1.00 - ETA: 8s - loss: 7.4685e-05 - accuracy: 1.00 - ETA: 8s - loss: 7.3386e-05 - accuracy: 1.00 - ETA: 8s - loss: 7.2132e-05 - accuracy: 1.00 - ETA: 8s - loss: 7.0924e-05 - accuracy: 1.00 - ETA: 8s - loss: 6.9752e-05 - accuracy: 1.00 - ETA: 7s - loss: 1.3017e-04 - accuracy: 1.00 - ETA: 7s - loss: 4.4033e-04 - accuracy: 1.00 - ETA: 7s - loss: 4.3339e-04 - accuracy: 1.00 - ETA: 7s - loss: 4.2667e-04 - accuracy: 1.00 - ETA: 7s - loss: 4.2016e-04 - accuracy: 1.00 - ETA: 7s - loss: 4.1384e-04 - accuracy: 1.00 - ETA: 7s - loss: 4.0771e-04 - accuracy: 1.00 - ETA: 7s - loss: 4.0176e-04 - accuracy: 1.00 - ETA: 7s - loss: 3.9604e-04 - accuracy: 1.00 - ETA: 7s - loss: 3.9043e-04 - accuracy: 1.00 - ETA: 7s - loss: 3.8498e-04 - accuracy: 1.00 - ETA: 7s - loss: 3.7967e-04 - accuracy: 1.00 - ETA: 7s - loss: 3.7739e-04 - accuracy: 1.00 - ETA: 7s - loss: 3.7229e-04 - accuracy: 1.00 - ETA: 6s - loss: 3.6738e-04 - accuracy: 1.00 - ETA: 6s - loss: 3.6254e-04 - accuracy: 1.00 - ETA: 6s - loss: 3.6378e-04 - accuracy: 1.00 - ETA: 6s - loss: 3.5912e-04 - accuracy: 1.00 - ETA: 6s - loss: 3.5457e-04 - accuracy: 1.00 - ETA: 6s - loss: 3.5014e-04 - accuracy: 1.00 - ETA: 6s - loss: 4.0248e-04 - accuracy: 1.00 - ETA: 6s - loss: 3.9757e-04 - accuracy: 1.00 - ETA: 6s - loss: 3.9278e-04 - accuracy: 1.00 - ETA: 6s - loss: 3.8811e-04 - accuracy: 1.00 - ETA: 6s - loss: 3.8354e-04 - accuracy: 1.00 - ETA: 6s - loss: 3.7909e-04 - accuracy: 1.00 - ETA: 6s - loss: 3.7473e-04 - accuracy: 1.00 - ETA: 5s - loss: 5.0539e-04 - accuracy: 1.00 - ETA: 5s - loss: 4.9971e-04 - accuracy: 1.00 - ETA: 5s - loss: 4.9416e-04 - accuracy: 1.00 - ETA: 5s - loss: 4.8873e-04 - accuracy: 1.00 - ETA: 5s - loss: 4.8342e-04 - accuracy: 1.00 - ETA: 5s - loss: 4.7822e-04 - accuracy: 1.00 - ETA: 5s - loss: 4.7314e-04 - accuracy: 1.00 - ETA: 5s - loss: 4.6816e-04 - accuracy: 1.00 - ETA: 5s - loss: 4.6328e-04 - accuracy: 1.00 - ETA: 5s - loss: 4.6088e-04 - accuracy: 1.00 - ETA: 5s - loss: 4.5615e-04 - accuracy: 1.00 - ETA: 5s - loss: 4.5152e-04 - accuracy: 1.00 - ETA: 5s - loss: 4.4699e-04 - accuracy: 1.00 - ETA: 5s - loss: 0.0028 - accuracy: 0.9988   - ETA: 4s - loss: 0.0027 - accuracy: 0.99 - ETA: 4s - loss: 0.0027 - accuracy: 0.99 - ETA: 4s - loss: 0.0027 - accuracy: 0.99 - ETA: 4s - loss: 0.0027 - accuracy: 0.99 - ETA: 4s - loss: 0.0026 - accuracy: 0.99 - ETA: 4s - loss: 0.0026 - accuracy: 0.99 - ETA: 4s - loss: 0.0026 - accuracy: 0.99 - ETA: 4s - loss: 0.0026 - accuracy: 0.99 - ETA: 4s - loss: 0.0025 - accuracy: 0.99 - ETA: 4s - loss: 0.0025 - accuracy: 0.99 - ETA: 4s - loss: 0.0025 - accuracy: 0.99 - ETA: 4s - loss: 0.0025 - accuracy: 0.99 - ETA: 3s - loss: 0.0025 - accuracy: 0.99 - ETA: 3s - loss: 0.0024 - accuracy: 0.99 - ETA: 3s - loss: 0.0024 - accuracy: 0.99 - ETA: 3s - loss: 0.0024 - accuracy: 0.99 - ETA: 3s - loss: 0.0024 - accuracy: 0.99 - ETA: 3s - loss: 0.0023 - accuracy: 0.99 - ETA: 3s - loss: 0.0023 - accuracy: 0.99 - ETA: 3s - loss: 0.0023 - accuracy: 0.99 - ETA: 3s - loss: 0.0023 - accuracy: 0.99 - ETA: 3s - loss: 0.0023 - accuracy: 0.99 - ETA: 3s - loss: 0.0023 - accuracy: 0.99 - ETA: 3s - loss: 0.0022 - accuracy: 0.99 - ETA: 3s - loss: 0.0022 - accuracy: 0.99 - ETA: 3s - loss: 0.0022 - accuracy: 0.99 - ETA: 2s - loss: 0.0022 - accuracy: 0.99 - ETA: 2s - loss: 0.0022 - accuracy: 0.99 - ETA: 2s - loss: 0.0022 - accuracy: 0.99 - ETA: 2s - loss: 0.0021 - accuracy: 0.99 - ETA: 2s - loss: 0.0021 - accuracy: 0.99 - ETA: 2s - loss: 0.0021 - accuracy: 0.99 - ETA: 2s - loss: 0.0021 - accuracy: 0.99 - ETA: 2s - loss: 0.0021 - accuracy: 0.99 - ETA: 2s - loss: 0.0021 - accuracy: 0.99 - ETA: 2s - loss: 0.0021 - accuracy: 0.99 - ETA: 2s - loss: 0.0020 - accuracy: 0.99 - ETA: 2s - loss: 0.0020 - accuracy: 0.99 - ETA: 2s - loss: 0.0020 - accuracy: 0.99 - ETA: 1s - loss: 0.0020 - accuracy: 0.99 - ETA: 1s - loss: 0.0020 - accuracy: 0.99 - ETA: 1s - loss: 0.0020 - accuracy: 0.99 - ETA: 1s - loss: 0.0020 - accuracy: 0.99 - ETA: 1s - loss: 0.0020 - accuracy: 0.99 - ETA: 1s - loss: 0.0020 - accuracy: 0.99 - ETA: 1s - loss: 0.0019 - accuracy: 0.99 - ETA: 1s - loss: 0.0019 - accuracy: 0.99 - ETA: 1s - loss: 0.0019 - accuracy: 0.99 - ETA: 1s - loss: 0.0019 - accuracy: 0.99 - ETA: 1s - loss: 0.0019 - accuracy: 0.99 - ETA: 1s - loss: 0.0019 - accuracy: 0.99 - ETA: 1s - loss: 0.0019 - accuracy: 0.99 - ETA: 0s - loss: 0.0019 - accuracy: 0.99 - ETA: 0s - loss: 0.0018 - accuracy: 0.99 - ETA: 0s - loss: 0.0018 - accuracy: 0.99 - ETA: 0s - loss: 0.0018 - accuracy: 0.99 - ETA: 0s - loss: 0.0018 - accuracy: 0.99 - ETA: 0s - loss: 0.0018 - accuracy: 0.99 - ETA: 0s - loss: 0.0018 - accuracy: 0.99 - ETA: 0s - loss: 0.0018 - accuracy: 0.99 - ETA: 0s - loss: 0.0018 - accuracy: 0.99 - ETA: 0s - loss: 0.0018 - accuracy: 0.99 - ETA: 0s - loss: 0.0017 - accuracy: 0.99 - ETA: 0s - loss: 0.0017 - accuracy: 0.99 - ETA: 0s - loss: 0.0017 - accuracy: 0.99 - 13s 10ms/step - loss: 0.0017 - accuracy: 0.9992 - val_loss: 2.0718e-07 - val_accuracy: 1.0000\n",
      "Epoch 30/50\n"
     ]
    },
    {
     "name": "stdout",
     "output_type": "stream",
     "text": [
      "1325/1325 [==============================] - ETA: 11s - loss: 5.9605e-08 - accuracy: 1.000 - ETA: 11s - loss: 1.9868e-08 - accuracy: 1.000 - ETA: 12s - loss: 2.4438e-07 - accuracy: 1.000 - ETA: 11s - loss: 1.7456e-07 - accuracy: 1.000 - ETA: 11s - loss: 1.3577e-07 - accuracy: 1.000 - ETA: 11s - loss: 8.8307e-06 - accuracy: 1.000 - ETA: 11s - loss: 7.4721e-06 - accuracy: 1.000 - ETA: 11s - loss: 6.4758e-06 - accuracy: 1.000 - ETA: 11s - loss: 5.7210e-06 - accuracy: 1.000 - ETA: 11s - loss: 5.1188e-06 - accuracy: 1.000 - ETA: 11s - loss: 4.6313e-06 - accuracy: 1.000 - ETA: 11s - loss: 4.2285e-06 - accuracy: 1.000 - ETA: 11s - loss: 3.8903e-06 - accuracy: 1.000 - ETA: 11s - loss: 3.6021e-06 - accuracy: 1.000 - ETA: 11s - loss: 3.3537e-06 - accuracy: 1.000 - ETA: 11s - loss: 3.1373e-06 - accuracy: 1.000 - ETA: 11s - loss: 2.9472e-06 - accuracy: 1.000 - ETA: 11s - loss: 2.8435e-06 - accuracy: 1.000 - ETA: 11s - loss: 2.6898e-06 - accuracy: 1.000 - ETA: 11s - loss: 2.5518e-06 - accuracy: 1.000 - ETA: 10s - loss: 2.4273e-06 - accuracy: 1.000 - ETA: 10s - loss: 7.9340e-06 - accuracy: 1.000 - ETA: 11s - loss: 7.7537e-06 - accuracy: 1.000 - ETA: 11s - loss: 7.5814e-06 - accuracy: 1.000 - ETA: 11s - loss: 7.2587e-06 - accuracy: 1.000 - ETA: 11s - loss: 7.2252e-06 - accuracy: 1.000 - ETA: 10s - loss: 6.9419e-06 - accuracy: 1.000 - ETA: 10s - loss: 6.8345e-06 - accuracy: 1.000 - ETA: 10s - loss: 3.7989e-05 - accuracy: 1.000 - ETA: 10s - loss: 3.6656e-05 - accuracy: 1.000 - ETA: 10s - loss: 3.5413e-05 - accuracy: 1.000 - ETA: 10s - loss: 3.4252e-05 - accuracy: 1.000 - ETA: 10s - loss: 3.3165e-05 - accuracy: 1.000 - ETA: 10s - loss: 3.2157e-05 - accuracy: 1.000 - ETA: 10s - loss: 3.1197e-05 - accuracy: 1.000 - ETA: 10s - loss: 3.0292e-05 - accuracy: 1.000 - ETA: 10s - loss: 2.9439e-05 - accuracy: 1.000 - ETA: 10s - loss: 2.8645e-05 - accuracy: 1.000 - ETA: 9s - loss: 2.7881e-05 - accuracy: 1.000 - ETA: 9s - loss: 2.7157e-05 - accuracy: 1.00 - ETA: 9s - loss: 2.6470e-05 - accuracy: 1.00 - ETA: 9s - loss: 2.5816e-05 - accuracy: 1.00 - ETA: 9s - loss: 2.5194e-05 - accuracy: 1.00 - ETA: 9s - loss: 2.5728e-05 - accuracy: 1.00 - ETA: 9s - loss: 2.5136e-05 - accuracy: 1.00 - ETA: 9s - loss: 2.4572e-05 - accuracy: 1.00 - ETA: 9s - loss: 2.4032e-05 - accuracy: 1.00 - ETA: 9s - loss: 2.3515e-05 - accuracy: 1.00 - ETA: 9s - loss: 2.3020e-05 - accuracy: 1.00 - ETA: 9s - loss: 2.2545e-05 - accuracy: 1.00 - ETA: 8s - loss: 2.2100e-05 - accuracy: 1.00 - ETA: 8s - loss: 2.1662e-05 - accuracy: 1.00 - ETA: 8s - loss: 4.2068e-04 - accuracy: 1.00 - ETA: 8s - loss: 4.1267e-04 - accuracy: 1.00 - ETA: 8s - loss: 4.0496e-04 - accuracy: 1.00 - ETA: 8s - loss: 3.9753e-04 - accuracy: 1.00 - ETA: 8s - loss: 3.9036e-04 - accuracy: 1.00 - ETA: 8s - loss: 3.8345e-04 - accuracy: 1.00 - ETA: 8s - loss: 3.7701e-04 - accuracy: 1.00 - ETA: 8s - loss: 3.7056e-04 - accuracy: 1.00 - ETA: 8s - loss: 3.6433e-04 - accuracy: 1.00 - ETA: 8s - loss: 3.5831e-04 - accuracy: 1.00 - ETA: 8s - loss: 3.5250e-04 - accuracy: 1.00 - ETA: 8s - loss: 3.4686e-04 - accuracy: 1.00 - ETA: 7s - loss: 4.3413e-04 - accuracy: 1.00 - ETA: 7s - loss: 4.2740e-04 - accuracy: 1.00 - ETA: 7s - loss: 4.2087e-04 - accuracy: 1.00 - ETA: 7s - loss: 4.1454e-04 - accuracy: 1.00 - ETA: 7s - loss: 4.0840e-04 - accuracy: 1.00 - ETA: 7s - loss: 4.0244e-04 - accuracy: 1.00 - ETA: 7s - loss: 7.5101e-04 - accuracy: 1.00 - ETA: 7s - loss: 7.7547e-04 - accuracy: 1.00 - ETA: 7s - loss: 7.6462e-04 - accuracy: 1.00 - ETA: 7s - loss: 7.5408e-04 - accuracy: 1.00 - ETA: 7s - loss: 7.4382e-04 - accuracy: 1.00 - ETA: 7s - loss: 7.3383e-04 - accuracy: 1.00 - ETA: 7s - loss: 7.2411e-04 - accuracy: 1.00 - ETA: 6s - loss: 7.1465e-04 - accuracy: 1.00 - ETA: 6s - loss: 7.0543e-04 - accuracy: 1.00 - ETA: 6s - loss: 6.9644e-04 - accuracy: 1.00 - ETA: 6s - loss: 6.8768e-04 - accuracy: 1.00 - ETA: 6s - loss: 6.7914e-04 - accuracy: 1.00 - ETA: 6s - loss: 6.7081e-04 - accuracy: 1.00 - ETA: 6s - loss: 6.6268e-04 - accuracy: 1.00 - ETA: 6s - loss: 6.5474e-04 - accuracy: 1.00 - ETA: 6s - loss: 6.4699e-04 - accuracy: 1.00 - ETA: 6s - loss: 6.3942e-04 - accuracy: 1.00 - ETA: 6s - loss: 6.3203e-04 - accuracy: 1.00 - ETA: 6s - loss: 6.2481e-04 - accuracy: 1.00 - ETA: 5s - loss: 6.1775e-04 - accuracy: 1.00 - ETA: 5s - loss: 6.1085e-04 - accuracy: 1.00 - ETA: 5s - loss: 0.0013 - accuracy: 1.0000   - ETA: 5s - loss: 0.0013 - accuracy: 1.00 - ETA: 5s - loss: 0.0013 - accuracy: 1.00 - ETA: 5s - loss: 0.0013 - accuracy: 1.00 - ETA: 5s - loss: 0.0012 - accuracy: 1.00 - ETA: 5s - loss: 0.0012 - accuracy: 1.00 - ETA: 5s - loss: 0.0012 - accuracy: 1.00 - ETA: 5s - loss: 0.0012 - accuracy: 1.00 - ETA: 5s - loss: 0.0012 - accuracy: 1.00 - ETA: 5s - loss: 0.0012 - accuracy: 1.00 - ETA: 5s - loss: 0.0012 - accuracy: 1.00 - ETA: 4s - loss: 0.0012 - accuracy: 1.00 - ETA: 4s - loss: 0.0011 - accuracy: 1.00 - ETA: 4s - loss: 0.0011 - accuracy: 1.00 - ETA: 4s - loss: 0.0011 - accuracy: 1.00 - ETA: 4s - loss: 0.0011 - accuracy: 1.00 - ETA: 4s - loss: 0.0011 - accuracy: 1.00 - ETA: 4s - loss: 0.0011 - accuracy: 1.00 - ETA: 4s - loss: 0.0011 - accuracy: 1.00 - ETA: 4s - loss: 0.0011 - accuracy: 1.00 - ETA: 4s - loss: 0.0011 - accuracy: 1.00 - ETA: 4s - loss: 0.0087 - accuracy: 0.99 - ETA: 4s - loss: 0.0086 - accuracy: 0.99 - ETA: 4s - loss: 0.0086 - accuracy: 0.99 - ETA: 3s - loss: 0.0085 - accuracy: 0.99 - ETA: 3s - loss: 0.0084 - accuracy: 0.99 - ETA: 3s - loss: 0.0083 - accuracy: 0.99 - ETA: 3s - loss: 0.0083 - accuracy: 0.99 - ETA: 3s - loss: 0.0082 - accuracy: 0.99 - ETA: 3s - loss: 0.0081 - accuracy: 0.99 - ETA: 3s - loss: 0.0081 - accuracy: 0.99 - ETA: 3s - loss: 0.0080 - accuracy: 0.99 - ETA: 3s - loss: 0.0079 - accuracy: 0.99 - ETA: 3s - loss: 0.0079 - accuracy: 0.99 - ETA: 3s - loss: 0.0078 - accuracy: 0.99 - ETA: 3s - loss: 0.0077 - accuracy: 0.99 - ETA: 3s - loss: 0.0078 - accuracy: 0.99 - ETA: 2s - loss: 0.0077 - accuracy: 0.99 - ETA: 2s - loss: 0.0076 - accuracy: 0.99 - ETA: 2s - loss: 0.0076 - accuracy: 0.99 - ETA: 2s - loss: 0.0076 - accuracy: 0.99 - ETA: 2s - loss: 0.0075 - accuracy: 0.99 - ETA: 2s - loss: 0.0075 - accuracy: 0.99 - ETA: 2s - loss: 0.0074 - accuracy: 0.99 - ETA: 2s - loss: 0.0086 - accuracy: 0.99 - ETA: 2s - loss: 0.0086 - accuracy: 0.99 - ETA: 2s - loss: 0.0085 - accuracy: 0.99 - ETA: 2s - loss: 0.0085 - accuracy: 0.99 - ETA: 2s - loss: 0.0084 - accuracy: 0.99 - ETA: 2s - loss: 0.0083 - accuracy: 0.99 - ETA: 1s - loss: 0.0083 - accuracy: 0.99 - ETA: 1s - loss: 0.0082 - accuracy: 0.99 - ETA: 1s - loss: 0.0082 - accuracy: 0.99 - ETA: 1s - loss: 0.0081 - accuracy: 0.99 - ETA: 1s - loss: 0.0080 - accuracy: 0.99 - ETA: 1s - loss: 0.0080 - accuracy: 0.99 - ETA: 1s - loss: 0.0079 - accuracy: 0.99 - ETA: 1s - loss: 0.0079 - accuracy: 0.99 - ETA: 1s - loss: 0.0078 - accuracy: 0.99 - ETA: 1s - loss: 0.0078 - accuracy: 0.99 - ETA: 1s - loss: 0.0077 - accuracy: 0.99 - ETA: 1s - loss: 0.0077 - accuracy: 0.99 - ETA: 1s - loss: 0.0077 - accuracy: 0.99 - ETA: 0s - loss: 0.0076 - accuracy: 0.99 - ETA: 0s - loss: 0.0076 - accuracy: 0.99 - ETA: 0s - loss: 0.0075 - accuracy: 0.99 - ETA: 0s - loss: 0.0075 - accuracy: 0.99 - ETA: 0s - loss: 0.0074 - accuracy: 0.99 - ETA: 0s - loss: 0.0074 - accuracy: 0.99 - ETA: 0s - loss: 0.0073 - accuracy: 0.99 - ETA: 0s - loss: 0.0073 - accuracy: 0.99 - ETA: 0s - loss: 0.0072 - accuracy: 0.99 - ETA: 0s - loss: 0.0072 - accuracy: 0.99 - ETA: 0s - loss: 0.0071 - accuracy: 0.99 - ETA: 0s - loss: 0.0071 - accuracy: 0.99 - ETA: 0s - loss: 0.0071 - accuracy: 0.99 - 13s 10ms/step - loss: 0.0070 - accuracy: 0.9985 - val_loss: 1.4363e-09 - val_accuracy: 1.0000\n",
      "Epoch 31/50\n"
     ]
    },
    {
     "name": "stdout",
     "output_type": "stream",
     "text": [
      "1325/1325 [==============================] - ETA: 12s - loss: 0.0000e+00 - accuracy: 1.000 - ETA: 13s - loss: 0.0000e+00 - accuracy: 1.000 - ETA: 13s - loss: 0.0000e+00 - accuracy: 1.000 - ETA: 12s - loss: 0.0000e+00 - accuracy: 1.000 - ETA: 12s - loss: 6.6227e-09 - accuracy: 1.000 - ETA: 12s - loss: 5.4186e-09 - accuracy: 1.000 - ETA: 12s - loss: 4.5850e-09 - accuracy: 1.000 - ETA: 12s - loss: 3.9736e-09 - accuracy: 1.000 - ETA: 12s - loss: 3.5062e-09 - accuracy: 1.000 - ETA: 12s - loss: 3.6076e-08 - accuracy: 1.000 - ETA: 12s - loss: 3.2641e-08 - accuracy: 1.000 - ETA: 12s - loss: 7.2505e-04 - accuracy: 1.000 - ETA: 12s - loss: 6.6705e-04 - accuracy: 1.000 - ETA: 11s - loss: 6.1764e-04 - accuracy: 1.000 - ETA: 11s - loss: 5.7504e-04 - accuracy: 1.000 - ETA: 11s - loss: 5.3794e-04 - accuracy: 1.000 - ETA: 11s - loss: 5.0534e-04 - accuracy: 1.000 - ETA: 11s - loss: 4.8006e-04 - accuracy: 1.000 - ETA: 11s - loss: 4.5719e-04 - accuracy: 1.000 - ETA: 11s - loss: 4.3374e-04 - accuracy: 1.000 - ETA: 11s - loss: 4.1259e-04 - accuracy: 1.000 - ETA: 11s - loss: 0.0305 - accuracy: 0.9942    - ETA: 11s - loss: 0.0291 - accuracy: 0.994 - ETA: 11s - loss: 0.0279 - accuracy: 0.994 - ETA: 10s - loss: 0.0267 - accuracy: 0.994 - ETA: 10s - loss: 0.0257 - accuracy: 0.995 - ETA: 10s - loss: 0.0247 - accuracy: 0.995 - ETA: 10s - loss: 0.0238 - accuracy: 0.995 - ETA: 10s - loss: 0.0230 - accuracy: 0.995 - ETA: 10s - loss: 0.0222 - accuracy: 0.995 - ETA: 10s - loss: 0.0215 - accuracy: 0.995 - ETA: 10s - loss: 0.0208 - accuracy: 0.996 - ETA: 10s - loss: 0.0202 - accuracy: 0.996 - ETA: 10s - loss: 0.0196 - accuracy: 0.996 - ETA: 10s - loss: 0.0197 - accuracy: 0.996 - ETA: 10s - loss: 0.0220 - accuracy: 0.993 - ETA: 9s - loss: 0.0214 - accuracy: 0.993 - ETA: 9s - loss: 0.0209 - accuracy: 0.99 - ETA: 9s - loss: 0.0209 - accuracy: 0.99 - ETA: 9s - loss: 0.0569 - accuracy: 0.99 - ETA: 9s - loss: 0.0555 - accuracy: 0.99 - ETA: 9s - loss: 0.0541 - accuracy: 0.99 - ETA: 9s - loss: 0.0529 - accuracy: 0.99 - ETA: 9s - loss: 0.0516 - accuracy: 0.99 - ETA: 9s - loss: 0.0505 - accuracy: 0.99 - ETA: 9s - loss: 0.0494 - accuracy: 0.99 - ETA: 9s - loss: 0.0483 - accuracy: 0.99 - ETA: 9s - loss: 0.0473 - accuracy: 0.99 - ETA: 9s - loss: 0.0463 - accuracy: 0.99 - ETA: 8s - loss: 0.0454 - accuracy: 0.99 - ETA: 8s - loss: 0.0446 - accuracy: 0.99 - ETA: 8s - loss: 0.0437 - accuracy: 0.99 - ETA: 8s - loss: 0.0429 - accuracy: 0.99 - ETA: 8s - loss: 0.0421 - accuracy: 0.99 - ETA: 8s - loss: 0.0491 - accuracy: 0.99 - ETA: 8s - loss: 0.0483 - accuracy: 0.99 - ETA: 8s - loss: 0.0474 - accuracy: 0.99 - ETA: 8s - loss: 0.0466 - accuracy: 0.99 - ETA: 8s - loss: 0.0458 - accuracy: 0.99 - ETA: 8s - loss: 0.0450 - accuracy: 0.99 - ETA: 8s - loss: 0.0443 - accuracy: 0.99 - ETA: 8s - loss: 0.0436 - accuracy: 0.99 - ETA: 7s - loss: 0.0563 - accuracy: 0.99 - ETA: 7s - loss: 0.0554 - accuracy: 0.99 - ETA: 7s - loss: 0.0545 - accuracy: 0.99 - ETA: 7s - loss: 0.0537 - accuracy: 0.99 - ETA: 7s - loss: 0.0529 - accuracy: 0.99 - ETA: 7s - loss: 0.0521 - accuracy: 0.99 - ETA: 7s - loss: 0.0513 - accuracy: 0.99 - ETA: 7s - loss: 0.0506 - accuracy: 0.99 - ETA: 7s - loss: 0.0500 - accuracy: 0.99 - ETA: 7s - loss: 0.0493 - accuracy: 0.99 - ETA: 7s - loss: 0.0486 - accuracy: 0.99 - ETA: 7s - loss: 0.0479 - accuracy: 0.99 - ETA: 6s - loss: 0.0473 - accuracy: 0.99 - ETA: 6s - loss: 0.0467 - accuracy: 0.99 - ETA: 6s - loss: 0.0461 - accuracy: 0.99 - ETA: 6s - loss: 0.0798 - accuracy: 0.99 - ETA: 6s - loss: 0.0788 - accuracy: 0.99 - ETA: 6s - loss: 0.0778 - accuracy: 0.99 - ETA: 6s - loss: 0.0769 - accuracy: 0.99 - ETA: 6s - loss: 0.0759 - accuracy: 0.99 - ETA: 6s - loss: 0.0776 - accuracy: 0.98 - ETA: 6s - loss: 0.0768 - accuracy: 0.98 - ETA: 6s - loss: 0.0759 - accuracy: 0.98 - ETA: 6s - loss: 0.0752 - accuracy: 0.98 - ETA: 6s - loss: 0.0743 - accuracy: 0.98 - ETA: 6s - loss: 0.0743 - accuracy: 0.98 - ETA: 5s - loss: 0.0734 - accuracy: 0.99 - ETA: 5s - loss: 0.0778 - accuracy: 0.98 - ETA: 5s - loss: 0.0770 - accuracy: 0.98 - ETA: 5s - loss: 0.0762 - accuracy: 0.98 - ETA: 5s - loss: 0.0753 - accuracy: 0.98 - ETA: 5s - loss: 0.0749 - accuracy: 0.98 - ETA: 5s - loss: 0.0741 - accuracy: 0.98 - ETA: 5s - loss: 0.0737 - accuracy: 0.98 - ETA: 5s - loss: 0.0730 - accuracy: 0.98 - ETA: 5s - loss: 0.0722 - accuracy: 0.98 - ETA: 5s - loss: 0.0715 - accuracy: 0.98 - ETA: 5s - loss: 0.0708 - accuracy: 0.98 - ETA: 5s - loss: 0.0701 - accuracy: 0.98 - ETA: 5s - loss: 0.0694 - accuracy: 0.99 - ETA: 4s - loss: 0.0687 - accuracy: 0.99 - ETA: 4s - loss: 0.0681 - accuracy: 0.99 - ETA: 4s - loss: 0.0675 - accuracy: 0.99 - ETA: 4s - loss: 0.0668 - accuracy: 0.99 - ETA: 4s - loss: 0.0662 - accuracy: 0.99 - ETA: 4s - loss: 0.0690 - accuracy: 0.98 - ETA: 4s - loss: 0.0684 - accuracy: 0.98 - ETA: 4s - loss: 0.0677 - accuracy: 0.98 - ETA: 4s - loss: 0.0671 - accuracy: 0.98 - ETA: 4s - loss: 0.0665 - accuracy: 0.98 - ETA: 4s - loss: 0.0659 - accuracy: 0.98 - ETA: 4s - loss: 0.0653 - accuracy: 0.99 - ETA: 4s - loss: 0.0648 - accuracy: 0.99 - ETA: 3s - loss: 0.0643 - accuracy: 0.99 - ETA: 3s - loss: 0.0643 - accuracy: 0.99 - ETA: 3s - loss: 0.0640 - accuracy: 0.99 - ETA: 3s - loss: 0.0634 - accuracy: 0.99 - ETA: 3s - loss: 0.0638 - accuracy: 0.98 - ETA: 3s - loss: 0.0632 - accuracy: 0.98 - ETA: 3s - loss: 0.0630 - accuracy: 0.98 - ETA: 3s - loss: 0.0625 - accuracy: 0.98 - ETA: 3s - loss: 0.0620 - accuracy: 0.98 - ETA: 3s - loss: 0.0616 - accuracy: 0.98 - ETA: 3s - loss: 0.0611 - accuracy: 0.98 - ETA: 3s - loss: 0.0607 - accuracy: 0.99 - ETA: 3s - loss: 0.0602 - accuracy: 0.99 - ETA: 3s - loss: 0.0597 - accuracy: 0.99 - ETA: 2s - loss: 0.0593 - accuracy: 0.99 - ETA: 2s - loss: 0.0588 - accuracy: 0.99 - ETA: 2s - loss: 0.0583 - accuracy: 0.99 - ETA: 2s - loss: 0.0579 - accuracy: 0.99 - ETA: 2s - loss: 0.0575 - accuracy: 0.99 - ETA: 2s - loss: 0.0570 - accuracy: 0.99 - ETA: 2s - loss: 0.0566 - accuracy: 0.99 - ETA: 2s - loss: 0.0562 - accuracy: 0.99 - ETA: 2s - loss: 0.0558 - accuracy: 0.99 - ETA: 2s - loss: 0.0554 - accuracy: 0.99 - ETA: 2s - loss: 0.0550 - accuracy: 0.99 - ETA: 2s - loss: 0.0546 - accuracy: 0.99 - ETA: 1s - loss: 0.0542 - accuracy: 0.99 - ETA: 1s - loss: 0.0538 - accuracy: 0.99 - ETA: 1s - loss: 0.0534 - accuracy: 0.99 - ETA: 1s - loss: 0.0531 - accuracy: 0.99 - ETA: 1s - loss: 0.0527 - accuracy: 0.99 - ETA: 1s - loss: 0.0523 - accuracy: 0.99 - ETA: 1s - loss: 0.0520 - accuracy: 0.99 - ETA: 1s - loss: 0.0516 - accuracy: 0.99 - ETA: 1s - loss: 0.0513 - accuracy: 0.99 - ETA: 1s - loss: 0.0509 - accuracy: 0.99 - ETA: 1s - loss: 0.0506 - accuracy: 0.99 - ETA: 1s - loss: 0.0503 - accuracy: 0.99 - ETA: 1s - loss: 0.0500 - accuracy: 0.99 - ETA: 0s - loss: 0.0496 - accuracy: 0.99 - ETA: 0s - loss: 0.0493 - accuracy: 0.99 - ETA: 0s - loss: 0.0490 - accuracy: 0.99 - ETA: 0s - loss: 0.0491 - accuracy: 0.99 - ETA: 0s - loss: 0.0488 - accuracy: 0.99 - ETA: 0s - loss: 0.0485 - accuracy: 0.99 - ETA: 0s - loss: 0.0482 - accuracy: 0.99 - ETA: 0s - loss: 0.0479 - accuracy: 0.99 - ETA: 0s - loss: 0.0476 - accuracy: 0.99 - ETA: 0s - loss: 0.0474 - accuracy: 0.99 - ETA: 0s - loss: 0.0471 - accuracy: 0.99 - ETA: 0s - loss: 0.0468 - accuracy: 0.99 - ETA: 0s - loss: 0.0465 - accuracy: 0.99 - 13s 10ms/step - loss: 0.0463 - accuracy: 0.9925 - val_loss: 2.4994e-05 - val_accuracy: 1.0000\n",
      "Epoch 32/50\n"
     ]
    },
    {
     "name": "stdout",
     "output_type": "stream",
     "text": [
      "1325/1325 [==============================] - ETA: 11s - loss: 0.0000e+00 - accuracy: 1.000 - ETA: 12s - loss: 3.2109e-04 - accuracy: 1.000 - ETA: 12s - loss: 1.9295e-04 - accuracy: 1.000 - ETA: 12s - loss: 1.3782e-04 - accuracy: 1.000 - ETA: 12s - loss: 1.2641e-04 - accuracy: 1.000 - ETA: 12s - loss: 0.0394 - accuracy: 0.9773    - ETA: 12s - loss: 0.0333 - accuracy: 0.980 - ETA: 11s - loss: 0.0289 - accuracy: 0.983 - ETA: 11s - loss: 0.0255 - accuracy: 0.985 - ETA: 11s - loss: 0.0228 - accuracy: 0.986 - ETA: 11s - loss: 0.0207 - accuracy: 0.988 - ETA: 11s - loss: 0.0189 - accuracy: 0.989 - ETA: 11s - loss: 0.0174 - accuracy: 0.990 - ETA: 11s - loss: 0.0161 - accuracy: 0.990 - ETA: 11s - loss: 0.0150 - accuracy: 0.991 - ETA: 11s - loss: 0.0141 - accuracy: 0.991 - ETA: 11s - loss: 0.0132 - accuracy: 0.992 - ETA: 11s - loss: 0.0480 - accuracy: 0.985 - ETA: 11s - loss: 0.0456 - accuracy: 0.986 - ETA: 11s - loss: 0.0433 - accuracy: 0.987 - ETA: 10s - loss: 0.0411 - accuracy: 0.987 - ETA: 10s - loss: 0.0396 - accuracy: 0.988 - ETA: 10s - loss: 0.0379 - accuracy: 0.988 - ETA: 10s - loss: 0.0363 - accuracy: 0.989 - ETA: 10s - loss: 0.0348 - accuracy: 0.989 - ETA: 10s - loss: 0.0334 - accuracy: 0.990 - ETA: 10s - loss: 0.0322 - accuracy: 0.990 - ETA: 10s - loss: 0.0310 - accuracy: 0.990 - ETA: 10s - loss: 0.0299 - accuracy: 0.991 - ETA: 10s - loss: 0.0289 - accuracy: 0.991 - ETA: 10s - loss: 0.0279 - accuracy: 0.991 - ETA: 10s - loss: 0.0271 - accuracy: 0.992 - ETA: 10s - loss: 0.0262 - accuracy: 0.992 - ETA: 10s - loss: 0.0254 - accuracy: 0.992 - ETA: 9s - loss: 0.0247 - accuracy: 0.992 - ETA: 9s - loss: 0.0240 - accuracy: 0.99 - ETA: 9s - loss: 0.0269 - accuracy: 0.98 - ETA: 9s - loss: 0.0310 - accuracy: 0.98 - ETA: 9s - loss: 0.0508 - accuracy: 0.98 - ETA: 9s - loss: 0.0495 - accuracy: 0.98 - ETA: 9s - loss: 0.0483 - accuracy: 0.98 - ETA: 9s - loss: 0.0471 - accuracy: 0.98 - ETA: 9s - loss: 0.0720 - accuracy: 0.97 - ETA: 9s - loss: 0.0704 - accuracy: 0.97 - ETA: 9s - loss: 0.0688 - accuracy: 0.98 - ETA: 9s - loss: 0.0675 - accuracy: 0.98 - ETA: 9s - loss: 0.0660 - accuracy: 0.98 - ETA: 8s - loss: 0.0649 - accuracy: 0.98 - ETA: 8s - loss: 0.0635 - accuracy: 0.98 - ETA: 8s - loss: 0.0627 - accuracy: 0.98 - ETA: 8s - loss: 0.0615 - accuracy: 0.98 - ETA: 8s - loss: 0.0603 - accuracy: 0.98 - ETA: 8s - loss: 0.0591 - accuracy: 0.98 - ETA: 8s - loss: 0.0581 - accuracy: 0.98 - ETA: 8s - loss: 0.0570 - accuracy: 0.98 - ETA: 8s - loss: 0.0564 - accuracy: 0.98 - ETA: 8s - loss: 0.0562 - accuracy: 0.98 - ETA: 8s - loss: 0.0552 - accuracy: 0.98 - ETA: 8s - loss: 0.0543 - accuracy: 0.98 - ETA: 8s - loss: 0.0534 - accuracy: 0.98 - ETA: 7s - loss: 0.0525 - accuracy: 0.98 - ETA: 7s - loss: 0.0517 - accuracy: 0.98 - ETA: 7s - loss: 0.0510 - accuracy: 0.98 - ETA: 7s - loss: 0.0502 - accuracy: 0.98 - ETA: 7s - loss: 0.0495 - accuracy: 0.98 - ETA: 7s - loss: 0.0487 - accuracy: 0.98 - ETA: 7s - loss: 0.0480 - accuracy: 0.98 - ETA: 7s - loss: 0.0473 - accuracy: 0.98 - ETA: 7s - loss: 0.0466 - accuracy: 0.98 - ETA: 7s - loss: 0.0459 - accuracy: 0.98 - ETA: 7s - loss: 0.0453 - accuracy: 0.98 - ETA: 7s - loss: 0.0446 - accuracy: 0.98 - ETA: 7s - loss: 0.0440 - accuracy: 0.98 - ETA: 6s - loss: 0.0434 - accuracy: 0.98 - ETA: 6s - loss: 0.0429 - accuracy: 0.98 - ETA: 6s - loss: 0.0423 - accuracy: 0.98 - ETA: 6s - loss: 0.0418 - accuracy: 0.98 - ETA: 6s - loss: 0.0412 - accuracy: 0.98 - ETA: 6s - loss: 0.0407 - accuracy: 0.98 - ETA: 6s - loss: 0.0402 - accuracy: 0.98 - ETA: 6s - loss: 0.0397 - accuracy: 0.98 - ETA: 6s - loss: 0.0392 - accuracy: 0.98 - ETA: 6s - loss: 0.0388 - accuracy: 0.98 - ETA: 6s - loss: 0.0383 - accuracy: 0.98 - ETA: 6s - loss: 0.0378 - accuracy: 0.98 - ETA: 6s - loss: 0.0374 - accuracy: 0.98 - ETA: 5s - loss: 0.0370 - accuracy: 0.98 - ETA: 5s - loss: 0.0365 - accuracy: 0.99 - ETA: 5s - loss: 0.0366 - accuracy: 0.99 - ETA: 5s - loss: 0.0362 - accuracy: 0.99 - ETA: 5s - loss: 0.0358 - accuracy: 0.99 - ETA: 5s - loss: 0.0354 - accuracy: 0.99 - ETA: 5s - loss: 0.0350 - accuracy: 0.99 - ETA: 5s - loss: 0.0347 - accuracy: 0.99 - ETA: 5s - loss: 0.0343 - accuracy: 0.99 - ETA: 5s - loss: 0.0340 - accuracy: 0.99 - ETA: 5s - loss: 0.0336 - accuracy: 0.99 - ETA: 5s - loss: 0.0333 - accuracy: 0.99 - ETA: 5s - loss: 0.0329 - accuracy: 0.99 - ETA: 4s - loss: 0.0326 - accuracy: 0.99 - ETA: 4s - loss: 0.0323 - accuracy: 0.99 - ETA: 4s - loss: 0.0321 - accuracy: 0.99 - ETA: 4s - loss: 0.0318 - accuracy: 0.99 - ETA: 4s - loss: 0.0315 - accuracy: 0.99 - ETA: 4s - loss: 0.0312 - accuracy: 0.99 - ETA: 4s - loss: 0.0309 - accuracy: 0.99 - ETA: 4s - loss: 0.0306 - accuracy: 0.99 - ETA: 4s - loss: 0.0304 - accuracy: 0.99 - ETA: 4s - loss: 0.0301 - accuracy: 0.99 - ETA: 4s - loss: 0.0298 - accuracy: 0.99 - ETA: 4s - loss: 0.0295 - accuracy: 0.99 - ETA: 4s - loss: 0.0293 - accuracy: 0.99 - ETA: 4s - loss: 0.0290 - accuracy: 0.99 - ETA: 3s - loss: 0.0288 - accuracy: 0.99 - ETA: 3s - loss: 0.0285 - accuracy: 0.99 - ETA: 3s - loss: 0.0283 - accuracy: 0.99 - ETA: 3s - loss: 0.0280 - accuracy: 0.99 - ETA: 3s - loss: 0.0278 - accuracy: 0.99 - ETA: 3s - loss: 0.0276 - accuracy: 0.99 - ETA: 3s - loss: 0.0277 - accuracy: 0.99 - ETA: 3s - loss: 0.0275 - accuracy: 0.99 - ETA: 3s - loss: 0.0273 - accuracy: 0.99 - ETA: 3s - loss: 0.0291 - accuracy: 0.99 - ETA: 3s - loss: 0.0289 - accuracy: 0.99 - ETA: 3s - loss: 0.0286 - accuracy: 0.99 - ETA: 3s - loss: 0.0284 - accuracy: 0.99 - ETA: 2s - loss: 0.0282 - accuracy: 0.99 - ETA: 2s - loss: 0.0280 - accuracy: 0.99 - ETA: 2s - loss: 0.0286 - accuracy: 0.99 - ETA: 2s - loss: 0.0294 - accuracy: 0.99 - ETA: 2s - loss: 0.0291 - accuracy: 0.99 - ETA: 2s - loss: 0.0289 - accuracy: 0.99 - ETA: 2s - loss: 0.0287 - accuracy: 0.99 - ETA: 2s - loss: 0.0285 - accuracy: 0.99 - ETA: 2s - loss: 0.0283 - accuracy: 0.99 - ETA: 2s - loss: 0.0281 - accuracy: 0.99 - ETA: 2s - loss: 0.0279 - accuracy: 0.99 - ETA: 2s - loss: 0.0277 - accuracy: 0.99 - ETA: 2s - loss: 0.0277 - accuracy: 0.99 - ETA: 1s - loss: 0.0275 - accuracy: 0.99 - ETA: 1s - loss: 0.0274 - accuracy: 0.99 - ETA: 1s - loss: 0.0272 - accuracy: 0.99 - ETA: 1s - loss: 0.0270 - accuracy: 0.99 - ETA: 1s - loss: 0.0268 - accuracy: 0.99 - ETA: 1s - loss: 0.0266 - accuracy: 0.99 - ETA: 1s - loss: 0.0264 - accuracy: 0.99 - ETA: 1s - loss: 0.0262 - accuracy: 0.99 - ETA: 1s - loss: 0.0261 - accuracy: 0.99 - ETA: 1s - loss: 0.0259 - accuracy: 0.99 - ETA: 1s - loss: 0.0257 - accuracy: 0.99 - ETA: 1s - loss: 0.0255 - accuracy: 0.99 - ETA: 1s - loss: 0.0254 - accuracy: 0.99 - ETA: 0s - loss: 0.0252 - accuracy: 0.99 - ETA: 0s - loss: 0.0250 - accuracy: 0.99 - ETA: 0s - loss: 0.0249 - accuracy: 0.99 - ETA: 0s - loss: 0.0247 - accuracy: 0.99 - ETA: 0s - loss: 0.0246 - accuracy: 0.99 - ETA: 0s - loss: 0.0244 - accuracy: 0.99 - ETA: 0s - loss: 0.0243 - accuracy: 0.99 - ETA: 0s - loss: 0.0241 - accuracy: 0.99 - ETA: 0s - loss: 0.0239 - accuracy: 0.99 - ETA: 0s - loss: 0.0238 - accuracy: 0.99 - ETA: 0s - loss: 0.0237 - accuracy: 0.99 - ETA: 0s - loss: 0.0235 - accuracy: 0.99 - ETA: 0s - loss: 0.0234 - accuracy: 0.99 - ETA: 0s - loss: 0.0232 - accuracy: 0.99 - 13s 10ms/step - loss: 0.0232 - accuracy: 0.9925 - val_loss: 5.2273e-05 - val_accuracy: 1.0000\n",
      "Epoch 33/50\n"
     ]
    },
    {
     "name": "stdout",
     "output_type": "stream",
     "text": [
      "1325/1325 [==============================] - ETA: 11s - loss: 2.9802e-08 - accuracy: 1.000 - ETA: 12s - loss: 9.9341e-09 - accuracy: 1.000 - ETA: 12s - loss: 5.9605e-09 - accuracy: 1.000 - ETA: 12s - loss: 1.9967e-06 - accuracy: 1.000 - ETA: 12s - loss: 1.8510e-06 - accuracy: 1.000 - ETA: 12s - loss: 3.5696e-05 - accuracy: 1.000 - ETA: 11s - loss: 3.0207e-05 - accuracy: 1.000 - ETA: 11s - loss: 2.6179e-05 - accuracy: 1.000 - ETA: 11s - loss: 2.3101e-05 - accuracy: 1.000 - ETA: 11s - loss: 0.0195 - accuracy: 0.9868    - ETA: 11s - loss: 0.0176 - accuracy: 0.988 - ETA: 11s - loss: 0.0161 - accuracy: 0.989 - ETA: 11s - loss: 0.0193 - accuracy: 0.990 - ETA: 11s - loss: 0.0179 - accuracy: 0.990 - ETA: 11s - loss: 0.0166 - accuracy: 0.991 - ETA: 11s - loss: 0.0156 - accuracy: 0.991 - ETA: 11s - loss: 0.0146 - accuracy: 0.992 - ETA: 11s - loss: 0.0138 - accuracy: 0.992 - ETA: 11s - loss: 0.0378 - accuracy: 0.986 - ETA: 11s - loss: 0.0359 - accuracy: 0.987 - ETA: 11s - loss: 0.0341 - accuracy: 0.987 - ETA: 10s - loss: 0.0325 - accuracy: 0.988 - ETA: 10s - loss: 0.0312 - accuracy: 0.988 - ETA: 10s - loss: 0.0299 - accuracy: 0.989 - ETA: 10s - loss: 0.0286 - accuracy: 0.989 - ETA: 10s - loss: 0.0275 - accuracy: 0.990 - ETA: 10s - loss: 0.0265 - accuracy: 0.990 - ETA: 10s - loss: 0.0255 - accuracy: 0.990 - ETA: 10s - loss: 0.0246 - accuracy: 0.991 - ETA: 10s - loss: 0.0238 - accuracy: 0.991 - ETA: 10s - loss: 0.0230 - accuracy: 0.991 - ETA: 10s - loss: 0.0223 - accuracy: 0.992 - ETA: 10s - loss: 0.0216 - accuracy: 0.992 - ETA: 10s - loss: 0.0210 - accuracy: 0.992 - ETA: 9s - loss: 0.0204 - accuracy: 0.992 - ETA: 9s - loss: 0.0198 - accuracy: 0.99 - ETA: 9s - loss: 0.0193 - accuracy: 0.99 - ETA: 9s - loss: 0.0188 - accuracy: 0.99 - ETA: 9s - loss: 0.0183 - accuracy: 0.99 - ETA: 9s - loss: 0.0178 - accuracy: 0.99 - ETA: 9s - loss: 0.0174 - accuracy: 0.99 - ETA: 9s - loss: 0.0170 - accuracy: 0.99 - ETA: 9s - loss: 0.0166 - accuracy: 0.99 - ETA: 9s - loss: 0.0162 - accuracy: 0.99 - ETA: 9s - loss: 0.0158 - accuracy: 0.99 - ETA: 9s - loss: 0.0155 - accuracy: 0.99 - ETA: 9s - loss: 0.0152 - accuracy: 0.99 - ETA: 8s - loss: 0.0148 - accuracy: 0.99 - ETA: 8s - loss: 0.0145 - accuracy: 0.99 - ETA: 8s - loss: 0.0142 - accuracy: 0.99 - ETA: 8s - loss: 0.0140 - accuracy: 0.99 - ETA: 8s - loss: 0.0137 - accuracy: 0.99 - ETA: 8s - loss: 0.0134 - accuracy: 0.99 - ETA: 8s - loss: 0.0132 - accuracy: 0.99 - ETA: 8s - loss: 0.0129 - accuracy: 0.99 - ETA: 8s - loss: 0.0127 - accuracy: 0.99 - ETA: 8s - loss: 0.0125 - accuracy: 0.99 - ETA: 8s - loss: 0.0123 - accuracy: 0.99 - ETA: 8s - loss: 0.0121 - accuracy: 0.99 - ETA: 8s - loss: 0.0119 - accuracy: 0.99 - ETA: 7s - loss: 0.0117 - accuracy: 0.99 - ETA: 7s - loss: 0.0115 - accuracy: 0.99 - ETA: 7s - loss: 0.0113 - accuracy: 0.99 - ETA: 7s - loss: 0.0111 - accuracy: 0.99 - ETA: 7s - loss: 0.0110 - accuracy: 0.99 - ETA: 7s - loss: 0.0108 - accuracy: 0.99 - ETA: 7s - loss: 0.0106 - accuracy: 0.99 - ETA: 7s - loss: 0.0105 - accuracy: 0.99 - ETA: 7s - loss: 0.0103 - accuracy: 0.99 - ETA: 7s - loss: 0.0102 - accuracy: 0.99 - ETA: 7s - loss: 0.0128 - accuracy: 0.99 - ETA: 7s - loss: 0.0126 - accuracy: 0.99 - ETA: 7s - loss: 0.0124 - accuracy: 0.99 - ETA: 7s - loss: 0.0126 - accuracy: 0.99 - ETA: 6s - loss: 0.0124 - accuracy: 0.99 - ETA: 6s - loss: 0.0123 - accuracy: 0.99 - ETA: 6s - loss: 0.0122 - accuracy: 0.99 - ETA: 6s - loss: 0.0120 - accuracy: 0.99 - ETA: 6s - loss: 0.0118 - accuracy: 0.99 - ETA: 6s - loss: 0.0117 - accuracy: 0.99 - ETA: 6s - loss: 0.0192 - accuracy: 0.99 - ETA: 6s - loss: 0.0191 - accuracy: 0.99 - ETA: 6s - loss: 0.0188 - accuracy: 0.99 - ETA: 6s - loss: 0.0186 - accuracy: 0.99 - ETA: 6s - loss: 0.0184 - accuracy: 0.99 - ETA: 6s - loss: 0.0183 - accuracy: 0.99 - ETA: 6s - loss: 0.0181 - accuracy: 0.99 - ETA: 6s - loss: 0.0179 - accuracy: 0.99 - ETA: 6s - loss: 0.0177 - accuracy: 0.99 - ETA: 5s - loss: 0.0175 - accuracy: 0.99 - ETA: 5s - loss: 0.0173 - accuracy: 0.99 - ETA: 5s - loss: 0.0171 - accuracy: 0.99 - ETA: 5s - loss: 0.0169 - accuracy: 0.99 - ETA: 5s - loss: 0.0168 - accuracy: 0.99 - ETA: 5s - loss: 0.0171 - accuracy: 0.99 - ETA: 5s - loss: 0.0169 - accuracy: 0.99 - ETA: 5s - loss: 0.0167 - accuracy: 0.99 - ETA: 5s - loss: 0.0166 - accuracy: 0.99 - ETA: 5s - loss: 0.0164 - accuracy: 0.99 - ETA: 5s - loss: 0.0172 - accuracy: 0.99 - ETA: 5s - loss: 0.0170 - accuracy: 0.99 - ETA: 4s - loss: 0.0169 - accuracy: 0.99 - ETA: 4s - loss: 0.0167 - accuracy: 0.99 - ETA: 4s - loss: 0.0165 - accuracy: 0.99 - ETA: 4s - loss: 0.0164 - accuracy: 0.99 - ETA: 4s - loss: 0.0162 - accuracy: 0.99 - ETA: 4s - loss: 0.0161 - accuracy: 0.99 - ETA: 4s - loss: 0.0169 - accuracy: 0.99 - ETA: 4s - loss: 0.0167 - accuracy: 0.99 - ETA: 4s - loss: 0.0166 - accuracy: 0.99 - ETA: 4s - loss: 0.0164 - accuracy: 0.99 - ETA: 4s - loss: 0.0163 - accuracy: 0.99 - ETA: 4s - loss: 0.0161 - accuracy: 0.99 - ETA: 4s - loss: 0.0162 - accuracy: 0.99 - ETA: 3s - loss: 0.0161 - accuracy: 0.99 - ETA: 3s - loss: 0.0160 - accuracy: 0.99 - ETA: 3s - loss: 0.0158 - accuracy: 0.99 - ETA: 3s - loss: 0.0157 - accuracy: 0.99 - ETA: 3s - loss: 0.0155 - accuracy: 0.99 - ETA: 3s - loss: 0.0154 - accuracy: 0.99 - ETA: 3s - loss: 0.0153 - accuracy: 0.99 - ETA: 3s - loss: 0.0152 - accuracy: 0.99 - ETA: 3s - loss: 0.0151 - accuracy: 0.99 - ETA: 3s - loss: 0.0150 - accuracy: 0.99 - ETA: 3s - loss: 0.0149 - accuracy: 0.99 - ETA: 3s - loss: 0.0147 - accuracy: 0.99 - ETA: 3s - loss: 0.0146 - accuracy: 0.99 - ETA: 2s - loss: 0.0145 - accuracy: 0.99 - ETA: 2s - loss: 0.0144 - accuracy: 0.99 - ETA: 2s - loss: 0.0143 - accuracy: 0.99 - ETA: 2s - loss: 0.0142 - accuracy: 0.99 - ETA: 2s - loss: 0.0141 - accuracy: 0.99 - ETA: 2s - loss: 0.0141 - accuracy: 0.99 - ETA: 2s - loss: 0.0140 - accuracy: 0.99 - ETA: 2s - loss: 0.0139 - accuracy: 0.99 - ETA: 2s - loss: 0.0138 - accuracy: 0.99 - ETA: 2s - loss: 0.0137 - accuracy: 0.99 - ETA: 2s - loss: 0.0136 - accuracy: 0.99 - ETA: 2s - loss: 0.0135 - accuracy: 0.99 - ETA: 2s - loss: 0.0134 - accuracy: 0.99 - ETA: 1s - loss: 0.0133 - accuracy: 0.99 - ETA: 1s - loss: 0.0132 - accuracy: 0.99 - ETA: 1s - loss: 0.0131 - accuracy: 0.99 - ETA: 1s - loss: 0.0130 - accuracy: 0.99 - ETA: 1s - loss: 0.0129 - accuracy: 0.99 - ETA: 1s - loss: 0.0128 - accuracy: 0.99 - ETA: 1s - loss: 0.0127 - accuracy: 0.99 - ETA: 1s - loss: 0.0127 - accuracy: 0.99 - ETA: 1s - loss: 0.0126 - accuracy: 0.99 - ETA: 1s - loss: 0.0126 - accuracy: 0.99 - ETA: 1s - loss: 0.0125 - accuracy: 0.99 - ETA: 1s - loss: 0.0124 - accuracy: 0.99 - ETA: 1s - loss: 0.0123 - accuracy: 0.99 - ETA: 0s - loss: 0.0123 - accuracy: 0.99 - ETA: 0s - loss: 0.0122 - accuracy: 0.99 - ETA: 0s - loss: 0.0122 - accuracy: 0.99 - ETA: 0s - loss: 0.0121 - accuracy: 0.99 - ETA: 0s - loss: 0.0120 - accuracy: 0.99 - ETA: 0s - loss: 0.0119 - accuracy: 0.99 - ETA: 0s - loss: 0.0119 - accuracy: 0.99 - ETA: 0s - loss: 0.0118 - accuracy: 0.99 - ETA: 0s - loss: 0.0117 - accuracy: 0.99 - ETA: 0s - loss: 0.0116 - accuracy: 0.99 - ETA: 0s - loss: 0.0116 - accuracy: 0.99 - ETA: 0s - loss: 0.0115 - accuracy: 0.99 - ETA: 0s - loss: 0.0114 - accuracy: 0.99 - 13s 10ms/step - loss: 0.0114 - accuracy: 0.9955 - val_loss: 3.2379e-06 - val_accuracy: 1.0000\n",
      "Epoch 34/50\n"
     ]
    },
    {
     "name": "stdout",
     "output_type": "stream",
     "text": [
      "1325/1325 [==============================] - ETA: 11s - loss: 4.4703e-07 - accuracy: 1.000 - ETA: 12s - loss: 5.6298e-05 - accuracy: 1.000 - ETA: 12s - loss: 3.3779e-05 - accuracy: 1.000 - ETA: 12s - loss: 2.4128e-05 - accuracy: 1.000 - ETA: 12s - loss: 1.8766e-05 - accuracy: 1.000 - ETA: 12s - loss: 1.5365e-05 - accuracy: 1.000 - ETA: 12s - loss: 1.3164e-05 - accuracy: 1.000 - ETA: 12s - loss: 1.1639e-05 - accuracy: 1.000 - ETA: 11s - loss: 1.0615e-05 - accuracy: 1.000 - ETA: 11s - loss: 1.0062e-05 - accuracy: 1.000 - ETA: 11s - loss: 9.1040e-06 - accuracy: 1.000 - ETA: 11s - loss: 8.3124e-06 - accuracy: 1.000 - ETA: 11s - loss: 7.7106e-06 - accuracy: 1.000 - ETA: 11s - loss: 7.1427e-06 - accuracy: 1.000 - ETA: 11s - loss: 6.5817e-05 - accuracy: 1.000 - ETA: 11s - loss: 6.4858e-05 - accuracy: 1.000 - ETA: 11s - loss: 6.0937e-05 - accuracy: 1.000 - ETA: 11s - loss: 5.7455e-05 - accuracy: 1.000 - ETA: 11s - loss: 6.1287e-05 - accuracy: 1.000 - ETA: 11s - loss: 5.8144e-05 - accuracy: 1.000 - ETA: 11s - loss: 5.9831e-05 - accuracy: 1.000 - ETA: 10s - loss: 5.7049e-05 - accuracy: 1.000 - ETA: 10s - loss: 5.4513e-05 - accuracy: 1.000 - ETA: 10s - loss: 5.2194e-05 - accuracy: 1.000 - ETA: 10s - loss: 5.0064e-05 - accuracy: 1.000 - ETA: 10s - loss: 4.8100e-05 - accuracy: 1.000 - ETA: 10s - loss: 4.6285e-05 - accuracy: 1.000 - ETA: 10s - loss: 4.4619e-05 - accuracy: 1.000 - ETA: 10s - loss: 4.3065e-05 - accuracy: 1.000 - ETA: 10s - loss: 4.1609e-05 - accuracy: 1.000 - ETA: 10s - loss: 5.1396e-05 - accuracy: 1.000 - ETA: 10s - loss: 4.9976e-05 - accuracy: 1.000 - ETA: 10s - loss: 4.8438e-05 - accuracy: 1.000 - ETA: 9s - loss: 1.3841e-04 - accuracy: 1.000 - ETA: 9s - loss: 1.3440e-04 - accuracy: 1.00 - ETA: 9s - loss: 1.3077e-04 - accuracy: 1.00 - ETA: 9s - loss: 1.2718e-04 - accuracy: 1.00 - ETA: 9s - loss: 1.2382e-04 - accuracy: 1.00 - ETA: 9s - loss: 1.2060e-04 - accuracy: 1.00 - ETA: 9s - loss: 1.1755e-04 - accuracy: 1.00 - ETA: 9s - loss: 1.1464e-04 - accuracy: 1.00 - ETA: 9s - loss: 1.1188e-04 - accuracy: 1.00 - ETA: 9s - loss: 1.0929e-04 - accuracy: 1.00 - ETA: 9s - loss: 1.0679e-04 - accuracy: 1.00 - ETA: 9s - loss: 1.0439e-04 - accuracy: 1.00 - ETA: 9s - loss: 1.0210e-04 - accuracy: 1.00 - ETA: 8s - loss: 9.9933e-05 - accuracy: 1.00 - ETA: 8s - loss: 1.1030e-04 - accuracy: 1.00 - ETA: 8s - loss: 1.0806e-04 - accuracy: 1.00 - ETA: 8s - loss: 1.0587e-04 - accuracy: 1.00 - ETA: 8s - loss: 1.0379e-04 - accuracy: 1.00 - ETA: 8s - loss: 1.0397e-04 - accuracy: 1.00 - ETA: 8s - loss: 1.0199e-04 - accuracy: 1.00 - ETA: 8s - loss: 1.0009e-04 - accuracy: 1.00 - ETA: 8s - loss: 3.0762e-04 - accuracy: 1.00 - ETA: 8s - loss: 3.0633e-04 - accuracy: 1.00 - ETA: 8s - loss: 3.0091e-04 - accuracy: 1.00 - ETA: 8s - loss: 6.0329e-04 - accuracy: 1.00 - ETA: 8s - loss: 5.9297e-04 - accuracy: 1.00 - ETA: 8s - loss: 7.4566e-04 - accuracy: 1.00 - ETA: 7s - loss: 7.3334e-04 - accuracy: 1.00 - ETA: 7s - loss: 0.0035 - accuracy: 0.9980   - ETA: 7s - loss: 0.0035 - accuracy: 0.99 - ETA: 7s - loss: 0.0034 - accuracy: 0.99 - ETA: 7s - loss: 0.0034 - accuracy: 0.99 - ETA: 7s - loss: 0.0033 - accuracy: 0.99 - ETA: 7s - loss: 0.0033 - accuracy: 0.99 - ETA: 7s - loss: 0.0032 - accuracy: 0.99 - ETA: 7s - loss: 0.0032 - accuracy: 0.99 - ETA: 7s - loss: 0.0032 - accuracy: 0.99 - ETA: 7s - loss: 0.0032 - accuracy: 0.99 - ETA: 7s - loss: 0.0032 - accuracy: 0.99 - ETA: 7s - loss: 0.0031 - accuracy: 0.99 - ETA: 6s - loss: 0.0031 - accuracy: 0.99 - ETA: 6s - loss: 0.0030 - accuracy: 0.99 - ETA: 6s - loss: 0.0030 - accuracy: 0.99 - ETA: 6s - loss: 0.0030 - accuracy: 0.99 - ETA: 6s - loss: 0.0030 - accuracy: 0.99 - ETA: 6s - loss: 0.0029 - accuracy: 0.99 - ETA: 6s - loss: 0.0029 - accuracy: 0.99 - ETA: 6s - loss: 0.0046 - accuracy: 0.99 - ETA: 6s - loss: 0.0046 - accuracy: 0.99 - ETA: 6s - loss: 0.0045 - accuracy: 0.99 - ETA: 6s - loss: 0.0045 - accuracy: 0.99 - ETA: 6s - loss: 0.0044 - accuracy: 0.99 - ETA: 6s - loss: 0.0044 - accuracy: 0.99 - ETA: 5s - loss: 0.0043 - accuracy: 0.99 - ETA: 5s - loss: 0.0043 - accuracy: 0.99 - ETA: 5s - loss: 0.0042 - accuracy: 0.99 - ETA: 5s - loss: 0.0042 - accuracy: 0.99 - ETA: 5s - loss: 0.0041 - accuracy: 0.99 - ETA: 5s - loss: 0.0041 - accuracy: 0.99 - ETA: 5s - loss: 0.0040 - accuracy: 0.99 - ETA: 5s - loss: 0.0040 - accuracy: 0.99 - ETA: 5s - loss: 0.0040 - accuracy: 0.99 - ETA: 5s - loss: 0.0039 - accuracy: 0.99 - ETA: 5s - loss: 0.0039 - accuracy: 0.99 - ETA: 5s - loss: 0.0038 - accuracy: 0.99 - ETA: 5s - loss: 0.0038 - accuracy: 0.99 - ETA: 4s - loss: 0.0038 - accuracy: 0.99 - ETA: 4s - loss: 0.0082 - accuracy: 0.99 - ETA: 4s - loss: 0.0081 - accuracy: 0.99 - ETA: 4s - loss: 0.0080 - accuracy: 0.99 - ETA: 4s - loss: 0.0079 - accuracy: 0.99 - ETA: 4s - loss: 0.0078 - accuracy: 0.99 - ETA: 4s - loss: 0.0078 - accuracy: 0.99 - ETA: 4s - loss: 0.0077 - accuracy: 0.99 - ETA: 4s - loss: 0.0076 - accuracy: 0.99 - ETA: 4s - loss: 0.0076 - accuracy: 0.99 - ETA: 4s - loss: 0.0075 - accuracy: 0.99 - ETA: 4s - loss: 0.0100 - accuracy: 0.99 - ETA: 4s - loss: 0.0099 - accuracy: 0.99 - ETA: 4s - loss: 0.0099 - accuracy: 0.99 - ETA: 3s - loss: 0.0098 - accuracy: 0.99 - ETA: 3s - loss: 0.0097 - accuracy: 0.99 - ETA: 3s - loss: 0.0096 - accuracy: 0.99 - ETA: 3s - loss: 0.0095 - accuracy: 0.99 - ETA: 3s - loss: 0.0094 - accuracy: 0.99 - ETA: 3s - loss: 0.0094 - accuracy: 0.99 - ETA: 3s - loss: 0.0093 - accuracy: 0.99 - ETA: 3s - loss: 0.0092 - accuracy: 0.99 - ETA: 3s - loss: 0.0091 - accuracy: 0.99 - ETA: 3s - loss: 0.0091 - accuracy: 0.99 - ETA: 3s - loss: 0.0090 - accuracy: 0.99 - ETA: 3s - loss: 0.0089 - accuracy: 0.99 - ETA: 3s - loss: 0.0088 - accuracy: 0.99 - ETA: 2s - loss: 0.0088 - accuracy: 0.99 - ETA: 2s - loss: 0.0087 - accuracy: 0.99 - ETA: 2s - loss: 0.0086 - accuracy: 0.99 - ETA: 2s - loss: 0.0086 - accuracy: 0.99 - ETA: 2s - loss: 0.0085 - accuracy: 0.99 - ETA: 2s - loss: 0.0084 - accuracy: 0.99 - ETA: 2s - loss: 0.0084 - accuracy: 0.99 - ETA: 2s - loss: 0.0083 - accuracy: 0.99 - ETA: 2s - loss: 0.0082 - accuracy: 0.99 - ETA: 2s - loss: 0.0082 - accuracy: 0.99 - ETA: 2s - loss: 0.0081 - accuracy: 0.99 - ETA: 2s - loss: 0.0081 - accuracy: 0.99 - ETA: 2s - loss: 0.0080 - accuracy: 0.99 - ETA: 1s - loss: 0.0080 - accuracy: 0.99 - ETA: 1s - loss: 0.0080 - accuracy: 0.99 - ETA: 1s - loss: 0.0079 - accuracy: 0.99 - ETA: 1s - loss: 0.0079 - accuracy: 0.99 - ETA: 1s - loss: 0.0078 - accuracy: 0.99 - ETA: 1s - loss: 0.0078 - accuracy: 0.99 - ETA: 1s - loss: 0.0077 - accuracy: 0.99 - ETA: 1s - loss: 0.0077 - accuracy: 0.99 - ETA: 1s - loss: 0.0076 - accuracy: 0.99 - ETA: 1s - loss: 0.0076 - accuracy: 0.99 - ETA: 1s - loss: 0.0075 - accuracy: 0.99 - ETA: 1s - loss: 0.0075 - accuracy: 0.99 - ETA: 1s - loss: 0.0074 - accuracy: 0.99 - ETA: 0s - loss: 0.0074 - accuracy: 0.99 - ETA: 0s - loss: 0.0073 - accuracy: 0.99 - ETA: 0s - loss: 0.0073 - accuracy: 0.99 - ETA: 0s - loss: 0.0072 - accuracy: 0.99 - ETA: 0s - loss: 0.0072 - accuracy: 0.99 - ETA: 0s - loss: 0.0071 - accuracy: 0.99 - ETA: 0s - loss: 0.0071 - accuracy: 0.99 - ETA: 0s - loss: 0.0071 - accuracy: 0.99 - ETA: 0s - loss: 0.0070 - accuracy: 0.99 - ETA: 0s - loss: 0.0070 - accuracy: 0.99 - ETA: 0s - loss: 0.0069 - accuracy: 0.99 - ETA: 0s - loss: 0.0069 - accuracy: 0.99 - ETA: 0s - loss: 0.0068 - accuracy: 0.99 - ETA: 0s - loss: 0.0068 - accuracy: 0.99 - 13s 10ms/step - loss: 0.0068 - accuracy: 0.9970 - val_loss: 7.2900e-06 - val_accuracy: 1.0000\n",
      "Epoch 35/50\n"
     ]
    },
    {
     "name": "stdout",
     "output_type": "stream",
     "text": [
      "1325/1325 [==============================] - ETA: 11s - loss: 2.0862e-07 - accuracy: 1.000 - ETA: 12s - loss: 8.9407e-08 - accuracy: 1.000 - ETA: 12s - loss: 1.5310e-05 - accuracy: 1.000 - ETA: 12s - loss: 1.0936e-05 - accuracy: 1.000 - ETA: 12s - loss: 8.5155e-06 - accuracy: 1.000 - ETA: 12s - loss: 6.9673e-06 - accuracy: 1.000 - ETA: 11s - loss: 5.8954e-06 - accuracy: 1.000 - ETA: 11s - loss: 5.1093e-06 - accuracy: 1.000 - ETA: 11s - loss: 6.6143e-05 - accuracy: 1.000 - ETA: 11s - loss: 5.9181e-05 - accuracy: 1.000 - ETA: 11s - loss: 5.3545e-05 - accuracy: 1.000 - ETA: 11s - loss: 5.2594e-05 - accuracy: 1.000 - ETA: 11s - loss: 4.8386e-05 - accuracy: 1.000 - ETA: 11s - loss: 4.5241e-05 - accuracy: 1.000 - ETA: 11s - loss: 4.2121e-05 - accuracy: 1.000 - ETA: 11s - loss: 3.9404e-05 - accuracy: 1.000 - ETA: 11s - loss: 3.7017e-05 - accuracy: 1.000 - ETA: 11s - loss: 3.4901e-05 - accuracy: 1.000 - ETA: 11s - loss: 3.3043e-05 - accuracy: 1.000 - ETA: 11s - loss: 4.3535e-05 - accuracy: 1.000 - ETA: 10s - loss: 4.1412e-05 - accuracy: 1.000 - ETA: 10s - loss: 3.9485e-05 - accuracy: 1.000 - ETA: 10s - loss: 3.7835e-05 - accuracy: 1.000 - ETA: 10s - loss: 3.8105e-05 - accuracy: 1.000 - ETA: 10s - loss: 3.6550e-05 - accuracy: 1.000 - ETA: 10s - loss: 3.5119e-05 - accuracy: 1.000 - ETA: 10s - loss: 3.3794e-05 - accuracy: 1.000 - ETA: 10s - loss: 3.2565e-05 - accuracy: 1.000 - ETA: 10s - loss: 3.1512e-05 - accuracy: 1.000 - ETA: 10s - loss: 3.0464e-05 - accuracy: 1.000 - ETA: 10s - loss: 2.9465e-05 - accuracy: 1.000 - ETA: 10s - loss: 2.8530e-05 - accuracy: 1.000 - ETA: 10s - loss: 2.7652e-05 - accuracy: 1.000 - ETA: 9s - loss: 0.0017 - accuracy: 1.0000    - ETA: 9s - loss: 0.0016 - accuracy: 1.00 - ETA: 9s - loss: 0.0016 - accuracy: 1.00 - ETA: 9s - loss: 0.0015 - accuracy: 1.00 - ETA: 9s - loss: 0.0015 - accuracy: 1.00 - ETA: 9s - loss: 0.0015 - accuracy: 1.00 - ETA: 9s - loss: 0.0014 - accuracy: 1.00 - ETA: 9s - loss: 0.0014 - accuracy: 1.00 - ETA: 9s - loss: 0.0014 - accuracy: 1.00 - ETA: 9s - loss: 0.0013 - accuracy: 1.00 - ETA: 9s - loss: 0.0013 - accuracy: 1.00 - ETA: 9s - loss: 0.0013 - accuracy: 1.00 - ETA: 9s - loss: 0.0012 - accuracy: 1.00 - ETA: 8s - loss: 0.0012 - accuracy: 1.00 - ETA: 8s - loss: 0.0012 - accuracy: 1.00 - ETA: 8s - loss: 0.0012 - accuracy: 1.00 - ETA: 8s - loss: 0.0011 - accuracy: 1.00 - ETA: 8s - loss: 0.0011 - accuracy: 1.00 - ETA: 8s - loss: 0.0011 - accuracy: 1.00 - ETA: 8s - loss: 0.0011 - accuracy: 1.00 - ETA: 8s - loss: 0.0011 - accuracy: 1.00 - ETA: 8s - loss: 0.0010 - accuracy: 1.00 - ETA: 8s - loss: 0.0010 - accuracy: 1.00 - ETA: 8s - loss: 9.9582e-04 - accuracy: 1.00 - ETA: 8s - loss: 9.7850e-04 - accuracy: 1.00 - ETA: 8s - loss: 9.6177e-04 - accuracy: 1.00 - ETA: 7s - loss: 9.4561e-04 - accuracy: 1.00 - ETA: 7s - loss: 9.2998e-04 - accuracy: 1.00 - ETA: 7s - loss: 9.1486e-04 - accuracy: 1.00 - ETA: 7s - loss: 9.0022e-04 - accuracy: 1.00 - ETA: 7s - loss: 8.8604e-04 - accuracy: 1.00 - ETA: 7s - loss: 8.7231e-04 - accuracy: 1.00 - ETA: 7s - loss: 8.5899e-04 - accuracy: 1.00 - ETA: 7s - loss: 8.4607e-04 - accuracy: 1.00 - ETA: 7s - loss: 8.3354e-04 - accuracy: 1.00 - ETA: 7s - loss: 8.2274e-04 - accuracy: 1.00 - ETA: 7s - loss: 0.0027 - accuracy: 0.9982   - ETA: 7s - loss: 0.0026 - accuracy: 0.99 - ETA: 7s - loss: 0.0026 - accuracy: 0.99 - ETA: 7s - loss: 0.0025 - accuracy: 0.99 - ETA: 6s - loss: 0.0025 - accuracy: 0.99 - ETA: 6s - loss: 0.0025 - accuracy: 0.99 - ETA: 6s - loss: 0.0024 - accuracy: 0.99 - ETA: 6s - loss: 0.0024 - accuracy: 0.99 - ETA: 6s - loss: 0.0024 - accuracy: 0.99 - ETA: 6s - loss: 0.0024 - accuracy: 0.99 - ETA: 6s - loss: 0.0023 - accuracy: 0.99 - ETA: 6s - loss: 0.0023 - accuracy: 0.99 - ETA: 6s - loss: 0.0023 - accuracy: 0.99 - ETA: 6s - loss: 0.0023 - accuracy: 0.99 - ETA: 6s - loss: 0.0029 - accuracy: 0.99 - ETA: 6s - loss: 0.0029 - accuracy: 0.99 - ETA: 6s - loss: 0.0028 - accuracy: 0.99 - ETA: 5s - loss: 0.0028 - accuracy: 0.99 - ETA: 5s - loss: 0.0028 - accuracy: 0.99 - ETA: 5s - loss: 0.0028 - accuracy: 0.99 - ETA: 5s - loss: 0.0027 - accuracy: 0.99 - ETA: 5s - loss: 0.0027 - accuracy: 0.99 - ETA: 5s - loss: 0.0027 - accuracy: 0.99 - ETA: 5s - loss: 0.0064 - accuracy: 0.99 - ETA: 5s - loss: 0.0064 - accuracy: 0.99 - ETA: 5s - loss: 0.0063 - accuracy: 0.99 - ETA: 5s - loss: 0.0062 - accuracy: 0.99 - ETA: 5s - loss: 0.0062 - accuracy: 0.99 - ETA: 5s - loss: 0.0062 - accuracy: 0.99 - ETA: 5s - loss: 0.0568 - accuracy: 0.99 - ETA: 4s - loss: 0.0563 - accuracy: 0.99 - ETA: 4s - loss: 0.0557 - accuracy: 0.99 - ETA: 4s - loss: 0.0552 - accuracy: 0.99 - ETA: 4s - loss: 0.0546 - accuracy: 0.99 - ETA: 4s - loss: 0.0541 - accuracy: 0.99 - ETA: 4s - loss: 0.0536 - accuracy: 0.99 - ETA: 4s - loss: 0.0531 - accuracy: 0.99 - ETA: 4s - loss: 0.0526 - accuracy: 0.99 - ETA: 4s - loss: 0.0521 - accuracy: 0.99 - ETA: 4s - loss: 0.0516 - accuracy: 0.99 - ETA: 4s - loss: 0.0512 - accuracy: 0.99 - ETA: 4s - loss: 0.0507 - accuracy: 0.99 - ETA: 4s - loss: 0.0502 - accuracy: 0.99 - ETA: 4s - loss: 0.0498 - accuracy: 0.99 - ETA: 3s - loss: 0.0629 - accuracy: 0.99 - ETA: 3s - loss: 0.0623 - accuracy: 0.99 - ETA: 3s - loss: 0.0618 - accuracy: 0.99 - ETA: 3s - loss: 0.0613 - accuracy: 0.99 - ETA: 3s - loss: 0.0608 - accuracy: 0.99 - ETA: 3s - loss: 0.0603 - accuracy: 0.99 - ETA: 3s - loss: 0.0598 - accuracy: 0.99 - ETA: 3s - loss: 0.0593 - accuracy: 0.99 - ETA: 3s - loss: 0.0589 - accuracy: 0.99 - ETA: 3s - loss: 0.0585 - accuracy: 0.99 - ETA: 3s - loss: 0.0580 - accuracy: 0.99 - ETA: 3s - loss: 0.0576 - accuracy: 0.99 - ETA: 3s - loss: 0.0571 - accuracy: 0.99 - ETA: 2s - loss: 0.0568 - accuracy: 0.99 - ETA: 2s - loss: 0.0563 - accuracy: 0.99 - ETA: 2s - loss: 0.0559 - accuracy: 0.99 - ETA: 2s - loss: 0.0554 - accuracy: 0.99 - ETA: 2s - loss: 0.0550 - accuracy: 0.99 - ETA: 2s - loss: 0.0546 - accuracy: 0.99 - ETA: 2s - loss: 0.0542 - accuracy: 0.99 - ETA: 2s - loss: 0.0538 - accuracy: 0.99 - ETA: 2s - loss: 0.0534 - accuracy: 0.99 - ETA: 2s - loss: 0.0530 - accuracy: 0.99 - ETA: 2s - loss: 0.0526 - accuracy: 0.99 - ETA: 2s - loss: 0.0522 - accuracy: 0.99 - ETA: 2s - loss: 0.0519 - accuracy: 0.99 - ETA: 1s - loss: 0.0515 - accuracy: 0.99 - ETA: 1s - loss: 0.0511 - accuracy: 0.99 - ETA: 1s - loss: 0.0508 - accuracy: 0.99 - ETA: 1s - loss: 0.0504 - accuracy: 0.99 - ETA: 1s - loss: 0.0501 - accuracy: 0.99 - ETA: 1s - loss: 0.0497 - accuracy: 0.99 - ETA: 1s - loss: 0.0494 - accuracy: 0.99 - ETA: 1s - loss: 0.0491 - accuracy: 0.99 - ETA: 1s - loss: 0.0488 - accuracy: 0.99 - ETA: 1s - loss: 0.0484 - accuracy: 0.99 - ETA: 1s - loss: 0.0481 - accuracy: 0.99 - ETA: 1s - loss: 0.0478 - accuracy: 0.99 - ETA: 1s - loss: 0.0475 - accuracy: 0.99 - ETA: 0s - loss: 0.0472 - accuracy: 0.99 - ETA: 0s - loss: 0.0469 - accuracy: 0.99 - ETA: 0s - loss: 0.0466 - accuracy: 0.99 - ETA: 0s - loss: 0.0463 - accuracy: 0.99 - ETA: 0s - loss: 0.0460 - accuracy: 0.99 - ETA: 0s - loss: 0.0457 - accuracy: 0.99 - ETA: 0s - loss: 0.0454 - accuracy: 0.99 - ETA: 0s - loss: 0.0451 - accuracy: 0.99 - ETA: 0s - loss: 0.0448 - accuracy: 0.99 - ETA: 0s - loss: 0.0446 - accuracy: 0.99 - ETA: 0s - loss: 0.0443 - accuracy: 0.99 - ETA: 0s - loss: 0.0440 - accuracy: 0.99 - ETA: 0s - loss: 0.0438 - accuracy: 0.99 - ETA: 0s - loss: 0.0435 - accuracy: 0.99 - 13s 10ms/step - loss: 0.0435 - accuracy: 0.9970 - val_loss: 7.1042e-06 - val_accuracy: 1.0000\n",
      "Epoch 36/50\n"
     ]
    },
    {
     "name": "stdout",
     "output_type": "stream",
     "text": [
      "1325/1325 [==============================] - ETA: 11s - loss: 1.4901e-07 - accuracy: 1.000 - ETA: 11s - loss: 2.6341e-05 - accuracy: 1.000 - ETA: 12s - loss: 0.0023 - accuracy: 1.0000    - ETA: 12s - loss: 0.0016 - accuracy: 1.000 - ETA: 12s - loss: 0.0013 - accuracy: 1.000 - ETA: 12s - loss: 0.0010 - accuracy: 1.000 - ETA: 12s - loss: 8.6857e-04 - accuracy: 1.000 - ETA: 12s - loss: 7.5277e-04 - accuracy: 1.000 - ETA: 11s - loss: 6.6421e-04 - accuracy: 1.000 - ETA: 11s - loss: 5.9429e-04 - accuracy: 1.000 - ETA: 11s - loss: 5.3769e-04 - accuracy: 1.000 - ETA: 11s - loss: 4.9110e-04 - accuracy: 1.000 - ETA: 11s - loss: 4.5182e-04 - accuracy: 1.000 - ETA: 11s - loss: 4.1835e-04 - accuracy: 1.000 - ETA: 11s - loss: 5.3277e-04 - accuracy: 1.000 - ETA: 11s - loss: 5.6333e-04 - accuracy: 1.000 - ETA: 11s - loss: 5.2919e-04 - accuracy: 1.000 - ETA: 11s - loss: 4.9896e-04 - accuracy: 1.000 - ETA: 11s - loss: 4.7211e-04 - accuracy: 1.000 - ETA: 11s - loss: 4.4790e-04 - accuracy: 1.000 - ETA: 11s - loss: 4.2605e-04 - accuracy: 1.000 - ETA: 10s - loss: 4.0668e-04 - accuracy: 1.000 - ETA: 10s - loss: 3.8860e-04 - accuracy: 1.000 - ETA: 10s - loss: 3.7207e-04 - accuracy: 1.000 - ETA: 10s - loss: 3.5722e-04 - accuracy: 1.000 - ETA: 10s - loss: 3.4321e-04 - accuracy: 1.000 - ETA: 10s - loss: 3.3026e-04 - accuracy: 1.000 - ETA: 10s - loss: 3.2710e-04 - accuracy: 1.000 - ETA: 10s - loss: 3.1562e-04 - accuracy: 1.000 - ETA: 10s - loss: 3.0508e-04 - accuracy: 1.000 - ETA: 10s - loss: 2.9508e-04 - accuracy: 1.000 - ETA: 10s - loss: 2.8572e-04 - accuracy: 1.000 - ETA: 10s - loss: 2.7693e-04 - accuracy: 1.000 - ETA: 10s - loss: 2.7063e-04 - accuracy: 1.000 - ETA: 9s - loss: 2.6530e-04 - accuracy: 1.000 - ETA: 9s - loss: 2.5783e-04 - accuracy: 1.00 - ETA: 9s - loss: 2.5077e-04 - accuracy: 1.00 - ETA: 9s - loss: 2.4408e-04 - accuracy: 1.00 - ETA: 9s - loss: 2.3774e-04 - accuracy: 1.00 - ETA: 9s - loss: 2.3173e-04 - accuracy: 1.00 - ETA: 9s - loss: 2.2606e-04 - accuracy: 1.00 - ETA: 9s - loss: 2.2630e-04 - accuracy: 1.00 - ETA: 9s - loss: 2.2098e-04 - accuracy: 1.00 - ETA: 9s - loss: 2.1590e-04 - accuracy: 1.00 - ETA: 9s - loss: 2.1105e-04 - accuracy: 1.00 - ETA: 9s - loss: 3.1766e-04 - accuracy: 1.00 - ETA: 9s - loss: 3.1083e-04 - accuracy: 1.00 - ETA: 8s - loss: 3.2659e-04 - accuracy: 1.00 - ETA: 8s - loss: 3.2003e-04 - accuracy: 1.00 - ETA: 8s - loss: 3.2536e-04 - accuracy: 1.00 - ETA: 8s - loss: 3.1903e-04 - accuracy: 1.00 - ETA: 8s - loss: 3.1289e-04 - accuracy: 1.00 - ETA: 8s - loss: 3.0693e-04 - accuracy: 1.00 - ETA: 8s - loss: 3.0129e-04 - accuracy: 1.00 - ETA: 8s - loss: 2.9577e-04 - accuracy: 1.00 - ETA: 8s - loss: 2.9826e-04 - accuracy: 1.00 - ETA: 8s - loss: 3.0235e-04 - accuracy: 1.00 - ETA: 8s - loss: 0.0069 - accuracy: 0.9978   - ETA: 8s - loss: 0.0068 - accuracy: 0.99 - ETA: 8s - loss: 0.0067 - accuracy: 0.99 - ETA: 7s - loss: 0.0066 - accuracy: 0.99 - ETA: 7s - loss: 0.0065 - accuracy: 0.99 - ETA: 7s - loss: 0.0063 - accuracy: 0.99 - ETA: 7s - loss: 0.0062 - accuracy: 0.99 - ETA: 7s - loss: 0.0062 - accuracy: 0.99 - ETA: 7s - loss: 0.0061 - accuracy: 0.99 - ETA: 7s - loss: 0.0060 - accuracy: 0.99 - ETA: 7s - loss: 0.0059 - accuracy: 0.99 - ETA: 7s - loss: 0.0059 - accuracy: 0.99 - ETA: 7s - loss: 0.0058 - accuracy: 0.99 - ETA: 7s - loss: 0.0058 - accuracy: 0.99 - ETA: 7s - loss: 0.0057 - accuracy: 0.99 - ETA: 7s - loss: 0.0056 - accuracy: 0.99 - ETA: 7s - loss: 0.0055 - accuracy: 0.99 - ETA: 7s - loss: 0.0055 - accuracy: 0.99 - ETA: 7s - loss: 0.0055 - accuracy: 0.99 - ETA: 7s - loss: 0.0054 - accuracy: 0.99 - ETA: 6s - loss: 0.0053 - accuracy: 0.99 - ETA: 6s - loss: 0.0053 - accuracy: 0.99 - ETA: 6s - loss: 0.0052 - accuracy: 0.99 - ETA: 6s - loss: 0.0052 - accuracy: 0.99 - ETA: 6s - loss: 0.0051 - accuracy: 0.99 - ETA: 6s - loss: 0.0050 - accuracy: 0.99 - ETA: 6s - loss: 0.0050 - accuracy: 0.99 - ETA: 6s - loss: 0.0050 - accuracy: 0.99 - ETA: 6s - loss: 0.0049 - accuracy: 0.99 - ETA: 6s - loss: 0.0049 - accuracy: 0.99 - ETA: 6s - loss: 0.0051 - accuracy: 0.99 - ETA: 6s - loss: 0.0051 - accuracy: 0.99 - ETA: 6s - loss: 0.0050 - accuracy: 0.99 - ETA: 5s - loss: 0.0050 - accuracy: 0.99 - ETA: 5s - loss: 0.0049 - accuracy: 0.99 - ETA: 5s - loss: 0.0048 - accuracy: 0.99 - ETA: 5s - loss: 0.0048 - accuracy: 0.99 - ETA: 5s - loss: 0.0047 - accuracy: 0.99 - ETA: 5s - loss: 0.0047 - accuracy: 0.99 - ETA: 5s - loss: 0.0046 - accuracy: 0.99 - ETA: 5s - loss: 0.0046 - accuracy: 0.99 - ETA: 5s - loss: 0.0045 - accuracy: 0.99 - ETA: 5s - loss: 0.0045 - accuracy: 0.99 - ETA: 5s - loss: 0.0045 - accuracy: 0.99 - ETA: 5s - loss: 0.0044 - accuracy: 0.99 - ETA: 5s - loss: 0.0044 - accuracy: 0.99 - ETA: 4s - loss: 0.0044 - accuracy: 0.99 - ETA: 4s - loss: 0.0043 - accuracy: 0.99 - ETA: 4s - loss: 0.0043 - accuracy: 0.99 - ETA: 4s - loss: 0.0042 - accuracy: 0.99 - ETA: 4s - loss: 0.0042 - accuracy: 0.99 - ETA: 4s - loss: 0.0042 - accuracy: 0.99 - ETA: 4s - loss: 0.0041 - accuracy: 0.99 - ETA: 4s - loss: 0.0041 - accuracy: 0.99 - ETA: 4s - loss: 0.0040 - accuracy: 0.99 - ETA: 4s - loss: 0.0040 - accuracy: 0.99 - ETA: 4s - loss: 0.0040 - accuracy: 0.99 - ETA: 4s - loss: 0.0039 - accuracy: 0.99 - ETA: 3s - loss: 0.0039 - accuracy: 0.99 - ETA: 3s - loss: 0.0039 - accuracy: 0.99 - ETA: 3s - loss: 0.0038 - accuracy: 0.99 - ETA: 3s - loss: 0.0038 - accuracy: 0.99 - ETA: 3s - loss: 0.0038 - accuracy: 0.99 - ETA: 3s - loss: 0.0037 - accuracy: 0.99 - ETA: 3s - loss: 0.0037 - accuracy: 0.99 - ETA: 3s - loss: 0.0037 - accuracy: 0.99 - ETA: 3s - loss: 0.0036 - accuracy: 0.99 - ETA: 3s - loss: 0.0036 - accuracy: 0.99 - ETA: 3s - loss: 0.0036 - accuracy: 0.99 - ETA: 3s - loss: 0.0036 - accuracy: 0.99 - ETA: 3s - loss: 0.0035 - accuracy: 0.99 - ETA: 2s - loss: 0.0035 - accuracy: 0.99 - ETA: 2s - loss: 0.0035 - accuracy: 0.99 - ETA: 2s - loss: 0.0034 - accuracy: 0.99 - ETA: 2s - loss: 0.0034 - accuracy: 0.99 - ETA: 2s - loss: 0.0034 - accuracy: 0.99 - ETA: 2s - loss: 0.0034 - accuracy: 0.99 - ETA: 2s - loss: 0.0033 - accuracy: 0.99 - ETA: 2s - loss: 0.0033 - accuracy: 0.99 - ETA: 2s - loss: 0.0033 - accuracy: 0.99 - ETA: 2s - loss: 0.0033 - accuracy: 0.99 - ETA: 2s - loss: 0.0033 - accuracy: 0.99 - ETA: 2s - loss: 0.0033 - accuracy: 0.99 - ETA: 2s - loss: 0.0033 - accuracy: 0.99 - ETA: 2s - loss: 0.0033 - accuracy: 0.99 - ETA: 2s - loss: 0.0033 - accuracy: 0.99 - ETA: 2s - loss: 0.0033 - accuracy: 0.99 - ETA: 2s - loss: 0.0033 - accuracy: 0.99 - ETA: 1s - loss: 0.0032 - accuracy: 0.99 - ETA: 1s - loss: 0.0032 - accuracy: 0.99 - ETA: 1s - loss: 0.0032 - accuracy: 0.99 - ETA: 1s - loss: 0.0032 - accuracy: 0.99 - ETA: 1s - loss: 0.0031 - accuracy: 0.99 - ETA: 1s - loss: 0.0031 - accuracy: 0.99 - ETA: 1s - loss: 0.0031 - accuracy: 0.99 - ETA: 1s - loss: 0.0031 - accuracy: 0.99 - ETA: 1s - loss: 0.0031 - accuracy: 0.99 - ETA: 1s - loss: 0.0030 - accuracy: 0.99 - ETA: 1s - loss: 0.0030 - accuracy: 0.99 - ETA: 1s - loss: 0.0030 - accuracy: 0.99 - ETA: 1s - loss: 0.0030 - accuracy: 0.99 - ETA: 0s - loss: 0.0030 - accuracy: 0.99 - ETA: 0s - loss: 0.0029 - accuracy: 0.99 - ETA: 0s - loss: 0.0029 - accuracy: 0.99 - ETA: 0s - loss: 0.0029 - accuracy: 0.99 - ETA: 0s - loss: 0.0029 - accuracy: 0.99 - ETA: 0s - loss: 0.0029 - accuracy: 0.99 - ETA: 0s - loss: 0.0029 - accuracy: 0.99 - ETA: 0s - loss: 0.0029 - accuracy: 0.99 - ETA: 0s - loss: 0.0029 - accuracy: 0.99 - ETA: 0s - loss: 0.0028 - accuracy: 0.99 - ETA: 0s - loss: 0.0028 - accuracy: 0.99 - ETA: 0s - loss: 0.0028 - accuracy: 0.99 - ETA: 0s - loss: 0.0028 - accuracy: 0.99 - ETA: 0s - loss: 0.0028 - accuracy: 0.99 - ETA: 0s - loss: 0.0028 - accuracy: 0.99 - ETA: 0s - loss: 0.0028 - accuracy: 0.99 - ETA: 0s - loss: 0.0028 - accuracy: 0.99 - ETA: 0s - loss: 0.0028 - accuracy: 0.99 - ETA: 0s - loss: 0.0028 - accuracy: 0.99 - ETA: 0s - loss: 0.0027 - accuracy: 0.99 - 14s 10ms/step - loss: 0.0027 - accuracy: 0.9992 - val_loss: 1.7989e-07 - val_accuracy: 1.0000\n",
      "Epoch 37/50\n"
     ]
    },
    {
     "name": "stdout",
     "output_type": "stream",
     "text": [
      "1304/1325 [============================>.] - ETA: 11s - loss: 5.9605e-08 - accuracy: 1.000 - ETA: 13s - loss: 1.9868e-08 - accuracy: 1.000 - ETA: 13s - loss: 1.4901e-08 - accuracy: 1.000 - ETA: 14s - loss: 1.1921e-08 - accuracy: 1.000 - ETA: 15s - loss: 1.4901e-08 - accuracy: 1.000 - ETA: 16s - loss: 1.2772e-08 - accuracy: 1.000 - ETA: 15s - loss: 9.9341e-09 - accuracy: 1.000 - ETA: 15s - loss: 2.5791e-06 - accuracy: 1.000 - ETA: 14s - loss: 1.3373e-05 - accuracy: 1.000 - ETA: 14s - loss: 1.1590e-05 - accuracy: 1.000 - ETA: 14s - loss: 1.0227e-05 - accuracy: 1.000 - ETA: 14s - loss: 9.2725e-06 - accuracy: 1.000 - ETA: 13s - loss: 8.4022e-06 - accuracy: 1.000 - ETA: 13s - loss: 8.0202e-06 - accuracy: 1.000 - ETA: 13s - loss: 7.3519e-06 - accuracy: 1.000 - ETA: 13s - loss: 7.0578e-06 - accuracy: 1.000 - ETA: 13s - loss: 6.5350e-06 - accuracy: 1.000 - ETA: 13s - loss: 6.9691e-06 - accuracy: 1.000 - ETA: 13s - loss: 6.5906e-06 - accuracy: 1.000 - ETA: 13s - loss: 6.1912e-06 - accuracy: 1.000 - ETA: 12s - loss: 5.8374e-06 - accuracy: 1.000 - ETA: 12s - loss: 5.5219e-06 - accuracy: 1.000 - ETA: 12s - loss: 5.2387e-06 - accuracy: 1.000 - ETA: 12s - loss: 4.9861e-06 - accuracy: 1.000 - ETA: 12s - loss: 2.9797e-04 - accuracy: 1.000 - ETA: 12s - loss: 2.8473e-04 - accuracy: 1.000 - ETA: 12s - loss: 2.7261e-04 - accuracy: 1.000 - ETA: 12s - loss: 2.6338e-04 - accuracy: 1.000 - ETA: 11s - loss: 2.5713e-04 - accuracy: 1.000 - ETA: 11s - loss: 2.4746e-04 - accuracy: 1.000 - ETA: 11s - loss: 2.3846e-04 - accuracy: 1.000 - ETA: 11s - loss: 2.3009e-04 - accuracy: 1.000 - ETA: 11s - loss: 2.2235e-04 - accuracy: 1.000 - ETA: 11s - loss: 2.1506e-04 - accuracy: 1.000 - ETA: 11s - loss: 2.0827e-04 - accuracy: 1.000 - ETA: 11s - loss: 2.0186e-04 - accuracy: 1.000 - ETA: 11s - loss: 1.9587e-04 - accuracy: 1.000 - ETA: 11s - loss: 1.9299e-04 - accuracy: 1.000 - ETA: 11s - loss: 1.9019e-04 - accuracy: 1.000 - ETA: 11s - loss: 1.8748e-04 - accuracy: 1.000 - ETA: 11s - loss: 1.8484e-04 - accuracy: 1.000 - ETA: 11s - loss: 1.8227e-04 - accuracy: 1.000 - ETA: 11s - loss: 1.7977e-04 - accuracy: 1.000 - ETA: 11s - loss: 1.7738e-04 - accuracy: 1.000 - ETA: 11s - loss: 1.7501e-04 - accuracy: 1.000 - ETA: 11s - loss: 1.7271e-04 - accuracy: 1.000 - ETA: 11s - loss: 1.7047e-04 - accuracy: 1.000 - ETA: 11s - loss: 1.6828e-04 - accuracy: 1.000 - ETA: 11s - loss: 1.6615e-04 - accuracy: 1.000 - ETA: 11s - loss: 1.6407e-04 - accuracy: 1.000 - ETA: 11s - loss: 1.6007e-04 - accuracy: 1.000 - ETA: 11s - loss: 1.5814e-04 - accuracy: 1.000 - ETA: 11s - loss: 1.5442e-04 - accuracy: 1.000 - ETA: 10s - loss: 1.5087e-04 - accuracy: 1.000 - ETA: 10s - loss: 1.4748e-04 - accuracy: 1.000 - ETA: 10s - loss: 1.4560e-04 - accuracy: 1.000 - ETA: 10s - loss: 1.4247e-04 - accuracy: 1.000 - ETA: 10s - loss: 1.3947e-04 - accuracy: 1.000 - ETA: 10s - loss: 1.3802e-04 - accuracy: 1.000 - ETA: 10s - loss: 1.3660e-04 - accuracy: 1.000 - ETA: 10s - loss: 1.3520e-04 - accuracy: 1.000 - ETA: 10s - loss: 1.3250e-04 - accuracy: 1.000 - ETA: 10s - loss: 1.2990e-04 - accuracy: 1.000 - ETA: 10s - loss: 1.2740e-04 - accuracy: 1.000 - ETA: 9s - loss: 1.2503e-04 - accuracy: 1.000 - ETA: 9s - loss: 1.2272e-04 - accuracy: 1.00 - ETA: 9s - loss: 1.2049e-04 - accuracy: 1.00 - ETA: 9s - loss: 1.1834e-04 - accuracy: 1.00 - ETA: 9s - loss: 1.1627e-04 - accuracy: 1.00 - ETA: 9s - loss: 1.1426e-04 - accuracy: 1.00 - ETA: 9s - loss: 1.1232e-04 - accuracy: 1.00 - ETA: 9s - loss: 1.1046e-04 - accuracy: 1.00 - ETA: 9s - loss: 1.0865e-04 - accuracy: 1.00 - ETA: 8s - loss: 1.0708e-04 - accuracy: 1.00 - ETA: 8s - loss: 1.0538e-04 - accuracy: 1.00 - ETA: 8s - loss: 1.0374e-04 - accuracy: 1.00 - ETA: 8s - loss: 1.0214e-04 - accuracy: 1.00 - ETA: 8s - loss: 1.0059e-04 - accuracy: 1.00 - ETA: 8s - loss: 9.9092e-05 - accuracy: 1.00 - ETA: 8s - loss: 9.7635e-05 - accuracy: 1.00 - ETA: 8s - loss: 9.6220e-05 - accuracy: 1.00 - ETA: 8s - loss: 9.4845e-05 - accuracy: 1.00 - ETA: 8s - loss: 9.3509e-05 - accuracy: 1.00 - ETA: 7s - loss: 9.2210e-05 - accuracy: 1.00 - ETA: 7s - loss: 9.0952e-05 - accuracy: 1.00 - ETA: 7s - loss: 9.1877e-05 - accuracy: 1.00 - ETA: 7s - loss: 9.0651e-05 - accuracy: 1.00 - ETA: 7s - loss: 9.5239e-05 - accuracy: 1.00 - ETA: 7s - loss: 9.4002e-05 - accuracy: 1.00 - ETA: 7s - loss: 9.2797e-05 - accuracy: 1.00 - ETA: 7s - loss: 9.9984e-05 - accuracy: 1.00 - ETA: 7s - loss: 1.2394e-04 - accuracy: 1.00 - ETA: 7s - loss: 1.2241e-04 - accuracy: 1.00 - ETA: 7s - loss: 1.2093e-04 - accuracy: 1.00 - ETA: 6s - loss: 1.1948e-04 - accuracy: 1.00 - ETA: 6s - loss: 1.1806e-04 - accuracy: 1.00 - ETA: 6s - loss: 1.1667e-04 - accuracy: 1.00 - ETA: 6s - loss: 1.1542e-04 - accuracy: 1.00 - ETA: 6s - loss: 1.1409e-04 - accuracy: 1.00 - ETA: 6s - loss: 1.1279e-04 - accuracy: 1.00 - ETA: 6s - loss: 1.1153e-04 - accuracy: 1.00 - ETA: 6s - loss: 1.1029e-04 - accuracy: 1.00 - ETA: 6s - loss: 1.0907e-04 - accuracy: 1.00 - ETA: 6s - loss: 1.0789e-04 - accuracy: 1.00 - ETA: 6s - loss: 1.0673e-04 - accuracy: 1.00 - ETA: 5s - loss: 1.0559e-04 - accuracy: 1.00 - ETA: 5s - loss: 1.0448e-04 - accuracy: 1.00 - ETA: 5s - loss: 1.0369e-04 - accuracy: 1.00 - ETA: 5s - loss: 1.0263e-04 - accuracy: 1.00 - ETA: 5s - loss: 1.0158e-04 - accuracy: 1.00 - ETA: 5s - loss: 1.0055e-04 - accuracy: 1.00 - ETA: 5s - loss: 1.0857e-04 - accuracy: 1.00 - ETA: 5s - loss: 1.0749e-04 - accuracy: 1.00 - ETA: 5s - loss: 1.0664e-04 - accuracy: 1.00 - ETA: 5s - loss: 1.0569e-04 - accuracy: 1.00 - ETA: 5s - loss: 1.0468e-04 - accuracy: 1.00 - ETA: 5s - loss: 1.0369e-04 - accuracy: 1.00 - ETA: 4s - loss: 1.0271e-04 - accuracy: 1.00 - ETA: 4s - loss: 1.0175e-04 - accuracy: 1.00 - ETA: 4s - loss: 1.0081e-04 - accuracy: 1.00 - ETA: 4s - loss: 9.9886e-05 - accuracy: 1.00 - ETA: 4s - loss: 9.8978e-05 - accuracy: 1.00 - ETA: 4s - loss: 9.8086e-05 - accuracy: 1.00 - ETA: 4s - loss: 9.7225e-05 - accuracy: 1.00 - ETA: 4s - loss: 9.6364e-05 - accuracy: 1.00 - ETA: 4s - loss: 9.5580e-05 - accuracy: 1.00 - ETA: 4s - loss: 9.4749e-05 - accuracy: 1.00 - ETA: 4s - loss: 9.6720e-05 - accuracy: 1.00 - ETA: 3s - loss: 9.5901e-05 - accuracy: 1.00 - ETA: 3s - loss: 9.5088e-05 - accuracy: 1.00 - ETA: 3s - loss: 2.1309e-04 - accuracy: 1.00 - ETA: 3s - loss: 2.1132e-04 - accuracy: 1.00 - ETA: 3s - loss: 2.0957e-04 - accuracy: 1.00 - ETA: 3s - loss: 2.0785e-04 - accuracy: 1.00 - ETA: 3s - loss: 2.0616e-04 - accuracy: 1.00 - ETA: 3s - loss: 2.0456e-04 - accuracy: 1.00 - ETA: 3s - loss: 2.0292e-04 - accuracy: 1.00 - ETA: 3s - loss: 2.0131e-04 - accuracy: 1.00 - ETA: 3s - loss: 1.9973e-04 - accuracy: 1.00 - ETA: 3s - loss: 1.9817e-04 - accuracy: 1.00 - ETA: 2s - loss: 1.9663e-04 - accuracy: 1.00 - ETA: 2s - loss: 1.9512e-04 - accuracy: 1.00 - ETA: 2s - loss: 1.9363e-04 - accuracy: 1.00 - ETA: 2s - loss: 1.9216e-04 - accuracy: 1.00 - ETA: 2s - loss: 1.9072e-04 - accuracy: 1.00 - ETA: 2s - loss: 1.8930e-04 - accuracy: 1.00 - ETA: 2s - loss: 1.8791e-04 - accuracy: 1.00 - ETA: 2s - loss: 1.8652e-04 - accuracy: 1.00 - ETA: 2s - loss: 1.8516e-04 - accuracy: 1.00 - ETA: 2s - loss: 1.8382e-04 - accuracy: 1.00 - ETA: 2s - loss: 1.8250e-04 - accuracy: 1.00 - ETA: 2s - loss: 1.8119e-04 - accuracy: 1.00 - ETA: 1s - loss: 1.7991e-04 - accuracy: 1.00 - ETA: 1s - loss: 1.7864e-04 - accuracy: 1.00 - ETA: 1s - loss: 1.7739e-04 - accuracy: 1.00 - ETA: 1s - loss: 1.7616e-04 - accuracy: 1.00 - ETA: 1s - loss: 1.7495e-04 - accuracy: 1.00 - ETA: 1s - loss: 1.7375e-04 - accuracy: 1.00 - ETA: 1s - loss: 1.7257e-04 - accuracy: 1.00 - ETA: 1s - loss: 1.7140e-04 - accuracy: 1.00 - ETA: 1s - loss: 1.7025e-04 - accuracy: 1.00 - ETA: 1s - loss: 1.6911e-04 - accuracy: 1.00 - ETA: 1s - loss: 1.6800e-04 - accuracy: 1.00 - ETA: 1s - loss: 1.6689e-04 - accuracy: 1.00 - ETA: 1s - loss: 1.6580e-04 - accuracy: 1.00 - ETA: 0s - loss: 1.6473e-04 - accuracy: 1.00 - ETA: 0s - loss: 1.6367e-04 - accuracy: 1.00 - ETA: 0s - loss: 1.6262e-04 - accuracy: 1.00 - ETA: 0s - loss: 1.6159e-04 - accuracy: 1.00 - ETA: 0s - loss: 1.6056e-04 - accuracy: 1.00 - ETA: 0s - loss: 1.5955e-04 - accuracy: 1.00 - ETA: 0s - loss: 1.5856e-04 - accuracy: 1.00 - ETA: 0s - loss: 1.5758e-04 - accuracy: 1.00 - ETA: 0s - loss: 1.5660e-04 - accuracy: 1.00 - ETA: 0s - loss: 1.5564e-04 - accuracy: 1.0000"
     ]
    },
    {
     "name": "stdout",
     "output_type": "stream",
     "text": [
      "1325/1325 [==============================] - ETA: 0s - loss: 1.5469e-04 - accuracy: 1.00 - ETA: 0s - loss: 1.5376e-04 - accuracy: 1.00 - 14s 10ms/step - loss: 1.5318e-04 - accuracy: 1.0000 - val_loss: 7.5403e-09 - val_accuracy: 1.0000\n",
      "Epoch 38/50\n",
      "1325/1325 [==============================] - ETA: 11s - loss: 0.0000e+00 - accuracy: 1.000 - ETA: 11s - loss: 0.0000e+00 - accuracy: 1.000 - ETA: 12s - loss: 0.0000e+00 - accuracy: 1.000 - ETA: 13s - loss: 0.0000e+00 - accuracy: 1.000 - ETA: 12s - loss: 7.4506e-09 - accuracy: 1.000 - ETA: 12s - loss: 5.9605e-09 - accuracy: 1.000 - ETA: 12s - loss: 4.9671e-09 - accuracy: 1.000 - ETA: 12s - loss: 4.2575e-09 - accuracy: 1.000 - ETA: 12s - loss: 3.7253e-09 - accuracy: 1.000 - ETA: 12s - loss: 3.3114e-09 - accuracy: 1.000 - ETA: 12s - loss: 2.9802e-09 - accuracy: 1.000 - ETA: 12s - loss: 2.7093e-09 - accuracy: 1.000 - ETA: 11s - loss: 2.4835e-09 - accuracy: 1.000 - ETA: 11s - loss: 2.2925e-09 - accuracy: 1.000 - ETA: 11s - loss: 1.8094e-08 - accuracy: 1.000 - ETA: 11s - loss: 2.4736e-07 - accuracy: 1.000 - ETA: 11s - loss: 2.4587e-07 - accuracy: 1.000 - ETA: 11s - loss: 2.3140e-07 - accuracy: 1.000 - ETA: 11s - loss: 2.1855e-07 - accuracy: 1.000 - ETA: 11s - loss: 2.0705e-07 - accuracy: 1.000 - ETA: 11s - loss: 1.9669e-07 - accuracy: 1.000 - ETA: 11s - loss: 3.6937e-04 - accuracy: 1.000 - ETA: 11s - loss: 3.5258e-04 - accuracy: 1.000 - ETA: 10s - loss: 3.3725e-04 - accuracy: 1.000 - ETA: 10s - loss: 3.2320e-04 - accuracy: 1.000 - ETA: 10s - loss: 3.1027e-04 - accuracy: 1.000 - ETA: 10s - loss: 2.9834e-04 - accuracy: 1.000 - ETA: 10s - loss: 2.8738e-04 - accuracy: 1.000 - ETA: 10s - loss: 2.7711e-04 - accuracy: 1.000 - ETA: 10s - loss: 2.6756e-04 - accuracy: 1.000 - ETA: 10s - loss: 2.5864e-04 - accuracy: 1.000 - ETA: 10s - loss: 2.5030e-04 - accuracy: 1.000 - ETA: 10s - loss: 2.4247e-04 - accuracy: 1.000 - ETA: 10s - loss: 2.3513e-04 - accuracy: 1.000 - ETA: 10s - loss: 2.2821e-04 - accuracy: 1.000 - ETA: 10s - loss: 2.2169e-04 - accuracy: 1.000 - ETA: 9s - loss: 2.1553e-04 - accuracy: 1.000 - ETA: 9s - loss: 2.0971e-04 - accuracy: 1.00 - ETA: 9s - loss: 2.0419e-04 - accuracy: 1.00 - ETA: 9s - loss: 1.9895e-04 - accuracy: 1.00 - ETA: 9s - loss: 1.9398e-04 - accuracy: 1.00 - ETA: 9s - loss: 1.8925e-04 - accuracy: 1.00 - ETA: 9s - loss: 1.8475e-04 - accuracy: 1.00 - ETA: 9s - loss: 1.8045e-04 - accuracy: 1.00 - ETA: 9s - loss: 1.7635e-04 - accuracy: 1.00 - ETA: 9s - loss: 1.7262e-04 - accuracy: 1.00 - ETA: 9s - loss: 1.6887e-04 - accuracy: 1.00 - ETA: 9s - loss: 1.6527e-04 - accuracy: 1.00 - ETA: 8s - loss: 1.6183e-04 - accuracy: 1.00 - ETA: 8s - loss: 1.5853e-04 - accuracy: 1.00 - ETA: 8s - loss: 1.5536e-04 - accuracy: 1.00 - ETA: 8s - loss: 1.5231e-04 - accuracy: 1.00 - ETA: 8s - loss: 1.4938e-04 - accuracy: 1.00 - ETA: 8s - loss: 1.4656e-04 - accuracy: 1.00 - ETA: 8s - loss: 1.4385e-04 - accuracy: 1.00 - ETA: 8s - loss: 1.4123e-04 - accuracy: 1.00 - ETA: 8s - loss: 2.8601e-04 - accuracy: 1.00 - ETA: 8s - loss: 2.8101e-04 - accuracy: 1.00 - ETA: 8s - loss: 2.7616e-04 - accuracy: 1.00 - ETA: 8s - loss: 2.7148e-04 - accuracy: 1.00 - ETA: 8s - loss: 2.6696e-04 - accuracy: 1.00 - ETA: 7s - loss: 2.6258e-04 - accuracy: 1.00 - ETA: 7s - loss: 2.5835e-04 - accuracy: 1.00 - ETA: 7s - loss: 2.5425e-04 - accuracy: 1.00 - ETA: 7s - loss: 2.5028e-04 - accuracy: 1.00 - ETA: 7s - loss: 2.4642e-04 - accuracy: 1.00 - ETA: 7s - loss: 2.4269e-04 - accuracy: 1.00 - ETA: 7s - loss: 2.3907e-04 - accuracy: 1.00 - ETA: 7s - loss: 2.3555e-04 - accuracy: 1.00 - ETA: 7s - loss: 2.3214e-04 - accuracy: 1.00 - ETA: 7s - loss: 2.2882e-04 - accuracy: 1.00 - ETA: 7s - loss: 2.2560e-04 - accuracy: 1.00 - ETA: 7s - loss: 2.2247e-04 - accuracy: 1.00 - ETA: 7s - loss: 2.1942e-04 - accuracy: 1.00 - ETA: 6s - loss: 2.1646e-04 - accuracy: 1.00 - ETA: 6s - loss: 2.1358e-04 - accuracy: 1.00 - ETA: 6s - loss: 2.1077e-04 - accuracy: 1.00 - ETA: 6s - loss: 2.0803e-04 - accuracy: 1.00 - ETA: 6s - loss: 2.0666e-04 - accuracy: 1.00 - ETA: 6s - loss: 2.0405e-04 - accuracy: 1.00 - ETA: 6s - loss: 2.0150e-04 - accuracy: 1.00 - ETA: 6s - loss: 1.9901e-04 - accuracy: 1.00 - ETA: 6s - loss: 1.9658e-04 - accuracy: 1.00 - ETA: 6s - loss: 1.9421e-04 - accuracy: 1.00 - ETA: 6s - loss: 1.9190e-04 - accuracy: 1.00 - ETA: 6s - loss: 1.8964e-04 - accuracy: 1.00 - ETA: 6s - loss: 1.8744e-04 - accuracy: 1.00 - ETA: 5s - loss: 1.8528e-04 - accuracy: 1.00 - ETA: 5s - loss: 1.8318e-04 - accuracy: 1.00 - ETA: 5s - loss: 1.8112e-04 - accuracy: 1.00 - ETA: 5s - loss: 1.8450e-04 - accuracy: 1.00 - ETA: 5s - loss: 1.8247e-04 - accuracy: 1.00 - ETA: 5s - loss: 0.0245 - accuracy: 0.9986   - ETA: 5s - loss: 0.0243 - accuracy: 0.99 - ETA: 5s - loss: 0.0240 - accuracy: 0.99 - ETA: 5s - loss: 0.0237 - accuracy: 0.99 - ETA: 5s - loss: 0.0235 - accuracy: 0.99 - ETA: 5s - loss: 0.0233 - accuracy: 0.99 - ETA: 5s - loss: 0.0230 - accuracy: 0.99 - ETA: 5s - loss: 0.0228 - accuracy: 0.99 - ETA: 4s - loss: 0.0226 - accuracy: 0.99 - ETA: 4s - loss: 0.0223 - accuracy: 0.99 - ETA: 4s - loss: 0.0221 - accuracy: 0.99 - ETA: 4s - loss: 0.0219 - accuracy: 0.99 - ETA: 4s - loss: 0.0217 - accuracy: 0.99 - ETA: 4s - loss: 0.0215 - accuracy: 0.99 - ETA: 4s - loss: 0.0213 - accuracy: 0.99 - ETA: 4s - loss: 0.0211 - accuracy: 0.99 - ETA: 4s - loss: 0.0209 - accuracy: 0.99 - ETA: 4s - loss: 0.0207 - accuracy: 0.99 - ETA: 4s - loss: 0.0205 - accuracy: 0.99 - ETA: 4s - loss: 0.0203 - accuracy: 0.99 - ETA: 4s - loss: 0.0202 - accuracy: 0.99 - ETA: 3s - loss: 0.0200 - accuracy: 0.99 - ETA: 3s - loss: 0.0198 - accuracy: 0.99 - ETA: 3s - loss: 0.0196 - accuracy: 0.99 - ETA: 3s - loss: 0.0195 - accuracy: 0.99 - ETA: 3s - loss: 0.0193 - accuracy: 0.99 - ETA: 3s - loss: 0.0191 - accuracy: 0.99 - ETA: 3s - loss: 0.0190 - accuracy: 0.99 - ETA: 3s - loss: 0.0188 - accuracy: 0.99 - ETA: 3s - loss: 0.0187 - accuracy: 0.99 - ETA: 3s - loss: 0.0186 - accuracy: 0.99 - ETA: 3s - loss: 0.0184 - accuracy: 0.99 - ETA: 3s - loss: 0.0183 - accuracy: 0.99 - ETA: 3s - loss: 0.0181 - accuracy: 0.99 - ETA: 3s - loss: 0.0180 - accuracy: 0.99 - ETA: 2s - loss: 0.0178 - accuracy: 0.99 - ETA: 2s - loss: 0.0177 - accuracy: 0.99 - ETA: 2s - loss: 0.0176 - accuracy: 0.99 - ETA: 2s - loss: 0.0174 - accuracy: 0.99 - ETA: 2s - loss: 0.0173 - accuracy: 0.99 - ETA: 2s - loss: 0.0172 - accuracy: 0.99 - ETA: 2s - loss: 0.0170 - accuracy: 0.99 - ETA: 2s - loss: 0.0169 - accuracy: 0.99 - ETA: 2s - loss: 0.0168 - accuracy: 0.99 - ETA: 2s - loss: 0.0167 - accuracy: 0.99 - ETA: 2s - loss: 0.0165 - accuracy: 0.99 - ETA: 2s - loss: 0.0164 - accuracy: 0.99 - ETA: 2s - loss: 0.0163 - accuracy: 0.99 - ETA: 1s - loss: 0.0166 - accuracy: 0.99 - ETA: 1s - loss: 0.0164 - accuracy: 0.99 - ETA: 1s - loss: 0.0163 - accuracy: 0.99 - ETA: 1s - loss: 0.0162 - accuracy: 0.99 - ETA: 1s - loss: 0.0161 - accuracy: 0.99 - ETA: 1s - loss: 0.0160 - accuracy: 0.99 - ETA: 1s - loss: 0.0159 - accuracy: 0.99 - ETA: 1s - loss: 0.0158 - accuracy: 0.99 - ETA: 1s - loss: 0.0157 - accuracy: 0.99 - ETA: 1s - loss: 0.0156 - accuracy: 0.99 - ETA: 1s - loss: 0.0155 - accuracy: 0.99 - ETA: 1s - loss: 0.0154 - accuracy: 0.99 - ETA: 1s - loss: 0.0153 - accuracy: 0.99 - ETA: 0s - loss: 0.0152 - accuracy: 0.99 - ETA: 0s - loss: 0.0151 - accuracy: 0.99 - ETA: 0s - loss: 0.0150 - accuracy: 0.99 - ETA: 0s - loss: 0.0149 - accuracy: 0.99 - ETA: 0s - loss: 0.0148 - accuracy: 0.99 - ETA: 0s - loss: 0.0147 - accuracy: 0.99 - ETA: 0s - loss: 0.0146 - accuracy: 0.99 - ETA: 0s - loss: 0.0145 - accuracy: 0.99 - ETA: 0s - loss: 0.0144 - accuracy: 0.99 - ETA: 0s - loss: 0.0143 - accuracy: 0.99 - ETA: 0s - loss: 0.0142 - accuracy: 0.99 - ETA: 0s - loss: 0.0141 - accuracy: 0.99 - ETA: 0s - loss: 0.0141 - accuracy: 0.99 - 13s 10ms/step - loss: 0.0140 - accuracy: 0.9992 - val_loss: 8.2585e-09 - val_accuracy: 1.0000\n",
      "Epoch 39/50\n"
     ]
    },
    {
     "name": "stdout",
     "output_type": "stream",
     "text": [
      "1132/1325 [========================>.....] - ETA: 11s - loss: 0.0000e+00 - accuracy: 1.000 - ETA: 12s - loss: 0.0000e+00 - accuracy: 1.000 - ETA: 12s - loss: 0.0000e+00 - accuracy: 1.000 - ETA: 12s - loss: 0.0000e+00 - accuracy: 1.000 - ETA: 12s - loss: 0.0000e+00 - accuracy: 1.000 - ETA: 12s - loss: 0.0000e+00 - accuracy: 1.000 - ETA: 12s - loss: 1.1233e-07 - accuracy: 1.000 - ETA: 12s - loss: 9.7354e-08 - accuracy: 1.000 - ETA: 12s - loss: 8.5901e-08 - accuracy: 1.000 - ETA: 12s - loss: 7.6858e-08 - accuracy: 1.000 - ETA: 11s - loss: 6.9539e-08 - accuracy: 1.000 - ETA: 11s - loss: 6.3492e-08 - accuracy: 1.000 - ETA: 11s - loss: 6.9141e-08 - accuracy: 1.000 - ETA: 11s - loss: 6.4020e-08 - accuracy: 1.000 - ETA: 11s - loss: 5.9604e-08 - accuracy: 1.000 - ETA: 11s - loss: 5.5759e-08 - accuracy: 1.000 - ETA: 11s - loss: 5.2380e-08 - accuracy: 1.000 - ETA: 11s - loss: 4.9387e-08 - accuracy: 1.000 - ETA: 11s - loss: 4.6717e-08 - accuracy: 1.000 - ETA: 11s - loss: 4.5008e-05 - accuracy: 1.000 - ETA: 11s - loss: 4.2813e-05 - accuracy: 1.000 - ETA: 11s - loss: 4.0822e-05 - accuracy: 1.000 - ETA: 10s - loss: 3.9007e-05 - accuracy: 1.000 - ETA: 10s - loss: 3.7347e-05 - accuracy: 1.000 - ETA: 10s - loss: 3.5823e-05 - accuracy: 1.000 - ETA: 10s - loss: 0.0261 - accuracy: 0.9951    - ETA: 10s - loss: 0.0251 - accuracy: 0.995 - ETA: 10s - loss: 0.0242 - accuracy: 0.995 - ETA: 10s - loss: 0.0233 - accuracy: 0.995 - ETA: 10s - loss: 0.0225 - accuracy: 0.995 - ETA: 10s - loss: 0.0218 - accuracy: 0.995 - ETA: 10s - loss: 0.0211 - accuracy: 0.996 - ETA: 10s - loss: 0.0205 - accuracy: 0.996 - ETA: 10s - loss: 0.0199 - accuracy: 0.996 - ETA: 10s - loss: 0.0193 - accuracy: 0.996 - ETA: 9s - loss: 0.0187 - accuracy: 0.996 - ETA: 9s - loss: 0.0182 - accuracy: 0.99 - ETA: 9s - loss: 0.0177 - accuracy: 0.99 - ETA: 9s - loss: 0.0173 - accuracy: 0.99 - ETA: 9s - loss: 0.0168 - accuracy: 0.99 - ETA: 9s - loss: 0.0164 - accuracy: 0.99 - ETA: 9s - loss: 0.0160 - accuracy: 0.99 - ETA: 9s - loss: 0.0157 - accuracy: 0.99 - ETA: 9s - loss: 0.0153 - accuracy: 0.99 - ETA: 9s - loss: 0.0151 - accuracy: 0.99 - ETA: 9s - loss: 0.0148 - accuracy: 0.99 - ETA: 9s - loss: 0.0145 - accuracy: 0.99 - ETA: 9s - loss: 0.0142 - accuracy: 0.99 - ETA: 9s - loss: 0.0139 - accuracy: 0.99 - ETA: 8s - loss: 0.0136 - accuracy: 0.99 - ETA: 8s - loss: 0.0134 - accuracy: 0.99 - ETA: 8s - loss: 0.0131 - accuracy: 0.99 - ETA: 8s - loss: 0.0129 - accuracy: 0.99 - ETA: 8s - loss: 0.0127 - accuracy: 0.99 - ETA: 8s - loss: 0.0125 - accuracy: 0.99 - ETA: 8s - loss: 0.0123 - accuracy: 0.99 - ETA: 8s - loss: 0.0120 - accuracy: 0.99 - ETA: 8s - loss: 0.0118 - accuracy: 0.99 - ETA: 8s - loss: 0.0116 - accuracy: 0.99 - ETA: 8s - loss: 0.0114 - accuracy: 0.99 - ETA: 8s - loss: 0.0112 - accuracy: 0.99 - ETA: 8s - loss: 0.0111 - accuracy: 0.99 - ETA: 7s - loss: 0.0110 - accuracy: 0.99 - ETA: 7s - loss: 0.0503 - accuracy: 0.99 - ETA: 7s - loss: 0.0495 - accuracy: 0.99 - ETA: 7s - loss: 0.0488 - accuracy: 0.99 - ETA: 7s - loss: 0.0480 - accuracy: 0.99 - ETA: 7s - loss: 0.0473 - accuracy: 0.99 - ETA: 7s - loss: 0.0466 - accuracy: 0.99 - ETA: 7s - loss: 0.0459 - accuracy: 0.99 - ETA: 7s - loss: 0.0453 - accuracy: 0.99 - ETA: 7s - loss: 0.0446 - accuracy: 0.99 - ETA: 7s - loss: 0.0442 - accuracy: 0.99 - ETA: 7s - loss: 0.0436 - accuracy: 0.99 - ETA: 7s - loss: 0.0431 - accuracy: 0.99 - ETA: 6s - loss: 0.0425 - accuracy: 0.99 - ETA: 6s - loss: 0.0419 - accuracy: 0.99 - ETA: 6s - loss: 0.0414 - accuracy: 0.99 - ETA: 6s - loss: 0.0411 - accuracy: 0.99 - ETA: 6s - loss: 0.0406 - accuracy: 0.99 - ETA: 6s - loss: 0.0401 - accuracy: 0.99 - ETA: 6s - loss: 0.0396 - accuracy: 0.99 - ETA: 6s - loss: 0.0391 - accuracy: 0.99 - ETA: 6s - loss: 0.0386 - accuracy: 0.99 - ETA: 6s - loss: 0.0384 - accuracy: 0.99 - ETA: 6s - loss: 0.0380 - accuracy: 0.99 - ETA: 6s - loss: 0.0376 - accuracy: 0.99 - ETA: 6s - loss: 0.0371 - accuracy: 0.99 - ETA: 5s - loss: 0.0367 - accuracy: 0.99 - ETA: 5s - loss: 0.0363 - accuracy: 0.99 - ETA: 5s - loss: 0.0359 - accuracy: 0.99 - ETA: 5s - loss: 0.0355 - accuracy: 0.99 - ETA: 5s - loss: 0.0351 - accuracy: 0.99 - ETA: 5s - loss: 0.0347 - accuracy: 0.99 - ETA: 5s - loss: 0.0344 - accuracy: 0.99 - ETA: 5s - loss: 0.0342 - accuracy: 0.99 - ETA: 5s - loss: 0.0340 - accuracy: 0.99 - ETA: 5s - loss: 0.0338 - accuracy: 0.99 - ETA: 5s - loss: 0.0337 - accuracy: 0.99 - ETA: 5s - loss: 0.0335 - accuracy: 0.99 - ETA: 5s - loss: 0.0333 - accuracy: 0.99 - ETA: 5s - loss: 0.0331 - accuracy: 0.99 - ETA: 5s - loss: 0.0330 - accuracy: 0.99 - ETA: 5s - loss: 0.0328 - accuracy: 0.99 - ETA: 5s - loss: 0.0326 - accuracy: 0.99 - ETA: 5s - loss: 0.0325 - accuracy: 0.99 - ETA: 5s - loss: 0.0323 - accuracy: 0.99 - ETA: 5s - loss: 0.0322 - accuracy: 0.99 - ETA: 5s - loss: 0.0320 - accuracy: 0.99 - ETA: 5s - loss: 0.0318 - accuracy: 0.99 - ETA: 5s - loss: 0.0317 - accuracy: 0.99 - ETA: 5s - loss: 0.0315 - accuracy: 0.99 - ETA: 5s - loss: 0.0314 - accuracy: 0.99 - ETA: 5s - loss: 0.0312 - accuracy: 0.99 - ETA: 5s - loss: 0.0311 - accuracy: 0.99 - ETA: 5s - loss: 0.0309 - accuracy: 0.99 - ETA: 5s - loss: 0.0308 - accuracy: 0.99 - ETA: 5s - loss: 0.0306 - accuracy: 0.99 - ETA: 5s - loss: 0.0305 - accuracy: 0.99 - ETA: 5s - loss: 0.0304 - accuracy: 0.99 - ETA: 5s - loss: 0.0302 - accuracy: 0.99 - ETA: 5s - loss: 0.0301 - accuracy: 0.99 - ETA: 5s - loss: 0.0299 - accuracy: 0.99 - ETA: 5s - loss: 0.0298 - accuracy: 0.99 - ETA: 5s - loss: 0.0297 - accuracy: 0.99 - ETA: 5s - loss: 0.0295 - accuracy: 0.99 - ETA: 5s - loss: 0.0294 - accuracy: 0.99 - ETA: 5s - loss: 0.0293 - accuracy: 0.99 - ETA: 5s - loss: 0.0291 - accuracy: 0.99 - ETA: 5s - loss: 0.0290 - accuracy: 0.99 - ETA: 5s - loss: 0.0289 - accuracy: 0.99 - ETA: 5s - loss: 0.0287 - accuracy: 0.99 - ETA: 5s - loss: 0.0286 - accuracy: 0.99 - ETA: 5s - loss: 0.0285 - accuracy: 0.99 - ETA: 5s - loss: 0.0284 - accuracy: 0.99 - ETA: 5s - loss: 0.0282 - accuracy: 0.99 - ETA: 5s - loss: 0.0281 - accuracy: 0.99 - ETA: 5s - loss: 0.0280 - accuracy: 0.99 - ETA: 5s - loss: 0.0279 - accuracy: 0.99 - ETA: 5s - loss: 0.0278 - accuracy: 0.99 - ETA: 5s - loss: 0.0276 - accuracy: 0.99 - ETA: 5s - loss: 0.0275 - accuracy: 0.99 - ETA: 5s - loss: 0.0274 - accuracy: 0.99 - ETA: 5s - loss: 0.0273 - accuracy: 0.99 - ETA: 5s - loss: 0.0272 - accuracy: 0.99 - ETA: 5s - loss: 0.0271 - accuracy: 0.99 - ETA: 5s - loss: 0.0278 - accuracy: 0.99 - ETA: 5s - loss: 0.0277 - accuracy: 0.99 - ETA: 5s - loss: 0.0276 - accuracy: 0.99 - ETA: 5s - loss: 0.0275 - accuracy: 0.99 - ETA: 5s - loss: 0.0274 - accuracy: 0.99 - ETA: 5s - loss: 0.0273 - accuracy: 0.99 - ETA: 4s - loss: 0.0272 - accuracy: 0.99 - ETA: 4s - loss: 0.0271 - accuracy: 0.99 - ETA: 4s - loss: 0.0269 - accuracy: 0.99 - ETA: 4s - loss: 0.0268 - accuracy: 0.99 - ETA: 4s - loss: 0.0267 - accuracy: 0.99 - ETA: 4s - loss: 0.0266 - accuracy: 0.99 - ETA: 4s - loss: 0.0265 - accuracy: 0.99 - ETA: 4s - loss: 0.0264 - accuracy: 0.99 - ETA: 4s - loss: 0.0263 - accuracy: 0.99 - ETA: 4s - loss: 0.0268 - accuracy: 0.99 - ETA: 4s - loss: 0.0267 - accuracy: 0.99 - ETA: 4s - loss: 0.0266 - accuracy: 0.99 - ETA: 4s - loss: 0.0265 - accuracy: 0.99 - ETA: 4s - loss: 0.0264 - accuracy: 0.99 - ETA: 4s - loss: 0.0268 - accuracy: 0.99 - ETA: 4s - loss: 0.0267 - accuracy: 0.99 - ETA: 4s - loss: 0.0266 - accuracy: 0.99 - ETA: 4s - loss: 0.0265 - accuracy: 0.99 - ETA: 4s - loss: 0.0264 - accuracy: 0.99 - ETA: 4s - loss: 0.0263 - accuracy: 0.99 - ETA: 4s - loss: 0.0262 - accuracy: 0.99 - ETA: 4s - loss: 0.0261 - accuracy: 0.99 - ETA: 4s - loss: 0.0260 - accuracy: 0.99 - ETA: 4s - loss: 0.0259 - accuracy: 0.99 - ETA: 3s - loss: 0.0258 - accuracy: 0.99 - ETA: 3s - loss: 0.0257 - accuracy: 0.99 - ETA: 3s - loss: 0.0256 - accuracy: 0.99 - ETA: 3s - loss: 0.0255 - accuracy: 0.99 - ETA: 3s - loss: 0.0254 - accuracy: 0.99 - ETA: 3s - loss: 0.0253 - accuracy: 0.99 - ETA: 3s - loss: 0.0252 - accuracy: 0.99 - ETA: 3s - loss: 0.0251 - accuracy: 0.99 - ETA: 3s - loss: 0.0251 - accuracy: 0.99 - ETA: 3s - loss: 0.0250 - accuracy: 0.99 - ETA: 3s - loss: 0.0249 - accuracy: 0.99 - ETA: 3s - loss: 0.0248 - accuracy: 0.99 - ETA: 3s - loss: 0.0247 - accuracy: 0.99 - ETA: 3s - loss: 0.0246 - accuracy: 0.9973"
     ]
    },
    {
     "name": "stdout",
     "output_type": "stream",
     "text": [
      "1325/1325 [==============================] - ETA: 3s - loss: 0.0245 - accuracy: 0.99 - ETA: 3s - loss: 0.0244 - accuracy: 0.99 - ETA: 3s - loss: 0.0244 - accuracy: 0.99 - ETA: 3s - loss: 0.0243 - accuracy: 0.99 - ETA: 2s - loss: 0.0242 - accuracy: 0.99 - ETA: 2s - loss: 0.0241 - accuracy: 0.99 - ETA: 2s - loss: 0.0240 - accuracy: 0.99 - ETA: 2s - loss: 0.0239 - accuracy: 0.99 - ETA: 2s - loss: 0.0239 - accuracy: 0.99 - ETA: 2s - loss: 0.0238 - accuracy: 0.99 - ETA: 2s - loss: 0.0237 - accuracy: 0.99 - ETA: 2s - loss: 0.0236 - accuracy: 0.99 - ETA: 2s - loss: 0.0235 - accuracy: 0.99 - ETA: 2s - loss: 0.0235 - accuracy: 0.99 - ETA: 2s - loss: 0.0234 - accuracy: 0.99 - ETA: 2s - loss: 0.0233 - accuracy: 0.99 - ETA: 2s - loss: 0.0232 - accuracy: 0.99 - ETA: 2s - loss: 0.0231 - accuracy: 0.99 - ETA: 2s - loss: 0.0231 - accuracy: 0.99 - ETA: 2s - loss: 0.0230 - accuracy: 0.99 - ETA: 1s - loss: 0.0229 - accuracy: 0.99 - ETA: 1s - loss: 0.0228 - accuracy: 0.99 - ETA: 1s - loss: 0.0228 - accuracy: 0.99 - ETA: 1s - loss: 0.0227 - accuracy: 0.99 - ETA: 1s - loss: 0.0226 - accuracy: 0.99 - ETA: 1s - loss: 0.0225 - accuracy: 0.99 - ETA: 1s - loss: 0.0225 - accuracy: 0.99 - ETA: 1s - loss: 0.0224 - accuracy: 0.99 - ETA: 1s - loss: 0.0223 - accuracy: 0.99 - ETA: 1s - loss: 0.0223 - accuracy: 0.99 - ETA: 1s - loss: 0.0222 - accuracy: 0.99 - ETA: 1s - loss: 0.0221 - accuracy: 0.99 - ETA: 1s - loss: 0.0220 - accuracy: 0.99 - ETA: 1s - loss: 0.0220 - accuracy: 0.99 - ETA: 0s - loss: 0.0219 - accuracy: 0.99 - ETA: 0s - loss: 0.0218 - accuracy: 0.99 - ETA: 0s - loss: 0.0218 - accuracy: 0.99 - ETA: 0s - loss: 0.0217 - accuracy: 0.99 - ETA: 0s - loss: 0.0216 - accuracy: 0.99 - ETA: 0s - loss: 0.0216 - accuracy: 0.99 - ETA: 0s - loss: 0.0215 - accuracy: 0.99 - ETA: 0s - loss: 0.0214 - accuracy: 0.99 - ETA: 0s - loss: 0.0214 - accuracy: 0.99 - ETA: 0s - loss: 0.0213 - accuracy: 0.99 - ETA: 0s - loss: 0.0212 - accuracy: 0.99 - ETA: 0s - loss: 0.0212 - accuracy: 0.99 - ETA: 0s - loss: 0.0211 - accuracy: 0.99 - ETA: 0s - loss: 0.0210 - accuracy: 0.99 - 26s 19ms/step - loss: 0.0210 - accuracy: 0.9977 - val_loss: 0.0286 - val_accuracy: 0.9970\n",
      "Epoch 40/50\n"
     ]
    },
    {
     "name": "stdout",
     "output_type": "stream",
     "text": [
      " 720/1325 [===============>..............] - ETA: 39s - loss: 0.0000e+00 - accuracy: 1.000 - ETA: 39s - loss: 0.0000e+00 - accuracy: 1.000 - ETA: 40s - loss: 0.0000e+00 - accuracy: 1.000 - ETA: 40s - loss: 0.0000e+00 - accuracy: 1.000 - ETA: 39s - loss: 0.0000e+00 - accuracy: 1.000 - ETA: 39s - loss: 0.0000e+00 - accuracy: 1.000 - ETA: 39s - loss: 0.0000e+00 - accuracy: 1.000 - ETA: 39s - loss: 0.0000e+00 - accuracy: 1.000 - ETA: 39s - loss: 0.0000e+00 - accuracy: 1.000 - ETA: 39s - loss: 0.0000e+00 - accuracy: 1.000 - ETA: 39s - loss: 0.0000e+00 - accuracy: 1.000 - ETA: 39s - loss: 0.0000e+00 - accuracy: 1.000 - ETA: 39s - loss: 0.0000e+00 - accuracy: 1.000 - ETA: 39s - loss: 0.0000e+00 - accuracy: 1.000 - ETA: 38s - loss: 0.0000e+00 - accuracy: 1.000 - ETA: 38s - loss: 0.0000e+00 - accuracy: 1.000 - ETA: 38s - loss: 0.0000e+00 - accuracy: 1.000 - ETA: 38s - loss: 0.0000e+00 - accuracy: 1.000 - ETA: 38s - loss: 0.0000e+00 - accuracy: 1.000 - ETA: 38s - loss: 0.0000e+00 - accuracy: 1.000 - ETA: 38s - loss: 0.0000e+00 - accuracy: 1.000 - ETA: 38s - loss: 0.0000e+00 - accuracy: 1.000 - ETA: 37s - loss: 0.0000e+00 - accuracy: 1.000 - ETA: 37s - loss: 0.0000e+00 - accuracy: 1.000 - ETA: 37s - loss: 0.0000e+00 - accuracy: 1.000 - ETA: 37s - loss: 0.0000e+00 - accuracy: 1.000 - ETA: 37s - loss: 0.0000e+00 - accuracy: 1.000 - ETA: 37s - loss: 0.0000e+00 - accuracy: 1.000 - ETA: 37s - loss: 0.0000e+00 - accuracy: 1.000 - ETA: 37s - loss: 0.0000e+00 - accuracy: 1.000 - ETA: 36s - loss: 0.0000e+00 - accuracy: 1.000 - ETA: 36s - loss: 0.0000e+00 - accuracy: 1.000 - ETA: 36s - loss: 0.0000e+00 - accuracy: 1.000 - ETA: 36s - loss: 0.0000e+00 - accuracy: 1.000 - ETA: 36s - loss: 0.0000e+00 - accuracy: 1.000 - ETA: 36s - loss: 3.3941e-08 - accuracy: 1.000 - ETA: 36s - loss: 3.3024e-08 - accuracy: 1.000 - ETA: 36s - loss: 3.2155e-08 - accuracy: 1.000 - ETA: 35s - loss: 3.1331e-08 - accuracy: 1.000 - ETA: 35s - loss: 3.0547e-08 - accuracy: 1.000 - ETA: 35s - loss: 2.9802e-08 - accuracy: 1.000 - ETA: 35s - loss: 2.9093e-08 - accuracy: 1.000 - ETA: 35s - loss: 2.8416e-08 - accuracy: 1.000 - ETA: 35s - loss: 2.7770e-08 - accuracy: 1.000 - ETA: 35s - loss: 2.7153e-08 - accuracy: 1.000 - ETA: 35s - loss: 2.6563e-08 - accuracy: 1.000 - ETA: 35s - loss: 2.5998e-08 - accuracy: 1.000 - ETA: 34s - loss: 5.7987e-07 - accuracy: 1.000 - ETA: 34s - loss: 5.6804e-07 - accuracy: 1.000 - ETA: 34s - loss: 5.5668e-07 - accuracy: 1.000 - ETA: 34s - loss: 5.6037e-07 - accuracy: 1.000 - ETA: 34s - loss: 9.5076e-07 - accuracy: 1.000 - ETA: 34s - loss: 9.3283e-07 - accuracy: 1.000 - ETA: 34s - loss: 9.1555e-07 - accuracy: 1.000 - ETA: 34s - loss: 8.9890e-07 - accuracy: 1.000 - ETA: 33s - loss: 8.8285e-07 - accuracy: 1.000 - ETA: 33s - loss: 8.6736e-07 - accuracy: 1.000 - ETA: 33s - loss: 8.5241e-07 - accuracy: 1.000 - ETA: 33s - loss: 8.3796e-07 - accuracy: 1.000 - ETA: 33s - loss: 0.0382 - accuracy: 0.9958    - ETA: 33s - loss: 0.0376 - accuracy: 0.995 - ETA: 33s - loss: 0.0370 - accuracy: 0.996 - ETA: 33s - loss: 0.0364 - accuracy: 0.996 - ETA: 32s - loss: 0.0358 - accuracy: 0.996 - ETA: 32s - loss: 0.0353 - accuracy: 0.996 - ETA: 32s - loss: 0.0347 - accuracy: 0.996 - ETA: 32s - loss: 0.0342 - accuracy: 0.996 - ETA: 32s - loss: 0.0337 - accuracy: 0.996 - ETA: 32s - loss: 0.0332 - accuracy: 0.996 - ETA: 32s - loss: 0.0328 - accuracy: 0.996 - ETA: 32s - loss: 0.0323 - accuracy: 0.996 - ETA: 31s - loss: 0.0319 - accuracy: 0.996 - ETA: 31s - loss: 0.0314 - accuracy: 0.996 - ETA: 31s - loss: 0.0310 - accuracy: 0.996 - ETA: 31s - loss: 0.0306 - accuracy: 0.996 - ETA: 31s - loss: 0.0335 - accuracy: 0.993 - ETA: 31s - loss: 0.0330 - accuracy: 0.993 - ETA: 31s - loss: 0.0326 - accuracy: 0.993 - ETA: 31s - loss: 0.0361 - accuracy: 0.990 - ETA: 30s - loss: 0.0432 - accuracy: 0.987 - ETA: 30s - loss: 0.0427 - accuracy: 0.987 - ETA: 30s - loss: 0.0422 - accuracy: 0.987 - ETA: 30s - loss: 0.0416 - accuracy: 0.988 - ETA: 30s - loss: 0.0412 - accuracy: 0.988 - ETA: 30s - loss: 0.0407 - accuracy: 0.988 - ETA: 30s - loss: 0.0402 - accuracy: 0.988 - ETA: 30s - loss: 0.0397 - accuracy: 0.988 - ETA: 30s - loss: 0.0393 - accuracy: 0.988 - ETA: 29s - loss: 0.0388 - accuracy: 0.988 - ETA: 29s - loss: 0.0384 - accuracy: 0.988 - ETA: 29s - loss: 0.0380 - accuracy: 0.989 - ETA: 29s - loss: 0.0376 - accuracy: 0.989 - ETA: 29s - loss: 0.0372 - accuracy: 0.989 - ETA: 29s - loss: 0.0368 - accuracy: 0.989 - ETA: 29s - loss: 0.0364 - accuracy: 0.989 - ETA: 29s - loss: 0.0360 - accuracy: 0.989 - ETA: 28s - loss: 0.0356 - accuracy: 0.989 - ETA: 28s - loss: 0.0353 - accuracy: 0.989 - ETA: 28s - loss: 0.0349 - accuracy: 0.989 - ETA: 28s - loss: 0.0346 - accuracy: 0.990 - ETA: 28s - loss: 0.0342 - accuracy: 0.990 - ETA: 28s - loss: 0.0339 - accuracy: 0.990 - ETA: 28s - loss: 0.0336 - accuracy: 0.990 - ETA: 28s - loss: 0.0332 - accuracy: 0.990 - ETA: 27s - loss: 0.0329 - accuracy: 0.990 - ETA: 27s - loss: 0.0350 - accuracy: 0.988 - ETA: 27s - loss: 0.0346 - accuracy: 0.988 - ETA: 27s - loss: 0.0343 - accuracy: 0.988 - ETA: 27s - loss: 0.0340 - accuracy: 0.988 - ETA: 27s - loss: 0.0337 - accuracy: 0.988 - ETA: 27s - loss: 0.0334 - accuracy: 0.988 - ETA: 27s - loss: 0.0366 - accuracy: 0.986 - ETA: 26s - loss: 0.0363 - accuracy: 0.986 - ETA: 26s - loss: 0.0359 - accuracy: 0.986 - ETA: 26s - loss: 0.0356 - accuracy: 0.987 - ETA: 26s - loss: 0.0353 - accuracy: 0.987 - ETA: 26s - loss: 0.0350 - accuracy: 0.987 - ETA: 26s - loss: 0.0347 - accuracy: 0.987 - ETA: 26s - loss: 0.0344 - accuracy: 0.987 - ETA: 26s - loss: 0.0342 - accuracy: 0.987 - ETA: 26s - loss: 0.0339 - accuracy: 0.987 - ETA: 25s - loss: 0.0336 - accuracy: 0.987 - ETA: 25s - loss: 0.0333 - accuracy: 0.987 - ETA: 25s - loss: 0.0330 - accuracy: 0.987 - ETA: 25s - loss: 0.0328 - accuracy: 0.988 - ETA: 25s - loss: 0.0325 - accuracy: 0.988 - ETA: 25s - loss: 0.0323 - accuracy: 0.988 - ETA: 25s - loss: 0.0320 - accuracy: 0.988 - ETA: 25s - loss: 0.0318 - accuracy: 0.988 - ETA: 24s - loss: 0.0315 - accuracy: 0.988 - ETA: 24s - loss: 0.0313 - accuracy: 0.988 - ETA: 24s - loss: 0.0310 - accuracy: 0.988 - ETA: 24s - loss: 0.0308 - accuracy: 0.988 - ETA: 24s - loss: 0.0306 - accuracy: 0.988 - ETA: 24s - loss: 0.0304 - accuracy: 0.988 - ETA: 24s - loss: 0.0301 - accuracy: 0.989 - ETA: 24s - loss: 0.0299 - accuracy: 0.989 - ETA: 23s - loss: 0.0297 - accuracy: 0.989 - ETA: 23s - loss: 0.0295 - accuracy: 0.989 - ETA: 23s - loss: 0.0293 - accuracy: 0.989 - ETA: 23s - loss: 0.0291 - accuracy: 0.989 - ETA: 23s - loss: 0.0289 - accuracy: 0.989 - ETA: 23s - loss: 0.0287 - accuracy: 0.989 - ETA: 23s - loss: 0.0285 - accuracy: 0.989 - ETA: 23s - loss: 0.0283 - accuracy: 0.989 - ETA: 22s - loss: 0.0281 - accuracy: 0.989 - ETA: 22s - loss: 0.0279 - accuracy: 0.989 - ETA: 22s - loss: 0.0277 - accuracy: 0.989 - ETA: 22s - loss: 0.0275 - accuracy: 0.989 - ETA: 22s - loss: 0.0273 - accuracy: 0.990 - ETA: 22s - loss: 0.0271 - accuracy: 0.990 - ETA: 22s - loss: 0.0270 - accuracy: 0.990 - ETA: 22s - loss: 0.0268 - accuracy: 0.990 - ETA: 22s - loss: 0.0266 - accuracy: 0.990 - ETA: 21s - loss: 0.0264 - accuracy: 0.990 - ETA: 21s - loss: 0.0263 - accuracy: 0.990 - ETA: 21s - loss: 0.0261 - accuracy: 0.990 - ETA: 21s - loss: 0.0259 - accuracy: 0.990 - ETA: 21s - loss: 0.0258 - accuracy: 0.990 - ETA: 21s - loss: 0.0256 - accuracy: 0.990 - ETA: 21s - loss: 0.0255 - accuracy: 0.990 - ETA: 21s - loss: 0.0253 - accuracy: 0.990 - ETA: 20s - loss: 0.0251 - accuracy: 0.990 - ETA: 20s - loss: 0.0250 - accuracy: 0.990 - ETA: 20s - loss: 0.0249 - accuracy: 0.990 - ETA: 20s - loss: 0.0247 - accuracy: 0.991 - ETA: 20s - loss: 0.0247 - accuracy: 0.991 - ETA: 20s - loss: 0.0245 - accuracy: 0.991 - ETA: 20s - loss: 0.0244 - accuracy: 0.991 - ETA: 20s - loss: 0.0242 - accuracy: 0.991 - ETA: 20s - loss: 0.0241 - accuracy: 0.991 - ETA: 19s - loss: 0.0240 - accuracy: 0.991 - ETA: 19s - loss: 0.0238 - accuracy: 0.991 - ETA: 19s - loss: 0.0237 - accuracy: 0.991 - ETA: 19s - loss: 0.0236 - accuracy: 0.991 - ETA: 19s - loss: 0.0234 - accuracy: 0.991 - ETA: 19s - loss: 0.0233 - accuracy: 0.991 - ETA: 19s - loss: 0.0232 - accuracy: 0.991 - ETA: 19s - loss: 0.0230 - accuracy: 0.991 - ETA: 18s - loss: 0.0229 - accuracy: 0.9917"
     ]
    },
    {
     "name": "stdout",
     "output_type": "stream",
     "text": [
      "1325/1325 [==============================] - ETA: 18s - loss: 0.0228 - accuracy: 0.991 - ETA: 18s - loss: 0.0226 - accuracy: 0.991 - ETA: 18s - loss: 0.0225 - accuracy: 0.991 - ETA: 18s - loss: 0.0224 - accuracy: 0.991 - ETA: 18s - loss: 0.0223 - accuracy: 0.991 - ETA: 18s - loss: 0.0222 - accuracy: 0.991 - ETA: 18s - loss: 0.0220 - accuracy: 0.992 - ETA: 17s - loss: 0.0219 - accuracy: 0.992 - ETA: 17s - loss: 0.0218 - accuracy: 0.992 - ETA: 17s - loss: 0.0217 - accuracy: 0.992 - ETA: 17s - loss: 0.0216 - accuracy: 0.992 - ETA: 17s - loss: 0.0215 - accuracy: 0.992 - ETA: 17s - loss: 0.0214 - accuracy: 0.992 - ETA: 17s - loss: 0.0212 - accuracy: 0.992 - ETA: 17s - loss: 0.0211 - accuracy: 0.992 - ETA: 17s - loss: 0.0210 - accuracy: 0.992 - ETA: 16s - loss: 0.0209 - accuracy: 0.992 - ETA: 16s - loss: 0.0208 - accuracy: 0.992 - ETA: 16s - loss: 0.0207 - accuracy: 0.992 - ETA: 16s - loss: 0.0206 - accuracy: 0.992 - ETA: 16s - loss: 0.0205 - accuracy: 0.992 - ETA: 16s - loss: 0.0204 - accuracy: 0.992 - ETA: 16s - loss: 0.0203 - accuracy: 0.992 - ETA: 16s - loss: 0.0202 - accuracy: 0.992 - ETA: 15s - loss: 0.0201 - accuracy: 0.992 - ETA: 15s - loss: 0.0200 - accuracy: 0.992 - ETA: 15s - loss: 0.0199 - accuracy: 0.992 - ETA: 15s - loss: 0.0198 - accuracy: 0.992 - ETA: 15s - loss: 0.0197 - accuracy: 0.992 - ETA: 15s - loss: 0.0196 - accuracy: 0.992 - ETA: 15s - loss: 0.0195 - accuracy: 0.992 - ETA: 15s - loss: 0.0194 - accuracy: 0.992 - ETA: 14s - loss: 0.0194 - accuracy: 0.993 - ETA: 14s - loss: 0.0193 - accuracy: 0.993 - ETA: 14s - loss: 0.0192 - accuracy: 0.993 - ETA: 14s - loss: 0.0191 - accuracy: 0.993 - ETA: 14s - loss: 0.0190 - accuracy: 0.993 - ETA: 14s - loss: 0.0189 - accuracy: 0.993 - ETA: 14s - loss: 0.0188 - accuracy: 0.993 - ETA: 14s - loss: 0.0187 - accuracy: 0.993 - ETA: 13s - loss: 0.0187 - accuracy: 0.993 - ETA: 13s - loss: 0.0186 - accuracy: 0.993 - ETA: 13s - loss: 0.0185 - accuracy: 0.993 - ETA: 13s - loss: 0.0184 - accuracy: 0.993 - ETA: 13s - loss: 0.0183 - accuracy: 0.993 - ETA: 13s - loss: 0.0182 - accuracy: 0.993 - ETA: 13s - loss: 0.0182 - accuracy: 0.993 - ETA: 13s - loss: 0.0181 - accuracy: 0.993 - ETA: 12s - loss: 0.0180 - accuracy: 0.993 - ETA: 12s - loss: 0.0179 - accuracy: 0.993 - ETA: 12s - loss: 0.0178 - accuracy: 0.993 - ETA: 12s - loss: 0.0178 - accuracy: 0.993 - ETA: 12s - loss: 0.0177 - accuracy: 0.993 - ETA: 12s - loss: 0.0176 - accuracy: 0.993 - ETA: 12s - loss: 0.0175 - accuracy: 0.993 - ETA: 12s - loss: 0.0177 - accuracy: 0.993 - ETA: 11s - loss: 0.0176 - accuracy: 0.993 - ETA: 11s - loss: 0.0175 - accuracy: 0.993 - ETA: 11s - loss: 0.0174 - accuracy: 0.993 - ETA: 11s - loss: 0.0174 - accuracy: 0.993 - ETA: 11s - loss: 0.0173 - accuracy: 0.993 - ETA: 11s - loss: 0.0172 - accuracy: 0.993 - ETA: 11s - loss: 0.0172 - accuracy: 0.993 - ETA: 11s - loss: 0.0171 - accuracy: 0.993 - ETA: 10s - loss: 0.0170 - accuracy: 0.993 - ETA: 10s - loss: 0.0169 - accuracy: 0.993 - ETA: 10s - loss: 0.0169 - accuracy: 0.993 - ETA: 10s - loss: 0.0168 - accuracy: 0.994 - ETA: 10s - loss: 0.0167 - accuracy: 0.994 - ETA: 10s - loss: 0.0167 - accuracy: 0.994 - ETA: 10s - loss: 0.0166 - accuracy: 0.994 - ETA: 9s - loss: 0.0165 - accuracy: 0.994 - ETA: 9s - loss: 0.0165 - accuracy: 0.99 - ETA: 9s - loss: 0.0164 - accuracy: 0.99 - ETA: 9s - loss: 0.0163 - accuracy: 0.99 - ETA: 9s - loss: 0.0163 - accuracy: 0.99 - ETA: 9s - loss: 0.0162 - accuracy: 0.99 - ETA: 9s - loss: 0.0162 - accuracy: 0.99 - ETA: 9s - loss: 0.0161 - accuracy: 0.99 - ETA: 8s - loss: 0.0160 - accuracy: 0.99 - ETA: 8s - loss: 0.0160 - accuracy: 0.99 - ETA: 8s - loss: 0.0159 - accuracy: 0.99 - ETA: 8s - loss: 0.0158 - accuracy: 0.99 - ETA: 8s - loss: 0.0158 - accuracy: 0.99 - ETA: 8s - loss: 0.0157 - accuracy: 0.99 - ETA: 8s - loss: 0.0157 - accuracy: 0.99 - ETA: 8s - loss: 0.0156 - accuracy: 0.99 - ETA: 7s - loss: 0.0156 - accuracy: 0.99 - ETA: 7s - loss: 0.0156 - accuracy: 0.99 - ETA: 7s - loss: 0.0155 - accuracy: 0.99 - ETA: 7s - loss: 0.0155 - accuracy: 0.99 - ETA: 7s - loss: 0.0154 - accuracy: 0.99 - ETA: 7s - loss: 0.0153 - accuracy: 0.99 - ETA: 7s - loss: 0.0153 - accuracy: 0.99 - ETA: 7s - loss: 0.0152 - accuracy: 0.99 - ETA: 6s - loss: 0.0152 - accuracy: 0.99 - ETA: 6s - loss: 0.0151 - accuracy: 0.99 - ETA: 6s - loss: 0.0151 - accuracy: 0.99 - ETA: 6s - loss: 0.0150 - accuracy: 0.99 - ETA: 6s - loss: 0.0150 - accuracy: 0.99 - ETA: 6s - loss: 0.0149 - accuracy: 0.99 - ETA: 6s - loss: 0.0149 - accuracy: 0.99 - ETA: 6s - loss: 0.0149 - accuracy: 0.99 - ETA: 5s - loss: 0.0148 - accuracy: 0.99 - ETA: 5s - loss: 0.0148 - accuracy: 0.99 - ETA: 5s - loss: 0.0147 - accuracy: 0.99 - ETA: 5s - loss: 0.0147 - accuracy: 0.99 - ETA: 5s - loss: 0.0146 - accuracy: 0.99 - ETA: 5s - loss: 0.0146 - accuracy: 0.99 - ETA: 5s - loss: 0.0145 - accuracy: 0.99 - ETA: 5s - loss: 0.0145 - accuracy: 0.99 - ETA: 4s - loss: 0.0144 - accuracy: 0.99 - ETA: 4s - loss: 0.0144 - accuracy: 0.99 - ETA: 4s - loss: 0.0143 - accuracy: 0.99 - ETA: 4s - loss: 0.0143 - accuracy: 0.99 - ETA: 4s - loss: 0.0142 - accuracy: 0.99 - ETA: 4s - loss: 0.0142 - accuracy: 0.99 - ETA: 4s - loss: 0.0141 - accuracy: 0.99 - ETA: 4s - loss: 0.0141 - accuracy: 0.99 - ETA: 3s - loss: 0.0140 - accuracy: 0.99 - ETA: 3s - loss: 0.0140 - accuracy: 0.99 - ETA: 3s - loss: 0.0139 - accuracy: 0.99 - ETA: 3s - loss: 0.0139 - accuracy: 0.99 - ETA: 3s - loss: 0.0138 - accuracy: 0.99 - ETA: 3s - loss: 0.0138 - accuracy: 0.99 - ETA: 3s - loss: 0.0137 - accuracy: 0.99 - ETA: 3s - loss: 0.0137 - accuracy: 0.99 - ETA: 2s - loss: 0.0137 - accuracy: 0.99 - ETA: 2s - loss: 0.0136 - accuracy: 0.99 - ETA: 2s - loss: 0.0136 - accuracy: 0.99 - ETA: 2s - loss: 0.0135 - accuracy: 0.99 - ETA: 2s - loss: 0.0135 - accuracy: 0.99 - ETA: 2s - loss: 0.0134 - accuracy: 0.99 - ETA: 2s - loss: 0.0134 - accuracy: 0.99 - ETA: 2s - loss: 0.0134 - accuracy: 0.99 - ETA: 1s - loss: 0.0133 - accuracy: 0.99 - ETA: 1s - loss: 0.0133 - accuracy: 0.99 - ETA: 1s - loss: 0.0132 - accuracy: 0.99 - ETA: 1s - loss: 0.0132 - accuracy: 0.99 - ETA: 1s - loss: 0.0131 - accuracy: 0.99 - ETA: 1s - loss: 0.0131 - accuracy: 0.99 - ETA: 1s - loss: 0.0131 - accuracy: 0.99 - ETA: 1s - loss: 0.0130 - accuracy: 0.99 - ETA: 0s - loss: 0.0130 - accuracy: 0.99 - ETA: 0s - loss: 0.0129 - accuracy: 0.99 - ETA: 0s - loss: 0.0129 - accuracy: 0.99 - ETA: 0s - loss: 0.0129 - accuracy: 0.99 - ETA: 0s - loss: 0.0128 - accuracy: 0.99 - ETA: 0s - loss: 0.0128 - accuracy: 0.99 - ETA: 0s - loss: 0.0127 - accuracy: 0.99 - ETA: 0s - loss: 0.0127 - accuracy: 0.99 - 43s 32ms/step - loss: 0.0127 - accuracy: 0.9955 - val_loss: 1.0404e-04 - val_accuracy: 1.0000\n",
      "Epoch 41/50\n"
     ]
    },
    {
     "name": "stdout",
     "output_type": "stream",
     "text": [
      "1084/1325 [=======================>......] - ETA: 39s - loss: 0.0000e+00 - accuracy: 1.000 - ETA: 40s - loss: 0.0000e+00 - accuracy: 1.000 - ETA: 41s - loss: 0.0128 - accuracy: 1.0000    - ETA: 41s - loss: 0.0096 - accuracy: 1.000 - ETA: 40s - loss: 0.0077 - accuracy: 1.000 - ETA: 41s - loss: 0.0064 - accuracy: 1.000 - ETA: 40s - loss: 0.0055 - accuracy: 1.000 - ETA: 40s - loss: 0.0048 - accuracy: 1.000 - ETA: 40s - loss: 0.0043 - accuracy: 1.000 - ETA: 40s - loss: 0.0038 - accuracy: 1.000 - ETA: 40s - loss: 0.0035 - accuracy: 1.000 - ETA: 40s - loss: 0.0032 - accuracy: 1.000 - ETA: 40s - loss: 0.0030 - accuracy: 1.000 - ETA: 40s - loss: 0.0027 - accuracy: 1.000 - ETA: 40s - loss: 0.0026 - accuracy: 1.000 - ETA: 40s - loss: 0.0024 - accuracy: 1.000 - ETA: 40s - loss: 0.0023 - accuracy: 1.000 - ETA: 39s - loss: 0.0021 - accuracy: 1.000 - ETA: 39s - loss: 0.0020 - accuracy: 1.000 - ETA: 39s - loss: 0.0019 - accuracy: 1.000 - ETA: 39s - loss: 0.0018 - accuracy: 1.000 - ETA: 39s - loss: 0.0017 - accuracy: 1.000 - ETA: 39s - loss: 0.0017 - accuracy: 1.000 - ETA: 39s - loss: 0.0016 - accuracy: 1.000 - ETA: 39s - loss: 0.0015 - accuracy: 1.000 - ETA: 38s - loss: 0.0015 - accuracy: 1.000 - ETA: 38s - loss: 0.0014 - accuracy: 1.000 - ETA: 38s - loss: 0.0014 - accuracy: 1.000 - ETA: 38s - loss: 0.0013 - accuracy: 1.000 - ETA: 38s - loss: 0.0013 - accuracy: 1.000 - ETA: 38s - loss: 0.0012 - accuracy: 1.000 - ETA: 38s - loss: 0.0012 - accuracy: 1.000 - ETA: 37s - loss: 0.0012 - accuracy: 1.000 - ETA: 37s - loss: 0.0011 - accuracy: 1.000 - ETA: 37s - loss: 0.0011 - accuracy: 1.000 - ETA: 37s - loss: 0.0011 - accuracy: 1.000 - ETA: 37s - loss: 0.0010 - accuracy: 1.000 - ETA: 37s - loss: 0.0010 - accuracy: 1.000 - ETA: 37s - loss: 9.8368e-04 - accuracy: 1.000 - ETA: 36s - loss: 9.5909e-04 - accuracy: 1.000 - ETA: 36s - loss: 9.3570e-04 - accuracy: 1.000 - ETA: 36s - loss: 9.1342e-04 - accuracy: 1.000 - ETA: 36s - loss: 8.9218e-04 - accuracy: 1.000 - ETA: 36s - loss: 8.7190e-04 - accuracy: 1.000 - ETA: 36s - loss: 8.5253e-04 - accuracy: 1.000 - ETA: 36s - loss: 8.3399e-04 - accuracy: 1.000 - ETA: 36s - loss: 8.1625e-04 - accuracy: 1.000 - ETA: 36s - loss: 7.9925e-04 - accuracy: 1.000 - ETA: 35s - loss: 7.8294e-04 - accuracy: 1.000 - ETA: 35s - loss: 7.6728e-04 - accuracy: 1.000 - ETA: 35s - loss: 7.5223e-04 - accuracy: 1.000 - ETA: 35s - loss: 7.3777e-04 - accuracy: 1.000 - ETA: 35s - loss: 7.2385e-04 - accuracy: 1.000 - ETA: 35s - loss: 7.1044e-04 - accuracy: 1.000 - ETA: 35s - loss: 6.9752e-04 - accuracy: 1.000 - ETA: 34s - loss: 6.8507e-04 - accuracy: 1.000 - ETA: 34s - loss: 6.7305e-04 - accuracy: 1.000 - ETA: 34s - loss: 6.6145e-04 - accuracy: 1.000 - ETA: 34s - loss: 6.5023e-04 - accuracy: 1.000 - ETA: 34s - loss: 6.3940e-04 - accuracy: 1.000 - ETA: 34s - loss: 6.2892e-04 - accuracy: 1.000 - ETA: 34s - loss: 6.1877e-04 - accuracy: 1.000 - ETA: 34s - loss: 6.0895e-04 - accuracy: 1.000 - ETA: 34s - loss: 5.9944e-04 - accuracy: 1.000 - ETA: 33s - loss: 5.9021e-04 - accuracy: 1.000 - ETA: 33s - loss: 8.3713e-04 - accuracy: 1.000 - ETA: 33s - loss: 8.2464e-04 - accuracy: 1.000 - ETA: 33s - loss: 8.1251e-04 - accuracy: 1.000 - ETA: 33s - loss: 8.0074e-04 - accuracy: 1.000 - ETA: 33s - loss: 7.8930e-04 - accuracy: 1.000 - ETA: 33s - loss: 7.7818e-04 - accuracy: 1.000 - ETA: 33s - loss: 7.6737e-04 - accuracy: 1.000 - ETA: 32s - loss: 7.5686e-04 - accuracy: 1.000 - ETA: 32s - loss: 7.4664e-04 - accuracy: 1.000 - ETA: 32s - loss: 7.3668e-04 - accuracy: 1.000 - ETA: 32s - loss: 7.2699e-04 - accuracy: 1.000 - ETA: 31s - loss: 7.0835e-04 - accuracy: 1.000 - ETA: 30s - loss: 6.9064e-04 - accuracy: 1.000 - ETA: 30s - loss: 6.7379e-04 - accuracy: 1.000 - ETA: 29s - loss: 6.5782e-04 - accuracy: 1.000 - ETA: 28s - loss: 6.4253e-04 - accuracy: 1.000 - ETA: 28s - loss: 6.2792e-04 - accuracy: 1.000 - ETA: 27s - loss: 6.1397e-04 - accuracy: 1.000 - ETA: 26s - loss: 6.0062e-04 - accuracy: 1.000 - ETA: 26s - loss: 5.8784e-04 - accuracy: 1.000 - ETA: 25s - loss: 5.7560e-04 - accuracy: 1.000 - ETA: 25s - loss: 5.6385e-04 - accuracy: 1.000 - ETA: 24s - loss: 5.5258e-04 - accuracy: 1.000 - ETA: 24s - loss: 5.4174e-04 - accuracy: 1.000 - ETA: 23s - loss: 5.3170e-04 - accuracy: 1.000 - ETA: 23s - loss: 5.2167e-04 - accuracy: 1.000 - ETA: 22s - loss: 5.1201e-04 - accuracy: 1.000 - ETA: 22s - loss: 5.0270e-04 - accuracy: 1.000 - ETA: 21s - loss: 4.9372e-04 - accuracy: 1.000 - ETA: 21s - loss: 4.8526e-04 - accuracy: 1.000 - ETA: 20s - loss: 4.7690e-04 - accuracy: 1.000 - ETA: 20s - loss: 4.6881e-04 - accuracy: 1.000 - ETA: 20s - loss: 4.6100e-04 - accuracy: 1.000 - ETA: 20s - loss: 4.5719e-04 - accuracy: 1.000 - ETA: 19s - loss: 4.4976e-04 - accuracy: 1.000 - ETA: 19s - loss: 4.4256e-04 - accuracy: 1.000 - ETA: 18s - loss: 4.3559e-04 - accuracy: 1.000 - ETA: 18s - loss: 4.2884e-04 - accuracy: 1.000 - ETA: 18s - loss: 4.2229e-04 - accuracy: 1.000 - ETA: 17s - loss: 4.1594e-04 - accuracy: 1.000 - ETA: 17s - loss: 4.0978e-04 - accuracy: 1.000 - ETA: 17s - loss: 4.0380e-04 - accuracy: 1.000 - ETA: 16s - loss: 4.9596e-04 - accuracy: 1.000 - ETA: 16s - loss: 4.8892e-04 - accuracy: 1.000 - ETA: 16s - loss: 4.8209e-04 - accuracy: 1.000 - ETA: 15s - loss: 4.7544e-04 - accuracy: 1.000 - ETA: 15s - loss: 4.6897e-04 - accuracy: 1.000 - ETA: 15s - loss: 4.6267e-04 - accuracy: 1.000 - ETA: 15s - loss: 4.5655e-04 - accuracy: 1.000 - ETA: 14s - loss: 4.5058e-04 - accuracy: 1.000 - ETA: 14s - loss: 4.4476e-04 - accuracy: 1.000 - ETA: 14s - loss: 4.3910e-04 - accuracy: 1.000 - ETA: 14s - loss: 4.3357e-04 - accuracy: 1.000 - ETA: 13s - loss: 4.2819e-04 - accuracy: 1.000 - ETA: 13s - loss: 4.2293e-04 - accuracy: 1.000 - ETA: 13s - loss: 4.1781e-04 - accuracy: 1.000 - ETA: 13s - loss: 4.1280e-04 - accuracy: 1.000 - ETA: 12s - loss: 4.0792e-04 - accuracy: 1.000 - ETA: 12s - loss: 4.0315e-04 - accuracy: 1.000 - ETA: 12s - loss: 3.9849e-04 - accuracy: 1.000 - ETA: 12s - loss: 3.9393e-04 - accuracy: 1.000 - ETA: 11s - loss: 3.8948e-04 - accuracy: 1.000 - ETA: 11s - loss: 3.8513e-04 - accuracy: 1.000 - ETA: 11s - loss: 3.8088e-04 - accuracy: 1.000 - ETA: 11s - loss: 3.7671e-04 - accuracy: 1.000 - ETA: 11s - loss: 3.7264e-04 - accuracy: 1.000 - ETA: 10s - loss: 3.6865e-04 - accuracy: 1.000 - ETA: 10s - loss: 3.6476e-04 - accuracy: 1.000 - ETA: 10s - loss: 3.6094e-04 - accuracy: 1.000 - ETA: 10s - loss: 3.5720e-04 - accuracy: 1.000 - ETA: 10s - loss: 3.5353e-04 - accuracy: 1.000 - ETA: 9s - loss: 3.4994e-04 - accuracy: 1.000 - ETA: 9s - loss: 3.4643e-04 - accuracy: 1.00 - ETA: 9s - loss: 3.4298e-04 - accuracy: 1.00 - ETA: 9s - loss: 3.3960e-04 - accuracy: 1.00 - ETA: 9s - loss: 3.3629e-04 - accuracy: 1.00 - ETA: 8s - loss: 3.4038e-04 - accuracy: 1.00 - ETA: 8s - loss: 3.3712e-04 - accuracy: 1.00 - ETA: 8s - loss: 3.3393e-04 - accuracy: 1.00 - ETA: 8s - loss: 3.3079e-04 - accuracy: 1.00 - ETA: 8s - loss: 3.2771e-04 - accuracy: 1.00 - ETA: 8s - loss: 3.2469e-04 - accuracy: 1.00 - ETA: 7s - loss: 3.2173e-04 - accuracy: 1.00 - ETA: 7s - loss: 3.1882e-04 - accuracy: 1.00 - ETA: 7s - loss: 3.1596e-04 - accuracy: 1.00 - ETA: 7s - loss: 3.1315e-04 - accuracy: 1.00 - ETA: 7s - loss: 3.1039e-04 - accuracy: 1.00 - ETA: 7s - loss: 3.0829e-04 - accuracy: 1.00 - ETA: 6s - loss: 3.0562e-04 - accuracy: 1.00 - ETA: 6s - loss: 3.0300e-04 - accuracy: 1.00 - ETA: 6s - loss: 3.0042e-04 - accuracy: 1.00 - ETA: 6s - loss: 2.9789e-04 - accuracy: 1.00 - ETA: 6s - loss: 2.9539e-04 - accuracy: 1.00 - ETA: 6s - loss: 2.9294e-04 - accuracy: 1.00 - ETA: 5s - loss: 2.9053e-04 - accuracy: 1.00 - ETA: 5s - loss: 2.8816e-04 - accuracy: 1.00 - ETA: 5s - loss: 2.8583e-04 - accuracy: 1.00 - ETA: 5s - loss: 2.8353e-04 - accuracy: 1.00 - ETA: 5s - loss: 2.8127e-04 - accuracy: 1.00 - ETA: 5s - loss: 2.7905e-04 - accuracy: 1.00 - ETA: 4s - loss: 2.7686e-04 - accuracy: 1.00 - ETA: 4s - loss: 2.7471e-04 - accuracy: 1.00 - ETA: 4s - loss: 2.7258e-04 - accuracy: 1.00 - ETA: 4s - loss: 2.7050e-04 - accuracy: 1.00 - ETA: 4s - loss: 2.6844e-04 - accuracy: 1.00 - ETA: 4s - loss: 2.6641e-04 - accuracy: 1.00 - ETA: 4s - loss: 2.6442e-04 - accuracy: 1.00 - ETA: 3s - loss: 2.6245e-04 - accuracy: 1.00 - ETA: 3s - loss: 2.6148e-04 - accuracy: 1.00 - ETA: 3s - loss: 2.6051e-04 - accuracy: 1.0000"
     ]
    },
    {
     "name": "stdout",
     "output_type": "stream",
     "text": [
      "1325/1325 [==============================] - ETA: 3s - loss: 2.5956e-04 - accuracy: 1.00 - ETA: 3s - loss: 2.5766e-04 - accuracy: 1.00 - ETA: 3s - loss: 2.5579e-04 - accuracy: 1.00 - ETA: 3s - loss: 2.5395e-04 - accuracy: 1.00 - ETA: 3s - loss: 2.5214e-04 - accuracy: 1.00 - ETA: 3s - loss: 2.5035e-04 - accuracy: 1.00 - ETA: 2s - loss: 2.4859e-04 - accuracy: 1.00 - ETA: 2s - loss: 2.4685e-04 - accuracy: 1.00 - ETA: 2s - loss: 2.4514e-04 - accuracy: 1.00 - ETA: 2s - loss: 2.4345e-04 - accuracy: 1.00 - ETA: 2s - loss: 2.4178e-04 - accuracy: 1.00 - ETA: 2s - loss: 2.4013e-04 - accuracy: 1.00 - ETA: 2s - loss: 2.3851e-04 - accuracy: 1.00 - ETA: 2s - loss: 2.3691e-04 - accuracy: 1.00 - ETA: 1s - loss: 2.3533e-04 - accuracy: 1.00 - ETA: 1s - loss: 2.3377e-04 - accuracy: 1.00 - ETA: 1s - loss: 2.3223e-04 - accuracy: 1.00 - ETA: 1s - loss: 2.3072e-04 - accuracy: 1.00 - ETA: 1s - loss: 2.2922e-04 - accuracy: 1.00 - ETA: 1s - loss: 2.2774e-04 - accuracy: 1.00 - ETA: 1s - loss: 2.2628e-04 - accuracy: 1.00 - ETA: 1s - loss: 2.2484e-04 - accuracy: 1.00 - ETA: 0s - loss: 2.2342e-04 - accuracy: 1.00 - ETA: 0s - loss: 2.2201e-04 - accuracy: 1.00 - ETA: 0s - loss: 2.2062e-04 - accuracy: 1.00 - ETA: 0s - loss: 2.1925e-04 - accuracy: 1.00 - ETA: 0s - loss: 2.1790e-04 - accuracy: 1.00 - ETA: 0s - loss: 2.1656e-04 - accuracy: 1.00 - ETA: 0s - loss: 2.1524e-04 - accuracy: 1.00 - ETA: 0s - loss: 2.1394e-04 - accuracy: 1.00 - 20s 15ms/step - loss: 2.1313e-04 - accuracy: 1.0000 - val_loss: 4.0733e-06 - val_accuracy: 1.0000\n",
      "Epoch 42/50\n"
     ]
    },
    {
     "name": "stdout",
     "output_type": "stream",
     "text": [
      "1325/1325 [==============================] - ETA: 11s - loss: 0.0000e+00 - accuracy: 1.000 - ETA: 12s - loss: 0.0000e+00 - accuracy: 1.000 - ETA: 12s - loss: 0.0000e+00 - accuracy: 1.000 - ETA: 12s - loss: 0.0000e+00 - accuracy: 1.000 - ETA: 12s - loss: 0.0000e+00 - accuracy: 1.000 - ETA: 12s - loss: 0.0000e+00 - accuracy: 1.000 - ETA: 12s - loss: 0.0000e+00 - accuracy: 1.000 - ETA: 12s - loss: 0.0000e+00 - accuracy: 1.000 - ETA: 12s - loss: 0.0000e+00 - accuracy: 1.000 - ETA: 12s - loss: 0.0000e+00 - accuracy: 1.000 - ETA: 11s - loss: 0.0000e+00 - accuracy: 1.000 - ETA: 11s - loss: 0.0000e+00 - accuracy: 1.000 - ETA: 11s - loss: 0.0000e+00 - accuracy: 1.000 - ETA: 11s - loss: 0.0000e+00 - accuracy: 1.000 - ETA: 11s - loss: 0.0000e+00 - accuracy: 1.000 - ETA: 11s - loss: 0.0000e+00 - accuracy: 1.000 - ETA: 11s - loss: 0.0000e+00 - accuracy: 1.000 - ETA: 11s - loss: 0.0000e+00 - accuracy: 1.000 - ETA: 11s - loss: 0.0000e+00 - accuracy: 1.000 - ETA: 11s - loss: 0.0000e+00 - accuracy: 1.000 - ETA: 11s - loss: 0.0000e+00 - accuracy: 1.000 - ETA: 11s - loss: 0.0000e+00 - accuracy: 1.000 - ETA: 11s - loss: 0.0000e+00 - accuracy: 1.000 - ETA: 11s - loss: 0.0000e+00 - accuracy: 1.000 - ETA: 11s - loss: 0.0000e+00 - accuracy: 1.000 - ETA: 10s - loss: 0.0000e+00 - accuracy: 1.000 - ETA: 10s - loss: 0.0000e+00 - accuracy: 1.000 - ETA: 10s - loss: 0.0000e+00 - accuracy: 1.000 - ETA: 10s - loss: 0.0000e+00 - accuracy: 1.000 - ETA: 10s - loss: 0.0000e+00 - accuracy: 1.000 - ETA: 10s - loss: 0.0000e+00 - accuracy: 1.000 - ETA: 10s - loss: 0.0083 - accuracy: 0.9960    - ETA: 10s - loss: 0.0081 - accuracy: 0.996 - ETA: 10s - loss: 0.0078 - accuracy: 0.996 - ETA: 10s - loss: 0.0076 - accuracy: 0.996 - ETA: 10s - loss: 0.0074 - accuracy: 0.996 - ETA: 10s - loss: 0.0072 - accuracy: 0.996 - ETA: 9s - loss: 0.0070 - accuracy: 0.996 - ETA: 9s - loss: 0.0068 - accuracy: 0.99 - ETA: 9s - loss: 0.0066 - accuracy: 0.99 - ETA: 9s - loss: 0.0065 - accuracy: 0.99 - ETA: 9s - loss: 0.0064 - accuracy: 0.99 - ETA: 9s - loss: 0.0063 - accuracy: 0.99 - ETA: 9s - loss: 0.0061 - accuracy: 0.99 - ETA: 9s - loss: 0.0060 - accuracy: 0.99 - ETA: 9s - loss: 0.0059 - accuracy: 0.99 - ETA: 9s - loss: 0.0057 - accuracy: 0.99 - ETA: 9s - loss: 0.0056 - accuracy: 0.99 - ETA: 9s - loss: 0.0055 - accuracy: 0.99 - ETA: 9s - loss: 0.0054 - accuracy: 0.99 - ETA: 9s - loss: 0.0053 - accuracy: 0.99 - ETA: 9s - loss: 0.0052 - accuracy: 0.99 - ETA: 9s - loss: 0.0051 - accuracy: 0.99 - ETA: 9s - loss: 0.0050 - accuracy: 0.99 - ETA: 9s - loss: 0.0050 - accuracy: 0.99 - ETA: 9s - loss: 0.0049 - accuracy: 0.99 - ETA: 9s - loss: 0.0048 - accuracy: 0.99 - ETA: 8s - loss: 0.0047 - accuracy: 0.99 - ETA: 8s - loss: 0.0047 - accuracy: 0.99 - ETA: 8s - loss: 0.0046 - accuracy: 0.99 - ETA: 8s - loss: 0.0045 - accuracy: 0.99 - ETA: 8s - loss: 0.0044 - accuracy: 0.99 - ETA: 8s - loss: 0.0044 - accuracy: 0.99 - ETA: 8s - loss: 0.0043 - accuracy: 0.99 - ETA: 8s - loss: 0.0042 - accuracy: 0.99 - ETA: 8s - loss: 0.0042 - accuracy: 0.99 - ETA: 8s - loss: 0.0041 - accuracy: 0.99 - ETA: 8s - loss: 0.0040 - accuracy: 0.99 - ETA: 8s - loss: 0.0040 - accuracy: 0.99 - ETA: 8s - loss: 0.0039 - accuracy: 0.99 - ETA: 8s - loss: 0.0039 - accuracy: 0.99 - ETA: 8s - loss: 0.0039 - accuracy: 0.99 - ETA: 8s - loss: 0.0038 - accuracy: 0.99 - ETA: 7s - loss: 0.0038 - accuracy: 0.99 - ETA: 7s - loss: 0.0038 - accuracy: 0.99 - ETA: 7s - loss: 0.0037 - accuracy: 0.99 - ETA: 7s - loss: 0.0037 - accuracy: 0.99 - ETA: 7s - loss: 0.0037 - accuracy: 0.99 - ETA: 7s - loss: 0.0036 - accuracy: 0.99 - ETA: 7s - loss: 0.0036 - accuracy: 0.99 - ETA: 7s - loss: 0.0035 - accuracy: 0.99 - ETA: 7s - loss: 0.0035 - accuracy: 0.99 - ETA: 7s - loss: 0.0035 - accuracy: 0.99 - ETA: 7s - loss: 0.0070 - accuracy: 0.99 - ETA: 7s - loss: 0.0069 - accuracy: 0.99 - ETA: 7s - loss: 0.0068 - accuracy: 0.99 - ETA: 7s - loss: 0.0068 - accuracy: 0.99 - ETA: 7s - loss: 0.0067 - accuracy: 0.99 - ETA: 7s - loss: 0.0066 - accuracy: 0.99 - ETA: 6s - loss: 0.0065 - accuracy: 0.99 - ETA: 6s - loss: 0.0064 - accuracy: 0.99 - ETA: 6s - loss: 0.0064 - accuracy: 0.99 - ETA: 6s - loss: 0.0063 - accuracy: 0.99 - ETA: 6s - loss: 0.0062 - accuracy: 0.99 - ETA: 6s - loss: 0.0061 - accuracy: 0.99 - ETA: 6s - loss: 0.0061 - accuracy: 0.99 - ETA: 6s - loss: 0.0060 - accuracy: 0.99 - ETA: 6s - loss: 0.0059 - accuracy: 0.99 - ETA: 6s - loss: 0.0059 - accuracy: 0.99 - ETA: 6s - loss: 0.0058 - accuracy: 0.99 - ETA: 6s - loss: 0.0058 - accuracy: 0.99 - ETA: 6s - loss: 0.0150 - accuracy: 0.99 - ETA: 6s - loss: 0.0149 - accuracy: 0.99 - ETA: 6s - loss: 0.0148 - accuracy: 0.99 - ETA: 5s - loss: 0.0147 - accuracy: 0.99 - ETA: 5s - loss: 0.0146 - accuracy: 0.99 - ETA: 5s - loss: 0.0145 - accuracy: 0.99 - ETA: 5s - loss: 0.0143 - accuracy: 0.99 - ETA: 5s - loss: 0.0142 - accuracy: 0.99 - ETA: 5s - loss: 0.0140 - accuracy: 0.99 - ETA: 5s - loss: 0.0151 - accuracy: 0.99 - ETA: 5s - loss: 0.0151 - accuracy: 0.99 - ETA: 5s - loss: 0.0149 - accuracy: 0.99 - ETA: 5s - loss: 0.0148 - accuracy: 0.99 - ETA: 5s - loss: 0.0146 - accuracy: 0.99 - ETA: 5s - loss: 0.0145 - accuracy: 0.99 - ETA: 5s - loss: 0.0253 - accuracy: 0.99 - ETA: 4s - loss: 0.0251 - accuracy: 0.99 - ETA: 4s - loss: 0.0249 - accuracy: 0.99 - ETA: 4s - loss: 0.0246 - accuracy: 0.99 - ETA: 4s - loss: 0.0244 - accuracy: 0.99 - ETA: 4s - loss: 0.0242 - accuracy: 0.99 - ETA: 4s - loss: 0.0240 - accuracy: 0.99 - ETA: 4s - loss: 0.0238 - accuracy: 0.99 - ETA: 4s - loss: 0.0236 - accuracy: 0.99 - ETA: 4s - loss: 0.0233 - accuracy: 0.99 - ETA: 4s - loss: 0.0231 - accuracy: 0.99 - ETA: 4s - loss: 0.0229 - accuracy: 0.99 - ETA: 4s - loss: 0.0227 - accuracy: 0.99 - ETA: 3s - loss: 0.0226 - accuracy: 0.99 - ETA: 3s - loss: 0.0224 - accuracy: 0.99 - ETA: 3s - loss: 0.0222 - accuracy: 0.99 - ETA: 3s - loss: 0.0220 - accuracy: 0.99 - ETA: 3s - loss: 0.0218 - accuracy: 0.99 - ETA: 3s - loss: 0.0216 - accuracy: 0.99 - ETA: 3s - loss: 0.0215 - accuracy: 0.99 - ETA: 3s - loss: 0.0213 - accuracy: 0.99 - ETA: 3s - loss: 0.0213 - accuracy: 0.99 - ETA: 3s - loss: 0.0212 - accuracy: 0.99 - ETA: 3s - loss: 0.0210 - accuracy: 0.99 - ETA: 3s - loss: 0.0208 - accuracy: 0.99 - ETA: 2s - loss: 0.0207 - accuracy: 0.99 - ETA: 2s - loss: 0.0205 - accuracy: 0.99 - ETA: 2s - loss: 0.0204 - accuracy: 0.99 - ETA: 2s - loss: 0.0202 - accuracy: 0.99 - ETA: 2s - loss: 0.0200 - accuracy: 0.99 - ETA: 2s - loss: 0.0199 - accuracy: 0.99 - ETA: 2s - loss: 0.0198 - accuracy: 0.99 - ETA: 2s - loss: 0.0196 - accuracy: 0.99 - ETA: 2s - loss: 0.0195 - accuracy: 0.99 - ETA: 2s - loss: 0.0193 - accuracy: 0.99 - ETA: 2s - loss: 0.0192 - accuracy: 0.99 - ETA: 2s - loss: 0.0191 - accuracy: 0.99 - ETA: 1s - loss: 0.0189 - accuracy: 0.99 - ETA: 1s - loss: 0.0188 - accuracy: 0.99 - ETA: 1s - loss: 0.0187 - accuracy: 0.99 - ETA: 1s - loss: 0.0185 - accuracy: 0.99 - ETA: 1s - loss: 0.0184 - accuracy: 0.99 - ETA: 1s - loss: 0.0183 - accuracy: 0.99 - ETA: 1s - loss: 0.0182 - accuracy: 0.99 - ETA: 1s - loss: 0.0180 - accuracy: 0.99 - ETA: 1s - loss: 0.0179 - accuracy: 0.99 - ETA: 1s - loss: 0.0178 - accuracy: 0.99 - ETA: 1s - loss: 0.0177 - accuracy: 0.99 - ETA: 1s - loss: 0.0176 - accuracy: 0.99 - ETA: 0s - loss: 0.0174 - accuracy: 0.99 - ETA: 0s - loss: 0.0173 - accuracy: 0.99 - ETA: 0s - loss: 0.0172 - accuracy: 0.99 - ETA: 0s - loss: 0.0171 - accuracy: 0.99 - ETA: 0s - loss: 0.0170 - accuracy: 0.99 - ETA: 0s - loss: 0.0169 - accuracy: 0.99 - ETA: 0s - loss: 0.0168 - accuracy: 0.99 - ETA: 0s - loss: 0.0167 - accuracy: 0.99 - ETA: 0s - loss: 0.0166 - accuracy: 0.99 - ETA: 0s - loss: 0.0165 - accuracy: 0.99 - ETA: 0s - loss: 0.0208 - accuracy: 0.99 - ETA: 0s - loss: 0.0207 - accuracy: 0.99 - 14s 10ms/step - loss: 0.0206 - accuracy: 0.9955 - val_loss: 2.4517e-06 - val_accuracy: 1.0000\n",
      "Epoch 43/50\n"
     ]
    },
    {
     "name": "stdout",
     "output_type": "stream",
     "text": [
      "1325/1325 [==============================] - ETA: 12s - loss: 0.0000e+00 - accuracy: 1.000 - ETA: 12s - loss: 0.0000e+00 - accuracy: 1.000 - ETA: 12s - loss: 5.9605e-09 - accuracy: 1.000 - ETA: 12s - loss: 4.2575e-09 - accuracy: 1.000 - ETA: 12s - loss: 0.0012 - accuracy: 1.0000    - ETA: 12s - loss: 0.0011 - accuracy: 1.000 - ETA: 12s - loss: 9.2401e-04 - accuracy: 1.000 - ETA: 11s - loss: 8.0081e-04 - accuracy: 1.000 - ETA: 11s - loss: 9.1836e-04 - accuracy: 1.000 - ETA: 11s - loss: 8.2169e-04 - accuracy: 1.000 - ETA: 11s - loss: 7.4343e-04 - accuracy: 1.000 - ETA: 11s - loss: 6.7879e-04 - accuracy: 1.000 - ETA: 11s - loss: 6.2448e-04 - accuracy: 1.000 - ETA: 11s - loss: 5.7823e-04 - accuracy: 1.000 - ETA: 11s - loss: 5.3835e-04 - accuracy: 1.000 - ETA: 11s - loss: 5.0397e-04 - accuracy: 1.000 - ETA: 11s - loss: 4.7412e-04 - accuracy: 1.000 - ETA: 11s - loss: 4.5498e-04 - accuracy: 1.000 - ETA: 11s - loss: 4.3039e-04 - accuracy: 1.000 - ETA: 11s - loss: 4.0832e-04 - accuracy: 1.000 - ETA: 11s - loss: 0.0012 - accuracy: 1.0000    - ETA: 10s - loss: 0.0012 - accuracy: 1.000 - ETA: 10s - loss: 0.0011 - accuracy: 1.000 - ETA: 10s - loss: 0.0011 - accuracy: 1.000 - ETA: 10s - loss: 0.0010 - accuracy: 1.000 - ETA: 10s - loss: 9.9136e-04 - accuracy: 1.000 - ETA: 10s - loss: 9.5396e-04 - accuracy: 1.000 - ETA: 10s - loss: 9.3741e-04 - accuracy: 1.000 - ETA: 10s - loss: 9.0452e-04 - accuracy: 1.000 - ETA: 10s - loss: 8.7386e-04 - accuracy: 1.000 - ETA: 10s - loss: 8.4521e-04 - accuracy: 1.000 - ETA: 10s - loss: 8.1838e-04 - accuracy: 1.000 - ETA: 10s - loss: 7.9320e-04 - accuracy: 1.000 - ETA: 10s - loss: 7.6952e-04 - accuracy: 1.000 - ETA: 9s - loss: 7.4722e-04 - accuracy: 1.000 - ETA: 9s - loss: 7.2617e-04 - accuracy: 1.00 - ETA: 9s - loss: 7.0627e-04 - accuracy: 1.00 - ETA: 9s - loss: 6.8755e-04 - accuracy: 1.00 - ETA: 9s - loss: 6.6969e-04 - accuracy: 1.00 - ETA: 9s - loss: 6.5313e-04 - accuracy: 1.00 - ETA: 9s - loss: 6.3700e-04 - accuracy: 1.00 - ETA: 9s - loss: 6.2165e-04 - accuracy: 1.00 - ETA: 9s - loss: 6.0703e-04 - accuracy: 1.00 - ETA: 9s - loss: 5.9307e-04 - accuracy: 1.00 - ETA: 9s - loss: 5.8633e-04 - accuracy: 1.00 - ETA: 9s - loss: 5.7974e-04 - accuracy: 1.00 - ETA: 9s - loss: 5.7342e-04 - accuracy: 1.00 - ETA: 9s - loss: 5.6712e-04 - accuracy: 1.00 - ETA: 9s - loss: 5.6165e-04 - accuracy: 1.00 - ETA: 9s - loss: 5.5561e-04 - accuracy: 1.00 - ETA: 9s - loss: 5.4392e-04 - accuracy: 1.00 - ETA: 9s - loss: 5.3270e-04 - accuracy: 1.00 - ETA: 9s - loss: 5.2195e-04 - accuracy: 1.00 - ETA: 9s - loss: 5.1161e-04 - accuracy: 1.00 - ETA: 8s - loss: 5.0168e-04 - accuracy: 1.00 - ETA: 8s - loss: 4.9212e-04 - accuracy: 1.00 - ETA: 8s - loss: 0.0174 - accuracy: 0.9977   - ETA: 8s - loss: 0.0170 - accuracy: 0.99 - ETA: 8s - loss: 0.0167 - accuracy: 0.99 - ETA: 8s - loss: 0.0164 - accuracy: 0.99 - ETA: 8s - loss: 0.0162 - accuracy: 0.99 - ETA: 8s - loss: 0.0159 - accuracy: 0.99 - ETA: 8s - loss: 0.0156 - accuracy: 0.99 - ETA: 8s - loss: 0.0154 - accuracy: 0.99 - ETA: 8s - loss: 0.0151 - accuracy: 0.99 - ETA: 8s - loss: 0.0149 - accuracy: 0.99 - ETA: 7s - loss: 0.0146 - accuracy: 0.99 - ETA: 7s - loss: 0.0144 - accuracy: 0.99 - ETA: 7s - loss: 0.0142 - accuracy: 0.99 - ETA: 7s - loss: 0.0140 - accuracy: 0.99 - ETA: 7s - loss: 0.0138 - accuracy: 0.99 - ETA: 7s - loss: 0.0136 - accuracy: 0.99 - ETA: 7s - loss: 0.0213 - accuracy: 0.99 - ETA: 7s - loss: 0.0210 - accuracy: 0.99 - ETA: 7s - loss: 0.0207 - accuracy: 0.99 - ETA: 7s - loss: 0.0204 - accuracy: 0.99 - ETA: 7s - loss: 0.0203 - accuracy: 0.99 - ETA: 7s - loss: 0.0200 - accuracy: 0.99 - ETA: 7s - loss: 0.0347 - accuracy: 0.99 - ETA: 6s - loss: 0.0343 - accuracy: 0.99 - ETA: 6s - loss: 0.0339 - accuracy: 0.99 - ETA: 6s - loss: 0.0334 - accuracy: 0.99 - ETA: 6s - loss: 0.0330 - accuracy: 0.99 - ETA: 6s - loss: 0.0326 - accuracy: 0.99 - ETA: 6s - loss: 0.0324 - accuracy: 0.99 - ETA: 6s - loss: 0.0320 - accuracy: 0.99 - ETA: 6s - loss: 0.0316 - accuracy: 0.99 - ETA: 6s - loss: 0.0313 - accuracy: 0.99 - ETA: 6s - loss: 0.0311 - accuracy: 0.99 - ETA: 6s - loss: 0.0307 - accuracy: 0.99 - ETA: 6s - loss: 0.0304 - accuracy: 0.99 - ETA: 6s - loss: 0.0300 - accuracy: 0.99 - ETA: 6s - loss: 0.0298 - accuracy: 0.99 - ETA: 5s - loss: 0.0294 - accuracy: 0.99 - ETA: 5s - loss: 0.0291 - accuracy: 0.99 - ETA: 5s - loss: 0.0288 - accuracy: 0.99 - ETA: 5s - loss: 0.0285 - accuracy: 0.99 - ETA: 5s - loss: 0.0282 - accuracy: 0.99 - ETA: 5s - loss: 0.0279 - accuracy: 0.99 - ETA: 5s - loss: 0.0276 - accuracy: 0.99 - ETA: 5s - loss: 0.0273 - accuracy: 0.99 - ETA: 5s - loss: 0.0270 - accuracy: 0.99 - ETA: 5s - loss: 0.0267 - accuracy: 0.99 - ETA: 5s - loss: 0.0265 - accuracy: 0.99 - ETA: 5s - loss: 0.0262 - accuracy: 0.99 - ETA: 5s - loss: 0.0260 - accuracy: 0.99 - ETA: 4s - loss: 0.0257 - accuracy: 0.99 - ETA: 4s - loss: 0.0255 - accuracy: 0.99 - ETA: 4s - loss: 0.0252 - accuracy: 0.99 - ETA: 4s - loss: 0.0250 - accuracy: 0.99 - ETA: 4s - loss: 0.0248 - accuracy: 0.99 - ETA: 4s - loss: 0.0245 - accuracy: 0.99 - ETA: 4s - loss: 0.0243 - accuracy: 0.99 - ETA: 4s - loss: 0.0241 - accuracy: 0.99 - ETA: 4s - loss: 0.0239 - accuracy: 0.99 - ETA: 4s - loss: 0.0237 - accuracy: 0.99 - ETA: 4s - loss: 0.0234 - accuracy: 0.99 - ETA: 4s - loss: 0.0232 - accuracy: 0.99 - ETA: 3s - loss: 0.0230 - accuracy: 0.99 - ETA: 3s - loss: 0.0228 - accuracy: 0.99 - ETA: 3s - loss: 0.0226 - accuracy: 0.99 - ETA: 3s - loss: 0.0224 - accuracy: 0.99 - ETA: 3s - loss: 0.0223 - accuracy: 0.99 - ETA: 3s - loss: 0.0221 - accuracy: 0.99 - ETA: 3s - loss: 0.0219 - accuracy: 0.99 - ETA: 3s - loss: 0.0217 - accuracy: 0.99 - ETA: 3s - loss: 0.0215 - accuracy: 0.99 - ETA: 3s - loss: 0.0214 - accuracy: 0.99 - ETA: 3s - loss: 0.0213 - accuracy: 0.99 - ETA: 3s - loss: 0.0211 - accuracy: 0.99 - ETA: 3s - loss: 0.0209 - accuracy: 0.99 - ETA: 2s - loss: 0.0208 - accuracy: 0.99 - ETA: 2s - loss: 0.0206 - accuracy: 0.99 - ETA: 2s - loss: 0.0205 - accuracy: 0.99 - ETA: 2s - loss: 0.0203 - accuracy: 0.99 - ETA: 2s - loss: 0.0201 - accuracy: 0.99 - ETA: 2s - loss: 0.0200 - accuracy: 0.99 - ETA: 2s - loss: 0.0198 - accuracy: 0.99 - ETA: 2s - loss: 0.0197 - accuracy: 0.99 - ETA: 2s - loss: 0.0196 - accuracy: 0.99 - ETA: 2s - loss: 0.0194 - accuracy: 0.99 - ETA: 2s - loss: 0.0193 - accuracy: 0.99 - ETA: 2s - loss: 0.0191 - accuracy: 0.99 - ETA: 2s - loss: 0.0190 - accuracy: 0.99 - ETA: 1s - loss: 0.0194 - accuracy: 0.99 - ETA: 1s - loss: 0.0193 - accuracy: 0.99 - ETA: 1s - loss: 0.0192 - accuracy: 0.99 - ETA: 1s - loss: 0.0191 - accuracy: 0.99 - ETA: 1s - loss: 0.0190 - accuracy: 0.99 - ETA: 1s - loss: 0.0189 - accuracy: 0.99 - ETA: 1s - loss: 0.0188 - accuracy: 0.99 - ETA: 1s - loss: 0.0188 - accuracy: 0.99 - ETA: 1s - loss: 0.0186 - accuracy: 0.99 - ETA: 1s - loss: 0.0186 - accuracy: 0.99 - ETA: 1s - loss: 0.0185 - accuracy: 0.99 - ETA: 1s - loss: 0.0183 - accuracy: 0.99 - ETA: 1s - loss: 0.0182 - accuracy: 0.99 - ETA: 1s - loss: 0.0181 - accuracy: 0.99 - ETA: 1s - loss: 0.0180 - accuracy: 0.99 - ETA: 1s - loss: 0.0179 - accuracy: 0.99 - ETA: 0s - loss: 0.0177 - accuracy: 0.99 - ETA: 0s - loss: 0.0176 - accuracy: 0.99 - ETA: 0s - loss: 0.0176 - accuracy: 0.99 - ETA: 0s - loss: 0.0175 - accuracy: 0.99 - ETA: 0s - loss: 0.0173 - accuracy: 0.99 - ETA: 0s - loss: 0.0172 - accuracy: 0.99 - ETA: 0s - loss: 0.0171 - accuracy: 0.99 - ETA: 0s - loss: 0.0170 - accuracy: 0.99 - ETA: 0s - loss: 0.0169 - accuracy: 0.99 - ETA: 0s - loss: 0.0168 - accuracy: 0.99 - ETA: 0s - loss: 0.0167 - accuracy: 0.99 - ETA: 0s - loss: 0.0252 - accuracy: 0.99 - ETA: 0s - loss: 0.0251 - accuracy: 0.99 - 14s 10ms/step - loss: 0.0250 - accuracy: 0.9970 - val_loss: 2.4016e-06 - val_accuracy: 1.0000\n",
      "Epoch 44/50\n"
     ]
    },
    {
     "name": "stdout",
     "output_type": "stream",
     "text": [
      "1325/1325 [==============================] - ETA: 11s - loss: 0.0000e+00 - accuracy: 1.000 - ETA: 11s - loss: 0.0000e+00 - accuracy: 1.000 - ETA: 13s - loss: 0.0000e+00 - accuracy: 1.000 - ETA: 12s - loss: 7.9565e-06 - accuracy: 1.000 - ETA: 12s - loss: 7.0216e-06 - accuracy: 1.000 - ETA: 12s - loss: 5.6173e-06 - accuracy: 1.000 - ETA: 12s - loss: 4.6835e-06 - accuracy: 1.000 - ETA: 12s - loss: 3.8293e-05 - accuracy: 1.000 - ETA: 12s - loss: 3.3506e-05 - accuracy: 1.000 - ETA: 11s - loss: 2.9897e-05 - accuracy: 1.000 - ETA: 11s - loss: 2.6917e-05 - accuracy: 1.000 - ETA: 11s - loss: 0.0013 - accuracy: 1.0000    - ETA: 11s - loss: 0.0012 - accuracy: 1.000 - ETA: 11s - loss: 0.0011 - accuracy: 1.000 - ETA: 11s - loss: 0.0010 - accuracy: 1.000 - ETA: 11s - loss: 9.6987e-04 - accuracy: 1.000 - ETA: 11s - loss: 9.0962e-04 - accuracy: 1.000 - ETA: 11s - loss: 8.8139e-04 - accuracy: 1.000 - ETA: 11s - loss: 8.3242e-04 - accuracy: 1.000 - ETA: 11s - loss: 7.8861e-04 - accuracy: 1.000 - ETA: 11s - loss: 0.0692 - accuracy: 0.9937    - ETA: 11s - loss: 0.0659 - accuracy: 0.994 - ETA: 10s - loss: 0.0629 - accuracy: 0.994 - ETA: 10s - loss: 0.0602 - accuracy: 0.994 - ETA: 10s - loss: 0.0577 - accuracy: 0.994 - ETA: 10s - loss: 0.0554 - accuracy: 0.995 - ETA: 11s - loss: 0.0543 - accuracy: 0.995 - ETA: 11s - loss: 0.0532 - accuracy: 0.995 - ETA: 11s - loss: 0.0513 - accuracy: 0.995 - ETA: 11s - loss: 0.0494 - accuracy: 0.995 - ETA: 10s - loss: 0.0515 - accuracy: 0.991 - ETA: 10s - loss: 0.0498 - accuracy: 0.991 - ETA: 10s - loss: 0.0482 - accuracy: 0.991 - ETA: 10s - loss: 0.0467 - accuracy: 0.992 - ETA: 10s - loss: 0.0453 - accuracy: 0.992 - ETA: 10s - loss: 0.0440 - accuracy: 0.992 - ETA: 10s - loss: 0.0427 - accuracy: 0.992 - ETA: 10s - loss: 0.0415 - accuracy: 0.993 - ETA: 10s - loss: 0.0404 - accuracy: 0.993 - ETA: 10s - loss: 0.0393 - accuracy: 0.993 - ETA: 10s - loss: 0.0388 - accuracy: 0.993 - ETA: 10s - loss: 0.0383 - accuracy: 0.993 - ETA: 10s - loss: 0.0379 - accuracy: 0.993 - ETA: 10s - loss: 0.0374 - accuracy: 0.993 - ETA: 10s - loss: 0.0369 - accuracy: 0.993 - ETA: 10s - loss: 0.0365 - accuracy: 0.993 - ETA: 10s - loss: 0.0360 - accuracy: 0.994 - ETA: 10s - loss: 0.0352 - accuracy: 0.994 - ETA: 10s - loss: 0.0344 - accuracy: 0.994 - ETA: 10s - loss: 0.0340 - accuracy: 0.994 - ETA: 10s - loss: 0.0332 - accuracy: 0.994 - ETA: 10s - loss: 0.0325 - accuracy: 0.994 - ETA: 10s - loss: 0.0318 - accuracy: 0.994 - ETA: 9s - loss: 0.0315 - accuracy: 0.994 - ETA: 9s - loss: 0.0312 - accuracy: 0.99 - ETA: 9s - loss: 0.0308 - accuracy: 0.99 - ETA: 9s - loss: 0.0302 - accuracy: 0.99 - ETA: 9s - loss: 0.0299 - accuracy: 0.99 - ETA: 9s - loss: 0.0293 - accuracy: 0.99 - ETA: 9s - loss: 0.0288 - accuracy: 0.99 - ETA: 9s - loss: 0.0282 - accuracy: 0.99 - ETA: 9s - loss: 0.0277 - accuracy: 0.99 - ETA: 9s - loss: 0.0272 - accuracy: 0.99 - ETA: 9s - loss: 0.0267 - accuracy: 0.99 - ETA: 9s - loss: 0.0262 - accuracy: 0.99 - ETA: 9s - loss: 0.0258 - accuracy: 0.99 - ETA: 9s - loss: 0.0253 - accuracy: 0.99 - ETA: 8s - loss: 0.0249 - accuracy: 0.99 - ETA: 8s - loss: 0.0245 - accuracy: 0.99 - ETA: 8s - loss: 0.0241 - accuracy: 0.99 - ETA: 8s - loss: 0.0237 - accuracy: 0.99 - ETA: 8s - loss: 0.0234 - accuracy: 0.99 - ETA: 8s - loss: 0.0244 - accuracy: 0.99 - ETA: 8s - loss: 0.0245 - accuracy: 0.99 - ETA: 8s - loss: 0.0242 - accuracy: 0.99 - ETA: 8s - loss: 0.0238 - accuracy: 0.99 - ETA: 8s - loss: 0.0235 - accuracy: 0.99 - ETA: 8s - loss: 0.0233 - accuracy: 0.99 - ETA: 7s - loss: 0.0230 - accuracy: 0.99 - ETA: 7s - loss: 0.0227 - accuracy: 0.99 - ETA: 7s - loss: 0.0223 - accuracy: 0.99 - ETA: 7s - loss: 0.0220 - accuracy: 0.99 - ETA: 7s - loss: 0.0217 - accuracy: 0.99 - ETA: 7s - loss: 0.0215 - accuracy: 0.99 - ETA: 7s - loss: 0.0212 - accuracy: 0.99 - ETA: 7s - loss: 0.0209 - accuracy: 0.99 - ETA: 7s - loss: 0.0207 - accuracy: 0.99 - ETA: 7s - loss: 0.0205 - accuracy: 0.99 - ETA: 7s - loss: 0.0202 - accuracy: 0.99 - ETA: 7s - loss: 0.0200 - accuracy: 0.99 - ETA: 6s - loss: 0.0198 - accuracy: 0.99 - ETA: 6s - loss: 0.0196 - accuracy: 0.99 - ETA: 6s - loss: 0.0193 - accuracy: 0.99 - ETA: 6s - loss: 0.0191 - accuracy: 0.99 - ETA: 6s - loss: 0.0189 - accuracy: 0.99 - ETA: 6s - loss: 0.0187 - accuracy: 0.99 - ETA: 6s - loss: 0.0185 - accuracy: 0.99 - ETA: 6s - loss: 0.0183 - accuracy: 0.99 - ETA: 6s - loss: 0.0181 - accuracy: 0.99 - ETA: 6s - loss: 0.0179 - accuracy: 0.99 - ETA: 6s - loss: 0.0177 - accuracy: 0.99 - ETA: 5s - loss: 0.0175 - accuracy: 0.99 - ETA: 5s - loss: 0.0173 - accuracy: 0.99 - ETA: 5s - loss: 0.0171 - accuracy: 0.99 - ETA: 5s - loss: 0.0169 - accuracy: 0.99 - ETA: 5s - loss: 0.0168 - accuracy: 0.99 - ETA: 5s - loss: 0.0166 - accuracy: 0.99 - ETA: 5s - loss: 0.0164 - accuracy: 0.99 - ETA: 5s - loss: 0.0163 - accuracy: 0.99 - ETA: 5s - loss: 0.0161 - accuracy: 0.99 - ETA: 5s - loss: 0.0159 - accuracy: 0.99 - ETA: 5s - loss: 0.0158 - accuracy: 0.99 - ETA: 4s - loss: 0.0156 - accuracy: 0.99 - ETA: 4s - loss: 0.0155 - accuracy: 0.99 - ETA: 4s - loss: 0.0153 - accuracy: 0.99 - ETA: 4s - loss: 0.0152 - accuracy: 0.99 - ETA: 4s - loss: 0.0151 - accuracy: 0.99 - ETA: 4s - loss: 0.0149 - accuracy: 0.99 - ETA: 4s - loss: 0.0148 - accuracy: 0.99 - ETA: 4s - loss: 0.0147 - accuracy: 0.99 - ETA: 4s - loss: 0.0145 - accuracy: 0.99 - ETA: 4s - loss: 0.0144 - accuracy: 0.99 - ETA: 4s - loss: 0.0143 - accuracy: 0.99 - ETA: 4s - loss: 0.0142 - accuracy: 0.99 - ETA: 3s - loss: 0.0140 - accuracy: 0.99 - ETA: 3s - loss: 0.0139 - accuracy: 0.99 - ETA: 3s - loss: 0.0138 - accuracy: 0.99 - ETA: 3s - loss: 0.0137 - accuracy: 0.99 - ETA: 3s - loss: 0.0136 - accuracy: 0.99 - ETA: 3s - loss: 0.0135 - accuracy: 0.99 - ETA: 3s - loss: 0.0133 - accuracy: 0.99 - ETA: 3s - loss: 0.0132 - accuracy: 0.99 - ETA: 3s - loss: 0.0131 - accuracy: 0.99 - ETA: 3s - loss: 0.0130 - accuracy: 0.99 - ETA: 3s - loss: 0.0129 - accuracy: 0.99 - ETA: 3s - loss: 0.0128 - accuracy: 0.99 - ETA: 2s - loss: 0.0127 - accuracy: 0.99 - ETA: 2s - loss: 0.0126 - accuracy: 0.99 - ETA: 2s - loss: 0.0125 - accuracy: 0.99 - ETA: 2s - loss: 0.0124 - accuracy: 0.99 - ETA: 2s - loss: 0.0123 - accuracy: 0.99 - ETA: 2s - loss: 0.0122 - accuracy: 0.99 - ETA: 2s - loss: 0.0122 - accuracy: 0.99 - ETA: 2s - loss: 0.0121 - accuracy: 0.99 - ETA: 2s - loss: 0.0120 - accuracy: 0.99 - ETA: 2s - loss: 0.0119 - accuracy: 0.99 - ETA: 2s - loss: 0.0119 - accuracy: 0.99 - ETA: 2s - loss: 0.0118 - accuracy: 0.99 - ETA: 2s - loss: 0.0118 - accuracy: 0.99 - ETA: 2s - loss: 0.0117 - accuracy: 0.99 - ETA: 1s - loss: 0.0116 - accuracy: 0.99 - ETA: 1s - loss: 0.0115 - accuracy: 0.99 - ETA: 1s - loss: 0.0115 - accuracy: 0.99 - ETA: 1s - loss: 0.0114 - accuracy: 0.99 - ETA: 1s - loss: 0.0113 - accuracy: 0.99 - ETA: 1s - loss: 0.0112 - accuracy: 0.99 - ETA: 1s - loss: 0.0111 - accuracy: 0.99 - ETA: 1s - loss: 0.0111 - accuracy: 0.99 - ETA: 1s - loss: 0.0110 - accuracy: 0.99 - ETA: 1s - loss: 0.0109 - accuracy: 0.99 - ETA: 1s - loss: 0.0109 - accuracy: 0.99 - ETA: 1s - loss: 0.0108 - accuracy: 0.99 - ETA: 1s - loss: 0.0108 - accuracy: 0.99 - ETA: 0s - loss: 0.0107 - accuracy: 0.99 - ETA: 0s - loss: 0.0106 - accuracy: 0.99 - ETA: 0s - loss: 0.0105 - accuracy: 0.99 - ETA: 0s - loss: 0.0105 - accuracy: 0.99 - ETA: 0s - loss: 0.0115 - accuracy: 0.99 - ETA: 0s - loss: 0.0114 - accuracy: 0.99 - ETA: 0s - loss: 0.0114 - accuracy: 0.99 - ETA: 0s - loss: 0.0113 - accuracy: 0.99 - ETA: 0s - loss: 0.0112 - accuracy: 0.99 - ETA: 0s - loss: 0.0112 - accuracy: 0.99 - ETA: 0s - loss: 0.0111 - accuracy: 0.99 - ETA: 0s - loss: 0.0110 - accuracy: 0.99 - 14s 10ms/step - loss: 0.0110 - accuracy: 0.9970 - val_loss: 0.0000e+00 - val_accuracy: 1.0000\n",
      "Epoch 45/50\n"
     ]
    },
    {
     "name": "stdout",
     "output_type": "stream",
     "text": [
      "1325/1325 [==============================] - ETA: 11s - loss: 8.2420e-05 - accuracy: 1.000 - ETA: 12s - loss: 2.7473e-05 - accuracy: 1.000 - ETA: 12s - loss: 1.6484e-05 - accuracy: 1.000 - ETA: 11s - loss: 1.1774e-05 - accuracy: 1.000 - ETA: 12s - loss: 9.1577e-06 - accuracy: 1.000 - ETA: 11s - loss: 7.4927e-06 - accuracy: 1.000 - ETA: 11s - loss: 6.3400e-06 - accuracy: 1.000 - ETA: 11s - loss: 5.4946e-06 - accuracy: 1.000 - ETA: 11s - loss: 5.9123e-06 - accuracy: 1.000 - ETA: 11s - loss: 5.2900e-06 - accuracy: 1.000 - ETA: 11s - loss: 4.7862e-06 - accuracy: 1.000 - ETA: 11s - loss: 4.3751e-06 - accuracy: 1.000 - ETA: 11s - loss: 4.0251e-06 - accuracy: 1.000 - ETA: 11s - loss: 3.7303e-06 - accuracy: 1.000 - ETA: 11s - loss: 3.4730e-06 - accuracy: 1.000 - ETA: 11s - loss: 3.2490e-06 - accuracy: 1.000 - ETA: 11s - loss: 3.1189e-06 - accuracy: 1.000 - ETA: 11s - loss: 2.9407e-06 - accuracy: 1.000 - ETA: 11s - loss: 2.7817e-06 - accuracy: 1.000 - ETA: 11s - loss: 2.6391e-06 - accuracy: 1.000 - ETA: 10s - loss: 2.5103e-06 - accuracy: 1.000 - ETA: 10s - loss: 2.3936e-06 - accuracy: 1.000 - ETA: 10s - loss: 2.2872e-06 - accuracy: 1.000 - ETA: 10s - loss: 2.1899e-06 - accuracy: 1.000 - ETA: 10s - loss: 2.1005e-06 - accuracy: 1.000 - ETA: 10s - loss: 2.0181e-06 - accuracy: 1.000 - ETA: 10s - loss: 1.9419e-06 - accuracy: 1.000 - ETA: 10s - loss: 1.8713e-06 - accuracy: 1.000 - ETA: 10s - loss: 1.8057e-06 - accuracy: 1.000 - ETA: 10s - loss: 1.7445e-06 - accuracy: 1.000 - ETA: 10s - loss: 1.6873e-06 - accuracy: 1.000 - ETA: 10s - loss: 1.6337e-06 - accuracy: 1.000 - ETA: 10s - loss: 1.5834e-06 - accuracy: 1.000 - ETA: 9s - loss: 1.5362e-06 - accuracy: 1.000 - ETA: 9s - loss: 1.4916e-06 - accuracy: 1.00 - ETA: 9s - loss: 1.4496e-06 - accuracy: 1.00 - ETA: 9s - loss: 1.4099e-06 - accuracy: 1.00 - ETA: 9s - loss: 1.3723e-06 - accuracy: 1.00 - ETA: 9s - loss: 1.3367e-06 - accuracy: 1.00 - ETA: 9s - loss: 1.3028e-06 - accuracy: 1.00 - ETA: 9s - loss: 1.2707e-06 - accuracy: 1.00 - ETA: 9s - loss: 1.2400e-06 - accuracy: 1.00 - ETA: 9s - loss: 1.2109e-06 - accuracy: 1.00 - ETA: 9s - loss: 1.1830e-06 - accuracy: 1.00 - ETA: 9s - loss: 1.1564e-06 - accuracy: 1.00 - ETA: 9s - loss: 1.1310e-06 - accuracy: 1.00 - ETA: 9s - loss: 1.1067e-06 - accuracy: 1.00 - ETA: 8s - loss: 1.0837e-06 - accuracy: 1.00 - ETA: 8s - loss: 1.0614e-06 - accuracy: 1.00 - ETA: 8s - loss: 1.0399e-06 - accuracy: 1.00 - ETA: 8s - loss: 5.5940e-06 - accuracy: 1.00 - ETA: 8s - loss: 5.4854e-06 - accuracy: 1.00 - ETA: 8s - loss: 5.3809e-06 - accuracy: 1.00 - ETA: 8s - loss: 5.2804e-06 - accuracy: 1.00 - ETA: 8s - loss: 5.1835e-06 - accuracy: 1.00 - ETA: 8s - loss: 5.0901e-06 - accuracy: 1.00 - ETA: 8s - loss: 5.0000e-06 - accuracy: 1.00 - ETA: 8s - loss: 4.9130e-06 - accuracy: 1.00 - ETA: 8s - loss: 4.8290e-06 - accuracy: 1.00 - ETA: 8s - loss: 4.7479e-06 - accuracy: 1.00 - ETA: 7s - loss: 4.6694e-06 - accuracy: 1.00 - ETA: 7s - loss: 4.5935e-06 - accuracy: 1.00 - ETA: 7s - loss: 4.5200e-06 - accuracy: 1.00 - ETA: 7s - loss: 4.4488e-06 - accuracy: 1.00 - ETA: 7s - loss: 4.3798e-06 - accuracy: 1.00 - ETA: 7s - loss: 4.3130e-06 - accuracy: 1.00 - ETA: 7s - loss: 4.2481e-06 - accuracy: 1.00 - ETA: 7s - loss: 4.1854e-06 - accuracy: 1.00 - ETA: 7s - loss: 1.0657e-05 - accuracy: 1.00 - ETA: 7s - loss: 1.0504e-05 - accuracy: 1.00 - ETA: 7s - loss: 1.0355e-05 - accuracy: 1.00 - ETA: 7s - loss: 1.0210e-05 - accuracy: 1.00 - ETA: 7s - loss: 1.0069e-05 - accuracy: 1.00 - ETA: 7s - loss: 9.9322e-06 - accuracy: 1.00 - ETA: 6s - loss: 9.7988e-06 - accuracy: 1.00 - ETA: 6s - loss: 9.6691e-06 - accuracy: 1.00 - ETA: 6s - loss: 9.5427e-06 - accuracy: 1.00 - ETA: 6s - loss: 9.4195e-06 - accuracy: 1.00 - ETA: 6s - loss: 9.2995e-06 - accuracy: 1.00 - ETA: 6s - loss: 9.1874e-06 - accuracy: 1.00 - ETA: 6s - loss: 9.0737e-06 - accuracy: 1.00 - ETA: 6s - loss: 0.0020 - accuracy: 0.9985   - ETA: 6s - loss: 0.0020 - accuracy: 0.99 - ETA: 6s - loss: 0.0020 - accuracy: 0.99 - ETA: 6s - loss: 0.0020 - accuracy: 0.99 - ETA: 6s - loss: 0.0019 - accuracy: 0.99 - ETA: 6s - loss: 0.0019 - accuracy: 0.99 - ETA: 5s - loss: 0.0019 - accuracy: 0.99 - ETA: 5s - loss: 0.0019 - accuracy: 0.99 - ETA: 5s - loss: 0.0018 - accuracy: 0.99 - ETA: 5s - loss: 0.0018 - accuracy: 0.99 - ETA: 5s - loss: 0.0018 - accuracy: 0.99 - ETA: 5s - loss: 0.0018 - accuracy: 0.99 - ETA: 5s - loss: 0.0018 - accuracy: 0.99 - ETA: 5s - loss: 0.0018 - accuracy: 0.99 - ETA: 5s - loss: 0.0017 - accuracy: 0.99 - ETA: 5s - loss: 0.0017 - accuracy: 0.99 - ETA: 5s - loss: 0.0017 - accuracy: 0.99 - ETA: 5s - loss: 0.0017 - accuracy: 0.99 - ETA: 5s - loss: 0.0017 - accuracy: 0.99 - ETA: 5s - loss: 0.0016 - accuracy: 0.99 - ETA: 4s - loss: 0.0016 - accuracy: 0.99 - ETA: 4s - loss: 0.0016 - accuracy: 0.99 - ETA: 4s - loss: 0.0016 - accuracy: 0.99 - ETA: 4s - loss: 0.0016 - accuracy: 0.99 - ETA: 4s - loss: 0.0016 - accuracy: 0.99 - ETA: 4s - loss: 0.0016 - accuracy: 0.99 - ETA: 4s - loss: 0.0015 - accuracy: 0.99 - ETA: 4s - loss: 0.0015 - accuracy: 0.99 - ETA: 4s - loss: 0.0015 - accuracy: 0.99 - ETA: 4s - loss: 0.0015 - accuracy: 0.99 - ETA: 4s - loss: 0.0015 - accuracy: 0.99 - ETA: 4s - loss: 0.0015 - accuracy: 0.99 - ETA: 4s - loss: 0.0015 - accuracy: 0.99 - ETA: 3s - loss: 0.0014 - accuracy: 0.99 - ETA: 3s - loss: 0.0014 - accuracy: 0.99 - ETA: 3s - loss: 0.0014 - accuracy: 0.99 - ETA: 3s - loss: 0.0014 - accuracy: 0.99 - ETA: 3s - loss: 0.0014 - accuracy: 0.99 - ETA: 3s - loss: 0.0014 - accuracy: 0.99 - ETA: 3s - loss: 0.0014 - accuracy: 0.99 - ETA: 3s - loss: 0.0014 - accuracy: 0.99 - ETA: 3s - loss: 0.0014 - accuracy: 0.99 - ETA: 3s - loss: 0.0013 - accuracy: 0.99 - ETA: 3s - loss: 0.0013 - accuracy: 0.99 - ETA: 3s - loss: 0.0013 - accuracy: 0.99 - ETA: 3s - loss: 0.0013 - accuracy: 0.99 - ETA: 2s - loss: 0.0013 - accuracy: 0.99 - ETA: 2s - loss: 0.0013 - accuracy: 0.99 - ETA: 2s - loss: 0.0013 - accuracy: 0.99 - ETA: 2s - loss: 0.0013 - accuracy: 0.99 - ETA: 2s - loss: 0.0013 - accuracy: 0.99 - ETA: 2s - loss: 0.0013 - accuracy: 0.99 - ETA: 2s - loss: 0.0012 - accuracy: 0.99 - ETA: 2s - loss: 0.0012 - accuracy: 0.99 - ETA: 2s - loss: 0.0012 - accuracy: 0.99 - ETA: 2s - loss: 0.0035 - accuracy: 0.99 - ETA: 2s - loss: 0.0035 - accuracy: 0.99 - ETA: 2s - loss: 0.0035 - accuracy: 0.99 - ETA: 2s - loss: 0.0034 - accuracy: 0.99 - ETA: 1s - loss: 0.0034 - accuracy: 0.99 - ETA: 1s - loss: 0.0034 - accuracy: 0.99 - ETA: 1s - loss: 0.0034 - accuracy: 0.99 - ETA: 1s - loss: 0.0034 - accuracy: 0.99 - ETA: 1s - loss: 0.0033 - accuracy: 0.99 - ETA: 1s - loss: 0.0033 - accuracy: 0.99 - ETA: 1s - loss: 0.0033 - accuracy: 0.99 - ETA: 1s - loss: 0.0033 - accuracy: 0.99 - ETA: 1s - loss: 0.0033 - accuracy: 0.99 - ETA: 1s - loss: 0.0032 - accuracy: 0.99 - ETA: 1s - loss: 0.0032 - accuracy: 0.99 - ETA: 1s - loss: 0.0032 - accuracy: 0.99 - ETA: 1s - loss: 0.0032 - accuracy: 0.99 - ETA: 1s - loss: 0.0031 - accuracy: 0.99 - ETA: 0s - loss: 0.0031 - accuracy: 0.99 - ETA: 0s - loss: 0.0031 - accuracy: 0.99 - ETA: 0s - loss: 0.0102 - accuracy: 0.99 - ETA: 0s - loss: 0.0102 - accuracy: 0.99 - ETA: 0s - loss: 0.0101 - accuracy: 0.99 - ETA: 0s - loss: 0.0100 - accuracy: 0.99 - ETA: 0s - loss: 0.0100 - accuracy: 0.99 - ETA: 0s - loss: 0.0099 - accuracy: 0.99 - ETA: 0s - loss: 0.0098 - accuracy: 0.99 - ETA: 0s - loss: 0.0098 - accuracy: 0.99 - ETA: 0s - loss: 0.0097 - accuracy: 0.99 - ETA: 0s - loss: 0.0097 - accuracy: 0.99 - ETA: 0s - loss: 0.0096 - accuracy: 0.99 - 13s 10ms/step - loss: 0.0096 - accuracy: 0.9977 - val_loss: 0.1790 - val_accuracy: 0.9910\n",
      "Epoch 46/50\n"
     ]
    },
    {
     "name": "stdout",
     "output_type": "stream",
     "text": [
      "1325/1325 [==============================] - ETA: 11s - loss: 0.0000e+00 - accuracy: 1.000 - ETA: 11s - loss: 3.0458 - accuracy: 0.9167    - ETA: 12s - loss: 1.8275 - accuracy: 0.950 - ETA: 12s - loss: 1.3053 - accuracy: 0.964 - ETA: 12s - loss: 1.0153 - accuracy: 0.972 - ETA: 12s - loss: 0.8307 - accuracy: 0.977 - ETA: 12s - loss: 0.7029 - accuracy: 0.980 - ETA: 12s - loss: 0.6092 - accuracy: 0.983 - ETA: 11s - loss: 0.5375 - accuracy: 0.985 - ETA: 11s - loss: 0.4809 - accuracy: 0.986 - ETA: 11s - loss: 0.4351 - accuracy: 0.988 - ETA: 11s - loss: 0.8367 - accuracy: 0.956 - ETA: 11s - loss: 0.7698 - accuracy: 0.960 - ETA: 11s - loss: 0.7128 - accuracy: 0.963 - ETA: 11s - loss: 0.6636 - accuracy: 0.965 - ETA: 11s - loss: 0.6518 - accuracy: 0.959 - ETA: 11s - loss: 0.6123 - accuracy: 0.962 - ETA: 11s - loss: 0.5773 - accuracy: 0.964 - ETA: 11s - loss: 0.6079 - accuracy: 0.959 - ETA: 11s - loss: 0.6400 - accuracy: 0.955 - ETA: 10s - loss: 0.6088 - accuracy: 0.957 - ETA: 10s - loss: 0.5805 - accuracy: 0.959 - ETA: 10s - loss: 0.5547 - accuracy: 0.961 - ETA: 10s - loss: 0.5311 - accuracy: 0.962 - ETA: 10s - loss: 0.5094 - accuracy: 0.964 - ETA: 10s - loss: 0.4894 - accuracy: 0.965 - ETA: 10s - loss: 0.4710 - accuracy: 0.967 - ETA: 10s - loss: 0.4622 - accuracy: 0.967 - ETA: 10s - loss: 0.4538 - accuracy: 0.968 - ETA: 10s - loss: 0.4379 - accuracy: 0.969 - ETA: 10s - loss: 0.4231 - accuracy: 0.970 - ETA: 10s - loss: 0.4092 - accuracy: 0.971 - ETA: 10s - loss: 0.3962 - accuracy: 0.972 - ETA: 10s - loss: 0.3840 - accuracy: 0.973 - ETA: 10s - loss: 0.3726 - accuracy: 0.973 - ETA: 10s - loss: 0.3618 - accuracy: 0.974 - ETA: 10s - loss: 0.3516 - accuracy: 0.975 - ETA: 10s - loss: 0.3419 - accuracy: 0.976 - ETA: 10s - loss: 0.3328 - accuracy: 0.976 - ETA: 10s - loss: 0.4003 - accuracy: 0.974 - ETA: 9s - loss: 0.3902 - accuracy: 0.974 - ETA: 9s - loss: 0.3806 - accuracy: 0.97 - ETA: 9s - loss: 0.3714 - accuracy: 0.97 - ETA: 9s - loss: 0.3627 - accuracy: 0.97 - ETA: 9s - loss: 0.3543 - accuracy: 0.97 - ETA: 9s - loss: 0.3464 - accuracy: 0.97 - ETA: 9s - loss: 0.3387 - accuracy: 0.97 - ETA: 9s - loss: 0.3315 - accuracy: 0.97 - ETA: 9s - loss: 0.3245 - accuracy: 0.97 - ETA: 9s - loss: 0.3178 - accuracy: 0.97 - ETA: 9s - loss: 0.3114 - accuracy: 0.97 - ETA: 9s - loss: 0.3052 - accuracy: 0.98 - ETA: 8s - loss: 0.2993 - accuracy: 0.98 - ETA: 8s - loss: 0.2936 - accuracy: 0.98 - ETA: 8s - loss: 0.2881 - accuracy: 0.98 - ETA: 8s - loss: 0.2828 - accuracy: 0.98 - ETA: 8s - loss: 0.2777 - accuracy: 0.98 - ETA: 8s - loss: 0.2728 - accuracy: 0.98 - ETA: 8s - loss: 0.2681 - accuracy: 0.98 - ETA: 8s - loss: 0.2635 - accuracy: 0.98 - ETA: 8s - loss: 0.2591 - accuracy: 0.98 - ETA: 8s - loss: 0.2548 - accuracy: 0.98 - ETA: 8s - loss: 0.2542 - accuracy: 0.98 - ETA: 8s - loss: 0.2501 - accuracy: 0.98 - ETA: 8s - loss: 0.2462 - accuracy: 0.98 - ETA: 8s - loss: 0.2443 - accuracy: 0.98 - ETA: 7s - loss: 0.2405 - accuracy: 0.98 - ETA: 7s - loss: 0.2369 - accuracy: 0.98 - ETA: 7s - loss: 0.2334 - accuracy: 0.98 - ETA: 7s - loss: 0.2300 - accuracy: 0.98 - ETA: 7s - loss: 0.2266 - accuracy: 0.98 - ETA: 7s - loss: 0.2234 - accuracy: 0.98 - ETA: 7s - loss: 0.2202 - accuracy: 0.98 - ETA: 7s - loss: 0.2172 - accuracy: 0.98 - ETA: 7s - loss: 0.2142 - accuracy: 0.98 - ETA: 7s - loss: 0.2440 - accuracy: 0.98 - ETA: 7s - loss: 0.2408 - accuracy: 0.98 - ETA: 7s - loss: 0.2376 - accuracy: 0.98 - ETA: 6s - loss: 0.2345 - accuracy: 0.98 - ETA: 6s - loss: 0.2315 - accuracy: 0.98 - ETA: 6s - loss: 0.2286 - accuracy: 0.98 - ETA: 6s - loss: 0.2257 - accuracy: 0.98 - ETA: 6s - loss: 0.2229 - accuracy: 0.98 - ETA: 6s - loss: 0.2202 - accuracy: 0.98 - ETA: 6s - loss: 0.2188 - accuracy: 0.98 - ETA: 6s - loss: 0.2162 - accuracy: 0.98 - ETA: 6s - loss: 0.2136 - accuracy: 0.98 - ETA: 6s - loss: 0.2111 - accuracy: 0.98 - ETA: 6s - loss: 0.2087 - accuracy: 0.98 - ETA: 6s - loss: 0.2063 - accuracy: 0.98 - ETA: 6s - loss: 0.2040 - accuracy: 0.98 - ETA: 5s - loss: 0.2018 - accuracy: 0.98 - ETA: 5s - loss: 0.1995 - accuracy: 0.98 - ETA: 5s - loss: 0.1974 - accuracy: 0.98 - ETA: 5s - loss: 0.1953 - accuracy: 0.98 - ETA: 5s - loss: 0.1932 - accuracy: 0.98 - ETA: 5s - loss: 0.1912 - accuracy: 0.98 - ETA: 5s - loss: 0.1892 - accuracy: 0.98 - ETA: 5s - loss: 0.1873 - accuracy: 0.98 - ETA: 5s - loss: 0.1853 - accuracy: 0.98 - ETA: 5s - loss: 0.1835 - accuracy: 0.98 - ETA: 5s - loss: 0.1816 - accuracy: 0.98 - ETA: 5s - loss: 0.1799 - accuracy: 0.98 - ETA: 4s - loss: 0.1781 - accuracy: 0.98 - ETA: 4s - loss: 0.1764 - accuracy: 0.98 - ETA: 4s - loss: 0.1747 - accuracy: 0.98 - ETA: 4s - loss: 0.1730 - accuracy: 0.98 - ETA: 4s - loss: 0.1714 - accuracy: 0.98 - ETA: 4s - loss: 0.1698 - accuracy: 0.98 - ETA: 4s - loss: 0.1682 - accuracy: 0.98 - ETA: 4s - loss: 0.1667 - accuracy: 0.98 - ETA: 4s - loss: 0.1652 - accuracy: 0.98 - ETA: 4s - loss: 0.1637 - accuracy: 0.98 - ETA: 4s - loss: 0.1622 - accuracy: 0.98 - ETA: 4s - loss: 0.1608 - accuracy: 0.98 - ETA: 4s - loss: 0.1594 - accuracy: 0.98 - ETA: 3s - loss: 0.1580 - accuracy: 0.98 - ETA: 3s - loss: 0.1566 - accuracy: 0.98 - ETA: 3s - loss: 0.1553 - accuracy: 0.98 - ETA: 3s - loss: 0.1540 - accuracy: 0.98 - ETA: 3s - loss: 0.1527 - accuracy: 0.98 - ETA: 3s - loss: 0.1514 - accuracy: 0.98 - ETA: 3s - loss: 0.1501 - accuracy: 0.98 - ETA: 3s - loss: 0.1490 - accuracy: 0.98 - ETA: 3s - loss: 0.1484 - accuracy: 0.98 - ETA: 3s - loss: 0.1472 - accuracy: 0.98 - ETA: 3s - loss: 0.1460 - accuracy: 0.98 - ETA: 3s - loss: 0.1448 - accuracy: 0.98 - ETA: 3s - loss: 0.1437 - accuracy: 0.98 - ETA: 2s - loss: 0.1427 - accuracy: 0.98 - ETA: 2s - loss: 0.1415 - accuracy: 0.98 - ETA: 2s - loss: 0.1405 - accuracy: 0.98 - ETA: 2s - loss: 0.1394 - accuracy: 0.98 - ETA: 2s - loss: 0.1383 - accuracy: 0.98 - ETA: 2s - loss: 0.1373 - accuracy: 0.98 - ETA: 2s - loss: 0.1362 - accuracy: 0.98 - ETA: 2s - loss: 0.1352 - accuracy: 0.98 - ETA: 2s - loss: 0.1342 - accuracy: 0.98 - ETA: 2s - loss: 0.1332 - accuracy: 0.98 - ETA: 2s - loss: 0.1323 - accuracy: 0.99 - ETA: 2s - loss: 0.1313 - accuracy: 0.99 - ETA: 2s - loss: 0.1304 - accuracy: 0.99 - ETA: 1s - loss: 0.1295 - accuracy: 0.99 - ETA: 1s - loss: 0.1367 - accuracy: 0.98 - ETA: 1s - loss: 0.1357 - accuracy: 0.98 - ETA: 1s - loss: 0.1348 - accuracy: 0.98 - ETA: 1s - loss: 0.1339 - accuracy: 0.98 - ETA: 1s - loss: 0.1329 - accuracy: 0.98 - ETA: 1s - loss: 0.1323 - accuracy: 0.98 - ETA: 1s - loss: 0.1314 - accuracy: 0.98 - ETA: 1s - loss: 0.1305 - accuracy: 0.98 - ETA: 1s - loss: 0.1297 - accuracy: 0.99 - ETA: 1s - loss: 0.1288 - accuracy: 0.99 - ETA: 1s - loss: 0.1280 - accuracy: 0.99 - ETA: 1s - loss: 0.1271 - accuracy: 0.99 - ETA: 0s - loss: 0.1263 - accuracy: 0.99 - ETA: 0s - loss: 0.1255 - accuracy: 0.99 - ETA: 0s - loss: 0.1247 - accuracy: 0.99 - ETA: 0s - loss: 0.1239 - accuracy: 0.99 - ETA: 0s - loss: 0.1231 - accuracy: 0.99 - ETA: 0s - loss: 0.1223 - accuracy: 0.99 - ETA: 0s - loss: 0.1215 - accuracy: 0.99 - ETA: 0s - loss: 0.1208 - accuracy: 0.99 - ETA: 0s - loss: 0.1200 - accuracy: 0.99 - ETA: 0s - loss: 0.1267 - accuracy: 0.99 - ETA: 0s - loss: 0.1259 - accuracy: 0.99 - ETA: 0s - loss: 0.1252 - accuracy: 0.99 - ETA: 0s - loss: 0.1244 - accuracy: 0.99 - 13s 10ms/step - loss: 0.1243 - accuracy: 0.9902 - val_loss: 9.6896e-07 - val_accuracy: 1.0000\n",
      "Epoch 47/50\n"
     ]
    },
    {
     "name": "stdout",
     "output_type": "stream",
     "text": [
      "1325/1325 [==============================] - ETA: 11s - loss: 0.0000e+00 - accuracy: 1.000 - ETA: 12s - loss: 0.0000e+00 - accuracy: 1.000 - ETA: 12s - loss: 3.5763e-08 - accuracy: 1.000 - ETA: 12s - loss: 2.5545e-08 - accuracy: 1.000 - ETA: 12s - loss: 1.9868e-08 - accuracy: 1.000 - ETA: 12s - loss: 1.7881e-08 - accuracy: 1.000 - ETA: 12s - loss: 6.2863e-05 - accuracy: 1.000 - ETA: 12s - loss: 2.1687e-04 - accuracy: 1.000 - ETA: 12s - loss: 1.8976e-04 - accuracy: 1.000 - ETA: 12s - loss: 1.6868e-04 - accuracy: 1.000 - ETA: 12s - loss: 2.0700e-04 - accuracy: 1.000 - ETA: 12s - loss: 1.8819e-04 - accuracy: 1.000 - ETA: 12s - loss: 1.7250e-04 - accuracy: 1.000 - ETA: 12s - loss: 1.5924e-04 - accuracy: 1.000 - ETA: 12s - loss: 1.4787e-04 - accuracy: 1.000 - ETA: 12s - loss: 0.0053 - accuracy: 1.0000    - ETA: 12s - loss: 0.0052 - accuracy: 1.000 - ETA: 12s - loss: 0.0049 - accuracy: 1.000 - ETA: 12s - loss: 0.0046 - accuracy: 1.000 - ETA: 12s - loss: 0.0043 - accuracy: 1.000 - ETA: 12s - loss: 0.0041 - accuracy: 1.000 - ETA: 11s - loss: 0.0039 - accuracy: 1.000 - ETA: 11s - loss: 0.0037 - accuracy: 1.000 - ETA: 11s - loss: 0.1170 - accuracy: 0.994 - ETA: 11s - loss: 0.1120 - accuracy: 0.994 - ETA: 11s - loss: 0.1074 - accuracy: 0.994 - ETA: 11s - loss: 0.1032 - accuracy: 0.995 - ETA: 11s - loss: 0.0993 - accuracy: 0.995 - ETA: 11s - loss: 0.0957 - accuracy: 0.995 - ETA: 11s - loss: 0.0923 - accuracy: 0.995 - ETA: 10s - loss: 0.0892 - accuracy: 0.995 - ETA: 10s - loss: 0.0863 - accuracy: 0.995 - ETA: 10s - loss: 0.0835 - accuracy: 0.996 - ETA: 10s - loss: 0.0810 - accuracy: 0.996 - ETA: 10s - loss: 0.0786 - accuracy: 0.996 - ETA: 10s - loss: 0.0763 - accuracy: 0.996 - ETA: 10s - loss: 0.0741 - accuracy: 0.996 - ETA: 10s - loss: 0.0721 - accuracy: 0.996 - ETA: 10s - loss: 0.0702 - accuracy: 0.996 - ETA: 10s - loss: 0.0684 - accuracy: 0.996 - ETA: 10s - loss: 0.0666 - accuracy: 0.996 - ETA: 9s - loss: 0.0650 - accuracy: 0.996 - ETA: 9s - loss: 0.0634 - accuracy: 0.99 - ETA: 9s - loss: 0.0619 - accuracy: 0.99 - ETA: 9s - loss: 0.0608 - accuracy: 0.99 - ETA: 9s - loss: 0.0594 - accuracy: 0.99 - ETA: 9s - loss: 0.0581 - accuracy: 0.99 - ETA: 9s - loss: 0.0569 - accuracy: 0.99 - ETA: 9s - loss: 0.0557 - accuracy: 0.99 - ETA: 9s - loss: 0.0545 - accuracy: 0.99 - ETA: 9s - loss: 0.0546 - accuracy: 0.99 - ETA: 9s - loss: 0.0536 - accuracy: 0.99 - ETA: 9s - loss: 0.0525 - accuracy: 0.99 - ETA: 8s - loss: 0.0515 - accuracy: 0.99 - ETA: 8s - loss: 0.0506 - accuracy: 0.99 - ETA: 8s - loss: 0.0496 - accuracy: 0.99 - ETA: 8s - loss: 0.0487 - accuracy: 0.99 - ETA: 8s - loss: 0.0479 - accuracy: 0.99 - ETA: 8s - loss: 0.0470 - accuracy: 0.99 - ETA: 8s - loss: 0.0462 - accuracy: 0.99 - ETA: 8s - loss: 0.0455 - accuracy: 0.99 - ETA: 8s - loss: 0.0447 - accuracy: 0.99 - ETA: 8s - loss: 0.0440 - accuracy: 0.99 - ETA: 8s - loss: 0.0433 - accuracy: 0.99 - ETA: 8s - loss: 0.0426 - accuracy: 0.99 - ETA: 7s - loss: 0.0419 - accuracy: 0.99 - ETA: 7s - loss: 0.0413 - accuracy: 0.99 - ETA: 7s - loss: 0.0407 - accuracy: 0.99 - ETA: 7s - loss: 0.0401 - accuracy: 0.99 - ETA: 7s - loss: 0.0395 - accuracy: 0.99 - ETA: 7s - loss: 0.0389 - accuracy: 0.99 - ETA: 7s - loss: 0.0384 - accuracy: 0.99 - ETA: 7s - loss: 0.0378 - accuracy: 0.99 - ETA: 7s - loss: 0.0373 - accuracy: 0.99 - ETA: 7s - loss: 0.0368 - accuracy: 0.99 - ETA: 7s - loss: 0.0371 - accuracy: 0.99 - ETA: 7s - loss: 0.0366 - accuracy: 0.99 - ETA: 6s - loss: 0.0361 - accuracy: 0.99 - ETA: 6s - loss: 0.0356 - accuracy: 0.99 - ETA: 6s - loss: 0.0352 - accuracy: 0.99 - ETA: 6s - loss: 0.0347 - accuracy: 0.99 - ETA: 6s - loss: 0.0343 - accuracy: 0.99 - ETA: 6s - loss: 0.0339 - accuracy: 0.99 - ETA: 6s - loss: 0.0335 - accuracy: 0.99 - ETA: 6s - loss: 0.0331 - accuracy: 0.99 - ETA: 6s - loss: 0.0327 - accuracy: 0.99 - ETA: 6s - loss: 0.0323 - accuracy: 0.99 - ETA: 6s - loss: 0.0319 - accuracy: 0.99 - ETA: 6s - loss: 0.0316 - accuracy: 0.99 - ETA: 6s - loss: 0.0312 - accuracy: 0.99 - ETA: 5s - loss: 0.0309 - accuracy: 0.99 - ETA: 5s - loss: 0.0305 - accuracy: 0.99 - ETA: 5s - loss: 0.0302 - accuracy: 0.99 - ETA: 5s - loss: 0.0299 - accuracy: 0.99 - ETA: 5s - loss: 0.0295 - accuracy: 0.99 - ETA: 5s - loss: 0.0292 - accuracy: 0.99 - ETA: 5s - loss: 0.0289 - accuracy: 0.99 - ETA: 5s - loss: 0.0286 - accuracy: 0.99 - ETA: 5s - loss: 0.0283 - accuracy: 0.99 - ETA: 5s - loss: 0.0282 - accuracy: 0.99 - ETA: 5s - loss: 0.0279 - accuracy: 0.99 - ETA: 5s - loss: 0.0276 - accuracy: 0.99 - ETA: 5s - loss: 0.0273 - accuracy: 0.99 - ETA: 4s - loss: 0.0271 - accuracy: 0.99 - ETA: 4s - loss: 0.0268 - accuracy: 0.99 - ETA: 4s - loss: 0.0267 - accuracy: 0.99 - ETA: 4s - loss: 0.0264 - accuracy: 0.99 - ETA: 4s - loss: 0.0263 - accuracy: 0.99 - ETA: 4s - loss: 0.0261 - accuracy: 0.99 - ETA: 4s - loss: 0.0259 - accuracy: 0.99 - ETA: 4s - loss: 0.0257 - accuracy: 0.99 - ETA: 4s - loss: 0.0255 - accuracy: 0.99 - ETA: 4s - loss: 0.0252 - accuracy: 0.99 - ETA: 4s - loss: 0.0250 - accuracy: 0.99 - ETA: 4s - loss: 0.0248 - accuracy: 0.99 - ETA: 4s - loss: 0.0247 - accuracy: 0.99 - ETA: 4s - loss: 0.0246 - accuracy: 0.99 - ETA: 4s - loss: 0.0244 - accuracy: 0.99 - ETA: 4s - loss: 0.0242 - accuracy: 0.99 - ETA: 4s - loss: 0.0240 - accuracy: 0.99 - ETA: 3s - loss: 0.0238 - accuracy: 0.99 - ETA: 3s - loss: 0.0236 - accuracy: 0.99 - ETA: 3s - loss: 0.0234 - accuracy: 0.99 - ETA: 3s - loss: 0.0232 - accuracy: 0.99 - ETA: 3s - loss: 0.0232 - accuracy: 0.99 - ETA: 3s - loss: 0.0230 - accuracy: 0.99 - ETA: 3s - loss: 0.0228 - accuracy: 0.99 - ETA: 3s - loss: 0.0226 - accuracy: 0.99 - ETA: 3s - loss: 0.0224 - accuracy: 0.99 - ETA: 3s - loss: 0.0224 - accuracy: 0.99 - ETA: 3s - loss: 0.0222 - accuracy: 0.99 - ETA: 3s - loss: 0.0220 - accuracy: 0.99 - ETA: 3s - loss: 0.0218 - accuracy: 0.99 - ETA: 2s - loss: 0.0217 - accuracy: 0.99 - ETA: 2s - loss: 0.0215 - accuracy: 0.99 - ETA: 2s - loss: 0.0213 - accuracy: 0.99 - ETA: 2s - loss: 0.0212 - accuracy: 0.99 - ETA: 2s - loss: 0.0210 - accuracy: 0.99 - ETA: 2s - loss: 0.0209 - accuracy: 0.99 - ETA: 2s - loss: 0.0207 - accuracy: 0.99 - ETA: 2s - loss: 0.0205 - accuracy: 0.99 - ETA: 2s - loss: 0.0204 - accuracy: 0.99 - ETA: 2s - loss: 0.0202 - accuracy: 0.99 - ETA: 2s - loss: 0.0201 - accuracy: 0.99 - ETA: 2s - loss: 0.0200 - accuracy: 0.99 - ETA: 1s - loss: 0.0198 - accuracy: 0.99 - ETA: 1s - loss: 0.0197 - accuracy: 0.99 - ETA: 1s - loss: 0.0195 - accuracy: 0.99 - ETA: 1s - loss: 0.0194 - accuracy: 0.99 - ETA: 1s - loss: 0.0193 - accuracy: 0.99 - ETA: 1s - loss: 0.0191 - accuracy: 0.99 - ETA: 1s - loss: 0.0190 - accuracy: 0.99 - ETA: 1s - loss: 0.0189 - accuracy: 0.99 - ETA: 1s - loss: 0.0187 - accuracy: 0.99 - ETA: 1s - loss: 0.0186 - accuracy: 0.99 - ETA: 1s - loss: 0.0185 - accuracy: 0.99 - ETA: 1s - loss: 0.0184 - accuracy: 0.99 - ETA: 1s - loss: 0.0183 - accuracy: 0.99 - ETA: 0s - loss: 0.0181 - accuracy: 0.99 - ETA: 0s - loss: 0.0180 - accuracy: 0.99 - ETA: 0s - loss: 0.0179 - accuracy: 0.99 - ETA: 0s - loss: 0.0178 - accuracy: 0.99 - ETA: 0s - loss: 0.0177 - accuracy: 0.99 - ETA: 0s - loss: 0.0176 - accuracy: 0.99 - ETA: 0s - loss: 0.0175 - accuracy: 0.99 - ETA: 0s - loss: 0.0173 - accuracy: 0.99 - ETA: 0s - loss: 0.0172 - accuracy: 0.99 - ETA: 0s - loss: 0.0171 - accuracy: 0.99 - ETA: 0s - loss: 0.0170 - accuracy: 0.99 - ETA: 0s - loss: 0.0169 - accuracy: 0.99 - ETA: 0s - loss: 0.0168 - accuracy: 0.99 - 14s 10ms/step - loss: 0.0168 - accuracy: 0.9992 - val_loss: 6.7991e-06 - val_accuracy: 1.0000\n",
      "Epoch 48/50\n"
     ]
    },
    {
     "name": "stdout",
     "output_type": "stream",
     "text": [
      "1325/1325 [==============================] - ETA: 11s - loss: 0.0000e+00 - accuracy: 1.000 - ETA: 12s - loss: 0.0000e+00 - accuracy: 1.000 - ETA: 12s - loss: 0.0000e+00 - accuracy: 1.000 - ETA: 12s - loss: 4.0831e-05 - accuracy: 1.000 - ETA: 12s - loss: 3.1758e-05 - accuracy: 1.000 - ETA: 12s - loss: 2.5984e-05 - accuracy: 1.000 - ETA: 12s - loss: 2.1986e-05 - accuracy: 1.000 - ETA: 12s - loss: 1.9055e-05 - accuracy: 1.000 - ETA: 12s - loss: 1.6813e-05 - accuracy: 1.000 - ETA: 12s - loss: 1.5879e-05 - accuracy: 1.000 - ETA: 12s - loss: 1.4291e-05 - accuracy: 1.000 - ETA: 12s - loss: 1.3610e-05 - accuracy: 1.000 - ETA: 12s - loss: 1.2992e-05 - accuracy: 1.000 - ETA: 12s - loss: 1.2427e-05 - accuracy: 1.000 - ETA: 12s - loss: 1.1480e-05 - accuracy: 1.000 - ETA: 12s - loss: 1.0630e-05 - accuracy: 1.000 - ETA: 12s - loss: 9.8970e-06 - accuracy: 1.000 - ETA: 12s - loss: 9.2613e-06 - accuracy: 1.000 - ETA: 12s - loss: 8.7036e-06 - accuracy: 1.000 - ETA: 12s - loss: 8.2063e-06 - accuracy: 1.000 - ETA: 12s - loss: 8.0438e-06 - accuracy: 1.000 - ETA: 11s - loss: 7.6313e-06 - accuracy: 1.000 - ETA: 11s - loss: 7.2591e-06 - accuracy: 1.000 - ETA: 11s - loss: 6.9214e-06 - accuracy: 1.000 - ETA: 11s - loss: 8.1759e-06 - accuracy: 1.000 - ETA: 11s - loss: 7.8280e-06 - accuracy: 1.000 - ETA: 11s - loss: 7.5085e-06 - accuracy: 1.000 - ETA: 11s - loss: 2.4258e-05 - accuracy: 1.000 - ETA: 11s - loss: 2.3342e-05 - accuracy: 1.000 - ETA: 11s - loss: 2.2493e-05 - accuracy: 1.000 - ETA: 10s - loss: 2.1704e-05 - accuracy: 1.000 - ETA: 10s - loss: 2.0968e-05 - accuracy: 1.000 - ETA: 10s - loss: 2.0281e-05 - accuracy: 1.000 - ETA: 10s - loss: 2.0225e-05 - accuracy: 1.000 - ETA: 10s - loss: 1.9602e-05 - accuracy: 1.000 - ETA: 10s - loss: 1.9018e-05 - accuracy: 1.000 - ETA: 10s - loss: 1.8466e-05 - accuracy: 1.000 - ETA: 10s - loss: 1.7946e-05 - accuracy: 1.000 - ETA: 10s - loss: 1.7454e-05 - accuracy: 1.000 - ETA: 10s - loss: 1.6989e-05 - accuracy: 1.000 - ETA: 10s - loss: 1.6548e-05 - accuracy: 1.000 - ETA: 9s - loss: 1.6129e-05 - accuracy: 1.000 - ETA: 9s - loss: 1.5731e-05 - accuracy: 1.00 - ETA: 9s - loss: 1.5354e-05 - accuracy: 1.00 - ETA: 9s - loss: 1.4992e-05 - accuracy: 1.00 - ETA: 9s - loss: 1.4682e-05 - accuracy: 1.00 - ETA: 9s - loss: 1.4352e-05 - accuracy: 1.00 - ETA: 9s - loss: 1.4037e-05 - accuracy: 1.00 - ETA: 9s - loss: 1.3735e-05 - accuracy: 1.00 - ETA: 9s - loss: 1.3446e-05 - accuracy: 1.00 - ETA: 9s - loss: 1.5289e-05 - accuracy: 1.00 - ETA: 9s - loss: 1.4980e-05 - accuracy: 1.00 - ETA: 9s - loss: 2.0318e-05 - accuracy: 1.00 - ETA: 8s - loss: 1.9923e-05 - accuracy: 1.00 - ETA: 8s - loss: 1.2543e-04 - accuracy: 1.00 - ETA: 8s - loss: 1.2309e-04 - accuracy: 1.00 - ETA: 8s - loss: 1.2083e-04 - accuracy: 1.00 - ETA: 8s - loss: 1.1973e-04 - accuracy: 1.00 - ETA: 8s - loss: 1.1759e-04 - accuracy: 1.00 - ETA: 8s - loss: 1.1553e-04 - accuracy: 1.00 - ETA: 8s - loss: 1.1354e-04 - accuracy: 1.00 - ETA: 8s - loss: 1.1161e-04 - accuracy: 1.00 - ETA: 8s - loss: 1.1005e-04 - accuracy: 1.00 - ETA: 8s - loss: 1.0825e-04 - accuracy: 1.00 - ETA: 8s - loss: 1.0654e-04 - accuracy: 1.00 - ETA: 8s - loss: 1.2872e-04 - accuracy: 1.00 - ETA: 7s - loss: 1.2671e-04 - accuracy: 1.00 - ETA: 7s - loss: 1.2476e-04 - accuracy: 1.00 - ETA: 7s - loss: 1.2289e-04 - accuracy: 1.00 - ETA: 7s - loss: 1.2106e-04 - accuracy: 1.00 - ETA: 7s - loss: 1.1928e-04 - accuracy: 1.00 - ETA: 7s - loss: 1.1755e-04 - accuracy: 1.00 - ETA: 7s - loss: 1.1590e-04 - accuracy: 1.00 - ETA: 7s - loss: 1.1426e-04 - accuracy: 1.00 - ETA: 7s - loss: 1.1268e-04 - accuracy: 1.00 - ETA: 7s - loss: 1.1113e-04 - accuracy: 1.00 - ETA: 7s - loss: 1.0963e-04 - accuracy: 1.00 - ETA: 7s - loss: 0.0046 - accuracy: 0.9983   - ETA: 7s - loss: 0.0045 - accuracy: 0.99 - ETA: 6s - loss: 0.0045 - accuracy: 0.99 - ETA: 6s - loss: 0.0044 - accuracy: 0.99 - ETA: 6s - loss: 0.0044 - accuracy: 0.99 - ETA: 6s - loss: 0.0043 - accuracy: 0.99 - ETA: 6s - loss: 0.0043 - accuracy: 0.99 - ETA: 6s - loss: 0.0042 - accuracy: 0.99 - ETA: 6s - loss: 0.0042 - accuracy: 0.99 - ETA: 6s - loss: 0.0041 - accuracy: 0.99 - ETA: 6s - loss: 0.0041 - accuracy: 0.99 - ETA: 6s - loss: 0.0040 - accuracy: 0.99 - ETA: 6s - loss: 0.0040 - accuracy: 0.99 - ETA: 6s - loss: 0.0039 - accuracy: 0.99 - ETA: 6s - loss: 0.0039 - accuracy: 0.99 - ETA: 5s - loss: 0.0038 - accuracy: 0.99 - ETA: 5s - loss: 0.0038 - accuracy: 0.99 - ETA: 5s - loss: 0.0037 - accuracy: 0.99 - ETA: 5s - loss: 0.0037 - accuracy: 0.99 - ETA: 5s - loss: 0.0037 - accuracy: 0.99 - ETA: 5s - loss: 0.0036 - accuracy: 0.99 - ETA: 5s - loss: 0.0036 - accuracy: 0.99 - ETA: 5s - loss: 0.0036 - accuracy: 0.99 - ETA: 5s - loss: 0.0035 - accuracy: 0.99 - ETA: 5s - loss: 0.0035 - accuracy: 0.99 - ETA: 5s - loss: 0.0034 - accuracy: 0.99 - ETA: 5s - loss: 0.0034 - accuracy: 0.99 - ETA: 4s - loss: 0.0034 - accuracy: 0.99 - ETA: 4s - loss: 0.0033 - accuracy: 0.99 - ETA: 4s - loss: 0.0033 - accuracy: 0.99 - ETA: 4s - loss: 0.0033 - accuracy: 0.99 - ETA: 4s - loss: 0.0033 - accuracy: 0.99 - ETA: 4s - loss: 0.0032 - accuracy: 0.99 - ETA: 4s - loss: 0.0032 - accuracy: 0.99 - ETA: 4s - loss: 0.0032 - accuracy: 0.99 - ETA: 4s - loss: 0.0031 - accuracy: 0.99 - ETA: 4s - loss: 0.0031 - accuracy: 0.99 - ETA: 4s - loss: 0.0031 - accuracy: 0.99 - ETA: 4s - loss: 0.0031 - accuracy: 0.99 - ETA: 4s - loss: 0.0031 - accuracy: 0.99 - ETA: 3s - loss: 0.0030 - accuracy: 0.99 - ETA: 3s - loss: 0.0030 - accuracy: 0.99 - ETA: 3s - loss: 0.0030 - accuracy: 0.99 - ETA: 3s - loss: 0.0029 - accuracy: 0.99 - ETA: 3s - loss: 0.0029 - accuracy: 0.99 - ETA: 3s - loss: 0.0029 - accuracy: 0.99 - ETA: 3s - loss: 0.0029 - accuracy: 0.99 - ETA: 3s - loss: 0.0029 - accuracy: 0.99 - ETA: 3s - loss: 0.0028 - accuracy: 0.99 - ETA: 3s - loss: 0.0028 - accuracy: 0.99 - ETA: 3s - loss: 0.0028 - accuracy: 0.99 - ETA: 3s - loss: 0.0028 - accuracy: 0.99 - ETA: 3s - loss: 0.0027 - accuracy: 0.99 - ETA: 2s - loss: 0.0027 - accuracy: 0.99 - ETA: 2s - loss: 0.0027 - accuracy: 0.99 - ETA: 2s - loss: 0.0027 - accuracy: 0.99 - ETA: 2s - loss: 0.0027 - accuracy: 0.99 - ETA: 2s - loss: 0.0026 - accuracy: 0.99 - ETA: 2s - loss: 0.0026 - accuracy: 0.99 - ETA: 2s - loss: 0.0026 - accuracy: 0.99 - ETA: 2s - loss: 0.0026 - accuracy: 0.99 - ETA: 2s - loss: 0.0026 - accuracy: 0.99 - ETA: 2s - loss: 0.0025 - accuracy: 0.99 - ETA: 2s - loss: 0.0025 - accuracy: 0.99 - ETA: 2s - loss: 0.0025 - accuracy: 0.99 - ETA: 2s - loss: 0.0025 - accuracy: 0.99 - ETA: 1s - loss: 0.0025 - accuracy: 0.99 - ETA: 1s - loss: 0.0025 - accuracy: 0.99 - ETA: 1s - loss: 0.0024 - accuracy: 0.99 - ETA: 1s - loss: 0.0024 - accuracy: 0.99 - ETA: 1s - loss: 0.0024 - accuracy: 0.99 - ETA: 1s - loss: 0.0037 - accuracy: 0.99 - ETA: 1s - loss: 0.0037 - accuracy: 0.99 - ETA: 1s - loss: 0.0037 - accuracy: 0.99 - ETA: 1s - loss: 0.0037 - accuracy: 0.99 - ETA: 1s - loss: 0.0036 - accuracy: 0.99 - ETA: 1s - loss: 0.0036 - accuracy: 0.99 - ETA: 1s - loss: 0.0036 - accuracy: 0.99 - ETA: 1s - loss: 0.0036 - accuracy: 0.99 - ETA: 0s - loss: 0.0036 - accuracy: 0.99 - ETA: 0s - loss: 0.0035 - accuracy: 0.99 - ETA: 0s - loss: 0.0035 - accuracy: 0.99 - ETA: 0s - loss: 0.0035 - accuracy: 0.99 - ETA: 0s - loss: 0.0035 - accuracy: 0.99 - ETA: 0s - loss: 0.0034 - accuracy: 0.99 - ETA: 0s - loss: 0.0034 - accuracy: 0.99 - ETA: 0s - loss: 0.0034 - accuracy: 0.99 - ETA: 0s - loss: 0.0034 - accuracy: 0.99 - ETA: 0s - loss: 0.0034 - accuracy: 0.99 - ETA: 0s - loss: 0.0033 - accuracy: 0.99 - ETA: 0s - loss: 0.0033 - accuracy: 0.99 - ETA: 0s - loss: 0.0033 - accuracy: 0.99 - 13s 10ms/step - loss: 0.0033 - accuracy: 0.9985 - val_loss: 1.0792e-04 - val_accuracy: 1.0000\n",
      "Epoch 49/50\n"
     ]
    },
    {
     "name": "stdout",
     "output_type": "stream",
     "text": [
      "1084/1325 [=======================>......] - ETA: 11s - loss: 0.0000e+00 - accuracy: 1.000 - ETA: 11s - loss: 2.9802e-08 - accuracy: 1.000 - ETA: 12s - loss: 4.0172e-06 - accuracy: 1.000 - ETA: 12s - loss: 2.8694e-06 - accuracy: 1.000 - ETA: 12s - loss: 2.2318e-06 - accuracy: 1.000 - ETA: 12s - loss: 2.4898e-06 - accuracy: 1.000 - ETA: 12s - loss: 2.1067e-06 - accuracy: 1.000 - ETA: 12s - loss: 1.8258e-06 - accuracy: 1.000 - ETA: 12s - loss: 2.7838e-06 - accuracy: 1.000 - ETA: 11s - loss: 2.4908e-06 - accuracy: 1.000 - ETA: 11s - loss: 2.0721e-05 - accuracy: 1.000 - ETA: 11s - loss: 1.8919e-05 - accuracy: 1.000 - ETA: 11s - loss: 1.7581e-05 - accuracy: 1.000 - ETA: 11s - loss: 1.6279e-05 - accuracy: 1.000 - ETA: 11s - loss: 1.5156e-05 - accuracy: 1.000 - ETA: 11s - loss: 1.4178e-05 - accuracy: 1.000 - ETA: 11s - loss: 1.3319e-05 - accuracy: 1.000 - ETA: 11s - loss: 1.2558e-05 - accuracy: 1.000 - ETA: 11s - loss: 1.1879e-05 - accuracy: 1.000 - ETA: 11s - loss: 1.1270e-05 - accuracy: 1.000 - ETA: 11s - loss: 1.0720e-05 - accuracy: 1.000 - ETA: 11s - loss: 1.0465e-05 - accuracy: 1.000 - ETA: 11s - loss: 1.0221e-05 - accuracy: 1.000 - ETA: 11s - loss: 9.9891e-06 - accuracy: 1.000 - ETA: 11s - loss: 9.5548e-06 - accuracy: 1.000 - ETA: 11s - loss: 9.3515e-06 - accuracy: 1.000 - ETA: 11s - loss: 8.9698e-06 - accuracy: 1.000 - ETA: 11s - loss: 8.6180e-06 - accuracy: 1.000 - ETA: 11s - loss: 8.4523e-06 - accuracy: 1.000 - ETA: 11s - loss: 8.2928e-06 - accuracy: 1.000 - ETA: 11s - loss: 7.9913e-06 - accuracy: 1.000 - ETA: 11s - loss: 7.8486e-06 - accuracy: 1.000 - ETA: 11s - loss: 7.7109e-06 - accuracy: 1.000 - ETA: 11s - loss: 7.5795e-06 - accuracy: 1.000 - ETA: 11s - loss: 7.4510e-06 - accuracy: 1.000 - ETA: 11s - loss: 7.3268e-06 - accuracy: 1.000 - ETA: 11s - loss: 7.2067e-06 - accuracy: 1.000 - ETA: 11s - loss: 7.0905e-06 - accuracy: 1.000 - ETA: 11s - loss: 6.9779e-06 - accuracy: 1.000 - ETA: 11s - loss: 6.8689e-06 - accuracy: 1.000 - ETA: 11s - loss: 6.7632e-06 - accuracy: 1.000 - ETA: 11s - loss: 6.6607e-06 - accuracy: 1.000 - ETA: 11s - loss: 6.5613e-06 - accuracy: 1.000 - ETA: 11s - loss: 6.4648e-06 - accuracy: 1.000 - ETA: 11s - loss: 6.3785e-06 - accuracy: 1.000 - ETA: 11s - loss: 6.2874e-06 - accuracy: 1.000 - ETA: 11s - loss: 6.1988e-06 - accuracy: 1.000 - ETA: 11s - loss: 6.1127e-06 - accuracy: 1.000 - ETA: 11s - loss: 6.0290e-06 - accuracy: 1.000 - ETA: 11s - loss: 5.9475e-06 - accuracy: 1.000 - ETA: 11s - loss: 5.8682e-06 - accuracy: 1.000 - ETA: 11s - loss: 5.7910e-06 - accuracy: 1.000 - ETA: 11s - loss: 5.7170e-06 - accuracy: 1.000 - ETA: 11s - loss: 5.6444e-06 - accuracy: 1.000 - ETA: 11s - loss: 5.5730e-06 - accuracy: 1.000 - ETA: 11s - loss: 5.5033e-06 - accuracy: 1.000 - ETA: 11s - loss: 5.4354e-06 - accuracy: 1.000 - ETA: 11s - loss: 5.3691e-06 - accuracy: 1.000 - ETA: 11s - loss: 5.3044e-06 - accuracy: 1.000 - ETA: 11s - loss: 5.2413e-06 - accuracy: 1.000 - ETA: 11s - loss: 5.1796e-06 - accuracy: 1.000 - ETA: 11s - loss: 5.1194e-06 - accuracy: 1.000 - ETA: 11s - loss: 5.0605e-06 - accuracy: 1.000 - ETA: 11s - loss: 5.0030e-06 - accuracy: 1.000 - ETA: 11s - loss: 4.9468e-06 - accuracy: 1.000 - ETA: 11s - loss: 4.8381e-06 - accuracy: 1.000 - ETA: 11s - loss: 4.7340e-06 - accuracy: 1.000 - ETA: 11s - loss: 4.6837e-06 - accuracy: 1.000 - ETA: 11s - loss: 5.2283e-06 - accuracy: 1.000 - ETA: 11s - loss: 5.1216e-06 - accuracy: 1.000 - ETA: 11s - loss: 5.0192e-06 - accuracy: 1.000 - ETA: 10s - loss: 4.9208e-06 - accuracy: 1.000 - ETA: 10s - loss: 4.8261e-06 - accuracy: 1.000 - ETA: 10s - loss: 4.7351e-06 - accuracy: 1.000 - ETA: 10s - loss: 4.6474e-06 - accuracy: 1.000 - ETA: 10s - loss: 4.5629e-06 - accuracy: 1.000 - ETA: 10s - loss: 4.4814e-06 - accuracy: 1.000 - ETA: 10s - loss: 4.4028e-06 - accuracy: 1.000 - ETA: 10s - loss: 4.3269e-06 - accuracy: 1.000 - ETA: 10s - loss: 4.2899e-06 - accuracy: 1.000 - ETA: 10s - loss: 9.8244e-05 - accuracy: 1.000 - ETA: 9s - loss: 9.6620e-05 - accuracy: 1.000 - ETA: 9s - loss: 9.5049e-05 - accuracy: 1.00 - ETA: 9s - loss: 9.4283e-05 - accuracy: 1.00 - ETA: 9s - loss: 9.2786e-05 - accuracy: 1.00 - ETA: 9s - loss: 9.1336e-05 - accuracy: 1.00 - ETA: 9s - loss: 8.9935e-05 - accuracy: 1.00 - ETA: 9s - loss: 8.8572e-05 - accuracy: 1.00 - ETA: 9s - loss: 8.7906e-05 - accuracy: 1.00 - ETA: 9s - loss: 8.7250e-05 - accuracy: 1.00 - ETA: 9s - loss: 8.6604e-05 - accuracy: 1.00 - ETA: 9s - loss: 8.5967e-05 - accuracy: 1.00 - ETA: 9s - loss: 8.5340e-05 - accuracy: 1.00 - ETA: 9s - loss: 8.4721e-05 - accuracy: 1.00 - ETA: 9s - loss: 8.4112e-05 - accuracy: 1.00 - ETA: 8s - loss: 8.2919e-05 - accuracy: 1.00 - ETA: 8s - loss: 8.9106e-05 - accuracy: 1.00 - ETA: 8s - loss: 8.8483e-05 - accuracy: 1.00 - ETA: 8s - loss: 8.7868e-05 - accuracy: 1.00 - ETA: 8s - loss: 8.7262e-05 - accuracy: 1.00 - ETA: 8s - loss: 8.6075e-05 - accuracy: 1.00 - ETA: 8s - loss: 8.5494e-05 - accuracy: 1.00 - ETA: 8s - loss: 8.4920e-05 - accuracy: 1.00 - ETA: 8s - loss: 8.4354e-05 - accuracy: 1.00 - ETA: 8s - loss: 8.3795e-05 - accuracy: 1.00 - ETA: 8s - loss: 8.3244e-05 - accuracy: 1.00 - ETA: 8s - loss: 8.2700e-05 - accuracy: 1.00 - ETA: 8s - loss: 8.2163e-05 - accuracy: 1.00 - ETA: 8s - loss: 8.1633e-05 - accuracy: 1.00 - ETA: 8s - loss: 8.1110e-05 - accuracy: 1.00 - ETA: 8s - loss: 8.0593e-05 - accuracy: 1.00 - ETA: 8s - loss: 8.0083e-05 - accuracy: 1.00 - ETA: 8s - loss: 7.9579e-05 - accuracy: 1.00 - ETA: 8s - loss: 7.9243e-05 - accuracy: 1.00 - ETA: 8s - loss: 7.8751e-05 - accuracy: 1.00 - ETA: 8s - loss: 7.8265e-05 - accuracy: 1.00 - ETA: 8s - loss: 7.7310e-05 - accuracy: 1.00 - ETA: 7s - loss: 7.6379e-05 - accuracy: 1.00 - ETA: 7s - loss: 7.5470e-05 - accuracy: 1.00 - ETA: 7s - loss: 7.4582e-05 - accuracy: 1.00 - ETA: 7s - loss: 7.4146e-05 - accuracy: 1.00 - ETA: 7s - loss: 7.3715e-05 - accuracy: 1.00 - ETA: 7s - loss: 7.3289e-05 - accuracy: 1.00 - ETA: 7s - loss: 7.2867e-05 - accuracy: 1.00 - ETA: 7s - loss: 7.2451e-05 - accuracy: 1.00 - ETA: 7s - loss: 7.1632e-05 - accuracy: 1.00 - ETA: 7s - loss: 7.1230e-05 - accuracy: 1.00 - ETA: 7s - loss: 8.0559e-05 - accuracy: 1.00 - ETA: 7s - loss: 7.9674e-05 - accuracy: 1.00 - ETA: 7s - loss: 7.9238e-05 - accuracy: 1.00 - ETA: 7s - loss: 7.8382e-05 - accuracy: 1.00 - ETA: 6s - loss: 7.7544e-05 - accuracy: 1.00 - ETA: 6s - loss: 7.6723e-05 - accuracy: 1.00 - ETA: 6s - loss: 7.5920e-05 - accuracy: 1.00 - ETA: 6s - loss: 7.5428e-05 - accuracy: 1.00 - ETA: 6s - loss: 7.4655e-05 - accuracy: 1.00 - ETA: 6s - loss: 7.3897e-05 - accuracy: 1.00 - ETA: 6s - loss: 7.3154e-05 - accuracy: 1.00 - ETA: 6s - loss: 7.2426e-05 - accuracy: 1.00 - ETA: 6s - loss: 7.1713e-05 - accuracy: 1.00 - ETA: 5s - loss: 7.1013e-05 - accuracy: 1.00 - ETA: 5s - loss: 7.0327e-05 - accuracy: 1.00 - ETA: 5s - loss: 6.9654e-05 - accuracy: 1.00 - ETA: 5s - loss: 6.8997e-05 - accuracy: 1.00 - ETA: 5s - loss: 6.8349e-05 - accuracy: 1.00 - ETA: 5s - loss: 6.7713e-05 - accuracy: 1.00 - ETA: 5s - loss: 6.7089e-05 - accuracy: 1.00 - ETA: 5s - loss: 6.6477e-05 - accuracy: 1.00 - ETA: 5s - loss: 6.5875e-05 - accuracy: 1.00 - ETA: 5s - loss: 6.5284e-05 - accuracy: 1.00 - ETA: 4s - loss: 6.4704e-05 - accuracy: 1.00 - ETA: 4s - loss: 6.4134e-05 - accuracy: 1.00 - ETA: 4s - loss: 6.3574e-05 - accuracy: 1.00 - ETA: 4s - loss: 6.3024e-05 - accuracy: 1.00 - ETA: 4s - loss: 6.2483e-05 - accuracy: 1.00 - ETA: 4s - loss: 6.1951e-05 - accuracy: 1.00 - ETA: 4s - loss: 6.1428e-05 - accuracy: 1.00 - ETA: 4s - loss: 6.0914e-05 - accuracy: 1.00 - ETA: 4s - loss: 6.0409e-05 - accuracy: 1.00 - ETA: 4s - loss: 2.9338e-04 - accuracy: 1.00 - ETA: 3s - loss: 2.9098e-04 - accuracy: 1.00 - ETA: 3s - loss: 2.8862e-04 - accuracy: 1.00 - ETA: 3s - loss: 2.8631e-04 - accuracy: 1.00 - ETA: 3s - loss: 2.8405e-04 - accuracy: 1.00 - ETA: 3s - loss: 2.8180e-04 - accuracy: 1.00 - ETA: 3s - loss: 2.7959e-04 - accuracy: 1.00 - ETA: 3s - loss: 2.7741e-04 - accuracy: 1.00 - ETA: 3s - loss: 2.7527e-04 - accuracy: 1.00 - ETA: 3s - loss: 2.7316e-04 - accuracy: 1.00 - ETA: 3s - loss: 2.7108e-04 - accuracy: 1.00 - ETA: 3s - loss: 2.6904e-04 - accuracy: 1.00 - ETA: 2s - loss: 2.6702e-04 - accuracy: 1.00 - ETA: 2s - loss: 2.6504e-04 - accuracy: 1.00 - ETA: 2s - loss: 2.6308e-04 - accuracy: 1.0000"
     ]
    },
    {
     "name": "stdout",
     "output_type": "stream",
     "text": [
      "1325/1325 [==============================] - ETA: 2s - loss: 2.6116e-04 - accuracy: 1.00 - ETA: 2s - loss: 2.5926e-04 - accuracy: 1.00 - ETA: 2s - loss: 2.5738e-04 - accuracy: 1.00 - ETA: 2s - loss: 2.5554e-04 - accuracy: 1.00 - ETA: 2s - loss: 2.5372e-04 - accuracy: 1.00 - ETA: 2s - loss: 2.5193e-04 - accuracy: 1.00 - ETA: 2s - loss: 2.5016e-04 - accuracy: 1.00 - ETA: 1s - loss: 2.4842e-04 - accuracy: 1.00 - ETA: 1s - loss: 2.4670e-04 - accuracy: 1.00 - ETA: 1s - loss: 2.4500e-04 - accuracy: 1.00 - ETA: 1s - loss: 2.4333e-04 - accuracy: 1.00 - ETA: 1s - loss: 2.4168e-04 - accuracy: 1.00 - ETA: 1s - loss: 2.4005e-04 - accuracy: 1.00 - ETA: 1s - loss: 2.3845e-04 - accuracy: 1.00 - ETA: 1s - loss: 2.3686e-04 - accuracy: 1.00 - ETA: 1s - loss: 2.3530e-04 - accuracy: 1.00 - ETA: 1s - loss: 2.3376e-04 - accuracy: 1.00 - ETA: 1s - loss: 2.3223e-04 - accuracy: 1.00 - ETA: 0s - loss: 2.3073e-04 - accuracy: 1.00 - ETA: 0s - loss: 2.2925e-04 - accuracy: 1.00 - ETA: 0s - loss: 2.2778e-04 - accuracy: 1.00 - ETA: 0s - loss: 2.2634e-04 - accuracy: 1.00 - ETA: 0s - loss: 2.2491e-04 - accuracy: 1.00 - ETA: 0s - loss: 2.2350e-04 - accuracy: 1.00 - ETA: 0s - loss: 2.2251e-04 - accuracy: 1.00 - ETA: 0s - loss: 2.2113e-04 - accuracy: 1.00 - ETA: 0s - loss: 2.1977e-04 - accuracy: 1.00 - ETA: 0s - loss: 2.1843e-04 - accuracy: 1.00 - ETA: 0s - loss: 2.1710e-04 - accuracy: 1.00 - ETA: 0s - loss: 2.1579e-04 - accuracy: 1.00 - 15s 11ms/step - loss: 2.1563e-04 - accuracy: 1.0000 - val_loss: 7.4856e-07 - val_accuracy: 1.0000\n",
      "Epoch 50/50\n"
     ]
    },
    {
     "name": "stdout",
     "output_type": "stream",
     "text": [
      "1325/1325 [==============================] - ETA: 11s - loss: 0.0000e+00 - accuracy: 1.000 - ETA: 12s - loss: 0.0000e+00 - accuracy: 1.000 - ETA: 12s - loss: 3.1590e-07 - accuracy: 1.000 - ETA: 12s - loss: 2.2565e-07 - accuracy: 1.000 - ETA: 12s - loss: 1.7550e-07 - accuracy: 1.000 - ETA: 12s - loss: 1.4359e-07 - accuracy: 1.000 - ETA: 12s - loss: 1.2150e-07 - accuracy: 1.000 - ETA: 12s - loss: 1.0530e-07 - accuracy: 1.000 - ETA: 12s - loss: 9.4666e-08 - accuracy: 1.000 - ETA: 11s - loss: 8.4701e-08 - accuracy: 1.000 - ETA: 11s - loss: 7.6634e-08 - accuracy: 1.000 - ETA: 11s - loss: 6.9970e-08 - accuracy: 1.000 - ETA: 11s - loss: 6.4373e-08 - accuracy: 1.000 - ETA: 11s - loss: 5.9604e-08 - accuracy: 1.000 - ETA: 11s - loss: 5.5494e-08 - accuracy: 1.000 - ETA: 11s - loss: 5.5759e-08 - accuracy: 1.000 - ETA: 11s - loss: 8.7786e-05 - accuracy: 1.000 - ETA: 11s - loss: 8.2770e-05 - accuracy: 1.000 - ETA: 11s - loss: 7.8296e-05 - accuracy: 1.000 - ETA: 11s - loss: 7.4281e-05 - accuracy: 1.000 - ETA: 11s - loss: 7.0657e-05 - accuracy: 1.000 - ETA: 11s - loss: 6.7371e-05 - accuracy: 1.000 - ETA: 11s - loss: 6.4377e-05 - accuracy: 1.000 - ETA: 11s - loss: 6.1637e-05 - accuracy: 1.000 - ETA: 10s - loss: 5.9121e-05 - accuracy: 1.000 - ETA: 10s - loss: 5.6803e-05 - accuracy: 1.000 - ETA: 10s - loss: 5.4691e-05 - accuracy: 1.000 - ETA: 10s - loss: 5.2703e-05 - accuracy: 1.000 - ETA: 10s - loss: 5.0853e-05 - accuracy: 1.000 - ETA: 10s - loss: 4.9130e-05 - accuracy: 1.000 - ETA: 10s - loss: 4.7519e-05 - accuracy: 1.000 - ETA: 10s - loss: 4.6010e-05 - accuracy: 1.000 - ETA: 10s - loss: 4.4594e-05 - accuracy: 1.000 - ETA: 10s - loss: 4.3409e-05 - accuracy: 1.000 - ETA: 10s - loss: 4.2151e-05 - accuracy: 1.000 - ETA: 10s - loss: 4.0963e-05 - accuracy: 1.000 - ETA: 10s - loss: 3.9841e-05 - accuracy: 1.000 - ETA: 9s - loss: 3.8778e-05 - accuracy: 1.000 - ETA: 9s - loss: 3.7771e-05 - accuracy: 1.00 - ETA: 9s - loss: 3.6820e-05 - accuracy: 1.00 - ETA: 9s - loss: 3.5910e-05 - accuracy: 1.00 - ETA: 9s - loss: 3.5071e-05 - accuracy: 1.00 - ETA: 9s - loss: 3.4246e-05 - accuracy: 1.00 - ETA: 9s - loss: 3.3827e-05 - accuracy: 1.00 - ETA: 9s - loss: 3.3067e-05 - accuracy: 1.00 - ETA: 9s - loss: 3.2341e-05 - accuracy: 1.00 - ETA: 9s - loss: 3.1645e-05 - accuracy: 1.00 - ETA: 9s - loss: 3.0979e-05 - accuracy: 1.00 - ETA: 9s - loss: 3.0340e-05 - accuracy: 1.00 - ETA: 9s - loss: 2.9727e-05 - accuracy: 1.00 - ETA: 8s - loss: 2.9138e-05 - accuracy: 1.00 - ETA: 8s - loss: 2.8573e-05 - accuracy: 1.00 - ETA: 8s - loss: 2.8028e-05 - accuracy: 1.00 - ETA: 8s - loss: 2.7505e-05 - accuracy: 1.00 - ETA: 8s - loss: 2.7000e-05 - accuracy: 1.00 - ETA: 8s - loss: 2.6513e-05 - accuracy: 1.00 - ETA: 8s - loss: 2.6044e-05 - accuracy: 1.00 - ETA: 8s - loss: 2.5591e-05 - accuracy: 1.00 - ETA: 8s - loss: 2.5154e-05 - accuracy: 1.00 - ETA: 8s - loss: 2.4731e-05 - accuracy: 1.00 - ETA: 8s - loss: 2.4322e-05 - accuracy: 1.00 - ETA: 8s - loss: 2.3927e-05 - accuracy: 1.00 - ETA: 7s - loss: 2.3544e-05 - accuracy: 1.00 - ETA: 7s - loss: 2.3174e-05 - accuracy: 1.00 - ETA: 7s - loss: 2.2815e-05 - accuracy: 1.00 - ETA: 7s - loss: 2.2471e-05 - accuracy: 1.00 - ETA: 7s - loss: 2.2133e-05 - accuracy: 1.00 - ETA: 7s - loss: 2.1805e-05 - accuracy: 1.00 - ETA: 7s - loss: 2.1487e-05 - accuracy: 1.00 - ETA: 7s - loss: 2.1177e-05 - accuracy: 1.00 - ETA: 7s - loss: 2.1010e-05 - accuracy: 1.00 - ETA: 7s - loss: 2.0716e-05 - accuracy: 1.00 - ETA: 7s - loss: 2.0430e-05 - accuracy: 1.00 - ETA: 7s - loss: 2.0152e-05 - accuracy: 1.00 - ETA: 7s - loss: 1.9882e-05 - accuracy: 1.00 - ETA: 6s - loss: 1.9618e-05 - accuracy: 1.00 - ETA: 6s - loss: 1.9362e-05 - accuracy: 1.00 - ETA: 6s - loss: 1.9112e-05 - accuracy: 1.00 - ETA: 6s - loss: 1.8869e-05 - accuracy: 1.00 - ETA: 6s - loss: 1.8632e-05 - accuracy: 1.00 - ETA: 6s - loss: 1.8400e-05 - accuracy: 1.00 - ETA: 6s - loss: 1.8174e-05 - accuracy: 1.00 - ETA: 6s - loss: 1.7954e-05 - accuracy: 1.00 - ETA: 6s - loss: 1.7739e-05 - accuracy: 1.00 - ETA: 6s - loss: 1.7529e-05 - accuracy: 1.00 - ETA: 6s - loss: 1.7324e-05 - accuracy: 1.00 - ETA: 6s - loss: 1.7124e-05 - accuracy: 1.00 - ETA: 6s - loss: 1.6928e-05 - accuracy: 1.00 - ETA: 5s - loss: 1.6737e-05 - accuracy: 1.00 - ETA: 5s - loss: 1.6560e-05 - accuracy: 1.00 - ETA: 5s - loss: 3.4896e-05 - accuracy: 1.00 - ETA: 5s - loss: 3.4515e-05 - accuracy: 1.00 - ETA: 5s - loss: 3.4142e-05 - accuracy: 1.00 - ETA: 5s - loss: 3.3776e-05 - accuracy: 1.00 - ETA: 5s - loss: 3.3469e-05 - accuracy: 1.00 - ETA: 5s - loss: 3.3119e-05 - accuracy: 1.00 - ETA: 5s - loss: 3.2775e-05 - accuracy: 1.00 - ETA: 5s - loss: 3.2439e-05 - accuracy: 1.00 - ETA: 5s - loss: 3.2182e-05 - accuracy: 1.00 - ETA: 5s - loss: 3.1860e-05 - accuracy: 1.00 - ETA: 5s - loss: 3.1543e-05 - accuracy: 1.00 - ETA: 4s - loss: 3.1232e-05 - accuracy: 1.00 - ETA: 4s - loss: 5.4636e-04 - accuracy: 1.00 - ETA: 4s - loss: 5.4108e-04 - accuracy: 1.00 - ETA: 4s - loss: 5.3591e-04 - accuracy: 1.00 - ETA: 4s - loss: 5.3083e-04 - accuracy: 1.00 - ETA: 4s - loss: 5.2584e-04 - accuracy: 1.00 - ETA: 4s - loss: 5.2095e-04 - accuracy: 1.00 - ETA: 4s - loss: 5.1615e-04 - accuracy: 1.00 - ETA: 4s - loss: 5.1144e-04 - accuracy: 1.00 - ETA: 4s - loss: 5.0681e-04 - accuracy: 1.00 - ETA: 4s - loss: 5.0226e-04 - accuracy: 1.00 - ETA: 4s - loss: 4.9780e-04 - accuracy: 1.00 - ETA: 4s - loss: 4.9341e-04 - accuracy: 1.00 - ETA: 3s - loss: 4.8910e-04 - accuracy: 1.00 - ETA: 3s - loss: 4.8487e-04 - accuracy: 1.00 - ETA: 3s - loss: 4.8071e-04 - accuracy: 1.00 - ETA: 3s - loss: 4.7661e-04 - accuracy: 1.00 - ETA: 3s - loss: 4.7259e-04 - accuracy: 1.00 - ETA: 3s - loss: 4.6864e-04 - accuracy: 1.00 - ETA: 3s - loss: 4.6475e-04 - accuracy: 1.00 - ETA: 3s - loss: 4.6092e-04 - accuracy: 1.00 - ETA: 3s - loss: 4.5716e-04 - accuracy: 1.00 - ETA: 3s - loss: 4.5346e-04 - accuracy: 1.00 - ETA: 3s - loss: 4.4982e-04 - accuracy: 1.00 - ETA: 3s - loss: 4.4623e-04 - accuracy: 1.00 - ETA: 3s - loss: 4.4271e-04 - accuracy: 1.00 - ETA: 2s - loss: 4.3923e-04 - accuracy: 1.00 - ETA: 2s - loss: 4.3581e-04 - accuracy: 1.00 - ETA: 2s - loss: 4.3245e-04 - accuracy: 1.00 - ETA: 2s - loss: 4.2914e-04 - accuracy: 1.00 - ETA: 2s - loss: 4.2587e-04 - accuracy: 1.00 - ETA: 2s - loss: 4.2266e-04 - accuracy: 1.00 - ETA: 2s - loss: 4.1949e-04 - accuracy: 1.00 - ETA: 2s - loss: 4.1637e-04 - accuracy: 1.00 - ETA: 2s - loss: 4.1330e-04 - accuracy: 1.00 - ETA: 2s - loss: 4.1027e-04 - accuracy: 1.00 - ETA: 2s - loss: 4.0732e-04 - accuracy: 1.00 - ETA: 2s - loss: 4.0438e-04 - accuracy: 1.00 - ETA: 2s - loss: 4.0149e-04 - accuracy: 1.00 - ETA: 1s - loss: 3.9863e-04 - accuracy: 1.00 - ETA: 1s - loss: 3.9581e-04 - accuracy: 1.00 - ETA: 1s - loss: 3.9304e-04 - accuracy: 1.00 - ETA: 1s - loss: 3.9030e-04 - accuracy: 1.00 - ETA: 1s - loss: 3.8797e-04 - accuracy: 1.00 - ETA: 1s - loss: 3.8530e-04 - accuracy: 1.00 - ETA: 1s - loss: 3.8267e-04 - accuracy: 1.00 - ETA: 1s - loss: 3.8008e-04 - accuracy: 1.00 - ETA: 1s - loss: 3.7752e-04 - accuracy: 1.00 - ETA: 1s - loss: 3.7499e-04 - accuracy: 1.00 - ETA: 1s - loss: 3.7250e-04 - accuracy: 1.00 - ETA: 1s - loss: 3.7004e-04 - accuracy: 1.00 - ETA: 1s - loss: 3.6762e-04 - accuracy: 1.00 - ETA: 0s - loss: 3.6522e-04 - accuracy: 1.00 - ETA: 0s - loss: 3.6286e-04 - accuracy: 1.00 - ETA: 0s - loss: 3.6052e-04 - accuracy: 1.00 - ETA: 0s - loss: 3.5822e-04 - accuracy: 1.00 - ETA: 0s - loss: 3.5595e-04 - accuracy: 1.00 - ETA: 0s - loss: 3.5370e-04 - accuracy: 1.00 - ETA: 0s - loss: 3.5148e-04 - accuracy: 1.00 - ETA: 0s - loss: 3.4929e-04 - accuracy: 1.00 - ETA: 0s - loss: 3.4713e-04 - accuracy: 1.00 - ETA: 0s - loss: 3.4499e-04 - accuracy: 1.00 - ETA: 0s - loss: 3.4288e-04 - accuracy: 1.00 - ETA: 0s - loss: 3.4080e-04 - accuracy: 1.00 - ETA: 0s - loss: 3.3874e-04 - accuracy: 1.00 - 13s 10ms/step - loss: 3.3848e-04 - accuracy: 1.0000 - val_loss: 2.8389e-06 - val_accuracy: 1.0000\n",
      "Wall time: 12min 11s\n"
     ]
    }
   ],
   "source": [
    "%%time\n",
    "# training the model\n",
    "#model_training_history = model.fit( X_train, y_train, epochs=10, validation_data=(X_test, y_test), callbacks=[mcp_save], batch_size=128)\n",
    "\n",
    "# Adding Early Stopping Callback\n",
    "#early_stopping_callback = EarlyStopping(monitor = 'val_loss', patience = 15, mode = 'min', restore_best_weights = True)\n",
    "\n",
    "model_training_history = model.fit(x = X_train, y = y_train, epochs = 50, verbose = 1, batch_size = 4 , shuffle = True, validation_split = 0.2, callbacks=[mcp_save])"
   ]
  },
  {
   "cell_type": "markdown",
   "metadata": {},
   "source": [
    "\n",
    "### Evaluate trained model on the feature’s and label’s test sets."
   ]
  },
  {
   "cell_type": "code",
   "execution_count": 29,
   "metadata": {},
   "outputs": [
    {
     "name": "stdout",
     "output_type": "stream",
     "text": [
      "415/415 [==============================] - ETA:  - ETA:  - ETA:  - 0s 369us/step\n"
     ]
    }
   ],
   "source": [
    "model_evaluation_history = model.evaluate(X_test, y_test)"
   ]
  },
  {
   "cell_type": "code",
   "execution_count": 30,
   "metadata": {},
   "outputs": [
    {
     "data": {
      "text/plain": [
       "'C:/1-GG/CAP4/EventDetection/1-ExampleSetting/OutputFiles'"
      ]
     },
     "execution_count": 30,
     "metadata": {},
     "output_type": "execute_result"
    }
   ],
   "source": [
    "### Save model in a folder \n",
    "RootFolder"
   ]
  },
  {
   "cell_type": "code",
   "execution_count": 31,
   "metadata": {},
   "outputs": [],
   "source": [
    "# Saving Model\n",
    "model_name = 'video combined_video-2vdo model_jj.h5'\n",
    "model.save(RootFolder+'/'+model_name)"
   ]
  },
  {
   "cell_type": "markdown",
   "metadata": {},
   "source": [
    "### How to load the model from disk"
   ]
  },
  {
   "cell_type": "code",
   "execution_count": 32,
   "metadata": {},
   "outputs": [
    {
     "data": {
      "text/plain": [
       "'C:/1-GG/CAP4/EventDetection/1-ExampleSetting/OutputFiles'"
      ]
     },
     "execution_count": 32,
     "metadata": {},
     "output_type": "execute_result"
    }
   ],
   "source": [
    "RootFolder"
   ]
  },
  {
   "cell_type": "code",
   "execution_count": 33,
   "metadata": {},
   "outputs": [],
   "source": [
    "model_name = 'video combined_video-2vdo model_jj.h5'\n",
    "\n"
   ]
  },
  {
   "cell_type": "code",
   "execution_count": 34,
   "metadata": {},
   "outputs": [],
   "source": [
    "from tensorflow import keras\n",
    "\n",
    "model = keras.models.load_model(RootFolder+'/'+model_name)\n"
   ]
  },
  {
   "cell_type": "markdown",
   "metadata": {},
   "source": [
    "#### Here"
   ]
  },
  {
   "cell_type": "code",
   "execution_count": null,
   "metadata": {},
   "outputs": [],
   "source": []
  },
  {
   "cell_type": "code",
   "execution_count": null,
   "metadata": {},
   "outputs": [],
   "source": []
  },
  {
   "cell_type": "code",
   "execution_count": null,
   "metadata": {},
   "outputs": [],
   "source": []
  },
  {
   "cell_type": "code",
   "execution_count": null,
   "metadata": {},
   "outputs": [],
   "source": []
  },
  {
   "cell_type": "markdown",
   "metadata": {},
   "source": [
    "### Evaluating our Video Classification Model\n"
   ]
  },
  {
   "cell_type": "code",
   "execution_count": 35,
   "metadata": {},
   "outputs": [],
   "source": [
    "from keras.models import Sequential\n",
    "from keras.layers import Dense, Dropout, Flatten\n",
    "from keras.layers import Conv2D, MaxPooling2D\n",
    "from keras.preprocessing import image\n",
    "import numpy as np\n",
    "import pandas as pd\n",
    "from tqdm import tqdm\n",
    "from keras.applications.vgg16 import VGG16\n",
    "import cv2\n",
    "import math\n",
    "import os\n",
    "from glob import glob\n",
    "from scipy import stats as s\n",
    "\n",
    "from moviepy.editor import *   ###VideoFileClip\n",
    "\n",
    "\n",
    "## pafy, youtube-dl and moviepy packages to be installed\n",
    "##pip install pafy youtube-dl moviepy\n",
    "\n",
    "## Install open cv - make sure numpy already installed\n",
    "#pip install opencv-python\n",
    "#import pafy"
   ]
  },
  {
   "cell_type": "code",
   "execution_count": 36,
   "metadata": {},
   "outputs": [
    {
     "data": {
      "text/plain": [
       "(319, 3)"
      ]
     },
     "execution_count": 36,
     "metadata": {},
     "output_type": "execute_result"
    }
   ],
   "source": [
    "# read testFrames csv\n",
    "testFrames  = pd.read_csv(RootFolder+\"/testFrames.csv\")\n",
    "testFrames.shape"
   ]
  },
  {
   "cell_type": "code",
   "execution_count": 37,
   "metadata": {},
   "outputs": [
    {
     "data": {
      "text/html": [
       "<div>\n",
       "<style scoped>\n",
       "    .dataframe tbody tr th:only-of-type {\n",
       "        vertical-align: middle;\n",
       "    }\n",
       "\n",
       "    .dataframe tbody tr th {\n",
       "        vertical-align: top;\n",
       "    }\n",
       "\n",
       "    .dataframe thead th {\n",
       "        text-align: right;\n",
       "    }\n",
       "</style>\n",
       "<table border=\"1\" class=\"dataframe\">\n",
       "  <thead>\n",
       "    <tr style=\"text-align: right;\">\n",
       "      <th></th>\n",
       "      <th>FrameFilename</th>\n",
       "      <th>FullPathName</th>\n",
       "      <th>class</th>\n",
       "    </tr>\n",
       "  </thead>\n",
       "  <tbody>\n",
       "    <tr>\n",
       "      <th>0</th>\n",
       "      <td>v_Basketball_g01_c01.avi</td>\n",
       "      <td>C:/1-GG/CAP4/EventDetection/1-ExampleSetting\\V...</td>\n",
       "      <td>Basketball</td>\n",
       "    </tr>\n",
       "    <tr>\n",
       "      <th>1</th>\n",
       "      <td>v_Basketball_g01_c01.avi</td>\n",
       "      <td>C:/1-GG/CAP4/EventDetection/1-ExampleSetting\\V...</td>\n",
       "      <td>Basketball</td>\n",
       "    </tr>\n",
       "    <tr>\n",
       "      <th>2</th>\n",
       "      <td>v_Basketball_g01_c01.avi</td>\n",
       "      <td>C:/1-GG/CAP4/EventDetection/1-ExampleSetting\\V...</td>\n",
       "      <td>Basketball</td>\n",
       "    </tr>\n",
       "    <tr>\n",
       "      <th>3</th>\n",
       "      <td>v_Basketball_g01_c01.avi</td>\n",
       "      <td>C:/1-GG/CAP4/EventDetection/1-ExampleSetting\\V...</td>\n",
       "      <td>Basketball</td>\n",
       "    </tr>\n",
       "    <tr>\n",
       "      <th>4</th>\n",
       "      <td>v_Basketball_g01_c01.avi</td>\n",
       "      <td>C:/1-GG/CAP4/EventDetection/1-ExampleSetting\\V...</td>\n",
       "      <td>Basketball</td>\n",
       "    </tr>\n",
       "  </tbody>\n",
       "</table>\n",
       "</div>"
      ],
      "text/plain": [
       "              FrameFilename  \\\n",
       "0  v_Basketball_g01_c01.avi   \n",
       "1  v_Basketball_g01_c01.avi   \n",
       "2  v_Basketball_g01_c01.avi   \n",
       "3  v_Basketball_g01_c01.avi   \n",
       "4  v_Basketball_g01_c01.avi   \n",
       "\n",
       "                                        FullPathName       class  \n",
       "0  C:/1-GG/CAP4/EventDetection/1-ExampleSetting\\V...  Basketball  \n",
       "1  C:/1-GG/CAP4/EventDetection/1-ExampleSetting\\V...  Basketball  \n",
       "2  C:/1-GG/CAP4/EventDetection/1-ExampleSetting\\V...  Basketball  \n",
       "3  C:/1-GG/CAP4/EventDetection/1-ExampleSetting\\V...  Basketball  \n",
       "4  C:/1-GG/CAP4/EventDetection/1-ExampleSetting\\V...  Basketball  "
      ]
     },
     "execution_count": 37,
     "metadata": {},
     "output_type": "execute_result"
    }
   ],
   "source": [
    "testFrames.head()"
   ]
  },
  {
   "cell_type": "code",
   "execution_count": 38,
   "metadata": {},
   "outputs": [
    {
     "name": "stdout",
     "output_type": "stream",
     "text": [
      "['v_Basketball_g01_c01.avi', 'v_Basketball_g01_c01.avi', 'v_Basketball_g01_c01.avi', 'v_Basketball_g01_c01.avi', 'v_Basketball_g01_c01.avi', 'v_Basketball_g01_c02.avi', 'v_Basketball_g01_c02.avi', 'v_Basketball_g01_c02.avi', 'v_Basketball_g01_c02.avi', 'v_Basketball_g01_c02.avi', 'v_Basketball_g01_c02.avi', 'v_Basketball_g01_c02.avi', 'v_Basketball_g01_c03.avi', 'v_Basketball_g01_c03.avi', 'v_Basketball_g01_c03.avi', 'v_Basketball_g01_c03.avi', 'v_Basketball_g01_c03.avi', 'v_Basketball_g01_c03.avi', 'v_Basketball_g01_c03.avi', 'v_Basketball_g01_c03.avi', 'v_Basketball_g01_c04.avi', 'v_Basketball_g01_c04.avi', 'v_Basketball_g01_c04.avi', 'v_Basketball_g01_c04.avi', 'v_Basketball_g01_c05.avi', 'v_Basketball_g01_c05.avi', 'v_Basketball_g01_c05.avi', 'v_Basketball_g01_c05.avi', 'v_Basketball_g01_c05.avi', 'v_Basketball_g01_c06.avi', 'v_Basketball_g01_c06.avi', 'v_Basketball_g01_c06.avi', 'v_Basketball_g01_c06.avi', 'v_Basketball_g01_c06.avi', 'v_Basketball_g01_c06.avi', 'v_Basketball_g01_c07.avi', 'v_Basketball_g01_c07.avi', 'v_Basketball_g01_c07.avi', 'v_Basketball_g01_c07.avi', 'v_Basketball_g02_c01.avi', 'v_Basketball_g02_c01.avi', 'v_Basketball_g02_c02.avi', 'v_Basketball_g02_c02.avi', 'v_Basketball_g02_c03.avi', 'v_Basketball_g02_c03.avi', 'v_Basketball_g02_c03.avi', 'v_Basketball_g02_c03.avi', 'v_Basketball_g02_c04.avi', 'v_Basketball_g02_c04.avi', 'v_Basketball_g02_c04.avi', 'v_Basketball_g02_c05.avi', 'v_Basketball_g02_c05.avi', 'v_Basketball_g02_c05.avi', 'v_Basketball_g02_c05.avi', 'v_Basketball_g02_c05.avi', 'v_Basketball_g02_c06.avi', 'v_Basketball_g02_c06.avi', 'v_Basketball_g02_c06.avi', 'v_Basketball_g02_c06.avi', 'v_Basketball_g02_c06.avi', 'v_Basketball_g03_c01.avi', 'v_Basketball_g03_c01.avi', 'v_Basketball_g03_c01.avi', 'v_Basketball_g03_c01.avi', 'v_Basketball_g03_c01.avi', 'v_Basketball_g03_c02.avi', 'v_Basketball_g03_c02.avi', 'v_Basketball_g03_c02.avi', 'v_Basketball_g03_c02.avi', 'v_Basketball_g03_c02.avi', 'v_Basketball_g03_c03.avi', 'v_Basketball_g03_c03.avi', 'v_Basketball_g03_c03.avi', 'v_Basketball_g03_c03.avi', 'v_Basketball_g03_c03.avi', 'v_Basketball_g03_c04.avi', 'v_Basketball_g03_c04.avi', 'v_Basketball_g03_c04.avi', 'v_Basketball_g03_c05.avi', 'v_Basketball_g03_c05.avi', 'v_Basketball_g03_c05.avi', 'v_Basketball_g03_c05.avi', 'v_Basketball_g03_c05.avi', 'v_Basketball_g03_c06.avi', 'v_Basketball_g03_c06.avi', 'v_Basketball_g03_c06.avi', 'v_Basketball_g04_c01.avi', 'v_Basketball_g04_c01.avi', 'v_Basketball_g04_c01.avi', 'v_Basketball_g04_c01.avi', 'v_Basketball_g04_c02.avi', 'v_Basketball_g04_c02.avi', 'v_Basketball_g04_c02.avi', 'v_Basketball_g04_c02.avi', 'v_Basketball_g04_c03.avi', 'v_Basketball_g04_c03.avi', 'v_Basketball_g04_c03.avi', 'v_Basketball_g04_c03.avi', 'v_Basketball_g04_c04.avi', 'v_Basketball_g04_c04.avi', 'v_Basketball_g04_c04.avi', 'v_Basketball_g05_c01.avi', 'v_Basketball_g05_c01.avi', 'v_Basketball_g05_c01.avi', 'v_Basketball_g05_c01.avi', 'v_Basketball_g05_c01.avi', 'v_Basketball_g05_c02.avi', 'v_Basketball_g05_c02.avi', 'v_Basketball_g05_c02.avi', 'v_Basketball_g05_c02.avi', 'v_Basketball_g05_c03.avi', 'v_Basketball_g05_c03.avi', 'v_Basketball_g05_c03.avi', 'v_Basketball_g05_c03.avi', 'v_Basketball_g05_c04.avi', 'v_Basketball_g05_c04.avi', 'v_Basketball_g05_c04.avi', 'v_Basketball_g06_c01.avi', 'v_Basketball_g06_c01.avi', 'v_Basketball_g06_c01.avi', 'v_Basketball_g06_c02.avi', 'v_Basketball_g06_c02.avi', 'v_Basketball_g06_c02.avi', 'v_Basketball_g06_c02.avi', 'v_Basketball_g06_c03.avi', 'v_Basketball_g06_c03.avi', 'v_Basketball_g06_c03.avi', 'v_Basketball_g06_c03.avi', 'v_Basketball_g06_c04.avi', 'v_Basketball_g06_c04.avi', 'v_Basketball_g06_c04.avi', 'v_Basketball_g07_c01.avi', 'v_Basketball_g07_c01.avi', 'v_Basketball_g07_c01.avi', 'v_Basketball_g07_c01.avi', 'v_Basketball_g07_c01.avi', 'v_Basketball_g07_c02.avi', 'v_Basketball_g07_c02.avi', 'v_Basketball_g07_c02.avi', 'v_Basketball_g07_c02.avi', 'v_Basketball_g07_c03.avi', 'v_Basketball_g07_c03.avi', 'v_Basketball_g07_c03.avi', 'v_Basketball_g07_c03.avi', 'v_Basketball_g07_c03.avi', 'v_Basketball_g07_c03.avi', 'v_Basketball_g07_c04.avi', 'v_Basketball_g07_c04.avi', 'v_Basketball_g07_c04.avi', 'v_Basketball_g07_c04.avi', 'v_SoccerPenalty_g01_c01.avi', 'v_SoccerPenalty_g01_c01.avi', 'v_SoccerPenalty_g01_c01.avi', 'v_SoccerPenalty_g01_c01.avi', 'v_SoccerPenalty_g01_c01.avi', 'v_SoccerPenalty_g01_c01.avi', 'v_SoccerPenalty_g01_c01.avi', 'v_SoccerPenalty_g01_c02.avi', 'v_SoccerPenalty_g01_c02.avi', 'v_SoccerPenalty_g01_c02.avi', 'v_SoccerPenalty_g01_c02.avi', 'v_SoccerPenalty_g01_c02.avi', 'v_SoccerPenalty_g01_c02.avi', 'v_SoccerPenalty_g01_c03.avi', 'v_SoccerPenalty_g01_c03.avi', 'v_SoccerPenalty_g01_c03.avi', 'v_SoccerPenalty_g01_c03.avi', 'v_SoccerPenalty_g01_c03.avi', 'v_SoccerPenalty_g01_c03.avi', 'v_SoccerPenalty_g01_c04.avi', 'v_SoccerPenalty_g01_c04.avi', 'v_SoccerPenalty_g01_c04.avi', 'v_SoccerPenalty_g01_c04.avi', 'v_SoccerPenalty_g01_c04.avi', 'v_SoccerPenalty_g01_c04.avi', 'v_SoccerPenalty_g01_c05.avi', 'v_SoccerPenalty_g01_c05.avi', 'v_SoccerPenalty_g01_c05.avi', 'v_SoccerPenalty_g01_c05.avi', 'v_SoccerPenalty_g01_c05.avi', 'v_SoccerPenalty_g01_c06.avi', 'v_SoccerPenalty_g01_c06.avi', 'v_SoccerPenalty_g01_c06.avi', 'v_SoccerPenalty_g01_c06.avi', 'v_SoccerPenalty_g02_c01.avi', 'v_SoccerPenalty_g02_c01.avi', 'v_SoccerPenalty_g02_c01.avi', 'v_SoccerPenalty_g02_c01.avi', 'v_SoccerPenalty_g02_c01.avi', 'v_SoccerPenalty_g02_c02.avi', 'v_SoccerPenalty_g02_c02.avi', 'v_SoccerPenalty_g02_c02.avi', 'v_SoccerPenalty_g02_c02.avi', 'v_SoccerPenalty_g02_c03.avi', 'v_SoccerPenalty_g02_c03.avi', 'v_SoccerPenalty_g02_c03.avi', 'v_SoccerPenalty_g02_c03.avi', 'v_SoccerPenalty_g02_c04.avi', 'v_SoccerPenalty_g02_c04.avi', 'v_SoccerPenalty_g02_c04.avi', 'v_SoccerPenalty_g02_c04.avi', 'v_SoccerPenalty_g02_c04.avi', 'v_SoccerPenalty_g02_c05.avi', 'v_SoccerPenalty_g02_c05.avi', 'v_SoccerPenalty_g02_c05.avi', 'v_SoccerPenalty_g02_c05.avi', 'v_SoccerPenalty_g03_c01.avi', 'v_SoccerPenalty_g03_c01.avi', 'v_SoccerPenalty_g03_c01.avi', 'v_SoccerPenalty_g03_c01.avi', 'v_SoccerPenalty_g03_c02.avi', 'v_SoccerPenalty_g03_c02.avi', 'v_SoccerPenalty_g03_c02.avi', 'v_SoccerPenalty_g03_c02.avi', 'v_SoccerPenalty_g03_c03.avi', 'v_SoccerPenalty_g03_c03.avi', 'v_SoccerPenalty_g03_c03.avi', 'v_SoccerPenalty_g03_c03.avi', 'v_SoccerPenalty_g03_c03.avi', 'v_SoccerPenalty_g03_c03.avi', 'v_SoccerPenalty_g03_c04.avi', 'v_SoccerPenalty_g03_c04.avi', 'v_SoccerPenalty_g03_c04.avi', 'v_SoccerPenalty_g03_c04.avi', 'v_SoccerPenalty_g03_c05.avi', 'v_SoccerPenalty_g03_c05.avi', 'v_SoccerPenalty_g03_c05.avi', 'v_SoccerPenalty_g04_c01.avi', 'v_SoccerPenalty_g04_c01.avi', 'v_SoccerPenalty_g04_c01.avi', 'v_SoccerPenalty_g04_c02.avi', 'v_SoccerPenalty_g04_c02.avi', 'v_SoccerPenalty_g04_c02.avi', 'v_SoccerPenalty_g04_c03.avi', 'v_SoccerPenalty_g04_c03.avi', 'v_SoccerPenalty_g04_c03.avi', 'v_SoccerPenalty_g04_c04.avi', 'v_SoccerPenalty_g04_c04.avi', 'v_SoccerPenalty_g04_c04.avi', 'v_SoccerPenalty_g04_c04.avi', 'v_SoccerPenalty_g04_c05.avi', 'v_SoccerPenalty_g04_c05.avi', 'v_SoccerPenalty_g04_c05.avi', 'v_SoccerPenalty_g04_c05.avi', 'v_SoccerPenalty_g04_c05.avi', 'v_SoccerPenalty_g05_c01.avi', 'v_SoccerPenalty_g05_c01.avi', 'v_SoccerPenalty_g05_c01.avi', 'v_SoccerPenalty_g05_c01.avi', 'v_SoccerPenalty_g05_c02.avi', 'v_SoccerPenalty_g05_c02.avi', 'v_SoccerPenalty_g05_c02.avi', 'v_SoccerPenalty_g05_c02.avi', 'v_SoccerPenalty_g05_c03.avi', 'v_SoccerPenalty_g05_c03.avi', 'v_SoccerPenalty_g05_c03.avi', 'v_SoccerPenalty_g05_c03.avi', 'v_SoccerPenalty_g05_c04.avi', 'v_SoccerPenalty_g05_c04.avi', 'v_SoccerPenalty_g05_c04.avi', 'v_SoccerPenalty_g05_c04.avi', 'v_SoccerPenalty_g05_c05.avi', 'v_SoccerPenalty_g05_c05.avi', 'v_SoccerPenalty_g05_c05.avi', 'v_SoccerPenalty_g05_c05.avi', 'v_SoccerPenalty_g05_c06.avi', 'v_SoccerPenalty_g05_c06.avi', 'v_SoccerPenalty_g05_c06.avi', 'v_SoccerPenalty_g05_c07.avi', 'v_SoccerPenalty_g05_c07.avi', 'v_SoccerPenalty_g05_c07.avi', 'v_SoccerPenalty_g05_c07.avi', 'v_SoccerPenalty_g05_c07.avi', 'v_SoccerPenalty_g05_c07.avi', 'v_SoccerPenalty_g06_c01.avi', 'v_SoccerPenalty_g06_c01.avi', 'v_SoccerPenalty_g06_c01.avi', 'v_SoccerPenalty_g06_c01.avi', 'v_SoccerPenalty_g06_c01.avi', 'v_SoccerPenalty_g06_c02.avi', 'v_SoccerPenalty_g06_c02.avi', 'v_SoccerPenalty_g06_c03.avi', 'v_SoccerPenalty_g06_c03.avi', 'v_SoccerPenalty_g06_c03.avi', 'v_SoccerPenalty_g06_c04.avi', 'v_SoccerPenalty_g06_c04.avi', 'v_SoccerPenalty_g06_c04.avi', 'v_SoccerPenalty_g06_c05.avi', 'v_SoccerPenalty_g06_c05.avi', 'v_SoccerPenalty_g06_c05.avi', 'v_SoccerPenalty_g06_c06.avi', 'v_SoccerPenalty_g06_c06.avi', 'v_SoccerPenalty_g06_c06.avi', 'v_SoccerPenalty_g06_c06.avi', 'v_SoccerPenalty_g06_c07.avi', 'v_SoccerPenalty_g06_c07.avi', 'v_SoccerPenalty_g06_c07.avi', 'v_SoccerPenalty_g07_c01.avi', 'v_SoccerPenalty_g07_c01.avi', 'v_SoccerPenalty_g07_c01.avi', 'v_SoccerPenalty_g07_c02.avi', 'v_SoccerPenalty_g07_c02.avi', 'v_SoccerPenalty_g07_c02.avi', 'v_SoccerPenalty_g07_c02.avi', 'v_SoccerPenalty_g07_c02.avi', 'v_SoccerPenalty_g07_c02.avi', 'v_SoccerPenalty_g07_c03.avi', 'v_SoccerPenalty_g07_c03.avi', 'v_SoccerPenalty_g07_c03.avi', 'v_SoccerPenalty_g07_c04.avi', 'v_SoccerPenalty_g07_c04.avi', 'v_SoccerPenalty_g07_c04.avi', 'v_SoccerPenalty_g07_c05.avi', 'v_SoccerPenalty_g07_c05.avi', 'v_SoccerPenalty_g07_c05.avi', 'v_SoccerPenalty_g07_c06.avi', 'v_SoccerPenalty_g07_c06.avi', 'v_SoccerPenalty_g07_c06.avi', 'v_SoccerPenalty_g07_c06.avi']"
     ]
    },
    {
     "name": "stdout",
     "output_type": "stream",
     "text": [
      "\n"
     ]
    }
   ],
   "source": [
    "# Extract each vdo from testFrames \n",
    "testSetVDOlist = testFrames[\"FrameFilename\"].tolist()\n",
    "print(testSetVDOlist)"
   ]
  },
  {
   "cell_type": "code",
   "execution_count": 39,
   "metadata": {},
   "outputs": [
    {
     "name": "stdout",
     "output_type": "stream",
     "text": [
      "319\n",
      "76\n"
     ]
    }
   ],
   "source": [
    "print(len(testSetVDOlist))\n",
    "\n",
    "# Remove Duplicates From vdo list - as a vdo file has many frame images\n",
    "testSetVDOlist = list(dict.fromkeys(testSetVDOlist))\n",
    "print(len(testSetVDOlist))\n",
    " "
   ]
  },
  {
   "cell_type": "code",
   "execution_count": 40,
   "metadata": {},
   "outputs": [
    {
     "data": {
      "text/plain": [
       "['v_Basketball_g01_c01.avi',\n",
       " 'v_Basketball_g01_c02.avi',\n",
       " 'v_Basketball_g01_c03.avi',\n",
       " 'v_Basketball_g01_c04.avi',\n",
       " 'v_Basketball_g01_c05.avi',\n",
       " 'v_Basketball_g01_c06.avi',\n",
       " 'v_Basketball_g01_c07.avi',\n",
       " 'v_Basketball_g02_c01.avi',\n",
       " 'v_Basketball_g02_c02.avi',\n",
       " 'v_Basketball_g02_c03.avi',\n",
       " 'v_Basketball_g02_c04.avi',\n",
       " 'v_Basketball_g02_c05.avi',\n",
       " 'v_Basketball_g02_c06.avi',\n",
       " 'v_Basketball_g03_c01.avi',\n",
       " 'v_Basketball_g03_c02.avi',\n",
       " 'v_Basketball_g03_c03.avi',\n",
       " 'v_Basketball_g03_c04.avi',\n",
       " 'v_Basketball_g03_c05.avi',\n",
       " 'v_Basketball_g03_c06.avi',\n",
       " 'v_Basketball_g04_c01.avi',\n",
       " 'v_Basketball_g04_c02.avi',\n",
       " 'v_Basketball_g04_c03.avi',\n",
       " 'v_Basketball_g04_c04.avi',\n",
       " 'v_Basketball_g05_c01.avi',\n",
       " 'v_Basketball_g05_c02.avi',\n",
       " 'v_Basketball_g05_c03.avi',\n",
       " 'v_Basketball_g05_c04.avi',\n",
       " 'v_Basketball_g06_c01.avi',\n",
       " 'v_Basketball_g06_c02.avi',\n",
       " 'v_Basketball_g06_c03.avi',\n",
       " 'v_Basketball_g06_c04.avi',\n",
       " 'v_Basketball_g07_c01.avi',\n",
       " 'v_Basketball_g07_c02.avi',\n",
       " 'v_Basketball_g07_c03.avi',\n",
       " 'v_Basketball_g07_c04.avi',\n",
       " 'v_SoccerPenalty_g01_c01.avi',\n",
       " 'v_SoccerPenalty_g01_c02.avi',\n",
       " 'v_SoccerPenalty_g01_c03.avi',\n",
       " 'v_SoccerPenalty_g01_c04.avi',\n",
       " 'v_SoccerPenalty_g01_c05.avi',\n",
       " 'v_SoccerPenalty_g01_c06.avi',\n",
       " 'v_SoccerPenalty_g02_c01.avi',\n",
       " 'v_SoccerPenalty_g02_c02.avi',\n",
       " 'v_SoccerPenalty_g02_c03.avi',\n",
       " 'v_SoccerPenalty_g02_c04.avi',\n",
       " 'v_SoccerPenalty_g02_c05.avi',\n",
       " 'v_SoccerPenalty_g03_c01.avi',\n",
       " 'v_SoccerPenalty_g03_c02.avi',\n",
       " 'v_SoccerPenalty_g03_c03.avi',\n",
       " 'v_SoccerPenalty_g03_c04.avi',\n",
       " 'v_SoccerPenalty_g03_c05.avi',\n",
       " 'v_SoccerPenalty_g04_c01.avi',\n",
       " 'v_SoccerPenalty_g04_c02.avi',\n",
       " 'v_SoccerPenalty_g04_c03.avi',\n",
       " 'v_SoccerPenalty_g04_c04.avi',\n",
       " 'v_SoccerPenalty_g04_c05.avi',\n",
       " 'v_SoccerPenalty_g05_c01.avi',\n",
       " 'v_SoccerPenalty_g05_c02.avi',\n",
       " 'v_SoccerPenalty_g05_c03.avi',\n",
       " 'v_SoccerPenalty_g05_c04.avi',\n",
       " 'v_SoccerPenalty_g05_c05.avi',\n",
       " 'v_SoccerPenalty_g05_c06.avi',\n",
       " 'v_SoccerPenalty_g05_c07.avi',\n",
       " 'v_SoccerPenalty_g06_c01.avi',\n",
       " 'v_SoccerPenalty_g06_c02.avi',\n",
       " 'v_SoccerPenalty_g06_c03.avi',\n",
       " 'v_SoccerPenalty_g06_c04.avi',\n",
       " 'v_SoccerPenalty_g06_c05.avi',\n",
       " 'v_SoccerPenalty_g06_c06.avi',\n",
       " 'v_SoccerPenalty_g06_c07.avi',\n",
       " 'v_SoccerPenalty_g07_c01.avi',\n",
       " 'v_SoccerPenalty_g07_c02.avi',\n",
       " 'v_SoccerPenalty_g07_c03.avi',\n",
       " 'v_SoccerPenalty_g07_c04.avi',\n",
       " 'v_SoccerPenalty_g07_c05.avi',\n",
       " 'v_SoccerPenalty_g07_c06.avi']"
      ]
     },
     "execution_count": 40,
     "metadata": {},
     "output_type": "execute_result"
    }
   ],
   "source": [
    "testSetVDOlist"
   ]
  },
  {
   "cell_type": "code",
   "execution_count": 41,
   "metadata": {},
   "outputs": [],
   "source": [
    "# separating the target\n",
    "# To map the predicted categories with the actual categories, we will use train frame class:\n",
    "y = trainFrames['class']\n",
    "y = pd.get_dummies(y)"
   ]
  },
  {
   "cell_type": "code",
   "execution_count": 42,
   "metadata": {},
   "outputs": [
    {
     "data": {
      "text/html": [
       "<div>\n",
       "<style scoped>\n",
       "    .dataframe tbody tr th:only-of-type {\n",
       "        vertical-align: middle;\n",
       "    }\n",
       "\n",
       "    .dataframe tbody tr th {\n",
       "        vertical-align: top;\n",
       "    }\n",
       "\n",
       "    .dataframe thead th {\n",
       "        text-align: right;\n",
       "    }\n",
       "</style>\n",
       "<table border=\"1\" class=\"dataframe\">\n",
       "  <thead>\n",
       "    <tr style=\"text-align: right;\">\n",
       "      <th></th>\n",
       "      <th>Basketball</th>\n",
       "      <th>SoccerPenalty</th>\n",
       "    </tr>\n",
       "  </thead>\n",
       "  <tbody>\n",
       "    <tr>\n",
       "      <th>0</th>\n",
       "      <td>1</td>\n",
       "      <td>0</td>\n",
       "    </tr>\n",
       "    <tr>\n",
       "      <th>1</th>\n",
       "      <td>1</td>\n",
       "      <td>0</td>\n",
       "    </tr>\n",
       "    <tr>\n",
       "      <th>2</th>\n",
       "      <td>1</td>\n",
       "      <td>0</td>\n",
       "    </tr>\n",
       "    <tr>\n",
       "      <th>3</th>\n",
       "      <td>1</td>\n",
       "      <td>0</td>\n",
       "    </tr>\n",
       "    <tr>\n",
       "      <th>4</th>\n",
       "      <td>1</td>\n",
       "      <td>0</td>\n",
       "    </tr>\n",
       "    <tr>\n",
       "      <th>...</th>\n",
       "      <td>...</td>\n",
       "      <td>...</td>\n",
       "    </tr>\n",
       "    <tr>\n",
       "      <th>2067</th>\n",
       "      <td>0</td>\n",
       "      <td>1</td>\n",
       "    </tr>\n",
       "    <tr>\n",
       "      <th>2068</th>\n",
       "      <td>0</td>\n",
       "      <td>1</td>\n",
       "    </tr>\n",
       "    <tr>\n",
       "      <th>2069</th>\n",
       "      <td>0</td>\n",
       "      <td>1</td>\n",
       "    </tr>\n",
       "    <tr>\n",
       "      <th>2070</th>\n",
       "      <td>0</td>\n",
       "      <td>1</td>\n",
       "    </tr>\n",
       "    <tr>\n",
       "      <th>2071</th>\n",
       "      <td>0</td>\n",
       "      <td>1</td>\n",
       "    </tr>\n",
       "  </tbody>\n",
       "</table>\n",
       "<p>2072 rows × 2 columns</p>\n",
       "</div>"
      ],
      "text/plain": [
       "      Basketball  SoccerPenalty\n",
       "0              1              0\n",
       "1              1              0\n",
       "2              1              0\n",
       "3              1              0\n",
       "4              1              0\n",
       "...          ...            ...\n",
       "2067           0              1\n",
       "2068           0              1\n",
       "2069           0              1\n",
       "2070           0              1\n",
       "2071           0              1\n",
       "\n",
       "[2072 rows x 2 columns]"
      ]
     },
     "execution_count": 42,
     "metadata": {},
     "output_type": "execute_result"
    }
   ],
   "source": [
    "y"
   ]
  },
  {
   "cell_type": "code",
   "execution_count": null,
   "metadata": {},
   "outputs": [],
   "source": []
  },
  {
   "cell_type": "markdown",
   "metadata": {},
   "source": [
    "### Example"
   ]
  },
  {
   "cell_type": "code",
   "execution_count": 43,
   "metadata": {},
   "outputs": [
    {
     "data": {
      "text/plain": [
       "'v_Basketball_g01_c02.avi'"
      ]
     },
     "execution_count": 43,
     "metadata": {},
     "output_type": "execute_result"
    }
   ],
   "source": [
    "testSetVDOlist[1]"
   ]
  },
  {
   "cell_type": "code",
   "execution_count": 44,
   "metadata": {},
   "outputs": [
    {
     "data": {
      "text/html": [
       "<div>\n",
       "<style scoped>\n",
       "    .dataframe tbody tr th:only-of-type {\n",
       "        vertical-align: middle;\n",
       "    }\n",
       "\n",
       "    .dataframe tbody tr th {\n",
       "        vertical-align: top;\n",
       "    }\n",
       "\n",
       "    .dataframe thead th {\n",
       "        text-align: right;\n",
       "    }\n",
       "</style>\n",
       "<table border=\"1\" class=\"dataframe\">\n",
       "  <thead>\n",
       "    <tr style=\"text-align: right;\">\n",
       "      <th></th>\n",
       "      <th>FrameFilename</th>\n",
       "      <th>FullPathName</th>\n",
       "      <th>class</th>\n",
       "    </tr>\n",
       "  </thead>\n",
       "  <tbody>\n",
       "    <tr>\n",
       "      <th>5</th>\n",
       "      <td>v_Basketball_g01_c02.avi</td>\n",
       "      <td>C:/1-GG/CAP4/EventDetection/1-ExampleSetting\\V...</td>\n",
       "      <td>Basketball</td>\n",
       "    </tr>\n",
       "    <tr>\n",
       "      <th>6</th>\n",
       "      <td>v_Basketball_g01_c02.avi</td>\n",
       "      <td>C:/1-GG/CAP4/EventDetection/1-ExampleSetting\\V...</td>\n",
       "      <td>Basketball</td>\n",
       "    </tr>\n",
       "    <tr>\n",
       "      <th>7</th>\n",
       "      <td>v_Basketball_g01_c02.avi</td>\n",
       "      <td>C:/1-GG/CAP4/EventDetection/1-ExampleSetting\\V...</td>\n",
       "      <td>Basketball</td>\n",
       "    </tr>\n",
       "    <tr>\n",
       "      <th>8</th>\n",
       "      <td>v_Basketball_g01_c02.avi</td>\n",
       "      <td>C:/1-GG/CAP4/EventDetection/1-ExampleSetting\\V...</td>\n",
       "      <td>Basketball</td>\n",
       "    </tr>\n",
       "    <tr>\n",
       "      <th>9</th>\n",
       "      <td>v_Basketball_g01_c02.avi</td>\n",
       "      <td>C:/1-GG/CAP4/EventDetection/1-ExampleSetting\\V...</td>\n",
       "      <td>Basketball</td>\n",
       "    </tr>\n",
       "  </tbody>\n",
       "</table>\n",
       "</div>"
      ],
      "text/plain": [
       "              FrameFilename  \\\n",
       "5  v_Basketball_g01_c02.avi   \n",
       "6  v_Basketball_g01_c02.avi   \n",
       "7  v_Basketball_g01_c02.avi   \n",
       "8  v_Basketball_g01_c02.avi   \n",
       "9  v_Basketball_g01_c02.avi   \n",
       "\n",
       "                                        FullPathName       class  \n",
       "5  C:/1-GG/CAP4/EventDetection/1-ExampleSetting\\V...  Basketball  \n",
       "6  C:/1-GG/CAP4/EventDetection/1-ExampleSetting\\V...  Basketball  \n",
       "7  C:/1-GG/CAP4/EventDetection/1-ExampleSetting\\V...  Basketball  \n",
       "8  C:/1-GG/CAP4/EventDetection/1-ExampleSetting\\V...  Basketball  \n",
       "9  C:/1-GG/CAP4/EventDetection/1-ExampleSetting\\V...  Basketball  "
      ]
     },
     "execution_count": 44,
     "metadata": {},
     "output_type": "execute_result"
    }
   ],
   "source": [
    "temp_df = testFrames.loc[(testFrames.FrameFilename == testSetVDOlist[1])]\n",
    "temp_df.head()"
   ]
  },
  {
   "cell_type": "code",
   "execution_count": 45,
   "metadata": {},
   "outputs": [
    {
     "data": {
      "text/html": [
       "<div>\n",
       "<style scoped>\n",
       "    .dataframe tbody tr th:only-of-type {\n",
       "        vertical-align: middle;\n",
       "    }\n",
       "\n",
       "    .dataframe tbody tr th {\n",
       "        vertical-align: top;\n",
       "    }\n",
       "\n",
       "    .dataframe thead th {\n",
       "        text-align: right;\n",
       "    }\n",
       "</style>\n",
       "<table border=\"1\" class=\"dataframe\">\n",
       "  <thead>\n",
       "    <tr style=\"text-align: right;\">\n",
       "      <th></th>\n",
       "      <th>FrameFilename</th>\n",
       "      <th>FullPathName</th>\n",
       "      <th>class</th>\n",
       "    </tr>\n",
       "  </thead>\n",
       "  <tbody>\n",
       "    <tr>\n",
       "      <th>0</th>\n",
       "      <td>v_Basketball_g01_c02.avi</td>\n",
       "      <td>C:/1-GG/CAP4/EventDetection/1-ExampleSetting\\V...</td>\n",
       "      <td>Basketball</td>\n",
       "    </tr>\n",
       "    <tr>\n",
       "      <th>1</th>\n",
       "      <td>v_Basketball_g01_c02.avi</td>\n",
       "      <td>C:/1-GG/CAP4/EventDetection/1-ExampleSetting\\V...</td>\n",
       "      <td>Basketball</td>\n",
       "    </tr>\n",
       "    <tr>\n",
       "      <th>2</th>\n",
       "      <td>v_Basketball_g01_c02.avi</td>\n",
       "      <td>C:/1-GG/CAP4/EventDetection/1-ExampleSetting\\V...</td>\n",
       "      <td>Basketball</td>\n",
       "    </tr>\n",
       "    <tr>\n",
       "      <th>3</th>\n",
       "      <td>v_Basketball_g01_c02.avi</td>\n",
       "      <td>C:/1-GG/CAP4/EventDetection/1-ExampleSetting\\V...</td>\n",
       "      <td>Basketball</td>\n",
       "    </tr>\n",
       "    <tr>\n",
       "      <th>4</th>\n",
       "      <td>v_Basketball_g01_c02.avi</td>\n",
       "      <td>C:/1-GG/CAP4/EventDetection/1-ExampleSetting\\V...</td>\n",
       "      <td>Basketball</td>\n",
       "    </tr>\n",
       "  </tbody>\n",
       "</table>\n",
       "</div>"
      ],
      "text/plain": [
       "              FrameFilename  \\\n",
       "0  v_Basketball_g01_c02.avi   \n",
       "1  v_Basketball_g01_c02.avi   \n",
       "2  v_Basketball_g01_c02.avi   \n",
       "3  v_Basketball_g01_c02.avi   \n",
       "4  v_Basketball_g01_c02.avi   \n",
       "\n",
       "                                        FullPathName       class  \n",
       "0  C:/1-GG/CAP4/EventDetection/1-ExampleSetting\\V...  Basketball  \n",
       "1  C:/1-GG/CAP4/EventDetection/1-ExampleSetting\\V...  Basketball  \n",
       "2  C:/1-GG/CAP4/EventDetection/1-ExampleSetting\\V...  Basketball  \n",
       "3  C:/1-GG/CAP4/EventDetection/1-ExampleSetting\\V...  Basketball  \n",
       "4  C:/1-GG/CAP4/EventDetection/1-ExampleSetting\\V...  Basketball  "
      ]
     },
     "execution_count": 45,
     "metadata": {},
     "output_type": "execute_result"
    }
   ],
   "source": [
    "temp_df = temp_df.reset_index(drop=True)  # reset index\n",
    "temp_df.head()"
   ]
  },
  {
   "cell_type": "code",
   "execution_count": 46,
   "metadata": {},
   "outputs": [
    {
     "name": "stdout",
     "output_type": "stream",
     "text": [
      "Basketball\n"
     ]
    }
   ],
   "source": [
    "print(temp_df['class'][0])"
   ]
  },
  {
   "cell_type": "code",
   "execution_count": 47,
   "metadata": {},
   "outputs": [
    {
     "name": "stdout",
     "output_type": "stream",
     "text": [
      "v_Basketball_g01_c01.avi\n",
      "Basketball\n",
      "v_Basketball_g01_c02.avi\n",
      "Basketball\n",
      "v_Basketball_g01_c03.avi\n",
      "Basketball\n",
      "v_Basketball_g01_c04.avi\n",
      "Basketball\n",
      "v_Basketball_g01_c05.avi\n",
      "Basketball\n",
      "v_Basketball_g01_c06.avi\n",
      "Basketball\n",
      "v_Basketball_g01_c07.avi\n",
      "Basketball\n",
      "v_Basketball_g02_c01.avi\n",
      "Basketball\n",
      "v_Basketball_g02_c02.avi\n",
      "Basketball\n",
      "v_Basketball_g02_c03.avi\n",
      "Basketball\n",
      "v_Basketball_g02_c04.avi\n",
      "Basketball\n",
      "v_Basketball_g02_c05.avi\n",
      "Basketball\n",
      "v_Basketball_g02_c06.avi\n",
      "Basketball\n",
      "v_Basketball_g03_c01.avi\n",
      "Basketball\n",
      "v_Basketball_g03_c02.avi\n",
      "Basketball\n",
      "v_Basketball_g03_c03.avi\n",
      "Basketball\n",
      "v_Basketball_g03_c04.avi\n",
      "Basketball\n",
      "v_Basketball_g03_c05.avi\n",
      "Basketball\n",
      "v_Basketball_g03_c06.avi\n",
      "Basketball\n",
      "v_Basketball_g04_c01.avi\n",
      "Basketball\n",
      "v_Basketball_g04_c02.avi\n",
      "Basketball\n",
      "v_Basketball_g04_c03.avi\n",
      "Basketball\n",
      "v_Basketball_g04_c04.avi\n",
      "Basketball\n",
      "v_Basketball_g05_c01.avi\n",
      "Basketball\n",
      "v_Basketball_g05_c02.avi\n",
      "Basketball\n",
      "v_Basketball_g05_c03.avi\n",
      "Basketball\n",
      "v_Basketball_g05_c04.avi\n",
      "Basketball\n",
      "v_Basketball_g06_c01.avi\n",
      "Basketball\n",
      "v_Basketball_g06_c02.avi\n",
      "Basketball\n",
      "v_Basketball_g06_c03.avi\n",
      "Basketball\n",
      "v_Basketball_g06_c04.avi\n",
      "Basketball\n",
      "v_Basketball_g07_c01.avi\n",
      "Basketball\n",
      "v_Basketball_g07_c02.avi\n",
      "Basketball\n",
      "v_Basketball_g07_c03.avi\n",
      "Basketball\n",
      "v_Basketball_g07_c04.avi\n",
      "Basketball\n",
      "v_SoccerPenalty_g01_c01.avi\n",
      "SoccerPenalty\n",
      "v_SoccerPenalty_g01_c02.avi\n",
      "SoccerPenalty\n",
      "v_SoccerPenalty_g01_c03.avi\n",
      "SoccerPenalty\n",
      "v_SoccerPenalty_g01_c04.avi\n",
      "SoccerPenalty\n",
      "v_SoccerPenalty_g01_c05.avi\n",
      "SoccerPenalty\n",
      "v_SoccerPenalty_g01_c06.avi\n",
      "SoccerPenalty\n",
      "v_SoccerPenalty_g02_c01.avi\n",
      "SoccerPenalty\n",
      "v_SoccerPenalty_g02_c02.avi\n",
      "SoccerPenalty\n",
      "v_SoccerPenalty_g02_c03.avi\n",
      "SoccerPenalty\n",
      "v_SoccerPenalty_g02_c04.avi\n",
      "SoccerPenalty\n",
      "v_SoccerPenalty_g02_c05.avi\n",
      "SoccerPenalty\n",
      "v_SoccerPenalty_g03_c01.avi\n",
      "SoccerPenalty\n",
      "v_SoccerPenalty_g03_c02.avi\n",
      "SoccerPenalty\n",
      "v_SoccerPenalty_g03_c03.avi\n",
      "SoccerPenalty\n",
      "v_SoccerPenalty_g03_c04.avi\n",
      "SoccerPenalty\n",
      "v_SoccerPenalty_g03_c05.avi\n",
      "SoccerPenalty\n",
      "v_SoccerPenalty_g04_c01.avi\n",
      "SoccerPenalty\n",
      "v_SoccerPenalty_g04_c02.avi\n",
      "SoccerPenalty\n",
      "v_SoccerPenalty_g04_c03.avi\n",
      "SoccerPenalty\n",
      "v_SoccerPenalty_g04_c04.avi\n",
      "SoccerPenalty\n",
      "v_SoccerPenalty_g04_c05.avi\n",
      "SoccerPenalty\n",
      "v_SoccerPenalty_g05_c01.avi\n",
      "SoccerPenalty\n",
      "v_SoccerPenalty_g05_c02.avi\n",
      "SoccerPenalty\n",
      "v_SoccerPenalty_g05_c03.avi\n",
      "SoccerPenalty\n",
      "v_SoccerPenalty_g05_c04.avi\n",
      "SoccerPenalty\n",
      "v_SoccerPenalty_g05_c05.avi\n",
      "SoccerPenalty\n",
      "v_SoccerPenalty_g05_c06.avi\n",
      "SoccerPenalty\n",
      "v_SoccerPenalty_g05_c07.avi\n",
      "SoccerPenalty\n",
      "v_SoccerPenalty_g06_c01.avi\n",
      "SoccerPenalty\n",
      "v_SoccerPenalty_g06_c02.avi\n",
      "SoccerPenalty\n",
      "v_SoccerPenalty_g06_c03.avi\n",
      "SoccerPenalty\n",
      "v_SoccerPenalty_g06_c04.avi\n",
      "SoccerPenalty\n",
      "v_SoccerPenalty_g06_c05.avi\n",
      "SoccerPenalty\n",
      "v_SoccerPenalty_g06_c06.avi\n",
      "SoccerPenalty\n",
      "v_SoccerPenalty_g06_c07.avi\n",
      "SoccerPenalty\n",
      "v_SoccerPenalty_g07_c01.avi\n",
      "SoccerPenalty\n",
      "v_SoccerPenalty_g07_c02.avi\n",
      "SoccerPenalty\n",
      "v_SoccerPenalty_g07_c03.avi\n",
      "SoccerPenalty\n",
      "v_SoccerPenalty_g07_c04.avi\n",
      "SoccerPenalty\n",
      "v_SoccerPenalty_g07_c05.avi\n",
      "SoccerPenalty\n",
      "v_SoccerPenalty_g07_c06.avi\n",
      "SoccerPenalty\n"
     ]
    }
   ],
   "source": [
    "\n",
    "    \n",
    "for i in range(len(testSetVDOlist)):\n",
    "    print(testSetVDOlist[i])\n",
    "    temp_df = testFrames.loc[(testFrames.FrameFilename == testSetVDOlist[i])]\n",
    "    temp_df = temp_df.reset_index(drop=True)  # reset index\n",
    "    print(temp_df['class'][0])\n",
    "    #print(temp_df.shape)"
   ]
  },
  {
   "cell_type": "code",
   "execution_count": 48,
   "metadata": {},
   "outputs": [
    {
     "data": {
      "text/html": [
       "<div>\n",
       "<style scoped>\n",
       "    .dataframe tbody tr th:only-of-type {\n",
       "        vertical-align: middle;\n",
       "    }\n",
       "\n",
       "    .dataframe tbody tr th {\n",
       "        vertical-align: top;\n",
       "    }\n",
       "\n",
       "    .dataframe thead th {\n",
       "        text-align: right;\n",
       "    }\n",
       "</style>\n",
       "<table border=\"1\" class=\"dataframe\">\n",
       "  <thead>\n",
       "    <tr style=\"text-align: right;\">\n",
       "      <th></th>\n",
       "      <th>FrameFilename</th>\n",
       "      <th>FullPathName</th>\n",
       "      <th>class</th>\n",
       "    </tr>\n",
       "  </thead>\n",
       "  <tbody>\n",
       "    <tr>\n",
       "      <th>0</th>\n",
       "      <td>v_SoccerPenalty_g07_c06.avi</td>\n",
       "      <td>C:/1-GG/CAP4/EventDetection/1-ExampleSetting\\V...</td>\n",
       "      <td>SoccerPenalty</td>\n",
       "    </tr>\n",
       "    <tr>\n",
       "      <th>1</th>\n",
       "      <td>v_SoccerPenalty_g07_c06.avi</td>\n",
       "      <td>C:/1-GG/CAP4/EventDetection/1-ExampleSetting\\V...</td>\n",
       "      <td>SoccerPenalty</td>\n",
       "    </tr>\n",
       "    <tr>\n",
       "      <th>2</th>\n",
       "      <td>v_SoccerPenalty_g07_c06.avi</td>\n",
       "      <td>C:/1-GG/CAP4/EventDetection/1-ExampleSetting\\V...</td>\n",
       "      <td>SoccerPenalty</td>\n",
       "    </tr>\n",
       "    <tr>\n",
       "      <th>3</th>\n",
       "      <td>v_SoccerPenalty_g07_c06.avi</td>\n",
       "      <td>C:/1-GG/CAP4/EventDetection/1-ExampleSetting\\V...</td>\n",
       "      <td>SoccerPenalty</td>\n",
       "    </tr>\n",
       "  </tbody>\n",
       "</table>\n",
       "</div>"
      ],
      "text/plain": [
       "                 FrameFilename  \\\n",
       "0  v_SoccerPenalty_g07_c06.avi   \n",
       "1  v_SoccerPenalty_g07_c06.avi   \n",
       "2  v_SoccerPenalty_g07_c06.avi   \n",
       "3  v_SoccerPenalty_g07_c06.avi   \n",
       "\n",
       "                                        FullPathName          class  \n",
       "0  C:/1-GG/CAP4/EventDetection/1-ExampleSetting\\V...  SoccerPenalty  \n",
       "1  C:/1-GG/CAP4/EventDetection/1-ExampleSetting\\V...  SoccerPenalty  \n",
       "2  C:/1-GG/CAP4/EventDetection/1-ExampleSetting\\V...  SoccerPenalty  \n",
       "3  C:/1-GG/CAP4/EventDetection/1-ExampleSetting\\V...  SoccerPenalty  "
      ]
     },
     "execution_count": 48,
     "metadata": {},
     "output_type": "execute_result"
    }
   ],
   "source": [
    "#print(temp_df['class'][i])\n",
    "temp_df.head()"
   ]
  },
  {
   "cell_type": "markdown",
   "metadata": {},
   "source": [
    "### end of Example"
   ]
  },
  {
   "cell_type": "code",
   "execution_count": 49,
   "metadata": {},
   "outputs": [
    {
     "name": "stderr",
     "output_type": "stream",
     "text": [
      "100%|████████████████████████████████████████████████████████████████████████████████████| 5/5 [00:00<00:00, 81.96it/s]\n"
     ]
    },
    {
     "name": "stdout",
     "output_type": "stream",
     "text": [
      "WARNING:tensorflow:From <ipython-input-49-132a12531729>:48: Sequential.predict_classes (from tensorflow.python.keras.engine.sequential) is deprecated and will be removed after 2021-01-01.\n",
      "Instructions for updating:\n",
      "Please use instead:* `np.argmax(model.predict(x), axis=-1)`,   if your model does multi-class classification   (e.g. if it uses a `softmax` last-layer activation).* `(model.predict(x) > 0.5).astype(\"int32\")`,   if your model does binary classification   (e.g. if it uses a `sigmoid` last-layer activation).\n"
     ]
    },
    {
     "name": "stderr",
     "output_type": "stream",
     "text": [
      "100%|████████████████████████████████████████████████████████████████████████████████████| 7/7 [00:00<00:00, 93.29it/s]\n",
      "100%|███████████████████████████████████████████████████████████████████████████████████| 8/8 [00:00<00:00, 108.10it/s]\n",
      "100%|███████████████████████████████████████████████████████████████████████████████████| 4/4 [00:00<00:00, 108.11it/s]\n",
      "100%|███████████████████████████████████████████████████████████████████████████████████| 5/5 [00:00<00:00, 108.69it/s]\n",
      "100%|███████████████████████████████████████████████████████████████████████████████████| 6/6 [00:00<00:00, 111.10it/s]\n",
      "100%|████████████████████████████████████████████████████████████████████████████████████| 4/4 [00:00<00:00, 99.98it/s]\n",
      "100%|███████████████████████████████████████████████████████████████████████████████████| 2/2 [00:00<00:00, 111.35it/s]\n",
      "100%|███████████████████████████████████████████████████████████████████████████████████| 2/2 [00:00<00:00, 117.65it/s]\n",
      "100%|███████████████████████████████████████████████████████████████████████████████████| 4/4 [00:00<00:00, 111.12it/s]\n",
      "100%|███████████████████████████████████████████████████████████████████████████████████| 3/3 [00:00<00:00, 103.46it/s]\n",
      "100%|████████████████████████████████████████████████████████████████████████████████████| 5/5 [00:00<00:00, 84.74it/s]\n",
      "100%|████████████████████████████████████████████████████████████████████████████████████| 5/5 [00:00<00:00, 96.15it/s]\n",
      "100%|████████████████████████████████████████████████████████████████████████████████████| 5/5 [00:00<00:00, 92.59it/s]\n",
      "100%|████████████████████████████████████████████████████████████████████████████████████| 5/5 [00:00<00:00, 89.29it/s]\n",
      "100%|████████████████████████████████████████████████████████████████████████████████████| 5/5 [00:00<00:00, 96.08it/s]\n",
      "100%|████████████████████████████████████████████████████████████████████████████████████| 3/3 [00:00<00:00, 93.65it/s]\n",
      "100%|███████████████████████████████████████████████████████████████████████████████████| 5/5 [00:00<00:00, 104.16it/s]\n",
      "100%|███████████████████████████████████████████████████████████████████████████████████| 3/3 [00:00<00:00, 107.13it/s]\n",
      "100%|████████████████████████████████████████████████████████████████████████████████████| 4/4 [00:00<00:00, 88.88it/s]\n",
      "100%|████████████████████████████████████████████████████████████████████████████████████| 4/4 [00:00<00:00, 90.91it/s]\n",
      "100%|████████████████████████████████████████████████████████████████████████████████████| 4/4 [00:00<00:00, 99.99it/s]\n",
      "100%|███████████████████████████████████████████████████████████████████████████████████| 3/3 [00:00<00:00, 100.00it/s]\n",
      "100%|███████████████████████████████████████████████████████████████████████████████████| 5/5 [00:00<00:00, 106.38it/s]\n",
      "100%|████████████████████████████████████████████████████████████████████████████████████| 4/4 [00:00<00:00, 81.58it/s]\n",
      "100%|███████████████████████████████████████████████████████████████████████████████████| 4/4 [00:00<00:00, 200.00it/s]\n",
      "100%|███████████████████████████████████████████████████████████████████████████████████| 3/3 [00:00<00:00, 111.11it/s]\n",
      "100%|████████████████████████████████████████████████████████████████████████████████████| 3/3 [00:00<00:00, 90.89it/s]\n",
      "100%|████████████████████████████████████████████████████████████████████████████████████| 4/4 [00:00<00:00, 95.22it/s]\n",
      "100%|███████████████████████████████████████████████████████████████████████████████████| 4/4 [00:00<00:00, 100.00it/s]\n",
      "100%|████████████████████████████████████████████████████████████████████████████████████| 3/3 [00:00<00:00, 99.99it/s]\n",
      "100%|███████████████████████████████████████████████████████████████████████████████████| 5/5 [00:00<00:00, 102.04it/s]\n",
      "100%|███████████████████████████████████████████████████████████████████████████████████| 4/4 [00:00<00:00, 105.26it/s]\n",
      "100%|████████████████████████████████████████████████████████████████████████████████████| 6/6 [00:00<00:00, 98.36it/s]\n",
      "100%|████████████████████████████████████████████████████████████████████████████████████| 4/4 [00:00<00:00, 81.68it/s]\n",
      "100%|████████████████████████████████████████████████████████████████████████████████████| 7/7 [00:00<00:00, 95.85it/s]\n",
      "100%|████████████████████████████████████████████████████████████████████████████████████| 6/6 [00:00<00:00, 95.19it/s]\n",
      "100%|████████████████████████████████████████████████████████████████████████████████████| 6/6 [00:00<00:00, 99.99it/s]\n",
      "100%|████████████████████████████████████████████████████████████████████████████████████| 6/6 [00:00<00:00, 99.99it/s]\n",
      "100%|███████████████████████████████████████████████████████████████████████████████████| 5/5 [00:00<00:00, 111.20it/s]\n",
      "100%|███████████████████████████████████████████████████████████████████████████████████| 4/4 [00:00<00:00, 111.11it/s]\n",
      "100%|████████████████████████████████████████████████████████████████████████████████████| 5/5 [00:00<00:00, 86.19it/s]\n",
      "100%|████████████████████████████████████████████████████████████████████████████████████| 4/4 [00:00<00:00, 88.88it/s]\n",
      "100%|████████████████████████████████████████████████████████████████████████████████████| 4/4 [00:00<00:00, 78.42it/s]\n",
      "100%|████████████████████████████████████████████████████████████████████████████████████| 5/5 [00:00<00:00, 64.93it/s]\n",
      "100%|████████████████████████████████████████████████████████████████████████████████████| 4/4 [00:00<00:00, 64.51it/s]\n",
      "100%|████████████████████████████████████████████████████████████████████████████████████| 4/4 [00:00<00:00, 72.72it/s]\n",
      "100%|████████████████████████████████████████████████████████████████████████████████████| 4/4 [00:00<00:00, 71.43it/s]\n",
      "100%|████████████████████████████████████████████████████████████████████████████████████| 6/6 [00:00<00:00, 62.50it/s]\n",
      "100%|████████████████████████████████████████████████████████████████████████████████████| 4/4 [00:00<00:00, 85.10it/s]\n",
      "100%|████████████████████████████████████████████████████████████████████████████████████| 3/3 [00:00<00:00, 71.42it/s]\n",
      "100%|████████████████████████████████████████████████████████████████████████████████████| 3/3 [00:00<00:00, 56.61it/s]\n",
      "100%|████████████████████████████████████████████████████████████████████████████████████| 3/3 [00:00<00:00, 44.11it/s]\n",
      "100%|████████████████████████████████████████████████████████████████████████████████████| 3/3 [00:00<00:00, 73.17it/s]\n",
      "100%|████████████████████████████████████████████████████████████████████████████████████| 4/4 [00:00<00:00, 78.43it/s]\n",
      "100%|████████████████████████████████████████████████████████████████████████████████████| 5/5 [00:00<00:00, 80.64it/s]\n",
      "100%|████████████████████████████████████████████████████████████████████████████████████| 4/4 [00:00<00:00, 88.89it/s]\n",
      "100%|████████████████████████████████████████████████████████████████████████████████████| 4/4 [00:00<00:00, 81.63it/s]\n",
      "100%|████████████████████████████████████████████████████████████████████████████████████| 4/4 [00:00<00:00, 99.99it/s]\n",
      "100%|███████████████████████████████████████████████████████████████████████████████████| 4/4 [00:00<00:00, 102.55it/s]\n",
      "100%|████████████████████████████████████████████████████████████████████████████████████| 4/4 [00:00<00:00, 93.02it/s]\n",
      "100%|███████████████████████████████████████████████████████████████████████████████████| 3/3 [00:00<00:00, 103.44it/s]\n",
      "100%|████████████████████████████████████████████████████████████████████████████████████| 6/6 [00:00<00:00, 86.95it/s]\n",
      "100%|████████████████████████████████████████████████████████████████████████████████████| 5/5 [00:00<00:00, 92.60it/s]\n",
      "100%|███████████████████████████████████████████████████████████████████████████████████| 2/2 [00:00<00:00, 100.00it/s]\n",
      "100%|████████████████████████████████████████████████████████████████████████████████████| 3/3 [00:00<00:00, 75.02it/s]\n",
      "100%|████████████████████████████████████████████████████████████████████████████████████| 3/3 [00:00<00:00, 75.01it/s]\n",
      "100%|████████████████████████████████████████████████████████████████████████████████████| 3/3 [00:00<00:00, 73.16it/s]\n",
      "100%|████████████████████████████████████████████████████████████████████████████████████| 4/4 [00:00<00:00, 71.43it/s]\n"
     ]
    },
    {
     "name": "stderr",
     "output_type": "stream",
     "text": [
      "100%|████████████████████████████████████████████████████████████████████████████████████| 3/3 [00:00<00:00, 83.35it/s]\n",
      "100%|████████████████████████████████████████████████████████████████████████████████████| 3/3 [00:00<00:00, 85.72it/s]\n",
      "100%|████████████████████████████████████████████████████████████████████████████████████| 6/6 [00:00<00:00, 92.32it/s]\n",
      "100%|███████████████████████████████████████████████████████████████████████████████████| 3/3 [00:00<00:00, 100.00it/s]\n",
      "100%|████████████████████████████████████████████████████████████████████████████████████| 3/3 [00:00<00:00, 93.76it/s]\n",
      "100%|███████████████████████████████████████████████████████████████████████████████████| 3/3 [00:00<00:00, 107.03it/s]\n",
      "100%|███████████████████████████████████████████████████████████████████████████████████| 4/4 [00:00<00:00, 100.00it/s]\n"
     ]
    }
   ],
   "source": [
    "# for loop to read and store test frames\n",
    "# creating two lists to store predicted and actual tags\n",
    "predict = []\n",
    "actual = []\n",
    "indent_variable   = []\n",
    "\n",
    "for i in range(len(testSetVDOlist)):\n",
    "    #print(testSetVDOlist[i])\n",
    "    temp_df = testFrames.loc[(testFrames.FrameFilename == testSetVDOlist[i])] # all frames of a particular vdo\n",
    "    temp_df = temp_df.reset_index(drop=True)  # reset index\n",
    "    #print(temp_df.shape)  \n",
    "   \n",
    "    prediction_images = []\n",
    "    \n",
    "    # appending the actual class of the video\n",
    "    \n",
    "    actual.append(temp_df['class'][0])\n",
    "    #print(\"Actual:\" , actual)\n",
    "\n",
    "    # appending the vdo file name as indent\n",
    "    indent_variable.append(temp_df['FrameFilename'][0])\n",
    "    #print(\"Indent:\" ,indent_variable)\n",
    "\n",
    "    for i in tqdm(range(temp_df.shape[0])):  ### Loop through all frames of a particular vdo\n",
    "        \n",
    " \n",
    "        # loading the image and keeping the target size as (224,224,3)\n",
    "        img = image.load_img(temp_df['FullPathName'][i], target_size=(224,224,3))\n",
    "        # converting it to array\n",
    "        img = image.img_to_array(img)\n",
    "        # normalizing the pixel value\n",
    "        img = img/255\n",
    "        # appending the image to the image list\n",
    "        prediction_images.append(img)\n",
    "        #print(\"Prediction:\" , prediction_images)\n",
    "        \n",
    "    # converting the list to numpy array\n",
    "    prediction_images = np.array(prediction_images)\n",
    "\n",
    "    # extracting features using pre-trained model\n",
    "    prediction_images = base_model.predict(prediction_images)\n",
    "\n",
    "    # converting features in one dimensional array\n",
    "    prediction_images = prediction_images.reshape(prediction_images.shape[0], 7*7*512)\n",
    "\n",
    "    # predicting class for each array.\n",
    "    # predict_classes() function on model in order to predict the class values for each instance in the array.\n",
    "    prediction = model.predict_classes(prediction_images)\n",
    "    #print(\"Prediction:\" , prediction)\n",
    "    # appending the mode of predictions (Class that occurs on highest frrequency) in predict list to assign the class to the video\n",
    "    predict.append(y.columns.values[s.mode(prediction)[0][0]])\n",
    "\n"
   ]
  },
  {
   "cell_type": "code",
   "execution_count": 50,
   "metadata": {},
   "outputs": [
    {
     "data": {
      "text/plain": [
       "array([1, 1, 0, 0], dtype=int64)"
      ]
     },
     "execution_count": 50,
     "metadata": {},
     "output_type": "execute_result"
    }
   ],
   "source": [
    "prediction"
   ]
  },
  {
   "cell_type": "code",
   "execution_count": 51,
   "metadata": {},
   "outputs": [
    {
     "data": {
      "text/plain": [
       "'Basketball'"
      ]
     },
     "execution_count": 51,
     "metadata": {},
     "output_type": "execute_result"
    }
   ],
   "source": [
    "y.columns.values[s.mode(prediction)[0][0]]"
   ]
  },
  {
   "cell_type": "code",
   "execution_count": 52,
   "metadata": {},
   "outputs": [
    {
     "data": {
      "text/html": [
       "<div>\n",
       "<style scoped>\n",
       "    .dataframe tbody tr th:only-of-type {\n",
       "        vertical-align: middle;\n",
       "    }\n",
       "\n",
       "    .dataframe tbody tr th {\n",
       "        vertical-align: top;\n",
       "    }\n",
       "\n",
       "    .dataframe thead th {\n",
       "        text-align: right;\n",
       "    }\n",
       "</style>\n",
       "<table border=\"1\" class=\"dataframe\">\n",
       "  <thead>\n",
       "    <tr style=\"text-align: right;\">\n",
       "      <th></th>\n",
       "      <th>VdOFileName</th>\n",
       "      <th>ActualClass</th>\n",
       "      <th>PredictedClass</th>\n",
       "    </tr>\n",
       "  </thead>\n",
       "  <tbody>\n",
       "    <tr>\n",
       "      <th>0</th>\n",
       "      <td>v_Basketball_g01_c01.avi</td>\n",
       "      <td>Basketball</td>\n",
       "      <td>Basketball</td>\n",
       "    </tr>\n",
       "    <tr>\n",
       "      <th>1</th>\n",
       "      <td>v_Basketball_g01_c02.avi</td>\n",
       "      <td>Basketball</td>\n",
       "      <td>Basketball</td>\n",
       "    </tr>\n",
       "    <tr>\n",
       "      <th>2</th>\n",
       "      <td>v_Basketball_g01_c03.avi</td>\n",
       "      <td>Basketball</td>\n",
       "      <td>Basketball</td>\n",
       "    </tr>\n",
       "    <tr>\n",
       "      <th>3</th>\n",
       "      <td>v_Basketball_g01_c04.avi</td>\n",
       "      <td>Basketball</td>\n",
       "      <td>Basketball</td>\n",
       "    </tr>\n",
       "    <tr>\n",
       "      <th>4</th>\n",
       "      <td>v_Basketball_g01_c05.avi</td>\n",
       "      <td>Basketball</td>\n",
       "      <td>Basketball</td>\n",
       "    </tr>\n",
       "    <tr>\n",
       "      <th>...</th>\n",
       "      <td>...</td>\n",
       "      <td>...</td>\n",
       "      <td>...</td>\n",
       "    </tr>\n",
       "    <tr>\n",
       "      <th>71</th>\n",
       "      <td>v_SoccerPenalty_g07_c02.avi</td>\n",
       "      <td>SoccerPenalty</td>\n",
       "      <td>SoccerPenalty</td>\n",
       "    </tr>\n",
       "    <tr>\n",
       "      <th>72</th>\n",
       "      <td>v_SoccerPenalty_g07_c03.avi</td>\n",
       "      <td>SoccerPenalty</td>\n",
       "      <td>SoccerPenalty</td>\n",
       "    </tr>\n",
       "    <tr>\n",
       "      <th>73</th>\n",
       "      <td>v_SoccerPenalty_g07_c04.avi</td>\n",
       "      <td>SoccerPenalty</td>\n",
       "      <td>SoccerPenalty</td>\n",
       "    </tr>\n",
       "    <tr>\n",
       "      <th>74</th>\n",
       "      <td>v_SoccerPenalty_g07_c05.avi</td>\n",
       "      <td>SoccerPenalty</td>\n",
       "      <td>SoccerPenalty</td>\n",
       "    </tr>\n",
       "    <tr>\n",
       "      <th>75</th>\n",
       "      <td>v_SoccerPenalty_g07_c06.avi</td>\n",
       "      <td>SoccerPenalty</td>\n",
       "      <td>Basketball</td>\n",
       "    </tr>\n",
       "  </tbody>\n",
       "</table>\n",
       "<p>76 rows × 3 columns</p>\n",
       "</div>"
      ],
      "text/plain": [
       "                    VdOFileName    ActualClass PredictedClass\n",
       "0      v_Basketball_g01_c01.avi     Basketball     Basketball\n",
       "1      v_Basketball_g01_c02.avi     Basketball     Basketball\n",
       "2      v_Basketball_g01_c03.avi     Basketball     Basketball\n",
       "3      v_Basketball_g01_c04.avi     Basketball     Basketball\n",
       "4      v_Basketball_g01_c05.avi     Basketball     Basketball\n",
       "..                          ...            ...            ...\n",
       "71  v_SoccerPenalty_g07_c02.avi  SoccerPenalty  SoccerPenalty\n",
       "72  v_SoccerPenalty_g07_c03.avi  SoccerPenalty  SoccerPenalty\n",
       "73  v_SoccerPenalty_g07_c04.avi  SoccerPenalty  SoccerPenalty\n",
       "74  v_SoccerPenalty_g07_c05.avi  SoccerPenalty  SoccerPenalty\n",
       "75  v_SoccerPenalty_g07_c06.avi  SoccerPenalty     Basketball\n",
       "\n",
       "[76 rows x 3 columns]"
      ]
     },
     "execution_count": 52,
     "metadata": {},
     "output_type": "execute_result"
    }
   ],
   "source": [
    "# Calling DataFrame constructor after zipping\n",
    "# both lists, with columns specified\n",
    "EvalFinalOutput = pd.DataFrame(list(zip(indent_variable, actual ,predict )),\n",
    "               columns =['VdOFileName', 'ActualClass' , 'PredictedClass'])\n",
    "EvalFinalOutput"
   ]
  },
  {
   "cell_type": "code",
   "execution_count": 53,
   "metadata": {},
   "outputs": [],
   "source": [
    "EvalFinalOutput.to_csv(RootFolder+'/EvalFinalOutput.csv',header=True, index=False)"
   ]
  },
  {
   "cell_type": "code",
   "execution_count": null,
   "metadata": {},
   "outputs": [],
   "source": []
  }
 ],
 "metadata": {
  "kernelspec": {
   "display_name": "Python 3",
   "language": "python",
   "name": "python3"
  },
  "language_info": {
   "codemirror_mode": {
    "name": "ipython",
    "version": 3
   },
   "file_extension": ".py",
   "mimetype": "text/x-python",
   "name": "python",
   "nbconvert_exporter": "python",
   "pygments_lexer": "ipython3",
   "version": "3.7.4"
  }
 },
 "nbformat": 4,
 "nbformat_minor": 4
}
