{
 "cells": [
  {
   "cell_type": "markdown",
   "metadata": {},
   "source": [
    "### Training the Video Classification Model"
   ]
  },
  {
   "cell_type": "markdown",
   "metadata": {},
   "source": [
    "### This script does - VGG16"
   ]
  },
  {
   "cell_type": "code",
   "execution_count": 1,
   "metadata": {},
   "outputs": [
    {
     "name": "stderr",
     "output_type": "stream",
     "text": [
      "C:\\Users\\jaghos\\AppData\\Local\\Continuum\\anaconda3\\lib\\site-packages\\numpy\\_distributor_init.py:32: UserWarning: loaded more than 1 DLL from .libs:\n",
      "C:\\Users\\jaghos\\AppData\\Local\\Continuum\\anaconda3\\lib\\site-packages\\numpy\\.libs\\libopenblas.GK7GX5KEQ4F6UYO3P26ULGBQYHGQO7J4.gfortran-win_amd64.dll\n",
      "C:\\Users\\jaghos\\AppData\\Local\\Continuum\\anaconda3\\lib\\site-packages\\numpy\\.libs\\libopenblas.IPBC74C7KURV7CB2PKT5Z5FNR3SIBV4J.gfortran-win_amd64.dll\n",
      "  stacklevel=1)\n",
      "Using TensorFlow backend.\n"
     ]
    }
   ],
   "source": [
    "import keras\n",
    "from keras.models import Sequential\n",
    "from keras.applications.vgg16 import VGG16\n",
    "from keras.layers import Dense, InputLayer, Dropout, Flatten\n",
    "from keras.layers import Conv2D, MaxPooling2D, GlobalMaxPooling2D\n",
    "from keras.preprocessing import image\n",
    "import numpy as np\n",
    "import pandas as pd\n",
    "import matplotlib.pyplot as plt\n",
    "from tqdm import tqdm\n",
    "from sklearn.model_selection import train_test_split\n",
    "\n",
    "import pickle\n",
    "\n",
    "import time\n",
    "\n",
    "\n",
    " \n",
    "\n",
    "\n"
   ]
  },
  {
   "cell_type": "code",
   "execution_count": 2,
   "metadata": {},
   "outputs": [],
   "source": [
    "Drive = \"C:\"\n",
    "## Define root folder\n",
    "RootFolder = Drive+\"/1-GG/CAP4/EventDetection/1-ExampleSetting/OutputFiles\"\n",
    "\n",
    "\n"
   ]
  },
  {
   "cell_type": "code",
   "execution_count": 3,
   "metadata": {},
   "outputs": [
    {
     "data": {
      "text/html": [
       "<div>\n",
       "<style scoped>\n",
       "    .dataframe tbody tr th:only-of-type {\n",
       "        vertical-align: middle;\n",
       "    }\n",
       "\n",
       "    .dataframe tbody tr th {\n",
       "        vertical-align: top;\n",
       "    }\n",
       "\n",
       "    .dataframe thead th {\n",
       "        text-align: right;\n",
       "    }\n",
       "</style>\n",
       "<table border=\"1\" class=\"dataframe\">\n",
       "  <thead>\n",
       "    <tr style=\"text-align: right;\">\n",
       "      <th></th>\n",
       "      <th>FrameFilename</th>\n",
       "      <th>FullPathName</th>\n",
       "      <th>class</th>\n",
       "    </tr>\n",
       "  </thead>\n",
       "  <tbody>\n",
       "    <tr>\n",
       "      <th>0</th>\n",
       "      <td>MoreBasketBallVdo.mp4</td>\n",
       "      <td>C:/1-GG/CAP4/EventDetection/1-ExampleSetting\\V...</td>\n",
       "      <td>Basketball</td>\n",
       "    </tr>\n",
       "    <tr>\n",
       "      <th>1</th>\n",
       "      <td>MoreBasketBallVdo.mp4</td>\n",
       "      <td>C:/1-GG/CAP4/EventDetection/1-ExampleSetting\\V...</td>\n",
       "      <td>Basketball</td>\n",
       "    </tr>\n",
       "    <tr>\n",
       "      <th>2</th>\n",
       "      <td>MoreBasketBallVdo.mp4</td>\n",
       "      <td>C:/1-GG/CAP4/EventDetection/1-ExampleSetting\\V...</td>\n",
       "      <td>Basketball</td>\n",
       "    </tr>\n",
       "    <tr>\n",
       "      <th>3</th>\n",
       "      <td>MoreBasketBallVdo.mp4</td>\n",
       "      <td>C:/1-GG/CAP4/EventDetection/1-ExampleSetting\\V...</td>\n",
       "      <td>Basketball</td>\n",
       "    </tr>\n",
       "    <tr>\n",
       "      <th>4</th>\n",
       "      <td>MoreBasketBallVdo.mp4</td>\n",
       "      <td>C:/1-GG/CAP4/EventDetection/1-ExampleSetting\\V...</td>\n",
       "      <td>Basketball</td>\n",
       "    </tr>\n",
       "  </tbody>\n",
       "</table>\n",
       "</div>"
      ],
      "text/plain": [
       "           FrameFilename                                       FullPathName  \\\n",
       "0  MoreBasketBallVdo.mp4  C:/1-GG/CAP4/EventDetection/1-ExampleSetting\\V...   \n",
       "1  MoreBasketBallVdo.mp4  C:/1-GG/CAP4/EventDetection/1-ExampleSetting\\V...   \n",
       "2  MoreBasketBallVdo.mp4  C:/1-GG/CAP4/EventDetection/1-ExampleSetting\\V...   \n",
       "3  MoreBasketBallVdo.mp4  C:/1-GG/CAP4/EventDetection/1-ExampleSetting\\V...   \n",
       "4  MoreBasketBallVdo.mp4  C:/1-GG/CAP4/EventDetection/1-ExampleSetting\\V...   \n",
       "\n",
       "        class  \n",
       "0  Basketball  \n",
       "1  Basketball  \n",
       "2  Basketball  \n",
       "3  Basketball  \n",
       "4  Basketball  "
      ]
     },
     "execution_count": 3,
     "metadata": {},
     "output_type": "execute_result"
    }
   ],
   "source": [
    "trainFrames  = pd.read_csv(RootFolder+\"/trainFrames.csv\")\n",
    "\n",
    "trainFrames.head()"
   ]
  },
  {
   "cell_type": "code",
   "execution_count": 4,
   "metadata": {
    "scrolled": true
   },
   "outputs": [
    {
     "data": {
      "text/plain": [
       "(2767, 3)"
      ]
     },
     "execution_count": 4,
     "metadata": {},
     "output_type": "execute_result"
    }
   ],
   "source": [
    "trainFrames.shape"
   ]
  },
  {
   "cell_type": "code",
   "execution_count": 5,
   "metadata": {},
   "outputs": [
    {
     "name": "stdout",
     "output_type": "stream",
     "text": [
      "['Basketball', 'SoccerPenalty']\n",
      "2\n"
     ]
    }
   ],
   "source": [
    "# Get the unique values of 'class' column - How many distinct classes\n",
    "model_class = trainFrames['class'].unique().tolist()\n",
    "print(model_class)\n",
    "model_output_size = len(model_class)\n",
    "print(model_output_size)\n"
   ]
  },
  {
   "cell_type": "code",
   "execution_count": 6,
   "metadata": {},
   "outputs": [
    {
     "data": {
      "text/plain": [
       "2767"
      ]
     },
     "execution_count": 6,
     "metadata": {},
     "output_type": "execute_result"
    }
   ],
   "source": [
    "trainFrames.shape[0]"
   ]
  },
  {
   "cell_type": "code",
   "execution_count": 7,
   "metadata": {},
   "outputs": [
    {
     "data": {
      "text/plain": [
       "'C:/1-GG/CAP4/EventDetection/1-ExampleSetting\\\\VDOFrames/MoreBasketBallVdo_frame0.jpg'"
      ]
     },
     "execution_count": 7,
     "metadata": {},
     "output_type": "execute_result"
    }
   ],
   "source": [
    "trainFrames['FullPathName'][0]"
   ]
  },
  {
   "cell_type": "code",
   "execution_count": null,
   "metadata": {},
   "outputs": [],
   "source": []
  },
  {
   "cell_type": "code",
   "execution_count": 8,
   "metadata": {},
   "outputs": [],
   "source": [
    "from keras.models import Sequential\n",
    "from keras.layers import Dense, Dropout, Flatten\n",
    "from keras.layers import Conv2D, MaxPooling2D\n",
    "from keras.preprocessing import image\n",
    "import numpy as np\n",
    "import pandas as pd\n",
    "from tqdm import tqdm\n",
    "from keras.applications.vgg16 import VGG16\n",
    "import cv2\n",
    "import math\n",
    "import os\n",
    "from glob import glob\n",
    "from scipy import stats as s\n",
    "\n",
    "from moviepy.editor import *   ###VideoFileClip\n",
    "\n",
    "\n",
    "## pafy, youtube-dl and moviepy packages to be installed\n",
    "##pip install pafy youtube-dl moviepy\n",
    "\n",
    "## Install open cv - make sure numpy already installed\n",
    "#pip install opencv-python\n",
    "#import pafy\n",
    "\n",
    "from moviepy.editor import *   ###VideoFileClip\n",
    "\n",
    "\n",
    "## pafy, youtube-dl and moviepy packages to be installed\n",
    "##pip install pafy youtube-dl moviepy\n",
    "\n",
    "## Install open cv - make sure numpy already installed\n",
    "#pip install opencv-python\n",
    "#import train_image "
   ]
  },
  {
   "cell_type": "code",
   "execution_count": 9,
   "metadata": {},
   "outputs": [
    {
     "name": "stderr",
     "output_type": "stream",
     "text": [
      "100%|█████████████████████████████████████████████████████████████████████████████| 2767/2767 [00:09<00:00, 301.14it/s]\n"
     ]
    },
    {
     "data": {
      "text/plain": [
       "(2767, 224, 224, 3)"
      ]
     },
     "execution_count": 9,
     "metadata": {},
     "output_type": "execute_result"
    }
   ],
   "source": [
    "train_image = []\n",
    "\n",
    "# for loop to read and store frames\n",
    "for i in tqdm(range(trainFrames.shape[0])):\n",
    "    # loading the image and keeping the target size as (224,224,3)\n",
    "    # three-dimensional array containing the red, green, and blue pixel intensities. \n",
    "    #Image has been reformated to be 224-by-224 pixels in size.\n",
    "    img = image.load_img(trainFrames['FullPathName'][i], target_size=(224,224,3))\n",
    "    #print(img.shape)\n",
    "    # converting it to array\n",
    "    img = image.img_to_array(img)\n",
    "    \n",
    "    # Normalize the resized frame by dividing it with 255 so that each pixel value then lies between 0 and 1\n",
    "    img = img/255\n",
    "    # appending the image to the train_image list\n",
    "    train_image.append(img)\n",
    "    \n",
    "# converting the list to numpy array\n",
    "X = np.array(train_image)\n",
    "\n",
    "# shape of the array\n",
    "X.shape"
   ]
  },
  {
   "cell_type": "code",
   "execution_count": 10,
   "metadata": {},
   "outputs": [],
   "source": [
    "# make sure that the distribution of each class is similar in both training and validation sets. \n",
    "# We can use the stratify parameter\n",
    "\n",
    "# separating the target\n",
    "y = trainFrames['class']\n",
    "\n",
    "# creating the training and validation set\n",
    "X_train, X_test, y_train, y_test = train_test_split(X, y, random_state=42, test_size=0.2, stratify = y)"
   ]
  },
  {
   "cell_type": "code",
   "execution_count": 11,
   "metadata": {},
   "outputs": [],
   "source": [
    "# creating dummies of target variable for train and validation set\n",
    "y_train = pd.get_dummies(y_train)\n",
    "y_test = pd.get_dummies(y_test)"
   ]
  },
  {
   "cell_type": "markdown",
   "metadata": {},
   "source": [
    "### Defining the architecture of the video classification model"
   ]
  },
  {
   "cell_type": "markdown",
   "metadata": {},
   "source": [
    "### VGG16 on ImageNet\n",
    "\n",
    "https://franky07724-57962.medium.com/using-keras-pre-trained-models-for-feature-extraction-in-image-clustering-a142c6cdf5b1\n",
    "\n",
    "\n",
    "#### Keras provides a set of state-of-the-art deep learning models along with pre-trained weights on ImageNet. These pre-trained models can be used for image classification, feature extraction, and transfer learning\n",
    "\n",
    "##### VGG16 refers to a VGG model with 16 weight layers, and VGG19 refers to a VGG model with 19 weight layers.  \n",
    "#####  1.The input layer takes an image in the size of (224 x 224 x 3), and the output layer is a softmax prediction on classes.\n",
    "\n",
    "#####  2.From the input layer to the last max pooling layer (labeled by 7 x 7 x 512) is regarded as the feature extraction part of the model, \n",
    "\n",
    "##### 3 while the rest of the network is regarded as the classification part of the model.\n",
    "\n",
    "## VGG-16 pre-trained model will be used\n",
    "### https://machinelearningmastery.com/use-pre-trained-vgg-model-classify-objects-photographs/"
   ]
  },
  {
   "cell_type": "code",
   "execution_count": null,
   "metadata": {},
   "outputs": [],
   "source": []
  },
  {
   "cell_type": "markdown",
   "metadata": {},
   "source": [
    "### creating the base model of pre-trained VGG16 model\n"
   ]
  },
  {
   "cell_type": "code",
   "execution_count": 12,
   "metadata": {},
   "outputs": [
    {
     "name": "stdout",
     "output_type": "stream",
     "text": [
      "Model: \"vgg16\"\n",
      "_________________________________________________________________\n",
      "Layer (type)                 Output Shape              Param #   \n",
      "=================================================================\n",
      "input_1 (InputLayer)         (None, None, None, 3)     0         \n",
      "_________________________________________________________________\n",
      "block1_conv1 (Conv2D)        (None, None, None, 64)    1792      \n",
      "_________________________________________________________________\n",
      "block1_conv2 (Conv2D)        (None, None, None, 64)    36928     \n",
      "_________________________________________________________________\n",
      "block1_pool (MaxPooling2D)   (None, None, None, 64)    0         \n",
      "_________________________________________________________________\n",
      "block2_conv1 (Conv2D)        (None, None, None, 128)   73856     \n",
      "_________________________________________________________________\n",
      "block2_conv2 (Conv2D)        (None, None, None, 128)   147584    \n",
      "_________________________________________________________________\n",
      "block2_pool (MaxPooling2D)   (None, None, None, 128)   0         \n",
      "_________________________________________________________________\n",
      "block3_conv1 (Conv2D)        (None, None, None, 256)   295168    \n",
      "_________________________________________________________________\n",
      "block3_conv2 (Conv2D)        (None, None, None, 256)   590080    \n",
      "_________________________________________________________________\n",
      "block3_conv3 (Conv2D)        (None, None, None, 256)   590080    \n",
      "_________________________________________________________________\n",
      "block3_pool (MaxPooling2D)   (None, None, None, 256)   0         \n",
      "_________________________________________________________________\n",
      "block4_conv1 (Conv2D)        (None, None, None, 512)   1180160   \n",
      "_________________________________________________________________\n",
      "block4_conv2 (Conv2D)        (None, None, None, 512)   2359808   \n",
      "_________________________________________________________________\n",
      "block4_conv3 (Conv2D)        (None, None, None, 512)   2359808   \n",
      "_________________________________________________________________\n",
      "block4_pool (MaxPooling2D)   (None, None, None, 512)   0         \n",
      "_________________________________________________________________\n",
      "block5_conv1 (Conv2D)        (None, None, None, 512)   2359808   \n",
      "_________________________________________________________________\n",
      "block5_conv2 (Conv2D)        (None, None, None, 512)   2359808   \n",
      "_________________________________________________________________\n",
      "block5_conv3 (Conv2D)        (None, None, None, 512)   2359808   \n",
      "_________________________________________________________________\n",
      "block5_pool (MaxPooling2D)   (None, None, None, 512)   0         \n",
      "=================================================================\n",
      "Total params: 14,714,688\n",
      "Trainable params: 14,714,688\n",
      "Non-trainable params: 0\n",
      "_________________________________________________________________\n"
     ]
    }
   ],
   "source": [
    "\n",
    "# creating the base model of pre-trained VGG16 model\n",
    "base_model = VGG16(weights='imagenet', include_top=False)\n",
    "\n",
    "### set include_top = False it overlooks the last 3 Fully Connected(FC) layers \n",
    "\n",
    "\n",
    "base_model.summary()"
   ]
  },
  {
   "cell_type": "markdown",
   "metadata": {},
   "source": [
    "### vgg16 (without last 3 Fully Connected(FC)) is an impressively large neural network. It has 14,714,688 parameters. \n",
    "To see all paratemer use \n",
    "vgg19_full = VGG19(weights='imagenet')\n",
    "vgg19_full.summary()"
   ]
  },
  {
   "cell_type": "code",
   "execution_count": 13,
   "metadata": {},
   "outputs": [
    {
     "name": "stdout",
     "output_type": "stream",
     "text": [
      "Wall time: 30.3 s\n"
     ]
    },
    {
     "data": {
      "text/plain": [
       "(2213, 7, 7, 512)"
      ]
     },
     "execution_count": 13,
     "metadata": {},
     "output_type": "execute_result"
    }
   ],
   "source": [
    "\n",
    "%%time\n",
    "# extracting features for training frames\n",
    "X_train = base_model.predict(X_train)\n",
    "X_train.shape\n"
   ]
  },
  {
   "cell_type": "code",
   "execution_count": 14,
   "metadata": {},
   "outputs": [
    {
     "name": "stdout",
     "output_type": "stream",
     "text": [
      "Wall time: 8.22 s\n"
     ]
    },
    {
     "data": {
      "text/plain": [
       "(554, 7, 7, 512)"
      ]
     },
     "execution_count": 14,
     "metadata": {},
     "output_type": "execute_result"
    }
   ],
   "source": [
    "%%time\n",
    "# extracting features for validation frames\n",
    "X_test = base_model.predict(X_test)\n",
    "X_test.shape\n"
   ]
  },
  {
   "cell_type": "code",
   "execution_count": 15,
   "metadata": {},
   "outputs": [
    {
     "name": "stdout",
     "output_type": "stream",
     "text": [
      "(2213, 7, 7, 512)\n",
      "(554, 7, 7, 512)\n"
     ]
    }
   ],
   "source": [
    "print(X_train.shape)\n",
    "print(X_test.shape)\n",
    " \n",
    "    "
   ]
  },
  {
   "cell_type": "markdown",
   "metadata": {},
   "source": [
    "There are 554 images in the test set and the shape of these images has also changed to (7, 7, 512). We will use a fully connected network now to fine-tune the model. This fully connected network takes input in single dimension. So, we will reshape the images into a single dimension:"
   ]
  },
  {
   "cell_type": "code",
   "execution_count": 16,
   "metadata": {},
   "outputs": [],
   "source": [
    "X_train = X_train.reshape(X_train.shape[0], 7*7*512)\n",
    "X_test = X_test.reshape(X_test.shape[0], 7*7*512)"
   ]
  },
  {
   "cell_type": "code",
   "execution_count": 17,
   "metadata": {},
   "outputs": [],
   "source": [
    "# normalize the pixel values, i.e., keep the pixel values between 0 and 1. This helps the model to converge faster."
   ]
  },
  {
   "cell_type": "code",
   "execution_count": 18,
   "metadata": {},
   "outputs": [
    {
     "data": {
      "text/plain": [
       "10.913846"
      ]
     },
     "execution_count": 18,
     "metadata": {},
     "output_type": "execute_result"
    }
   ],
   "source": [
    "X_train.max()"
   ]
  },
  {
   "cell_type": "code",
   "execution_count": 19,
   "metadata": {},
   "outputs": [],
   "source": [
    "max = X_train.max()\n",
    "X_train = X_train/max\n",
    "X_test = X_test/max"
   ]
  },
  {
   "cell_type": "code",
   "execution_count": 20,
   "metadata": {},
   "outputs": [
    {
     "data": {
      "text/plain": [
       "(2213, 25088)"
      ]
     },
     "execution_count": 20,
     "metadata": {},
     "output_type": "execute_result"
    }
   ],
   "source": [
    "# shape of images\n",
    "X_train.shape"
   ]
  },
  {
   "cell_type": "markdown",
   "metadata": {},
   "source": [
    "### Keras Neural Network Sequential Model\n",
    "##### More Info - https://faroit.com/keras-docs/1.0.1/getting-started/sequential-model-guide/"
   ]
  },
  {
   "cell_type": "code",
   "execution_count": 21,
   "metadata": {},
   "outputs": [],
   "source": [
    "#defining the model architecture\n",
    "model = Sequential()\n",
    "model.add(Dense(1024, activation='relu', input_shape=(25088,)))\n",
    "model.add(Dropout(0.5))\n",
    "model.add(Dense(512, activation='relu'))\n",
    "model.add(Dropout(0.5))\n",
    "model.add(Dense(256, activation='relu'))\n",
    "model.add(Dropout(0.5))\n",
    "model.add(Dense(128, activation='relu'))\n",
    "model.add(Dropout(0.5))\n",
    "model.add(Dense(model_output_size, activation='softmax'))  # model_output_size is 2 - already defined"
   ]
  },
  {
   "cell_type": "markdown",
   "metadata": {},
   "source": [
    "\n",
    "\n",
    "###### 1 x Dense layer of 1024 units\n",
    "\n",
    "###### 1 x Dense layer of 512 units\n",
    "###### 1 x Dense layer of 256 units\n",
    "###### 1 x Dense layer of 128 units\n",
    "\n",
    "\n",
    "#### RELU activation for first four dense layers of  units to stop forwarding negative values through the network.\n",
    "\n",
    "#### 2 unit dense layer in the end with softmax activation as there are 2 classes (model_output_size) to predict from in the end which are Basketball and SoccerPenalty. \n",
    "#### The softmax layer will output the value between 0 and 1 based on the confidence of the model that which class the images belongs to.\n",
    "\n",
    "## Dropout\n",
    "####   Usually, dropout is placed on the fully connected layers only because they are the one with the greater number of parameters and thus they're likely to excessively co-adapting themselves causing overfitting. However, since it's a stochastic regularization technique, you can really place it everywhere\n",
    "#####  Dropout here has been applied applied to hidden neurons in the body of network model.\n",
    "#### a dropout rate of 50% is used "
   ]
  },
  {
   "cell_type": "code",
   "execution_count": null,
   "metadata": {},
   "outputs": [],
   "source": []
  },
  {
   "cell_type": "code",
   "execution_count": null,
   "metadata": {},
   "outputs": [],
   "source": []
  },
  {
   "cell_type": "code",
   "execution_count": null,
   "metadata": {},
   "outputs": [],
   "source": []
  },
  {
   "cell_type": "code",
   "execution_count": 22,
   "metadata": {},
   "outputs": [
    {
     "name": "stdout",
     "output_type": "stream",
     "text": [
      "Model: \"sequential_1\"\n",
      "_________________________________________________________________\n",
      "Layer (type)                 Output Shape              Param #   \n",
      "=================================================================\n",
      "dense_1 (Dense)              (None, 1024)              25691136  \n",
      "_________________________________________________________________\n",
      "dropout_1 (Dropout)          (None, 1024)              0         \n",
      "_________________________________________________________________\n",
      "dense_2 (Dense)              (None, 512)               524800    \n",
      "_________________________________________________________________\n",
      "dropout_2 (Dropout)          (None, 512)               0         \n",
      "_________________________________________________________________\n",
      "dense_3 (Dense)              (None, 256)               131328    \n",
      "_________________________________________________________________\n",
      "dropout_3 (Dropout)          (None, 256)               0         \n",
      "_________________________________________________________________\n",
      "dense_4 (Dense)              (None, 128)               32896     \n",
      "_________________________________________________________________\n",
      "dropout_4 (Dropout)          (None, 128)               0         \n",
      "_________________________________________________________________\n",
      "dense_5 (Dense)              (None, 2)                 258       \n",
      "=================================================================\n",
      "Total params: 26,380,418\n",
      "Trainable params: 26,380,418\n",
      "Non-trainable params: 0\n",
      "_________________________________________________________________\n"
     ]
    }
   ],
   "source": [
    "# Printing the models summary\n",
    "model.summary()"
   ]
  },
  {
   "cell_type": "code",
   "execution_count": 24,
   "metadata": {},
   "outputs": [
    {
     "data": {
      "image/png": "[encoded data removed]",
      "text/plain": [
       "<IPython.core.display.Image object>"
      ]
     },
     "execution_count": 24,
     "metadata": {},
     "output_type": "execute_result"
    }
   ],
   "source": [
    "## Check Model architecture\n",
    "from tensorflow.keras.utils import plot_model\n",
    "plot_model(model, to_file = 'model_structure_plot.png', show_shapes = True, show_layer_names = True)"
   ]
  },
  {
   "cell_type": "markdown",
   "metadata": {},
   "source": [
    "#### ModelCheckpoint callback is used in conjunction with training using model.fit() to save a model or weights (in a checkpoint file) at some interval, so the model or weights can be loaded later to continue the training from the state saved.\n",
    "\n",
    "### -----\n",
    "\n",
    "### save_best_only: if save_best_only=True, it only saves when the model is considered the \"best\" and the latest best model according to the quantity monitored will not be overwritten\n",
    "\n",
    "### The metric name to monitormode: one of {'auto', 'min', 'max'}. If save_best_only=True, the decision to overwrite the current save file is made based on either the maximization or the minimization of the monitored quantity. For val_acc, this should be max, for val_loss this should be min\n",
    "\n",
    "#### mode: one of {'auto', 'min', 'max'}. If save_best_only=True, -- the decision to overwrite the current save file is made based on either the maximization or the minimization  of the monitored quantity. For val_acc, this should be max, for val_loss this should be min"
   ]
  },
  {
   "cell_type": "code",
   "execution_count": 25,
   "metadata": {},
   "outputs": [],
   "source": [
    "###Training the video classification model\n",
    "\n",
    "# defining a function to save the weights of best model\n",
    "### from keras.callbacks import EarlyStopping\n",
    "from keras.callbacks import ModelCheckpoint\n",
    "\n",
    "mcp_save = ModelCheckpoint('weight.hdf5', save_best_only=True, monitor='val_loss', mode='min')\n",
    "\n",
    "\n"
   ]
  },
  {
   "cell_type": "code",
   "execution_count": null,
   "metadata": {},
   "outputs": [],
   "source": []
  },
  {
   "cell_type": "markdown",
   "metadata": {},
   "source": [
    "#### using Adam optimiser "
   ]
  },
  {
   "cell_type": "code",
   "execution_count": 26,
   "metadata": {},
   "outputs": [],
   "source": [
    "# compiling the model - Adding loss, optimizer and metrics values to the model.\n",
    "model.compile(loss='categorical_crossentropy',optimizer='Adam',metrics=['accuracy'])\n",
    "\n"
   ]
  },
  {
   "cell_type": "code",
   "execution_count": 27,
   "metadata": {},
   "outputs": [
    {
     "name": "stdout",
     "output_type": "stream",
     "text": [
      "Train on 1770 samples, validate on 443 samples\n",
      "Epoch 1/20\n"
     ]
    },
    {
     "name": "stdout",
     "output_type": "stream",
     "text": [
      "1444/1770 [=======================>......] - ETA: 3:37 - loss: 0.6591 - accuracy: 0.50 - ETA: 1:22 - loss: 0.8406 - accuracy: 0.41 - ETA: 56s - loss: 0.8428 - accuracy: 0.4500 - ETA: 44s - loss: 0.8136 - accuracy: 0.500 - ETA: 38s - loss: 0.8807 - accuracy: 0.472 - ETA: 34s - loss: 0.8885 - accuracy: 0.454 - ETA: 31s - loss: 0.8668 - accuracy: 0.480 - ETA: 29s - loss: 0.8489 - accuracy: 0.516 - ETA: 27s - loss: 0.8188 - accuracy: 0.544 - ETA: 26s - loss: 0.8304 - accuracy: 0.578 - ETA: 25s - loss: 0.8665 - accuracy: 0.571 - ETA: 24s - loss: 0.8737 - accuracy: 0.587 - ETA: 23s - loss: 0.8476 - accuracy: 0.600 - ETA: 22s - loss: 1.0006 - accuracy: 0.574 - ETA: 22s - loss: 1.0467 - accuracy: 0.569 - ETA: 21s - loss: 1.1215 - accuracy: 0.556 - ETA: 21s - loss: 1.1403 - accuracy: 0.545 - ETA: 20s - loss: 1.1981 - accuracy: 0.528 - ETA: 20s - loss: 1.1485 - accuracy: 0.547 - ETA: 20s - loss: 1.1472 - accuracy: 0.538 - ETA: 19s - loss: 1.1463 - accuracy: 0.548 - ETA: 19s - loss: 1.1712 - accuracy: 0.534 - ETA: 19s - loss: 1.1657 - accuracy: 0.538 - ETA: 18s - loss: 1.1716 - accuracy: 0.542 - ETA: 18s - loss: 1.1633 - accuracy: 0.535 - ETA: 18s - loss: 1.1478 - accuracy: 0.529 - ETA: 18s - loss: 1.1807 - accuracy: 0.528 - ETA: 18s - loss: 1.1639 - accuracy: 0.531 - ETA: 17s - loss: 1.1461 - accuracy: 0.530 - ETA: 17s - loss: 1.1566 - accuracy: 0.529 - ETA: 17s - loss: 1.1433 - accuracy: 0.528 - ETA: 17s - loss: 1.1473 - accuracy: 0.527 - ETA: 17s - loss: 1.1377 - accuracy: 0.530 - ETA: 17s - loss: 1.1369 - accuracy: 0.534 - ETA: 17s - loss: 1.1393 - accuracy: 0.533 - ETA: 16s - loss: 1.1319 - accuracy: 0.535 - ETA: 16s - loss: 1.1140 - accuracy: 0.541 - ETA: 16s - loss: 1.1101 - accuracy: 0.537 - ETA: 16s - loss: 1.1135 - accuracy: 0.532 - ETA: 16s - loss: 1.0993 - accuracy: 0.538 - ETA: 16s - loss: 1.1086 - accuracy: 0.537 - ETA: 15s - loss: 1.1169 - accuracy: 0.533 - ETA: 15s - loss: 1.1045 - accuracy: 0.535 - ETA: 15s - loss: 1.0881 - accuracy: 0.543 - ETA: 15s - loss: 1.0802 - accuracy: 0.542 - ETA: 15s - loss: 1.0768 - accuracy: 0.538 - ETA: 15s - loss: 1.0619 - accuracy: 0.546 - ETA: 15s - loss: 1.0627 - accuracy: 0.545 - ETA: 15s - loss: 1.0712 - accuracy: 0.544 - ETA: 14s - loss: 1.0660 - accuracy: 0.543 - ETA: 14s - loss: 1.0719 - accuracy: 0.540 - ETA: 14s - loss: 1.0698 - accuracy: 0.541 - ETA: 14s - loss: 1.0658 - accuracy: 0.540 - ETA: 14s - loss: 1.0682 - accuracy: 0.535 - ETA: 14s - loss: 1.0656 - accuracy: 0.530 - ETA: 14s - loss: 1.0617 - accuracy: 0.529 - ETA: 14s - loss: 1.0592 - accuracy: 0.526 - ETA: 14s - loss: 1.0482 - accuracy: 0.530 - ETA: 13s - loss: 1.0516 - accuracy: 0.530 - ETA: 13s - loss: 1.0517 - accuracy: 0.529 - ETA: 13s - loss: 1.0439 - accuracy: 0.533 - ETA: 13s - loss: 1.0399 - accuracy: 0.534 - ETA: 13s - loss: 1.0395 - accuracy: 0.534 - ETA: 13s - loss: 1.0307 - accuracy: 0.537 - ETA: 13s - loss: 1.0287 - accuracy: 0.539 - ETA: 13s - loss: 1.0338 - accuracy: 0.538 - ETA: 13s - loss: 1.0292 - accuracy: 0.541 - ETA: 12s - loss: 1.0233 - accuracy: 0.541 - ETA: 12s - loss: 1.0197 - accuracy: 0.540 - ETA: 12s - loss: 1.0148 - accuracy: 0.539 - ETA: 12s - loss: 1.0093 - accuracy: 0.542 - ETA: 12s - loss: 1.0048 - accuracy: 0.544 - ETA: 12s - loss: 0.9973 - accuracy: 0.548 - ETA: 12s - loss: 0.9893 - accuracy: 0.551 - ETA: 12s - loss: 0.9896 - accuracy: 0.550 - ETA: 12s - loss: 0.9832 - accuracy: 0.551 - ETA: 12s - loss: 0.9755 - accuracy: 0.555 - ETA: 12s - loss: 0.9731 - accuracy: 0.555 - ETA: 11s - loss: 0.9670 - accuracy: 0.559 - ETA: 11s - loss: 0.9606 - accuracy: 0.561 - ETA: 11s - loss: 0.9529 - accuracy: 0.567 - ETA: 11s - loss: 0.9458 - accuracy: 0.571 - ETA: 11s - loss: 0.9384 - accuracy: 0.573 - ETA: 11s - loss: 0.9323 - accuracy: 0.576 - ETA: 11s - loss: 0.9270 - accuracy: 0.578 - ETA: 11s - loss: 0.9218 - accuracy: 0.577 - ETA: 11s - loss: 0.9140 - accuracy: 0.581 - ETA: 11s - loss: 0.9078 - accuracy: 0.586 - ETA: 11s - loss: 0.9052 - accuracy: 0.585 - ETA: 11s - loss: 0.8992 - accuracy: 0.588 - ETA: 10s - loss: 0.8940 - accuracy: 0.590 - ETA: 10s - loss: 0.8882 - accuracy: 0.593 - ETA: 10s - loss: 0.8820 - accuracy: 0.596 - ETA: 10s - loss: 0.8790 - accuracy: 0.598 - ETA: 10s - loss: 0.8726 - accuracy: 0.601 - ETA: 10s - loss: 0.8672 - accuracy: 0.602 - ETA: 10s - loss: 0.8605 - accuracy: 0.606 - ETA: 10s - loss: 0.8561 - accuracy: 0.608 - ETA: 10s - loss: 0.8507 - accuracy: 0.609 - ETA: 10s - loss: 0.8510 - accuracy: 0.608 - ETA: 10s - loss: 0.8453 - accuracy: 0.611 - ETA: 10s - loss: 0.8428 - accuracy: 0.611 - ETA: 9s - loss: 0.8376 - accuracy: 0.612 - ETA: 9s - loss: 0.8332 - accuracy: 0.61 - ETA: 9s - loss: 0.8304 - accuracy: 0.61 - ETA: 9s - loss: 0.8269 - accuracy: 0.61 - ETA: 9s - loss: 0.8226 - accuracy: 0.61 - ETA: 9s - loss: 0.8217 - accuracy: 0.61 - ETA: 9s - loss: 0.8181 - accuracy: 0.62 - ETA: 9s - loss: 0.8176 - accuracy: 0.62 - ETA: 9s - loss: 0.8128 - accuracy: 0.62 - ETA: 9s - loss: 0.8081 - accuracy: 0.62 - ETA: 9s - loss: 0.8066 - accuracy: 0.62 - ETA: 9s - loss: 0.8007 - accuracy: 0.62 - ETA: 8s - loss: 0.7979 - accuracy: 0.62 - ETA: 8s - loss: 0.7928 - accuracy: 0.63 - ETA: 8s - loss: 0.7899 - accuracy: 0.63 - ETA: 8s - loss: 0.7861 - accuracy: 0.63 - ETA: 8s - loss: 0.7828 - accuracy: 0.63 - ETA: 8s - loss: 0.7772 - accuracy: 0.63 - ETA: 8s - loss: 0.7781 - accuracy: 0.63 - ETA: 8s - loss: 0.7765 - accuracy: 0.63 - ETA: 8s - loss: 0.7718 - accuracy: 0.64 - ETA: 8s - loss: 0.7689 - accuracy: 0.64 - ETA: 8s - loss: 0.7667 - accuracy: 0.64 - ETA: 8s - loss: 0.7615 - accuracy: 0.64 - ETA: 8s - loss: 0.7565 - accuracy: 0.64 - ETA: 8s - loss: 0.7536 - accuracy: 0.65 - ETA: 8s - loss: 0.7534 - accuracy: 0.65 - ETA: 8s - loss: 0.7535 - accuracy: 0.65 - ETA: 8s - loss: 0.7506 - accuracy: 0.65 - ETA: 8s - loss: 0.7487 - accuracy: 0.65 - ETA: 8s - loss: 0.7459 - accuracy: 0.65 - ETA: 7s - loss: 0.7406 - accuracy: 0.65 - ETA: 7s - loss: 0.7383 - accuracy: 0.65 - ETA: 7s - loss: 0.7328 - accuracy: 0.66 - ETA: 7s - loss: 0.7283 - accuracy: 0.66 - ETA: 7s - loss: 0.7240 - accuracy: 0.66 - ETA: 7s - loss: 0.7211 - accuracy: 0.66 - ETA: 7s - loss: 0.7186 - accuracy: 0.66 - ETA: 7s - loss: 0.7141 - accuracy: 0.66 - ETA: 7s - loss: 0.7130 - accuracy: 0.66 - ETA: 7s - loss: 0.7125 - accuracy: 0.67 - ETA: 7s - loss: 0.7090 - accuracy: 0.67 - ETA: 7s - loss: 0.7044 - accuracy: 0.67 - ETA: 6s - loss: 0.7033 - accuracy: 0.67 - ETA: 6s - loss: 0.7054 - accuracy: 0.67 - ETA: 6s - loss: 0.7019 - accuracy: 0.67 - ETA: 6s - loss: 0.6978 - accuracy: 0.67 - ETA: 6s - loss: 0.6938 - accuracy: 0.67 - ETA: 6s - loss: 0.6919 - accuracy: 0.68 - ETA: 6s - loss: 0.6889 - accuracy: 0.68 - ETA: 6s - loss: 0.6846 - accuracy: 0.68 - ETA: 6s - loss: 0.6811 - accuracy: 0.68 - ETA: 6s - loss: 0.6778 - accuracy: 0.68 - ETA: 6s - loss: 0.6740 - accuracy: 0.68 - ETA: 5s - loss: 0.6700 - accuracy: 0.69 - ETA: 5s - loss: 0.6673 - accuracy: 0.69 - ETA: 5s - loss: 0.6649 - accuracy: 0.69 - ETA: 5s - loss: 0.6617 - accuracy: 0.69 - ETA: 5s - loss: 0.6583 - accuracy: 0.69 - ETA: 5s - loss: 0.6545 - accuracy: 0.70 - ETA: 5s - loss: 0.6547 - accuracy: 0.70 - ETA: 5s - loss: 0.6550 - accuracy: 0.70 - ETA: 5s - loss: 0.6527 - accuracy: 0.70 - ETA: 5s - loss: 0.6509 - accuracy: 0.70 - ETA: 5s - loss: 0.6481 - accuracy: 0.70 - ETA: 5s - loss: 0.6445 - accuracy: 0.70 - ETA: 4s - loss: 0.6449 - accuracy: 0.70 - ETA: 4s - loss: 0.6431 - accuracy: 0.70 - ETA: 4s - loss: 0.6398 - accuracy: 0.70 - ETA: 4s - loss: 0.6370 - accuracy: 0.71 - ETA: 4s - loss: 0.6342 - accuracy: 0.71 - ETA: 4s - loss: 0.6333 - accuracy: 0.71 - ETA: 4s - loss: 0.6312 - accuracy: 0.71 - ETA: 4s - loss: 0.6286 - accuracy: 0.71 - ETA: 4s - loss: 0.6260 - accuracy: 0.71 - ETA: 4s - loss: 0.6236 - accuracy: 0.71 - ETA: 4s - loss: 0.6201 - accuracy: 0.71 - ETA: 4s - loss: 0.6184 - accuracy: 0.71 - ETA: 3s - loss: 0.6174 - accuracy: 0.71 - ETA: 3s - loss: 0.6152 - accuracy: 0.72 - ETA: 3s - loss: 0.6138 - accuracy: 0.72 - ETA: 3s - loss: 0.6118 - accuracy: 0.72 - ETA: 3s - loss: 0.6090 - accuracy: 0.72 - ETA: 3s - loss: 0.6063 - accuracy: 0.72 - ETA: 3s - loss: 0.6035 - accuracy: 0.72 - ETA: 3s - loss: 0.6020 - accuracy: 0.7251\b\b\b\b\b\b\b\b\b\b\b\b\b\b\b\b\b\b\b\b\b\b\b\b\b\b\b\b\b\b\b\b\b\b\b\b\b\b\b\b\b\b\b\b\b\b\b\b\b\b\b\b\b\b\b\b\b\b\b\b\b\b\b\b\b\b\b\b\b\b\b\b\b\b\b\b\b\b\b\b\b\b\b\b\b\b"
     ]
    },
    {
     "name": "stdout",
     "output_type": "stream",
     "text": [
      "1770/1770 [==============================] - ETA: 3s - loss: 0.6006 - accuracy: 0.72 - ETA: 3s - loss: 0.5992 - accuracy: 0.72 - ETA: 3s - loss: 0.5963 - accuracy: 0.72 - ETA: 3s - loss: 0.5931 - accuracy: 0.72 - ETA: 2s - loss: 0.5899 - accuracy: 0.73 - ETA: 2s - loss: 0.5875 - accuracy: 0.73 - ETA: 2s - loss: 0.5846 - accuracy: 0.73 - ETA: 2s - loss: 0.5817 - accuracy: 0.73 - ETA: 2s - loss: 0.5791 - accuracy: 0.73 - ETA: 2s - loss: 0.5782 - accuracy: 0.73 - ETA: 2s - loss: 0.5760 - accuracy: 0.73 - ETA: 2s - loss: 0.5732 - accuracy: 0.73 - ETA: 2s - loss: 0.5739 - accuracy: 0.73 - ETA: 2s - loss: 0.5719 - accuracy: 0.74 - ETA: 2s - loss: 0.5691 - accuracy: 0.74 - ETA: 2s - loss: 0.5664 - accuracy: 0.74 - ETA: 1s - loss: 0.5641 - accuracy: 0.74 - ETA: 1s - loss: 0.5615 - accuracy: 0.74 - ETA: 1s - loss: 0.5587 - accuracy: 0.74 - ETA: 1s - loss: 0.5574 - accuracy: 0.74 - ETA: 1s - loss: 0.5548 - accuracy: 0.74 - ETA: 1s - loss: 0.5540 - accuracy: 0.74 - ETA: 1s - loss: 0.5515 - accuracy: 0.75 - ETA: 1s - loss: 0.5492 - accuracy: 0.75 - ETA: 1s - loss: 0.5465 - accuracy: 0.75 - ETA: 1s - loss: 0.5463 - accuracy: 0.75 - ETA: 1s - loss: 0.5441 - accuracy: 0.75 - ETA: 1s - loss: 0.5429 - accuracy: 0.75 - ETA: 0s - loss: 0.5407 - accuracy: 0.75 - ETA: 0s - loss: 0.5389 - accuracy: 0.75 - ETA: 0s - loss: 0.5376 - accuracy: 0.75 - ETA: 0s - loss: 0.5354 - accuracy: 0.75 - ETA: 0s - loss: 0.5331 - accuracy: 0.76 - ETA: 0s - loss: 0.5325 - accuracy: 0.76 - ETA: 0s - loss: 0.5319 - accuracy: 0.76 - ETA: 0s - loss: 0.5295 - accuracy: 0.76 - ETA: 0s - loss: 0.5276 - accuracy: 0.76 - ETA: 0s - loss: 0.5255 - accuracy: 0.76 - ETA: 0s - loss: 0.5231 - accuracy: 0.76 - ETA: 0s - loss: 0.5213 - accuracy: 0.76 - ETA: 0s - loss: 0.5211 - accuracy: 0.76 - 19s 11ms/step - loss: 0.5206 - accuracy: 0.7655 - val_loss: 0.0774 - val_accuracy: 0.9729\n",
      "Epoch 2/20\n"
     ]
    },
    {
     "name": "stdout",
     "output_type": "stream",
     "text": [
      "1116/1770 [=================>............] - ETA: 20s - loss: 0.0238 - accuracy: 1.000 - ETA: 22s - loss: 0.0707 - accuracy: 1.000 - ETA: 23s - loss: 0.0770 - accuracy: 1.000 - ETA: 24s - loss: 0.3064 - accuracy: 0.937 - ETA: 23s - loss: 0.3181 - accuracy: 0.900 - ETA: 22s - loss: 0.2671 - accuracy: 0.928 - ETA: 22s - loss: 0.2440 - accuracy: 0.937 - ETA: 25s - loss: 0.2170 - accuracy: 0.944 - ETA: 25s - loss: 0.1999 - accuracy: 0.950 - ETA: 25s - loss: 0.2572 - accuracy: 0.931 - ETA: 25s - loss: 0.2600 - accuracy: 0.916 - ETA: 25s - loss: 0.2852 - accuracy: 0.903 - ETA: 25s - loss: 0.2664 - accuracy: 0.910 - ETA: 25s - loss: 0.2488 - accuracy: 0.916 - ETA: 25s - loss: 0.2343 - accuracy: 0.921 - ETA: 25s - loss: 0.2212 - accuracy: 0.926 - ETA: 24s - loss: 0.2120 - accuracy: 0.930 - ETA: 24s - loss: 0.2045 - accuracy: 0.934 - ETA: 24s - loss: 0.1968 - accuracy: 0.937 - ETA: 24s - loss: 0.1883 - accuracy: 0.940 - ETA: 24s - loss: 0.1802 - accuracy: 0.943 - ETA: 24s - loss: 0.1733 - accuracy: 0.945 - ETA: 23s - loss: 0.1678 - accuracy: 0.947 - ETA: 23s - loss: 0.1566 - accuracy: 0.951 - ETA: 23s - loss: 0.1509 - accuracy: 0.953 - ETA: 23s - loss: 0.1464 - accuracy: 0.955 - ETA: 23s - loss: 0.1422 - accuracy: 0.956 - ETA: 22s - loss: 0.1348 - accuracy: 0.959 - ETA: 22s - loss: 0.1307 - accuracy: 0.960 - ETA: 22s - loss: 0.1323 - accuracy: 0.955 - ETA: 22s - loss: 0.1412 - accuracy: 0.950 - ETA: 22s - loss: 0.1835 - accuracy: 0.937 - ETA: 21s - loss: 0.1789 - accuracy: 0.939 - ETA: 21s - loss: 0.1742 - accuracy: 0.940 - ETA: 21s - loss: 0.1704 - accuracy: 0.942 - ETA: 21s - loss: 0.1662 - accuracy: 0.943 - ETA: 21s - loss: 0.1633 - accuracy: 0.945 - ETA: 21s - loss: 0.1597 - accuracy: 0.946 - ETA: 21s - loss: 0.1602 - accuracy: 0.941 - ETA: 21s - loss: 0.1581 - accuracy: 0.943 - ETA: 21s - loss: 0.1546 - accuracy: 0.944 - ETA: 21s - loss: 0.1514 - accuracy: 0.946 - ETA: 20s - loss: 0.1489 - accuracy: 0.949 - ETA: 20s - loss: 0.1542 - accuracy: 0.946 - ETA: 20s - loss: 0.1488 - accuracy: 0.948 - ETA: 20s - loss: 0.1451 - accuracy: 0.950 - ETA: 19s - loss: 0.1443 - accuracy: 0.951 - ETA: 19s - loss: 0.1425 - accuracy: 0.953 - ETA: 19s - loss: 0.1384 - accuracy: 0.954 - ETA: 19s - loss: 0.1362 - accuracy: 0.955 - ETA: 19s - loss: 0.1341 - accuracy: 0.956 - ETA: 19s - loss: 0.1302 - accuracy: 0.957 - ETA: 19s - loss: 0.1322 - accuracy: 0.954 - ETA: 19s - loss: 0.1304 - accuracy: 0.955 - ETA: 19s - loss: 0.1287 - accuracy: 0.955 - ETA: 18s - loss: 0.1387 - accuracy: 0.953 - ETA: 18s - loss: 0.1363 - accuracy: 0.954 - ETA: 18s - loss: 0.1376 - accuracy: 0.952 - ETA: 18s - loss: 0.1375 - accuracy: 0.953 - ETA: 18s - loss: 0.1340 - accuracy: 0.955 - ETA: 17s - loss: 0.1329 - accuracy: 0.956 - ETA: 17s - loss: 0.1301 - accuracy: 0.957 - ETA: 17s - loss: 0.1273 - accuracy: 0.958 - ETA: 17s - loss: 0.1320 - accuracy: 0.956 - ETA: 17s - loss: 0.1291 - accuracy: 0.957 - ETA: 17s - loss: 0.1271 - accuracy: 0.958 - ETA: 16s - loss: 0.1247 - accuracy: 0.959 - ETA: 16s - loss: 0.1223 - accuracy: 0.960 - ETA: 16s - loss: 0.1213 - accuracy: 0.960 - ETA: 16s - loss: 0.1188 - accuracy: 0.961 - ETA: 16s - loss: 0.1185 - accuracy: 0.962 - ETA: 16s - loss: 0.1181 - accuracy: 0.962 - ETA: 16s - loss: 0.1165 - accuracy: 0.963 - ETA: 16s - loss: 0.1144 - accuracy: 0.964 - ETA: 15s - loss: 0.1158 - accuracy: 0.962 - ETA: 15s - loss: 0.1140 - accuracy: 0.963 - ETA: 15s - loss: 0.1143 - accuracy: 0.963 - ETA: 15s - loss: 0.1144 - accuracy: 0.964 - ETA: 15s - loss: 0.1169 - accuracy: 0.962 - ETA: 15s - loss: 0.1190 - accuracy: 0.960 - ETA: 15s - loss: 0.1183 - accuracy: 0.961 - ETA: 15s - loss: 0.1167 - accuracy: 0.961 - ETA: 15s - loss: 0.1149 - accuracy: 0.962 - ETA: 14s - loss: 0.1173 - accuracy: 0.959 - ETA: 14s - loss: 0.1158 - accuracy: 0.959 - ETA: 14s - loss: 0.1140 - accuracy: 0.960 - ETA: 14s - loss: 0.1131 - accuracy: 0.960 - ETA: 14s - loss: 0.1184 - accuracy: 0.959 - ETA: 14s - loss: 0.1178 - accuracy: 0.959 - ETA: 14s - loss: 0.1169 - accuracy: 0.959 - ETA: 14s - loss: 0.1160 - accuracy: 0.960 - ETA: 14s - loss: 0.1143 - accuracy: 0.960 - ETA: 14s - loss: 0.1133 - accuracy: 0.961 - ETA: 14s - loss: 0.1117 - accuracy: 0.962 - ETA: 14s - loss: 0.1175 - accuracy: 0.960 - ETA: 13s - loss: 0.1167 - accuracy: 0.961 - ETA: 13s - loss: 0.1151 - accuracy: 0.961 - ETA: 13s - loss: 0.1144 - accuracy: 0.961 - ETA: 13s - loss: 0.1137 - accuracy: 0.962 - ETA: 13s - loss: 0.1123 - accuracy: 0.962 - ETA: 13s - loss: 0.1116 - accuracy: 0.962 - ETA: 13s - loss: 0.1108 - accuracy: 0.963 - ETA: 13s - loss: 0.1101 - accuracy: 0.963 - ETA: 13s - loss: 0.1094 - accuracy: 0.963 - ETA: 13s - loss: 0.1087 - accuracy: 0.963 - ETA: 13s - loss: 0.1080 - accuracy: 0.964 - ETA: 13s - loss: 0.1077 - accuracy: 0.964 - ETA: 13s - loss: 0.1071 - accuracy: 0.964 - ETA: 13s - loss: 0.1089 - accuracy: 0.963 - ETA: 13s - loss: 0.1083 - accuracy: 0.963 - ETA: 13s - loss: 0.1077 - accuracy: 0.963 - ETA: 13s - loss: 0.1070 - accuracy: 0.964 - ETA: 13s - loss: 0.1064 - accuracy: 0.964 - ETA: 13s - loss: 0.1058 - accuracy: 0.964 - ETA: 13s - loss: 0.1110 - accuracy: 0.963 - ETA: 13s - loss: 0.1137 - accuracy: 0.961 - ETA: 13s - loss: 0.1124 - accuracy: 0.962 - ETA: 13s - loss: 0.1117 - accuracy: 0.962 - ETA: 12s - loss: 0.1118 - accuracy: 0.963 - ETA: 12s - loss: 0.1111 - accuracy: 0.963 - ETA: 12s - loss: 0.1103 - accuracy: 0.963 - ETA: 12s - loss: 0.1092 - accuracy: 0.964 - ETA: 12s - loss: 0.1088 - accuracy: 0.964 - ETA: 12s - loss: 0.1119 - accuracy: 0.963 - ETA: 12s - loss: 0.1122 - accuracy: 0.962 - ETA: 12s - loss: 0.1121 - accuracy: 0.961 - ETA: 12s - loss: 0.1109 - accuracy: 0.962 - ETA: 12s - loss: 0.1098 - accuracy: 0.962 - ETA: 11s - loss: 0.1087 - accuracy: 0.962 - ETA: 11s - loss: 0.1087 - accuracy: 0.963 - ETA: 11s - loss: 0.1084 - accuracy: 0.963 - ETA: 11s - loss: 0.1085 - accuracy: 0.963 - ETA: 11s - loss: 0.1086 - accuracy: 0.963 - ETA: 11s - loss: 0.1082 - accuracy: 0.963 - ETA: 11s - loss: 0.1082 - accuracy: 0.964 - ETA: 11s - loss: 0.1077 - accuracy: 0.964 - ETA: 11s - loss: 0.1092 - accuracy: 0.963 - ETA: 11s - loss: 0.1098 - accuracy: 0.962 - ETA: 11s - loss: 0.1093 - accuracy: 0.962 - ETA: 11s - loss: 0.1088 - accuracy: 0.962 - ETA: 11s - loss: 0.1089 - accuracy: 0.962 - ETA: 11s - loss: 0.1084 - accuracy: 0.962 - ETA: 11s - loss: 0.1080 - accuracy: 0.963 - ETA: 11s - loss: 0.1070 - accuracy: 0.963 - ETA: 11s - loss: 0.1065 - accuracy: 0.963 - ETA: 11s - loss: 0.1057 - accuracy: 0.964 - ETA: 11s - loss: 0.1055 - accuracy: 0.964 - ETA: 10s - loss: 0.1050 - accuracy: 0.964 - ETA: 10s - loss: 0.1042 - accuracy: 0.965 - ETA: 10s - loss: 0.1038 - accuracy: 0.965 - ETA: 10s - loss: 0.1030 - accuracy: 0.965 - ETA: 10s - loss: 0.1021 - accuracy: 0.965 - ETA: 10s - loss: 0.1013 - accuracy: 0.966 - ETA: 10s - loss: 0.1007 - accuracy: 0.966 - ETA: 10s - loss: 0.1076 - accuracy: 0.965 - ETA: 10s - loss: 0.1074 - accuracy: 0.965 - ETA: 10s - loss: 0.1065 - accuracy: 0.966 - ETA: 9s - loss: 0.1065 - accuracy: 0.965 - ETA: 9s - loss: 0.1060 - accuracy: 0.96 - ETA: 9s - loss: 0.1054 - accuracy: 0.96 - ETA: 9s - loss: 0.1049 - accuracy: 0.96 - ETA: 9s - loss: 0.1045 - accuracy: 0.96 - ETA: 9s - loss: 0.1041 - accuracy: 0.96 - ETA: 9s - loss: 0.1037 - accuracy: 0.96 - ETA: 9s - loss: 0.1040 - accuracy: 0.96 - ETA: 9s - loss: 0.1042 - accuracy: 0.96 - ETA: 9s - loss: 0.1037 - accuracy: 0.96 - ETA: 9s - loss: 0.1031 - accuracy: 0.96 - ETA: 9s - loss: 0.1022 - accuracy: 0.96 - ETA: 9s - loss: 0.1016 - accuracy: 0.96 - ETA: 9s - loss: 0.1008 - accuracy: 0.96 - ETA: 9s - loss: 0.1015 - accuracy: 0.96 - ETA: 8s - loss: 0.1014 - accuracy: 0.96 - ETA: 8s - loss: 0.1007 - accuracy: 0.96 - ETA: 8s - loss: 0.1003 - accuracy: 0.96 - ETA: 8s - loss: 0.1036 - accuracy: 0.96 - ETA: 8s - loss: 0.1032 - accuracy: 0.96 - ETA: 8s - loss: 0.1087 - accuracy: 0.96 - ETA: 8s - loss: 0.1080 - accuracy: 0.96 - ETA: 8s - loss: 0.1072 - accuracy: 0.96 - ETA: 8s - loss: 0.1070 - accuracy: 0.96 - ETA: 8s - loss: 0.1070 - accuracy: 0.96 - ETA: 8s - loss: 0.1063 - accuracy: 0.96 - ETA: 7s - loss: 0.1056 - accuracy: 0.96 - ETA: 7s - loss: 0.1054 - accuracy: 0.96 - ETA: 7s - loss: 0.1092 - accuracy: 0.96 - ETA: 7s - loss: 0.1089 - accuracy: 0.9668"
     ]
    },
    {
     "name": "stdout",
     "output_type": "stream",
     "text": [
      "1770/1770 [==============================] - ETA: 7s - loss: 0.1095 - accuracy: 0.96 - ETA: 7s - loss: 0.1178 - accuracy: 0.96 - ETA: 7s - loss: 0.1170 - accuracy: 0.96 - ETA: 7s - loss: 0.1198 - accuracy: 0.96 - ETA: 7s - loss: 0.1194 - accuracy: 0.96 - ETA: 7s - loss: 0.1187 - accuracy: 0.96 - ETA: 7s - loss: 0.1179 - accuracy: 0.96 - ETA: 6s - loss: 0.1178 - accuracy: 0.96 - ETA: 6s - loss: 0.1170 - accuracy: 0.96 - ETA: 6s - loss: 0.1171 - accuracy: 0.96 - ETA: 6s - loss: 0.1170 - accuracy: 0.96 - ETA: 6s - loss: 0.1172 - accuracy: 0.96 - ETA: 6s - loss: 0.1172 - accuracy: 0.96 - ETA: 6s - loss: 0.1165 - accuracy: 0.96 - ETA: 6s - loss: 0.1170 - accuracy: 0.96 - ETA: 6s - loss: 0.1163 - accuracy: 0.96 - ETA: 6s - loss: 0.1160 - accuracy: 0.96 - ETA: 5s - loss: 0.1153 - accuracy: 0.96 - ETA: 5s - loss: 0.1146 - accuracy: 0.96 - ETA: 5s - loss: 0.1144 - accuracy: 0.96 - ETA: 5s - loss: 0.1148 - accuracy: 0.96 - ETA: 5s - loss: 0.1149 - accuracy: 0.96 - ETA: 5s - loss: 0.1145 - accuracy: 0.96 - ETA: 5s - loss: 0.1150 - accuracy: 0.96 - ETA: 5s - loss: 0.1147 - accuracy: 0.96 - ETA: 5s - loss: 0.1141 - accuracy: 0.96 - ETA: 5s - loss: 0.1139 - accuracy: 0.96 - ETA: 5s - loss: 0.1133 - accuracy: 0.96 - ETA: 4s - loss: 0.1130 - accuracy: 0.96 - ETA: 4s - loss: 0.1123 - accuracy: 0.96 - ETA: 4s - loss: 0.1118 - accuracy: 0.96 - ETA: 4s - loss: 0.1112 - accuracy: 0.96 - ETA: 4s - loss: 0.1133 - accuracy: 0.96 - ETA: 4s - loss: 0.1128 - accuracy: 0.96 - ETA: 4s - loss: 0.1122 - accuracy: 0.96 - ETA: 4s - loss: 0.1123 - accuracy: 0.96 - ETA: 4s - loss: 0.1123 - accuracy: 0.96 - ETA: 4s - loss: 0.1117 - accuracy: 0.96 - ETA: 4s - loss: 0.1183 - accuracy: 0.96 - ETA: 3s - loss: 0.1177 - accuracy: 0.96 - ETA: 3s - loss: 0.1178 - accuracy: 0.96 - ETA: 3s - loss: 0.1173 - accuracy: 0.96 - ETA: 3s - loss: 0.1178 - accuracy: 0.96 - ETA: 3s - loss: 0.1183 - accuracy: 0.96 - ETA: 3s - loss: 0.1186 - accuracy: 0.96 - ETA: 3s - loss: 0.1194 - accuracy: 0.96 - ETA: 3s - loss: 0.1190 - accuracy: 0.96 - ETA: 3s - loss: 0.1187 - accuracy: 0.96 - ETA: 3s - loss: 0.1181 - accuracy: 0.96 - ETA: 3s - loss: 0.1177 - accuracy: 0.96 - ETA: 3s - loss: 0.1183 - accuracy: 0.96 - ETA: 3s - loss: 0.1182 - accuracy: 0.96 - ETA: 2s - loss: 0.1178 - accuracy: 0.96 - ETA: 2s - loss: 0.1173 - accuracy: 0.96 - ETA: 2s - loss: 0.1170 - accuracy: 0.96 - ETA: 2s - loss: 0.1168 - accuracy: 0.96 - ETA: 2s - loss: 0.1162 - accuracy: 0.96 - ETA: 2s - loss: 0.1159 - accuracy: 0.96 - ETA: 2s - loss: 0.1154 - accuracy: 0.96 - ETA: 2s - loss: 0.1150 - accuracy: 0.96 - ETA: 2s - loss: 0.1147 - accuracy: 0.96 - ETA: 2s - loss: 0.1144 - accuracy: 0.96 - ETA: 2s - loss: 0.1139 - accuracy: 0.96 - ETA: 2s - loss: 0.1134 - accuracy: 0.96 - ETA: 2s - loss: 0.1128 - accuracy: 0.96 - ETA: 1s - loss: 0.1123 - accuracy: 0.96 - ETA: 1s - loss: 0.1129 - accuracy: 0.96 - ETA: 1s - loss: 0.1125 - accuracy: 0.96 - ETA: 1s - loss: 0.1120 - accuracy: 0.96 - ETA: 1s - loss: 0.1115 - accuracy: 0.96 - ETA: 1s - loss: 0.1113 - accuracy: 0.96 - ETA: 1s - loss: 0.1111 - accuracy: 0.96 - ETA: 1s - loss: 0.1106 - accuracy: 0.96 - ETA: 1s - loss: 0.1103 - accuracy: 0.96 - ETA: 1s - loss: 0.1101 - accuracy: 0.96 - ETA: 1s - loss: 0.1098 - accuracy: 0.96 - ETA: 1s - loss: 0.1096 - accuracy: 0.96 - ETA: 1s - loss: 0.1100 - accuracy: 0.96 - ETA: 1s - loss: 0.1098 - accuracy: 0.96 - ETA: 1s - loss: 0.1095 - accuracy: 0.96 - ETA: 0s - loss: 0.1092 - accuracy: 0.96 - ETA: 0s - loss: 0.1090 - accuracy: 0.96 - ETA: 0s - loss: 0.1087 - accuracy: 0.96 - ETA: 0s - loss: 0.1083 - accuracy: 0.96 - ETA: 0s - loss: 0.1080 - accuracy: 0.96 - ETA: 0s - loss: 0.1078 - accuracy: 0.96 - ETA: 0s - loss: 0.1076 - accuracy: 0.96 - ETA: 0s - loss: 0.1074 - accuracy: 0.96 - ETA: 0s - loss: 0.1071 - accuracy: 0.96 - ETA: 0s - loss: 0.1069 - accuracy: 0.96 - ETA: 0s - loss: 0.1066 - accuracy: 0.96 - ETA: 0s - loss: 0.1065 - accuracy: 0.96 - ETA: 0s - loss: 0.1063 - accuracy: 0.96 - ETA: 0s - loss: 0.1061 - accuracy: 0.96 - ETA: 0s - loss: 0.1058 - accuracy: 0.96 - ETA: 0s - loss: 0.1056 - accuracy: 0.96 - ETA: 0s - loss: 0.1072 - accuracy: 0.96 - ETA: 0s - loss: 0.1070 - accuracy: 0.96 - ETA: 0s - loss: 0.1068 - accuracy: 0.96 - ETA: 0s - loss: 0.1065 - accuracy: 0.96 - ETA: 0s - loss: 0.1064 - accuracy: 0.96 - 22s 12ms/step - loss: 0.1063 - accuracy: 0.9667 - val_loss: 0.0705 - val_accuracy: 0.9797\n",
      "Epoch 3/20\n"
     ]
    },
    {
     "name": "stdout",
     "output_type": "stream",
     "text": [
      "1256/1770 [====================>.........] - ETA: 20s - loss: 6.7409e-05 - accuracy: 1.000 - ETA: 19s - loss: 0.0509 - accuracy: 1.0000    - ETA: 18s - loss: 0.0612 - accuracy: 1.000 - ETA: 19s - loss: 0.0520 - accuracy: 1.000 - ETA: 19s - loss: 0.0393 - accuracy: 1.000 - ETA: 18s - loss: 0.0949 - accuracy: 0.975 - ETA: 18s - loss: 0.0913 - accuracy: 0.979 - ETA: 18s - loss: 0.2539 - accuracy: 0.946 - ETA: 17s - loss: 0.2989 - accuracy: 0.937 - ETA: 17s - loss: 0.2659 - accuracy: 0.944 - ETA: 17s - loss: 0.2460 - accuracy: 0.950 - ETA: 17s - loss: 0.2512 - accuracy: 0.943 - ETA: 17s - loss: 0.2418 - accuracy: 0.945 - ETA: 17s - loss: 0.2445 - accuracy: 0.940 - ETA: 17s - loss: 0.2292 - accuracy: 0.944 - ETA: 17s - loss: 0.2150 - accuracy: 0.948 - ETA: 17s - loss: 0.2021 - accuracy: 0.951 - ETA: 17s - loss: 0.2107 - accuracy: 0.939 - ETA: 16s - loss: 0.1994 - accuracy: 0.942 - ETA: 16s - loss: 0.1903 - accuracy: 0.945 - ETA: 16s - loss: 0.2160 - accuracy: 0.942 - ETA: 16s - loss: 0.2127 - accuracy: 0.943 - ETA: 16s - loss: 0.2158 - accuracy: 0.939 - ETA: 16s - loss: 0.2063 - accuracy: 0.941 - ETA: 17s - loss: 0.2021 - accuracy: 0.943 - ETA: 17s - loss: 0.1989 - accuracy: 0.944 - ETA: 17s - loss: 0.1920 - accuracy: 0.946 - ETA: 16s - loss: 0.1848 - accuracy: 0.949 - ETA: 16s - loss: 0.1777 - accuracy: 0.951 - ETA: 16s - loss: 0.1747 - accuracy: 0.948 - ETA: 16s - loss: 0.1740 - accuracy: 0.950 - ETA: 16s - loss: 0.1685 - accuracy: 0.951 - ETA: 16s - loss: 0.1761 - accuracy: 0.949 - ETA: 16s - loss: 0.1707 - accuracy: 0.950 - ETA: 16s - loss: 0.1653 - accuracy: 0.952 - ETA: 16s - loss: 0.1637 - accuracy: 0.950 - ETA: 16s - loss: 0.1594 - accuracy: 0.951 - ETA: 16s - loss: 0.1571 - accuracy: 0.952 - ETA: 16s - loss: 0.1549 - accuracy: 0.952 - ETA: 16s - loss: 0.1527 - accuracy: 0.953 - ETA: 15s - loss: 0.1619 - accuracy: 0.951 - ETA: 15s - loss: 0.1576 - accuracy: 0.952 - ETA: 15s - loss: 0.1555 - accuracy: 0.953 - ETA: 15s - loss: 0.1518 - accuracy: 0.955 - ETA: 15s - loss: 0.1598 - accuracy: 0.953 - ETA: 15s - loss: 0.1560 - accuracy: 0.954 - ETA: 15s - loss: 0.1529 - accuracy: 0.955 - ETA: 15s - loss: 0.1495 - accuracy: 0.956 - ETA: 15s - loss: 0.1465 - accuracy: 0.957 - ETA: 14s - loss: 0.1441 - accuracy: 0.958 - ETA: 14s - loss: 0.1415 - accuracy: 0.959 - ETA: 14s - loss: 0.1409 - accuracy: 0.960 - ETA: 14s - loss: 0.1384 - accuracy: 0.960 - ETA: 14s - loss: 0.1359 - accuracy: 0.961 - ETA: 14s - loss: 0.1362 - accuracy: 0.962 - ETA: 14s - loss: 0.1338 - accuracy: 0.963 - ETA: 14s - loss: 0.1315 - accuracy: 0.963 - ETA: 14s - loss: 0.1326 - accuracy: 0.962 - ETA: 14s - loss: 0.1314 - accuracy: 0.962 - ETA: 14s - loss: 0.1302 - accuracy: 0.963 - ETA: 14s - loss: 0.1287 - accuracy: 0.963 - ETA: 13s - loss: 0.1265 - accuracy: 0.964 - ETA: 13s - loss: 0.1251 - accuracy: 0.964 - ETA: 13s - loss: 0.1240 - accuracy: 0.965 - ETA: 13s - loss: 0.1219 - accuracy: 0.966 - ETA: 13s - loss: 0.1209 - accuracy: 0.966 - ETA: 13s - loss: 0.1201 - accuracy: 0.966 - ETA: 13s - loss: 0.1317 - accuracy: 0.965 - ETA: 13s - loss: 0.1325 - accuracy: 0.963 - ETA: 13s - loss: 0.1314 - accuracy: 0.964 - ETA: 13s - loss: 0.1331 - accuracy: 0.962 - ETA: 13s - loss: 0.1321 - accuracy: 0.962 - ETA: 13s - loss: 0.1364 - accuracy: 0.960 - ETA: 13s - loss: 0.1353 - accuracy: 0.961 - ETA: 13s - loss: 0.1354 - accuracy: 0.961 - ETA: 13s - loss: 0.1344 - accuracy: 0.961 - ETA: 13s - loss: 0.1334 - accuracy: 0.962 - ETA: 13s - loss: 0.1314 - accuracy: 0.962 - ETA: 13s - loss: 0.1295 - accuracy: 0.963 - ETA: 13s - loss: 0.1285 - accuracy: 0.963 - ETA: 13s - loss: 0.1277 - accuracy: 0.964 - ETA: 13s - loss: 0.1268 - accuracy: 0.964 - ETA: 13s - loss: 0.1250 - accuracy: 0.964 - ETA: 13s - loss: 0.1242 - accuracy: 0.965 - ETA: 13s - loss: 0.1316 - accuracy: 0.962 - ETA: 13s - loss: 0.1298 - accuracy: 0.962 - ETA: 12s - loss: 0.1281 - accuracy: 0.963 - ETA: 12s - loss: 0.1398 - accuracy: 0.961 - ETA: 12s - loss: 0.1389 - accuracy: 0.961 - ETA: 12s - loss: 0.1448 - accuracy: 0.960 - ETA: 12s - loss: 0.1438 - accuracy: 0.960 - ETA: 12s - loss: 0.1432 - accuracy: 0.961 - ETA: 12s - loss: 0.1424 - accuracy: 0.961 - ETA: 12s - loss: 0.1458 - accuracy: 0.959 - ETA: 12s - loss: 0.1443 - accuracy: 0.960 - ETA: 12s - loss: 0.1436 - accuracy: 0.960 - ETA: 12s - loss: 0.1434 - accuracy: 0.959 - ETA: 12s - loss: 0.1418 - accuracy: 0.960 - ETA: 12s - loss: 0.1409 - accuracy: 0.960 - ETA: 12s - loss: 0.1394 - accuracy: 0.961 - ETA: 12s - loss: 0.1382 - accuracy: 0.961 - ETA: 12s - loss: 0.1390 - accuracy: 0.960 - ETA: 12s - loss: 0.1374 - accuracy: 0.960 - ETA: 12s - loss: 0.1367 - accuracy: 0.961 - ETA: 11s - loss: 0.1379 - accuracy: 0.958 - ETA: 11s - loss: 0.1372 - accuracy: 0.958 - ETA: 11s - loss: 0.1385 - accuracy: 0.957 - ETA: 11s - loss: 0.1370 - accuracy: 0.958 - ETA: 11s - loss: 0.1395 - accuracy: 0.957 - ETA: 11s - loss: 0.1391 - accuracy: 0.956 - ETA: 11s - loss: 0.1402 - accuracy: 0.955 - ETA: 11s - loss: 0.1409 - accuracy: 0.954 - ETA: 11s - loss: 0.1422 - accuracy: 0.953 - ETA: 11s - loss: 0.1407 - accuracy: 0.954 - ETA: 10s - loss: 0.1393 - accuracy: 0.954 - ETA: 10s - loss: 0.1379 - accuracy: 0.955 - ETA: 10s - loss: 0.1371 - accuracy: 0.955 - ETA: 10s - loss: 0.1360 - accuracy: 0.956 - ETA: 10s - loss: 0.1353 - accuracy: 0.956 - ETA: 10s - loss: 0.1353 - accuracy: 0.956 - ETA: 10s - loss: 0.1341 - accuracy: 0.957 - ETA: 10s - loss: 0.1334 - accuracy: 0.957 - ETA: 10s - loss: 0.1330 - accuracy: 0.957 - ETA: 10s - loss: 0.1323 - accuracy: 0.958 - ETA: 10s - loss: 0.1326 - accuracy: 0.957 - ETA: 10s - loss: 0.1371 - accuracy: 0.956 - ETA: 10s - loss: 0.1365 - accuracy: 0.956 - ETA: 10s - loss: 0.1359 - accuracy: 0.956 - ETA: 10s - loss: 0.1347 - accuracy: 0.957 - ETA: 10s - loss: 0.1341 - accuracy: 0.957 - ETA: 10s - loss: 0.1335 - accuracy: 0.957 - ETA: 10s - loss: 0.1332 - accuracy: 0.957 - ETA: 10s - loss: 0.1327 - accuracy: 0.958 - ETA: 10s - loss: 0.1325 - accuracy: 0.958 - ETA: 9s - loss: 0.1319 - accuracy: 0.958 - ETA: 9s - loss: 0.1313 - accuracy: 0.95 - ETA: 9s - loss: 0.1302 - accuracy: 0.95 - ETA: 9s - loss: 0.1291 - accuracy: 0.95 - ETA: 9s - loss: 0.1285 - accuracy: 0.95 - ETA: 9s - loss: 0.1281 - accuracy: 0.95 - ETA: 9s - loss: 0.1270 - accuracy: 0.96 - ETA: 9s - loss: 0.1270 - accuracy: 0.95 - ETA: 9s - loss: 0.1260 - accuracy: 0.95 - ETA: 9s - loss: 0.1254 - accuracy: 0.95 - ETA: 9s - loss: 0.1249 - accuracy: 0.96 - ETA: 9s - loss: 0.1261 - accuracy: 0.95 - ETA: 9s - loss: 0.1259 - accuracy: 0.95 - ETA: 9s - loss: 0.1330 - accuracy: 0.95 - ETA: 9s - loss: 0.1325 - accuracy: 0.95 - ETA: 9s - loss: 0.1320 - accuracy: 0.95 - ETA: 8s - loss: 0.1315 - accuracy: 0.95 - ETA: 8s - loss: 0.1321 - accuracy: 0.95 - ETA: 8s - loss: 0.1316 - accuracy: 0.95 - ETA: 8s - loss: 0.1357 - accuracy: 0.95 - ETA: 8s - loss: 0.1348 - accuracy: 0.95 - ETA: 8s - loss: 0.1340 - accuracy: 0.95 - ETA: 8s - loss: 0.1352 - accuracy: 0.95 - ETA: 8s - loss: 0.1342 - accuracy: 0.95 - ETA: 8s - loss: 0.1331 - accuracy: 0.95 - ETA: 8s - loss: 0.1353 - accuracy: 0.95 - ETA: 8s - loss: 0.1343 - accuracy: 0.95 - ETA: 8s - loss: 0.1335 - accuracy: 0.95 - ETA: 7s - loss: 0.1339 - accuracy: 0.95 - ETA: 7s - loss: 0.1329 - accuracy: 0.95 - ETA: 7s - loss: 0.1321 - accuracy: 0.95 - ETA: 7s - loss: 0.1317 - accuracy: 0.95 - ETA: 7s - loss: 0.1317 - accuracy: 0.95 - ETA: 7s - loss: 0.1310 - accuracy: 0.95 - ETA: 7s - loss: 0.1305 - accuracy: 0.95 - ETA: 7s - loss: 0.1296 - accuracy: 0.95 - ETA: 7s - loss: 0.1287 - accuracy: 0.95 - ETA: 7s - loss: 0.1293 - accuracy: 0.95 - ETA: 7s - loss: 0.1288 - accuracy: 0.95 - ETA: 6s - loss: 0.1285 - accuracy: 0.95 - ETA: 6s - loss: 0.1276 - accuracy: 0.95 - ETA: 6s - loss: 0.1268 - accuracy: 0.95 - ETA: 6s - loss: 0.1299 - accuracy: 0.95 - ETA: 6s - loss: 0.1291 - accuracy: 0.95 - ETA: 6s - loss: 0.1282 - accuracy: 0.95 - ETA: 6s - loss: 0.1276 - accuracy: 0.95 - ETA: 6s - loss: 0.1268 - accuracy: 0.95 - ETA: 6s - loss: 0.1261 - accuracy: 0.95 - ETA: 6s - loss: 0.1271 - accuracy: 0.95 - ETA: 6s - loss: 0.1262 - accuracy: 0.95 - ETA: 5s - loss: 0.1263 - accuracy: 0.95 - ETA: 5s - loss: 0.1259 - accuracy: 0.95 - ETA: 5s - loss: 0.1254 - accuracy: 0.95 - ETA: 5s - loss: 0.1283 - accuracy: 0.9546"
     ]
    },
    {
     "name": "stdout",
     "output_type": "stream",
     "text": [
      "1770/1770 [==============================] - ETA: 5s - loss: 0.1281 - accuracy: 0.95 - ETA: 5s - loss: 0.1278 - accuracy: 0.95 - ETA: 5s - loss: 0.1274 - accuracy: 0.95 - ETA: 5s - loss: 0.1289 - accuracy: 0.95 - ETA: 5s - loss: 0.1285 - accuracy: 0.95 - ETA: 5s - loss: 0.1279 - accuracy: 0.95 - ETA: 5s - loss: 0.1275 - accuracy: 0.95 - ETA: 5s - loss: 0.1272 - accuracy: 0.95 - ETA: 5s - loss: 0.1265 - accuracy: 0.95 - ETA: 5s - loss: 0.1260 - accuracy: 0.95 - ETA: 5s - loss: 0.1263 - accuracy: 0.95 - ETA: 4s - loss: 0.1258 - accuracy: 0.95 - ETA: 4s - loss: 0.1250 - accuracy: 0.95 - ETA: 4s - loss: 0.1247 - accuracy: 0.95 - ETA: 4s - loss: 0.1241 - accuracy: 0.95 - ETA: 4s - loss: 0.1253 - accuracy: 0.95 - ETA: 4s - loss: 0.1246 - accuracy: 0.95 - ETA: 4s - loss: 0.1239 - accuracy: 0.95 - ETA: 4s - loss: 0.1234 - accuracy: 0.95 - ETA: 4s - loss: 0.1228 - accuracy: 0.95 - ETA: 4s - loss: 0.1225 - accuracy: 0.95 - ETA: 3s - loss: 0.1219 - accuracy: 0.95 - ETA: 3s - loss: 0.1212 - accuracy: 0.95 - ETA: 3s - loss: 0.1206 - accuracy: 0.95 - ETA: 3s - loss: 0.1254 - accuracy: 0.95 - ETA: 3s - loss: 0.1247 - accuracy: 0.95 - ETA: 3s - loss: 0.1242 - accuracy: 0.95 - ETA: 3s - loss: 0.1238 - accuracy: 0.95 - ETA: 3s - loss: 0.1232 - accuracy: 0.95 - ETA: 3s - loss: 0.1230 - accuracy: 0.95 - ETA: 3s - loss: 0.1226 - accuracy: 0.95 - ETA: 3s - loss: 0.1221 - accuracy: 0.95 - ETA: 2s - loss: 0.1216 - accuracy: 0.95 - ETA: 2s - loss: 0.1213 - accuracy: 0.95 - ETA: 2s - loss: 0.1210 - accuracy: 0.95 - ETA: 2s - loss: 0.1206 - accuracy: 0.95 - ETA: 2s - loss: 0.1205 - accuracy: 0.95 - ETA: 2s - loss: 0.1202 - accuracy: 0.95 - ETA: 2s - loss: 0.1202 - accuracy: 0.95 - ETA: 2s - loss: 0.1203 - accuracy: 0.95 - ETA: 2s - loss: 0.1198 - accuracy: 0.95 - ETA: 2s - loss: 0.1197 - accuracy: 0.95 - ETA: 2s - loss: 0.1219 - accuracy: 0.95 - ETA: 2s - loss: 0.1220 - accuracy: 0.95 - ETA: 2s - loss: 0.1214 - accuracy: 0.95 - ETA: 1s - loss: 0.1212 - accuracy: 0.95 - ETA: 1s - loss: 0.1208 - accuracy: 0.95 - ETA: 1s - loss: 0.1206 - accuracy: 0.95 - ETA: 1s - loss: 0.1203 - accuracy: 0.95 - ETA: 1s - loss: 0.1200 - accuracy: 0.95 - ETA: 1s - loss: 0.1202 - accuracy: 0.95 - ETA: 1s - loss: 0.1200 - accuracy: 0.95 - ETA: 1s - loss: 0.1197 - accuracy: 0.95 - ETA: 1s - loss: 0.1196 - accuracy: 0.95 - ETA: 1s - loss: 0.1193 - accuracy: 0.95 - ETA: 1s - loss: 0.1187 - accuracy: 0.95 - ETA: 1s - loss: 0.1185 - accuracy: 0.96 - ETA: 1s - loss: 0.1184 - accuracy: 0.96 - ETA: 1s - loss: 0.1181 - accuracy: 0.96 - ETA: 1s - loss: 0.1178 - accuracy: 0.96 - ETA: 1s - loss: 0.1177 - accuracy: 0.96 - ETA: 1s - loss: 0.1175 - accuracy: 0.96 - ETA: 1s - loss: 0.1174 - accuracy: 0.96 - ETA: 1s - loss: 0.1172 - accuracy: 0.96 - ETA: 0s - loss: 0.1169 - accuracy: 0.96 - ETA: 0s - loss: 0.1168 - accuracy: 0.96 - ETA: 0s - loss: 0.1165 - accuracy: 0.96 - ETA: 0s - loss: 0.1163 - accuracy: 0.96 - ETA: 0s - loss: 0.1160 - accuracy: 0.96 - ETA: 0s - loss: 0.1158 - accuracy: 0.96 - ETA: 0s - loss: 0.1155 - accuracy: 0.96 - ETA: 0s - loss: 0.1154 - accuracy: 0.96 - ETA: 0s - loss: 0.1151 - accuracy: 0.96 - ETA: 0s - loss: 0.1160 - accuracy: 0.96 - ETA: 0s - loss: 0.1158 - accuracy: 0.96 - ETA: 0s - loss: 0.1155 - accuracy: 0.96 - ETA: 0s - loss: 0.1152 - accuracy: 0.96 - ETA: 0s - loss: 0.1150 - accuracy: 0.96 - ETA: 0s - loss: 0.1156 - accuracy: 0.96 - ETA: 0s - loss: 0.1156 - accuracy: 0.96 - ETA: 0s - loss: 0.1154 - accuracy: 0.96 - ETA: 0s - loss: 0.1154 - accuracy: 0.96 - ETA: 0s - loss: 0.1152 - accuracy: 0.96 - ETA: 0s - loss: 0.1149 - accuracy: 0.96 - ETA: 0s - loss: 0.1146 - accuracy: 0.96 - ETA: 0s - loss: 0.1144 - accuracy: 0.96 - 21s 12ms/step - loss: 0.1140 - accuracy: 0.9616 - val_loss: 0.1488 - val_accuracy: 0.9323\n",
      "Epoch 4/20\n"
     ]
    },
    {
     "name": "stdout",
     "output_type": "stream",
     "text": [
      "1020/1770 [================>.............] - ETA: 17s - loss: 0.0013 - accuracy: 1.000 - ETA: 18s - loss: 0.1914 - accuracy: 0.916 - ETA: 19s - loss: 0.1958 - accuracy: 0.875 - ETA: 20s - loss: 0.1623 - accuracy: 0.900 - ETA: 19s - loss: 0.1522 - accuracy: 0.892 - ETA: 20s - loss: 0.1356 - accuracy: 0.906 - ETA: 19s - loss: 0.1100 - accuracy: 0.925 - ETA: 19s - loss: 0.0936 - accuracy: 0.937 - ETA: 19s - loss: 0.0873 - accuracy: 0.942 - ETA: 19s - loss: 0.0759 - accuracy: 0.950 - ETA: 19s - loss: 0.0711 - accuracy: 0.953 - ETA: 19s - loss: 0.0695 - accuracy: 0.958 - ETA: 19s - loss: 0.0671 - accuracy: 0.962 - ETA: 18s - loss: 0.0613 - accuracy: 0.965 - ETA: 18s - loss: 0.0689 - accuracy: 0.958 - ETA: 18s - loss: 0.1134 - accuracy: 0.951 - ETA: 18s - loss: 0.1092 - accuracy: 0.953 - ETA: 18s - loss: 0.1054 - accuracy: 0.955 - ETA: 18s - loss: 0.1041 - accuracy: 0.956 - ETA: 18s - loss: 0.0999 - accuracy: 0.959 - ETA: 18s - loss: 0.0987 - accuracy: 0.960 - ETA: 18s - loss: 0.0957 - accuracy: 0.962 - ETA: 18s - loss: 0.0929 - accuracy: 0.963 - ETA: 18s - loss: 0.0975 - accuracy: 0.958 - ETA: 18s - loss: 0.0924 - accuracy: 0.960 - ETA: 18s - loss: 0.0901 - accuracy: 0.961 - ETA: 18s - loss: 0.0879 - accuracy: 0.962 - ETA: 18s - loss: 0.0857 - accuracy: 0.963 - ETA: 18s - loss: 0.0837 - accuracy: 0.964 - ETA: 18s - loss: 0.0818 - accuracy: 0.965 - ETA: 18s - loss: 0.0800 - accuracy: 0.965 - ETA: 19s - loss: 0.0782 - accuracy: 0.966 - ETA: 19s - loss: 0.0765 - accuracy: 0.967 - ETA: 18s - loss: 0.0758 - accuracy: 0.968 - ETA: 18s - loss: 0.0743 - accuracy: 0.969 - ETA: 18s - loss: 0.0728 - accuracy: 0.970 - ETA: 18s - loss: 0.0715 - accuracy: 0.970 - ETA: 18s - loss: 0.0901 - accuracy: 0.966 - ETA: 18s - loss: 0.0884 - accuracy: 0.967 - ETA: 18s - loss: 0.0868 - accuracy: 0.967 - ETA: 18s - loss: 0.0853 - accuracy: 0.968 - ETA: 18s - loss: 0.0843 - accuracy: 0.968 - ETA: 18s - loss: 0.0822 - accuracy: 0.969 - ETA: 18s - loss: 0.0802 - accuracy: 0.970 - ETA: 18s - loss: 0.0780 - accuracy: 0.971 - ETA: 18s - loss: 0.0768 - accuracy: 0.972 - ETA: 18s - loss: 0.0758 - accuracy: 0.972 - ETA: 18s - loss: 0.0749 - accuracy: 0.973 - ETA: 18s - loss: 0.0727 - accuracy: 0.973 - ETA: 18s - loss: 0.0716 - accuracy: 0.974 - ETA: 18s - loss: 0.0707 - accuracy: 0.974 - ETA: 18s - loss: 0.0698 - accuracy: 0.975 - ETA: 17s - loss: 0.0679 - accuracy: 0.975 - ETA: 17s - loss: 0.0669 - accuracy: 0.976 - ETA: 17s - loss: 0.0660 - accuracy: 0.976 - ETA: 17s - loss: 0.0643 - accuracy: 0.977 - ETA: 17s - loss: 0.0627 - accuracy: 0.977 - ETA: 17s - loss: 0.0619 - accuracy: 0.977 - ETA: 17s - loss: 0.0610 - accuracy: 0.978 - ETA: 17s - loss: 0.0604 - accuracy: 0.978 - ETA: 17s - loss: 0.0596 - accuracy: 0.978 - ETA: 17s - loss: 0.0589 - accuracy: 0.979 - ETA: 17s - loss: 0.0608 - accuracy: 0.976 - ETA: 17s - loss: 0.0601 - accuracy: 0.976 - ETA: 17s - loss: 0.0594 - accuracy: 0.977 - ETA: 17s - loss: 0.0588 - accuracy: 0.977 - ETA: 17s - loss: 0.0581 - accuracy: 0.977 - ETA: 17s - loss: 0.0575 - accuracy: 0.977 - ETA: 17s - loss: 0.0568 - accuracy: 0.978 - ETA: 17s - loss: 0.0562 - accuracy: 0.978 - ETA: 17s - loss: 0.0556 - accuracy: 0.978 - ETA: 17s - loss: 0.0550 - accuracy: 0.978 - ETA: 17s - loss: 0.0545 - accuracy: 0.978 - ETA: 17s - loss: 0.0540 - accuracy: 0.979 - ETA: 17s - loss: 0.0539 - accuracy: 0.979 - ETA: 17s - loss: 0.0533 - accuracy: 0.979 - ETA: 17s - loss: 0.0528 - accuracy: 0.979 - ETA: 17s - loss: 0.0526 - accuracy: 0.980 - ETA: 17s - loss: 0.0521 - accuracy: 0.980 - ETA: 17s - loss: 0.0511 - accuracy: 0.980 - ETA: 16s - loss: 0.0506 - accuracy: 0.980 - ETA: 16s - loss: 0.0509 - accuracy: 0.981 - ETA: 16s - loss: 0.0504 - accuracy: 0.981 - ETA: 16s - loss: 0.0500 - accuracy: 0.981 - ETA: 16s - loss: 0.0495 - accuracy: 0.981 - ETA: 16s - loss: 0.0499 - accuracy: 0.981 - ETA: 16s - loss: 0.0511 - accuracy: 0.981 - ETA: 16s - loss: 0.0506 - accuracy: 0.982 - ETA: 16s - loss: 0.0502 - accuracy: 0.982 - ETA: 16s - loss: 0.0497 - accuracy: 0.982 - ETA: 16s - loss: 0.0493 - accuracy: 0.982 - ETA: 16s - loss: 0.0489 - accuracy: 0.982 - ETA: 16s - loss: 0.0484 - accuracy: 0.982 - ETA: 16s - loss: 0.0480 - accuracy: 0.982 - ETA: 16s - loss: 0.0477 - accuracy: 0.983 - ETA: 16s - loss: 0.0473 - accuracy: 0.983 - ETA: 16s - loss: 0.0469 - accuracy: 0.983 - ETA: 16s - loss: 0.0461 - accuracy: 0.983 - ETA: 16s - loss: 0.0456 - accuracy: 0.983 - ETA: 15s - loss: 0.0449 - accuracy: 0.984 - ETA: 15s - loss: 0.0442 - accuracy: 0.984 - ETA: 15s - loss: 0.0438 - accuracy: 0.984 - ETA: 15s - loss: 0.0448 - accuracy: 0.984 - ETA: 15s - loss: 0.0445 - accuracy: 0.984 - ETA: 15s - loss: 0.0438 - accuracy: 0.985 - ETA: 15s - loss: 0.0435 - accuracy: 0.985 - ETA: 15s - loss: 0.0435 - accuracy: 0.985 - ETA: 15s - loss: 0.0434 - accuracy: 0.985 - ETA: 15s - loss: 0.0428 - accuracy: 0.985 - ETA: 15s - loss: 0.0446 - accuracy: 0.983 - ETA: 15s - loss: 0.0439 - accuracy: 0.984 - ETA: 14s - loss: 0.0441 - accuracy: 0.984 - ETA: 14s - loss: 0.0435 - accuracy: 0.984 - ETA: 14s - loss: 0.0434 - accuracy: 0.984 - ETA: 14s - loss: 0.0429 - accuracy: 0.984 - ETA: 14s - loss: 0.0423 - accuracy: 0.985 - ETA: 14s - loss: 0.0421 - accuracy: 0.985 - ETA: 14s - loss: 0.0418 - accuracy: 0.985 - ETA: 14s - loss: 0.0415 - accuracy: 0.985 - ETA: 14s - loss: 0.0413 - accuracy: 0.985 - ETA: 14s - loss: 0.0408 - accuracy: 0.985 - ETA: 14s - loss: 0.0403 - accuracy: 0.985 - ETA: 13s - loss: 0.0399 - accuracy: 0.986 - ETA: 13s - loss: 0.0397 - accuracy: 0.986 - ETA: 13s - loss: 0.0395 - accuracy: 0.986 - ETA: 13s - loss: 0.0392 - accuracy: 0.986 - ETA: 13s - loss: 0.0390 - accuracy: 0.986 - ETA: 13s - loss: 0.0388 - accuracy: 0.986 - ETA: 13s - loss: 0.0385 - accuracy: 0.986 - ETA: 13s - loss: 0.0383 - accuracy: 0.986 - ETA: 13s - loss: 0.0381 - accuracy: 0.986 - ETA: 13s - loss: 0.0389 - accuracy: 0.985 - ETA: 13s - loss: 0.0385 - accuracy: 0.985 - ETA: 13s - loss: 0.0381 - accuracy: 0.985 - ETA: 13s - loss: 0.0376 - accuracy: 0.985 - ETA: 12s - loss: 0.0372 - accuracy: 0.986 - ETA: 12s - loss: 0.0368 - accuracy: 0.986 - ETA: 12s - loss: 0.0364 - accuracy: 0.986 - ETA: 12s - loss: 0.0360 - accuracy: 0.986 - ETA: 12s - loss: 0.0357 - accuracy: 0.986 - ETA: 12s - loss: 0.0353 - accuracy: 0.986 - ETA: 12s - loss: 0.0349 - accuracy: 0.986 - ETA: 12s - loss: 0.0346 - accuracy: 0.987 - ETA: 11s - loss: 0.0346 - accuracy: 0.987 - ETA: 11s - loss: 0.0343 - accuracy: 0.987 - ETA: 11s - loss: 0.0340 - accuracy: 0.987 - ETA: 11s - loss: 0.0337 - accuracy: 0.987 - ETA: 11s - loss: 0.0334 - accuracy: 0.987 - ETA: 11s - loss: 0.0330 - accuracy: 0.987 - ETA: 11s - loss: 0.0327 - accuracy: 0.987 - ETA: 11s - loss: 0.0324 - accuracy: 0.988 - ETA: 11s - loss: 0.0336 - accuracy: 0.987 - ETA: 10s - loss: 0.0332 - accuracy: 0.987 - ETA: 10s - loss: 0.0331 - accuracy: 0.987 - ETA: 10s - loss: 0.0328 - accuracy: 0.987 - ETA: 10s - loss: 0.0326 - accuracy: 0.987 - ETA: 10s - loss: 0.0341 - accuracy: 0.986 - ETA: 10s - loss: 0.0338 - accuracy: 0.986 - ETA: 10s - loss: 0.0345 - accuracy: 0.986 - ETA: 10s - loss: 0.0344 - accuracy: 0.986 - ETA: 10s - loss: 0.0342 - accuracy: 0.986 - ETA: 10s - loss: 0.0341 - accuracy: 0.986 - ETA: 10s - loss: 0.0340 - accuracy: 0.986 - ETA: 10s - loss: 0.0337 - accuracy: 0.986 - ETA: 10s - loss: 0.0336 - accuracy: 0.986 - ETA: 10s - loss: 0.0334 - accuracy: 0.987 - ETA: 10s - loss: 0.0335 - accuracy: 0.987 - ETA: 10s - loss: 0.0333 - accuracy: 0.987 - ETA: 10s - loss: 0.0338 - accuracy: 0.987 - ETA: 9s - loss: 0.0337 - accuracy: 0.987 - ETA: 9s - loss: 0.0336 - accuracy: 0.98 - ETA: 9s - loss: 0.0334 - accuracy: 0.98 - ETA: 9s - loss: 0.0333 - accuracy: 0.98 - ETA: 9s - loss: 0.0332 - accuracy: 0.98 - ETA: 9s - loss: 0.0546 - accuracy: 0.98 - ETA: 9s - loss: 0.0544 - accuracy: 0.98 - ETA: 9s - loss: 0.0572 - accuracy: 0.98 - ETA: 9s - loss: 0.0568 - accuracy: 0.98 - ETA: 9s - loss: 0.0563 - accuracy: 0.98 - ETA: 9s - loss: 0.0912 - accuracy: 0.98 - ETA: 9s - loss: 0.0905 - accuracy: 0.98 - ETA: 9s - loss: 0.0902 - accuracy: 0.98 - ETA: 9s - loss: 0.0895 - accuracy: 0.98 - ETA: 9s - loss: 0.0891 - accuracy: 0.98 - ETA: 9s - loss: 0.0888 - accuracy: 0.98 - ETA: 8s - loss: 0.0884 - accuracy: 0.9814"
     ]
    },
    {
     "name": "stdout",
     "output_type": "stream",
     "text": [
      "1770/1770 [==============================] - ETA: 8s - loss: 0.0878 - accuracy: 0.98 - ETA: 8s - loss: 0.0871 - accuracy: 0.98 - ETA: 8s - loss: 0.0865 - accuracy: 0.98 - ETA: 8s - loss: 0.0861 - accuracy: 0.98 - ETA: 8s - loss: 0.0858 - accuracy: 0.98 - ETA: 8s - loss: 0.0854 - accuracy: 0.98 - ETA: 8s - loss: 0.0872 - accuracy: 0.98 - ETA: 8s - loss: 0.0908 - accuracy: 0.98 - ETA: 8s - loss: 0.0906 - accuracy: 0.98 - ETA: 8s - loss: 0.0957 - accuracy: 0.97 - ETA: 8s - loss: 0.0954 - accuracy: 0.97 - ETA: 8s - loss: 0.0951 - accuracy: 0.97 - ETA: 8s - loss: 0.0947 - accuracy: 0.97 - ETA: 8s - loss: 0.0944 - accuracy: 0.97 - ETA: 8s - loss: 0.0939 - accuracy: 0.98 - ETA: 7s - loss: 0.0978 - accuracy: 0.97 - ETA: 7s - loss: 0.0986 - accuracy: 0.97 - ETA: 7s - loss: 0.0996 - accuracy: 0.97 - ETA: 7s - loss: 0.0995 - accuracy: 0.97 - ETA: 7s - loss: 0.0990 - accuracy: 0.97 - ETA: 7s - loss: 0.0996 - accuracy: 0.97 - ETA: 7s - loss: 0.0991 - accuracy: 0.97 - ETA: 7s - loss: 0.1012 - accuracy: 0.97 - ETA: 7s - loss: 0.1005 - accuracy: 0.97 - ETA: 6s - loss: 0.1015 - accuracy: 0.97 - ETA: 6s - loss: 0.1012 - accuracy: 0.97 - ETA: 6s - loss: 0.1011 - accuracy: 0.97 - ETA: 6s - loss: 0.1004 - accuracy: 0.97 - ETA: 6s - loss: 0.1001 - accuracy: 0.97 - ETA: 6s - loss: 0.0996 - accuracy: 0.97 - ETA: 6s - loss: 0.0994 - accuracy: 0.97 - ETA: 6s - loss: 0.1002 - accuracy: 0.97 - ETA: 6s - loss: 0.0997 - accuracy: 0.97 - ETA: 6s - loss: 0.0993 - accuracy: 0.97 - ETA: 5s - loss: 0.0991 - accuracy: 0.97 - ETA: 5s - loss: 0.0986 - accuracy: 0.97 - ETA: 5s - loss: 0.0983 - accuracy: 0.97 - ETA: 5s - loss: 0.0980 - accuracy: 0.97 - ETA: 5s - loss: 0.0997 - accuracy: 0.97 - ETA: 5s - loss: 0.0994 - accuracy: 0.97 - ETA: 5s - loss: 0.0991 - accuracy: 0.97 - ETA: 5s - loss: 0.0986 - accuracy: 0.97 - ETA: 5s - loss: 0.0983 - accuracy: 0.97 - ETA: 5s - loss: 0.0980 - accuracy: 0.97 - ETA: 5s - loss: 0.1045 - accuracy: 0.97 - ETA: 5s - loss: 0.1044 - accuracy: 0.97 - ETA: 5s - loss: 0.1041 - accuracy: 0.97 - ETA: 5s - loss: 0.1037 - accuracy: 0.97 - ETA: 5s - loss: 0.1033 - accuracy: 0.97 - ETA: 4s - loss: 0.1029 - accuracy: 0.97 - ETA: 4s - loss: 0.1026 - accuracy: 0.97 - ETA: 4s - loss: 0.1024 - accuracy: 0.97 - ETA: 4s - loss: 0.1019 - accuracy: 0.97 - ETA: 4s - loss: 0.1019 - accuracy: 0.97 - ETA: 4s - loss: 0.1017 - accuracy: 0.97 - ETA: 4s - loss: 0.1015 - accuracy: 0.97 - ETA: 4s - loss: 0.1012 - accuracy: 0.97 - ETA: 4s - loss: 0.1021 - accuracy: 0.97 - ETA: 4s - loss: 0.1018 - accuracy: 0.97 - ETA: 4s - loss: 0.1013 - accuracy: 0.97 - ETA: 4s - loss: 0.1012 - accuracy: 0.97 - ETA: 4s - loss: 0.1008 - accuracy: 0.97 - ETA: 3s - loss: 0.1003 - accuracy: 0.97 - ETA: 3s - loss: 0.0998 - accuracy: 0.97 - ETA: 3s - loss: 0.0993 - accuracy: 0.97 - ETA: 3s - loss: 0.0989 - accuracy: 0.97 - ETA: 3s - loss: 0.0983 - accuracy: 0.97 - ETA: 3s - loss: 0.0983 - accuracy: 0.97 - ETA: 3s - loss: 0.0980 - accuracy: 0.97 - ETA: 3s - loss: 0.0978 - accuracy: 0.97 - ETA: 3s - loss: 0.0973 - accuracy: 0.97 - ETA: 3s - loss: 0.0971 - accuracy: 0.97 - ETA: 3s - loss: 0.0971 - accuracy: 0.97 - ETA: 3s - loss: 0.0968 - accuracy: 0.97 - ETA: 2s - loss: 0.0964 - accuracy: 0.97 - ETA: 2s - loss: 0.0961 - accuracy: 0.97 - ETA: 2s - loss: 0.0956 - accuracy: 0.97 - ETA: 2s - loss: 0.0951 - accuracy: 0.97 - ETA: 2s - loss: 0.0946 - accuracy: 0.97 - ETA: 2s - loss: 0.0942 - accuracy: 0.97 - ETA: 2s - loss: 0.0937 - accuracy: 0.97 - ETA: 2s - loss: 0.0934 - accuracy: 0.97 - ETA: 2s - loss: 0.0941 - accuracy: 0.97 - ETA: 2s - loss: 0.0936 - accuracy: 0.97 - ETA: 2s - loss: 0.0937 - accuracy: 0.97 - ETA: 1s - loss: 0.0933 - accuracy: 0.97 - ETA: 1s - loss: 0.0929 - accuracy: 0.97 - ETA: 1s - loss: 0.0927 - accuracy: 0.97 - ETA: 1s - loss: 0.0923 - accuracy: 0.97 - ETA: 1s - loss: 0.0919 - accuracy: 0.97 - ETA: 1s - loss: 0.0944 - accuracy: 0.97 - ETA: 1s - loss: 0.0941 - accuracy: 0.97 - ETA: 1s - loss: 0.0939 - accuracy: 0.97 - ETA: 1s - loss: 0.0935 - accuracy: 0.97 - ETA: 1s - loss: 0.0930 - accuracy: 0.97 - ETA: 1s - loss: 0.0926 - accuracy: 0.97 - ETA: 1s - loss: 0.0924 - accuracy: 0.97 - ETA: 1s - loss: 0.0923 - accuracy: 0.97 - ETA: 1s - loss: 0.0948 - accuracy: 0.97 - ETA: 0s - loss: 0.0949 - accuracy: 0.97 - ETA: 0s - loss: 0.0946 - accuracy: 0.97 - ETA: 0s - loss: 0.0946 - accuracy: 0.97 - ETA: 0s - loss: 0.0944 - accuracy: 0.97 - ETA: 0s - loss: 0.0941 - accuracy: 0.97 - ETA: 0s - loss: 0.0939 - accuracy: 0.97 - ETA: 0s - loss: 0.0940 - accuracy: 0.97 - ETA: 0s - loss: 0.0938 - accuracy: 0.97 - ETA: 0s - loss: 0.0938 - accuracy: 0.97 - ETA: 0s - loss: 0.0937 - accuracy: 0.97 - ETA: 0s - loss: 0.0935 - accuracy: 0.97 - ETA: 0s - loss: 0.0933 - accuracy: 0.97 - ETA: 0s - loss: 0.0931 - accuracy: 0.97 - ETA: 0s - loss: 0.0929 - accuracy: 0.97 - ETA: 0s - loss: 0.0927 - accuracy: 0.97 - ETA: 0s - loss: 0.0925 - accuracy: 0.97 - ETA: 0s - loss: 0.0923 - accuracy: 0.97 - ETA: 0s - loss: 0.0921 - accuracy: 0.97 - ETA: 0s - loss: 0.0919 - accuracy: 0.97 - ETA: 0s - loss: 0.0917 - accuracy: 0.97 - ETA: 0s - loss: 0.0915 - accuracy: 0.97 - 21s 12ms/step - loss: 0.0914 - accuracy: 0.9785 - val_loss: 0.0568 - val_accuracy: 0.9797\n",
      "Epoch 5/20\n"
     ]
    },
    {
     "name": "stdout",
     "output_type": "stream",
     "text": [
      "1440/1770 [=======================>......] - ETA: 15s - loss: 0.0085 - accuracy: 1.000 - ETA: 16s - loss: 0.0787 - accuracy: 1.000 - ETA: 17s - loss: 0.0507 - accuracy: 1.000 - ETA: 17s - loss: 0.0400 - accuracy: 1.000 - ETA: 17s - loss: 0.0347 - accuracy: 1.000 - ETA: 17s - loss: 0.0317 - accuracy: 1.000 - ETA: 18s - loss: 0.0333 - accuracy: 1.000 - ETA: 18s - loss: 0.0305 - accuracy: 1.000 - ETA: 18s - loss: 0.0341 - accuracy: 1.000 - ETA: 18s - loss: 0.0299 - accuracy: 1.000 - ETA: 18s - loss: 0.0328 - accuracy: 1.000 - ETA: 17s - loss: 0.0296 - accuracy: 1.000 - ETA: 17s - loss: 0.0313 - accuracy: 1.000 - ETA: 17s - loss: 0.0289 - accuracy: 1.000 - ETA: 17s - loss: 0.0337 - accuracy: 0.990 - ETA: 17s - loss: 0.0323 - accuracy: 0.991 - ETA: 16s - loss: 0.0302 - accuracy: 0.991 - ETA: 16s - loss: 0.0288 - accuracy: 0.992 - ETA: 16s - loss: 0.0272 - accuracy: 0.992 - ETA: 16s - loss: 0.0258 - accuracy: 0.993 - ETA: 16s - loss: 0.0245 - accuracy: 0.993 - ETA: 16s - loss: 0.0235 - accuracy: 0.993 - ETA: 16s - loss: 0.0234 - accuracy: 0.994 - ETA: 16s - loss: 0.0250 - accuracy: 0.994 - ETA: 16s - loss: 0.0240 - accuracy: 0.994 - ETA: 15s - loss: 0.0232 - accuracy: 0.994 - ETA: 15s - loss: 0.0223 - accuracy: 0.995 - ETA: 15s - loss: 0.0214 - accuracy: 0.995 - ETA: 15s - loss: 0.0331 - accuracy: 0.990 - ETA: 15s - loss: 0.0321 - accuracy: 0.991 - ETA: 15s - loss: 0.0311 - accuracy: 0.991 - ETA: 15s - loss: 0.0525 - accuracy: 0.987 - ETA: 15s - loss: 0.0511 - accuracy: 0.987 - ETA: 15s - loss: 0.0499 - accuracy: 0.988 - ETA: 15s - loss: 0.0551 - accuracy: 0.984 - ETA: 14s - loss: 0.0540 - accuracy: 0.985 - ETA: 14s - loss: 0.0525 - accuracy: 0.985 - ETA: 14s - loss: 0.0512 - accuracy: 0.986 - ETA: 14s - loss: 0.0503 - accuracy: 0.986 - ETA: 14s - loss: 0.0493 - accuracy: 0.986 - ETA: 14s - loss: 0.0481 - accuracy: 0.987 - ETA: 14s - loss: 0.0469 - accuracy: 0.987 - ETA: 14s - loss: 0.0459 - accuracy: 0.987 - ETA: 14s - loss: 0.0448 - accuracy: 0.988 - ETA: 14s - loss: 0.0438 - accuracy: 0.988 - ETA: 13s - loss: 0.0428 - accuracy: 0.988 - ETA: 13s - loss: 0.0441 - accuracy: 0.986 - ETA: 13s - loss: 0.0433 - accuracy: 0.986 - ETA: 13s - loss: 0.0427 - accuracy: 0.986 - ETA: 13s - loss: 0.0423 - accuracy: 0.987 - ETA: 13s - loss: 0.0416 - accuracy: 0.987 - ETA: 13s - loss: 0.0408 - accuracy: 0.987 - ETA: 13s - loss: 0.0400 - accuracy: 0.987 - ETA: 13s - loss: 0.0392 - accuracy: 0.988 - ETA: 13s - loss: 0.0386 - accuracy: 0.988 - ETA: 13s - loss: 0.0378 - accuracy: 0.988 - ETA: 12s - loss: 0.0375 - accuracy: 0.988 - ETA: 12s - loss: 0.0369 - accuracy: 0.988 - ETA: 12s - loss: 0.0379 - accuracy: 0.986 - ETA: 12s - loss: 0.0373 - accuracy: 0.987 - ETA: 12s - loss: 0.0366 - accuracy: 0.987 - ETA: 12s - loss: 0.0360 - accuracy: 0.987 - ETA: 12s - loss: 0.0354 - accuracy: 0.987 - ETA: 12s - loss: 0.0349 - accuracy: 0.987 - ETA: 12s - loss: 0.0417 - accuracy: 0.986 - ETA: 12s - loss: 0.0410 - accuracy: 0.986 - ETA: 12s - loss: 0.0404 - accuracy: 0.986 - ETA: 12s - loss: 0.0398 - accuracy: 0.986 - ETA: 11s - loss: 0.0392 - accuracy: 0.986 - ETA: 11s - loss: 0.0387 - accuracy: 0.987 - ETA: 11s - loss: 0.0381 - accuracy: 0.987 - ETA: 11s - loss: 0.0376 - accuracy: 0.987 - ETA: 11s - loss: 0.0371 - accuracy: 0.987 - ETA: 11s - loss: 0.0371 - accuracy: 0.987 - ETA: 11s - loss: 0.0373 - accuracy: 0.988 - ETA: 11s - loss: 0.0369 - accuracy: 0.988 - ETA: 11s - loss: 0.0365 - accuracy: 0.988 - ETA: 11s - loss: 0.0361 - accuracy: 0.988 - ETA: 11s - loss: 0.0359 - accuracy: 0.988 - ETA: 11s - loss: 0.0355 - accuracy: 0.988 - ETA: 10s - loss: 0.0389 - accuracy: 0.987 - ETA: 10s - loss: 0.0385 - accuracy: 0.987 - ETA: 10s - loss: 0.0383 - accuracy: 0.987 - ETA: 10s - loss: 0.0403 - accuracy: 0.986 - ETA: 10s - loss: 0.0399 - accuracy: 0.986 - ETA: 10s - loss: 0.0394 - accuracy: 0.986 - ETA: 10s - loss: 0.0390 - accuracy: 0.986 - ETA: 10s - loss: 0.0386 - accuracy: 0.986 - ETA: 10s - loss: 0.0382 - accuracy: 0.987 - ETA: 10s - loss: 0.0378 - accuracy: 0.987 - ETA: 10s - loss: 0.0374 - accuracy: 0.987 - ETA: 10s - loss: 0.0372 - accuracy: 0.987 - ETA: 10s - loss: 0.0369 - accuracy: 0.987 - ETA: 10s - loss: 0.0371 - accuracy: 0.987 - ETA: 10s - loss: 0.0368 - accuracy: 0.987 - ETA: 10s - loss: 0.0366 - accuracy: 0.987 - ETA: 10s - loss: 0.0364 - accuracy: 0.987 - ETA: 9s - loss: 0.0361 - accuracy: 0.988 - ETA: 9s - loss: 0.0376 - accuracy: 0.98 - ETA: 9s - loss: 0.0375 - accuracy: 0.98 - ETA: 9s - loss: 0.0371 - accuracy: 0.98 - ETA: 9s - loss: 0.0371 - accuracy: 0.98 - ETA: 9s - loss: 0.0368 - accuracy: 0.98 - ETA: 9s - loss: 0.0364 - accuracy: 0.98 - ETA: 9s - loss: 0.0361 - accuracy: 0.98 - ETA: 9s - loss: 0.0357 - accuracy: 0.98 - ETA: 9s - loss: 0.0354 - accuracy: 0.98 - ETA: 9s - loss: 0.0398 - accuracy: 0.98 - ETA: 9s - loss: 0.0394 - accuracy: 0.98 - ETA: 8s - loss: 0.0394 - accuracy: 0.98 - ETA: 8s - loss: 0.0419 - accuracy: 0.98 - ETA: 8s - loss: 0.0415 - accuracy: 0.98 - ETA: 8s - loss: 0.0411 - accuracy: 0.98 - ETA: 8s - loss: 0.0408 - accuracy: 0.98 - ETA: 8s - loss: 0.0430 - accuracy: 0.98 - ETA: 8s - loss: 0.0426 - accuracy: 0.98 - ETA: 8s - loss: 0.0423 - accuracy: 0.98 - ETA: 8s - loss: 0.0419 - accuracy: 0.98 - ETA: 8s - loss: 0.0415 - accuracy: 0.98 - ETA: 8s - loss: 0.0412 - accuracy: 0.98 - ETA: 8s - loss: 0.0408 - accuracy: 0.98 - ETA: 8s - loss: 0.0405 - accuracy: 0.98 - ETA: 7s - loss: 0.0408 - accuracy: 0.98 - ETA: 7s - loss: 0.0405 - accuracy: 0.98 - ETA: 7s - loss: 0.0403 - accuracy: 0.98 - ETA: 7s - loss: 0.0399 - accuracy: 0.98 - ETA: 7s - loss: 0.0400 - accuracy: 0.98 - ETA: 7s - loss: 0.0397 - accuracy: 0.98 - ETA: 7s - loss: 0.0396 - accuracy: 0.98 - ETA: 7s - loss: 0.0398 - accuracy: 0.98 - ETA: 7s - loss: 0.0396 - accuracy: 0.98 - ETA: 7s - loss: 0.0401 - accuracy: 0.98 - ETA: 7s - loss: 0.0400 - accuracy: 0.98 - ETA: 7s - loss: 0.0399 - accuracy: 0.98 - ETA: 7s - loss: 0.0397 - accuracy: 0.98 - ETA: 7s - loss: 0.0394 - accuracy: 0.98 - ETA: 7s - loss: 0.0393 - accuracy: 0.98 - ETA: 7s - loss: 0.0395 - accuracy: 0.98 - ETA: 7s - loss: 0.0399 - accuracy: 0.98 - ETA: 6s - loss: 0.0396 - accuracy: 0.98 - ETA: 6s - loss: 0.0394 - accuracy: 0.98 - ETA: 6s - loss: 0.0391 - accuracy: 0.98 - ETA: 6s - loss: 0.0388 - accuracy: 0.98 - ETA: 6s - loss: 0.0385 - accuracy: 0.98 - ETA: 6s - loss: 0.0389 - accuracy: 0.98 - ETA: 6s - loss: 0.0386 - accuracy: 0.98 - ETA: 6s - loss: 0.0384 - accuracy: 0.98 - ETA: 6s - loss: 0.0381 - accuracy: 0.98 - ETA: 6s - loss: 0.0383 - accuracy: 0.98 - ETA: 6s - loss: 0.0382 - accuracy: 0.98 - ETA: 6s - loss: 0.0380 - accuracy: 0.98 - ETA: 6s - loss: 0.0378 - accuracy: 0.98 - ETA: 5s - loss: 0.0375 - accuracy: 0.98 - ETA: 5s - loss: 0.0374 - accuracy: 0.98 - ETA: 5s - loss: 0.0373 - accuracy: 0.98 - ETA: 5s - loss: 0.0372 - accuracy: 0.98 - ETA: 5s - loss: 0.0376 - accuracy: 0.98 - ETA: 5s - loss: 0.0374 - accuracy: 0.98 - ETA: 5s - loss: 0.0371 - accuracy: 0.98 - ETA: 5s - loss: 0.0369 - accuracy: 0.98 - ETA: 5s - loss: 0.0385 - accuracy: 0.98 - ETA: 5s - loss: 0.0384 - accuracy: 0.98 - ETA: 5s - loss: 0.0382 - accuracy: 0.98 - ETA: 5s - loss: 0.0383 - accuracy: 0.98 - ETA: 4s - loss: 0.0380 - accuracy: 0.98 - ETA: 4s - loss: 0.0378 - accuracy: 0.98 - ETA: 4s - loss: 0.0406 - accuracy: 0.98 - ETA: 4s - loss: 0.0404 - accuracy: 0.98 - ETA: 4s - loss: 0.0402 - accuracy: 0.98 - ETA: 4s - loss: 0.0400 - accuracy: 0.98 - ETA: 4s - loss: 0.0428 - accuracy: 0.98 - ETA: 4s - loss: 0.0426 - accuracy: 0.98 - ETA: 4s - loss: 0.0433 - accuracy: 0.98 - ETA: 4s - loss: 0.0432 - accuracy: 0.98 - ETA: 4s - loss: 0.0429 - accuracy: 0.98 - ETA: 4s - loss: 0.0427 - accuracy: 0.98 - ETA: 4s - loss: 0.0425 - accuracy: 0.98 - ETA: 4s - loss: 0.0423 - accuracy: 0.98 - ETA: 4s - loss: 0.0423 - accuracy: 0.98 - ETA: 4s - loss: 0.0420 - accuracy: 0.98 - ETA: 4s - loss: 0.0418 - accuracy: 0.98 - ETA: 3s - loss: 0.0416 - accuracy: 0.98 - ETA: 3s - loss: 0.0414 - accuracy: 0.98 - ETA: 3s - loss: 0.0413 - accuracy: 0.98 - ETA: 3s - loss: 0.0412 - accuracy: 0.98 - ETA: 3s - loss: 0.0414 - accuracy: 0.98 - ETA: 3s - loss: 0.0412 - accuracy: 0.98 - ETA: 3s - loss: 0.0410 - accuracy: 0.98 - ETA: 3s - loss: 0.0407 - accuracy: 0.98 - ETA: 3s - loss: 0.0432 - accuracy: 0.9861"
     ]
    },
    {
     "name": "stdout",
     "output_type": "stream",
     "text": [
      "1770/1770 [==============================] - ETA: 3s - loss: 0.0431 - accuracy: 0.98 - ETA: 3s - loss: 0.0431 - accuracy: 0.98 - ETA: 3s - loss: 0.0430 - accuracy: 0.98 - ETA: 3s - loss: 0.0427 - accuracy: 0.98 - ETA: 2s - loss: 0.0425 - accuracy: 0.98 - ETA: 2s - loss: 0.0425 - accuracy: 0.98 - ETA: 2s - loss: 0.0424 - accuracy: 0.98 - ETA: 2s - loss: 0.0423 - accuracy: 0.98 - ETA: 2s - loss: 0.0421 - accuracy: 0.98 - ETA: 2s - loss: 0.0419 - accuracy: 0.98 - ETA: 2s - loss: 0.0417 - accuracy: 0.98 - ETA: 2s - loss: 0.0415 - accuracy: 0.98 - ETA: 2s - loss: 0.0438 - accuracy: 0.98 - ETA: 2s - loss: 0.0437 - accuracy: 0.98 - ETA: 2s - loss: 0.0435 - accuracy: 0.98 - ETA: 2s - loss: 0.0436 - accuracy: 0.98 - ETA: 2s - loss: 0.0434 - accuracy: 0.98 - ETA: 2s - loss: 0.0433 - accuracy: 0.98 - ETA: 2s - loss: 0.0437 - accuracy: 0.98 - ETA: 2s - loss: 0.0436 - accuracy: 0.98 - ETA: 1s - loss: 0.0435 - accuracy: 0.98 - ETA: 1s - loss: 0.0432 - accuracy: 0.98 - ETA: 1s - loss: 0.0436 - accuracy: 0.98 - ETA: 1s - loss: 0.0434 - accuracy: 0.98 - ETA: 1s - loss: 0.0433 - accuracy: 0.98 - ETA: 1s - loss: 0.0432 - accuracy: 0.98 - ETA: 1s - loss: 0.0431 - accuracy: 0.98 - ETA: 1s - loss: 0.0431 - accuracy: 0.98 - ETA: 1s - loss: 0.0430 - accuracy: 0.98 - ETA: 1s - loss: 0.0430 - accuracy: 0.98 - ETA: 1s - loss: 0.0436 - accuracy: 0.98 - ETA: 1s - loss: 0.0435 - accuracy: 0.98 - ETA: 1s - loss: 0.0433 - accuracy: 0.98 - ETA: 1s - loss: 0.0432 - accuracy: 0.98 - ETA: 1s - loss: 0.0431 - accuracy: 0.98 - ETA: 1s - loss: 0.0429 - accuracy: 0.98 - ETA: 1s - loss: 0.0428 - accuracy: 0.98 - ETA: 1s - loss: 0.0427 - accuracy: 0.98 - ETA: 1s - loss: 0.0427 - accuracy: 0.98 - ETA: 0s - loss: 0.0426 - accuracy: 0.98 - ETA: 0s - loss: 0.0425 - accuracy: 0.98 - ETA: 0s - loss: 0.0424 - accuracy: 0.98 - ETA: 0s - loss: 0.0490 - accuracy: 0.98 - ETA: 0s - loss: 0.0489 - accuracy: 0.98 - ETA: 0s - loss: 0.0488 - accuracy: 0.98 - ETA: 0s - loss: 0.0492 - accuracy: 0.98 - ETA: 0s - loss: 0.0522 - accuracy: 0.98 - ETA: 0s - loss: 0.0520 - accuracy: 0.98 - ETA: 0s - loss: 0.0519 - accuracy: 0.98 - ETA: 0s - loss: 0.0518 - accuracy: 0.98 - ETA: 0s - loss: 0.0522 - accuracy: 0.98 - ETA: 0s - loss: 0.0521 - accuracy: 0.98 - ETA: 0s - loss: 0.0520 - accuracy: 0.98 - ETA: 0s - loss: 0.0518 - accuracy: 0.98 - ETA: 0s - loss: 0.0531 - accuracy: 0.98 - ETA: 0s - loss: 0.0530 - accuracy: 0.98 - ETA: 0s - loss: 0.0529 - accuracy: 0.98 - ETA: 0s - loss: 0.0528 - accuracy: 0.98 - ETA: 0s - loss: 0.0532 - accuracy: 0.98 - ETA: 0s - loss: 0.0532 - accuracy: 0.98 - ETA: 0s - loss: 0.0531 - accuracy: 0.98 - ETA: 0s - loss: 0.0529 - accuracy: 0.98 - ETA: 0s - loss: 0.0528 - accuracy: 0.98 - 19s 11ms/step - loss: 0.0528 - accuracy: 0.9836 - val_loss: 0.0509 - val_accuracy: 0.9819\n",
      "Epoch 6/20\n"
     ]
    },
    {
     "name": "stdout",
     "output_type": "stream",
     "text": [
      "1516/1770 [========================>.....] - ETA: 15s - loss: 0.0109 - accuracy: 1.000 - ETA: 15s - loss: 0.0116 - accuracy: 1.000 - ETA: 15s - loss: 0.0693 - accuracy: 0.950 - ETA: 15s - loss: 0.0633 - accuracy: 0.964 - ETA: 15s - loss: 0.0505 - accuracy: 0.972 - ETA: 15s - loss: 0.0415 - accuracy: 0.977 - ETA: 15s - loss: 0.0351 - accuracy: 0.980 - ETA: 15s - loss: 0.0314 - accuracy: 0.983 - ETA: 15s - loss: 0.0284 - accuracy: 0.985 - ETA: 15s - loss: 0.0301 - accuracy: 0.986 - ETA: 15s - loss: 0.0283 - accuracy: 0.988 - ETA: 15s - loss: 0.0284 - accuracy: 0.989 - ETA: 15s - loss: 0.0262 - accuracy: 0.990 - ETA: 15s - loss: 0.0246 - accuracy: 0.990 - ETA: 15s - loss: 0.0236 - accuracy: 0.991 - ETA: 15s - loss: 0.0409 - accuracy: 0.983 - ETA: 15s - loss: 0.0387 - accuracy: 0.984 - ETA: 14s - loss: 0.0368 - accuracy: 0.985 - ETA: 14s - loss: 0.0348 - accuracy: 0.986 - ETA: 14s - loss: 0.0337 - accuracy: 0.987 - ETA: 14s - loss: 0.0321 - accuracy: 0.987 - ETA: 14s - loss: 0.0359 - accuracy: 0.982 - ETA: 14s - loss: 0.0343 - accuracy: 0.983 - ETA: 14s - loss: 0.0331 - accuracy: 0.984 - ETA: 14s - loss: 0.0318 - accuracy: 0.984 - ETA: 14s - loss: 0.0306 - accuracy: 0.985 - ETA: 14s - loss: 0.0295 - accuracy: 0.985 - ETA: 14s - loss: 0.0284 - accuracy: 0.986 - ETA: 14s - loss: 0.0278 - accuracy: 0.986 - ETA: 14s - loss: 0.0268 - accuracy: 0.987 - ETA: 14s - loss: 0.0259 - accuracy: 0.987 - ETA: 13s - loss: 0.0267 - accuracy: 0.988 - ETA: 13s - loss: 0.0258 - accuracy: 0.988 - ETA: 13s - loss: 0.0255 - accuracy: 0.988 - ETA: 13s - loss: 0.0249 - accuracy: 0.989 - ETA: 13s - loss: 0.0244 - accuracy: 0.989 - ETA: 13s - loss: 0.0237 - accuracy: 0.989 - ETA: 13s - loss: 0.0231 - accuracy: 0.990 - ETA: 13s - loss: 0.0226 - accuracy: 0.990 - ETA: 13s - loss: 0.0221 - accuracy: 0.990 - ETA: 13s - loss: 0.0246 - accuracy: 0.987 - ETA: 13s - loss: 0.0240 - accuracy: 0.988 - ETA: 13s - loss: 0.0234 - accuracy: 0.988 - ETA: 13s - loss: 0.0231 - accuracy: 0.988 - ETA: 13s - loss: 0.0226 - accuracy: 0.988 - ETA: 13s - loss: 0.0222 - accuracy: 0.989 - ETA: 12s - loss: 0.0228 - accuracy: 0.989 - ETA: 12s - loss: 0.0223 - accuracy: 0.989 - ETA: 12s - loss: 0.0218 - accuracy: 0.989 - ETA: 12s - loss: 0.0214 - accuracy: 0.989 - ETA: 12s - loss: 0.0247 - accuracy: 0.987 - ETA: 12s - loss: 0.0243 - accuracy: 0.987 - ETA: 12s - loss: 0.0238 - accuracy: 0.988 - ETA: 12s - loss: 0.0234 - accuracy: 0.988 - ETA: 12s - loss: 0.0230 - accuracy: 0.988 - ETA: 12s - loss: 0.0226 - accuracy: 0.988 - ETA: 12s - loss: 0.0235 - accuracy: 0.988 - ETA: 12s - loss: 0.0319 - accuracy: 0.987 - ETA: 12s - loss: 0.0316 - accuracy: 0.987 - ETA: 11s - loss: 0.0311 - accuracy: 0.987 - ETA: 11s - loss: 0.0307 - accuracy: 0.987 - ETA: 11s - loss: 0.0311 - accuracy: 0.987 - ETA: 11s - loss: 0.0306 - accuracy: 0.988 - ETA: 11s - loss: 0.0309 - accuracy: 0.988 - ETA: 11s - loss: 0.0305 - accuracy: 0.988 - ETA: 11s - loss: 0.0301 - accuracy: 0.988 - ETA: 11s - loss: 0.0296 - accuracy: 0.988 - ETA: 11s - loss: 0.0292 - accuracy: 0.988 - ETA: 11s - loss: 0.0303 - accuracy: 0.989 - ETA: 11s - loss: 0.0299 - accuracy: 0.989 - ETA: 11s - loss: 0.0323 - accuracy: 0.987 - ETA: 11s - loss: 0.0392 - accuracy: 0.986 - ETA: 10s - loss: 0.0386 - accuracy: 0.986 - ETA: 10s - loss: 0.0395 - accuracy: 0.984 - ETA: 10s - loss: 0.0391 - accuracy: 0.984 - ETA: 10s - loss: 0.0389 - accuracy: 0.985 - ETA: 10s - loss: 0.0439 - accuracy: 0.983 - ETA: 10s - loss: 0.0436 - accuracy: 0.983 - ETA: 10s - loss: 0.0433 - accuracy: 0.984 - ETA: 10s - loss: 0.0429 - accuracy: 0.984 - ETA: 10s - loss: 0.0424 - accuracy: 0.984 - ETA: 10s - loss: 0.0419 - accuracy: 0.984 - ETA: 10s - loss: 0.0420 - accuracy: 0.984 - ETA: 10s - loss: 0.0417 - accuracy: 0.985 - ETA: 10s - loss: 0.0425 - accuracy: 0.983 - ETA: 10s - loss: 0.0431 - accuracy: 0.983 - ETA: 9s - loss: 0.0430 - accuracy: 0.984 - ETA: 9s - loss: 0.0425 - accuracy: 0.98 - ETA: 9s - loss: 0.0421 - accuracy: 0.98 - ETA: 9s - loss: 0.0416 - accuracy: 0.98 - ETA: 9s - loss: 0.0419 - accuracy: 0.98 - ETA: 9s - loss: 0.0415 - accuracy: 0.98 - ETA: 9s - loss: 0.0410 - accuracy: 0.98 - ETA: 9s - loss: 0.0406 - accuracy: 0.98 - ETA: 9s - loss: 0.0402 - accuracy: 0.98 - ETA: 9s - loss: 0.0398 - accuracy: 0.98 - ETA: 9s - loss: 0.0394 - accuracy: 0.98 - ETA: 9s - loss: 0.0392 - accuracy: 0.98 - ETA: 9s - loss: 0.0389 - accuracy: 0.98 - ETA: 8s - loss: 0.0385 - accuracy: 0.98 - ETA: 8s - loss: 0.0382 - accuracy: 0.98 - ETA: 8s - loss: 0.0380 - accuracy: 0.98 - ETA: 8s - loss: 0.0383 - accuracy: 0.98 - ETA: 8s - loss: 0.0381 - accuracy: 0.98 - ETA: 8s - loss: 0.0377 - accuracy: 0.98 - ETA: 8s - loss: 0.0374 - accuracy: 0.98 - ETA: 8s - loss: 0.0370 - accuracy: 0.98 - ETA: 8s - loss: 0.0367 - accuracy: 0.98 - ETA: 8s - loss: 0.0364 - accuracy: 0.98 - ETA: 8s - loss: 0.0361 - accuracy: 0.98 - ETA: 8s - loss: 0.0359 - accuracy: 0.98 - ETA: 8s - loss: 0.0356 - accuracy: 0.98 - ETA: 8s - loss: 0.0354 - accuracy: 0.98 - ETA: 7s - loss: 0.0351 - accuracy: 0.98 - ETA: 7s - loss: 0.0348 - accuracy: 0.98 - ETA: 7s - loss: 0.0345 - accuracy: 0.98 - ETA: 7s - loss: 0.0342 - accuracy: 0.98 - ETA: 7s - loss: 0.0347 - accuracy: 0.98 - ETA: 7s - loss: 0.0344 - accuracy: 0.98 - ETA: 7s - loss: 0.0342 - accuracy: 0.98 - ETA: 7s - loss: 0.0389 - accuracy: 0.98 - ETA: 7s - loss: 0.0385 - accuracy: 0.98 - ETA: 7s - loss: 0.0382 - accuracy: 0.98 - ETA: 7s - loss: 0.0379 - accuracy: 0.98 - ETA: 7s - loss: 0.0378 - accuracy: 0.98 - ETA: 7s - loss: 0.0375 - accuracy: 0.98 - ETA: 7s - loss: 0.0373 - accuracy: 0.98 - ETA: 6s - loss: 0.0370 - accuracy: 0.98 - ETA: 6s - loss: 0.0367 - accuracy: 0.98 - ETA: 6s - loss: 0.0365 - accuracy: 0.98 - ETA: 6s - loss: 0.0362 - accuracy: 0.98 - ETA: 6s - loss: 0.0360 - accuracy: 0.98 - ETA: 6s - loss: 0.0357 - accuracy: 0.98 - ETA: 6s - loss: 0.0354 - accuracy: 0.98 - ETA: 6s - loss: 0.0359 - accuracy: 0.98 - ETA: 6s - loss: 0.0356 - accuracy: 0.98 - ETA: 6s - loss: 0.0354 - accuracy: 0.98 - ETA: 6s - loss: 0.0352 - accuracy: 0.98 - ETA: 6s - loss: 0.0350 - accuracy: 0.98 - ETA: 6s - loss: 0.0347 - accuracy: 0.98 - ETA: 5s - loss: 0.0345 - accuracy: 0.98 - ETA: 5s - loss: 0.0404 - accuracy: 0.98 - ETA: 5s - loss: 0.0401 - accuracy: 0.98 - ETA: 5s - loss: 0.0399 - accuracy: 0.98 - ETA: 5s - loss: 0.0396 - accuracy: 0.98 - ETA: 5s - loss: 0.0393 - accuracy: 0.98 - ETA: 5s - loss: 0.0404 - accuracy: 0.98 - ETA: 5s - loss: 0.0453 - accuracy: 0.98 - ETA: 5s - loss: 0.0494 - accuracy: 0.98 - ETA: 5s - loss: 0.0491 - accuracy: 0.98 - ETA: 5s - loss: 0.0492 - accuracy: 0.98 - ETA: 5s - loss: 0.0490 - accuracy: 0.98 - ETA: 5s - loss: 0.0488 - accuracy: 0.98 - ETA: 5s - loss: 0.0485 - accuracy: 0.98 - ETA: 4s - loss: 0.0482 - accuracy: 0.98 - ETA: 4s - loss: 0.0479 - accuracy: 0.98 - ETA: 4s - loss: 0.0477 - accuracy: 0.98 - ETA: 4s - loss: 0.0493 - accuracy: 0.98 - ETA: 4s - loss: 0.0491 - accuracy: 0.98 - ETA: 4s - loss: 0.0490 - accuracy: 0.98 - ETA: 4s - loss: 0.0487 - accuracy: 0.98 - ETA: 4s - loss: 0.0489 - accuracy: 0.98 - ETA: 4s - loss: 0.0487 - accuracy: 0.98 - ETA: 4s - loss: 0.0484 - accuracy: 0.98 - ETA: 4s - loss: 0.0487 - accuracy: 0.98 - ETA: 4s - loss: 0.0485 - accuracy: 0.98 - ETA: 4s - loss: 0.0488 - accuracy: 0.98 - ETA: 3s - loss: 0.0486 - accuracy: 0.98 - ETA: 3s - loss: 0.0483 - accuracy: 0.98 - ETA: 3s - loss: 0.0480 - accuracy: 0.98 - ETA: 3s - loss: 0.0483 - accuracy: 0.98 - ETA: 3s - loss: 0.0481 - accuracy: 0.98 - ETA: 3s - loss: 0.0481 - accuracy: 0.98 - ETA: 3s - loss: 0.0482 - accuracy: 0.98 - ETA: 3s - loss: 0.0482 - accuracy: 0.98 - ETA: 3s - loss: 0.0482 - accuracy: 0.98 - ETA: 3s - loss: 0.0480 - accuracy: 0.98 - ETA: 3s - loss: 0.0477 - accuracy: 0.98 - ETA: 3s - loss: 0.0475 - accuracy: 0.98 - ETA: 3s - loss: 0.0477 - accuracy: 0.98 - ETA: 3s - loss: 0.0475 - accuracy: 0.98 - ETA: 2s - loss: 0.0482 - accuracy: 0.98 - ETA: 2s - loss: 0.0480 - accuracy: 0.98 - ETA: 2s - loss: 0.0480 - accuracy: 0.98 - ETA: 2s - loss: 0.0477 - accuracy: 0.98 - ETA: 2s - loss: 0.0475 - accuracy: 0.98 - ETA: 2s - loss: 0.0474 - accuracy: 0.98 - ETA: 2s - loss: 0.0472 - accuracy: 0.98 - ETA: 2s - loss: 0.0470 - accuracy: 0.98 - ETA: 2s - loss: 0.0483 - accuracy: 0.9842"
     ]
    },
    {
     "name": "stdout",
     "output_type": "stream",
     "text": [
      "1770/1770 [==============================] - ETA: 2s - loss: 0.0480 - accuracy: 0.98 - ETA: 2s - loss: 0.0482 - accuracy: 0.98 - ETA: 2s - loss: 0.0479 - accuracy: 0.98 - ETA: 2s - loss: 0.0477 - accuracy: 0.98 - ETA: 1s - loss: 0.0475 - accuracy: 0.98 - ETA: 1s - loss: 0.0473 - accuracy: 0.98 - ETA: 1s - loss: 0.0471 - accuracy: 0.98 - ETA: 1s - loss: 0.0469 - accuracy: 0.98 - ETA: 1s - loss: 0.0468 - accuracy: 0.98 - ETA: 1s - loss: 0.0465 - accuracy: 0.98 - ETA: 1s - loss: 0.0463 - accuracy: 0.98 - ETA: 1s - loss: 0.0461 - accuracy: 0.98 - ETA: 1s - loss: 0.0459 - accuracy: 0.98 - ETA: 1s - loss: 0.0456 - accuracy: 0.98 - ETA: 1s - loss: 0.0454 - accuracy: 0.98 - ETA: 1s - loss: 0.0484 - accuracy: 0.98 - ETA: 1s - loss: 0.0483 - accuracy: 0.98 - ETA: 1s - loss: 0.0481 - accuracy: 0.98 - ETA: 0s - loss: 0.0479 - accuracy: 0.98 - ETA: 0s - loss: 0.0477 - accuracy: 0.98 - ETA: 0s - loss: 0.0481 - accuracy: 0.98 - ETA: 0s - loss: 0.0479 - accuracy: 0.98 - ETA: 0s - loss: 0.0477 - accuracy: 0.98 - ETA: 0s - loss: 0.0512 - accuracy: 0.98 - ETA: 0s - loss: 0.0512 - accuracy: 0.98 - ETA: 0s - loss: 0.0514 - accuracy: 0.98 - ETA: 0s - loss: 0.0515 - accuracy: 0.98 - ETA: 0s - loss: 0.0513 - accuracy: 0.98 - ETA: 0s - loss: 0.0510 - accuracy: 0.98 - ETA: 0s - loss: 0.0513 - accuracy: 0.98 - ETA: 0s - loss: 0.0510 - accuracy: 0.98 - 17s 10ms/step - loss: 0.0509 - accuracy: 0.9842 - val_loss: 0.0800 - val_accuracy: 0.9842\n",
      "Epoch 7/20\n"
     ]
    },
    {
     "name": "stdout",
     "output_type": "stream",
     "text": [
      "1512/1770 [========================>.....] - ETA: 15s - loss: 8.9407e-08 - accuracy: 1.000 - ETA: 16s - loss: 0.0461 - accuracy: 1.0000    - ETA: 16s - loss: 0.0280 - accuracy: 1.000 - ETA: 16s - loss: 0.0200 - accuracy: 1.000 - ETA: 16s - loss: 0.0204 - accuracy: 1.000 - ETA: 16s - loss: 0.0167 - accuracy: 1.000 - ETA: 16s - loss: 0.0159 - accuracy: 1.000 - ETA: 16s - loss: 0.0369 - accuracy: 0.983 - ETA: 15s - loss: 0.0326 - accuracy: 0.985 - ETA: 15s - loss: 0.0315 - accuracy: 0.986 - ETA: 15s - loss: 0.0679 - accuracy: 0.964 - ETA: 15s - loss: 0.0627 - accuracy: 0.967 - ETA: 15s - loss: 0.0579 - accuracy: 0.970 - ETA: 15s - loss: 0.0734 - accuracy: 0.963 - ETA: 15s - loss: 0.0778 - accuracy: 0.965 - ETA: 15s - loss: 0.0793 - accuracy: 0.959 - ETA: 15s - loss: 0.0790 - accuracy: 0.962 - ETA: 15s - loss: 0.0761 - accuracy: 0.964 - ETA: 15s - loss: 0.0835 - accuracy: 0.959 - ETA: 15s - loss: 0.0806 - accuracy: 0.961 - ETA: 15s - loss: 0.0940 - accuracy: 0.957 - ETA: 14s - loss: 0.0928 - accuracy: 0.959 - ETA: 14s - loss: 0.0906 - accuracy: 0.961 - ETA: 14s - loss: 0.0868 - accuracy: 0.962 - ETA: 14s - loss: 0.0839 - accuracy: 0.964 - ETA: 14s - loss: 0.0823 - accuracy: 0.965 - ETA: 14s - loss: 0.0794 - accuracy: 0.967 - ETA: 14s - loss: 0.0766 - accuracy: 0.968 - ETA: 14s - loss: 0.0748 - accuracy: 0.969 - ETA: 14s - loss: 0.0726 - accuracy: 0.970 - ETA: 14s - loss: 0.0709 - accuracy: 0.971 - ETA: 14s - loss: 0.0686 - accuracy: 0.972 - ETA: 14s - loss: 0.0705 - accuracy: 0.969 - ETA: 14s - loss: 0.0688 - accuracy: 0.970 - ETA: 13s - loss: 0.0669 - accuracy: 0.971 - ETA: 13s - loss: 0.0662 - accuracy: 0.971 - ETA: 13s - loss: 0.0646 - accuracy: 0.972 - ETA: 13s - loss: 0.0629 - accuracy: 0.973 - ETA: 13s - loss: 0.0616 - accuracy: 0.974 - ETA: 13s - loss: 0.0601 - accuracy: 0.974 - ETA: 13s - loss: 0.0591 - accuracy: 0.975 - ETA: 13s - loss: 0.0578 - accuracy: 0.975 - ETA: 13s - loss: 0.0568 - accuracy: 0.976 - ETA: 13s - loss: 0.0555 - accuracy: 0.977 - ETA: 13s - loss: 0.0543 - accuracy: 0.977 - ETA: 13s - loss: 0.0531 - accuracy: 0.978 - ETA: 13s - loss: 0.0521 - accuracy: 0.978 - ETA: 12s - loss: 0.0510 - accuracy: 0.978 - ETA: 12s - loss: 0.0500 - accuracy: 0.979 - ETA: 12s - loss: 0.0494 - accuracy: 0.979 - ETA: 12s - loss: 0.0484 - accuracy: 0.980 - ETA: 12s - loss: 0.0474 - accuracy: 0.980 - ETA: 12s - loss: 0.0469 - accuracy: 0.981 - ETA: 12s - loss: 0.0461 - accuracy: 0.981 - ETA: 12s - loss: 0.0454 - accuracy: 0.981 - ETA: 12s - loss: 0.0454 - accuracy: 0.982 - ETA: 12s - loss: 0.0446 - accuracy: 0.982 - ETA: 12s - loss: 0.0439 - accuracy: 0.982 - ETA: 12s - loss: 0.0431 - accuracy: 0.982 - ETA: 12s - loss: 0.0424 - accuracy: 0.983 - ETA: 11s - loss: 0.0417 - accuracy: 0.983 - ETA: 11s - loss: 0.0413 - accuracy: 0.983 - ETA: 11s - loss: 0.0406 - accuracy: 0.984 - ETA: 11s - loss: 0.0403 - accuracy: 0.984 - ETA: 11s - loss: 0.0397 - accuracy: 0.984 - ETA: 11s - loss: 0.0391 - accuracy: 0.984 - ETA: 11s - loss: 0.0385 - accuracy: 0.985 - ETA: 11s - loss: 0.0380 - accuracy: 0.985 - ETA: 11s - loss: 0.0374 - accuracy: 0.985 - ETA: 11s - loss: 0.0369 - accuracy: 0.985 - ETA: 11s - loss: 0.0454 - accuracy: 0.984 - ETA: 11s - loss: 0.0448 - accuracy: 0.984 - ETA: 11s - loss: 0.0441 - accuracy: 0.984 - ETA: 11s - loss: 0.0436 - accuracy: 0.984 - ETA: 10s - loss: 0.0432 - accuracy: 0.984 - ETA: 10s - loss: 0.0428 - accuracy: 0.985 - ETA: 10s - loss: 0.0422 - accuracy: 0.985 - ETA: 10s - loss: 0.0423 - accuracy: 0.985 - ETA: 10s - loss: 0.0429 - accuracy: 0.984 - ETA: 10s - loss: 0.0424 - accuracy: 0.984 - ETA: 10s - loss: 0.0418 - accuracy: 0.984 - ETA: 10s - loss: 0.0413 - accuracy: 0.984 - ETA: 10s - loss: 0.0439 - accuracy: 0.983 - ETA: 10s - loss: 0.0434 - accuracy: 0.983 - ETA: 10s - loss: 0.0439 - accuracy: 0.983 - ETA: 10s - loss: 0.0439 - accuracy: 0.983 - ETA: 10s - loss: 0.0434 - accuracy: 0.984 - ETA: 9s - loss: 0.0430 - accuracy: 0.984 - ETA: 9s - loss: 0.0426 - accuracy: 0.98 - ETA: 9s - loss: 0.0465 - accuracy: 0.98 - ETA: 9s - loss: 0.0461 - accuracy: 0.98 - ETA: 9s - loss: 0.0459 - accuracy: 0.98 - ETA: 9s - loss: 0.0459 - accuracy: 0.98 - ETA: 9s - loss: 0.0457 - accuracy: 0.98 - ETA: 9s - loss: 0.0452 - accuracy: 0.98 - ETA: 9s - loss: 0.0449 - accuracy: 0.98 - ETA: 9s - loss: 0.0483 - accuracy: 0.98 - ETA: 9s - loss: 0.0478 - accuracy: 0.98 - ETA: 9s - loss: 0.0473 - accuracy: 0.98 - ETA: 9s - loss: 0.0468 - accuracy: 0.98 - ETA: 9s - loss: 0.0464 - accuracy: 0.98 - ETA: 8s - loss: 0.0459 - accuracy: 0.98 - ETA: 8s - loss: 0.0455 - accuracy: 0.98 - ETA: 8s - loss: 0.0454 - accuracy: 0.98 - ETA: 8s - loss: 0.0463 - accuracy: 0.98 - ETA: 8s - loss: 0.0464 - accuracy: 0.98 - ETA: 8s - loss: 0.0463 - accuracy: 0.98 - ETA: 8s - loss: 0.0465 - accuracy: 0.98 - ETA: 8s - loss: 0.0460 - accuracy: 0.98 - ETA: 8s - loss: 0.0457 - accuracy: 0.98 - ETA: 8s - loss: 0.0457 - accuracy: 0.98 - ETA: 8s - loss: 0.0453 - accuracy: 0.98 - ETA: 8s - loss: 0.0449 - accuracy: 0.98 - ETA: 8s - loss: 0.0492 - accuracy: 0.98 - ETA: 7s - loss: 0.0490 - accuracy: 0.98 - ETA: 7s - loss: 0.0488 - accuracy: 0.98 - ETA: 7s - loss: 0.0484 - accuracy: 0.98 - ETA: 7s - loss: 0.0481 - accuracy: 0.98 - ETA: 7s - loss: 0.0543 - accuracy: 0.98 - ETA: 7s - loss: 0.0541 - accuracy: 0.98 - ETA: 7s - loss: 0.0536 - accuracy: 0.98 - ETA: 7s - loss: 0.0532 - accuracy: 0.98 - ETA: 7s - loss: 0.0527 - accuracy: 0.98 - ETA: 7s - loss: 0.0536 - accuracy: 0.98 - ETA: 7s - loss: 0.0571 - accuracy: 0.98 - ETA: 7s - loss: 0.0570 - accuracy: 0.98 - ETA: 7s - loss: 0.0567 - accuracy: 0.98 - ETA: 6s - loss: 0.0563 - accuracy: 0.98 - ETA: 6s - loss: 0.0559 - accuracy: 0.98 - ETA: 6s - loss: 0.0556 - accuracy: 0.98 - ETA: 6s - loss: 0.0552 - accuracy: 0.98 - ETA: 6s - loss: 0.0547 - accuracy: 0.98 - ETA: 6s - loss: 0.0546 - accuracy: 0.98 - ETA: 6s - loss: 0.0542 - accuracy: 0.98 - ETA: 6s - loss: 0.0540 - accuracy: 0.98 - ETA: 6s - loss: 0.0546 - accuracy: 0.98 - ETA: 6s - loss: 0.0543 - accuracy: 0.98 - ETA: 6s - loss: 0.0586 - accuracy: 0.98 - ETA: 6s - loss: 0.0592 - accuracy: 0.98 - ETA: 6s - loss: 0.0588 - accuracy: 0.98 - ETA: 6s - loss: 0.0643 - accuracy: 0.98 - ETA: 6s - loss: 0.0638 - accuracy: 0.98 - ETA: 5s - loss: 0.0647 - accuracy: 0.97 - ETA: 5s - loss: 0.0648 - accuracy: 0.97 - ETA: 5s - loss: 0.0648 - accuracy: 0.98 - ETA: 5s - loss: 0.0647 - accuracy: 0.98 - ETA: 5s - loss: 0.0662 - accuracy: 0.97 - ETA: 5s - loss: 0.0661 - accuracy: 0.97 - ETA: 5s - loss: 0.0658 - accuracy: 0.97 - ETA: 5s - loss: 0.0659 - accuracy: 0.97 - ETA: 5s - loss: 0.0656 - accuracy: 0.97 - ETA: 5s - loss: 0.0652 - accuracy: 0.97 - ETA: 5s - loss: 0.0649 - accuracy: 0.97 - ETA: 5s - loss: 0.0672 - accuracy: 0.97 - ETA: 5s - loss: 0.0668 - accuracy: 0.97 - ETA: 4s - loss: 0.0664 - accuracy: 0.97 - ETA: 4s - loss: 0.0661 - accuracy: 0.97 - ETA: 4s - loss: 0.0656 - accuracy: 0.97 - ETA: 4s - loss: 0.0652 - accuracy: 0.97 - ETA: 4s - loss: 0.0650 - accuracy: 0.97 - ETA: 4s - loss: 0.0655 - accuracy: 0.97 - ETA: 4s - loss: 0.0652 - accuracy: 0.97 - ETA: 4s - loss: 0.0650 - accuracy: 0.97 - ETA: 4s - loss: 0.0648 - accuracy: 0.97 - ETA: 4s - loss: 0.0644 - accuracy: 0.97 - ETA: 4s - loss: 0.0641 - accuracy: 0.97 - ETA: 4s - loss: 0.0640 - accuracy: 0.97 - ETA: 4s - loss: 0.0636 - accuracy: 0.97 - ETA: 3s - loss: 0.0633 - accuracy: 0.97 - ETA: 3s - loss: 0.0629 - accuracy: 0.98 - ETA: 3s - loss: 0.0629 - accuracy: 0.98 - ETA: 3s - loss: 0.0627 - accuracy: 0.98 - ETA: 3s - loss: 0.0623 - accuracy: 0.98 - ETA: 3s - loss: 0.0620 - accuracy: 0.98 - ETA: 3s - loss: 0.0616 - accuracy: 0.98 - ETA: 3s - loss: 0.0618 - accuracy: 0.98 - ETA: 3s - loss: 0.0615 - accuracy: 0.98 - ETA: 3s - loss: 0.0611 - accuracy: 0.98 - ETA: 3s - loss: 0.0608 - accuracy: 0.98 - ETA: 3s - loss: 0.0606 - accuracy: 0.98 - ETA: 3s - loss: 0.0602 - accuracy: 0.98 - ETA: 3s - loss: 0.0599 - accuracy: 0.98 - ETA: 2s - loss: 0.0596 - accuracy: 0.98 - ETA: 2s - loss: 0.0593 - accuracy: 0.98 - ETA: 2s - loss: 0.0590 - accuracy: 0.98 - ETA: 2s - loss: 0.0587 - accuracy: 0.98 - ETA: 2s - loss: 0.0584 - accuracy: 0.98 - ETA: 2s - loss: 0.0581 - accuracy: 0.98 - ETA: 2s - loss: 0.0578 - accuracy: 0.98 - ETA: 2s - loss: 0.0576 - accuracy: 0.9815"
     ]
    },
    {
     "name": "stdout",
     "output_type": "stream",
     "text": [
      "1770/1770 [==============================] - ETA: 2s - loss: 0.0573 - accuracy: 0.98 - ETA: 2s - loss: 0.0570 - accuracy: 0.98 - ETA: 2s - loss: 0.0567 - accuracy: 0.98 - ETA: 2s - loss: 0.0564 - accuracy: 0.98 - ETA: 2s - loss: 0.0561 - accuracy: 0.98 - ETA: 1s - loss: 0.0558 - accuracy: 0.98 - ETA: 1s - loss: 0.0555 - accuracy: 0.98 - ETA: 1s - loss: 0.0553 - accuracy: 0.98 - ETA: 1s - loss: 0.0550 - accuracy: 0.98 - ETA: 1s - loss: 0.0547 - accuracy: 0.98 - ETA: 1s - loss: 0.0545 - accuracy: 0.98 - ETA: 1s - loss: 0.0542 - accuracy: 0.98 - ETA: 1s - loss: 0.0539 - accuracy: 0.98 - ETA: 1s - loss: 0.0537 - accuracy: 0.98 - ETA: 1s - loss: 0.0535 - accuracy: 0.98 - ETA: 1s - loss: 0.0533 - accuracy: 0.98 - ETA: 1s - loss: 0.0530 - accuracy: 0.98 - ETA: 1s - loss: 0.0528 - accuracy: 0.98 - ETA: 1s - loss: 0.0525 - accuracy: 0.98 - ETA: 0s - loss: 0.0561 - accuracy: 0.98 - ETA: 0s - loss: 0.0559 - accuracy: 0.98 - ETA: 0s - loss: 0.0556 - accuracy: 0.98 - ETA: 0s - loss: 0.0555 - accuracy: 0.98 - ETA: 0s - loss: 0.0553 - accuracy: 0.98 - ETA: 0s - loss: 0.0551 - accuracy: 0.98 - ETA: 0s - loss: 0.0549 - accuracy: 0.98 - ETA: 0s - loss: 0.0546 - accuracy: 0.98 - ETA: 0s - loss: 0.0544 - accuracy: 0.98 - ETA: 0s - loss: 0.0548 - accuracy: 0.98 - ETA: 0s - loss: 0.0547 - accuracy: 0.98 - ETA: 0s - loss: 0.0545 - accuracy: 0.98 - ETA: 0s - loss: 0.0542 - accuracy: 0.98 - 17s 10ms/step - loss: 0.0541 - accuracy: 0.9831 - val_loss: 0.0573 - val_accuracy: 0.9842\n",
      "Epoch 8/20\n"
     ]
    },
    {
     "name": "stdout",
     "output_type": "stream",
     "text": [
      "1280/1770 [====================>.........] - ETA: 15s - loss: 1.2974e-04 - accuracy: 1.000 - ETA: 16s - loss: 0.0448 - accuracy: 1.0000    - ETA: 16s - loss: 0.0816 - accuracy: 1.000 - ETA: 17s - loss: 0.0830 - accuracy: 0.964 - ETA: 17s - loss: 0.0693 - accuracy: 0.972 - ETA: 16s - loss: 0.0571 - accuracy: 0.977 - ETA: 16s - loss: 0.0485 - accuracy: 0.980 - ETA: 16s - loss: 0.0431 - accuracy: 0.983 - ETA: 16s - loss: 0.0381 - accuracy: 0.985 - ETA: 16s - loss: 0.0359 - accuracy: 0.986 - ETA: 16s - loss: 0.0372 - accuracy: 0.988 - ETA: 16s - loss: 0.0340 - accuracy: 0.989 - ETA: 16s - loss: 0.0314 - accuracy: 0.990 - ETA: 15s - loss: 0.0293 - accuracy: 0.990 - ETA: 15s - loss: 0.0273 - accuracy: 0.991 - ETA: 15s - loss: 0.0256 - accuracy: 0.991 - ETA: 15s - loss: 0.0241 - accuracy: 0.992 - ETA: 15s - loss: 0.0400 - accuracy: 0.985 - ETA: 15s - loss: 0.0392 - accuracy: 0.986 - ETA: 15s - loss: 0.0373 - accuracy: 0.987 - ETA: 15s - loss: 0.0355 - accuracy: 0.987 - ETA: 15s - loss: 0.0341 - accuracy: 0.988 - ETA: 15s - loss: 0.0326 - accuracy: 0.988 - ETA: 14s - loss: 0.0312 - accuracy: 0.989 - ETA: 14s - loss: 0.0302 - accuracy: 0.989 - ETA: 14s - loss: 0.0547 - accuracy: 0.985 - ETA: 14s - loss: 0.0526 - accuracy: 0.985 - ETA: 14s - loss: 0.0507 - accuracy: 0.986 - ETA: 14s - loss: 0.0490 - accuracy: 0.986 - ETA: 14s - loss: 0.0473 - accuracy: 0.987 - ETA: 14s - loss: 0.0474 - accuracy: 0.987 - ETA: 14s - loss: 0.0460 - accuracy: 0.988 - ETA: 14s - loss: 0.0453 - accuracy: 0.988 - ETA: 14s - loss: 0.0446 - accuracy: 0.988 - ETA: 14s - loss: 0.0454 - accuracy: 0.988 - ETA: 14s - loss: 0.0448 - accuracy: 0.989 - ETA: 14s - loss: 0.0447 - accuracy: 0.989 - ETA: 14s - loss: 0.0440 - accuracy: 0.989 - ETA: 14s - loss: 0.0434 - accuracy: 0.989 - ETA: 14s - loss: 0.0428 - accuracy: 0.989 - ETA: 15s - loss: 0.0422 - accuracy: 0.989 - ETA: 15s - loss: 0.0418 - accuracy: 0.989 - ETA: 15s - loss: 0.0419 - accuracy: 0.990 - ETA: 15s - loss: 0.0414 - accuracy: 0.990 - ETA: 15s - loss: 0.0409 - accuracy: 0.990 - ETA: 15s - loss: 0.0404 - accuracy: 0.990 - ETA: 15s - loss: 0.0399 - accuracy: 0.990 - ETA: 15s - loss: 0.0394 - accuracy: 0.990 - ETA: 15s - loss: 0.0389 - accuracy: 0.990 - ETA: 15s - loss: 0.0381 - accuracy: 0.991 - ETA: 15s - loss: 0.0372 - accuracy: 0.991 - ETA: 15s - loss: 0.0368 - accuracy: 0.991 - ETA: 15s - loss: 0.0364 - accuracy: 0.991 - ETA: 15s - loss: 0.0358 - accuracy: 0.991 - ETA: 14s - loss: 0.0350 - accuracy: 0.991 - ETA: 14s - loss: 0.0343 - accuracy: 0.992 - ETA: 14s - loss: 0.0336 - accuracy: 0.992 - ETA: 14s - loss: 0.0329 - accuracy: 0.992 - ETA: 14s - loss: 0.0326 - accuracy: 0.992 - ETA: 14s - loss: 0.0346 - accuracy: 0.990 - ETA: 14s - loss: 0.0344 - accuracy: 0.990 - ETA: 14s - loss: 0.0340 - accuracy: 0.990 - ETA: 14s - loss: 0.0337 - accuracy: 0.990 - ETA: 14s - loss: 0.0334 - accuracy: 0.990 - ETA: 14s - loss: 0.0331 - accuracy: 0.990 - ETA: 14s - loss: 0.0330 - accuracy: 0.990 - ETA: 14s - loss: 0.0327 - accuracy: 0.990 - ETA: 14s - loss: 0.0321 - accuracy: 0.990 - ETA: 14s - loss: 0.0316 - accuracy: 0.991 - ETA: 14s - loss: 0.0311 - accuracy: 0.991 - ETA: 14s - loss: 0.0312 - accuracy: 0.991 - ETA: 14s - loss: 0.0306 - accuracy: 0.991 - ETA: 13s - loss: 0.0301 - accuracy: 0.991 - ETA: 13s - loss: 0.0297 - accuracy: 0.991 - ETA: 13s - loss: 0.0292 - accuracy: 0.991 - ETA: 13s - loss: 0.0288 - accuracy: 0.992 - ETA: 13s - loss: 0.0283 - accuracy: 0.992 - ETA: 13s - loss: 0.0279 - accuracy: 0.992 - ETA: 13s - loss: 0.0275 - accuracy: 0.992 - ETA: 13s - loss: 0.0271 - accuracy: 0.992 - ETA: 13s - loss: 0.0267 - accuracy: 0.992 - ETA: 12s - loss: 0.0263 - accuracy: 0.992 - ETA: 12s - loss: 0.0273 - accuracy: 0.991 - ETA: 12s - loss: 0.0270 - accuracy: 0.991 - ETA: 12s - loss: 0.0266 - accuracy: 0.991 - ETA: 12s - loss: 0.0262 - accuracy: 0.991 - ETA: 12s - loss: 0.0259 - accuracy: 0.991 - ETA: 12s - loss: 0.0255 - accuracy: 0.991 - ETA: 12s - loss: 0.0252 - accuracy: 0.991 - ETA: 12s - loss: 0.0249 - accuracy: 0.991 - ETA: 12s - loss: 0.0246 - accuracy: 0.992 - ETA: 11s - loss: 0.0243 - accuracy: 0.992 - ETA: 11s - loss: 0.0240 - accuracy: 0.992 - ETA: 11s - loss: 0.0237 - accuracy: 0.992 - ETA: 11s - loss: 0.0234 - accuracy: 0.992 - ETA: 11s - loss: 0.0232 - accuracy: 0.992 - ETA: 11s - loss: 0.0237 - accuracy: 0.992 - ETA: 11s - loss: 0.0234 - accuracy: 0.992 - ETA: 11s - loss: 0.0231 - accuracy: 0.992 - ETA: 11s - loss: 0.0230 - accuracy: 0.992 - ETA: 11s - loss: 0.0229 - accuracy: 0.992 - ETA: 11s - loss: 0.0227 - accuracy: 0.992 - ETA: 11s - loss: 0.0227 - accuracy: 0.992 - ETA: 11s - loss: 0.0225 - accuracy: 0.993 - ETA: 11s - loss: 0.0222 - accuracy: 0.993 - ETA: 10s - loss: 0.0220 - accuracy: 0.993 - ETA: 10s - loss: 0.0217 - accuracy: 0.993 - ETA: 10s - loss: 0.0215 - accuracy: 0.993 - ETA: 10s - loss: 0.0213 - accuracy: 0.993 - ETA: 10s - loss: 0.0211 - accuracy: 0.993 - ETA: 10s - loss: 0.0215 - accuracy: 0.993 - ETA: 10s - loss: 0.0252 - accuracy: 0.992 - ETA: 10s - loss: 0.0250 - accuracy: 0.992 - ETA: 10s - loss: 0.0247 - accuracy: 0.992 - ETA: 10s - loss: 0.0245 - accuracy: 0.992 - ETA: 10s - loss: 0.0243 - accuracy: 0.992 - ETA: 9s - loss: 0.0318 - accuracy: 0.991 - ETA: 9s - loss: 0.0315 - accuracy: 0.99 - ETA: 9s - loss: 0.0313 - accuracy: 0.99 - ETA: 9s - loss: 0.0310 - accuracy: 0.99 - ETA: 9s - loss: 0.0307 - accuracy: 0.99 - ETA: 9s - loss: 0.0312 - accuracy: 0.99 - ETA: 9s - loss: 0.0309 - accuracy: 0.99 - ETA: 9s - loss: 0.0350 - accuracy: 0.98 - ETA: 9s - loss: 0.0349 - accuracy: 0.98 - ETA: 9s - loss: 0.0349 - accuracy: 0.98 - ETA: 9s - loss: 0.0347 - accuracy: 0.99 - ETA: 8s - loss: 0.0344 - accuracy: 0.99 - ETA: 8s - loss: 0.0341 - accuracy: 0.99 - ETA: 8s - loss: 0.0339 - accuracy: 0.99 - ETA: 8s - loss: 0.0337 - accuracy: 0.99 - ETA: 8s - loss: 0.0337 - accuracy: 0.99 - ETA: 8s - loss: 0.0345 - accuracy: 0.98 - ETA: 8s - loss: 0.0343 - accuracy: 0.98 - ETA: 8s - loss: 0.0343 - accuracy: 0.98 - ETA: 8s - loss: 0.0342 - accuracy: 0.98 - ETA: 8s - loss: 0.0339 - accuracy: 0.98 - ETA: 8s - loss: 0.0337 - accuracy: 0.98 - ETA: 8s - loss: 0.0336 - accuracy: 0.99 - ETA: 7s - loss: 0.0334 - accuracy: 0.99 - ETA: 7s - loss: 0.0331 - accuracy: 0.99 - ETA: 7s - loss: 0.0328 - accuracy: 0.99 - ETA: 7s - loss: 0.0326 - accuracy: 0.99 - ETA: 7s - loss: 0.0331 - accuracy: 0.98 - ETA: 7s - loss: 0.0328 - accuracy: 0.98 - ETA: 7s - loss: 0.0326 - accuracy: 0.98 - ETA: 7s - loss: 0.0332 - accuracy: 0.98 - ETA: 7s - loss: 0.0330 - accuracy: 0.98 - ETA: 7s - loss: 0.0328 - accuracy: 0.98 - ETA: 7s - loss: 0.0325 - accuracy: 0.98 - ETA: 7s - loss: 0.0325 - accuracy: 0.98 - ETA: 6s - loss: 0.0324 - accuracy: 0.98 - ETA: 6s - loss: 0.0322 - accuracy: 0.98 - ETA: 6s - loss: 0.0323 - accuracy: 0.98 - ETA: 6s - loss: 0.0322 - accuracy: 0.98 - ETA: 6s - loss: 0.0320 - accuracy: 0.98 - ETA: 6s - loss: 0.0318 - accuracy: 0.98 - ETA: 6s - loss: 0.0316 - accuracy: 0.98 - ETA: 6s - loss: 0.0314 - accuracy: 0.98 - ETA: 6s - loss: 0.0312 - accuracy: 0.98 - ETA: 6s - loss: 0.0310 - accuracy: 0.98 - ETA: 6s - loss: 0.0308 - accuracy: 0.98 - ETA: 6s - loss: 0.0307 - accuracy: 0.98 - ETA: 6s - loss: 0.0306 - accuracy: 0.98 - ETA: 6s - loss: 0.0305 - accuracy: 0.98 - ETA: 6s - loss: 0.0304 - accuracy: 0.98 - ETA: 5s - loss: 0.0303 - accuracy: 0.98 - ETA: 5s - loss: 0.0302 - accuracy: 0.99 - ETA: 5s - loss: 0.0301 - accuracy: 0.99 - ETA: 5s - loss: 0.0300 - accuracy: 0.99 - ETA: 5s - loss: 0.0299 - accuracy: 0.99 - ETA: 5s - loss: 0.0298 - accuracy: 0.99 - ETA: 5s - loss: 0.0297 - accuracy: 0.99 - ETA: 5s - loss: 0.0296 - accuracy: 0.99 - ETA: 5s - loss: 0.0295 - accuracy: 0.99 - ETA: 5s - loss: 0.0294 - accuracy: 0.99 - ETA: 5s - loss: 0.0293 - accuracy: 0.99 - ETA: 5s - loss: 0.0293 - accuracy: 0.99 - ETA: 5s - loss: 0.0292 - accuracy: 0.99 - ETA: 5s - loss: 0.0291 - accuracy: 0.99 - ETA: 5s - loss: 0.0290 - accuracy: 0.99 - ETA: 5s - loss: 0.0289 - accuracy: 0.99 - ETA: 5s - loss: 0.0288 - accuracy: 0.99 - ETA: 5s - loss: 0.0287 - accuracy: 0.99 - ETA: 5s - loss: 0.0286 - accuracy: 0.99 - ETA: 5s - loss: 0.0286 - accuracy: 0.99 - ETA: 5s - loss: 0.0285 - accuracy: 0.99 - ETA: 5s - loss: 0.0284 - accuracy: 0.99 - ETA: 5s - loss: 0.0283 - accuracy: 0.9906"
     ]
    },
    {
     "name": "stdout",
     "output_type": "stream",
     "text": [
      "1770/1770 [==============================] - ETA: 5s - loss: 0.0282 - accuracy: 0.99 - ETA: 5s - loss: 0.0281 - accuracy: 0.99 - ETA: 5s - loss: 0.0281 - accuracy: 0.99 - ETA: 5s - loss: 0.0297 - accuracy: 0.99 - ETA: 5s - loss: 0.0296 - accuracy: 0.99 - ETA: 5s - loss: 0.0295 - accuracy: 0.99 - ETA: 5s - loss: 0.0294 - accuracy: 0.99 - ETA: 4s - loss: 0.0293 - accuracy: 0.99 - ETA: 4s - loss: 0.0307 - accuracy: 0.98 - ETA: 4s - loss: 0.0306 - accuracy: 0.98 - ETA: 4s - loss: 0.0305 - accuracy: 0.98 - ETA: 4s - loss: 0.0304 - accuracy: 0.98 - ETA: 4s - loss: 0.0303 - accuracy: 0.98 - ETA: 4s - loss: 0.0302 - accuracy: 0.98 - ETA: 4s - loss: 0.0301 - accuracy: 0.98 - ETA: 4s - loss: 0.0300 - accuracy: 0.98 - ETA: 4s - loss: 0.0300 - accuracy: 0.98 - ETA: 4s - loss: 0.0299 - accuracy: 0.98 - ETA: 4s - loss: 0.0299 - accuracy: 0.98 - ETA: 4s - loss: 0.0298 - accuracy: 0.98 - ETA: 4s - loss: 0.0297 - accuracy: 0.98 - ETA: 4s - loss: 0.0295 - accuracy: 0.98 - ETA: 4s - loss: 0.0294 - accuracy: 0.98 - ETA: 4s - loss: 0.0292 - accuracy: 0.98 - ETA: 4s - loss: 0.0290 - accuracy: 0.99 - ETA: 4s - loss: 0.0289 - accuracy: 0.99 - ETA: 3s - loss: 0.0287 - accuracy: 0.99 - ETA: 3s - loss: 0.0294 - accuracy: 0.98 - ETA: 3s - loss: 0.0295 - accuracy: 0.98 - ETA: 3s - loss: 0.0294 - accuracy: 0.98 - ETA: 3s - loss: 0.0294 - accuracy: 0.98 - ETA: 3s - loss: 0.0292 - accuracy: 0.98 - ETA: 3s - loss: 0.0298 - accuracy: 0.98 - ETA: 3s - loss: 0.0298 - accuracy: 0.98 - ETA: 3s - loss: 0.0296 - accuracy: 0.98 - ETA: 3s - loss: 0.0295 - accuracy: 0.98 - ETA: 3s - loss: 0.0293 - accuracy: 0.98 - ETA: 3s - loss: 0.0292 - accuracy: 0.98 - ETA: 2s - loss: 0.0304 - accuracy: 0.98 - ETA: 2s - loss: 0.0309 - accuracy: 0.98 - ETA: 2s - loss: 0.0307 - accuracy: 0.98 - ETA: 2s - loss: 0.0305 - accuracy: 0.98 - ETA: 2s - loss: 0.0306 - accuracy: 0.98 - ETA: 2s - loss: 0.0304 - accuracy: 0.98 - ETA: 2s - loss: 0.0316 - accuracy: 0.98 - ETA: 2s - loss: 0.0314 - accuracy: 0.98 - ETA: 2s - loss: 0.0318 - accuracy: 0.98 - ETA: 2s - loss: 0.0316 - accuracy: 0.98 - ETA: 2s - loss: 0.0315 - accuracy: 0.98 - ETA: 1s - loss: 0.0327 - accuracy: 0.98 - ETA: 1s - loss: 0.0326 - accuracy: 0.98 - ETA: 1s - loss: 0.0325 - accuracy: 0.98 - ETA: 1s - loss: 0.0328 - accuracy: 0.98 - ETA: 1s - loss: 0.0327 - accuracy: 0.98 - ETA: 1s - loss: 0.0325 - accuracy: 0.98 - ETA: 1s - loss: 0.0324 - accuracy: 0.98 - ETA: 1s - loss: 0.0322 - accuracy: 0.98 - ETA: 1s - loss: 0.0321 - accuracy: 0.98 - ETA: 1s - loss: 0.0321 - accuracy: 0.98 - ETA: 1s - loss: 0.0321 - accuracy: 0.98 - ETA: 0s - loss: 0.0320 - accuracy: 0.98 - ETA: 0s - loss: 0.0319 - accuracy: 0.98 - ETA: 0s - loss: 0.0318 - accuracy: 0.98 - ETA: 0s - loss: 0.0316 - accuracy: 0.98 - ETA: 0s - loss: 0.0319 - accuracy: 0.98 - ETA: 0s - loss: 0.0317 - accuracy: 0.98 - ETA: 0s - loss: 0.0319 - accuracy: 0.98 - ETA: 0s - loss: 0.0317 - accuracy: 0.98 - ETA: 0s - loss: 0.0316 - accuracy: 0.98 - ETA: 0s - loss: 0.0330 - accuracy: 0.98 - ETA: 0s - loss: 0.0333 - accuracy: 0.98 - ETA: 0s - loss: 0.0331 - accuracy: 0.98 - 20s 11ms/step - loss: 0.0331 - accuracy: 0.9864 - val_loss: 0.0654 - val_accuracy: 0.9819\n",
      "Epoch 9/20\n"
     ]
    },
    {
     "name": "stdout",
     "output_type": "stream",
     "text": [
      "1512/1770 [========================>.....] - ETA: 15s - loss: 0.0066 - accuracy: 1.000 - ETA: 15s - loss: 0.0115 - accuracy: 1.000 - ETA: 16s - loss: 0.0077 - accuracy: 1.000 - ETA: 16s - loss: 0.0063 - accuracy: 1.000 - ETA: 16s - loss: 0.0056 - accuracy: 1.000 - ETA: 16s - loss: 0.0815 - accuracy: 0.977 - ETA: 16s - loss: 0.0714 - accuracy: 0.980 - ETA: 15s - loss: 0.0622 - accuracy: 0.983 - ETA: 15s - loss: 0.0548 - accuracy: 0.985 - ETA: 15s - loss: 0.0536 - accuracy: 0.986 - ETA: 15s - loss: 0.0485 - accuracy: 0.988 - ETA: 15s - loss: 0.0445 - accuracy: 0.989 - ETA: 15s - loss: 0.0520 - accuracy: 0.980 - ETA: 15s - loss: 0.0492 - accuracy: 0.981 - ETA: 15s - loss: 0.0467 - accuracy: 0.982 - ETA: 15s - loss: 0.0445 - accuracy: 0.983 - ETA: 15s - loss: 0.0438 - accuracy: 0.984 - ETA: 15s - loss: 0.0420 - accuracy: 0.985 - ETA: 15s - loss: 0.0398 - accuracy: 0.986 - ETA: 15s - loss: 0.0379 - accuracy: 0.987 - ETA: 14s - loss: 0.0365 - accuracy: 0.987 - ETA: 14s - loss: 0.0348 - accuracy: 0.988 - ETA: 14s - loss: 0.0333 - accuracy: 0.988 - ETA: 14s - loss: 0.0326 - accuracy: 0.989 - ETA: 14s - loss: 0.0324 - accuracy: 0.989 - ETA: 14s - loss: 0.0312 - accuracy: 0.990 - ETA: 14s - loss: 0.0300 - accuracy: 0.990 - ETA: 14s - loss: 0.0289 - accuracy: 0.990 - ETA: 14s - loss: 0.0339 - accuracy: 0.986 - ETA: 14s - loss: 0.0327 - accuracy: 0.987 - ETA: 14s - loss: 0.0317 - accuracy: 0.987 - ETA: 14s - loss: 0.0306 - accuracy: 0.988 - ETA: 14s - loss: 0.0301 - accuracy: 0.988 - ETA: 13s - loss: 0.0292 - accuracy: 0.988 - ETA: 13s - loss: 0.0283 - accuracy: 0.989 - ETA: 13s - loss: 0.0275 - accuracy: 0.989 - ETA: 13s - loss: 0.0268 - accuracy: 0.989 - ETA: 13s - loss: 0.0262 - accuracy: 0.990 - ETA: 13s - loss: 0.0256 - accuracy: 0.990 - ETA: 13s - loss: 0.0250 - accuracy: 0.990 - ETA: 13s - loss: 0.0244 - accuracy: 0.990 - ETA: 13s - loss: 0.0238 - accuracy: 0.991 - ETA: 13s - loss: 0.0232 - accuracy: 0.991 - ETA: 13s - loss: 0.0227 - accuracy: 0.991 - ETA: 13s - loss: 0.0230 - accuracy: 0.991 - ETA: 13s - loss: 0.0235 - accuracy: 0.991 - ETA: 12s - loss: 0.0234 - accuracy: 0.991 - ETA: 12s - loss: 0.0229 - accuracy: 0.992 - ETA: 12s - loss: 0.0225 - accuracy: 0.992 - ETA: 12s - loss: 0.0227 - accuracy: 0.992 - ETA: 12s - loss: 0.0223 - accuracy: 0.992 - ETA: 12s - loss: 0.0219 - accuracy: 0.992 - ETA: 12s - loss: 0.0215 - accuracy: 0.992 - ETA: 12s - loss: 0.0211 - accuracy: 0.993 - ETA: 12s - loss: 0.0207 - accuracy: 0.993 - ETA: 12s - loss: 0.0204 - accuracy: 0.993 - ETA: 12s - loss: 0.0202 - accuracy: 0.993 - ETA: 12s - loss: 0.0199 - accuracy: 0.993 - ETA: 12s - loss: 0.0198 - accuracy: 0.993 - ETA: 12s - loss: 0.0195 - accuracy: 0.993 - ETA: 11s - loss: 0.0192 - accuracy: 0.993 - ETA: 11s - loss: 0.0189 - accuracy: 0.993 - ETA: 11s - loss: 0.0186 - accuracy: 0.994 - ETA: 11s - loss: 0.0183 - accuracy: 0.994 - ETA: 11s - loss: 0.0181 - accuracy: 0.994 - ETA: 11s - loss: 0.0178 - accuracy: 0.994 - ETA: 11s - loss: 0.0184 - accuracy: 0.994 - ETA: 11s - loss: 0.0181 - accuracy: 0.994 - ETA: 11s - loss: 0.0178 - accuracy: 0.994 - ETA: 11s - loss: 0.0177 - accuracy: 0.994 - ETA: 11s - loss: 0.0175 - accuracy: 0.994 - ETA: 11s - loss: 0.0172 - accuracy: 0.994 - ETA: 11s - loss: 0.0170 - accuracy: 0.994 - ETA: 11s - loss: 0.0168 - accuracy: 0.994 - ETA: 11s - loss: 0.0165 - accuracy: 0.994 - ETA: 10s - loss: 0.0163 - accuracy: 0.995 - ETA: 10s - loss: 0.0161 - accuracy: 0.995 - ETA: 10s - loss: 0.0161 - accuracy: 0.995 - ETA: 10s - loss: 0.0159 - accuracy: 0.995 - ETA: 10s - loss: 0.0157 - accuracy: 0.995 - ETA: 10s - loss: 0.0155 - accuracy: 0.995 - ETA: 10s - loss: 0.0153 - accuracy: 0.995 - ETA: 10s - loss: 0.0151 - accuracy: 0.995 - ETA: 10s - loss: 0.0149 - accuracy: 0.995 - ETA: 10s - loss: 0.0148 - accuracy: 0.995 - ETA: 10s - loss: 0.0146 - accuracy: 0.995 - ETA: 10s - loss: 0.0144 - accuracy: 0.995 - ETA: 10s - loss: 0.0143 - accuracy: 0.995 - ETA: 9s - loss: 0.0141 - accuracy: 0.995 - ETA: 9s - loss: 0.0140 - accuracy: 0.99 - ETA: 9s - loss: 0.0138 - accuracy: 0.99 - ETA: 9s - loss: 0.0137 - accuracy: 0.99 - ETA: 9s - loss: 0.0142 - accuracy: 0.99 - ETA: 9s - loss: 0.0141 - accuracy: 0.99 - ETA: 9s - loss: 0.0139 - accuracy: 0.99 - ETA: 9s - loss: 0.0138 - accuracy: 0.99 - ETA: 9s - loss: 0.0137 - accuracy: 0.99 - ETA: 9s - loss: 0.0135 - accuracy: 0.99 - ETA: 9s - loss: 0.0134 - accuracy: 0.99 - ETA: 9s - loss: 0.0133 - accuracy: 0.99 - ETA: 9s - loss: 0.0131 - accuracy: 0.99 - ETA: 8s - loss: 0.0130 - accuracy: 0.99 - ETA: 8s - loss: 0.0129 - accuracy: 0.99 - ETA: 8s - loss: 0.0128 - accuracy: 0.99 - ETA: 8s - loss: 0.0127 - accuracy: 0.99 - ETA: 8s - loss: 0.0126 - accuracy: 0.99 - ETA: 8s - loss: 0.0124 - accuracy: 0.99 - ETA: 8s - loss: 0.0123 - accuracy: 0.99 - ETA: 8s - loss: 0.0122 - accuracy: 0.99 - ETA: 8s - loss: 0.0121 - accuracy: 0.99 - ETA: 8s - loss: 0.0120 - accuracy: 0.99 - ETA: 8s - loss: 0.0119 - accuracy: 0.99 - ETA: 8s - loss: 0.0118 - accuracy: 0.99 - ETA: 8s - loss: 0.0117 - accuracy: 0.99 - ETA: 8s - loss: 0.0116 - accuracy: 0.99 - ETA: 7s - loss: 0.0115 - accuracy: 0.99 - ETA: 7s - loss: 0.0114 - accuracy: 0.99 - ETA: 7s - loss: 0.0113 - accuracy: 0.99 - ETA: 7s - loss: 0.0112 - accuracy: 0.99 - ETA: 7s - loss: 0.0111 - accuracy: 0.99 - ETA: 7s - loss: 0.0110 - accuracy: 0.99 - ETA: 7s - loss: 0.0135 - accuracy: 0.99 - ETA: 7s - loss: 0.0134 - accuracy: 0.99 - ETA: 7s - loss: 0.0133 - accuracy: 0.99 - ETA: 7s - loss: 0.0132 - accuracy: 0.99 - ETA: 7s - loss: 0.0131 - accuracy: 0.99 - ETA: 7s - loss: 0.0131 - accuracy: 0.99 - ETA: 7s - loss: 0.0131 - accuracy: 0.99 - ETA: 7s - loss: 0.0133 - accuracy: 0.99 - ETA: 6s - loss: 0.0132 - accuracy: 0.99 - ETA: 6s - loss: 0.0131 - accuracy: 0.99 - ETA: 6s - loss: 0.0130 - accuracy: 0.99 - ETA: 6s - loss: 0.0132 - accuracy: 0.99 - ETA: 6s - loss: 0.0131 - accuracy: 0.99 - ETA: 6s - loss: 0.0130 - accuracy: 0.99 - ETA: 6s - loss: 0.0130 - accuracy: 0.99 - ETA: 6s - loss: 0.0129 - accuracy: 0.99 - ETA: 6s - loss: 0.0129 - accuracy: 0.99 - ETA: 6s - loss: 0.0128 - accuracy: 0.99 - ETA: 6s - loss: 0.0128 - accuracy: 0.99 - ETA: 6s - loss: 0.0127 - accuracy: 0.99 - ETA: 6s - loss: 0.0126 - accuracy: 0.99 - ETA: 5s - loss: 0.0125 - accuracy: 0.99 - ETA: 5s - loss: 0.0124 - accuracy: 0.99 - ETA: 5s - loss: 0.0124 - accuracy: 0.99 - ETA: 5s - loss: 0.0123 - accuracy: 0.99 - ETA: 5s - loss: 0.0123 - accuracy: 0.99 - ETA: 5s - loss: 0.0123 - accuracy: 0.99 - ETA: 5s - loss: 0.0122 - accuracy: 0.99 - ETA: 5s - loss: 0.0122 - accuracy: 0.99 - ETA: 5s - loss: 0.0121 - accuracy: 0.99 - ETA: 5s - loss: 0.0120 - accuracy: 0.99 - ETA: 5s - loss: 0.0119 - accuracy: 0.99 - ETA: 5s - loss: 0.0118 - accuracy: 0.99 - ETA: 5s - loss: 0.0118 - accuracy: 0.99 - ETA: 4s - loss: 0.0117 - accuracy: 0.99 - ETA: 4s - loss: 0.0116 - accuracy: 0.99 - ETA: 4s - loss: 0.0115 - accuracy: 0.99 - ETA: 4s - loss: 0.0115 - accuracy: 0.99 - ETA: 4s - loss: 0.0114 - accuracy: 0.99 - ETA: 4s - loss: 0.0114 - accuracy: 0.99 - ETA: 4s - loss: 0.0113 - accuracy: 0.99 - ETA: 4s - loss: 0.0112 - accuracy: 0.99 - ETA: 4s - loss: 0.0112 - accuracy: 0.99 - ETA: 4s - loss: 0.0111 - accuracy: 0.99 - ETA: 4s - loss: 0.0111 - accuracy: 0.99 - ETA: 4s - loss: 0.0110 - accuracy: 0.99 - ETA: 4s - loss: 0.0110 - accuracy: 0.99 - ETA: 4s - loss: 0.0109 - accuracy: 0.99 - ETA: 3s - loss: 0.0109 - accuracy: 0.99 - ETA: 3s - loss: 0.0108 - accuracy: 0.99 - ETA: 3s - loss: 0.0107 - accuracy: 0.99 - ETA: 3s - loss: 0.0107 - accuracy: 0.99 - ETA: 3s - loss: 0.0106 - accuracy: 0.99 - ETA: 3s - loss: 0.0106 - accuracy: 0.99 - ETA: 3s - loss: 0.0105 - accuracy: 0.99 - ETA: 3s - loss: 0.0105 - accuracy: 0.99 - ETA: 3s - loss: 0.0104 - accuracy: 0.99 - ETA: 3s - loss: 0.0104 - accuracy: 0.99 - ETA: 3s - loss: 0.0103 - accuracy: 0.99 - ETA: 3s - loss: 0.0103 - accuracy: 0.99 - ETA: 3s - loss: 0.0102 - accuracy: 0.99 - ETA: 2s - loss: 0.0101 - accuracy: 0.99 - ETA: 2s - loss: 0.0101 - accuracy: 0.99 - ETA: 2s - loss: 0.0100 - accuracy: 0.99 - ETA: 2s - loss: 0.0100 - accuracy: 0.99 - ETA: 2s - loss: 0.0099 - accuracy: 0.99 - ETA: 2s - loss: 0.0099 - accuracy: 0.99 - ETA: 2s - loss: 0.0098 - accuracy: 0.99 - ETA: 2s - loss: 0.0098 - accuracy: 0.9974"
     ]
    },
    {
     "name": "stdout",
     "output_type": "stream",
     "text": [
      "1770/1770 [==============================] - ETA: 2s - loss: 0.0097 - accuracy: 0.99 - ETA: 2s - loss: 0.0097 - accuracy: 0.99 - ETA: 2s - loss: 0.0096 - accuracy: 0.99 - ETA: 2s - loss: 0.0168 - accuracy: 0.99 - ETA: 2s - loss: 0.0168 - accuracy: 0.99 - ETA: 1s - loss: 0.0167 - accuracy: 0.99 - ETA: 1s - loss: 0.0166 - accuracy: 0.99 - ETA: 1s - loss: 0.0165 - accuracy: 0.99 - ETA: 1s - loss: 0.0164 - accuracy: 0.99 - ETA: 1s - loss: 0.0163 - accuracy: 0.99 - ETA: 1s - loss: 0.0248 - accuracy: 0.99 - ETA: 1s - loss: 0.0250 - accuracy: 0.99 - ETA: 1s - loss: 0.0249 - accuracy: 0.99 - ETA: 1s - loss: 0.0255 - accuracy: 0.99 - ETA: 1s - loss: 0.0256 - accuracy: 0.99 - ETA: 1s - loss: 0.0256 - accuracy: 0.99 - ETA: 1s - loss: 0.0259 - accuracy: 0.99 - ETA: 1s - loss: 0.0260 - accuracy: 0.99 - ETA: 0s - loss: 0.0260 - accuracy: 0.99 - ETA: 0s - loss: 0.0259 - accuracy: 0.99 - ETA: 0s - loss: 0.0258 - accuracy: 0.99 - ETA: 0s - loss: 0.0257 - accuracy: 0.99 - ETA: 0s - loss: 0.0255 - accuracy: 0.99 - ETA: 0s - loss: 0.0261 - accuracy: 0.99 - ETA: 0s - loss: 0.0260 - accuracy: 0.99 - ETA: 0s - loss: 0.0259 - accuracy: 0.99 - ETA: 0s - loss: 0.0258 - accuracy: 0.99 - ETA: 0s - loss: 0.0258 - accuracy: 0.99 - ETA: 0s - loss: 0.0257 - accuracy: 0.99 - ETA: 0s - loss: 0.0256 - accuracy: 0.99 - ETA: 0s - loss: 0.0259 - accuracy: 0.99 - ETA: 0s - loss: 0.0259 - accuracy: 0.99 - 17s 10ms/step - loss: 0.0259 - accuracy: 0.9944 - val_loss: 0.0656 - val_accuracy: 0.9842\n",
      "Epoch 10/20\n"
     ]
    },
    {
     "name": "stdout",
     "output_type": "stream",
     "text": [
      "1452/1770 [=======================>......] - ETA: 15s - loss: 5.3103e-05 - accuracy: 1.000 - ETA: 15s - loss: 9.8407e-05 - accuracy: 1.000 - ETA: 15s - loss: 0.0092 - accuracy: 1.0000    - ETA: 15s - loss: 0.0066 - accuracy: 1.000 - ETA: 15s - loss: 0.0053 - accuracy: 1.000 - ETA: 15s - loss: 0.0058 - accuracy: 1.000 - ETA: 15s - loss: 0.0051 - accuracy: 1.000 - ETA: 15s - loss: 0.0046 - accuracy: 1.000 - ETA: 15s - loss: 0.0047 - accuracy: 1.000 - ETA: 15s - loss: 0.0042 - accuracy: 1.000 - ETA: 15s - loss: 0.0038 - accuracy: 1.000 - ETA: 15s - loss: 0.0037 - accuracy: 1.000 - ETA: 15s - loss: 0.0034 - accuracy: 1.000 - ETA: 15s - loss: 0.0032 - accuracy: 1.000 - ETA: 15s - loss: 0.0030 - accuracy: 1.000 - ETA: 15s - loss: 0.0028 - accuracy: 1.000 - ETA: 15s - loss: 0.0026 - accuracy: 1.000 - ETA: 15s - loss: 0.0025 - accuracy: 1.000 - ETA: 15s - loss: 0.0049 - accuracy: 1.000 - ETA: 14s - loss: 0.0048 - accuracy: 1.000 - ETA: 14s - loss: 0.0057 - accuracy: 1.000 - ETA: 14s - loss: 0.0054 - accuracy: 1.000 - ETA: 14s - loss: 0.0052 - accuracy: 1.000 - ETA: 14s - loss: 0.0050 - accuracy: 1.000 - ETA: 14s - loss: 0.0048 - accuracy: 1.000 - ETA: 14s - loss: 0.0046 - accuracy: 1.000 - ETA: 14s - loss: 0.0044 - accuracy: 1.000 - ETA: 14s - loss: 0.0043 - accuracy: 1.000 - ETA: 14s - loss: 0.0043 - accuracy: 1.000 - ETA: 14s - loss: 0.0042 - accuracy: 1.000 - ETA: 14s - loss: 0.0041 - accuracy: 1.000 - ETA: 14s - loss: 0.0143 - accuracy: 0.996 - ETA: 14s - loss: 0.0166 - accuracy: 0.992 - ETA: 14s - loss: 0.0166 - accuracy: 0.992 - ETA: 13s - loss: 0.0162 - accuracy: 0.992 - ETA: 13s - loss: 0.0158 - accuracy: 0.993 - ETA: 13s - loss: 0.0153 - accuracy: 0.993 - ETA: 13s - loss: 0.0153 - accuracy: 0.993 - ETA: 13s - loss: 0.0160 - accuracy: 0.993 - ETA: 13s - loss: 0.0156 - accuracy: 0.993 - ETA: 13s - loss: 0.0154 - accuracy: 0.993 - ETA: 13s - loss: 0.0152 - accuracy: 0.994 - ETA: 13s - loss: 0.0154 - accuracy: 0.994 - ETA: 13s - loss: 0.0151 - accuracy: 0.994 - ETA: 13s - loss: 0.0149 - accuracy: 0.994 - ETA: 13s - loss: 0.0146 - accuracy: 0.994 - ETA: 13s - loss: 0.0143 - accuracy: 0.994 - ETA: 13s - loss: 0.0141 - accuracy: 0.994 - ETA: 13s - loss: 0.0151 - accuracy: 0.994 - ETA: 13s - loss: 0.0158 - accuracy: 0.994 - ETA: 13s - loss: 0.0154 - accuracy: 0.995 - ETA: 13s - loss: 0.0153 - accuracy: 0.995 - ETA: 13s - loss: 0.0151 - accuracy: 0.995 - ETA: 13s - loss: 0.0150 - accuracy: 0.995 - ETA: 13s - loss: 0.0149 - accuracy: 0.995 - ETA: 12s - loss: 0.0146 - accuracy: 0.995 - ETA: 12s - loss: 0.0143 - accuracy: 0.995 - ETA: 12s - loss: 0.0141 - accuracy: 0.995 - ETA: 12s - loss: 0.0138 - accuracy: 0.995 - ETA: 12s - loss: 0.0136 - accuracy: 0.995 - ETA: 12s - loss: 0.0134 - accuracy: 0.995 - ETA: 12s - loss: 0.0132 - accuracy: 0.995 - ETA: 12s - loss: 0.0130 - accuracy: 0.995 - ETA: 12s - loss: 0.0128 - accuracy: 0.995 - ETA: 12s - loss: 0.0126 - accuracy: 0.996 - ETA: 12s - loss: 0.0124 - accuracy: 0.996 - ETA: 12s - loss: 0.0125 - accuracy: 0.996 - ETA: 12s - loss: 0.0124 - accuracy: 0.996 - ETA: 12s - loss: 0.0122 - accuracy: 0.996 - ETA: 11s - loss: 0.0120 - accuracy: 0.996 - ETA: 11s - loss: 0.0119 - accuracy: 0.996 - ETA: 11s - loss: 0.0118 - accuracy: 0.996 - ETA: 11s - loss: 0.0117 - accuracy: 0.996 - ETA: 11s - loss: 0.0116 - accuracy: 0.996 - ETA: 11s - loss: 0.0116 - accuracy: 0.996 - ETA: 11s - loss: 0.0115 - accuracy: 0.996 - ETA: 11s - loss: 0.0113 - accuracy: 0.996 - ETA: 11s - loss: 0.0113 - accuracy: 0.996 - ETA: 11s - loss: 0.0112 - accuracy: 0.996 - ETA: 11s - loss: 0.0111 - accuracy: 0.996 - ETA: 11s - loss: 0.0109 - accuracy: 0.996 - ETA: 11s - loss: 0.0108 - accuracy: 0.996 - ETA: 11s - loss: 0.0106 - accuracy: 0.996 - ETA: 11s - loss: 0.0105 - accuracy: 0.996 - ETA: 11s - loss: 0.0104 - accuracy: 0.996 - ETA: 11s - loss: 0.0102 - accuracy: 0.996 - ETA: 11s - loss: 0.0101 - accuracy: 0.996 - ETA: 11s - loss: 0.0100 - accuracy: 0.996 - ETA: 11s - loss: 0.0099 - accuracy: 0.997 - ETA: 11s - loss: 0.0098 - accuracy: 0.997 - ETA: 10s - loss: 0.0097 - accuracy: 0.997 - ETA: 10s - loss: 0.0097 - accuracy: 0.997 - ETA: 10s - loss: 0.0096 - accuracy: 0.997 - ETA: 10s - loss: 0.0133 - accuracy: 0.995 - ETA: 10s - loss: 0.0134 - accuracy: 0.995 - ETA: 10s - loss: 0.0132 - accuracy: 0.995 - ETA: 10s - loss: 0.0272 - accuracy: 0.993 - ETA: 10s - loss: 0.0269 - accuracy: 0.993 - ETA: 10s - loss: 0.0266 - accuracy: 0.993 - ETA: 10s - loss: 0.0263 - accuracy: 0.993 - ETA: 10s - loss: 0.0260 - accuracy: 0.993 - ETA: 10s - loss: 0.0257 - accuracy: 0.993 - ETA: 9s - loss: 0.0255 - accuracy: 0.993 - ETA: 9s - loss: 0.0252 - accuracy: 0.99 - ETA: 9s - loss: 0.0250 - accuracy: 0.99 - ETA: 9s - loss: 0.0248 - accuracy: 0.99 - ETA: 9s - loss: 0.0247 - accuracy: 0.99 - ETA: 9s - loss: 0.0245 - accuracy: 0.99 - ETA: 9s - loss: 0.0271 - accuracy: 0.99 - ETA: 9s - loss: 0.0270 - accuracy: 0.99 - ETA: 9s - loss: 0.0267 - accuracy: 0.99 - ETA: 9s - loss: 0.0265 - accuracy: 0.99 - ETA: 9s - loss: 0.0262 - accuracy: 0.99 - ETA: 9s - loss: 0.0261 - accuracy: 0.99 - ETA: 9s - loss: 0.0266 - accuracy: 0.99 - ETA: 8s - loss: 0.0295 - accuracy: 0.99 - ETA: 8s - loss: 0.0292 - accuracy: 0.99 - ETA: 8s - loss: 0.0289 - accuracy: 0.99 - ETA: 8s - loss: 0.0290 - accuracy: 0.99 - ETA: 8s - loss: 0.0288 - accuracy: 0.99 - ETA: 8s - loss: 0.0286 - accuracy: 0.99 - ETA: 8s - loss: 0.0295 - accuracy: 0.99 - ETA: 8s - loss: 0.0297 - accuracy: 0.99 - ETA: 8s - loss: 0.0297 - accuracy: 0.99 - ETA: 8s - loss: 0.0295 - accuracy: 0.99 - ETA: 8s - loss: 0.0293 - accuracy: 0.99 - ETA: 8s - loss: 0.0291 - accuracy: 0.99 - ETA: 7s - loss: 0.0288 - accuracy: 0.99 - ETA: 7s - loss: 0.0286 - accuracy: 0.99 - ETA: 7s - loss: 0.0285 - accuracy: 0.99 - ETA: 7s - loss: 0.0283 - accuracy: 0.99 - ETA: 7s - loss: 0.0281 - accuracy: 0.99 - ETA: 7s - loss: 0.0278 - accuracy: 0.99 - ETA: 7s - loss: 0.0276 - accuracy: 0.99 - ETA: 7s - loss: 0.0278 - accuracy: 0.99 - ETA: 7s - loss: 0.0276 - accuracy: 0.99 - ETA: 7s - loss: 0.0274 - accuracy: 0.99 - ETA: 7s - loss: 0.0272 - accuracy: 0.99 - ETA: 7s - loss: 0.0270 - accuracy: 0.99 - ETA: 6s - loss: 0.0269 - accuracy: 0.99 - ETA: 6s - loss: 0.0267 - accuracy: 0.99 - ETA: 6s - loss: 0.0265 - accuracy: 0.99 - ETA: 6s - loss: 0.0263 - accuracy: 0.99 - ETA: 6s - loss: 0.0262 - accuracy: 0.99 - ETA: 6s - loss: 0.0292 - accuracy: 0.99 - ETA: 6s - loss: 0.0290 - accuracy: 0.99 - ETA: 6s - loss: 0.0290 - accuracy: 0.99 - ETA: 6s - loss: 0.0288 - accuracy: 0.99 - ETA: 6s - loss: 0.0287 - accuracy: 0.99 - ETA: 6s - loss: 0.0286 - accuracy: 0.99 - ETA: 6s - loss: 0.0284 - accuracy: 0.99 - ETA: 5s - loss: 0.0283 - accuracy: 0.99 - ETA: 5s - loss: 0.0281 - accuracy: 0.99 - ETA: 5s - loss: 0.0287 - accuracy: 0.99 - ETA: 5s - loss: 0.0324 - accuracy: 0.99 - ETA: 5s - loss: 0.0325 - accuracy: 0.99 - ETA: 5s - loss: 0.0322 - accuracy: 0.99 - ETA: 5s - loss: 0.0320 - accuracy: 0.99 - ETA: 5s - loss: 0.0318 - accuracy: 0.99 - ETA: 5s - loss: 0.0325 - accuracy: 0.99 - ETA: 5s - loss: 0.0324 - accuracy: 0.99 - ETA: 5s - loss: 0.0322 - accuracy: 0.99 - ETA: 5s - loss: 0.0331 - accuracy: 0.98 - ETA: 5s - loss: 0.0329 - accuracy: 0.98 - ETA: 4s - loss: 0.0327 - accuracy: 0.98 - ETA: 4s - loss: 0.0326 - accuracy: 0.98 - ETA: 4s - loss: 0.0329 - accuracy: 0.98 - ETA: 4s - loss: 0.0327 - accuracy: 0.98 - ETA: 4s - loss: 0.0325 - accuracy: 0.98 - ETA: 4s - loss: 0.0323 - accuracy: 0.99 - ETA: 4s - loss: 0.0321 - accuracy: 0.99 - ETA: 4s - loss: 0.0319 - accuracy: 0.99 - ETA: 4s - loss: 0.0317 - accuracy: 0.99 - ETA: 4s - loss: 0.0315 - accuracy: 0.99 - ETA: 4s - loss: 0.0313 - accuracy: 0.99 - ETA: 4s - loss: 0.0316 - accuracy: 0.99 - ETA: 4s - loss: 0.0314 - accuracy: 0.99 - ETA: 3s - loss: 0.0314 - accuracy: 0.99 - ETA: 3s - loss: 0.0315 - accuracy: 0.99 - ETA: 3s - loss: 0.0313 - accuracy: 0.99 - ETA: 3s - loss: 0.0311 - accuracy: 0.99 - ETA: 3s - loss: 0.0310 - accuracy: 0.99 - ETA: 3s - loss: 0.0309 - accuracy: 0.99 - ETA: 3s - loss: 0.0320 - accuracy: 0.99 - ETA: 3s - loss: 0.0318 - accuracy: 0.99 - ETA: 3s - loss: 0.0339 - accuracy: 0.98 - ETA: 3s - loss: 0.0337 - accuracy: 0.98 - ETA: 3s - loss: 0.0336 - accuracy: 0.98 - ETA: 3s - loss: 0.0335 - accuracy: 0.9897"
     ]
    },
    {
     "name": "stdout",
     "output_type": "stream",
     "text": [
      "1770/1770 [==============================] - ETA: 2s - loss: 0.0333 - accuracy: 0.98 - ETA: 2s - loss: 0.0332 - accuracy: 0.98 - ETA: 2s - loss: 0.0330 - accuracy: 0.98 - ETA: 2s - loss: 0.0328 - accuracy: 0.98 - ETA: 2s - loss: 0.0327 - accuracy: 0.98 - ETA: 2s - loss: 0.0325 - accuracy: 0.99 - ETA: 2s - loss: 0.0359 - accuracy: 0.98 - ETA: 2s - loss: 0.0370 - accuracy: 0.98 - ETA: 2s - loss: 0.0368 - accuracy: 0.98 - ETA: 2s - loss: 0.0376 - accuracy: 0.98 - ETA: 2s - loss: 0.0376 - accuracy: 0.98 - ETA: 2s - loss: 0.0374 - accuracy: 0.98 - ETA: 2s - loss: 0.0372 - accuracy: 0.98 - ETA: 1s - loss: 0.0370 - accuracy: 0.98 - ETA: 1s - loss: 0.0369 - accuracy: 0.98 - ETA: 1s - loss: 0.0367 - accuracy: 0.98 - ETA: 1s - loss: 0.0365 - accuracy: 0.98 - ETA: 1s - loss: 0.0364 - accuracy: 0.98 - ETA: 1s - loss: 0.0362 - accuracy: 0.98 - ETA: 1s - loss: 0.0363 - accuracy: 0.98 - ETA: 1s - loss: 0.0362 - accuracy: 0.98 - ETA: 1s - loss: 0.0360 - accuracy: 0.98 - ETA: 1s - loss: 0.0360 - accuracy: 0.98 - ETA: 1s - loss: 0.0358 - accuracy: 0.98 - ETA: 1s - loss: 0.0356 - accuracy: 0.98 - ETA: 1s - loss: 0.0355 - accuracy: 0.98 - ETA: 0s - loss: 0.0353 - accuracy: 0.98 - ETA: 0s - loss: 0.0352 - accuracy: 0.98 - ETA: 0s - loss: 0.0350 - accuracy: 0.98 - ETA: 0s - loss: 0.0349 - accuracy: 0.98 - ETA: 0s - loss: 0.0370 - accuracy: 0.98 - ETA: 0s - loss: 0.0370 - accuracy: 0.98 - ETA: 0s - loss: 0.0368 - accuracy: 0.98 - ETA: 0s - loss: 0.0367 - accuracy: 0.98 - ETA: 0s - loss: 0.0383 - accuracy: 0.98 - ETA: 0s - loss: 0.0382 - accuracy: 0.98 - ETA: 0s - loss: 0.0385 - accuracy: 0.98 - ETA: 0s - loss: 0.0383 - accuracy: 0.98 - ETA: 0s - loss: 0.0382 - accuracy: 0.98 - 17s 10ms/step - loss: 0.0382 - accuracy: 0.9887 - val_loss: 0.0570 - val_accuracy: 0.9819\n",
      "Epoch 11/20\n"
     ]
    },
    {
     "name": "stdout",
     "output_type": "stream",
     "text": [
      "1512/1770 [========================>.....] - ETA: 15s - loss: 0.1773 - accuracy: 0.750 - ETA: 15s - loss: 0.0592 - accuracy: 0.916 - ETA: 16s - loss: 0.0946 - accuracy: 0.900 - ETA: 16s - loss: 0.1696 - accuracy: 0.892 - ETA: 16s - loss: 0.1384 - accuracy: 0.916 - ETA: 16s - loss: 0.1135 - accuracy: 0.931 - ETA: 15s - loss: 0.1081 - accuracy: 0.942 - ETA: 15s - loss: 0.1066 - accuracy: 0.950 - ETA: 15s - loss: 0.0946 - accuracy: 0.955 - ETA: 15s - loss: 0.0956 - accuracy: 0.947 - ETA: 15s - loss: 0.0872 - accuracy: 0.952 - ETA: 15s - loss: 0.0939 - accuracy: 0.945 - ETA: 15s - loss: 0.0864 - accuracy: 0.950 - ETA: 15s - loss: 0.0800 - accuracy: 0.953 - ETA: 15s - loss: 0.0885 - accuracy: 0.948 - ETA: 15s - loss: 0.0829 - accuracy: 0.951 - ETA: 15s - loss: 0.0779 - accuracy: 0.954 - ETA: 15s - loss: 0.1131 - accuracy: 0.950 - ETA: 15s - loss: 0.1072 - accuracy: 0.952 - ETA: 15s - loss: 0.1085 - accuracy: 0.948 - ETA: 14s - loss: 0.1032 - accuracy: 0.951 - ETA: 14s - loss: 0.1025 - accuracy: 0.947 - ETA: 14s - loss: 0.0979 - accuracy: 0.950 - ETA: 14s - loss: 0.0940 - accuracy: 0.952 - ETA: 14s - loss: 0.0902 - accuracy: 0.954 - ETA: 14s - loss: 0.0932 - accuracy: 0.951 - ETA: 14s - loss: 0.0900 - accuracy: 0.952 - ETA: 14s - loss: 0.0928 - accuracy: 0.950 - ETA: 14s - loss: 0.0898 - accuracy: 0.951 - ETA: 14s - loss: 0.0868 - accuracy: 0.953 - ETA: 14s - loss: 0.0848 - accuracy: 0.954 - ETA: 14s - loss: 0.0852 - accuracy: 0.956 - ETA: 14s - loss: 0.0867 - accuracy: 0.957 - ETA: 13s - loss: 0.0891 - accuracy: 0.959 - ETA: 13s - loss: 0.0869 - accuracy: 0.960 - ETA: 13s - loss: 0.0854 - accuracy: 0.961 - ETA: 13s - loss: 0.0833 - accuracy: 0.962 - ETA: 13s - loss: 0.0811 - accuracy: 0.963 - ETA: 13s - loss: 0.0790 - accuracy: 0.964 - ETA: 13s - loss: 0.0770 - accuracy: 0.965 - ETA: 13s - loss: 0.0751 - accuracy: 0.966 - ETA: 13s - loss: 0.0768 - accuracy: 0.963 - ETA: 13s - loss: 0.0750 - accuracy: 0.964 - ETA: 13s - loss: 0.0743 - accuracy: 0.965 - ETA: 13s - loss: 0.0726 - accuracy: 0.966 - ETA: 13s - loss: 0.0710 - accuracy: 0.967 - ETA: 13s - loss: 0.0714 - accuracy: 0.967 - ETA: 12s - loss: 0.0701 - accuracy: 0.968 - ETA: 12s - loss: 0.0689 - accuracy: 0.969 - ETA: 12s - loss: 0.0678 - accuracy: 0.969 - ETA: 12s - loss: 0.0683 - accuracy: 0.967 - ETA: 12s - loss: 0.0670 - accuracy: 0.968 - ETA: 12s - loss: 0.0662 - accuracy: 0.969 - ETA: 12s - loss: 0.0650 - accuracy: 0.969 - ETA: 12s - loss: 0.0638 - accuracy: 0.970 - ETA: 12s - loss: 0.0653 - accuracy: 0.970 - ETA: 12s - loss: 0.0646 - accuracy: 0.971 - ETA: 12s - loss: 0.0704 - accuracy: 0.969 - ETA: 12s - loss: 0.0698 - accuracy: 0.970 - ETA: 12s - loss: 0.0689 - accuracy: 0.970 - ETA: 11s - loss: 0.0698 - accuracy: 0.971 - ETA: 11s - loss: 0.0708 - accuracy: 0.969 - ETA: 11s - loss: 0.0704 - accuracy: 0.970 - ETA: 11s - loss: 0.0693 - accuracy: 0.970 - ETA: 11s - loss: 0.0683 - accuracy: 0.970 - ETA: 11s - loss: 0.0672 - accuracy: 0.971 - ETA: 11s - loss: 0.0698 - accuracy: 0.969 - ETA: 11s - loss: 0.0687 - accuracy: 0.970 - ETA: 11s - loss: 0.0677 - accuracy: 0.970 - ETA: 11s - loss: 0.0668 - accuracy: 0.971 - ETA: 11s - loss: 0.0659 - accuracy: 0.971 - ETA: 11s - loss: 0.0650 - accuracy: 0.972 - ETA: 11s - loss: 0.0641 - accuracy: 0.972 - ETA: 10s - loss: 0.0633 - accuracy: 0.972 - ETA: 10s - loss: 0.0633 - accuracy: 0.973 - ETA: 10s - loss: 0.0625 - accuracy: 0.973 - ETA: 10s - loss: 0.0617 - accuracy: 0.973 - ETA: 10s - loss: 0.0610 - accuracy: 0.974 - ETA: 10s - loss: 0.0603 - accuracy: 0.974 - ETA: 10s - loss: 0.0595 - accuracy: 0.974 - ETA: 10s - loss: 0.0588 - accuracy: 0.975 - ETA: 10s - loss: 0.0581 - accuracy: 0.975 - ETA: 10s - loss: 0.0574 - accuracy: 0.975 - ETA: 10s - loss: 0.0567 - accuracy: 0.976 - ETA: 10s - loss: 0.0560 - accuracy: 0.976 - ETA: 10s - loss: 0.0556 - accuracy: 0.976 - ETA: 10s - loss: 0.0550 - accuracy: 0.976 - ETA: 9s - loss: 0.0558 - accuracy: 0.975 - ETA: 9s - loss: 0.0552 - accuracy: 0.97 - ETA: 9s - loss: 0.0545 - accuracy: 0.97 - ETA: 9s - loss: 0.0540 - accuracy: 0.97 - ETA: 9s - loss: 0.0575 - accuracy: 0.97 - ETA: 9s - loss: 0.0571 - accuracy: 0.97 - ETA: 9s - loss: 0.0565 - accuracy: 0.97 - ETA: 9s - loss: 0.0560 - accuracy: 0.97 - ETA: 9s - loss: 0.0554 - accuracy: 0.97 - ETA: 9s - loss: 0.0548 - accuracy: 0.97 - ETA: 9s - loss: 0.0543 - accuracy: 0.97 - ETA: 9s - loss: 0.0538 - accuracy: 0.97 - ETA: 9s - loss: 0.0534 - accuracy: 0.97 - ETA: 8s - loss: 0.0531 - accuracy: 0.97 - ETA: 8s - loss: 0.0525 - accuracy: 0.97 - ETA: 8s - loss: 0.0520 - accuracy: 0.97 - ETA: 8s - loss: 0.0515 - accuracy: 0.97 - ETA: 8s - loss: 0.0511 - accuracy: 0.97 - ETA: 8s - loss: 0.0528 - accuracy: 0.97 - ETA: 8s - loss: 0.0523 - accuracy: 0.97 - ETA: 8s - loss: 0.0523 - accuracy: 0.97 - ETA: 8s - loss: 0.0519 - accuracy: 0.97 - ETA: 8s - loss: 0.0514 - accuracy: 0.97 - ETA: 8s - loss: 0.0509 - accuracy: 0.97 - ETA: 8s - loss: 0.0507 - accuracy: 0.97 - ETA: 8s - loss: 0.0567 - accuracy: 0.97 - ETA: 8s - loss: 0.0562 - accuracy: 0.97 - ETA: 7s - loss: 0.0557 - accuracy: 0.97 - ETA: 7s - loss: 0.0557 - accuracy: 0.97 - ETA: 7s - loss: 0.0555 - accuracy: 0.97 - ETA: 7s - loss: 0.0551 - accuracy: 0.97 - ETA: 7s - loss: 0.0546 - accuracy: 0.97 - ETA: 7s - loss: 0.0542 - accuracy: 0.97 - ETA: 7s - loss: 0.0538 - accuracy: 0.97 - ETA: 7s - loss: 0.0534 - accuracy: 0.97 - ETA: 7s - loss: 0.0530 - accuracy: 0.97 - ETA: 7s - loss: 0.0526 - accuracy: 0.97 - ETA: 7s - loss: 0.0522 - accuracy: 0.97 - ETA: 7s - loss: 0.0519 - accuracy: 0.98 - ETA: 7s - loss: 0.0515 - accuracy: 0.98 - ETA: 6s - loss: 0.0512 - accuracy: 0.98 - ETA: 6s - loss: 0.0509 - accuracy: 0.98 - ETA: 6s - loss: 0.0505 - accuracy: 0.98 - ETA: 6s - loss: 0.0501 - accuracy: 0.98 - ETA: 6s - loss: 0.0517 - accuracy: 0.98 - ETA: 6s - loss: 0.0516 - accuracy: 0.98 - ETA: 6s - loss: 0.0541 - accuracy: 0.97 - ETA: 6s - loss: 0.0542 - accuracy: 0.97 - ETA: 6s - loss: 0.0538 - accuracy: 0.97 - ETA: 6s - loss: 0.0536 - accuracy: 0.97 - ETA: 6s - loss: 0.0533 - accuracy: 0.98 - ETA: 6s - loss: 0.0536 - accuracy: 0.97 - ETA: 6s - loss: 0.0532 - accuracy: 0.97 - ETA: 6s - loss: 0.0528 - accuracy: 0.97 - ETA: 5s - loss: 0.0566 - accuracy: 0.97 - ETA: 5s - loss: 0.0562 - accuracy: 0.97 - ETA: 5s - loss: 0.0559 - accuracy: 0.97 - ETA: 5s - loss: 0.0555 - accuracy: 0.97 - ETA: 5s - loss: 0.0551 - accuracy: 0.97 - ETA: 5s - loss: 0.0548 - accuracy: 0.97 - ETA: 5s - loss: 0.0546 - accuracy: 0.97 - ETA: 5s - loss: 0.0545 - accuracy: 0.97 - ETA: 5s - loss: 0.0543 - accuracy: 0.97 - ETA: 5s - loss: 0.0573 - accuracy: 0.97 - ETA: 5s - loss: 0.0569 - accuracy: 0.97 - ETA: 5s - loss: 0.0565 - accuracy: 0.97 - ETA: 5s - loss: 0.0585 - accuracy: 0.97 - ETA: 4s - loss: 0.0587 - accuracy: 0.97 - ETA: 4s - loss: 0.0586 - accuracy: 0.97 - ETA: 4s - loss: 0.0591 - accuracy: 0.97 - ETA: 4s - loss: 0.0587 - accuracy: 0.97 - ETA: 4s - loss: 0.0583 - accuracy: 0.97 - ETA: 4s - loss: 0.0580 - accuracy: 0.97 - ETA: 4s - loss: 0.0579 - accuracy: 0.97 - ETA: 4s - loss: 0.0583 - accuracy: 0.97 - ETA: 4s - loss: 0.0579 - accuracy: 0.97 - ETA: 4s - loss: 0.0588 - accuracy: 0.97 - ETA: 4s - loss: 0.0585 - accuracy: 0.97 - ETA: 4s - loss: 0.0581 - accuracy: 0.97 - ETA: 4s - loss: 0.0578 - accuracy: 0.97 - ETA: 3s - loss: 0.0574 - accuracy: 0.97 - ETA: 3s - loss: 0.0571 - accuracy: 0.97 - ETA: 3s - loss: 0.0569 - accuracy: 0.97 - ETA: 3s - loss: 0.0566 - accuracy: 0.97 - ETA: 3s - loss: 0.0562 - accuracy: 0.97 - ETA: 3s - loss: 0.0559 - accuracy: 0.97 - ETA: 3s - loss: 0.0562 - accuracy: 0.97 - ETA: 3s - loss: 0.0559 - accuracy: 0.97 - ETA: 3s - loss: 0.0556 - accuracy: 0.97 - ETA: 3s - loss: 0.0553 - accuracy: 0.97 - ETA: 3s - loss: 0.0552 - accuracy: 0.97 - ETA: 3s - loss: 0.0549 - accuracy: 0.97 - ETA: 3s - loss: 0.0546 - accuracy: 0.97 - ETA: 3s - loss: 0.0543 - accuracy: 0.97 - ETA: 3s - loss: 0.0540 - accuracy: 0.98 - ETA: 2s - loss: 0.0537 - accuracy: 0.98 - ETA: 2s - loss: 0.0535 - accuracy: 0.98 - ETA: 2s - loss: 0.0534 - accuracy: 0.98 - ETA: 2s - loss: 0.0531 - accuracy: 0.98 - ETA: 2s - loss: 0.0529 - accuracy: 0.98 - ETA: 2s - loss: 0.0526 - accuracy: 0.98 - ETA: 2s - loss: 0.0523 - accuracy: 0.98 - ETA: 2s - loss: 0.0520 - accuracy: 0.9808"
     ]
    },
    {
     "name": "stdout",
     "output_type": "stream",
     "text": [
      "1770/1770 [==============================] - ETA: 2s - loss: 0.0517 - accuracy: 0.98 - ETA: 2s - loss: 0.0515 - accuracy: 0.98 - ETA: 2s - loss: 0.0513 - accuracy: 0.98 - ETA: 2s - loss: 0.0511 - accuracy: 0.98 - ETA: 2s - loss: 0.0508 - accuracy: 0.98 - ETA: 1s - loss: 0.0506 - accuracy: 0.98 - ETA: 1s - loss: 0.0505 - accuracy: 0.98 - ETA: 1s - loss: 0.0503 - accuracy: 0.98 - ETA: 1s - loss: 0.0502 - accuracy: 0.98 - ETA: 1s - loss: 0.0501 - accuracy: 0.98 - ETA: 1s - loss: 0.0499 - accuracy: 0.98 - ETA: 1s - loss: 0.0498 - accuracy: 0.98 - ETA: 1s - loss: 0.0497 - accuracy: 0.98 - ETA: 1s - loss: 0.0495 - accuracy: 0.98 - ETA: 1s - loss: 0.0492 - accuracy: 0.98 - ETA: 1s - loss: 0.0490 - accuracy: 0.98 - ETA: 1s - loss: 0.0497 - accuracy: 0.98 - ETA: 1s - loss: 0.0495 - accuracy: 0.98 - ETA: 1s - loss: 0.0492 - accuracy: 0.98 - ETA: 1s - loss: 0.0490 - accuracy: 0.98 - ETA: 1s - loss: 0.0491 - accuracy: 0.98 - ETA: 1s - loss: 0.0489 - accuracy: 0.98 - ETA: 0s - loss: 0.0487 - accuracy: 0.98 - ETA: 0s - loss: 0.0484 - accuracy: 0.98 - ETA: 0s - loss: 0.0482 - accuracy: 0.98 - ETA: 0s - loss: 0.0480 - accuracy: 0.98 - ETA: 0s - loss: 0.0479 - accuracy: 0.98 - ETA: 0s - loss: 0.0477 - accuracy: 0.98 - ETA: 0s - loss: 0.0476 - accuracy: 0.98 - ETA: 0s - loss: 0.0473 - accuracy: 0.98 - ETA: 0s - loss: 0.0471 - accuracy: 0.98 - ETA: 0s - loss: 0.0469 - accuracy: 0.98 - ETA: 0s - loss: 0.0472 - accuracy: 0.98 - ETA: 0s - loss: 0.0469 - accuracy: 0.98 - ETA: 0s - loss: 0.0467 - accuracy: 0.98 - 17s 10ms/step - loss: 0.0466 - accuracy: 0.9831 - val_loss: 0.0988 - val_accuracy: 0.9842\n",
      "Epoch 12/20\n"
     ]
    },
    {
     "name": "stdout",
     "output_type": "stream",
     "text": [
      "1088/1770 [=================>............] - ETA: 15s - loss: 9.6690e-05 - accuracy: 1.000 - ETA: 15s - loss: 3.4525e-05 - accuracy: 1.000 - ETA: 18s - loss: 2.7555e-05 - accuracy: 1.000 - ETA: 19s - loss: 2.2044e-05 - accuracy: 1.000 - ETA: 20s - loss: 0.0403 - accuracy: 0.9583    - ETA: 20s - loss: 0.0346 - accuracy: 0.964 - ETA: 20s - loss: 0.0374 - accuracy: 0.968 - ETA: 21s - loss: 0.0333 - accuracy: 0.972 - ETA: 21s - loss: 0.0299 - accuracy: 0.975 - ETA: 20s - loss: 0.0250 - accuracy: 0.979 - ETA: 20s - loss: 0.0231 - accuracy: 0.980 - ETA: 20s - loss: 0.0200 - accuracy: 0.983 - ETA: 19s - loss: 0.0177 - accuracy: 0.985 - ETA: 19s - loss: 0.0158 - accuracy: 0.986 - ETA: 19s - loss: 0.0143 - accuracy: 0.988 - ETA: 19s - loss: 0.0202 - accuracy: 0.988 - ETA: 19s - loss: 0.0497 - accuracy: 0.967 - ETA: 19s - loss: 0.0482 - accuracy: 0.968 - ETA: 19s - loss: 0.0462 - accuracy: 0.970 - ETA: 19s - loss: 0.0462 - accuracy: 0.971 - ETA: 19s - loss: 0.0445 - accuracy: 0.972 - ETA: 19s - loss: 0.0435 - accuracy: 0.973 - ETA: 19s - loss: 0.0420 - accuracy: 0.974 - ETA: 19s - loss: 0.0393 - accuracy: 0.975 - ETA: 19s - loss: 0.0380 - accuracy: 0.976 - ETA: 19s - loss: 0.0358 - accuracy: 0.977 - ETA: 19s - loss: 0.0339 - accuracy: 0.979 - ETA: 19s - loss: 0.0330 - accuracy: 0.979 - ETA: 19s - loss: 0.0323 - accuracy: 0.980 - ETA: 19s - loss: 0.0315 - accuracy: 0.980 - ETA: 19s - loss: 0.0307 - accuracy: 0.981 - ETA: 19s - loss: 0.0299 - accuracy: 0.981 - ETA: 19s - loss: 0.0298 - accuracy: 0.982 - ETA: 19s - loss: 0.0291 - accuracy: 0.982 - ETA: 19s - loss: 0.0284 - accuracy: 0.983 - ETA: 19s - loss: 0.0278 - accuracy: 0.983 - ETA: 19s - loss: 0.0272 - accuracy: 0.983 - ETA: 19s - loss: 0.0266 - accuracy: 0.984 - ETA: 19s - loss: 0.0262 - accuracy: 0.984 - ETA: 19s - loss: 0.0257 - accuracy: 0.984 - ETA: 19s - loss: 0.0567 - accuracy: 0.980 - ETA: 19s - loss: 0.0556 - accuracy: 0.980 - ETA: 19s - loss: 0.0561 - accuracy: 0.980 - ETA: 19s - loss: 0.0550 - accuracy: 0.981 - ETA: 19s - loss: 0.0530 - accuracy: 0.981 - ETA: 19s - loss: 0.0521 - accuracy: 0.982 - ETA: 18s - loss: 0.0643 - accuracy: 0.978 - ETA: 18s - loss: 0.0704 - accuracy: 0.975 - ETA: 18s - loss: 0.0867 - accuracy: 0.971 - ETA: 18s - loss: 0.0866 - accuracy: 0.972 - ETA: 18s - loss: 0.0842 - accuracy: 0.973 - ETA: 17s - loss: 0.0832 - accuracy: 0.974 - ETA: 17s - loss: 0.0809 - accuracy: 0.975 - ETA: 17s - loss: 0.0811 - accuracy: 0.975 - ETA: 17s - loss: 0.0924 - accuracy: 0.973 - ETA: 17s - loss: 0.0904 - accuracy: 0.973 - ETA: 17s - loss: 0.0882 - accuracy: 0.974 - ETA: 16s - loss: 0.0923 - accuracy: 0.968 - ETA: 16s - loss: 0.0901 - accuracy: 0.969 - ETA: 16s - loss: 0.0883 - accuracy: 0.970 - ETA: 16s - loss: 0.0873 - accuracy: 0.970 - ETA: 16s - loss: 0.0868 - accuracy: 0.970 - ETA: 16s - loss: 0.0859 - accuracy: 0.971 - ETA: 16s - loss: 0.0850 - accuracy: 0.971 - ETA: 16s - loss: 0.0848 - accuracy: 0.971 - ETA: 16s - loss: 0.0842 - accuracy: 0.972 - ETA: 16s - loss: 0.0833 - accuracy: 0.972 - ETA: 16s - loss: 0.0840 - accuracy: 0.972 - ETA: 16s - loss: 0.0835 - accuracy: 0.973 - ETA: 16s - loss: 0.0826 - accuracy: 0.973 - ETA: 16s - loss: 0.0874 - accuracy: 0.971 - ETA: 16s - loss: 0.0919 - accuracy: 0.969 - ETA: 16s - loss: 0.0927 - accuracy: 0.970 - ETA: 15s - loss: 0.0911 - accuracy: 0.970 - ETA: 15s - loss: 0.0923 - accuracy: 0.968 - ETA: 15s - loss: 0.0920 - accuracy: 0.969 - ETA: 15s - loss: 0.0918 - accuracy: 0.969 - ETA: 15s - loss: 0.0911 - accuracy: 0.970 - ETA: 15s - loss: 0.0896 - accuracy: 0.971 - ETA: 15s - loss: 0.0904 - accuracy: 0.969 - ETA: 15s - loss: 0.0901 - accuracy: 0.969 - ETA: 14s - loss: 0.0888 - accuracy: 0.970 - ETA: 14s - loss: 0.0874 - accuracy: 0.970 - ETA: 14s - loss: 0.0860 - accuracy: 0.971 - ETA: 14s - loss: 0.0846 - accuracy: 0.971 - ETA: 14s - loss: 0.0833 - accuracy: 0.972 - ETA: 14s - loss: 0.0828 - accuracy: 0.972 - ETA: 14s - loss: 0.0822 - accuracy: 0.972 - ETA: 14s - loss: 0.0815 - accuracy: 0.972 - ETA: 14s - loss: 0.0809 - accuracy: 0.973 - ETA: 14s - loss: 0.0804 - accuracy: 0.973 - ETA: 14s - loss: 0.0797 - accuracy: 0.973 - ETA: 14s - loss: 0.0786 - accuracy: 0.973 - ETA: 14s - loss: 0.0786 - accuracy: 0.974 - ETA: 14s - loss: 0.0780 - accuracy: 0.974 - ETA: 14s - loss: 0.0769 - accuracy: 0.974 - ETA: 14s - loss: 0.0763 - accuracy: 0.974 - ETA: 14s - loss: 0.0758 - accuracy: 0.975 - ETA: 14s - loss: 0.0753 - accuracy: 0.975 - ETA: 14s - loss: 0.0749 - accuracy: 0.975 - ETA: 14s - loss: 0.0744 - accuracy: 0.975 - ETA: 14s - loss: 0.0739 - accuracy: 0.975 - ETA: 14s - loss: 0.0734 - accuracy: 0.975 - ETA: 14s - loss: 0.0729 - accuracy: 0.976 - ETA: 14s - loss: 0.0733 - accuracy: 0.976 - ETA: 15s - loss: 0.0728 - accuracy: 0.976 - ETA: 15s - loss: 0.0723 - accuracy: 0.976 - ETA: 15s - loss: 0.0718 - accuracy: 0.976 - ETA: 14s - loss: 0.0714 - accuracy: 0.977 - ETA: 14s - loss: 0.0709 - accuracy: 0.977 - ETA: 14s - loss: 0.0706 - accuracy: 0.977 - ETA: 14s - loss: 0.0701 - accuracy: 0.977 - ETA: 14s - loss: 0.0692 - accuracy: 0.977 - ETA: 14s - loss: 0.0688 - accuracy: 0.977 - ETA: 14s - loss: 0.0683 - accuracy: 0.978 - ETA: 14s - loss: 0.0679 - accuracy: 0.978 - ETA: 14s - loss: 0.0680 - accuracy: 0.978 - ETA: 14s - loss: 0.0672 - accuracy: 0.978 - ETA: 14s - loss: 0.0668 - accuracy: 0.978 - ETA: 14s - loss: 0.0660 - accuracy: 0.978 - ETA: 14s - loss: 0.0652 - accuracy: 0.979 - ETA: 14s - loss: 0.0648 - accuracy: 0.979 - ETA: 13s - loss: 0.0640 - accuracy: 0.979 - ETA: 13s - loss: 0.0633 - accuracy: 0.979 - ETA: 13s - loss: 0.0630 - accuracy: 0.979 - ETA: 13s - loss: 0.0626 - accuracy: 0.980 - ETA: 13s - loss: 0.0622 - accuracy: 0.980 - ETA: 13s - loss: 0.0619 - accuracy: 0.980 - ETA: 13s - loss: 0.0615 - accuracy: 0.980 - ETA: 13s - loss: 0.0664 - accuracy: 0.979 - ETA: 13s - loss: 0.0661 - accuracy: 0.979 - ETA: 13s - loss: 0.0657 - accuracy: 0.979 - ETA: 13s - loss: 0.0653 - accuracy: 0.979 - ETA: 13s - loss: 0.0647 - accuracy: 0.979 - ETA: 13s - loss: 0.0640 - accuracy: 0.979 - ETA: 13s - loss: 0.0633 - accuracy: 0.980 - ETA: 12s - loss: 0.0627 - accuracy: 0.980 - ETA: 12s - loss: 0.0637 - accuracy: 0.979 - ETA: 12s - loss: 0.0631 - accuracy: 0.979 - ETA: 12s - loss: 0.0625 - accuracy: 0.979 - ETA: 12s - loss: 0.0621 - accuracy: 0.979 - ETA: 12s - loss: 0.0615 - accuracy: 0.979 - ETA: 12s - loss: 0.0609 - accuracy: 0.980 - ETA: 12s - loss: 0.0603 - accuracy: 0.980 - ETA: 11s - loss: 0.0600 - accuracy: 0.980 - ETA: 11s - loss: 0.0594 - accuracy: 0.980 - ETA: 11s - loss: 0.0589 - accuracy: 0.980 - ETA: 11s - loss: 0.0601 - accuracy: 0.979 - ETA: 11s - loss: 0.0596 - accuracy: 0.980 - ETA: 11s - loss: 0.0590 - accuracy: 0.980 - ETA: 11s - loss: 0.0591 - accuracy: 0.980 - ETA: 11s - loss: 0.0585 - accuracy: 0.980 - ETA: 11s - loss: 0.0580 - accuracy: 0.980 - ETA: 10s - loss: 0.0584 - accuracy: 0.979 - ETA: 10s - loss: 0.0579 - accuracy: 0.980 - ETA: 10s - loss: 0.0579 - accuracy: 0.980 - ETA: 10s - loss: 0.0574 - accuracy: 0.980 - ETA: 10s - loss: 0.0587 - accuracy: 0.979 - ETA: 10s - loss: 0.0582 - accuracy: 0.979 - ETA: 10s - loss: 0.0581 - accuracy: 0.979 - ETA: 10s - loss: 0.0576 - accuracy: 0.980 - ETA: 10s - loss: 0.0574 - accuracy: 0.980 - ETA: 10s - loss: 0.0571 - accuracy: 0.980 - ETA: 10s - loss: 0.0569 - accuracy: 0.980 - ETA: 9s - loss: 0.0567 - accuracy: 0.980 - ETA: 9s - loss: 0.0562 - accuracy: 0.98 - ETA: 9s - loss: 0.0560 - accuracy: 0.98 - ETA: 9s - loss: 0.0555 - accuracy: 0.98 - ETA: 9s - loss: 0.0551 - accuracy: 0.98 - ETA: 9s - loss: 0.0546 - accuracy: 0.98 - ETA: 9s - loss: 0.0542 - accuracy: 0.98 - ETA: 9s - loss: 0.0538 - accuracy: 0.98 - ETA: 9s - loss: 0.0533 - accuracy: 0.98 - ETA: 9s - loss: 0.0533 - accuracy: 0.98 - ETA: 8s - loss: 0.0529 - accuracy: 0.98 - ETA: 8s - loss: 0.0530 - accuracy: 0.98 - ETA: 8s - loss: 0.0527 - accuracy: 0.98 - ETA: 8s - loss: 0.0526 - accuracy: 0.98 - ETA: 8s - loss: 0.0526 - accuracy: 0.98 - ETA: 8s - loss: 0.0525 - accuracy: 0.98 - ETA: 8s - loss: 0.0535 - accuracy: 0.98 - ETA: 8s - loss: 0.0533 - accuracy: 0.98 - ETA: 8s - loss: 0.0531 - accuracy: 0.98 - ETA: 8s - loss: 0.0529 - accuracy: 0.98 - ETA: 8s - loss: 0.0527 - accuracy: 0.98 - ETA: 8s - loss: 0.0591 - accuracy: 0.9807"
     ]
    },
    {
     "name": "stdout",
     "output_type": "stream",
     "text": [
      "1770/1770 [==============================] - ETA: 8s - loss: 0.0587 - accuracy: 0.98 - ETA: 8s - loss: 0.0583 - accuracy: 0.98 - ETA: 8s - loss: 0.0579 - accuracy: 0.98 - ETA: 7s - loss: 0.0574 - accuracy: 0.98 - ETA: 7s - loss: 0.0570 - accuracy: 0.98 - ETA: 7s - loss: 0.0567 - accuracy: 0.98 - ETA: 7s - loss: 0.0564 - accuracy: 0.98 - ETA: 7s - loss: 0.0560 - accuracy: 0.98 - ETA: 7s - loss: 0.0556 - accuracy: 0.98 - ETA: 7s - loss: 0.0553 - accuracy: 0.98 - ETA: 7s - loss: 0.0550 - accuracy: 0.98 - ETA: 7s - loss: 0.0546 - accuracy: 0.98 - ETA: 6s - loss: 0.0545 - accuracy: 0.98 - ETA: 6s - loss: 0.0541 - accuracy: 0.98 - ETA: 6s - loss: 0.0538 - accuracy: 0.98 - ETA: 6s - loss: 0.0534 - accuracy: 0.98 - ETA: 6s - loss: 0.0531 - accuracy: 0.98 - ETA: 6s - loss: 0.0528 - accuracy: 0.98 - ETA: 6s - loss: 0.0525 - accuracy: 0.98 - ETA: 6s - loss: 0.0522 - accuracy: 0.98 - ETA: 6s - loss: 0.0519 - accuracy: 0.98 - ETA: 6s - loss: 0.0519 - accuracy: 0.98 - ETA: 5s - loss: 0.0516 - accuracy: 0.98 - ETA: 5s - loss: 0.0513 - accuracy: 0.98 - ETA: 5s - loss: 0.0510 - accuracy: 0.98 - ETA: 5s - loss: 0.0508 - accuracy: 0.98 - ETA: 5s - loss: 0.0513 - accuracy: 0.98 - ETA: 5s - loss: 0.0510 - accuracy: 0.98 - ETA: 5s - loss: 0.0507 - accuracy: 0.98 - ETA: 5s - loss: 0.0504 - accuracy: 0.98 - ETA: 5s - loss: 0.0501 - accuracy: 0.98 - ETA: 5s - loss: 0.0498 - accuracy: 0.98 - ETA: 4s - loss: 0.0495 - accuracy: 0.98 - ETA: 4s - loss: 0.0493 - accuracy: 0.98 - ETA: 4s - loss: 0.0490 - accuracy: 0.98 - ETA: 4s - loss: 0.0487 - accuracy: 0.98 - ETA: 4s - loss: 0.0484 - accuracy: 0.98 - ETA: 4s - loss: 0.0481 - accuracy: 0.98 - ETA: 4s - loss: 0.0483 - accuracy: 0.98 - ETA: 4s - loss: 0.0480 - accuracy: 0.98 - ETA: 4s - loss: 0.0478 - accuracy: 0.98 - ETA: 4s - loss: 0.0480 - accuracy: 0.98 - ETA: 3s - loss: 0.0478 - accuracy: 0.98 - ETA: 3s - loss: 0.0475 - accuracy: 0.98 - ETA: 3s - loss: 0.0477 - accuracy: 0.98 - ETA: 3s - loss: 0.0474 - accuracy: 0.98 - ETA: 3s - loss: 0.0472 - accuracy: 0.98 - ETA: 3s - loss: 0.0469 - accuracy: 0.98 - ETA: 3s - loss: 0.0466 - accuracy: 0.98 - ETA: 3s - loss: 0.0481 - accuracy: 0.98 - ETA: 3s - loss: 0.0478 - accuracy: 0.98 - ETA: 3s - loss: 0.0477 - accuracy: 0.98 - ETA: 2s - loss: 0.0475 - accuracy: 0.98 - ETA: 2s - loss: 0.0479 - accuracy: 0.98 - ETA: 2s - loss: 0.0481 - accuracy: 0.98 - ETA: 2s - loss: 0.0518 - accuracy: 0.98 - ETA: 2s - loss: 0.0515 - accuracy: 0.98 - ETA: 2s - loss: 0.0514 - accuracy: 0.98 - ETA: 2s - loss: 0.0515 - accuracy: 0.98 - ETA: 2s - loss: 0.0512 - accuracy: 0.98 - ETA: 2s - loss: 0.0511 - accuracy: 0.98 - ETA: 2s - loss: 0.0508 - accuracy: 0.98 - ETA: 2s - loss: 0.0507 - accuracy: 0.98 - ETA: 2s - loss: 0.0506 - accuracy: 0.98 - ETA: 2s - loss: 0.0503 - accuracy: 0.98 - ETA: 1s - loss: 0.0501 - accuracy: 0.98 - ETA: 1s - loss: 0.0500 - accuracy: 0.98 - ETA: 1s - loss: 0.0498 - accuracy: 0.98 - ETA: 1s - loss: 0.0497 - accuracy: 0.98 - ETA: 1s - loss: 0.0496 - accuracy: 0.98 - ETA: 1s - loss: 0.0495 - accuracy: 0.98 - ETA: 1s - loss: 0.0494 - accuracy: 0.98 - ETA: 1s - loss: 0.0492 - accuracy: 0.98 - ETA: 1s - loss: 0.0491 - accuracy: 0.98 - ETA: 1s - loss: 0.0490 - accuracy: 0.98 - ETA: 1s - loss: 0.0489 - accuracy: 0.98 - ETA: 1s - loss: 0.0488 - accuracy: 0.98 - ETA: 1s - loss: 0.0486 - accuracy: 0.98 - ETA: 1s - loss: 0.0488 - accuracy: 0.98 - ETA: 1s - loss: 0.0485 - accuracy: 0.98 - ETA: 1s - loss: 0.0483 - accuracy: 0.98 - ETA: 0s - loss: 0.0482 - accuracy: 0.98 - ETA: 0s - loss: 0.0480 - accuracy: 0.98 - ETA: 0s - loss: 0.0478 - accuracy: 0.98 - ETA: 0s - loss: 0.0476 - accuracy: 0.98 - ETA: 0s - loss: 0.0474 - accuracy: 0.98 - ETA: 0s - loss: 0.0475 - accuracy: 0.98 - ETA: 0s - loss: 0.0474 - accuracy: 0.98 - ETA: 0s - loss: 0.0472 - accuracy: 0.98 - ETA: 0s - loss: 0.0472 - accuracy: 0.98 - ETA: 0s - loss: 0.0470 - accuracy: 0.98 - ETA: 0s - loss: 0.0470 - accuracy: 0.98 - ETA: 0s - loss: 0.0469 - accuracy: 0.98 - ETA: 0s - loss: 0.0468 - accuracy: 0.98 - ETA: 0s - loss: 0.0467 - accuracy: 0.98 - ETA: 0s - loss: 0.0466 - accuracy: 0.98 - ETA: 0s - loss: 0.0465 - accuracy: 0.98 - 21s 12ms/step - loss: 0.0464 - accuracy: 0.9847 - val_loss: 0.0813 - val_accuracy: 0.9842\n",
      "Epoch 13/20\n"
     ]
    },
    {
     "name": "stdout",
     "output_type": "stream",
     "text": [
      "1160/1770 [==================>...........] - ETA: 15s - loss: 1.0995e-04 - accuracy: 1.000 - ETA: 16s - loss: 4.0841e-05 - accuracy: 1.000 - ETA: 16s - loss: 3.2569e-05 - accuracy: 1.000 - ETA: 16s - loss: 1.6306e-04 - accuracy: 1.000 - ETA: 16s - loss: 0.0392 - accuracy: 0.9722    - ETA: 16s - loss: 0.0365 - accuracy: 0.977 - ETA: 16s - loss: 0.0343 - accuracy: 0.980 - ETA: 16s - loss: 0.0320 - accuracy: 0.983 - ETA: 16s - loss: 0.0282 - accuracy: 0.985 - ETA: 16s - loss: 0.0253 - accuracy: 0.986 - ETA: 16s - loss: 0.0229 - accuracy: 0.988 - ETA: 16s - loss: 0.0216 - accuracy: 0.989 - ETA: 16s - loss: 0.0198 - accuracy: 0.990 - ETA: 16s - loss: 0.0209 - accuracy: 0.990 - ETA: 16s - loss: 0.0195 - accuracy: 0.991 - ETA: 16s - loss: 0.0183 - accuracy: 0.991 - ETA: 15s - loss: 0.0172 - accuracy: 0.992 - ETA: 15s - loss: 0.0162 - accuracy: 0.992 - ETA: 15s - loss: 0.0155 - accuracy: 0.993 - ETA: 15s - loss: 0.0147 - accuracy: 0.993 - ETA: 15s - loss: 0.0143 - accuracy: 0.993 - ETA: 15s - loss: 0.0140 - accuracy: 0.993 - ETA: 16s - loss: 0.0137 - accuracy: 0.994 - ETA: 16s - loss: 0.0136 - accuracy: 0.994 - ETA: 16s - loss: 0.0132 - accuracy: 0.994 - ETA: 16s - loss: 0.0129 - accuracy: 0.994 - ETA: 16s - loss: 0.0127 - accuracy: 0.994 - ETA: 16s - loss: 0.0124 - accuracy: 0.994 - ETA: 16s - loss: 0.0122 - accuracy: 0.994 - ETA: 16s - loss: 0.0119 - accuracy: 0.994 - ETA: 16s - loss: 0.0117 - accuracy: 0.995 - ETA: 16s - loss: 0.0114 - accuracy: 0.995 - ETA: 16s - loss: 0.0110 - accuracy: 0.995 - ETA: 16s - loss: 0.0106 - accuracy: 0.995 - ETA: 16s - loss: 0.0104 - accuracy: 0.995 - ETA: 16s - loss: 0.0102 - accuracy: 0.995 - ETA: 16s - loss: 0.0145 - accuracy: 0.991 - ETA: 16s - loss: 0.0142 - accuracy: 0.991 - ETA: 16s - loss: 0.0140 - accuracy: 0.991 - ETA: 16s - loss: 0.0138 - accuracy: 0.991 - ETA: 16s - loss: 0.0136 - accuracy: 0.991 - ETA: 16s - loss: 0.0133 - accuracy: 0.992 - ETA: 16s - loss: 0.0131 - accuracy: 0.992 - ETA: 17s - loss: 0.0129 - accuracy: 0.992 - ETA: 17s - loss: 0.0127 - accuracy: 0.992 - ETA: 16s - loss: 0.0124 - accuracy: 0.992 - ETA: 16s - loss: 0.0121 - accuracy: 0.992 - ETA: 16s - loss: 0.0117 - accuracy: 0.993 - ETA: 16s - loss: 0.0114 - accuracy: 0.993 - ETA: 16s - loss: 0.0111 - accuracy: 0.993 - ETA: 16s - loss: 0.0108 - accuracy: 0.993 - ETA: 16s - loss: 0.0110 - accuracy: 0.993 - ETA: 15s - loss: 0.0107 - accuracy: 0.993 - ETA: 15s - loss: 0.0105 - accuracy: 0.994 - ETA: 15s - loss: 0.0102 - accuracy: 0.994 - ETA: 15s - loss: 0.0100 - accuracy: 0.994 - ETA: 15s - loss: 0.0098 - accuracy: 0.994 - ETA: 15s - loss: 0.0096 - accuracy: 0.994 - ETA: 15s - loss: 0.0094 - accuracy: 0.994 - ETA: 15s - loss: 0.0120 - accuracy: 0.992 - ETA: 15s - loss: 0.0117 - accuracy: 0.992 - ETA: 14s - loss: 0.0154 - accuracy: 0.989 - ETA: 14s - loss: 0.0151 - accuracy: 0.990 - ETA: 14s - loss: 0.0149 - accuracy: 0.990 - ETA: 14s - loss: 0.0148 - accuracy: 0.990 - ETA: 14s - loss: 0.0147 - accuracy: 0.990 - ETA: 14s - loss: 0.0145 - accuracy: 0.990 - ETA: 14s - loss: 0.0144 - accuracy: 0.990 - ETA: 14s - loss: 0.0142 - accuracy: 0.990 - ETA: 14s - loss: 0.0141 - accuracy: 0.990 - ETA: 14s - loss: 0.0139 - accuracy: 0.990 - ETA: 14s - loss: 0.0138 - accuracy: 0.991 - ETA: 14s - loss: 0.0182 - accuracy: 0.988 - ETA: 14s - loss: 0.0181 - accuracy: 0.988 - ETA: 14s - loss: 0.0179 - accuracy: 0.989 - ETA: 14s - loss: 0.0178 - accuracy: 0.989 - ETA: 14s - loss: 0.0253 - accuracy: 0.987 - ETA: 14s - loss: 0.0249 - accuracy: 0.987 - ETA: 14s - loss: 0.0244 - accuracy: 0.987 - ETA: 14s - loss: 0.0241 - accuracy: 0.987 - ETA: 14s - loss: 0.0238 - accuracy: 0.988 - ETA: 14s - loss: 0.0311 - accuracy: 0.986 - ETA: 13s - loss: 0.0306 - accuracy: 0.986 - ETA: 13s - loss: 0.0376 - accuracy: 0.984 - ETA: 13s - loss: 0.0370 - accuracy: 0.985 - ETA: 13s - loss: 0.0365 - accuracy: 0.985 - ETA: 13s - loss: 0.0363 - accuracy: 0.985 - ETA: 13s - loss: 0.0358 - accuracy: 0.985 - ETA: 13s - loss: 0.0373 - accuracy: 0.984 - ETA: 13s - loss: 0.0404 - accuracy: 0.982 - ETA: 13s - loss: 0.0404 - accuracy: 0.982 - ETA: 12s - loss: 0.0399 - accuracy: 0.983 - ETA: 12s - loss: 0.0398 - accuracy: 0.983 - ETA: 12s - loss: 0.0396 - accuracy: 0.983 - ETA: 12s - loss: 0.0393 - accuracy: 0.983 - ETA: 12s - loss: 0.0391 - accuracy: 0.983 - ETA: 12s - loss: 0.0388 - accuracy: 0.983 - ETA: 12s - loss: 0.0418 - accuracy: 0.982 - ETA: 12s - loss: 0.0416 - accuracy: 0.982 - ETA: 12s - loss: 0.0414 - accuracy: 0.982 - ETA: 12s - loss: 0.0411 - accuracy: 0.982 - ETA: 12s - loss: 0.0413 - accuracy: 0.982 - ETA: 12s - loss: 0.0411 - accuracy: 0.982 - ETA: 12s - loss: 0.0406 - accuracy: 0.982 - ETA: 12s - loss: 0.0411 - accuracy: 0.983 - ETA: 12s - loss: 0.0408 - accuracy: 0.983 - ETA: 12s - loss: 0.0404 - accuracy: 0.983 - ETA: 12s - loss: 0.0400 - accuracy: 0.983 - ETA: 12s - loss: 0.0395 - accuracy: 0.983 - ETA: 11s - loss: 0.0420 - accuracy: 0.982 - ETA: 11s - loss: 0.0424 - accuracy: 0.982 - ETA: 11s - loss: 0.0421 - accuracy: 0.983 - ETA: 11s - loss: 0.0443 - accuracy: 0.980 - ETA: 11s - loss: 0.0438 - accuracy: 0.980 - ETA: 11s - loss: 0.0433 - accuracy: 0.980 - ETA: 11s - loss: 0.0429 - accuracy: 0.981 - ETA: 11s - loss: 0.0425 - accuracy: 0.981 - ETA: 11s - loss: 0.0421 - accuracy: 0.981 - ETA: 10s - loss: 0.0417 - accuracy: 0.981 - ETA: 10s - loss: 0.0418 - accuracy: 0.981 - ETA: 10s - loss: 0.0414 - accuracy: 0.982 - ETA: 10s - loss: 0.0410 - accuracy: 0.982 - ETA: 10s - loss: 0.0411 - accuracy: 0.982 - ETA: 10s - loss: 0.0411 - accuracy: 0.982 - ETA: 10s - loss: 0.0408 - accuracy: 0.982 - ETA: 10s - loss: 0.0404 - accuracy: 0.982 - ETA: 10s - loss: 0.0400 - accuracy: 0.983 - ETA: 10s - loss: 0.0396 - accuracy: 0.983 - ETA: 9s - loss: 0.0392 - accuracy: 0.983 - ETA: 9s - loss: 0.0393 - accuracy: 0.98 - ETA: 9s - loss: 0.0390 - accuracy: 0.98 - ETA: 9s - loss: 0.0387 - accuracy: 0.98 - ETA: 9s - loss: 0.0383 - accuracy: 0.98 - ETA: 9s - loss: 0.0380 - accuracy: 0.98 - ETA: 9s - loss: 0.0376 - accuracy: 0.98 - ETA: 9s - loss: 0.0373 - accuracy: 0.98 - ETA: 9s - loss: 0.0370 - accuracy: 0.98 - ETA: 9s - loss: 0.0367 - accuracy: 0.98 - ETA: 9s - loss: 0.0364 - accuracy: 0.98 - ETA: 8s - loss: 0.0361 - accuracy: 0.98 - ETA: 8s - loss: 0.0359 - accuracy: 0.98 - ETA: 8s - loss: 0.0358 - accuracy: 0.98 - ETA: 8s - loss: 0.0356 - accuracy: 0.98 - ETA: 8s - loss: 0.0355 - accuracy: 0.98 - ETA: 8s - loss: 0.0354 - accuracy: 0.98 - ETA: 8s - loss: 0.0351 - accuracy: 0.98 - ETA: 8s - loss: 0.0350 - accuracy: 0.98 - ETA: 8s - loss: 0.0349 - accuracy: 0.98 - ETA: 8s - loss: 0.0347 - accuracy: 0.98 - ETA: 8s - loss: 0.0345 - accuracy: 0.98 - ETA: 8s - loss: 0.0344 - accuracy: 0.98 - ETA: 8s - loss: 0.0341 - accuracy: 0.98 - ETA: 8s - loss: 0.0338 - accuracy: 0.98 - ETA: 8s - loss: 0.0336 - accuracy: 0.98 - ETA: 8s - loss: 0.0340 - accuracy: 0.98 - ETA: 8s - loss: 0.0339 - accuracy: 0.98 - ETA: 8s - loss: 0.0338 - accuracy: 0.98 - ETA: 8s - loss: 0.0336 - accuracy: 0.98 - ETA: 7s - loss: 0.0335 - accuracy: 0.98 - ETA: 7s - loss: 0.0334 - accuracy: 0.98 - ETA: 7s - loss: 0.0333 - accuracy: 0.98 - ETA: 7s - loss: 0.0332 - accuracy: 0.98 - ETA: 7s - loss: 0.0330 - accuracy: 0.98 - ETA: 7s - loss: 0.0329 - accuracy: 0.98 - ETA: 7s - loss: 0.0328 - accuracy: 0.98 - ETA: 7s - loss: 0.0327 - accuracy: 0.98 - ETA: 7s - loss: 0.0325 - accuracy: 0.98 - ETA: 7s - loss: 0.0324 - accuracy: 0.98 - ETA: 7s - loss: 0.0323 - accuracy: 0.98 - ETA: 7s - loss: 0.0322 - accuracy: 0.98 - ETA: 7s - loss: 0.0321 - accuracy: 0.98 - ETA: 7s - loss: 0.0319 - accuracy: 0.98 - ETA: 7s - loss: 0.0318 - accuracy: 0.98 - ETA: 7s - loss: 0.0317 - accuracy: 0.98 - ETA: 7s - loss: 0.0316 - accuracy: 0.98 - ETA: 7s - loss: 0.0315 - accuracy: 0.98 - ETA: 7s - loss: 0.0314 - accuracy: 0.98 - ETA: 7s - loss: 0.0311 - accuracy: 0.98 - ETA: 7s - loss: 0.0309 - accuracy: 0.98 - ETA: 7s - loss: 0.0308 - accuracy: 0.98 - ETA: 7s - loss: 0.0307 - accuracy: 0.98 - ETA: 7s - loss: 0.0307 - accuracy: 0.98 - ETA: 7s - loss: 0.0306 - accuracy: 0.98 - ETA: 7s - loss: 0.0304 - accuracy: 0.98 - ETA: 6s - loss: 0.0303 - accuracy: 0.98 - ETA: 6s - loss: 0.0302 - accuracy: 0.98 - ETA: 6s - loss: 0.0302 - accuracy: 0.98 - ETA: 6s - loss: 0.0301 - accuracy: 0.9879"
     ]
    },
    {
     "name": "stdout",
     "output_type": "stream",
     "text": [
      "1770/1770 [==============================] - ETA: 6s - loss: 0.0300 - accuracy: 0.98 - ETA: 6s - loss: 0.0299 - accuracy: 0.98 - ETA: 6s - loss: 0.0298 - accuracy: 0.98 - ETA: 6s - loss: 0.0297 - accuracy: 0.98 - ETA: 6s - loss: 0.0296 - accuracy: 0.98 - ETA: 6s - loss: 0.0308 - accuracy: 0.98 - ETA: 6s - loss: 0.0307 - accuracy: 0.98 - ETA: 6s - loss: 0.0306 - accuracy: 0.98 - ETA: 6s - loss: 0.0305 - accuracy: 0.98 - ETA: 6s - loss: 0.0304 - accuracy: 0.98 - ETA: 6s - loss: 0.0303 - accuracy: 0.98 - ETA: 6s - loss: 0.0301 - accuracy: 0.98 - ETA: 6s - loss: 0.0300 - accuracy: 0.98 - ETA: 6s - loss: 0.0299 - accuracy: 0.98 - ETA: 6s - loss: 0.0298 - accuracy: 0.98 - ETA: 6s - loss: 0.0297 - accuracy: 0.98 - ETA: 6s - loss: 0.0296 - accuracy: 0.98 - ETA: 6s - loss: 0.0295 - accuracy: 0.98 - ETA: 6s - loss: 0.0294 - accuracy: 0.98 - ETA: 5s - loss: 0.0310 - accuracy: 0.98 - ETA: 5s - loss: 0.0309 - accuracy: 0.98 - ETA: 5s - loss: 0.0308 - accuracy: 0.98 - ETA: 5s - loss: 0.0306 - accuracy: 0.98 - ETA: 5s - loss: 0.0305 - accuracy: 0.98 - ETA: 5s - loss: 0.0306 - accuracy: 0.98 - ETA: 5s - loss: 0.0306 - accuracy: 0.98 - ETA: 5s - loss: 0.0305 - accuracy: 0.98 - ETA: 5s - loss: 0.0304 - accuracy: 0.98 - ETA: 5s - loss: 0.0303 - accuracy: 0.98 - ETA: 5s - loss: 0.0302 - accuracy: 0.98 - ETA: 5s - loss: 0.0301 - accuracy: 0.98 - ETA: 5s - loss: 0.0299 - accuracy: 0.98 - ETA: 5s - loss: 0.0298 - accuracy: 0.98 - ETA: 5s - loss: 0.0297 - accuracy: 0.98 - ETA: 5s - loss: 0.0297 - accuracy: 0.98 - ETA: 5s - loss: 0.0296 - accuracy: 0.98 - ETA: 5s - loss: 0.0295 - accuracy: 0.98 - ETA: 5s - loss: 0.0294 - accuracy: 0.98 - ETA: 5s - loss: 0.0293 - accuracy: 0.98 - ETA: 4s - loss: 0.0337 - accuracy: 0.98 - ETA: 4s - loss: 0.0336 - accuracy: 0.98 - ETA: 4s - loss: 0.0334 - accuracy: 0.98 - ETA: 4s - loss: 0.0333 - accuracy: 0.98 - ETA: 4s - loss: 0.0332 - accuracy: 0.98 - ETA: 4s - loss: 0.0330 - accuracy: 0.98 - ETA: 4s - loss: 0.0331 - accuracy: 0.98 - ETA: 4s - loss: 0.0330 - accuracy: 0.98 - ETA: 4s - loss: 0.0329 - accuracy: 0.98 - ETA: 4s - loss: 0.0331 - accuracy: 0.98 - ETA: 4s - loss: 0.0330 - accuracy: 0.98 - ETA: 4s - loss: 0.0329 - accuracy: 0.98 - ETA: 4s - loss: 0.0328 - accuracy: 0.98 - ETA: 4s - loss: 0.0328 - accuracy: 0.98 - ETA: 4s - loss: 0.0328 - accuracy: 0.98 - ETA: 4s - loss: 0.0326 - accuracy: 0.98 - ETA: 4s - loss: 0.0325 - accuracy: 0.98 - ETA: 3s - loss: 0.0324 - accuracy: 0.98 - ETA: 3s - loss: 0.0324 - accuracy: 0.98 - ETA: 3s - loss: 0.0323 - accuracy: 0.98 - ETA: 3s - loss: 0.0322 - accuracy: 0.98 - ETA: 3s - loss: 0.0321 - accuracy: 0.98 - ETA: 3s - loss: 0.0320 - accuracy: 0.98 - ETA: 3s - loss: 0.0319 - accuracy: 0.98 - ETA: 3s - loss: 0.0318 - accuracy: 0.98 - ETA: 3s - loss: 0.0317 - accuracy: 0.98 - ETA: 3s - loss: 0.0317 - accuracy: 0.98 - ETA: 3s - loss: 0.0316 - accuracy: 0.98 - ETA: 3s - loss: 0.0315 - accuracy: 0.98 - ETA: 3s - loss: 0.0315 - accuracy: 0.98 - ETA: 3s - loss: 0.0314 - accuracy: 0.98 - ETA: 3s - loss: 0.0313 - accuracy: 0.98 - ETA: 3s - loss: 0.0312 - accuracy: 0.98 - ETA: 3s - loss: 0.0312 - accuracy: 0.98 - ETA: 3s - loss: 0.0311 - accuracy: 0.98 - ETA: 3s - loss: 0.0310 - accuracy: 0.98 - ETA: 3s - loss: 0.0310 - accuracy: 0.98 - ETA: 3s - loss: 0.0309 - accuracy: 0.98 - ETA: 3s - loss: 0.0308 - accuracy: 0.98 - ETA: 3s - loss: 0.0307 - accuracy: 0.98 - ETA: 2s - loss: 0.0306 - accuracy: 0.98 - ETA: 2s - loss: 0.0351 - accuracy: 0.98 - ETA: 2s - loss: 0.0350 - accuracy: 0.98 - ETA: 2s - loss: 0.0348 - accuracy: 0.98 - ETA: 2s - loss: 0.0346 - accuracy: 0.98 - ETA: 2s - loss: 0.0345 - accuracy: 0.98 - ETA: 2s - loss: 0.0345 - accuracy: 0.98 - ETA: 2s - loss: 0.0344 - accuracy: 0.98 - ETA: 2s - loss: 0.0344 - accuracy: 0.98 - ETA: 2s - loss: 0.0343 - accuracy: 0.98 - ETA: 2s - loss: 0.0349 - accuracy: 0.98 - ETA: 2s - loss: 0.0348 - accuracy: 0.98 - ETA: 1s - loss: 0.0347 - accuracy: 0.98 - ETA: 1s - loss: 0.0346 - accuracy: 0.98 - ETA: 1s - loss: 0.0345 - accuracy: 0.98 - ETA: 1s - loss: 0.0344 - accuracy: 0.98 - ETA: 1s - loss: 0.0343 - accuracy: 0.98 - ETA: 1s - loss: 0.0343 - accuracy: 0.98 - ETA: 1s - loss: 0.0342 - accuracy: 0.98 - ETA: 1s - loss: 0.0340 - accuracy: 0.98 - ETA: 1s - loss: 0.0339 - accuracy: 0.98 - ETA: 1s - loss: 0.0337 - accuracy: 0.98 - ETA: 1s - loss: 0.0336 - accuracy: 0.98 - ETA: 1s - loss: 0.0335 - accuracy: 0.98 - ETA: 1s - loss: 0.0335 - accuracy: 0.98 - ETA: 0s - loss: 0.0334 - accuracy: 0.98 - ETA: 0s - loss: 0.0335 - accuracy: 0.98 - ETA: 0s - loss: 0.0334 - accuracy: 0.98 - ETA: 0s - loss: 0.0332 - accuracy: 0.98 - ETA: 0s - loss: 0.0332 - accuracy: 0.98 - ETA: 0s - loss: 0.0331 - accuracy: 0.98 - ETA: 0s - loss: 0.0329 - accuracy: 0.98 - ETA: 0s - loss: 0.0328 - accuracy: 0.98 - ETA: 0s - loss: 0.0326 - accuracy: 0.98 - ETA: 0s - loss: 0.0326 - accuracy: 0.98 - ETA: 0s - loss: 0.0325 - accuracy: 0.98 - ETA: 0s - loss: 0.0325 - accuracy: 0.98 - ETA: 0s - loss: 0.0324 - accuracy: 0.98 - ETA: 0s - loss: 0.0323 - accuracy: 0.98 - 22s 12ms/step - loss: 0.0323 - accuracy: 0.9893 - val_loss: 0.0733 - val_accuracy: 0.9842\n",
      "Epoch 14/20\n"
     ]
    },
    {
     "name": "stdout",
     "output_type": "stream",
     "text": [
      "1364/1770 [======================>.......] - ETA: 16s - loss: 7.8677e-06 - accuracy: 1.000 - ETA: 17s - loss: 2.6226e-06 - accuracy: 1.000 - ETA: 17s - loss: 1.7404e-06 - accuracy: 1.000 - ETA: 17s - loss: 8.2513e-04 - accuracy: 1.000 - ETA: 17s - loss: 6.4193e-04 - accuracy: 1.000 - ETA: 16s - loss: 0.0106 - accuracy: 1.0000    - ETA: 17s - loss: 0.0097 - accuracy: 1.000 - ETA: 17s - loss: 0.0083 - accuracy: 1.000 - ETA: 17s - loss: 0.0073 - accuracy: 1.000 - ETA: 16s - loss: 0.0065 - accuracy: 1.000 - ETA: 16s - loss: 0.0058 - accuracy: 1.000 - ETA: 16s - loss: 0.0055 - accuracy: 1.000 - ETA: 16s - loss: 0.0050 - accuracy: 1.000 - ETA: 16s - loss: 0.0047 - accuracy: 1.000 - ETA: 16s - loss: 0.0070 - accuracy: 1.000 - ETA: 16s - loss: 0.0069 - accuracy: 1.000 - ETA: 16s - loss: 0.0065 - accuracy: 1.000 - ETA: 15s - loss: 0.0066 - accuracy: 1.000 - ETA: 15s - loss: 0.0063 - accuracy: 1.000 - ETA: 15s - loss: 0.0060 - accuracy: 1.000 - ETA: 15s - loss: 0.0057 - accuracy: 1.000 - ETA: 15s - loss: 0.0059 - accuracy: 1.000 - ETA: 15s - loss: 0.0056 - accuracy: 1.000 - ETA: 15s - loss: 0.0055 - accuracy: 1.000 - ETA: 15s - loss: 0.0055 - accuracy: 1.000 - ETA: 15s - loss: 0.0054 - accuracy: 1.000 - ETA: 15s - loss: 0.0053 - accuracy: 1.000 - ETA: 15s - loss: 0.0052 - accuracy: 1.000 - ETA: 15s - loss: 0.0056 - accuracy: 1.000 - ETA: 15s - loss: 0.0055 - accuracy: 1.000 - ETA: 15s - loss: 0.0053 - accuracy: 1.000 - ETA: 15s - loss: 0.0061 - accuracy: 1.000 - ETA: 15s - loss: 0.0059 - accuracy: 1.000 - ETA: 15s - loss: 0.0057 - accuracy: 1.000 - ETA: 15s - loss: 0.0058 - accuracy: 1.000 - ETA: 15s - loss: 0.0056 - accuracy: 1.000 - ETA: 15s - loss: 0.0055 - accuracy: 1.000 - ETA: 15s - loss: 0.0055 - accuracy: 1.000 - ETA: 15s - loss: 0.0060 - accuracy: 1.000 - ETA: 15s - loss: 0.0058 - accuracy: 1.000 - ETA: 15s - loss: 0.0056 - accuracy: 1.000 - ETA: 15s - loss: 0.0055 - accuracy: 1.000 - ETA: 14s - loss: 0.0054 - accuracy: 1.000 - ETA: 14s - loss: 0.0052 - accuracy: 1.000 - ETA: 14s - loss: 0.0053 - accuracy: 1.000 - ETA: 14s - loss: 0.0052 - accuracy: 1.000 - ETA: 14s - loss: 0.0488 - accuracy: 0.997 - ETA: 14s - loss: 0.0477 - accuracy: 0.997 - ETA: 14s - loss: 0.0467 - accuracy: 0.997 - ETA: 14s - loss: 0.0457 - accuracy: 0.997 - ETA: 14s - loss: 0.0447 - accuracy: 0.997 - ETA: 14s - loss: 0.0438 - accuracy: 0.997 - ETA: 13s - loss: 0.0429 - accuracy: 0.997 - ETA: 13s - loss: 0.0423 - accuracy: 0.997 - ETA: 13s - loss: 0.0458 - accuracy: 0.995 - ETA: 13s - loss: 0.0449 - accuracy: 0.995 - ETA: 13s - loss: 0.0441 - accuracy: 0.995 - ETA: 13s - loss: 0.0437 - accuracy: 0.995 - ETA: 13s - loss: 0.0429 - accuracy: 0.995 - ETA: 13s - loss: 0.0421 - accuracy: 0.995 - ETA: 13s - loss: 0.0428 - accuracy: 0.995 - ETA: 13s - loss: 0.0422 - accuracy: 0.995 - ETA: 13s - loss: 0.0414 - accuracy: 0.995 - ETA: 12s - loss: 0.0408 - accuracy: 0.995 - ETA: 12s - loss: 0.0401 - accuracy: 0.995 - ETA: 12s - loss: 0.0401 - accuracy: 0.996 - ETA: 12s - loss: 0.0394 - accuracy: 0.996 - ETA: 12s - loss: 0.0524 - accuracy: 0.994 - ETA: 12s - loss: 0.0517 - accuracy: 0.994 - ETA: 12s - loss: 0.0509 - accuracy: 0.994 - ETA: 12s - loss: 0.0501 - accuracy: 0.994 - ETA: 12s - loss: 0.0494 - accuracy: 0.994 - ETA: 12s - loss: 0.0487 - accuracy: 0.994 - ETA: 12s - loss: 0.0480 - accuracy: 0.994 - ETA: 11s - loss: 0.0473 - accuracy: 0.994 - ETA: 11s - loss: 0.0468 - accuracy: 0.994 - ETA: 11s - loss: 0.0462 - accuracy: 0.994 - ETA: 11s - loss: 0.0456 - accuracy: 0.994 - ETA: 11s - loss: 0.0451 - accuracy: 0.995 - ETA: 11s - loss: 0.0445 - accuracy: 0.995 - ETA: 11s - loss: 0.0445 - accuracy: 0.995 - ETA: 11s - loss: 0.0439 - accuracy: 0.995 - ETA: 11s - loss: 0.0433 - accuracy: 0.995 - ETA: 11s - loss: 0.0428 - accuracy: 0.995 - ETA: 11s - loss: 0.0423 - accuracy: 0.995 - ETA: 11s - loss: 0.0418 - accuracy: 0.995 - ETA: 10s - loss: 0.0413 - accuracy: 0.995 - ETA: 10s - loss: 0.0408 - accuracy: 0.995 - ETA: 10s - loss: 0.0403 - accuracy: 0.995 - ETA: 10s - loss: 0.0398 - accuracy: 0.995 - ETA: 10s - loss: 0.0394 - accuracy: 0.995 - ETA: 10s - loss: 0.0389 - accuracy: 0.995 - ETA: 10s - loss: 0.0385 - accuracy: 0.995 - ETA: 10s - loss: 0.0381 - accuracy: 0.995 - ETA: 10s - loss: 0.0376 - accuracy: 0.995 - ETA: 10s - loss: 0.0372 - accuracy: 0.995 - ETA: 10s - loss: 0.0368 - accuracy: 0.996 - ETA: 10s - loss: 0.0364 - accuracy: 0.996 - ETA: 9s - loss: 0.0361 - accuracy: 0.996 - ETA: 9s - loss: 0.0407 - accuracy: 0.99 - ETA: 9s - loss: 0.0402 - accuracy: 0.99 - ETA: 9s - loss: 0.0400 - accuracy: 0.99 - ETA: 9s - loss: 0.0398 - accuracy: 0.99 - ETA: 9s - loss: 0.0417 - accuracy: 0.99 - ETA: 9s - loss: 0.0413 - accuracy: 0.99 - ETA: 9s - loss: 0.0408 - accuracy: 0.99 - ETA: 9s - loss: 0.0404 - accuracy: 0.99 - ETA: 9s - loss: 0.0419 - accuracy: 0.99 - ETA: 9s - loss: 0.0415 - accuracy: 0.99 - ETA: 9s - loss: 0.0411 - accuracy: 0.99 - ETA: 9s - loss: 0.0411 - accuracy: 0.99 - ETA: 9s - loss: 0.0415 - accuracy: 0.99 - ETA: 9s - loss: 0.0414 - accuracy: 0.99 - ETA: 9s - loss: 0.0412 - accuracy: 0.99 - ETA: 9s - loss: 0.0410 - accuracy: 0.99 - ETA: 9s - loss: 0.0408 - accuracy: 0.99 - ETA: 9s - loss: 0.0406 - accuracy: 0.99 - ETA: 9s - loss: 0.0406 - accuracy: 0.99 - ETA: 9s - loss: 0.0405 - accuracy: 0.99 - ETA: 9s - loss: 0.0416 - accuracy: 0.99 - ETA: 9s - loss: 0.0414 - accuracy: 0.99 - ETA: 8s - loss: 0.0412 - accuracy: 0.99 - ETA: 8s - loss: 0.0410 - accuracy: 0.99 - ETA: 8s - loss: 0.0413 - accuracy: 0.99 - ETA: 8s - loss: 0.0413 - accuracy: 0.99 - ETA: 8s - loss: 0.0413 - accuracy: 0.99 - ETA: 8s - loss: 0.0409 - accuracy: 0.99 - ETA: 8s - loss: 0.0406 - accuracy: 0.99 - ETA: 8s - loss: 0.0408 - accuracy: 0.99 - ETA: 8s - loss: 0.0405 - accuracy: 0.99 - ETA: 8s - loss: 0.0402 - accuracy: 0.99 - ETA: 8s - loss: 0.0399 - accuracy: 0.99 - ETA: 8s - loss: 0.0397 - accuracy: 0.99 - ETA: 8s - loss: 0.0414 - accuracy: 0.99 - ETA: 8s - loss: 0.0459 - accuracy: 0.99 - ETA: 8s - loss: 0.0456 - accuracy: 0.99 - ETA: 7s - loss: 0.0452 - accuracy: 0.99 - ETA: 7s - loss: 0.0449 - accuracy: 0.99 - ETA: 7s - loss: 0.0445 - accuracy: 0.99 - ETA: 7s - loss: 0.0442 - accuracy: 0.99 - ETA: 7s - loss: 0.0438 - accuracy: 0.99 - ETA: 7s - loss: 0.0435 - accuracy: 0.99 - ETA: 7s - loss: 0.0432 - accuracy: 0.99 - ETA: 7s - loss: 0.0429 - accuracy: 0.99 - ETA: 7s - loss: 0.0426 - accuracy: 0.99 - ETA: 7s - loss: 0.0423 - accuracy: 0.99 - ETA: 7s - loss: 0.0426 - accuracy: 0.99 - ETA: 7s - loss: 0.0538 - accuracy: 0.99 - ETA: 6s - loss: 0.0536 - accuracy: 0.99 - ETA: 6s - loss: 0.0596 - accuracy: 0.99 - ETA: 6s - loss: 0.0592 - accuracy: 0.99 - ETA: 6s - loss: 0.0598 - accuracy: 0.98 - ETA: 6s - loss: 0.0605 - accuracy: 0.98 - ETA: 6s - loss: 0.0615 - accuracy: 0.98 - ETA: 6s - loss: 0.0614 - accuracy: 0.98 - ETA: 6s - loss: 0.0615 - accuracy: 0.98 - ETA: 6s - loss: 0.0615 - accuracy: 0.98 - ETA: 6s - loss: 0.0615 - accuracy: 0.98 - ETA: 6s - loss: 0.0613 - accuracy: 0.98 - ETA: 6s - loss: 0.0613 - accuracy: 0.98 - ETA: 6s - loss: 0.0618 - accuracy: 0.98 - ETA: 5s - loss: 0.0624 - accuracy: 0.98 - ETA: 5s - loss: 0.0621 - accuracy: 0.98 - ETA: 5s - loss: 0.0619 - accuracy: 0.98 - ETA: 5s - loss: 0.0617 - accuracy: 0.98 - ETA: 5s - loss: 0.0622 - accuracy: 0.98 - ETA: 5s - loss: 0.0620 - accuracy: 0.98 - ETA: 5s - loss: 0.0619 - accuracy: 0.98 - ETA: 5s - loss: 0.0615 - accuracy: 0.98 - ETA: 5s - loss: 0.0613 - accuracy: 0.98 - ETA: 5s - loss: 0.0609 - accuracy: 0.98 - ETA: 5s - loss: 0.0608 - accuracy: 0.98 - ETA: 5s - loss: 0.0604 - accuracy: 0.98 - ETA: 5s - loss: 0.0604 - accuracy: 0.98 - ETA: 5s - loss: 0.0600 - accuracy: 0.98 - ETA: 5s - loss: 0.0598 - accuracy: 0.98 - ETA: 5s - loss: 0.0596 - accuracy: 0.98 - ETA: 5s - loss: 0.0593 - accuracy: 0.98 - ETA: 5s - loss: 0.0591 - accuracy: 0.98 - ETA: 4s - loss: 0.0589 - accuracy: 0.98 - ETA: 4s - loss: 0.0587 - accuracy: 0.98 - ETA: 4s - loss: 0.0586 - accuracy: 0.98 - ETA: 4s - loss: 0.0584 - accuracy: 0.98 - ETA: 4s - loss: 0.0580 - accuracy: 0.98 - ETA: 4s - loss: 0.0608 - accuracy: 0.98 - ETA: 4s - loss: 0.0605 - accuracy: 0.98 - ETA: 4s - loss: 0.0601 - accuracy: 0.98 - ETA: 4s - loss: 0.0600 - accuracy: 0.98 - ETA: 4s - loss: 0.0597 - accuracy: 0.9875"
     ]
    },
    {
     "name": "stdout",
     "output_type": "stream",
     "text": [
      "1770/1770 [==============================] - ETA: 4s - loss: 0.0606 - accuracy: 0.98 - ETA: 4s - loss: 0.0651 - accuracy: 0.98 - ETA: 3s - loss: 0.0652 - accuracy: 0.98 - ETA: 3s - loss: 0.0648 - accuracy: 0.98 - ETA: 3s - loss: 0.0644 - accuracy: 0.98 - ETA: 3s - loss: 0.0641 - accuracy: 0.98 - ETA: 3s - loss: 0.0641 - accuracy: 0.98 - ETA: 3s - loss: 0.0638 - accuracy: 0.98 - ETA: 3s - loss: 0.0636 - accuracy: 0.98 - ETA: 3s - loss: 0.0664 - accuracy: 0.98 - ETA: 3s - loss: 0.0707 - accuracy: 0.98 - ETA: 3s - loss: 0.0704 - accuracy: 0.98 - ETA: 3s - loss: 0.0700 - accuracy: 0.98 - ETA: 3s - loss: 0.0696 - accuracy: 0.98 - ETA: 3s - loss: 0.0693 - accuracy: 0.98 - ETA: 3s - loss: 0.0704 - accuracy: 0.98 - ETA: 2s - loss: 0.0701 - accuracy: 0.98 - ETA: 2s - loss: 0.0702 - accuracy: 0.98 - ETA: 2s - loss: 0.0704 - accuracy: 0.98 - ETA: 2s - loss: 0.0719 - accuracy: 0.98 - ETA: 2s - loss: 0.0721 - accuracy: 0.98 - ETA: 2s - loss: 0.0725 - accuracy: 0.98 - ETA: 2s - loss: 0.0739 - accuracy: 0.98 - ETA: 2s - loss: 0.0741 - accuracy: 0.98 - ETA: 2s - loss: 0.0738 - accuracy: 0.98 - ETA: 2s - loss: 0.0734 - accuracy: 0.98 - ETA: 2s - loss: 0.0730 - accuracy: 0.98 - ETA: 2s - loss: 0.0737 - accuracy: 0.98 - ETA: 1s - loss: 0.0762 - accuracy: 0.98 - ETA: 1s - loss: 0.0759 - accuracy: 0.98 - ETA: 1s - loss: 0.0755 - accuracy: 0.98 - ETA: 1s - loss: 0.0755 - accuracy: 0.98 - ETA: 1s - loss: 0.0753 - accuracy: 0.98 - ETA: 1s - loss: 0.0752 - accuracy: 0.98 - ETA: 1s - loss: 0.0752 - accuracy: 0.98 - ETA: 1s - loss: 0.0752 - accuracy: 0.98 - ETA: 1s - loss: 0.0749 - accuracy: 0.98 - ETA: 1s - loss: 0.0746 - accuracy: 0.98 - ETA: 1s - loss: 0.0747 - accuracy: 0.98 - ETA: 1s - loss: 0.0746 - accuracy: 0.98 - ETA: 0s - loss: 0.0743 - accuracy: 0.98 - ETA: 0s - loss: 0.0741 - accuracy: 0.98 - ETA: 0s - loss: 0.0738 - accuracy: 0.98 - ETA: 0s - loss: 0.0736 - accuracy: 0.98 - ETA: 0s - loss: 0.0733 - accuracy: 0.98 - ETA: 0s - loss: 0.0730 - accuracy: 0.98 - ETA: 0s - loss: 0.0728 - accuracy: 0.98 - ETA: 0s - loss: 0.0725 - accuracy: 0.98 - ETA: 0s - loss: 0.0722 - accuracy: 0.98 - ETA: 0s - loss: 0.0719 - accuracy: 0.98 - ETA: 0s - loss: 0.0718 - accuracy: 0.98 - ETA: 0s - loss: 0.0715 - accuracy: 0.98 - ETA: 0s - loss: 0.0714 - accuracy: 0.98 - ETA: 0s - loss: 0.0711 - accuracy: 0.98 - 19s 11ms/step - loss: 0.0710 - accuracy: 0.9836 - val_loss: 0.0598 - val_accuracy: 0.9842\n",
      "Epoch 15/20\n"
     ]
    },
    {
     "name": "stdout",
     "output_type": "stream",
     "text": [
      "1344/1770 [=====================>........] - ETA: 16s - loss: 2.8311e-05 - accuracy: 1.000 - ETA: 16s - loss: 1.6052e-04 - accuracy: 1.000 - ETA: 16s - loss: 8.7363e-04 - accuracy: 1.000 - ETA: 16s - loss: 0.0045 - accuracy: 1.0000    - ETA: 16s - loss: 0.0037 - accuracy: 1.000 - ETA: 17s - loss: 0.0031 - accuracy: 1.000 - ETA: 17s - loss: 0.0026 - accuracy: 1.000 - ETA: 17s - loss: 0.0022 - accuracy: 1.000 - ETA: 17s - loss: 0.0058 - accuracy: 1.000 - ETA: 17s - loss: 0.0111 - accuracy: 1.000 - ETA: 16s - loss: 0.0206 - accuracy: 0.988 - ETA: 16s - loss: 0.0188 - accuracy: 0.989 - ETA: 16s - loss: 0.0191 - accuracy: 0.989 - ETA: 16s - loss: 0.0182 - accuracy: 0.990 - ETA: 16s - loss: 0.0178 - accuracy: 0.991 - ETA: 16s - loss: 0.0166 - accuracy: 0.991 - ETA: 16s - loss: 0.0156 - accuracy: 0.992 - ETA: 16s - loss: 0.0147 - accuracy: 0.992 - ETA: 16s - loss: 0.0141 - accuracy: 0.993 - ETA: 16s - loss: 0.0138 - accuracy: 0.993 - ETA: 16s - loss: 0.0132 - accuracy: 0.993 - ETA: 16s - loss: 0.0126 - accuracy: 0.994 - ETA: 16s - loss: 0.0121 - accuracy: 0.994 - ETA: 16s - loss: 0.0115 - accuracy: 0.994 - ETA: 16s - loss: 0.0113 - accuracy: 0.994 - ETA: 16s - loss: 0.0111 - accuracy: 0.994 - ETA: 16s - loss: 0.0123 - accuracy: 0.995 - ETA: 16s - loss: 0.0130 - accuracy: 0.995 - ETA: 16s - loss: 0.0125 - accuracy: 0.995 - ETA: 15s - loss: 0.0122 - accuracy: 0.995 - ETA: 16s - loss: 0.0122 - accuracy: 0.995 - ETA: 15s - loss: 0.0118 - accuracy: 0.995 - ETA: 15s - loss: 0.0114 - accuracy: 0.995 - ETA: 15s - loss: 0.0112 - accuracy: 0.996 - ETA: 15s - loss: 0.0109 - accuracy: 0.996 - ETA: 15s - loss: 0.0105 - accuracy: 0.996 - ETA: 15s - loss: 0.0103 - accuracy: 0.996 - ETA: 15s - loss: 0.0100 - accuracy: 0.996 - ETA: 15s - loss: 0.0105 - accuracy: 0.996 - ETA: 15s - loss: 0.0110 - accuracy: 0.996 - ETA: 15s - loss: 0.0107 - accuracy: 0.996 - ETA: 15s - loss: 0.0105 - accuracy: 0.996 - ETA: 15s - loss: 0.0301 - accuracy: 0.993 - ETA: 15s - loss: 0.0298 - accuracy: 0.993 - ETA: 15s - loss: 0.0294 - accuracy: 0.993 - ETA: 15s - loss: 0.0290 - accuracy: 0.993 - ETA: 15s - loss: 0.0287 - accuracy: 0.994 - ETA: 15s - loss: 0.0297 - accuracy: 0.994 - ETA: 15s - loss: 0.0290 - accuracy: 0.994 - ETA: 15s - loss: 0.0318 - accuracy: 0.991 - ETA: 15s - loss: 0.0311 - accuracy: 0.991 - ETA: 14s - loss: 0.0304 - accuracy: 0.991 - ETA: 14s - loss: 0.0301 - accuracy: 0.991 - ETA: 14s - loss: 0.0295 - accuracy: 0.992 - ETA: 14s - loss: 0.0291 - accuracy: 0.992 - ETA: 14s - loss: 0.0288 - accuracy: 0.992 - ETA: 14s - loss: 0.0290 - accuracy: 0.992 - ETA: 14s - loss: 0.0285 - accuracy: 0.992 - ETA: 14s - loss: 0.0289 - accuracy: 0.992 - ETA: 14s - loss: 0.0284 - accuracy: 0.992 - ETA: 14s - loss: 0.0295 - accuracy: 0.990 - ETA: 14s - loss: 0.0295 - accuracy: 0.990 - ETA: 14s - loss: 0.0297 - accuracy: 0.991 - ETA: 14s - loss: 0.0297 - accuracy: 0.991 - ETA: 13s - loss: 0.0292 - accuracy: 0.991 - ETA: 13s - loss: 0.0287 - accuracy: 0.991 - ETA: 13s - loss: 0.0289 - accuracy: 0.991 - ETA: 13s - loss: 0.0284 - accuracy: 0.991 - ETA: 13s - loss: 0.0279 - accuracy: 0.991 - ETA: 13s - loss: 0.0277 - accuracy: 0.992 - ETA: 13s - loss: 0.0275 - accuracy: 0.992 - ETA: 13s - loss: 0.0273 - accuracy: 0.992 - ETA: 13s - loss: 0.0271 - accuracy: 0.992 - ETA: 13s - loss: 0.0269 - accuracy: 0.992 - ETA: 13s - loss: 0.0267 - accuracy: 0.992 - ETA: 13s - loss: 0.0265 - accuracy: 0.992 - ETA: 13s - loss: 0.0263 - accuracy: 0.992 - ETA: 13s - loss: 0.0259 - accuracy: 0.992 - ETA: 13s - loss: 0.0258 - accuracy: 0.992 - ETA: 13s - loss: 0.0256 - accuracy: 0.992 - ETA: 13s - loss: 0.0254 - accuracy: 0.992 - ETA: 13s - loss: 0.0252 - accuracy: 0.992 - ETA: 13s - loss: 0.0251 - accuracy: 0.992 - ETA: 13s - loss: 0.0249 - accuracy: 0.992 - ETA: 13s - loss: 0.0247 - accuracy: 0.992 - ETA: 13s - loss: 0.0246 - accuracy: 0.993 - ETA: 13s - loss: 0.0244 - accuracy: 0.993 - ETA: 13s - loss: 0.0242 - accuracy: 0.993 - ETA: 13s - loss: 0.0241 - accuracy: 0.993 - ETA: 13s - loss: 0.0246 - accuracy: 0.993 - ETA: 13s - loss: 0.0243 - accuracy: 0.993 - ETA: 13s - loss: 0.0240 - accuracy: 0.993 - ETA: 13s - loss: 0.0342 - accuracy: 0.991 - ETA: 12s - loss: 0.0337 - accuracy: 0.991 - ETA: 12s - loss: 0.0333 - accuracy: 0.992 - ETA: 12s - loss: 0.0329 - accuracy: 0.992 - ETA: 12s - loss: 0.0325 - accuracy: 0.992 - ETA: 12s - loss: 0.0321 - accuracy: 0.992 - ETA: 12s - loss: 0.0321 - accuracy: 0.992 - ETA: 12s - loss: 0.0317 - accuracy: 0.992 - ETA: 12s - loss: 0.0317 - accuracy: 0.992 - ETA: 12s - loss: 0.0317 - accuracy: 0.992 - ETA: 12s - loss: 0.0313 - accuracy: 0.992 - ETA: 11s - loss: 0.0310 - accuracy: 0.992 - ETA: 11s - loss: 0.0306 - accuracy: 0.992 - ETA: 11s - loss: 0.0303 - accuracy: 0.993 - ETA: 11s - loss: 0.0313 - accuracy: 0.991 - ETA: 11s - loss: 0.0330 - accuracy: 0.990 - ETA: 11s - loss: 0.0327 - accuracy: 0.990 - ETA: 11s - loss: 0.0324 - accuracy: 0.990 - ETA: 11s - loss: 0.0320 - accuracy: 0.990 - ETA: 11s - loss: 0.0318 - accuracy: 0.990 - ETA: 11s - loss: 0.0320 - accuracy: 0.990 - ETA: 10s - loss: 0.0317 - accuracy: 0.991 - ETA: 10s - loss: 0.0314 - accuracy: 0.991 - ETA: 10s - loss: 0.0315 - accuracy: 0.991 - ETA: 10s - loss: 0.0313 - accuracy: 0.991 - ETA: 10s - loss: 0.0310 - accuracy: 0.991 - ETA: 10s - loss: 0.0307 - accuracy: 0.991 - ETA: 10s - loss: 0.0305 - accuracy: 0.991 - ETA: 10s - loss: 0.0303 - accuracy: 0.991 - ETA: 10s - loss: 0.0300 - accuracy: 0.991 - ETA: 10s - loss: 0.0297 - accuracy: 0.991 - ETA: 10s - loss: 0.0294 - accuracy: 0.991 - ETA: 9s - loss: 0.0293 - accuracy: 0.991 - ETA: 9s - loss: 0.0292 - accuracy: 0.99 - ETA: 9s - loss: 0.0294 - accuracy: 0.99 - ETA: 9s - loss: 0.0292 - accuracy: 0.99 - ETA: 9s - loss: 0.0310 - accuracy: 0.99 - ETA: 9s - loss: 0.0307 - accuracy: 0.99 - ETA: 9s - loss: 0.0304 - accuracy: 0.99 - ETA: 9s - loss: 0.0302 - accuracy: 0.99 - ETA: 9s - loss: 0.0299 - accuracy: 0.99 - ETA: 9s - loss: 0.0297 - accuracy: 0.99 - ETA: 9s - loss: 0.0294 - accuracy: 0.99 - ETA: 8s - loss: 0.0292 - accuracy: 0.99 - ETA: 8s - loss: 0.0289 - accuracy: 0.99 - ETA: 8s - loss: 0.0287 - accuracy: 0.99 - ETA: 8s - loss: 0.0286 - accuracy: 0.99 - ETA: 8s - loss: 0.0285 - accuracy: 0.99 - ETA: 8s - loss: 0.0289 - accuracy: 0.99 - ETA: 8s - loss: 0.0287 - accuracy: 0.99 - ETA: 8s - loss: 0.0288 - accuracy: 0.99 - ETA: 8s - loss: 0.0286 - accuracy: 0.99 - ETA: 8s - loss: 0.0285 - accuracy: 0.99 - ETA: 8s - loss: 0.0283 - accuracy: 0.99 - ETA: 8s - loss: 0.0281 - accuracy: 0.99 - ETA: 8s - loss: 0.0279 - accuracy: 0.99 - ETA: 7s - loss: 0.0277 - accuracy: 0.99 - ETA: 7s - loss: 0.0275 - accuracy: 0.99 - ETA: 7s - loss: 0.0273 - accuracy: 0.99 - ETA: 7s - loss: 0.0271 - accuracy: 0.99 - ETA: 7s - loss: 0.0269 - accuracy: 0.99 - ETA: 7s - loss: 0.0267 - accuracy: 0.99 - ETA: 7s - loss: 0.0265 - accuracy: 0.99 - ETA: 7s - loss: 0.0263 - accuracy: 0.99 - ETA: 7s - loss: 0.0310 - accuracy: 0.99 - ETA: 7s - loss: 0.0308 - accuracy: 0.99 - ETA: 7s - loss: 0.0323 - accuracy: 0.99 - ETA: 6s - loss: 0.0321 - accuracy: 0.99 - ETA: 6s - loss: 0.0320 - accuracy: 0.99 - ETA: 6s - loss: 0.0318 - accuracy: 0.99 - ETA: 6s - loss: 0.0317 - accuracy: 0.99 - ETA: 6s - loss: 0.0315 - accuracy: 0.99 - ETA: 6s - loss: 0.0313 - accuracy: 0.99 - ETA: 6s - loss: 0.0313 - accuracy: 0.99 - ETA: 6s - loss: 0.0311 - accuracy: 0.99 - ETA: 6s - loss: 0.0309 - accuracy: 0.99 - ETA: 6s - loss: 0.0307 - accuracy: 0.99 - ETA: 6s - loss: 0.0307 - accuracy: 0.99 - ETA: 5s - loss: 0.0306 - accuracy: 0.99 - ETA: 5s - loss: 0.0304 - accuracy: 0.99 - ETA: 5s - loss: 0.0302 - accuracy: 0.99 - ETA: 5s - loss: 0.0301 - accuracy: 0.99 - ETA: 5s - loss: 0.0299 - accuracy: 0.99 - ETA: 5s - loss: 0.0299 - accuracy: 0.99 - ETA: 5s - loss: 0.0298 - accuracy: 0.99 - ETA: 5s - loss: 0.0296 - accuracy: 0.99 - ETA: 5s - loss: 0.0294 - accuracy: 0.99 - ETA: 5s - loss: 0.0292 - accuracy: 0.99 - ETA: 5s - loss: 0.0291 - accuracy: 0.99 - ETA: 5s - loss: 0.0317 - accuracy: 0.99 - ETA: 4s - loss: 0.0315 - accuracy: 0.99 - ETA: 4s - loss: 0.0319 - accuracy: 0.99 - ETA: 4s - loss: 0.0317 - accuracy: 0.99 - ETA: 4s - loss: 0.0315 - accuracy: 0.99 - ETA: 4s - loss: 0.0330 - accuracy: 0.99 - ETA: 4s - loss: 0.0328 - accuracy: 0.9911"
     ]
    },
    {
     "name": "stdout",
     "output_type": "stream",
     "text": [
      "1770/1770 [==============================] - ETA: 4s - loss: 0.0327 - accuracy: 0.99 - ETA: 4s - loss: 0.0325 - accuracy: 0.99 - ETA: 4s - loss: 0.0323 - accuracy: 0.99 - ETA: 4s - loss: 0.0321 - accuracy: 0.99 - ETA: 4s - loss: 0.0319 - accuracy: 0.99 - ETA: 4s - loss: 0.0317 - accuracy: 0.99 - ETA: 3s - loss: 0.0318 - accuracy: 0.99 - ETA: 3s - loss: 0.0316 - accuracy: 0.99 - ETA: 3s - loss: 0.0314 - accuracy: 0.99 - ETA: 3s - loss: 0.0312 - accuracy: 0.99 - ETA: 3s - loss: 0.0311 - accuracy: 0.99 - ETA: 3s - loss: 0.0309 - accuracy: 0.99 - ETA: 3s - loss: 0.0307 - accuracy: 0.99 - ETA: 3s - loss: 0.0306 - accuracy: 0.99 - ETA: 3s - loss: 0.0304 - accuracy: 0.99 - ETA: 3s - loss: 0.0303 - accuracy: 0.99 - ETA: 3s - loss: 0.0301 - accuracy: 0.99 - ETA: 3s - loss: 0.0323 - accuracy: 0.99 - ETA: 2s - loss: 0.0321 - accuracy: 0.99 - ETA: 2s - loss: 0.0320 - accuracy: 0.99 - ETA: 2s - loss: 0.0319 - accuracy: 0.99 - ETA: 2s - loss: 0.0318 - accuracy: 0.99 - ETA: 2s - loss: 0.0317 - accuracy: 0.99 - ETA: 2s - loss: 0.0317 - accuracy: 0.99 - ETA: 2s - loss: 0.0315 - accuracy: 0.99 - ETA: 2s - loss: 0.0314 - accuracy: 0.99 - ETA: 2s - loss: 0.0312 - accuracy: 0.99 - ETA: 2s - loss: 0.0311 - accuracy: 0.99 - ETA: 2s - loss: 0.0310 - accuracy: 0.99 - ETA: 2s - loss: 0.0309 - accuracy: 0.99 - ETA: 2s - loss: 0.0308 - accuracy: 0.99 - ETA: 2s - loss: 0.0308 - accuracy: 0.99 - ETA: 2s - loss: 0.0307 - accuracy: 0.99 - ETA: 2s - loss: 0.0306 - accuracy: 0.99 - ETA: 2s - loss: 0.0305 - accuracy: 0.99 - ETA: 2s - loss: 0.0305 - accuracy: 0.99 - ETA: 2s - loss: 0.0304 - accuracy: 0.99 - ETA: 2s - loss: 0.0304 - accuracy: 0.99 - ETA: 1s - loss: 0.0303 - accuracy: 0.99 - ETA: 1s - loss: 0.0302 - accuracy: 0.99 - ETA: 1s - loss: 0.0301 - accuracy: 0.99 - ETA: 1s - loss: 0.0300 - accuracy: 0.99 - ETA: 1s - loss: 0.0299 - accuracy: 0.99 - ETA: 1s - loss: 0.0299 - accuracy: 0.99 - ETA: 1s - loss: 0.0298 - accuracy: 0.99 - ETA: 1s - loss: 0.0297 - accuracy: 0.99 - ETA: 1s - loss: 0.0296 - accuracy: 0.99 - ETA: 1s - loss: 0.0296 - accuracy: 0.99 - ETA: 1s - loss: 0.0295 - accuracy: 0.99 - ETA: 1s - loss: 0.0294 - accuracy: 0.99 - ETA: 1s - loss: 0.0293 - accuracy: 0.99 - ETA: 1s - loss: 0.0292 - accuracy: 0.99 - ETA: 1s - loss: 0.0290 - accuracy: 0.99 - ETA: 1s - loss: 0.0289 - accuracy: 0.99 - ETA: 1s - loss: 0.0288 - accuracy: 0.99 - ETA: 0s - loss: 0.0286 - accuracy: 0.99 - ETA: 0s - loss: 0.0285 - accuracy: 0.99 - ETA: 0s - loss: 0.0284 - accuracy: 0.99 - ETA: 0s - loss: 0.0283 - accuracy: 0.99 - ETA: 0s - loss: 0.0281 - accuracy: 0.99 - ETA: 0s - loss: 0.0280 - accuracy: 0.99 - ETA: 0s - loss: 0.0279 - accuracy: 0.99 - ETA: 0s - loss: 0.0278 - accuracy: 0.99 - ETA: 0s - loss: 0.0282 - accuracy: 0.99 - ETA: 0s - loss: 0.0281 - accuracy: 0.99 - ETA: 0s - loss: 0.0287 - accuracy: 0.99 - ETA: 0s - loss: 0.0286 - accuracy: 0.99 - ETA: 0s - loss: 0.0285 - accuracy: 0.99 - ETA: 0s - loss: 0.0285 - accuracy: 0.99 - 20s 11ms/step - loss: 0.0285 - accuracy: 0.9915 - val_loss: 0.0662 - val_accuracy: 0.9887\n",
      "Epoch 16/20\n"
     ]
    },
    {
     "name": "stdout",
     "output_type": "stream",
     "text": [
      "1408/1770 [======================>.......] - ETA: 18s - loss: 0.0477 - accuracy: 1.000 - ETA: 18s - loss: 0.0159 - accuracy: 1.000 - ETA: 20s - loss: 0.0130 - accuracy: 1.000 - ETA: 19s - loss: 0.0109 - accuracy: 1.000 - ETA: 18s - loss: 0.0084 - accuracy: 1.000 - ETA: 18s - loss: 0.0067 - accuracy: 1.000 - ETA: 18s - loss: 0.0056 - accuracy: 1.000 - ETA: 18s - loss: 0.0049 - accuracy: 1.000 - ETA: 17s - loss: 0.0069 - accuracy: 1.000 - ETA: 17s - loss: 0.0062 - accuracy: 1.000 - ETA: 17s - loss: 0.0056 - accuracy: 1.000 - ETA: 17s - loss: 0.0050 - accuracy: 1.000 - ETA: 17s - loss: 0.0046 - accuracy: 1.000 - ETA: 16s - loss: 0.0043 - accuracy: 1.000 - ETA: 16s - loss: 0.0040 - accuracy: 1.000 - ETA: 16s - loss: 0.0037 - accuracy: 1.000 - ETA: 16s - loss: 0.0114 - accuracy: 0.992 - ETA: 16s - loss: 0.0107 - accuracy: 0.992 - ETA: 16s - loss: 0.0102 - accuracy: 0.993 - ETA: 16s - loss: 0.0096 - accuracy: 0.993 - ETA: 16s - loss: 0.0092 - accuracy: 0.993 - ETA: 15s - loss: 0.0087 - accuracy: 0.994 - ETA: 15s - loss: 0.0086 - accuracy: 0.994 - ETA: 15s - loss: 0.0082 - accuracy: 0.994 - ETA: 15s - loss: 0.0079 - accuracy: 0.994 - ETA: 15s - loss: 0.0076 - accuracy: 0.995 - ETA: 15s - loss: 0.0073 - accuracy: 0.995 - ETA: 15s - loss: 0.0071 - accuracy: 0.995 - ETA: 15s - loss: 0.0068 - accuracy: 0.995 - ETA: 15s - loss: 0.0066 - accuracy: 0.995 - ETA: 15s - loss: 0.0064 - accuracy: 0.995 - ETA: 15s - loss: 0.0070 - accuracy: 0.996 - ETA: 14s - loss: 0.0105 - accuracy: 0.992 - ETA: 14s - loss: 0.0102 - accuracy: 0.992 - ETA: 14s - loss: 0.0099 - accuracy: 0.992 - ETA: 14s - loss: 0.0096 - accuracy: 0.992 - ETA: 14s - loss: 0.0111 - accuracy: 0.993 - ETA: 14s - loss: 0.0123 - accuracy: 0.993 - ETA: 14s - loss: 0.0120 - accuracy: 0.993 - ETA: 14s - loss: 0.0123 - accuracy: 0.993 - ETA: 14s - loss: 0.0120 - accuracy: 0.993 - ETA: 14s - loss: 0.0117 - accuracy: 0.993 - ETA: 14s - loss: 0.0130 - accuracy: 0.994 - ETA: 13s - loss: 0.0127 - accuracy: 0.994 - ETA: 13s - loss: 0.0124 - accuracy: 0.994 - ETA: 13s - loss: 0.0121 - accuracy: 0.994 - ETA: 13s - loss: 0.0119 - accuracy: 0.994 - ETA: 13s - loss: 0.0116 - accuracy: 0.994 - ETA: 13s - loss: 0.0114 - accuracy: 0.994 - ETA: 13s - loss: 0.0112 - accuracy: 0.994 - ETA: 13s - loss: 0.0110 - accuracy: 0.995 - ETA: 13s - loss: 0.0122 - accuracy: 0.995 - ETA: 13s - loss: 0.0120 - accuracy: 0.995 - ETA: 13s - loss: 0.0139 - accuracy: 0.992 - ETA: 13s - loss: 0.0137 - accuracy: 0.993 - ETA: 12s - loss: 0.0134 - accuracy: 0.993 - ETA: 12s - loss: 0.0132 - accuracy: 0.993 - ETA: 12s - loss: 0.0130 - accuracy: 0.993 - ETA: 12s - loss: 0.0128 - accuracy: 0.993 - ETA: 12s - loss: 0.0126 - accuracy: 0.993 - ETA: 12s - loss: 0.0140 - accuracy: 0.991 - ETA: 12s - loss: 0.0137 - accuracy: 0.991 - ETA: 12s - loss: 0.0135 - accuracy: 0.991 - ETA: 12s - loss: 0.0134 - accuracy: 0.992 - ETA: 12s - loss: 0.0132 - accuracy: 0.992 - ETA: 12s - loss: 0.0130 - accuracy: 0.992 - ETA: 12s - loss: 0.0131 - accuracy: 0.992 - ETA: 12s - loss: 0.0129 - accuracy: 0.992 - ETA: 11s - loss: 0.0127 - accuracy: 0.992 - ETA: 11s - loss: 0.0125 - accuracy: 0.992 - ETA: 11s - loss: 0.0123 - accuracy: 0.992 - ETA: 11s - loss: 0.0122 - accuracy: 0.992 - ETA: 11s - loss: 0.0120 - accuracy: 0.993 - ETA: 11s - loss: 0.0119 - accuracy: 0.993 - ETA: 11s - loss: 0.0117 - accuracy: 0.993 - ETA: 11s - loss: 0.0115 - accuracy: 0.993 - ETA: 11s - loss: 0.0114 - accuracy: 0.993 - ETA: 11s - loss: 0.0113 - accuracy: 0.993 - ETA: 11s - loss: 0.0111 - accuracy: 0.993 - ETA: 11s - loss: 0.0110 - accuracy: 0.993 - ETA: 11s - loss: 0.0112 - accuracy: 0.993 - ETA: 10s - loss: 0.0111 - accuracy: 0.993 - ETA: 10s - loss: 0.0109 - accuracy: 0.993 - ETA: 10s - loss: 0.0111 - accuracy: 0.993 - ETA: 10s - loss: 0.0110 - accuracy: 0.994 - ETA: 10s - loss: 0.0108 - accuracy: 0.994 - ETA: 10s - loss: 0.0107 - accuracy: 0.994 - ETA: 10s - loss: 0.0106 - accuracy: 0.994 - ETA: 10s - loss: 0.0105 - accuracy: 0.994 - ETA: 10s - loss: 0.0104 - accuracy: 0.994 - ETA: 10s - loss: 0.0102 - accuracy: 0.994 - ETA: 10s - loss: 0.0101 - accuracy: 0.994 - ETA: 10s - loss: 0.0100 - accuracy: 0.994 - ETA: 10s - loss: 0.0099 - accuracy: 0.994 - ETA: 9s - loss: 0.0098 - accuracy: 0.994 - ETA: 9s - loss: 0.0097 - accuracy: 0.99 - ETA: 9s - loss: 0.0096 - accuracy: 0.99 - ETA: 9s - loss: 0.0095 - accuracy: 0.99 - ETA: 9s - loss: 0.0094 - accuracy: 0.99 - ETA: 9s - loss: 0.0093 - accuracy: 0.99 - ETA: 9s - loss: 0.0092 - accuracy: 0.99 - ETA: 9s - loss: 0.0092 - accuracy: 0.99 - ETA: 9s - loss: 0.0091 - accuracy: 0.99 - ETA: 9s - loss: 0.0090 - accuracy: 0.99 - ETA: 9s - loss: 0.0089 - accuracy: 0.99 - ETA: 9s - loss: 0.0088 - accuracy: 0.99 - ETA: 8s - loss: 0.0087 - accuracy: 0.99 - ETA: 8s - loss: 0.0086 - accuracy: 0.99 - ETA: 8s - loss: 0.0086 - accuracy: 0.99 - ETA: 8s - loss: 0.0085 - accuracy: 0.99 - ETA: 8s - loss: 0.0084 - accuracy: 0.99 - ETA: 8s - loss: 0.0084 - accuracy: 0.99 - ETA: 8s - loss: 0.0084 - accuracy: 0.99 - ETA: 8s - loss: 0.0096 - accuracy: 0.99 - ETA: 8s - loss: 0.0096 - accuracy: 0.99 - ETA: 8s - loss: 0.0095 - accuracy: 0.99 - ETA: 8s - loss: 0.0107 - accuracy: 0.99 - ETA: 8s - loss: 0.0106 - accuracy: 0.99 - ETA: 8s - loss: 0.0106 - accuracy: 0.99 - ETA: 7s - loss: 0.0105 - accuracy: 0.99 - ETA: 7s - loss: 0.0104 - accuracy: 0.99 - ETA: 7s - loss: 0.0103 - accuracy: 0.99 - ETA: 7s - loss: 0.0102 - accuracy: 0.99 - ETA: 7s - loss: 0.0104 - accuracy: 0.99 - ETA: 7s - loss: 0.0103 - accuracy: 0.99 - ETA: 7s - loss: 0.0102 - accuracy: 0.99 - ETA: 7s - loss: 0.0101 - accuracy: 0.99 - ETA: 7s - loss: 0.0100 - accuracy: 0.99 - ETA: 7s - loss: 0.0100 - accuracy: 0.99 - ETA: 7s - loss: 0.0099 - accuracy: 0.99 - ETA: 7s - loss: 0.0099 - accuracy: 0.99 - ETA: 7s - loss: 0.0098 - accuracy: 0.99 - ETA: 6s - loss: 0.0097 - accuracy: 0.99 - ETA: 6s - loss: 0.0097 - accuracy: 0.99 - ETA: 6s - loss: 0.0109 - accuracy: 0.99 - ETA: 6s - loss: 0.0114 - accuracy: 0.99 - ETA: 6s - loss: 0.0113 - accuracy: 0.99 - ETA: 6s - loss: 0.0113 - accuracy: 0.99 - ETA: 6s - loss: 0.0112 - accuracy: 0.99 - ETA: 6s - loss: 0.0111 - accuracy: 0.99 - ETA: 6s - loss: 0.0111 - accuracy: 0.99 - ETA: 6s - loss: 0.0110 - accuracy: 0.99 - ETA: 6s - loss: 0.0109 - accuracy: 0.99 - ETA: 6s - loss: 0.0108 - accuracy: 0.99 - ETA: 6s - loss: 0.0108 - accuracy: 0.99 - ETA: 6s - loss: 0.0107 - accuracy: 0.99 - ETA: 6s - loss: 0.0106 - accuracy: 0.99 - ETA: 6s - loss: 0.0106 - accuracy: 0.99 - ETA: 5s - loss: 0.0105 - accuracy: 0.99 - ETA: 5s - loss: 0.0104 - accuracy: 0.99 - ETA: 5s - loss: 0.0104 - accuracy: 0.99 - ETA: 5s - loss: 0.0103 - accuracy: 0.99 - ETA: 5s - loss: 0.0103 - accuracy: 0.99 - ETA: 5s - loss: 0.0102 - accuracy: 0.99 - ETA: 5s - loss: 0.0102 - accuracy: 0.99 - ETA: 5s - loss: 0.0101 - accuracy: 0.99 - ETA: 5s - loss: 0.0101 - accuracy: 0.99 - ETA: 5s - loss: 0.0100 - accuracy: 0.99 - ETA: 5s - loss: 0.0100 - accuracy: 0.99 - ETA: 5s - loss: 0.0100 - accuracy: 0.99 - ETA: 5s - loss: 0.0099 - accuracy: 0.99 - ETA: 5s - loss: 0.0099 - accuracy: 0.99 - ETA: 5s - loss: 0.0106 - accuracy: 0.99 - ETA: 5s - loss: 0.0106 - accuracy: 0.99 - ETA: 5s - loss: 0.0106 - accuracy: 0.99 - ETA: 5s - loss: 0.0106 - accuracy: 0.99 - ETA: 5s - loss: 0.0105 - accuracy: 0.99 - ETA: 5s - loss: 0.0105 - accuracy: 0.99 - ETA: 5s - loss: 0.0104 - accuracy: 0.99 - ETA: 5s - loss: 0.0104 - accuracy: 0.99 - ETA: 4s - loss: 0.0104 - accuracy: 0.99 - ETA: 4s - loss: 0.0103 - accuracy: 0.99 - ETA: 4s - loss: 0.0103 - accuracy: 0.99 - ETA: 4s - loss: 0.0103 - accuracy: 0.99 - ETA: 4s - loss: 0.0102 - accuracy: 0.99 - ETA: 4s - loss: 0.0102 - accuracy: 0.99 - ETA: 4s - loss: 0.0105 - accuracy: 0.99 - ETA: 4s - loss: 0.0104 - accuracy: 0.99 - ETA: 4s - loss: 0.0104 - accuracy: 0.99 - ETA: 4s - loss: 0.0103 - accuracy: 0.99 - ETA: 4s - loss: 0.0103 - accuracy: 0.99 - ETA: 4s - loss: 0.0102 - accuracy: 0.99 - ETA: 4s - loss: 0.0102 - accuracy: 0.99 - ETA: 4s - loss: 0.0101 - accuracy: 0.99 - ETA: 4s - loss: 0.0100 - accuracy: 0.99 - ETA: 4s - loss: 0.0100 - accuracy: 0.99 - ETA: 4s - loss: 0.0099 - accuracy: 0.99 - ETA: 3s - loss: 0.0099 - accuracy: 0.99 - ETA: 3s - loss: 0.0098 - accuracy: 0.99 - ETA: 3s - loss: 0.0098 - accuracy: 0.9943"
     ]
    },
    {
     "name": "stdout",
     "output_type": "stream",
     "text": [
      "1770/1770 [==============================] - ETA: 3s - loss: 0.0097 - accuracy: 0.99 - ETA: 3s - loss: 0.0097 - accuracy: 0.99 - ETA: 3s - loss: 0.0096 - accuracy: 0.99 - ETA: 3s - loss: 0.0096 - accuracy: 0.99 - ETA: 3s - loss: 0.0095 - accuracy: 0.99 - ETA: 3s - loss: 0.0095 - accuracy: 0.99 - ETA: 3s - loss: 0.0094 - accuracy: 0.99 - ETA: 3s - loss: 0.0094 - accuracy: 0.99 - ETA: 3s - loss: 0.0093 - accuracy: 0.99 - ETA: 3s - loss: 0.0093 - accuracy: 0.99 - ETA: 2s - loss: 0.0093 - accuracy: 0.99 - ETA: 2s - loss: 0.0092 - accuracy: 0.99 - ETA: 2s - loss: 0.0092 - accuracy: 0.99 - ETA: 2s - loss: 0.0091 - accuracy: 0.99 - ETA: 2s - loss: 0.0091 - accuracy: 0.99 - ETA: 2s - loss: 0.0091 - accuracy: 0.99 - ETA: 2s - loss: 0.0093 - accuracy: 0.99 - ETA: 2s - loss: 0.0093 - accuracy: 0.99 - ETA: 2s - loss: 0.0095 - accuracy: 0.99 - ETA: 2s - loss: 0.0094 - accuracy: 0.99 - ETA: 2s - loss: 0.0097 - accuracy: 0.99 - ETA: 2s - loss: 0.0096 - accuracy: 0.99 - ETA: 2s - loss: 0.0097 - accuracy: 0.99 - ETA: 2s - loss: 0.0096 - accuracy: 0.99 - ETA: 1s - loss: 0.0096 - accuracy: 0.99 - ETA: 1s - loss: 0.0095 - accuracy: 0.99 - ETA: 1s - loss: 0.0095 - accuracy: 0.99 - ETA: 1s - loss: 0.0094 - accuracy: 0.99 - ETA: 1s - loss: 0.0094 - accuracy: 0.99 - ETA: 1s - loss: 0.0098 - accuracy: 0.99 - ETA: 1s - loss: 0.0098 - accuracy: 0.99 - ETA: 1s - loss: 0.0098 - accuracy: 0.99 - ETA: 1s - loss: 0.0097 - accuracy: 0.99 - ETA: 1s - loss: 0.0097 - accuracy: 0.99 - ETA: 1s - loss: 0.0097 - accuracy: 0.99 - ETA: 1s - loss: 0.0097 - accuracy: 0.99 - ETA: 1s - loss: 0.0097 - accuracy: 0.99 - ETA: 1s - loss: 0.0096 - accuracy: 0.99 - ETA: 1s - loss: 0.0096 - accuracy: 0.99 - ETA: 1s - loss: 0.0096 - accuracy: 0.99 - ETA: 1s - loss: 0.0095 - accuracy: 0.99 - ETA: 0s - loss: 0.0095 - accuracy: 0.99 - ETA: 0s - loss: 0.0095 - accuracy: 0.99 - ETA: 0s - loss: 0.0097 - accuracy: 0.99 - ETA: 0s - loss: 0.0097 - accuracy: 0.99 - ETA: 0s - loss: 0.0097 - accuracy: 0.99 - ETA: 0s - loss: 0.0096 - accuracy: 0.99 - ETA: 0s - loss: 0.0096 - accuracy: 0.99 - ETA: 0s - loss: 0.0096 - accuracy: 0.99 - ETA: 0s - loss: 0.0096 - accuracy: 0.99 - ETA: 0s - loss: 0.0096 - accuracy: 0.99 - ETA: 0s - loss: 0.0097 - accuracy: 0.99 - ETA: 0s - loss: 0.0097 - accuracy: 0.99 - ETA: 0s - loss: 0.0097 - accuracy: 0.99 - ETA: 0s - loss: 0.0096 - accuracy: 0.99 - ETA: 0s - loss: 0.0096 - accuracy: 0.99 - ETA: 0s - loss: 0.0096 - accuracy: 0.99 - ETA: 0s - loss: 0.0096 - accuracy: 0.99 - ETA: 0s - loss: 0.0095 - accuracy: 0.99 - ETA: 0s - loss: 0.0095 - accuracy: 0.99 - ETA: 0s - loss: 0.0095 - accuracy: 0.99 - ETA: 0s - loss: 0.0095 - accuracy: 0.99 - ETA: 0s - loss: 0.0094 - accuracy: 0.99 - 20s 11ms/step - loss: 0.0094 - accuracy: 0.9949 - val_loss: 0.1057 - val_accuracy: 0.9865\n",
      "Epoch 17/20\n"
     ]
    },
    {
     "name": "stdout",
     "output_type": "stream",
     "text": [
      "1300/1770 [=====================>........] - ETA: 16s - loss: 0.0000e+00 - accuracy: 1.000 - ETA: 17s - loss: 1.4592e-05 - accuracy: 1.000 - ETA: 17s - loss: 1.1171e-04 - accuracy: 1.000 - ETA: 17s - loss: 0.0038 - accuracy: 1.0000    - ETA: 17s - loss: 0.0299 - accuracy: 1.000 - ETA: 18s - loss: 0.0269 - accuracy: 1.000 - ETA: 18s - loss: 0.0245 - accuracy: 1.000 - ETA: 18s - loss: 0.0224 - accuracy: 1.000 - ETA: 18s - loss: 0.0193 - accuracy: 1.000 - ETA: 18s - loss: 0.0196 - accuracy: 1.000 - ETA: 17s - loss: 0.0174 - accuracy: 1.000 - ETA: 17s - loss: 0.0157 - accuracy: 1.000 - ETA: 17s - loss: 0.0142 - accuracy: 1.000 - ETA: 17s - loss: 0.0131 - accuracy: 1.000 - ETA: 17s - loss: 0.0120 - accuracy: 1.000 - ETA: 17s - loss: 0.0112 - accuracy: 1.000 - ETA: 17s - loss: 0.0104 - accuracy: 1.000 - ETA: 16s - loss: 0.0121 - accuracy: 1.000 - ETA: 16s - loss: 0.0114 - accuracy: 1.000 - ETA: 16s - loss: 0.0108 - accuracy: 1.000 - ETA: 16s - loss: 0.0102 - accuracy: 1.000 - ETA: 16s - loss: 0.0097 - accuracy: 1.000 - ETA: 16s - loss: 0.0092 - accuracy: 1.000 - ETA: 16s - loss: 0.0088 - accuracy: 1.000 - ETA: 16s - loss: 0.0084 - accuracy: 1.000 - ETA: 15s - loss: 0.0081 - accuracy: 1.000 - ETA: 15s - loss: 0.0077 - accuracy: 1.000 - ETA: 15s - loss: 0.0074 - accuracy: 1.000 - ETA: 15s - loss: 0.0073 - accuracy: 1.000 - ETA: 15s - loss: 0.0110 - accuracy: 0.995 - ETA: 15s - loss: 0.0106 - accuracy: 0.995 - ETA: 15s - loss: 0.0102 - accuracy: 0.995 - ETA: 15s - loss: 0.0101 - accuracy: 0.995 - ETA: 15s - loss: 0.0099 - accuracy: 0.996 - ETA: 15s - loss: 0.0096 - accuracy: 0.996 - ETA: 15s - loss: 0.0093 - accuracy: 0.996 - ETA: 15s - loss: 0.0090 - accuracy: 0.996 - ETA: 15s - loss: 0.0225 - accuracy: 0.992 - ETA: 14s - loss: 0.0218 - accuracy: 0.993 - ETA: 14s - loss: 0.0212 - accuracy: 0.993 - ETA: 14s - loss: 0.0216 - accuracy: 0.993 - ETA: 14s - loss: 0.0213 - accuracy: 0.993 - ETA: 15s - loss: 0.0210 - accuracy: 0.993 - ETA: 15s - loss: 0.0208 - accuracy: 0.993 - ETA: 15s - loss: 0.0206 - accuracy: 0.993 - ETA: 15s - loss: 0.0201 - accuracy: 0.993 - ETA: 15s - loss: 0.0196 - accuracy: 0.994 - ETA: 15s - loss: 0.0194 - accuracy: 0.994 - ETA: 15s - loss: 0.0189 - accuracy: 0.994 - ETA: 15s - loss: 0.0185 - accuracy: 0.994 - ETA: 14s - loss: 0.0182 - accuracy: 0.994 - ETA: 14s - loss: 0.0178 - accuracy: 0.994 - ETA: 14s - loss: 0.0175 - accuracy: 0.994 - ETA: 14s - loss: 0.0171 - accuracy: 0.994 - ETA: 14s - loss: 0.0168 - accuracy: 0.994 - ETA: 14s - loss: 0.0165 - accuracy: 0.995 - ETA: 14s - loss: 0.0163 - accuracy: 0.995 - ETA: 14s - loss: 0.0160 - accuracy: 0.995 - ETA: 14s - loss: 0.0157 - accuracy: 0.995 - ETA: 14s - loss: 0.0154 - accuracy: 0.995 - ETA: 14s - loss: 0.0152 - accuracy: 0.995 - ETA: 14s - loss: 0.0149 - accuracy: 0.995 - ETA: 13s - loss: 0.0146 - accuracy: 0.995 - ETA: 13s - loss: 0.0144 - accuracy: 0.995 - ETA: 13s - loss: 0.0141 - accuracy: 0.995 - ETA: 13s - loss: 0.0139 - accuracy: 0.995 - ETA: 13s - loss: 0.0206 - accuracy: 0.993 - ETA: 13s - loss: 0.0204 - accuracy: 0.993 - ETA: 13s - loss: 0.0202 - accuracy: 0.994 - ETA: 13s - loss: 0.0202 - accuracy: 0.994 - ETA: 13s - loss: 0.0199 - accuracy: 0.994 - ETA: 13s - loss: 0.0195 - accuracy: 0.994 - ETA: 13s - loss: 0.0193 - accuracy: 0.994 - ETA: 13s - loss: 0.0190 - accuracy: 0.994 - ETA: 12s - loss: 0.0187 - accuracy: 0.994 - ETA: 12s - loss: 0.0184 - accuracy: 0.994 - ETA: 12s - loss: 0.0193 - accuracy: 0.994 - ETA: 12s - loss: 0.0190 - accuracy: 0.994 - ETA: 12s - loss: 0.0189 - accuracy: 0.994 - ETA: 12s - loss: 0.0188 - accuracy: 0.994 - ETA: 12s - loss: 0.0186 - accuracy: 0.994 - ETA: 12s - loss: 0.0185 - accuracy: 0.994 - ETA: 12s - loss: 0.0184 - accuracy: 0.994 - ETA: 12s - loss: 0.0185 - accuracy: 0.994 - ETA: 12s - loss: 0.0184 - accuracy: 0.995 - ETA: 12s - loss: 0.0183 - accuracy: 0.995 - ETA: 12s - loss: 0.0181 - accuracy: 0.995 - ETA: 12s - loss: 0.0180 - accuracy: 0.995 - ETA: 12s - loss: 0.0179 - accuracy: 0.995 - ETA: 12s - loss: 0.0176 - accuracy: 0.995 - ETA: 12s - loss: 0.0175 - accuracy: 0.995 - ETA: 12s - loss: 0.0173 - accuracy: 0.995 - ETA: 12s - loss: 0.0172 - accuracy: 0.995 - ETA: 12s - loss: 0.0170 - accuracy: 0.995 - ETA: 12s - loss: 0.0169 - accuracy: 0.995 - ETA: 11s - loss: 0.0167 - accuracy: 0.995 - ETA: 11s - loss: 0.0165 - accuracy: 0.995 - ETA: 11s - loss: 0.0163 - accuracy: 0.995 - ETA: 11s - loss: 0.0161 - accuracy: 0.995 - ETA: 11s - loss: 0.0160 - accuracy: 0.995 - ETA: 11s - loss: 0.0160 - accuracy: 0.995 - ETA: 11s - loss: 0.0159 - accuracy: 0.995 - ETA: 11s - loss: 0.0157 - accuracy: 0.995 - ETA: 11s - loss: 0.0172 - accuracy: 0.994 - ETA: 11s - loss: 0.0170 - accuracy: 0.994 - ETA: 11s - loss: 0.0168 - accuracy: 0.994 - ETA: 11s - loss: 0.0166 - accuracy: 0.994 - ETA: 11s - loss: 0.0164 - accuracy: 0.994 - ETA: 11s - loss: 0.0163 - accuracy: 0.994 - ETA: 11s - loss: 0.0162 - accuracy: 0.994 - ETA: 11s - loss: 0.0161 - accuracy: 0.994 - ETA: 10s - loss: 0.0160 - accuracy: 0.994 - ETA: 11s - loss: 0.0159 - accuracy: 0.994 - ETA: 11s - loss: 0.0158 - accuracy: 0.994 - ETA: 10s - loss: 0.0158 - accuracy: 0.994 - ETA: 10s - loss: 0.0157 - accuracy: 0.994 - ETA: 10s - loss: 0.0155 - accuracy: 0.994 - ETA: 10s - loss: 0.0154 - accuracy: 0.995 - ETA: 10s - loss: 0.0153 - accuracy: 0.995 - ETA: 10s - loss: 0.0151 - accuracy: 0.995 - ETA: 10s - loss: 0.0150 - accuracy: 0.995 - ETA: 10s - loss: 0.0149 - accuracy: 0.995 - ETA: 10s - loss: 0.0148 - accuracy: 0.995 - ETA: 10s - loss: 0.0147 - accuracy: 0.995 - ETA: 10s - loss: 0.0145 - accuracy: 0.995 - ETA: 10s - loss: 0.0156 - accuracy: 0.994 - ETA: 9s - loss: 0.0154 - accuracy: 0.994 - ETA: 9s - loss: 0.0153 - accuracy: 0.99 - ETA: 9s - loss: 0.0151 - accuracy: 0.99 - ETA: 9s - loss: 0.0150 - accuracy: 0.99 - ETA: 9s - loss: 0.0149 - accuracy: 0.99 - ETA: 9s - loss: 0.0148 - accuracy: 0.99 - ETA: 9s - loss: 0.0147 - accuracy: 0.99 - ETA: 9s - loss: 0.0196 - accuracy: 0.99 - ETA: 9s - loss: 0.0195 - accuracy: 0.99 - ETA: 9s - loss: 0.0194 - accuracy: 0.99 - ETA: 9s - loss: 0.0195 - accuracy: 0.99 - ETA: 8s - loss: 0.0270 - accuracy: 0.99 - ETA: 8s - loss: 0.0269 - accuracy: 0.99 - ETA: 8s - loss: 0.0267 - accuracy: 0.99 - ETA: 8s - loss: 0.0267 - accuracy: 0.99 - ETA: 8s - loss: 0.0264 - accuracy: 0.99 - ETA: 8s - loss: 0.0263 - accuracy: 0.99 - ETA: 8s - loss: 0.0262 - accuracy: 0.99 - ETA: 8s - loss: 0.0261 - accuracy: 0.99 - ETA: 8s - loss: 0.0260 - accuracy: 0.99 - ETA: 8s - loss: 0.0259 - accuracy: 0.99 - ETA: 8s - loss: 0.0258 - accuracy: 0.99 - ETA: 8s - loss: 0.0298 - accuracy: 0.99 - ETA: 8s - loss: 0.0296 - accuracy: 0.99 - ETA: 8s - loss: 0.0294 - accuracy: 0.99 - ETA: 8s - loss: 0.0292 - accuracy: 0.99 - ETA: 8s - loss: 0.0290 - accuracy: 0.99 - ETA: 7s - loss: 0.0287 - accuracy: 0.99 - ETA: 7s - loss: 0.0285 - accuracy: 0.99 - ETA: 7s - loss: 0.0283 - accuracy: 0.99 - ETA: 7s - loss: 0.0281 - accuracy: 0.99 - ETA: 7s - loss: 0.0288 - accuracy: 0.99 - ETA: 7s - loss: 0.0286 - accuracy: 0.99 - ETA: 7s - loss: 0.0285 - accuracy: 0.99 - ETA: 7s - loss: 0.0283 - accuracy: 0.99 - ETA: 7s - loss: 0.0334 - accuracy: 0.99 - ETA: 7s - loss: 0.0333 - accuracy: 0.99 - ETA: 7s - loss: 0.0330 - accuracy: 0.99 - ETA: 7s - loss: 0.0328 - accuracy: 0.99 - ETA: 6s - loss: 0.0326 - accuracy: 0.99 - ETA: 6s - loss: 0.0329 - accuracy: 0.99 - ETA: 6s - loss: 0.0340 - accuracy: 0.99 - ETA: 6s - loss: 0.0338 - accuracy: 0.99 - ETA: 6s - loss: 0.0344 - accuracy: 0.98 - ETA: 6s - loss: 0.0348 - accuracy: 0.98 - ETA: 6s - loss: 0.0346 - accuracy: 0.98 - ETA: 6s - loss: 0.0346 - accuracy: 0.99 - ETA: 6s - loss: 0.0344 - accuracy: 0.99 - ETA: 6s - loss: 0.0345 - accuracy: 0.99 - ETA: 6s - loss: 0.0344 - accuracy: 0.99 - ETA: 6s - loss: 0.0343 - accuracy: 0.99 - ETA: 6s - loss: 0.0342 - accuracy: 0.99 - ETA: 5s - loss: 0.0340 - accuracy: 0.99 - ETA: 5s - loss: 0.0342 - accuracy: 0.99 - ETA: 5s - loss: 0.0340 - accuracy: 0.99 - ETA: 5s - loss: 0.0342 - accuracy: 0.99 - ETA: 5s - loss: 0.0340 - accuracy: 0.99 - ETA: 5s - loss: 0.0341 - accuracy: 0.99 - ETA: 5s - loss: 0.0340 - accuracy: 0.99 - ETA: 5s - loss: 0.0344 - accuracy: 0.98 - ETA: 5s - loss: 0.0344 - accuracy: 0.98 - ETA: 5s - loss: 0.0344 - accuracy: 0.9900"
     ]
    },
    {
     "name": "stdout",
     "output_type": "stream",
     "text": [
      "1770/1770 [==============================] - ETA: 5s - loss: 0.0343 - accuracy: 0.99 - ETA: 5s - loss: 0.0341 - accuracy: 0.99 - ETA: 4s - loss: 0.0340 - accuracy: 0.99 - ETA: 4s - loss: 0.0338 - accuracy: 0.99 - ETA: 4s - loss: 0.0336 - accuracy: 0.99 - ETA: 4s - loss: 0.0334 - accuracy: 0.99 - ETA: 4s - loss: 0.0333 - accuracy: 0.99 - ETA: 4s - loss: 0.0331 - accuracy: 0.99 - ETA: 4s - loss: 0.0329 - accuracy: 0.99 - ETA: 4s - loss: 0.0327 - accuracy: 0.99 - ETA: 4s - loss: 0.0327 - accuracy: 0.99 - ETA: 4s - loss: 0.0325 - accuracy: 0.99 - ETA: 4s - loss: 0.0323 - accuracy: 0.99 - ETA: 3s - loss: 0.0321 - accuracy: 0.99 - ETA: 3s - loss: 0.0320 - accuracy: 0.99 - ETA: 3s - loss: 0.0321 - accuracy: 0.99 - ETA: 3s - loss: 0.0320 - accuracy: 0.99 - ETA: 3s - loss: 0.0319 - accuracy: 0.99 - ETA: 3s - loss: 0.0318 - accuracy: 0.99 - ETA: 3s - loss: 0.0316 - accuracy: 0.99 - ETA: 3s - loss: 0.0314 - accuracy: 0.99 - ETA: 3s - loss: 0.0312 - accuracy: 0.99 - ETA: 3s - loss: 0.0311 - accuracy: 0.99 - ETA: 3s - loss: 0.0310 - accuracy: 0.99 - ETA: 3s - loss: 0.0309 - accuracy: 0.99 - ETA: 3s - loss: 0.0308 - accuracy: 0.99 - ETA: 3s - loss: 0.0307 - accuracy: 0.99 - ETA: 2s - loss: 0.0306 - accuracy: 0.99 - ETA: 2s - loss: 0.0304 - accuracy: 0.99 - ETA: 2s - loss: 0.0303 - accuracy: 0.99 - ETA: 2s - loss: 0.0302 - accuracy: 0.99 - ETA: 2s - loss: 0.0300 - accuracy: 0.99 - ETA: 2s - loss: 0.0298 - accuracy: 0.99 - ETA: 2s - loss: 0.0297 - accuracy: 0.99 - ETA: 2s - loss: 0.0326 - accuracy: 0.99 - ETA: 2s - loss: 0.0325 - accuracy: 0.99 - ETA: 2s - loss: 0.0324 - accuracy: 0.99 - ETA: 2s - loss: 0.0323 - accuracy: 0.99 - ETA: 2s - loss: 0.0337 - accuracy: 0.99 - ETA: 2s - loss: 0.0336 - accuracy: 0.99 - ETA: 2s - loss: 0.0336 - accuracy: 0.99 - ETA: 2s - loss: 0.0344 - accuracy: 0.98 - ETA: 1s - loss: 0.0345 - accuracy: 0.98 - ETA: 1s - loss: 0.0345 - accuracy: 0.99 - ETA: 1s - loss: 0.0344 - accuracy: 0.99 - ETA: 1s - loss: 0.0343 - accuracy: 0.99 - ETA: 1s - loss: 0.0341 - accuracy: 0.99 - ETA: 1s - loss: 0.0346 - accuracy: 0.98 - ETA: 1s - loss: 0.0344 - accuracy: 0.98 - ETA: 1s - loss: 0.0343 - accuracy: 0.98 - ETA: 1s - loss: 0.0341 - accuracy: 0.98 - ETA: 1s - loss: 0.0340 - accuracy: 0.98 - ETA: 1s - loss: 0.0338 - accuracy: 0.98 - ETA: 1s - loss: 0.0337 - accuracy: 0.98 - ETA: 1s - loss: 0.0338 - accuracy: 0.98 - ETA: 0s - loss: 0.0337 - accuracy: 0.98 - ETA: 0s - loss: 0.0337 - accuracy: 0.99 - ETA: 0s - loss: 0.0335 - accuracy: 0.99 - ETA: 0s - loss: 0.0339 - accuracy: 0.98 - ETA: 0s - loss: 0.0337 - accuracy: 0.98 - ETA: 0s - loss: 0.0336 - accuracy: 0.98 - ETA: 0s - loss: 0.0334 - accuracy: 0.98 - ETA: 0s - loss: 0.0333 - accuracy: 0.98 - ETA: 0s - loss: 0.0331 - accuracy: 0.98 - ETA: 0s - loss: 0.0332 - accuracy: 0.98 - ETA: 0s - loss: 0.0331 - accuracy: 0.98 - 20s 11ms/step - loss: 0.0330 - accuracy: 0.9898 - val_loss: 0.1109 - val_accuracy: 0.9842\n",
      "Epoch 18/20\n"
     ]
    },
    {
     "name": "stdout",
     "output_type": "stream",
     "text": [
      "1184/1770 [===================>..........] - ETA: 15s - loss: 0.0000e+00 - accuracy: 1.000 - ETA: 16s - loss: 6.9539e-08 - accuracy: 1.000 - ETA: 16s - loss: 1.6093e-07 - accuracy: 1.000 - ETA: 16s - loss: 1.8081e-05 - accuracy: 1.000 - ETA: 16s - loss: 4.3295e-05 - accuracy: 1.000 - ETA: 16s - loss: 3.7108e-05 - accuracy: 1.000 - ETA: 16s - loss: 1.9485e-04 - accuracy: 1.000 - ETA: 16s - loss: 6.6409e-04 - accuracy: 1.000 - ETA: 16s - loss: 6.1863e-04 - accuracy: 1.000 - ETA: 16s - loss: 5.5355e-04 - accuracy: 1.000 - ETA: 16s - loss: 9.7127e-04 - accuracy: 1.000 - ETA: 15s - loss: 8.9272e-04 - accuracy: 1.000 - ETA: 15s - loss: 8.2130e-04 - accuracy: 1.000 - ETA: 15s - loss: 7.6093e-04 - accuracy: 1.000 - ETA: 15s - loss: 0.0012 - accuracy: 1.0000    - ETA: 15s - loss: 0.0011 - accuracy: 1.000 - ETA: 15s - loss: 0.0011 - accuracy: 1.000 - ETA: 15s - loss: 0.0010 - accuracy: 1.000 - ETA: 15s - loss: 9.7420e-04 - accuracy: 1.000 - ETA: 15s - loss: 9.2435e-04 - accuracy: 1.000 - ETA: 15s - loss: 8.7991e-04 - accuracy: 1.000 - ETA: 15s - loss: 8.5896e-04 - accuracy: 1.000 - ETA: 15s - loss: 8.3949e-04 - accuracy: 1.000 - ETA: 15s - loss: 0.0275 - accuracy: 0.9944    - ETA: 15s - loss: 0.0264 - accuracy: 0.994 - ETA: 15s - loss: 0.0253 - accuracy: 0.994 - ETA: 15s - loss: 0.0243 - accuracy: 0.995 - ETA: 15s - loss: 0.0234 - accuracy: 0.995 - ETA: 15s - loss: 0.0226 - accuracy: 0.995 - ETA: 15s - loss: 0.0224 - accuracy: 0.995 - ETA: 15s - loss: 0.0217 - accuracy: 0.995 - ETA: 15s - loss: 0.0210 - accuracy: 0.995 - ETA: 15s - loss: 0.0203 - accuracy: 0.996 - ETA: 15s - loss: 0.0210 - accuracy: 0.996 - ETA: 14s - loss: 0.0218 - accuracy: 0.996 - ETA: 14s - loss: 0.0214 - accuracy: 0.996 - ETA: 14s - loss: 0.0209 - accuracy: 0.996 - ETA: 14s - loss: 0.0213 - accuracy: 0.996 - ETA: 14s - loss: 0.0212 - accuracy: 0.996 - ETA: 14s - loss: 0.0304 - accuracy: 0.993 - ETA: 14s - loss: 0.0297 - accuracy: 0.993 - ETA: 14s - loss: 0.0289 - accuracy: 0.993 - ETA: 14s - loss: 0.0282 - accuracy: 0.994 - ETA: 14s - loss: 0.0276 - accuracy: 0.994 - ETA: 14s - loss: 0.0274 - accuracy: 0.994 - ETA: 13s - loss: 0.0268 - accuracy: 0.994 - ETA: 13s - loss: 0.0262 - accuracy: 0.994 - ETA: 13s - loss: 0.0257 - accuracy: 0.994 - ETA: 13s - loss: 0.0252 - accuracy: 0.994 - ETA: 13s - loss: 0.0247 - accuracy: 0.994 - ETA: 13s - loss: 0.0278 - accuracy: 0.992 - ETA: 13s - loss: 0.0273 - accuracy: 0.992 - ETA: 13s - loss: 0.0268 - accuracy: 0.992 - ETA: 13s - loss: 0.0264 - accuracy: 0.992 - ETA: 13s - loss: 0.0263 - accuracy: 0.993 - ETA: 13s - loss: 0.0263 - accuracy: 0.993 - ETA: 13s - loss: 0.0259 - accuracy: 0.993 - ETA: 12s - loss: 0.0256 - accuracy: 0.993 - ETA: 12s - loss: 0.0252 - accuracy: 0.993 - ETA: 12s - loss: 0.0248 - accuracy: 0.993 - ETA: 12s - loss: 0.0243 - accuracy: 0.993 - ETA: 12s - loss: 0.0240 - accuracy: 0.993 - ETA: 12s - loss: 0.0236 - accuracy: 0.993 - ETA: 12s - loss: 0.0232 - accuracy: 0.994 - ETA: 12s - loss: 0.0229 - accuracy: 0.994 - ETA: 12s - loss: 0.0225 - accuracy: 0.994 - ETA: 12s - loss: 0.0230 - accuracy: 0.994 - ETA: 12s - loss: 0.0226 - accuracy: 0.994 - ETA: 12s - loss: 0.0223 - accuracy: 0.994 - ETA: 11s - loss: 0.0228 - accuracy: 0.994 - ETA: 11s - loss: 0.0251 - accuracy: 0.992 - ETA: 11s - loss: 0.0247 - accuracy: 0.992 - ETA: 11s - loss: 0.0244 - accuracy: 0.993 - ETA: 11s - loss: 0.0241 - accuracy: 0.993 - ETA: 11s - loss: 0.0237 - accuracy: 0.993 - ETA: 11s - loss: 0.0236 - accuracy: 0.993 - ETA: 11s - loss: 0.0236 - accuracy: 0.993 - ETA: 11s - loss: 0.0234 - accuracy: 0.993 - ETA: 11s - loss: 0.0232 - accuracy: 0.993 - ETA: 11s - loss: 0.0231 - accuracy: 0.993 - ETA: 11s - loss: 0.0230 - accuracy: 0.993 - ETA: 11s - loss: 0.0229 - accuracy: 0.993 - ETA: 11s - loss: 0.0227 - accuracy: 0.993 - ETA: 11s - loss: 0.0226 - accuracy: 0.993 - ETA: 11s - loss: 0.0224 - accuracy: 0.993 - ETA: 11s - loss: 0.0223 - accuracy: 0.993 - ETA: 11s - loss: 0.0223 - accuracy: 0.993 - ETA: 11s - loss: 0.0223 - accuracy: 0.993 - ETA: 11s - loss: 0.0222 - accuracy: 0.993 - ETA: 11s - loss: 0.0220 - accuracy: 0.993 - ETA: 11s - loss: 0.0219 - accuracy: 0.993 - ETA: 11s - loss: 0.0217 - accuracy: 0.994 - ETA: 11s - loss: 0.0215 - accuracy: 0.994 - ETA: 11s - loss: 0.0213 - accuracy: 0.994 - ETA: 11s - loss: 0.0273 - accuracy: 0.992 - ETA: 11s - loss: 0.0271 - accuracy: 0.992 - ETA: 11s - loss: 0.0269 - accuracy: 0.992 - ETA: 11s - loss: 0.0276 - accuracy: 0.992 - ETA: 11s - loss: 0.0275 - accuracy: 0.992 - ETA: 11s - loss: 0.0273 - accuracy: 0.992 - ETA: 10s - loss: 0.0272 - accuracy: 0.992 - ETA: 10s - loss: 0.0269 - accuracy: 0.993 - ETA: 10s - loss: 0.0266 - accuracy: 0.993 - ETA: 10s - loss: 0.0276 - accuracy: 0.991 - ETA: 10s - loss: 0.0284 - accuracy: 0.990 - ETA: 10s - loss: 0.0282 - accuracy: 0.990 - ETA: 10s - loss: 0.0281 - accuracy: 0.990 - ETA: 10s - loss: 0.0279 - accuracy: 0.990 - ETA: 10s - loss: 0.0284 - accuracy: 0.990 - ETA: 10s - loss: 0.0282 - accuracy: 0.990 - ETA: 10s - loss: 0.0281 - accuracy: 0.990 - ETA: 10s - loss: 0.0279 - accuracy: 0.990 - ETA: 10s - loss: 0.0278 - accuracy: 0.990 - ETA: 10s - loss: 0.0277 - accuracy: 0.990 - ETA: 10s - loss: 0.0274 - accuracy: 0.991 - ETA: 10s - loss: 0.0271 - accuracy: 0.991 - ETA: 10s - loss: 0.0280 - accuracy: 0.989 - ETA: 10s - loss: 0.0278 - accuracy: 0.989 - ETA: 10s - loss: 0.0281 - accuracy: 0.990 - ETA: 10s - loss: 0.0278 - accuracy: 0.990 - ETA: 10s - loss: 0.0294 - accuracy: 0.989 - ETA: 9s - loss: 0.0292 - accuracy: 0.989 - ETA: 9s - loss: 0.0289 - accuracy: 0.98 - ETA: 9s - loss: 0.0287 - accuracy: 0.98 - ETA: 9s - loss: 0.0286 - accuracy: 0.98 - ETA: 9s - loss: 0.0285 - accuracy: 0.98 - ETA: 9s - loss: 0.0283 - accuracy: 0.98 - ETA: 9s - loss: 0.0280 - accuracy: 0.98 - ETA: 9s - loss: 0.0278 - accuracy: 0.98 - ETA: 9s - loss: 0.0275 - accuracy: 0.98 - ETA: 9s - loss: 0.0273 - accuracy: 0.98 - ETA: 9s - loss: 0.0271 - accuracy: 0.99 - ETA: 9s - loss: 0.0269 - accuracy: 0.99 - ETA: 9s - loss: 0.0271 - accuracy: 0.99 - ETA: 9s - loss: 0.0270 - accuracy: 0.99 - ETA: 9s - loss: 0.0269 - accuracy: 0.99 - ETA: 9s - loss: 0.0268 - accuracy: 0.99 - ETA: 9s - loss: 0.0268 - accuracy: 0.99 - ETA: 9s - loss: 0.0267 - accuracy: 0.99 - ETA: 8s - loss: 0.0266 - accuracy: 0.99 - ETA: 8s - loss: 0.0265 - accuracy: 0.99 - ETA: 8s - loss: 0.0263 - accuracy: 0.99 - ETA: 8s - loss: 0.0262 - accuracy: 0.99 - ETA: 8s - loss: 0.0262 - accuracy: 0.99 - ETA: 8s - loss: 0.0264 - accuracy: 0.99 - ETA: 8s - loss: 0.0262 - accuracy: 0.99 - ETA: 8s - loss: 0.0261 - accuracy: 0.99 - ETA: 8s - loss: 0.0259 - accuracy: 0.99 - ETA: 8s - loss: 0.0257 - accuracy: 0.99 - ETA: 8s - loss: 0.0255 - accuracy: 0.99 - ETA: 8s - loss: 0.0253 - accuracy: 0.99 - ETA: 8s - loss: 0.0251 - accuracy: 0.99 - ETA: 8s - loss: 0.0249 - accuracy: 0.99 - ETA: 8s - loss: 0.0247 - accuracy: 0.99 - ETA: 7s - loss: 0.0245 - accuracy: 0.99 - ETA: 7s - loss: 0.0244 - accuracy: 0.99 - ETA: 7s - loss: 0.0243 - accuracy: 0.99 - ETA: 7s - loss: 0.0242 - accuracy: 0.99 - ETA: 7s - loss: 0.0242 - accuracy: 0.99 - ETA: 7s - loss: 0.0242 - accuracy: 0.99 - ETA: 7s - loss: 0.0241 - accuracy: 0.99 - ETA: 7s - loss: 0.0240 - accuracy: 0.99 - ETA: 7s - loss: 0.0239 - accuracy: 0.99 - ETA: 7s - loss: 0.0238 - accuracy: 0.99 - ETA: 7s - loss: 0.0237 - accuracy: 0.99 - ETA: 7s - loss: 0.0236 - accuracy: 0.99 - ETA: 7s - loss: 0.0235 - accuracy: 0.99 - ETA: 7s - loss: 0.0234 - accuracy: 0.99 - ETA: 7s - loss: 0.0233 - accuracy: 0.99 - ETA: 7s - loss: 0.0232 - accuracy: 0.99 - ETA: 7s - loss: 0.0231 - accuracy: 0.99 - ETA: 7s - loss: 0.0230 - accuracy: 0.99 - ETA: 7s - loss: 0.0229 - accuracy: 0.99 - ETA: 7s - loss: 0.0229 - accuracy: 0.99 - ETA: 7s - loss: 0.0228 - accuracy: 0.99 - ETA: 7s - loss: 0.0227 - accuracy: 0.99 - ETA: 7s - loss: 0.0226 - accuracy: 0.99 - ETA: 7s - loss: 0.0229 - accuracy: 0.99 - ETA: 7s - loss: 0.0228 - accuracy: 0.99 - ETA: 6s - loss: 0.0227 - accuracy: 0.99 - ETA: 6s - loss: 0.0227 - accuracy: 0.99 - ETA: 6s - loss: 0.0244 - accuracy: 0.99 - ETA: 6s - loss: 0.0243 - accuracy: 0.99 - ETA: 6s - loss: 0.0242 - accuracy: 0.99 - ETA: 6s - loss: 0.0240 - accuracy: 0.99 - ETA: 6s - loss: 0.0239 - accuracy: 0.99 - ETA: 6s - loss: 0.0240 - accuracy: 0.9916"
     ]
    },
    {
     "name": "stdout",
     "output_type": "stream",
     "text": [
      "1770/1770 [==============================] - ETA: 6s - loss: 0.0239 - accuracy: 0.99 - ETA: 6s - loss: 0.0237 - accuracy: 0.99 - ETA: 6s - loss: 0.0236 - accuracy: 0.99 - ETA: 6s - loss: 0.0234 - accuracy: 0.99 - ETA: 6s - loss: 0.0233 - accuracy: 0.99 - ETA: 5s - loss: 0.0231 - accuracy: 0.99 - ETA: 5s - loss: 0.0230 - accuracy: 0.99 - ETA: 5s - loss: 0.0229 - accuracy: 0.99 - ETA: 5s - loss: 0.0227 - accuracy: 0.99 - ETA: 5s - loss: 0.0226 - accuracy: 0.99 - ETA: 5s - loss: 0.0224 - accuracy: 0.99 - ETA: 5s - loss: 0.0223 - accuracy: 0.99 - ETA: 5s - loss: 0.0222 - accuracy: 0.99 - ETA: 5s - loss: 0.0222 - accuracy: 0.99 - ETA: 5s - loss: 0.0223 - accuracy: 0.99 - ETA: 5s - loss: 0.0222 - accuracy: 0.99 - ETA: 4s - loss: 0.0229 - accuracy: 0.99 - ETA: 4s - loss: 0.0228 - accuracy: 0.99 - ETA: 4s - loss: 0.0226 - accuracy: 0.99 - ETA: 4s - loss: 0.0225 - accuracy: 0.99 - ETA: 4s - loss: 0.0226 - accuracy: 0.99 - ETA: 4s - loss: 0.0224 - accuracy: 0.99 - ETA: 4s - loss: 0.0223 - accuracy: 0.99 - ETA: 4s - loss: 0.0222 - accuracy: 0.99 - ETA: 4s - loss: 0.0220 - accuracy: 0.99 - ETA: 4s - loss: 0.0219 - accuracy: 0.99 - ETA: 4s - loss: 0.0222 - accuracy: 0.99 - ETA: 3s - loss: 0.0221 - accuracy: 0.99 - ETA: 3s - loss: 0.0220 - accuracy: 0.99 - ETA: 3s - loss: 0.0219 - accuracy: 0.99 - ETA: 3s - loss: 0.0221 - accuracy: 0.99 - ETA: 3s - loss: 0.0220 - accuracy: 0.99 - ETA: 3s - loss: 0.0218 - accuracy: 0.99 - ETA: 3s - loss: 0.0217 - accuracy: 0.99 - ETA: 3s - loss: 0.0216 - accuracy: 0.99 - ETA: 3s - loss: 0.0215 - accuracy: 0.99 - ETA: 3s - loss: 0.0214 - accuracy: 0.99 - ETA: 3s - loss: 0.0213 - accuracy: 0.99 - ETA: 2s - loss: 0.0214 - accuracy: 0.99 - ETA: 2s - loss: 0.0225 - accuracy: 0.99 - ETA: 2s - loss: 0.0224 - accuracy: 0.99 - ETA: 2s - loss: 0.0223 - accuracy: 0.99 - ETA: 2s - loss: 0.0222 - accuracy: 0.99 - ETA: 2s - loss: 0.0221 - accuracy: 0.99 - ETA: 2s - loss: 0.0250 - accuracy: 0.99 - ETA: 2s - loss: 0.0249 - accuracy: 0.99 - ETA: 2s - loss: 0.0248 - accuracy: 0.99 - ETA: 2s - loss: 0.0247 - accuracy: 0.99 - ETA: 2s - loss: 0.0246 - accuracy: 0.99 - ETA: 2s - loss: 0.0245 - accuracy: 0.99 - ETA: 2s - loss: 0.0245 - accuracy: 0.99 - ETA: 2s - loss: 0.0244 - accuracy: 0.99 - ETA: 1s - loss: 0.0243 - accuracy: 0.99 - ETA: 1s - loss: 0.0242 - accuracy: 0.99 - ETA: 1s - loss: 0.0242 - accuracy: 0.99 - ETA: 1s - loss: 0.0241 - accuracy: 0.99 - ETA: 1s - loss: 0.0241 - accuracy: 0.99 - ETA: 1s - loss: 0.0242 - accuracy: 0.99 - ETA: 1s - loss: 0.0241 - accuracy: 0.99 - ETA: 1s - loss: 0.0241 - accuracy: 0.99 - ETA: 1s - loss: 0.0240 - accuracy: 0.99 - ETA: 1s - loss: 0.0240 - accuracy: 0.99 - ETA: 1s - loss: 0.0261 - accuracy: 0.99 - ETA: 1s - loss: 0.0259 - accuracy: 0.99 - ETA: 1s - loss: 0.0259 - accuracy: 0.99 - ETA: 1s - loss: 0.0258 - accuracy: 0.99 - ETA: 1s - loss: 0.0256 - accuracy: 0.99 - ETA: 1s - loss: 0.0255 - accuracy: 0.99 - ETA: 0s - loss: 0.0254 - accuracy: 0.99 - ETA: 0s - loss: 0.0253 - accuracy: 0.99 - ETA: 0s - loss: 0.0252 - accuracy: 0.99 - ETA: 0s - loss: 0.0251 - accuracy: 0.99 - ETA: 0s - loss: 0.0257 - accuracy: 0.99 - ETA: 0s - loss: 0.0257 - accuracy: 0.99 - ETA: 0s - loss: 0.0256 - accuracy: 0.99 - ETA: 0s - loss: 0.0259 - accuracy: 0.99 - ETA: 0s - loss: 0.0258 - accuracy: 0.99 - ETA: 0s - loss: 0.0257 - accuracy: 0.99 - ETA: 0s - loss: 0.0256 - accuracy: 0.99 - ETA: 0s - loss: 0.0256 - accuracy: 0.99 - ETA: 0s - loss: 0.0255 - accuracy: 0.99 - ETA: 0s - loss: 0.0255 - accuracy: 0.99 - ETA: 0s - loss: 0.0254 - accuracy: 0.99 - ETA: 0s - loss: 0.0254 - accuracy: 0.99 - 20s 11ms/step - loss: 0.0253 - accuracy: 0.9915 - val_loss: 0.0949 - val_accuracy: 0.9842\n",
      "Epoch 19/20\n"
     ]
    },
    {
     "name": "stdout",
     "output_type": "stream",
     "text": [
      "1060/1770 [================>.............] - ETA: 16s - loss: 3.4373 - accuracy: 0.750 - ETA: 17s - loss: 1.1474 - accuracy: 0.916 - ETA: 19s - loss: 0.8605 - accuracy: 0.937 - ETA: 20s - loss: 0.6884 - accuracy: 0.950 - ETA: 20s - loss: 0.5737 - accuracy: 0.958 - ETA: 20s - loss: 0.4917 - accuracy: 0.964 - ETA: 20s - loss: 0.4303 - accuracy: 0.968 - ETA: 20s - loss: 0.3833 - accuracy: 0.972 - ETA: 21s - loss: 0.3451 - accuracy: 0.975 - ETA: 21s - loss: 0.3137 - accuracy: 0.977 - ETA: 21s - loss: 0.2876 - accuracy: 0.979 - ETA: 21s - loss: 0.2654 - accuracy: 0.980 - ETA: 21s - loss: 0.2465 - accuracy: 0.982 - ETA: 21s - loss: 0.2301 - accuracy: 0.983 - ETA: 20s - loss: 0.2034 - accuracy: 0.985 - ETA: 20s - loss: 0.1921 - accuracy: 0.986 - ETA: 20s - loss: 0.1820 - accuracy: 0.986 - ETA: 20s - loss: 0.1750 - accuracy: 0.987 - ETA: 21s - loss: 0.1670 - accuracy: 0.988 - ETA: 21s - loss: 0.1614 - accuracy: 0.988 - ETA: 21s - loss: 0.1545 - accuracy: 0.989 - ETA: 21s - loss: 0.1480 - accuracy: 0.989 - ETA: 21s - loss: 0.1421 - accuracy: 0.990 - ETA: 21s - loss: 0.1402 - accuracy: 0.990 - ETA: 21s - loss: 0.1351 - accuracy: 0.990 - ETA: 21s - loss: 0.1302 - accuracy: 0.991 - ETA: 21s - loss: 0.1257 - accuracy: 0.991 - ETA: 21s - loss: 0.1216 - accuracy: 0.991 - ETA: 22s - loss: 0.1176 - accuracy: 0.991 - ETA: 21s - loss: 0.1140 - accuracy: 0.992 - ETA: 21s - loss: 0.1105 - accuracy: 0.992 - ETA: 21s - loss: 0.1042 - accuracy: 0.992 - ETA: 21s - loss: 0.0995 - accuracy: 0.993 - ETA: 20s - loss: 0.0945 - accuracy: 0.993 - ETA: 20s - loss: 0.0899 - accuracy: 0.993 - ETA: 21s - loss: 0.0878 - accuracy: 0.994 - ETA: 22s - loss: 0.0871 - accuracy: 0.994 - ETA: 22s - loss: 0.0851 - accuracy: 0.994 - ETA: 22s - loss: 0.0832 - accuracy: 0.994 - ETA: 22s - loss: 0.0822 - accuracy: 0.994 - ETA: 22s - loss: 0.0804 - accuracy: 0.994 - ETA: 22s - loss: 0.0787 - accuracy: 0.994 - ETA: 22s - loss: 0.0771 - accuracy: 0.994 - ETA: 22s - loss: 0.0756 - accuracy: 0.995 - ETA: 22s - loss: 0.0741 - accuracy: 0.995 - ETA: 22s - loss: 0.0727 - accuracy: 0.995 - ETA: 22s - loss: 0.0713 - accuracy: 0.995 - ETA: 22s - loss: 0.0700 - accuracy: 0.995 - ETA: 22s - loss: 0.0693 - accuracy: 0.995 - ETA: 22s - loss: 0.0681 - accuracy: 0.995 - ETA: 22s - loss: 0.0669 - accuracy: 0.995 - ETA: 22s - loss: 0.0658 - accuracy: 0.995 - ETA: 22s - loss: 0.0647 - accuracy: 0.995 - ETA: 21s - loss: 0.0625 - accuracy: 0.995 - ETA: 21s - loss: 0.0616 - accuracy: 0.996 - ETA: 21s - loss: 0.0606 - accuracy: 0.996 - ETA: 21s - loss: 0.0597 - accuracy: 0.996 - ETA: 21s - loss: 0.0588 - accuracy: 0.996 - ETA: 21s - loss: 0.0579 - accuracy: 0.996 - ETA: 21s - loss: 0.0570 - accuracy: 0.996 - ETA: 21s - loss: 0.0563 - accuracy: 0.996 - ETA: 21s - loss: 0.0548 - accuracy: 0.996 - ETA: 21s - loss: 0.0540 - accuracy: 0.996 - ETA: 21s - loss: 0.0533 - accuracy: 0.996 - ETA: 21s - loss: 0.0525 - accuracy: 0.996 - ETA: 21s - loss: 0.0518 - accuracy: 0.996 - ETA: 21s - loss: 0.0511 - accuracy: 0.996 - ETA: 21s - loss: 0.0529 - accuracy: 0.993 - ETA: 21s - loss: 0.0522 - accuracy: 0.993 - ETA: 21s - loss: 0.0516 - accuracy: 0.993 - ETA: 21s - loss: 0.0509 - accuracy: 0.993 - ETA: 21s - loss: 0.0503 - accuracy: 0.993 - ETA: 20s - loss: 0.0497 - accuracy: 0.993 - ETA: 20s - loss: 0.0491 - accuracy: 0.993 - ETA: 20s - loss: 0.0485 - accuracy: 0.994 - ETA: 20s - loss: 0.0484 - accuracy: 0.994 - ETA: 20s - loss: 0.0478 - accuracy: 0.994 - ETA: 20s - loss: 0.0473 - accuracy: 0.994 - ETA: 20s - loss: 0.0479 - accuracy: 0.994 - ETA: 20s - loss: 0.0480 - accuracy: 0.994 - ETA: 20s - loss: 0.0476 - accuracy: 0.994 - ETA: 20s - loss: 0.0472 - accuracy: 0.994 - ETA: 20s - loss: 0.0467 - accuracy: 0.994 - ETA: 20s - loss: 0.0461 - accuracy: 0.994 - ETA: 20s - loss: 0.0464 - accuracy: 0.994 - ETA: 20s - loss: 0.0459 - accuracy: 0.994 - ETA: 20s - loss: 0.0464 - accuracy: 0.994 - ETA: 20s - loss: 0.0459 - accuracy: 0.994 - ETA: 20s - loss: 0.0454 - accuracy: 0.994 - ETA: 20s - loss: 0.0449 - accuracy: 0.994 - ETA: 20s - loss: 0.0447 - accuracy: 0.994 - ETA: 20s - loss: 0.0443 - accuracy: 0.995 - ETA: 20s - loss: 0.0439 - accuracy: 0.995 - ETA: 20s - loss: 0.0434 - accuracy: 0.995 - ETA: 19s - loss: 0.0426 - accuracy: 0.995 - ETA: 19s - loss: 0.0418 - accuracy: 0.995 - ETA: 19s - loss: 0.0410 - accuracy: 0.995 - ETA: 19s - loss: 0.0403 - accuracy: 0.995 - ETA: 18s - loss: 0.0396 - accuracy: 0.995 - ETA: 18s - loss: 0.0389 - accuracy: 0.995 - ETA: 18s - loss: 0.0382 - accuracy: 0.995 - ETA: 18s - loss: 0.0376 - accuracy: 0.995 - ETA: 18s - loss: 0.0369 - accuracy: 0.995 - ETA: 17s - loss: 0.0363 - accuracy: 0.995 - ETA: 17s - loss: 0.0357 - accuracy: 0.996 - ETA: 17s - loss: 0.0352 - accuracy: 0.996 - ETA: 17s - loss: 0.0346 - accuracy: 0.996 - ETA: 17s - loss: 0.0341 - accuracy: 0.996 - ETA: 16s - loss: 0.0336 - accuracy: 0.996 - ETA: 16s - loss: 0.0331 - accuracy: 0.996 - ETA: 16s - loss: 0.0332 - accuracy: 0.996 - ETA: 16s - loss: 0.0373 - accuracy: 0.994 - ETA: 16s - loss: 0.0368 - accuracy: 0.994 - ETA: 16s - loss: 0.0384 - accuracy: 0.993 - ETA: 15s - loss: 0.0379 - accuracy: 0.993 - ETA: 15s - loss: 0.0381 - accuracy: 0.993 - ETA: 15s - loss: 0.0377 - accuracy: 0.993 - ETA: 15s - loss: 0.0372 - accuracy: 0.993 - ETA: 15s - loss: 0.0367 - accuracy: 0.993 - ETA: 15s - loss: 0.0362 - accuracy: 0.993 - ETA: 14s - loss: 0.0358 - accuracy: 0.993 - ETA: 14s - loss: 0.0353 - accuracy: 0.993 - ETA: 14s - loss: 0.0349 - accuracy: 0.993 - ETA: 14s - loss: 0.0346 - accuracy: 0.993 - ETA: 14s - loss: 0.0342 - accuracy: 0.993 - ETA: 14s - loss: 0.0343 - accuracy: 0.994 - ETA: 14s - loss: 0.0339 - accuracy: 0.994 - ETA: 13s - loss: 0.0336 - accuracy: 0.994 - ETA: 13s - loss: 0.0332 - accuracy: 0.994 - ETA: 13s - loss: 0.0329 - accuracy: 0.994 - ETA: 13s - loss: 0.0326 - accuracy: 0.994 - ETA: 13s - loss: 0.0323 - accuracy: 0.994 - ETA: 13s - loss: 0.0319 - accuracy: 0.994 - ETA: 13s - loss: 0.0318 - accuracy: 0.994 - ETA: 13s - loss: 0.0330 - accuracy: 0.993 - ETA: 13s - loss: 0.0327 - accuracy: 0.993 - ETA: 13s - loss: 0.0325 - accuracy: 0.993 - ETA: 13s - loss: 0.0323 - accuracy: 0.993 - ETA: 13s - loss: 0.0322 - accuracy: 0.993 - ETA: 13s - loss: 0.0325 - accuracy: 0.993 - ETA: 12s - loss: 0.0322 - accuracy: 0.993 - ETA: 12s - loss: 0.0321 - accuracy: 0.993 - ETA: 12s - loss: 0.0317 - accuracy: 0.993 - ETA: 12s - loss: 0.0328 - accuracy: 0.992 - ETA: 12s - loss: 0.0326 - accuracy: 0.992 - ETA: 12s - loss: 0.0325 - accuracy: 0.992 - ETA: 12s - loss: 0.0323 - accuracy: 0.992 - ETA: 12s - loss: 0.0322 - accuracy: 0.992 - ETA: 12s - loss: 0.0320 - accuracy: 0.992 - ETA: 12s - loss: 0.0318 - accuracy: 0.992 - ETA: 12s - loss: 0.0317 - accuracy: 0.992 - ETA: 12s - loss: 0.0314 - accuracy: 0.992 - ETA: 12s - loss: 0.0316 - accuracy: 0.992 - ETA: 11s - loss: 0.0313 - accuracy: 0.992 - ETA: 11s - loss: 0.0310 - accuracy: 0.992 - ETA: 11s - loss: 0.0310 - accuracy: 0.992 - ETA: 11s - loss: 0.0307 - accuracy: 0.993 - ETA: 11s - loss: 0.0306 - accuracy: 0.993 - ETA: 11s - loss: 0.0303 - accuracy: 0.993 - ETA: 11s - loss: 0.0300 - accuracy: 0.993 - ETA: 11s - loss: 0.0297 - accuracy: 0.993 - ETA: 11s - loss: 0.0295 - accuracy: 0.993 - ETA: 10s - loss: 0.0292 - accuracy: 0.993 - ETA: 10s - loss: 0.0290 - accuracy: 0.993 - ETA: 10s - loss: 0.0287 - accuracy: 0.993 - ETA: 10s - loss: 0.0285 - accuracy: 0.993 - ETA: 10s - loss: 0.0284 - accuracy: 0.993 - ETA: 10s - loss: 0.0283 - accuracy: 0.993 - ETA: 10s - loss: 0.0280 - accuracy: 0.993 - ETA: 10s - loss: 0.0278 - accuracy: 0.993 - ETA: 10s - loss: 0.0277 - accuracy: 0.993 - ETA: 10s - loss: 0.0275 - accuracy: 0.993 - ETA: 9s - loss: 0.0272 - accuracy: 0.993 - ETA: 9s - loss: 0.0270 - accuracy: 0.99 - ETA: 9s - loss: 0.0269 - accuracy: 0.99 - ETA: 9s - loss: 0.0269 - accuracy: 0.99 - ETA: 9s - loss: 0.0266 - accuracy: 0.99 - ETA: 9s - loss: 0.0264 - accuracy: 0.99 - ETA: 9s - loss: 0.0262 - accuracy: 0.99 - ETA: 9s - loss: 0.0260 - accuracy: 0.99 - ETA: 9s - loss: 0.0281 - accuracy: 0.99 - ETA: 9s - loss: 0.0279 - accuracy: 0.99 - ETA: 8s - loss: 0.0277 - accuracy: 0.99 - ETA: 8s - loss: 0.0276 - accuracy: 0.99 - ETA: 8s - loss: 0.0274 - accuracy: 0.99 - ETA: 8s - loss: 0.0283 - accuracy: 0.9925"
     ]
    },
    {
     "name": "stdout",
     "output_type": "stream",
     "text": [
      "1770/1770 [==============================] - ETA: 8s - loss: 0.0281 - accuracy: 0.99 - ETA: 8s - loss: 0.0295 - accuracy: 0.99 - ETA: 8s - loss: 0.0293 - accuracy: 0.99 - ETA: 8s - loss: 0.0295 - accuracy: 0.99 - ETA: 8s - loss: 0.0292 - accuracy: 0.99 - ETA: 8s - loss: 0.0290 - accuracy: 0.99 - ETA: 7s - loss: 0.0288 - accuracy: 0.99 - ETA: 7s - loss: 0.0286 - accuracy: 0.99 - ETA: 7s - loss: 0.0284 - accuracy: 0.99 - ETA: 7s - loss: 0.0282 - accuracy: 0.99 - ETA: 7s - loss: 0.0281 - accuracy: 0.99 - ETA: 7s - loss: 0.0280 - accuracy: 0.99 - ETA: 7s - loss: 0.0295 - accuracy: 0.99 - ETA: 7s - loss: 0.0294 - accuracy: 0.99 - ETA: 7s - loss: 0.0293 - accuracy: 0.99 - ETA: 7s - loss: 0.0292 - accuracy: 0.99 - ETA: 7s - loss: 0.0291 - accuracy: 0.99 - ETA: 7s - loss: 0.0290 - accuracy: 0.99 - ETA: 7s - loss: 0.0289 - accuracy: 0.99 - ETA: 7s - loss: 0.0287 - accuracy: 0.99 - ETA: 7s - loss: 0.0286 - accuracy: 0.99 - ETA: 7s - loss: 0.0285 - accuracy: 0.99 - ETA: 6s - loss: 0.0283 - accuracy: 0.99 - ETA: 6s - loss: 0.0282 - accuracy: 0.99 - ETA: 6s - loss: 0.0280 - accuracy: 0.99 - ETA: 6s - loss: 0.0278 - accuracy: 0.99 - ETA: 6s - loss: 0.0276 - accuracy: 0.99 - ETA: 6s - loss: 0.0274 - accuracy: 0.99 - ETA: 6s - loss: 0.0276 - accuracy: 0.99 - ETA: 6s - loss: 0.0274 - accuracy: 0.99 - ETA: 6s - loss: 0.0274 - accuracy: 0.99 - ETA: 6s - loss: 0.0273 - accuracy: 0.99 - ETA: 6s - loss: 0.0272 - accuracy: 0.99 - ETA: 6s - loss: 0.0271 - accuracy: 0.99 - ETA: 6s - loss: 0.0270 - accuracy: 0.99 - ETA: 5s - loss: 0.0269 - accuracy: 0.99 - ETA: 5s - loss: 0.0268 - accuracy: 0.99 - ETA: 5s - loss: 0.0267 - accuracy: 0.99 - ETA: 5s - loss: 0.0266 - accuracy: 0.99 - ETA: 5s - loss: 0.0266 - accuracy: 0.99 - ETA: 5s - loss: 0.0265 - accuracy: 0.99 - ETA: 5s - loss: 0.0264 - accuracy: 0.99 - ETA: 5s - loss: 0.0263 - accuracy: 0.99 - ETA: 5s - loss: 0.0266 - accuracy: 0.99 - ETA: 5s - loss: 0.0265 - accuracy: 0.99 - ETA: 5s - loss: 0.0265 - accuracy: 0.99 - ETA: 5s - loss: 0.0282 - accuracy: 0.99 - ETA: 5s - loss: 0.0285 - accuracy: 0.99 - ETA: 5s - loss: 0.0284 - accuracy: 0.99 - ETA: 5s - loss: 0.0282 - accuracy: 0.99 - ETA: 5s - loss: 0.0281 - accuracy: 0.99 - ETA: 5s - loss: 0.0279 - accuracy: 0.99 - ETA: 4s - loss: 0.0277 - accuracy: 0.99 - ETA: 4s - loss: 0.0276 - accuracy: 0.99 - ETA: 4s - loss: 0.0274 - accuracy: 0.99 - ETA: 4s - loss: 0.0273 - accuracy: 0.99 - ETA: 4s - loss: 0.0273 - accuracy: 0.99 - ETA: 4s - loss: 0.0272 - accuracy: 0.99 - ETA: 4s - loss: 0.0271 - accuracy: 0.99 - ETA: 4s - loss: 0.0270 - accuracy: 0.99 - ETA: 4s - loss: 0.0270 - accuracy: 0.99 - ETA: 4s - loss: 0.0269 - accuracy: 0.99 - ETA: 4s - loss: 0.0268 - accuracy: 0.99 - ETA: 4s - loss: 0.0277 - accuracy: 0.99 - ETA: 4s - loss: 0.0276 - accuracy: 0.99 - ETA: 4s - loss: 0.0275 - accuracy: 0.99 - ETA: 4s - loss: 0.0275 - accuracy: 0.99 - ETA: 4s - loss: 0.0274 - accuracy: 0.99 - ETA: 4s - loss: 0.0273 - accuracy: 0.99 - ETA: 4s - loss: 0.0272 - accuracy: 0.99 - ETA: 3s - loss: 0.0272 - accuracy: 0.99 - ETA: 3s - loss: 0.0271 - accuracy: 0.99 - ETA: 3s - loss: 0.0275 - accuracy: 0.99 - ETA: 3s - loss: 0.0274 - accuracy: 0.99 - ETA: 3s - loss: 0.0272 - accuracy: 0.99 - ETA: 3s - loss: 0.0271 - accuracy: 0.99 - ETA: 3s - loss: 0.0269 - accuracy: 0.99 - ETA: 3s - loss: 0.0268 - accuracy: 0.99 - ETA: 3s - loss: 0.0270 - accuracy: 0.99 - ETA: 3s - loss: 0.0277 - accuracy: 0.99 - ETA: 3s - loss: 0.0277 - accuracy: 0.99 - ETA: 2s - loss: 0.0276 - accuracy: 0.99 - ETA: 2s - loss: 0.0275 - accuracy: 0.99 - ETA: 2s - loss: 0.0275 - accuracy: 0.99 - ETA: 2s - loss: 0.0274 - accuracy: 0.99 - ETA: 2s - loss: 0.0273 - accuracy: 0.99 - ETA: 2s - loss: 0.0273 - accuracy: 0.99 - ETA: 2s - loss: 0.0272 - accuracy: 0.99 - ETA: 2s - loss: 0.0271 - accuracy: 0.99 - ETA: 2s - loss: 0.0271 - accuracy: 0.99 - ETA: 2s - loss: 0.0272 - accuracy: 0.99 - ETA: 2s - loss: 0.0271 - accuracy: 0.99 - ETA: 2s - loss: 0.0269 - accuracy: 0.99 - ETA: 2s - loss: 0.0269 - accuracy: 0.99 - ETA: 2s - loss: 0.0268 - accuracy: 0.99 - ETA: 1s - loss: 0.0267 - accuracy: 0.99 - ETA: 1s - loss: 0.0265 - accuracy: 0.99 - ETA: 1s - loss: 0.0264 - accuracy: 0.99 - ETA: 1s - loss: 0.0263 - accuracy: 0.99 - ETA: 1s - loss: 0.0262 - accuracy: 0.99 - ETA: 1s - loss: 0.0260 - accuracy: 0.99 - ETA: 1s - loss: 0.0266 - accuracy: 0.99 - ETA: 1s - loss: 0.0265 - accuracy: 0.99 - ETA: 1s - loss: 0.0264 - accuracy: 0.99 - ETA: 1s - loss: 0.0262 - accuracy: 0.99 - ETA: 0s - loss: 0.0261 - accuracy: 0.99 - ETA: 0s - loss: 0.0260 - accuracy: 0.99 - ETA: 0s - loss: 0.0259 - accuracy: 0.99 - ETA: 0s - loss: 0.0263 - accuracy: 0.99 - ETA: 0s - loss: 0.0263 - accuracy: 0.99 - ETA: 0s - loss: 0.0262 - accuracy: 0.99 - ETA: 0s - loss: 0.0261 - accuracy: 0.99 - ETA: 0s - loss: 0.0260 - accuracy: 0.99 - ETA: 0s - loss: 0.0259 - accuracy: 0.99 - ETA: 0s - loss: 0.0259 - accuracy: 0.99 - ETA: 0s - loss: 0.0258 - accuracy: 0.99 - ETA: 0s - loss: 0.0261 - accuracy: 0.99 - ETA: 0s - loss: 0.0261 - accuracy: 0.99 - ETA: 0s - loss: 0.0260 - accuracy: 0.99 - 23s 13ms/step - loss: 0.0260 - accuracy: 0.9904 - val_loss: 0.0705 - val_accuracy: 0.9865\n",
      "Epoch 20/20\n"
     ]
    },
    {
     "name": "stdout",
     "output_type": "stream",
     "text": [
      "1072/1770 [=================>............] - ETA: 18s - loss: 1.1117e-04 - accuracy: 1.000 - ETA: 21s - loss: 5.5584e-05 - accuracy: 1.000 - ETA: 23s - loss: 0.0038 - accuracy: 1.0000    - ETA: 23s - loss: 0.0029 - accuracy: 1.000 - ETA: 22s - loss: 0.0041 - accuracy: 1.000 - ETA: 22s - loss: 0.0035 - accuracy: 1.000 - ETA: 21s - loss: 0.0034 - accuracy: 1.000 - ETA: 21s - loss: 0.0031 - accuracy: 1.000 - ETA: 21s - loss: 0.0028 - accuracy: 1.000 - ETA: 21s - loss: 0.0028 - accuracy: 1.000 - ETA: 21s - loss: 0.0024 - accuracy: 1.000 - ETA: 20s - loss: 0.0022 - accuracy: 1.000 - ETA: 20s - loss: 0.0020 - accuracy: 1.000 - ETA: 19s - loss: 0.0018 - accuracy: 1.000 - ETA: 19s - loss: 0.0026 - accuracy: 1.000 - ETA: 18s - loss: 0.0053 - accuracy: 1.000 - ETA: 18s - loss: 0.0052 - accuracy: 1.000 - ETA: 18s - loss: 0.0048 - accuracy: 1.000 - ETA: 18s - loss: 0.0052 - accuracy: 1.000 - ETA: 17s - loss: 0.0049 - accuracy: 1.000 - ETA: 17s - loss: 0.0046 - accuracy: 1.000 - ETA: 17s - loss: 0.0046 - accuracy: 1.000 - ETA: 17s - loss: 0.0044 - accuracy: 1.000 - ETA: 17s - loss: 0.0042 - accuracy: 1.000 - ETA: 16s - loss: 0.0040 - accuracy: 1.000 - ETA: 16s - loss: 0.0038 - accuracy: 1.000 - ETA: 16s - loss: 0.0036 - accuracy: 1.000 - ETA: 16s - loss: 0.0035 - accuracy: 1.000 - ETA: 16s - loss: 0.0033 - accuracy: 1.000 - ETA: 16s - loss: 0.0032 - accuracy: 1.000 - ETA: 16s - loss: 0.0031 - accuracy: 1.000 - ETA: 15s - loss: 0.0030 - accuracy: 1.000 - ETA: 15s - loss: 0.0038 - accuracy: 1.000 - ETA: 15s - loss: 0.0037 - accuracy: 1.000 - ETA: 15s - loss: 0.0036 - accuracy: 1.000 - ETA: 15s - loss: 0.0035 - accuracy: 1.000 - ETA: 15s - loss: 0.0048 - accuracy: 1.000 - ETA: 15s - loss: 0.0047 - accuracy: 1.000 - ETA: 15s - loss: 0.0046 - accuracy: 1.000 - ETA: 15s - loss: 0.0048 - accuracy: 1.000 - ETA: 15s - loss: 0.0047 - accuracy: 1.000 - ETA: 14s - loss: 0.0046 - accuracy: 1.000 - ETA: 14s - loss: 0.0045 - accuracy: 1.000 - ETA: 14s - loss: 0.0044 - accuracy: 1.000 - ETA: 14s - loss: 0.0044 - accuracy: 1.000 - ETA: 14s - loss: 0.0043 - accuracy: 1.000 - ETA: 14s - loss: 0.0042 - accuracy: 1.000 - ETA: 14s - loss: 0.0043 - accuracy: 1.000 - ETA: 14s - loss: 0.0043 - accuracy: 1.000 - ETA: 15s - loss: 0.0042 - accuracy: 1.000 - ETA: 15s - loss: 0.0043 - accuracy: 1.000 - ETA: 14s - loss: 0.0042 - accuracy: 1.000 - ETA: 14s - loss: 0.0041 - accuracy: 1.000 - ETA: 14s - loss: 0.0040 - accuracy: 1.000 - ETA: 14s - loss: 0.0040 - accuracy: 1.000 - ETA: 14s - loss: 0.0039 - accuracy: 1.000 - ETA: 14s - loss: 0.0039 - accuracy: 1.000 - ETA: 14s - loss: 0.0039 - accuracy: 1.000 - ETA: 14s - loss: 0.0038 - accuracy: 1.000 - ETA: 14s - loss: 0.0038 - accuracy: 1.000 - ETA: 14s - loss: 0.0037 - accuracy: 1.000 - ETA: 15s - loss: 0.0037 - accuracy: 1.000 - ETA: 15s - loss: 0.0037 - accuracy: 1.000 - ETA: 15s - loss: 0.0036 - accuracy: 1.000 - ETA: 15s - loss: 0.0037 - accuracy: 1.000 - ETA: 15s - loss: 0.0036 - accuracy: 1.000 - ETA: 15s - loss: 0.0036 - accuracy: 1.000 - ETA: 14s - loss: 0.0036 - accuracy: 1.000 - ETA: 14s - loss: 0.0035 - accuracy: 1.000 - ETA: 14s - loss: 0.0039 - accuracy: 1.000 - ETA: 14s - loss: 0.0039 - accuracy: 1.000 - ETA: 14s - loss: 0.0048 - accuracy: 1.000 - ETA: 14s - loss: 0.0048 - accuracy: 1.000 - ETA: 14s - loss: 0.0049 - accuracy: 1.000 - ETA: 14s - loss: 0.0048 - accuracy: 1.000 - ETA: 14s - loss: 0.0048 - accuracy: 1.000 - ETA: 14s - loss: 0.0047 - accuracy: 1.000 - ETA: 14s - loss: 0.0047 - accuracy: 1.000 - ETA: 14s - loss: 0.0046 - accuracy: 1.000 - ETA: 14s - loss: 0.0045 - accuracy: 1.000 - ETA: 14s - loss: 0.0044 - accuracy: 1.000 - ETA: 14s - loss: 0.0044 - accuracy: 1.000 - ETA: 14s - loss: 0.0044 - accuracy: 1.000 - ETA: 14s - loss: 0.0043 - accuracy: 1.000 - ETA: 14s - loss: 0.0043 - accuracy: 1.000 - ETA: 13s - loss: 0.0043 - accuracy: 1.000 - ETA: 13s - loss: 0.0042 - accuracy: 1.000 - ETA: 13s - loss: 0.0042 - accuracy: 1.000 - ETA: 13s - loss: 0.0042 - accuracy: 1.000 - ETA: 13s - loss: 0.0041 - accuracy: 1.000 - ETA: 13s - loss: 0.0041 - accuracy: 1.000 - ETA: 13s - loss: 0.0041 - accuracy: 1.000 - ETA: 13s - loss: 0.0041 - accuracy: 1.000 - ETA: 13s - loss: 0.0040 - accuracy: 1.000 - ETA: 13s - loss: 0.0040 - accuracy: 1.000 - ETA: 13s - loss: 0.0040 - accuracy: 1.000 - ETA: 13s - loss: 0.0040 - accuracy: 1.000 - ETA: 13s - loss: 0.0124 - accuracy: 0.998 - ETA: 13s - loss: 0.0123 - accuracy: 0.998 - ETA: 13s - loss: 0.0122 - accuracy: 0.998 - ETA: 13s - loss: 0.0121 - accuracy: 0.998 - ETA: 13s - loss: 0.0121 - accuracy: 0.998 - ETA: 13s - loss: 0.0137 - accuracy: 0.996 - ETA: 13s - loss: 0.0135 - accuracy: 0.996 - ETA: 13s - loss: 0.0133 - accuracy: 0.996 - ETA: 13s - loss: 0.0131 - accuracy: 0.996 - ETA: 13s - loss: 0.0130 - accuracy: 0.996 - ETA: 13s - loss: 0.0128 - accuracy: 0.996 - ETA: 12s - loss: 0.0133 - accuracy: 0.996 - ETA: 12s - loss: 0.0132 - accuracy: 0.997 - ETA: 12s - loss: 0.0279 - accuracy: 0.995 - ETA: 12s - loss: 0.0278 - accuracy: 0.995 - ETA: 12s - loss: 0.0276 - accuracy: 0.995 - ETA: 12s - loss: 0.0274 - accuracy: 0.995 - ETA: 12s - loss: 0.0273 - accuracy: 0.995 - ETA: 12s - loss: 0.0271 - accuracy: 0.995 - ETA: 12s - loss: 0.0271 - accuracy: 0.995 - ETA: 12s - loss: 0.0270 - accuracy: 0.995 - ETA: 12s - loss: 0.0267 - accuracy: 0.995 - ETA: 12s - loss: 0.0265 - accuracy: 0.995 - ETA: 12s - loss: 0.0264 - accuracy: 0.995 - ETA: 12s - loss: 0.0261 - accuracy: 0.995 - ETA: 12s - loss: 0.0279 - accuracy: 0.994 - ETA: 12s - loss: 0.0277 - accuracy: 0.994 - ETA: 12s - loss: 0.0276 - accuracy: 0.994 - ETA: 12s - loss: 0.0274 - accuracy: 0.994 - ETA: 12s - loss: 0.0273 - accuracy: 0.994 - ETA: 12s - loss: 0.0271 - accuracy: 0.994 - ETA: 12s - loss: 0.0270 - accuracy: 0.994 - ETA: 11s - loss: 0.0268 - accuracy: 0.994 - ETA: 11s - loss: 0.0267 - accuracy: 0.994 - ETA: 11s - loss: 0.0266 - accuracy: 0.994 - ETA: 11s - loss: 0.0264 - accuracy: 0.994 - ETA: 11s - loss: 0.0263 - accuracy: 0.994 - ETA: 11s - loss: 0.0266 - accuracy: 0.994 - ETA: 11s - loss: 0.0264 - accuracy: 0.994 - ETA: 11s - loss: 0.0263 - accuracy: 0.994 - ETA: 11s - loss: 0.0262 - accuracy: 0.995 - ETA: 11s - loss: 0.0260 - accuracy: 0.995 - ETA: 11s - loss: 0.0259 - accuracy: 0.995 - ETA: 11s - loss: 0.0258 - accuracy: 0.995 - ETA: 11s - loss: 0.0256 - accuracy: 0.995 - ETA: 11s - loss: 0.0255 - accuracy: 0.995 - ETA: 11s - loss: 0.0254 - accuracy: 0.995 - ETA: 11s - loss: 0.0251 - accuracy: 0.995 - ETA: 11s - loss: 0.0250 - accuracy: 0.995 - ETA: 11s - loss: 0.0249 - accuracy: 0.995 - ETA: 11s - loss: 0.0247 - accuracy: 0.995 - ETA: 11s - loss: 0.0244 - accuracy: 0.995 - ETA: 10s - loss: 0.0242 - accuracy: 0.995 - ETA: 10s - loss: 0.0241 - accuracy: 0.995 - ETA: 10s - loss: 0.0240 - accuracy: 0.995 - ETA: 10s - loss: 0.0239 - accuracy: 0.995 - ETA: 10s - loss: 0.0238 - accuracy: 0.995 - ETA: 10s - loss: 0.0237 - accuracy: 0.995 - ETA: 10s - loss: 0.0236 - accuracy: 0.995 - ETA: 10s - loss: 0.0235 - accuracy: 0.995 - ETA: 10s - loss: 0.0234 - accuracy: 0.995 - ETA: 10s - loss: 0.0233 - accuracy: 0.995 - ETA: 10s - loss: 0.0231 - accuracy: 0.995 - ETA: 10s - loss: 0.0229 - accuracy: 0.995 - ETA: 10s - loss: 0.0227 - accuracy: 0.995 - ETA: 10s - loss: 0.0225 - accuracy: 0.995 - ETA: 10s - loss: 0.0223 - accuracy: 0.995 - ETA: 9s - loss: 0.0221 - accuracy: 0.995 - ETA: 9s - loss: 0.0219 - accuracy: 0.99 - ETA: 9s - loss: 0.0219 - accuracy: 0.99 - ETA: 9s - loss: 0.0218 - accuracy: 0.99 - ETA: 9s - loss: 0.0217 - accuracy: 0.99 - ETA: 9s - loss: 0.0216 - accuracy: 0.99 - ETA: 9s - loss: 0.0239 - accuracy: 0.99 - ETA: 9s - loss: 0.0238 - accuracy: 0.99 - ETA: 9s - loss: 0.0236 - accuracy: 0.99 - ETA: 9s - loss: 0.0235 - accuracy: 0.99 - ETA: 9s - loss: 0.0234 - accuracy: 0.99 - ETA: 9s - loss: 0.0233 - accuracy: 0.99 - ETA: 9s - loss: 0.0232 - accuracy: 0.99 - ETA: 9s - loss: 0.0230 - accuracy: 0.99 - ETA: 8s - loss: 0.0228 - accuracy: 0.99 - ETA: 8s - loss: 0.0226 - accuracy: 0.99 - ETA: 8s - loss: 0.0225 - accuracy: 0.99 - ETA: 8s - loss: 0.0223 - accuracy: 0.99 - ETA: 8s - loss: 0.0221 - accuracy: 0.99 - ETA: 8s - loss: 0.0221 - accuracy: 0.99 - ETA: 8s - loss: 0.0220 - accuracy: 0.99 - ETA: 8s - loss: 0.0218 - accuracy: 0.9953"
     ]
    },
    {
     "name": "stdout",
     "output_type": "stream",
     "text": [
      "1770/1770 [==============================] - ETA: 8s - loss: 0.0228 - accuracy: 0.99 - ETA: 8s - loss: 0.0226 - accuracy: 0.99 - ETA: 8s - loss: 0.0225 - accuracy: 0.99 - ETA: 8s - loss: 0.0233 - accuracy: 0.99 - ETA: 7s - loss: 0.0232 - accuracy: 0.99 - ETA: 7s - loss: 0.0231 - accuracy: 0.99 - ETA: 7s - loss: 0.0230 - accuracy: 0.99 - ETA: 7s - loss: 0.0231 - accuracy: 0.99 - ETA: 7s - loss: 0.0230 - accuracy: 0.99 - ETA: 7s - loss: 0.0229 - accuracy: 0.99 - ETA: 7s - loss: 0.0237 - accuracy: 0.99 - ETA: 7s - loss: 0.0237 - accuracy: 0.99 - ETA: 7s - loss: 0.0236 - accuracy: 0.99 - ETA: 7s - loss: 0.0235 - accuracy: 0.99 - ETA: 7s - loss: 0.0234 - accuracy: 0.99 - ETA: 7s - loss: 0.0237 - accuracy: 0.99 - ETA: 7s - loss: 0.0235 - accuracy: 0.99 - ETA: 7s - loss: 0.0234 - accuracy: 0.99 - ETA: 6s - loss: 0.0232 - accuracy: 0.99 - ETA: 6s - loss: 0.0231 - accuracy: 0.99 - ETA: 6s - loss: 0.0233 - accuracy: 0.99 - ETA: 6s - loss: 0.0231 - accuracy: 0.99 - ETA: 6s - loss: 0.0249 - accuracy: 0.99 - ETA: 6s - loss: 0.0247 - accuracy: 0.99 - ETA: 6s - loss: 0.0246 - accuracy: 0.99 - ETA: 6s - loss: 0.0245 - accuracy: 0.99 - ETA: 6s - loss: 0.0243 - accuracy: 0.99 - ETA: 6s - loss: 0.0242 - accuracy: 0.99 - ETA: 5s - loss: 0.0240 - accuracy: 0.99 - ETA: 5s - loss: 0.0240 - accuracy: 0.99 - ETA: 5s - loss: 0.0239 - accuracy: 0.99 - ETA: 5s - loss: 0.0237 - accuracy: 0.99 - ETA: 5s - loss: 0.0236 - accuracy: 0.99 - ETA: 5s - loss: 0.0235 - accuracy: 0.99 - ETA: 5s - loss: 0.0234 - accuracy: 0.99 - ETA: 5s - loss: 0.0233 - accuracy: 0.99 - ETA: 5s - loss: 0.0231 - accuracy: 0.99 - ETA: 5s - loss: 0.0230 - accuracy: 0.99 - ETA: 4s - loss: 0.0229 - accuracy: 0.99 - ETA: 4s - loss: 0.0227 - accuracy: 0.99 - ETA: 4s - loss: 0.0226 - accuracy: 0.99 - ETA: 4s - loss: 0.0225 - accuracy: 0.99 - ETA: 4s - loss: 0.0224 - accuracy: 0.99 - ETA: 4s - loss: 0.0222 - accuracy: 0.99 - ETA: 4s - loss: 0.0221 - accuracy: 0.99 - ETA: 4s - loss: 0.0220 - accuracy: 0.99 - ETA: 4s - loss: 0.0219 - accuracy: 0.99 - ETA: 4s - loss: 0.0228 - accuracy: 0.99 - ETA: 4s - loss: 0.0227 - accuracy: 0.99 - ETA: 3s - loss: 0.0226 - accuracy: 0.99 - ETA: 3s - loss: 0.0225 - accuracy: 0.99 - ETA: 3s - loss: 0.0223 - accuracy: 0.99 - ETA: 3s - loss: 0.0222 - accuracy: 0.99 - ETA: 3s - loss: 0.0221 - accuracy: 0.99 - ETA: 3s - loss: 0.0220 - accuracy: 0.99 - ETA: 3s - loss: 0.0219 - accuracy: 0.99 - ETA: 3s - loss: 0.0217 - accuracy: 0.99 - ETA: 3s - loss: 0.0216 - accuracy: 0.99 - ETA: 3s - loss: 0.0215 - accuracy: 0.99 - ETA: 2s - loss: 0.0214 - accuracy: 0.99 - ETA: 2s - loss: 0.0213 - accuracy: 0.99 - ETA: 2s - loss: 0.0212 - accuracy: 0.99 - ETA: 2s - loss: 0.0211 - accuracy: 0.99 - ETA: 2s - loss: 0.0211 - accuracy: 0.99 - ETA: 2s - loss: 0.0210 - accuracy: 0.99 - ETA: 2s - loss: 0.0208 - accuracy: 0.99 - ETA: 2s - loss: 0.0207 - accuracy: 0.99 - ETA: 2s - loss: 0.0206 - accuracy: 0.99 - ETA: 2s - loss: 0.0236 - accuracy: 0.99 - ETA: 2s - loss: 0.0236 - accuracy: 0.99 - ETA: 2s - loss: 0.0235 - accuracy: 0.99 - ETA: 1s - loss: 0.0238 - accuracy: 0.99 - ETA: 1s - loss: 0.0237 - accuracy: 0.99 - ETA: 1s - loss: 0.0236 - accuracy: 0.99 - ETA: 1s - loss: 0.0235 - accuracy: 0.99 - ETA: 1s - loss: 0.0234 - accuracy: 0.99 - ETA: 1s - loss: 0.0234 - accuracy: 0.99 - ETA: 1s - loss: 0.0233 - accuracy: 0.99 - ETA: 1s - loss: 0.0232 - accuracy: 0.99 - ETA: 1s - loss: 0.0232 - accuracy: 0.99 - ETA: 1s - loss: 0.0231 - accuracy: 0.99 - ETA: 1s - loss: 0.0231 - accuracy: 0.99 - ETA: 1s - loss: 0.0230 - accuracy: 0.99 - ETA: 1s - loss: 0.0230 - accuracy: 0.99 - ETA: 1s - loss: 0.0229 - accuracy: 0.99 - ETA: 1s - loss: 0.0228 - accuracy: 0.99 - ETA: 1s - loss: 0.0228 - accuracy: 0.99 - ETA: 1s - loss: 0.0227 - accuracy: 0.99 - ETA: 1s - loss: 0.0227 - accuracy: 0.99 - ETA: 0s - loss: 0.0227 - accuracy: 0.99 - ETA: 0s - loss: 0.0226 - accuracy: 0.99 - ETA: 0s - loss: 0.0225 - accuracy: 0.99 - ETA: 0s - loss: 0.0225 - accuracy: 0.99 - ETA: 0s - loss: 0.0224 - accuracy: 0.99 - ETA: 0s - loss: 0.0224 - accuracy: 0.99 - ETA: 0s - loss: 0.0223 - accuracy: 0.99 - ETA: 0s - loss: 0.0223 - accuracy: 0.99 - ETA: 0s - loss: 0.0222 - accuracy: 0.99 - ETA: 0s - loss: 0.0222 - accuracy: 0.99 - ETA: 0s - loss: 0.0221 - accuracy: 0.99 - ETA: 0s - loss: 0.0221 - accuracy: 0.99 - ETA: 0s - loss: 0.0220 - accuracy: 0.99 - ETA: 0s - loss: 0.0220 - accuracy: 0.99 - ETA: 0s - loss: 0.0220 - accuracy: 0.99 - ETA: 0s - loss: 0.0219 - accuracy: 0.99 - ETA: 0s - loss: 0.0218 - accuracy: 0.99 - ETA: 0s - loss: 0.0219 - accuracy: 0.99 - ETA: 0s - loss: 0.0218 - accuracy: 0.99 - ETA: 0s - loss: 0.0218 - accuracy: 0.99 - 22s 13ms/step - loss: 0.0217 - accuracy: 0.9938 - val_loss: 0.1394 - val_accuracy: 0.9842\n",
      "Wall time: 6min 41s\n"
     ]
    }
   ],
   "source": [
    "%%time\n",
    "# training the model\n",
    "#model_training_history = model.fit( X_train, y_train, epochs=10, validation_data=(X_test, y_test), callbacks=[mcp_save], batch_size=128)\n",
    "\n",
    "# Adding Early Stopping Callback\n",
    "#early_stopping_callback = EarlyStopping(monitor = 'val_loss', patience = 15, mode = 'min', restore_best_weights = True)\n",
    "\n",
    "model_training_history = model.fit(x = X_train, y = y_train, epochs = 20, verbose = 1, batch_size = 4 , shuffle = True, validation_split = 0.2, callbacks=[mcp_save])"
   ]
  },
  {
   "cell_type": "markdown",
   "metadata": {},
   "source": [
    "\n",
    "### Evaluate trained model on the feature’s and label’s test sets."
   ]
  },
  {
   "cell_type": "code",
   "execution_count": 28,
   "metadata": {},
   "outputs": [
    {
     "name": "stdout",
     "output_type": "stream",
     "text": [
      "554/554 [==============================] - ETA:  - ETA:  - ETA:  - ETA:  - 0s 381us/step\n"
     ]
    }
   ],
   "source": [
    "model_evaluation_history = model.evaluate(X_test, y_test)\n"
   ]
  },
  {
   "cell_type": "code",
   "execution_count": 29,
   "metadata": {},
   "outputs": [],
   "source": [
    "def plot_metric(metric_name_1, metric_name_2, plot_name):\n",
    "  # Get Metric values using metric names as identifiers\n",
    "  metric_value_1 = model_training_history.history[metric_name_1]\n",
    "  metric_value_2 = model_training_history.history[metric_name_2]\n",
    "\n",
    "  # Constructing a range object which will be used as time \n",
    "  epochs = range(len(metric_value_1))\n",
    "  \n",
    "  # Plotting the Graph\n",
    "  plt.plot(epochs, metric_value_1, 'blue', label = metric_name_1)\n",
    "  plt.plot(epochs, metric_value_2, 'red', label = metric_name_2)\n",
    "  \n",
    "  # Adding title to the plot\n",
    "  plt.title(str(plot_name))\n",
    "\n",
    "  # Adding legend to the plot\n",
    "  plt.legend()"
   ]
  },
  {
   "cell_type": "code",
   "execution_count": 30,
   "metadata": {},
   "outputs": [
    {
     "data": {
      "image/png": "[encoded data removed]",
      "text/plain": [
       "<Figure size 432x288 with 1 Axes>"
      ]
     },
     "metadata": {
      "needs_background": "light"
     },
     "output_type": "display_data"
    }
   ],
   "source": [
    "plot_metric('loss', 'val_loss', 'Total Loss vs Total Validation Loss')"
   ]
  },
  {
   "cell_type": "code",
   "execution_count": 31,
   "metadata": {},
   "outputs": [
    {
     "data": {
      "image/png": "[encoded data removed]",
      "text/plain": [
       "<Figure size 432x288 with 1 Axes>"
      ]
     },
     "metadata": {
      "needs_background": "light"
     },
     "output_type": "display_data"
    }
   ],
   "source": [
    "plot_metric('accuracy', 'val_accuracy', 'Total Accuracy vs Total Validation Accuracy')"
   ]
  },
  {
   "cell_type": "code",
   "execution_count": null,
   "metadata": {},
   "outputs": [],
   "source": []
  },
  {
   "cell_type": "code",
   "execution_count": 32,
   "metadata": {},
   "outputs": [
    {
     "data": {
      "text/plain": [
       "'C:/1-GG/CAP4/EventDetection/1-ExampleSetting/OutputFiles'"
      ]
     },
     "execution_count": 32,
     "metadata": {},
     "output_type": "execute_result"
    }
   ],
   "source": [
    "### Save model in a folder \n",
    "RootFolder"
   ]
  },
  {
   "cell_type": "code",
   "execution_count": 33,
   "metadata": {},
   "outputs": [],
   "source": [
    "# Saving Model\n",
    "model_name = 'video combined_video-2vdo model_jj.h5'\n",
    "model.save(RootFolder+'/'+model_name)"
   ]
  },
  {
   "cell_type": "markdown",
   "metadata": {},
   "source": [
    "### How to load the model from disk"
   ]
  },
  {
   "cell_type": "code",
   "execution_count": 34,
   "metadata": {},
   "outputs": [
    {
     "data": {
      "text/plain": [
       "'C:/1-GG/CAP4/EventDetection/1-ExampleSetting/OutputFiles'"
      ]
     },
     "execution_count": 34,
     "metadata": {},
     "output_type": "execute_result"
    }
   ],
   "source": [
    "RootFolder"
   ]
  },
  {
   "cell_type": "code",
   "execution_count": 35,
   "metadata": {},
   "outputs": [],
   "source": [
    "model_name = 'video combined_video-2vdo model_jj.h5'\n",
    "\n"
   ]
  },
  {
   "cell_type": "code",
   "execution_count": 36,
   "metadata": {},
   "outputs": [],
   "source": [
    "from tensorflow import keras\n",
    "\n",
    "model = keras.models.load_model(RootFolder+'/'+model_name)\n"
   ]
  },
  {
   "cell_type": "markdown",
   "metadata": {},
   "source": [
    "#### Here"
   ]
  },
  {
   "cell_type": "code",
   "execution_count": null,
   "metadata": {},
   "outputs": [],
   "source": []
  },
  {
   "cell_type": "code",
   "execution_count": null,
   "metadata": {},
   "outputs": [],
   "source": []
  },
  {
   "cell_type": "code",
   "execution_count": null,
   "metadata": {},
   "outputs": [],
   "source": []
  },
  {
   "cell_type": "code",
   "execution_count": null,
   "metadata": {},
   "outputs": [],
   "source": []
  },
  {
   "cell_type": "markdown",
   "metadata": {},
   "source": [
    "### Evaluating our Video Classification Model\n"
   ]
  },
  {
   "cell_type": "code",
   "execution_count": 37,
   "metadata": {},
   "outputs": [],
   "source": [
    "from keras.models import Sequential\n",
    "from keras.layers import Dense, Dropout, Flatten\n",
    "from keras.layers import Conv2D, MaxPooling2D\n",
    "from keras.preprocessing import image\n",
    "import numpy as np\n",
    "import pandas as pd\n",
    "from tqdm import tqdm\n",
    "from keras.applications.vgg16 import VGG16\n",
    "import cv2\n",
    "import math\n",
    "import os\n",
    "from glob import glob\n",
    "from scipy import stats as s\n",
    "\n",
    "from moviepy.editor import *   ###VideoFileClip\n",
    "\n",
    "\n",
    "## pafy, youtube-dl and moviepy packages to be installed\n",
    "##pip install pafy youtube-dl moviepy\n",
    "\n",
    "## Install open cv - make sure numpy already installed\n",
    "#pip install opencv-python\n",
    "#import pafy"
   ]
  },
  {
   "cell_type": "code",
   "execution_count": 38,
   "metadata": {},
   "outputs": [
    {
     "data": {
      "text/plain": [
       "(319, 3)"
      ]
     },
     "execution_count": 38,
     "metadata": {},
     "output_type": "execute_result"
    }
   ],
   "source": [
    "# read testFrames csv\n",
    "testFrames  = pd.read_csv(RootFolder+\"/testFrames.csv\")\n",
    "testFrames.shape"
   ]
  },
  {
   "cell_type": "code",
   "execution_count": 39,
   "metadata": {},
   "outputs": [
    {
     "data": {
      "text/html": [
       "<div>\n",
       "<style scoped>\n",
       "    .dataframe tbody tr th:only-of-type {\n",
       "        vertical-align: middle;\n",
       "    }\n",
       "\n",
       "    .dataframe tbody tr th {\n",
       "        vertical-align: top;\n",
       "    }\n",
       "\n",
       "    .dataframe thead th {\n",
       "        text-align: right;\n",
       "    }\n",
       "</style>\n",
       "<table border=\"1\" class=\"dataframe\">\n",
       "  <thead>\n",
       "    <tr style=\"text-align: right;\">\n",
       "      <th></th>\n",
       "      <th>FrameFilename</th>\n",
       "      <th>FullPathName</th>\n",
       "      <th>class</th>\n",
       "    </tr>\n",
       "  </thead>\n",
       "  <tbody>\n",
       "    <tr>\n",
       "      <th>0</th>\n",
       "      <td>v_Basketball_g01_c01.avi</td>\n",
       "      <td>C:/1-GG/CAP4/EventDetection/1-ExampleSetting\\V...</td>\n",
       "      <td>Basketball</td>\n",
       "    </tr>\n",
       "    <tr>\n",
       "      <th>1</th>\n",
       "      <td>v_Basketball_g01_c01.avi</td>\n",
       "      <td>C:/1-GG/CAP4/EventDetection/1-ExampleSetting\\V...</td>\n",
       "      <td>Basketball</td>\n",
       "    </tr>\n",
       "    <tr>\n",
       "      <th>2</th>\n",
       "      <td>v_Basketball_g01_c01.avi</td>\n",
       "      <td>C:/1-GG/CAP4/EventDetection/1-ExampleSetting\\V...</td>\n",
       "      <td>Basketball</td>\n",
       "    </tr>\n",
       "    <tr>\n",
       "      <th>3</th>\n",
       "      <td>v_Basketball_g01_c01.avi</td>\n",
       "      <td>C:/1-GG/CAP4/EventDetection/1-ExampleSetting\\V...</td>\n",
       "      <td>Basketball</td>\n",
       "    </tr>\n",
       "    <tr>\n",
       "      <th>4</th>\n",
       "      <td>v_Basketball_g01_c01.avi</td>\n",
       "      <td>C:/1-GG/CAP4/EventDetection/1-ExampleSetting\\V...</td>\n",
       "      <td>Basketball</td>\n",
       "    </tr>\n",
       "  </tbody>\n",
       "</table>\n",
       "</div>"
      ],
      "text/plain": [
       "              FrameFilename  \\\n",
       "0  v_Basketball_g01_c01.avi   \n",
       "1  v_Basketball_g01_c01.avi   \n",
       "2  v_Basketball_g01_c01.avi   \n",
       "3  v_Basketball_g01_c01.avi   \n",
       "4  v_Basketball_g01_c01.avi   \n",
       "\n",
       "                                        FullPathName       class  \n",
       "0  C:/1-GG/CAP4/EventDetection/1-ExampleSetting\\V...  Basketball  \n",
       "1  C:/1-GG/CAP4/EventDetection/1-ExampleSetting\\V...  Basketball  \n",
       "2  C:/1-GG/CAP4/EventDetection/1-ExampleSetting\\V...  Basketball  \n",
       "3  C:/1-GG/CAP4/EventDetection/1-ExampleSetting\\V...  Basketball  \n",
       "4  C:/1-GG/CAP4/EventDetection/1-ExampleSetting\\V...  Basketball  "
      ]
     },
     "execution_count": 39,
     "metadata": {},
     "output_type": "execute_result"
    }
   ],
   "source": [
    "testFrames.head()"
   ]
  },
  {
   "cell_type": "code",
   "execution_count": 40,
   "metadata": {},
   "outputs": [
    {
     "name": "stdout",
     "output_type": "stream",
     "text": [
      "['v_Basketball_g01_c01.avi', 'v_Basketball_g01_c01.avi', 'v_Basketball_g01_c01.avi', 'v_Basketball_g01_c01.avi', 'v_Basketball_g01_c01.avi', 'v_Basketball_g01_c02.avi', 'v_Basketball_g01_c02.avi', 'v_Basketball_g01_c02.avi', 'v_Basketball_g01_c02.avi', 'v_Basketball_g01_c02.avi', 'v_Basketball_g01_c02.avi', 'v_Basketball_g01_c02.avi', 'v_Basketball_g01_c03.avi', 'v_Basketball_g01_c03.avi', 'v_Basketball_g01_c03.avi', 'v_Basketball_g01_c03.avi', 'v_Basketball_g01_c03.avi', 'v_Basketball_g01_c03.avi', 'v_Basketball_g01_c03.avi', 'v_Basketball_g01_c03.avi', 'v_Basketball_g01_c04.avi', 'v_Basketball_g01_c04.avi', 'v_Basketball_g01_c04.avi', 'v_Basketball_g01_c04.avi', 'v_Basketball_g01_c05.avi', 'v_Basketball_g01_c05.avi', 'v_Basketball_g01_c05.avi', 'v_Basketball_g01_c05.avi', 'v_Basketball_g01_c05.avi', 'v_Basketball_g01_c06.avi', 'v_Basketball_g01_c06.avi', 'v_Basketball_g01_c06.avi', 'v_Basketball_g01_c06.avi', 'v_Basketball_g01_c06.avi', 'v_Basketball_g01_c06.avi', 'v_Basketball_g01_c07.avi', 'v_Basketball_g01_c07.avi', 'v_Basketball_g01_c07.avi', 'v_Basketball_g01_c07.avi', 'v_Basketball_g02_c01.avi', 'v_Basketball_g02_c01.avi', 'v_Basketball_g02_c02.avi', 'v_Basketball_g02_c02.avi', 'v_Basketball_g02_c03.avi', 'v_Basketball_g02_c03.avi', 'v_Basketball_g02_c03.avi', 'v_Basketball_g02_c03.avi', 'v_Basketball_g02_c04.avi', 'v_Basketball_g02_c04.avi', 'v_Basketball_g02_c04.avi', 'v_Basketball_g02_c05.avi', 'v_Basketball_g02_c05.avi', 'v_Basketball_g02_c05.avi', 'v_Basketball_g02_c05.avi', 'v_Basketball_g02_c05.avi', 'v_Basketball_g02_c06.avi', 'v_Basketball_g02_c06.avi', 'v_Basketball_g02_c06.avi', 'v_Basketball_g02_c06.avi', 'v_Basketball_g02_c06.avi', 'v_Basketball_g03_c01.avi', 'v_Basketball_g03_c01.avi', 'v_Basketball_g03_c01.avi', 'v_Basketball_g03_c01.avi', 'v_Basketball_g03_c01.avi', 'v_Basketball_g03_c02.avi', 'v_Basketball_g03_c02.avi', 'v_Basketball_g03_c02.avi', 'v_Basketball_g03_c02.avi', 'v_Basketball_g03_c02.avi', 'v_Basketball_g03_c03.avi', 'v_Basketball_g03_c03.avi', 'v_Basketball_g03_c03.avi', 'v_Basketball_g03_c03.avi', 'v_Basketball_g03_c03.avi', 'v_Basketball_g03_c04.avi', 'v_Basketball_g03_c04.avi', 'v_Basketball_g03_c04.avi', 'v_Basketball_g03_c05.avi', 'v_Basketball_g03_c05.avi', 'v_Basketball_g03_c05.avi', 'v_Basketball_g03_c05.avi', 'v_Basketball_g03_c05.avi', 'v_Basketball_g03_c06.avi', 'v_Basketball_g03_c06.avi', 'v_Basketball_g03_c06.avi', 'v_Basketball_g04_c01.avi', 'v_Basketball_g04_c01.avi', 'v_Basketball_g04_c01.avi', 'v_Basketball_g04_c01.avi', 'v_Basketball_g04_c02.avi', 'v_Basketball_g04_c02.avi', 'v_Basketball_g04_c02.avi', 'v_Basketball_g04_c02.avi', 'v_Basketball_g04_c03.avi', 'v_Basketball_g04_c03.avi', 'v_Basketball_g04_c03.avi', 'v_Basketball_g04_c03.avi', 'v_Basketball_g04_c04.avi', 'v_Basketball_g04_c04.avi', 'v_Basketball_g04_c04.avi', 'v_Basketball_g05_c01.avi', 'v_Basketball_g05_c01.avi', 'v_Basketball_g05_c01.avi', 'v_Basketball_g05_c01.avi', 'v_Basketball_g05_c01.avi', 'v_Basketball_g05_c02.avi', 'v_Basketball_g05_c02.avi', 'v_Basketball_g05_c02.avi', 'v_Basketball_g05_c02.avi', 'v_Basketball_g05_c03.avi', 'v_Basketball_g05_c03.avi', 'v_Basketball_g05_c03.avi', 'v_Basketball_g05_c03.avi', 'v_Basketball_g05_c04.avi', 'v_Basketball_g05_c04.avi', 'v_Basketball_g05_c04.avi', 'v_Basketball_g06_c01.avi', 'v_Basketball_g06_c01.avi', 'v_Basketball_g06_c01.avi', 'v_Basketball_g06_c02.avi', 'v_Basketball_g06_c02.avi', 'v_Basketball_g06_c02.avi', 'v_Basketball_g06_c02.avi', 'v_Basketball_g06_c03.avi', 'v_Basketball_g06_c03.avi', 'v_Basketball_g06_c03.avi', 'v_Basketball_g06_c03.avi', 'v_Basketball_g06_c04.avi', 'v_Basketball_g06_c04.avi', 'v_Basketball_g06_c04.avi', 'v_Basketball_g07_c01.avi', 'v_Basketball_g07_c01.avi', 'v_Basketball_g07_c01.avi', 'v_Basketball_g07_c01.avi', 'v_Basketball_g07_c01.avi', 'v_Basketball_g07_c02.avi', 'v_Basketball_g07_c02.avi', 'v_Basketball_g07_c02.avi', 'v_Basketball_g07_c02.avi', 'v_Basketball_g07_c03.avi', 'v_Basketball_g07_c03.avi', 'v_Basketball_g07_c03.avi', 'v_Basketball_g07_c03.avi', 'v_Basketball_g07_c03.avi', 'v_Basketball_g07_c03.avi', 'v_Basketball_g07_c04.avi', 'v_Basketball_g07_c04.avi', 'v_Basketball_g07_c04.avi', 'v_Basketball_g07_c04.avi', 'v_SoccerPenalty_g01_c01.avi', 'v_SoccerPenalty_g01_c01.avi', 'v_SoccerPenalty_g01_c01.avi', 'v_SoccerPenalty_g01_c01.avi', 'v_SoccerPenalty_g01_c01.avi', 'v_SoccerPenalty_g01_c01.avi', 'v_SoccerPenalty_g01_c01.avi', 'v_SoccerPenalty_g01_c02.avi', 'v_SoccerPenalty_g01_c02.avi', 'v_SoccerPenalty_g01_c02.avi', 'v_SoccerPenalty_g01_c02.avi', 'v_SoccerPenalty_g01_c02.avi', 'v_SoccerPenalty_g01_c02.avi', 'v_SoccerPenalty_g01_c03.avi', 'v_SoccerPenalty_g01_c03.avi', 'v_SoccerPenalty_g01_c03.avi', 'v_SoccerPenalty_g01_c03.avi', 'v_SoccerPenalty_g01_c03.avi', 'v_SoccerPenalty_g01_c03.avi', 'v_SoccerPenalty_g01_c04.avi', 'v_SoccerPenalty_g01_c04.avi', 'v_SoccerPenalty_g01_c04.avi', 'v_SoccerPenalty_g01_c04.avi', 'v_SoccerPenalty_g01_c04.avi', 'v_SoccerPenalty_g01_c04.avi', 'v_SoccerPenalty_g01_c05.avi', 'v_SoccerPenalty_g01_c05.avi', 'v_SoccerPenalty_g01_c05.avi', 'v_SoccerPenalty_g01_c05.avi', 'v_SoccerPenalty_g01_c05.avi', 'v_SoccerPenalty_g01_c06.avi', 'v_SoccerPenalty_g01_c06.avi', 'v_SoccerPenalty_g01_c06.avi', 'v_SoccerPenalty_g01_c06.avi', 'v_SoccerPenalty_g02_c01.avi', 'v_SoccerPenalty_g02_c01.avi', 'v_SoccerPenalty_g02_c01.avi', 'v_SoccerPenalty_g02_c01.avi', 'v_SoccerPenalty_g02_c01.avi', 'v_SoccerPenalty_g02_c02.avi', 'v_SoccerPenalty_g02_c02.avi', 'v_SoccerPenalty_g02_c02.avi', 'v_SoccerPenalty_g02_c02.avi', 'v_SoccerPenalty_g02_c03.avi', 'v_SoccerPenalty_g02_c03.avi', 'v_SoccerPenalty_g02_c03.avi', 'v_SoccerPenalty_g02_c03.avi', 'v_SoccerPenalty_g02_c04.avi', 'v_SoccerPenalty_g02_c04.avi', 'v_SoccerPenalty_g02_c04.avi', 'v_SoccerPenalty_g02_c04.avi', 'v_SoccerPenalty_g02_c04.avi', 'v_SoccerPenalty_g02_c05.avi', 'v_SoccerPenalty_g02_c05.avi', 'v_SoccerPenalty_g02_c05.avi', 'v_SoccerPenalty_g02_c05.avi', 'v_SoccerPenalty_g03_c01.avi', 'v_SoccerPenalty_g03_c01.avi', 'v_SoccerPenalty_g03_c01.avi', 'v_SoccerPenalty_g03_c01.avi', 'v_SoccerPenalty_g03_c02.avi', 'v_SoccerPenalty_g03_c02.avi', 'v_SoccerPenalty_g03_c02.avi', 'v_SoccerPenalty_g03_c02.avi', 'v_SoccerPenalty_g03_c03.avi', 'v_SoccerPenalty_g03_c03.avi', 'v_SoccerPenalty_g03_c03.avi', 'v_SoccerPenalty_g03_c03.avi', 'v_SoccerPenalty_g03_c03.avi', 'v_SoccerPenalty_g03_c03.avi', 'v_SoccerPenalty_g03_c04.avi', 'v_SoccerPenalty_g03_c04.avi', 'v_SoccerPenalty_g03_c04.avi', 'v_SoccerPenalty_g03_c04.avi', 'v_SoccerPenalty_g03_c05.avi', 'v_SoccerPenalty_g03_c05.avi', 'v_SoccerPenalty_g03_c05.avi', 'v_SoccerPenalty_g04_c01.avi', 'v_SoccerPenalty_g04_c01.avi', 'v_SoccerPenalty_g04_c01.avi', 'v_SoccerPenalty_g04_c02.avi', 'v_SoccerPenalty_g04_c02.avi', 'v_SoccerPenalty_g04_c02.avi', 'v_SoccerPenalty_g04_c03.avi', 'v_SoccerPenalty_g04_c03.avi', 'v_SoccerPenalty_g04_c03.avi', 'v_SoccerPenalty_g04_c04.avi', 'v_SoccerPenalty_g04_c04.avi', 'v_SoccerPenalty_g04_c04.avi', 'v_SoccerPenalty_g04_c04.avi', 'v_SoccerPenalty_g04_c05.avi', 'v_SoccerPenalty_g04_c05.avi', 'v_SoccerPenalty_g04_c05.avi', 'v_SoccerPenalty_g04_c05.avi', 'v_SoccerPenalty_g04_c05.avi', 'v_SoccerPenalty_g05_c01.avi', 'v_SoccerPenalty_g05_c01.avi', 'v_SoccerPenalty_g05_c01.avi', 'v_SoccerPenalty_g05_c01.avi', 'v_SoccerPenalty_g05_c02.avi', 'v_SoccerPenalty_g05_c02.avi', 'v_SoccerPenalty_g05_c02.avi', 'v_SoccerPenalty_g05_c02.avi', 'v_SoccerPenalty_g05_c03.avi', 'v_SoccerPenalty_g05_c03.avi', 'v_SoccerPenalty_g05_c03.avi', 'v_SoccerPenalty_g05_c03.avi', 'v_SoccerPenalty_g05_c04.avi', 'v_SoccerPenalty_g05_c04.avi', 'v_SoccerPenalty_g05_c04.avi', 'v_SoccerPenalty_g05_c04.avi', 'v_SoccerPenalty_g05_c05.avi', 'v_SoccerPenalty_g05_c05.avi', 'v_SoccerPenalty_g05_c05.avi', 'v_SoccerPenalty_g05_c05.avi', 'v_SoccerPenalty_g05_c06.avi', 'v_SoccerPenalty_g05_c06.avi', 'v_SoccerPenalty_g05_c06.avi', 'v_SoccerPenalty_g05_c07.avi', 'v_SoccerPenalty_g05_c07.avi', 'v_SoccerPenalty_g05_c07.avi', 'v_SoccerPenalty_g05_c07.avi', 'v_SoccerPenalty_g05_c07.avi', 'v_SoccerPenalty_g05_c07.avi', 'v_SoccerPenalty_g06_c01.avi', 'v_SoccerPenalty_g06_c01.avi', 'v_SoccerPenalty_g06_c01.avi', 'v_SoccerPenalty_g06_c01.avi', 'v_SoccerPenalty_g06_c01.avi', 'v_SoccerPenalty_g06_c02.avi', 'v_SoccerPenalty_g06_c02.avi', 'v_SoccerPenalty_g06_c03.avi', 'v_SoccerPenalty_g06_c03.avi', 'v_SoccerPenalty_g06_c03.avi', 'v_SoccerPenalty_g06_c04.avi', 'v_SoccerPenalty_g06_c04.avi', 'v_SoccerPenalty_g06_c04.avi', 'v_SoccerPenalty_g06_c05.avi', 'v_SoccerPenalty_g06_c05.avi', 'v_SoccerPenalty_g06_c05.avi', 'v_SoccerPenalty_g06_c06.avi', 'v_SoccerPenalty_g06_c06.avi', 'v_SoccerPenalty_g06_c06.avi', 'v_SoccerPenalty_g06_c06.avi', 'v_SoccerPenalty_g06_c07.avi', 'v_SoccerPenalty_g06_c07.avi', 'v_SoccerPenalty_g06_c07.avi', 'v_SoccerPenalty_g07_c01.avi', 'v_SoccerPenalty_g07_c01.avi', 'v_SoccerPenalty_g07_c01.avi', 'v_SoccerPenalty_g07_c02.avi', 'v_SoccerPenalty_g07_c02.avi', 'v_SoccerPenalty_g07_c02.avi', 'v_SoccerPenalty_g07_c02.avi', 'v_SoccerPenalty_g07_c02.avi', 'v_SoccerPenalty_g07_c02.avi', 'v_SoccerPenalty_g07_c03.avi', 'v_SoccerPenalty_g07_c03.avi', 'v_SoccerPenalty_g07_c03.avi', 'v_SoccerPenalty_g07_c04.avi', 'v_SoccerPenalty_g07_c04.avi', 'v_SoccerPenalty_g07_c04.avi', 'v_SoccerPenalty_g07_c05.avi', 'v_SoccerPenalty_g07_c05.avi', 'v_SoccerPenalty_g07_c05.avi', 'v_SoccerPenalty_g07_c06.avi', 'v_SoccerPenalty_g07_c06.avi', 'v_SoccerPenalty_g07_c06.avi', 'v_SoccerPenalty_g07_c06.avi']"
     ]
    },
    {
     "name": "stdout",
     "output_type": "stream",
     "text": [
      "\n"
     ]
    }
   ],
   "source": [
    "# Extract each vdo from testFrames \n",
    "testSetVDOlist = testFrames[\"FrameFilename\"].tolist()\n",
    "print(testSetVDOlist)"
   ]
  },
  {
   "cell_type": "code",
   "execution_count": 41,
   "metadata": {},
   "outputs": [
    {
     "name": "stdout",
     "output_type": "stream",
     "text": [
      "319\n",
      "76\n"
     ]
    }
   ],
   "source": [
    "print(len(testSetVDOlist))\n",
    "\n",
    "# Remove Duplicates From vdo list - as a vdo file has many frame images\n",
    "testSetVDOlist = list(dict.fromkeys(testSetVDOlist))\n",
    "print(len(testSetVDOlist))\n",
    " "
   ]
  },
  {
   "cell_type": "code",
   "execution_count": 42,
   "metadata": {},
   "outputs": [
    {
     "data": {
      "text/plain": [
       "['v_Basketball_g01_c01.avi',\n",
       " 'v_Basketball_g01_c02.avi',\n",
       " 'v_Basketball_g01_c03.avi',\n",
       " 'v_Basketball_g01_c04.avi',\n",
       " 'v_Basketball_g01_c05.avi',\n",
       " 'v_Basketball_g01_c06.avi',\n",
       " 'v_Basketball_g01_c07.avi',\n",
       " 'v_Basketball_g02_c01.avi',\n",
       " 'v_Basketball_g02_c02.avi',\n",
       " 'v_Basketball_g02_c03.avi',\n",
       " 'v_Basketball_g02_c04.avi',\n",
       " 'v_Basketball_g02_c05.avi',\n",
       " 'v_Basketball_g02_c06.avi',\n",
       " 'v_Basketball_g03_c01.avi',\n",
       " 'v_Basketball_g03_c02.avi',\n",
       " 'v_Basketball_g03_c03.avi',\n",
       " 'v_Basketball_g03_c04.avi',\n",
       " 'v_Basketball_g03_c05.avi',\n",
       " 'v_Basketball_g03_c06.avi',\n",
       " 'v_Basketball_g04_c01.avi',\n",
       " 'v_Basketball_g04_c02.avi',\n",
       " 'v_Basketball_g04_c03.avi',\n",
       " 'v_Basketball_g04_c04.avi',\n",
       " 'v_Basketball_g05_c01.avi',\n",
       " 'v_Basketball_g05_c02.avi',\n",
       " 'v_Basketball_g05_c03.avi',\n",
       " 'v_Basketball_g05_c04.avi',\n",
       " 'v_Basketball_g06_c01.avi',\n",
       " 'v_Basketball_g06_c02.avi',\n",
       " 'v_Basketball_g06_c03.avi',\n",
       " 'v_Basketball_g06_c04.avi',\n",
       " 'v_Basketball_g07_c01.avi',\n",
       " 'v_Basketball_g07_c02.avi',\n",
       " 'v_Basketball_g07_c03.avi',\n",
       " 'v_Basketball_g07_c04.avi',\n",
       " 'v_SoccerPenalty_g01_c01.avi',\n",
       " 'v_SoccerPenalty_g01_c02.avi',\n",
       " 'v_SoccerPenalty_g01_c03.avi',\n",
       " 'v_SoccerPenalty_g01_c04.avi',\n",
       " 'v_SoccerPenalty_g01_c05.avi',\n",
       " 'v_SoccerPenalty_g01_c06.avi',\n",
       " 'v_SoccerPenalty_g02_c01.avi',\n",
       " 'v_SoccerPenalty_g02_c02.avi',\n",
       " 'v_SoccerPenalty_g02_c03.avi',\n",
       " 'v_SoccerPenalty_g02_c04.avi',\n",
       " 'v_SoccerPenalty_g02_c05.avi',\n",
       " 'v_SoccerPenalty_g03_c01.avi',\n",
       " 'v_SoccerPenalty_g03_c02.avi',\n",
       " 'v_SoccerPenalty_g03_c03.avi',\n",
       " 'v_SoccerPenalty_g03_c04.avi',\n",
       " 'v_SoccerPenalty_g03_c05.avi',\n",
       " 'v_SoccerPenalty_g04_c01.avi',\n",
       " 'v_SoccerPenalty_g04_c02.avi',\n",
       " 'v_SoccerPenalty_g04_c03.avi',\n",
       " 'v_SoccerPenalty_g04_c04.avi',\n",
       " 'v_SoccerPenalty_g04_c05.avi',\n",
       " 'v_SoccerPenalty_g05_c01.avi',\n",
       " 'v_SoccerPenalty_g05_c02.avi',\n",
       " 'v_SoccerPenalty_g05_c03.avi',\n",
       " 'v_SoccerPenalty_g05_c04.avi',\n",
       " 'v_SoccerPenalty_g05_c05.avi',\n",
       " 'v_SoccerPenalty_g05_c06.avi',\n",
       " 'v_SoccerPenalty_g05_c07.avi',\n",
       " 'v_SoccerPenalty_g06_c01.avi',\n",
       " 'v_SoccerPenalty_g06_c02.avi',\n",
       " 'v_SoccerPenalty_g06_c03.avi',\n",
       " 'v_SoccerPenalty_g06_c04.avi',\n",
       " 'v_SoccerPenalty_g06_c05.avi',\n",
       " 'v_SoccerPenalty_g06_c06.avi',\n",
       " 'v_SoccerPenalty_g06_c07.avi',\n",
       " 'v_SoccerPenalty_g07_c01.avi',\n",
       " 'v_SoccerPenalty_g07_c02.avi',\n",
       " 'v_SoccerPenalty_g07_c03.avi',\n",
       " 'v_SoccerPenalty_g07_c04.avi',\n",
       " 'v_SoccerPenalty_g07_c05.avi',\n",
       " 'v_SoccerPenalty_g07_c06.avi']"
      ]
     },
     "execution_count": 42,
     "metadata": {},
     "output_type": "execute_result"
    }
   ],
   "source": [
    "testSetVDOlist"
   ]
  },
  {
   "cell_type": "code",
   "execution_count": 43,
   "metadata": {},
   "outputs": [],
   "source": [
    "# separating the target\n",
    "# To map the predicted categories with the actual categories, we will use train frame class:\n",
    "y = trainFrames['class']\n",
    "y = pd.get_dummies(y)"
   ]
  },
  {
   "cell_type": "code",
   "execution_count": 44,
   "metadata": {},
   "outputs": [
    {
     "data": {
      "text/html": [
       "<div>\n",
       "<style scoped>\n",
       "    .dataframe tbody tr th:only-of-type {\n",
       "        vertical-align: middle;\n",
       "    }\n",
       "\n",
       "    .dataframe tbody tr th {\n",
       "        vertical-align: top;\n",
       "    }\n",
       "\n",
       "    .dataframe thead th {\n",
       "        text-align: right;\n",
       "    }\n",
       "</style>\n",
       "<table border=\"1\" class=\"dataframe\">\n",
       "  <thead>\n",
       "    <tr style=\"text-align: right;\">\n",
       "      <th></th>\n",
       "      <th>Basketball</th>\n",
       "      <th>SoccerPenalty</th>\n",
       "    </tr>\n",
       "  </thead>\n",
       "  <tbody>\n",
       "    <tr>\n",
       "      <th>0</th>\n",
       "      <td>1</td>\n",
       "      <td>0</td>\n",
       "    </tr>\n",
       "    <tr>\n",
       "      <th>1</th>\n",
       "      <td>1</td>\n",
       "      <td>0</td>\n",
       "    </tr>\n",
       "    <tr>\n",
       "      <th>2</th>\n",
       "      <td>1</td>\n",
       "      <td>0</td>\n",
       "    </tr>\n",
       "    <tr>\n",
       "      <th>3</th>\n",
       "      <td>1</td>\n",
       "      <td>0</td>\n",
       "    </tr>\n",
       "    <tr>\n",
       "      <th>4</th>\n",
       "      <td>1</td>\n",
       "      <td>0</td>\n",
       "    </tr>\n",
       "    <tr>\n",
       "      <th>...</th>\n",
       "      <td>...</td>\n",
       "      <td>...</td>\n",
       "    </tr>\n",
       "    <tr>\n",
       "      <th>2762</th>\n",
       "      <td>0</td>\n",
       "      <td>1</td>\n",
       "    </tr>\n",
       "    <tr>\n",
       "      <th>2763</th>\n",
       "      <td>0</td>\n",
       "      <td>1</td>\n",
       "    </tr>\n",
       "    <tr>\n",
       "      <th>2764</th>\n",
       "      <td>0</td>\n",
       "      <td>1</td>\n",
       "    </tr>\n",
       "    <tr>\n",
       "      <th>2765</th>\n",
       "      <td>0</td>\n",
       "      <td>1</td>\n",
       "    </tr>\n",
       "    <tr>\n",
       "      <th>2766</th>\n",
       "      <td>0</td>\n",
       "      <td>1</td>\n",
       "    </tr>\n",
       "  </tbody>\n",
       "</table>\n",
       "<p>2767 rows × 2 columns</p>\n",
       "</div>"
      ],
      "text/plain": [
       "      Basketball  SoccerPenalty\n",
       "0              1              0\n",
       "1              1              0\n",
       "2              1              0\n",
       "3              1              0\n",
       "4              1              0\n",
       "...          ...            ...\n",
       "2762           0              1\n",
       "2763           0              1\n",
       "2764           0              1\n",
       "2765           0              1\n",
       "2766           0              1\n",
       "\n",
       "[2767 rows x 2 columns]"
      ]
     },
     "execution_count": 44,
     "metadata": {},
     "output_type": "execute_result"
    }
   ],
   "source": [
    "y"
   ]
  },
  {
   "cell_type": "code",
   "execution_count": null,
   "metadata": {},
   "outputs": [],
   "source": []
  },
  {
   "cell_type": "markdown",
   "metadata": {},
   "source": [
    "### Example"
   ]
  },
  {
   "cell_type": "code",
   "execution_count": 45,
   "metadata": {},
   "outputs": [
    {
     "data": {
      "text/plain": [
       "'v_Basketball_g01_c02.avi'"
      ]
     },
     "execution_count": 45,
     "metadata": {},
     "output_type": "execute_result"
    }
   ],
   "source": [
    "testSetVDOlist[1]"
   ]
  },
  {
   "cell_type": "code",
   "execution_count": 46,
   "metadata": {},
   "outputs": [
    {
     "data": {
      "text/html": [
       "<div>\n",
       "<style scoped>\n",
       "    .dataframe tbody tr th:only-of-type {\n",
       "        vertical-align: middle;\n",
       "    }\n",
       "\n",
       "    .dataframe tbody tr th {\n",
       "        vertical-align: top;\n",
       "    }\n",
       "\n",
       "    .dataframe thead th {\n",
       "        text-align: right;\n",
       "    }\n",
       "</style>\n",
       "<table border=\"1\" class=\"dataframe\">\n",
       "  <thead>\n",
       "    <tr style=\"text-align: right;\">\n",
       "      <th></th>\n",
       "      <th>FrameFilename</th>\n",
       "      <th>FullPathName</th>\n",
       "      <th>class</th>\n",
       "    </tr>\n",
       "  </thead>\n",
       "  <tbody>\n",
       "    <tr>\n",
       "      <th>5</th>\n",
       "      <td>v_Basketball_g01_c02.avi</td>\n",
       "      <td>C:/1-GG/CAP4/EventDetection/1-ExampleSetting\\V...</td>\n",
       "      <td>Basketball</td>\n",
       "    </tr>\n",
       "    <tr>\n",
       "      <th>6</th>\n",
       "      <td>v_Basketball_g01_c02.avi</td>\n",
       "      <td>C:/1-GG/CAP4/EventDetection/1-ExampleSetting\\V...</td>\n",
       "      <td>Basketball</td>\n",
       "    </tr>\n",
       "    <tr>\n",
       "      <th>7</th>\n",
       "      <td>v_Basketball_g01_c02.avi</td>\n",
       "      <td>C:/1-GG/CAP4/EventDetection/1-ExampleSetting\\V...</td>\n",
       "      <td>Basketball</td>\n",
       "    </tr>\n",
       "    <tr>\n",
       "      <th>8</th>\n",
       "      <td>v_Basketball_g01_c02.avi</td>\n",
       "      <td>C:/1-GG/CAP4/EventDetection/1-ExampleSetting\\V...</td>\n",
       "      <td>Basketball</td>\n",
       "    </tr>\n",
       "    <tr>\n",
       "      <th>9</th>\n",
       "      <td>v_Basketball_g01_c02.avi</td>\n",
       "      <td>C:/1-GG/CAP4/EventDetection/1-ExampleSetting\\V...</td>\n",
       "      <td>Basketball</td>\n",
       "    </tr>\n",
       "  </tbody>\n",
       "</table>\n",
       "</div>"
      ],
      "text/plain": [
       "              FrameFilename  \\\n",
       "5  v_Basketball_g01_c02.avi   \n",
       "6  v_Basketball_g01_c02.avi   \n",
       "7  v_Basketball_g01_c02.avi   \n",
       "8  v_Basketball_g01_c02.avi   \n",
       "9  v_Basketball_g01_c02.avi   \n",
       "\n",
       "                                        FullPathName       class  \n",
       "5  C:/1-GG/CAP4/EventDetection/1-ExampleSetting\\V...  Basketball  \n",
       "6  C:/1-GG/CAP4/EventDetection/1-ExampleSetting\\V...  Basketball  \n",
       "7  C:/1-GG/CAP4/EventDetection/1-ExampleSetting\\V...  Basketball  \n",
       "8  C:/1-GG/CAP4/EventDetection/1-ExampleSetting\\V...  Basketball  \n",
       "9  C:/1-GG/CAP4/EventDetection/1-ExampleSetting\\V...  Basketball  "
      ]
     },
     "execution_count": 46,
     "metadata": {},
     "output_type": "execute_result"
    }
   ],
   "source": [
    "temp_df = testFrames.loc[(testFrames.FrameFilename == testSetVDOlist[1])]\n",
    "temp_df.head()"
   ]
  },
  {
   "cell_type": "code",
   "execution_count": 47,
   "metadata": {},
   "outputs": [
    {
     "data": {
      "text/html": [
       "<div>\n",
       "<style scoped>\n",
       "    .dataframe tbody tr th:only-of-type {\n",
       "        vertical-align: middle;\n",
       "    }\n",
       "\n",
       "    .dataframe tbody tr th {\n",
       "        vertical-align: top;\n",
       "    }\n",
       "\n",
       "    .dataframe thead th {\n",
       "        text-align: right;\n",
       "    }\n",
       "</style>\n",
       "<table border=\"1\" class=\"dataframe\">\n",
       "  <thead>\n",
       "    <tr style=\"text-align: right;\">\n",
       "      <th></th>\n",
       "      <th>FrameFilename</th>\n",
       "      <th>FullPathName</th>\n",
       "      <th>class</th>\n",
       "    </tr>\n",
       "  </thead>\n",
       "  <tbody>\n",
       "    <tr>\n",
       "      <th>0</th>\n",
       "      <td>v_Basketball_g01_c02.avi</td>\n",
       "      <td>C:/1-GG/CAP4/EventDetection/1-ExampleSetting\\V...</td>\n",
       "      <td>Basketball</td>\n",
       "    </tr>\n",
       "    <tr>\n",
       "      <th>1</th>\n",
       "      <td>v_Basketball_g01_c02.avi</td>\n",
       "      <td>C:/1-GG/CAP4/EventDetection/1-ExampleSetting\\V...</td>\n",
       "      <td>Basketball</td>\n",
       "    </tr>\n",
       "    <tr>\n",
       "      <th>2</th>\n",
       "      <td>v_Basketball_g01_c02.avi</td>\n",
       "      <td>C:/1-GG/CAP4/EventDetection/1-ExampleSetting\\V...</td>\n",
       "      <td>Basketball</td>\n",
       "    </tr>\n",
       "    <tr>\n",
       "      <th>3</th>\n",
       "      <td>v_Basketball_g01_c02.avi</td>\n",
       "      <td>C:/1-GG/CAP4/EventDetection/1-ExampleSetting\\V...</td>\n",
       "      <td>Basketball</td>\n",
       "    </tr>\n",
       "    <tr>\n",
       "      <th>4</th>\n",
       "      <td>v_Basketball_g01_c02.avi</td>\n",
       "      <td>C:/1-GG/CAP4/EventDetection/1-ExampleSetting\\V...</td>\n",
       "      <td>Basketball</td>\n",
       "    </tr>\n",
       "  </tbody>\n",
       "</table>\n",
       "</div>"
      ],
      "text/plain": [
       "              FrameFilename  \\\n",
       "0  v_Basketball_g01_c02.avi   \n",
       "1  v_Basketball_g01_c02.avi   \n",
       "2  v_Basketball_g01_c02.avi   \n",
       "3  v_Basketball_g01_c02.avi   \n",
       "4  v_Basketball_g01_c02.avi   \n",
       "\n",
       "                                        FullPathName       class  \n",
       "0  C:/1-GG/CAP4/EventDetection/1-ExampleSetting\\V...  Basketball  \n",
       "1  C:/1-GG/CAP4/EventDetection/1-ExampleSetting\\V...  Basketball  \n",
       "2  C:/1-GG/CAP4/EventDetection/1-ExampleSetting\\V...  Basketball  \n",
       "3  C:/1-GG/CAP4/EventDetection/1-ExampleSetting\\V...  Basketball  \n",
       "4  C:/1-GG/CAP4/EventDetection/1-ExampleSetting\\V...  Basketball  "
      ]
     },
     "execution_count": 47,
     "metadata": {},
     "output_type": "execute_result"
    }
   ],
   "source": [
    "temp_df = temp_df.reset_index(drop=True)  # reset index\n",
    "temp_df.head()"
   ]
  },
  {
   "cell_type": "code",
   "execution_count": 48,
   "metadata": {},
   "outputs": [
    {
     "name": "stdout",
     "output_type": "stream",
     "text": [
      "Basketball\n"
     ]
    }
   ],
   "source": [
    "print(temp_df['class'][0])"
   ]
  },
  {
   "cell_type": "code",
   "execution_count": 49,
   "metadata": {},
   "outputs": [
    {
     "name": "stdout",
     "output_type": "stream",
     "text": [
      "v_Basketball_g01_c01.avi\n",
      "Basketball\n",
      "v_Basketball_g01_c02.avi\n",
      "Basketball\n",
      "v_Basketball_g01_c03.avi\n",
      "Basketball\n",
      "v_Basketball_g01_c04.avi\n",
      "Basketball\n",
      "v_Basketball_g01_c05.avi\n",
      "Basketball\n",
      "v_Basketball_g01_c06.avi\n",
      "Basketball\n",
      "v_Basketball_g01_c07.avi\n",
      "Basketball\n",
      "v_Basketball_g02_c01.avi\n",
      "Basketball\n",
      "v_Basketball_g02_c02.avi\n",
      "Basketball\n",
      "v_Basketball_g02_c03.avi\n",
      "Basketball\n",
      "v_Basketball_g02_c04.avi\n",
      "Basketball\n",
      "v_Basketball_g02_c05.avi\n",
      "Basketball\n",
      "v_Basketball_g02_c06.avi\n",
      "Basketball\n",
      "v_Basketball_g03_c01.avi\n",
      "Basketball\n",
      "v_Basketball_g03_c02.avi\n",
      "Basketball\n",
      "v_Basketball_g03_c03.avi\n",
      "Basketball\n",
      "v_Basketball_g03_c04.avi\n",
      "Basketball\n",
      "v_Basketball_g03_c05.avi\n",
      "Basketball\n",
      "v_Basketball_g03_c06.avi\n",
      "Basketball\n",
      "v_Basketball_g04_c01.avi\n",
      "Basketball\n",
      "v_Basketball_g04_c02.avi\n",
      "Basketball\n",
      "v_Basketball_g04_c03.avi\n",
      "Basketball\n",
      "v_Basketball_g04_c04.avi\n",
      "Basketball\n",
      "v_Basketball_g05_c01.avi\n",
      "Basketball\n",
      "v_Basketball_g05_c02.avi\n",
      "Basketball\n",
      "v_Basketball_g05_c03.avi\n",
      "Basketball\n",
      "v_Basketball_g05_c04.avi\n",
      "Basketball\n",
      "v_Basketball_g06_c01.avi\n",
      "Basketball\n",
      "v_Basketball_g06_c02.avi\n",
      "Basketball\n",
      "v_Basketball_g06_c03.avi\n",
      "Basketball\n",
      "v_Basketball_g06_c04.avi\n",
      "Basketball\n",
      "v_Basketball_g07_c01.avi\n",
      "Basketball\n",
      "v_Basketball_g07_c02.avi\n",
      "Basketball\n",
      "v_Basketball_g07_c03.avi\n",
      "Basketball\n",
      "v_Basketball_g07_c04.avi\n",
      "Basketball\n",
      "v_SoccerPenalty_g01_c01.avi\n",
      "SoccerPenalty\n",
      "v_SoccerPenalty_g01_c02.avi\n",
      "SoccerPenalty\n",
      "v_SoccerPenalty_g01_c03.avi\n",
      "SoccerPenalty\n",
      "v_SoccerPenalty_g01_c04.avi\n",
      "SoccerPenalty\n",
      "v_SoccerPenalty_g01_c05.avi\n",
      "SoccerPenalty\n",
      "v_SoccerPenalty_g01_c06.avi\n",
      "SoccerPenalty\n",
      "v_SoccerPenalty_g02_c01.avi\n",
      "SoccerPenalty\n",
      "v_SoccerPenalty_g02_c02.avi\n",
      "SoccerPenalty\n",
      "v_SoccerPenalty_g02_c03.avi\n",
      "SoccerPenalty\n",
      "v_SoccerPenalty_g02_c04.avi\n",
      "SoccerPenalty\n",
      "v_SoccerPenalty_g02_c05.avi\n",
      "SoccerPenalty\n",
      "v_SoccerPenalty_g03_c01.avi\n",
      "SoccerPenalty\n",
      "v_SoccerPenalty_g03_c02.avi\n",
      "SoccerPenalty\n",
      "v_SoccerPenalty_g03_c03.avi\n",
      "SoccerPenalty\n",
      "v_SoccerPenalty_g03_c04.avi\n",
      "SoccerPenalty\n",
      "v_SoccerPenalty_g03_c05.avi\n",
      "SoccerPenalty\n",
      "v_SoccerPenalty_g04_c01.avi\n",
      "SoccerPenalty\n",
      "v_SoccerPenalty_g04_c02.avi\n",
      "SoccerPenalty\n",
      "v_SoccerPenalty_g04_c03.avi\n",
      "SoccerPenalty\n",
      "v_SoccerPenalty_g04_c04.avi\n",
      "SoccerPenalty\n",
      "v_SoccerPenalty_g04_c05.avi\n",
      "SoccerPenalty\n",
      "v_SoccerPenalty_g05_c01.avi\n",
      "SoccerPenalty\n",
      "v_SoccerPenalty_g05_c02.avi\n",
      "SoccerPenalty\n",
      "v_SoccerPenalty_g05_c03.avi\n",
      "SoccerPenalty\n",
      "v_SoccerPenalty_g05_c04.avi\n",
      "SoccerPenalty\n",
      "v_SoccerPenalty_g05_c05.avi\n",
      "SoccerPenalty\n",
      "v_SoccerPenalty_g05_c06.avi\n",
      "SoccerPenalty\n",
      "v_SoccerPenalty_g05_c07.avi\n",
      "SoccerPenalty\n",
      "v_SoccerPenalty_g06_c01.avi\n",
      "SoccerPenalty\n",
      "v_SoccerPenalty_g06_c02.avi\n",
      "SoccerPenalty\n",
      "v_SoccerPenalty_g06_c03.avi\n",
      "SoccerPenalty\n",
      "v_SoccerPenalty_g06_c04.avi\n",
      "SoccerPenalty\n",
      "v_SoccerPenalty_g06_c05.avi\n",
      "SoccerPenalty\n",
      "v_SoccerPenalty_g06_c06.avi\n",
      "SoccerPenalty\n",
      "v_SoccerPenalty_g06_c07.avi\n",
      "SoccerPenalty\n",
      "v_SoccerPenalty_g07_c01.avi\n",
      "SoccerPenalty\n",
      "v_SoccerPenalty_g07_c02.avi\n",
      "SoccerPenalty\n",
      "v_SoccerPenalty_g07_c03.avi\n",
      "SoccerPenalty\n",
      "v_SoccerPenalty_g07_c04.avi\n",
      "SoccerPenalty\n",
      "v_SoccerPenalty_g07_c05.avi\n",
      "SoccerPenalty\n",
      "v_SoccerPenalty_g07_c06.avi\n",
      "SoccerPenalty\n"
     ]
    }
   ],
   "source": [
    "\n",
    "    \n",
    "for i in range(len(testSetVDOlist)):\n",
    "    print(testSetVDOlist[i])\n",
    "    temp_df = testFrames.loc[(testFrames.FrameFilename == testSetVDOlist[i])]\n",
    "    temp_df = temp_df.reset_index(drop=True)  # reset index\n",
    "    print(temp_df['class'][0])\n",
    "    #print(temp_df.shape)"
   ]
  },
  {
   "cell_type": "code",
   "execution_count": 50,
   "metadata": {},
   "outputs": [
    {
     "data": {
      "text/html": [
       "<div>\n",
       "<style scoped>\n",
       "    .dataframe tbody tr th:only-of-type {\n",
       "        vertical-align: middle;\n",
       "    }\n",
       "\n",
       "    .dataframe tbody tr th {\n",
       "        vertical-align: top;\n",
       "    }\n",
       "\n",
       "    .dataframe thead th {\n",
       "        text-align: right;\n",
       "    }\n",
       "</style>\n",
       "<table border=\"1\" class=\"dataframe\">\n",
       "  <thead>\n",
       "    <tr style=\"text-align: right;\">\n",
       "      <th></th>\n",
       "      <th>FrameFilename</th>\n",
       "      <th>FullPathName</th>\n",
       "      <th>class</th>\n",
       "    </tr>\n",
       "  </thead>\n",
       "  <tbody>\n",
       "    <tr>\n",
       "      <th>0</th>\n",
       "      <td>v_SoccerPenalty_g07_c06.avi</td>\n",
       "      <td>C:/1-GG/CAP4/EventDetection/1-ExampleSetting\\V...</td>\n",
       "      <td>SoccerPenalty</td>\n",
       "    </tr>\n",
       "    <tr>\n",
       "      <th>1</th>\n",
       "      <td>v_SoccerPenalty_g07_c06.avi</td>\n",
       "      <td>C:/1-GG/CAP4/EventDetection/1-ExampleSetting\\V...</td>\n",
       "      <td>SoccerPenalty</td>\n",
       "    </tr>\n",
       "    <tr>\n",
       "      <th>2</th>\n",
       "      <td>v_SoccerPenalty_g07_c06.avi</td>\n",
       "      <td>C:/1-GG/CAP4/EventDetection/1-ExampleSetting\\V...</td>\n",
       "      <td>SoccerPenalty</td>\n",
       "    </tr>\n",
       "    <tr>\n",
       "      <th>3</th>\n",
       "      <td>v_SoccerPenalty_g07_c06.avi</td>\n",
       "      <td>C:/1-GG/CAP4/EventDetection/1-ExampleSetting\\V...</td>\n",
       "      <td>SoccerPenalty</td>\n",
       "    </tr>\n",
       "  </tbody>\n",
       "</table>\n",
       "</div>"
      ],
      "text/plain": [
       "                 FrameFilename  \\\n",
       "0  v_SoccerPenalty_g07_c06.avi   \n",
       "1  v_SoccerPenalty_g07_c06.avi   \n",
       "2  v_SoccerPenalty_g07_c06.avi   \n",
       "3  v_SoccerPenalty_g07_c06.avi   \n",
       "\n",
       "                                        FullPathName          class  \n",
       "0  C:/1-GG/CAP4/EventDetection/1-ExampleSetting\\V...  SoccerPenalty  \n",
       "1  C:/1-GG/CAP4/EventDetection/1-ExampleSetting\\V...  SoccerPenalty  \n",
       "2  C:/1-GG/CAP4/EventDetection/1-ExampleSetting\\V...  SoccerPenalty  \n",
       "3  C:/1-GG/CAP4/EventDetection/1-ExampleSetting\\V...  SoccerPenalty  "
      ]
     },
     "execution_count": 50,
     "metadata": {},
     "output_type": "execute_result"
    }
   ],
   "source": [
    "#print(temp_df['class'][i])\n",
    "temp_df.head()"
   ]
  },
  {
   "cell_type": "markdown",
   "metadata": {},
   "source": [
    "### end of Example"
   ]
  },
  {
   "cell_type": "code",
   "execution_count": 59,
   "metadata": {},
   "outputs": [
    {
     "name": "stderr",
     "output_type": "stream",
     "text": [
      "100%|███████████████████████████████████████████████████████████████████████████████████| 5/5 [00:00<00:00, 832.86it/s]\n"
     ]
    },
    {
     "name": "stdout",
     "output_type": "stream",
     "text": [
      "Prediction: [0 0 0 0 0]\n"
     ]
    },
    {
     "name": "stderr",
     "output_type": "stream",
     "text": [
      "100%|██████████████████████████████████████████████████████████████████████████████████| 7/7 [00:00<00:00, 1000.58it/s]\n"
     ]
    },
    {
     "name": "stdout",
     "output_type": "stream",
     "text": [
      "Prediction: [0 0 0 0 0 0 0]\n"
     ]
    },
    {
     "name": "stderr",
     "output_type": "stream",
     "text": [
      "100%|███████████████████████████████████████████████████████████████████████████████████| 8/8 [00:00<00:00, 889.24it/s]\n"
     ]
    },
    {
     "name": "stdout",
     "output_type": "stream",
     "text": [
      "Prediction: [0 0 0 0 1 0 0 0]\n"
     ]
    },
    {
     "name": "stderr",
     "output_type": "stream",
     "text": [
      "100%|███████████████████████████████████████████████████████████████████████████████████| 4/4 [00:00<00:00, 666.66it/s]\n"
     ]
    },
    {
     "name": "stdout",
     "output_type": "stream",
     "text": [
      "Prediction: [0 0 0 0]\n"
     ]
    },
    {
     "name": "stderr",
     "output_type": "stream",
     "text": [
      "100%|███████████████████████████████████████████████████████████████████████████████████| 5/5 [00:00<00:00, 555.52it/s]\n"
     ]
    },
    {
     "name": "stdout",
     "output_type": "stream",
     "text": [
      "Prediction: [0 0 0 0 0]\n"
     ]
    },
    {
     "name": "stderr",
     "output_type": "stream",
     "text": [
      "100%|███████████████████████████████████████████████████████████████████████████████████| 6/6 [00:00<00:00, 599.81it/s]\n"
     ]
    },
    {
     "name": "stdout",
     "output_type": "stream",
     "text": [
      "Prediction: [0 0 0 0 0 0]\n"
     ]
    },
    {
     "name": "stderr",
     "output_type": "stream",
     "text": [
      "100%|███████████████████████████████████████████████████████████████████████████████████| 4/4 [00:00<00:00, 571.12it/s]\n"
     ]
    },
    {
     "name": "stdout",
     "output_type": "stream",
     "text": [
      "Prediction: [0 0 0 0]\n"
     ]
    },
    {
     "name": "stderr",
     "output_type": "stream",
     "text": [
      "100%|███████████████████████████████████████████████████████████████████████████████████| 2/2 [00:00<00:00, 499.74it/s]\n"
     ]
    },
    {
     "name": "stdout",
     "output_type": "stream",
     "text": [
      "Prediction: [0 0]\n"
     ]
    },
    {
     "name": "stderr",
     "output_type": "stream",
     "text": [
      "100%|███████████████████████████████████████████████████████████████████████████████████| 2/2 [00:00<00:00, 499.86it/s]\n"
     ]
    },
    {
     "name": "stdout",
     "output_type": "stream",
     "text": [
      "Prediction: [0 0]\n"
     ]
    },
    {
     "name": "stderr",
     "output_type": "stream",
     "text": [
      "100%|███████████████████████████████████████████████████████████████████████████████████| 4/4 [00:00<00:00, 570.96it/s]\n"
     ]
    },
    {
     "name": "stdout",
     "output_type": "stream",
     "text": [
      "Prediction: [0 0 0 0]\n"
     ]
    },
    {
     "name": "stderr",
     "output_type": "stream",
     "text": [
      "100%|███████████████████████████████████████████████████████████████████████████████████| 3/3 [00:00<00:00, 750.01it/s]\n"
     ]
    },
    {
     "name": "stdout",
     "output_type": "stream",
     "text": [
      "Prediction: [0 0 0]\n"
     ]
    },
    {
     "name": "stderr",
     "output_type": "stream",
     "text": [
      "100%|███████████████████████████████████████████████████████████████████████████████████| 5/5 [00:00<00:00, 625.18it/s]\n"
     ]
    },
    {
     "name": "stdout",
     "output_type": "stream",
     "text": [
      "Prediction: [0 0 0 0 0]\n"
     ]
    },
    {
     "name": "stderr",
     "output_type": "stream",
     "text": [
      "100%|███████████████████████████████████████████████████████████████████████████████████| 5/5 [00:00<00:00, 555.61it/s]\n"
     ]
    },
    {
     "name": "stdout",
     "output_type": "stream",
     "text": [
      "Prediction: [0 0 0 0 0]\n"
     ]
    },
    {
     "name": "stderr",
     "output_type": "stream",
     "text": [
      "100%|███████████████████████████████████████████████████████████████████████████████████| 5/5 [00:00<00:00, 624.93it/s]\n"
     ]
    },
    {
     "name": "stdout",
     "output_type": "stream",
     "text": [
      "Prediction: [0 0 0 0 0]\n"
     ]
    },
    {
     "name": "stderr",
     "output_type": "stream",
     "text": [
      "100%|███████████████████████████████████████████████████████████████████████████████████| 5/5 [00:00<00:00, 416.94it/s]\n"
     ]
    },
    {
     "name": "stdout",
     "output_type": "stream",
     "text": [
      "Prediction: [0 0 0 0 0]\n"
     ]
    },
    {
     "name": "stderr",
     "output_type": "stream",
     "text": [
      "100%|███████████████████████████████████████████████████████████████████████████████████| 5/5 [00:00<00:00, 416.74it/s]\n"
     ]
    },
    {
     "name": "stdout",
     "output_type": "stream",
     "text": [
      "Prediction: [0 0 0 0 0]\n"
     ]
    },
    {
     "name": "stderr",
     "output_type": "stream",
     "text": [
      "100%|███████████████████████████████████████████████████████████████████████████████████| 3/3 [00:00<00:00, 375.07it/s]\n"
     ]
    },
    {
     "name": "stdout",
     "output_type": "stream",
     "text": [
      "Prediction: [0 0 0]\n"
     ]
    },
    {
     "name": "stderr",
     "output_type": "stream",
     "text": [
      "100%|███████████████████████████████████████████████████████████████████████████████████| 5/5 [00:00<00:00, 357.08it/s]\n"
     ]
    },
    {
     "name": "stdout",
     "output_type": "stream",
     "text": [
      "Prediction: [0 0 0 0 0]\n"
     ]
    },
    {
     "name": "stderr",
     "output_type": "stream",
     "text": [
      "100%|███████████████████████████████████████████████████████████████████████████████████| 3/3 [00:00<00:00, 600.50it/s]\n"
     ]
    },
    {
     "name": "stdout",
     "output_type": "stream",
     "text": [
      "Prediction: [0 0 0]\n"
     ]
    },
    {
     "name": "stderr",
     "output_type": "stream",
     "text": [
      "100%|███████████████████████████████████████████████████████████████████████████████████| 4/4 [00:00<00:00, 363.52it/s]\n"
     ]
    },
    {
     "name": "stdout",
     "output_type": "stream",
     "text": [
      "Prediction: [0 0 0 0]\n"
     ]
    },
    {
     "name": "stderr",
     "output_type": "stream",
     "text": [
      "100%|███████████████████████████████████████████████████████████████████████████████████| 4/4 [00:00<00:00, 499.90it/s]\n"
     ]
    },
    {
     "name": "stdout",
     "output_type": "stream",
     "text": [
      "Prediction: [1 1 1 1]\n"
     ]
    },
    {
     "name": "stderr",
     "output_type": "stream",
     "text": [
      "100%|███████████████████████████████████████████████████████████████████████████████████| 4/4 [00:00<00:00, 500.11it/s]\n"
     ]
    },
    {
     "name": "stdout",
     "output_type": "stream",
     "text": [
      "Prediction: [1 0 0 0]\n"
     ]
    },
    {
     "name": "stderr",
     "output_type": "stream",
     "text": [
      "100%|███████████████████████████████████████████████████████████████████████████████████| 3/3 [00:00<00:00, 299.77it/s]\n"
     ]
    },
    {
     "name": "stdout",
     "output_type": "stream",
     "text": [
      "Prediction: [0 0 0]\n"
     ]
    },
    {
     "name": "stderr",
     "output_type": "stream",
     "text": [
      "100%|███████████████████████████████████████████████████████████████████████████████████| 5/5 [00:00<00:00, 384.33it/s]\n"
     ]
    },
    {
     "name": "stdout",
     "output_type": "stream",
     "text": [
      "Prediction: [0 0 0 0 0]\n"
     ]
    },
    {
     "name": "stderr",
     "output_type": "stream",
     "text": [
      "100%|███████████████████████████████████████████████████████████████████████████████████| 4/4 [00:00<00:00, 444.29it/s]\n"
     ]
    },
    {
     "name": "stdout",
     "output_type": "stream",
     "text": [
      "Prediction: [0 0 0 0]\n"
     ]
    },
    {
     "name": "stderr",
     "output_type": "stream",
     "text": [
      "100%|███████████████████████████████████████████████████████████████████████████████████| 4/4 [00:00<00:00, 444.38it/s]\n"
     ]
    },
    {
     "name": "stdout",
     "output_type": "stream",
     "text": [
      "Prediction: [0 0 0 0]\n"
     ]
    },
    {
     "name": "stderr",
     "output_type": "stream",
     "text": [
      "100%|███████████████████████████████████████████████████████████████████████████████████| 3/3 [00:00<00:00, 428.59it/s]\n"
     ]
    },
    {
     "name": "stdout",
     "output_type": "stream",
     "text": [
      "Prediction: [0 0 0]\n"
     ]
    },
    {
     "name": "stderr",
     "output_type": "stream",
     "text": [
      "100%|███████████████████████████████████████████████████████████████████████████████████| 3/3 [00:00<00:00, 300.06it/s]\n"
     ]
    },
    {
     "name": "stdout",
     "output_type": "stream",
     "text": [
      "Prediction: [0 0 1]\n"
     ]
    },
    {
     "name": "stderr",
     "output_type": "stream",
     "text": [
      "100%|███████████████████████████████████████████████████████████████████████████████████| 4/4 [00:00<00:00, 500.38it/s]\n"
     ]
    },
    {
     "name": "stdout",
     "output_type": "stream",
     "text": [
      "Prediction: [0 0 1 0]\n"
     ]
    },
    {
     "name": "stderr",
     "output_type": "stream",
     "text": [
      "100%|███████████████████████████████████████████████████████████████████████████████████| 4/4 [00:00<00:00, 333.27it/s]\n"
     ]
    },
    {
     "name": "stdout",
     "output_type": "stream",
     "text": [
      "Prediction: [0 0 1 1]\n"
     ]
    },
    {
     "name": "stderr",
     "output_type": "stream",
     "text": [
      "100%|███████████████████████████████████████████████████████████████████████████████████| 3/3 [00:00<00:00, 300.06it/s]\n"
     ]
    },
    {
     "name": "stdout",
     "output_type": "stream",
     "text": [
      "Prediction: [0 1 0]\n"
     ]
    },
    {
     "name": "stderr",
     "output_type": "stream",
     "text": [
      "100%|███████████████████████████████████████████████████████████████████████████████████| 5/5 [00:00<00:00, 555.38it/s]\n"
     ]
    },
    {
     "name": "stdout",
     "output_type": "stream",
     "text": [
      "Prediction: [0 0 0 0 0]\n"
     ]
    },
    {
     "name": "stderr",
     "output_type": "stream",
     "text": [
      "100%|███████████████████████████████████████████████████████████████████████████████████| 4/4 [00:00<00:00, 266.68it/s]\n"
     ]
    },
    {
     "name": "stdout",
     "output_type": "stream",
     "text": [
      "Prediction: [0 0 0 0]\n"
     ]
    },
    {
     "name": "stderr",
     "output_type": "stream",
     "text": [
      "100%|███████████████████████████████████████████████████████████████████████████████████| 6/6 [00:00<00:00, 428.61it/s]\n"
     ]
    },
    {
     "name": "stdout",
     "output_type": "stream",
     "text": [
      "Prediction: [0 0 0 0 0 0]\n"
     ]
    },
    {
     "name": "stderr",
     "output_type": "stream",
     "text": [
      "100%|███████████████████████████████████████████████████████████████████████████████████| 4/4 [00:00<00:00, 499.87it/s]\n"
     ]
    },
    {
     "name": "stdout",
     "output_type": "stream",
     "text": [
      "Prediction: [0 0 0 0]\n"
     ]
    },
    {
     "name": "stderr",
     "output_type": "stream",
     "text": [
      "100%|███████████████████████████████████████████████████████████████████████████████████| 7/7 [00:00<00:00, 538.54it/s]\n"
     ]
    },
    {
     "name": "stdout",
     "output_type": "stream",
     "text": [
      "Prediction: [1 1 1 1 1 1 1]\n"
     ]
    },
    {
     "name": "stderr",
     "output_type": "stream",
     "text": [
      "100%|███████████████████████████████████████████████████████████████████████████████████| 6/6 [00:00<00:00, 352.52it/s]\n"
     ]
    },
    {
     "name": "stdout",
     "output_type": "stream",
     "text": [
      "Prediction: [1 1 1 1 1 1]\n"
     ]
    },
    {
     "name": "stderr",
     "output_type": "stream",
     "text": [
      "100%|███████████████████████████████████████████████████████████████████████████████████| 6/6 [00:00<00:00, 400.19it/s]\n"
     ]
    },
    {
     "name": "stdout",
     "output_type": "stream",
     "text": [
      "Prediction: [1 1 1 1 1 1]\n"
     ]
    },
    {
     "name": "stderr",
     "output_type": "stream",
     "text": [
      "100%|███████████████████████████████████████████████████████████████████████████████████| 6/6 [00:00<00:00, 285.56it/s]\n"
     ]
    },
    {
     "name": "stdout",
     "output_type": "stream",
     "text": [
      "Prediction: [1 1 1 1 1 1]\n"
     ]
    },
    {
     "name": "stderr",
     "output_type": "stream",
     "text": [
      "100%|███████████████████████████████████████████████████████████████████████████████████| 5/5 [00:00<00:00, 499.95it/s]\n"
     ]
    },
    {
     "name": "stdout",
     "output_type": "stream",
     "text": [
      "Prediction: [1 1 1 1 1]\n"
     ]
    },
    {
     "name": "stderr",
     "output_type": "stream",
     "text": [
      "100%|███████████████████████████████████████████████████████████████████████████████████| 4/4 [00:00<00:00, 571.55it/s]\n"
     ]
    },
    {
     "name": "stdout",
     "output_type": "stream",
     "text": [
      "Prediction: [1 1 1 1]\n"
     ]
    },
    {
     "name": "stderr",
     "output_type": "stream",
     "text": [
      "100%|███████████████████████████████████████████████████████████████████████████████████| 5/5 [00:00<00:00, 555.46it/s]\n"
     ]
    },
    {
     "name": "stdout",
     "output_type": "stream",
     "text": [
      "Prediction: [1 1 1 1 1]\n"
     ]
    },
    {
     "name": "stderr",
     "output_type": "stream",
     "text": [
      "100%|███████████████████████████████████████████████████████████████████████████████████| 4/4 [00:00<00:00, 571.55it/s]\n"
     ]
    },
    {
     "name": "stdout",
     "output_type": "stream",
     "text": [
      "Prediction: [1 1 1 1]\n"
     ]
    },
    {
     "name": "stderr",
     "output_type": "stream",
     "text": [
      "100%|███████████████████████████████████████████████████████████████████████████████████| 4/4 [00:00<00:00, 500.04it/s]\n"
     ]
    },
    {
     "name": "stdout",
     "output_type": "stream",
     "text": [
      "Prediction: [1 1 1 1]\n"
     ]
    },
    {
     "name": "stderr",
     "output_type": "stream",
     "text": [
      "100%|███████████████████████████████████████████████████████████████████████████████████| 5/5 [00:00<00:00, 714.39it/s]\n"
     ]
    },
    {
     "name": "stdout",
     "output_type": "stream",
     "text": [
      "Prediction: [1 1 1 1 1]\n"
     ]
    },
    {
     "name": "stderr",
     "output_type": "stream",
     "text": [
      "100%|███████████████████████████████████████████████████████████████████████████████████| 4/4 [00:00<00:00, 571.66it/s]\n"
     ]
    },
    {
     "name": "stdout",
     "output_type": "stream",
     "text": [
      "Prediction: [1 1 1 1]\n"
     ]
    },
    {
     "name": "stderr",
     "output_type": "stream",
     "text": [
      "100%|███████████████████████████████████████████████████████████████████████████████████| 4/4 [00:00<00:00, 799.83it/s]\n"
     ]
    },
    {
     "name": "stdout",
     "output_type": "stream",
     "text": [
      "Prediction: [1 1 1 1]\n"
     ]
    },
    {
     "name": "stderr",
     "output_type": "stream",
     "text": [
      "100%|███████████████████████████████████████████████████████████████████████████████████| 4/4 [00:00<00:00, 799.91it/s]\n"
     ]
    },
    {
     "name": "stdout",
     "output_type": "stream",
     "text": [
      "Prediction: [1 1 1 1]\n"
     ]
    },
    {
     "name": "stderr",
     "output_type": "stream",
     "text": [
      "100%|███████████████████████████████████████████████████████████████████████████████████| 6/6 [00:00<00:00, 600.19it/s]\n"
     ]
    },
    {
     "name": "stdout",
     "output_type": "stream",
     "text": [
      "Prediction: [1 1 1 1 1 1]\n"
     ]
    },
    {
     "name": "stderr",
     "output_type": "stream",
     "text": [
      "100%|███████████████████████████████████████████████████████████████████████████████████| 4/4 [00:00<00:00, 666.53it/s]\n"
     ]
    },
    {
     "name": "stdout",
     "output_type": "stream",
     "text": [
      "Prediction: [1 1 1 1]\n"
     ]
    },
    {
     "name": "stderr",
     "output_type": "stream",
     "text": [
      "100%|███████████████████████████████████████████████████████████████████████████████████| 3/3 [00:00<00:00, 749.74it/s]\n"
     ]
    },
    {
     "name": "stdout",
     "output_type": "stream",
     "text": [
      "Prediction: [1 1 1]\n"
     ]
    },
    {
     "name": "stderr",
     "output_type": "stream",
     "text": [
      "100%|███████████████████████████████████████████████████████████████████████████████████| 3/3 [00:00<00:00, 499.90it/s]\n"
     ]
    },
    {
     "name": "stdout",
     "output_type": "stream",
     "text": [
      "Prediction: [1 1 1]\n"
     ]
    },
    {
     "name": "stderr",
     "output_type": "stream",
     "text": [
      "100%|███████████████████████████████████████████████████████████████████████████████████| 3/3 [00:00<00:00, 600.19it/s]\n"
     ]
    },
    {
     "name": "stdout",
     "output_type": "stream",
     "text": [
      "Prediction: [1 1 1]\n"
     ]
    },
    {
     "name": "stderr",
     "output_type": "stream",
     "text": [
      "100%|███████████████████████████████████████████████████████████████████████████████████| 3/3 [00:00<00:00, 600.39it/s]\n"
     ]
    },
    {
     "name": "stdout",
     "output_type": "stream",
     "text": [
      "Prediction: [1 1 1]\n"
     ]
    },
    {
     "name": "stderr",
     "output_type": "stream",
     "text": [
      "100%|███████████████████████████████████████████████████████████████████████████████████| 4/4 [00:00<00:00, 666.56it/s]\n"
     ]
    },
    {
     "name": "stdout",
     "output_type": "stream",
     "text": [
      "Prediction: [1 1 1 1]\n"
     ]
    },
    {
     "name": "stderr",
     "output_type": "stream",
     "text": [
      "100%|███████████████████████████████████████████████████████████████████████████████████| 5/5 [00:00<00:00, 624.84it/s]\n"
     ]
    },
    {
     "name": "stdout",
     "output_type": "stream",
     "text": [
      "Prediction: [1 1 1 1 1]\n"
     ]
    },
    {
     "name": "stderr",
     "output_type": "stream",
     "text": [
      "100%|███████████████████████████████████████████████████████████████████████████████████| 4/4 [00:00<00:00, 666.50it/s]\n"
     ]
    },
    {
     "name": "stdout",
     "output_type": "stream",
     "text": [
      "Prediction: [1 1 1 1]\n"
     ]
    },
    {
     "name": "stderr",
     "output_type": "stream",
     "text": [
      "100%|███████████████████████████████████████████████████████████████████████████████████| 4/4 [00:00<00:00, 799.52it/s]\n"
     ]
    },
    {
     "name": "stdout",
     "output_type": "stream",
     "text": [
      "Prediction: [1 1 1 1]\n"
     ]
    },
    {
     "name": "stderr",
     "output_type": "stream",
     "text": [
      "100%|███████████████████████████████████████████████████████████████████████████████████| 4/4 [00:00<00:00, 666.50it/s]\n"
     ]
    },
    {
     "name": "stdout",
     "output_type": "stream",
     "text": [
      "Prediction: [1 1 1 1]\n"
     ]
    },
    {
     "name": "stderr",
     "output_type": "stream",
     "text": [
      "100%|███████████████████████████████████████████████████████████████████████████████████| 4/4 [00:00<00:00, 666.61it/s]\n"
     ]
    },
    {
     "name": "stdout",
     "output_type": "stream",
     "text": [
      "Prediction: [1 1 1 1]\n"
     ]
    },
    {
     "name": "stderr",
     "output_type": "stream",
     "text": [
      "100%|███████████████████████████████████████████████████████████████████████████████████| 4/4 [00:00<00:00, 800.67it/s]\n"
     ]
    },
    {
     "name": "stdout",
     "output_type": "stream",
     "text": [
      "Prediction: [1 1 1 1]\n"
     ]
    },
    {
     "name": "stderr",
     "output_type": "stream",
     "text": [
      "100%|███████████████████████████████████████████████████████████████████████████████████| 3/3 [00:00<00:00, 599.87it/s]\n"
     ]
    },
    {
     "name": "stdout",
     "output_type": "stream",
     "text": [
      "Prediction: [1 1 1]\n"
     ]
    },
    {
     "name": "stderr",
     "output_type": "stream",
     "text": [
      "100%|███████████████████████████████████████████████████████████████████████████████████| 6/6 [00:00<00:00, 857.29it/s]\n"
     ]
    },
    {
     "name": "stdout",
     "output_type": "stream",
     "text": [
      "Prediction: [1 1 1 1 1 1]\n"
     ]
    },
    {
     "name": "stderr",
     "output_type": "stream",
     "text": [
      "100%|███████████████████████████████████████████████████████████████████████████████████| 5/5 [00:00<00:00, 624.82it/s]\n"
     ]
    },
    {
     "name": "stdout",
     "output_type": "stream",
     "text": [
      "Prediction: [1 1 1 1 1]\n"
     ]
    },
    {
     "name": "stderr",
     "output_type": "stream",
     "text": [
      "100%|███████████████████████████████████████████████████████████████████████████████████| 2/2 [00:00<00:00, 666.82it/s]\n"
     ]
    },
    {
     "name": "stdout",
     "output_type": "stream",
     "text": [
      "Prediction: [1 1]\n"
     ]
    },
    {
     "name": "stderr",
     "output_type": "stream",
     "text": [
      "100%|███████████████████████████████████████████████████████████████████████████████████| 3/3 [00:00<00:00, 750.05it/s]\n"
     ]
    },
    {
     "name": "stdout",
     "output_type": "stream",
     "text": [
      "Prediction: [1 1 1]\n"
     ]
    },
    {
     "name": "stderr",
     "output_type": "stream",
     "text": [
      "100%|███████████████████████████████████████████████████████████████████████████████████| 3/3 [00:00<00:00, 500.14it/s]\n"
     ]
    },
    {
     "name": "stdout",
     "output_type": "stream",
     "text": [
      "Prediction: [1 1 1]\n"
     ]
    },
    {
     "name": "stderr",
     "output_type": "stream",
     "text": [
      "100%|███████████████████████████████████████████████████████████████████████████████████| 3/3 [00:00<00:00, 500.14it/s]\n"
     ]
    },
    {
     "name": "stdout",
     "output_type": "stream",
     "text": [
      "Prediction: [1 1 1]\n"
     ]
    },
    {
     "name": "stderr",
     "output_type": "stream",
     "text": [
      "100%|███████████████████████████████████████████████████████████████████████████████████| 4/4 [00:00<00:00, 800.10it/s]\n"
     ]
    },
    {
     "name": "stdout",
     "output_type": "stream",
     "text": [
      "Prediction: [1 1 1 1]\n"
     ]
    },
    {
     "name": "stderr",
     "output_type": "stream",
     "text": [
      "100%|███████████████████████████████████████████████████████████████████████████████████| 3/3 [00:00<00:00, 599.73it/s]\n"
     ]
    },
    {
     "name": "stdout",
     "output_type": "stream",
     "text": [
      "Prediction: [1 1 1]\n"
     ]
    },
    {
     "name": "stderr",
     "output_type": "stream",
     "text": [
      "100%|███████████████████████████████████████████████████████████████████████████████████| 3/3 [00:00<00:00, 599.39it/s]\n"
     ]
    },
    {
     "name": "stdout",
     "output_type": "stream",
     "text": [
      "Prediction: [1 1 1]\n"
     ]
    },
    {
     "name": "stderr",
     "output_type": "stream",
     "text": [
      "100%|███████████████████████████████████████████████████████████████████████████████████| 6/6 [00:00<00:00, 749.70it/s]\n"
     ]
    },
    {
     "name": "stdout",
     "output_type": "stream",
     "text": [
      "Prediction: [1 1 1 1 1 1]\n"
     ]
    },
    {
     "name": "stderr",
     "output_type": "stream",
     "text": [
      "100%|███████████████████████████████████████████████████████████████████████████████████| 3/3 [00:00<00:00, 749.92it/s]\n"
     ]
    },
    {
     "name": "stdout",
     "output_type": "stream",
     "text": [
      "Prediction: [1 1 1]\n"
     ]
    },
    {
     "name": "stderr",
     "output_type": "stream",
     "text": [
      "100%|███████████████████████████████████████████████████████████████████████████████████| 3/3 [00:00<00:00, 998.72it/s]\n"
     ]
    },
    {
     "name": "stdout",
     "output_type": "stream",
     "text": [
      "Prediction: [1 1 1]\n"
     ]
    },
    {
     "name": "stderr",
     "output_type": "stream",
     "text": [
      "100%|███████████████████████████████████████████████████████████████████████████████████| 3/3 [00:00<00:00, 600.01it/s]\n"
     ]
    },
    {
     "name": "stdout",
     "output_type": "stream",
     "text": [
      "Prediction: [1 1 1]\n"
     ]
    },
    {
     "name": "stderr",
     "output_type": "stream",
     "text": [
      "100%|███████████████████████████████████████████████████████████████████████████████████| 4/4 [00:00<00:00, 799.94it/s]\n"
     ]
    },
    {
     "name": "stdout",
     "output_type": "stream",
     "text": [
      "Prediction: [1 1 1 1]\n"
     ]
    }
   ],
   "source": [
    "# for loop to read and store test frames\n",
    "# creating two lists to store predicted and actual tags\n",
    "predict = []\n",
    "actual = []\n",
    "indent_variable   = []\n",
    "\n",
    "for i in range(len(testSetVDOlist)):\n",
    "    #print(testSetVDOlist[i])\n",
    "    temp_df = testFrames.loc[(testFrames.FrameFilename == testSetVDOlist[i])] # all frames of a particular vdo\n",
    "    temp_df = temp_df.reset_index(drop=True)  # reset index\n",
    "    #print(temp_df.shape)  \n",
    "   \n",
    "    prediction_images = []\n",
    "    \n",
    "    # appending the actual class of the video\n",
    "    \n",
    "    actual.append(temp_df['class'][0])\n",
    "    #print(\"Actual:\" , actual)\n",
    "\n",
    "    # appending the vdo file name as indent\n",
    "    indent_variable.append(temp_df['FrameFilename'][0])\n",
    "    #print(\"Indent:\" ,indent_variable)\n",
    "\n",
    "    for i in tqdm(range(temp_df.shape[0])):  ### Loop through all frames of a particular vdo\n",
    "        \n",
    " \n",
    "        # loading the image and keeping the target size as (224,224,3)\n",
    "        img = image.load_img(temp_df['FullPathName'][i], target_size=(224,224,3))\n",
    "        # converting it to array\n",
    "        img = image.img_to_array(img)\n",
    "        # normalizing the pixel value\n",
    "        img = img/255\n",
    "        # appending the image to the image list\n",
    "        prediction_images.append(img)\n",
    "        #print(\"Prediction:\" , prediction_images)\n",
    "        \n",
    "    # converting the list to numpy array\n",
    "    prediction_images = np.array(prediction_images)\n",
    "\n",
    "    # extracting features using pre-trained model\n",
    "    prediction_images = base_model.predict(prediction_images)\n",
    "\n",
    "    # converting features in one dimensional array\n",
    "    prediction_images = prediction_images.reshape(prediction_images.shape[0], 7*7*512)\n",
    "\n",
    "    # predicting class for each array.\n",
    "    # predict_classes() function on model in order to predict the class values for each instance in the array.\n",
    "    prediction = model.predict_classes(prediction_images)\n",
    "    #print(\"Prediction:\" , prediction)\n",
    "    # appending the mode of predictions (Class that occurs on highest frrequency) in predict list to assign the class to the video\n",
    "    predict.append(y.columns.values[s.mode(prediction)[0][0]])\n",
    "\n"
   ]
  },
  {
   "cell_type": "code",
   "execution_count": 60,
   "metadata": {
    "scrolled": true
   },
   "outputs": [
    {
     "data": {
      "text/plain": [
       "array([1, 1, 1, 1], dtype=int64)"
      ]
     },
     "execution_count": 60,
     "metadata": {},
     "output_type": "execute_result"
    }
   ],
   "source": [
    "prediction\n"
   ]
  },
  {
   "cell_type": "code",
   "execution_count": 61,
   "metadata": {},
   "outputs": [
    {
     "data": {
      "text/plain": [
       "'SoccerPenalty'"
      ]
     },
     "execution_count": 61,
     "metadata": {},
     "output_type": "execute_result"
    }
   ],
   "source": [
    "y.columns.values[s.mode(prediction)[0][0]]"
   ]
  },
  {
   "cell_type": "code",
   "execution_count": 62,
   "metadata": {},
   "outputs": [
    {
     "data": {
      "text/html": [
       "<div>\n",
       "<style scoped>\n",
       "    .dataframe tbody tr th:only-of-type {\n",
       "        vertical-align: middle;\n",
       "    }\n",
       "\n",
       "    .dataframe tbody tr th {\n",
       "        vertical-align: top;\n",
       "    }\n",
       "\n",
       "    .dataframe thead th {\n",
       "        text-align: right;\n",
       "    }\n",
       "</style>\n",
       "<table border=\"1\" class=\"dataframe\">\n",
       "  <thead>\n",
       "    <tr style=\"text-align: right;\">\n",
       "      <th></th>\n",
       "      <th>VdOFileName</th>\n",
       "      <th>ActualClass</th>\n",
       "      <th>PredictedClass</th>\n",
       "    </tr>\n",
       "  </thead>\n",
       "  <tbody>\n",
       "    <tr>\n",
       "      <th>0</th>\n",
       "      <td>v_Basketball_g01_c01.avi</td>\n",
       "      <td>Basketball</td>\n",
       "      <td>Basketball</td>\n",
       "    </tr>\n",
       "    <tr>\n",
       "      <th>1</th>\n",
       "      <td>v_Basketball_g01_c02.avi</td>\n",
       "      <td>Basketball</td>\n",
       "      <td>Basketball</td>\n",
       "    </tr>\n",
       "    <tr>\n",
       "      <th>2</th>\n",
       "      <td>v_Basketball_g01_c03.avi</td>\n",
       "      <td>Basketball</td>\n",
       "      <td>Basketball</td>\n",
       "    </tr>\n",
       "    <tr>\n",
       "      <th>3</th>\n",
       "      <td>v_Basketball_g01_c04.avi</td>\n",
       "      <td>Basketball</td>\n",
       "      <td>Basketball</td>\n",
       "    </tr>\n",
       "    <tr>\n",
       "      <th>4</th>\n",
       "      <td>v_Basketball_g01_c05.avi</td>\n",
       "      <td>Basketball</td>\n",
       "      <td>Basketball</td>\n",
       "    </tr>\n",
       "    <tr>\n",
       "      <th>...</th>\n",
       "      <td>...</td>\n",
       "      <td>...</td>\n",
       "      <td>...</td>\n",
       "    </tr>\n",
       "    <tr>\n",
       "      <th>71</th>\n",
       "      <td>v_SoccerPenalty_g07_c02.avi</td>\n",
       "      <td>SoccerPenalty</td>\n",
       "      <td>SoccerPenalty</td>\n",
       "    </tr>\n",
       "    <tr>\n",
       "      <th>72</th>\n",
       "      <td>v_SoccerPenalty_g07_c03.avi</td>\n",
       "      <td>SoccerPenalty</td>\n",
       "      <td>SoccerPenalty</td>\n",
       "    </tr>\n",
       "    <tr>\n",
       "      <th>73</th>\n",
       "      <td>v_SoccerPenalty_g07_c04.avi</td>\n",
       "      <td>SoccerPenalty</td>\n",
       "      <td>SoccerPenalty</td>\n",
       "    </tr>\n",
       "    <tr>\n",
       "      <th>74</th>\n",
       "      <td>v_SoccerPenalty_g07_c05.avi</td>\n",
       "      <td>SoccerPenalty</td>\n",
       "      <td>SoccerPenalty</td>\n",
       "    </tr>\n",
       "    <tr>\n",
       "      <th>75</th>\n",
       "      <td>v_SoccerPenalty_g07_c06.avi</td>\n",
       "      <td>SoccerPenalty</td>\n",
       "      <td>SoccerPenalty</td>\n",
       "    </tr>\n",
       "  </tbody>\n",
       "</table>\n",
       "<p>76 rows × 3 columns</p>\n",
       "</div>"
      ],
      "text/plain": [
       "                    VdOFileName    ActualClass PredictedClass\n",
       "0      v_Basketball_g01_c01.avi     Basketball     Basketball\n",
       "1      v_Basketball_g01_c02.avi     Basketball     Basketball\n",
       "2      v_Basketball_g01_c03.avi     Basketball     Basketball\n",
       "3      v_Basketball_g01_c04.avi     Basketball     Basketball\n",
       "4      v_Basketball_g01_c05.avi     Basketball     Basketball\n",
       "..                          ...            ...            ...\n",
       "71  v_SoccerPenalty_g07_c02.avi  SoccerPenalty  SoccerPenalty\n",
       "72  v_SoccerPenalty_g07_c03.avi  SoccerPenalty  SoccerPenalty\n",
       "73  v_SoccerPenalty_g07_c04.avi  SoccerPenalty  SoccerPenalty\n",
       "74  v_SoccerPenalty_g07_c05.avi  SoccerPenalty  SoccerPenalty\n",
       "75  v_SoccerPenalty_g07_c06.avi  SoccerPenalty  SoccerPenalty\n",
       "\n",
       "[76 rows x 3 columns]"
      ]
     },
     "execution_count": 62,
     "metadata": {},
     "output_type": "execute_result"
    }
   ],
   "source": [
    "# Calling DataFrame constructor after zipping\n",
    "# both lists, with columns specified\n",
    "EvalFinalOutput = pd.DataFrame(list(zip(indent_variable, actual ,predict )),\n",
    "               columns =['VdOFileName', 'ActualClass' , 'PredictedClass'])\n",
    "EvalFinalOutput"
   ]
  },
  {
   "cell_type": "code",
   "execution_count": 64,
   "metadata": {},
   "outputs": [
    {
     "name": "stdout",
     "output_type": "stream",
     "text": [
      "      Basketball  SoccerPenalty\n",
      "1874           0              1\n",
      "2404           0              1\n",
      "2750           0              1\n",
      "1858           0              1\n",
      "744            1              0\n",
      "...          ...            ...\n",
      "624            1              0\n",
      "600            1              0\n",
      "540            1              0\n",
      "1808           0              1\n",
      "1597           0              1\n",
      "\n",
      "[554 rows x 2 columns]\n"
     ]
    },
    {
     "ename": "ValueError",
     "evalue": "Found input variables with inconsistent numbers of samples: [554, 4]",
     "output_type": "error",
     "traceback": [
      "\u001b[1;31m---------------------------------------------------------------------------\u001b[0m",
      "\u001b[1;31mValueError\u001b[0m                                Traceback (most recent call last)",
      "\u001b[1;32m<ipython-input-64-d6b6ceec3459>\u001b[0m in \u001b[0;36m<module>\u001b[1;34m\u001b[0m\n\u001b[0;32m      1\u001b[0m \u001b[0mprint\u001b[0m\u001b[1;33m(\u001b[0m\u001b[0my_test\u001b[0m\u001b[1;33m)\u001b[0m\u001b[1;33m\u001b[0m\u001b[1;33m\u001b[0m\u001b[0m\n\u001b[0;32m      2\u001b[0m \u001b[1;32mfrom\u001b[0m \u001b[0msklearn\u001b[0m\u001b[1;33m.\u001b[0m\u001b[0mmetrics\u001b[0m \u001b[1;32mimport\u001b[0m \u001b[0mclassification_report\u001b[0m\u001b[1;33m\u001b[0m\u001b[1;33m\u001b[0m\u001b[0m\n\u001b[1;32m----> 3\u001b[1;33m \u001b[0mclassification_metrics\u001b[0m \u001b[1;33m=\u001b[0m \u001b[0mclassification_report\u001b[0m\u001b[1;33m(\u001b[0m\u001b[0my_test\u001b[0m\u001b[1;33m,\u001b[0m\u001b[0mprediction\u001b[0m\u001b[1;33m,\u001b[0m \u001b[0mtarget_names\u001b[0m \u001b[1;33m=\u001b[0m \u001b[1;33m[\u001b[0m\u001b[1;34m\"Basketball\"\u001b[0m\u001b[1;33m,\u001b[0m\u001b[1;34m\"SoccerPenalty\"\u001b[0m\u001b[1;33m]\u001b[0m\u001b[1;33m)\u001b[0m\u001b[1;33m\u001b[0m\u001b[1;33m\u001b[0m\u001b[0m\n\u001b[0m\u001b[0;32m      4\u001b[0m \u001b[0mprint\u001b[0m\u001b[1;33m(\u001b[0m\u001b[0mclassification_metrics\u001b[0m\u001b[1;33m)\u001b[0m\u001b[1;33m\u001b[0m\u001b[1;33m\u001b[0m\u001b[0m\n",
      "\u001b[1;32m~\\AppData\\Local\\Continuum\\anaconda3\\lib\\site-packages\\sklearn\\utils\\validation.py\u001b[0m in \u001b[0;36minner_f\u001b[1;34m(*args, **kwargs)\u001b[0m\n\u001b[0;32m     70\u001b[0m                           FutureWarning)\n\u001b[0;32m     71\u001b[0m         \u001b[0mkwargs\u001b[0m\u001b[1;33m.\u001b[0m\u001b[0mupdate\u001b[0m\u001b[1;33m(\u001b[0m\u001b[1;33m{\u001b[0m\u001b[0mk\u001b[0m\u001b[1;33m:\u001b[0m \u001b[0marg\u001b[0m \u001b[1;32mfor\u001b[0m \u001b[0mk\u001b[0m\u001b[1;33m,\u001b[0m \u001b[0marg\u001b[0m \u001b[1;32min\u001b[0m \u001b[0mzip\u001b[0m\u001b[1;33m(\u001b[0m\u001b[0msig\u001b[0m\u001b[1;33m.\u001b[0m\u001b[0mparameters\u001b[0m\u001b[1;33m,\u001b[0m \u001b[0margs\u001b[0m\u001b[1;33m)\u001b[0m\u001b[1;33m}\u001b[0m\u001b[1;33m)\u001b[0m\u001b[1;33m\u001b[0m\u001b[1;33m\u001b[0m\u001b[0m\n\u001b[1;32m---> 72\u001b[1;33m         \u001b[1;32mreturn\u001b[0m \u001b[0mf\u001b[0m\u001b[1;33m(\u001b[0m\u001b[1;33m**\u001b[0m\u001b[0mkwargs\u001b[0m\u001b[1;33m)\u001b[0m\u001b[1;33m\u001b[0m\u001b[1;33m\u001b[0m\u001b[0m\n\u001b[0m\u001b[0;32m     73\u001b[0m     \u001b[1;32mreturn\u001b[0m \u001b[0minner_f\u001b[0m\u001b[1;33m\u001b[0m\u001b[1;33m\u001b[0m\u001b[0m\n\u001b[0;32m     74\u001b[0m \u001b[1;33m\u001b[0m\u001b[0m\n",
      "\u001b[1;32m~\\AppData\\Local\\Continuum\\anaconda3\\lib\\site-packages\\sklearn\\metrics\\_classification.py\u001b[0m in \u001b[0;36mclassification_report\u001b[1;34m(y_true, y_pred, labels, target_names, sample_weight, digits, output_dict, zero_division)\u001b[0m\n\u001b[0;32m   1927\u001b[0m     \"\"\"\n\u001b[0;32m   1928\u001b[0m \u001b[1;33m\u001b[0m\u001b[0m\n\u001b[1;32m-> 1929\u001b[1;33m     \u001b[0my_type\u001b[0m\u001b[1;33m,\u001b[0m \u001b[0my_true\u001b[0m\u001b[1;33m,\u001b[0m \u001b[0my_pred\u001b[0m \u001b[1;33m=\u001b[0m \u001b[0m_check_targets\u001b[0m\u001b[1;33m(\u001b[0m\u001b[0my_true\u001b[0m\u001b[1;33m,\u001b[0m \u001b[0my_pred\u001b[0m\u001b[1;33m)\u001b[0m\u001b[1;33m\u001b[0m\u001b[1;33m\u001b[0m\u001b[0m\n\u001b[0m\u001b[0;32m   1930\u001b[0m \u001b[1;33m\u001b[0m\u001b[0m\n\u001b[0;32m   1931\u001b[0m     \u001b[0mlabels_given\u001b[0m \u001b[1;33m=\u001b[0m \u001b[1;32mTrue\u001b[0m\u001b[1;33m\u001b[0m\u001b[1;33m\u001b[0m\u001b[0m\n",
      "\u001b[1;32m~\\AppData\\Local\\Continuum\\anaconda3\\lib\\site-packages\\sklearn\\metrics\\_classification.py\u001b[0m in \u001b[0;36m_check_targets\u001b[1;34m(y_true, y_pred)\u001b[0m\n\u001b[0;32m     79\u001b[0m     \u001b[0my_pred\u001b[0m \u001b[1;33m:\u001b[0m \u001b[0marray\u001b[0m \u001b[1;32mor\u001b[0m \u001b[0mindicator\u001b[0m \u001b[0mmatrix\u001b[0m\u001b[1;33m\u001b[0m\u001b[1;33m\u001b[0m\u001b[0m\n\u001b[0;32m     80\u001b[0m     \"\"\"\n\u001b[1;32m---> 81\u001b[1;33m     \u001b[0mcheck_consistent_length\u001b[0m\u001b[1;33m(\u001b[0m\u001b[0my_true\u001b[0m\u001b[1;33m,\u001b[0m \u001b[0my_pred\u001b[0m\u001b[1;33m)\u001b[0m\u001b[1;33m\u001b[0m\u001b[1;33m\u001b[0m\u001b[0m\n\u001b[0m\u001b[0;32m     82\u001b[0m     \u001b[0mtype_true\u001b[0m \u001b[1;33m=\u001b[0m \u001b[0mtype_of_target\u001b[0m\u001b[1;33m(\u001b[0m\u001b[0my_true\u001b[0m\u001b[1;33m)\u001b[0m\u001b[1;33m\u001b[0m\u001b[1;33m\u001b[0m\u001b[0m\n\u001b[0;32m     83\u001b[0m     \u001b[0mtype_pred\u001b[0m \u001b[1;33m=\u001b[0m \u001b[0mtype_of_target\u001b[0m\u001b[1;33m(\u001b[0m\u001b[0my_pred\u001b[0m\u001b[1;33m)\u001b[0m\u001b[1;33m\u001b[0m\u001b[1;33m\u001b[0m\u001b[0m\n",
      "\u001b[1;32m~\\AppData\\Local\\Continuum\\anaconda3\\lib\\site-packages\\sklearn\\utils\\validation.py\u001b[0m in \u001b[0;36mcheck_consistent_length\u001b[1;34m(*arrays)\u001b[0m\n\u001b[0;32m    254\u001b[0m     \u001b[1;32mif\u001b[0m \u001b[0mlen\u001b[0m\u001b[1;33m(\u001b[0m\u001b[0muniques\u001b[0m\u001b[1;33m)\u001b[0m \u001b[1;33m>\u001b[0m \u001b[1;36m1\u001b[0m\u001b[1;33m:\u001b[0m\u001b[1;33m\u001b[0m\u001b[1;33m\u001b[0m\u001b[0m\n\u001b[0;32m    255\u001b[0m         raise ValueError(\"Found input variables with inconsistent numbers of\"\n\u001b[1;32m--> 256\u001b[1;33m                          \" samples: %r\" % [int(l) for l in lengths])\n\u001b[0m\u001b[0;32m    257\u001b[0m \u001b[1;33m\u001b[0m\u001b[0m\n\u001b[0;32m    258\u001b[0m \u001b[1;33m\u001b[0m\u001b[0m\n",
      "\u001b[1;31mValueError\u001b[0m: Found input variables with inconsistent numbers of samples: [554, 4]"
     ]
    }
   ],
   "source": [
    "print(y_test)\n",
    "from sklearn.metrics import classification_report\n",
    "classification_metrics = classification_report(y_test,prediction, target_names = [\"Basketball\",\"SoccerPenalty\"])\n",
    "print(classification_metrics)"
   ]
  },
  {
   "cell_type": "code",
   "execution_count": 75,
   "metadata": {},
   "outputs": [],
   "source": [
    "EvalFinalOutput.to_csv(RootFolder+'/EvalFinalOutput.csv',header=True, index=False)"
   ]
  },
  {
   "cell_type": "code",
   "execution_count": null,
   "metadata": {},
   "outputs": [],
   "source": []
  }
 ],
 "metadata": {
  "kernelspec": {
   "display_name": "Python 3",
   "language": "python",
   "name": "python3"
  },
  "language_info": {
   "codemirror_mode": {
    "name": "ipython",
    "version": 3
   },
   "file_extension": ".py",
   "mimetype": "text/x-python",
   "name": "python",
   "nbconvert_exporter": "python",
   "pygments_lexer": "ipython3",
   "version": "3.7.4"
  }
 },
 "nbformat": 4,
 "nbformat_minor": 4
}
