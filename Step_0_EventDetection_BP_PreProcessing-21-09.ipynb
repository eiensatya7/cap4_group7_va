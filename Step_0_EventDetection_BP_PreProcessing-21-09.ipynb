{
 "cells": [
  {
   "cell_type": "markdown",
   "metadata": {},
   "source": [
    "### Basketball and SoccerPenalty event detection"
   ]
  },
  {
   "cell_type": "markdown",
   "metadata": {},
   "source": [
    "#### PCAMZC321_Group99_EventDetection_BP_PreProcessing_Step-0 - Check file name nomenclature"
   ]
  },
  {
   "cell_type": "markdown",
   "metadata": {},
   "source": [
    "### This scripts does \n",
    "###### 1. \n",
    "###### 2. \n",
    "###### 3. \n",
    "###### 4. \n",
    "###### 5. \n",
    "\n",
    "### Root folder \n",
    "C:/GG-16-03/CAP4/HumanActivityRecognition/Dataset/VDO\n",
    "\n",
    "\n",
    "### Input files location\n",
    "#### VDO files\n",
    "##### 1. C:/GG-16-03/CAP4/HumanActivityRecognition/Dataset/VDO\\Basketball\n",
    "##### 2. C:/GG-16-03/CAP4/HumanActivityRecognition/Dataset/VDO\\SoccerPenalty\n",
    "\n",
    "#### Train and Test vdo file names list \n",
    "##### 1. C:/GG-16-03/CAP4/HumanActivityRecognition/Dataset/VDO\\train_list.csv\n",
    "##### 2. C:/GG-16-03/CAP4/HumanActivityRecognition/Dataset/VDO\\test_list.csv\n",
    "\n",
    "### Output files location \n",
    "##### 1. C:\\GG-16-03\\CAP4\\HumanActivityRecognition\\Dataset\\VDO\\VDOFrames --- all frames \n",
    "##### 2. C:/GG-16-03/CAP4/HumanActivityRecognition/Dataset/VDO\\Final_frameFile.csv  --- all frames\n",
    "##### 3. C:/GG-16-03/CAP4/HumanActivityRecognition/Dataset/VDO\\trainFrames.csv\n",
    "##### 4. C:/GG-16-03/CAP4/HumanActivityRecognition/Dataset/VDO\\testFrames.csv\n"
   ]
  },
  {
   "cell_type": "code",
   "execution_count": null,
   "metadata": {},
   "outputs": [],
   "source": []
  },
  {
   "cell_type": "code",
   "execution_count": null,
   "metadata": {},
   "outputs": [],
   "source": []
  },
  {
   "cell_type": "code",
   "execution_count": 1,
   "metadata": {},
   "outputs": [
    {
     "name": "stdout",
     "output_type": "stream",
     "text": [
      "pandas: 1.2.4\n",
      "numpy: 1.20.1\n",
      "cv2: 4.5.3\n"
     ]
    }
   ],
   "source": [
    "import pandas as pd\n",
    "print('pandas: {}'.format(pd.__version__))\n",
    "import numpy as np\n",
    "import numpy\n",
    "print('numpy: {}'.format(np.__version__))\n",
    "import cv2                                 # for capturing videos\n",
    "print('cv2: {}'.format(cv2.__version__))\n",
    "\n",
    "import os, os.path\n",
    "from pathlib import Path\n",
    "import math   # for mathematical operations\n",
    "\n",
    "\n",
    " \n",
    "\n",
    "\n"
   ]
  },
  {
   "cell_type": "markdown",
   "metadata": {},
   "source": [
    "### All VDOs stored in three folders - Basketball  and SoccerPenalty under root foler VDO"
   ]
  },
  {
   "cell_type": "code",
   "execution_count": 2,
   "metadata": {},
   "outputs": [
    {
     "name": "stdout",
     "output_type": "stream",
     "text": [
      "C:/1-GG/CAP4/EventDetection/1-ExampleSetting\n"
     ]
    }
   ],
   "source": [
    "Drive = \"C:\"\n",
    "\n",
    "\n",
    "# Step-1-Process -  Extracting image frame from VDO \n",
    "\n",
    "## Define root folder\n",
    "root_folder = Drive+\"/1-GG/CAP4/EventDetection/1-ExampleSetting\"\n",
    "print(root_folder)"
   ]
  },
  {
   "cell_type": "code",
   "execution_count": 3,
   "metadata": {},
   "outputs": [],
   "source": [
    "# Set root_folder where all inputs VDO are kept\n",
    "#root_folder = StepARootFolder\n",
    "#print(root_folder)\n",
    "\n"
   ]
  },
  {
   "cell_type": "markdown",
   "metadata": {},
   "source": [
    "## Example - How to create folders using os library"
   ]
  },
  {
   "cell_type": "code",
   "execution_count": 4,
   "metadata": {},
   "outputs": [
    {
     "name": "stdout",
     "output_type": "stream",
     "text": [
      "C:/1-GG/CAP4/EventDetection/1-ExampleSetting\\VDOFrames\n",
      "C:/1-GG/CAP4/EventDetection/1-ExampleSetting\\OutputFiles\n"
     ]
    }
   ],
   "source": [
    "FramesVdo  = root_folder+\"\\\\VDOFrames\"\n",
    "OutputFiles  = root_folder+\"\\OutputFiles\"\n",
    "\n",
    "\n",
    "if not os.path.exists(FramesVdo):\n",
    "   os.makedirs(FramesVdo) \n",
    "   \n",
    "if not os.path.exists(OutputFiles):\n",
    "   os.makedirs(OutputFiles) \n",
    "\n",
    "print(FramesVdo)\n",
    "print(OutputFiles)"
   ]
  },
  {
   "cell_type": "markdown",
   "metadata": {},
   "source": [
    "## Example - How to read folders under root folder"
   ]
  },
  {
   "cell_type": "code",
   "execution_count": 5,
   "metadata": {},
   "outputs": [
    {
     "name": "stdout",
     "output_type": "stream",
     "text": [
      "['Basketball', 'OutputFiles', 'SoccerPenalty', 'VDOFrames']\n"
     ]
    }
   ],
   "source": [
    "sub_folders = [name for name in os.listdir(root_folder) if os.path.isdir(os.path.join(root_folder, name))]\n",
    "\n",
    "print(sub_folders)"
   ]
  },
  {
   "cell_type": "code",
   "execution_count": 6,
   "metadata": {},
   "outputs": [
    {
     "name": "stdout",
     "output_type": "stream",
     "text": [
      "Basketball\n",
      "C:/1-GG/CAP4/EventDetection/1-ExampleSetting\\Basketball\n",
      "SoccerPenalty\n",
      "C:/1-GG/CAP4/EventDetection/1-ExampleSetting\\SoccerPenalty\n",
      "test_BSvdo_list.csv\n"
     ]
    }
   ],
   "source": [
    "for child in os.listdir(root_folder):\n",
    "    if child == \"VDOFrames\":\n",
    "        continue\n",
    "    if child == \"OutputFiles\":\n",
    "        continue\n",
    "        \n",
    "    print(child)\n",
    "   \n",
    "    baseimagefolders = os.path.join(root_folder, child)\n",
    "    if os.path.isdir(baseimagefolders):\n",
    "\n",
    "        print(baseimagefolders)"
   ]
  },
  {
   "cell_type": "code",
   "execution_count": 7,
   "metadata": {},
   "outputs": [
    {
     "name": "stdout",
     "output_type": "stream",
     "text": [
      "C:/1-GG/CAP4/EventDetection/1-ExampleSetting\\test_BSvdo_list.csv\n"
     ]
    }
   ],
   "source": [
    "print(baseimagefolders)"
   ]
  },
  {
   "cell_type": "code",
   "execution_count": 8,
   "metadata": {},
   "outputs": [
    {
     "name": "stdout",
     "output_type": "stream",
     "text": [
      ".avi\n"
     ]
    }
   ],
   "source": [
    "file = \"C:/1-GG/CAP4/EventDetection/1-ExampleSetting\\SoccerPenalty/v_SoccerPenalty_g01_c01.avi\"\n",
    "extension = os.path.splitext(file)[1]\n",
    "print(extension)"
   ]
  },
  {
   "cell_type": "code",
   "execution_count": 9,
   "metadata": {},
   "outputs": [
    {
     "name": "stdout",
     "output_type": "stream",
     "text": [
      "v_SoccerPenalty_g01_c01\n"
     ]
    }
   ],
   "source": [
    "temp = Path(file).stem # Find file name without extension\n",
    "print(temp)"
   ]
  },
  {
   "cell_type": "code",
   "execution_count": null,
   "metadata": {},
   "outputs": [],
   "source": []
  },
  {
   "cell_type": "code",
   "execution_count": null,
   "metadata": {},
   "outputs": [],
   "source": [
    "#C:/1-GG/CAP4/EventDetection/1-ExampleSetting\\SoccerPenalty/v_SoccerPenalty_g01_c01.avi\n",
    "\n",
    "#  valid extensions of base image\n",
    "image_path_list = []\n",
    "\n",
    "valid_vdo_extensions = [\".mp4\" , \".avi\"] #specify vald extensions here\n",
    "valid_vdo_extensions = [item.lower() for item in valid_vdo_extensions]\n",
    "     \n",
    "#create a list all files in directory and\n",
    "#append files with a vaild extention to image_path_list\n",
    "for file in os.listdir(baseimagefolders):  ### extract each vdo from a given folder\n",
    "    #print(file)\n",
    "    extension = os.path.splitext(file)[1] ### How to extract only extension of a vdo file\n",
    "    if extension.lower() not in valid_vdo_extensions:\n",
    "        continue\n",
    "            \n",
    "    # image_path_list contains list of all vdo files with full path bame of a given vdo folder\n",
    "    image_path_list.append(os.path.join(baseimagefolders, file))\n",
    " image_path_list"
   ]
  },
  {
   "cell_type": "code",
   "execution_count": null,
   "metadata": {
    "scrolled": false
   },
   "outputs": [],
   "source": []
  },
  {
   "cell_type": "markdown",
   "metadata": {},
   "source": [
    "## end of Example"
   ]
  },
  {
   "cell_type": "code",
   "execution_count": null,
   "metadata": {},
   "outputs": [],
   "source": []
  },
  {
   "cell_type": "code",
   "execution_count": null,
   "metadata": {},
   "outputs": [],
   "source": []
  },
  {
   "cell_type": "markdown",
   "metadata": {},
   "source": [
    "### Start "
   ]
  },
  {
   "cell_type": "markdown",
   "metadata": {},
   "source": [
    "#### Main script - OpenCV comes with many powerful video editing functions. \n",
    "#### Techniques such as image scanning, face recognition can be accomplished using OpenCV.\n",
    "\n",
    "##### 1. Take a video as input and break the video into frame by frame and save those frame in a folder \"VDOFrames\" \n",
    "##### 2. \"vdo_Framing_Process\" function does this splitting indo frames\n",
    "##### 3. also write a csv (\"Final_frameFile.csv\") have 3 columns like \"FrameFilename\" , \"FullPathName\" and \"class\""
   ]
  },
  {
   "cell_type": "code",
   "execution_count": 10,
   "metadata": {},
   "outputs": [
    {
     "name": "stdout",
     "output_type": "stream",
     "text": [
      "pandas: 1.2.4\n",
      "numpy: 1.20.1\n",
      "cv2: 4.5.3\n"
     ]
    }
   ],
   "source": [
    "import pandas as pd\n",
    "print('pandas: {}'.format(pd.__version__))\n",
    "import numpy as np\n",
    "import numpy\n",
    "print('numpy: {}'.format(np.__version__))\n",
    "import cv2                                 # for capturing videos\n",
    "print('cv2: {}'.format(cv2.__version__))\n",
    "\n",
    "import os, os.path\n",
    "from pathlib import Path\n",
    "import math   # for mathematical operations\n"
   ]
  },
  {
   "cell_type": "code",
   "execution_count": null,
   "metadata": {},
   "outputs": [],
   "source": []
  },
  {
   "cell_type": "code",
   "execution_count": 11,
   "metadata": {},
   "outputs": [
    {
     "name": "stdout",
     "output_type": "stream",
     "text": [
      "C:/1-GG/CAP4/EventDetection/1-ExampleSetting\n"
     ]
    }
   ],
   "source": [
    "Drive = \"C:\"\n",
    "\n",
    "\n",
    "# Step-1-Process -  Extracting image frame from VDO \n",
    "\n",
    "## Define root folder\n",
    "root_folder = Drive+\"/1-GG/CAP4/EventDetection/1-ExampleSetting\"\n",
    "print(root_folder)"
   ]
  },
  {
   "cell_type": "code",
   "execution_count": null,
   "metadata": {},
   "outputs": [],
   "source": []
  },
  {
   "cell_type": "markdown",
   "metadata": {},
   "source": [
    "## Data pre-processing\n",
    "\n",
    "##### 1. Reading in the video frame-by-frame.\n",
    "##### 2. Within a second, a human body does not perform very significant movement. This implies that most of the frames (per second) in our video will be redundant. Therefore, only a subset of all the frames in a video needs to be extracted. This will also reduce the size of the input data which will in turn help the model train faster and can also prevent over-fitting.\n",
    "\n",
    "### Different strategies can be used for frame extraction as follows\n",
    "\n",
    "##### Extracting a fixed number of frames from the total frames in the video – say only the first 200 frames (i.e., first 8 seconds of the video).\n",
    "\n",
    "##### Extracting a fixed number of frames each second from the video – say we need only 5 frames per second from a video whose duration is of 10 seconds. This would return a total of 50 frames from the video. This approach is better in the sense that we are extracting the frames sparsely and uniformly from the entire video.\n",
    "\n",
    "##### Each frame needs to have the same spatial dimensions (height and width). Hence each frame in a video will have to be resized to the required size.\n",
    "\n",
    "##### The frames can be converted to grayscale.(not done)"
   ]
  },
  {
   "cell_type": "code",
   "execution_count": null,
   "metadata": {},
   "outputs": [],
   "source": []
  },
  {
   "cell_type": "code",
   "execution_count": 12,
   "metadata": {},
   "outputs": [],
   "source": [
    "def vdo_Framing_Process(child, imageDir,OutimageDir):\n",
    "#------------------\n",
    "    image_height, image_width = 64, 64\n",
    "\n",
    "    # Following 3 variables - for final csv \n",
    "    frame_filename = []\n",
    "    frame_image    = []\n",
    "    frame_class    = []\n",
    "    \n",
    "    \n",
    "    suffix = '.jpg'   # Extension of image file name \n",
    "    seq = 0\n",
    "    #  valid extensions of base image\n",
    "    image_path_list = []\n",
    "    valid_vdo_extensions = [\".mp4\" , \".avi\"] #specify vald extensions here\n",
    "    valid_vdo_extensions = [item.lower() for item in valid_vdo_extensions]\n",
    "     \n",
    "    #create a list all files in directory and\n",
    "    #append files with a vaild extention to image_path_list\n",
    "    for file in os.listdir(imageDir):  ### extract each vdo from a given folder\n",
    "        #print(file)\n",
    "        extension = os.path.splitext(file)[1] ### How to extract only extension of a vdo file\n",
    "        if extension.lower() not in valid_vdo_extensions:\n",
    "            continue\n",
    "        # image_path_list contains list of all vdo files with full path bame of a given vdo folder\n",
    "        image_path_list.append(os.path.join(imageDir, file))\n",
    "    #print(image_path_list)\n",
    "    \n",
    "    #loop through image_path_list to open each vdo - Read each vdo in a loop \n",
    "    for vdoFile in image_path_list:\n",
    "            count = 0\n",
    "            #print(vdoFile)\n",
    "            \n",
    "            cap = cv2.VideoCapture(vdoFile)   # capturing the video from the given path\n",
    "            ## vdoFile looks like \"C:/GG-16-03/CAP4/HumanActivityRecognition/Dataset/AllVdo/v_Basketball_g08_c01.avi\"\n",
    "            \n",
    "            frameRate = cap.get(5) #frame rate\n",
    "            x=1\n",
    "            while(cap.isOpened()):\n",
    "                frameId = cap.get(1) #current frame number\n",
    "                ret, frame = cap.read()\n",
    "                \n",
    "                # If Video frame was not successfully read then break the loop\n",
    "                if (ret != True):\n",
    "                    break\n",
    "                    \n",
    "                # Resize the Frame to fixed Dimensions\n",
    "                resized_frame = cv2.resize(frame, (image_height, image_width))\n",
    "    \n",
    "                #print(\"we are here\")\n",
    "                if (frameId % math.floor(frameRate) == 0):\n",
    "                    # storing the frames in a train frame folder \n",
    "                    temp = Path(vdoFile).stem # Find file name without extension\n",
    "                    \n",
    "                    # temp = os.path.splitext(vdoFile)[0]  ## Find file name without extension\n",
    "                    #print(temp)\n",
    "                    filename =\"/\"+ temp+\"_frame%d.jpg\" % count;count+=1\n",
    "                    Outimage = os.path.join(OutimageDir+filename)\n",
    "                    #print(Outimage)\n",
    "                    cv2.imwrite(Outimage, resized_frame)   # save frame as JPEG file\n",
    "                    \n",
    "                    FIlenameOnly = os.path.basename(vdoFile)\n",
    "                    \n",
    "                    ## storing the images and their class in a dataframe\n",
    "                    frame_filename.append(FIlenameOnly)  # Only filename\n",
    "                    frame_image.append(Outimage)         # File Name with complete path\n",
    "                    # creating the class of image        # Class i.e. Basketball , CricketBowling etc\n",
    "                    frame_class.append(child)\n",
    "            cap.release()\n",
    "\n",
    "\n",
    "    # storing the images and their class in a dataframe\n",
    "    train_data = pd.DataFrame()\n",
    "    train_data['FrameFilename'] = frame_filename\n",
    "    train_data['FullPathName'] = frame_image\n",
    "    train_data['class'] = frame_class\n",
    "    \n",
    "    # converting the dataframe into csv file \n",
    "    #train_data.to_csv('C:/GG-16-03/CAP4/HumanActivityRecognition/Dataset/VDO/train_new.csv',header=True, index=False)\n",
    "    return train_data"
   ]
  },
  {
   "cell_type": "code",
   "execution_count": null,
   "metadata": {},
   "outputs": [],
   "source": []
  },
  {
   "cell_type": "code",
   "execution_count": 13,
   "metadata": {},
   "outputs": [
    {
     "name": "stdout",
     "output_type": "stream",
     "text": [
      "C:/1-GG/CAP4/EventDetection/1-ExampleSetting\\VDOFrames\n",
      "C:/1-GG/CAP4/EventDetection/1-ExampleSetting\\OutputFiles\n"
     ]
    }
   ],
   "source": [
    "FramesVdo  = root_folder+\"\\\\VDOFrames\"\n",
    "OutputFiles  = root_folder+\"\\OutputFiles\"\n",
    "\n",
    "\n",
    "if not os.path.exists(FramesVdo):\n",
    "   os.makedirs(FramesVdo) \n",
    "   \n",
    "if not os.path.exists(OutputFiles):\n",
    "   os.makedirs(OutputFiles) \n",
    "\n",
    "print(FramesVdo)\n",
    "print(OutputFiles)"
   ]
  },
  {
   "cell_type": "markdown",
   "metadata": {},
   "source": [
    "# Main script that call vdo_Framing_Process"
   ]
  },
  {
   "cell_type": "code",
   "execution_count": 14,
   "metadata": {},
   "outputs": [
    {
     "name": "stdout",
     "output_type": "stream",
     "text": [
      "Processing Folder : C:/1-GG/CAP4/EventDetection/1-ExampleSetting\\Basketball\n",
      "1\n",
      "(705, 3)\n",
      "Processing Folder : C:/1-GG/CAP4/EventDetection/1-ExampleSetting\\SoccerPenalty\n",
      "2\n",
      "(1292, 3)\n"
     ]
    }
   ],
   "source": [
    "# Main script that call vdo_Framing_Process \n",
    "\n",
    "kount = 0\n",
    "for child in os.listdir(root_folder):\n",
    "    if child == \"VDOFrames\":\n",
    "        continue\n",
    "    if child == \"OutputFiles\":\n",
    "        continue\n",
    "\n",
    "\n",
    "    kount = kount + 1\n",
    "    baseimagefolders = os.path.join(root_folder, child)\n",
    "    if os.path.isdir(baseimagefolders):\n",
    "        print(\"Processing Folder :\" , baseimagefolders)\n",
    "        outImage  = FramesVdo\n",
    "        \n",
    "        \n",
    "        ### Calling vdo_Framing_Process function\n",
    "        df = vdo_Framing_Process(child , baseimagefolders,outImage)\n",
    "        \n",
    "        print(kount)\n",
    "        if (kount == 1):  ### First iteration - copy function used to create df2 for csv\n",
    "            df2 = df.copy()\n",
    "        else:\n",
    "            df2 = pd.concat([df2 , df])  ### all other iteration concat function to append df2\n",
    "            #df2.append(df)\n",
    "        print(df2.shape)\n",
    "# converting the dataframe into csv file \n",
    "#df2.to_csv('C:/GG-16-03/CAP4/HumanActivityRecognition/Dataset/VDO/Final_2vdoframeFile.csv',header=True, index=False)\n",
    "df2.to_csv(OutputFiles+'/Final_2vdoframeFile.csv',header=True, index=False)\n"
   ]
  },
  {
   "cell_type": "code",
   "execution_count": null,
   "metadata": {},
   "outputs": [],
   "source": []
  },
  {
   "cell_type": "code",
   "execution_count": null,
   "metadata": {},
   "outputs": [],
   "source": []
  },
  {
   "cell_type": "markdown",
   "metadata": {},
   "source": [
    "## 21-09 session"
   ]
  },
  {
   "cell_type": "markdown",
   "metadata": {},
   "source": [
    "### Train and Test (apply) vdo files list given \n",
    "#### use following files for train and apply dataset \n",
    "\n",
    "######  2, 'C:\\1-GG\\CAP4\\EventDetection\\1-ExampleSetting/test_BSvdo_list.csv\n",
    "\n",
    "##### Need to split train and apply set from Final_frameFile.csv using above files"
   ]
  },
  {
   "cell_type": "code",
   "execution_count": 15,
   "metadata": {},
   "outputs": [],
   "source": [
    "## Define folder\n",
    "Drive = \"C:\"\n",
    "OutputFiles = Drive+\"/1-GG/CAP4/EventDetection/1-ExampleSetting/OutputFiles\"\n",
    "Final_frameFile  = pd.read_csv(OutputFiles+\"/Final_2vdoframeFile.csv\")\n",
    "\n",
    "\n"
   ]
  },
  {
   "cell_type": "code",
   "execution_count": 16,
   "metadata": {},
   "outputs": [
    {
     "data": {
      "text/html": [
       "<div>\n",
       "<style scoped>\n",
       "    .dataframe tbody tr th:only-of-type {\n",
       "        vertical-align: middle;\n",
       "    }\n",
       "\n",
       "    .dataframe tbody tr th {\n",
       "        vertical-align: top;\n",
       "    }\n",
       "\n",
       "    .dataframe thead th {\n",
       "        text-align: right;\n",
       "    }\n",
       "</style>\n",
       "<table border=\"1\" class=\"dataframe\">\n",
       "  <thead>\n",
       "    <tr style=\"text-align: right;\">\n",
       "      <th></th>\n",
       "      <th>FrameFilename</th>\n",
       "      <th>FullPathName</th>\n",
       "      <th>class</th>\n",
       "    </tr>\n",
       "  </thead>\n",
       "  <tbody>\n",
       "    <tr>\n",
       "      <th>0</th>\n",
       "      <td>v_Basketball_g01_c01.avi</td>\n",
       "      <td>C:/1-GG/CAP4/EventDetection/1-ExampleSetting\\V...</td>\n",
       "      <td>Basketball</td>\n",
       "    </tr>\n",
       "    <tr>\n",
       "      <th>1</th>\n",
       "      <td>v_Basketball_g01_c01.avi</td>\n",
       "      <td>C:/1-GG/CAP4/EventDetection/1-ExampleSetting\\V...</td>\n",
       "      <td>Basketball</td>\n",
       "    </tr>\n",
       "    <tr>\n",
       "      <th>2</th>\n",
       "      <td>v_Basketball_g01_c01.avi</td>\n",
       "      <td>C:/1-GG/CAP4/EventDetection/1-ExampleSetting\\V...</td>\n",
       "      <td>Basketball</td>\n",
       "    </tr>\n",
       "    <tr>\n",
       "      <th>3</th>\n",
       "      <td>v_Basketball_g01_c01.avi</td>\n",
       "      <td>C:/1-GG/CAP4/EventDetection/1-ExampleSetting\\V...</td>\n",
       "      <td>Basketball</td>\n",
       "    </tr>\n",
       "    <tr>\n",
       "      <th>4</th>\n",
       "      <td>v_Basketball_g01_c01.avi</td>\n",
       "      <td>C:/1-GG/CAP4/EventDetection/1-ExampleSetting\\V...</td>\n",
       "      <td>Basketball</td>\n",
       "    </tr>\n",
       "  </tbody>\n",
       "</table>\n",
       "</div>"
      ],
      "text/plain": [
       "              FrameFilename  \\\n",
       "0  v_Basketball_g01_c01.avi   \n",
       "1  v_Basketball_g01_c01.avi   \n",
       "2  v_Basketball_g01_c01.avi   \n",
       "3  v_Basketball_g01_c01.avi   \n",
       "4  v_Basketball_g01_c01.avi   \n",
       "\n",
       "                                        FullPathName       class  \n",
       "0  C:/1-GG/CAP4/EventDetection/1-ExampleSetting\\V...  Basketball  \n",
       "1  C:/1-GG/CAP4/EventDetection/1-ExampleSetting\\V...  Basketball  \n",
       "2  C:/1-GG/CAP4/EventDetection/1-ExampleSetting\\V...  Basketball  \n",
       "3  C:/1-GG/CAP4/EventDetection/1-ExampleSetting\\V...  Basketball  \n",
       "4  C:/1-GG/CAP4/EventDetection/1-ExampleSetting\\V...  Basketball  "
      ]
     },
     "execution_count": 16,
     "metadata": {},
     "output_type": "execute_result"
    }
   ],
   "source": [
    "Final_frameFile.head()"
   ]
  },
  {
   "cell_type": "code",
   "execution_count": 17,
   "metadata": {},
   "outputs": [
    {
     "name": "stdout",
     "output_type": "stream",
     "text": [
      "C:/1-GG/CAP4/EventDetection/1-ExampleSetting\n"
     ]
    }
   ],
   "source": [
    "print(root_folder)"
   ]
  },
  {
   "cell_type": "code",
   "execution_count": 18,
   "metadata": {},
   "outputs": [
    {
     "name": "stdout",
     "output_type": "stream",
     "text": [
      "(1292, 3)\n",
      "(76, 3)\n"
     ]
    }
   ],
   "source": [
    "testSet  = pd.read_csv(root_folder+\"/test_BSvdo_list.csv\")\n",
    "\n",
    "print(Final_frameFile.shape)\n",
    "\n",
    "print(testSet.shape)"
   ]
  },
  {
   "cell_type": "code",
   "execution_count": 19,
   "metadata": {},
   "outputs": [
    {
     "data": {
      "text/html": [
       "<div>\n",
       "<style scoped>\n",
       "    .dataframe tbody tr th:only-of-type {\n",
       "        vertical-align: middle;\n",
       "    }\n",
       "\n",
       "    .dataframe tbody tr th {\n",
       "        vertical-align: top;\n",
       "    }\n",
       "\n",
       "    .dataframe thead th {\n",
       "        text-align: right;\n",
       "    }\n",
       "</style>\n",
       "<table border=\"1\" class=\"dataframe\">\n",
       "  <thead>\n",
       "    <tr style=\"text-align: right;\">\n",
       "      <th></th>\n",
       "      <th>video_name</th>\n",
       "      <th>tag</th>\n",
       "      <th>VDOFileName</th>\n",
       "    </tr>\n",
       "  </thead>\n",
       "  <tbody>\n",
       "    <tr>\n",
       "      <th>0</th>\n",
       "      <td>Basketball/v_Basketball_g01_c01.avi</td>\n",
       "      <td>Basketball</td>\n",
       "      <td>v_Basketball_g01_c01.avi</td>\n",
       "    </tr>\n",
       "    <tr>\n",
       "      <th>1</th>\n",
       "      <td>Basketball/v_Basketball_g01_c02.avi</td>\n",
       "      <td>Basketball</td>\n",
       "      <td>v_Basketball_g01_c02.avi</td>\n",
       "    </tr>\n",
       "    <tr>\n",
       "      <th>2</th>\n",
       "      <td>Basketball/v_Basketball_g01_c03.avi</td>\n",
       "      <td>Basketball</td>\n",
       "      <td>v_Basketball_g01_c03.avi</td>\n",
       "    </tr>\n",
       "    <tr>\n",
       "      <th>3</th>\n",
       "      <td>Basketball/v_Basketball_g01_c04.avi</td>\n",
       "      <td>Basketball</td>\n",
       "      <td>v_Basketball_g01_c04.avi</td>\n",
       "    </tr>\n",
       "    <tr>\n",
       "      <th>4</th>\n",
       "      <td>Basketball/v_Basketball_g01_c05.avi</td>\n",
       "      <td>Basketball</td>\n",
       "      <td>v_Basketball_g01_c05.avi</td>\n",
       "    </tr>\n",
       "  </tbody>\n",
       "</table>\n",
       "</div>"
      ],
      "text/plain": [
       "                            video_name         tag               VDOFileName\n",
       "0  Basketball/v_Basketball_g01_c01.avi  Basketball  v_Basketball_g01_c01.avi\n",
       "1  Basketball/v_Basketball_g01_c02.avi  Basketball  v_Basketball_g01_c02.avi\n",
       "2  Basketball/v_Basketball_g01_c03.avi  Basketball  v_Basketball_g01_c03.avi\n",
       "3  Basketball/v_Basketball_g01_c04.avi  Basketball  v_Basketball_g01_c04.avi\n",
       "4  Basketball/v_Basketball_g01_c05.avi  Basketball  v_Basketball_g01_c05.avi"
      ]
     },
     "execution_count": 19,
     "metadata": {},
     "output_type": "execute_result"
    }
   ],
   "source": [
    "testSet.head()"
   ]
  },
  {
   "cell_type": "markdown",
   "metadata": {},
   "source": [
    "## Extract test set vdo files from Final_frameFile"
   ]
  },
  {
   "cell_type": "code",
   "execution_count": 20,
   "metadata": {},
   "outputs": [],
   "source": [
    "testSetVDOlist = testSet[\"VDOFileName\"].tolist()"
   ]
  },
  {
   "cell_type": "code",
   "execution_count": 21,
   "metadata": {},
   "outputs": [
    {
     "data": {
      "text/plain": [
       "['v_Basketball_g01_c01.avi',\n",
       " 'v_Basketball_g01_c02.avi',\n",
       " 'v_Basketball_g01_c03.avi',\n",
       " 'v_Basketball_g01_c04.avi',\n",
       " 'v_Basketball_g01_c05.avi',\n",
       " 'v_Basketball_g01_c06.avi',\n",
       " 'v_Basketball_g01_c07.avi',\n",
       " 'v_Basketball_g02_c01.avi',\n",
       " 'v_Basketball_g02_c02.avi',\n",
       " 'v_Basketball_g02_c03.avi',\n",
       " 'v_Basketball_g02_c04.avi',\n",
       " 'v_Basketball_g02_c05.avi',\n",
       " 'v_Basketball_g02_c06.avi',\n",
       " 'v_Basketball_g03_c01.avi',\n",
       " 'v_Basketball_g03_c02.avi',\n",
       " 'v_Basketball_g03_c03.avi',\n",
       " 'v_Basketball_g03_c04.avi',\n",
       " 'v_Basketball_g03_c05.avi',\n",
       " 'v_Basketball_g03_c06.avi',\n",
       " 'v_Basketball_g04_c01.avi',\n",
       " 'v_Basketball_g04_c02.avi',\n",
       " 'v_Basketball_g04_c03.avi',\n",
       " 'v_Basketball_g04_c04.avi',\n",
       " 'v_Basketball_g05_c01.avi',\n",
       " 'v_Basketball_g05_c02.avi',\n",
       " 'v_Basketball_g05_c03.avi',\n",
       " 'v_Basketball_g05_c04.avi',\n",
       " 'v_Basketball_g06_c01.avi',\n",
       " 'v_Basketball_g06_c02.avi',\n",
       " 'v_Basketball_g06_c03.avi',\n",
       " 'v_Basketball_g06_c04.avi',\n",
       " 'v_Basketball_g07_c01.avi',\n",
       " 'v_Basketball_g07_c02.avi',\n",
       " 'v_Basketball_g07_c03.avi',\n",
       " 'v_Basketball_g07_c04.avi',\n",
       " 'v_SoccerPenalty_g01_c01.avi',\n",
       " 'v_SoccerPenalty_g01_c02.avi',\n",
       " 'v_SoccerPenalty_g01_c03.avi',\n",
       " 'v_SoccerPenalty_g01_c04.avi',\n",
       " 'v_SoccerPenalty_g01_c05.avi',\n",
       " 'v_SoccerPenalty_g01_c06.avi',\n",
       " 'v_SoccerPenalty_g02_c01.avi',\n",
       " 'v_SoccerPenalty_g02_c02.avi',\n",
       " 'v_SoccerPenalty_g02_c03.avi',\n",
       " 'v_SoccerPenalty_g02_c04.avi',\n",
       " 'v_SoccerPenalty_g02_c05.avi',\n",
       " 'v_SoccerPenalty_g03_c01.avi',\n",
       " 'v_SoccerPenalty_g03_c02.avi',\n",
       " 'v_SoccerPenalty_g03_c03.avi',\n",
       " 'v_SoccerPenalty_g03_c04.avi',\n",
       " 'v_SoccerPenalty_g03_c05.avi',\n",
       " 'v_SoccerPenalty_g04_c01.avi',\n",
       " 'v_SoccerPenalty_g04_c02.avi',\n",
       " 'v_SoccerPenalty_g04_c03.avi',\n",
       " 'v_SoccerPenalty_g04_c04.avi',\n",
       " 'v_SoccerPenalty_g04_c05.avi',\n",
       " 'v_SoccerPenalty_g05_c01.avi',\n",
       " 'v_SoccerPenalty_g05_c02.avi',\n",
       " 'v_SoccerPenalty_g05_c03.avi',\n",
       " 'v_SoccerPenalty_g05_c04.avi',\n",
       " 'v_SoccerPenalty_g05_c05.avi',\n",
       " 'v_SoccerPenalty_g05_c06.avi',\n",
       " 'v_SoccerPenalty_g05_c07.avi',\n",
       " 'v_SoccerPenalty_g06_c01.avi',\n",
       " 'v_SoccerPenalty_g06_c02.avi',\n",
       " 'v_SoccerPenalty_g06_c03.avi',\n",
       " 'v_SoccerPenalty_g06_c04.avi',\n",
       " 'v_SoccerPenalty_g06_c05.avi',\n",
       " 'v_SoccerPenalty_g06_c06.avi',\n",
       " 'v_SoccerPenalty_g06_c07.avi',\n",
       " 'v_SoccerPenalty_g07_c01.avi',\n",
       " 'v_SoccerPenalty_g07_c02.avi',\n",
       " 'v_SoccerPenalty_g07_c03.avi',\n",
       " 'v_SoccerPenalty_g07_c04.avi',\n",
       " 'v_SoccerPenalty_g07_c05.avi',\n",
       " 'v_SoccerPenalty_g07_c06.avi']"
      ]
     },
     "execution_count": 21,
     "metadata": {},
     "output_type": "execute_result"
    }
   ],
   "source": [
    "testSetVDOlist"
   ]
  },
  {
   "cell_type": "code",
   "execution_count": 22,
   "metadata": {},
   "outputs": [
    {
     "data": {
      "text/plain": [
       "Index(['FrameFilename', 'FullPathName', 'class'], dtype='object')"
      ]
     },
     "execution_count": 22,
     "metadata": {},
     "output_type": "execute_result"
    }
   ],
   "source": [
    "Final_frameFile.columns"
   ]
  },
  {
   "cell_type": "code",
   "execution_count": 23,
   "metadata": {},
   "outputs": [],
   "source": [
    "testFrames = Final_frameFile[Final_frameFile['FrameFilename'].isin(testSetVDOlist)]\n"
   ]
  },
  {
   "cell_type": "code",
   "execution_count": 24,
   "metadata": {},
   "outputs": [
    {
     "data": {
      "text/plain": [
       "(319, 3)"
      ]
     },
     "execution_count": 24,
     "metadata": {},
     "output_type": "execute_result"
    }
   ],
   "source": [
    "testFrames.shape"
   ]
  },
  {
   "cell_type": "code",
   "execution_count": 25,
   "metadata": {},
   "outputs": [
    {
     "data": {
      "text/html": [
       "<div>\n",
       "<style scoped>\n",
       "    .dataframe tbody tr th:only-of-type {\n",
       "        vertical-align: middle;\n",
       "    }\n",
       "\n",
       "    .dataframe tbody tr th {\n",
       "        vertical-align: top;\n",
       "    }\n",
       "\n",
       "    .dataframe thead th {\n",
       "        text-align: right;\n",
       "    }\n",
       "</style>\n",
       "<table border=\"1\" class=\"dataframe\">\n",
       "  <thead>\n",
       "    <tr style=\"text-align: right;\">\n",
       "      <th></th>\n",
       "      <th>FrameFilename</th>\n",
       "      <th>FullPathName</th>\n",
       "      <th>class</th>\n",
       "    </tr>\n",
       "  </thead>\n",
       "  <tbody>\n",
       "    <tr>\n",
       "      <th>0</th>\n",
       "      <td>v_Basketball_g01_c01.avi</td>\n",
       "      <td>C:/1-GG/CAP4/EventDetection/1-ExampleSetting\\V...</td>\n",
       "      <td>Basketball</td>\n",
       "    </tr>\n",
       "    <tr>\n",
       "      <th>1</th>\n",
       "      <td>v_Basketball_g01_c01.avi</td>\n",
       "      <td>C:/1-GG/CAP4/EventDetection/1-ExampleSetting\\V...</td>\n",
       "      <td>Basketball</td>\n",
       "    </tr>\n",
       "    <tr>\n",
       "      <th>2</th>\n",
       "      <td>v_Basketball_g01_c01.avi</td>\n",
       "      <td>C:/1-GG/CAP4/EventDetection/1-ExampleSetting\\V...</td>\n",
       "      <td>Basketball</td>\n",
       "    </tr>\n",
       "    <tr>\n",
       "      <th>3</th>\n",
       "      <td>v_Basketball_g01_c01.avi</td>\n",
       "      <td>C:/1-GG/CAP4/EventDetection/1-ExampleSetting\\V...</td>\n",
       "      <td>Basketball</td>\n",
       "    </tr>\n",
       "    <tr>\n",
       "      <th>4</th>\n",
       "      <td>v_Basketball_g01_c01.avi</td>\n",
       "      <td>C:/1-GG/CAP4/EventDetection/1-ExampleSetting\\V...</td>\n",
       "      <td>Basketball</td>\n",
       "    </tr>\n",
       "  </tbody>\n",
       "</table>\n",
       "</div>"
      ],
      "text/plain": [
       "              FrameFilename  \\\n",
       "0  v_Basketball_g01_c01.avi   \n",
       "1  v_Basketball_g01_c01.avi   \n",
       "2  v_Basketball_g01_c01.avi   \n",
       "3  v_Basketball_g01_c01.avi   \n",
       "4  v_Basketball_g01_c01.avi   \n",
       "\n",
       "                                        FullPathName       class  \n",
       "0  C:/1-GG/CAP4/EventDetection/1-ExampleSetting\\V...  Basketball  \n",
       "1  C:/1-GG/CAP4/EventDetection/1-ExampleSetting\\V...  Basketball  \n",
       "2  C:/1-GG/CAP4/EventDetection/1-ExampleSetting\\V...  Basketball  \n",
       "3  C:/1-GG/CAP4/EventDetection/1-ExampleSetting\\V...  Basketball  \n",
       "4  C:/1-GG/CAP4/EventDetection/1-ExampleSetting\\V...  Basketball  "
      ]
     },
     "execution_count": 25,
     "metadata": {},
     "output_type": "execute_result"
    }
   ],
   "source": [
    "testFrames.head()"
   ]
  },
  {
   "cell_type": "markdown",
   "metadata": {},
   "source": [
    "## Extract test set vdo files from Final_frameFile"
   ]
  },
  {
   "cell_type": "code",
   "execution_count": 26,
   "metadata": {},
   "outputs": [],
   "source": [
    "# For train frame - all rows except (~) the test vdo list\n",
    "trainFrames = Final_frameFile[~Final_frameFile['FrameFilename'].isin(testSetVDOlist)]\n"
   ]
  },
  {
   "cell_type": "code",
   "execution_count": 27,
   "metadata": {},
   "outputs": [
    {
     "data": {
      "text/plain": [
       "(973, 3)"
      ]
     },
     "execution_count": 27,
     "metadata": {},
     "output_type": "execute_result"
    }
   ],
   "source": [
    "trainFrames.shape"
   ]
  },
  {
   "cell_type": "markdown",
   "metadata": {},
   "source": [
    "#### Find Common Rows between two Dataframe - trainFrames , testFrames - There should not be common row"
   ]
  },
  {
   "cell_type": "code",
   "execution_count": 28,
   "metadata": {
    "scrolled": true
   },
   "outputs": [
    {
     "data": {
      "text/html": [
       "<div>\n",
       "<style scoped>\n",
       "    .dataframe tbody tr th:only-of-type {\n",
       "        vertical-align: middle;\n",
       "    }\n",
       "\n",
       "    .dataframe tbody tr th {\n",
       "        vertical-align: top;\n",
       "    }\n",
       "\n",
       "    .dataframe thead th {\n",
       "        text-align: right;\n",
       "    }\n",
       "</style>\n",
       "<table border=\"1\" class=\"dataframe\">\n",
       "  <thead>\n",
       "    <tr style=\"text-align: right;\">\n",
       "      <th></th>\n",
       "      <th>FrameFilename</th>\n",
       "      <th>FullPathName</th>\n",
       "      <th>class</th>\n",
       "    </tr>\n",
       "  </thead>\n",
       "  <tbody>\n",
       "  </tbody>\n",
       "</table>\n",
       "</div>"
      ],
      "text/plain": [
       "Empty DataFrame\n",
       "Columns: [FrameFilename, FullPathName, class]\n",
       "Index: []"
      ]
     },
     "execution_count": 28,
     "metadata": {},
     "output_type": "execute_result"
    }
   ],
   "source": [
    "## Find Common Rows between two Dataframe - trainFrames , testFrames - There should not be common row\n",
    "\n",
    "dfcommon = trainFrames.merge(testFrames, how = 'inner' ,indicator=False)\n",
    "dfcommon"
   ]
  },
  {
   "cell_type": "code",
   "execution_count": null,
   "metadata": {},
   "outputs": [],
   "source": []
  },
  {
   "cell_type": "code",
   "execution_count": 29,
   "metadata": {},
   "outputs": [],
   "source": [
    "### Store Train and test set "
   ]
  },
  {
   "cell_type": "code",
   "execution_count": 30,
   "metadata": {},
   "outputs": [],
   "source": [
    "trainFrames.to_csv(OutputFiles+'/trainFrames.csv',header=True, index=False)\n",
    "testFrames.to_csv(OutputFiles+'/testFrames.csv',header=True, index=False)\n"
   ]
  },
  {
   "cell_type": "code",
   "execution_count": null,
   "metadata": {},
   "outputs": [],
   "source": []
  }
 ],
 "metadata": {
  "kernelspec": {
   "display_name": "Python 3",
   "language": "python",
   "name": "python3"
  },
  "language_info": {
   "codemirror_mode": {
    "name": "ipython",
    "version": 3
   },
   "file_extension": ".py",
   "mimetype": "text/x-python",
   "name": "python",
   "nbconvert_exporter": "python",
   "pygments_lexer": "ipython3",
   "version": "3.8.8"
  }
 },
 "nbformat": 4,
 "nbformat_minor": 4
}
