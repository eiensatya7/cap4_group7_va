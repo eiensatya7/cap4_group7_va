{
 "cells": [
  {
   "cell_type": "markdown",
   "metadata": {},
   "source": [
    "\n",
    "#### CNN_LSTM - ConvLSTM2D\n",
    "\n",
    "#### Image Classification using CNN. As you all know that CNN works great on the images, but a video has an extra dimension, which is Time.\n",
    "\n",
    "#### basically videos are nothing but a series of images over time, which makes a video classification problem, a sequence classification task. And when it comes to sequences related problem, LSTM is the first thing which comes in our mind."
   ]
  },
  {
   "cell_type": "markdown",
   "metadata": {},
   "source": [
    "### ConvLSTM is a variation of LSTM cell that performs convolution within the LSTM cell. It replaces the matrix multiplication with the convolution operation. By applying convolution it captures the spatial features from the image."
   ]
  },
  {
   "cell_type": "code",
   "execution_count": 1,
   "metadata": {},
   "outputs": [
    {
     "name": "stderr",
     "output_type": "stream",
     "text": [
      "C:\\Users\\jaghos\\AppData\\Local\\Continuum\\anaconda3\\lib\\site-packages\\numpy\\_distributor_init.py:32: UserWarning: loaded more than 1 DLL from .libs:\n",
      "C:\\Users\\jaghos\\AppData\\Local\\Continuum\\anaconda3\\lib\\site-packages\\numpy\\.libs\\libopenblas.GK7GX5KEQ4F6UYO3P26ULGBQYHGQO7J4.gfortran-win_amd64.dll\n",
      "C:\\Users\\jaghos\\AppData\\Local\\Continuum\\anaconda3\\lib\\site-packages\\numpy\\.libs\\libopenblas.IPBC74C7KURV7CB2PKT5Z5FNR3SIBV4J.gfortran-win_amd64.dll\n",
      "  stacklevel=1)\n",
      "Using TensorFlow backend.\n"
     ]
    }
   ],
   "source": [
    "import keras\n",
    "from keras import applications\n",
    "from keras.preprocessing.image import ImageDataGenerator\n",
    "from keras import optimizers\n",
    "from keras.models import Sequential, Model \n",
    "import tensorflow as tf\n",
    "from keras.layers import *\n",
    "from keras.callbacks import ModelCheckpoint, LearningRateScheduler, TensorBoard, EarlyStopping\n",
    "from tensorflow.keras.utils import plot_model\n",
    " \n",
    "import os\n",
    "import cv2\n",
    "import numpy as np\n",
    "from sklearn.model_selection import train_test_split\n",
    "## pip install keras-metrics\n",
    "import keras_metrics as km\n",
    " \n",
    " \n",
    "from sklearn.metrics import accuracy_score\n",
    "from sklearn.metrics import precision_score\n",
    "from sklearn.metrics import recall_score\n",
    "from sklearn.metrics import f1_score\n",
    "from sklearn.metrics import cohen_kappa_score\n",
    "from sklearn.metrics import roc_auc_score\n",
    "from sklearn.metrics import multilabel_confusion_matrix\n"
   ]
  },
  {
   "cell_type": "code",
   "execution_count": 2,
   "metadata": {},
   "outputs": [
    {
     "data": {
      "text/plain": [
       "['Basketball', 'SoccerPenalty']"
      ]
     },
     "execution_count": 2,
     "metadata": {},
     "output_type": "execute_result"
    }
   ],
   "source": [
    "data_dir = \"C:/1-GG/CAP4/EventDetection/Dataset-LSTM/VDO/\"\n",
    "os.listdir(data_dir)\n"
   ]
  },
  {
   "cell_type": "code",
   "execution_count": 3,
   "metadata": {},
   "outputs": [],
   "source": [
    "\n",
    "img_height , img_width = 64, 64\n",
    "seq_len = 30\n",
    "classes = [\"Basketball\", \"SoccerPenalty\"]\n"
   ]
  },
  {
   "cell_type": "code",
   "execution_count": 4,
   "metadata": {},
   "outputs": [],
   "source": [
    "\n",
    " \n",
    "#  Creating frames from videos\n",
    " \n",
    "def frames_extraction(video_path):\n",
    "    frames_list = []\n",
    "    vidObj = cv2.VideoCapture(video_path)\n",
    "    # Used as counter variable \n",
    "    count = 1\n",
    " \n",
    "    while count <= seq_len: \n",
    "         \n",
    "        success, image = vidObj.read() \n",
    "        if success:\n",
    "            image = cv2.resize(image, (img_height, img_width))\n",
    "            # Normalize the resized frame by dividing it with 255 so that each pixel value then lies between 0 and 1\n",
    "            normalized_frame = image / 255\n",
    "            frames_list.append(normalized_frame)\n",
    "            count += 1\n",
    "            \n",
    "        else:\n",
    "            print(\"Defected frame\")\n",
    "            break\n",
    " \n",
    "            \n",
    "    return frames_list\n",
    " \n",
    "def create_data(input_dir):\n",
    "    X = []\n",
    "    Y = []\n",
    "     \n",
    "    classes_list = os.listdir(input_dir)\n",
    "     \n",
    "    for c in classes_list:\n",
    "        print(c)\n",
    "        files_list = os.listdir(os.path.join(input_dir, c))\n",
    "        for f in files_list:\n",
    "           frames = frames_extraction(os.path.join(os.path.join(input_dir, c), f))\n",
    "           if len(frames) == seq_len:\n",
    "                X.append(frames)\n",
    "             \n",
    "                y = [0]*len(classes)\n",
    "                y[classes.index(c)] = 1\n",
    "                Y.append(y)\n",
    "     \n",
    "    X = np.asarray(X)\n",
    "    Y = np.asarray(Y)\n",
    "    return X, Y\n",
    " \n"
   ]
  },
  {
   "cell_type": "code",
   "execution_count": 5,
   "metadata": {
    "scrolled": true
   },
   "outputs": [
    {
     "name": "stdout",
     "output_type": "stream",
     "text": [
      "Basketball\n",
      "SoccerPenalty\n"
     ]
    }
   ],
   "source": [
    "X, Y = create_data(data_dir)"
   ]
  },
  {
   "cell_type": "code",
   "execution_count": 6,
   "metadata": {},
   "outputs": [],
   "source": [
    "X_train, X_test, y_train, y_test = train_test_split(X, Y, test_size=0.20, shuffle=True, random_state=0)"
   ]
  },
  {
   "cell_type": "code",
   "execution_count": 7,
   "metadata": {},
   "outputs": [
    {
     "data": {
      "text/plain": [
       "(220, 30, 64, 64, 3)"
      ]
     },
     "execution_count": 7,
     "metadata": {},
     "output_type": "execute_result"
    }
   ],
   "source": [
    "X_train.shape"
   ]
  },
  {
   "cell_type": "code",
   "execution_count": 8,
   "metadata": {},
   "outputs": [
    {
     "data": {
      "text/plain": [
       "(55, 30, 64, 64, 3)"
      ]
     },
     "execution_count": 8,
     "metadata": {},
     "output_type": "execute_result"
    }
   ],
   "source": [
    "X_test.shape"
   ]
  },
  {
   "cell_type": "code",
   "execution_count": null,
   "metadata": {},
   "outputs": [],
   "source": []
  },
  {
   "cell_type": "code",
   "execution_count": null,
   "metadata": {},
   "outputs": [],
   "source": []
  },
  {
   "cell_type": "code",
   "execution_count": 9,
   "metadata": {},
   "outputs": [
    {
     "name": "stdout",
     "output_type": "stream",
     "text": [
      "Model: \"sequential_1\"\n",
      "_________________________________________________________________\n",
      "Layer (type)                 Output Shape              Param #   \n",
      "=================================================================\n",
      "conv_lst_m2d_1 (ConvLSTM2D)  (None, 30, 62, 62, 64)    154624    \n",
      "_________________________________________________________________\n",
      "dropout_1 (Dropout)          (None, 30, 62, 62, 64)    0         \n",
      "_________________________________________________________________\n",
      "conv_lst_m2d_2 (ConvLSTM2D)  (None, 30, 60, 60, 32)    110720    \n",
      "_________________________________________________________________\n",
      "conv_lst_m2d_3 (ConvLSTM2D)  (None, 58, 58, 16)        27712     \n",
      "_________________________________________________________________\n",
      "flatten_1 (Flatten)          (None, 53824)             0         \n",
      "_________________________________________________________________\n",
      "dense_1 (Dense)              (None, 256)               13779200  \n",
      "_________________________________________________________________\n",
      "dropout_2 (Dropout)          (None, 256)               0         \n",
      "_________________________________________________________________\n",
      "dense_2 (Dense)              (None, 64)                16448     \n",
      "_________________________________________________________________\n",
      "dropout_3 (Dropout)          (None, 64)                0         \n",
      "_________________________________________________________________\n",
      "dense_3 (Dense)              (None, 16)                1040      \n",
      "_________________________________________________________________\n",
      "dense_4 (Dense)              (None, 2)                 34        \n",
      "=================================================================\n",
      "Total params: 14,089,778\n",
      "Trainable params: 14,089,778\n",
      "Non-trainable params: 0\n",
      "_________________________________________________________________\n",
      "None\n"
     ]
    },
    {
     "data": {
      "image/png": "[encoded data removed]",
      "text/plain": [
       "<IPython.core.display.Image object>"
      ]
     },
     "execution_count": 9,
     "metadata": {},
     "output_type": "execute_result"
    }
   ],
   "source": [
    "\n",
    "model = Sequential()\n",
    "model.add(ConvLSTM2D(filters = 64, kernel_size = (3, 3), return_sequences = True, data_format = \"channels_last\", input_shape = (seq_len, img_height, img_width, 3)))\n",
    "model.add(Dropout(0.2))\n",
    "model.add(ConvLSTM2D(filters = 32, kernel_size = (3, 3), return_sequences = True, data_format = \"channels_last\"))#return sequences should be true so that the next convlstm layer can get the right input shape of sequences\n",
    "model.add(ConvLSTM2D(filters = 16, kernel_size = (3, 3), return_sequences = False, data_format = \"channels_last\"))\n",
    "model.add(Flatten())\n",
    "model.add(Dense(256, activation=\"relu\"))\n",
    "model.add(Dropout(0.3))\n",
    "model.add(Dense(64, activation=\"relu\"))\n",
    "model.add(Dropout(0.2))\n",
    "model.add(Dense(16, activation=\"relu\"))\n",
    "#model.add(Dense(6, activation = \"softmax\"))\n",
    "model.add(Dense(2, activation = \"softmax\"))\n",
    " \n",
    "print(model.summary())\n",
    " \n",
    "opt = keras.optimizers.SGD(lr=0.001)\n",
    "model.compile(loss='categorical_crossentropy', optimizer=opt, metrics=[\"accuracy\"])\n",
    " \n",
    "earlystop = EarlyStopping(patience=7)\n",
    "callbacks = [earlystop]\n",
    " \n",
    "## Check Model architecture\n",
    "plot_model(model, to_file = 'model_structure_plot.png', show_shapes = True, show_layer_names = True)"
   ]
  },
  {
   "cell_type": "code",
   "execution_count": 10,
   "metadata": {},
   "outputs": [
    {
     "name": "stdout",
     "output_type": "stream",
     "text": [
      "Train on 176 samples, validate on 44 samples\n",
      "Epoch 1/10\n",
      "176/176 [==============================] - 63s 359ms/step - loss: 0.6672 - accuracy: 0.6080 - val_loss: 0.5846 - val_accuracy: 0.8182\n",
      "Epoch 2/10\n",
      "176/176 [==============================] - 74s 422ms/step - loss: 0.5228 - accuracy: 0.8068 - val_loss: 0.4992 - val_accuracy: 0.7955\n",
      "Epoch 3/10\n",
      "176/176 [==============================] - 74s 420ms/step - loss: 0.4404 - accuracy: 0.8409 - val_loss: 0.3701 - val_accuracy: 0.8409\n",
      "Epoch 4/10\n",
      "176/176 [==============================] - 81s 458ms/step - loss: 0.3923 - accuracy: 0.8352 - val_loss: 0.2979 - val_accuracy: 0.8864\n",
      "Epoch 5/10\n",
      "176/176 [==============================] - 79s 452ms/step - loss: 0.3611 - accuracy: 0.8750 - val_loss: 0.2293 - val_accuracy: 0.8864\n",
      "Epoch 6/10\n",
      "176/176 [==============================] - 68s 385ms/step - loss: 0.2589 - accuracy: 0.9034 - val_loss: 0.1378 - val_accuracy: 0.9773\n",
      "Epoch 7/10\n",
      "176/176 [==============================] - 74s 421ms/step - loss: 0.2111 - accuracy: 0.9261 - val_loss: 0.1227 - val_accuracy: 0.9545\n",
      "Epoch 8/10\n",
      "176/176 [==============================] - 77s 436ms/step - loss: 0.1867 - accuracy: 0.9545 - val_loss: 0.1353 - val_accuracy: 0.9545\n",
      "Epoch 9/10\n",
      "176/176 [==============================] - 82s 465ms/step - loss: 0.3311 - accuracy: 0.8352 - val_loss: 0.4174 - val_accuracy: 0.8409\n",
      "Epoch 10/10\n",
      "176/176 [==============================] - 75s 426ms/step - loss: 0.1589 - accuracy: 0.9602 - val_loss: 0.0896 - val_accuracy: 0.9545\n",
      "Wall time: 12min 30s\n"
     ]
    }
   ],
   "source": [
    "%%time\n",
    "history = model.fit(x = X_train, y = y_train, epochs=10, batch_size = 4 , shuffle=True, validation_split=0.2, callbacks=callbacks)\n",
    " \n"
   ]
  },
  {
   "cell_type": "code",
   "execution_count": 11,
   "metadata": {},
   "outputs": [
    {
     "data": {
      "text/plain": [
       "<Figure size 3000x3000 with 0 Axes>"
      ]
     },
     "execution_count": 11,
     "metadata": {},
     "output_type": "execute_result"
    }
   ],
   "source": [
    "import matplotlib.pyplot as plt\n",
    "# Create a Matplotlib figure\n",
    "plt.figure(figsize = (30, 30))"
   ]
  },
  {
   "cell_type": "code",
   "execution_count": 12,
   "metadata": {},
   "outputs": [],
   "source": [
    "def plot_metric(metric_name_1, metric_name_2, plot_name):\n",
    "  # Get Metric values using metric names as identifiers\n",
    "  metric_value_1 = history.history[metric_name_1]\n",
    "  metric_value_2 = history.history[metric_name_2]\n",
    "\n",
    "\n",
    "  # Constructing a range object which will be used as time \n",
    "  epochs = range(len(metric_value_1))\n",
    "  \n",
    "  # Plotting the Graph\n",
    "  plt.plot(epochs, metric_value_1, 'blue', label = metric_name_1)\n",
    "  plt.plot(epochs, metric_value_2, 'red', label = metric_name_2)\n",
    "  \n",
    "  # Adding title to the plot\n",
    "  plt.title(str(plot_name))\n",
    "\n",
    "  # Adding legend to the plot\n",
    "  plt.legend()"
   ]
  },
  {
   "cell_type": "code",
   "execution_count": 13,
   "metadata": {},
   "outputs": [
    {
     "data": {
      "image/png": "[encoded data removed]",
      "text/plain": [
       "<Figure size 432x288 with 1 Axes>"
      ]
     },
     "metadata": {
      "needs_background": "light"
     },
     "output_type": "display_data"
    }
   ],
   "source": [
    "plot_metric('loss', 'val_loss', 'Total Loss vs Total Validation Loss')"
   ]
  },
  {
   "cell_type": "code",
   "execution_count": 14,
   "metadata": {},
   "outputs": [
    {
     "data": {
      "image/png": "[encoded data removed]",
      "text/plain": [
       "<Figure size 432x288 with 1 Axes>"
      ]
     },
     "metadata": {
      "needs_background": "light"
     },
     "output_type": "display_data"
    }
   ],
   "source": [
    "plot_metric('accuracy', 'val_accuracy', 'Total Accuracy vs Total Validation Accuracy')"
   ]
  },
  {
   "cell_type": "code",
   "execution_count": null,
   "metadata": {},
   "outputs": [],
   "source": []
  },
  {
   "cell_type": "code",
   "execution_count": 18,
   "metadata": {},
   "outputs": [],
   "source": [
    "#model_evaluation_loss, model_evaluation_accuracy = model_evaluation_history\n",
    "model_name = 'CNNLSTM_modelBP.h5'\n",
    "## Where to save\n",
    "modesavedFolder = \"C:/1-GG/CAP4/EventDetection/Dataset-LSTM/SavedModel\""
   ]
  },
  {
   "cell_type": "code",
   "execution_count": 19,
   "metadata": {},
   "outputs": [],
   "source": [
    "# Saving Model\n",
    "model.save(modesavedFolder+'/'+model_name)"
   ]
  },
  {
   "cell_type": "code",
   "execution_count": 20,
   "metadata": {},
   "outputs": [],
   "source": [
    "### How to readback the model from disk\n",
    "from tensorflow import keras\n",
    "model = keras.models.load_model(modesavedFolder+'/'+model_name)"
   ]
  },
  {
   "cell_type": "code",
   "execution_count": 21,
   "metadata": {},
   "outputs": [
    {
     "name": "stdout",
     "output_type": "stream",
     "text": [
      "Wall time: 59.9 s\n"
     ]
    }
   ],
   "source": [
    "%%time\n",
    "with tf.device(\"cpu:0\"):preds = model.predict(X_test,0)\n",
    "preds = np.round(preds)"
   ]
  },
  {
   "cell_type": "code",
   "execution_count": 22,
   "metadata": {
    "scrolled": true
   },
   "outputs": [
    {
     "name": "stdout",
     "output_type": "stream",
     "text": [
      "Round Test_labels [[1. 0.]\n",
      " [0. 1.]\n",
      " [0. 1.]\n",
      " [0. 1.]\n",
      " [0. 1.]\n",
      " [0. 1.]\n",
      " [0. 1.]\n",
      " [1. 0.]\n",
      " [0. 1.]\n",
      " [1. 0.]\n",
      " [1. 0.]\n",
      " [1. 0.]\n",
      " [0. 1.]\n",
      " [1. 0.]\n",
      " [1. 0.]\n",
      " [1. 0.]\n",
      " [0. 1.]\n",
      " [0. 1.]\n",
      " [1. 0.]\n",
      " [0. 1.]\n",
      " [0. 1.]\n",
      " [1. 0.]\n",
      " [0. 1.]\n",
      " [1. 0.]\n",
      " [0. 1.]\n",
      " [0. 1.]\n",
      " [1. 0.]\n",
      " [1. 0.]\n",
      " [0. 1.]\n",
      " [1. 0.]\n",
      " [0. 1.]\n",
      " [0. 1.]\n",
      " [0. 1.]\n",
      " [0. 1.]\n",
      " [0. 1.]\n",
      " [0. 1.]\n",
      " [1. 0.]\n",
      " [0. 1.]\n",
      " [0. 1.]\n",
      " [1. 0.]\n",
      " [0. 1.]\n",
      " [1. 0.]\n",
      " [0. 1.]\n",
      " [1. 0.]\n",
      " [0. 1.]\n",
      " [1. 0.]\n",
      " [1. 0.]\n",
      " [1. 0.]\n",
      " [1. 0.]\n",
      " [0. 1.]\n",
      " [0. 1.]\n",
      " [1. 0.]\n",
      " [0. 1.]\n",
      " [0. 1.]\n",
      " [1. 0.]]\n"
     ]
    }
   ],
   "source": [
    "print('Round Test_labels' , preds)"
   ]
  },
  {
   "cell_type": "code",
   "execution_count": 23,
   "metadata": {},
   "outputs": [
    {
     "name": "stdout",
     "output_type": "stream",
     "text": [
      "               precision    recall  f1-score   support\n",
      "\n",
      "   Basketball       0.96      1.00      0.98        23\n",
      "SoccerPenalty       1.00      0.97      0.98        32\n",
      "\n",
      "    micro avg       0.98      0.98      0.98        55\n",
      "    macro avg       0.98      0.98      0.98        55\n",
      " weighted avg       0.98      0.98      0.98        55\n",
      "  samples avg       0.98      0.98      0.98        55\n",
      "\n"
     ]
    }
   ],
   "source": [
    "from sklearn.metrics import classification_report\n",
    "classification_metrics = classification_report(y_test,preds, target_names = classes)\n",
    "print(classification_metrics)"
   ]
  },
  {
   "cell_type": "markdown",
   "metadata": {},
   "source": [
    "# Test Model on Video"
   ]
  },
  {
   "cell_type": "code",
   "execution_count": 24,
   "metadata": {},
   "outputs": [
    {
     "name": "stdout",
     "output_type": "stream",
     "text": [
      "C:/1-GG/CAP4/EventDetection/Dataset-LSTM/CNNLSTM_Apply_vdo/Apply_vdo/combined_video-2vdo.mp4\n"
     ]
    }
   ],
   "source": [
    "from collections import deque\n",
    "\n",
    "Vdo_input_directory = 'C:/1-GG/CAP4/EventDetection/Dataset-LSTM/CNNLSTM_Apply_vdo/Apply_vdo'\n",
    "\n",
    "# Getting input Video's path \n",
    "video_title = 'combined_video-2vdo'\n",
    "input_video_file_path = f'{Vdo_input_directory}/{video_title}.mp4'\n",
    "print(input_video_file_path)"
   ]
  },
  {
   "cell_type": "code",
   "execution_count": 25,
   "metadata": {},
   "outputs": [
    {
     "name": "stdout",
     "output_type": "stream",
     "text": [
      "C:/1-GG/CAP4/EventDetection/Dataset-LSTM/CNNLSTM_Apply_vdo/OutPut_vdo/combined_video-2vdo -Output-WSize 1.mp4\n"
     ]
    }
   ],
   "source": [
    "# Setting sthe Window Size which will be used by the Rolling Average Proces\n",
    "window_size = 1\n",
    "\n",
    "Vdo_output_directory = 'C:/1-GG/CAP4/EventDetection/Dataset-LSTM/CNNLSTM_Apply_vdo/OutPut_vdo'\n",
    "# Setting up Output Video Path\n",
    "output_video_file_path = f'{Vdo_output_directory}/{video_title} -Output-WSize {window_size}.mp4'\n",
    "\n",
    "print(output_video_file_path)"
   ]
  },
  {
   "cell_type": "code",
   "execution_count": 26,
   "metadata": {},
   "outputs": [
    {
     "name": "stdout",
     "output_type": "stream",
     "text": [
      "Open successfully\n"
     ]
    }
   ],
   "source": [
    "video_file_path = input_video_file_path\n",
    "\n",
    "video_reader = cv2.VideoCapture(video_file_path)\n",
    "\n",
    "if not video_reader.isOpened():\n",
    "    print(\"Cannot open file\")\n",
    "else:\n",
    "    print(\"Open successfully\")\n",
    "    \n"
   ]
  },
  {
   "cell_type": "markdown",
   "metadata": {},
   "source": [
    "### Define Live VDO prediction function"
   ]
  },
  {
   "cell_type": "code",
   "execution_count": 27,
   "metadata": {},
   "outputs": [],
   "source": [
    "\n",
    " \n",
    "#  Creating final output video\n",
    " \n",
    "def Create_output_Video(video_path,output_file_path):\n",
    "    frames_list = []\n",
    "    frame_sequence = []\n",
    "    original_frames = []\n",
    "    vidObj = cv2.VideoCapture(video_path)\n",
    "     # Getting the width and height of the video \n",
    "    original_video_width = int(vidObj.get(cv2.CAP_PROP_FRAME_WIDTH))\n",
    "    original_video_height = int(vidObj.get(cv2.CAP_PROP_FRAME_HEIGHT))\n",
    "\n",
    "    # Writing the Overlayed Video Files Using the VideoWriter Object\n",
    "    video_writer = cv2.VideoWriter(output_file_path, cv2.VideoWriter_fourcc('M', 'P', '4', 'V'), 24, (original_video_width, original_video_height))\n",
    "\n",
    "    # Used as counter variable \n",
    "    count = 1\n",
    " \n",
    "    while True: \n",
    "         \n",
    "        success, image = vidObj.read() \n",
    "        if success:\n",
    "            original_frames.append(image)\n",
    "            normalized_frame = cv2.resize(image, (img_height, img_width))\n",
    "            # Normalize the resized frame by dividing it with 255 so that each pixel value then lies between 0 and 1\n",
    "            normalized_frame = normalized_frame / 255\n",
    "            frames_list.append(normalized_frame)\n",
    "            if(count % seq_len == 0):\n",
    "                frame_sequence.append(frames_list)\n",
    "                frame_sequence = np.array(frame_sequence)\n",
    "                print(frame_sequence.shape)\n",
    "                predicted_labels_probabilities = model.predict(frame_sequence, 0)\n",
    "                predicted_labels_probabilities = np.round(predicted_labels_probabilities)\n",
    "                predicted_label = np.argmax(predicted_labels_probabilities)\n",
    "                predicted_class_name = classes[predicted_label]\n",
    "                for original_frame in original_frames:\n",
    "                    # Overlaying Class Name Text Ontop of the Frame\n",
    "                    cv2.putText(original_frame, predicted_class_name, (50, 50), cv2.FONT_HERSHEY_SIMPLEX, 1, (0, 0, 255), 2)\n",
    "                    #cv2.putText(frame, avg_prob, (60, 60), cv2.FONT_HERSHEY_SIMPLEX, 1, (0, 255, 255), 2)\n",
    "                    #cv2.putText(original_frame, predicted_labels_probabilities, (80, 100),  cv2.FONT_HERSHEY_SIMPLEX, 1,(0, 0, 255), 2)\n",
    "                    # Writing The Frame\n",
    "                    video_writer.write(original_frame)\n",
    "                frames_list = []\n",
    "                frame_sequence = []\n",
    "                original_frames = []\n",
    "            count += 1\n",
    "            \n",
    "            \n",
    "        else:\n",
    "            print(\"Defected frame\")\n",
    "            break\n",
    "            \n",
    "    # Closing the VideoCapture and VideoWriter objects and releasing all resources held by them. \n",
    "    video_reader.release()\n",
    "    video_writer.release()\n",
    " "
   ]
  },
  {
   "cell_type": "code",
   "execution_count": 28,
   "metadata": {},
   "outputs": [
    {
     "name": "stdout",
     "output_type": "stream",
     "text": [
      "(1, 30, 64, 64, 3)\n",
      "(1, 30, 64, 64, 3)\n",
      "(1, 30, 64, 64, 3)\n",
      "(1, 30, 64, 64, 3)\n",
      "(1, 30, 64, 64, 3)\n",
      "(1, 30, 64, 64, 3)\n",
      "(1, 30, 64, 64, 3)\n",
      "(1, 30, 64, 64, 3)\n",
      "(1, 30, 64, 64, 3)\n",
      "(1, 30, 64, 64, 3)\n",
      "(1, 30, 64, 64, 3)\n",
      "(1, 30, 64, 64, 3)\n",
      "(1, 30, 64, 64, 3)\n",
      "(1, 30, 64, 64, 3)\n",
      "(1, 30, 64, 64, 3)\n",
      "(1, 30, 64, 64, 3)\n",
      "(1, 30, 64, 64, 3)\n",
      "(1, 30, 64, 64, 3)\n",
      "(1, 30, 64, 64, 3)\n",
      "(1, 30, 64, 64, 3)\n",
      "(1, 30, 64, 64, 3)\n",
      "(1, 30, 64, 64, 3)\n",
      "(1, 30, 64, 64, 3)\n",
      "(1, 30, 64, 64, 3)\n",
      "(1, 30, 64, 64, 3)\n",
      "(1, 30, 64, 64, 3)\n",
      "(1, 30, 64, 64, 3)\n",
      "(1, 30, 64, 64, 3)\n",
      "(1, 30, 64, 64, 3)\n",
      "(1, 30, 64, 64, 3)\n",
      "(1, 30, 64, 64, 3)\n",
      "(1, 30, 64, 64, 3)\n",
      "(1, 30, 64, 64, 3)\n",
      "(1, 30, 64, 64, 3)\n",
      "(1, 30, 64, 64, 3)\n",
      "(1, 30, 64, 64, 3)\n",
      "(1, 30, 64, 64, 3)\n",
      "(1, 30, 64, 64, 3)\n",
      "(1, 30, 64, 64, 3)\n",
      "(1, 30, 64, 64, 3)\n",
      "(1, 30, 64, 64, 3)\n",
      "(1, 30, 64, 64, 3)\n",
      "(1, 30, 64, 64, 3)\n",
      "(1, 30, 64, 64, 3)\n",
      "(1, 30, 64, 64, 3)\n",
      "(1, 30, 64, 64, 3)\n",
      "(1, 30, 64, 64, 3)\n",
      "(1, 30, 64, 64, 3)\n",
      "(1, 30, 64, 64, 3)\n",
      "(1, 30, 64, 64, 3)\n",
      "(1, 30, 64, 64, 3)\n",
      "(1, 30, 64, 64, 3)\n",
      "(1, 30, 64, 64, 3)\n",
      "(1, 30, 64, 64, 3)\n",
      "(1, 30, 64, 64, 3)\n",
      "(1, 30, 64, 64, 3)\n",
      "(1, 30, 64, 64, 3)\n",
      "(1, 30, 64, 64, 3)\n",
      "(1, 30, 64, 64, 3)\n",
      "(1, 30, 64, 64, 3)\n",
      "(1, 30, 64, 64, 3)\n",
      "(1, 30, 64, 64, 3)\n",
      "(1, 30, 64, 64, 3)\n",
      "(1, 30, 64, 64, 3)\n",
      "(1, 30, 64, 64, 3)\n",
      "(1, 30, 64, 64, 3)\n",
      "(1, 30, 64, 64, 3)\n",
      "(1, 30, 64, 64, 3)\n",
      "(1, 30, 64, 64, 3)\n",
      "(1, 30, 64, 64, 3)\n",
      "(1, 30, 64, 64, 3)\n",
      "(1, 30, 64, 64, 3)\n",
      "(1, 30, 64, 64, 3)\n",
      "(1, 30, 64, 64, 3)\n",
      "(1, 30, 64, 64, 3)\n",
      "(1, 30, 64, 64, 3)\n",
      "(1, 30, 64, 64, 3)\n",
      "(1, 30, 64, 64, 3)\n",
      "(1, 30, 64, 64, 3)\n",
      "(1, 30, 64, 64, 3)\n",
      "(1, 30, 64, 64, 3)\n",
      "(1, 30, 64, 64, 3)\n",
      "(1, 30, 64, 64, 3)\n",
      "(1, 30, 64, 64, 3)\n",
      "(1, 30, 64, 64, 3)\n",
      "(1, 30, 64, 64, 3)\n",
      "(1, 30, 64, 64, 3)\n",
      "(1, 30, 64, 64, 3)\n",
      "(1, 30, 64, 64, 3)\n",
      "Defected frame\n",
      "Predicted Video Created\n",
      "Wall time: 50.6 s\n"
     ]
    }
   ],
   "source": [
    "%%time\n",
    "# Calling the create_output_video method to start the Prediction.\n",
    "Create_output_Video(input_video_file_path,output_video_file_path)\n",
    "print(\"Predicted Video Created\")"
   ]
  },
  {
   "cell_type": "code",
   "execution_count": null,
   "metadata": {},
   "outputs": [],
   "source": []
  }
 ],
 "metadata": {
  "kernelspec": {
   "display_name": "Python 3",
   "language": "python",
   "name": "python3"
  },
  "language_info": {
   "codemirror_mode": {
    "name": "ipython",
    "version": 3
   },
   "file_extension": ".py",
   "mimetype": "text/x-python",
   "name": "python",
   "nbconvert_exporter": "python",
   "pygments_lexer": "ipython3",
   "version": "3.7.4"
  }
 },
 "nbformat": 4,
 "nbformat_minor": 4
}
