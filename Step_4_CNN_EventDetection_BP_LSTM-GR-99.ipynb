{
 "cells": [
  {
   "cell_type": "markdown",
   "metadata": {},
   "source": [
    "\n",
    "#### CNN_LSTM - ConvLSTM2D\n",
    "\n",
    "#### Image Classification using CNN. As you all know that CNN works great on the images, but a video has an extra dimension, which is Time.\n",
    "\n",
    "#### basically videos are nothing but a series of images over time, which makes a video classification problem, a sequence classification task. And when it comes to sequences related problem, LSTM is the first thing which comes in our mind."
   ]
  },
  {
   "cell_type": "markdown",
   "metadata": {},
   "source": [
    "### ConvLSTM is a variation of LSTM cell that performs convolution within the LSTM cell. It replaces the matrix multiplication with the convolution operation. By applying convolution it captures the spatial features from the image."
   ]
  },
  {
   "cell_type": "code",
   "execution_count": 71,
   "metadata": {},
   "outputs": [],
   "source": [
    "import keras\n",
    "from keras import applications\n",
    "from keras.preprocessing.image import ImageDataGenerator\n",
    "from keras import optimizers\n",
    "from keras.models import Sequential, Model \n",
    "import tensorflow as tf\n",
    "from keras.layers import *\n",
    "from keras.callbacks import ModelCheckpoint, LearningRateScheduler, TensorBoard, EarlyStopping\n",
    "from tensorflow.keras.utils import plot_model\n",
    " \n",
    "import os\n",
    "import cv2\n",
    "import numpy as np\n",
    "from sklearn.model_selection import train_test_split\n",
    "## pip install keras-metrics\n",
    "import keras_metrics as km\n",
    " \n",
    " \n",
    "from sklearn.metrics import accuracy_score\n",
    "from sklearn.metrics import precision_score\n",
    "from sklearn.metrics import recall_score\n",
    "from sklearn.metrics import f1_score\n",
    "from sklearn.metrics import cohen_kappa_score\n",
    "from sklearn.metrics import roc_auc_score\n",
    "from sklearn.metrics import multilabel_confusion_matrix\n"
   ]
  },
  {
   "cell_type": "code",
   "execution_count": 72,
   "metadata": {},
   "outputs": [
    {
     "data": {
      "text/plain": [
       "['Basketball', 'SoccerPenalty']"
      ]
     },
     "execution_count": 72,
     "metadata": {},
     "output_type": "execute_result"
    }
   ],
   "source": [
    "data_dir = \"C:/1-GG/CAP4/EventDetection/Dataset-LSTM/VDO/\"\n",
    "os.listdir(data_dir)\n"
   ]
  },
  {
   "cell_type": "code",
   "execution_count": 73,
   "metadata": {},
   "outputs": [],
   "source": [
    "\n",
    "img_height , img_width = 64, 64\n",
    "seq_len = 30\n",
    "classes = [\"Basketball\", \"SoccerPenalty\"]\n"
   ]
  },
  {
   "cell_type": "code",
   "execution_count": 74,
   "metadata": {},
   "outputs": [],
   "source": [
    "\n",
    " \n",
    "#  Creating frames from videos\n",
    " \n",
    "def frames_extraction(video_path):\n",
    "    frames_list = []\n",
    "    vidObj = cv2.VideoCapture(video_path)\n",
    "    # Used as counter variable \n",
    "    count = 1\n",
    " \n",
    "    while count <= seq_len: \n",
    "         \n",
    "        success, image = vidObj.read() \n",
    "        if success:\n",
    "            image = cv2.resize(image, (img_height, img_width))\n",
    "            # Normalize the resized frame by dividing it with 255 so that each pixel value then lies between 0 and 1\n",
    "            normalized_frame = image / 255\n",
    "            frames_list.append(normalized_frame)\n",
    "            count += 1\n",
    "            \n",
    "        else:\n",
    "            print(\"Defected frame\")\n",
    "            break\n",
    " \n",
    "            \n",
    "    return frames_list\n",
    " \n",
    "def create_data(input_dir):\n",
    "    X = []\n",
    "    Y = []\n",
    "     \n",
    "    classes_list = os.listdir(input_dir)\n",
    "     \n",
    "    for c in classes_list:\n",
    "        print(c)\n",
    "        files_list = os.listdir(os.path.join(input_dir, c))\n",
    "        for f in files_list:\n",
    "           frames = frames_extraction(os.path.join(os.path.join(input_dir, c), f))\n",
    "           if len(frames) == seq_len:\n",
    "                X.append(frames)\n",
    "             \n",
    "                y = [0]*len(classes)\n",
    "                y[classes.index(c)] = 1\n",
    "                Y.append(y)\n",
    "     \n",
    "    X = np.asarray(X)\n",
    "    Y = np.asarray(Y)\n",
    "    return X, Y\n",
    " \n"
   ]
  },
  {
   "cell_type": "code",
   "execution_count": 75,
   "metadata": {
    "scrolled": true
   },
   "outputs": [
    {
     "name": "stdout",
     "output_type": "stream",
     "text": [
      "Basketball\n",
      "SoccerPenalty\n"
     ]
    }
   ],
   "source": [
    "X, Y = create_data(data_dir)"
   ]
  },
  {
   "cell_type": "code",
   "execution_count": 76,
   "metadata": {},
   "outputs": [],
   "source": [
    "X_train, X_test, y_train, y_test = train_test_split(X, Y, test_size=0.20, shuffle=True, random_state=0)"
   ]
  },
  {
   "cell_type": "code",
   "execution_count": 77,
   "metadata": {},
   "outputs": [
    {
     "data": {
      "text/plain": [
       "(220, 30, 64, 64, 3)"
      ]
     },
     "execution_count": 77,
     "metadata": {},
     "output_type": "execute_result"
    }
   ],
   "source": [
    "X_train.shape"
   ]
  },
  {
   "cell_type": "code",
   "execution_count": 78,
   "metadata": {},
   "outputs": [
    {
     "data": {
      "text/plain": [
       "(55, 30, 64, 64, 3)"
      ]
     },
     "execution_count": 78,
     "metadata": {},
     "output_type": "execute_result"
    }
   ],
   "source": [
    "X_test.shape"
   ]
  },
  {
   "cell_type": "code",
   "execution_count": null,
   "metadata": {},
   "outputs": [],
   "source": []
  },
  {
   "cell_type": "code",
   "execution_count": null,
   "metadata": {},
   "outputs": [],
   "source": []
  },
  {
   "cell_type": "code",
   "execution_count": 79,
   "metadata": {},
   "outputs": [
    {
     "name": "stdout",
     "output_type": "stream",
     "text": [
      "Model: \"sequential_3\"\n",
      "_________________________________________________________________\n",
      "Layer (type)                 Output Shape              Param #   \n",
      "=================================================================\n",
      "conv_lst_m2d_3 (ConvLSTM2D)  (None, 62, 62, 64)        154624    \n",
      "_________________________________________________________________\n",
      "dropout_5 (Dropout)          (None, 62, 62, 64)        0         \n",
      "_________________________________________________________________\n",
      "flatten_3 (Flatten)          (None, 246016)            0         \n",
      "_________________________________________________________________\n",
      "dense_5 (Dense)              (None, 256)               62980352  \n",
      "_________________________________________________________________\n",
      "dropout_6 (Dropout)          (None, 256)               0         \n",
      "_________________________________________________________________\n",
      "dense_6 (Dense)              (None, 2)                 514       \n",
      "=================================================================\n",
      "Total params: 63,135,490\n",
      "Trainable params: 63,135,490\n",
      "Non-trainable params: 0\n",
      "_________________________________________________________________\n",
      "None\n"
     ]
    },
    {
     "data": {
      "image/png": "[encoded data removed]",
      "text/plain": [
       "<IPython.core.display.Image object>"
      ]
     },
     "execution_count": 79,
     "metadata": {},
     "output_type": "execute_result"
    }
   ],
   "source": [
    "\n",
    "model = Sequential()\n",
    "model.add(ConvLSTM2D(filters = 64, kernel_size = (3, 3), return_sequences = False, data_format = \"channels_last\", input_shape = (seq_len, img_height, img_width, 3)))\n",
    "model.add(Dropout(0.2))\n",
    "model.add(Flatten())\n",
    "model.add(Dense(256, activation=\"relu\"))\n",
    "model.add(Dropout(0.3))\n",
    "#model.add(Dense(6, activation = \"softmax\"))\n",
    "model.add(Dense(2, activation = \"softmax\"))\n",
    " \n",
    "print(model.summary())\n",
    " \n",
    "opt = keras.optimizers.SGD(lr=0.001)\n",
    "model.compile(loss='categorical_crossentropy', optimizer=opt, metrics=[\"accuracy\"])\n",
    " \n",
    "earlystop = EarlyStopping(patience=7)\n",
    "callbacks = [earlystop]\n",
    " \n",
    "## Check Model architecture\n",
    "plot_model(model, to_file = 'model_structure_plot.png', show_shapes = True, show_layer_names = True)"
   ]
  },
  {
   "cell_type": "code",
   "execution_count": 80,
   "metadata": {},
   "outputs": [
    {
     "name": "stdout",
     "output_type": "stream",
     "text": [
      "Train on 176 samples, validate on 44 samples\n",
      "Epoch 1/10\n",
      "176/176 [==============================] - 24s 139ms/step - loss: 0.4839 - accuracy: 0.8295 - val_loss: 0.3140 - val_accuracy: 0.9091\n",
      "Epoch 2/10\n",
      "176/176 [==============================] - 23s 131ms/step - loss: 0.3355 - accuracy: 0.8864 - val_loss: 0.2560 - val_accuracy: 0.8636\n",
      "Epoch 3/10\n",
      "176/176 [==============================] - 24s 137ms/step - loss: 0.2283 - accuracy: 0.9148 - val_loss: 0.2021 - val_accuracy: 0.9545\n",
      "Epoch 4/10\n",
      "176/176 [==============================] - 24s 135ms/step - loss: 0.1653 - accuracy: 0.9432 - val_loss: 0.1177 - val_accuracy: 0.9318\n",
      "Epoch 5/10\n",
      "176/176 [==============================] - 23s 132ms/step - loss: 0.1103 - accuracy: 0.9830 - val_loss: 0.0943 - val_accuracy: 0.9545\n",
      "Epoch 6/10\n",
      "176/176 [==============================] - 23s 130ms/step - loss: 0.1148 - accuracy: 0.9602 - val_loss: 0.0804 - val_accuracy: 0.9545\n",
      "Epoch 7/10\n",
      "176/176 [==============================] - 23s 131ms/step - loss: 0.0699 - accuracy: 0.9773 - val_loss: 0.1069 - val_accuracy: 0.9545\n",
      "Epoch 8/10\n",
      "176/176 [==============================] - 24s 134ms/step - loss: 0.0922 - accuracy: 0.9659 - val_loss: 0.0766 - val_accuracy: 0.9545\n",
      "Epoch 9/10\n",
      "176/176 [==============================] - 26s 146ms/step - loss: 0.0437 - accuracy: 0.9830 - val_loss: 0.1058 - val_accuracy: 0.9545\n",
      "Epoch 10/10\n",
      "176/176 [==============================] - 25s 144ms/step - loss: 0.0382 - accuracy: 0.9886 - val_loss: 0.0987 - val_accuracy: 0.9545\n",
      "Wall time: 4min 1s\n"
     ]
    }
   ],
   "source": [
    "%%time\n",
    "history = model.fit(x = X_train, y = y_train, epochs=10, batch_size = 4 , shuffle=True, validation_split=0.2, callbacks=callbacks)\n",
    " \n"
   ]
  },
  {
   "cell_type": "code",
   "execution_count": 81,
   "metadata": {},
   "outputs": [
    {
     "data": {
      "text/plain": [
       "<Figure size 2160x2160 with 0 Axes>"
      ]
     },
     "execution_count": 81,
     "metadata": {},
     "output_type": "execute_result"
    },
    {
     "data": {
      "text/plain": [
       "<Figure size 2160x2160 with 0 Axes>"
      ]
     },
     "metadata": {},
     "output_type": "display_data"
    }
   ],
   "source": [
    "import matplotlib.pyplot as plt\n",
    "# Create a Matplotlib figure\n",
    "plt.figure(figsize = (30, 30))"
   ]
  },
  {
   "cell_type": "code",
   "execution_count": 82,
   "metadata": {},
   "outputs": [],
   "source": [
    "def plot_metric(metric_name_1, metric_name_2, plot_name):\n",
    "  # Get Metric values using metric names as identifiers\n",
    "  metric_value_1 = history.history[metric_name_1]\n",
    "  metric_value_2 = history.history[metric_name_2]\n",
    "\n",
    "\n",
    "  # Constructing a range object which will be used as time \n",
    "  epochs = range(len(metric_value_1))\n",
    "  \n",
    "  # Plotting the Graph\n",
    "  plt.plot(epochs, metric_value_1, 'blue', label = metric_name_1)\n",
    "  plt.plot(epochs, metric_value_2, 'red', label = metric_name_2)\n",
    "  \n",
    "  # Adding title to the plot\n",
    "  plt.title(str(plot_name))\n",
    "\n",
    "  # Adding legend to the plot\n",
    "  plt.legend()"
   ]
  },
  {
   "cell_type": "code",
   "execution_count": 83,
   "metadata": {},
   "outputs": [
    {
     "data": {
      "image/png": "[encoded data removed]",
      "text/plain": [
       "<Figure size 432x288 with 1 Axes>"
      ]
     },
     "metadata": {
      "needs_background": "light"
     },
     "output_type": "display_data"
    }
   ],
   "source": [
    "plot_metric('loss', 'val_loss', 'Total Loss vs Total Validation Loss')"
   ]
  },
  {
   "cell_type": "code",
   "execution_count": 84,
   "metadata": {},
   "outputs": [
    {
     "data": {
      "image/png": "[encoded data removed]",
      "text/plain": [
       "<Figure size 432x288 with 1 Axes>"
      ]
     },
     "metadata": {
      "needs_background": "light"
     },
     "output_type": "display_data"
    }
   ],
   "source": [
    "plot_metric('accuracy', 'val_accuracy', 'Total Accuracy vs Total Validation Accuracy')"
   ]
  },
  {
   "cell_type": "code",
   "execution_count": null,
   "metadata": {},
   "outputs": [],
   "source": []
  },
  {
   "cell_type": "code",
   "execution_count": 85,
   "metadata": {},
   "outputs": [],
   "source": [
    "#model_evaluation_loss, model_evaluation_accuracy = model_evaluation_history\n",
    "model_name = 'CNNLSTM_modelBP.h5'\n",
    "## Where to save\n",
    "modesavedFolder = \"C:/1-GG/CAP4/EventDetection/Dataset-LSTM/SavedModel\""
   ]
  },
  {
   "cell_type": "code",
   "execution_count": 86,
   "metadata": {},
   "outputs": [],
   "source": [
    "# Saving Model\n",
    "model.save(modesavedFolder+'/'+model_name)"
   ]
  },
  {
   "cell_type": "code",
   "execution_count": 87,
   "metadata": {},
   "outputs": [
    {
     "name": "stdout",
     "output_type": "stream",
     "text": [
      "WARNING:tensorflow:Error in loading the saved optimizer state. As a result, your model is starting with a freshly initialized optimizer.\n"
     ]
    }
   ],
   "source": [
    "### How to readback the model from disk\n",
    "from tensorflow import keras\n",
    "model = keras.models.load_model(modesavedFolder+'/'+model_name)"
   ]
  },
  {
   "cell_type": "code",
   "execution_count": 88,
   "metadata": {},
   "outputs": [
    {
     "name": "stdout",
     "output_type": "stream",
     "text": [
      "Wall time: 25.3 s\n"
     ]
    }
   ],
   "source": [
    "%%time\n",
    "with tf.device(\"cpu:0\"):preds = model.predict(X_test,0)\n",
    "preds = np.round(preds)"
   ]
  },
  {
   "cell_type": "code",
   "execution_count": 89,
   "metadata": {
    "scrolled": true
   },
   "outputs": [
    {
     "name": "stdout",
     "output_type": "stream",
     "text": [
      "Round Test_labels [[1. 0.]\n",
      " [0. 1.]\n",
      " [0. 1.]\n",
      " [0. 1.]\n",
      " [0. 1.]\n",
      " [0. 1.]\n",
      " [0. 1.]\n",
      " [1. 0.]\n",
      " [0. 1.]\n",
      " [1. 0.]\n",
      " [1. 0.]\n",
      " [1. 0.]\n",
      " [0. 1.]\n",
      " [1. 0.]\n",
      " [1. 0.]\n",
      " [1. 0.]\n",
      " [0. 1.]\n",
      " [0. 1.]\n",
      " [1. 0.]\n",
      " [0. 1.]\n",
      " [0. 1.]\n",
      " [1. 0.]\n",
      " [0. 1.]\n",
      " [1. 0.]\n",
      " [0. 1.]\n",
      " [0. 1.]\n",
      " [1. 0.]\n",
      " [1. 0.]\n",
      " [0. 1.]\n",
      " [1. 0.]\n",
      " [0. 1.]\n",
      " [0. 1.]\n",
      " [0. 1.]\n",
      " [0. 1.]\n",
      " [0. 1.]\n",
      " [0. 1.]\n",
      " [1. 0.]\n",
      " [0. 1.]\n",
      " [0. 1.]\n",
      " [1. 0.]\n",
      " [0. 1.]\n",
      " [1. 0.]\n",
      " [0. 1.]\n",
      " [1. 0.]\n",
      " [0. 1.]\n",
      " [1. 0.]\n",
      " [1. 0.]\n",
      " [1. 0.]\n",
      " [1. 0.]\n",
      " [0. 1.]\n",
      " [0. 1.]\n",
      " [1. 0.]\n",
      " [0. 1.]\n",
      " [0. 1.]\n",
      " [1. 0.]]\n"
     ]
    }
   ],
   "source": [
    "print('Round Test_labels' , preds)"
   ]
  },
  {
   "cell_type": "code",
   "execution_count": 90,
   "metadata": {},
   "outputs": [
    {
     "name": "stdout",
     "output_type": "stream",
     "text": [
      "               precision    recall  f1-score   support\n",
      "\n",
      "   Basketball       0.96      1.00      0.98        23\n",
      "SoccerPenalty       1.00      0.97      0.98        32\n",
      "\n",
      "    micro avg       0.98      0.98      0.98        55\n",
      "    macro avg       0.98      0.98      0.98        55\n",
      " weighted avg       0.98      0.98      0.98        55\n",
      "  samples avg       0.98      0.98      0.98        55\n",
      "\n"
     ]
    }
   ],
   "source": [
    "from sklearn.metrics import classification_report\n",
    "classification_metrics = classification_report(y_test,preds, target_names = classes)\n",
    "print(classification_metrics)"
   ]
  },
  {
   "cell_type": "markdown",
   "metadata": {},
   "source": [
    "# Test Model on Video"
   ]
  },
  {
   "cell_type": "code",
   "execution_count": 91,
   "metadata": {},
   "outputs": [
    {
     "name": "stdout",
     "output_type": "stream",
     "text": [
      "C:/1-GG/CAP4/EventDetection/Dataset-LSTM/CNNLSTM_Apply_vdo/Apply_vdo/combined_video-2vdo.mp4\n"
     ]
    }
   ],
   "source": [
    "from collections import deque\n",
    "\n",
    "Vdo_input_directory = 'C:/1-GG/CAP4/EventDetection/Dataset-LSTM/CNNLSTM_Apply_vdo/Apply_vdo'\n",
    "\n",
    "# Getting input Video's path \n",
    "video_title = 'combined_video-2vdo'\n",
    "input_video_file_path = f'{Vdo_input_directory}/{video_title}.mp4'\n",
    "print(input_video_file_path)"
   ]
  },
  {
   "cell_type": "code",
   "execution_count": 92,
   "metadata": {},
   "outputs": [
    {
     "name": "stdout",
     "output_type": "stream",
     "text": [
      "C:/1-GG/CAP4/EventDetection/Dataset-LSTM/CNNLSTM_Apply_vdo/OutPut_vdo/combined_video-2vdo -Output-WSize 1.mp4\n"
     ]
    }
   ],
   "source": [
    "# Setting sthe Window Size which will be used by the Rolling Average Proces\n",
    "window_size = 1\n",
    "\n",
    "Vdo_output_directory = 'C:/1-GG/CAP4/EventDetection/Dataset-LSTM/CNNLSTM_Apply_vdo/OutPut_vdo'\n",
    "# Setting up Output Video Path\n",
    "output_video_file_path = f'{Vdo_output_directory}/{video_title} -Output-WSize {window_size}.mp4'\n",
    "\n",
    "print(output_video_file_path)"
   ]
  },
  {
   "cell_type": "code",
   "execution_count": 93,
   "metadata": {},
   "outputs": [
    {
     "name": "stdout",
     "output_type": "stream",
     "text": [
      "Open successfully\n"
     ]
    }
   ],
   "source": [
    "video_file_path = input_video_file_path\n",
    "\n",
    "video_reader = cv2.VideoCapture(video_file_path)\n",
    "\n",
    "if not video_reader.isOpened():\n",
    "    print(\"Cannot open file\")\n",
    "else:\n",
    "    print(\"Open successfully\")\n",
    "    \n"
   ]
  },
  {
   "cell_type": "markdown",
   "metadata": {},
   "source": [
    "### Define Live VDO prediction function"
   ]
  },
  {
   "cell_type": "code",
   "execution_count": 94,
   "metadata": {},
   "outputs": [],
   "source": [
    "\n",
    " \n",
    "#  Creating final output video\n",
    " \n",
    "def Create_output_Video(video_path,output_file_path):\n",
    "    frames_list = []\n",
    "    frame_sequence = []\n",
    "    original_frames = []\n",
    "    vidObj = cv2.VideoCapture(video_path)\n",
    "     # Getting the width and height of the video \n",
    "    original_video_width = int(vidObj.get(cv2.CAP_PROP_FRAME_WIDTH))\n",
    "    original_video_height = int(vidObj.get(cv2.CAP_PROP_FRAME_HEIGHT))\n",
    "\n",
    "    # Writing the Overlayed Video Files Using the VideoWriter Object\n",
    "    video_writer = cv2.VideoWriter(output_file_path, cv2.VideoWriter_fourcc('M', 'P', '4', 'V'), 24, (original_video_width, original_video_height))\n",
    "\n",
    "    # Used as counter variable \n",
    "    count = 1\n",
    " \n",
    "    while True: \n",
    "         \n",
    "        success, image = vidObj.read() \n",
    "        if success:\n",
    "            original_frames.append(image)\n",
    "            normalized_frame = cv2.resize(image, (img_height, img_width))\n",
    "            # Normalize the resized frame by dividing it with 255 so that each pixel value then lies between 0 and 1\n",
    "            normalized_frame = normalized_frame / 255\n",
    "            frames_list.append(normalized_frame)\n",
    "            if(count % seq_len == 0):\n",
    "                frame_sequence.append(frames_list)\n",
    "                frame_sequence = np.array(frame_sequence)\n",
    "                print(frame_sequence.shape)\n",
    "                predicted_labels_probabilities = model.predict(frame_sequence, 0)\n",
    "                predicted_labels_probabilities = np.round(predicted_labels_probabilities)\n",
    "                predicted_label = np.argmax(predicted_labels_probabilities)\n",
    "                predicted_class_name = classes[predicted_label]\n",
    "                for original_frame in original_frames:\n",
    "                    # Overlaying Class Name Text Ontop of the Frame\n",
    "                    cv2.putText(original_frame, predicted_class_name, (50, 50), cv2.FONT_HERSHEY_SIMPLEX, 1, (0, 0, 255), 2)\n",
    "                    #cv2.putText(frame, avg_prob, (60, 60), cv2.FONT_HERSHEY_SIMPLEX, 1, (0, 255, 255), 2)\n",
    "                    #cv2.putText(original_frame, predicted_labels_probabilities, (80, 100),  cv2.FONT_HERSHEY_SIMPLEX, 1,(0, 0, 255), 2)\n",
    "                    # Writing The Frame\n",
    "                    video_writer.write(original_frame)\n",
    "                frames_list = []\n",
    "                frame_sequence = []\n",
    "                original_frames = []\n",
    "            count += 1\n",
    "            \n",
    "            \n",
    "        else:\n",
    "            print(\"Defected frame\")\n",
    "            break\n",
    "            \n",
    "    # Closing the VideoCapture and VideoWriter objects and releasing all resources held by them. \n",
    "    video_reader.release()\n",
    "    video_writer.release()\n",
    " "
   ]
  },
  {
   "cell_type": "code",
   "execution_count": 95,
   "metadata": {},
   "outputs": [
    {
     "name": "stdout",
     "output_type": "stream",
     "text": [
      "(1, 30, 64, 64, 3)\n",
      "(1, 30, 64, 64, 3)\n",
      "(1, 30, 64, 64, 3)\n",
      "(1, 30, 64, 64, 3)\n",
      "(1, 30, 64, 64, 3)\n",
      "(1, 30, 64, 64, 3)\n",
      "(1, 30, 64, 64, 3)\n",
      "(1, 30, 64, 64, 3)\n",
      "(1, 30, 64, 64, 3)\n",
      "(1, 30, 64, 64, 3)\n",
      "(1, 30, 64, 64, 3)\n",
      "(1, 30, 64, 64, 3)\n",
      "(1, 30, 64, 64, 3)\n",
      "(1, 30, 64, 64, 3)\n",
      "(1, 30, 64, 64, 3)\n",
      "(1, 30, 64, 64, 3)\n",
      "(1, 30, 64, 64, 3)\n",
      "(1, 30, 64, 64, 3)\n",
      "(1, 30, 64, 64, 3)\n",
      "(1, 30, 64, 64, 3)\n",
      "(1, 30, 64, 64, 3)\n",
      "(1, 30, 64, 64, 3)\n",
      "(1, 30, 64, 64, 3)\n",
      "(1, 30, 64, 64, 3)\n",
      "(1, 30, 64, 64, 3)\n",
      "(1, 30, 64, 64, 3)\n",
      "(1, 30, 64, 64, 3)\n",
      "(1, 30, 64, 64, 3)\n",
      "(1, 30, 64, 64, 3)\n",
      "(1, 30, 64, 64, 3)\n",
      "(1, 30, 64, 64, 3)\n",
      "(1, 30, 64, 64, 3)\n",
      "(1, 30, 64, 64, 3)\n",
      "(1, 30, 64, 64, 3)\n",
      "(1, 30, 64, 64, 3)\n",
      "(1, 30, 64, 64, 3)\n",
      "(1, 30, 64, 64, 3)\n",
      "(1, 30, 64, 64, 3)\n",
      "(1, 30, 64, 64, 3)\n",
      "(1, 30, 64, 64, 3)\n",
      "(1, 30, 64, 64, 3)\n",
      "(1, 30, 64, 64, 3)\n",
      "(1, 30, 64, 64, 3)\n",
      "(1, 30, 64, 64, 3)\n",
      "(1, 30, 64, 64, 3)\n",
      "(1, 30, 64, 64, 3)\n",
      "(1, 30, 64, 64, 3)\n",
      "(1, 30, 64, 64, 3)\n",
      "(1, 30, 64, 64, 3)\n",
      "(1, 30, 64, 64, 3)\n",
      "(1, 30, 64, 64, 3)\n",
      "(1, 30, 64, 64, 3)\n",
      "(1, 30, 64, 64, 3)\n",
      "(1, 30, 64, 64, 3)\n",
      "(1, 30, 64, 64, 3)\n",
      "(1, 30, 64, 64, 3)\n",
      "(1, 30, 64, 64, 3)\n",
      "(1, 30, 64, 64, 3)\n",
      "(1, 30, 64, 64, 3)\n",
      "(1, 30, 64, 64, 3)\n",
      "(1, 30, 64, 64, 3)\n",
      "(1, 30, 64, 64, 3)\n",
      "(1, 30, 64, 64, 3)\n",
      "(1, 30, 64, 64, 3)\n",
      "(1, 30, 64, 64, 3)\n",
      "(1, 30, 64, 64, 3)\n",
      "(1, 30, 64, 64, 3)\n",
      "(1, 30, 64, 64, 3)\n",
      "(1, 30, 64, 64, 3)\n",
      "(1, 30, 64, 64, 3)\n",
      "(1, 30, 64, 64, 3)\n",
      "(1, 30, 64, 64, 3)\n",
      "(1, 30, 64, 64, 3)\n",
      "(1, 30, 64, 64, 3)\n",
      "(1, 30, 64, 64, 3)\n",
      "(1, 30, 64, 64, 3)\n",
      "(1, 30, 64, 64, 3)\n",
      "(1, 30, 64, 64, 3)\n",
      "(1, 30, 64, 64, 3)\n",
      "(1, 30, 64, 64, 3)\n",
      "(1, 30, 64, 64, 3)\n",
      "(1, 30, 64, 64, 3)\n",
      "(1, 30, 64, 64, 3)\n",
      "(1, 30, 64, 64, 3)\n",
      "(1, 30, 64, 64, 3)\n",
      "(1, 30, 64, 64, 3)\n",
      "(1, 30, 64, 64, 3)\n",
      "(1, 30, 64, 64, 3)\n",
      "(1, 30, 64, 64, 3)\n",
      "Defected frame\n",
      "Predicted Video Created\n",
      "Wall time: 42.5 s\n"
     ]
    }
   ],
   "source": [
    "%%time\n",
    "# Calling the create_output_video method to start the Prediction.\n",
    "Create_output_Video(input_video_file_path,output_video_file_path)\n",
    "print(\"Predicted Video Created\")"
   ]
  },
  {
   "cell_type": "code",
   "execution_count": null,
   "metadata": {},
   "outputs": [],
   "source": []
  }
 ],
 "metadata": {
  "kernelspec": {
   "display_name": "Python 3",
   "language": "python",
   "name": "python3"
  },
  "language_info": {
   "codemirror_mode": {
    "name": "ipython",
    "version": 3
   },
   "file_extension": ".py",
   "mimetype": "text/x-python",
   "name": "python",
   "nbconvert_exporter": "python",
   "pygments_lexer": "ipython3",
   "version": "3.7.4"
  }
 },
 "nbformat": 4,
 "nbformat_minor": 4
}
