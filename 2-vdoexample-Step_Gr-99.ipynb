{
 "cells": [
  {
   "cell_type": "code",
   "execution_count": 1,
   "metadata": {},
   "outputs": [],
   "source": [
    "import sys\n",
    "\n",
    "\n",
    "import os, os.path\n",
    "import cv2\n",
    "#import csv\n",
    "#import pandas as pd\n",
    "import numpy  as np\n",
    "#import re"
   ]
  },
  {
   "cell_type": "code",
   "execution_count": 2,
   "metadata": {},
   "outputs": [],
   "source": [
    "import moviepy.editor as mp  #For Audio\n",
    "\n",
    "##pip install pydub\n",
    "from pydub import AudioSegment # For Audio extract \n"
   ]
  },
  {
   "cell_type": "code",
   "execution_count": 4,
   "metadata": {},
   "outputs": [
    {
     "name": "stdout",
     "output_type": "stream",
     "text": [
      "C:/GG-16-03/CAP4/Group-99-InVDO\\VDOFrames\n"
     ]
    }
   ],
   "source": [
    "# Set root_folder where all inputs VDO are kept\n",
    "#AStepARootFolder = Drive+\"\\\\GG-12-6\\\\AD-VDO\\\\InVDOs\"\n",
    "root_folder = \"C:/GG-16-03/CAP4/Group-99-InVDO\"\n",
    "\n",
    "\n",
    "\n",
    "\n",
    "FramesVdo  = root_folder+\"\\\\VDOFrames\"\n",
    "FullAudio  = root_folder+\"\\FullAudio\"\n",
    "\n",
    "print(FramesVdo)"
   ]
  },
  {
   "cell_type": "code",
   "execution_count": 5,
   "metadata": {},
   "outputs": [],
   "source": [
    "#audio = root_folder+\"/Audio\"\n",
    "\n",
    "if not os.path.exists(FramesVdo):\n",
    "   os.makedirs(FramesVdo) \n",
    "\n",
    "#if not os.path.exists(audio):\n",
    "#   os.makedirs(audio) \n",
    "   \n",
    "if not os.path.exists(FullAudio):\n",
    "   os.makedirs(FullAudio)    "
   ]
  },
  {
   "cell_type": "code",
   "execution_count": 4,
   "metadata": {},
   "outputs": [
    {
     "name": "stdout",
     "output_type": "stream",
     "text": [
      "FullAudio\n",
      "C:/GG-16-03/CAP4/Group-99-InVDO\\FullAudio\n",
      "VDO-AD\n",
      "C:/GG-16-03/CAP4/Group-99-InVDO\\VDO-AD\n",
      "VDOFrames\n",
      "C:/GG-16-03/CAP4/Group-99-InVDO\\VDOFrames\n"
     ]
    }
   ],
   "source": [
    "for child in os.listdir(root_folder):\n",
    "   \n",
    "    baseimagefolders = os.path.join(root_folder, child)\n",
    "    print(child)\n",
    "    print(baseimagefolders)"
   ]
  },
  {
   "cell_type": "code",
   "execution_count": 5,
   "metadata": {},
   "outputs": [
    {
     "data": {
      "text/plain": [
       "True"
      ]
     },
     "execution_count": 5,
     "metadata": {},
     "output_type": "execute_result"
    }
   ],
   "source": [
    "os.path.isdir(baseimagefolders)"
   ]
  },
  {
   "cell_type": "code",
   "execution_count": 7,
   "metadata": {},
   "outputs": [],
   "source": [
    "#Extract VDO frames and Full Audio\n",
    "\n",
    "file = \"VDO-AD-200.mp4\"\n",
    "suffix = '.jpg'   \n",
    "#1. \n",
    "extension = os.path.splitext(file)[1]  ### - Extension - (output= .mp4)\n",
    "#2. \n",
    "FineName = os.path.splitext(file)[0]  ####- Fine Name without extension - (output= VDO-AD-200) \n",
    "#3. \n",
    "newfilename = os.path.basename(FineName)+suffix  ###- (output= abc.jpg\n",
    "\n"
   ]
  },
  {
   "cell_type": "code",
   "execution_count": 8,
   "metadata": {},
   "outputs": [
    {
     "name": "stdout",
     "output_type": "stream",
     "text": [
      ".mp4\n",
      "VDO-AD-200\n",
      "VDO-AD-200.jpg\n"
     ]
    }
   ],
   "source": [
    "print(extension)\n",
    "print(FineName)\n",
    "print(newfilename)"
   ]
  },
  {
   "cell_type": "code",
   "execution_count": 10,
   "metadata": {},
   "outputs": [],
   "source": [
    "\n",
    "success = True\n",
    "count = 0\n",
    "\n",
    "root_folder = \"C:/GG-16-03/CAP4/Group-99-InVDO\"\n",
    "vdofile = \"C:/GG-16-03/CAP4/Group-99-InVDO/VDO-AD/VDO-AD-200.mp4\"\n",
    "#root_folder = \"E:\\\\0-CapstoneProject\\\\1-Next assignment\\\\Group-99-InVDO\"\n",
    "\n"
   ]
  },
  {
   "cell_type": "code",
   "execution_count": 11,
   "metadata": {},
   "outputs": [
    {
     "name": "stdout",
     "output_type": "stream",
     "text": [
      "Read a new frame:  False\n",
      "No of frame = 898\n"
     ]
    }
   ],
   "source": [
    "cap = cv2.VideoCapture(vdofile)\n",
    "\n",
    "while(cap.isOpened()):\n",
    "    frameId = cap.get(1) #current frame number\n",
    "    ret, frame = cap.read()\n",
    "    count=count+1\n",
    "               \n",
    "    # If Video frame was not successfully read then break the loop\n",
    "    if (ret != True):\n",
    "        break\n",
    "print ('Read a new frame: ', ret) \n",
    "print ('No of frame =' , count)"
   ]
  },
  {
   "cell_type": "code",
   "execution_count": 11,
   "metadata": {},
   "outputs": [
    {
     "name": "stdout",
     "output_type": "stream",
     "text": [
      "Duration of video :  29.97\n",
      "FPS :  29.97002997002997\n"
     ]
    }
   ],
   "source": [
    "#4. use AudioSegment to extract audio\n",
    "\n",
    "import moviepy.editor as mp  #For Audio\n",
    "#from moviepy.editor import VideoFileClip\n",
    "my_clip = mp.VideoFileClip(vdofile)\n",
    "print(\"Duration of video : \", my_clip.duration)\n",
    "print(\"FPS : \", my_clip.fps)  # Frame per second\n"
   ]
  },
  {
   "cell_type": "code",
   "execution_count": 21,
   "metadata": {},
   "outputs": [],
   "source": [
    "my_clip.reader.close()\n",
    "del my_clip.reader"
   ]
  },
  {
   "cell_type": "code",
   "execution_count": 12,
   "metadata": {},
   "outputs": [],
   "source": [
    "# List append\n",
    "\n",
    "fruits = []"
   ]
  },
  {
   "cell_type": "code",
   "execution_count": 13,
   "metadata": {},
   "outputs": [],
   "source": [
    "fruits.append(\"orange\")"
   ]
  },
  {
   "cell_type": "code",
   "execution_count": 14,
   "metadata": {},
   "outputs": [
    {
     "data": {
      "text/plain": [
       "['orange']"
      ]
     },
     "execution_count": 14,
     "metadata": {},
     "output_type": "execute_result"
    }
   ],
   "source": [
    "fruits"
   ]
  },
  {
   "cell_type": "code",
   "execution_count": 15,
   "metadata": {},
   "outputs": [],
   "source": [
    "fruits.append(\"apple\")"
   ]
  },
  {
   "cell_type": "code",
   "execution_count": 16,
   "metadata": {},
   "outputs": [],
   "source": [
    "fruits.append(\"cherry\")"
   ]
  },
  {
   "cell_type": "code",
   "execution_count": 17,
   "metadata": {},
   "outputs": [
    {
     "data": {
      "text/plain": [
       "['orange', 'apple', 'cherry']"
      ]
     },
     "execution_count": 17,
     "metadata": {},
     "output_type": "execute_result"
    }
   ],
   "source": [
    "fruits"
   ]
  },
  {
   "cell_type": "code",
   "execution_count": 18,
   "metadata": {},
   "outputs": [
    {
     "name": "stdout",
     "output_type": "stream",
     "text": [
      "orange\n",
      "apple\n",
      "cherry\n"
     ]
    }
   ],
   "source": [
    "for element in fruits:\n",
    "    print(element)"
   ]
  },
  {
   "cell_type": "markdown",
   "metadata": {},
   "source": [
    "## Home work\n",
    "\n",
    "#### VDO data download link\n",
    "https://www.crcv.ucf.edu/data/UCF101/UCF101.rar"
   ]
  },
  {
   "cell_type": "code",
   "execution_count": null,
   "metadata": {},
   "outputs": [],
   "source": []
  }
 ],
 "metadata": {
  "kernelspec": {
   "display_name": "Python 3",
   "language": "python",
   "name": "python3"
  },
  "language_info": {
   "codemirror_mode": {
    "name": "ipython",
    "version": 3
   },
   "file_extension": ".py",
   "mimetype": "text/x-python",
   "name": "python",
   "nbconvert_exporter": "python",
   "pygments_lexer": "ipython3",
   "version": "3.8.5"
  }
 },
 "nbformat": 4,
 "nbformat_minor": 2
}
