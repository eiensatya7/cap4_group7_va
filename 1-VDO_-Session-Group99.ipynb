{
 "cells": [
  {
   "cell_type": "markdown",
   "metadata": {},
   "source": [
    "## Download VDO from youtube "
   ]
  },
  {
   "cell_type": "markdown",
   "metadata": {},
   "source": [
    "## pafy, youtube-dl and moviepy packages to be installed\n",
    "##pip install pafy \n",
    "pip installyoutube-dl \n",
    "pip install moviepy\n",
    "\n",
    "Pafy is a Python library for interacting with YouTube from within your Python programs. It has many features.\n",
    "\n",
    "Pafy is optionally depends on youtube-dl so therefore for more stable usage it is recommended to install youtube-dl before installing pafy. Below is the command to install youtube-dl "
   ]
  },
  {
   "cell_type": "code",
   "execution_count": 1,
   "metadata": {},
   "outputs": [],
   "source": [
    "import pafy"
   ]
  },
  {
   "cell_type": "code",
   "execution_count": 2,
   "metadata": {},
   "outputs": [],
   "source": [
    "output_directory = 'E:/ClassBySir/python file/GG-16-03/CAP4\\HumanActivityRecognition/YoutubeVDOfile'"
   ]
  },
  {
   "cell_type": "code",
   "execution_count": 3,
   "metadata": {},
   "outputs": [],
   "source": [
    "def download_youtube_videos(youtube_video_url, output_directory):\n",
    "    # Creating a Video object which includes useful information regarding the youtube video.\n",
    "    video = pafy.new(youtube_video_url)\n",
    "\n",
    "    # Getting the best available quality object for the youtube video.\n",
    "    video_best = video.getbest()\n",
    "\n",
    "    # Constructing the Output File Path\n",
    "    output_file_path = f'{output_directory}/{video.title}.mp4'\n",
    "\n",
    "    # Downloading the youtube video at the best available quality.\n",
    "    video_best.download(filepath = output_file_path, quiet = True)\n",
    "\n",
    "    # Returning Video Title\n",
    "    return video.title"
   ]
  },
  {
   "cell_type": "code",
   "execution_count": 4,
   "metadata": {},
   "outputs": [
    {
     "name": "stdout",
     "output_type": "stream",
     "text": [
      "\n",
      "Flip Book Compilation by Pro Animators\n"
     ]
    }
   ],
   "source": [
    "# Downloading The YouTube Video\n",
    "video_title = download_youtube_videos('www.youtube.com/watch?v=JVzf9rtgf9Y&list=RDCMUCJbg_yirB5vm9VKn5yLGCKw&index=4', output_directory)\n",
    "\n",
    "print(video_title)"
   ]
  },
  {
   "cell_type": "code",
   "execution_count": 5,
   "metadata": {},
   "outputs": [
    {
     "name": "stdout",
     "output_type": "stream",
     "text": [
      "E:/ClassBySir/python file/GG-16-03/CAP4\\HumanActivityRecognition/YoutubeVDOfile/Flip Book Compilation by Pro Animators.mp4\n"
     ]
    }
   ],
   "source": [
    "# Getting the YouTube Video's path you just downloaded\n",
    "input_video_file_path = f'{output_directory}/{video_title}.mp4'\n",
    "print(input_video_file_path)"
   ]
  },
  {
   "cell_type": "markdown",
   "metadata": {},
   "source": [
    "## Play VDO in Jupyter NB"
   ]
  },
  {
   "cell_type": "code",
   "execution_count": 6,
   "metadata": {},
   "outputs": [],
   "source": [
    "import os"
   ]
  },
  {
   "cell_type": "code",
   "execution_count": 8,
   "metadata": {},
   "outputs": [
    {
     "name": "stdout",
     "output_type": "stream",
     "text": [
      "E:/ClassBySir/python file/GG-16-03/CAP4\\HumanActivityRecognition/YoutubeVDOfile/Flip Book Compilation by Pro Animators.mp4\n"
     ]
    }
   ],
   "source": [
    "# Data read - All Required data for VideoObjectDetection are in datafolder\n",
    "dataFolder = \"E:/ClassBySir/python file/GG-16-03/CAP4\\HumanActivityRecognition/YoutubeVDOfile/\"\n",
    "VDO_Input =\"Flip Book Compilation by Pro Animators.mp4\"\n",
    "input_file_path=os.path.join(dataFolder, VDO_Input)\n",
    "print(input_file_path)\n"
   ]
  },
  {
   "cell_type": "code",
   "execution_count": 9,
   "metadata": {},
   "outputs": [],
   "source": [
    "from ipywidgets import Video\n"
   ]
  },
  {
   "cell_type": "code",
   "execution_count": 10,
   "metadata": {},
   "outputs": [
    {
     "data": {
      "application/vnd.jupyter.widget-view+json": {
       "model_id": "cead01eae3104ab2adaae4bc524f2f58",
       "version_major": 2,
       "version_minor": 0
      },
      "text/plain": [
       "Video(value=b'\\x00\\x00\\x00\\x18ftypmp42\\x00\\x00\\x00\\x00isommp42\\x00\\x00\\xb0\\xb2moov\\x00\\x00\\x00lmvhd\\x00\\x00\\x0…"
      ]
     },
     "metadata": {},
     "output_type": "display_data"
    }
   ],
   "source": [
    "#Video.from_file(input_file_path, width=320, height=320)\n",
    "Video.from_file(input_file_path)"
   ]
  },
  {
   "cell_type": "markdown",
   "metadata": {},
   "source": [
    "Different image on each page of the book, and as we flip these pages, we get the animation . This is even call it a kind of video. The visualization gets better the  faster we flip the pages. In other words, this visual is a collection of different images arranged in a particular order.\n",
    "\n",
    "Similarly, videos are nothing but a collection of a set of images. These images are called frames and can be combined to get the original video. So, a problem related to video data is not that different from an image classification or an object detection problem. There is just one extra step of extracting frames from the video."
   ]
  },
  {
   "cell_type": "markdown",
   "metadata": {},
   "source": [
    "#### Frame rate, then, is the speed at which those images are shown, or how fast you “flip” through the book. It’s usually expressed as “frames per second,” or FPS. So if a video is captured and played back at 24fps, that means each second of video shows 24 distinct still images.\n",
    "\n",
    "#### Frame rate greatly impacts the style and viewing experience of a video. Different frame rates yield different viewing experiences.Movies are usually displayed at 24fps, since this frame rate is similar to how we see the world and creates a very cinematic look\n",
    "\n",
    "#### Different frame rates yield different results, so selecting the best one means going with the option that best fits what we’re trying to create. So there is no such thing as the “best” frame rate\n",
    "\n",
    "#### 24fps –  this is the minimum speed needed to capture video while still maintaining realistic motion"
   ]
  },
  {
   "cell_type": "markdown",
   "metadata": {},
   "source": [
    "### Estimate of video frame count and duration - There are many ways -  cv2 is popular\n",
    "\n",
    "OpenCV is a cross-platform library using which we can develop real-time computer vision applications. It mainly focuses on image processing, video capture and analysis including features like face detection and object detection."
   ]
  },
  {
   "cell_type": "code",
   "execution_count": 11,
   "metadata": {},
   "outputs": [
    {
     "name": "stdout",
     "output_type": "stream",
     "text": [
      "fps = 29.97002997002997\n",
      "number of frames = 2845\n",
      "duration (S) = 94.92816666666667\n",
      "duration (M:S) = 1:34.92816666666667\n"
     ]
    }
   ],
   "source": [
    "import cv2\n",
    "\n",
    "cap = cv2.VideoCapture(input_file_path)\n",
    "fps = cap.get(cv2.CAP_PROP_FPS)      # OpenCV2 version 2 used \"CV_CAP_PROP_FPS\"\n",
    "frame_count = int(cap.get(cv2.CAP_PROP_FRAME_COUNT))\n",
    "\n",
    "## Count the total numbers of frames and frames per second of a given video by providing  cv2.CAP_PROP_FRAME_COUNT \n",
    "## and cv2.CAP_PROP_FPS to get() method.\n",
    "## Calculate the duration of the video in seconds by dividing frames and fps.\n",
    "\n",
    "duration = frame_count/fps\n",
    "\n",
    "print('fps = ' + str(fps))\n",
    "print('number of frames = ' + str(frame_count))\n",
    "print('duration (S) = ' + str(duration))\n",
    "\n",
    "minutes = int(duration/60)\n",
    "seconds = duration%60\n",
    "print('duration (M:S) = ' + str(minutes) + ':' + str(seconds))  ## In Minute and seconds\n",
    "\n",
    "cap.release()"
   ]
  },
  {
   "cell_type": "markdown",
   "metadata": {},
   "source": [
    "##### total number of frames in a video file \n",
    "\n",
    "#### cap.get(cv2.CAP_PROP_FRAME_COUNT), which reads the head information of this video file, which may can not reflect the real frame count of video. There are some wrong frames in this vidoe, which cause us to compute wrong video duration.\n",
    "\n",
    "Use loop frmae by frame"
   ]
  }
 ],
 "metadata": {
  "kernelspec": {
   "display_name": "Python 3",
   "language": "python",
   "name": "python3"
  },
  "language_info": {
   "codemirror_mode": {
    "name": "ipython",
    "version": 3
   },
   "file_extension": ".py",
   "mimetype": "text/x-python",
   "name": "python",
   "nbconvert_exporter": "python",
   "pygments_lexer": "ipython3",
   "version": "3.8.8"
  }
 },
 "nbformat": 4,
 "nbformat_minor": 4
}
